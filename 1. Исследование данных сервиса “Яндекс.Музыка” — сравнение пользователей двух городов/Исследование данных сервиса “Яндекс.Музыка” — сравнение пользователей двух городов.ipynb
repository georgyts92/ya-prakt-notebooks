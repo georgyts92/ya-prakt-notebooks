{
 "cells": [
  {
   "cell_type": "markdown",
   "metadata": {
    "id": "E0vqbgi9ay0H"
   },
   "source": [
    "# Исследование данных сервиса “Яндекс.Музыка” — сравнение пользователей двух городов"
   ]
  },
  {
   "cell_type": "markdown",
   "metadata": {
    "id": "VUC88oWjTJw2",
    "lang": "ru"
   },
   "source": [
    "## Описание проекта\n",
    "\n",
    "Сравнение Москвы и Петербурга окружено мифами. Например:\n",
    " * Москва — мегаполис, подчинённый жёсткому ритму рабочей недели;\n",
    " * Петербург — культурная столица, со своими вкусами.\n",
    "\n",
    "На данных Яндекс.Музыки мы сравним поведение пользователей двух столиц.\n",
    "\n",
    "**Цель исследования** — проверим три гипотезы:\n",
    "1. Активность пользователей зависит от дня недели. Причём в Москве и Петербурге это проявляется по-разному.\n",
    "2. В понедельник утром в Москве преобладают одни жанры, а в Петербурге — другие. Так же и вечером пятницы преобладают разные жанры — в зависимости от города. \n",
    "3. Москва и Петербург предпочитают разные жанры музыки. В Москве чаще слушают поп-музыку, в Петербурге — русский рэп.\n",
    "\n",
    "**Ход исследования**\n",
    "\n",
    "Данные о поведении пользователей мы получим из файла `yandex_music_project.csv`. О качестве данных ничего не известно. Поэтому перед проверкой гипотез понадобится обзор данных. \n",
    "\n",
    "Мы проверим данные на ошибки и оценим их влияние на исследование. Затем, на этапе предобработки мы поищем возможность исправить самые критичные ошибки данных.\n",
    " \n",
    "Таким образом, исследование пройдёт в три этапа:\n",
    " 1. Обзор данных.\n",
    " 2. Предобработка данных.\n",
    " 3. Проверка гипотез.\n",
    "\n"
   ]
  },
  {
   "cell_type": "markdown",
   "metadata": {
    "id": "Ml1hmfXC_Zcs"
   },
   "source": [
    "## Обзор данных\n",
    "\n",
    "Составим первое представление о данных Яндекс.Музыки.\n",
    "\n",
    "\n"
   ]
  },
  {
   "cell_type": "markdown",
   "metadata": {
    "id": "57eAOGIz_Zcs"
   },
   "source": [
    "Импортируем библиотеку `pandas`."
   ]
  },
  {
   "cell_type": "code",
   "execution_count": 1,
   "metadata": {
    "id": "AXN7PHPN_Zcs"
   },
   "outputs": [],
   "source": [
    "# импорт библиотеки pandas\n",
    "import pandas as pd"
   ]
  },
  {
   "cell_type": "markdown",
   "metadata": {
    "id": "SG23P8tt_Zcs"
   },
   "source": [
    "Прочитаем файл `yandex_music_project.csv` из папки `/datasets` и сохраним его в переменной `df`:"
   ]
  },
  {
   "cell_type": "code",
   "execution_count": 2,
   "metadata": {
    "id": "fFVu7vqh_Zct"
   },
   "outputs": [],
   "source": [
    "# чтение файла с данными и сохранение в df\n",
    "df = pd.read_csv('datasets/yandex_music_project.csv')"
   ]
  },
  {
   "cell_type": "markdown",
   "metadata": {
    "id": "rDoOMd3uTqnZ"
   },
   "source": [
    "Выведем на экран первые десять строк таблицы:"
   ]
  },
  {
   "cell_type": "code",
   "execution_count": 3,
   "metadata": {
    "id": "oWTVX3gW_Zct"
   },
   "outputs": [
    {
     "data": {
      "text/html": [
       "<div>\n",
       "<style scoped>\n",
       "    .dataframe tbody tr th:only-of-type {\n",
       "        vertical-align: middle;\n",
       "    }\n",
       "\n",
       "    .dataframe tbody tr th {\n",
       "        vertical-align: top;\n",
       "    }\n",
       "\n",
       "    .dataframe thead th {\n",
       "        text-align: right;\n",
       "    }\n",
       "</style>\n",
       "<table border=\"1\" class=\"dataframe\">\n",
       "  <thead>\n",
       "    <tr style=\"text-align: right;\">\n",
       "      <th></th>\n",
       "      <th>userID</th>\n",
       "      <th>Track</th>\n",
       "      <th>artist</th>\n",
       "      <th>genre</th>\n",
       "      <th>City</th>\n",
       "      <th>time</th>\n",
       "      <th>Day</th>\n",
       "    </tr>\n",
       "  </thead>\n",
       "  <tbody>\n",
       "    <tr>\n",
       "      <th>0</th>\n",
       "      <td>FFB692EC</td>\n",
       "      <td>Kamigata To Boots</td>\n",
       "      <td>The Mass Missile</td>\n",
       "      <td>rock</td>\n",
       "      <td>Saint-Petersburg</td>\n",
       "      <td>20:28:33</td>\n",
       "      <td>Wednesday</td>\n",
       "    </tr>\n",
       "    <tr>\n",
       "      <th>1</th>\n",
       "      <td>55204538</td>\n",
       "      <td>Delayed Because of Accident</td>\n",
       "      <td>Andreas Rönnberg</td>\n",
       "      <td>rock</td>\n",
       "      <td>Moscow</td>\n",
       "      <td>14:07:09</td>\n",
       "      <td>Friday</td>\n",
       "    </tr>\n",
       "    <tr>\n",
       "      <th>2</th>\n",
       "      <td>20EC38</td>\n",
       "      <td>Funiculì funiculà</td>\n",
       "      <td>Mario Lanza</td>\n",
       "      <td>pop</td>\n",
       "      <td>Saint-Petersburg</td>\n",
       "      <td>20:58:07</td>\n",
       "      <td>Wednesday</td>\n",
       "    </tr>\n",
       "    <tr>\n",
       "      <th>3</th>\n",
       "      <td>A3DD03C9</td>\n",
       "      <td>Dragons in the Sunset</td>\n",
       "      <td>Fire + Ice</td>\n",
       "      <td>folk</td>\n",
       "      <td>Saint-Petersburg</td>\n",
       "      <td>08:37:09</td>\n",
       "      <td>Monday</td>\n",
       "    </tr>\n",
       "    <tr>\n",
       "      <th>4</th>\n",
       "      <td>E2DC1FAE</td>\n",
       "      <td>Soul People</td>\n",
       "      <td>Space Echo</td>\n",
       "      <td>dance</td>\n",
       "      <td>Moscow</td>\n",
       "      <td>08:34:34</td>\n",
       "      <td>Monday</td>\n",
       "    </tr>\n",
       "    <tr>\n",
       "      <th>5</th>\n",
       "      <td>842029A1</td>\n",
       "      <td>Преданная</td>\n",
       "      <td>IMPERVTOR</td>\n",
       "      <td>rusrap</td>\n",
       "      <td>Saint-Petersburg</td>\n",
       "      <td>13:09:41</td>\n",
       "      <td>Friday</td>\n",
       "    </tr>\n",
       "    <tr>\n",
       "      <th>6</th>\n",
       "      <td>4CB90AA5</td>\n",
       "      <td>True</td>\n",
       "      <td>Roman Messer</td>\n",
       "      <td>dance</td>\n",
       "      <td>Moscow</td>\n",
       "      <td>13:00:07</td>\n",
       "      <td>Wednesday</td>\n",
       "    </tr>\n",
       "    <tr>\n",
       "      <th>7</th>\n",
       "      <td>F03E1C1F</td>\n",
       "      <td>Feeling This Way</td>\n",
       "      <td>Polina Griffith</td>\n",
       "      <td>dance</td>\n",
       "      <td>Moscow</td>\n",
       "      <td>20:47:49</td>\n",
       "      <td>Wednesday</td>\n",
       "    </tr>\n",
       "    <tr>\n",
       "      <th>8</th>\n",
       "      <td>8FA1D3BE</td>\n",
       "      <td>И вновь продолжается бой</td>\n",
       "      <td>NaN</td>\n",
       "      <td>ruspop</td>\n",
       "      <td>Moscow</td>\n",
       "      <td>09:17:40</td>\n",
       "      <td>Friday</td>\n",
       "    </tr>\n",
       "    <tr>\n",
       "      <th>9</th>\n",
       "      <td>E772D5C0</td>\n",
       "      <td>Pessimist</td>\n",
       "      <td>NaN</td>\n",
       "      <td>dance</td>\n",
       "      <td>Saint-Petersburg</td>\n",
       "      <td>21:20:49</td>\n",
       "      <td>Wednesday</td>\n",
       "    </tr>\n",
       "  </tbody>\n",
       "</table>\n",
       "</div>"
      ],
      "text/plain": [
       "     userID                        Track            artist   genre  \\\n",
       "0  FFB692EC            Kamigata To Boots  The Mass Missile    rock   \n",
       "1  55204538  Delayed Because of Accident  Andreas Rönnberg    rock   \n",
       "2    20EC38            Funiculì funiculà       Mario Lanza     pop   \n",
       "3  A3DD03C9        Dragons in the Sunset        Fire + Ice    folk   \n",
       "4  E2DC1FAE                  Soul People        Space Echo   dance   \n",
       "5  842029A1                    Преданная         IMPERVTOR  rusrap   \n",
       "6  4CB90AA5                         True      Roman Messer   dance   \n",
       "7  F03E1C1F             Feeling This Way   Polina Griffith   dance   \n",
       "8  8FA1D3BE     И вновь продолжается бой               NaN  ruspop   \n",
       "9  E772D5C0                    Pessimist               NaN   dance   \n",
       "\n",
       "             City        time        Day  \n",
       "0  Saint-Petersburg  20:28:33  Wednesday  \n",
       "1            Moscow  14:07:09     Friday  \n",
       "2  Saint-Petersburg  20:58:07  Wednesday  \n",
       "3  Saint-Petersburg  08:37:09     Monday  \n",
       "4            Moscow  08:34:34     Monday  \n",
       "5  Saint-Petersburg  13:09:41     Friday  \n",
       "6            Moscow  13:00:07  Wednesday  \n",
       "7            Moscow  20:47:49  Wednesday  \n",
       "8            Moscow  09:17:40     Friday  \n",
       "9  Saint-Petersburg  21:20:49  Wednesday  "
      ]
     },
     "execution_count": 3,
     "metadata": {},
     "output_type": "execute_result"
    }
   ],
   "source": [
    "# получение первых 10 строк таблицы df\n",
    "df.head(10)"
   ]
  },
  {
   "cell_type": "markdown",
   "metadata": {
    "id": "EO73Kwic_Zct"
   },
   "source": [
    "Выведем общую информацию о таблице:"
   ]
  },
  {
   "cell_type": "code",
   "execution_count": 4,
   "metadata": {
    "id": "DSf2kIb-_Zct"
   },
   "outputs": [
    {
     "name": "stdout",
     "output_type": "stream",
     "text": [
      "<class 'pandas.core.frame.DataFrame'>\n",
      "RangeIndex: 65079 entries, 0 to 65078\n",
      "Data columns (total 7 columns):\n",
      " #   Column    Non-Null Count  Dtype \n",
      "---  ------    --------------  ----- \n",
      " 0     userID  65079 non-null  object\n",
      " 1   Track     63848 non-null  object\n",
      " 2   artist    57876 non-null  object\n",
      " 3   genre     63881 non-null  object\n",
      " 4     City    65079 non-null  object\n",
      " 5   time      65079 non-null  object\n",
      " 6   Day       65079 non-null  object\n",
      "dtypes: object(7)\n",
      "memory usage: 3.5+ MB\n",
      "None\n"
     ]
    }
   ],
   "source": [
    "# получение общей информации о данных в таблице df\n",
    "print(df.info())"
   ]
  },
  {
   "cell_type": "markdown",
   "metadata": {
    "id": "TaQ2Iwbr_Zct"
   },
   "source": [
    "В таблице семь столбцов. Тип данных во всех столбцах — `object`.\n",
    "\n",
    "Согласно документации к данным:\n",
    "* `userID` — идентификатор пользователя;\n",
    "* `Track` — название трека;  \n",
    "* `artist` — имя исполнителя;\n",
    "* `genre` — название жанра;\n",
    "* `City` — город пользователя;\n",
    "* `time` — время начала прослушивания;\n",
    "* `Day` — день недели.\n",
    "\n",
    "В названиях колонок видны три нарушения стиля:\n",
    "1. Строчные буквы сочетаются с прописными.\n",
    "2. Встречаются пробелы.\n",
    "3. Слова не разделены нижним подчеркиванием.\n",
    "\n",
    "\n",
    "\n",
    "Количество значений в столбцах различается. Значит, в данных есть пропущенные значения.\n"
   ]
  },
  {
   "cell_type": "markdown",
   "metadata": {
    "id": "MCB6-dXG_Zct"
   },
   "source": [
    "**Выводы**\n",
    "\n",
    "В каждой строке таблицы — данные о прослушанном треке. Часть колонок описывает саму композицию: название, исполнителя и жанр. Остальные данные рассказывают о пользователе: из какого он города, когда он слушал музыку. \n",
    "\n",
    "Предварительно можно утверждать, что, данных достаточно для проверки гипотез. Но встречаются пропуски в данных, а в названиях колонок — расхождения с хорошим стилем.\n",
    "\n",
    "Чтобы двигаться дальше, нужно устранить проблемы в данных."
   ]
  },
  {
   "cell_type": "markdown",
   "metadata": {
    "id": "SjYF6Ub9_Zct"
   },
   "source": [
    "## Предобработка данных\n",
    "Исправим стиль в заголовках столбцов, исключим пропуски. Затем проверим данные на дубликаты."
   ]
  },
  {
   "cell_type": "markdown",
   "metadata": {
    "id": "dIaKXr29_Zct"
   },
   "source": [
    "### Стиль заголовков\n",
    "Выведем на экран названия столбцов:"
   ]
  },
  {
   "cell_type": "code",
   "execution_count": 5,
   "metadata": {
    "id": "oKOTdF_Q_Zct"
   },
   "outputs": [
    {
     "data": {
      "text/plain": [
       "Index(['  userID', 'Track', 'artist', 'genre', '  City  ', 'time', 'Day'], dtype='object')"
      ]
     },
     "execution_count": 5,
     "metadata": {},
     "output_type": "execute_result"
    }
   ],
   "source": [
    "# перечень названий столбцов таблицы df\n",
    "df.columns"
   ]
  },
  {
   "cell_type": "markdown",
   "metadata": {
    "id": "zj5534cv_Zct"
   },
   "source": [
    "Приведем названия в соответствии с хорошим стилем:\n",
    "* несколько слов в названии запишем в «змеином_регистре»,\n",
    "* все символы сделаем строчными,\n",
    "* устраним пробелы.\n",
    "\n",
    "Для этого переименуем колонки так:\n",
    "* `'  userID'` → `'user_id'`;\n",
    "* `'Track'` → `'track'`;\n",
    "* `'  City  '` → `'city'`;\n",
    "* `'Day'` → `'day'`."
   ]
  },
  {
   "cell_type": "code",
   "execution_count": 6,
   "metadata": {
    "id": "ISlFqs5y_Zct"
   },
   "outputs": [],
   "source": [
    "# переименование столбцов\n",
    "df = df.rename(columns={'  userID': 'user_id', \n",
    "                        'Track': 'track', \n",
    "                        '  City  ': 'city', \n",
    "                        'Day': 'day'})"
   ]
  },
  {
   "cell_type": "markdown",
   "metadata": {
    "id": "1dqbh00J_Zct"
   },
   "source": [
    "Проверим результат. Для этого ещё раз выведем на экран названия столбцов:"
   ]
  },
  {
   "cell_type": "code",
   "execution_count": 7,
   "metadata": {
    "id": "d4NOAmTW_Zct"
   },
   "outputs": [
    {
     "data": {
      "text/plain": [
       "Index(['user_id', 'track', 'artist', 'genre', 'city', 'time', 'day'], dtype='object')"
      ]
     },
     "execution_count": 7,
     "metadata": {},
     "output_type": "execute_result"
    }
   ],
   "source": [
    "# проверка результатов - перечень названий столбцов\n",
    "df.columns"
   ]
  },
  {
   "cell_type": "markdown",
   "metadata": {
    "id": "5ISfbcfY_Zct"
   },
   "source": [
    "### Пропуски значений\n",
    "Сначала посчитаем, сколько в таблице пропущенных значений."
   ]
  },
  {
   "cell_type": "code",
   "execution_count": 8,
   "metadata": {
    "id": "RskX29qr_Zct"
   },
   "outputs": [
    {
     "data": {
      "text/plain": [
       "user_id       0\n",
       "track      1231\n",
       "artist     7203\n",
       "genre      1198\n",
       "city          0\n",
       "time          0\n",
       "day           0\n",
       "dtype: int64"
      ]
     },
     "execution_count": 8,
     "metadata": {},
     "output_type": "execute_result"
    }
   ],
   "source": [
    "# подсчёт пропусков\n",
    "df.isna().sum()"
   ]
  },
  {
   "cell_type": "markdown",
   "metadata": {
    "id": "qubhgnlO_Zct",
    "lang": "ru"
   },
   "source": [
    "Не все пропущенные значения влияют на исследование. Так в колонках `track` и `artist` пропуски не важны для вашей работы. Достаточно заменить их явными обозначениями.\n",
    "\n",
    "Но пропуски в `genre` могут помешать сравнению музыкальных вкусов в Москве и Санкт-Петербурге. На практике было бы правильно установить причину пропусков и восстановить данные. Такой возможности нет в учебном проекте. Придётся:\n",
    "* заполнить и эти пропуски явными обозначениями,\n",
    "* оценить, насколько они повредят расчётам. "
   ]
  },
  {
   "cell_type": "markdown",
   "metadata": {
    "id": "fSv2laPA_Zct"
   },
   "source": [
    "Заменим пропущенные значения в колонках `track`, `artist` и `genre` на строку `'unknown'`. Для этого создадим список `columns_to_replace`, переберем его элементы циклом `for` и для каждого столбца выполним замену пропущенных значений:"
   ]
  },
  {
   "cell_type": "code",
   "execution_count": 9,
   "metadata": {
    "id": "KplB5qWs_Zct"
   },
   "outputs": [],
   "source": [
    "# перебор названий столбцов в цикле и замена пропущенных значений на 'unknown'\n",
    "columns_to_replace = ['track', 'artist', 'genre']\n",
    "for column in columns_to_replace: \n",
    "    df[column] = df[column].fillna('unknown')"
   ]
  },
  {
   "cell_type": "markdown",
   "metadata": {
    "id": "Ilsm-MZo_Zct"
   },
   "source": [
    "Убедимся, что в таблице не осталось пропусков. Для этого ещё раз посчитаем пропущенные значения."
   ]
  },
  {
   "cell_type": "code",
   "execution_count": 10,
   "metadata": {
    "id": "Tq4nYRX4_Zct"
   },
   "outputs": [
    {
     "data": {
      "text/plain": [
       "user_id    0\n",
       "track      0\n",
       "artist     0\n",
       "genre      0\n",
       "city       0\n",
       "time       0\n",
       "day        0\n",
       "dtype: int64"
      ]
     },
     "execution_count": 10,
     "metadata": {},
     "output_type": "execute_result"
    }
   ],
   "source": [
    "# подсчёт пропусков\n",
    "df.isna().sum()"
   ]
  },
  {
   "cell_type": "markdown",
   "metadata": {
    "id": "BWKRtBJ3_Zct"
   },
   "source": [
    "### Дубликаты\n",
    "Посчитаем явные дубликаты в таблице:"
   ]
  },
  {
   "cell_type": "code",
   "execution_count": 11,
   "metadata": {
    "id": "36eES_S0_Zct"
   },
   "outputs": [
    {
     "data": {
      "text/plain": [
       "3826"
      ]
     },
     "execution_count": 11,
     "metadata": {},
     "output_type": "execute_result"
    }
   ],
   "source": [
    "# подсчёт явных дубликатов\n",
    "df.duplicated().sum()"
   ]
  },
  {
   "cell_type": "markdown",
   "metadata": {
    "id": "Ot25h6XR_Zct"
   },
   "source": [
    "Удалим явные дубликаты:"
   ]
  },
  {
   "cell_type": "code",
   "execution_count": 12,
   "metadata": {
    "id": "exFHq6tt_Zct"
   },
   "outputs": [],
   "source": [
    "# удаление явных дубликатов (с удалением старых индексов и формированием новых)\n",
    "df = df.drop_duplicates().reset_index(drop=True)"
   ]
  },
  {
   "cell_type": "markdown",
   "metadata": {
    "id": "Im2YwBEG_Zct"
   },
   "source": [
    "Ещё раз посчитаем явные дубликаты в таблице — убедимся, что полностью от них избавились:"
   ]
  },
  {
   "cell_type": "code",
   "execution_count": 13,
   "metadata": {
    "id": "-8PuNWQ0_Zct"
   },
   "outputs": [
    {
     "data": {
      "text/plain": [
       "0"
      ]
     },
     "execution_count": 13,
     "metadata": {},
     "output_type": "execute_result"
    }
   ],
   "source": [
    "# проверка на отсутствие дубликатов\n",
    "df.duplicated().sum()"
   ]
  },
  {
   "cell_type": "markdown",
   "metadata": {
    "id": "QlFBsxAr_Zct"
   },
   "source": [
    "Теперь избавимся от неявных дубликатов в колонке `genre`. Например, название одного и того же жанра может быть записано немного по-разному. Такие ошибки тоже повлияют на результат исследования."
   ]
  },
  {
   "cell_type": "markdown",
   "metadata": {
    "id": "eSjWwsOh_Zct"
   },
   "source": [
    "Выведем на экран список уникальных названий жанров, отсортированный в алфавитном порядке. Для этого:\n",
    "* извлечем нужный столбец датафрейма, \n",
    "* применим к нему метод сортировки,\n",
    "* для отсортированного столбца вызовем метод, который вернёт уникальные значения из столбца."
   ]
  },
  {
   "cell_type": "code",
   "execution_count": 14,
   "metadata": {
    "id": "JIUcqzZN_Zct"
   },
   "outputs": [
    {
     "data": {
      "text/plain": [
       "array(['acid', 'acoustic', 'action', 'adult', 'africa', 'afrikaans',\n",
       "       'alternative', 'alternativepunk', 'ambient', 'americana',\n",
       "       'animated', 'anime', 'arabesk', 'arabic', 'arena',\n",
       "       'argentinetango', 'art', 'audiobook', 'author', 'avantgarde',\n",
       "       'axé', 'baile', 'balkan', 'beats', 'bigroom', 'black', 'bluegrass',\n",
       "       'blues', 'bollywood', 'bossa', 'brazilian', 'breakbeat', 'breaks',\n",
       "       'broadway', 'cantautori', 'cantopop', 'canzone', 'caribbean',\n",
       "       'caucasian', 'celtic', 'chamber', 'chanson', 'children', 'chill',\n",
       "       'chinese', 'choral', 'christian', 'christmas', 'classical',\n",
       "       'classicmetal', 'club', 'colombian', 'comedy', 'conjazz',\n",
       "       'contemporary', 'country', 'cuban', 'dance', 'dancehall',\n",
       "       'dancepop', 'dark', 'death', 'deep', 'deutschrock', 'deutschspr',\n",
       "       'dirty', 'disco', 'dnb', 'documentary', 'downbeat', 'downtempo',\n",
       "       'drum', 'dub', 'dubstep', 'eastern', 'easy', 'electronic',\n",
       "       'electropop', 'emo', 'entehno', 'epicmetal', 'estrada', 'ethnic',\n",
       "       'eurofolk', 'european', 'experimental', 'extrememetal', 'fado',\n",
       "       'fairytail', 'film', 'fitness', 'flamenco', 'folk', 'folklore',\n",
       "       'folkmetal', 'folkrock', 'folktronica', 'forró', 'frankreich',\n",
       "       'französisch', 'french', 'funk', 'future', 'gangsta', 'garage',\n",
       "       'german', 'ghazal', 'gitarre', 'glitch', 'gospel', 'gothic',\n",
       "       'grime', 'grunge', 'gypsy', 'handsup', \"hard'n'heavy\", 'hardcore',\n",
       "       'hardstyle', 'hardtechno', 'hip', 'hip-hop', 'hiphop',\n",
       "       'historisch', 'holiday', 'hop', 'horror', 'house', 'hymn', 'idm',\n",
       "       'independent', 'indian', 'indie', 'indipop', 'industrial',\n",
       "       'inspirational', 'instrumental', 'international', 'irish', 'jam',\n",
       "       'japanese', 'jazz', 'jewish', 'jpop', 'jungle', 'k-pop',\n",
       "       'karadeniz', 'karaoke', 'kayokyoku', 'korean', 'laiko', 'latin',\n",
       "       'latino', 'leftfield', 'local', 'lounge', 'loungeelectronic',\n",
       "       'lovers', 'malaysian', 'mandopop', 'marschmusik', 'meditative',\n",
       "       'mediterranean', 'melodic', 'metal', 'metalcore', 'mexican',\n",
       "       'middle', 'minimal', 'miscellaneous', 'modern', 'mood', 'mpb',\n",
       "       'muslim', 'native', 'neoklassik', 'neue', 'new', 'newage',\n",
       "       'newwave', 'nu', 'nujazz', 'numetal', 'oceania', 'old', 'opera',\n",
       "       'orchestral', 'other', 'piano', 'podcasts', 'pop', 'popdance',\n",
       "       'popelectronic', 'popeurodance', 'poprussian', 'post',\n",
       "       'posthardcore', 'postrock', 'power', 'progmetal', 'progressive',\n",
       "       'psychedelic', 'punjabi', 'punk', 'quebecois', 'ragga', 'ram',\n",
       "       'rancheras', 'rap', 'rave', 'reggae', 'reggaeton', 'regional',\n",
       "       'relax', 'religious', 'retro', 'rhythm', 'rnb', 'rnr', 'rock',\n",
       "       'rockabilly', 'rockalternative', 'rockindie', 'rockother',\n",
       "       'romance', 'roots', 'ruspop', 'rusrap', 'rusrock', 'russian',\n",
       "       'salsa', 'samba', 'scenic', 'schlager', 'self', 'sertanejo',\n",
       "       'shanson', 'shoegazing', 'showtunes', 'singer', 'ska', 'skarock',\n",
       "       'slow', 'smooth', 'soft', 'soul', 'soulful', 'sound', 'soundtrack',\n",
       "       'southern', 'specialty', 'speech', 'spiritual', 'sport',\n",
       "       'stonerrock', 'surf', 'swing', 'synthpop', 'synthrock',\n",
       "       'sängerportrait', 'tango', 'tanzorchester', 'taraftar', 'tatar',\n",
       "       'tech', 'techno', 'teen', 'thrash', 'top', 'traditional',\n",
       "       'tradjazz', 'trance', 'tribal', 'trip', 'triphop', 'tropical',\n",
       "       'türk', 'türkçe', 'ukrrock', 'unknown', 'urban', 'uzbek',\n",
       "       'variété', 'vi', 'videogame', 'vocal', 'western', 'world',\n",
       "       'worldbeat', 'ïîï', 'электроника'], dtype=object)"
      ]
     },
     "execution_count": 14,
     "metadata": {},
     "output_type": "execute_result"
    }
   ],
   "source": [
    "# Просмотр уникальных названий жанров\n",
    "df['genre'].sort_values().unique()"
   ]
  },
  {
   "cell_type": "markdown",
   "metadata": {
    "id": "qej-Qmuo_Zct"
   },
   "source": [
    "Просмотрим список и найдем неявные дубликаты названия `hiphop`. Это могут быть названия с ошибками или альтернативные названия того же жанра.\n",
    "\n",
    "Мы видим следующие неявные дубликаты:\n",
    "* *hip*,\n",
    "* *hop*,\n",
    "* *hip-hop*.\n",
    "\n",
    "Чтобы очистить от них таблицу, напишем функцию `replace_wrong_genres()` с двумя параметрами: \n",
    "* `wrong_genres` — список дубликатов,\n",
    "* `correct_genre` — строка с правильным значением.\n",
    "\n",
    "Функция должна исправить колонку `genre` в таблице `df`: заменить каждое значение из списка `wrong_genres` на значение из `correct_genre`."
   ]
  },
  {
   "cell_type": "code",
   "execution_count": 15,
   "metadata": {
    "id": "ErNDkmns_Zct"
   },
   "outputs": [],
   "source": [
    "# Функция для замены неявных дубликатов\n",
    "def replace_wrong_genres(wrong_genres, correct_genre):\n",
    "    for genre in wrong_genres:\n",
    "        df['genre'] = df['genre'].replace(genre, correct_genre)"
   ]
  },
  {
   "cell_type": "markdown",
   "metadata": {
    "id": "aDoBJxbA_Zct"
   },
   "source": [
    "Вызовем `replace_wrong_genres()` и передадим ей такие аргументы, чтобы она устранила неявные дубликаты: вместо `hip`, `hop` и `hip-hop` в таблице должно быть значение `hiphop`:"
   ]
  },
  {
   "cell_type": "code",
   "execution_count": 16,
   "metadata": {
    "id": "YN5i2hpmSo09"
   },
   "outputs": [],
   "source": [
    "# Устранение неявных дубликатов\n",
    "replace_wrong_genres(['hip','hop','hip-hop'], 'hiphop')"
   ]
  },
  {
   "cell_type": "markdown",
   "metadata": {
    "id": "zQKF16_RG15m"
   },
   "source": [
    "Проверим, что заменили неправильные названия:\n",
    "\n",
    "*   hip\n",
    "*   hop\n",
    "*   hip-hop\n",
    "\n",
    "Выведем отсортированный список уникальных значений столбца `genre`:"
   ]
  },
  {
   "cell_type": "code",
   "execution_count": 17,
   "metadata": {
    "id": "wvixALnFG15m"
   },
   "outputs": [
    {
     "data": {
      "text/plain": [
       "array(['acid', 'acoustic', 'action', 'adult', 'africa', 'afrikaans',\n",
       "       'alternative', 'alternativepunk', 'ambient', 'americana',\n",
       "       'animated', 'anime', 'arabesk', 'arabic', 'arena',\n",
       "       'argentinetango', 'art', 'audiobook', 'author', 'avantgarde',\n",
       "       'axé', 'baile', 'balkan', 'beats', 'bigroom', 'black', 'bluegrass',\n",
       "       'blues', 'bollywood', 'bossa', 'brazilian', 'breakbeat', 'breaks',\n",
       "       'broadway', 'cantautori', 'cantopop', 'canzone', 'caribbean',\n",
       "       'caucasian', 'celtic', 'chamber', 'chanson', 'children', 'chill',\n",
       "       'chinese', 'choral', 'christian', 'christmas', 'classical',\n",
       "       'classicmetal', 'club', 'colombian', 'comedy', 'conjazz',\n",
       "       'contemporary', 'country', 'cuban', 'dance', 'dancehall',\n",
       "       'dancepop', 'dark', 'death', 'deep', 'deutschrock', 'deutschspr',\n",
       "       'dirty', 'disco', 'dnb', 'documentary', 'downbeat', 'downtempo',\n",
       "       'drum', 'dub', 'dubstep', 'eastern', 'easy', 'electronic',\n",
       "       'electropop', 'emo', 'entehno', 'epicmetal', 'estrada', 'ethnic',\n",
       "       'eurofolk', 'european', 'experimental', 'extrememetal', 'fado',\n",
       "       'fairytail', 'film', 'fitness', 'flamenco', 'folk', 'folklore',\n",
       "       'folkmetal', 'folkrock', 'folktronica', 'forró', 'frankreich',\n",
       "       'französisch', 'french', 'funk', 'future', 'gangsta', 'garage',\n",
       "       'german', 'ghazal', 'gitarre', 'glitch', 'gospel', 'gothic',\n",
       "       'grime', 'grunge', 'gypsy', 'handsup', \"hard'n'heavy\", 'hardcore',\n",
       "       'hardstyle', 'hardtechno', 'hiphop', 'historisch', 'holiday',\n",
       "       'horror', 'house', 'hymn', 'idm', 'independent', 'indian', 'indie',\n",
       "       'indipop', 'industrial', 'inspirational', 'instrumental',\n",
       "       'international', 'irish', 'jam', 'japanese', 'jazz', 'jewish',\n",
       "       'jpop', 'jungle', 'k-pop', 'karadeniz', 'karaoke', 'kayokyoku',\n",
       "       'korean', 'laiko', 'latin', 'latino', 'leftfield', 'local',\n",
       "       'lounge', 'loungeelectronic', 'lovers', 'malaysian', 'mandopop',\n",
       "       'marschmusik', 'meditative', 'mediterranean', 'melodic', 'metal',\n",
       "       'metalcore', 'mexican', 'middle', 'minimal', 'miscellaneous',\n",
       "       'modern', 'mood', 'mpb', 'muslim', 'native', 'neoklassik', 'neue',\n",
       "       'new', 'newage', 'newwave', 'nu', 'nujazz', 'numetal', 'oceania',\n",
       "       'old', 'opera', 'orchestral', 'other', 'piano', 'podcasts', 'pop',\n",
       "       'popdance', 'popelectronic', 'popeurodance', 'poprussian', 'post',\n",
       "       'posthardcore', 'postrock', 'power', 'progmetal', 'progressive',\n",
       "       'psychedelic', 'punjabi', 'punk', 'quebecois', 'ragga', 'ram',\n",
       "       'rancheras', 'rap', 'rave', 'reggae', 'reggaeton', 'regional',\n",
       "       'relax', 'religious', 'retro', 'rhythm', 'rnb', 'rnr', 'rock',\n",
       "       'rockabilly', 'rockalternative', 'rockindie', 'rockother',\n",
       "       'romance', 'roots', 'ruspop', 'rusrap', 'rusrock', 'russian',\n",
       "       'salsa', 'samba', 'scenic', 'schlager', 'self', 'sertanejo',\n",
       "       'shanson', 'shoegazing', 'showtunes', 'singer', 'ska', 'skarock',\n",
       "       'slow', 'smooth', 'soft', 'soul', 'soulful', 'sound', 'soundtrack',\n",
       "       'southern', 'specialty', 'speech', 'spiritual', 'sport',\n",
       "       'stonerrock', 'surf', 'swing', 'synthpop', 'synthrock',\n",
       "       'sängerportrait', 'tango', 'tanzorchester', 'taraftar', 'tatar',\n",
       "       'tech', 'techno', 'teen', 'thrash', 'top', 'traditional',\n",
       "       'tradjazz', 'trance', 'tribal', 'trip', 'triphop', 'tropical',\n",
       "       'türk', 'türkçe', 'ukrrock', 'unknown', 'urban', 'uzbek',\n",
       "       'variété', 'vi', 'videogame', 'vocal', 'western', 'world',\n",
       "       'worldbeat', 'ïîï', 'электроника'], dtype=object)"
      ]
     },
     "execution_count": 17,
     "metadata": {},
     "output_type": "execute_result"
    }
   ],
   "source": [
    "# Проверка на неявные дубликаты\n",
    "df['genre'].sort_values().unique()"
   ]
  },
  {
   "cell_type": "markdown",
   "metadata": {
    "id": "jz6a9-7HQUDd"
   },
   "source": [
    "**Выводы**\n",
    "\n",
    "Предобработка обнаружила три проблемы в данных:\n",
    "\n",
    "- нарушения в стиле заголовков,\n",
    "- пропущенные значения,\n",
    "- дубликаты — явные и неявные.\n",
    "\n",
    "Вы исправили заголовки, чтобы упростить работу с таблицей. Без дубликатов исследование станет более точным.\n",
    "\n",
    "Пропущенные значения вы заменили на `'unknown'`. Ещё предстоит увидеть, не повредят ли исследованию пропуски в колонке `genre`.\n",
    "\n",
    "Теперь можно перейти к проверке гипотез. "
   ]
  },
  {
   "cell_type": "markdown",
   "metadata": {
    "id": "WttZHXH0SqKk"
   },
   "source": [
    "## Проверка гипотез"
   ]
  },
  {
   "cell_type": "markdown",
   "metadata": {
    "id": "Im936VVi_Zcu"
   },
   "source": [
    "### Сравнение поведения пользователей двух столиц"
   ]
  },
  {
   "cell_type": "markdown",
   "metadata": {
    "id": "nwt_MuaL_Zcu"
   },
   "source": [
    "Первая гипотеза утверждает, что пользователи по-разному слушают музыку в Москве и Санкт-Петербурге. Проверим это предположение по данным о трёх днях недели — понедельнике, среде и пятнице. Для этого:\n",
    "\n",
    "* Разделим пользователей Москвы и Санкт-Петербурга\n",
    "* Сравним, сколько треков послушала каждая группа пользователей в понедельник, среду и пятницу.\n"
   ]
  },
  {
   "cell_type": "markdown",
   "metadata": {
    "id": "8Dw_YMmT_Zcu"
   },
   "source": [
    "Оценим активность пользователей в каждом городе. Сгруппируем данные по городу и посчитаем прослушивания в каждой группе.\n",
    "\n"
   ]
  },
  {
   "cell_type": "code",
   "execution_count": 18,
   "metadata": {
    "id": "0_Qs96oh_Zcu"
   },
   "outputs": [
    {
     "data": {
      "text/plain": [
       "city\n",
       "Moscow              42741\n",
       "Saint-Petersburg    18512\n",
       "Name: track, dtype: int64"
      ]
     },
     "execution_count": 18,
     "metadata": {},
     "output_type": "execute_result"
    }
   ],
   "source": [
    "# Подсчёт прослушиваний в каждом городе\n",
    "df.groupby('city')['track'].count()"
   ]
  },
  {
   "cell_type": "markdown",
   "metadata": {
    "id": "dzli3w8o_Zcu"
   },
   "source": [
    "В Москве прослушиваний больше, чем в Петербурге. Из этого не следует, что московские пользователи чаще слушают музыку. Просто самих пользователей в Москве больше.\n",
    "\n",
    "Теперь сгруппируйте данные по дню недели и подсчитайте прослушивания в понедельник, среду и пятницу. Учтите, что в данных есть информация только о прослушиваниях только за эти дни.\n"
   ]
  },
  {
   "cell_type": "code",
   "execution_count": 19,
   "metadata": {
    "id": "uZMKjiJz_Zcu"
   },
   "outputs": [
    {
     "data": {
      "text/plain": [
       "day\n",
       "Friday       21840\n",
       "Monday       21354\n",
       "Wednesday    18059\n",
       "Name: track, dtype: int64"
      ]
     },
     "execution_count": 19,
     "metadata": {},
     "output_type": "execute_result"
    }
   ],
   "source": [
    "# Подсчёт прослушиваний в каждый из трёх дней\n",
    "df.groupby('day')['track'].count()"
   ]
  },
  {
   "cell_type": "markdown",
   "metadata": {
    "id": "cC2tNrlL_Zcu"
   },
   "source": [
    "В среднем пользователи из двух городов менее активны по средам. Но картина может измениться, если рассмотреть каждый город в отдельности."
   ]
  },
  {
   "cell_type": "markdown",
   "metadata": {
    "id": "POzs8bGa_Zcu"
   },
   "source": [
    "Создадим функцию `number_tracks()`, которая посчитает прослушивания для заданного дня и города. Ей понадобятся два параметра:\n",
    "* день недели,\n",
    "* название города.\n",
    "\n",
    "В функции сохраним в переменную строки исходной таблицы, у которых значение:\n",
    "  * в колонке `day` равно параметру `day`,\n",
    "  * в колонке `city` равно параметру `city`.\n",
    "\n",
    "Для этого применим последовательную фильтрацию с логической индексацией.\n",
    "\n",
    "Затем посчитаем значения в столбце `user_id` получившейся таблицы. Результат сохраним в новую переменную. Вернем эту переменную из функции."
   ]
  },
  {
   "cell_type": "code",
   "execution_count": 20,
   "metadata": {
    "id": "Nz3GdQB1_Zcu",
    "lang": "ru"
   },
   "outputs": [],
   "source": [
    "# <создание функции number_tracks()>\n",
    "# Объявляется функция с двумя параметрами: day, city.\n",
    "# В переменной track_list сохраняются те строки таблицы df, для которых \n",
    "# значение в столбце 'day' равно параметру day и одновременно значение\n",
    "# в столбце 'city' равно параметру city.\n",
    "# В переменной track_list_count сохраняется число значений столбца 'user_id',\n",
    "# рассчитанное методом count() для таблицы track_list.\n",
    "# Функция возвращает число - значение track_list_count.\n",
    "\n",
    "# Функция для подсчёта прослушиваний для конкретного города и дня.\n",
    "# С помощью последовательной фильтрации с логической индексацией она \n",
    "# сначала получит из исходной таблицы строки с нужным днём,\n",
    "# затем из результата отфильтрует строки с нужным городом,\n",
    "# методом count() посчитает количество значений в колонке user_id. \n",
    "# Это количество функция вернёт в качестве результата\n",
    "def number_tracks(day, city): \n",
    "    track_list = df[df['day'] == day]\n",
    "    track_list = track_list[track_list['city'] == city]\n",
    "    track_list_count = track_list['user_id'].count()\n",
    "    return track_list_count"
   ]
  },
  {
   "cell_type": "markdown",
   "metadata": {
    "id": "ytf7xFrFJQ2r"
   },
   "source": [
    "Вызовем `number_tracks()` шесть раз, меняя значение параметров — так, чтобы получить данные для каждого города в каждый из трёх дней."
   ]
  },
  {
   "cell_type": "code",
   "execution_count": 21,
   "metadata": {
    "id": "rJcRATNQ_Zcu"
   },
   "outputs": [
    {
     "name": "stdout",
     "output_type": "stream",
     "text": [
      "15740\n"
     ]
    }
   ],
   "source": [
    "# количество прослушиваний в Москве по понедельникам\n",
    "print(number_tracks('Monday', 'Moscow'))"
   ]
  },
  {
   "cell_type": "code",
   "execution_count": 22,
   "metadata": {
    "id": "hq_ncZ5T_Zcu"
   },
   "outputs": [
    {
     "name": "stdout",
     "output_type": "stream",
     "text": [
      "5614\n"
     ]
    }
   ],
   "source": [
    "# количество прослушиваний в Санкт-Петербурге по понедельникам\n",
    "print(number_tracks('Monday', 'Saint-Petersburg'))"
   ]
  },
  {
   "cell_type": "code",
   "execution_count": 23,
   "metadata": {
    "id": "_NTy2VPU_Zcu"
   },
   "outputs": [
    {
     "name": "stdout",
     "output_type": "stream",
     "text": [
      "11056\n"
     ]
    }
   ],
   "source": [
    "# количество прослушиваний в Москве по средам\n",
    "print(number_tracks('Wednesday', 'Moscow'))"
   ]
  },
  {
   "cell_type": "code",
   "execution_count": 24,
   "metadata": {
    "id": "j2y3TAwo_Zcu"
   },
   "outputs": [
    {
     "name": "stdout",
     "output_type": "stream",
     "text": [
      "7003\n"
     ]
    }
   ],
   "source": [
    "# количество прослушиваний в Санкт-Петербурге по средам\n",
    "print(number_tracks('Wednesday', 'Saint-Petersburg'))"
   ]
  },
  {
   "cell_type": "code",
   "execution_count": 25,
   "metadata": {
    "id": "vYDw5u_K_Zcu"
   },
   "outputs": [
    {
     "name": "stdout",
     "output_type": "stream",
     "text": [
      "15945\n"
     ]
    }
   ],
   "source": [
    "# количество прослушиваний в Москве по пятницам\n",
    "print(number_tracks('Friday', 'Moscow'))"
   ]
  },
  {
   "cell_type": "code",
   "execution_count": 26,
   "metadata": {
    "id": "8_yzFtW3_Zcu"
   },
   "outputs": [
    {
     "name": "stdout",
     "output_type": "stream",
     "text": [
      "5895\n"
     ]
    }
   ],
   "source": [
    "# количество прослушиваний в Санкт-Петербурге по пятницам\n",
    "print(number_tracks('Friday', 'Saint-Petersburg'))"
   ]
  },
  {
   "cell_type": "markdown",
   "metadata": {
    "id": "7QXffbO-_Zcu"
   },
   "source": [
    "Создадим c помощью конструктора `pd.DataFrame` таблицу, где\n",
    "* названия колонок — `['city', 'monday', 'wednesday', 'friday']`;\n",
    "* данные — результаты, которые мы получили с помощью `number_tracks`."
   ]
  },
  {
   "cell_type": "code",
   "execution_count": 27,
   "metadata": {
    "id": "APAcLpOr_Zcu"
   },
   "outputs": [
    {
     "data": {
      "text/html": [
       "<div>\n",
       "<style scoped>\n",
       "    .dataframe tbody tr th:only-of-type {\n",
       "        vertical-align: middle;\n",
       "    }\n",
       "\n",
       "    .dataframe tbody tr th {\n",
       "        vertical-align: top;\n",
       "    }\n",
       "\n",
       "    .dataframe thead th {\n",
       "        text-align: right;\n",
       "    }\n",
       "</style>\n",
       "<table border=\"1\" class=\"dataframe\">\n",
       "  <thead>\n",
       "    <tr style=\"text-align: right;\">\n",
       "      <th></th>\n",
       "      <th>city</th>\n",
       "      <th>monday</th>\n",
       "      <th>wednesday</th>\n",
       "      <th>friday</th>\n",
       "    </tr>\n",
       "  </thead>\n",
       "  <tbody>\n",
       "    <tr>\n",
       "      <th>0</th>\n",
       "      <td>Moscow</td>\n",
       "      <td>15740</td>\n",
       "      <td>11056</td>\n",
       "      <td>15945</td>\n",
       "    </tr>\n",
       "    <tr>\n",
       "      <th>1</th>\n",
       "      <td>Saint-Petersburg</td>\n",
       "      <td>5614</td>\n",
       "      <td>7003</td>\n",
       "      <td>5895</td>\n",
       "    </tr>\n",
       "  </tbody>\n",
       "</table>\n",
       "</div>"
      ],
      "text/plain": [
       "               city  monday  wednesday  friday\n",
       "0            Moscow   15740      11056   15945\n",
       "1  Saint-Petersburg    5614       7003    5895"
      ]
     },
     "metadata": {},
     "output_type": "display_data"
    }
   ],
   "source": [
    "# Таблица с результатами\n",
    "pd.DataFrame(data=[['Moscow', 15740, 11056, 15945],\n",
    "                   ['Saint-Petersburg', 5614, 7003, 5895]],\n",
    "             columns=['city', 'monday', 'wednesday', 'friday'])"
   ]
  },
  {
   "cell_type": "markdown",
   "metadata": {
    "id": "-EgPIHYu_Zcu"
   },
   "source": [
    "**Выводы**\n",
    "\n",
    "Данные показывают разницу поведения пользователей:\n",
    "\n",
    "- В Москве пик прослушиваний приходится на понедельник и пятницу, а в среду заметен спад.\n",
    "- В Петербурге, наоборот, больше слушают музыку по средам. Активность в понедельник и пятницу здесь почти в равной мере уступает среде.\n",
    "\n",
    "Значит, данные говорят в пользу первой гипотезы."
   ]
  },
  {
   "cell_type": "markdown",
   "metadata": {
    "id": "atZAxtq4_Zcu"
   },
   "source": [
    "### Музыка в начале и в конце недели"
   ]
  },
  {
   "cell_type": "markdown",
   "metadata": {
    "id": "eXrQqXFH_Zcu"
   },
   "source": [
    "Согласно второй гипотезе, утром в понедельник в Москве преобладают одни жанры, а в Петербурге — другие. Так же и вечером пятницы преобладают разные жанры — в зависимости от города."
   ]
  },
  {
   "cell_type": "markdown",
   "metadata": {
    "id": "S8UcW6Hw_Zcu"
   },
   "source": [
    "Сохраним таблицы с данными в две переменные:\n",
    "* по Москве — в `moscow_general`;\n",
    "* по Санкт-Петербургу — в `spb_general`."
   ]
  },
  {
   "cell_type": "code",
   "execution_count": 28,
   "metadata": {
    "id": "qeaFfM_P_Zcu"
   },
   "outputs": [],
   "source": [
    "# получение таблицы moscow_general из тех строк таблицы df, \n",
    "# для которых значение в столбце 'city' равно 'Moscow'\n",
    "moscow_general = df[df['city'] == 'Moscow']"
   ]
  },
  {
   "cell_type": "code",
   "execution_count": 29,
   "metadata": {
    "id": "ORaVRKto_Zcu"
   },
   "outputs": [],
   "source": [
    "# получение таблицы spb_general из тех строк таблицы df,\n",
    "# для которых значение в столбце 'city' равно 'Saint-Petersburg'\n",
    "spb_general = df[df['city'] == 'Saint-Petersburg']"
   ]
  },
  {
   "cell_type": "markdown",
   "metadata": {
    "id": "MEJV-CX2_Zcu"
   },
   "source": [
    "Создадим функцию `genre_weekday()` с четырьмя параметрами:\n",
    "* таблица (датафрейм) с данными,\n",
    "* день недели,\n",
    "* начальная временная метка в формате 'hh:mm', \n",
    "* последняя временная метка в формате 'hh:mm'.\n",
    "\n",
    "Функция должна вернуть информацию о топ-10 жанров тех треков, которые прослушивали в указанный день, в промежутке между двумя отметками времени."
   ]
  },
  {
   "cell_type": "code",
   "execution_count": 30,
   "metadata": {
    "id": "laJT9BYl_Zcu"
   },
   "outputs": [],
   "source": [
    "# Объявление функции genre_weekday() с параметрами table, day, time1, time2,\n",
    "# которая возвращает информацию о самых популярных жанрах в указанный день в\n",
    "# заданное время:\n",
    "# 1) в переменную genre_df сохраняются те строки переданного датафрейма table, для\n",
    "#    которых одновременно:\n",
    "#    - значение в столбце day равно значению аргумента day\n",
    "#    - значение в столбце time больше значения аргумента time1\n",
    "#    - значение в столбце time меньше значения аргумента time2\n",
    "#    Используйте последовательную фильтрацию с помощью логической индексации.\n",
    "# 2) сгруппировать датафрейм genre_df по столбцу genre, взять один из его\n",
    "#    столбцов и посчитать методом count() количество записей для каждого из\n",
    "#    присутствующих жанров, получившийся Series записать в переменную\n",
    "#    genre_df_count\n",
    "# 3) отсортировать genre_df_count по убыванию встречаемости и сохранить\n",
    "#    в переменную genre_df_sorted\n",
    "# 4) вернуть Series из 10 первых значений genre_df_sorted, это будут топ-10\n",
    "#    популярных жанров (в указанный день, в заданное время)\n",
    "def genre_weekday(table, day, time1, time2):\n",
    "    genre_df = table[(table['day'] == day) & (table['time'] > time1) & (table['time'] < time2)]\n",
    "    genre_df_count = genre_df.groupby('genre')['genre'].count()\n",
    "    genre_df_sorted = genre_df_count.sort_values(ascending=False)\n",
    "    return genre_df_sorted.head(10)"
   ]
  },
  {
   "cell_type": "markdown",
   "metadata": {
    "id": "la2s2_PF_Zcu"
   },
   "source": [
    "Cравним результаты функции `genre_weekday()` для Москвы и Санкт-Петербурга в понедельник утром (с 7:00 до 11:00) и в пятницу вечером (с 17:00 до 23:00):"
   ]
  },
  {
   "cell_type": "code",
   "execution_count": 31,
   "metadata": {
    "id": "yz7itPUQ_Zcu"
   },
   "outputs": [
    {
     "data": {
      "text/plain": [
       "genre\n",
       "pop            781\n",
       "dance          549\n",
       "electronic     480\n",
       "rock           474\n",
       "hiphop         286\n",
       "ruspop         186\n",
       "world          181\n",
       "rusrap         175\n",
       "alternative    164\n",
       "unknown        161\n",
       "Name: genre, dtype: int64"
      ]
     },
     "execution_count": 31,
     "metadata": {},
     "output_type": "execute_result"
    }
   ],
   "source": [
    "# вызов функции для утра понедельника в Москве (вместо df — таблица moscow_general)\n",
    "# объекты, хранящие время, являются строками и сравниваются как строки\n",
    "# пример вызова: genre_weekday(moscow_general, 'Monday', '07:00', '11:00')\n",
    "genre_weekday(moscow_general, 'Monday', '07:00', '11:00')"
   ]
  },
  {
   "cell_type": "code",
   "execution_count": 32,
   "metadata": {
    "id": "kwUcHPdy_Zcu"
   },
   "outputs": [
    {
     "data": {
      "text/plain": [
       "genre\n",
       "pop            218\n",
       "dance          182\n",
       "rock           162\n",
       "electronic     147\n",
       "hiphop          80\n",
       "ruspop          64\n",
       "alternative     58\n",
       "rusrap          55\n",
       "jazz            44\n",
       "classical       40\n",
       "Name: genre, dtype: int64"
      ]
     },
     "execution_count": 32,
     "metadata": {},
     "output_type": "execute_result"
    }
   ],
   "source": [
    "# вызов функции для утра понедельника в Петербурге (вместо df — таблица spb_general)\n",
    "genre_weekday(spb_general, 'Monday', '07:00', '11:00')"
   ]
  },
  {
   "cell_type": "code",
   "execution_count": 33,
   "metadata": {
    "id": "EzXVRE1o_Zcu"
   },
   "outputs": [
    {
     "data": {
      "text/plain": [
       "genre\n",
       "pop            713\n",
       "rock           517\n",
       "dance          495\n",
       "electronic     482\n",
       "hiphop         273\n",
       "world          208\n",
       "ruspop         170\n",
       "alternative    163\n",
       "classical      163\n",
       "rusrap         142\n",
       "Name: genre, dtype: int64"
      ]
     },
     "execution_count": 33,
     "metadata": {},
     "output_type": "execute_result"
    }
   ],
   "source": [
    "# вызов функции для вечера пятницы в Москве\n",
    "genre_weekday(moscow_general, 'Friday', '17:00', '23:00')"
   ]
  },
  {
   "cell_type": "code",
   "execution_count": 34,
   "metadata": {
    "id": "JZaEKu5v_Zcu"
   },
   "outputs": [
    {
     "data": {
      "text/plain": [
       "genre\n",
       "pop            256\n",
       "electronic     216\n",
       "rock           216\n",
       "dance          210\n",
       "hiphop          97\n",
       "alternative     63\n",
       "jazz            61\n",
       "classical       60\n",
       "rusrap          59\n",
       "world           54\n",
       "Name: genre, dtype: int64"
      ]
     },
     "execution_count": 34,
     "metadata": {},
     "output_type": "execute_result"
    }
   ],
   "source": [
    "# вызов функции для вечера пятницы в Петербурге\n",
    "genre_weekday(spb_general, 'Friday', '17:00', '23:00')"
   ]
  },
  {
   "cell_type": "markdown",
   "metadata": {
    "id": "wrCe4MNX_Zcu"
   },
   "source": [
    "**Выводы**\n",
    "\n",
    "Если сравнить топ-10 жанров в понедельник утром, можно сделать такие выводы:\n",
    "\n",
    "1. В Москве и Петербурге слушают похожую музыку. Единственное отличие — в московский рейтинг вошёл жанр “world”, а в петербургский — джаз и классика.\n",
    "\n",
    "2. В Москве пропущенных значений оказалось так много, что значение `'unknown'` заняло десятое место среди самых популярных жанров. Значит, пропущенные значения занимают существенную долю в данных и угрожают достоверности исследования.\n",
    "\n",
    "Вечер пятницы не меняет эту картину. Некоторые жанры поднимаются немного выше, другие спускаются, но в целом топ-10 остаётся тем же самым.\n",
    "\n",
    "Таким образом, вторая гипотеза подтвердилась лишь частично:\n",
    "* Пользователи слушают похожую музыку в начале недели и в конце.\n",
    "* Разница между Москвой и Петербургом не слишком выражена. В Москве чаще слушают русскую популярную музыку, в Петербурге — джаз.\n",
    "\n",
    "Однако пропуски в данных ставят под сомнение этот результат. В Москве их так много, что рейтинг топ-10 мог бы выглядеть иначе, если бы не утерянные  данные о жанрах."
   ]
  },
  {
   "cell_type": "markdown",
   "metadata": {
    "id": "JolODAqr_Zcu"
   },
   "source": [
    "### Жанровые предпочтения в Москве и Петербурге\n",
    "\n",
    "Гипотеза: Петербург — столица рэпа, музыку этого жанра там слушают чаще, чем в Москве.  А Москва — город контрастов, в котором, тем не менее, преобладает поп-музыка."
   ]
  },
  {
   "cell_type": "markdown",
   "metadata": {
    "id": "DlegSvaT_Zcu"
   },
   "source": [
    "Сгруппируем таблицу `moscow_general` по жанру и посчитаем прослушивания треков каждого жанра методом `count()`. Затем отсортируем результат в порядке убывания и сохраним его в таблице `moscow_genres`."
   ]
  },
  {
   "cell_type": "code",
   "execution_count": 35,
   "metadata": {
    "id": "r19lIPke_Zcu"
   },
   "outputs": [],
   "source": [
    "# одной строкой: группировка таблицы moscow_general по столбцу 'genre', \n",
    "# подсчёт числа значений 'genre' в этой группировке методом count(), \n",
    "# сортировка получившегося Series в порядке убывания и сохранение в moscow_genres\n",
    "moscow_genres = moscow_general.groupby('genre')['genre'].count().sort_values(ascending=False)"
   ]
  },
  {
   "cell_type": "markdown",
   "metadata": {
    "id": "6kMuomxTiIr8"
   },
   "source": [
    "Выведем на экран первые десять строк `moscow_genres`:"
   ]
  },
  {
   "cell_type": "code",
   "execution_count": 36,
   "metadata": {
    "id": "WhCSooF8_Zcv"
   },
   "outputs": [
    {
     "data": {
      "text/plain": [
       "genre\n",
       "pop            5892\n",
       "dance          4435\n",
       "rock           3965\n",
       "electronic     3786\n",
       "hiphop         2096\n",
       "classical      1616\n",
       "world          1432\n",
       "alternative    1379\n",
       "ruspop         1372\n",
       "rusrap         1161\n",
       "Name: genre, dtype: int64"
      ]
     },
     "execution_count": 36,
     "metadata": {},
     "output_type": "execute_result"
    }
   ],
   "source": [
    "# просмотр первых 10 строк moscow_genres\n",
    "moscow_genres.head(10)"
   ]
  },
  {
   "cell_type": "markdown",
   "metadata": {
    "id": "cnPG2vnN_Zcv"
   },
   "source": [
    "Теперь повторим то же и для Петербурга.\n",
    "\n",
    "Сгруппируем таблицу `spb_general` по жанру. Посчитаем прослушивания треков каждого жанра. Результат отсортируем в порядке убывания и сохраним в таблице `spb_genres`:\n"
   ]
  },
  {
   "cell_type": "code",
   "execution_count": 37,
   "metadata": {
    "id": "gluLIpE7_Zcv"
   },
   "outputs": [],
   "source": [
    "# одной строкой: группировка таблицы spb_general по столбцу 'genre', \n",
    "# подсчёт числа значений 'genre' в этой группировке методом count(), \n",
    "# сортировка получившегося Series в порядке убывания и сохранение в spb_genres\n",
    "spb_genres = spb_general.groupby('genre')['genre'].count().sort_values(ascending=False)"
   ]
  },
  {
   "cell_type": "markdown",
   "metadata": {
    "id": "5Doha_ODgyQ8"
   },
   "source": [
    "Выведем на экран первые десять строк `spb_genres`:"
   ]
  },
  {
   "cell_type": "code",
   "execution_count": 38,
   "metadata": {
    "id": "uaGJHjVU_Zcv"
   },
   "outputs": [
    {
     "data": {
      "text/plain": [
       "genre\n",
       "pop            2431\n",
       "dance          1932\n",
       "rock           1879\n",
       "electronic     1736\n",
       "hiphop          960\n",
       "alternative     649\n",
       "classical       646\n",
       "rusrap          564\n",
       "ruspop          538\n",
       "world           515\n",
       "Name: genre, dtype: int64"
      ]
     },
     "execution_count": 38,
     "metadata": {},
     "output_type": "execute_result"
    }
   ],
   "source": [
    "# просмотр первых 10 строк spb_genres\n",
    "spb_genres.head(10)"
   ]
  },
  {
   "cell_type": "markdown",
   "metadata": {
    "id": "RY51YJYu_Zcv"
   },
   "source": [
    "**Выводы**"
   ]
  },
  {
   "cell_type": "markdown",
   "metadata": {
    "id": "nVhnJEm__Zcv"
   },
   "source": [
    "Гипотеза частично подтвердилась:\n",
    "* Поп-музыка — самый популярный жанр в Москве, как и предполагала гипотеза. Более того, в топ-10 жанров встречается близкий жанр — русская популярная музыка.\n",
    "* Вопреки ожиданиям, рэп одинаково популярен в Москве и Петербурге. \n"
   ]
  },
  {
   "cell_type": "markdown",
   "metadata": {
    "id": "ykKQ0N65_Zcv"
   },
   "source": [
    "## Итоги исследования"
   ]
  },
  {
   "cell_type": "markdown",
   "metadata": {
    "id": "tjUwbHb3_Zcv"
   },
   "source": [
    "Мы проверили три гипотезы и установили:\n",
    "\n",
    "1. День недели по-разному влияет на активность пользователей в Москве и Петербурге. \n",
    "\n",
    "Первая гипотеза полностью подтвердилась.\n",
    "\n",
    "2. Музыкальные предпочтения не сильно меняются в течение недели — будь то Москва или Петербург. Небольшие различия заметны в начале недели, по понедельникам:\n",
    "* в Москве слушают музыку жанра “world”,\n",
    "* в Петербурге — джаз и классику.\n",
    "\n",
    "Таким образом, вторая гипотеза подтвердилась лишь отчасти. Этот результат мог оказаться иным, если бы не пропуски в данных.\n",
    "\n",
    "3. Во вкусах пользователей Москвы и Петербурга больше общего чем различий. Вопреки ожиданиям, предпочтения жанров в Петербурге напоминают московские.\n",
    "\n",
    "Третья гипотеза не подтвердилась. Если различия в предпочтениях и существуют, на основной массе пользователей они незаметны.\n",
    "\n",
    "**На практике исследования содержат проверки статистических гипотез.**\n",
    "Из данных одного сервиса не всегда можно сделать вывод о всех жителях города.\n",
    "Проверки статистических гипотез покажут, насколько они достоверны, исходя из имеющихся данных. "
   ]
  }
 ],
 "metadata": {
  "ExecuteTimeLog": [
   {
    "duration": 746,
    "start_time": "2022-01-07T21:54:52.150Z"
   },
   {
    "duration": 194,
    "start_time": "2022-01-07T21:55:30.064Z"
   },
   {
    "duration": 25,
    "start_time": "2022-01-07T21:55:53.201Z"
   },
   {
    "duration": 34,
    "start_time": "2022-01-07T21:56:32.045Z"
   },
   {
    "duration": 30,
    "start_time": "2022-01-07T21:56:37.627Z"
   },
   {
    "duration": 6,
    "start_time": "2022-01-07T22:04:15.734Z"
   },
   {
    "duration": 5,
    "start_time": "2022-01-07T22:04:20.570Z"
   },
   {
    "duration": 32,
    "start_time": "2022-01-07T22:06:54.740Z"
   },
   {
    "duration": 5,
    "start_time": "2022-01-07T22:07:07.693Z"
   },
   {
    "duration": 31,
    "start_time": "2022-01-07T22:09:25.156Z"
   },
   {
    "duration": 32,
    "start_time": "2022-01-07T22:10:05.704Z"
   },
   {
    "duration": 5091,
    "start_time": "2022-01-07T22:18:35.691Z"
   },
   {
    "duration": 4726,
    "start_time": "2022-01-07T22:19:40.563Z"
   },
   {
    "duration": 9,
    "start_time": "2022-01-07T22:20:14.966Z"
   },
   {
    "duration": 3,
    "start_time": "2022-01-07T22:20:57.732Z"
   },
   {
    "duration": 198,
    "start_time": "2022-01-07T22:21:01.019Z"
   },
   {
    "duration": 15,
    "start_time": "2022-01-07T22:21:02.709Z"
   },
   {
    "duration": 33,
    "start_time": "2022-01-07T22:21:05.285Z"
   },
   {
    "duration": 5,
    "start_time": "2022-01-07T22:21:08.866Z"
   },
   {
    "duration": 31,
    "start_time": "2022-01-07T22:21:11.057Z"
   },
   {
    "duration": 5,
    "start_time": "2022-01-07T22:21:12.648Z"
   },
   {
    "duration": 31,
    "start_time": "2022-01-07T22:21:15.063Z"
   },
   {
    "duration": 3908,
    "start_time": "2022-01-07T22:21:18.221Z"
   },
   {
    "duration": 9,
    "start_time": "2022-01-07T22:21:40.763Z"
   },
   {
    "duration": 3,
    "start_time": "2022-01-07T22:22:37.443Z"
   },
   {
    "duration": 191,
    "start_time": "2022-01-07T22:22:40.186Z"
   },
   {
    "duration": 16,
    "start_time": "2022-01-07T22:22:42.727Z"
   },
   {
    "duration": 32,
    "start_time": "2022-01-07T22:22:44.947Z"
   },
   {
    "duration": 5,
    "start_time": "2022-01-07T22:22:48.749Z"
   },
   {
    "duration": 29,
    "start_time": "2022-01-07T22:22:51.846Z"
   },
   {
    "duration": 5,
    "start_time": "2022-01-07T22:22:53.675Z"
   },
   {
    "duration": 37,
    "start_time": "2022-01-07T22:22:56.891Z"
   },
   {
    "duration": 4499,
    "start_time": "2022-01-07T22:22:59.305Z"
   },
   {
    "duration": 703,
    "start_time": "2022-01-07T22:23:18.956Z"
   },
   {
    "duration": 189,
    "start_time": "2022-01-07T22:23:21.056Z"
   },
   {
    "duration": 25,
    "start_time": "2022-01-07T22:23:22.726Z"
   },
   {
    "duration": 32,
    "start_time": "2022-01-07T22:23:25.624Z"
   },
   {
    "duration": 5,
    "start_time": "2022-01-07T22:23:28.907Z"
   },
   {
    "duration": 31,
    "start_time": "2022-01-07T22:23:32.118Z"
   },
   {
    "duration": 5,
    "start_time": "2022-01-07T22:23:34.102Z"
   },
   {
    "duration": 29,
    "start_time": "2022-01-07T22:23:37.288Z"
   },
   {
    "duration": 4010,
    "start_time": "2022-01-07T22:25:09.216Z"
   },
   {
    "duration": 9,
    "start_time": "2022-01-07T22:25:29.009Z"
   },
   {
    "duration": 811,
    "start_time": "2022-01-07T22:43:35.094Z"
   },
   {
    "duration": 192,
    "start_time": "2022-01-07T22:43:37.177Z"
   },
   {
    "duration": 25,
    "start_time": "2022-01-07T22:43:41.729Z"
   },
   {
    "duration": 711,
    "start_time": "2022-01-07T22:43:57.961Z"
   },
   {
    "duration": 187,
    "start_time": "2022-01-07T22:43:58.674Z"
   },
   {
    "duration": 28,
    "start_time": "2022-01-07T22:43:58.864Z"
   },
   {
    "duration": 49,
    "start_time": "2022-01-07T22:43:58.895Z"
   },
   {
    "duration": 5,
    "start_time": "2022-01-07T22:43:58.946Z"
   },
   {
    "duration": 37,
    "start_time": "2022-01-07T22:43:58.953Z"
   },
   {
    "duration": 25,
    "start_time": "2022-01-07T22:43:58.993Z"
   },
   {
    "duration": 29,
    "start_time": "2022-01-07T22:44:02.219Z"
   },
   {
    "duration": 4720,
    "start_time": "2022-01-07T22:44:13.225Z"
   },
   {
    "duration": 754,
    "start_time": "2022-01-07T22:44:43.420Z"
   },
   {
    "duration": 189,
    "start_time": "2022-01-07T22:44:44.177Z"
   },
   {
    "duration": 25,
    "start_time": "2022-01-07T22:44:44.369Z"
   },
   {
    "duration": 54,
    "start_time": "2022-01-07T22:44:44.397Z"
   },
   {
    "duration": 5,
    "start_time": "2022-01-07T22:44:44.453Z"
   },
   {
    "duration": 33,
    "start_time": "2022-01-07T22:44:44.460Z"
   },
   {
    "duration": 5,
    "start_time": "2022-01-07T22:44:44.518Z"
   },
   {
    "duration": 31,
    "start_time": "2022-01-07T22:44:44.526Z"
   },
   {
    "duration": 5,
    "start_time": "2022-01-07T22:45:04.462Z"
   },
   {
    "duration": 12,
    "start_time": "2022-01-07T22:45:21.603Z"
   },
   {
    "duration": 24,
    "start_time": "2022-01-07T22:45:33.503Z"
   },
   {
    "duration": 11,
    "start_time": "2022-01-07T22:45:45.423Z"
   },
   {
    "duration": 23,
    "start_time": "2022-01-07T22:46:26.405Z"
   },
   {
    "duration": 9,
    "start_time": "2022-01-07T22:46:34.517Z"
   },
   {
    "duration": 9,
    "start_time": "2022-01-07T22:46:54.798Z"
   },
   {
    "duration": 107,
    "start_time": "2022-01-07T22:46:57.921Z"
   },
   {
    "duration": 105,
    "start_time": "2022-01-07T22:47:08.392Z"
   },
   {
    "duration": 737,
    "start_time": "2022-01-07T22:47:20.046Z"
   },
   {
    "duration": 199,
    "start_time": "2022-01-07T22:47:20.786Z"
   },
   {
    "duration": 33,
    "start_time": "2022-01-07T22:47:20.988Z"
   },
   {
    "duration": 33,
    "start_time": "2022-01-07T22:47:21.025Z"
   },
   {
    "duration": 5,
    "start_time": "2022-01-07T22:47:21.061Z"
   },
   {
    "duration": 68,
    "start_time": "2022-01-07T22:47:21.068Z"
   },
   {
    "duration": 4,
    "start_time": "2022-01-07T22:47:21.138Z"
   },
   {
    "duration": 31,
    "start_time": "2022-01-07T22:47:22.926Z"
   },
   {
    "duration": 100,
    "start_time": "2022-01-07T22:47:26.563Z"
   },
   {
    "duration": 11,
    "start_time": "2022-01-07T22:47:34.877Z"
   },
   {
    "duration": 30,
    "start_time": "2022-01-07T22:47:37.436Z"
   },
   {
    "duration": 734,
    "start_time": "2022-01-07T22:47:58.437Z"
   },
   {
    "duration": 192,
    "start_time": "2022-01-07T22:47:59.174Z"
   },
   {
    "duration": 35,
    "start_time": "2022-01-07T22:47:59.370Z"
   },
   {
    "duration": 41,
    "start_time": "2022-01-07T22:47:59.407Z"
   },
   {
    "duration": 4,
    "start_time": "2022-01-07T22:47:59.450Z"
   },
   {
    "duration": 31,
    "start_time": "2022-01-07T22:47:59.456Z"
   },
   {
    "duration": 29,
    "start_time": "2022-01-07T22:47:59.490Z"
   },
   {
    "duration": 30,
    "start_time": "2022-01-07T22:47:59.522Z"
   },
   {
    "duration": 23,
    "start_time": "2022-01-07T22:48:16.073Z"
   },
   {
    "duration": 30,
    "start_time": "2022-01-07T22:48:18.540Z"
   },
   {
    "duration": 85,
    "start_time": "2022-01-07T22:49:09.931Z"
   },
   {
    "duration": 103,
    "start_time": "2022-01-07T22:50:19.853Z"
   },
   {
    "duration": 77,
    "start_time": "2022-01-07T22:50:44.793Z"
   },
   {
    "duration": 112,
    "start_time": "2022-01-07T22:52:29.595Z"
   },
   {
    "duration": 58,
    "start_time": "2022-01-07T22:52:37.900Z"
   },
   {
    "duration": 4,
    "start_time": "2022-01-07T22:55:57.558Z"
   },
   {
    "duration": 14,
    "start_time": "2022-01-07T22:56:31.877Z"
   },
   {
    "duration": 57,
    "start_time": "2022-01-07T22:57:12.036Z"
   },
   {
    "duration": 799,
    "start_time": "2022-01-08T00:41:29.230Z"
   },
   {
    "duration": 776,
    "start_time": "2022-01-08T00:41:49.633Z"
   },
   {
    "duration": 189,
    "start_time": "2022-01-08T00:41:50.412Z"
   },
   {
    "duration": 26,
    "start_time": "2022-01-08T00:41:50.604Z"
   },
   {
    "duration": 52,
    "start_time": "2022-01-08T00:41:50.632Z"
   },
   {
    "duration": 4,
    "start_time": "2022-01-08T00:41:50.687Z"
   },
   {
    "duration": 30,
    "start_time": "2022-01-08T00:41:50.694Z"
   },
   {
    "duration": 7,
    "start_time": "2022-01-08T00:41:50.726Z"
   },
   {
    "duration": 55,
    "start_time": "2022-01-08T00:41:50.736Z"
   },
   {
    "duration": 25,
    "start_time": "2022-01-08T00:41:50.794Z"
   },
   {
    "duration": 48,
    "start_time": "2022-01-08T00:41:50.821Z"
   },
   {
    "duration": 100,
    "start_time": "2022-01-08T00:41:50.872Z"
   },
   {
    "duration": 108,
    "start_time": "2022-01-08T00:41:50.975Z"
   },
   {
    "duration": 84,
    "start_time": "2022-01-08T00:41:51.086Z"
   },
   {
    "duration": 57,
    "start_time": "2022-01-08T00:41:51.172Z"
   },
   {
    "duration": 4,
    "start_time": "2022-01-08T00:41:51.232Z"
   },
   {
    "duration": 33,
    "start_time": "2022-01-08T00:41:51.238Z"
   },
   {
    "duration": 59,
    "start_time": "2022-01-08T00:41:51.274Z"
   },
   {
    "duration": 8605,
    "start_time": "2022-01-08T00:44:11.568Z"
   },
   {
    "duration": 8332,
    "start_time": "2022-01-08T00:44:25.443Z"
   },
   {
    "duration": 49,
    "start_time": "2022-01-08T00:45:26.584Z"
   },
   {
    "duration": 17,
    "start_time": "2022-01-08T00:45:53.665Z"
   },
   {
    "duration": 45,
    "start_time": "2022-01-08T00:47:18.857Z"
   },
   {
    "duration": 18,
    "start_time": "2022-01-08T00:47:36.240Z"
   },
   {
    "duration": 5,
    "start_time": "2022-01-08T00:54:53.933Z"
   },
   {
    "duration": 12,
    "start_time": "2022-01-08T00:55:27.855Z"
   },
   {
    "duration": 11,
    "start_time": "2022-01-08T00:55:49.008Z"
   },
   {
    "duration": 22,
    "start_time": "2022-01-08T00:56:14.394Z"
   },
   {
    "duration": 20,
    "start_time": "2022-01-08T00:56:26.454Z"
   },
   {
    "duration": 20,
    "start_time": "2022-01-08T00:57:20.591Z"
   },
   {
    "duration": 19,
    "start_time": "2022-01-08T00:57:22.488Z"
   },
   {
    "duration": 22,
    "start_time": "2022-01-08T00:57:24.728Z"
   },
   {
    "duration": 19,
    "start_time": "2022-01-08T00:57:25.397Z"
   },
   {
    "duration": 13,
    "start_time": "2022-01-08T01:00:27.510Z"
   },
   {
    "duration": 16,
    "start_time": "2022-01-08T01:02:39.909Z"
   },
   {
    "duration": 13,
    "start_time": "2022-01-08T01:03:09.404Z"
   },
   {
    "duration": 6,
    "start_time": "2022-01-08T01:09:37.490Z"
   },
   {
    "duration": 9114,
    "start_time": "2022-01-08T01:10:13.751Z"
   },
   {
    "duration": 6,
    "start_time": "2022-01-08T01:11:11.350Z"
   },
   {
    "duration": 9445,
    "start_time": "2022-01-08T01:11:13.794Z"
   },
   {
    "duration": 5,
    "start_time": "2022-01-08T01:12:33.500Z"
   },
   {
    "duration": 21,
    "start_time": "2022-01-08T01:12:35.077Z"
   },
   {
    "duration": 5,
    "start_time": "2022-01-08T01:12:44.324Z"
   },
   {
    "duration": 30,
    "start_time": "2022-01-08T01:12:46.284Z"
   },
   {
    "duration": 5,
    "start_time": "2022-01-08T01:12:54.680Z"
   },
   {
    "duration": 36,
    "start_time": "2022-01-08T01:12:56.297Z"
   },
   {
    "duration": 5,
    "start_time": "2022-01-08T01:13:06.267Z"
   },
   {
    "duration": 36,
    "start_time": "2022-01-08T01:13:08.010Z"
   },
   {
    "duration": 6,
    "start_time": "2022-01-08T01:13:19.389Z"
   },
   {
    "duration": 25,
    "start_time": "2022-01-08T01:13:23.657Z"
   },
   {
    "duration": 6,
    "start_time": "2022-01-08T01:13:38.157Z"
   },
   {
    "duration": 9426,
    "start_time": "2022-01-08T01:13:40.410Z"
   },
   {
    "duration": 7,
    "start_time": "2022-01-08T01:13:50.996Z"
   },
   {
    "duration": 27,
    "start_time": "2022-01-08T01:13:52.676Z"
   },
   {
    "duration": 6,
    "start_time": "2022-01-08T01:14:01.752Z"
   },
   {
    "duration": 25,
    "start_time": "2022-01-08T01:14:03.886Z"
   },
   {
    "duration": 17,
    "start_time": "2022-01-08T01:14:45.877Z"
   },
   {
    "duration": 23,
    "start_time": "2022-01-08T01:15:35.375Z"
   },
   {
    "duration": 17,
    "start_time": "2022-01-08T01:15:37.682Z"
   },
   {
    "duration": 284,
    "start_time": "2022-01-08T01:20:43.379Z"
   },
   {
    "duration": 11,
    "start_time": "2022-01-08T01:20:50.875Z"
   },
   {
    "duration": 7,
    "start_time": "2022-01-08T01:21:10.794Z"
   },
   {
    "duration": 327,
    "start_time": "2022-01-08T01:22:11.050Z"
   },
   {
    "duration": 8,
    "start_time": "2022-01-08T01:22:22.972Z"
   },
   {
    "duration": 7,
    "start_time": "2022-01-08T01:22:37.980Z"
   },
   {
    "duration": 728,
    "start_time": "2022-01-08T01:23:04.986Z"
   },
   {
    "duration": 188,
    "start_time": "2022-01-08T01:23:05.716Z"
   },
   {
    "duration": 24,
    "start_time": "2022-01-08T01:23:05.907Z"
   },
   {
    "duration": 54,
    "start_time": "2022-01-08T01:23:05.934Z"
   },
   {
    "duration": 5,
    "start_time": "2022-01-08T01:23:05.991Z"
   },
   {
    "duration": 30,
    "start_time": "2022-01-08T01:23:05.998Z"
   },
   {
    "duration": 33,
    "start_time": "2022-01-08T01:23:06.030Z"
   },
   {
    "duration": 29,
    "start_time": "2022-01-08T01:23:06.067Z"
   },
   {
    "duration": 22,
    "start_time": "2022-01-08T01:23:06.100Z"
   },
   {
    "duration": 55,
    "start_time": "2022-01-08T01:23:06.124Z"
   },
   {
    "duration": 100,
    "start_time": "2022-01-08T01:23:06.181Z"
   },
   {
    "duration": 110,
    "start_time": "2022-01-08T01:23:06.284Z"
   },
   {
    "duration": 84,
    "start_time": "2022-01-08T01:23:06.397Z"
   },
   {
    "duration": 88,
    "start_time": "2022-01-08T01:23:06.484Z"
   },
   {
    "duration": 4,
    "start_time": "2022-01-08T01:23:06.574Z"
   },
   {
    "duration": 22,
    "start_time": "2022-01-08T01:23:06.580Z"
   },
   {
    "duration": 77,
    "start_time": "2022-01-08T01:23:06.605Z"
   },
   {
    "duration": 16,
    "start_time": "2022-01-08T01:23:06.684Z"
   },
   {
    "duration": 15,
    "start_time": "2022-01-08T01:23:06.702Z"
   },
   {
    "duration": 4,
    "start_time": "2022-01-08T01:23:06.720Z"
   },
   {
    "duration": 51,
    "start_time": "2022-01-08T01:23:06.726Z"
   },
   {
    "duration": 18,
    "start_time": "2022-01-08T01:23:06.779Z"
   },
   {
    "duration": 18,
    "start_time": "2022-01-08T01:23:06.801Z"
   },
   {
    "duration": 55,
    "start_time": "2022-01-08T01:23:06.822Z"
   },
   {
    "duration": 21,
    "start_time": "2022-01-08T01:23:06.879Z"
   },
   {
    "duration": 18,
    "start_time": "2022-01-08T01:23:06.902Z"
   },
   {
    "duration": 45,
    "start_time": "2022-01-08T01:23:06.922Z"
   },
   {
    "duration": 19,
    "start_time": "2022-01-08T01:23:06.969Z"
   },
   {
    "duration": 11,
    "start_time": "2022-01-08T01:23:06.990Z"
   },
   {
    "duration": 5,
    "start_time": "2022-01-08T01:23:07.004Z"
   },
   {
    "duration": 61,
    "start_time": "2022-01-08T01:23:07.012Z"
   },
   {
    "duration": 17,
    "start_time": "2022-01-08T01:23:07.075Z"
   },
   {
    "duration": 22,
    "start_time": "2022-01-08T01:23:07.094Z"
   },
   {
    "duration": 49,
    "start_time": "2022-01-08T01:23:07.118Z"
   },
   {
    "duration": 11,
    "start_time": "2022-01-08T01:23:07.169Z"
   },
   {
    "duration": 6,
    "start_time": "2022-01-08T01:23:07.183Z"
   },
   {
    "duration": 9,
    "start_time": "2022-01-08T01:23:07.191Z"
   },
   {
    "duration": 7,
    "start_time": "2022-01-08T01:23:07.203Z"
   },
   {
    "duration": 92,
    "start_time": "2022-01-08T01:24:39.375Z"
   },
   {
    "duration": 771,
    "start_time": "2022-01-08T01:28:02.225Z"
   },
   {
    "duration": 182,
    "start_time": "2022-01-08T01:28:02.999Z"
   },
   {
    "duration": 26,
    "start_time": "2022-01-08T01:28:03.184Z"
   },
   {
    "duration": 51,
    "start_time": "2022-01-08T01:28:03.212Z"
   },
   {
    "duration": 4,
    "start_time": "2022-01-08T01:28:03.265Z"
   },
   {
    "duration": 30,
    "start_time": "2022-01-08T01:28:03.271Z"
   },
   {
    "duration": 7,
    "start_time": "2022-01-08T01:28:03.304Z"
   },
   {
    "duration": 57,
    "start_time": "2022-01-08T01:28:03.316Z"
   },
   {
    "duration": 22,
    "start_time": "2022-01-08T01:28:03.376Z"
   },
   {
    "duration": 28,
    "start_time": "2022-01-08T01:28:03.400Z"
   },
   {
    "duration": 111,
    "start_time": "2022-01-08T01:28:03.430Z"
   },
   {
    "duration": 119,
    "start_time": "2022-01-08T01:28:03.544Z"
   },
   {
    "duration": 76,
    "start_time": "2022-01-08T01:28:03.665Z"
   },
   {
    "duration": 78,
    "start_time": "2022-01-08T01:28:03.744Z"
   },
   {
    "duration": 5,
    "start_time": "2022-01-08T01:28:03.825Z"
   },
   {
    "duration": 35,
    "start_time": "2022-01-08T01:28:03.832Z"
   },
   {
    "duration": 56,
    "start_time": "2022-01-08T01:28:03.869Z"
   },
   {
    "duration": 37,
    "start_time": "2022-01-08T01:28:03.928Z"
   },
   {
    "duration": 15,
    "start_time": "2022-01-08T01:28:03.968Z"
   },
   {
    "duration": 5,
    "start_time": "2022-01-08T01:28:03.985Z"
   },
   {
    "duration": 25,
    "start_time": "2022-01-08T01:28:03.993Z"
   },
   {
    "duration": 51,
    "start_time": "2022-01-08T01:28:04.020Z"
   },
   {
    "duration": 18,
    "start_time": "2022-01-08T01:28:04.075Z"
   },
   {
    "duration": 17,
    "start_time": "2022-01-08T01:28:04.096Z"
   },
   {
    "duration": 58,
    "start_time": "2022-01-08T01:28:04.117Z"
   },
   {
    "duration": 19,
    "start_time": "2022-01-08T01:28:04.178Z"
   },
   {
    "duration": 12,
    "start_time": "2022-01-08T01:28:04.200Z"
   },
   {
    "duration": 48,
    "start_time": "2022-01-08T01:28:04.215Z"
   },
   {
    "duration": 12,
    "start_time": "2022-01-08T01:28:04.265Z"
   },
   {
    "duration": 6,
    "start_time": "2022-01-08T01:28:04.280Z"
   },
   {
    "duration": 32,
    "start_time": "2022-01-08T01:28:04.288Z"
   },
   {
    "duration": 47,
    "start_time": "2022-01-08T01:28:04.322Z"
   },
   {
    "duration": 23,
    "start_time": "2022-01-08T01:28:04.372Z"
   },
   {
    "duration": 16,
    "start_time": "2022-01-08T01:28:04.398Z"
   },
   {
    "duration": 47,
    "start_time": "2022-01-08T01:28:04.417Z"
   },
   {
    "duration": 7,
    "start_time": "2022-01-08T01:28:04.466Z"
   },
   {
    "duration": 9,
    "start_time": "2022-01-08T01:28:04.476Z"
   },
   {
    "duration": 6,
    "start_time": "2022-01-08T01:28:10.110Z"
   },
   {
    "duration": 584,
    "start_time": "2022-01-09T09:20:20.981Z"
   },
   {
    "duration": 148,
    "start_time": "2022-01-09T09:20:21.567Z"
   },
   {
    "duration": 20,
    "start_time": "2022-01-09T09:20:21.718Z"
   },
   {
    "duration": 44,
    "start_time": "2022-01-09T09:20:21.740Z"
   },
   {
    "duration": 3,
    "start_time": "2022-01-09T09:20:21.786Z"
   },
   {
    "duration": 29,
    "start_time": "2022-01-09T09:20:21.791Z"
   },
   {
    "duration": 4,
    "start_time": "2022-01-09T09:20:21.822Z"
   },
   {
    "duration": 53,
    "start_time": "2022-01-09T09:20:21.829Z"
   },
   {
    "duration": 22,
    "start_time": "2022-01-09T09:20:21.886Z"
   },
   {
    "duration": 23,
    "start_time": "2022-01-09T09:20:21.910Z"
   },
   {
    "duration": 83,
    "start_time": "2022-01-09T09:20:21.934Z"
   },
   {
    "duration": 83,
    "start_time": "2022-01-09T09:20:22.019Z"
   },
   {
    "duration": 62,
    "start_time": "2022-01-09T09:20:22.104Z"
   },
   {
    "duration": 41,
    "start_time": "2022-01-09T09:20:22.168Z"
   },
   {
    "duration": 3,
    "start_time": "2022-01-09T09:20:22.211Z"
   },
   {
    "duration": 13,
    "start_time": "2022-01-09T09:20:22.215Z"
   },
   {
    "duration": 58,
    "start_time": "2022-01-09T09:20:22.229Z"
   },
   {
    "duration": 11,
    "start_time": "2022-01-09T09:20:22.289Z"
   },
   {
    "duration": 11,
    "start_time": "2022-01-09T09:20:22.301Z"
   },
   {
    "duration": 3,
    "start_time": "2022-01-09T09:20:22.313Z"
   },
   {
    "duration": 45,
    "start_time": "2022-01-09T09:20:22.318Z"
   },
   {
    "duration": 15,
    "start_time": "2022-01-09T09:20:22.365Z"
   },
   {
    "duration": 13,
    "start_time": "2022-01-09T09:20:22.382Z"
   },
   {
    "duration": 13,
    "start_time": "2022-01-09T09:20:22.397Z"
   },
   {
    "duration": 15,
    "start_time": "2022-01-09T09:20:22.412Z"
   },
   {
    "duration": 44,
    "start_time": "2022-01-09T09:20:22.428Z"
   },
   {
    "duration": 8,
    "start_time": "2022-01-09T09:20:22.475Z"
   },
   {
    "duration": 13,
    "start_time": "2022-01-09T09:20:22.484Z"
   },
   {
    "duration": 9,
    "start_time": "2022-01-09T09:20:22.499Z"
   },
   {
    "duration": 3,
    "start_time": "2022-01-09T09:20:22.510Z"
   },
   {
    "duration": 54,
    "start_time": "2022-01-09T09:20:22.515Z"
   },
   {
    "duration": 12,
    "start_time": "2022-01-09T09:20:22.571Z"
   },
   {
    "duration": 15,
    "start_time": "2022-01-09T09:20:22.585Z"
   },
   {
    "duration": 11,
    "start_time": "2022-01-09T09:20:22.602Z"
   },
   {
    "duration": 7,
    "start_time": "2022-01-09T09:20:22.615Z"
   },
   {
    "duration": 4,
    "start_time": "2022-01-09T09:20:22.624Z"
   },
   {
    "duration": 7,
    "start_time": "2022-01-09T09:20:22.662Z"
   },
   {
    "duration": 7,
    "start_time": "2022-01-09T09:20:22.670Z"
   }
  ],
  "colab": {
   "collapsed_sections": [
    "E0vqbgi9ay0H",
    "VUC88oWjTJw2"
   ],
   "name": "yandex_music_project_2021.2.ipynb",
   "provenance": []
  },
  "kernelspec": {
   "display_name": "Python 3 (ipykernel)",
   "language": "python",
   "name": "python3"
  },
  "language_info": {
   "codemirror_mode": {
    "name": "ipython",
    "version": 3
   },
   "file_extension": ".py",
   "mimetype": "text/x-python",
   "name": "python",
   "nbconvert_exporter": "python",
   "pygments_lexer": "ipython3",
   "version": "3.9.13"
  },
  "nbTranslate": {
   "displayLangs": [
    "ru",
    "en"
   ],
   "hotkey": "alt-t",
   "langInMainMenu": true,
   "sourceLang": "ru",
   "targetLang": "en",
   "useGoogleTranslate": true
  },
  "toc": {
   "base_numbering": 1,
   "nav_menu": {},
   "number_sections": true,
   "sideBar": true,
   "skip_h1_title": true,
   "title_cell": "Table of Contents",
   "title_sidebar": "Contents",
   "toc_cell": false,
   "toc_position": {
    "height": "calc(100% - 180px)",
    "left": "10px",
    "top": "150px",
    "width": "310.391px"
   },
   "toc_section_display": true,
   "toc_window_display": true
  },
  "varInspector": {
   "cols": {
    "lenName": 16,
    "lenType": 16,
    "lenVar": 40
   },
   "kernels_config": {
    "python": {
     "delete_cmd_postfix": "",
     "delete_cmd_prefix": "del ",
     "library": "var_list.py",
     "varRefreshCmd": "print(var_dic_list())"
    },
    "r": {
     "delete_cmd_postfix": ") ",
     "delete_cmd_prefix": "rm(",
     "library": "var_list.r",
     "varRefreshCmd": "cat(var_dic_list()) "
    }
   },
   "types_to_exclude": [
    "module",
    "function",
    "builtin_function_or_method",
    "instance",
    "_Feature"
   ],
   "window_display": false
  }
 },
 "nbformat": 4,
 "nbformat_minor": 1
}
