{
 "cells": [
  {
   "cell_type": "markdown",
   "metadata": {},
   "source": [
    "# Определение выгодного тарифа для телеком компании"
   ]
  },
  {
   "cell_type": "markdown",
   "metadata": {
    "toc": true
   },
   "source": [
    "<h2>Содержание проекта<span class=\"tocSkip\"></span></h2><br>\n",
    "<div class=\"toc\">\n",
    "  <ul class=\"toc-item\">\n",
    "    <li>\n",
    "      <span\n",
    "        ><a href=\"#Описание-проекта\" data-toc-modified-id=\"Описание-проекта-1\"\n",
    "          ><span class=\"toc-item-num\">1&nbsp;&nbsp;</span>Описание проекта</a\n",
    "        ></span\n",
    "      >\n",
    "      <ul class=\"toc-item\">\n",
    "        <li>\n",
    "          <span\n",
    "            ><a\n",
    "              href=\"#Описание-тарифов\"\n",
    "              data-toc-modified-id=\"Описание-тарифов-1.1\"\n",
    "              ><span class=\"toc-item-num\">1.1&nbsp;&nbsp;</span>Описание\n",
    "              тарифов</a\n",
    "            ></span\n",
    "          >\n",
    "        </li>\n",
    "        <li>\n",
    "          <span\n",
    "            ><a\n",
    "              href=\"#Описание-данных\"\n",
    "              data-toc-modified-id=\"Описание-данных-1.2\"\n",
    "              ><span class=\"toc-item-num\">1.2&nbsp;&nbsp;</span>Описание\n",
    "              данных</a\n",
    "            ></span\n",
    "          >\n",
    "        </li>\n",
    "      </ul>\n",
    "    </li>\n",
    "    <li>\n",
    "      <span\n",
    "        ><a\n",
    "          href=\"#Предобработка-данных\"\n",
    "          data-toc-modified-id=\"Предобработка-данных-2\"\n",
    "          ><span class=\"toc-item-num\">2&nbsp;&nbsp;</span>Предобработка\n",
    "          данных</a\n",
    "        ></span\n",
    "      >\n",
    "    </li>\n",
    "    <li>\n",
    "      <span\n",
    "        ><a\n",
    "          href=\"#Изменение-типов-данных\"\n",
    "          data-toc-modified-id=\"Изменение-типов-данных-3\"\n",
    "          ><span class=\"toc-item-num\">3&nbsp;&nbsp;</span>Изменение типов\n",
    "          данных</a\n",
    "        ></span\n",
    "      >\n",
    "    </li>\n",
    "    <li>\n",
    "      <span\n",
    "        ><a href=\"#Обработка-дублей\" data-toc-modified-id=\"Обработка-дублей-4\"\n",
    "          ><span class=\"toc-item-num\">4&nbsp;&nbsp;</span>Обработка дублей</a\n",
    "        ></span\n",
    "      >\n",
    "    </li>\n",
    "    <li>\n",
    "      <span\n",
    "        ><a\n",
    "          href=\"#Исследовательский-анализ-данных\"\n",
    "          data-toc-modified-id=\"Исследовательский-анализ-данных-5\"\n",
    "          ><span class=\"toc-item-num\">5&nbsp;&nbsp;</span>Исследовательский\n",
    "          анализ данных</a\n",
    "        ></span\n",
    "      >\n",
    "    </li>\n",
    "    <li>\n",
    "      <span\n",
    "        ><a\n",
    "          href=\"#Описательная-статистика\"\n",
    "          data-toc-modified-id=\"Описательная-статистика-6\"\n",
    "          ><span class=\"toc-item-num\">6&nbsp;&nbsp;</span>Описательная\n",
    "          статистика</a\n",
    "        ></span\n",
    "      >\n",
    "    </li>\n",
    "    <li>\n",
    "      <span\n",
    "        ><a href=\"#Проверка-гипотез\" data-toc-modified-id=\"Проверка-гипотез-7\"\n",
    "          ><span class=\"toc-item-num\">7&nbsp;&nbsp;</span>Проверка гипотез</a\n",
    "        ></span\n",
    "      >\n",
    "    </li>\n",
    "    <li>\n",
    "      <span\n",
    "        ><a href=\"#Итоговые-выводы\" data-toc-modified-id=\"Итоговые-выводы-8\"\n",
    "          ><span class=\"toc-item-num\">8&nbsp;&nbsp;</span>Итоговые выводы</a\n",
    "        ></span\n",
    "      >\n",
    "    </li>\n",
    "  </ul>\n",
    "</div>\n"
   ]
  },
  {
   "cell_type": "markdown",
   "metadata": {},
   "source": [
    "## Описание проекта"
   ]
  },
  {
   "cell_type": "markdown",
   "metadata": {},
   "source": [
    "Клиентам федерального оператора сотовой связи «Мегалайн» предлагают два тарифных плана: «Смарт» и «Ультра». Чтобы скорректировать рекламный бюджет, коммерческий департамент хочет понять, какой тариф приносит больше денег.\n",
    "Необходимо сделать предварительный анализ тарифов на небольшой выборке клиентов. <br>\n",
    "Имеются данные 500 пользователей «Мегалайна»: кто они, откуда, каким тарифом пользуются, сколько звонков и сообщений каждый отправил за 2018 год. Нужно проанализировать поведение клиентов и сделать вывод — какой тариф лучше."
   ]
  },
  {
   "cell_type": "markdown",
   "metadata": {},
   "source": [
    "### Описание тарифов\n",
    "\n",
    "**Тариф «Смарт»**\n",
    "1. Ежемесячная плата: 550 рублей\n",
    "2. Включено 500 минут разговора, 50 сообщений и 15 Гб интернет-трафика\n",
    "3. Стоимость услуг сверх тарифного пакета:\n",
    "    - минута разговора: 3 рубля\n",
    "    - сообщение: 3 рубля\n",
    "    - 1 Гб интернет-трафика: 200 рублей\n",
    "\n",
    "**Тариф «Ультра»**\n",
    "1. Ежемесячная плата: 1950 рублей\n",
    "2. Включено 3000 минут разговора, 1000 сообщений и 30 Гб интернет-трафика\n",
    "3. Стоимость услуг сверх тарифного пакета:\n",
    "    - минута разговора: 1 рубль\n",
    "    - сообщение: 1 рубль\n",
    "    - 1 Гб интернет-трафика: 150 рублей\n",
    "    \n",
    "**Примечание:**\n",
    "«Мегалайн» всегда округляет секунды до минут, а мегабайты — до гигабайт. Каждый звонок округляется отдельно: даже если он длился всего 1 секунду, будет засчитан как 1 минута.\n",
    "Для веб-трафика отдельные сессии не считаются. Вместо этого общая сумма за месяц округляется в бо́льшую сторону. Если абонент использует 1025 мегабайт в этом месяце, с него возьмут плату за 2 гигабайта."
   ]
  },
  {
   "cell_type": "markdown",
   "metadata": {},
   "source": [
    "### Описание данных\n",
    "\n",
    "Таблица `users` (информация о пользователях):\n",
    "- `user_id` — уникальный идентификатор пользователя\n",
    "- `first_name` — имя пользователя\n",
    "- `last_name` — фамилия пользователя\n",
    "- `age` — возраст пользователя (годы)\n",
    "- `reg_date` — дата подключения тарифа (день, месяц, год)\n",
    "- `churn_date` — дата прекращения пользования тарифом (если значение пропущено, то тариф ещё действовал на момент выгрузки данных)\n",
    "- `city` — город проживания пользователя\n",
    "- `tariff` — название тарифного плана\n",
    "\n",
    "Таблица `calls` (информация о звонках):\n",
    "- `id` — уникальный номер звонка\n",
    "- `call_date` — дата звонка\n",
    "- `duration` — длительность звонка в минутах\n",
    "- `user_id` — идентификатор пользователя, сделавшего звонок\n",
    "\n",
    "Таблица `messages` (информация о сообщениях):\n",
    "- `id` — уникальный номер сообщения\n",
    "- `message_date` — дата сообщения\n",
    "- `user_id` — идентификатор пользователя, отправившего сообщение\n",
    "\n",
    "Таблица `internet` (информация об интернет-сессиях):\n",
    "- `id` — уникальный номер сессии\n",
    "- `mb_used` — объём потраченного за сессию интернет-трафика (в мегабайтах)\n",
    "- `session_date` — дата интернет-сессии\n",
    "- `user_id` — идентификатор пользователя\n",
    "\n",
    "Таблица `tariffs` (информация о тарифах):\n",
    "- `tariff_name` — название тарифа\n",
    "- `rub_monthly_fee` — ежемесячная абонентская плата в рублях\n",
    "- `minutes_included` — количество минут разговора в месяц, включённых в абонентскую плату\n",
    "- `messages_included` — количество сообщений в месяц, включённых в абонентскую плату\n",
    "- `mb_per_month_included` — объём интернет-трафика, включённого в абонентскую плату (в мегабайтах)\n",
    "- `rub_per_minute` — стоимость минуты разговора сверх тарифного пакета (например, если в тарифе 100 минут разговора в месяц, то со 101 минуты будет взиматься плата)\n",
    "- `rub_per_message` — стоимость отправки сообщения сверх тарифного пакета\n",
    "- `rub_per_gb` — стоимость дополнительного гигабайта интернет-трафика сверх тарифного пакета (1 гигабайт = 1024 мегабайта)"
   ]
  },
  {
   "cell_type": "markdown",
   "metadata": {},
   "source": [
    "## Предобработка данных"
   ]
  },
  {
   "cell_type": "code",
   "execution_count": 1,
   "metadata": {},
   "outputs": [],
   "source": [
    "# Импортируем необходимые библиотеки\n",
    "import pandas as pd\n",
    "import matplotlib.pyplot as plt\n",
    "import math\n",
    "import numpy as np\n",
    "import seaborn as sns\n",
    "from scipy import stats as st"
   ]
  },
  {
   "cell_type": "code",
   "execution_count": 2,
   "metadata": {},
   "outputs": [],
   "source": [
    "# Загрузим исходные данные\n",
    "calls_df = pd.read_csv('datasets/calls.csv')\n",
    "internet_df = pd.read_csv('datasets/internet.csv')\n",
    "messages_df = pd.read_csv('datasets/messages.csv')\n",
    "tariffs_df = pd.read_csv('datasets/tariffs.csv')\n",
    "users_df = pd.read_csv('datasets/users.csv')"
   ]
  },
  {
   "cell_type": "code",
   "execution_count": 3,
   "metadata": {},
   "outputs": [],
   "source": [
    "# Создадим список с датафреймами для их дальнейшей обработки в цикле\n",
    "df_titles = [calls_df, internet_df, messages_df, tariffs_df, users_df]"
   ]
  },
  {
   "cell_type": "code",
   "execution_count": 4,
   "metadata": {},
   "outputs": [
    {
     "name": "stdout",
     "output_type": "stream",
     "text": [
      "\n",
      "<class 'pandas.core.frame.DataFrame'>\n",
      "RangeIndex: 202607 entries, 0 to 202606\n",
      "Data columns (total 4 columns):\n",
      " #   Column     Non-Null Count   Dtype  \n",
      "---  ------     --------------   -----  \n",
      " 0   id         202607 non-null  object \n",
      " 1   call_date  202607 non-null  object \n",
      " 2   duration   202607 non-null  float64\n",
      " 3   user_id    202607 non-null  int64  \n",
      "dtypes: float64(1), int64(1), object(2)\n",
      "memory usage: 6.2+ MB\n",
      "\n",
      "<class 'pandas.core.frame.DataFrame'>\n",
      "RangeIndex: 149396 entries, 0 to 149395\n",
      "Data columns (total 5 columns):\n",
      " #   Column        Non-Null Count   Dtype  \n",
      "---  ------        --------------   -----  \n",
      " 0   Unnamed: 0    149396 non-null  int64  \n",
      " 1   id            149396 non-null  object \n",
      " 2   mb_used       149396 non-null  float64\n",
      " 3   session_date  149396 non-null  object \n",
      " 4   user_id       149396 non-null  int64  \n",
      "dtypes: float64(1), int64(2), object(2)\n",
      "memory usage: 5.7+ MB\n",
      "\n",
      "<class 'pandas.core.frame.DataFrame'>\n",
      "RangeIndex: 123036 entries, 0 to 123035\n",
      "Data columns (total 3 columns):\n",
      " #   Column        Non-Null Count   Dtype \n",
      "---  ------        --------------   ----- \n",
      " 0   id            123036 non-null  object\n",
      " 1   message_date  123036 non-null  object\n",
      " 2   user_id       123036 non-null  int64 \n",
      "dtypes: int64(1), object(2)\n",
      "memory usage: 2.8+ MB\n",
      "\n",
      "<class 'pandas.core.frame.DataFrame'>\n",
      "RangeIndex: 2 entries, 0 to 1\n",
      "Data columns (total 8 columns):\n",
      " #   Column                 Non-Null Count  Dtype \n",
      "---  ------                 --------------  ----- \n",
      " 0   messages_included      2 non-null      int64 \n",
      " 1   mb_per_month_included  2 non-null      int64 \n",
      " 2   minutes_included       2 non-null      int64 \n",
      " 3   rub_monthly_fee        2 non-null      int64 \n",
      " 4   rub_per_gb             2 non-null      int64 \n",
      " 5   rub_per_message        2 non-null      int64 \n",
      " 6   rub_per_minute         2 non-null      int64 \n",
      " 7   tariff_name            2 non-null      object\n",
      "dtypes: int64(7), object(1)\n",
      "memory usage: 256.0+ bytes\n",
      "\n",
      "<class 'pandas.core.frame.DataFrame'>\n",
      "RangeIndex: 500 entries, 0 to 499\n",
      "Data columns (total 8 columns):\n",
      " #   Column      Non-Null Count  Dtype \n",
      "---  ------      --------------  ----- \n",
      " 0   user_id     500 non-null    int64 \n",
      " 1   age         500 non-null    int64 \n",
      " 2   churn_date  38 non-null     object\n",
      " 3   city        500 non-null    object\n",
      " 4   first_name  500 non-null    object\n",
      " 5   last_name   500 non-null    object\n",
      " 6   reg_date    500 non-null    object\n",
      " 7   tariff      500 non-null    object\n",
      "dtypes: int64(2), object(6)\n",
      "memory usage: 31.4+ KB\n"
     ]
    }
   ],
   "source": [
    "# Выведем информацию по исходным датасетам\n",
    "for df in df_titles:\n",
    "    print()\n",
    "    df.info()"
   ]
  },
  {
   "cell_type": "markdown",
   "metadata": {},
   "source": [
    "Пропущенные значения имеются только в таблице `users_df`, но исходя из описания колонки `churn_date` - в ней могут отсутствовать значения, для пользователей, которые не отключали тариф."
   ]
  },
  {
   "cell_type": "code",
   "execution_count": 5,
   "metadata": {},
   "outputs": [
    {
     "data": {
      "text/plain": [
       "['id', 'call_date', 'duration', 'user_id']"
      ]
     },
     "metadata": {},
     "output_type": "display_data"
    },
    {
     "data": {
      "text/plain": [
       "['Unnamed: 0', 'id', 'mb_used', 'session_date', 'user_id']"
      ]
     },
     "metadata": {},
     "output_type": "display_data"
    },
    {
     "data": {
      "text/plain": [
       "['id', 'message_date', 'user_id']"
      ]
     },
     "metadata": {},
     "output_type": "display_data"
    },
    {
     "data": {
      "text/plain": [
       "['messages_included',\n",
       " 'mb_per_month_included',\n",
       " 'minutes_included',\n",
       " 'rub_monthly_fee',\n",
       " 'rub_per_gb',\n",
       " 'rub_per_message',\n",
       " 'rub_per_minute',\n",
       " 'tariff_name']"
      ]
     },
     "metadata": {},
     "output_type": "display_data"
    },
    {
     "data": {
      "text/plain": [
       "['user_id',\n",
       " 'age',\n",
       " 'churn_date',\n",
       " 'city',\n",
       " 'first_name',\n",
       " 'last_name',\n",
       " 'reg_date',\n",
       " 'tariff']"
      ]
     },
     "metadata": {},
     "output_type": "display_data"
    }
   ],
   "source": [
    "# Проверим корректность заголовков в датасетах\n",
    "for df in df_titles:\n",
    "    display(list(df.columns))"
   ]
  },
  {
   "cell_type": "markdown",
   "metadata": {},
   "source": [
    "В таблице `internet_df` имеется некорректный заголовок у колонки `Unnamed: 0`. Посмотрим, что за информация находится в этой колонке."
   ]
  },
  {
   "cell_type": "code",
   "execution_count": 6,
   "metadata": {},
   "outputs": [
    {
     "data": {
      "text/html": [
       "<div>\n",
       "<style scoped>\n",
       "    .dataframe tbody tr th:only-of-type {\n",
       "        vertical-align: middle;\n",
       "    }\n",
       "\n",
       "    .dataframe tbody tr th {\n",
       "        vertical-align: top;\n",
       "    }\n",
       "\n",
       "    .dataframe thead th {\n",
       "        text-align: right;\n",
       "    }\n",
       "</style>\n",
       "<table border=\"1\" class=\"dataframe\">\n",
       "  <thead>\n",
       "    <tr style=\"text-align: right;\">\n",
       "      <th></th>\n",
       "      <th>Unnamed: 0</th>\n",
       "      <th>id</th>\n",
       "      <th>mb_used</th>\n",
       "      <th>session_date</th>\n",
       "      <th>user_id</th>\n",
       "    </tr>\n",
       "  </thead>\n",
       "  <tbody>\n",
       "    <tr>\n",
       "      <th>0</th>\n",
       "      <td>0</td>\n",
       "      <td>1000_0</td>\n",
       "      <td>112.95</td>\n",
       "      <td>2018-11-25</td>\n",
       "      <td>1000</td>\n",
       "    </tr>\n",
       "    <tr>\n",
       "      <th>1</th>\n",
       "      <td>1</td>\n",
       "      <td>1000_1</td>\n",
       "      <td>1052.81</td>\n",
       "      <td>2018-09-07</td>\n",
       "      <td>1000</td>\n",
       "    </tr>\n",
       "    <tr>\n",
       "      <th>2</th>\n",
       "      <td>2</td>\n",
       "      <td>1000_2</td>\n",
       "      <td>1197.26</td>\n",
       "      <td>2018-06-25</td>\n",
       "      <td>1000</td>\n",
       "    </tr>\n",
       "    <tr>\n",
       "      <th>3</th>\n",
       "      <td>3</td>\n",
       "      <td>1000_3</td>\n",
       "      <td>550.27</td>\n",
       "      <td>2018-08-22</td>\n",
       "      <td>1000</td>\n",
       "    </tr>\n",
       "    <tr>\n",
       "      <th>4</th>\n",
       "      <td>4</td>\n",
       "      <td>1000_4</td>\n",
       "      <td>302.56</td>\n",
       "      <td>2018-09-24</td>\n",
       "      <td>1000</td>\n",
       "    </tr>\n",
       "    <tr>\n",
       "      <th>...</th>\n",
       "      <td>...</td>\n",
       "      <td>...</td>\n",
       "      <td>...</td>\n",
       "      <td>...</td>\n",
       "      <td>...</td>\n",
       "    </tr>\n",
       "    <tr>\n",
       "      <th>149391</th>\n",
       "      <td>149391</td>\n",
       "      <td>1499_152</td>\n",
       "      <td>318.90</td>\n",
       "      <td>2018-10-03</td>\n",
       "      <td>1499</td>\n",
       "    </tr>\n",
       "    <tr>\n",
       "      <th>149392</th>\n",
       "      <td>149392</td>\n",
       "      <td>1499_153</td>\n",
       "      <td>490.13</td>\n",
       "      <td>2018-12-14</td>\n",
       "      <td>1499</td>\n",
       "    </tr>\n",
       "    <tr>\n",
       "      <th>149393</th>\n",
       "      <td>149393</td>\n",
       "      <td>1499_154</td>\n",
       "      <td>0.00</td>\n",
       "      <td>2018-10-27</td>\n",
       "      <td>1499</td>\n",
       "    </tr>\n",
       "    <tr>\n",
       "      <th>149394</th>\n",
       "      <td>149394</td>\n",
       "      <td>1499_155</td>\n",
       "      <td>1246.32</td>\n",
       "      <td>2018-11-26</td>\n",
       "      <td>1499</td>\n",
       "    </tr>\n",
       "    <tr>\n",
       "      <th>149395</th>\n",
       "      <td>149395</td>\n",
       "      <td>1499_156</td>\n",
       "      <td>544.37</td>\n",
       "      <td>2018-10-26</td>\n",
       "      <td>1499</td>\n",
       "    </tr>\n",
       "  </tbody>\n",
       "</table>\n",
       "<p>149396 rows × 5 columns</p>\n",
       "</div>"
      ],
      "text/plain": [
       "        Unnamed: 0        id  mb_used session_date  user_id\n",
       "0                0    1000_0   112.95   2018-11-25     1000\n",
       "1                1    1000_1  1052.81   2018-09-07     1000\n",
       "2                2    1000_2  1197.26   2018-06-25     1000\n",
       "3                3    1000_3   550.27   2018-08-22     1000\n",
       "4                4    1000_4   302.56   2018-09-24     1000\n",
       "...            ...       ...      ...          ...      ...\n",
       "149391      149391  1499_152   318.90   2018-10-03     1499\n",
       "149392      149392  1499_153   490.13   2018-12-14     1499\n",
       "149393      149393  1499_154     0.00   2018-10-27     1499\n",
       "149394      149394  1499_155  1246.32   2018-11-26     1499\n",
       "149395      149395  1499_156   544.37   2018-10-26     1499\n",
       "\n",
       "[149396 rows x 5 columns]"
      ]
     },
     "execution_count": 6,
     "metadata": {},
     "output_type": "execute_result"
    }
   ],
   "source": [
    "internet_df"
   ]
  },
  {
   "cell_type": "markdown",
   "metadata": {},
   "source": [
    "В данной колонке хранятся дубли индексов таблицы, от которых мы можем избавиться."
   ]
  },
  {
   "cell_type": "code",
   "execution_count": 7,
   "metadata": {},
   "outputs": [],
   "source": [
    "# Удалим колонку 'Unnamed: 0' из таблицы 'internet_df'\n",
    "internet_df.drop(columns='Unnamed: 0', inplace=True)"
   ]
  },
  {
   "cell_type": "markdown",
   "metadata": {},
   "source": [
    "## Изменение типов данных"
   ]
  },
  {
   "cell_type": "markdown",
   "metadata": {},
   "source": [
    "Приведем типы данных в таблицах к корректным: для идентификаторов используем формат `int`, для дат используем формат `DateType`, а для стоимостных значений - формат `float`."
   ]
  },
  {
   "cell_type": "code",
   "execution_count": 8,
   "metadata": {},
   "outputs": [
    {
     "data": {
      "text/html": [
       "<div>\n",
       "<style scoped>\n",
       "    .dataframe tbody tr th:only-of-type {\n",
       "        vertical-align: middle;\n",
       "    }\n",
       "\n",
       "    .dataframe tbody tr th {\n",
       "        vertical-align: top;\n",
       "    }\n",
       "\n",
       "    .dataframe thead th {\n",
       "        text-align: right;\n",
       "    }\n",
       "</style>\n",
       "<table border=\"1\" class=\"dataframe\">\n",
       "  <thead>\n",
       "    <tr style=\"text-align: right;\">\n",
       "      <th></th>\n",
       "      <th>id</th>\n",
       "      <th>call_date</th>\n",
       "      <th>duration</th>\n",
       "      <th>user_id</th>\n",
       "    </tr>\n",
       "  </thead>\n",
       "  <tbody>\n",
       "    <tr>\n",
       "      <th>0</th>\n",
       "      <td>1000_0</td>\n",
       "      <td>2018-07-25</td>\n",
       "      <td>0.00</td>\n",
       "      <td>1000</td>\n",
       "    </tr>\n",
       "    <tr>\n",
       "      <th>1</th>\n",
       "      <td>1000_1</td>\n",
       "      <td>2018-08-17</td>\n",
       "      <td>0.00</td>\n",
       "      <td>1000</td>\n",
       "    </tr>\n",
       "    <tr>\n",
       "      <th>2</th>\n",
       "      <td>1000_2</td>\n",
       "      <td>2018-06-11</td>\n",
       "      <td>2.85</td>\n",
       "      <td>1000</td>\n",
       "    </tr>\n",
       "    <tr>\n",
       "      <th>3</th>\n",
       "      <td>1000_3</td>\n",
       "      <td>2018-09-21</td>\n",
       "      <td>13.80</td>\n",
       "      <td>1000</td>\n",
       "    </tr>\n",
       "    <tr>\n",
       "      <th>4</th>\n",
       "      <td>1000_4</td>\n",
       "      <td>2018-12-15</td>\n",
       "      <td>5.18</td>\n",
       "      <td>1000</td>\n",
       "    </tr>\n",
       "    <tr>\n",
       "      <th>...</th>\n",
       "      <td>...</td>\n",
       "      <td>...</td>\n",
       "      <td>...</td>\n",
       "      <td>...</td>\n",
       "    </tr>\n",
       "    <tr>\n",
       "      <th>202602</th>\n",
       "      <td>1499_215</td>\n",
       "      <td>2018-12-26</td>\n",
       "      <td>0.76</td>\n",
       "      <td>1499</td>\n",
       "    </tr>\n",
       "    <tr>\n",
       "      <th>202603</th>\n",
       "      <td>1499_216</td>\n",
       "      <td>2018-10-18</td>\n",
       "      <td>18.83</td>\n",
       "      <td>1499</td>\n",
       "    </tr>\n",
       "    <tr>\n",
       "      <th>202604</th>\n",
       "      <td>1499_217</td>\n",
       "      <td>2018-11-10</td>\n",
       "      <td>10.81</td>\n",
       "      <td>1499</td>\n",
       "    </tr>\n",
       "    <tr>\n",
       "      <th>202605</th>\n",
       "      <td>1499_218</td>\n",
       "      <td>2018-10-06</td>\n",
       "      <td>4.27</td>\n",
       "      <td>1499</td>\n",
       "    </tr>\n",
       "    <tr>\n",
       "      <th>202606</th>\n",
       "      <td>1499_219</td>\n",
       "      <td>2018-12-14</td>\n",
       "      <td>19.62</td>\n",
       "      <td>1499</td>\n",
       "    </tr>\n",
       "  </tbody>\n",
       "</table>\n",
       "<p>202607 rows × 4 columns</p>\n",
       "</div>"
      ],
      "text/plain": [
       "              id   call_date  duration  user_id\n",
       "0         1000_0  2018-07-25      0.00     1000\n",
       "1         1000_1  2018-08-17      0.00     1000\n",
       "2         1000_2  2018-06-11      2.85     1000\n",
       "3         1000_3  2018-09-21     13.80     1000\n",
       "4         1000_4  2018-12-15      5.18     1000\n",
       "...          ...         ...       ...      ...\n",
       "202602  1499_215  2018-12-26      0.76     1499\n",
       "202603  1499_216  2018-10-18     18.83     1499\n",
       "202604  1499_217  2018-11-10     10.81     1499\n",
       "202605  1499_218  2018-10-06      4.27     1499\n",
       "202606  1499_219  2018-12-14     19.62     1499\n",
       "\n",
       "[202607 rows x 4 columns]"
      ]
     },
     "execution_count": 8,
     "metadata": {},
     "output_type": "execute_result"
    }
   ],
   "source": [
    "# Изучим значения таблицы `calls_df`\n",
    "calls_df"
   ]
  },
  {
   "cell_type": "markdown",
   "metadata": {},
   "source": [
    "В данной таблице у нас имеется `id`, который состоит из объединения двух строк, поэтому в данном случае нет необходимости менять формат, т.к. в данноом случае идентификатор является строчным значением."
   ]
  },
  {
   "cell_type": "code",
   "execution_count": 9,
   "metadata": {},
   "outputs": [],
   "source": [
    "# Преобразуем формат колонки `call_date` на формат DateTime\n",
    "calls_df['call_date'] = pd.to_datetime(calls_df['call_date'], format='%Y-%m-%d')"
   ]
  },
  {
   "cell_type": "code",
   "execution_count": 10,
   "metadata": {},
   "outputs": [
    {
     "data": {
      "text/html": [
       "<div>\n",
       "<style scoped>\n",
       "    .dataframe tbody tr th:only-of-type {\n",
       "        vertical-align: middle;\n",
       "    }\n",
       "\n",
       "    .dataframe tbody tr th {\n",
       "        vertical-align: top;\n",
       "    }\n",
       "\n",
       "    .dataframe thead th {\n",
       "        text-align: right;\n",
       "    }\n",
       "</style>\n",
       "<table border=\"1\" class=\"dataframe\">\n",
       "  <thead>\n",
       "    <tr style=\"text-align: right;\">\n",
       "      <th></th>\n",
       "      <th>id</th>\n",
       "      <th>mb_used</th>\n",
       "      <th>session_date</th>\n",
       "      <th>user_id</th>\n",
       "    </tr>\n",
       "  </thead>\n",
       "  <tbody>\n",
       "    <tr>\n",
       "      <th>0</th>\n",
       "      <td>1000_0</td>\n",
       "      <td>112.95</td>\n",
       "      <td>2018-11-25</td>\n",
       "      <td>1000</td>\n",
       "    </tr>\n",
       "    <tr>\n",
       "      <th>1</th>\n",
       "      <td>1000_1</td>\n",
       "      <td>1052.81</td>\n",
       "      <td>2018-09-07</td>\n",
       "      <td>1000</td>\n",
       "    </tr>\n",
       "    <tr>\n",
       "      <th>2</th>\n",
       "      <td>1000_2</td>\n",
       "      <td>1197.26</td>\n",
       "      <td>2018-06-25</td>\n",
       "      <td>1000</td>\n",
       "    </tr>\n",
       "    <tr>\n",
       "      <th>3</th>\n",
       "      <td>1000_3</td>\n",
       "      <td>550.27</td>\n",
       "      <td>2018-08-22</td>\n",
       "      <td>1000</td>\n",
       "    </tr>\n",
       "    <tr>\n",
       "      <th>4</th>\n",
       "      <td>1000_4</td>\n",
       "      <td>302.56</td>\n",
       "      <td>2018-09-24</td>\n",
       "      <td>1000</td>\n",
       "    </tr>\n",
       "    <tr>\n",
       "      <th>...</th>\n",
       "      <td>...</td>\n",
       "      <td>...</td>\n",
       "      <td>...</td>\n",
       "      <td>...</td>\n",
       "    </tr>\n",
       "    <tr>\n",
       "      <th>149391</th>\n",
       "      <td>1499_152</td>\n",
       "      <td>318.90</td>\n",
       "      <td>2018-10-03</td>\n",
       "      <td>1499</td>\n",
       "    </tr>\n",
       "    <tr>\n",
       "      <th>149392</th>\n",
       "      <td>1499_153</td>\n",
       "      <td>490.13</td>\n",
       "      <td>2018-12-14</td>\n",
       "      <td>1499</td>\n",
       "    </tr>\n",
       "    <tr>\n",
       "      <th>149393</th>\n",
       "      <td>1499_154</td>\n",
       "      <td>0.00</td>\n",
       "      <td>2018-10-27</td>\n",
       "      <td>1499</td>\n",
       "    </tr>\n",
       "    <tr>\n",
       "      <th>149394</th>\n",
       "      <td>1499_155</td>\n",
       "      <td>1246.32</td>\n",
       "      <td>2018-11-26</td>\n",
       "      <td>1499</td>\n",
       "    </tr>\n",
       "    <tr>\n",
       "      <th>149395</th>\n",
       "      <td>1499_156</td>\n",
       "      <td>544.37</td>\n",
       "      <td>2018-10-26</td>\n",
       "      <td>1499</td>\n",
       "    </tr>\n",
       "  </tbody>\n",
       "</table>\n",
       "<p>149396 rows × 4 columns</p>\n",
       "</div>"
      ],
      "text/plain": [
       "              id  mb_used session_date  user_id\n",
       "0         1000_0   112.95   2018-11-25     1000\n",
       "1         1000_1  1052.81   2018-09-07     1000\n",
       "2         1000_2  1197.26   2018-06-25     1000\n",
       "3         1000_3   550.27   2018-08-22     1000\n",
       "4         1000_4   302.56   2018-09-24     1000\n",
       "...          ...      ...          ...      ...\n",
       "149391  1499_152   318.90   2018-10-03     1499\n",
       "149392  1499_153   490.13   2018-12-14     1499\n",
       "149393  1499_154     0.00   2018-10-27     1499\n",
       "149394  1499_155  1246.32   2018-11-26     1499\n",
       "149395  1499_156   544.37   2018-10-26     1499\n",
       "\n",
       "[149396 rows x 4 columns]"
      ]
     },
     "execution_count": 10,
     "metadata": {},
     "output_type": "execute_result"
    }
   ],
   "source": [
    "internet_df"
   ]
  },
  {
   "cell_type": "code",
   "execution_count": 11,
   "metadata": {},
   "outputs": [],
   "source": [
    "# Преобразуем формат колонки `session_date` на формат DateTime\n",
    "internet_df['session_date'] = pd.to_datetime(internet_df['session_date'], format='%Y-%m-%d')"
   ]
  },
  {
   "cell_type": "code",
   "execution_count": 12,
   "metadata": {},
   "outputs": [
    {
     "data": {
      "text/html": [
       "<div>\n",
       "<style scoped>\n",
       "    .dataframe tbody tr th:only-of-type {\n",
       "        vertical-align: middle;\n",
       "    }\n",
       "\n",
       "    .dataframe tbody tr th {\n",
       "        vertical-align: top;\n",
       "    }\n",
       "\n",
       "    .dataframe thead th {\n",
       "        text-align: right;\n",
       "    }\n",
       "</style>\n",
       "<table border=\"1\" class=\"dataframe\">\n",
       "  <thead>\n",
       "    <tr style=\"text-align: right;\">\n",
       "      <th></th>\n",
       "      <th>id</th>\n",
       "      <th>message_date</th>\n",
       "      <th>user_id</th>\n",
       "    </tr>\n",
       "  </thead>\n",
       "  <tbody>\n",
       "    <tr>\n",
       "      <th>0</th>\n",
       "      <td>1000_0</td>\n",
       "      <td>2018-06-27</td>\n",
       "      <td>1000</td>\n",
       "    </tr>\n",
       "    <tr>\n",
       "      <th>1</th>\n",
       "      <td>1000_1</td>\n",
       "      <td>2018-10-08</td>\n",
       "      <td>1000</td>\n",
       "    </tr>\n",
       "    <tr>\n",
       "      <th>2</th>\n",
       "      <td>1000_2</td>\n",
       "      <td>2018-08-04</td>\n",
       "      <td>1000</td>\n",
       "    </tr>\n",
       "    <tr>\n",
       "      <th>3</th>\n",
       "      <td>1000_3</td>\n",
       "      <td>2018-06-16</td>\n",
       "      <td>1000</td>\n",
       "    </tr>\n",
       "    <tr>\n",
       "      <th>4</th>\n",
       "      <td>1000_4</td>\n",
       "      <td>2018-12-05</td>\n",
       "      <td>1000</td>\n",
       "    </tr>\n",
       "    <tr>\n",
       "      <th>...</th>\n",
       "      <td>...</td>\n",
       "      <td>...</td>\n",
       "      <td>...</td>\n",
       "    </tr>\n",
       "    <tr>\n",
       "      <th>123031</th>\n",
       "      <td>1499_179</td>\n",
       "      <td>2018-12-12</td>\n",
       "      <td>1499</td>\n",
       "    </tr>\n",
       "    <tr>\n",
       "      <th>123032</th>\n",
       "      <td>1499_180</td>\n",
       "      <td>2018-09-28</td>\n",
       "      <td>1499</td>\n",
       "    </tr>\n",
       "    <tr>\n",
       "      <th>123033</th>\n",
       "      <td>1499_181</td>\n",
       "      <td>2018-09-27</td>\n",
       "      <td>1499</td>\n",
       "    </tr>\n",
       "    <tr>\n",
       "      <th>123034</th>\n",
       "      <td>1499_182</td>\n",
       "      <td>2018-11-15</td>\n",
       "      <td>1499</td>\n",
       "    </tr>\n",
       "    <tr>\n",
       "      <th>123035</th>\n",
       "      <td>1499_183</td>\n",
       "      <td>2018-11-16</td>\n",
       "      <td>1499</td>\n",
       "    </tr>\n",
       "  </tbody>\n",
       "</table>\n",
       "<p>123036 rows × 3 columns</p>\n",
       "</div>"
      ],
      "text/plain": [
       "              id message_date  user_id\n",
       "0         1000_0   2018-06-27     1000\n",
       "1         1000_1   2018-10-08     1000\n",
       "2         1000_2   2018-08-04     1000\n",
       "3         1000_3   2018-06-16     1000\n",
       "4         1000_4   2018-12-05     1000\n",
       "...          ...          ...      ...\n",
       "123031  1499_179   2018-12-12     1499\n",
       "123032  1499_180   2018-09-28     1499\n",
       "123033  1499_181   2018-09-27     1499\n",
       "123034  1499_182   2018-11-15     1499\n",
       "123035  1499_183   2018-11-16     1499\n",
       "\n",
       "[123036 rows x 3 columns]"
      ]
     },
     "execution_count": 12,
     "metadata": {},
     "output_type": "execute_result"
    }
   ],
   "source": [
    "messages_df"
   ]
  },
  {
   "cell_type": "code",
   "execution_count": 13,
   "metadata": {},
   "outputs": [],
   "source": [
    "# Преобразуем формат колонки `message_date` на формат DateTime\n",
    "messages_df['message_date'] = pd.to_datetime(messages_df['message_date'], format='%Y-%m-%d')"
   ]
  },
  {
   "cell_type": "code",
   "execution_count": 14,
   "metadata": {},
   "outputs": [
    {
     "data": {
      "text/html": [
       "<div>\n",
       "<style scoped>\n",
       "    .dataframe tbody tr th:only-of-type {\n",
       "        vertical-align: middle;\n",
       "    }\n",
       "\n",
       "    .dataframe tbody tr th {\n",
       "        vertical-align: top;\n",
       "    }\n",
       "\n",
       "    .dataframe thead th {\n",
       "        text-align: right;\n",
       "    }\n",
       "</style>\n",
       "<table border=\"1\" class=\"dataframe\">\n",
       "  <thead>\n",
       "    <tr style=\"text-align: right;\">\n",
       "      <th></th>\n",
       "      <th>messages_included</th>\n",
       "      <th>mb_per_month_included</th>\n",
       "      <th>minutes_included</th>\n",
       "      <th>rub_monthly_fee</th>\n",
       "      <th>rub_per_gb</th>\n",
       "      <th>rub_per_message</th>\n",
       "      <th>rub_per_minute</th>\n",
       "      <th>tariff_name</th>\n",
       "    </tr>\n",
       "  </thead>\n",
       "  <tbody>\n",
       "    <tr>\n",
       "      <th>0</th>\n",
       "      <td>50</td>\n",
       "      <td>15360</td>\n",
       "      <td>500</td>\n",
       "      <td>550</td>\n",
       "      <td>200</td>\n",
       "      <td>3</td>\n",
       "      <td>3</td>\n",
       "      <td>smart</td>\n",
       "    </tr>\n",
       "    <tr>\n",
       "      <th>1</th>\n",
       "      <td>1000</td>\n",
       "      <td>30720</td>\n",
       "      <td>3000</td>\n",
       "      <td>1950</td>\n",
       "      <td>150</td>\n",
       "      <td>1</td>\n",
       "      <td>1</td>\n",
       "      <td>ultra</td>\n",
       "    </tr>\n",
       "  </tbody>\n",
       "</table>\n",
       "</div>"
      ],
      "text/plain": [
       "   messages_included  mb_per_month_included  minutes_included  \\\n",
       "0                 50                  15360               500   \n",
       "1               1000                  30720              3000   \n",
       "\n",
       "   rub_monthly_fee  rub_per_gb  rub_per_message  rub_per_minute tariff_name  \n",
       "0              550         200                3               3       smart  \n",
       "1             1950         150                1               1       ultra  "
      ]
     },
     "execution_count": 14,
     "metadata": {},
     "output_type": "execute_result"
    }
   ],
   "source": [
    "tariffs_df"
   ]
  },
  {
   "cell_type": "code",
   "execution_count": 15,
   "metadata": {},
   "outputs": [
    {
     "data": {
      "text/html": [
       "<div>\n",
       "<style scoped>\n",
       "    .dataframe tbody tr th:only-of-type {\n",
       "        vertical-align: middle;\n",
       "    }\n",
       "\n",
       "    .dataframe tbody tr th {\n",
       "        vertical-align: top;\n",
       "    }\n",
       "\n",
       "    .dataframe thead th {\n",
       "        text-align: right;\n",
       "    }\n",
       "</style>\n",
       "<table border=\"1\" class=\"dataframe\">\n",
       "  <thead>\n",
       "    <tr style=\"text-align: right;\">\n",
       "      <th></th>\n",
       "      <th>user_id</th>\n",
       "      <th>age</th>\n",
       "      <th>churn_date</th>\n",
       "      <th>city</th>\n",
       "      <th>first_name</th>\n",
       "      <th>last_name</th>\n",
       "      <th>reg_date</th>\n",
       "      <th>tariff</th>\n",
       "    </tr>\n",
       "  </thead>\n",
       "  <tbody>\n",
       "    <tr>\n",
       "      <th>0</th>\n",
       "      <td>1000</td>\n",
       "      <td>52</td>\n",
       "      <td>NaN</td>\n",
       "      <td>Краснодар</td>\n",
       "      <td>Рафаил</td>\n",
       "      <td>Верещагин</td>\n",
       "      <td>2018-05-25</td>\n",
       "      <td>ultra</td>\n",
       "    </tr>\n",
       "    <tr>\n",
       "      <th>1</th>\n",
       "      <td>1001</td>\n",
       "      <td>41</td>\n",
       "      <td>NaN</td>\n",
       "      <td>Москва</td>\n",
       "      <td>Иван</td>\n",
       "      <td>Ежов</td>\n",
       "      <td>2018-11-01</td>\n",
       "      <td>smart</td>\n",
       "    </tr>\n",
       "    <tr>\n",
       "      <th>2</th>\n",
       "      <td>1002</td>\n",
       "      <td>59</td>\n",
       "      <td>NaN</td>\n",
       "      <td>Стерлитамак</td>\n",
       "      <td>Евгений</td>\n",
       "      <td>Абрамович</td>\n",
       "      <td>2018-06-17</td>\n",
       "      <td>smart</td>\n",
       "    </tr>\n",
       "    <tr>\n",
       "      <th>3</th>\n",
       "      <td>1003</td>\n",
       "      <td>23</td>\n",
       "      <td>NaN</td>\n",
       "      <td>Москва</td>\n",
       "      <td>Белла</td>\n",
       "      <td>Белякова</td>\n",
       "      <td>2018-08-17</td>\n",
       "      <td>ultra</td>\n",
       "    </tr>\n",
       "    <tr>\n",
       "      <th>4</th>\n",
       "      <td>1004</td>\n",
       "      <td>68</td>\n",
       "      <td>NaN</td>\n",
       "      <td>Новокузнецк</td>\n",
       "      <td>Татьяна</td>\n",
       "      <td>Авдеенко</td>\n",
       "      <td>2018-05-14</td>\n",
       "      <td>ultra</td>\n",
       "    </tr>\n",
       "    <tr>\n",
       "      <th>...</th>\n",
       "      <td>...</td>\n",
       "      <td>...</td>\n",
       "      <td>...</td>\n",
       "      <td>...</td>\n",
       "      <td>...</td>\n",
       "      <td>...</td>\n",
       "      <td>...</td>\n",
       "      <td>...</td>\n",
       "    </tr>\n",
       "    <tr>\n",
       "      <th>495</th>\n",
       "      <td>1495</td>\n",
       "      <td>65</td>\n",
       "      <td>NaN</td>\n",
       "      <td>Иркутск</td>\n",
       "      <td>Авксентий</td>\n",
       "      <td>Фокин</td>\n",
       "      <td>2018-08-28</td>\n",
       "      <td>ultra</td>\n",
       "    </tr>\n",
       "    <tr>\n",
       "      <th>496</th>\n",
       "      <td>1496</td>\n",
       "      <td>36</td>\n",
       "      <td>NaN</td>\n",
       "      <td>Вологда</td>\n",
       "      <td>Трифон</td>\n",
       "      <td>Блохин</td>\n",
       "      <td>2018-01-27</td>\n",
       "      <td>smart</td>\n",
       "    </tr>\n",
       "    <tr>\n",
       "      <th>497</th>\n",
       "      <td>1497</td>\n",
       "      <td>32</td>\n",
       "      <td>NaN</td>\n",
       "      <td>Челябинск</td>\n",
       "      <td>Каролина</td>\n",
       "      <td>Агеева</td>\n",
       "      <td>2018-10-09</td>\n",
       "      <td>smart</td>\n",
       "    </tr>\n",
       "    <tr>\n",
       "      <th>498</th>\n",
       "      <td>1498</td>\n",
       "      <td>68</td>\n",
       "      <td>2018-10-25</td>\n",
       "      <td>Владикавказ</td>\n",
       "      <td>Всеволод</td>\n",
       "      <td>Акимчин</td>\n",
       "      <td>2018-07-19</td>\n",
       "      <td>smart</td>\n",
       "    </tr>\n",
       "    <tr>\n",
       "      <th>499</th>\n",
       "      <td>1499</td>\n",
       "      <td>35</td>\n",
       "      <td>NaN</td>\n",
       "      <td>Пермь</td>\n",
       "      <td>Гектор</td>\n",
       "      <td>Корнилов</td>\n",
       "      <td>2018-09-27</td>\n",
       "      <td>smart</td>\n",
       "    </tr>\n",
       "  </tbody>\n",
       "</table>\n",
       "<p>500 rows × 8 columns</p>\n",
       "</div>"
      ],
      "text/plain": [
       "     user_id  age  churn_date         city first_name  last_name    reg_date  \\\n",
       "0       1000   52         NaN    Краснодар     Рафаил  Верещагин  2018-05-25   \n",
       "1       1001   41         NaN       Москва       Иван       Ежов  2018-11-01   \n",
       "2       1002   59         NaN  Стерлитамак    Евгений  Абрамович  2018-06-17   \n",
       "3       1003   23         NaN       Москва      Белла   Белякова  2018-08-17   \n",
       "4       1004   68         NaN  Новокузнецк    Татьяна   Авдеенко  2018-05-14   \n",
       "..       ...  ...         ...          ...        ...        ...         ...   \n",
       "495     1495   65         NaN      Иркутск  Авксентий      Фокин  2018-08-28   \n",
       "496     1496   36         NaN      Вологда     Трифон     Блохин  2018-01-27   \n",
       "497     1497   32         NaN    Челябинск   Каролина     Агеева  2018-10-09   \n",
       "498     1498   68  2018-10-25  Владикавказ   Всеволод    Акимчин  2018-07-19   \n",
       "499     1499   35         NaN        Пермь     Гектор   Корнилов  2018-09-27   \n",
       "\n",
       "    tariff  \n",
       "0    ultra  \n",
       "1    smart  \n",
       "2    smart  \n",
       "3    ultra  \n",
       "4    ultra  \n",
       "..     ...  \n",
       "495  ultra  \n",
       "496  smart  \n",
       "497  smart  \n",
       "498  smart  \n",
       "499  smart  \n",
       "\n",
       "[500 rows x 8 columns]"
      ]
     },
     "execution_count": 15,
     "metadata": {},
     "output_type": "execute_result"
    }
   ],
   "source": [
    "users_df"
   ]
  },
  {
   "cell_type": "code",
   "execution_count": 16,
   "metadata": {},
   "outputs": [],
   "source": [
    "# Преобразуем формат колонки `churn_date` на формат DateTime\n",
    "users_df['churn_date'] = pd.to_datetime(users_df['churn_date'], format='%Y-%m-%d')"
   ]
  },
  {
   "cell_type": "code",
   "execution_count": 17,
   "metadata": {},
   "outputs": [],
   "source": [
    "# Преобразуем формат колонки `reg_date` на формат DateTime\n",
    "users_df['reg_date'] = pd.to_datetime(users_df['reg_date'], format='%Y-%m-%d')"
   ]
  },
  {
   "cell_type": "markdown",
   "metadata": {},
   "source": [
    "## Обработка дублей"
   ]
  },
  {
   "cell_type": "markdown",
   "metadata": {},
   "source": [
    "Пройдемся по имеющимся таблицам и выведем количество явных дублей в каждой из них."
   ]
  },
  {
   "cell_type": "code",
   "execution_count": 18,
   "metadata": {},
   "outputs": [
    {
     "name": "stdout",
     "output_type": "stream",
     "text": [
      "False    202607\n",
      "dtype: int64\n",
      "\n",
      "False    149396\n",
      "dtype: int64\n",
      "\n",
      "False    123036\n",
      "dtype: int64\n",
      "\n",
      "False    2\n",
      "dtype: int64\n",
      "\n",
      "False    500\n",
      "dtype: int64\n",
      "\n"
     ]
    }
   ],
   "source": [
    "for df in df_titles:\n",
    "    print(df.duplicated().value_counts())\n",
    "    print()"
   ]
  },
  {
   "cell_type": "markdown",
   "metadata": {},
   "source": [
    "Явных дублей в таблице не найдено. Изучим таблицы на возможное наличие неявных дублей."
   ]
  },
  {
   "cell_type": "markdown",
   "metadata": {},
   "source": [
    "В таблице `users_df` в колонке `tariff` проверим нет ли опечаток."
   ]
  },
  {
   "cell_type": "code",
   "execution_count": 19,
   "metadata": {},
   "outputs": [
    {
     "data": {
      "text/plain": [
       "smart    351\n",
       "ultra    149\n",
       "Name: tariff, dtype: int64"
      ]
     },
     "execution_count": 19,
     "metadata": {},
     "output_type": "execute_result"
    }
   ],
   "source": [
    "users_df['tariff'].value_counts()"
   ]
  },
  {
   "cell_type": "markdown",
   "metadata": {},
   "source": [
    "Данная колонка является единственной, опечатки в которой могли привести к неявным дублям, но опечаток в значениях не оказалось."
   ]
  },
  {
   "cell_type": "markdown",
   "metadata": {},
   "source": [
    "## Исследовательский анализ данных"
   ]
  },
  {
   "cell_type": "markdown",
   "metadata": {},
   "source": [
    "Проведем исследовательский анализ и изучим, имеющиеся данные."
   ]
  },
  {
   "cell_type": "code",
   "execution_count": 20,
   "metadata": {},
   "outputs": [
    {
     "data": {
      "text/html": [
       "<div>\n",
       "<style scoped>\n",
       "    .dataframe tbody tr th:only-of-type {\n",
       "        vertical-align: middle;\n",
       "    }\n",
       "\n",
       "    .dataframe tbody tr th {\n",
       "        vertical-align: top;\n",
       "    }\n",
       "\n",
       "    .dataframe thead th {\n",
       "        text-align: right;\n",
       "    }\n",
       "</style>\n",
       "<table border=\"1\" class=\"dataframe\">\n",
       "  <thead>\n",
       "    <tr style=\"text-align: right;\">\n",
       "      <th></th>\n",
       "      <th>id</th>\n",
       "      <th>call_date</th>\n",
       "      <th>duration</th>\n",
       "      <th>user_id</th>\n",
       "    </tr>\n",
       "  </thead>\n",
       "  <tbody>\n",
       "    <tr>\n",
       "      <th>0</th>\n",
       "      <td>1000_0</td>\n",
       "      <td>2018-07-25</td>\n",
       "      <td>0.00</td>\n",
       "      <td>1000</td>\n",
       "    </tr>\n",
       "    <tr>\n",
       "      <th>1</th>\n",
       "      <td>1000_1</td>\n",
       "      <td>2018-08-17</td>\n",
       "      <td>0.00</td>\n",
       "      <td>1000</td>\n",
       "    </tr>\n",
       "    <tr>\n",
       "      <th>2</th>\n",
       "      <td>1000_2</td>\n",
       "      <td>2018-06-11</td>\n",
       "      <td>2.85</td>\n",
       "      <td>1000</td>\n",
       "    </tr>\n",
       "    <tr>\n",
       "      <th>3</th>\n",
       "      <td>1000_3</td>\n",
       "      <td>2018-09-21</td>\n",
       "      <td>13.80</td>\n",
       "      <td>1000</td>\n",
       "    </tr>\n",
       "    <tr>\n",
       "      <th>4</th>\n",
       "      <td>1000_4</td>\n",
       "      <td>2018-12-15</td>\n",
       "      <td>5.18</td>\n",
       "      <td>1000</td>\n",
       "    </tr>\n",
       "    <tr>\n",
       "      <th>...</th>\n",
       "      <td>...</td>\n",
       "      <td>...</td>\n",
       "      <td>...</td>\n",
       "      <td>...</td>\n",
       "    </tr>\n",
       "    <tr>\n",
       "      <th>202602</th>\n",
       "      <td>1499_215</td>\n",
       "      <td>2018-12-26</td>\n",
       "      <td>0.76</td>\n",
       "      <td>1499</td>\n",
       "    </tr>\n",
       "    <tr>\n",
       "      <th>202603</th>\n",
       "      <td>1499_216</td>\n",
       "      <td>2018-10-18</td>\n",
       "      <td>18.83</td>\n",
       "      <td>1499</td>\n",
       "    </tr>\n",
       "    <tr>\n",
       "      <th>202604</th>\n",
       "      <td>1499_217</td>\n",
       "      <td>2018-11-10</td>\n",
       "      <td>10.81</td>\n",
       "      <td>1499</td>\n",
       "    </tr>\n",
       "    <tr>\n",
       "      <th>202605</th>\n",
       "      <td>1499_218</td>\n",
       "      <td>2018-10-06</td>\n",
       "      <td>4.27</td>\n",
       "      <td>1499</td>\n",
       "    </tr>\n",
       "    <tr>\n",
       "      <th>202606</th>\n",
       "      <td>1499_219</td>\n",
       "      <td>2018-12-14</td>\n",
       "      <td>19.62</td>\n",
       "      <td>1499</td>\n",
       "    </tr>\n",
       "  </tbody>\n",
       "</table>\n",
       "<p>202607 rows × 4 columns</p>\n",
       "</div>"
      ],
      "text/plain": [
       "              id  call_date  duration  user_id\n",
       "0         1000_0 2018-07-25      0.00     1000\n",
       "1         1000_1 2018-08-17      0.00     1000\n",
       "2         1000_2 2018-06-11      2.85     1000\n",
       "3         1000_3 2018-09-21     13.80     1000\n",
       "4         1000_4 2018-12-15      5.18     1000\n",
       "...          ...        ...       ...      ...\n",
       "202602  1499_215 2018-12-26      0.76     1499\n",
       "202603  1499_216 2018-10-18     18.83     1499\n",
       "202604  1499_217 2018-11-10     10.81     1499\n",
       "202605  1499_218 2018-10-06      4.27     1499\n",
       "202606  1499_219 2018-12-14     19.62     1499\n",
       "\n",
       "[202607 rows x 4 columns]"
      ]
     },
     "execution_count": 20,
     "metadata": {},
     "output_type": "execute_result"
    }
   ],
   "source": [
    "# Изучим таблицу `calls_df`\n",
    "calls_df"
   ]
  },
  {
   "cell_type": "code",
   "execution_count": 21,
   "metadata": {},
   "outputs": [
    {
     "data": {
      "image/png": "[encoded data removed]",
      "text/plain": [
       "<Figure size 1000x500 with 1 Axes>"
      ]
     },
     "metadata": {},
     "output_type": "display_data"
    }
   ],
   "source": [
    "# Построим гистограмму для длительности звонков\n",
    "calls_df['duration'].hist(bins=15, figsize=(10,5))\n",
    "plt.show()"
   ]
  },
  {
   "cell_type": "markdown",
   "metadata": {},
   "source": [
    "На гистограмме виден большой всплеск в области 0 минут. В исходных данных было дано, что продолжительность в 0 минут обозначает пропущенные звонки. Построим гистограмму без пропущенных звонков."
   ]
  },
  {
   "cell_type": "code",
   "execution_count": 22,
   "metadata": {},
   "outputs": [
    {
     "data": {
      "image/png": "[encoded data removed]",
      "text/plain": [
       "<Figure size 1000x500 with 1 Axes>"
      ]
     },
     "metadata": {},
     "output_type": "display_data"
    }
   ],
   "source": [
    "# Отфильтруем пропущенные звонки и построим гистограмму\n",
    "calls_df.query(\"duration > 0\")['duration'].hist(bins=25, figsize=(10,5))\n",
    "plt.show()"
   ]
  },
  {
   "cell_type": "markdown",
   "metadata": {},
   "source": [
    "После фильтрации мы получаем распределение продолжительности звонков близкое к нормальному с перекосом в правую сторону, что указывает  на относительно небольшую продолжительность звонков среди абонентов. Звонки длительностью более 30 минут пркатически отсутствуют."
   ]
  },
  {
   "cell_type": "code",
   "execution_count": 23,
   "metadata": {},
   "outputs": [
    {
     "data": {
      "text/html": [
       "<div>\n",
       "<style scoped>\n",
       "    .dataframe tbody tr th:only-of-type {\n",
       "        vertical-align: middle;\n",
       "    }\n",
       "\n",
       "    .dataframe tbody tr th {\n",
       "        vertical-align: top;\n",
       "    }\n",
       "\n",
       "    .dataframe thead th {\n",
       "        text-align: right;\n",
       "    }\n",
       "</style>\n",
       "<table border=\"1\" class=\"dataframe\">\n",
       "  <thead>\n",
       "    <tr style=\"text-align: right;\">\n",
       "      <th></th>\n",
       "      <th>id</th>\n",
       "      <th>mb_used</th>\n",
       "      <th>session_date</th>\n",
       "      <th>user_id</th>\n",
       "    </tr>\n",
       "  </thead>\n",
       "  <tbody>\n",
       "    <tr>\n",
       "      <th>0</th>\n",
       "      <td>1000_0</td>\n",
       "      <td>112.95</td>\n",
       "      <td>2018-11-25</td>\n",
       "      <td>1000</td>\n",
       "    </tr>\n",
       "    <tr>\n",
       "      <th>1</th>\n",
       "      <td>1000_1</td>\n",
       "      <td>1052.81</td>\n",
       "      <td>2018-09-07</td>\n",
       "      <td>1000</td>\n",
       "    </tr>\n",
       "    <tr>\n",
       "      <th>2</th>\n",
       "      <td>1000_2</td>\n",
       "      <td>1197.26</td>\n",
       "      <td>2018-06-25</td>\n",
       "      <td>1000</td>\n",
       "    </tr>\n",
       "    <tr>\n",
       "      <th>3</th>\n",
       "      <td>1000_3</td>\n",
       "      <td>550.27</td>\n",
       "      <td>2018-08-22</td>\n",
       "      <td>1000</td>\n",
       "    </tr>\n",
       "    <tr>\n",
       "      <th>4</th>\n",
       "      <td>1000_4</td>\n",
       "      <td>302.56</td>\n",
       "      <td>2018-09-24</td>\n",
       "      <td>1000</td>\n",
       "    </tr>\n",
       "    <tr>\n",
       "      <th>...</th>\n",
       "      <td>...</td>\n",
       "      <td>...</td>\n",
       "      <td>...</td>\n",
       "      <td>...</td>\n",
       "    </tr>\n",
       "    <tr>\n",
       "      <th>149391</th>\n",
       "      <td>1499_152</td>\n",
       "      <td>318.90</td>\n",
       "      <td>2018-10-03</td>\n",
       "      <td>1499</td>\n",
       "    </tr>\n",
       "    <tr>\n",
       "      <th>149392</th>\n",
       "      <td>1499_153</td>\n",
       "      <td>490.13</td>\n",
       "      <td>2018-12-14</td>\n",
       "      <td>1499</td>\n",
       "    </tr>\n",
       "    <tr>\n",
       "      <th>149393</th>\n",
       "      <td>1499_154</td>\n",
       "      <td>0.00</td>\n",
       "      <td>2018-10-27</td>\n",
       "      <td>1499</td>\n",
       "    </tr>\n",
       "    <tr>\n",
       "      <th>149394</th>\n",
       "      <td>1499_155</td>\n",
       "      <td>1246.32</td>\n",
       "      <td>2018-11-26</td>\n",
       "      <td>1499</td>\n",
       "    </tr>\n",
       "    <tr>\n",
       "      <th>149395</th>\n",
       "      <td>1499_156</td>\n",
       "      <td>544.37</td>\n",
       "      <td>2018-10-26</td>\n",
       "      <td>1499</td>\n",
       "    </tr>\n",
       "  </tbody>\n",
       "</table>\n",
       "<p>149396 rows × 4 columns</p>\n",
       "</div>"
      ],
      "text/plain": [
       "              id  mb_used session_date  user_id\n",
       "0         1000_0   112.95   2018-11-25     1000\n",
       "1         1000_1  1052.81   2018-09-07     1000\n",
       "2         1000_2  1197.26   2018-06-25     1000\n",
       "3         1000_3   550.27   2018-08-22     1000\n",
       "4         1000_4   302.56   2018-09-24     1000\n",
       "...          ...      ...          ...      ...\n",
       "149391  1499_152   318.90   2018-10-03     1499\n",
       "149392  1499_153   490.13   2018-12-14     1499\n",
       "149393  1499_154     0.00   2018-10-27     1499\n",
       "149394  1499_155  1246.32   2018-11-26     1499\n",
       "149395  1499_156   544.37   2018-10-26     1499\n",
       "\n",
       "[149396 rows x 4 columns]"
      ]
     },
     "execution_count": 23,
     "metadata": {},
     "output_type": "execute_result"
    }
   ],
   "source": [
    "# Изучим таблицу `internet_df`\n",
    "internet_df"
   ]
  },
  {
   "cell_type": "code",
   "execution_count": 24,
   "metadata": {},
   "outputs": [
    {
     "data": {
      "image/png": "[encoded data removed]",
      "text/plain": [
       "<Figure size 640x480 with 1 Axes>"
      ]
     },
     "metadata": {},
     "output_type": "display_data"
    }
   ],
   "source": [
    "# Построим гистограмму для использованного объема трафика внутри одной сессии\n",
    "internet_df['mb_used'].hist(bins=15)\n",
    "plt.show()"
   ]
  },
  {
   "cell_type": "markdown",
   "metadata": {},
   "source": [
    "Как и в случае с продолжительностью звонков на гистограмме имеется всплеск для объема трафика в 0 мегабайт внутри одной сессии. В данном случае это выглядит подозрительным - есть созданная сессия, но отсутствует потребление траффика. Посмотрим какую долю такие значения составляют от объема всех значений."
   ]
  },
  {
   "cell_type": "code",
   "execution_count": 25,
   "metadata": {},
   "outputs": [
    {
     "name": "stdout",
     "output_type": "stream",
     "text": [
      "0.13118155773916304\n"
     ]
    }
   ],
   "source": [
    "print(internet_df.query('mb_used == 0')['id'].count() / internet_df['mb_used'].count())"
   ]
  },
  {
   "cell_type": "markdown",
   "metadata": {},
   "source": [
    "Процент достаточно высокий. Такая ситуация может быть результатом технической ошибки."
   ]
  },
  {
   "cell_type": "markdown",
   "metadata": {},
   "source": [
    "Проведем исследование корректности заполнения объема интернета. Изучим конкретного пользователя, у которого встречалось нулевое потребление трафика."
   ]
  },
  {
   "cell_type": "code",
   "execution_count": 26,
   "metadata": {},
   "outputs": [
    {
     "data": {
      "text/html": [
       "<div>\n",
       "<style scoped>\n",
       "    .dataframe tbody tr th:only-of-type {\n",
       "        vertical-align: middle;\n",
       "    }\n",
       "\n",
       "    .dataframe tbody tr th {\n",
       "        vertical-align: top;\n",
       "    }\n",
       "\n",
       "    .dataframe thead th {\n",
       "        text-align: right;\n",
       "    }\n",
       "</style>\n",
       "<table border=\"1\" class=\"dataframe\">\n",
       "  <thead>\n",
       "    <tr style=\"text-align: right;\">\n",
       "      <th></th>\n",
       "      <th>Unnamed: 0</th>\n",
       "      <th>id</th>\n",
       "      <th>mb_used</th>\n",
       "      <th>session_date</th>\n",
       "      <th>user_id</th>\n",
       "    </tr>\n",
       "  </thead>\n",
       "  <tbody>\n",
       "    <tr>\n",
       "      <th>26879</th>\n",
       "      <td>26879</td>\n",
       "      <td>1093_82</td>\n",
       "      <td>0.0</td>\n",
       "      <td>2018-12-31</td>\n",
       "      <td>1093</td>\n",
       "    </tr>\n",
       "    <tr>\n",
       "      <th>39842</th>\n",
       "      <td>39842</td>\n",
       "      <td>1140_22</td>\n",
       "      <td>0.0</td>\n",
       "      <td>2018-12-31</td>\n",
       "      <td>1140</td>\n",
       "    </tr>\n",
       "  </tbody>\n",
       "</table>\n",
       "</div>"
      ],
      "text/plain": [
       "       Unnamed: 0       id  mb_used session_date  user_id\n",
       "26879       26879  1093_82      0.0   2018-12-31     1093\n",
       "39842       39842  1140_22      0.0   2018-12-31     1140"
      ]
     },
     "execution_count": 26,
     "metadata": {},
     "output_type": "execute_result"
    }
   ],
   "source": [
    "internet = pd.read_csv('datasets/internet.csv')\n",
    "internet[internet['mb_used'] == 0].sort_values(by = 'session_date').tail(2)"
   ]
  },
  {
   "cell_type": "code",
   "execution_count": 27,
   "metadata": {},
   "outputs": [
    {
     "data": {
      "text/html": [
       "<div>\n",
       "<style scoped>\n",
       "    .dataframe tbody tr th:only-of-type {\n",
       "        vertical-align: middle;\n",
       "    }\n",
       "\n",
       "    .dataframe tbody tr th {\n",
       "        vertical-align: top;\n",
       "    }\n",
       "\n",
       "    .dataframe thead th {\n",
       "        text-align: right;\n",
       "    }\n",
       "</style>\n",
       "<table border=\"1\" class=\"dataframe\">\n",
       "  <thead>\n",
       "    <tr style=\"text-align: right;\">\n",
       "      <th></th>\n",
       "      <th>Unnamed: 0</th>\n",
       "      <th>id</th>\n",
       "      <th>mb_used</th>\n",
       "      <th>session_date</th>\n",
       "      <th>user_id</th>\n",
       "    </tr>\n",
       "  </thead>\n",
       "  <tbody>\n",
       "    <tr>\n",
       "      <th>39820</th>\n",
       "      <td>39820</td>\n",
       "      <td>1140_0</td>\n",
       "      <td>305.52</td>\n",
       "      <td>2018-12-31</td>\n",
       "      <td>1140</td>\n",
       "    </tr>\n",
       "    <tr>\n",
       "      <th>39821</th>\n",
       "      <td>39821</td>\n",
       "      <td>1140_1</td>\n",
       "      <td>465.59</td>\n",
       "      <td>2018-12-31</td>\n",
       "      <td>1140</td>\n",
       "    </tr>\n",
       "    <tr>\n",
       "      <th>39822</th>\n",
       "      <td>39822</td>\n",
       "      <td>1140_2</td>\n",
       "      <td>307.81</td>\n",
       "      <td>2018-12-31</td>\n",
       "      <td>1140</td>\n",
       "    </tr>\n",
       "    <tr>\n",
       "      <th>39823</th>\n",
       "      <td>39823</td>\n",
       "      <td>1140_3</td>\n",
       "      <td>83.10</td>\n",
       "      <td>2018-12-31</td>\n",
       "      <td>1140</td>\n",
       "    </tr>\n",
       "    <tr>\n",
       "      <th>39824</th>\n",
       "      <td>39824</td>\n",
       "      <td>1140_4</td>\n",
       "      <td>172.66</td>\n",
       "      <td>2018-12-31</td>\n",
       "      <td>1140</td>\n",
       "    </tr>\n",
       "    <tr>\n",
       "      <th>39825</th>\n",
       "      <td>39825</td>\n",
       "      <td>1140_5</td>\n",
       "      <td>0.00</td>\n",
       "      <td>2018-12-31</td>\n",
       "      <td>1140</td>\n",
       "    </tr>\n",
       "    <tr>\n",
       "      <th>39826</th>\n",
       "      <td>39826</td>\n",
       "      <td>1140_6</td>\n",
       "      <td>414.79</td>\n",
       "      <td>2018-12-31</td>\n",
       "      <td>1140</td>\n",
       "    </tr>\n",
       "    <tr>\n",
       "      <th>39827</th>\n",
       "      <td>39827</td>\n",
       "      <td>1140_7</td>\n",
       "      <td>246.29</td>\n",
       "      <td>2018-12-31</td>\n",
       "      <td>1140</td>\n",
       "    </tr>\n",
       "    <tr>\n",
       "      <th>39828</th>\n",
       "      <td>39828</td>\n",
       "      <td>1140_8</td>\n",
       "      <td>116.42</td>\n",
       "      <td>2018-12-31</td>\n",
       "      <td>1140</td>\n",
       "    </tr>\n",
       "    <tr>\n",
       "      <th>39829</th>\n",
       "      <td>39829</td>\n",
       "      <td>1140_9</td>\n",
       "      <td>862.62</td>\n",
       "      <td>2018-12-31</td>\n",
       "      <td>1140</td>\n",
       "    </tr>\n",
       "    <tr>\n",
       "      <th>39830</th>\n",
       "      <td>39830</td>\n",
       "      <td>1140_10</td>\n",
       "      <td>927.87</td>\n",
       "      <td>2018-12-31</td>\n",
       "      <td>1140</td>\n",
       "    </tr>\n",
       "    <tr>\n",
       "      <th>39831</th>\n",
       "      <td>39831</td>\n",
       "      <td>1140_11</td>\n",
       "      <td>422.34</td>\n",
       "      <td>2018-12-31</td>\n",
       "      <td>1140</td>\n",
       "    </tr>\n",
       "    <tr>\n",
       "      <th>39832</th>\n",
       "      <td>39832</td>\n",
       "      <td>1140_12</td>\n",
       "      <td>92.96</td>\n",
       "      <td>2018-12-31</td>\n",
       "      <td>1140</td>\n",
       "    </tr>\n",
       "    <tr>\n",
       "      <th>39833</th>\n",
       "      <td>39833</td>\n",
       "      <td>1140_13</td>\n",
       "      <td>778.53</td>\n",
       "      <td>2018-12-31</td>\n",
       "      <td>1140</td>\n",
       "    </tr>\n",
       "    <tr>\n",
       "      <th>39834</th>\n",
       "      <td>39834</td>\n",
       "      <td>1140_14</td>\n",
       "      <td>0.00</td>\n",
       "      <td>2018-12-31</td>\n",
       "      <td>1140</td>\n",
       "    </tr>\n",
       "    <tr>\n",
       "      <th>39835</th>\n",
       "      <td>39835</td>\n",
       "      <td>1140_15</td>\n",
       "      <td>393.36</td>\n",
       "      <td>2018-12-31</td>\n",
       "      <td>1140</td>\n",
       "    </tr>\n",
       "    <tr>\n",
       "      <th>39836</th>\n",
       "      <td>39836</td>\n",
       "      <td>1140_16</td>\n",
       "      <td>0.00</td>\n",
       "      <td>2018-12-31</td>\n",
       "      <td>1140</td>\n",
       "    </tr>\n",
       "    <tr>\n",
       "      <th>39837</th>\n",
       "      <td>39837</td>\n",
       "      <td>1140_17</td>\n",
       "      <td>124.00</td>\n",
       "      <td>2018-12-31</td>\n",
       "      <td>1140</td>\n",
       "    </tr>\n",
       "    <tr>\n",
       "      <th>39838</th>\n",
       "      <td>39838</td>\n",
       "      <td>1140_18</td>\n",
       "      <td>431.35</td>\n",
       "      <td>2018-12-31</td>\n",
       "      <td>1140</td>\n",
       "    </tr>\n",
       "    <tr>\n",
       "      <th>39839</th>\n",
       "      <td>39839</td>\n",
       "      <td>1140_19</td>\n",
       "      <td>755.93</td>\n",
       "      <td>2018-12-31</td>\n",
       "      <td>1140</td>\n",
       "    </tr>\n",
       "    <tr>\n",
       "      <th>39840</th>\n",
       "      <td>39840</td>\n",
       "      <td>1140_20</td>\n",
       "      <td>260.66</td>\n",
       "      <td>2018-12-31</td>\n",
       "      <td>1140</td>\n",
       "    </tr>\n",
       "    <tr>\n",
       "      <th>39841</th>\n",
       "      <td>39841</td>\n",
       "      <td>1140_21</td>\n",
       "      <td>155.70</td>\n",
       "      <td>2018-12-31</td>\n",
       "      <td>1140</td>\n",
       "    </tr>\n",
       "    <tr>\n",
       "      <th>39842</th>\n",
       "      <td>39842</td>\n",
       "      <td>1140_22</td>\n",
       "      <td>0.00</td>\n",
       "      <td>2018-12-31</td>\n",
       "      <td>1140</td>\n",
       "    </tr>\n",
       "    <tr>\n",
       "      <th>39843</th>\n",
       "      <td>39843</td>\n",
       "      <td>1140_23</td>\n",
       "      <td>523.52</td>\n",
       "      <td>2018-12-31</td>\n",
       "      <td>1140</td>\n",
       "    </tr>\n",
       "    <tr>\n",
       "      <th>39844</th>\n",
       "      <td>39844</td>\n",
       "      <td>1140_24</td>\n",
       "      <td>655.76</td>\n",
       "      <td>2018-12-31</td>\n",
       "      <td>1140</td>\n",
       "    </tr>\n",
       "    <tr>\n",
       "      <th>39845</th>\n",
       "      <td>39845</td>\n",
       "      <td>1140_25</td>\n",
       "      <td>634.99</td>\n",
       "      <td>2018-12-31</td>\n",
       "      <td>1140</td>\n",
       "    </tr>\n",
       "    <tr>\n",
       "      <th>39846</th>\n",
       "      <td>39846</td>\n",
       "      <td>1140_26</td>\n",
       "      <td>144.37</td>\n",
       "      <td>2018-12-31</td>\n",
       "      <td>1140</td>\n",
       "    </tr>\n",
       "    <tr>\n",
       "      <th>39847</th>\n",
       "      <td>39847</td>\n",
       "      <td>1140_27</td>\n",
       "      <td>119.40</td>\n",
       "      <td>2018-12-31</td>\n",
       "      <td>1140</td>\n",
       "    </tr>\n",
       "    <tr>\n",
       "      <th>39848</th>\n",
       "      <td>39848</td>\n",
       "      <td>1140_28</td>\n",
       "      <td>610.05</td>\n",
       "      <td>2018-12-31</td>\n",
       "      <td>1140</td>\n",
       "    </tr>\n",
       "    <tr>\n",
       "      <th>39849</th>\n",
       "      <td>39849</td>\n",
       "      <td>1140_29</td>\n",
       "      <td>0.00</td>\n",
       "      <td>2018-12-31</td>\n",
       "      <td>1140</td>\n",
       "    </tr>\n",
       "    <tr>\n",
       "      <th>39850</th>\n",
       "      <td>39850</td>\n",
       "      <td>1140_30</td>\n",
       "      <td>411.49</td>\n",
       "      <td>2018-12-31</td>\n",
       "      <td>1140</td>\n",
       "    </tr>\n",
       "    <tr>\n",
       "      <th>39851</th>\n",
       "      <td>39851</td>\n",
       "      <td>1140_31</td>\n",
       "      <td>647.36</td>\n",
       "      <td>2018-12-31</td>\n",
       "      <td>1140</td>\n",
       "    </tr>\n",
       "    <tr>\n",
       "      <th>39852</th>\n",
       "      <td>39852</td>\n",
       "      <td>1140_32</td>\n",
       "      <td>430.55</td>\n",
       "      <td>2018-12-31</td>\n",
       "      <td>1140</td>\n",
       "    </tr>\n",
       "    <tr>\n",
       "      <th>39853</th>\n",
       "      <td>39853</td>\n",
       "      <td>1140_33</td>\n",
       "      <td>307.24</td>\n",
       "      <td>2018-12-31</td>\n",
       "      <td>1140</td>\n",
       "    </tr>\n",
       "    <tr>\n",
       "      <th>39854</th>\n",
       "      <td>39854</td>\n",
       "      <td>1140_34</td>\n",
       "      <td>110.20</td>\n",
       "      <td>2018-12-31</td>\n",
       "      <td>1140</td>\n",
       "    </tr>\n",
       "    <tr>\n",
       "      <th>39855</th>\n",
       "      <td>39855</td>\n",
       "      <td>1140_35</td>\n",
       "      <td>792.59</td>\n",
       "      <td>2018-12-31</td>\n",
       "      <td>1140</td>\n",
       "    </tr>\n",
       "    <tr>\n",
       "      <th>39856</th>\n",
       "      <td>39856</td>\n",
       "      <td>1140_36</td>\n",
       "      <td>564.05</td>\n",
       "      <td>2018-12-31</td>\n",
       "      <td>1140</td>\n",
       "    </tr>\n",
       "    <tr>\n",
       "      <th>39857</th>\n",
       "      <td>39857</td>\n",
       "      <td>1140_37</td>\n",
       "      <td>118.62</td>\n",
       "      <td>2018-12-31</td>\n",
       "      <td>1140</td>\n",
       "    </tr>\n",
       "    <tr>\n",
       "      <th>39858</th>\n",
       "      <td>39858</td>\n",
       "      <td>1140_38</td>\n",
       "      <td>422.06</td>\n",
       "      <td>2018-12-31</td>\n",
       "      <td>1140</td>\n",
       "    </tr>\n",
       "    <tr>\n",
       "      <th>39859</th>\n",
       "      <td>39859</td>\n",
       "      <td>1140_39</td>\n",
       "      <td>73.81</td>\n",
       "      <td>2018-12-31</td>\n",
       "      <td>1140</td>\n",
       "    </tr>\n",
       "    <tr>\n",
       "      <th>39860</th>\n",
       "      <td>39860</td>\n",
       "      <td>1140_40</td>\n",
       "      <td>103.62</td>\n",
       "      <td>2018-12-31</td>\n",
       "      <td>1140</td>\n",
       "    </tr>\n",
       "    <tr>\n",
       "      <th>39861</th>\n",
       "      <td>39861</td>\n",
       "      <td>1140_41</td>\n",
       "      <td>0.00</td>\n",
       "      <td>2018-12-31</td>\n",
       "      <td>1140</td>\n",
       "    </tr>\n",
       "    <tr>\n",
       "      <th>39862</th>\n",
       "      <td>39862</td>\n",
       "      <td>1140_42</td>\n",
       "      <td>504.43</td>\n",
       "      <td>2018-12-31</td>\n",
       "      <td>1140</td>\n",
       "    </tr>\n",
       "    <tr>\n",
       "      <th>39863</th>\n",
       "      <td>39863</td>\n",
       "      <td>1140_43</td>\n",
       "      <td>0.00</td>\n",
       "      <td>2018-12-31</td>\n",
       "      <td>1140</td>\n",
       "    </tr>\n",
       "    <tr>\n",
       "      <th>39864</th>\n",
       "      <td>39864</td>\n",
       "      <td>1140_44</td>\n",
       "      <td>1232.28</td>\n",
       "      <td>2018-12-31</td>\n",
       "      <td>1140</td>\n",
       "    </tr>\n",
       "    <tr>\n",
       "      <th>39865</th>\n",
       "      <td>39865</td>\n",
       "      <td>1140_45</td>\n",
       "      <td>25.76</td>\n",
       "      <td>2018-12-31</td>\n",
       "      <td>1140</td>\n",
       "    </tr>\n",
       "    <tr>\n",
       "      <th>39866</th>\n",
       "      <td>39866</td>\n",
       "      <td>1140_46</td>\n",
       "      <td>519.60</td>\n",
       "      <td>2018-12-31</td>\n",
       "      <td>1140</td>\n",
       "    </tr>\n",
       "    <tr>\n",
       "      <th>39867</th>\n",
       "      <td>39867</td>\n",
       "      <td>1140_47</td>\n",
       "      <td>453.89</td>\n",
       "      <td>2018-12-31</td>\n",
       "      <td>1140</td>\n",
       "    </tr>\n",
       "    <tr>\n",
       "      <th>39868</th>\n",
       "      <td>39868</td>\n",
       "      <td>1140_48</td>\n",
       "      <td>665.38</td>\n",
       "      <td>2018-12-31</td>\n",
       "      <td>1140</td>\n",
       "    </tr>\n",
       "    <tr>\n",
       "      <th>39869</th>\n",
       "      <td>39869</td>\n",
       "      <td>1140_49</td>\n",
       "      <td>556.57</td>\n",
       "      <td>2018-12-31</td>\n",
       "      <td>1140</td>\n",
       "    </tr>\n",
       "    <tr>\n",
       "      <th>39870</th>\n",
       "      <td>39870</td>\n",
       "      <td>1140_50</td>\n",
       "      <td>547.83</td>\n",
       "      <td>2018-12-31</td>\n",
       "      <td>1140</td>\n",
       "    </tr>\n",
       "    <tr>\n",
       "      <th>39871</th>\n",
       "      <td>39871</td>\n",
       "      <td>1140_51</td>\n",
       "      <td>197.96</td>\n",
       "      <td>2018-12-31</td>\n",
       "      <td>1140</td>\n",
       "    </tr>\n",
       "    <tr>\n",
       "      <th>39872</th>\n",
       "      <td>39872</td>\n",
       "      <td>1140_52</td>\n",
       "      <td>28.64</td>\n",
       "      <td>2018-12-31</td>\n",
       "      <td>1140</td>\n",
       "    </tr>\n",
       "    <tr>\n",
       "      <th>39873</th>\n",
       "      <td>39873</td>\n",
       "      <td>1140_53</td>\n",
       "      <td>203.69</td>\n",
       "      <td>2018-12-31</td>\n",
       "      <td>1140</td>\n",
       "    </tr>\n",
       "    <tr>\n",
       "      <th>39874</th>\n",
       "      <td>39874</td>\n",
       "      <td>1140_54</td>\n",
       "      <td>641.83</td>\n",
       "      <td>2018-12-31</td>\n",
       "      <td>1140</td>\n",
       "    </tr>\n",
       "    <tr>\n",
       "      <th>39875</th>\n",
       "      <td>39875</td>\n",
       "      <td>1140_55</td>\n",
       "      <td>103.85</td>\n",
       "      <td>2018-12-31</td>\n",
       "      <td>1140</td>\n",
       "    </tr>\n",
       "    <tr>\n",
       "      <th>39876</th>\n",
       "      <td>39876</td>\n",
       "      <td>1140_56</td>\n",
       "      <td>210.99</td>\n",
       "      <td>2018-12-31</td>\n",
       "      <td>1140</td>\n",
       "    </tr>\n",
       "    <tr>\n",
       "      <th>39877</th>\n",
       "      <td>39877</td>\n",
       "      <td>1140_57</td>\n",
       "      <td>166.50</td>\n",
       "      <td>2018-12-31</td>\n",
       "      <td>1140</td>\n",
       "    </tr>\n",
       "  </tbody>\n",
       "</table>\n",
       "</div>"
      ],
      "text/plain": [
       "       Unnamed: 0       id  mb_used session_date  user_id\n",
       "39820       39820   1140_0   305.52   2018-12-31     1140\n",
       "39821       39821   1140_1   465.59   2018-12-31     1140\n",
       "39822       39822   1140_2   307.81   2018-12-31     1140\n",
       "39823       39823   1140_3    83.10   2018-12-31     1140\n",
       "39824       39824   1140_4   172.66   2018-12-31     1140\n",
       "39825       39825   1140_5     0.00   2018-12-31     1140\n",
       "39826       39826   1140_6   414.79   2018-12-31     1140\n",
       "39827       39827   1140_7   246.29   2018-12-31     1140\n",
       "39828       39828   1140_8   116.42   2018-12-31     1140\n",
       "39829       39829   1140_9   862.62   2018-12-31     1140\n",
       "39830       39830  1140_10   927.87   2018-12-31     1140\n",
       "39831       39831  1140_11   422.34   2018-12-31     1140\n",
       "39832       39832  1140_12    92.96   2018-12-31     1140\n",
       "39833       39833  1140_13   778.53   2018-12-31     1140\n",
       "39834       39834  1140_14     0.00   2018-12-31     1140\n",
       "39835       39835  1140_15   393.36   2018-12-31     1140\n",
       "39836       39836  1140_16     0.00   2018-12-31     1140\n",
       "39837       39837  1140_17   124.00   2018-12-31     1140\n",
       "39838       39838  1140_18   431.35   2018-12-31     1140\n",
       "39839       39839  1140_19   755.93   2018-12-31     1140\n",
       "39840       39840  1140_20   260.66   2018-12-31     1140\n",
       "39841       39841  1140_21   155.70   2018-12-31     1140\n",
       "39842       39842  1140_22     0.00   2018-12-31     1140\n",
       "39843       39843  1140_23   523.52   2018-12-31     1140\n",
       "39844       39844  1140_24   655.76   2018-12-31     1140\n",
       "39845       39845  1140_25   634.99   2018-12-31     1140\n",
       "39846       39846  1140_26   144.37   2018-12-31     1140\n",
       "39847       39847  1140_27   119.40   2018-12-31     1140\n",
       "39848       39848  1140_28   610.05   2018-12-31     1140\n",
       "39849       39849  1140_29     0.00   2018-12-31     1140\n",
       "39850       39850  1140_30   411.49   2018-12-31     1140\n",
       "39851       39851  1140_31   647.36   2018-12-31     1140\n",
       "39852       39852  1140_32   430.55   2018-12-31     1140\n",
       "39853       39853  1140_33   307.24   2018-12-31     1140\n",
       "39854       39854  1140_34   110.20   2018-12-31     1140\n",
       "39855       39855  1140_35   792.59   2018-12-31     1140\n",
       "39856       39856  1140_36   564.05   2018-12-31     1140\n",
       "39857       39857  1140_37   118.62   2018-12-31     1140\n",
       "39858       39858  1140_38   422.06   2018-12-31     1140\n",
       "39859       39859  1140_39    73.81   2018-12-31     1140\n",
       "39860       39860  1140_40   103.62   2018-12-31     1140\n",
       "39861       39861  1140_41     0.00   2018-12-31     1140\n",
       "39862       39862  1140_42   504.43   2018-12-31     1140\n",
       "39863       39863  1140_43     0.00   2018-12-31     1140\n",
       "39864       39864  1140_44  1232.28   2018-12-31     1140\n",
       "39865       39865  1140_45    25.76   2018-12-31     1140\n",
       "39866       39866  1140_46   519.60   2018-12-31     1140\n",
       "39867       39867  1140_47   453.89   2018-12-31     1140\n",
       "39868       39868  1140_48   665.38   2018-12-31     1140\n",
       "39869       39869  1140_49   556.57   2018-12-31     1140\n",
       "39870       39870  1140_50   547.83   2018-12-31     1140\n",
       "39871       39871  1140_51   197.96   2018-12-31     1140\n",
       "39872       39872  1140_52    28.64   2018-12-31     1140\n",
       "39873       39873  1140_53   203.69   2018-12-31     1140\n",
       "39874       39874  1140_54   641.83   2018-12-31     1140\n",
       "39875       39875  1140_55   103.85   2018-12-31     1140\n",
       "39876       39876  1140_56   210.99   2018-12-31     1140\n",
       "39877       39877  1140_57   166.50   2018-12-31     1140"
      ]
     },
     "execution_count": 27,
     "metadata": {},
     "output_type": "execute_result"
    }
   ],
   "source": [
    "internet['session_date'] = pd.to_datetime(internet['session_date'], format='%Y-%m-%d')\n",
    "internet[(internet['user_id'] == 1140) & (internet['session_date'] > pd.to_datetime(2018-12-25))]"
   ]
  },
  {
   "cell_type": "markdown",
   "metadata": {},
   "source": [
    "Анализ соединений клиента 1140 указывает на высокую вероятность обрыва сессий, а не техническую ошибку серверной части компании. \n",
    "В данном случае лучше оставить подобные значения без изменений."
   ]
  },
  {
   "cell_type": "markdown",
   "metadata": {},
   "source": [
    "Построим гистограмму для значений `mb_used` не равных 0 из таблицы без внесенных изменений, чтобы сравнить распределение значений."
   ]
  },
  {
   "cell_type": "code",
   "execution_count": 28,
   "metadata": {},
   "outputs": [
    {
     "data": {
      "image/png": "[encoded data removed]",
      "text/plain": [
       "<Figure size 640x480 with 1 Axes>"
      ]
     },
     "metadata": {},
     "output_type": "display_data"
    }
   ],
   "source": [
    "internet_df.query('mb_used != 0')['mb_used'].hist(bins=30)\n",
    "plt.show()"
   ]
  },
  {
   "cell_type": "markdown",
   "metadata": {},
   "source": [
    "После изменений нулевых значений появился значительный пик в районе 250-400. Подобные изменения могут сильно исказить последующие выводы. В данном случае будет лучше оставить таблицу без изменений, не внося каких-либо замен нулевых значений."
   ]
  },
  {
   "cell_type": "markdown",
   "metadata": {},
   "source": [
    "Посчитаем для каждого пользователя:\n",
    "- количество сделанных звонков и израсходованных минут разговора по месяцам;\n",
    "- количество отправленных сообщений по месяцам;\n",
    "- объем израсходованного интернет-трафика по месяцам;\n",
    "- помесячную выручку с каждого пользователя (вычтите бесплатный лимит из суммарного количества звонков, сообщений и интернет-трафика; остаток умножьте на значение из тарифного плана; прибавьте абонентскую плату, соответствующую тарифному плану)."
   ]
  },
  {
   "cell_type": "markdown",
   "metadata": {},
   "source": [
    "Извлечем месяца из таблиц `internet_df`, `calls_df` и `messages_df`."
   ]
  },
  {
   "cell_type": "code",
   "execution_count": 29,
   "metadata": {},
   "outputs": [],
   "source": [
    "# Извлекаем месяца\n",
    "internet_df['month'] = internet_df['session_date'].dt.month\n",
    "calls_df['month'] = calls_df['call_date'].dt.month\n",
    "messages_df['month'] = messages_df['message_date'].dt.month"
   ]
  },
  {
   "cell_type": "markdown",
   "metadata": {},
   "source": [
    "Округлим длительности звонков до минут."
   ]
  },
  {
   "cell_type": "code",
   "execution_count": 30,
   "metadata": {},
   "outputs": [],
   "source": [
    "# Округлим в большую сторону количество использованных минут для звонков и избавимся от дробных значений\n",
    "calls_df['duration'] = np.ceil(calls_df['duration']).astype(int)"
   ]
  },
  {
   "cell_type": "markdown",
   "metadata": {},
   "source": [
    "Сгруппируем данные по звонкам, отправленным сообщениям и объему потребления интернет-трафика. Создадим для них отдельные переменные."
   ]
  },
  {
   "cell_type": "code",
   "execution_count": 31,
   "metadata": {},
   "outputs": [
    {
     "data": {
      "text/html": [
       "<div>\n",
       "<style scoped>\n",
       "    .dataframe tbody tr th:only-of-type {\n",
       "        vertical-align: middle;\n",
       "    }\n",
       "\n",
       "    .dataframe tbody tr th {\n",
       "        vertical-align: top;\n",
       "    }\n",
       "\n",
       "    .dataframe thead th {\n",
       "        text-align: right;\n",
       "    }\n",
       "</style>\n",
       "<table border=\"1\" class=\"dataframe\">\n",
       "  <thead>\n",
       "    <tr style=\"text-align: right;\">\n",
       "      <th></th>\n",
       "      <th></th>\n",
       "      <th>count</th>\n",
       "      <th>duration</th>\n",
       "    </tr>\n",
       "    <tr>\n",
       "      <th>user_id</th>\n",
       "      <th>month</th>\n",
       "      <th></th>\n",
       "      <th></th>\n",
       "    </tr>\n",
       "  </thead>\n",
       "  <tbody>\n",
       "    <tr>\n",
       "      <th rowspan=\"5\" valign=\"top\">1000</th>\n",
       "      <th>5</th>\n",
       "      <td>22</td>\n",
       "      <td>159</td>\n",
       "    </tr>\n",
       "    <tr>\n",
       "      <th>6</th>\n",
       "      <td>43</td>\n",
       "      <td>172</td>\n",
       "    </tr>\n",
       "    <tr>\n",
       "      <th>7</th>\n",
       "      <td>47</td>\n",
       "      <td>340</td>\n",
       "    </tr>\n",
       "    <tr>\n",
       "      <th>8</th>\n",
       "      <td>52</td>\n",
       "      <td>408</td>\n",
       "    </tr>\n",
       "    <tr>\n",
       "      <th>9</th>\n",
       "      <td>58</td>\n",
       "      <td>466</td>\n",
       "    </tr>\n",
       "    <tr>\n",
       "      <th>...</th>\n",
       "      <th>...</th>\n",
       "      <td>...</td>\n",
       "      <td>...</td>\n",
       "    </tr>\n",
       "    <tr>\n",
       "      <th>1498</th>\n",
       "      <th>10</th>\n",
       "      <td>41</td>\n",
       "      <td>247</td>\n",
       "    </tr>\n",
       "    <tr>\n",
       "      <th rowspan=\"4\" valign=\"top\">1499</th>\n",
       "      <th>9</th>\n",
       "      <td>9</td>\n",
       "      <td>70</td>\n",
       "    </tr>\n",
       "    <tr>\n",
       "      <th>10</th>\n",
       "      <td>68</td>\n",
       "      <td>449</td>\n",
       "    </tr>\n",
       "    <tr>\n",
       "      <th>11</th>\n",
       "      <td>74</td>\n",
       "      <td>612</td>\n",
       "    </tr>\n",
       "    <tr>\n",
       "      <th>12</th>\n",
       "      <td>69</td>\n",
       "      <td>492</td>\n",
       "    </tr>\n",
       "  </tbody>\n",
       "</table>\n",
       "<p>3174 rows × 2 columns</p>\n",
       "</div>"
      ],
      "text/plain": [
       "               count  duration\n",
       "user_id month                 \n",
       "1000    5         22       159\n",
       "        6         43       172\n",
       "        7         47       340\n",
       "        8         52       408\n",
       "        9         58       466\n",
       "...              ...       ...\n",
       "1498    10        41       247\n",
       "1499    9          9        70\n",
       "        10        68       449\n",
       "        11        74       612\n",
       "        12        69       492\n",
       "\n",
       "[3174 rows x 2 columns]"
      ]
     },
     "execution_count": 31,
     "metadata": {},
     "output_type": "execute_result"
    }
   ],
   "source": [
    "# Группируем количество и суммарную длительность звонков по месяцам для каждого абонента\n",
    "calls_by_users = calls_df.pivot_table(index = ['user_id', 'month'], values='duration', aggfunc=['count', 'sum'])\n",
    "\n",
    "calls_by_users.columns = ['count', 'duration']\n",
    "calls_by_users"
   ]
  },
  {
   "cell_type": "code",
   "execution_count": 32,
   "metadata": {},
   "outputs": [
    {
     "data": {
      "text/html": [
       "<div>\n",
       "<style scoped>\n",
       "    .dataframe tbody tr th:only-of-type {\n",
       "        vertical-align: middle;\n",
       "    }\n",
       "\n",
       "    .dataframe tbody tr th {\n",
       "        vertical-align: top;\n",
       "    }\n",
       "\n",
       "    .dataframe thead th {\n",
       "        text-align: right;\n",
       "    }\n",
       "</style>\n",
       "<table border=\"1\" class=\"dataframe\">\n",
       "  <thead>\n",
       "    <tr style=\"text-align: right;\">\n",
       "      <th></th>\n",
       "      <th></th>\n",
       "      <th>id</th>\n",
       "    </tr>\n",
       "    <tr>\n",
       "      <th>user_id</th>\n",
       "      <th>month</th>\n",
       "      <th></th>\n",
       "    </tr>\n",
       "  </thead>\n",
       "  <tbody>\n",
       "    <tr>\n",
       "      <th rowspan=\"5\" valign=\"top\">1000</th>\n",
       "      <th>5</th>\n",
       "      <td>22</td>\n",
       "    </tr>\n",
       "    <tr>\n",
       "      <th>6</th>\n",
       "      <td>60</td>\n",
       "    </tr>\n",
       "    <tr>\n",
       "      <th>7</th>\n",
       "      <td>75</td>\n",
       "    </tr>\n",
       "    <tr>\n",
       "      <th>8</th>\n",
       "      <td>81</td>\n",
       "    </tr>\n",
       "    <tr>\n",
       "      <th>9</th>\n",
       "      <td>57</td>\n",
       "    </tr>\n",
       "    <tr>\n",
       "      <th>...</th>\n",
       "      <th>...</th>\n",
       "      <td>...</td>\n",
       "    </tr>\n",
       "    <tr>\n",
       "      <th>1498</th>\n",
       "      <th>10</th>\n",
       "      <td>42</td>\n",
       "    </tr>\n",
       "    <tr>\n",
       "      <th rowspan=\"4\" valign=\"top\">1499</th>\n",
       "      <th>9</th>\n",
       "      <td>11</td>\n",
       "    </tr>\n",
       "    <tr>\n",
       "      <th>10</th>\n",
       "      <td>48</td>\n",
       "    </tr>\n",
       "    <tr>\n",
       "      <th>11</th>\n",
       "      <td>59</td>\n",
       "    </tr>\n",
       "    <tr>\n",
       "      <th>12</th>\n",
       "      <td>66</td>\n",
       "    </tr>\n",
       "  </tbody>\n",
       "</table>\n",
       "<p>2717 rows × 1 columns</p>\n",
       "</div>"
      ],
      "text/plain": [
       "               id\n",
       "user_id month    \n",
       "1000    5      22\n",
       "        6      60\n",
       "        7      75\n",
       "        8      81\n",
       "        9      57\n",
       "...            ..\n",
       "1498    10     42\n",
       "1499    9      11\n",
       "        10     48\n",
       "        11     59\n",
       "        12     66\n",
       "\n",
       "[2717 rows x 1 columns]"
      ]
     },
     "execution_count": 32,
     "metadata": {},
     "output_type": "execute_result"
    }
   ],
   "source": [
    "# Группируем количество отправленных сообщений по месяцам для каждого абонента\n",
    "messages_by_users = messages_df.pivot_table(index=['user_id', 'month'], values='id', aggfunc='count')\n",
    "messages_by_users"
   ]
  },
  {
   "cell_type": "code",
   "execution_count": 33,
   "metadata": {},
   "outputs": [
    {
     "data": {
      "text/html": [
       "<div>\n",
       "<style scoped>\n",
       "    .dataframe tbody tr th:only-of-type {\n",
       "        vertical-align: middle;\n",
       "    }\n",
       "\n",
       "    .dataframe tbody tr th {\n",
       "        vertical-align: top;\n",
       "    }\n",
       "\n",
       "    .dataframe thead th {\n",
       "        text-align: right;\n",
       "    }\n",
       "</style>\n",
       "<table border=\"1\" class=\"dataframe\">\n",
       "  <thead>\n",
       "    <tr style=\"text-align: right;\">\n",
       "      <th></th>\n",
       "      <th></th>\n",
       "      <th>mb_used</th>\n",
       "    </tr>\n",
       "    <tr>\n",
       "      <th>user_id</th>\n",
       "      <th>month</th>\n",
       "      <th></th>\n",
       "    </tr>\n",
       "  </thead>\n",
       "  <tbody>\n",
       "    <tr>\n",
       "      <th rowspan=\"5\" valign=\"top\">1000</th>\n",
       "      <th>5</th>\n",
       "      <td>2253.49</td>\n",
       "    </tr>\n",
       "    <tr>\n",
       "      <th>6</th>\n",
       "      <td>23233.77</td>\n",
       "    </tr>\n",
       "    <tr>\n",
       "      <th>7</th>\n",
       "      <td>14003.64</td>\n",
       "    </tr>\n",
       "    <tr>\n",
       "      <th>8</th>\n",
       "      <td>14055.93</td>\n",
       "    </tr>\n",
       "    <tr>\n",
       "      <th>9</th>\n",
       "      <td>14568.91</td>\n",
       "    </tr>\n",
       "    <tr>\n",
       "      <th>...</th>\n",
       "      <th>...</th>\n",
       "      <td>...</td>\n",
       "    </tr>\n",
       "    <tr>\n",
       "      <th>1498</th>\n",
       "      <th>10</th>\n",
       "      <td>20579.36</td>\n",
       "    </tr>\n",
       "    <tr>\n",
       "      <th rowspan=\"4\" valign=\"top\">1499</th>\n",
       "      <th>9</th>\n",
       "      <td>1845.75</td>\n",
       "    </tr>\n",
       "    <tr>\n",
       "      <th>10</th>\n",
       "      <td>17788.51</td>\n",
       "    </tr>\n",
       "    <tr>\n",
       "      <th>11</th>\n",
       "      <td>17963.31</td>\n",
       "    </tr>\n",
       "    <tr>\n",
       "      <th>12</th>\n",
       "      <td>13055.58</td>\n",
       "    </tr>\n",
       "  </tbody>\n",
       "</table>\n",
       "<p>3203 rows × 1 columns</p>\n",
       "</div>"
      ],
      "text/plain": [
       "                mb_used\n",
       "user_id month          \n",
       "1000    5       2253.49\n",
       "        6      23233.77\n",
       "        7      14003.64\n",
       "        8      14055.93\n",
       "        9      14568.91\n",
       "...                 ...\n",
       "1498    10     20579.36\n",
       "1499    9       1845.75\n",
       "        10     17788.51\n",
       "        11     17963.31\n",
       "        12     13055.58\n",
       "\n",
       "[3203 rows x 1 columns]"
      ]
     },
     "execution_count": 33,
     "metadata": {},
     "output_type": "execute_result"
    }
   ],
   "source": [
    "# Группируем объем потребляемого интернет-трафика по месяцам для каждого абонента\n",
    "internet_by_users = internet_df.pivot_table(index=['user_id', 'month'], values='mb_used', aggfunc='sum')\n",
    "internet_by_users"
   ]
  },
  {
   "cell_type": "markdown",
   "metadata": {},
   "source": [
    "Объединим полученные таблицы в одну общую."
   ]
  },
  {
   "cell_type": "code",
   "execution_count": 34,
   "metadata": {},
   "outputs": [],
   "source": [
    "# Объединяем полученные таблицы\n",
    "users_by_month = (\n",
    "    calls_by_users.merge(messages_by_users, on = ['user_id', 'month'], how='outer')\n",
    "                  .merge(internet_by_users, on = ['user_id', 'month'], how='outer')\n",
    ")\n",
    "\n",
    "# Переименуем столбцы\n",
    "users_by_month.columns = ['calls_count', 'calls_minutes', 'messages_count', 'mb_used']"
   ]
  },
  {
   "cell_type": "markdown",
   "metadata": {},
   "source": [
    "Добавим к общей таблице подробную информацию по каждому абоненту."
   ]
  },
  {
   "cell_type": "code",
   "execution_count": 35,
   "metadata": {},
   "outputs": [
    {
     "data": {
      "text/html": [
       "<div>\n",
       "<style scoped>\n",
       "    .dataframe tbody tr th:only-of-type {\n",
       "        vertical-align: middle;\n",
       "    }\n",
       "\n",
       "    .dataframe tbody tr th {\n",
       "        vertical-align: top;\n",
       "    }\n",
       "\n",
       "    .dataframe thead th {\n",
       "        text-align: right;\n",
       "    }\n",
       "</style>\n",
       "<table border=\"1\" class=\"dataframe\">\n",
       "  <thead>\n",
       "    <tr style=\"text-align: right;\">\n",
       "      <th></th>\n",
       "      <th></th>\n",
       "      <th>calls_count</th>\n",
       "      <th>calls_minutes</th>\n",
       "      <th>messages_count</th>\n",
       "      <th>mb_used</th>\n",
       "      <th>index</th>\n",
       "      <th>age</th>\n",
       "      <th>churn_date</th>\n",
       "      <th>city</th>\n",
       "      <th>first_name</th>\n",
       "      <th>last_name</th>\n",
       "      <th>reg_date</th>\n",
       "      <th>tariff</th>\n",
       "    </tr>\n",
       "    <tr>\n",
       "      <th>user_id</th>\n",
       "      <th>month</th>\n",
       "      <th></th>\n",
       "      <th></th>\n",
       "      <th></th>\n",
       "      <th></th>\n",
       "      <th></th>\n",
       "      <th></th>\n",
       "      <th></th>\n",
       "      <th></th>\n",
       "      <th></th>\n",
       "      <th></th>\n",
       "      <th></th>\n",
       "      <th></th>\n",
       "    </tr>\n",
       "  </thead>\n",
       "  <tbody>\n",
       "    <tr>\n",
       "      <th rowspan=\"5\" valign=\"top\">1000</th>\n",
       "      <th>5.0</th>\n",
       "      <td>22.0</td>\n",
       "      <td>159.0</td>\n",
       "      <td>22.0</td>\n",
       "      <td>2253.49</td>\n",
       "      <td>0</td>\n",
       "      <td>52</td>\n",
       "      <td>NaT</td>\n",
       "      <td>Краснодар</td>\n",
       "      <td>Рафаил</td>\n",
       "      <td>Верещагин</td>\n",
       "      <td>2018-05-25</td>\n",
       "      <td>ultra</td>\n",
       "    </tr>\n",
       "    <tr>\n",
       "      <th>6.0</th>\n",
       "      <td>43.0</td>\n",
       "      <td>172.0</td>\n",
       "      <td>60.0</td>\n",
       "      <td>23233.77</td>\n",
       "      <td>0</td>\n",
       "      <td>52</td>\n",
       "      <td>NaT</td>\n",
       "      <td>Краснодар</td>\n",
       "      <td>Рафаил</td>\n",
       "      <td>Верещагин</td>\n",
       "      <td>2018-05-25</td>\n",
       "      <td>ultra</td>\n",
       "    </tr>\n",
       "    <tr>\n",
       "      <th>7.0</th>\n",
       "      <td>47.0</td>\n",
       "      <td>340.0</td>\n",
       "      <td>75.0</td>\n",
       "      <td>14003.64</td>\n",
       "      <td>0</td>\n",
       "      <td>52</td>\n",
       "      <td>NaT</td>\n",
       "      <td>Краснодар</td>\n",
       "      <td>Рафаил</td>\n",
       "      <td>Верещагин</td>\n",
       "      <td>2018-05-25</td>\n",
       "      <td>ultra</td>\n",
       "    </tr>\n",
       "    <tr>\n",
       "      <th>8.0</th>\n",
       "      <td>52.0</td>\n",
       "      <td>408.0</td>\n",
       "      <td>81.0</td>\n",
       "      <td>14055.93</td>\n",
       "      <td>0</td>\n",
       "      <td>52</td>\n",
       "      <td>NaT</td>\n",
       "      <td>Краснодар</td>\n",
       "      <td>Рафаил</td>\n",
       "      <td>Верещагин</td>\n",
       "      <td>2018-05-25</td>\n",
       "      <td>ultra</td>\n",
       "    </tr>\n",
       "    <tr>\n",
       "      <th>9.0</th>\n",
       "      <td>58.0</td>\n",
       "      <td>466.0</td>\n",
       "      <td>57.0</td>\n",
       "      <td>14568.91</td>\n",
       "      <td>0</td>\n",
       "      <td>52</td>\n",
       "      <td>NaT</td>\n",
       "      <td>Краснодар</td>\n",
       "      <td>Рафаил</td>\n",
       "      <td>Верещагин</td>\n",
       "      <td>2018-05-25</td>\n",
       "      <td>ultra</td>\n",
       "    </tr>\n",
       "    <tr>\n",
       "      <th>...</th>\n",
       "      <th>...</th>\n",
       "      <td>...</td>\n",
       "      <td>...</td>\n",
       "      <td>...</td>\n",
       "      <td>...</td>\n",
       "      <td>...</td>\n",
       "      <td>...</td>\n",
       "      <td>...</td>\n",
       "      <td>...</td>\n",
       "      <td>...</td>\n",
       "      <td>...</td>\n",
       "      <td>...</td>\n",
       "      <td>...</td>\n",
       "    </tr>\n",
       "    <tr>\n",
       "      <th rowspan=\"3\" valign=\"top\">1489</th>\n",
       "      <th>10.0</th>\n",
       "      <td>NaN</td>\n",
       "      <td>NaN</td>\n",
       "      <td>21.0</td>\n",
       "      <td>19559.44</td>\n",
       "      <td>489</td>\n",
       "      <td>35</td>\n",
       "      <td>NaT</td>\n",
       "      <td>Санкт-Петербург</td>\n",
       "      <td>Павел</td>\n",
       "      <td>Гончаров</td>\n",
       "      <td>2018-08-15</td>\n",
       "      <td>smart</td>\n",
       "    </tr>\n",
       "    <tr>\n",
       "      <th>11.0</th>\n",
       "      <td>NaN</td>\n",
       "      <td>NaN</td>\n",
       "      <td>20.0</td>\n",
       "      <td>17491.56</td>\n",
       "      <td>489</td>\n",
       "      <td>35</td>\n",
       "      <td>NaT</td>\n",
       "      <td>Санкт-Петербург</td>\n",
       "      <td>Павел</td>\n",
       "      <td>Гончаров</td>\n",
       "      <td>2018-08-15</td>\n",
       "      <td>smart</td>\n",
       "    </tr>\n",
       "    <tr>\n",
       "      <th>12.0</th>\n",
       "      <td>NaN</td>\n",
       "      <td>NaN</td>\n",
       "      <td>35.0</td>\n",
       "      <td>17322.51</td>\n",
       "      <td>489</td>\n",
       "      <td>35</td>\n",
       "      <td>NaT</td>\n",
       "      <td>Санкт-Петербург</td>\n",
       "      <td>Павел</td>\n",
       "      <td>Гончаров</td>\n",
       "      <td>2018-08-15</td>\n",
       "      <td>smart</td>\n",
       "    </tr>\n",
       "    <tr>\n",
       "      <th>1128</th>\n",
       "      <th>NaN</th>\n",
       "      <td>NaN</td>\n",
       "      <td>NaN</td>\n",
       "      <td>NaN</td>\n",
       "      <td>NaN</td>\n",
       "      <td>128</td>\n",
       "      <td>51</td>\n",
       "      <td>2018-12-23</td>\n",
       "      <td>Волжский</td>\n",
       "      <td>Ксения</td>\n",
       "      <td>Агаева</td>\n",
       "      <td>2018-12-15</td>\n",
       "      <td>ultra</td>\n",
       "    </tr>\n",
       "    <tr>\n",
       "      <th>1371</th>\n",
       "      <th>NaN</th>\n",
       "      <td>NaN</td>\n",
       "      <td>NaN</td>\n",
       "      <td>NaN</td>\n",
       "      <td>NaN</td>\n",
       "      <td>371</td>\n",
       "      <td>50</td>\n",
       "      <td>2018-12-30</td>\n",
       "      <td>Омск</td>\n",
       "      <td>Ириней</td>\n",
       "      <td>Трофимов</td>\n",
       "      <td>2018-12-25</td>\n",
       "      <td>smart</td>\n",
       "    </tr>\n",
       "  </tbody>\n",
       "</table>\n",
       "<p>3216 rows × 12 columns</p>\n",
       "</div>"
      ],
      "text/plain": [
       "               calls_count  calls_minutes  messages_count   mb_used  index  \\\n",
       "user_id month                                                                \n",
       "1000    5.0           22.0          159.0            22.0   2253.49      0   \n",
       "        6.0           43.0          172.0            60.0  23233.77      0   \n",
       "        7.0           47.0          340.0            75.0  14003.64      0   \n",
       "        8.0           52.0          408.0            81.0  14055.93      0   \n",
       "        9.0           58.0          466.0            57.0  14568.91      0   \n",
       "...                    ...            ...             ...       ...    ...   \n",
       "1489    10.0           NaN            NaN            21.0  19559.44    489   \n",
       "        11.0           NaN            NaN            20.0  17491.56    489   \n",
       "        12.0           NaN            NaN            35.0  17322.51    489   \n",
       "1128    NaN            NaN            NaN             NaN       NaN    128   \n",
       "1371    NaN            NaN            NaN             NaN       NaN    371   \n",
       "\n",
       "               age churn_date             city first_name  last_name  \\\n",
       "user_id month                                                          \n",
       "1000    5.0     52        NaT        Краснодар     Рафаил  Верещагин   \n",
       "        6.0     52        NaT        Краснодар     Рафаил  Верещагин   \n",
       "        7.0     52        NaT        Краснодар     Рафаил  Верещагин   \n",
       "        8.0     52        NaT        Краснодар     Рафаил  Верещагин   \n",
       "        9.0     52        NaT        Краснодар     Рафаил  Верещагин   \n",
       "...            ...        ...              ...        ...        ...   \n",
       "1489    10.0    35        NaT  Санкт-Петербург      Павел   Гончаров   \n",
       "        11.0    35        NaT  Санкт-Петербург      Павел   Гончаров   \n",
       "        12.0    35        NaT  Санкт-Петербург      Павел   Гончаров   \n",
       "1128    NaN     51 2018-12-23         Волжский     Ксения     Агаева   \n",
       "1371    NaN     50 2018-12-30             Омск     Ириней   Трофимов   \n",
       "\n",
       "                reg_date tariff  \n",
       "user_id month                    \n",
       "1000    5.0   2018-05-25  ultra  \n",
       "        6.0   2018-05-25  ultra  \n",
       "        7.0   2018-05-25  ultra  \n",
       "        8.0   2018-05-25  ultra  \n",
       "        9.0   2018-05-25  ultra  \n",
       "...                  ...    ...  \n",
       "1489    10.0  2018-08-15  smart  \n",
       "        11.0  2018-08-15  smart  \n",
       "        12.0  2018-08-15  smart  \n",
       "1128    NaN   2018-12-15  ultra  \n",
       "1371    NaN   2018-12-25  smart  \n",
       "\n",
       "[3216 rows x 12 columns]"
      ]
     },
     "execution_count": 35,
     "metadata": {},
     "output_type": "execute_result"
    }
   ],
   "source": [
    "# Объединяем таблицы\n",
    "users_by_month = (\n",
    "    pd.merge(users_by_month.reset_index(), users_df.reset_index(), on='user_id', how='outer')\n",
    "    .set_index(['user_id', 'month'])\n",
    ")\n",
    "\n",
    "users_by_month"
   ]
  },
  {
   "cell_type": "markdown",
   "metadata": {},
   "source": [
    "Добавим в общую таблицу информацию по тарифам. Для этого необходимо переименовать колонку `tariff` в `tariff_name`, чтобы можно было объединить таблицы."
   ]
  },
  {
   "cell_type": "code",
   "execution_count": 36,
   "metadata": {},
   "outputs": [],
   "source": [
    "# Переименовываем колонки таблицы\n",
    "users_by_month.rename(columns={'tariff': 'tariff_name'}, inplace=True)"
   ]
  },
  {
   "cell_type": "code",
   "execution_count": 37,
   "metadata": {},
   "outputs": [],
   "source": [
    "# Добавляем информацию о тарифах\n",
    "users_by_month = (\n",
    "    users_by_month.reset_index().merge(tariffs_df.reset_index(), on='tariff_name', how='left')\n",
    "    .set_index(['user_id', 'month'])\n",
    ")"
   ]
  },
  {
   "cell_type": "markdown",
   "metadata": {},
   "source": [
    "В общей таблице у нас появились пропуски. Для удобства дальнейших рассчетов заменим пропуски в агрегированных колонках на 0."
   ]
  },
  {
   "cell_type": "code",
   "execution_count": 38,
   "metadata": {},
   "outputs": [],
   "source": [
    "# Замена пропусков на 0\n",
    "users_by_month[['calls_count', 'calls_minutes', 'messages_count', 'mb_used']] = users_by_month[['calls_count', 'calls_minutes', 'messages_count', 'mb_used']].fillna(0)"
   ]
  },
  {
   "cell_type": "code",
   "execution_count": 39,
   "metadata": {},
   "outputs": [],
   "source": [
    "# Изменим типы данных в таблице\n",
    "users_by_month['calls_count'] = users_by_month['calls_count'].astype('int')\n",
    "users_by_month['messages_count'] = users_by_month['messages_count'].astype('int')"
   ]
  },
  {
   "cell_type": "markdown",
   "metadata": {},
   "source": [
    "Рассчитаем колонки для использованного интернет-трафика в гигабайтах и для включенного в тариф объема интернет-трафика в гигабайтах."
   ]
  },
  {
   "cell_type": "code",
   "execution_count": 40,
   "metadata": {},
   "outputs": [],
   "source": [
    "# Рассчитаем включенный в тариф объем интернет-трафика и использованный объем в гигабайтах\n",
    "users_by_month['gb_used'] = users_by_month['mb_used'].apply(lambda x: math.ceil(x/1024))\n",
    "users_by_month['gb_per_month_included'] = users_by_month['mb_per_month_included'].apply(lambda x: x/1024).astype('int')"
   ]
  },
  {
   "cell_type": "markdown",
   "metadata": {},
   "source": [
    "Создадим функцию для рассчета выручки от абонента, с учетом выхода за лимиты используемого тарифа."
   ]
  },
  {
   "cell_type": "code",
   "execution_count": 41,
   "metadata": {},
   "outputs": [],
   "source": [
    "# Создадим функцию для рассчета выручки с абонента\n",
    "def calc_income(row):\n",
    "    income = row['rub_monthly_fee']\n",
    "    included_calls_balance = row['minutes_included'] - row['calls_minutes']\n",
    "    included_messages_balance = row['messages_included'] - row['messages_count']\n",
    "    included_gb_balance = row['gb_per_month_included'] - row['gb_used']\n",
    "    \n",
    "    if included_calls_balance < 0:\n",
    "        income += included_calls_balance * -1 * row['rub_per_minute']\n",
    "    if included_messages_balance < 0:\n",
    "        income += included_messages_balance * -1 * row['rub_per_message']\n",
    "    if included_gb_balance < 0:\n",
    "        income += included_gb_balance * -1 * row['rub_per_gb']\n",
    "    return income"
   ]
  },
  {
   "cell_type": "code",
   "execution_count": 42,
   "metadata": {},
   "outputs": [],
   "source": [
    "# Применим созданную функцию 'calc_income'\n",
    "users_by_month['monthly_income'] = users_by_month.apply(calc_income, axis=1)"
   ]
  },
  {
   "cell_type": "code",
   "execution_count": 43,
   "metadata": {},
   "outputs": [
    {
     "data": {
      "text/html": [
       "<div>\n",
       "<style scoped>\n",
       "    .dataframe tbody tr th:only-of-type {\n",
       "        vertical-align: middle;\n",
       "    }\n",
       "\n",
       "    .dataframe tbody tr th {\n",
       "        vertical-align: top;\n",
       "    }\n",
       "\n",
       "    .dataframe thead th {\n",
       "        text-align: right;\n",
       "    }\n",
       "</style>\n",
       "<table border=\"1\" class=\"dataframe\">\n",
       "  <thead>\n",
       "    <tr style=\"text-align: right;\">\n",
       "      <th></th>\n",
       "      <th></th>\n",
       "      <th>calls_count</th>\n",
       "      <th>calls_minutes</th>\n",
       "      <th>messages_count</th>\n",
       "      <th>mb_used</th>\n",
       "      <th>index_x</th>\n",
       "      <th>age</th>\n",
       "      <th>churn_date</th>\n",
       "      <th>city</th>\n",
       "      <th>first_name</th>\n",
       "      <th>last_name</th>\n",
       "      <th>...</th>\n",
       "      <th>messages_included</th>\n",
       "      <th>mb_per_month_included</th>\n",
       "      <th>minutes_included</th>\n",
       "      <th>rub_monthly_fee</th>\n",
       "      <th>rub_per_gb</th>\n",
       "      <th>rub_per_message</th>\n",
       "      <th>rub_per_minute</th>\n",
       "      <th>gb_used</th>\n",
       "      <th>gb_per_month_included</th>\n",
       "      <th>monthly_income</th>\n",
       "    </tr>\n",
       "    <tr>\n",
       "      <th>user_id</th>\n",
       "      <th>month</th>\n",
       "      <th></th>\n",
       "      <th></th>\n",
       "      <th></th>\n",
       "      <th></th>\n",
       "      <th></th>\n",
       "      <th></th>\n",
       "      <th></th>\n",
       "      <th></th>\n",
       "      <th></th>\n",
       "      <th></th>\n",
       "      <th></th>\n",
       "      <th></th>\n",
       "      <th></th>\n",
       "      <th></th>\n",
       "      <th></th>\n",
       "      <th></th>\n",
       "      <th></th>\n",
       "      <th></th>\n",
       "      <th></th>\n",
       "      <th></th>\n",
       "      <th></th>\n",
       "    </tr>\n",
       "  </thead>\n",
       "  <tbody>\n",
       "    <tr>\n",
       "      <th rowspan=\"5\" valign=\"top\">1000</th>\n",
       "      <th>5.0</th>\n",
       "      <td>22</td>\n",
       "      <td>159.0</td>\n",
       "      <td>22</td>\n",
       "      <td>2253.49</td>\n",
       "      <td>0</td>\n",
       "      <td>52</td>\n",
       "      <td>NaT</td>\n",
       "      <td>Краснодар</td>\n",
       "      <td>Рафаил</td>\n",
       "      <td>Верещагин</td>\n",
       "      <td>...</td>\n",
       "      <td>1000</td>\n",
       "      <td>30720</td>\n",
       "      <td>3000</td>\n",
       "      <td>1950</td>\n",
       "      <td>150</td>\n",
       "      <td>1</td>\n",
       "      <td>1</td>\n",
       "      <td>3</td>\n",
       "      <td>30</td>\n",
       "      <td>1950.0</td>\n",
       "    </tr>\n",
       "    <tr>\n",
       "      <th>6.0</th>\n",
       "      <td>43</td>\n",
       "      <td>172.0</td>\n",
       "      <td>60</td>\n",
       "      <td>23233.77</td>\n",
       "      <td>0</td>\n",
       "      <td>52</td>\n",
       "      <td>NaT</td>\n",
       "      <td>Краснодар</td>\n",
       "      <td>Рафаил</td>\n",
       "      <td>Верещагин</td>\n",
       "      <td>...</td>\n",
       "      <td>1000</td>\n",
       "      <td>30720</td>\n",
       "      <td>3000</td>\n",
       "      <td>1950</td>\n",
       "      <td>150</td>\n",
       "      <td>1</td>\n",
       "      <td>1</td>\n",
       "      <td>23</td>\n",
       "      <td>30</td>\n",
       "      <td>1950.0</td>\n",
       "    </tr>\n",
       "    <tr>\n",
       "      <th>7.0</th>\n",
       "      <td>47</td>\n",
       "      <td>340.0</td>\n",
       "      <td>75</td>\n",
       "      <td>14003.64</td>\n",
       "      <td>0</td>\n",
       "      <td>52</td>\n",
       "      <td>NaT</td>\n",
       "      <td>Краснодар</td>\n",
       "      <td>Рафаил</td>\n",
       "      <td>Верещагин</td>\n",
       "      <td>...</td>\n",
       "      <td>1000</td>\n",
       "      <td>30720</td>\n",
       "      <td>3000</td>\n",
       "      <td>1950</td>\n",
       "      <td>150</td>\n",
       "      <td>1</td>\n",
       "      <td>1</td>\n",
       "      <td>14</td>\n",
       "      <td>30</td>\n",
       "      <td>1950.0</td>\n",
       "    </tr>\n",
       "    <tr>\n",
       "      <th>8.0</th>\n",
       "      <td>52</td>\n",
       "      <td>408.0</td>\n",
       "      <td>81</td>\n",
       "      <td>14055.93</td>\n",
       "      <td>0</td>\n",
       "      <td>52</td>\n",
       "      <td>NaT</td>\n",
       "      <td>Краснодар</td>\n",
       "      <td>Рафаил</td>\n",
       "      <td>Верещагин</td>\n",
       "      <td>...</td>\n",
       "      <td>1000</td>\n",
       "      <td>30720</td>\n",
       "      <td>3000</td>\n",
       "      <td>1950</td>\n",
       "      <td>150</td>\n",
       "      <td>1</td>\n",
       "      <td>1</td>\n",
       "      <td>14</td>\n",
       "      <td>30</td>\n",
       "      <td>1950.0</td>\n",
       "    </tr>\n",
       "    <tr>\n",
       "      <th>9.0</th>\n",
       "      <td>58</td>\n",
       "      <td>466.0</td>\n",
       "      <td>57</td>\n",
       "      <td>14568.91</td>\n",
       "      <td>0</td>\n",
       "      <td>52</td>\n",
       "      <td>NaT</td>\n",
       "      <td>Краснодар</td>\n",
       "      <td>Рафаил</td>\n",
       "      <td>Верещагин</td>\n",
       "      <td>...</td>\n",
       "      <td>1000</td>\n",
       "      <td>30720</td>\n",
       "      <td>3000</td>\n",
       "      <td>1950</td>\n",
       "      <td>150</td>\n",
       "      <td>1</td>\n",
       "      <td>1</td>\n",
       "      <td>15</td>\n",
       "      <td>30</td>\n",
       "      <td>1950.0</td>\n",
       "    </tr>\n",
       "    <tr>\n",
       "      <th>...</th>\n",
       "      <th>...</th>\n",
       "      <td>...</td>\n",
       "      <td>...</td>\n",
       "      <td>...</td>\n",
       "      <td>...</td>\n",
       "      <td>...</td>\n",
       "      <td>...</td>\n",
       "      <td>...</td>\n",
       "      <td>...</td>\n",
       "      <td>...</td>\n",
       "      <td>...</td>\n",
       "      <td>...</td>\n",
       "      <td>...</td>\n",
       "      <td>...</td>\n",
       "      <td>...</td>\n",
       "      <td>...</td>\n",
       "      <td>...</td>\n",
       "      <td>...</td>\n",
       "      <td>...</td>\n",
       "      <td>...</td>\n",
       "      <td>...</td>\n",
       "      <td>...</td>\n",
       "    </tr>\n",
       "    <tr>\n",
       "      <th rowspan=\"3\" valign=\"top\">1489</th>\n",
       "      <th>10.0</th>\n",
       "      <td>0</td>\n",
       "      <td>0.0</td>\n",
       "      <td>21</td>\n",
       "      <td>19559.44</td>\n",
       "      <td>489</td>\n",
       "      <td>35</td>\n",
       "      <td>NaT</td>\n",
       "      <td>Санкт-Петербург</td>\n",
       "      <td>Павел</td>\n",
       "      <td>Гончаров</td>\n",
       "      <td>...</td>\n",
       "      <td>50</td>\n",
       "      <td>15360</td>\n",
       "      <td>500</td>\n",
       "      <td>550</td>\n",
       "      <td>200</td>\n",
       "      <td>3</td>\n",
       "      <td>3</td>\n",
       "      <td>20</td>\n",
       "      <td>15</td>\n",
       "      <td>1550.0</td>\n",
       "    </tr>\n",
       "    <tr>\n",
       "      <th>11.0</th>\n",
       "      <td>0</td>\n",
       "      <td>0.0</td>\n",
       "      <td>20</td>\n",
       "      <td>17491.56</td>\n",
       "      <td>489</td>\n",
       "      <td>35</td>\n",
       "      <td>NaT</td>\n",
       "      <td>Санкт-Петербург</td>\n",
       "      <td>Павел</td>\n",
       "      <td>Гончаров</td>\n",
       "      <td>...</td>\n",
       "      <td>50</td>\n",
       "      <td>15360</td>\n",
       "      <td>500</td>\n",
       "      <td>550</td>\n",
       "      <td>200</td>\n",
       "      <td>3</td>\n",
       "      <td>3</td>\n",
       "      <td>18</td>\n",
       "      <td>15</td>\n",
       "      <td>1150.0</td>\n",
       "    </tr>\n",
       "    <tr>\n",
       "      <th>12.0</th>\n",
       "      <td>0</td>\n",
       "      <td>0.0</td>\n",
       "      <td>35</td>\n",
       "      <td>17322.51</td>\n",
       "      <td>489</td>\n",
       "      <td>35</td>\n",
       "      <td>NaT</td>\n",
       "      <td>Санкт-Петербург</td>\n",
       "      <td>Павел</td>\n",
       "      <td>Гончаров</td>\n",
       "      <td>...</td>\n",
       "      <td>50</td>\n",
       "      <td>15360</td>\n",
       "      <td>500</td>\n",
       "      <td>550</td>\n",
       "      <td>200</td>\n",
       "      <td>3</td>\n",
       "      <td>3</td>\n",
       "      <td>17</td>\n",
       "      <td>15</td>\n",
       "      <td>950.0</td>\n",
       "    </tr>\n",
       "    <tr>\n",
       "      <th>1128</th>\n",
       "      <th>NaN</th>\n",
       "      <td>0</td>\n",
       "      <td>0.0</td>\n",
       "      <td>0</td>\n",
       "      <td>0.00</td>\n",
       "      <td>128</td>\n",
       "      <td>51</td>\n",
       "      <td>2018-12-23</td>\n",
       "      <td>Волжский</td>\n",
       "      <td>Ксения</td>\n",
       "      <td>Агаева</td>\n",
       "      <td>...</td>\n",
       "      <td>1000</td>\n",
       "      <td>30720</td>\n",
       "      <td>3000</td>\n",
       "      <td>1950</td>\n",
       "      <td>150</td>\n",
       "      <td>1</td>\n",
       "      <td>1</td>\n",
       "      <td>0</td>\n",
       "      <td>30</td>\n",
       "      <td>1950.0</td>\n",
       "    </tr>\n",
       "    <tr>\n",
       "      <th>1371</th>\n",
       "      <th>NaN</th>\n",
       "      <td>0</td>\n",
       "      <td>0.0</td>\n",
       "      <td>0</td>\n",
       "      <td>0.00</td>\n",
       "      <td>371</td>\n",
       "      <td>50</td>\n",
       "      <td>2018-12-30</td>\n",
       "      <td>Омск</td>\n",
       "      <td>Ириней</td>\n",
       "      <td>Трофимов</td>\n",
       "      <td>...</td>\n",
       "      <td>50</td>\n",
       "      <td>15360</td>\n",
       "      <td>500</td>\n",
       "      <td>550</td>\n",
       "      <td>200</td>\n",
       "      <td>3</td>\n",
       "      <td>3</td>\n",
       "      <td>0</td>\n",
       "      <td>15</td>\n",
       "      <td>550.0</td>\n",
       "    </tr>\n",
       "  </tbody>\n",
       "</table>\n",
       "<p>3216 rows × 23 columns</p>\n",
       "</div>"
      ],
      "text/plain": [
       "               calls_count  calls_minutes  messages_count   mb_used  index_x  \\\n",
       "user_id month                                                                  \n",
       "1000    5.0             22          159.0              22   2253.49        0   \n",
       "        6.0             43          172.0              60  23233.77        0   \n",
       "        7.0             47          340.0              75  14003.64        0   \n",
       "        8.0             52          408.0              81  14055.93        0   \n",
       "        9.0             58          466.0              57  14568.91        0   \n",
       "...                    ...            ...             ...       ...      ...   \n",
       "1489    10.0             0            0.0              21  19559.44      489   \n",
       "        11.0             0            0.0              20  17491.56      489   \n",
       "        12.0             0            0.0              35  17322.51      489   \n",
       "1128    NaN              0            0.0               0      0.00      128   \n",
       "1371    NaN              0            0.0               0      0.00      371   \n",
       "\n",
       "               age churn_date             city first_name  last_name  ...  \\\n",
       "user_id month                                                         ...   \n",
       "1000    5.0     52        NaT        Краснодар     Рафаил  Верещагин  ...   \n",
       "        6.0     52        NaT        Краснодар     Рафаил  Верещагин  ...   \n",
       "        7.0     52        NaT        Краснодар     Рафаил  Верещагин  ...   \n",
       "        8.0     52        NaT        Краснодар     Рафаил  Верещагин  ...   \n",
       "        9.0     52        NaT        Краснодар     Рафаил  Верещагин  ...   \n",
       "...            ...        ...              ...        ...        ...  ...   \n",
       "1489    10.0    35        NaT  Санкт-Петербург      Павел   Гончаров  ...   \n",
       "        11.0    35        NaT  Санкт-Петербург      Павел   Гончаров  ...   \n",
       "        12.0    35        NaT  Санкт-Петербург      Павел   Гончаров  ...   \n",
       "1128    NaN     51 2018-12-23         Волжский     Ксения     Агаева  ...   \n",
       "1371    NaN     50 2018-12-30             Омск     Ириней   Трофимов  ...   \n",
       "\n",
       "              messages_included mb_per_month_included  minutes_included  \\\n",
       "user_id month                                                             \n",
       "1000    5.0                1000                 30720              3000   \n",
       "        6.0                1000                 30720              3000   \n",
       "        7.0                1000                 30720              3000   \n",
       "        8.0                1000                 30720              3000   \n",
       "        9.0                1000                 30720              3000   \n",
       "...                         ...                   ...               ...   \n",
       "1489    10.0                 50                 15360               500   \n",
       "        11.0                 50                 15360               500   \n",
       "        12.0                 50                 15360               500   \n",
       "1128    NaN                1000                 30720              3000   \n",
       "1371    NaN                  50                 15360               500   \n",
       "\n",
       "               rub_monthly_fee  rub_per_gb  rub_per_message  rub_per_minute  \\\n",
       "user_id month                                                                 \n",
       "1000    5.0               1950         150                1               1   \n",
       "        6.0               1950         150                1               1   \n",
       "        7.0               1950         150                1               1   \n",
       "        8.0               1950         150                1               1   \n",
       "        9.0               1950         150                1               1   \n",
       "...                        ...         ...              ...             ...   \n",
       "1489    10.0               550         200                3               3   \n",
       "        11.0               550         200                3               3   \n",
       "        12.0               550         200                3               3   \n",
       "1128    NaN               1950         150                1               1   \n",
       "1371    NaN                550         200                3               3   \n",
       "\n",
       "               gb_used  gb_per_month_included  monthly_income  \n",
       "user_id month                                                  \n",
       "1000    5.0          3                     30          1950.0  \n",
       "        6.0         23                     30          1950.0  \n",
       "        7.0         14                     30          1950.0  \n",
       "        8.0         14                     30          1950.0  \n",
       "        9.0         15                     30          1950.0  \n",
       "...                ...                    ...             ...  \n",
       "1489    10.0        20                     15          1550.0  \n",
       "        11.0        18                     15          1150.0  \n",
       "        12.0        17                     15           950.0  \n",
       "1128    NaN          0                     30          1950.0  \n",
       "1371    NaN          0                     15           550.0  \n",
       "\n",
       "[3216 rows x 23 columns]"
      ]
     },
     "execution_count": 43,
     "metadata": {},
     "output_type": "execute_result"
    }
   ],
   "source": [
    "# Объединенная таблица\n",
    "users_by_month"
   ]
  },
  {
   "cell_type": "code",
   "execution_count": 44,
   "metadata": {},
   "outputs": [
    {
     "data": {
      "text/plain": [
       "4916951.0"
      ]
     },
     "execution_count": 44,
     "metadata": {},
     "output_type": "execute_result"
    }
   ],
   "source": [
    "users_by_month['monthly_income'].sum()"
   ]
  },
  {
   "cell_type": "markdown",
   "metadata": {},
   "source": [
    "## Описательная статистика"
   ]
  },
  {
   "cell_type": "markdown",
   "metadata": {},
   "source": [
    "Мы получили общую таблицу. Далее нам интересно узнать поведение клиентов, пользующихся разными тарифами. Для этого создадим два среза для каждого тарифа отдельно."
   ]
  },
  {
   "cell_type": "code",
   "execution_count": 45,
   "metadata": {},
   "outputs": [],
   "source": [
    "# Создаем срезы для тарифов 'Smart' и 'Ultra'\n",
    "users_by_month_t_smart = users_by_month.query(\"tariff_name == 'smart'\")\n",
    "users_by_month_t_ultra = users_by_month.query(\"tariff_name == 'ultra'\")"
   ]
  },
  {
   "cell_type": "code",
   "execution_count": 46,
   "metadata": {},
   "outputs": [
    {
     "data": {
      "text/plain": [
       "smart    0.702\n",
       "ultra    0.298\n",
       "Name: tariff_name, dtype: float64"
      ]
     },
     "execution_count": 46,
     "metadata": {},
     "output_type": "execute_result"
    },
    {
     "data": {
      "image/png": "[encoded data removed]",
      "text/plain": [
       "<Figure size 640x480 with 1 Axes>"
      ]
     },
     "metadata": {},
     "output_type": "display_data"
    }
   ],
   "source": [
    "# Построим график с количеством пользователей каждого из тарифов и выведем доли пользователей по тарифам\n",
    "data = (\n",
    "    users_by_month.groupby('user_id')['tariff_name']\n",
    "    .first().sort_values(ascending=True)\n",
    ")\n",
    "\n",
    "sns.countplot(x=data)\n",
    "users_by_month.groupby('user_id')['tariff_name'].first().value_counts(normalize=True)"
   ]
  },
  {
   "cell_type": "markdown",
   "metadata": {},
   "source": [
    "Около 70% клиентов предпочитают тариф `Smart`, который дешевле и имеет большие ограничения в сравнении с тарифом `Ultra`."
   ]
  },
  {
   "cell_type": "markdown",
   "metadata": {},
   "source": [
    "Построим гисторгаммы для среднего ежемесячного количества использованных минут, среднего ежемесячного количества отправленных сообщений и среднего ежемесячного объема потраченного интернет-трафика для каждого тарифа отдельно."
   ]
  },
  {
   "cell_type": "code",
   "execution_count": 47,
   "metadata": {},
   "outputs": [
    {
     "data": {
      "image/png": "[encoded data removed]",
      "text/plain": [
       "<Figure size 2000x500 with 3 Axes>"
      ]
     },
     "metadata": {},
     "output_type": "display_data"
    }
   ],
   "source": [
    "fig, axs = plt.subplots(1, 3, figsize=(20,5))\n",
    "axs = axs.ravel()\n",
    "for idx, ax in enumerate(axs):\n",
    "    ax.hist(users_by_month_t_smart.groupby('user_id')[users_by_month_t_ultra.columns[idx+1]].mean(), label='Smart', alpha=0.5)\n",
    "    ax.hist(users_by_month_t_ultra.groupby('user_id')[users_by_month_t_ultra.columns[idx+1]].mean(), label='Ultra', alpha=0.5)\n",
    "    ax.set_title(users_by_month_t_ultra.columns[idx+1])\n",
    "    ax.legend()\n",
    "plt.tight_layout()"
   ]
  },
  {
   "cell_type": "markdown",
   "metadata": {},
   "source": [
    "На гистограммах видна ощутимая разница в поведении между клиентами разных тарифов. Чтобы можно было лучше сравнить две выборки рассчитаем среднее значение, дисперсию и стандартное отклонение для каждой колонки. Для удобства создадим функцию для вывода статистических показателей и построения гистограмм."
   ]
  },
  {
   "cell_type": "code",
   "execution_count": 48,
   "metadata": {},
   "outputs": [],
   "source": [
    "# Создадим функцию для рассчета статистических показателей\n",
    "def calc_stats(data, column):\n",
    "    tariffs = ['smart', 'ultra']\n",
    "    print(column)\n",
    "    for tariff in tariffs:\n",
    "        # Фильтруем таблицу по тарифу\n",
    "        filtered = data.query(\"tariff_name == @tariff\")\n",
    "        grouped = filtered.groupby('user_id')[column].mean()\n",
    "        \n",
    "        # Выведем гистограмму для тарифов\n",
    "        grouped.hist(label=tariff, alpha=0.5, figsize=(5,4))\n",
    "        plt.title('Сравнение тарифов Smart и Ultra')\n",
    "        plt.legend()\n",
    "        plt.tight_layout()\n",
    "        \n",
    "        # Рассчитаем статистические показатели\n",
    "        mean = grouped.mean()\n",
    "        var = np.var(grouped, ddof=1)\n",
    "        std = np.std(grouped, ddof=1)\n",
    "        print()\n",
    "        print()\n",
    "        print('Тариф ', tariff)\n",
    "        print()\n",
    "        print('Среднее -', round(mean, 2))\n",
    "        print('Дисперсия -', round(var, 2))\n",
    "        print('Стандартное отклонение -', round(std, 2))"
   ]
  },
  {
   "cell_type": "code",
   "execution_count": 49,
   "metadata": {},
   "outputs": [
    {
     "name": "stdout",
     "output_type": "stream",
     "text": [
      "calls_minutes\n",
      "\n",
      "\n",
      "Тариф  smart\n",
      "\n",
      "Среднее - 418.44\n",
      "Дисперсия - 21475.74\n",
      "Стандартное отклонение - 146.55\n",
      "\n",
      "\n",
      "Тариф  ultra\n",
      "\n",
      "Среднее - 524.28\n",
      "Дисперсия - 80736.81\n",
      "Стандартное отклонение - 284.14\n"
     ]
    },
    {
     "data": {
      "image/png": "[encoded data removed]",
      "text/plain": [
       "<Figure size 500x400 with 1 Axes>"
      ]
     },
     "metadata": {},
     "output_type": "display_data"
    }
   ],
   "source": [
    "# Посчитаем статистические данные для количества использованных минут\n",
    "calc_stats(users_by_month, 'calls_minutes')"
   ]
  },
  {
   "cell_type": "markdown",
   "metadata": {},
   "source": [
    "Количество использованных минут в месяц для пользователей тарифа `smart` имеет ярко выраженный купол в области 350-450 минут, когда для тарифа `ultra` такого явно выраженного купола не заметно, но второй тариф имеет небольшой пик в области 500 минут.<br>\n",
    "Также на графике видно, что значительная часть пользователей тарифа `smart` выходит за рамки 500 минут, которые включены в абонентскую плату, и тем самым приносят дополнительный доход. Пользователи же тарифа `ultra` пользуются в пределах включенного в стоимость тарифа пакета минут.<br>\n",
    "Большие среднее значение и стандартное отклонение указывают на то, что пользователи тарифа `ultra` имеют склонность к более длительной продолжительности разговоров.<br>\n",
    "В среднем пользователям тарифа `smart` для общения необходимо 400 минут в месяц, а пользователям тарифа `ultra` - 500 минут в месяц."
   ]
  },
  {
   "cell_type": "code",
   "execution_count": 50,
   "metadata": {},
   "outputs": [
    {
     "name": "stdout",
     "output_type": "stream",
     "text": [
      "messages_count\n",
      "\n",
      "\n",
      "Тариф  smart\n",
      "\n",
      "Среднее - 32.26\n",
      "Дисперсия - 703.88\n",
      "Стандартное отклонение - 26.53\n",
      "\n",
      "\n",
      "Тариф  ultra\n",
      "\n",
      "Среднее - 53.67\n",
      "Дисперсия - 2154.9\n",
      "Стандартное отклонение - 46.42\n"
     ]
    },
    {
     "data": {
      "image/png": "[encoded data removed]",
      "text/plain": [
       "<Figure size 500x400 with 1 Axes>"
      ]
     },
     "metadata": {},
     "output_type": "display_data"
    }
   ],
   "source": [
    "# Посчитаем статистические данные для количества отправленных сообщений\n",
    "calc_stats(users_by_month, 'messages_count')"
   ]
  },
  {
   "cell_type": "markdown",
   "metadata": {},
   "source": [
    "По полученным данным можно сказать, что пользователи тарифа `ultra` чаще отправляют сообщения, на что так же указывает и большее стандартное отклонение. При этом включенного пакета сообщений в 1000 штук хватает, чтобы оставаться в рамках ограничений и не переплачивать.<br>\n",
    "Среди пользователей тарифа `smart` тоже есть пользователи, которые общаются с помощью сообщений, но большая часть таких пользователей остается в рамках включенного в стоимость тарифа пакета сообщений в 50 штук.<br>\n",
    "В среднем пользователям тарифа `smart` для общения необходимо 33 сообщения в месяц, а пользователям тарифа `ultra` - 55 сообщений в месяц."
   ]
  },
  {
   "cell_type": "code",
   "execution_count": 51,
   "metadata": {},
   "outputs": [
    {
     "name": "stdout",
     "output_type": "stream",
     "text": [
      "gb_used\n",
      "\n",
      "\n",
      "Тариф  smart\n",
      "\n",
      "Среднее - 16.26\n",
      "Дисперсия - 12.98\n",
      "Стандартное отклонение - 3.6\n",
      "\n",
      "\n",
      "Тариф  ultra\n",
      "\n",
      "Среднее - 19.46\n",
      "Дисперсия - 68.0\n",
      "Стандартное отклонение - 8.25\n"
     ]
    },
    {
     "data": {
      "image/png": "[encoded data removed]",
      "text/plain": [
       "<Figure size 500x400 with 1 Axes>"
      ]
     },
     "metadata": {},
     "output_type": "display_data"
    }
   ],
   "source": [
    "# Посчитаем статистические данные для израсходованного объема интернет-трафика\n",
    "calc_stats(users_by_month, 'gb_used')"
   ]
  },
  {
   "cell_type": "markdown",
   "metadata": {},
   "source": [
    "Объем потребляемого интернет-трафика больше среди пользователей тарифа `ultra`. В среднем в месяц пользователи тарифа `ultra` потребляют 20 гигабайт трафика, а пользователи тарифа `smart` - 16 гигабайт.<br>\n",
    "В обоих случаях включенного в тарифы объема трафика хватает не всем и значительная часть пользователей расходует больше интернет-трафика, что приносит компании дополнительный доход."
   ]
  },
  {
   "cell_type": "markdown",
   "metadata": {},
   "source": [
    "В рассмотренных распределениях заметна закономерность для пользователей тарифа `smart` - среднее значение находится практически на том уровне, на котором заканчивается объем включенного в тариф пакета услуг, что может указывать на то, что некоторые пользователи контролируют собственный уровень потребления услугами, чтобы не переплачивать за них в конце месяца.<br>\n",
    "Для пользователей тарифа `ultra` такая закономерность не прослеживается, их поведение не обусловлено ограничениями тарифа, т.к. в большинстве случаев уровень ограничений гораздо выше реального уровня потребления пользователями услуг."
   ]
  },
  {
   "cell_type": "markdown",
   "metadata": {},
   "source": [
    "Посмотрим общий доход по каждому тарифу по месяцам. Построим сводную таблицу."
   ]
  },
  {
   "cell_type": "code",
   "execution_count": 52,
   "metadata": {},
   "outputs": [
    {
     "data": {
      "text/html": [
       "<div>\n",
       "<style scoped>\n",
       "    .dataframe tbody tr th:only-of-type {\n",
       "        vertical-align: middle;\n",
       "    }\n",
       "\n",
       "    .dataframe tbody tr th {\n",
       "        vertical-align: top;\n",
       "    }\n",
       "\n",
       "    .dataframe thead tr th {\n",
       "        text-align: left;\n",
       "    }\n",
       "\n",
       "    .dataframe thead tr:last-of-type th {\n",
       "        text-align: right;\n",
       "    }\n",
       "</style>\n",
       "<table border=\"1\" class=\"dataframe\">\n",
       "  <thead>\n",
       "    <tr>\n",
       "      <th></th>\n",
       "      <th colspan=\"3\" halign=\"left\">count</th>\n",
       "      <th colspan=\"3\" halign=\"left\">sum</th>\n",
       "    </tr>\n",
       "    <tr>\n",
       "      <th>tariff_name</th>\n",
       "      <th>smart</th>\n",
       "      <th>ultra</th>\n",
       "      <th>All</th>\n",
       "      <th>smart</th>\n",
       "      <th>ultra</th>\n",
       "      <th>All</th>\n",
       "    </tr>\n",
       "    <tr>\n",
       "      <th>month</th>\n",
       "      <th></th>\n",
       "      <th></th>\n",
       "      <th></th>\n",
       "      <th></th>\n",
       "      <th></th>\n",
       "      <th></th>\n",
       "    </tr>\n",
       "  </thead>\n",
       "  <tbody>\n",
       "    <tr>\n",
       "      <th>1.0</th>\n",
       "      <td>34</td>\n",
       "      <td>9</td>\n",
       "      <td>43</td>\n",
       "      <td>24525.0</td>\n",
       "      <td>17550.0</td>\n",
       "      <td>42075.0</td>\n",
       "    </tr>\n",
       "    <tr>\n",
       "      <th>2.0</th>\n",
       "      <td>58</td>\n",
       "      <td>24</td>\n",
       "      <td>82</td>\n",
       "      <td>48001.0</td>\n",
       "      <td>47400.0</td>\n",
       "      <td>95401.0</td>\n",
       "    </tr>\n",
       "    <tr>\n",
       "      <th>3.0</th>\n",
       "      <td>77</td>\n",
       "      <td>37</td>\n",
       "      <td>114</td>\n",
       "      <td>89676.0</td>\n",
       "      <td>74550.0</td>\n",
       "      <td>164226.0</td>\n",
       "    </tr>\n",
       "    <tr>\n",
       "      <th>4.0</th>\n",
       "      <td>112</td>\n",
       "      <td>55</td>\n",
       "      <td>167</td>\n",
       "      <td>107866.0</td>\n",
       "      <td>110100.0</td>\n",
       "      <td>217966.0</td>\n",
       "    </tr>\n",
       "    <tr>\n",
       "      <th>5.0</th>\n",
       "      <td>141</td>\n",
       "      <td>67</td>\n",
       "      <td>208</td>\n",
       "      <td>168849.0</td>\n",
       "      <td>138000.0</td>\n",
       "      <td>306849.0</td>\n",
       "    </tr>\n",
       "    <tr>\n",
       "      <th>6.0</th>\n",
       "      <td>164</td>\n",
       "      <td>84</td>\n",
       "      <td>248</td>\n",
       "      <td>197459.0</td>\n",
       "      <td>171300.0</td>\n",
       "      <td>368759.0</td>\n",
       "    </tr>\n",
       "    <tr>\n",
       "      <th>7.0</th>\n",
       "      <td>201</td>\n",
       "      <td>91</td>\n",
       "      <td>292</td>\n",
       "      <td>246014.0</td>\n",
       "      <td>192750.0</td>\n",
       "      <td>438764.0</td>\n",
       "    </tr>\n",
       "    <tr>\n",
       "      <th>8.0</th>\n",
       "      <td>235</td>\n",
       "      <td>107</td>\n",
       "      <td>342</td>\n",
       "      <td>310340.0</td>\n",
       "      <td>222900.0</td>\n",
       "      <td>533240.0</td>\n",
       "    </tr>\n",
       "    <tr>\n",
       "      <th>9.0</th>\n",
       "      <td>260</td>\n",
       "      <td>115</td>\n",
       "      <td>375</td>\n",
       "      <td>324986.0</td>\n",
       "      <td>232800.0</td>\n",
       "      <td>557786.0</td>\n",
       "    </tr>\n",
       "    <tr>\n",
       "      <th>10.0</th>\n",
       "      <td>294</td>\n",
       "      <td>123</td>\n",
       "      <td>417</td>\n",
       "      <td>401267.0</td>\n",
       "      <td>254100.0</td>\n",
       "      <td>655367.0</td>\n",
       "    </tr>\n",
       "    <tr>\n",
       "      <th>11.0</th>\n",
       "      <td>316</td>\n",
       "      <td>134</td>\n",
       "      <td>450</td>\n",
       "      <td>424403.0</td>\n",
       "      <td>280350.0</td>\n",
       "      <td>704753.0</td>\n",
       "    </tr>\n",
       "    <tr>\n",
       "      <th>12.0</th>\n",
       "      <td>337</td>\n",
       "      <td>139</td>\n",
       "      <td>476</td>\n",
       "      <td>531965.0</td>\n",
       "      <td>297300.0</td>\n",
       "      <td>829265.0</td>\n",
       "    </tr>\n",
       "    <tr>\n",
       "      <th>All</th>\n",
       "      <td>2229</td>\n",
       "      <td>985</td>\n",
       "      <td>3214</td>\n",
       "      <td>2875351.0</td>\n",
       "      <td>2039100.0</td>\n",
       "      <td>4914451.0</td>\n",
       "    </tr>\n",
       "  </tbody>\n",
       "</table>\n",
       "</div>"
      ],
      "text/plain": [
       "            count                    sum                      \n",
       "tariff_name smart ultra   All      smart      ultra        All\n",
       "month                                                         \n",
       "1.0            34     9    43    24525.0    17550.0    42075.0\n",
       "2.0            58    24    82    48001.0    47400.0    95401.0\n",
       "3.0            77    37   114    89676.0    74550.0   164226.0\n",
       "4.0           112    55   167   107866.0   110100.0   217966.0\n",
       "5.0           141    67   208   168849.0   138000.0   306849.0\n",
       "6.0           164    84   248   197459.0   171300.0   368759.0\n",
       "7.0           201    91   292   246014.0   192750.0   438764.0\n",
       "8.0           235   107   342   310340.0   222900.0   533240.0\n",
       "9.0           260   115   375   324986.0   232800.0   557786.0\n",
       "10.0          294   123   417   401267.0   254100.0   655367.0\n",
       "11.0          316   134   450   424403.0   280350.0   704753.0\n",
       "12.0          337   139   476   531965.0   297300.0   829265.0\n",
       "All          2229   985  3214  2875351.0  2039100.0  4914451.0"
      ]
     },
     "execution_count": 52,
     "metadata": {},
     "output_type": "execute_result"
    }
   ],
   "source": [
    "# Строим сводную таблицу\n",
    "income_by_month = users_by_month.reset_index().pivot_table(index='month', \n",
    "                                         columns='tariff_name', \n",
    "                                         values='monthly_income', \n",
    "                                         aggfunc=['count', 'sum'], \n",
    "                                         margins=True)\n",
    "\n",
    "income_by_month"
   ]
  },
  {
   "cell_type": "markdown",
   "metadata": {},
   "source": [
    "Если смотреть по общей выручке по месяцам и за год, то тариф \"Смарт\" приносит больше выручки. Но мы видим, что и тех, кто пользуется тарифом \"Смарт\" больше.<br>\n",
    "Посчитаем сколько в среднем выручки приносит 1 пользователь тарифа."
   ]
  },
  {
   "cell_type": "code",
   "execution_count": 53,
   "metadata": {},
   "outputs": [
    {
     "data": {
      "text/html": [
       "<div>\n",
       "<style scoped>\n",
       "    .dataframe tbody tr th:only-of-type {\n",
       "        vertical-align: middle;\n",
       "    }\n",
       "\n",
       "    .dataframe tbody tr th {\n",
       "        vertical-align: top;\n",
       "    }\n",
       "\n",
       "    .dataframe thead tr th {\n",
       "        text-align: left;\n",
       "    }\n",
       "\n",
       "    .dataframe thead tr:last-of-type th {\n",
       "        text-align: right;\n",
       "    }\n",
       "</style>\n",
       "<table border=\"1\" class=\"dataframe\">\n",
       "  <thead>\n",
       "    <tr>\n",
       "      <th></th>\n",
       "      <th colspan=\"3\" halign=\"left\">count</th>\n",
       "      <th colspan=\"3\" halign=\"left\">sum</th>\n",
       "      <th>income_by_client_smart</th>\n",
       "      <th>income_by_client_ultra</th>\n",
       "    </tr>\n",
       "    <tr>\n",
       "      <th>tariff_name</th>\n",
       "      <th>smart</th>\n",
       "      <th>ultra</th>\n",
       "      <th>All</th>\n",
       "      <th>smart</th>\n",
       "      <th>ultra</th>\n",
       "      <th>All</th>\n",
       "      <th></th>\n",
       "      <th></th>\n",
       "    </tr>\n",
       "    <tr>\n",
       "      <th>month</th>\n",
       "      <th></th>\n",
       "      <th></th>\n",
       "      <th></th>\n",
       "      <th></th>\n",
       "      <th></th>\n",
       "      <th></th>\n",
       "      <th></th>\n",
       "      <th></th>\n",
       "    </tr>\n",
       "  </thead>\n",
       "  <tbody>\n",
       "    <tr>\n",
       "      <th>1.0</th>\n",
       "      <td>34</td>\n",
       "      <td>9</td>\n",
       "      <td>43</td>\n",
       "      <td>24525.0</td>\n",
       "      <td>17550.0</td>\n",
       "      <td>42075.0</td>\n",
       "      <td>721</td>\n",
       "      <td>1950</td>\n",
       "    </tr>\n",
       "    <tr>\n",
       "      <th>2.0</th>\n",
       "      <td>58</td>\n",
       "      <td>24</td>\n",
       "      <td>82</td>\n",
       "      <td>48001.0</td>\n",
       "      <td>47400.0</td>\n",
       "      <td>95401.0</td>\n",
       "      <td>827</td>\n",
       "      <td>1975</td>\n",
       "    </tr>\n",
       "    <tr>\n",
       "      <th>3.0</th>\n",
       "      <td>77</td>\n",
       "      <td>37</td>\n",
       "      <td>114</td>\n",
       "      <td>89676.0</td>\n",
       "      <td>74550.0</td>\n",
       "      <td>164226.0</td>\n",
       "      <td>1164</td>\n",
       "      <td>2014</td>\n",
       "    </tr>\n",
       "    <tr>\n",
       "      <th>4.0</th>\n",
       "      <td>112</td>\n",
       "      <td>55</td>\n",
       "      <td>167</td>\n",
       "      <td>107866.0</td>\n",
       "      <td>110100.0</td>\n",
       "      <td>217966.0</td>\n",
       "      <td>963</td>\n",
       "      <td>2001</td>\n",
       "    </tr>\n",
       "    <tr>\n",
       "      <th>5.0</th>\n",
       "      <td>141</td>\n",
       "      <td>67</td>\n",
       "      <td>208</td>\n",
       "      <td>168849.0</td>\n",
       "      <td>138000.0</td>\n",
       "      <td>306849.0</td>\n",
       "      <td>1197</td>\n",
       "      <td>2059</td>\n",
       "    </tr>\n",
       "    <tr>\n",
       "      <th>6.0</th>\n",
       "      <td>164</td>\n",
       "      <td>84</td>\n",
       "      <td>248</td>\n",
       "      <td>197459.0</td>\n",
       "      <td>171300.0</td>\n",
       "      <td>368759.0</td>\n",
       "      <td>1204</td>\n",
       "      <td>2039</td>\n",
       "    </tr>\n",
       "    <tr>\n",
       "      <th>7.0</th>\n",
       "      <td>201</td>\n",
       "      <td>91</td>\n",
       "      <td>292</td>\n",
       "      <td>246014.0</td>\n",
       "      <td>192750.0</td>\n",
       "      <td>438764.0</td>\n",
       "      <td>1223</td>\n",
       "      <td>2118</td>\n",
       "    </tr>\n",
       "    <tr>\n",
       "      <th>8.0</th>\n",
       "      <td>235</td>\n",
       "      <td>107</td>\n",
       "      <td>342</td>\n",
       "      <td>310340.0</td>\n",
       "      <td>222900.0</td>\n",
       "      <td>533240.0</td>\n",
       "      <td>1320</td>\n",
       "      <td>2083</td>\n",
       "    </tr>\n",
       "    <tr>\n",
       "      <th>9.0</th>\n",
       "      <td>260</td>\n",
       "      <td>115</td>\n",
       "      <td>375</td>\n",
       "      <td>324986.0</td>\n",
       "      <td>232800.0</td>\n",
       "      <td>557786.0</td>\n",
       "      <td>1249</td>\n",
       "      <td>2024</td>\n",
       "    </tr>\n",
       "    <tr>\n",
       "      <th>10.0</th>\n",
       "      <td>294</td>\n",
       "      <td>123</td>\n",
       "      <td>417</td>\n",
       "      <td>401267.0</td>\n",
       "      <td>254100.0</td>\n",
       "      <td>655367.0</td>\n",
       "      <td>1364</td>\n",
       "      <td>2065</td>\n",
       "    </tr>\n",
       "    <tr>\n",
       "      <th>11.0</th>\n",
       "      <td>316</td>\n",
       "      <td>134</td>\n",
       "      <td>450</td>\n",
       "      <td>424403.0</td>\n",
       "      <td>280350.0</td>\n",
       "      <td>704753.0</td>\n",
       "      <td>1343</td>\n",
       "      <td>2092</td>\n",
       "    </tr>\n",
       "    <tr>\n",
       "      <th>12.0</th>\n",
       "      <td>337</td>\n",
       "      <td>139</td>\n",
       "      <td>476</td>\n",
       "      <td>531965.0</td>\n",
       "      <td>297300.0</td>\n",
       "      <td>829265.0</td>\n",
       "      <td>1578</td>\n",
       "      <td>2138</td>\n",
       "    </tr>\n",
       "    <tr>\n",
       "      <th>All</th>\n",
       "      <td>2229</td>\n",
       "      <td>985</td>\n",
       "      <td>3214</td>\n",
       "      <td>2875351.0</td>\n",
       "      <td>2039100.0</td>\n",
       "      <td>4914451.0</td>\n",
       "      <td>1289</td>\n",
       "      <td>2070</td>\n",
       "    </tr>\n",
       "  </tbody>\n",
       "</table>\n",
       "</div>"
      ],
      "text/plain": [
       "            count                    sum                        \\\n",
       "tariff_name smart ultra   All      smart      ultra        All   \n",
       "month                                                            \n",
       "1.0            34     9    43    24525.0    17550.0    42075.0   \n",
       "2.0            58    24    82    48001.0    47400.0    95401.0   \n",
       "3.0            77    37   114    89676.0    74550.0   164226.0   \n",
       "4.0           112    55   167   107866.0   110100.0   217966.0   \n",
       "5.0           141    67   208   168849.0   138000.0   306849.0   \n",
       "6.0           164    84   248   197459.0   171300.0   368759.0   \n",
       "7.0           201    91   292   246014.0   192750.0   438764.0   \n",
       "8.0           235   107   342   310340.0   222900.0   533240.0   \n",
       "9.0           260   115   375   324986.0   232800.0   557786.0   \n",
       "10.0          294   123   417   401267.0   254100.0   655367.0   \n",
       "11.0          316   134   450   424403.0   280350.0   704753.0   \n",
       "12.0          337   139   476   531965.0   297300.0   829265.0   \n",
       "All          2229   985  3214  2875351.0  2039100.0  4914451.0   \n",
       "\n",
       "            income_by_client_smart income_by_client_ultra  \n",
       "tariff_name                                                \n",
       "month                                                      \n",
       "1.0                            721                   1950  \n",
       "2.0                            827                   1975  \n",
       "3.0                           1164                   2014  \n",
       "4.0                            963                   2001  \n",
       "5.0                           1197                   2059  \n",
       "6.0                           1204                   2039  \n",
       "7.0                           1223                   2118  \n",
       "8.0                           1320                   2083  \n",
       "9.0                           1249                   2024  \n",
       "10.0                          1364                   2065  \n",
       "11.0                          1343                   2092  \n",
       "12.0                          1578                   2138  \n",
       "All                           1289                   2070  "
      ]
     },
     "execution_count": 53,
     "metadata": {},
     "output_type": "execute_result"
    }
   ],
   "source": [
    "# Считаем средний доход с одного пользователя тарифа\n",
    "income_by_month['income_by_client_smart'] = (income_by_month['sum']['smart'] / income_by_month['count']['smart']).astype('int')\n",
    "income_by_month['income_by_client_ultra'] = (income_by_month['sum']['ultra'] / income_by_month['count']['ultra']).astype('int')\n",
    "income_by_month"
   ]
  },
  {
   "cell_type": "markdown",
   "metadata": {},
   "source": [
    "Сейчас мы видим, что один пользователь тарифа \"Ультра\" приносит в 1,5 раза больше дохода, чем один пользователь тарифа \"Смарт\"."
   ]
  },
  {
   "cell_type": "markdown",
   "metadata": {},
   "source": [
    "## Проверка гипотез"
   ]
  },
  {
   "cell_type": "markdown",
   "metadata": {},
   "source": [
    "Далее мы будем проверять несколько гипотез."
   ]
  },
  {
   "cell_type": "markdown",
   "metadata": {},
   "source": [
    "Первой мы проверим гипотезу \"Средняя выручка пользователей тарифов «Ультра» и «Смарт» различаются\".<br>\n",
    "Сформилируем для этого нулевую гипотезу: \"Средняя выручка пользователей тарифов «Ультра» равна средней выручке пользователей тарифа «Смарт»\". Альтернативной гипотезой в таком случае будет считаться: \"Средняя выручка пользователей тарифов «Ультра» не равна средней выручке пользователей тарифа «Смарт»\".<br>"
   ]
  },
  {
   "cell_type": "markdown",
   "metadata": {},
   "source": [
    "Для проверки данной гипотезы мы можем воспользоваться методом `ttest_ind()`, т.к. мы будем сравнивать средние двух выборок. При использовании данного метода мы будем ориентироваться на полученное значение p-value, если оно окажется меньше заданного нами значения alpha, то вероятность получить случайно подобные или большие различия между значениями средних будет низкой, в связи с чем мы примем решение отвергнуть нулевую гипотезу, т.к. высокая вероятность получения подобных или больших различий случайно будет указывать на неслучайное возникновение различий, а значит и сами значения будут считаться не равными."
   ]
  },
  {
   "cell_type": "code",
   "execution_count": 54,
   "metadata": {},
   "outputs": [
    {
     "name": "stdout",
     "output_type": "stream",
     "text": [
      "p-значение 8.08190955548901e-161\n",
      "Отвергаем нулевую гипотезу\n"
     ]
    }
   ],
   "source": [
    "# Проведем сравнение средних значений двух выборок\n",
    "alpha = .05\n",
    "\n",
    "smart_tariff_income = users_by_month_t_smart.\\\n",
    "                        reset_index()['monthly_income']\n",
    "\n",
    "ultra_tariff_income = users_by_month_t_ultra.\\\n",
    "                        reset_index()['monthly_income']\n",
    "\n",
    "results = st.ttest_ind(smart_tariff_income, \n",
    "                       ultra_tariff_income, \n",
    "                       equal_var=True)\n",
    "\n",
    "print('p-значение', results.pvalue)\n",
    "if results.pvalue < alpha:\n",
    "    print('Отвергаем нулевую гипотезу')\n",
    "else:\n",
    "    print('Не получилось отвергнуть нулевую гипотезу')"
   ]
  },
  {
   "cell_type": "markdown",
   "metadata": {},
   "source": [
    "Данный метод посчитал нам очень маленькое значение p-value, в связи с чем нулевая гипотеза была отвергнута. Соответственно, у нас нет каких-либо статистически значимых оснований считать, что средние выручки среди пользователей двух тарифов не различаются."
   ]
  },
  {
   "cell_type": "markdown",
   "metadata": {},
   "source": [
    "Посмотрим на сами средние значения."
   ]
  },
  {
   "cell_type": "code",
   "execution_count": 55,
   "metadata": {},
   "outputs": [
    {
     "name": "stdout",
     "output_type": "stream",
     "text": [
      "Тариф Смарт: 1289.64\n",
      "Тариф Ультра: 2070.03\n"
     ]
    }
   ],
   "source": [
    "print('Тариф Смарт:', round(smart_tariff_income.mean(), 2))\n",
    "print('Тариф Ультра:', round(ultra_tariff_income.mean(), 2))"
   ]
  },
  {
   "cell_type": "markdown",
   "metadata": {},
   "source": [
    "Разница между среднемессячными доходами ощутимая, что вполне ожидаемо, т.к. базовая стоимость двух тарифов отличается почти что в 4 раза. В среднем пользователи тарифа 'Смарт' тратят в месяц меньше стоимости тарифа 'Ультра', что делает для них нецелесообразным переход на него, но довольно часто доплачивают за использование услуг сверх включенного пакета в тариф. А пользователи  тарифа 'Ультра' в среднем практически не переплачивают дополнительно за пользование услугами."
   ]
  },
  {
   "cell_type": "markdown",
   "metadata": {},
   "source": [
    "Следующей мы проверим гипотезу: \"Средняя выручка пользователей из Москвы отличается от выручки пользователей из других регионов.\".<br>\n",
    "Нулевая гипотеза будет звучать так: \"Средняя выручка пользователей из Москвы равна средней выручке пользователей из других регионов\".\n",
    "Альтернативная гипотеза: \"Средняя выручка пользователей из Москвы не равна средней выручке пользователей из других регионов\"."
   ]
  },
  {
   "cell_type": "markdown",
   "metadata": {},
   "source": [
    "Применим метод `ttest_ind()` для проверки гипотезы."
   ]
  },
  {
   "cell_type": "code",
   "execution_count": 56,
   "metadata": {},
   "outputs": [
    {
     "name": "stdout",
     "output_type": "stream",
     "text": [
      "p-значение 0.5400751614511182\n",
      "Не получилось отвергнуть нулевую гипотезу\n"
     ]
    }
   ],
   "source": [
    "# Проведем сравнение средних значений двух выборок\n",
    "alpha = .05\n",
    "\n",
    "moscow_income = users_by_month.query(\"city == 'Москва'\").\\\n",
    "                    reset_index()['monthly_income']\n",
    "\n",
    "regions_income = users_by_month.query(\"city != 'Москва'\").\\\n",
    "                    reset_index()['monthly_income']\n",
    "\n",
    "results = st.ttest_ind(moscow_income, \n",
    "                       regions_income, \n",
    "                       equal_var=True)\n",
    "\n",
    "print('p-значение', results.pvalue)\n",
    "if results.pvalue < alpha:\n",
    "    print('Отвергаем нулевую гипотезу')\n",
    "else:\n",
    "    print('Не получилось отвергнуть нулевую гипотезу')"
   ]
  },
  {
   "cell_type": "markdown",
   "metadata": {},
   "source": [
    "Средние значения двух выборок имеют различия, но исходя из полученного p-value, с вероятностью в 54% такие или большие различия можно получить случайно. Полученная вероятность не позволяет нам отвергнуть нулевую гипотезу. В таком случае мы не можем отвергнуть гипотезу о том, что средняя выручка среди пользователей в Москве равна средней выручке среди пользователей других регионов."
   ]
  },
  {
   "cell_type": "markdown",
   "metadata": {},
   "source": [
    "Подобный результат может говорить о том, что нет какого-то более активного использования мообильной связи и мобильного интернета в Москве в сравнении с регионами. При одинаковой стоимости тарифов разница может возникать при значительной разнице в потреблении дополнительного объема услуг, который не входит в стоимость тарифа, но и такой большой разницы в этом между столицей и регионами не замечается."
   ]
  },
  {
   "cell_type": "markdown",
   "metadata": {},
   "source": [
    "## Итоговые выводы"
   ]
  },
  {
   "cell_type": "markdown",
   "metadata": {},
   "source": [
    "В ходе данного исследования мы изучали поведение пользователей разных тарифов и доход, который каждый из тарифов приносит компании. Перед нами стояла задача определить лучший тариф, который приносит больше денег и в который выгоднее будет вкладывать рекламный бюджет."
   ]
  },
  {
   "cell_type": "markdown",
   "metadata": {},
   "source": [
    "Ниже представлены полученные в ходе исследования итоги:"
   ]
  },
  {
   "cell_type": "code",
   "execution_count": 57,
   "metadata": {},
   "outputs": [
    {
     "name": "stdout",
     "output_type": "stream",
     "text": [
      "Выручка за 2018 год по тарифу smart : 2875901 руб.\n",
      "Выручка за 2018 год по тарифу ultra : 2041050 руб.\n"
     ]
    }
   ],
   "source": [
    "total_income = users_by_month.groupby('tariff_name')['monthly_income'].sum()\n",
    "for i in range(total_income.shape[0]):\n",
    "    print('Выручка за 2018 год по тарифу', \n",
    "          total_income.index[i], ':', \n",
    "          total_income[i].astype(int), 'руб.')"
   ]
  },
  {
   "cell_type": "code",
   "execution_count": 58,
   "metadata": {},
   "outputs": [
    {
     "name": "stdout",
     "output_type": "stream",
     "text": [
      "Распределение количества пользователей по тарифам за 2018 год\n"
     ]
    },
    {
     "data": {
      "text/html": [
       "<div>\n",
       "<style scoped>\n",
       "    .dataframe tbody tr th:only-of-type {\n",
       "        vertical-align: middle;\n",
       "    }\n",
       "\n",
       "    .dataframe tbody tr th {\n",
       "        vertical-align: top;\n",
       "    }\n",
       "\n",
       "    .dataframe thead th {\n",
       "        text-align: right;\n",
       "    }\n",
       "</style>\n",
       "<table border=\"1\" class=\"dataframe\">\n",
       "  <thead>\n",
       "    <tr style=\"text-align: right;\">\n",
       "      <th></th>\n",
       "      <th>age</th>\n",
       "    </tr>\n",
       "    <tr>\n",
       "      <th>tariff</th>\n",
       "      <th></th>\n",
       "    </tr>\n",
       "  </thead>\n",
       "  <tbody>\n",
       "    <tr>\n",
       "      <th>smart</th>\n",
       "      <td>351</td>\n",
       "    </tr>\n",
       "    <tr>\n",
       "      <th>ultra</th>\n",
       "      <td>149</td>\n",
       "    </tr>\n",
       "  </tbody>\n",
       "</table>\n",
       "</div>"
      ],
      "text/plain": [
       "        age\n",
       "tariff     \n",
       "smart   351\n",
       "ultra   149"
      ]
     },
     "execution_count": 58,
     "metadata": {},
     "output_type": "execute_result"
    }
   ],
   "source": [
    "print('Распределение количества пользователей по тарифам за 2018 год')\n",
    "users_df.groupby('tariff')['age'].count().to_frame()"
   ]
  },
  {
   "cell_type": "code",
   "execution_count": 59,
   "metadata": {},
   "outputs": [
    {
     "name": "stdout",
     "output_type": "stream",
     "text": [
      "Распределение количества пользователей прекративших пользоваться тарифами за 2018 год\n"
     ]
    },
    {
     "data": {
      "text/html": [
       "<div>\n",
       "<style scoped>\n",
       "    .dataframe tbody tr th:only-of-type {\n",
       "        vertical-align: middle;\n",
       "    }\n",
       "\n",
       "    .dataframe tbody tr th {\n",
       "        vertical-align: top;\n",
       "    }\n",
       "\n",
       "    .dataframe thead th {\n",
       "        text-align: right;\n",
       "    }\n",
       "</style>\n",
       "<table border=\"1\" class=\"dataframe\">\n",
       "  <thead>\n",
       "    <tr style=\"text-align: right;\">\n",
       "      <th></th>\n",
       "      <th>churn_date</th>\n",
       "    </tr>\n",
       "    <tr>\n",
       "      <th>tariff</th>\n",
       "      <th></th>\n",
       "    </tr>\n",
       "  </thead>\n",
       "  <tbody>\n",
       "    <tr>\n",
       "      <th>smart</th>\n",
       "      <td>23</td>\n",
       "    </tr>\n",
       "    <tr>\n",
       "      <th>ultra</th>\n",
       "      <td>15</td>\n",
       "    </tr>\n",
       "  </tbody>\n",
       "</table>\n",
       "</div>"
      ],
      "text/plain": [
       "        churn_date\n",
       "tariff            \n",
       "smart           23\n",
       "ultra           15"
      ]
     },
     "execution_count": 59,
     "metadata": {},
     "output_type": "execute_result"
    }
   ],
   "source": [
    "print('Распределение количества пользователей прекративших пользоваться тарифами за 2018 год')\n",
    "(\n",
    "    users_df[users_df['churn_date'].notna()]\n",
    "    .groupby('tariff')['churn_date'].count()\n",
    "    .to_frame()\n",
    ")"
   ]
  },
  {
   "cell_type": "code",
   "execution_count": 60,
   "metadata": {},
   "outputs": [
    {
     "name": "stdout",
     "output_type": "stream",
     "text": [
      "Доля пользователей прекративших пользоваться тарифами от общего количества пользователей за 2018 год\n"
     ]
    },
    {
     "data": {
      "text/plain": [
       "tariff\n",
       "smart    0.07\n",
       "ultra    0.10\n",
       "dtype: float64"
      ]
     },
     "execution_count": 60,
     "metadata": {},
     "output_type": "execute_result"
    }
   ],
   "source": [
    "print('Доля пользователей прекративших пользоваться тарифами от общего количества пользователей за 2018 год')\n",
    "round(\n",
    "    (\n",
    "    users_df[users_df['churn_date'].notna()]\n",
    "    .groupby('tariff')['churn_date'].count() / \n",
    "    users_df.groupby('tariff')['age'].count()\n",
    "    ), 2)"
   ]
  },
  {
   "cell_type": "markdown",
   "metadata": {},
   "source": [
    "Доля пользователей прекративших пользоваться тарифами в отдельности по каждому тарифу близка к 10%, что можно считать достаточно высоким процентом. Данный вопрос требует дополнительных исследований для более глубокого изучения причин, по которым пользователи не удовлетворены текущими тарифами."
   ]
  },
  {
   "cell_type": "markdown",
   "metadata": {},
   "source": [
    "По итогам исследования мы нашли некоторые различия в поведении пользователей:\n",
    "- пользователи тарифа \"Смарт\" чувствительны к ограничениям включенных в тарифный план, но при этом этих ограничений хватает не всем, чтобы не пользоваться некоторыми услугами сверх включенного пакета;\n",
    "- пользователи тарифа \"Ультра\" менее чувствительны к установленным бесплатным ограничениям тарифа, т.к. порог этих ограничений гораздо выше уровня пользования некоторыми услугами. Зачастую из всех услуг пользователи данного тарифа используют интернет-трафик сверх включенного объема в тарифный план, что и приносит в основном дополнительный доход с них.\n",
    "- средние ежемесячный доход разных с тарифов различаются;\n",
    "- больше совокупного и среднего ежемесячного дохода приносит тариф \"Смарт\";\n",
    "- средний доход с одного пользователя больше у тарифа \"Ультра\"."
   ]
  },
  {
   "cell_type": "markdown",
   "metadata": {},
   "source": [
    "В итоге, более доходным можно считать тариф \"Смарт\", к тому же, пользователи данного тарифа приносят дополнительный доход из-за использования услуг сверх включенного пакета. Но с точки зрения окупаемости привлечения одного клиента тариф \"Ультра\" выглядит привлекательнее, т.к. средний доход с одного клиента в 1,5 раза превышает средний доход с одного клиента тарифа \"Смарт\" и увеличение клиентской базы по данному тарифу могло бы дать ощутимый прирост выручки."
   ]
  }
 ],
 "metadata": {
  "ExecuteTimeLog": [
   {
    "duration": 614,
    "start_time": "2022-03-13T12:09:40.018Z"
   },
   {
    "duration": 153,
    "start_time": "2022-03-13T12:10:08.680Z"
   },
   {
    "duration": 18,
    "start_time": "2022-03-13T12:10:12.349Z"
   },
   {
    "duration": 386,
    "start_time": "2022-03-13T12:11:07.591Z"
   },
   {
    "duration": 13,
    "start_time": "2022-03-13T12:11:19.420Z"
   },
   {
    "duration": 21,
    "start_time": "2022-03-13T12:11:25.113Z"
   },
   {
    "duration": 19,
    "start_time": "2022-03-13T12:11:36.696Z"
   },
   {
    "duration": 20,
    "start_time": "2022-03-13T12:12:14.449Z"
   },
   {
    "duration": 35,
    "start_time": "2022-03-13T12:12:25.685Z"
   },
   {
    "duration": 34,
    "start_time": "2022-03-13T12:12:37.690Z"
   },
   {
    "duration": 52,
    "start_time": "2022-03-13T12:12:59.168Z"
   },
   {
    "duration": 3,
    "start_time": "2022-03-13T12:14:26.306Z"
   },
   {
    "duration": 382,
    "start_time": "2022-03-13T12:14:26.467Z"
   },
   {
    "duration": 52,
    "start_time": "2022-03-13T12:14:26.851Z"
   },
   {
    "duration": 258,
    "start_time": "2022-03-13T12:16:21.338Z"
   },
   {
    "duration": 3,
    "start_time": "2022-03-13T12:16:25.107Z"
   },
   {
    "duration": 185,
    "start_time": "2022-03-13T12:16:25.737Z"
   },
   {
    "duration": 3,
    "start_time": "2022-03-13T12:16:51.693Z"
   },
   {
    "duration": 63,
    "start_time": "2022-03-13T12:16:53.141Z"
   },
   {
    "duration": 69,
    "start_time": "2022-03-13T12:17:08.318Z"
   },
   {
    "duration": 57,
    "start_time": "2022-03-13T12:17:12.983Z"
   },
   {
    "duration": 78,
    "start_time": "2022-03-13T12:17:29.112Z"
   },
   {
    "duration": 28,
    "start_time": "2022-03-13T12:17:43.396Z"
   },
   {
    "duration": 45,
    "start_time": "2022-03-13T12:17:55.776Z"
   },
   {
    "duration": 42,
    "start_time": "2022-03-13T12:18:02.860Z"
   },
   {
    "duration": 203,
    "start_time": "2022-03-13T12:18:08.623Z"
   },
   {
    "duration": 228,
    "start_time": "2022-03-13T12:18:21.651Z"
   },
   {
    "duration": 6,
    "start_time": "2022-03-13T12:18:24.374Z"
   },
   {
    "duration": 12,
    "start_time": "2022-03-13T12:18:30.157Z"
   },
   {
    "duration": 15,
    "start_time": "2022-03-13T12:18:42.830Z"
   },
   {
    "duration": 10,
    "start_time": "2022-03-13T12:19:29.604Z"
   },
   {
    "duration": 59,
    "start_time": "2022-03-13T12:19:43.773Z"
   },
   {
    "duration": 21,
    "start_time": "2022-03-13T12:19:59.045Z"
   },
   {
    "duration": 29,
    "start_time": "2022-03-13T12:20:10.964Z"
   },
   {
    "duration": 48,
    "start_time": "2022-03-13T12:20:19.695Z"
   },
   {
    "duration": 52,
    "start_time": "2022-03-13T12:20:26.384Z"
   },
   {
    "duration": 59,
    "start_time": "2022-03-13T12:20:46.344Z"
   },
   {
    "duration": 8,
    "start_time": "2022-03-13T12:21:09.191Z"
   },
   {
    "duration": 14,
    "start_time": "2022-03-13T12:23:12.912Z"
   },
   {
    "duration": 29,
    "start_time": "2022-03-13T12:31:32.087Z"
   },
   {
    "duration": 13,
    "start_time": "2022-03-13T12:31:41.077Z"
   },
   {
    "duration": 12,
    "start_time": "2022-03-13T12:32:45.250Z"
   },
   {
    "duration": 73,
    "start_time": "2022-03-13T12:33:47.929Z"
   },
   {
    "duration": 54,
    "start_time": "2022-03-13T12:34:10.675Z"
   },
   {
    "duration": 59,
    "start_time": "2022-03-13T12:34:24.268Z"
   },
   {
    "duration": 58,
    "start_time": "2022-03-13T12:34:29.851Z"
   },
   {
    "duration": 196,
    "start_time": "2022-03-13T12:36:50.431Z"
   },
   {
    "duration": 194,
    "start_time": "2022-03-13T12:36:54.871Z"
   },
   {
    "duration": 193,
    "start_time": "2022-03-13T12:37:21.947Z"
   },
   {
    "duration": 174,
    "start_time": "2022-03-13T12:37:26.975Z"
   },
   {
    "duration": 600,
    "start_time": "2022-03-13T15:53:35.394Z"
   },
   {
    "duration": 377,
    "start_time": "2022-03-13T15:53:37.239Z"
   },
   {
    "duration": 3,
    "start_time": "2022-03-13T15:53:41.080Z"
   },
   {
    "duration": 51,
    "start_time": "2022-03-13T15:53:42.079Z"
   },
   {
    "duration": 11,
    "start_time": "2022-03-13T15:54:48.651Z"
   },
   {
    "duration": 21,
    "start_time": "2022-03-13T15:55:58.187Z"
   },
   {
    "duration": 19,
    "start_time": "2022-03-13T15:57:24.117Z"
   },
   {
    "duration": 13,
    "start_time": "2022-03-13T15:57:34.367Z"
   },
   {
    "duration": 241,
    "start_time": "2022-03-13T15:57:49.153Z"
   },
   {
    "duration": 11,
    "start_time": "2022-03-13T15:57:56.226Z"
   },
   {
    "duration": 13,
    "start_time": "2022-03-13T15:57:58.589Z"
   },
   {
    "duration": 173,
    "start_time": "2022-03-13T15:58:39.282Z"
   },
   {
    "duration": 13,
    "start_time": "2022-03-13T15:58:39.770Z"
   },
   {
    "duration": 636,
    "start_time": "2022-03-13T15:59:04.783Z"
   },
   {
    "duration": 398,
    "start_time": "2022-03-13T15:59:05.421Z"
   },
   {
    "duration": 3,
    "start_time": "2022-03-13T15:59:05.821Z"
   },
   {
    "duration": 53,
    "start_time": "2022-03-13T15:59:05.826Z"
   },
   {
    "duration": 10,
    "start_time": "2022-03-13T15:59:05.881Z"
   },
   {
    "duration": 15,
    "start_time": "2022-03-13T15:59:05.893Z"
   },
   {
    "duration": 31,
    "start_time": "2022-03-13T15:59:05.910Z"
   },
   {
    "duration": 15,
    "start_time": "2022-03-13T16:06:47.885Z"
   },
   {
    "duration": 3237,
    "start_time": "2022-03-13T16:07:39.118Z"
   },
   {
    "duration": 203,
    "start_time": "2022-03-13T16:07:54.847Z"
   },
   {
    "duration": 1251,
    "start_time": "2022-03-13T16:08:45.640Z"
   },
   {
    "duration": 31,
    "start_time": "2022-03-13T16:09:27.690Z"
   },
   {
    "duration": 12,
    "start_time": "2022-03-13T16:09:34.451Z"
   },
   {
    "duration": 15,
    "start_time": "2022-03-13T16:09:43.938Z"
   },
   {
    "duration": 12,
    "start_time": "2022-03-13T16:10:26.956Z"
   },
   {
    "duration": 10,
    "start_time": "2022-03-13T16:11:06.500Z"
   },
   {
    "duration": 3,
    "start_time": "2022-03-13T17:10:27.924Z"
   },
   {
    "duration": 12,
    "start_time": "2022-03-13T17:10:39.158Z"
   },
   {
    "duration": 24,
    "start_time": "2022-03-13T17:12:35.234Z"
   },
   {
    "duration": 12,
    "start_time": "2022-03-13T17:12:41.000Z"
   },
   {
    "duration": 14,
    "start_time": "2022-03-13T17:12:52.204Z"
   },
   {
    "duration": 9,
    "start_time": "2022-03-13T17:13:09.912Z"
   },
   {
    "duration": 20,
    "start_time": "2022-03-13T17:13:30.768Z"
   },
   {
    "duration": 8,
    "start_time": "2022-03-13T17:13:40.611Z"
   },
   {
    "duration": 7,
    "start_time": "2022-03-13T17:13:56.035Z"
   },
   {
    "duration": 8,
    "start_time": "2022-03-13T17:14:05.829Z"
   },
   {
    "duration": 13,
    "start_time": "2022-03-13T17:14:14.479Z"
   },
   {
    "duration": 6,
    "start_time": "2022-03-13T17:14:41.648Z"
   },
   {
    "duration": 14,
    "start_time": "2022-03-13T17:14:51.103Z"
   },
   {
    "duration": 6,
    "start_time": "2022-03-13T17:15:08.500Z"
   },
   {
    "duration": 14,
    "start_time": "2022-03-13T17:15:12.529Z"
   },
   {
    "duration": 7,
    "start_time": "2022-03-13T17:15:23.037Z"
   },
   {
    "duration": 5,
    "start_time": "2022-03-13T17:15:42.343Z"
   },
   {
    "duration": 18,
    "start_time": "2022-03-13T17:15:45.784Z"
   },
   {
    "duration": 7,
    "start_time": "2022-03-13T17:15:51.151Z"
   },
   {
    "duration": 2,
    "start_time": "2022-03-13T17:16:45.777Z"
   },
   {
    "duration": 13,
    "start_time": "2022-03-13T17:17:08.538Z"
   },
   {
    "duration": 323,
    "start_time": "2022-03-13T17:17:24.761Z"
   },
   {
    "duration": 12,
    "start_time": "2022-03-13T17:17:43.614Z"
   },
   {
    "duration": 390,
    "start_time": "2022-03-13T17:18:26.023Z"
   },
   {
    "duration": 260,
    "start_time": "2022-03-13T17:18:37.461Z"
   },
   {
    "duration": 351,
    "start_time": "2022-03-13T17:18:47.812Z"
   },
   {
    "duration": 277,
    "start_time": "2022-03-13T17:18:53.692Z"
   },
   {
    "duration": 265,
    "start_time": "2022-03-13T17:19:09.383Z"
   },
   {
    "duration": 173,
    "start_time": "2022-03-13T17:19:42.008Z"
   },
   {
    "duration": 13,
    "start_time": "2022-03-13T17:19:48.438Z"
   },
   {
    "duration": 267,
    "start_time": "2022-03-13T17:21:18.322Z"
   },
   {
    "duration": 171,
    "start_time": "2022-03-13T17:23:29.120Z"
   },
   {
    "duration": 19,
    "start_time": "2022-03-13T17:23:36.365Z"
   },
   {
    "duration": 215,
    "start_time": "2022-03-13T17:23:41.128Z"
   },
   {
    "duration": 292,
    "start_time": "2022-03-13T17:24:02.969Z"
   },
   {
    "duration": 239,
    "start_time": "2022-03-13T17:24:13.601Z"
   },
   {
    "duration": 266,
    "start_time": "2022-03-13T17:24:18.877Z"
   },
   {
    "duration": 243,
    "start_time": "2022-03-13T17:28:06.753Z"
   },
   {
    "duration": 237,
    "start_time": "2022-03-13T17:28:14.644Z"
   },
   {
    "duration": 260,
    "start_time": "2022-03-13T17:28:18.670Z"
   },
   {
    "duration": 331,
    "start_time": "2022-03-13T17:30:06.291Z"
   },
   {
    "duration": 257,
    "start_time": "2022-03-13T17:30:34.826Z"
   },
   {
    "duration": 187,
    "start_time": "2022-03-13T17:34:18.970Z"
   },
   {
    "duration": 11,
    "start_time": "2022-03-13T17:34:30.339Z"
   },
   {
    "duration": 219,
    "start_time": "2022-03-13T17:37:08.817Z"
   },
   {
    "duration": 14,
    "start_time": "2022-03-13T17:40:19.972Z"
   },
   {
    "duration": 269,
    "start_time": "2022-03-13T17:40:31.072Z"
   },
   {
    "duration": 15,
    "start_time": "2022-03-13T17:41:07.974Z"
   },
   {
    "duration": 9,
    "start_time": "2022-03-13T17:42:05.930Z"
   },
   {
    "duration": 14,
    "start_time": "2022-03-13T17:42:35.505Z"
   },
   {
    "duration": 10,
    "start_time": "2022-03-13T17:42:43.492Z"
   },
   {
    "duration": 17,
    "start_time": "2022-03-13T17:43:15.372Z"
   },
   {
    "duration": 177,
    "start_time": "2022-03-13T17:44:04.307Z"
   },
   {
    "duration": 149,
    "start_time": "2022-03-13T17:44:18.626Z"
   },
   {
    "duration": 20,
    "start_time": "2022-03-13T17:45:56.036Z"
   },
   {
    "duration": 15,
    "start_time": "2022-03-13T17:46:11.969Z"
   },
   {
    "duration": 2659,
    "start_time": "2022-03-13T17:47:24.661Z"
   },
   {
    "duration": 2709,
    "start_time": "2022-03-13T17:47:35.003Z"
   },
   {
    "duration": 14,
    "start_time": "2022-03-13T17:47:40.658Z"
   },
   {
    "duration": 200,
    "start_time": "2022-03-13T17:47:46.904Z"
   },
   {
    "duration": 13,
    "start_time": "2022-03-13T17:48:58.611Z"
   },
   {
    "duration": 18,
    "start_time": "2022-03-13T17:49:58.173Z"
   },
   {
    "duration": 16,
    "start_time": "2022-03-13T17:51:36.686Z"
   },
   {
    "duration": 187,
    "start_time": "2022-03-13T17:51:53.516Z"
   },
   {
    "duration": 3,
    "start_time": "2022-03-13T20:48:24.768Z"
   },
   {
    "duration": 367,
    "start_time": "2022-03-13T20:48:24.773Z"
   },
   {
    "duration": 3,
    "start_time": "2022-03-13T20:48:25.142Z"
   },
   {
    "duration": 52,
    "start_time": "2022-03-13T20:48:25.147Z"
   },
   {
    "duration": 9,
    "start_time": "2022-03-13T20:48:25.202Z"
   },
   {
    "duration": 37,
    "start_time": "2022-03-13T20:48:25.213Z"
   },
   {
    "duration": 10,
    "start_time": "2022-03-13T20:48:25.251Z"
   },
   {
    "duration": 12,
    "start_time": "2022-03-13T20:48:25.264Z"
   },
   {
    "duration": 28,
    "start_time": "2022-03-13T20:48:25.278Z"
   },
   {
    "duration": 43,
    "start_time": "2022-03-13T20:48:25.308Z"
   },
   {
    "duration": 21,
    "start_time": "2022-03-13T20:48:25.353Z"
   },
   {
    "duration": 9,
    "start_time": "2022-03-13T20:48:25.375Z"
   },
   {
    "duration": 21,
    "start_time": "2022-03-13T20:48:25.386Z"
   },
   {
    "duration": 30,
    "start_time": "2022-03-13T20:48:25.408Z"
   },
   {
    "duration": 12,
    "start_time": "2022-03-13T20:48:25.440Z"
   },
   {
    "duration": 5,
    "start_time": "2022-03-13T20:48:25.453Z"
   },
   {
    "duration": 6,
    "start_time": "2022-03-13T20:48:25.459Z"
   },
   {
    "duration": 14,
    "start_time": "2022-03-13T20:48:25.466Z"
   },
   {
    "duration": 250,
    "start_time": "2022-03-13T20:48:25.482Z"
   },
   {
    "duration": 256,
    "start_time": "2022-03-13T20:48:25.734Z"
   },
   {
    "duration": 12,
    "start_time": "2022-03-13T20:48:25.992Z"
   },
   {
    "duration": 245,
    "start_time": "2022-03-13T20:48:26.006Z"
   },
   {
    "duration": 157,
    "start_time": "2022-03-13T20:48:26.254Z"
   },
   {
    "duration": 204,
    "start_time": "2022-03-13T20:48:26.412Z"
   },
   {
    "duration": 25,
    "start_time": "2022-03-13T20:48:26.618Z"
   },
   {
    "duration": 14,
    "start_time": "2022-03-13T20:50:00.490Z"
   },
   {
    "duration": 308,
    "start_time": "2022-03-13T20:50:37.599Z"
   },
   {
    "duration": 13,
    "start_time": "2022-03-13T20:56:36.697Z"
   },
   {
    "duration": 187,
    "start_time": "2022-03-13T20:56:47.458Z"
   },
   {
    "duration": 174,
    "start_time": "2022-03-13T20:56:50.569Z"
   },
   {
    "duration": 8,
    "start_time": "2022-03-13T20:56:58.192Z"
   },
   {
    "duration": 7,
    "start_time": "2022-03-13T20:57:08.104Z"
   },
   {
    "duration": 9,
    "start_time": "2022-03-13T20:57:21.695Z"
   },
   {
    "duration": 106,
    "start_time": "2022-03-13T20:57:29.994Z"
   },
   {
    "duration": 41,
    "start_time": "2022-03-13T20:57:42.453Z"
   },
   {
    "duration": 166,
    "start_time": "2022-03-13T20:59:16.156Z"
   },
   {
    "duration": 163,
    "start_time": "2022-03-13T20:59:21.750Z"
   },
   {
    "duration": 180,
    "start_time": "2022-03-13T20:59:30.842Z"
   },
   {
    "duration": 174,
    "start_time": "2022-03-13T20:59:40.054Z"
   },
   {
    "duration": 7,
    "start_time": "2022-03-13T21:01:20.787Z"
   },
   {
    "duration": 11,
    "start_time": "2022-03-13T21:02:46.416Z"
   },
   {
    "duration": 6,
    "start_time": "2022-03-13T21:04:48.074Z"
   },
   {
    "duration": 195,
    "start_time": "2022-03-13T21:08:07.448Z"
   },
   {
    "duration": 18,
    "start_time": "2022-03-13T21:08:24.393Z"
   },
   {
    "duration": 14,
    "start_time": "2022-03-13T21:08:41.220Z"
   },
   {
    "duration": 4,
    "start_time": "2022-03-13T21:12:26.236Z"
   },
   {
    "duration": 8,
    "start_time": "2022-03-13T21:15:36.127Z"
   },
   {
    "duration": 6,
    "start_time": "2022-03-13T21:15:53.026Z"
   },
   {
    "duration": 7,
    "start_time": "2022-03-13T21:16:06.556Z"
   },
   {
    "duration": 8,
    "start_time": "2022-03-13T21:16:18.805Z"
   },
   {
    "duration": 3,
    "start_time": "2022-03-13T21:16:24.433Z"
   },
   {
    "duration": 8,
    "start_time": "2022-03-13T21:17:49.983Z"
   },
   {
    "duration": 4,
    "start_time": "2022-03-13T21:17:59.441Z"
   },
   {
    "duration": 8,
    "start_time": "2022-03-13T21:18:05.306Z"
   },
   {
    "duration": 9,
    "start_time": "2022-03-13T21:18:23.102Z"
   },
   {
    "duration": 8,
    "start_time": "2022-03-13T21:18:29.220Z"
   },
   {
    "duration": 185,
    "start_time": "2022-03-13T21:19:01.079Z"
   },
   {
    "duration": 15,
    "start_time": "2022-03-13T21:19:24.544Z"
   },
   {
    "duration": 141,
    "start_time": "2022-03-13T21:19:53.210Z"
   },
   {
    "duration": 311,
    "start_time": "2022-03-13T21:20:09.197Z"
   },
   {
    "duration": 46721,
    "start_time": "2022-03-13T21:20:17.425Z"
   },
   {
    "duration": 5,
    "start_time": "2022-03-13T21:23:22.355Z"
   },
   {
    "duration": 9,
    "start_time": "2022-03-13T21:23:29.548Z"
   },
   {
    "duration": 160,
    "start_time": "2022-03-13T21:23:54.057Z"
   },
   {
    "duration": 12,
    "start_time": "2022-03-13T21:24:14.199Z"
   },
   {
    "duration": 16,
    "start_time": "2022-03-13T21:24:32.125Z"
   },
   {
    "duration": 7,
    "start_time": "2022-03-13T21:25:01.847Z"
   },
   {
    "duration": 9,
    "start_time": "2022-03-13T21:25:25.687Z"
   },
   {
    "duration": 9,
    "start_time": "2022-03-13T21:25:35.446Z"
   },
   {
    "duration": 8,
    "start_time": "2022-03-13T21:25:41.136Z"
   },
   {
    "duration": 203,
    "start_time": "2022-03-13T21:25:46.719Z"
   },
   {
    "duration": 170,
    "start_time": "2022-03-13T21:36:25.558Z"
   },
   {
    "duration": 18,
    "start_time": "2022-03-13T21:36:54.316Z"
   },
   {
    "duration": 347,
    "start_time": "2022-03-13T21:37:40.180Z"
   },
   {
    "duration": 196,
    "start_time": "2022-03-13T21:37:54.317Z"
   },
   {
    "duration": 9,
    "start_time": "2022-03-13T21:38:00.105Z"
   },
   {
    "duration": 977,
    "start_time": "2022-03-13T21:38:39.691Z"
   },
   {
    "duration": 1001,
    "start_time": "2022-03-13T21:39:12.517Z"
   },
   {
    "duration": 192,
    "start_time": "2022-03-13T21:39:23.473Z"
   },
   {
    "duration": 194,
    "start_time": "2022-03-13T21:39:56.253Z"
   },
   {
    "duration": 165,
    "start_time": "2022-03-13T21:40:12.729Z"
   },
   {
    "duration": 177,
    "start_time": "2022-03-13T21:40:28.479Z"
   },
   {
    "duration": 24,
    "start_time": "2022-03-13T21:40:35.570Z"
   },
   {
    "duration": 202,
    "start_time": "2022-03-13T21:40:40.290Z"
   },
   {
    "duration": 196,
    "start_time": "2022-03-13T21:43:43.966Z"
   },
   {
    "duration": 193,
    "start_time": "2022-03-13T21:44:21.803Z"
   },
   {
    "duration": 17,
    "start_time": "2022-03-13T21:45:53.202Z"
   },
   {
    "duration": 1013,
    "start_time": "2022-03-13T21:45:54.432Z"
   },
   {
    "duration": 199,
    "start_time": "2022-03-13T21:45:59.850Z"
   },
   {
    "duration": 201,
    "start_time": "2022-03-13T21:47:46.581Z"
   },
   {
    "duration": 186,
    "start_time": "2022-03-13T21:49:26.129Z"
   },
   {
    "duration": 183,
    "start_time": "2022-03-13T21:49:49.309Z"
   },
   {
    "duration": 166,
    "start_time": "2022-03-13T21:49:56.949Z"
   },
   {
    "duration": 18,
    "start_time": "2022-03-13T21:50:13.501Z"
   },
   {
    "duration": 13,
    "start_time": "2022-03-13T21:50:45.029Z"
   },
   {
    "duration": 14,
    "start_time": "2022-03-13T21:51:04.425Z"
   },
   {
    "duration": 199,
    "start_time": "2022-03-13T21:51:09.945Z"
   },
   {
    "duration": 204,
    "start_time": "2022-03-13T21:51:29.485Z"
   },
   {
    "duration": 221,
    "start_time": "2022-03-13T21:51:46.181Z"
   },
   {
    "duration": 2,
    "start_time": "2022-03-13T21:53:38.145Z"
   },
   {
    "duration": 981,
    "start_time": "2022-03-13T21:53:51.206Z"
   },
   {
    "duration": 189,
    "start_time": "2022-03-13T21:53:55.256Z"
   },
   {
    "duration": 246,
    "start_time": "2022-03-13T21:54:01.567Z"
   },
   {
    "duration": 637,
    "start_time": "2022-03-13T21:54:09.685Z"
   },
   {
    "duration": 394,
    "start_time": "2022-03-13T21:54:10.325Z"
   },
   {
    "duration": 3,
    "start_time": "2022-03-13T21:54:10.722Z"
   },
   {
    "duration": 52,
    "start_time": "2022-03-13T21:54:10.727Z"
   },
   {
    "duration": 12,
    "start_time": "2022-03-13T21:54:10.781Z"
   },
   {
    "duration": 15,
    "start_time": "2022-03-13T21:54:10.795Z"
   },
   {
    "duration": 37,
    "start_time": "2022-03-13T21:54:10.812Z"
   },
   {
    "duration": 13,
    "start_time": "2022-03-13T21:54:10.852Z"
   },
   {
    "duration": 39,
    "start_time": "2022-03-13T21:54:10.868Z"
   },
   {
    "duration": 41,
    "start_time": "2022-03-13T21:54:10.910Z"
   },
   {
    "duration": 38,
    "start_time": "2022-03-13T21:54:10.953Z"
   },
   {
    "duration": 12,
    "start_time": "2022-03-13T21:54:10.993Z"
   },
   {
    "duration": 36,
    "start_time": "2022-03-13T21:54:11.007Z"
   },
   {
    "duration": 9,
    "start_time": "2022-03-13T21:54:11.045Z"
   },
   {
    "duration": 14,
    "start_time": "2022-03-13T21:54:11.056Z"
   },
   {
    "duration": 6,
    "start_time": "2022-03-13T21:54:11.072Z"
   },
   {
    "duration": 6,
    "start_time": "2022-03-13T21:54:11.080Z"
   },
   {
    "duration": 216,
    "start_time": "2022-03-13T21:54:11.088Z"
   },
   {
    "duration": 8,
    "start_time": "2022-03-13T21:54:11.306Z"
   },
   {
    "duration": 25,
    "start_time": "2022-03-13T21:54:11.316Z"
   },
   {
    "duration": 246,
    "start_time": "2022-03-13T21:54:11.343Z"
   },
   {
    "duration": 272,
    "start_time": "2022-03-13T21:54:11.591Z"
   },
   {
    "duration": 11,
    "start_time": "2022-03-13T21:54:11.864Z"
   },
   {
    "duration": 249,
    "start_time": "2022-03-13T21:54:11.877Z"
   },
   {
    "duration": 19,
    "start_time": "2022-03-13T21:54:12.129Z"
   },
   {
    "duration": 267,
    "start_time": "2022-03-13T21:54:12.150Z"
   },
   {
    "duration": 26,
    "start_time": "2022-03-13T21:54:12.421Z"
   },
   {
    "duration": 3,
    "start_time": "2022-03-13T21:54:12.449Z"
   },
   {
    "duration": 1017,
    "start_time": "2022-03-13T21:54:12.454Z"
   },
   {
    "duration": 214,
    "start_time": "2022-03-13T21:54:13.472Z"
   },
   {
    "duration": 261,
    "start_time": "2022-03-13T21:54:13.688Z"
   },
   {
    "duration": 236,
    "start_time": "2022-03-13T21:54:22.757Z"
   },
   {
    "duration": 11,
    "start_time": "2022-03-13T21:54:47.127Z"
   },
   {
    "duration": 181,
    "start_time": "2022-03-13T21:55:31.571Z"
   },
   {
    "duration": 245,
    "start_time": "2022-03-13T21:55:35.165Z"
   },
   {
    "duration": 6,
    "start_time": "2022-03-13T21:55:41.715Z"
   },
   {
    "duration": 621,
    "start_time": "2022-03-13T21:55:47.375Z"
   },
   {
    "duration": 380,
    "start_time": "2022-03-13T21:55:47.998Z"
   },
   {
    "duration": 3,
    "start_time": "2022-03-13T21:55:48.380Z"
   },
   {
    "duration": 52,
    "start_time": "2022-03-13T21:55:48.385Z"
   },
   {
    "duration": 11,
    "start_time": "2022-03-13T21:55:48.439Z"
   },
   {
    "duration": 15,
    "start_time": "2022-03-13T21:55:48.452Z"
   },
   {
    "duration": 9,
    "start_time": "2022-03-13T21:55:48.469Z"
   },
   {
    "duration": 10,
    "start_time": "2022-03-13T21:55:48.481Z"
   },
   {
    "duration": 75,
    "start_time": "2022-03-13T21:55:48.494Z"
   },
   {
    "duration": 11,
    "start_time": "2022-03-13T21:55:48.571Z"
   },
   {
    "duration": 25,
    "start_time": "2022-03-13T21:55:48.584Z"
   },
   {
    "duration": 28,
    "start_time": "2022-03-13T21:55:48.611Z"
   },
   {
    "duration": 31,
    "start_time": "2022-03-13T21:55:48.640Z"
   },
   {
    "duration": 7,
    "start_time": "2022-03-13T21:55:48.672Z"
   },
   {
    "duration": 12,
    "start_time": "2022-03-13T21:55:48.681Z"
   },
   {
    "duration": 6,
    "start_time": "2022-03-13T21:55:48.694Z"
   },
   {
    "duration": 6,
    "start_time": "2022-03-13T21:55:48.701Z"
   },
   {
    "duration": 198,
    "start_time": "2022-03-13T21:55:48.709Z"
   },
   {
    "duration": 5,
    "start_time": "2022-03-13T21:55:48.909Z"
   },
   {
    "duration": 41,
    "start_time": "2022-03-13T21:55:48.916Z"
   },
   {
    "duration": 234,
    "start_time": "2022-03-13T21:55:48.959Z"
   },
   {
    "duration": 250,
    "start_time": "2022-03-13T21:55:49.195Z"
   },
   {
    "duration": 11,
    "start_time": "2022-03-13T21:55:49.448Z"
   },
   {
    "duration": 250,
    "start_time": "2022-03-13T21:55:49.460Z"
   },
   {
    "duration": 12,
    "start_time": "2022-03-13T21:55:49.712Z"
   },
   {
    "duration": 262,
    "start_time": "2022-03-13T21:55:49.725Z"
   },
   {
    "duration": 18,
    "start_time": "2022-03-13T21:55:49.988Z"
   },
   {
    "duration": 8,
    "start_time": "2022-03-13T21:55:50.008Z"
   },
   {
    "duration": 11,
    "start_time": "2022-03-13T21:55:51.786Z"
   },
   {
    "duration": 1032,
    "start_time": "2022-03-13T21:55:52.113Z"
   },
   {
    "duration": 183,
    "start_time": "2022-03-13T21:55:53.147Z"
   },
   {
    "duration": 232,
    "start_time": "2022-03-13T21:55:54.057Z"
   },
   {
    "duration": 203,
    "start_time": "2022-03-13T21:56:04.340Z"
   },
   {
    "duration": 246,
    "start_time": "2022-03-13T21:56:18.169Z"
   },
   {
    "duration": 1341,
    "start_time": "2022-03-13T22:11:09.160Z"
   },
   {
    "duration": 183,
    "start_time": "2022-03-13T22:11:11.320Z"
   },
   {
    "duration": 1077,
    "start_time": "2022-03-13T22:11:17.606Z"
   },
   {
    "duration": 191,
    "start_time": "2022-03-13T22:11:19.980Z"
   },
   {
    "duration": 625,
    "start_time": "2022-03-13T22:11:37.378Z"
   },
   {
    "duration": 382,
    "start_time": "2022-03-13T22:11:38.004Z"
   },
   {
    "duration": 3,
    "start_time": "2022-03-13T22:11:38.389Z"
   },
   {
    "duration": 52,
    "start_time": "2022-03-13T22:11:38.394Z"
   },
   {
    "duration": 12,
    "start_time": "2022-03-13T22:11:38.448Z"
   },
   {
    "duration": 14,
    "start_time": "2022-03-13T22:11:38.462Z"
   },
   {
    "duration": 9,
    "start_time": "2022-03-13T22:11:38.478Z"
   },
   {
    "duration": 9,
    "start_time": "2022-03-13T22:11:38.489Z"
   },
   {
    "duration": 68,
    "start_time": "2022-03-13T22:11:38.501Z"
   },
   {
    "duration": 11,
    "start_time": "2022-03-13T22:11:38.571Z"
   },
   {
    "duration": 26,
    "start_time": "2022-03-13T22:11:38.583Z"
   },
   {
    "duration": 27,
    "start_time": "2022-03-13T22:11:38.611Z"
   },
   {
    "duration": 17,
    "start_time": "2022-03-13T22:11:38.640Z"
   },
   {
    "duration": 7,
    "start_time": "2022-03-13T22:11:38.659Z"
   },
   {
    "duration": 15,
    "start_time": "2022-03-13T22:11:38.667Z"
   },
   {
    "duration": 8,
    "start_time": "2022-03-13T22:11:38.684Z"
   },
   {
    "duration": 8,
    "start_time": "2022-03-13T22:11:38.693Z"
   },
   {
    "duration": 200,
    "start_time": "2022-03-13T22:11:38.702Z"
   },
   {
    "duration": 5,
    "start_time": "2022-03-13T22:11:38.904Z"
   },
   {
    "duration": 13,
    "start_time": "2022-03-13T22:11:38.911Z"
   },
   {
    "duration": 237,
    "start_time": "2022-03-13T22:11:38.925Z"
   },
   {
    "duration": 258,
    "start_time": "2022-03-13T22:11:39.164Z"
   },
   {
    "duration": 17,
    "start_time": "2022-03-13T22:11:39.423Z"
   },
   {
    "duration": 233,
    "start_time": "2022-03-13T22:11:39.442Z"
   },
   {
    "duration": 13,
    "start_time": "2022-03-13T22:11:39.677Z"
   },
   {
    "duration": 16,
    "start_time": "2022-03-13T22:11:39.692Z"
   },
   {
    "duration": 28,
    "start_time": "2022-03-13T22:11:39.711Z"
   },
   {
    "duration": 11,
    "start_time": "2022-03-13T22:11:45.673Z"
   },
   {
    "duration": 1296,
    "start_time": "2022-03-13T22:11:46.337Z"
   },
   {
    "duration": 176,
    "start_time": "2022-03-13T22:11:48.257Z"
   },
   {
    "duration": 665,
    "start_time": "2022-03-13T22:12:02.060Z"
   },
   {
    "duration": 381,
    "start_time": "2022-03-13T22:12:02.727Z"
   },
   {
    "duration": 3,
    "start_time": "2022-03-13T22:12:03.110Z"
   },
   {
    "duration": 56,
    "start_time": "2022-03-13T22:12:03.114Z"
   },
   {
    "duration": 11,
    "start_time": "2022-03-13T22:12:03.171Z"
   },
   {
    "duration": 16,
    "start_time": "2022-03-13T22:12:03.183Z"
   },
   {
    "duration": 15,
    "start_time": "2022-03-13T22:12:03.201Z"
   },
   {
    "duration": 28,
    "start_time": "2022-03-13T22:12:03.219Z"
   },
   {
    "duration": 44,
    "start_time": "2022-03-13T22:12:03.249Z"
   },
   {
    "duration": 12,
    "start_time": "2022-03-13T22:12:03.295Z"
   },
   {
    "duration": 40,
    "start_time": "2022-03-13T22:12:03.308Z"
   },
   {
    "duration": 9,
    "start_time": "2022-03-13T22:12:03.349Z"
   },
   {
    "duration": 24,
    "start_time": "2022-03-13T22:12:03.360Z"
   },
   {
    "duration": 7,
    "start_time": "2022-03-13T22:12:03.386Z"
   },
   {
    "duration": 16,
    "start_time": "2022-03-13T22:12:03.395Z"
   },
   {
    "duration": 25,
    "start_time": "2022-03-13T22:12:03.412Z"
   },
   {
    "duration": 8,
    "start_time": "2022-03-13T22:12:03.439Z"
   },
   {
    "duration": 205,
    "start_time": "2022-03-13T22:12:03.449Z"
   },
   {
    "duration": 5,
    "start_time": "2022-03-13T22:12:03.656Z"
   },
   {
    "duration": 13,
    "start_time": "2022-03-13T22:12:03.663Z"
   },
   {
    "duration": 241,
    "start_time": "2022-03-13T22:12:03.678Z"
   },
   {
    "duration": 287,
    "start_time": "2022-03-13T22:12:03.921Z"
   },
   {
    "duration": 11,
    "start_time": "2022-03-13T22:12:04.211Z"
   },
   {
    "duration": 375,
    "start_time": "2022-03-13T22:12:04.224Z"
   },
   {
    "duration": 16,
    "start_time": "2022-03-13T22:12:04.638Z"
   },
   {
    "duration": 21,
    "start_time": "2022-03-13T22:12:04.656Z"
   },
   {
    "duration": 7,
    "start_time": "2022-03-13T22:12:04.679Z"
   },
   {
    "duration": 1109,
    "start_time": "2022-03-13T22:12:04.687Z"
   },
   {
    "duration": 191,
    "start_time": "2022-03-13T22:12:05.798Z"
   },
   {
    "duration": 197,
    "start_time": "2022-03-13T22:12:08.300Z"
   },
   {
    "duration": 223,
    "start_time": "2022-03-13T22:13:05.994Z"
   },
   {
    "duration": 229,
    "start_time": "2022-03-13T22:13:13.440Z"
   },
   {
    "duration": 1006,
    "start_time": "2022-03-13T22:13:39.555Z"
   },
   {
    "duration": 1116,
    "start_time": "2022-03-13T22:13:47.442Z"
   },
   {
    "duration": 407,
    "start_time": "2022-03-13T22:14:11.581Z"
   },
   {
    "duration": 386,
    "start_time": "2022-03-13T22:14:22.312Z"
   },
   {
    "duration": 1155,
    "start_time": "2022-03-13T22:15:23.221Z"
   },
   {
    "duration": 279,
    "start_time": "2022-03-13T22:20:01.002Z"
   },
   {
    "duration": 11,
    "start_time": "2022-03-13T22:20:06.709Z"
   },
   {
    "duration": 251,
    "start_time": "2022-03-13T22:20:13.132Z"
   },
   {
    "duration": 11,
    "start_time": "2022-03-13T22:20:19.348Z"
   },
   {
    "duration": 11,
    "start_time": "2022-03-13T23:10:43.394Z"
   },
   {
    "duration": 172,
    "start_time": "2022-03-13T23:11:03.846Z"
   },
   {
    "duration": 24,
    "start_time": "2022-03-13T23:11:07.481Z"
   },
   {
    "duration": 10,
    "start_time": "2022-03-13T23:11:21.815Z"
   },
   {
    "duration": 34,
    "start_time": "2022-03-13T23:12:04.362Z"
   },
   {
    "duration": 12,
    "start_time": "2022-03-13T23:12:10.132Z"
   },
   {
    "duration": 183,
    "start_time": "2022-03-13T23:12:45.100Z"
   },
   {
    "duration": 13,
    "start_time": "2022-03-13T23:12:47.341Z"
   },
   {
    "duration": 21,
    "start_time": "2022-03-13T23:13:15.871Z"
   },
   {
    "duration": 8,
    "start_time": "2022-03-13T23:13:20.663Z"
   },
   {
    "duration": 162,
    "start_time": "2022-03-13T23:14:06.279Z"
   },
   {
    "duration": 9,
    "start_time": "2022-03-13T23:14:06.981Z"
   },
   {
    "duration": 39,
    "start_time": "2022-03-13T23:14:13.398Z"
   },
   {
    "duration": 12,
    "start_time": "2022-03-13T23:14:15.262Z"
   },
   {
    "duration": 13,
    "start_time": "2022-03-13T23:14:41.771Z"
   },
   {
    "duration": 51,
    "start_time": "2022-03-13T23:14:59.355Z"
   },
   {
    "duration": 14,
    "start_time": "2022-03-13T23:14:59.822Z"
   },
   {
    "duration": 53,
    "start_time": "2022-03-13T23:15:06.824Z"
   },
   {
    "duration": 15,
    "start_time": "2022-03-13T23:15:07.248Z"
   },
   {
    "duration": 13,
    "start_time": "2022-03-13T23:15:19.665Z"
   },
   {
    "duration": 9,
    "start_time": "2022-03-13T23:15:27.987Z"
   },
   {
    "duration": 8,
    "start_time": "2022-03-13T23:15:48.995Z"
   },
   {
    "duration": 10,
    "start_time": "2022-03-13T23:15:55.831Z"
   },
   {
    "duration": 16,
    "start_time": "2022-03-13T23:16:00.556Z"
   },
   {
    "duration": 13,
    "start_time": "2022-03-13T23:16:39.526Z"
   },
   {
    "duration": 26,
    "start_time": "2022-03-13T23:17:13.071Z"
   },
   {
    "duration": 14,
    "start_time": "2022-03-13T23:17:17.272Z"
   },
   {
    "duration": 9,
    "start_time": "2022-03-13T23:17:24.715Z"
   },
   {
    "duration": 13,
    "start_time": "2022-03-13T23:17:28.805Z"
   },
   {
    "duration": 11,
    "start_time": "2022-03-13T23:18:30.054Z"
   },
   {
    "duration": 26,
    "start_time": "2022-03-13T23:18:45.005Z"
   },
   {
    "duration": 12,
    "start_time": "2022-03-13T23:18:49.126Z"
   },
   {
    "duration": 17,
    "start_time": "2022-03-13T23:19:31.124Z"
   },
   {
    "duration": 184,
    "start_time": "2022-03-13T23:22:53.980Z"
   },
   {
    "duration": 184,
    "start_time": "2022-03-13T23:23:21.384Z"
   },
   {
    "duration": 4,
    "start_time": "2022-03-13T23:24:42.038Z"
   },
   {
    "duration": 11,
    "start_time": "2022-03-13T23:29:02.153Z"
   },
   {
    "duration": 18,
    "start_time": "2022-03-13T23:29:06.687Z"
   },
   {
    "duration": 16,
    "start_time": "2022-03-13T23:30:12.034Z"
   },
   {
    "duration": 18,
    "start_time": "2022-03-13T23:30:13.014Z"
   },
   {
    "duration": 16,
    "start_time": "2022-03-13T23:31:48.423Z"
   },
   {
    "duration": 16,
    "start_time": "2022-03-13T23:31:49.400Z"
   },
   {
    "duration": 649,
    "start_time": "2022-03-13T23:33:11.543Z"
   },
   {
    "duration": 3,
    "start_time": "2022-03-13T23:33:20.739Z"
   },
   {
    "duration": 15,
    "start_time": "2022-03-13T23:33:24.411Z"
   },
   {
    "duration": 9,
    "start_time": "2022-03-13T23:35:48.366Z"
   },
   {
    "duration": 20,
    "start_time": "2022-03-13T23:35:53.445Z"
   },
   {
    "duration": 16,
    "start_time": "2022-03-13T23:36:43.780Z"
   },
   {
    "duration": 17,
    "start_time": "2022-03-13T23:36:44.366Z"
   },
   {
    "duration": 3,
    "start_time": "2022-03-13T23:36:46.387Z"
   },
   {
    "duration": 212,
    "start_time": "2022-03-13T23:36:47.209Z"
   },
   {
    "duration": 10,
    "start_time": "2022-03-13T23:37:08.740Z"
   },
   {
    "duration": 23,
    "start_time": "2022-03-13T23:37:10.777Z"
   },
   {
    "duration": 4174,
    "start_time": "2022-03-13T23:37:23.435Z"
   },
   {
    "duration": 20,
    "start_time": "2022-03-13T23:37:33.783Z"
   },
   {
    "duration": 17,
    "start_time": "2022-03-13T23:37:48.106Z"
   },
   {
    "duration": 19,
    "start_time": "2022-03-13T23:37:48.284Z"
   },
   {
    "duration": 3,
    "start_time": "2022-03-13T23:37:48.467Z"
   },
   {
    "duration": 7,
    "start_time": "2022-03-13T23:38:21.361Z"
   },
   {
    "duration": 22,
    "start_time": "2022-03-13T23:38:22.067Z"
   },
   {
    "duration": 17,
    "start_time": "2022-03-13T23:38:46.331Z"
   },
   {
    "duration": 16,
    "start_time": "2022-03-13T23:38:46.638Z"
   },
   {
    "duration": 4,
    "start_time": "2022-03-13T23:38:46.995Z"
   },
   {
    "duration": 6,
    "start_time": "2022-03-13T23:38:47.747Z"
   },
   {
    "duration": 23,
    "start_time": "2022-03-13T23:38:48.479Z"
   },
   {
    "duration": 9,
    "start_time": "2022-03-13T23:39:18.895Z"
   },
   {
    "duration": 22,
    "start_time": "2022-03-13T23:39:29.279Z"
   },
   {
    "duration": 16,
    "start_time": "2022-03-13T23:42:12.536Z"
   },
   {
    "duration": 16,
    "start_time": "2022-03-13T23:42:13.039Z"
   },
   {
    "duration": 3,
    "start_time": "2022-03-13T23:42:13.521Z"
   },
   {
    "duration": 9,
    "start_time": "2022-03-13T23:42:14.869Z"
   },
   {
    "duration": 21,
    "start_time": "2022-03-13T23:42:15.757Z"
   },
   {
    "duration": 203,
    "start_time": "2022-03-13T23:43:03.887Z"
   },
   {
    "duration": 22,
    "start_time": "2022-03-13T23:43:13.402Z"
   },
   {
    "duration": 22,
    "start_time": "2022-03-13T23:43:14.139Z"
   },
   {
    "duration": 17,
    "start_time": "2022-03-13T23:43:26.057Z"
   },
   {
    "duration": 16,
    "start_time": "2022-03-13T23:43:26.677Z"
   },
   {
    "duration": 17,
    "start_time": "2022-03-13T23:49:06.334Z"
   },
   {
    "duration": 3,
    "start_time": "2022-03-13T23:49:07.804Z"
   },
   {
    "duration": 12,
    "start_time": "2022-03-13T23:50:58.081Z"
   },
   {
    "duration": 23,
    "start_time": "2022-03-13T23:50:59.651Z"
   },
   {
    "duration": 23,
    "start_time": "2022-03-13T23:53:22.386Z"
   },
   {
    "duration": 22,
    "start_time": "2022-03-13T23:53:30.706Z"
   },
   {
    "duration": 4,
    "start_time": "2022-03-13T23:53:40.403Z"
   },
   {
    "duration": 23,
    "start_time": "2022-03-13T23:53:41.271Z"
   },
   {
    "duration": 66,
    "start_time": "2022-03-13T23:54:36.895Z"
   },
   {
    "duration": 7,
    "start_time": "2022-03-13T23:54:44.867Z"
   },
   {
    "duration": 24,
    "start_time": "2022-03-13T23:54:48.390Z"
   },
   {
    "duration": 17,
    "start_time": "2022-03-13T23:55:46.849Z"
   },
   {
    "duration": 2,
    "start_time": "2022-03-13T23:55:47.595Z"
   },
   {
    "duration": 13,
    "start_time": "2022-03-13T23:55:48.122Z"
   },
   {
    "duration": 24,
    "start_time": "2022-03-13T23:55:48.818Z"
   },
   {
    "duration": 5,
    "start_time": "2022-03-13T23:55:50.117Z"
   },
   {
    "duration": 14,
    "start_time": "2022-03-13T23:55:51.586Z"
   },
   {
    "duration": 29,
    "start_time": "2022-03-13T23:55:52.558Z"
   },
   {
    "duration": 194,
    "start_time": "2022-03-13T23:59:05.237Z"
   },
   {
    "duration": 3,
    "start_time": "2022-03-13T23:59:15.210Z"
   },
   {
    "duration": 229,
    "start_time": "2022-03-13T23:59:19.654Z"
   },
   {
    "duration": 901,
    "start_time": "2022-03-14T00:01:07.082Z"
   },
   {
    "duration": 5,
    "start_time": "2022-03-14T00:02:53.783Z"
   },
   {
    "duration": 7,
    "start_time": "2022-03-14T00:02:58.297Z"
   },
   {
    "duration": 17,
    "start_time": "2022-03-14T00:03:02.139Z"
   },
   {
    "duration": 7,
    "start_time": "2022-03-14T00:04:25.198Z"
   },
   {
    "duration": 17,
    "start_time": "2022-03-14T00:04:27.589Z"
   },
   {
    "duration": 18,
    "start_time": "2022-03-14T00:04:55.210Z"
   },
   {
    "duration": 4,
    "start_time": "2022-03-14T00:04:55.535Z"
   },
   {
    "duration": 14,
    "start_time": "2022-03-14T00:04:55.729Z"
   },
   {
    "duration": 23,
    "start_time": "2022-03-14T00:04:55.900Z"
   },
   {
    "duration": 5,
    "start_time": "2022-03-14T00:04:56.059Z"
   },
   {
    "duration": 13,
    "start_time": "2022-03-14T00:04:56.241Z"
   },
   {
    "duration": 28,
    "start_time": "2022-03-14T00:04:57.666Z"
   },
   {
    "duration": 5,
    "start_time": "2022-03-14T00:04:58.457Z"
   },
   {
    "duration": 2,
    "start_time": "2022-03-14T00:04:59.377Z"
   },
   {
    "duration": 7,
    "start_time": "2022-03-14T00:04:59.952Z"
   },
   {
    "duration": 26,
    "start_time": "2022-03-14T00:05:00.935Z"
   },
   {
    "duration": 6,
    "start_time": "2022-03-14T00:07:52.299Z"
   },
   {
    "duration": 29,
    "start_time": "2022-03-14T00:07:55.910Z"
   },
   {
    "duration": 6,
    "start_time": "2022-03-14T00:08:47.400Z"
   },
   {
    "duration": 27,
    "start_time": "2022-03-14T00:08:47.879Z"
   },
   {
    "duration": 5,
    "start_time": "2022-03-14T00:09:27.434Z"
   },
   {
    "duration": 29,
    "start_time": "2022-03-14T00:09:29.015Z"
   },
   {
    "duration": 6,
    "start_time": "2022-03-14T00:10:06.127Z"
   },
   {
    "duration": 32,
    "start_time": "2022-03-14T00:10:09.838Z"
   },
   {
    "duration": 6,
    "start_time": "2022-03-14T00:10:29.824Z"
   },
   {
    "duration": 30,
    "start_time": "2022-03-14T00:10:30.368Z"
   },
   {
    "duration": 4,
    "start_time": "2022-03-14T00:11:00.158Z"
   },
   {
    "duration": 4,
    "start_time": "2022-03-14T00:15:47.909Z"
   },
   {
    "duration": 6,
    "start_time": "2022-03-14T00:16:42.818Z"
   },
   {
    "duration": 30,
    "start_time": "2022-03-14T00:18:25.877Z"
   },
   {
    "duration": 4,
    "start_time": "2022-03-14T00:24:15.035Z"
   },
   {
    "duration": 356,
    "start_time": "2022-03-14T00:24:49.466Z"
   },
   {
    "duration": 29,
    "start_time": "2022-03-14T00:24:51.513Z"
   },
   {
    "duration": 9,
    "start_time": "2022-03-14T00:25:26.567Z"
   },
   {
    "duration": 180,
    "start_time": "2022-03-14T00:26:13.473Z"
   },
   {
    "duration": 7,
    "start_time": "2022-03-14T00:26:30.545Z"
   },
   {
    "duration": 614,
    "start_time": "2022-03-14T00:27:19.502Z"
   },
   {
    "duration": 398,
    "start_time": "2022-03-14T00:27:20.118Z"
   },
   {
    "duration": 2,
    "start_time": "2022-03-14T00:27:20.519Z"
   },
   {
    "duration": 55,
    "start_time": "2022-03-14T00:27:20.523Z"
   },
   {
    "duration": 9,
    "start_time": "2022-03-14T00:27:20.580Z"
   },
   {
    "duration": 15,
    "start_time": "2022-03-14T00:27:20.591Z"
   },
   {
    "duration": 35,
    "start_time": "2022-03-14T00:27:20.607Z"
   },
   {
    "duration": 11,
    "start_time": "2022-03-14T00:27:20.644Z"
   },
   {
    "duration": 37,
    "start_time": "2022-03-14T00:27:20.658Z"
   },
   {
    "duration": 12,
    "start_time": "2022-03-14T00:27:20.697Z"
   },
   {
    "duration": 50,
    "start_time": "2022-03-14T00:27:20.711Z"
   },
   {
    "duration": 10,
    "start_time": "2022-03-14T00:27:20.763Z"
   },
   {
    "duration": 19,
    "start_time": "2022-03-14T00:27:20.774Z"
   },
   {
    "duration": 8,
    "start_time": "2022-03-14T00:27:20.794Z"
   },
   {
    "duration": 40,
    "start_time": "2022-03-14T00:27:20.803Z"
   },
   {
    "duration": 8,
    "start_time": "2022-03-14T00:27:20.845Z"
   },
   {
    "duration": 14,
    "start_time": "2022-03-14T00:27:20.854Z"
   },
   {
    "duration": 207,
    "start_time": "2022-03-14T00:27:20.869Z"
   },
   {
    "duration": 5,
    "start_time": "2022-03-14T00:27:21.078Z"
   },
   {
    "duration": 14,
    "start_time": "2022-03-14T00:27:21.085Z"
   },
   {
    "duration": 245,
    "start_time": "2022-03-14T00:27:21.101Z"
   },
   {
    "duration": 258,
    "start_time": "2022-03-14T00:27:21.348Z"
   },
   {
    "duration": 11,
    "start_time": "2022-03-14T00:27:21.608Z"
   },
   {
    "duration": 248,
    "start_time": "2022-03-14T00:27:21.621Z"
   },
   {
    "duration": 12,
    "start_time": "2022-03-14T00:27:21.871Z"
   },
   {
    "duration": 17,
    "start_time": "2022-03-14T00:27:21.885Z"
   },
   {
    "duration": 7,
    "start_time": "2022-03-14T00:27:21.906Z"
   },
   {
    "duration": 1045,
    "start_time": "2022-03-14T00:27:21.915Z"
   },
   {
    "duration": 234,
    "start_time": "2022-03-14T00:27:22.962Z"
   },
   {
    "duration": 232,
    "start_time": "2022-03-14T00:27:23.197Z"
   },
   {
    "duration": 35,
    "start_time": "2022-03-14T00:27:23.430Z"
   },
   {
    "duration": 13,
    "start_time": "2022-03-14T00:27:23.467Z"
   },
   {
    "duration": 77,
    "start_time": "2022-03-14T00:27:23.481Z"
   },
   {
    "duration": 14,
    "start_time": "2022-03-14T00:27:23.560Z"
   },
   {
    "duration": 34,
    "start_time": "2022-03-14T00:27:23.575Z"
   },
   {
    "duration": 29,
    "start_time": "2022-03-14T00:27:23.611Z"
   },
   {
    "duration": 34,
    "start_time": "2022-03-14T00:27:23.641Z"
   },
   {
    "duration": 13,
    "start_time": "2022-03-14T00:27:23.677Z"
   },
   {
    "duration": 26,
    "start_time": "2022-03-14T00:27:23.691Z"
   },
   {
    "duration": 12,
    "start_time": "2022-03-14T00:27:23.718Z"
   },
   {
    "duration": 17,
    "start_time": "2022-03-14T00:27:23.732Z"
   },
   {
    "duration": 22,
    "start_time": "2022-03-14T00:27:23.750Z"
   },
   {
    "duration": 7,
    "start_time": "2022-03-14T00:27:23.774Z"
   },
   {
    "duration": 20,
    "start_time": "2022-03-14T00:27:23.783Z"
   },
   {
    "duration": 7,
    "start_time": "2022-03-14T00:27:23.805Z"
   },
   {
    "duration": 12,
    "start_time": "2022-03-14T00:27:23.814Z"
   },
   {
    "duration": 15,
    "start_time": "2022-03-14T00:27:23.828Z"
   },
   {
    "duration": 9,
    "start_time": "2022-03-14T00:27:23.845Z"
   },
   {
    "duration": 366,
    "start_time": "2022-03-14T00:27:23.855Z"
   },
   {
    "duration": 7,
    "start_time": "2022-03-14T00:27:24.222Z"
   },
   {
    "duration": 14,
    "start_time": "2022-03-14T00:27:24.230Z"
   },
   {
    "duration": 29,
    "start_time": "2022-03-14T00:27:37.070Z"
   },
   {
    "duration": 653,
    "start_time": "2022-03-14T08:31:41.367Z"
   },
   {
    "duration": 391,
    "start_time": "2022-03-14T08:31:42.022Z"
   },
   {
    "duration": 3,
    "start_time": "2022-03-14T08:31:42.415Z"
   },
   {
    "duration": 45,
    "start_time": "2022-03-14T08:31:42.420Z"
   },
   {
    "duration": 9,
    "start_time": "2022-03-14T08:31:42.467Z"
   },
   {
    "duration": 24,
    "start_time": "2022-03-14T08:31:42.477Z"
   },
   {
    "duration": 9,
    "start_time": "2022-03-14T08:31:42.502Z"
   },
   {
    "duration": 10,
    "start_time": "2022-03-14T08:31:42.513Z"
   },
   {
    "duration": 29,
    "start_time": "2022-03-14T08:31:42.526Z"
   },
   {
    "duration": 10,
    "start_time": "2022-03-14T08:31:42.557Z"
   },
   {
    "duration": 43,
    "start_time": "2022-03-14T08:31:42.569Z"
   },
   {
    "duration": 9,
    "start_time": "2022-03-14T08:31:42.613Z"
   },
   {
    "duration": 18,
    "start_time": "2022-03-14T08:31:42.623Z"
   },
   {
    "duration": 6,
    "start_time": "2022-03-14T08:31:42.643Z"
   },
   {
    "duration": 12,
    "start_time": "2022-03-14T08:31:42.650Z"
   },
   {
    "duration": 6,
    "start_time": "2022-03-14T08:31:42.663Z"
   },
   {
    "duration": 31,
    "start_time": "2022-03-14T08:31:42.670Z"
   },
   {
    "duration": 145,
    "start_time": "2022-03-14T08:31:42.703Z"
   },
   {
    "duration": 4,
    "start_time": "2022-03-14T08:31:42.850Z"
   },
   {
    "duration": 11,
    "start_time": "2022-03-14T08:31:42.856Z"
   },
   {
    "duration": 212,
    "start_time": "2022-03-14T08:31:42.868Z"
   },
   {
    "duration": 228,
    "start_time": "2022-03-14T08:31:43.082Z"
   },
   {
    "duration": 11,
    "start_time": "2022-03-14T08:31:43.312Z"
   },
   {
    "duration": 207,
    "start_time": "2022-03-14T08:31:43.325Z"
   },
   {
    "duration": 12,
    "start_time": "2022-03-14T08:31:43.534Z"
   },
   {
    "duration": 16,
    "start_time": "2022-03-14T08:31:43.548Z"
   },
   {
    "duration": 6,
    "start_time": "2022-03-14T08:31:43.567Z"
   },
   {
    "duration": 978,
    "start_time": "2022-03-14T08:31:43.575Z"
   },
   {
    "duration": 197,
    "start_time": "2022-03-14T08:31:44.555Z"
   },
   {
    "duration": 206,
    "start_time": "2022-03-14T08:31:44.754Z"
   },
   {
    "duration": 31,
    "start_time": "2022-03-14T08:31:44.962Z"
   },
   {
    "duration": 15,
    "start_time": "2022-03-14T08:31:45.001Z"
   },
   {
    "duration": 49,
    "start_time": "2022-03-14T08:31:45.018Z"
   },
   {
    "duration": 12,
    "start_time": "2022-03-14T08:31:45.069Z"
   },
   {
    "duration": 41,
    "start_time": "2022-03-14T08:31:45.083Z"
   },
   {
    "duration": 11,
    "start_time": "2022-03-14T08:31:45.126Z"
   },
   {
    "duration": 22,
    "start_time": "2022-03-14T08:31:45.138Z"
   },
   {
    "duration": 11,
    "start_time": "2022-03-14T08:31:45.161Z"
   },
   {
    "duration": 38,
    "start_time": "2022-03-14T08:31:45.174Z"
   },
   {
    "duration": 2,
    "start_time": "2022-03-14T08:31:45.214Z"
   },
   {
    "duration": 17,
    "start_time": "2022-03-14T08:31:45.218Z"
   },
   {
    "duration": 21,
    "start_time": "2022-03-14T08:31:45.237Z"
   },
   {
    "duration": 5,
    "start_time": "2022-03-14T08:31:45.260Z"
   },
   {
    "duration": 34,
    "start_time": "2022-03-14T08:31:45.267Z"
   },
   {
    "duration": 5,
    "start_time": "2022-03-14T08:31:45.303Z"
   },
   {
    "duration": 7,
    "start_time": "2022-03-14T08:31:45.309Z"
   },
   {
    "duration": 6,
    "start_time": "2022-03-14T08:31:45.318Z"
   },
   {
    "duration": 7,
    "start_time": "2022-03-14T08:31:45.326Z"
   },
   {
    "duration": 459,
    "start_time": "2022-03-14T08:31:45.334Z"
   },
   {
    "duration": 30,
    "start_time": "2022-03-14T08:31:45.795Z"
   },
   {
    "duration": 16,
    "start_time": "2022-03-14T09:50:16.766Z"
   },
   {
    "duration": 17,
    "start_time": "2022-03-14T09:50:33.701Z"
   },
   {
    "duration": 13,
    "start_time": "2022-03-14T09:50:36.702Z"
   },
   {
    "duration": 14,
    "start_time": "2022-03-14T09:51:28.060Z"
   },
   {
    "duration": 44,
    "start_time": "2022-03-14T09:51:35.360Z"
   },
   {
    "duration": 4,
    "start_time": "2022-03-14T09:53:01.499Z"
   },
   {
    "duration": 18,
    "start_time": "2022-03-14T09:53:14.994Z"
   },
   {
    "duration": 19,
    "start_time": "2022-03-14T09:53:18.980Z"
   },
   {
    "duration": 7,
    "start_time": "2022-03-14T09:54:31.153Z"
   },
   {
    "duration": 7,
    "start_time": "2022-03-14T09:54:32.825Z"
   },
   {
    "duration": 6,
    "start_time": "2022-03-14T09:54:35.491Z"
   },
   {
    "duration": 9,
    "start_time": "2022-03-14T09:54:56.849Z"
   },
   {
    "duration": 7,
    "start_time": "2022-03-14T09:56:59.479Z"
   },
   {
    "duration": 7743,
    "start_time": "2022-03-14T09:57:38.264Z"
   },
   {
    "duration": 35,
    "start_time": "2022-03-14T09:58:31.135Z"
   },
   {
    "duration": 643,
    "start_time": "2022-03-14T09:58:53.323Z"
   },
   {
    "duration": 379,
    "start_time": "2022-03-14T09:58:53.968Z"
   },
   {
    "duration": 2,
    "start_time": "2022-03-14T09:58:54.349Z"
   },
   {
    "duration": 49,
    "start_time": "2022-03-14T09:58:54.353Z"
   },
   {
    "duration": 8,
    "start_time": "2022-03-14T09:58:54.403Z"
   },
   {
    "duration": 13,
    "start_time": "2022-03-14T09:58:54.412Z"
   },
   {
    "duration": 10,
    "start_time": "2022-03-14T09:58:54.427Z"
   },
   {
    "duration": 11,
    "start_time": "2022-03-14T09:58:54.439Z"
   },
   {
    "duration": 54,
    "start_time": "2022-03-14T09:58:54.453Z"
   },
   {
    "duration": 9,
    "start_time": "2022-03-14T09:58:54.509Z"
   },
   {
    "duration": 23,
    "start_time": "2022-03-14T09:58:54.520Z"
   },
   {
    "duration": 8,
    "start_time": "2022-03-14T09:58:54.545Z"
   },
   {
    "duration": 23,
    "start_time": "2022-03-14T09:58:54.555Z"
   },
   {
    "duration": 27,
    "start_time": "2022-03-14T09:58:54.579Z"
   },
   {
    "duration": 14,
    "start_time": "2022-03-14T09:58:54.608Z"
   },
   {
    "duration": 6,
    "start_time": "2022-03-14T09:58:54.624Z"
   },
   {
    "duration": 6,
    "start_time": "2022-03-14T09:58:54.632Z"
   },
   {
    "duration": 165,
    "start_time": "2022-03-14T09:58:54.640Z"
   },
   {
    "duration": 7,
    "start_time": "2022-03-14T09:58:54.807Z"
   },
   {
    "duration": 12,
    "start_time": "2022-03-14T09:58:54.815Z"
   },
   {
    "duration": 221,
    "start_time": "2022-03-14T09:58:54.829Z"
   },
   {
    "duration": 233,
    "start_time": "2022-03-14T09:58:55.052Z"
   },
   {
    "duration": 15,
    "start_time": "2022-03-14T09:58:55.287Z"
   },
   {
    "duration": 211,
    "start_time": "2022-03-14T09:58:55.303Z"
   },
   {
    "duration": 10,
    "start_time": "2022-03-14T09:58:55.515Z"
   },
   {
    "duration": 16,
    "start_time": "2022-03-14T09:58:55.527Z"
   },
   {
    "duration": 6,
    "start_time": "2022-03-14T09:58:55.546Z"
   },
   {
    "duration": 991,
    "start_time": "2022-03-14T09:58:55.553Z"
   },
   {
    "duration": 194,
    "start_time": "2022-03-14T09:58:56.545Z"
   },
   {
    "duration": 201,
    "start_time": "2022-03-14T09:58:56.741Z"
   },
   {
    "duration": 32,
    "start_time": "2022-03-14T09:58:56.944Z"
   },
   {
    "duration": 70,
    "start_time": "2022-03-14T09:58:56.978Z"
   },
   {
    "duration": 29,
    "start_time": "2022-03-14T09:58:57.049Z"
   },
   {
    "duration": 37,
    "start_time": "2022-03-14T09:58:57.079Z"
   },
   {
    "duration": 15,
    "start_time": "2022-03-14T09:58:57.118Z"
   },
   {
    "duration": 25,
    "start_time": "2022-03-14T09:58:57.135Z"
   },
   {
    "duration": 3,
    "start_time": "2022-03-14T09:58:57.162Z"
   },
   {
    "duration": 13,
    "start_time": "2022-03-14T09:58:57.166Z"
   },
   {
    "duration": 5,
    "start_time": "2022-03-14T09:58:57.201Z"
   },
   {
    "duration": 7,
    "start_time": "2022-03-14T09:58:57.207Z"
   },
   {
    "duration": 6,
    "start_time": "2022-03-14T09:58:57.216Z"
   },
   {
    "duration": 4,
    "start_time": "2022-03-14T09:58:57.224Z"
   },
   {
    "duration": 358,
    "start_time": "2022-03-14T09:58:57.229Z"
   },
   {
    "duration": 29,
    "start_time": "2022-03-14T09:58:57.589Z"
   },
   {
    "duration": 103,
    "start_time": "2022-03-14T10:01:04.215Z"
   },
   {
    "duration": 8,
    "start_time": "2022-03-14T10:13:15.333Z"
   },
   {
    "duration": 165,
    "start_time": "2022-03-14T10:13:22.063Z"
   },
   {
    "duration": 7,
    "start_time": "2022-03-14T10:29:28.066Z"
   },
   {
    "duration": 307,
    "start_time": "2022-03-14T10:29:43.603Z"
   },
   {
    "duration": 174,
    "start_time": "2022-03-14T10:29:50.002Z"
   },
   {
    "duration": 151,
    "start_time": "2022-03-14T10:29:59.225Z"
   },
   {
    "duration": 248,
    "start_time": "2022-03-14T10:47:43.429Z"
   },
   {
    "duration": 242,
    "start_time": "2022-03-14T10:48:06.584Z"
   },
   {
    "duration": 155,
    "start_time": "2022-03-14T10:52:55.370Z"
   },
   {
    "duration": 171,
    "start_time": "2022-03-14T10:53:02.457Z"
   },
   {
    "duration": 161,
    "start_time": "2022-03-14T10:53:12.138Z"
   },
   {
    "duration": 180,
    "start_time": "2022-03-14T10:53:17.201Z"
   },
   {
    "duration": 170,
    "start_time": "2022-03-14T10:53:23.884Z"
   },
   {
    "duration": 3,
    "start_time": "2022-03-14T11:14:44.873Z"
   },
   {
    "duration": 6,
    "start_time": "2022-03-14T11:15:38.730Z"
   },
   {
    "duration": 6,
    "start_time": "2022-03-14T11:16:21.754Z"
   },
   {
    "duration": 6,
    "start_time": "2022-03-14T11:17:04.867Z"
   },
   {
    "duration": 7,
    "start_time": "2022-03-14T11:17:39.816Z"
   },
   {
    "duration": 7,
    "start_time": "2022-03-14T11:18:08.415Z"
   },
   {
    "duration": 6,
    "start_time": "2022-03-14T11:18:16.759Z"
   },
   {
    "duration": 6,
    "start_time": "2022-03-14T11:20:03.559Z"
   },
   {
    "duration": 19,
    "start_time": "2022-03-14T11:20:14.786Z"
   },
   {
    "duration": 9,
    "start_time": "2022-03-14T11:20:24.383Z"
   },
   {
    "duration": 6,
    "start_time": "2022-03-14T11:22:26.101Z"
   },
   {
    "duration": 9,
    "start_time": "2022-03-14T11:25:05.818Z"
   },
   {
    "duration": 16,
    "start_time": "2022-03-14T11:25:30.162Z"
   },
   {
    "duration": 29,
    "start_time": "2022-03-14T11:25:34.090Z"
   },
   {
    "duration": 26,
    "start_time": "2022-03-14T11:25:40.442Z"
   },
   {
    "duration": 187,
    "start_time": "2022-03-14T11:25:55.962Z"
   },
   {
    "duration": 300,
    "start_time": "2022-03-14T11:26:11.843Z"
   },
   {
    "duration": 191,
    "start_time": "2022-03-14T11:26:21.250Z"
   },
   {
    "duration": 198,
    "start_time": "2022-03-14T11:26:49.689Z"
   },
   {
    "duration": 216,
    "start_time": "2022-03-14T11:27:53.306Z"
   },
   {
    "duration": 210,
    "start_time": "2022-03-14T11:28:01.928Z"
   },
   {
    "duration": 3,
    "start_time": "2022-03-14T11:39:48.314Z"
   },
   {
    "duration": 440,
    "start_time": "2022-03-14T11:39:48.319Z"
   },
   {
    "duration": 2,
    "start_time": "2022-03-14T11:39:48.761Z"
   },
   {
    "duration": 53,
    "start_time": "2022-03-14T11:39:48.765Z"
   },
   {
    "duration": 7,
    "start_time": "2022-03-14T11:39:48.820Z"
   },
   {
    "duration": 13,
    "start_time": "2022-03-14T11:39:48.829Z"
   },
   {
    "duration": 7,
    "start_time": "2022-03-14T11:39:48.844Z"
   },
   {
    "duration": 8,
    "start_time": "2022-03-14T11:39:48.854Z"
   },
   {
    "duration": 50,
    "start_time": "2022-03-14T11:39:48.864Z"
   },
   {
    "duration": 11,
    "start_time": "2022-03-14T11:39:48.916Z"
   },
   {
    "duration": 21,
    "start_time": "2022-03-14T11:39:48.928Z"
   },
   {
    "duration": 9,
    "start_time": "2022-03-14T11:39:48.950Z"
   },
   {
    "duration": 24,
    "start_time": "2022-03-14T11:39:48.961Z"
   },
   {
    "duration": 8,
    "start_time": "2022-03-14T11:39:49.001Z"
   },
   {
    "duration": 17,
    "start_time": "2022-03-14T11:39:49.011Z"
   },
   {
    "duration": 12,
    "start_time": "2022-03-14T11:39:49.029Z"
   },
   {
    "duration": 13,
    "start_time": "2022-03-14T11:39:49.042Z"
   },
   {
    "duration": 161,
    "start_time": "2022-03-14T11:39:49.056Z"
   },
   {
    "duration": 5,
    "start_time": "2022-03-14T11:39:49.218Z"
   },
   {
    "duration": 21,
    "start_time": "2022-03-14T11:39:49.225Z"
   },
   {
    "duration": 193,
    "start_time": "2022-03-14T11:39:49.247Z"
   },
   {
    "duration": 226,
    "start_time": "2022-03-14T11:39:49.442Z"
   },
   {
    "duration": 10,
    "start_time": "2022-03-14T11:39:49.671Z"
   },
   {
    "duration": 212,
    "start_time": "2022-03-14T11:39:49.683Z"
   },
   {
    "duration": 9,
    "start_time": "2022-03-14T11:39:49.897Z"
   },
   {
    "duration": 15,
    "start_time": "2022-03-14T11:39:49.908Z"
   },
   {
    "duration": 17,
    "start_time": "2022-03-14T11:39:49.925Z"
   },
   {
    "duration": 1033,
    "start_time": "2022-03-14T11:39:49.943Z"
   },
   {
    "duration": 193,
    "start_time": "2022-03-14T11:39:50.977Z"
   },
   {
    "duration": 200,
    "start_time": "2022-03-14T11:39:51.172Z"
   },
   {
    "duration": 40,
    "start_time": "2022-03-14T11:39:51.373Z"
   },
   {
    "duration": 53,
    "start_time": "2022-03-14T11:39:51.414Z"
   },
   {
    "duration": 40,
    "start_time": "2022-03-14T11:39:51.468Z"
   },
   {
    "duration": 24,
    "start_time": "2022-03-14T11:39:51.510Z"
   },
   {
    "duration": 14,
    "start_time": "2022-03-14T11:39:51.535Z"
   },
   {
    "duration": 26,
    "start_time": "2022-03-14T11:39:51.551Z"
   },
   {
    "duration": 24,
    "start_time": "2022-03-14T11:39:51.578Z"
   },
   {
    "duration": 21,
    "start_time": "2022-03-14T11:39:51.604Z"
   },
   {
    "duration": 6,
    "start_time": "2022-03-14T11:39:51.627Z"
   },
   {
    "duration": 10,
    "start_time": "2022-03-14T11:39:51.634Z"
   },
   {
    "duration": 12,
    "start_time": "2022-03-14T11:39:51.645Z"
   },
   {
    "duration": 10,
    "start_time": "2022-03-14T11:39:51.658Z"
   },
   {
    "duration": 350,
    "start_time": "2022-03-14T11:39:51.670Z"
   },
   {
    "duration": 24,
    "start_time": "2022-03-14T11:39:52.021Z"
   },
   {
    "duration": 8,
    "start_time": "2022-03-14T11:39:52.047Z"
   },
   {
    "duration": 23,
    "start_time": "2022-03-14T11:39:52.056Z"
   },
   {
    "duration": 42,
    "start_time": "2022-03-14T11:39:52.081Z"
   },
   {
    "duration": 212,
    "start_time": "2022-03-14T11:39:52.124Z"
   },
   {
    "duration": 7,
    "start_time": "2022-03-14T11:39:52.337Z"
   },
   {
    "duration": 6,
    "start_time": "2022-03-14T11:39:52.345Z"
   },
   {
    "duration": 6,
    "start_time": "2022-03-14T11:39:52.353Z"
   },
   {
    "duration": 193,
    "start_time": "2022-03-14T11:39:52.361Z"
   },
   {
    "duration": 225,
    "start_time": "2022-03-14T11:39:52.556Z"
   },
   {
    "duration": 187,
    "start_time": "2022-03-14T11:39:52.783Z"
   },
   {
    "duration": 563,
    "start_time": "2022-03-14T13:19:50.639Z"
   },
   {
    "duration": 118,
    "start_time": "2022-03-14T13:20:37.685Z"
   },
   {
    "duration": 639,
    "start_time": "2022-03-14T13:20:45.782Z"
   },
   {
    "duration": 178,
    "start_time": "2022-03-14T13:20:54.498Z"
   },
   {
    "duration": 114,
    "start_time": "2022-03-14T13:21:53.274Z"
   },
   {
    "duration": 184,
    "start_time": "2022-03-14T13:22:02.905Z"
   },
   {
    "duration": 119,
    "start_time": "2022-03-14T13:22:17.848Z"
   },
   {
    "duration": 196327,
    "start_time": "2022-03-14T13:35:43.229Z"
   },
   {
    "duration": 1873,
    "start_time": "2022-03-14T13:39:49.658Z"
   },
   {
    "duration": 1387,
    "start_time": "2022-03-14T13:40:08.748Z"
   },
   {
    "duration": 1000,
    "start_time": "2022-03-14T13:40:19.444Z"
   },
   {
    "duration": 1018,
    "start_time": "2022-03-14T13:40:25.331Z"
   },
   {
    "duration": 5,
    "start_time": "2022-03-14T13:49:57.813Z"
   },
   {
    "duration": 5,
    "start_time": "2022-03-14T13:50:06.205Z"
   },
   {
    "duration": 1691,
    "start_time": "2022-03-14T13:50:41.517Z"
   },
   {
    "duration": 1557,
    "start_time": "2022-03-14T13:50:53.900Z"
   },
   {
    "duration": 1296,
    "start_time": "2022-03-14T14:54:08.176Z"
   },
   {
    "duration": 24100,
    "start_time": "2022-03-14T14:54:38.406Z"
   },
   {
    "duration": 185,
    "start_time": "2022-03-14T14:55:18.101Z"
   },
   {
    "duration": 541,
    "start_time": "2022-03-14T14:55:35.745Z"
   },
   {
    "duration": 252,
    "start_time": "2022-03-14T14:55:55.469Z"
   },
   {
    "duration": 411,
    "start_time": "2022-03-14T14:57:25.309Z"
   },
   {
    "duration": 409,
    "start_time": "2022-03-14T14:58:12.471Z"
   },
   {
    "duration": 416,
    "start_time": "2022-03-14T14:58:24.052Z"
   },
   {
    "duration": 330,
    "start_time": "2022-03-14T15:00:03.618Z"
   },
   {
    "duration": 345,
    "start_time": "2022-03-14T15:00:25.394Z"
   },
   {
    "duration": 3,
    "start_time": "2022-03-14T15:00:51.897Z"
   },
   {
    "duration": 2311,
    "start_time": "2022-03-14T15:01:22.970Z"
   },
   {
    "duration": 4,
    "start_time": "2022-03-15T07:51:30.740Z"
   },
   {
    "duration": 355,
    "start_time": "2022-03-15T07:51:30.746Z"
   },
   {
    "duration": 3,
    "start_time": "2022-03-15T07:51:31.103Z"
   },
   {
    "duration": 52,
    "start_time": "2022-03-15T07:51:31.107Z"
   },
   {
    "duration": 8,
    "start_time": "2022-03-15T07:51:31.160Z"
   },
   {
    "duration": 33,
    "start_time": "2022-03-15T07:51:31.169Z"
   },
   {
    "duration": 7,
    "start_time": "2022-03-15T07:51:31.203Z"
   },
   {
    "duration": 12,
    "start_time": "2022-03-15T07:51:31.212Z"
   },
   {
    "duration": 30,
    "start_time": "2022-03-15T07:51:31.227Z"
   },
   {
    "duration": 10,
    "start_time": "2022-03-15T07:51:31.259Z"
   },
   {
    "duration": 38,
    "start_time": "2022-03-15T07:51:31.270Z"
   },
   {
    "duration": 9,
    "start_time": "2022-03-15T07:51:31.309Z"
   },
   {
    "duration": 18,
    "start_time": "2022-03-15T07:51:31.319Z"
   },
   {
    "duration": 7,
    "start_time": "2022-03-15T07:51:31.338Z"
   },
   {
    "duration": 12,
    "start_time": "2022-03-15T07:51:31.346Z"
   },
   {
    "duration": 5,
    "start_time": "2022-03-15T07:51:31.359Z"
   },
   {
    "duration": 7,
    "start_time": "2022-03-15T07:51:31.365Z"
   },
   {
    "duration": 170,
    "start_time": "2022-03-15T07:51:31.373Z"
   },
   {
    "duration": 6,
    "start_time": "2022-03-15T07:51:31.545Z"
   },
   {
    "duration": 11,
    "start_time": "2022-03-15T07:51:31.553Z"
   },
   {
    "duration": 223,
    "start_time": "2022-03-15T07:51:31.566Z"
   },
   {
    "duration": 227,
    "start_time": "2022-03-15T07:51:31.790Z"
   },
   {
    "duration": 10,
    "start_time": "2022-03-15T07:51:32.019Z"
   },
   {
    "duration": 216,
    "start_time": "2022-03-15T07:51:32.031Z"
   },
   {
    "duration": 11,
    "start_time": "2022-03-15T07:51:32.249Z"
   },
   {
    "duration": 16,
    "start_time": "2022-03-15T07:51:32.262Z"
   },
   {
    "duration": 20,
    "start_time": "2022-03-15T07:51:32.281Z"
   },
   {
    "duration": 1071,
    "start_time": "2022-03-15T07:51:32.303Z"
   },
   {
    "duration": 196,
    "start_time": "2022-03-15T07:51:33.375Z"
   },
   {
    "duration": 190,
    "start_time": "2022-03-15T07:51:33.572Z"
   },
   {
    "duration": 40,
    "start_time": "2022-03-15T07:51:33.763Z"
   },
   {
    "duration": 41,
    "start_time": "2022-03-15T07:51:33.805Z"
   },
   {
    "duration": 28,
    "start_time": "2022-03-15T07:51:33.848Z"
   },
   {
    "duration": 39,
    "start_time": "2022-03-15T07:51:33.878Z"
   },
   {
    "duration": 17,
    "start_time": "2022-03-15T07:51:33.919Z"
   },
   {
    "duration": 28,
    "start_time": "2022-03-15T07:51:33.937Z"
   },
   {
    "duration": 3,
    "start_time": "2022-03-15T07:51:33.967Z"
   },
   {
    "duration": 35,
    "start_time": "2022-03-15T07:51:33.972Z"
   },
   {
    "duration": 5,
    "start_time": "2022-03-15T07:51:34.008Z"
   },
   {
    "duration": 7,
    "start_time": "2022-03-15T07:51:34.014Z"
   },
   {
    "duration": 10,
    "start_time": "2022-03-15T07:51:34.023Z"
   },
   {
    "duration": 6,
    "start_time": "2022-03-15T07:51:34.034Z"
   },
   {
    "duration": 375,
    "start_time": "2022-03-15T07:51:34.041Z"
   },
   {
    "duration": 27,
    "start_time": "2022-03-15T07:51:34.418Z"
   },
   {
    "duration": 136,
    "start_time": "2022-03-15T07:51:34.446Z"
   },
   {
    "duration": 18,
    "start_time": "2022-03-15T07:51:34.583Z"
   },
   {
    "duration": 1341,
    "start_time": "2022-03-15T07:51:34.602Z"
   },
   {
    "duration": 468,
    "start_time": "2022-03-15T07:51:35.945Z"
   },
   {
    "duration": 8,
    "start_time": "2022-03-15T07:51:36.415Z"
   },
   {
    "duration": 6,
    "start_time": "2022-03-15T07:51:36.424Z"
   },
   {
    "duration": 6,
    "start_time": "2022-03-15T07:51:36.431Z"
   },
   {
    "duration": 219,
    "start_time": "2022-03-15T07:51:36.439Z"
   },
   {
    "duration": 235,
    "start_time": "2022-03-15T07:51:36.660Z"
   },
   {
    "duration": 193,
    "start_time": "2022-03-15T07:51:36.897Z"
   },
   {
    "duration": 444,
    "start_time": "2022-03-15T07:53:56.503Z"
   },
   {
    "duration": 374,
    "start_time": "2022-03-15T07:54:42.264Z"
   },
   {
    "duration": 316,
    "start_time": "2022-03-15T07:55:02.782Z"
   },
   {
    "duration": 355,
    "start_time": "2022-03-15T07:55:14.670Z"
   },
   {
    "duration": 5,
    "start_time": "2022-03-15T07:55:49.941Z"
   },
   {
    "duration": 4,
    "start_time": "2022-03-15T07:56:26.269Z"
   },
   {
    "duration": 370,
    "start_time": "2022-03-15T07:57:28.548Z"
   },
   {
    "duration": 372,
    "start_time": "2022-03-15T07:57:46.364Z"
   },
   {
    "duration": 224,
    "start_time": "2022-03-15T07:57:52.340Z"
   },
   {
    "duration": 217,
    "start_time": "2022-03-15T07:57:57.315Z"
   },
   {
    "duration": 388,
    "start_time": "2022-03-15T07:58:00.820Z"
   },
   {
    "duration": 371,
    "start_time": "2022-03-15T08:03:36.873Z"
   },
   {
    "duration": 1281,
    "start_time": "2022-03-15T08:03:42.624Z"
   },
   {
    "duration": 7,
    "start_time": "2022-03-15T08:04:11.007Z"
   },
   {
    "duration": 480,
    "start_time": "2022-03-15T08:04:59.511Z"
   },
   {
    "duration": 27,
    "start_time": "2022-03-15T13:16:02.280Z"
   },
   {
    "duration": 9,
    "start_time": "2022-03-15T13:17:50.003Z"
   },
   {
    "duration": 118,
    "start_time": "2022-03-15T13:18:36.380Z"
   },
   {
    "duration": 405,
    "start_time": "2022-03-15T13:27:13.132Z"
   },
   {
    "duration": 396,
    "start_time": "2022-03-15T13:27:20.844Z"
   },
   {
    "duration": 6,
    "start_time": "2022-03-15T13:28:54.916Z"
   },
   {
    "duration": 7,
    "start_time": "2022-03-15T13:29:15.370Z"
   },
   {
    "duration": 6,
    "start_time": "2022-03-15T13:32:42.504Z"
   },
   {
    "duration": 8,
    "start_time": "2022-03-15T13:35:49.654Z"
   },
   {
    "duration": 7,
    "start_time": "2022-03-15T13:36:43.613Z"
   },
   {
    "duration": 1127,
    "start_time": "2022-03-15T13:37:36.436Z"
   },
   {
    "duration": 785,
    "start_time": "2022-03-15T13:37:46.876Z"
   },
   {
    "duration": 1331,
    "start_time": "2022-03-15T13:38:07.988Z"
   },
   {
    "duration": 3,
    "start_time": "2022-03-15T13:41:11.797Z"
   },
   {
    "duration": 6,
    "start_time": "2022-03-15T13:41:21.986Z"
   },
   {
    "duration": 6,
    "start_time": "2022-03-15T13:41:42.689Z"
   },
   {
    "duration": 5,
    "start_time": "2022-03-15T13:46:46.285Z"
   },
   {
    "duration": 15,
    "start_time": "2022-03-15T13:47:10.646Z"
   },
   {
    "duration": 4,
    "start_time": "2022-03-15T13:47:50.165Z"
   },
   {
    "duration": 18,
    "start_time": "2022-03-15T13:47:50.444Z"
   },
   {
    "duration": 2030,
    "start_time": "2022-03-15T13:52:58.706Z"
   },
   {
    "duration": 94,
    "start_time": "2022-03-15T13:53:13.601Z"
   },
   {
    "duration": 5,
    "start_time": "2022-03-15T13:53:17.028Z"
   },
   {
    "duration": 7,
    "start_time": "2022-03-15T13:53:31.425Z"
   },
   {
    "duration": 120,
    "start_time": "2022-03-15T13:53:38.474Z"
   },
   {
    "duration": 124,
    "start_time": "2022-03-15T13:53:48.473Z"
   },
   {
    "duration": 118,
    "start_time": "2022-03-15T13:54:59.400Z"
   },
   {
    "duration": 120,
    "start_time": "2022-03-15T13:55:05.127Z"
   },
   {
    "duration": 202,
    "start_time": "2022-03-15T13:55:24.817Z"
   },
   {
    "duration": 4,
    "start_time": "2022-03-15T13:59:04.197Z"
   },
   {
    "duration": 15,
    "start_time": "2022-03-15T14:00:30.829Z"
   },
   {
    "duration": 14,
    "start_time": "2022-03-15T14:16:55.575Z"
   },
   {
    "duration": 4,
    "start_time": "2022-03-15T14:50:25.121Z"
   },
   {
    "duration": 15,
    "start_time": "2022-03-15T14:50:25.800Z"
   },
   {
    "duration": 15,
    "start_time": "2022-03-15T14:50:31.872Z"
   },
   {
    "duration": 4,
    "start_time": "2022-03-15T14:51:10.465Z"
   },
   {
    "duration": 3678,
    "start_time": "2022-03-15T14:51:10.752Z"
   },
   {
    "duration": 4,
    "start_time": "2022-03-15T14:51:36.840Z"
   },
   {
    "duration": 187,
    "start_time": "2022-03-15T14:51:37.256Z"
   },
   {
    "duration": 5,
    "start_time": "2022-03-15T14:52:19.263Z"
   },
   {
    "duration": 203,
    "start_time": "2022-03-15T14:52:19.800Z"
   },
   {
    "duration": 5,
    "start_time": "2022-03-15T14:53:19.071Z"
   },
   {
    "duration": 5,
    "start_time": "2022-03-15T14:54:04.894Z"
   },
   {
    "duration": 273,
    "start_time": "2022-03-15T14:54:05.414Z"
   },
   {
    "duration": 4,
    "start_time": "2022-03-15T14:54:13.423Z"
   },
   {
    "duration": 251,
    "start_time": "2022-03-15T14:54:13.846Z"
   },
   {
    "duration": 4,
    "start_time": "2022-03-15T14:54:21.902Z"
   },
   {
    "duration": 230,
    "start_time": "2022-03-15T14:54:22.318Z"
   },
   {
    "duration": 5,
    "start_time": "2022-03-15T14:54:37.262Z"
   },
   {
    "duration": 399,
    "start_time": "2022-03-15T14:54:37.774Z"
   },
   {
    "duration": 634,
    "start_time": "2022-03-15T14:57:14.242Z"
   },
   {
    "duration": 446,
    "start_time": "2022-03-15T15:11:59.930Z"
   },
   {
    "duration": 442,
    "start_time": "2022-03-15T15:12:26.825Z"
   },
   {
    "duration": 1084,
    "start_time": "2022-03-15T15:27:21.850Z"
   },
   {
    "duration": 381,
    "start_time": "2022-03-15T15:27:22.936Z"
   },
   {
    "duration": 3,
    "start_time": "2022-03-15T15:27:23.319Z"
   },
   {
    "duration": 49,
    "start_time": "2022-03-15T15:27:23.324Z"
   },
   {
    "duration": 9,
    "start_time": "2022-03-15T15:27:23.375Z"
   },
   {
    "duration": 23,
    "start_time": "2022-03-15T15:27:23.385Z"
   },
   {
    "duration": 9,
    "start_time": "2022-03-15T15:27:23.410Z"
   },
   {
    "duration": 17,
    "start_time": "2022-03-15T15:27:23.421Z"
   },
   {
    "duration": 30,
    "start_time": "2022-03-15T15:27:23.440Z"
   },
   {
    "duration": 11,
    "start_time": "2022-03-15T15:27:23.471Z"
   },
   {
    "duration": 20,
    "start_time": "2022-03-15T15:27:23.501Z"
   },
   {
    "duration": 7,
    "start_time": "2022-03-15T15:27:23.523Z"
   },
   {
    "duration": 23,
    "start_time": "2022-03-15T15:27:23.531Z"
   },
   {
    "duration": 7,
    "start_time": "2022-03-15T15:27:23.556Z"
   },
   {
    "duration": 13,
    "start_time": "2022-03-15T15:27:23.565Z"
   },
   {
    "duration": 24,
    "start_time": "2022-03-15T15:27:23.580Z"
   },
   {
    "duration": 6,
    "start_time": "2022-03-15T15:27:23.605Z"
   },
   {
    "duration": 175,
    "start_time": "2022-03-15T15:27:23.612Z"
   },
   {
    "duration": 5,
    "start_time": "2022-03-15T15:27:23.788Z"
   },
   {
    "duration": 14,
    "start_time": "2022-03-15T15:27:23.794Z"
   },
   {
    "duration": 207,
    "start_time": "2022-03-15T15:27:23.810Z"
   },
   {
    "duration": 320,
    "start_time": "2022-03-15T15:27:24.019Z"
   },
   {
    "duration": 9,
    "start_time": "2022-03-15T15:27:24.343Z"
   },
   {
    "duration": 206,
    "start_time": "2022-03-15T15:27:24.354Z"
   },
   {
    "duration": 11,
    "start_time": "2022-03-15T15:27:24.561Z"
   },
   {
    "duration": 28,
    "start_time": "2022-03-15T15:27:24.573Z"
   },
   {
    "duration": 5,
    "start_time": "2022-03-15T15:27:24.603Z"
   },
   {
    "duration": 1102,
    "start_time": "2022-03-15T15:27:24.610Z"
   },
   {
    "duration": 202,
    "start_time": "2022-03-15T15:27:25.714Z"
   },
   {
    "duration": 208,
    "start_time": "2022-03-15T15:27:25.917Z"
   },
   {
    "duration": 33,
    "start_time": "2022-03-15T15:27:26.126Z"
   },
   {
    "duration": 77,
    "start_time": "2022-03-15T15:27:26.161Z"
   },
   {
    "duration": 33,
    "start_time": "2022-03-15T15:27:26.240Z"
   },
   {
    "duration": 37,
    "start_time": "2022-03-15T15:27:26.275Z"
   },
   {
    "duration": 16,
    "start_time": "2022-03-15T15:27:26.314Z"
   },
   {
    "duration": 31,
    "start_time": "2022-03-15T15:27:26.332Z"
   },
   {
    "duration": 4,
    "start_time": "2022-03-15T15:27:26.364Z"
   },
   {
    "duration": 39,
    "start_time": "2022-03-15T15:27:26.369Z"
   },
   {
    "duration": 4,
    "start_time": "2022-03-15T15:27:26.410Z"
   },
   {
    "duration": 20,
    "start_time": "2022-03-15T15:27:26.416Z"
   },
   {
    "duration": 32,
    "start_time": "2022-03-15T15:27:26.437Z"
   },
   {
    "duration": 13,
    "start_time": "2022-03-15T15:27:26.470Z"
   },
   {
    "duration": 369,
    "start_time": "2022-03-15T15:27:26.484Z"
   },
   {
    "duration": 24,
    "start_time": "2022-03-15T15:27:26.855Z"
   },
   {
    "duration": 9,
    "start_time": "2022-03-15T15:27:26.900Z"
   },
   {
    "duration": 121,
    "start_time": "2022-03-15T15:27:26.911Z"
   },
   {
    "duration": 780,
    "start_time": "2022-03-15T15:27:27.033Z"
   },
   {
    "duration": 4,
    "start_time": "2022-03-15T15:27:27.814Z"
   },
   {
    "duration": 508,
    "start_time": "2022-03-15T15:27:27.820Z"
   },
   {
    "duration": 411,
    "start_time": "2022-03-15T15:27:28.329Z"
   },
   {
    "duration": 493,
    "start_time": "2022-03-15T15:27:28.742Z"
   },
   {
    "duration": 396,
    "start_time": "2022-03-15T15:27:29.237Z"
   },
   {
    "duration": 4,
    "start_time": "2022-03-15T15:27:29.635Z"
   },
   {
    "duration": 423,
    "start_time": "2022-03-15T15:27:29.641Z"
   },
   {
    "duration": 7,
    "start_time": "2022-03-15T15:27:30.066Z"
   },
   {
    "duration": 8,
    "start_time": "2022-03-15T15:27:30.075Z"
   },
   {
    "duration": 19,
    "start_time": "2022-03-15T15:27:30.084Z"
   },
   {
    "duration": 188,
    "start_time": "2022-03-15T15:27:30.105Z"
   },
   {
    "duration": 226,
    "start_time": "2022-03-15T15:27:30.295Z"
   },
   {
    "duration": 187,
    "start_time": "2022-03-15T15:27:30.523Z"
   },
   {
    "duration": 3,
    "start_time": "2022-03-15T15:41:02.382Z"
   },
   {
    "duration": 4184,
    "start_time": "2022-03-15T15:43:52.795Z"
   },
   {
    "duration": 8,
    "start_time": "2022-03-15T15:44:02.059Z"
   },
   {
    "duration": 6,
    "start_time": "2022-03-15T15:44:32.053Z"
   },
   {
    "duration": 7,
    "start_time": "2022-03-15T15:44:46.697Z"
   },
   {
    "duration": 5,
    "start_time": "2022-03-15T15:45:03.987Z"
   },
   {
    "duration": 5,
    "start_time": "2022-03-15T15:45:43.995Z"
   },
   {
    "duration": 5,
    "start_time": "2022-03-15T15:46:04.378Z"
   },
   {
    "duration": 5,
    "start_time": "2022-03-15T15:46:04.704Z"
   },
   {
    "duration": 5,
    "start_time": "2022-03-15T15:46:08.819Z"
   },
   {
    "duration": 5,
    "start_time": "2022-03-15T15:46:08.971Z"
   },
   {
    "duration": 16,
    "start_time": "2022-03-15T15:46:25.730Z"
   },
   {
    "duration": 14,
    "start_time": "2022-03-15T15:46:33.853Z"
   },
   {
    "duration": 334,
    "start_time": "2022-03-15T15:46:56.594Z"
   },
   {
    "duration": 3,
    "start_time": "2022-03-15T15:47:24.314Z"
   },
   {
    "duration": 366,
    "start_time": "2022-03-15T15:47:25.852Z"
   },
   {
    "duration": 19,
    "start_time": "2022-03-15T15:47:42.872Z"
   },
   {
    "duration": 19,
    "start_time": "2022-03-15T15:48:31.481Z"
   },
   {
    "duration": 5,
    "start_time": "2022-03-15T15:50:09.887Z"
   },
   {
    "duration": 6,
    "start_time": "2022-03-15T15:50:18.503Z"
   },
   {
    "duration": 6,
    "start_time": "2022-03-15T15:50:47.657Z"
   },
   {
    "duration": 6,
    "start_time": "2022-03-15T15:50:51.878Z"
   },
   {
    "duration": 6,
    "start_time": "2022-03-15T15:50:54.086Z"
   },
   {
    "duration": 6,
    "start_time": "2022-03-15T15:50:58.086Z"
   },
   {
    "duration": 6,
    "start_time": "2022-03-15T15:51:52.805Z"
   },
   {
    "duration": 6,
    "start_time": "2022-03-15T15:52:01.958Z"
   },
   {
    "duration": 5,
    "start_time": "2022-03-15T15:52:59.406Z"
   },
   {
    "duration": 308,
    "start_time": "2022-03-15T15:53:01.614Z"
   },
   {
    "duration": 7,
    "start_time": "2022-03-15T15:53:19.846Z"
   },
   {
    "duration": 8,
    "start_time": "2022-03-15T15:53:56.132Z"
   },
   {
    "duration": 306,
    "start_time": "2022-03-15T15:54:18.604Z"
   },
   {
    "duration": 8,
    "start_time": "2022-03-15T15:54:35.108Z"
   },
   {
    "duration": 5,
    "start_time": "2022-03-15T15:54:59.027Z"
   },
   {
    "duration": 6,
    "start_time": "2022-03-15T15:54:59.404Z"
   },
   {
    "duration": 3,
    "start_time": "2022-03-15T15:54:59.845Z"
   },
   {
    "duration": 6,
    "start_time": "2022-03-15T15:55:00.348Z"
   },
   {
    "duration": 9,
    "start_time": "2022-03-15T15:55:01.411Z"
   },
   {
    "duration": 7,
    "start_time": "2022-03-15T15:55:56.907Z"
   },
   {
    "duration": 9,
    "start_time": "2022-03-15T15:57:29.146Z"
   },
   {
    "duration": 451,
    "start_time": "2022-03-15T15:57:44.617Z"
   },
   {
    "duration": 309,
    "start_time": "2022-03-15T15:57:50.345Z"
   },
   {
    "duration": 314,
    "start_time": "2022-03-15T15:58:20.138Z"
   },
   {
    "duration": 7,
    "start_time": "2022-03-15T15:59:10.090Z"
   },
   {
    "duration": 6,
    "start_time": "2022-03-15T15:59:13.393Z"
   },
   {
    "duration": 7,
    "start_time": "2022-03-15T15:59:13.753Z"
   },
   {
    "duration": 7752,
    "start_time": "2022-03-15T15:59:34.776Z"
   },
   {
    "duration": 26,
    "start_time": "2022-03-15T15:59:49.769Z"
   },
   {
    "duration": 22,
    "start_time": "2022-03-15T16:00:11.238Z"
   },
   {
    "duration": 30,
    "start_time": "2022-03-15T16:00:30.448Z"
   },
   {
    "duration": 10,
    "start_time": "2022-03-15T16:00:57.344Z"
   },
   {
    "duration": 8,
    "start_time": "2022-03-15T16:01:15.869Z"
   },
   {
    "duration": 7,
    "start_time": "2022-03-15T16:10:18.385Z"
   },
   {
    "duration": 9,
    "start_time": "2022-03-15T16:10:19.457Z"
   },
   {
    "duration": 7,
    "start_time": "2022-03-15T16:10:59.792Z"
   },
   {
    "duration": 9,
    "start_time": "2022-03-15T16:11:00.672Z"
   },
   {
    "duration": 5,
    "start_time": "2022-03-15T16:11:22.569Z"
   },
   {
    "duration": 3,
    "start_time": "2022-03-15T16:11:38.055Z"
   },
   {
    "duration": 7,
    "start_time": "2022-03-15T16:11:47.496Z"
   },
   {
    "duration": 6,
    "start_time": "2022-03-15T16:11:48.095Z"
   },
   {
    "duration": 317,
    "start_time": "2022-03-15T16:12:41.303Z"
   },
   {
    "duration": 289,
    "start_time": "2022-03-15T16:12:45.959Z"
   },
   {
    "duration": 5,
    "start_time": "2022-03-15T16:13:29.774Z"
   },
   {
    "duration": 4,
    "start_time": "2022-03-15T16:13:32.270Z"
   },
   {
    "duration": 6,
    "start_time": "2022-03-15T16:13:34.542Z"
   },
   {
    "duration": 2,
    "start_time": "2022-03-15T16:13:35.358Z"
   },
   {
    "duration": 299,
    "start_time": "2022-03-15T16:13:36.151Z"
   },
   {
    "duration": 5,
    "start_time": "2022-03-15T16:13:48.301Z"
   },
   {
    "duration": 3,
    "start_time": "2022-03-15T16:13:49.094Z"
   },
   {
    "duration": 6,
    "start_time": "2022-03-15T16:13:49.589Z"
   },
   {
    "duration": 3,
    "start_time": "2022-03-15T16:13:50.117Z"
   },
   {
    "duration": 6,
    "start_time": "2022-03-15T16:13:50.614Z"
   },
   {
    "duration": 6,
    "start_time": "2022-03-15T16:14:03.238Z"
   },
   {
    "duration": 5,
    "start_time": "2022-03-15T16:14:04.438Z"
   },
   {
    "duration": 8,
    "start_time": "2022-03-15T16:14:08.166Z"
   },
   {
    "duration": 6,
    "start_time": "2022-03-15T16:14:08.805Z"
   },
   {
    "duration": 7,
    "start_time": "2022-03-15T16:14:13.582Z"
   },
   {
    "duration": 7,
    "start_time": "2022-03-15T16:14:21.421Z"
   },
   {
    "duration": 6,
    "start_time": "2022-03-15T16:14:23.085Z"
   },
   {
    "duration": 6,
    "start_time": "2022-03-15T16:14:26.965Z"
   },
   {
    "duration": 6,
    "start_time": "2022-03-15T16:14:46.748Z"
   },
   {
    "duration": 6,
    "start_time": "2022-03-15T16:16:55.436Z"
   },
   {
    "duration": 7,
    "start_time": "2022-03-15T16:17:02.027Z"
   },
   {
    "duration": 7,
    "start_time": "2022-03-15T16:17:03.252Z"
   },
   {
    "duration": 5,
    "start_time": "2022-03-15T16:17:04.700Z"
   },
   {
    "duration": 3,
    "start_time": "2022-03-16T09:58:19.269Z"
   },
   {
    "duration": 372,
    "start_time": "2022-03-16T09:58:19.274Z"
   },
   {
    "duration": 2,
    "start_time": "2022-03-16T09:58:19.648Z"
   },
   {
    "duration": 46,
    "start_time": "2022-03-16T09:58:19.652Z"
   },
   {
    "duration": 8,
    "start_time": "2022-03-16T09:58:19.699Z"
   },
   {
    "duration": 12,
    "start_time": "2022-03-16T09:58:19.708Z"
   },
   {
    "duration": 7,
    "start_time": "2022-03-16T09:58:19.721Z"
   },
   {
    "duration": 10,
    "start_time": "2022-03-16T09:58:19.730Z"
   },
   {
    "duration": 24,
    "start_time": "2022-03-16T09:58:19.742Z"
   },
   {
    "duration": 11,
    "start_time": "2022-03-16T09:58:19.801Z"
   },
   {
    "duration": 19,
    "start_time": "2022-03-16T09:58:19.814Z"
   },
   {
    "duration": 9,
    "start_time": "2022-03-16T09:58:19.835Z"
   },
   {
    "duration": 19,
    "start_time": "2022-03-16T09:58:19.845Z"
   },
   {
    "duration": 7,
    "start_time": "2022-03-16T09:58:19.865Z"
   },
   {
    "duration": 11,
    "start_time": "2022-03-16T09:58:19.901Z"
   },
   {
    "duration": 5,
    "start_time": "2022-03-16T09:58:19.913Z"
   },
   {
    "duration": 5,
    "start_time": "2022-03-16T09:58:19.919Z"
   },
   {
    "duration": 148,
    "start_time": "2022-03-16T09:58:19.926Z"
   },
   {
    "duration": 5,
    "start_time": "2022-03-16T09:58:20.075Z"
   },
   {
    "duration": 24,
    "start_time": "2022-03-16T09:58:20.081Z"
   },
   {
    "duration": 197,
    "start_time": "2022-03-16T09:58:20.106Z"
   },
   {
    "duration": 225,
    "start_time": "2022-03-16T09:58:20.305Z"
   },
   {
    "duration": 10,
    "start_time": "2022-03-16T09:58:20.533Z"
   },
   {
    "duration": 209,
    "start_time": "2022-03-16T09:58:20.545Z"
   },
   {
    "duration": 10,
    "start_time": "2022-03-16T09:58:20.756Z"
   },
   {
    "duration": 17,
    "start_time": "2022-03-16T09:58:20.767Z"
   },
   {
    "duration": 7,
    "start_time": "2022-03-16T09:58:20.801Z"
   },
   {
    "duration": 1024,
    "start_time": "2022-03-16T09:58:20.809Z"
   },
   {
    "duration": 205,
    "start_time": "2022-03-16T09:58:21.835Z"
   },
   {
    "duration": 210,
    "start_time": "2022-03-16T09:58:22.042Z"
   },
   {
    "duration": 32,
    "start_time": "2022-03-16T09:58:22.254Z"
   },
   {
    "duration": 60,
    "start_time": "2022-03-16T09:58:22.287Z"
   },
   {
    "duration": 28,
    "start_time": "2022-03-16T09:58:22.349Z"
   },
   {
    "duration": 43,
    "start_time": "2022-03-16T09:58:22.379Z"
   },
   {
    "duration": 15,
    "start_time": "2022-03-16T09:58:22.424Z"
   },
   {
    "duration": 27,
    "start_time": "2022-03-16T09:58:22.440Z"
   },
   {
    "duration": 3,
    "start_time": "2022-03-16T09:58:22.469Z"
   },
   {
    "duration": 33,
    "start_time": "2022-03-16T09:58:22.474Z"
   },
   {
    "duration": 6,
    "start_time": "2022-03-16T09:58:22.509Z"
   },
   {
    "duration": 14,
    "start_time": "2022-03-16T09:58:22.516Z"
   },
   {
    "duration": 9,
    "start_time": "2022-03-16T09:58:22.531Z"
   },
   {
    "duration": 7,
    "start_time": "2022-03-16T09:58:22.542Z"
   },
   {
    "duration": 366,
    "start_time": "2022-03-16T09:58:22.551Z"
   },
   {
    "duration": 26,
    "start_time": "2022-03-16T09:58:22.919Z"
   },
   {
    "duration": 10,
    "start_time": "2022-03-16T09:58:22.946Z"
   },
   {
    "duration": 143,
    "start_time": "2022-03-16T09:58:22.958Z"
   },
   {
    "duration": 794,
    "start_time": "2022-03-16T09:58:23.102Z"
   },
   {
    "duration": 5,
    "start_time": "2022-03-16T09:58:23.900Z"
   },
   {
    "duration": 475,
    "start_time": "2022-03-16T09:58:23.907Z"
   },
   {
    "duration": 404,
    "start_time": "2022-03-16T09:58:24.384Z"
   },
   {
    "duration": 411,
    "start_time": "2022-03-16T09:58:24.790Z"
   },
   {
    "duration": 6,
    "start_time": "2022-03-16T09:58:25.203Z"
   },
   {
    "duration": 8,
    "start_time": "2022-03-16T09:58:25.210Z"
   },
   {
    "duration": 8,
    "start_time": "2022-03-16T09:58:25.219Z"
   },
   {
    "duration": 3,
    "start_time": "2022-03-16T09:58:25.229Z"
   },
   {
    "duration": 10,
    "start_time": "2022-03-16T09:58:25.233Z"
   },
   {
    "duration": 10,
    "start_time": "2022-03-16T09:58:25.244Z"
   },
   {
    "duration": 7,
    "start_time": "2022-03-16T09:58:25.255Z"
   },
   {
    "duration": 7,
    "start_time": "2022-03-16T10:01:28.543Z"
   },
   {
    "duration": 7,
    "start_time": "2022-03-16T10:01:29.606Z"
   },
   {
    "duration": 6,
    "start_time": "2022-03-16T10:01:30.269Z"
   },
   {
    "duration": 7,
    "start_time": "2022-03-16T10:01:33.974Z"
   },
   {
    "duration": 23,
    "start_time": "2022-03-16T10:01:43.117Z"
   },
   {
    "duration": 7,
    "start_time": "2022-03-16T10:01:44.071Z"
   },
   {
    "duration": 5,
    "start_time": "2022-03-16T10:01:44.630Z"
   },
   {
    "duration": 6,
    "start_time": "2022-03-16T10:02:16.741Z"
   },
   {
    "duration": 6,
    "start_time": "2022-03-16T10:02:36.862Z"
   },
   {
    "duration": 6,
    "start_time": "2022-03-16T10:02:37.589Z"
   },
   {
    "duration": 6,
    "start_time": "2022-03-16T10:53:04.768Z"
   },
   {
    "duration": 6,
    "start_time": "2022-03-16T12:16:07.979Z"
   },
   {
    "duration": 7,
    "start_time": "2022-03-16T12:16:50.057Z"
   },
   {
    "duration": 6,
    "start_time": "2022-03-16T12:16:50.626Z"
   },
   {
    "duration": 7,
    "start_time": "2022-03-16T12:17:02.729Z"
   },
   {
    "duration": 12,
    "start_time": "2022-03-16T12:21:42.382Z"
   },
   {
    "duration": 13,
    "start_time": "2022-03-16T12:21:57.998Z"
   },
   {
    "duration": 27,
    "start_time": "2022-03-16T12:22:56.463Z"
   },
   {
    "duration": 19,
    "start_time": "2022-03-16T12:22:59.446Z"
   },
   {
    "duration": 13,
    "start_time": "2022-03-16T12:23:24.621Z"
   },
   {
    "duration": 299,
    "start_time": "2022-03-16T12:23:53.596Z"
   },
   {
    "duration": 5,
    "start_time": "2022-03-16T12:24:08.228Z"
   },
   {
    "duration": 328,
    "start_time": "2022-03-16T12:25:30.419Z"
   },
   {
    "duration": 5,
    "start_time": "2022-03-16T12:26:38.962Z"
   },
   {
    "duration": 5,
    "start_time": "2022-03-16T12:43:04.511Z"
   },
   {
    "duration": 4,
    "start_time": "2022-03-16T12:43:12.245Z"
   },
   {
    "duration": 313,
    "start_time": "2022-03-16T12:43:21.918Z"
   },
   {
    "duration": 299,
    "start_time": "2022-03-16T12:44:21.149Z"
   },
   {
    "duration": 312,
    "start_time": "2022-03-16T12:44:30.191Z"
   },
   {
    "duration": 6,
    "start_time": "2022-03-16T12:44:42.245Z"
   },
   {
    "duration": 7,
    "start_time": "2022-03-16T12:44:46.836Z"
   },
   {
    "duration": 6,
    "start_time": "2022-03-16T12:44:49.740Z"
   },
   {
    "duration": 5002,
    "start_time": "2022-03-16T12:44:51.725Z"
   },
   {
    "duration": 36,
    "start_time": "2022-03-16T12:45:08.934Z"
   },
   {
    "duration": 14,
    "start_time": "2022-03-16T12:45:13.501Z"
   },
   {
    "duration": 5,
    "start_time": "2022-03-16T12:45:14.332Z"
   },
   {
    "duration": 4,
    "start_time": "2022-03-16T12:45:19.357Z"
   },
   {
    "duration": 4,
    "start_time": "2022-03-16T12:45:20.290Z"
   },
   {
    "duration": 5,
    "start_time": "2022-03-16T12:45:50.774Z"
   },
   {
    "duration": 5,
    "start_time": "2022-03-16T12:51:46.992Z"
   },
   {
    "duration": 4,
    "start_time": "2022-03-16T12:52:03.336Z"
   },
   {
    "duration": 5,
    "start_time": "2022-03-16T13:08:59.925Z"
   },
   {
    "duration": 6,
    "start_time": "2022-03-16T13:10:08.384Z"
   },
   {
    "duration": 39,
    "start_time": "2022-03-16T13:10:11.428Z"
   },
   {
    "duration": 9,
    "start_time": "2022-03-16T13:11:59.996Z"
   },
   {
    "duration": 6,
    "start_time": "2022-03-16T13:12:03.706Z"
   },
   {
    "duration": 9,
    "start_time": "2022-03-16T13:12:51.096Z"
   },
   {
    "duration": 25,
    "start_time": "2022-03-16T13:12:55.001Z"
   },
   {
    "duration": 8,
    "start_time": "2022-03-16T13:13:08.816Z"
   },
   {
    "duration": 5,
    "start_time": "2022-03-16T13:14:28.344Z"
   },
   {
    "duration": 6,
    "start_time": "2022-03-16T13:14:42.135Z"
   },
   {
    "duration": 4,
    "start_time": "2022-03-16T13:15:50.310Z"
   },
   {
    "duration": 5,
    "start_time": "2022-03-16T13:15:58.862Z"
   },
   {
    "duration": 9,
    "start_time": "2022-03-16T13:19:17.212Z"
   },
   {
    "duration": 10,
    "start_time": "2022-03-16T13:19:26.732Z"
   },
   {
    "duration": 5,
    "start_time": "2022-03-16T13:21:05.394Z"
   },
   {
    "duration": 5,
    "start_time": "2022-03-16T13:57:13.615Z"
   },
   {
    "duration": 4,
    "start_time": "2022-03-16T13:57:24.359Z"
   },
   {
    "duration": 5,
    "start_time": "2022-03-16T13:57:32.783Z"
   },
   {
    "duration": 5,
    "start_time": "2022-03-16T13:57:59.342Z"
   },
   {
    "duration": 5,
    "start_time": "2022-03-16T13:58:03.478Z"
   },
   {
    "duration": 319,
    "start_time": "2022-03-16T13:59:25.526Z"
   },
   {
    "duration": 7,
    "start_time": "2022-03-16T13:59:34.414Z"
   },
   {
    "duration": 8,
    "start_time": "2022-03-16T13:59:42.957Z"
   },
   {
    "duration": 26,
    "start_time": "2022-03-16T14:03:03.891Z"
   },
   {
    "duration": 7,
    "start_time": "2022-03-16T14:03:48.897Z"
   },
   {
    "duration": 7,
    "start_time": "2022-03-16T14:08:04.585Z"
   },
   {
    "duration": 8,
    "start_time": "2022-03-16T14:08:12.471Z"
   },
   {
    "duration": 8013,
    "start_time": "2022-03-16T14:10:43.205Z"
   },
   {
    "duration": 8304,
    "start_time": "2022-03-16T14:11:00.733Z"
   },
   {
    "duration": 311,
    "start_time": "2022-03-16T14:11:17.637Z"
   },
   {
    "duration": 6,
    "start_time": "2022-03-16T14:11:22.412Z"
   },
   {
    "duration": 4,
    "start_time": "2022-03-16T14:11:36.701Z"
   },
   {
    "duration": 337,
    "start_time": "2022-03-16T14:11:45.309Z"
   },
   {
    "duration": 300,
    "start_time": "2022-03-16T14:11:50.853Z"
   },
   {
    "duration": 330,
    "start_time": "2022-03-16T14:11:59.644Z"
   },
   {
    "duration": 26,
    "start_time": "2022-03-16T14:12:04.549Z"
   },
   {
    "duration": 16,
    "start_time": "2022-03-16T14:12:28.860Z"
   },
   {
    "duration": 15,
    "start_time": "2022-03-16T14:12:42.028Z"
   },
   {
    "duration": 22,
    "start_time": "2022-03-16T14:12:47.487Z"
   },
   {
    "duration": 6,
    "start_time": "2022-03-16T14:13:04.076Z"
   },
   {
    "duration": 23,
    "start_time": "2022-03-16T14:13:16.164Z"
   },
   {
    "duration": 301,
    "start_time": "2022-03-16T14:13:29.532Z"
   },
   {
    "duration": 25,
    "start_time": "2022-03-16T14:13:39.227Z"
   },
   {
    "duration": 28,
    "start_time": "2022-03-16T14:13:45.020Z"
   },
   {
    "duration": 3,
    "start_time": "2022-03-16T14:16:19.434Z"
   },
   {
    "duration": 674,
    "start_time": "2022-03-16T14:16:23.089Z"
   },
   {
    "duration": 3,
    "start_time": "2022-03-16T14:17:08.913Z"
   },
   {
    "duration": 655,
    "start_time": "2022-03-16T14:17:09.522Z"
   },
   {
    "duration": 4,
    "start_time": "2022-03-16T14:18:35.080Z"
   },
   {
    "duration": 773,
    "start_time": "2022-03-16T14:18:35.723Z"
   },
   {
    "duration": 3,
    "start_time": "2022-03-16T14:19:45.762Z"
   },
   {
    "duration": 725,
    "start_time": "2022-03-16T14:19:46.527Z"
   },
   {
    "duration": 3,
    "start_time": "2022-03-16T14:21:02.302Z"
   },
   {
    "duration": 81,
    "start_time": "2022-03-16T14:21:02.662Z"
   },
   {
    "duration": 27,
    "start_time": "2022-03-16T14:21:11.374Z"
   },
   {
    "duration": 5,
    "start_time": "2022-03-16T14:21:35.502Z"
   },
   {
    "duration": 27,
    "start_time": "2022-03-16T14:22:25.021Z"
   },
   {
    "duration": 5,
    "start_time": "2022-03-16T14:22:35.022Z"
   },
   {
    "duration": 10728,
    "start_time": "2022-03-16T14:22:44.388Z"
   },
   {
    "duration": 8,
    "start_time": "2022-03-16T14:23:07.635Z"
   },
   {
    "duration": 7,
    "start_time": "2022-03-16T14:23:14.541Z"
   },
   {
    "duration": 3,
    "start_time": "2022-03-16T14:23:29.373Z"
   },
   {
    "duration": 7,
    "start_time": "2022-03-16T14:23:29.772Z"
   },
   {
    "duration": 7,
    "start_time": "2022-03-16T14:23:48.483Z"
   },
   {
    "duration": 29,
    "start_time": "2022-03-16T14:24:01.428Z"
   },
   {
    "duration": 8,
    "start_time": "2022-03-16T14:24:21.795Z"
   },
   {
    "duration": 9,
    "start_time": "2022-03-16T14:24:26.443Z"
   },
   {
    "duration": 8,
    "start_time": "2022-03-16T14:24:31.163Z"
   },
   {
    "duration": 11,
    "start_time": "2022-03-16T14:25:05.907Z"
   },
   {
    "duration": 31,
    "start_time": "2022-03-16T14:25:13.700Z"
   },
   {
    "duration": 8,
    "start_time": "2022-03-16T14:25:51.074Z"
   },
   {
    "duration": 78,
    "start_time": "2022-03-16T14:26:05.434Z"
   },
   {
    "duration": 6,
    "start_time": "2022-03-16T14:26:07.378Z"
   },
   {
    "duration": 11431,
    "start_time": "2022-03-16T14:26:43.794Z"
   },
   {
    "duration": 73,
    "start_time": "2022-03-16T14:27:08.586Z"
   },
   {
    "duration": 6,
    "start_time": "2022-03-16T14:27:13.306Z"
   },
   {
    "duration": 77,
    "start_time": "2022-03-16T14:28:16.690Z"
   },
   {
    "duration": 6,
    "start_time": "2022-03-16T14:28:17.872Z"
   },
   {
    "duration": 7,
    "start_time": "2022-03-16T14:28:29.526Z"
   },
   {
    "duration": 6,
    "start_time": "2022-03-16T14:28:35.368Z"
   },
   {
    "duration": 75,
    "start_time": "2022-03-16T14:28:41.960Z"
   },
   {
    "duration": 7,
    "start_time": "2022-03-16T14:28:42.392Z"
   },
   {
    "duration": 3,
    "start_time": "2022-03-16T14:29:20.400Z"
   },
   {
    "duration": 9,
    "start_time": "2022-03-16T14:29:20.869Z"
   },
   {
    "duration": 225,
    "start_time": "2022-03-16T14:29:21.425Z"
   },
   {
    "duration": 6,
    "start_time": "2022-03-16T14:29:22.720Z"
   },
   {
    "duration": 231,
    "start_time": "2022-03-16T14:30:00.759Z"
   },
   {
    "duration": 26,
    "start_time": "2022-03-16T14:30:06.983Z"
   },
   {
    "duration": 58,
    "start_time": "2022-03-16T14:30:15.454Z"
   },
   {
    "duration": 21,
    "start_time": "2022-03-16T14:30:15.514Z"
   },
   {
    "duration": 6,
    "start_time": "2022-03-16T14:30:22.015Z"
   },
   {
    "duration": 3,
    "start_time": "2022-03-16T14:30:28.863Z"
   },
   {
    "duration": 8,
    "start_time": "2022-03-16T14:30:29.455Z"
   },
   {
    "duration": 158,
    "start_time": "2022-03-16T14:30:30.143Z"
   },
   {
    "duration": 23,
    "start_time": "2022-03-16T14:30:31.358Z"
   },
   {
    "duration": 7,
    "start_time": "2022-03-16T14:30:34.126Z"
   },
   {
    "duration": 24,
    "start_time": "2022-03-16T14:31:14.895Z"
   },
   {
    "duration": 40,
    "start_time": "2022-03-16T14:31:21.119Z"
   },
   {
    "duration": 1150,
    "start_time": "2022-03-16T14:32:12.189Z"
   },
   {
    "duration": 423,
    "start_time": "2022-03-16T14:32:13.341Z"
   },
   {
    "duration": 3,
    "start_time": "2022-03-16T14:32:13.766Z"
   },
   {
    "duration": 46,
    "start_time": "2022-03-16T14:32:13.771Z"
   },
   {
    "duration": 8,
    "start_time": "2022-03-16T14:32:13.818Z"
   },
   {
    "duration": 12,
    "start_time": "2022-03-16T14:32:13.828Z"
   },
   {
    "duration": 22,
    "start_time": "2022-03-16T14:32:13.842Z"
   },
   {
    "duration": 16,
    "start_time": "2022-03-16T14:32:13.867Z"
   },
   {
    "duration": 38,
    "start_time": "2022-03-16T14:32:13.885Z"
   },
   {
    "duration": 10,
    "start_time": "2022-03-16T14:32:13.925Z"
   },
   {
    "duration": 25,
    "start_time": "2022-03-16T14:32:13.936Z"
   },
   {
    "duration": 8,
    "start_time": "2022-03-16T14:32:13.963Z"
   },
   {
    "duration": 29,
    "start_time": "2022-03-16T14:32:13.972Z"
   },
   {
    "duration": 8,
    "start_time": "2022-03-16T14:32:14.003Z"
   },
   {
    "duration": 15,
    "start_time": "2022-03-16T14:32:14.012Z"
   },
   {
    "duration": 9,
    "start_time": "2022-03-16T14:32:14.028Z"
   },
   {
    "duration": 12,
    "start_time": "2022-03-16T14:32:14.039Z"
   },
   {
    "duration": 163,
    "start_time": "2022-03-16T14:32:14.052Z"
   },
   {
    "duration": 5,
    "start_time": "2022-03-16T14:32:14.216Z"
   },
   {
    "duration": 11,
    "start_time": "2022-03-16T14:32:14.222Z"
   },
   {
    "duration": 197,
    "start_time": "2022-03-16T14:32:14.234Z"
   },
   {
    "duration": 225,
    "start_time": "2022-03-16T14:32:14.433Z"
   },
   {
    "duration": 10,
    "start_time": "2022-03-16T14:32:14.661Z"
   },
   {
    "duration": 204,
    "start_time": "2022-03-16T14:32:14.673Z"
   },
   {
    "duration": 11,
    "start_time": "2022-03-16T14:32:14.878Z"
   },
   {
    "duration": 20,
    "start_time": "2022-03-16T14:32:14.890Z"
   },
   {
    "duration": 5,
    "start_time": "2022-03-16T14:32:14.911Z"
   },
   {
    "duration": 1126,
    "start_time": "2022-03-16T14:32:14.918Z"
   },
   {
    "duration": 200,
    "start_time": "2022-03-16T14:32:16.046Z"
   },
   {
    "duration": 231,
    "start_time": "2022-03-16T14:32:16.247Z"
   },
   {
    "duration": 41,
    "start_time": "2022-03-16T14:32:16.479Z"
   },
   {
    "duration": 52,
    "start_time": "2022-03-16T14:32:16.522Z"
   },
   {
    "duration": 41,
    "start_time": "2022-03-16T14:32:16.575Z"
   },
   {
    "duration": 24,
    "start_time": "2022-03-16T14:32:16.618Z"
   },
   {
    "duration": 16,
    "start_time": "2022-03-16T14:32:16.643Z"
   },
   {
    "duration": 48,
    "start_time": "2022-03-16T14:32:16.661Z"
   },
   {
    "duration": 3,
    "start_time": "2022-03-16T14:32:16.711Z"
   },
   {
    "duration": 17,
    "start_time": "2022-03-16T14:32:16.715Z"
   },
   {
    "duration": 4,
    "start_time": "2022-03-16T14:32:16.734Z"
   },
   {
    "duration": 8,
    "start_time": "2022-03-16T14:32:16.740Z"
   },
   {
    "duration": 10,
    "start_time": "2022-03-16T14:32:16.749Z"
   },
   {
    "duration": 5,
    "start_time": "2022-03-16T14:32:16.760Z"
   },
   {
    "duration": 402,
    "start_time": "2022-03-16T14:32:16.767Z"
   },
   {
    "duration": 31,
    "start_time": "2022-03-16T14:32:17.171Z"
   },
   {
    "duration": 9,
    "start_time": "2022-03-16T14:32:17.203Z"
   },
   {
    "duration": 137,
    "start_time": "2022-03-16T14:32:17.213Z"
   },
   {
    "duration": 823,
    "start_time": "2022-03-16T14:32:17.351Z"
   },
   {
    "duration": 5,
    "start_time": "2022-03-16T14:32:18.176Z"
   },
   {
    "duration": 470,
    "start_time": "2022-03-16T14:32:18.183Z"
   },
   {
    "duration": 536,
    "start_time": "2022-03-16T14:32:18.655Z"
   },
   {
    "duration": 509,
    "start_time": "2022-03-16T14:32:19.193Z"
   },
   {
    "duration": 6,
    "start_time": "2022-03-16T14:32:19.704Z"
   },
   {
    "duration": 8,
    "start_time": "2022-03-16T14:32:19.712Z"
   },
   {
    "duration": 37,
    "start_time": "2022-03-16T14:32:19.721Z"
   },
   {
    "duration": 13,
    "start_time": "2022-03-16T14:32:19.759Z"
   },
   {
    "duration": 29,
    "start_time": "2022-03-16T14:32:19.773Z"
   },
   {
    "duration": 9,
    "start_time": "2022-03-16T14:32:19.804Z"
   },
   {
    "duration": 7,
    "start_time": "2022-03-16T14:32:19.815Z"
   },
   {
    "duration": 6,
    "start_time": "2022-03-16T14:32:19.824Z"
   },
   {
    "duration": 537,
    "start_time": "2022-03-16T14:36:05.750Z"
   },
   {
    "duration": 4,
    "start_time": "2022-03-16T14:36:27.462Z"
   },
   {
    "duration": 310,
    "start_time": "2022-03-16T14:37:02.726Z"
   },
   {
    "duration": 10,
    "start_time": "2022-03-16T14:37:11.405Z"
   },
   {
    "duration": 10,
    "start_time": "2022-03-16T14:37:16.181Z"
   },
   {
    "duration": 7,
    "start_time": "2022-03-16T14:37:29.685Z"
   },
   {
    "duration": 10,
    "start_time": "2022-03-16T14:37:36.269Z"
   },
   {
    "duration": 315,
    "start_time": "2022-03-16T14:37:55.182Z"
   },
   {
    "duration": 345,
    "start_time": "2022-03-16T14:37:59.093Z"
   },
   {
    "duration": 362,
    "start_time": "2022-03-16T14:38:03.692Z"
   },
   {
    "duration": 7316,
    "start_time": "2022-03-16T14:38:15.374Z"
   },
   {
    "duration": 229,
    "start_time": "2022-03-16T14:39:26.564Z"
   },
   {
    "duration": 334,
    "start_time": "2022-03-16T14:39:53.242Z"
   },
   {
    "duration": 172,
    "start_time": "2022-03-16T14:41:13.507Z"
   },
   {
    "duration": 193,
    "start_time": "2022-03-16T14:41:20.931Z"
   },
   {
    "duration": 188,
    "start_time": "2022-03-16T14:42:02.138Z"
   },
   {
    "duration": 171,
    "start_time": "2022-03-16T14:44:15.402Z"
   },
   {
    "duration": 8,
    "start_time": "2022-03-16T14:44:20.304Z"
   },
   {
    "duration": 17,
    "start_time": "2022-03-16T14:45:15.967Z"
   },
   {
    "duration": 333,
    "start_time": "2022-03-16T14:46:16.735Z"
   },
   {
    "duration": 37,
    "start_time": "2022-03-16T14:47:05.023Z"
   },
   {
    "duration": 59,
    "start_time": "2022-03-16T14:48:38.574Z"
   },
   {
    "duration": 59,
    "start_time": "2022-03-16T14:49:11.981Z"
   },
   {
    "duration": 9,
    "start_time": "2022-03-16T14:49:51.404Z"
   },
   {
    "duration": 5,
    "start_time": "2022-03-16T14:50:15.320Z"
   },
   {
    "duration": 8309,
    "start_time": "2022-03-16T14:50:30.075Z"
   },
   {
    "duration": 6,
    "start_time": "2022-03-16T14:50:51.506Z"
   },
   {
    "duration": 10,
    "start_time": "2022-03-16T14:50:57.907Z"
   },
   {
    "duration": 13,
    "start_time": "2022-03-16T14:51:27.763Z"
   },
   {
    "duration": 12,
    "start_time": "2022-03-16T14:51:28.395Z"
   },
   {
    "duration": 1111,
    "start_time": "2022-03-16T14:52:06.370Z"
   },
   {
    "duration": 414,
    "start_time": "2022-03-16T14:52:07.483Z"
   },
   {
    "duration": 2,
    "start_time": "2022-03-16T14:52:07.899Z"
   },
   {
    "duration": 51,
    "start_time": "2022-03-16T14:52:07.903Z"
   },
   {
    "duration": 7,
    "start_time": "2022-03-16T14:52:07.956Z"
   },
   {
    "duration": 12,
    "start_time": "2022-03-16T14:52:07.965Z"
   },
   {
    "duration": 30,
    "start_time": "2022-03-16T14:52:07.978Z"
   },
   {
    "duration": 12,
    "start_time": "2022-03-16T14:52:08.010Z"
   },
   {
    "duration": 28,
    "start_time": "2022-03-16T14:52:08.023Z"
   },
   {
    "duration": 10,
    "start_time": "2022-03-16T14:52:08.053Z"
   },
   {
    "duration": 37,
    "start_time": "2022-03-16T14:52:08.064Z"
   },
   {
    "duration": 8,
    "start_time": "2022-03-16T14:52:08.102Z"
   },
   {
    "duration": 18,
    "start_time": "2022-03-16T14:52:08.111Z"
   },
   {
    "duration": 7,
    "start_time": "2022-03-16T14:52:08.131Z"
   },
   {
    "duration": 12,
    "start_time": "2022-03-16T14:52:08.139Z"
   },
   {
    "duration": 6,
    "start_time": "2022-03-16T14:52:08.152Z"
   },
   {
    "duration": 5,
    "start_time": "2022-03-16T14:52:08.160Z"
   },
   {
    "duration": 181,
    "start_time": "2022-03-16T14:52:08.166Z"
   },
   {
    "duration": 4,
    "start_time": "2022-03-16T14:52:08.349Z"
   },
   {
    "duration": 13,
    "start_time": "2022-03-16T14:52:08.355Z"
   },
   {
    "duration": 214,
    "start_time": "2022-03-16T14:52:08.369Z"
   },
   {
    "duration": 228,
    "start_time": "2022-03-16T14:52:08.585Z"
   },
   {
    "duration": 10,
    "start_time": "2022-03-16T14:52:08.816Z"
   },
   {
    "duration": 219,
    "start_time": "2022-03-16T14:52:08.828Z"
   },
   {
    "duration": 10,
    "start_time": "2022-03-16T14:52:09.049Z"
   },
   {
    "duration": 16,
    "start_time": "2022-03-16T14:52:09.060Z"
   },
   {
    "duration": 26,
    "start_time": "2022-03-16T14:52:09.077Z"
   },
   {
    "duration": 1025,
    "start_time": "2022-03-16T14:52:09.104Z"
   },
   {
    "duration": 201,
    "start_time": "2022-03-16T14:52:10.131Z"
   },
   {
    "duration": 193,
    "start_time": "2022-03-16T14:52:10.334Z"
   },
   {
    "duration": 31,
    "start_time": "2022-03-16T14:52:10.528Z"
   },
   {
    "duration": 66,
    "start_time": "2022-03-16T14:52:10.561Z"
   },
   {
    "duration": 32,
    "start_time": "2022-03-16T14:52:10.629Z"
   },
   {
    "duration": 43,
    "start_time": "2022-03-16T14:52:10.663Z"
   },
   {
    "duration": 17,
    "start_time": "2022-03-16T14:52:10.707Z"
   },
   {
    "duration": 31,
    "start_time": "2022-03-16T14:52:10.726Z"
   },
   {
    "duration": 4,
    "start_time": "2022-03-16T14:52:10.758Z"
   },
   {
    "duration": 38,
    "start_time": "2022-03-16T14:52:10.764Z"
   },
   {
    "duration": 5,
    "start_time": "2022-03-16T14:52:10.803Z"
   },
   {
    "duration": 7,
    "start_time": "2022-03-16T14:52:10.810Z"
   },
   {
    "duration": 7,
    "start_time": "2022-03-16T14:52:10.819Z"
   },
   {
    "duration": 6,
    "start_time": "2022-03-16T14:52:10.828Z"
   },
   {
    "duration": 390,
    "start_time": "2022-03-16T14:52:10.835Z"
   },
   {
    "duration": 26,
    "start_time": "2022-03-16T14:52:11.227Z"
   },
   {
    "duration": 10,
    "start_time": "2022-03-16T14:52:11.255Z"
   },
   {
    "duration": 146,
    "start_time": "2022-03-16T14:52:11.266Z"
   },
   {
    "duration": 795,
    "start_time": "2022-03-16T14:52:11.413Z"
   },
   {
    "duration": 4,
    "start_time": "2022-03-16T14:52:12.210Z"
   },
   {
    "duration": 410,
    "start_time": "2022-03-16T14:52:12.216Z"
   },
   {
    "duration": 406,
    "start_time": "2022-03-16T14:52:12.627Z"
   },
   {
    "duration": 457,
    "start_time": "2022-03-16T14:52:13.035Z"
   },
   {
    "duration": 10,
    "start_time": "2022-03-16T14:52:13.494Z"
   },
   {
    "duration": 25,
    "start_time": "2022-03-16T14:52:13.505Z"
   },
   {
    "duration": 44,
    "start_time": "2022-03-16T14:52:13.531Z"
   },
   {
    "duration": 12,
    "start_time": "2022-03-16T14:52:13.577Z"
   },
   {
    "duration": 15,
    "start_time": "2022-03-16T14:52:13.591Z"
   },
   {
    "duration": 74,
    "start_time": "2022-03-16T14:52:13.607Z"
   },
   {
    "duration": 8,
    "start_time": "2022-03-16T14:52:13.682Z"
   },
   {
    "duration": 32,
    "start_time": "2022-03-16T14:52:13.692Z"
   },
   {
    "duration": 16,
    "start_time": "2022-03-16T14:52:13.725Z"
   },
   {
    "duration": 18,
    "start_time": "2022-03-16T14:52:13.743Z"
   },
   {
    "duration": 14,
    "start_time": "2022-03-16T14:52:13.762Z"
   },
   {
    "duration": 396,
    "start_time": "2022-03-16T14:52:27.470Z"
   },
   {
    "duration": 13,
    "start_time": "2022-03-16T14:52:39.343Z"
   },
   {
    "duration": 10,
    "start_time": "2022-03-16T14:52:41.374Z"
   },
   {
    "duration": 11,
    "start_time": "2022-03-16T14:52:49.998Z"
   },
   {
    "duration": 10,
    "start_time": "2022-03-16T14:52:51.637Z"
   },
   {
    "duration": 8,
    "start_time": "2022-03-16T14:55:44.881Z"
   },
   {
    "duration": 15,
    "start_time": "2022-03-16T14:55:52.452Z"
   },
   {
    "duration": 1142,
    "start_time": "2022-03-16T18:07:00.594Z"
   },
   {
    "duration": 418,
    "start_time": "2022-03-16T18:07:01.738Z"
   },
   {
    "duration": 3,
    "start_time": "2022-03-16T18:07:02.159Z"
   },
   {
    "duration": 51,
    "start_time": "2022-03-16T18:07:02.164Z"
   },
   {
    "duration": 8,
    "start_time": "2022-03-16T18:07:02.217Z"
   },
   {
    "duration": 17,
    "start_time": "2022-03-16T18:07:02.227Z"
   },
   {
    "duration": 16,
    "start_time": "2022-03-16T18:07:02.246Z"
   },
   {
    "duration": 44,
    "start_time": "2022-03-16T18:07:02.265Z"
   },
   {
    "duration": 33,
    "start_time": "2022-03-16T18:07:02.312Z"
   },
   {
    "duration": 11,
    "start_time": "2022-03-16T18:07:02.347Z"
   },
   {
    "duration": 48,
    "start_time": "2022-03-16T18:07:02.359Z"
   },
   {
    "duration": 9,
    "start_time": "2022-03-16T18:07:02.409Z"
   },
   {
    "duration": 20,
    "start_time": "2022-03-16T18:07:02.419Z"
   },
   {
    "duration": 8,
    "start_time": "2022-03-16T18:07:02.441Z"
   },
   {
    "duration": 17,
    "start_time": "2022-03-16T18:07:02.451Z"
   },
   {
    "duration": 5,
    "start_time": "2022-03-16T18:07:02.502Z"
   },
   {
    "duration": 9,
    "start_time": "2022-03-16T18:07:02.508Z"
   },
   {
    "duration": 174,
    "start_time": "2022-03-16T18:07:02.519Z"
   },
   {
    "duration": 9,
    "start_time": "2022-03-16T18:07:02.695Z"
   },
   {
    "duration": 13,
    "start_time": "2022-03-16T18:07:02.705Z"
   },
   {
    "duration": 242,
    "start_time": "2022-03-16T18:07:02.719Z"
   },
   {
    "duration": 244,
    "start_time": "2022-03-16T18:07:02.962Z"
   },
   {
    "duration": 10,
    "start_time": "2022-03-16T18:07:03.210Z"
   },
   {
    "duration": 229,
    "start_time": "2022-03-16T18:07:03.222Z"
   },
   {
    "duration": 11,
    "start_time": "2022-03-16T18:07:03.452Z"
   },
   {
    "duration": 37,
    "start_time": "2022-03-16T18:07:03.464Z"
   },
   {
    "duration": 5,
    "start_time": "2022-03-16T18:07:03.503Z"
   },
   {
    "duration": 1035,
    "start_time": "2022-03-16T18:07:03.510Z"
   },
   {
    "duration": 200,
    "start_time": "2022-03-16T18:07:04.546Z"
   },
   {
    "duration": 208,
    "start_time": "2022-03-16T18:07:04.748Z"
   },
   {
    "duration": 45,
    "start_time": "2022-03-16T18:07:04.958Z"
   },
   {
    "duration": 52,
    "start_time": "2022-03-16T18:07:05.005Z"
   },
   {
    "duration": 45,
    "start_time": "2022-03-16T18:07:05.059Z"
   },
   {
    "duration": 24,
    "start_time": "2022-03-16T18:07:05.106Z"
   },
   {
    "duration": 15,
    "start_time": "2022-03-16T18:07:05.132Z"
   },
   {
    "duration": 28,
    "start_time": "2022-03-16T18:07:05.148Z"
   },
   {
    "duration": 3,
    "start_time": "2022-03-16T18:07:05.202Z"
   },
   {
    "duration": 16,
    "start_time": "2022-03-16T18:07:05.206Z"
   },
   {
    "duration": 4,
    "start_time": "2022-03-16T18:07:05.224Z"
   },
   {
    "duration": 7,
    "start_time": "2022-03-16T18:07:05.230Z"
   },
   {
    "duration": 7,
    "start_time": "2022-03-16T18:07:05.238Z"
   },
   {
    "duration": 5,
    "start_time": "2022-03-16T18:07:05.246Z"
   },
   {
    "duration": 379,
    "start_time": "2022-03-16T18:07:05.252Z"
   },
   {
    "duration": 27,
    "start_time": "2022-03-16T18:07:05.632Z"
   },
   {
    "duration": 9,
    "start_time": "2022-03-16T18:07:05.660Z"
   },
   {
    "duration": 145,
    "start_time": "2022-03-16T18:07:05.670Z"
   },
   {
    "duration": 823,
    "start_time": "2022-03-16T18:07:05.817Z"
   },
   {
    "duration": 6,
    "start_time": "2022-03-16T18:07:06.642Z"
   },
   {
    "duration": 442,
    "start_time": "2022-03-16T18:07:06.650Z"
   },
   {
    "duration": 409,
    "start_time": "2022-03-16T18:07:07.094Z"
   },
   {
    "duration": 505,
    "start_time": "2022-03-16T18:07:07.505Z"
   },
   {
    "duration": 64,
    "start_time": "2022-03-16T18:07:08.011Z"
   },
   {
    "duration": 31,
    "start_time": "2022-03-16T18:07:08.076Z"
   },
   {
    "duration": 7,
    "start_time": "2022-03-16T18:07:08.109Z"
   },
   {
    "duration": 6,
    "start_time": "2022-03-16T18:07:08.119Z"
   },
   {
    "duration": 39,
    "start_time": "2022-03-16T18:07:08.127Z"
   },
   {
    "duration": 16,
    "start_time": "2022-03-16T18:07:08.202Z"
   },
   {
    "duration": 6,
    "start_time": "2022-03-16T18:07:08.219Z"
   },
   {
    "duration": 8,
    "start_time": "2022-03-16T18:07:08.227Z"
   },
   {
    "duration": 9,
    "start_time": "2022-03-16T18:07:08.237Z"
   },
   {
    "duration": 6,
    "start_time": "2022-03-16T18:07:08.248Z"
   },
   {
    "duration": 4,
    "start_time": "2022-03-16T18:09:49.092Z"
   },
   {
    "duration": 12,
    "start_time": "2022-03-16T18:15:13.997Z"
   },
   {
    "duration": 117,
    "start_time": "2022-03-16T18:15:35.479Z"
   },
   {
    "duration": 387,
    "start_time": "2022-03-16T18:15:51.856Z"
   },
   {
    "duration": 117,
    "start_time": "2022-03-16T18:16:01.030Z"
   },
   {
    "duration": 128,
    "start_time": "2022-03-16T18:16:43.527Z"
   },
   {
    "duration": 120,
    "start_time": "2022-03-16T18:16:46.271Z"
   },
   {
    "duration": 123,
    "start_time": "2022-03-16T18:16:56.748Z"
   },
   {
    "duration": 241,
    "start_time": "2022-03-16T18:17:07.235Z"
   },
   {
    "duration": 499,
    "start_time": "2022-03-16T18:17:18.988Z"
   },
   {
    "duration": 557,
    "start_time": "2022-03-16T18:17:26.157Z"
   },
   {
    "duration": 241,
    "start_time": "2022-03-16T18:17:32.770Z"
   },
   {
    "duration": 467,
    "start_time": "2022-03-16T18:17:46.969Z"
   },
   {
    "duration": 314,
    "start_time": "2022-03-16T18:18:08.529Z"
   },
   {
    "duration": 379,
    "start_time": "2022-03-16T18:18:18.684Z"
   },
   {
    "duration": 445,
    "start_time": "2022-03-16T18:19:00.470Z"
   },
   {
    "duration": 396,
    "start_time": "2022-03-16T18:19:30.580Z"
   },
   {
    "duration": 383,
    "start_time": "2022-03-16T18:19:49.647Z"
   },
   {
    "duration": 258,
    "start_time": "2022-03-16T18:19:52.973Z"
   },
   {
    "duration": 5,
    "start_time": "2022-03-16T18:23:35.923Z"
   },
   {
    "duration": 5,
    "start_time": "2022-03-16T18:23:45.107Z"
   },
   {
    "duration": 1157,
    "start_time": "2022-03-16T18:26:50.310Z"
   },
   {
    "duration": 394,
    "start_time": "2022-03-16T18:26:51.469Z"
   },
   {
    "duration": 2,
    "start_time": "2022-03-16T18:26:51.866Z"
   },
   {
    "duration": 49,
    "start_time": "2022-03-16T18:26:51.870Z"
   },
   {
    "duration": 9,
    "start_time": "2022-03-16T18:26:51.921Z"
   },
   {
    "duration": 13,
    "start_time": "2022-03-16T18:26:51.932Z"
   },
   {
    "duration": 10,
    "start_time": "2022-03-16T18:26:51.947Z"
   },
   {
    "duration": 49,
    "start_time": "2022-03-16T18:26:51.960Z"
   },
   {
    "duration": 30,
    "start_time": "2022-03-16T18:26:52.011Z"
   },
   {
    "duration": 13,
    "start_time": "2022-03-16T18:26:52.042Z"
   },
   {
    "duration": 52,
    "start_time": "2022-03-16T18:26:52.057Z"
   },
   {
    "duration": 14,
    "start_time": "2022-03-16T18:26:52.110Z"
   },
   {
    "duration": 21,
    "start_time": "2022-03-16T18:26:52.126Z"
   },
   {
    "duration": 9,
    "start_time": "2022-03-16T18:26:52.149Z"
   },
   {
    "duration": 42,
    "start_time": "2022-03-16T18:26:52.160Z"
   },
   {
    "duration": 12,
    "start_time": "2022-03-16T18:26:52.204Z"
   },
   {
    "duration": 8,
    "start_time": "2022-03-16T18:26:52.217Z"
   },
   {
    "duration": 175,
    "start_time": "2022-03-16T18:26:52.227Z"
   },
   {
    "duration": 5,
    "start_time": "2022-03-16T18:26:52.403Z"
   },
   {
    "duration": 19,
    "start_time": "2022-03-16T18:26:52.410Z"
   },
   {
    "duration": 214,
    "start_time": "2022-03-16T18:26:52.430Z"
   },
   {
    "duration": 240,
    "start_time": "2022-03-16T18:26:52.646Z"
   },
   {
    "duration": 23,
    "start_time": "2022-03-16T18:26:52.891Z"
   },
   {
    "duration": 208,
    "start_time": "2022-03-16T18:26:52.917Z"
   },
   {
    "duration": 11,
    "start_time": "2022-03-16T18:26:53.126Z"
   },
   {
    "duration": 16,
    "start_time": "2022-03-16T18:26:53.139Z"
   },
   {
    "duration": 6,
    "start_time": "2022-03-16T18:26:53.157Z"
   },
   {
    "duration": 1034,
    "start_time": "2022-03-16T18:26:53.164Z"
   },
   {
    "duration": 207,
    "start_time": "2022-03-16T18:26:54.200Z"
   },
   {
    "duration": 200,
    "start_time": "2022-03-16T18:26:54.409Z"
   },
   {
    "duration": 32,
    "start_time": "2022-03-16T18:26:54.610Z"
   },
   {
    "duration": 67,
    "start_time": "2022-03-16T18:26:54.644Z"
   },
   {
    "duration": 28,
    "start_time": "2022-03-16T18:26:54.713Z"
   },
   {
    "duration": 26,
    "start_time": "2022-03-16T18:26:54.743Z"
   },
   {
    "duration": 41,
    "start_time": "2022-03-16T18:26:54.771Z"
   },
   {
    "duration": 29,
    "start_time": "2022-03-16T18:26:54.814Z"
   },
   {
    "duration": 3,
    "start_time": "2022-03-16T18:26:54.845Z"
   },
   {
    "duration": 42,
    "start_time": "2022-03-16T18:26:54.850Z"
   },
   {
    "duration": 23,
    "start_time": "2022-03-16T18:26:54.893Z"
   },
   {
    "duration": 16,
    "start_time": "2022-03-16T18:26:54.917Z"
   },
   {
    "duration": 22,
    "start_time": "2022-03-16T18:26:54.935Z"
   },
   {
    "duration": 19,
    "start_time": "2022-03-16T18:26:54.959Z"
   },
   {
    "duration": 369,
    "start_time": "2022-03-16T18:26:54.979Z"
   },
   {
    "duration": 24,
    "start_time": "2022-03-16T18:26:55.349Z"
   },
   {
    "duration": 15,
    "start_time": "2022-03-16T18:26:55.375Z"
   },
   {
    "duration": 162,
    "start_time": "2022-03-16T18:26:55.392Z"
   },
   {
    "duration": 868,
    "start_time": "2022-03-16T18:26:55.555Z"
   },
   {
    "duration": 5,
    "start_time": "2022-03-16T18:26:56.424Z"
   },
   {
    "duration": 498,
    "start_time": "2022-03-16T18:26:56.430Z"
   },
   {
    "duration": 473,
    "start_time": "2022-03-16T18:26:56.930Z"
   },
   {
    "duration": 515,
    "start_time": "2022-03-16T18:26:57.404Z"
   },
   {
    "duration": 61,
    "start_time": "2022-03-16T18:26:57.921Z"
   },
   {
    "duration": 30,
    "start_time": "2022-03-16T18:26:57.984Z"
   },
   {
    "duration": 6,
    "start_time": "2022-03-16T18:26:58.016Z"
   },
   {
    "duration": 8,
    "start_time": "2022-03-16T18:26:58.024Z"
   },
   {
    "duration": 67,
    "start_time": "2022-03-16T18:26:58.034Z"
   },
   {
    "duration": 15,
    "start_time": "2022-03-16T18:26:58.102Z"
   },
   {
    "duration": 4,
    "start_time": "2022-03-16T18:26:58.119Z"
   },
   {
    "duration": 7,
    "start_time": "2022-03-16T18:26:58.125Z"
   },
   {
    "duration": 9,
    "start_time": "2022-03-16T18:26:58.134Z"
   },
   {
    "duration": 8,
    "start_time": "2022-03-16T18:26:58.145Z"
   },
   {
    "duration": 5,
    "start_time": "2022-03-16T18:26:58.201Z"
   },
   {
    "duration": 1345,
    "start_time": "2022-03-27T17:08:09.476Z"
   },
   {
    "duration": 384,
    "start_time": "2022-03-27T17:08:10.823Z"
   },
   {
    "duration": 2,
    "start_time": "2022-03-27T17:08:11.209Z"
   },
   {
    "duration": 73,
    "start_time": "2022-03-27T17:08:11.213Z"
   },
   {
    "duration": 25,
    "start_time": "2022-03-27T17:08:11.288Z"
   },
   {
    "duration": 15,
    "start_time": "2022-03-27T17:08:11.314Z"
   },
   {
    "duration": 8,
    "start_time": "2022-03-27T17:08:11.331Z"
   },
   {
    "duration": 13,
    "start_time": "2022-03-27T17:08:11.341Z"
   },
   {
    "duration": 62,
    "start_time": "2022-03-27T17:08:11.356Z"
   },
   {
    "duration": 12,
    "start_time": "2022-03-27T17:08:11.421Z"
   },
   {
    "duration": 28,
    "start_time": "2022-03-27T17:08:11.434Z"
   },
   {
    "duration": 10,
    "start_time": "2022-03-27T17:08:11.464Z"
   },
   {
    "duration": 50,
    "start_time": "2022-03-27T17:08:11.475Z"
   },
   {
    "duration": 9,
    "start_time": "2022-03-27T17:08:11.526Z"
   },
   {
    "duration": 14,
    "start_time": "2022-03-27T17:08:11.536Z"
   },
   {
    "duration": 6,
    "start_time": "2022-03-27T17:08:11.552Z"
   },
   {
    "duration": 8,
    "start_time": "2022-03-27T17:08:11.560Z"
   },
   {
    "duration": 219,
    "start_time": "2022-03-27T17:08:11.570Z"
   },
   {
    "duration": 4,
    "start_time": "2022-03-27T17:08:11.792Z"
   },
   {
    "duration": 12,
    "start_time": "2022-03-27T17:08:11.808Z"
   },
   {
    "duration": 182,
    "start_time": "2022-03-27T17:08:11.822Z"
   },
   {
    "duration": 192,
    "start_time": "2022-03-27T17:08:12.008Z"
   },
   {
    "duration": 15,
    "start_time": "2022-03-27T17:08:12.202Z"
   },
   {
    "duration": 163,
    "start_time": "2022-03-27T17:08:12.218Z"
   },
   {
    "duration": 11,
    "start_time": "2022-03-27T17:08:12.382Z"
   },
   {
    "duration": 30,
    "start_time": "2022-03-27T17:08:12.395Z"
   },
   {
    "duration": 6,
    "start_time": "2022-03-27T17:08:12.427Z"
   },
   {
    "duration": 742,
    "start_time": "2022-03-27T17:08:12.436Z"
   },
   {
    "duration": 162,
    "start_time": "2022-03-27T17:08:13.180Z"
   },
   {
    "duration": 176,
    "start_time": "2022-03-27T17:08:13.344Z"
   },
   {
    "duration": 35,
    "start_time": "2022-03-27T17:08:13.521Z"
   },
   {
    "duration": 75,
    "start_time": "2022-03-27T17:08:13.558Z"
   },
   {
    "duration": 33,
    "start_time": "2022-03-27T17:08:13.634Z"
   },
   {
    "duration": 47,
    "start_time": "2022-03-27T17:08:13.669Z"
   },
   {
    "duration": 17,
    "start_time": "2022-03-27T17:08:13.718Z"
   },
   {
    "duration": 31,
    "start_time": "2022-03-27T17:08:13.737Z"
   },
   {
    "duration": 3,
    "start_time": "2022-03-27T17:08:13.769Z"
   },
   {
    "duration": 37,
    "start_time": "2022-03-27T17:08:13.774Z"
   },
   {
    "duration": 6,
    "start_time": "2022-03-27T17:08:13.813Z"
   },
   {
    "duration": 6,
    "start_time": "2022-03-27T17:08:13.821Z"
   },
   {
    "duration": 12,
    "start_time": "2022-03-27T17:08:13.829Z"
   },
   {
    "duration": 6,
    "start_time": "2022-03-27T17:08:13.843Z"
   },
   {
    "duration": 114,
    "start_time": "2022-03-27T17:08:13.850Z"
   },
   {
    "duration": 28,
    "start_time": "2022-03-27T17:08:13.966Z"
   },
   {
    "duration": 22,
    "start_time": "2022-03-27T17:08:13.995Z"
   },
   {
    "duration": 119,
    "start_time": "2022-03-27T17:08:14.019Z"
   },
   {
    "duration": 677,
    "start_time": "2022-03-27T17:08:14.140Z"
   },
   {
    "duration": 5,
    "start_time": "2022-03-27T17:08:14.819Z"
   },
   {
    "duration": 345,
    "start_time": "2022-03-27T17:08:14.825Z"
   },
   {
    "duration": 350,
    "start_time": "2022-03-27T17:08:15.172Z"
   },
   {
    "duration": 433,
    "start_time": "2022-03-27T17:08:15.524Z"
   },
   {
    "duration": 71,
    "start_time": "2022-03-27T17:08:15.959Z"
   },
   {
    "duration": 17,
    "start_time": "2022-03-27T17:08:16.032Z"
   },
   {
    "duration": 13,
    "start_time": "2022-03-27T17:08:16.050Z"
   },
   {
    "duration": 9,
    "start_time": "2022-03-27T17:08:16.065Z"
   },
   {
    "duration": 64,
    "start_time": "2022-03-27T17:08:16.076Z"
   },
   {
    "duration": 14,
    "start_time": "2022-03-27T17:08:16.142Z"
   },
   {
    "duration": 4,
    "start_time": "2022-03-27T17:08:16.158Z"
   },
   {
    "duration": 7,
    "start_time": "2022-03-27T17:08:16.164Z"
   },
   {
    "duration": 14,
    "start_time": "2022-03-27T17:08:16.173Z"
   },
   {
    "duration": 9,
    "start_time": "2022-03-27T17:08:16.208Z"
   },
   {
    "duration": 6,
    "start_time": "2022-03-27T17:08:16.219Z"
   },
   {
    "duration": 135,
    "start_time": "2022-03-27T17:09:16.686Z"
   },
   {
    "duration": 147,
    "start_time": "2022-03-27T17:09:38.696Z"
   },
   {
    "duration": 365,
    "start_time": "2022-03-27T17:11:22.844Z"
   },
   {
    "duration": 388,
    "start_time": "2022-03-27T17:11:36.044Z"
   },
   {
    "duration": 37,
    "start_time": "2022-03-27T17:12:13.973Z"
   },
   {
    "duration": 30,
    "start_time": "2022-03-27T17:12:57.055Z"
   },
   {
    "duration": 143,
    "start_time": "2022-03-27T17:13:47.417Z"
   },
   {
    "duration": 60,
    "start_time": "2022-03-27T17:21:27.777Z"
   },
   {
    "duration": 9,
    "start_time": "2022-03-27T17:24:18.937Z"
   },
   {
    "duration": 27,
    "start_time": "2022-03-27T17:24:19.968Z"
   },
   {
    "duration": 5,
    "start_time": "2022-03-27T17:25:18.362Z"
   },
   {
    "duration": 66,
    "start_time": "2022-03-27T17:27:10.383Z"
   },
   {
    "duration": 6,
    "start_time": "2022-03-27T17:33:09.003Z"
   },
   {
    "duration": 60,
    "start_time": "2022-03-27T17:38:02.845Z"
   },
   {
    "duration": 65,
    "start_time": "2022-03-27T17:38:42.480Z"
   },
   {
    "duration": 56,
    "start_time": "2022-03-27T17:38:44.373Z"
   },
   {
    "duration": 13,
    "start_time": "2022-03-27T17:40:10.803Z"
   },
   {
    "duration": 6,
    "start_time": "2022-03-27T17:40:19.387Z"
   },
   {
    "duration": 12,
    "start_time": "2022-03-27T17:40:26.459Z"
   },
   {
    "duration": 16,
    "start_time": "2022-03-27T17:40:47.965Z"
   },
   {
    "duration": 175,
    "start_time": "2022-03-27T17:40:58.300Z"
   },
   {
    "duration": 3,
    "start_time": "2022-03-27T17:41:33.503Z"
   },
   {
    "duration": 3,
    "start_time": "2022-03-27T17:42:06.951Z"
   },
   {
    "duration": 175,
    "start_time": "2022-03-27T17:42:33.704Z"
   },
   {
    "duration": 185,
    "start_time": "2022-03-27T17:42:34.495Z"
   },
   {
    "duration": 33,
    "start_time": "2022-03-27T17:42:59.498Z"
   },
   {
    "duration": 3,
    "start_time": "2022-03-27T17:43:15.881Z"
   },
   {
    "duration": 12,
    "start_time": "2022-03-27T17:43:59.402Z"
   },
   {
    "duration": 1174,
    "start_time": "2022-03-27T17:44:05.557Z"
   },
   {
    "duration": 59,
    "start_time": "2022-03-27T17:44:34.046Z"
   },
   {
    "duration": 1096,
    "start_time": "2022-03-27T17:49:46.304Z"
   },
   {
    "duration": 357,
    "start_time": "2022-03-27T17:49:47.403Z"
   },
   {
    "duration": 3,
    "start_time": "2022-03-27T17:49:47.762Z"
   },
   {
    "duration": 69,
    "start_time": "2022-03-27T17:49:47.767Z"
   },
   {
    "duration": 11,
    "start_time": "2022-03-27T17:49:47.839Z"
   },
   {
    "duration": 15,
    "start_time": "2022-03-27T17:49:47.851Z"
   },
   {
    "duration": 8,
    "start_time": "2022-03-27T17:49:47.868Z"
   },
   {
    "duration": 39,
    "start_time": "2022-03-27T17:49:47.878Z"
   },
   {
    "duration": 35,
    "start_time": "2022-03-27T17:49:47.918Z"
   },
   {
    "duration": 12,
    "start_time": "2022-03-27T17:49:47.955Z"
   },
   {
    "duration": 49,
    "start_time": "2022-03-27T17:49:47.968Z"
   },
   {
    "duration": 9,
    "start_time": "2022-03-27T17:49:48.019Z"
   },
   {
    "duration": 21,
    "start_time": "2022-03-27T17:49:48.029Z"
   },
   {
    "duration": 7,
    "start_time": "2022-03-27T17:49:48.052Z"
   },
   {
    "duration": 13,
    "start_time": "2022-03-27T17:49:48.060Z"
   },
   {
    "duration": 34,
    "start_time": "2022-03-27T17:49:48.074Z"
   },
   {
    "duration": 4,
    "start_time": "2022-03-27T17:49:48.110Z"
   },
   {
    "duration": 166,
    "start_time": "2022-03-27T17:49:48.116Z"
   },
   {
    "duration": 5,
    "start_time": "2022-03-27T17:49:48.284Z"
   },
   {
    "duration": 22,
    "start_time": "2022-03-27T17:49:48.291Z"
   },
   {
    "duration": 157,
    "start_time": "2022-03-27T17:49:48.315Z"
   },
   {
    "duration": 169,
    "start_time": "2022-03-27T17:49:48.474Z"
   },
   {
    "duration": 12,
    "start_time": "2022-03-27T17:49:48.645Z"
   },
   {
    "duration": 164,
    "start_time": "2022-03-27T17:49:48.658Z"
   },
   {
    "duration": 10,
    "start_time": "2022-03-27T17:49:48.824Z"
   },
   {
    "duration": 15,
    "start_time": "2022-03-27T17:49:48.836Z"
   },
   {
    "duration": 5,
    "start_time": "2022-03-27T17:49:48.853Z"
   },
   {
    "duration": 709,
    "start_time": "2022-03-27T17:49:48.860Z"
   },
   {
    "duration": 143,
    "start_time": "2022-03-27T17:49:49.570Z"
   },
   {
    "duration": 38,
    "start_time": "2022-03-27T17:49:49.715Z"
   },
   {
    "duration": 185,
    "start_time": "2022-03-27T17:49:49.755Z"
   },
   {
    "duration": 169,
    "start_time": "2022-03-27T17:49:49.941Z"
   },
   {
    "duration": 34,
    "start_time": "2022-03-27T17:49:50.112Z"
   },
   {
    "duration": 75,
    "start_time": "2022-03-27T17:49:50.147Z"
   },
   {
    "duration": 32,
    "start_time": "2022-03-27T17:49:50.224Z"
   },
   {
    "duration": 59,
    "start_time": "2022-03-27T17:49:50.257Z"
   },
   {
    "duration": 15,
    "start_time": "2022-03-27T17:49:50.317Z"
   },
   {
    "duration": 29,
    "start_time": "2022-03-27T17:49:50.334Z"
   },
   {
    "duration": 3,
    "start_time": "2022-03-27T17:49:50.365Z"
   },
   {
    "duration": 14,
    "start_time": "2022-03-27T17:49:50.370Z"
   },
   {
    "duration": 5,
    "start_time": "2022-03-27T17:49:50.389Z"
   },
   {
    "duration": 7,
    "start_time": "2022-03-27T17:49:50.395Z"
   },
   {
    "duration": 8,
    "start_time": "2022-03-27T17:49:50.408Z"
   },
   {
    "duration": 6,
    "start_time": "2022-03-27T17:49:50.417Z"
   },
   {
    "duration": 105,
    "start_time": "2022-03-27T17:49:50.425Z"
   },
   {
    "duration": 29,
    "start_time": "2022-03-27T17:49:50.531Z"
   },
   {
    "duration": 10,
    "start_time": "2022-03-27T17:49:50.561Z"
   },
   {
    "duration": 145,
    "start_time": "2022-03-27T17:49:50.574Z"
   },
   {
    "duration": 764,
    "start_time": "2022-03-27T17:49:50.721Z"
   },
   {
    "duration": 5,
    "start_time": "2022-03-27T17:49:51.487Z"
   },
   {
    "duration": 335,
    "start_time": "2022-03-27T17:49:51.493Z"
   },
   {
    "duration": 353,
    "start_time": "2022-03-27T17:49:51.829Z"
   },
   {
    "duration": 460,
    "start_time": "2022-03-27T17:49:52.184Z"
   },
   {
    "duration": 70,
    "start_time": "2022-03-27T17:49:52.646Z"
   },
   {
    "duration": 19,
    "start_time": "2022-03-27T17:49:52.717Z"
   },
   {
    "duration": 6,
    "start_time": "2022-03-27T17:49:52.738Z"
   },
   {
    "duration": 9,
    "start_time": "2022-03-27T17:49:52.745Z"
   },
   {
    "duration": 64,
    "start_time": "2022-03-27T17:49:52.756Z"
   },
   {
    "duration": 15,
    "start_time": "2022-03-27T17:49:52.822Z"
   },
   {
    "duration": 22,
    "start_time": "2022-03-27T17:49:52.838Z"
   },
   {
    "duration": 9,
    "start_time": "2022-03-27T17:49:52.861Z"
   },
   {
    "duration": 23,
    "start_time": "2022-03-27T17:49:52.871Z"
   },
   {
    "duration": 23,
    "start_time": "2022-03-27T17:49:52.896Z"
   },
   {
    "duration": 10,
    "start_time": "2022-03-27T17:49:52.921Z"
   },
   {
    "duration": 18,
    "start_time": "2022-03-27T17:49:52.932Z"
   },
   {
    "duration": 1168,
    "start_time": "2022-03-27T17:49:52.951Z"
   },
   {
    "duration": 178,
    "start_time": "2022-03-27T17:49:54.121Z"
   },
   {
    "duration": 174,
    "start_time": "2022-03-27T17:49:54.300Z"
   },
   {
    "duration": 173,
    "start_time": "2022-03-27T17:49:54.476Z"
   },
   {
    "duration": 34,
    "start_time": "2022-03-27T17:49:54.651Z"
   },
   {
    "duration": 23,
    "start_time": "2022-03-27T17:51:51.064Z"
   },
   {
    "duration": 4,
    "start_time": "2022-03-27T17:52:04.544Z"
   },
   {
    "duration": 102,
    "start_time": "2022-03-27T17:52:51.891Z"
   },
   {
    "duration": 21,
    "start_time": "2022-03-27T17:52:57.587Z"
   },
   {
    "duration": 24,
    "start_time": "2022-03-27T17:53:40.972Z"
   },
   {
    "duration": 92,
    "start_time": "2022-03-27T17:54:40.911Z"
   },
   {
    "duration": 1860,
    "start_time": "2022-03-29T05:58:59.460Z"
   },
   {
    "duration": 506,
    "start_time": "2022-03-29T05:59:01.324Z"
   },
   {
    "duration": 4,
    "start_time": "2022-03-29T05:59:01.832Z"
   },
   {
    "duration": 111,
    "start_time": "2022-03-29T05:59:01.839Z"
   },
   {
    "duration": 24,
    "start_time": "2022-03-29T05:59:01.952Z"
   },
   {
    "duration": 24,
    "start_time": "2022-03-29T05:59:01.978Z"
   },
   {
    "duration": 13,
    "start_time": "2022-03-29T05:59:02.005Z"
   },
   {
    "duration": 51,
    "start_time": "2022-03-29T05:59:02.021Z"
   },
   {
    "duration": 61,
    "start_time": "2022-03-29T05:59:02.075Z"
   },
   {
    "duration": 30,
    "start_time": "2022-03-29T05:59:02.140Z"
   },
   {
    "duration": 49,
    "start_time": "2022-03-29T05:59:02.172Z"
   },
   {
    "duration": 14,
    "start_time": "2022-03-29T05:59:02.223Z"
   },
   {
    "duration": 55,
    "start_time": "2022-03-29T05:59:02.239Z"
   },
   {
    "duration": 11,
    "start_time": "2022-03-29T05:59:02.297Z"
   },
   {
    "duration": 41,
    "start_time": "2022-03-29T05:59:02.310Z"
   },
   {
    "duration": 28,
    "start_time": "2022-03-29T05:59:02.354Z"
   },
   {
    "duration": 24,
    "start_time": "2022-03-29T05:59:02.384Z"
   },
   {
    "duration": 296,
    "start_time": "2022-03-29T05:59:02.410Z"
   },
   {
    "duration": 10,
    "start_time": "2022-03-29T05:59:02.709Z"
   },
   {
    "duration": 38,
    "start_time": "2022-03-29T05:59:02.721Z"
   },
   {
    "duration": 271,
    "start_time": "2022-03-29T05:59:02.762Z"
   },
   {
    "duration": 292,
    "start_time": "2022-03-29T05:59:03.035Z"
   },
   {
    "duration": 19,
    "start_time": "2022-03-29T05:59:03.329Z"
   },
   {
    "duration": 282,
    "start_time": "2022-03-29T05:59:03.351Z"
   },
   {
    "duration": 32,
    "start_time": "2022-03-29T05:59:03.636Z"
   },
   {
    "duration": 25,
    "start_time": "2022-03-29T05:59:03.671Z"
   },
   {
    "duration": 8,
    "start_time": "2022-03-29T05:59:03.699Z"
   },
   {
    "duration": 1263,
    "start_time": "2022-03-29T05:59:03.713Z"
   },
   {
    "duration": 205,
    "start_time": "2022-03-29T05:59:04.978Z"
   },
   {
    "duration": 57,
    "start_time": "2022-03-29T05:59:05.185Z"
   },
   {
    "duration": 276,
    "start_time": "2022-03-29T05:59:05.245Z"
   },
   {
    "duration": 275,
    "start_time": "2022-03-29T05:59:05.523Z"
   },
   {
    "duration": 46,
    "start_time": "2022-03-29T05:59:05.800Z"
   },
   {
    "duration": 97,
    "start_time": "2022-03-29T05:59:05.848Z"
   },
   {
    "duration": 57,
    "start_time": "2022-03-29T05:59:05.947Z"
   },
   {
    "duration": 38,
    "start_time": "2022-03-29T05:59:06.007Z"
   },
   {
    "duration": 42,
    "start_time": "2022-03-29T05:59:06.047Z"
   },
   {
    "duration": 77,
    "start_time": "2022-03-29T05:59:06.091Z"
   },
   {
    "duration": 5,
    "start_time": "2022-03-29T05:59:06.171Z"
   },
   {
    "duration": 33,
    "start_time": "2022-03-29T05:59:06.180Z"
   },
   {
    "duration": 10,
    "start_time": "2022-03-29T05:59:06.217Z"
   },
   {
    "duration": 36,
    "start_time": "2022-03-29T05:59:06.234Z"
   },
   {
    "duration": 11,
    "start_time": "2022-03-29T05:59:06.272Z"
   },
   {
    "duration": 8,
    "start_time": "2022-03-29T05:59:06.286Z"
   },
   {
    "duration": 200,
    "start_time": "2022-03-29T05:59:06.297Z"
   },
   {
    "duration": 45,
    "start_time": "2022-03-29T05:59:06.500Z"
   },
   {
    "duration": 32,
    "start_time": "2022-03-29T05:59:06.547Z"
   },
   {
    "duration": 189,
    "start_time": "2022-03-29T05:59:06.582Z"
   },
   {
    "duration": 1167,
    "start_time": "2022-03-29T05:59:06.773Z"
   },
   {
    "duration": 7,
    "start_time": "2022-03-29T05:59:07.943Z"
   },
   {
    "duration": 523,
    "start_time": "2022-03-29T05:59:07.953Z"
   },
   {
    "duration": 502,
    "start_time": "2022-03-29T05:59:08.478Z"
   },
   {
    "duration": 610,
    "start_time": "2022-03-29T05:59:08.983Z"
   },
   {
    "duration": 110,
    "start_time": "2022-03-29T05:59:09.595Z"
   },
   {
    "duration": 28,
    "start_time": "2022-03-29T05:59:09.707Z"
   },
   {
    "duration": 32,
    "start_time": "2022-03-29T05:59:09.737Z"
   },
   {
    "duration": 8,
    "start_time": "2022-03-29T05:59:09.771Z"
   },
   {
    "duration": 67,
    "start_time": "2022-03-29T05:59:09.781Z"
   },
   {
    "duration": 39,
    "start_time": "2022-03-29T05:59:09.850Z"
   },
   {
    "duration": 7,
    "start_time": "2022-03-29T05:59:09.892Z"
   },
   {
    "duration": 10,
    "start_time": "2022-03-29T05:59:09.901Z"
   },
   {
    "duration": 13,
    "start_time": "2022-03-29T05:59:09.913Z"
   },
   {
    "duration": 51,
    "start_time": "2022-03-29T05:59:09.928Z"
   },
   {
    "duration": 7,
    "start_time": "2022-03-29T05:59:09.982Z"
   },
   {
    "duration": 8,
    "start_time": "2022-03-29T05:59:09.991Z"
   },
   {
    "duration": 1583,
    "start_time": "2022-03-29T05:59:10.002Z"
   },
   {
    "duration": 33,
    "start_time": "2022-03-29T05:59:11.587Z"
   },
   {
    "duration": 288,
    "start_time": "2022-03-29T05:59:11.622Z"
   },
   {
    "duration": 294,
    "start_time": "2022-03-29T05:59:11.912Z"
   },
   {
    "duration": 284,
    "start_time": "2022-03-29T05:59:12.208Z"
   },
   {
    "duration": 39,
    "start_time": "2022-03-29T05:59:12.494Z"
   },
   {
    "duration": 82,
    "start_time": "2022-03-29T06:04:17.344Z"
   },
   {
    "duration": 6,
    "start_time": "2022-03-29T06:04:33.185Z"
   },
   {
    "duration": 159,
    "start_time": "2022-03-29T06:04:33.682Z"
   },
   {
    "duration": 4,
    "start_time": "2022-03-29T06:05:38.609Z"
   },
   {
    "duration": 24,
    "start_time": "2022-03-29T06:05:39.553Z"
   },
   {
    "duration": 61,
    "start_time": "2022-03-29T06:06:09.097Z"
   },
   {
    "duration": 20,
    "start_time": "2022-03-29T06:06:17.929Z"
   },
   {
    "duration": 1570,
    "start_time": "2022-03-29T06:06:52.330Z"
   },
   {
    "duration": 711,
    "start_time": "2022-03-29T06:06:53.902Z"
   },
   {
    "duration": 4,
    "start_time": "2022-03-29T06:06:54.616Z"
   },
   {
    "duration": 102,
    "start_time": "2022-03-29T06:06:54.624Z"
   },
   {
    "duration": 17,
    "start_time": "2022-03-29T06:06:54.728Z"
   },
   {
    "duration": 24,
    "start_time": "2022-03-29T06:06:54.769Z"
   },
   {
    "duration": 13,
    "start_time": "2022-03-29T06:06:54.795Z"
   },
   {
    "duration": 18,
    "start_time": "2022-03-29T06:06:54.810Z"
   },
   {
    "duration": 87,
    "start_time": "2022-03-29T06:06:54.831Z"
   },
   {
    "duration": 18,
    "start_time": "2022-03-29T06:06:54.922Z"
   },
   {
    "duration": 57,
    "start_time": "2022-03-29T06:06:54.943Z"
   },
   {
    "duration": 16,
    "start_time": "2022-03-29T06:06:55.002Z"
   },
   {
    "duration": 61,
    "start_time": "2022-03-29T06:06:55.020Z"
   },
   {
    "duration": 12,
    "start_time": "2022-03-29T06:06:55.083Z"
   },
   {
    "duration": 25,
    "start_time": "2022-03-29T06:06:55.097Z"
   },
   {
    "duration": 9,
    "start_time": "2022-03-29T06:06:55.124Z"
   },
   {
    "duration": 32,
    "start_time": "2022-03-29T06:06:55.136Z"
   },
   {
    "duration": 279,
    "start_time": "2022-03-29T06:06:55.171Z"
   },
   {
    "duration": 17,
    "start_time": "2022-03-29T06:06:55.452Z"
   },
   {
    "duration": 21,
    "start_time": "2022-03-29T06:06:55.471Z"
   },
   {
    "duration": 285,
    "start_time": "2022-03-29T06:06:55.495Z"
   },
   {
    "duration": 299,
    "start_time": "2022-03-29T06:06:55.782Z"
   },
   {
    "duration": 19,
    "start_time": "2022-03-29T06:06:56.084Z"
   },
   {
    "duration": 275,
    "start_time": "2022-03-29T06:06:56.106Z"
   },
   {
    "duration": 14,
    "start_time": "2022-03-29T06:06:56.383Z"
   },
   {
    "duration": 25,
    "start_time": "2022-03-29T06:06:56.400Z"
   },
   {
    "duration": 41,
    "start_time": "2022-03-29T06:06:56.428Z"
   },
   {
    "duration": 1212,
    "start_time": "2022-03-29T06:06:56.476Z"
   },
   {
    "duration": 198,
    "start_time": "2022-03-29T06:06:57.691Z"
   },
   {
    "duration": 57,
    "start_time": "2022-03-29T06:06:57.891Z"
   },
   {
    "duration": 277,
    "start_time": "2022-03-29T06:06:57.951Z"
   },
   {
    "duration": 252,
    "start_time": "2022-03-29T06:06:58.230Z"
   },
   {
    "duration": 46,
    "start_time": "2022-03-29T06:06:58.484Z"
   },
   {
    "duration": 102,
    "start_time": "2022-03-29T06:06:58.532Z"
   },
   {
    "duration": 52,
    "start_time": "2022-03-29T06:06:58.636Z"
   },
   {
    "duration": 36,
    "start_time": "2022-03-29T06:06:58.691Z"
   },
   {
    "duration": 49,
    "start_time": "2022-03-29T06:06:58.730Z"
   },
   {
    "duration": 52,
    "start_time": "2022-03-29T06:06:58.781Z"
   },
   {
    "duration": 5,
    "start_time": "2022-03-29T06:06:58.835Z"
   },
   {
    "duration": 41,
    "start_time": "2022-03-29T06:06:58.842Z"
   },
   {
    "duration": 8,
    "start_time": "2022-03-29T06:06:58.885Z"
   },
   {
    "duration": 10,
    "start_time": "2022-03-29T06:06:58.896Z"
   },
   {
    "duration": 24,
    "start_time": "2022-03-29T06:06:58.908Z"
   },
   {
    "duration": 12,
    "start_time": "2022-03-29T06:06:58.934Z"
   },
   {
    "duration": 166,
    "start_time": "2022-03-29T06:06:58.969Z"
   },
   {
    "duration": 52,
    "start_time": "2022-03-29T06:06:59.138Z"
   },
   {
    "duration": 16,
    "start_time": "2022-03-29T06:06:59.193Z"
   },
   {
    "duration": 199,
    "start_time": "2022-03-29T06:06:59.211Z"
   },
   {
    "duration": 936,
    "start_time": "2022-03-29T06:06:59.413Z"
   },
   {
    "duration": 17,
    "start_time": "2022-03-29T06:07:00.352Z"
   },
   {
    "duration": 536,
    "start_time": "2022-03-29T06:07:00.372Z"
   },
   {
    "duration": 485,
    "start_time": "2022-03-29T06:07:00.910Z"
   },
   {
    "duration": 603,
    "start_time": "2022-03-29T06:07:01.398Z"
   },
   {
    "duration": 111,
    "start_time": "2022-03-29T06:07:02.003Z"
   },
   {
    "duration": 27,
    "start_time": "2022-03-29T06:07:02.116Z"
   },
   {
    "duration": 36,
    "start_time": "2022-03-29T06:07:02.145Z"
   },
   {
    "duration": 24,
    "start_time": "2022-03-29T06:07:02.183Z"
   },
   {
    "duration": 80,
    "start_time": "2022-03-29T06:07:02.210Z"
   },
   {
    "duration": 21,
    "start_time": "2022-03-29T06:07:02.292Z"
   },
   {
    "duration": 44,
    "start_time": "2022-03-29T06:07:02.315Z"
   },
   {
    "duration": 30,
    "start_time": "2022-03-29T06:07:02.362Z"
   },
   {
    "duration": 45,
    "start_time": "2022-03-29T06:07:02.395Z"
   },
   {
    "duration": 36,
    "start_time": "2022-03-29T06:07:02.443Z"
   },
   {
    "duration": 34,
    "start_time": "2022-03-29T06:07:02.482Z"
   },
   {
    "duration": 29,
    "start_time": "2022-03-29T06:07:02.519Z"
   },
   {
    "duration": 1676,
    "start_time": "2022-03-29T06:07:02.550Z"
   },
   {
    "duration": 52,
    "start_time": "2022-03-29T06:07:04.229Z"
   },
   {
    "duration": 304,
    "start_time": "2022-03-29T06:07:04.283Z"
   },
   {
    "duration": 311,
    "start_time": "2022-03-29T06:07:04.589Z"
   },
   {
    "duration": 296,
    "start_time": "2022-03-29T06:07:04.902Z"
   },
   {
    "duration": 40,
    "start_time": "2022-03-29T06:07:05.201Z"
   },
   {
    "duration": 19,
    "start_time": "2022-03-29T07:19:39.795Z"
   },
   {
    "duration": 5,
    "start_time": "2022-03-29T07:21:05.005Z"
   },
   {
    "duration": 19,
    "start_time": "2022-03-29T07:21:10.956Z"
   },
   {
    "duration": 6,
    "start_time": "2022-03-29T07:21:33.501Z"
   },
   {
    "duration": 19,
    "start_time": "2022-03-29T07:21:36.037Z"
   },
   {
    "duration": 6,
    "start_time": "2022-03-29T07:21:56.188Z"
   },
   {
    "duration": 1769,
    "start_time": "2022-03-29T07:22:05.898Z"
   },
   {
    "duration": 460,
    "start_time": "2022-03-29T07:22:07.670Z"
   },
   {
    "duration": 3,
    "start_time": "2022-03-29T07:22:08.133Z"
   },
   {
    "duration": 104,
    "start_time": "2022-03-29T07:22:08.139Z"
   },
   {
    "duration": 28,
    "start_time": "2022-03-29T07:22:08.245Z"
   },
   {
    "duration": 23,
    "start_time": "2022-03-29T07:22:08.275Z"
   },
   {
    "duration": 12,
    "start_time": "2022-03-29T07:22:08.300Z"
   },
   {
    "duration": 16,
    "start_time": "2022-03-29T07:22:08.315Z"
   },
   {
    "duration": 51,
    "start_time": "2022-03-29T07:22:08.368Z"
   },
   {
    "duration": 18,
    "start_time": "2022-03-29T07:22:08.423Z"
   },
   {
    "duration": 59,
    "start_time": "2022-03-29T07:22:08.443Z"
   },
   {
    "duration": 15,
    "start_time": "2022-03-29T07:22:08.505Z"
   },
   {
    "duration": 59,
    "start_time": "2022-03-29T07:22:08.522Z"
   },
   {
    "duration": 11,
    "start_time": "2022-03-29T07:22:08.583Z"
   },
   {
    "duration": 18,
    "start_time": "2022-03-29T07:22:08.597Z"
   },
   {
    "duration": 6,
    "start_time": "2022-03-29T07:22:08.618Z"
   },
   {
    "duration": 41,
    "start_time": "2022-03-29T07:22:08.627Z"
   },
   {
    "duration": 250,
    "start_time": "2022-03-29T07:22:08.670Z"
   },
   {
    "duration": 7,
    "start_time": "2022-03-29T07:22:08.922Z"
   },
   {
    "duration": 17,
    "start_time": "2022-03-29T07:22:08.931Z"
   },
   {
    "duration": 369,
    "start_time": "2022-03-29T07:22:08.968Z"
   },
   {
    "duration": 278,
    "start_time": "2022-03-29T07:22:09.340Z"
   },
   {
    "duration": 17,
    "start_time": "2022-03-29T07:22:09.620Z"
   },
   {
    "duration": 270,
    "start_time": "2022-03-29T07:22:09.639Z"
   },
   {
    "duration": 13,
    "start_time": "2022-03-29T07:22:09.911Z"
   },
   {
    "duration": 48,
    "start_time": "2022-03-29T07:22:09.926Z"
   },
   {
    "duration": 9,
    "start_time": "2022-03-29T07:22:09.977Z"
   },
   {
    "duration": 1166,
    "start_time": "2022-03-29T07:22:09.992Z"
   },
   {
    "duration": 183,
    "start_time": "2022-03-29T07:22:11.160Z"
   },
   {
    "duration": 64,
    "start_time": "2022-03-29T07:22:11.345Z"
   },
   {
    "duration": 251,
    "start_time": "2022-03-29T07:22:11.412Z"
   },
   {
    "duration": 257,
    "start_time": "2022-03-29T07:22:11.668Z"
   },
   {
    "duration": 61,
    "start_time": "2022-03-29T07:22:11.927Z"
   },
   {
    "duration": 5,
    "start_time": "2022-03-29T07:22:11.991Z"
   },
   {
    "duration": 94,
    "start_time": "2022-03-29T07:22:11.998Z"
   },
   {
    "duration": 42,
    "start_time": "2022-03-29T07:22:12.094Z"
   },
   {
    "duration": 59,
    "start_time": "2022-03-29T07:22:12.138Z"
   },
   {
    "duration": 24,
    "start_time": "2022-03-29T07:22:12.199Z"
   },
   {
    "duration": 85,
    "start_time": "2022-03-29T07:22:12.226Z"
   },
   {
    "duration": 3,
    "start_time": "2022-03-29T07:22:12.314Z"
   },
   {
    "duration": 19,
    "start_time": "2022-03-29T07:22:12.320Z"
   },
   {
    "duration": 28,
    "start_time": "2022-03-29T07:22:12.341Z"
   },
   {
    "duration": 6,
    "start_time": "2022-03-29T07:22:12.371Z"
   },
   {
    "duration": 15,
    "start_time": "2022-03-29T07:22:12.379Z"
   },
   {
    "duration": 8,
    "start_time": "2022-03-29T07:22:12.396Z"
   },
   {
    "duration": 185,
    "start_time": "2022-03-29T07:22:12.407Z"
   },
   {
    "duration": 49,
    "start_time": "2022-03-29T07:22:12.595Z"
   },
   {
    "duration": 32,
    "start_time": "2022-03-29T07:22:12.647Z"
   },
   {
    "duration": 182,
    "start_time": "2022-03-29T07:22:12.681Z"
   },
   {
    "duration": 1010,
    "start_time": "2022-03-29T07:22:12.868Z"
   },
   {
    "duration": 7,
    "start_time": "2022-03-29T07:22:13.881Z"
   },
   {
    "duration": 512,
    "start_time": "2022-03-29T07:22:13.890Z"
   },
   {
    "duration": 480,
    "start_time": "2022-03-29T07:22:14.405Z"
   },
   {
    "duration": 581,
    "start_time": "2022-03-29T07:22:14.887Z"
   },
   {
    "duration": 107,
    "start_time": "2022-03-29T07:22:15.470Z"
   },
   {
    "duration": 36,
    "start_time": "2022-03-29T07:22:15.580Z"
   },
   {
    "duration": 39,
    "start_time": "2022-03-29T07:22:15.619Z"
   },
   {
    "duration": 12,
    "start_time": "2022-03-29T07:22:15.661Z"
   },
   {
    "duration": 108,
    "start_time": "2022-03-29T07:22:15.676Z"
   },
   {
    "duration": 29,
    "start_time": "2022-03-29T07:22:15.787Z"
   },
   {
    "duration": 32,
    "start_time": "2022-03-29T07:22:15.818Z"
   },
   {
    "duration": 18,
    "start_time": "2022-03-29T07:22:15.853Z"
   },
   {
    "duration": 25,
    "start_time": "2022-03-29T07:22:15.873Z"
   },
   {
    "duration": 35,
    "start_time": "2022-03-29T07:22:15.900Z"
   },
   {
    "duration": 23,
    "start_time": "2022-03-29T07:22:15.938Z"
   },
   {
    "duration": 16,
    "start_time": "2022-03-29T07:22:15.963Z"
   },
   {
    "duration": 1586,
    "start_time": "2022-03-29T07:22:15.981Z"
   },
   {
    "duration": 31,
    "start_time": "2022-03-29T07:22:17.569Z"
   },
   {
    "duration": 298,
    "start_time": "2022-03-29T07:22:17.602Z"
   },
   {
    "duration": 290,
    "start_time": "2022-03-29T07:22:17.902Z"
   },
   {
    "duration": 281,
    "start_time": "2022-03-29T07:22:18.194Z"
   },
   {
    "duration": 40,
    "start_time": "2022-03-29T07:22:18.478Z"
   },
   {
    "duration": 7,
    "start_time": "2022-03-29T07:23:37.755Z"
   },
   {
    "duration": 475,
    "start_time": "2022-03-29T07:23:44.435Z"
   },
   {
    "duration": 8,
    "start_time": "2022-03-29T07:24:02.236Z"
   },
   {
    "duration": 478,
    "start_time": "2022-03-29T07:24:02.715Z"
   },
   {
    "duration": 474,
    "start_time": "2022-03-29T07:24:08.771Z"
   },
   {
    "duration": 556,
    "start_time": "2022-03-29T07:24:11.827Z"
   },
   {
    "duration": 11,
    "start_time": "2022-03-29T07:27:30.317Z"
   },
   {
    "duration": 6,
    "start_time": "2022-03-29T07:28:12.632Z"
   },
   {
    "duration": 7,
    "start_time": "2022-03-29T07:29:15.087Z"
   },
   {
    "duration": 478,
    "start_time": "2022-03-29T07:50:24.589Z"
   },
   {
    "duration": 4,
    "start_time": "2022-03-29T07:50:25.671Z"
   },
   {
    "duration": 95,
    "start_time": "2022-03-29T07:50:26.416Z"
   },
   {
    "duration": 12,
    "start_time": "2022-03-29T07:50:33.367Z"
   },
   {
    "duration": 481,
    "start_time": "2022-03-29T07:50:59.295Z"
   },
   {
    "duration": 16,
    "start_time": "2022-03-29T07:50:59.779Z"
   },
   {
    "duration": 110,
    "start_time": "2022-03-29T07:50:59.797Z"
   },
   {
    "duration": 13,
    "start_time": "2022-03-29T07:50:59.967Z"
   },
   {
    "duration": 20,
    "start_time": "2022-03-29T07:51:01.487Z"
   },
   {
    "duration": 236,
    "start_time": "2022-03-29T07:55:08.699Z"
   },
   {
    "duration": 8,
    "start_time": "2022-03-29T08:01:03.957Z"
   },
   {
    "duration": 404,
    "start_time": "2022-03-29T08:01:05.000Z"
   },
   {
    "duration": 8,
    "start_time": "2022-03-29T08:01:24.552Z"
   },
   {
    "duration": 664,
    "start_time": "2022-03-29T08:01:25.064Z"
   },
   {
    "duration": 8,
    "start_time": "2022-03-29T08:01:46.982Z"
   },
   {
    "duration": 8,
    "start_time": "2022-03-29T08:01:49.223Z"
   },
   {
    "duration": 614,
    "start_time": "2022-03-29T08:01:49.638Z"
   },
   {
    "duration": 10,
    "start_time": "2022-03-29T08:02:07.807Z"
   },
   {
    "duration": 10,
    "start_time": "2022-03-29T08:02:09.399Z"
   },
   {
    "duration": 507,
    "start_time": "2022-03-29T08:02:09.895Z"
   },
   {
    "duration": 461,
    "start_time": "2022-03-29T08:02:14.847Z"
   },
   {
    "duration": 467,
    "start_time": "2022-03-29T08:02:18.630Z"
   },
   {
    "duration": 1463,
    "start_time": "2022-03-29T08:31:33.218Z"
   },
   {
    "duration": 453,
    "start_time": "2022-03-29T08:31:34.683Z"
   },
   {
    "duration": 4,
    "start_time": "2022-03-29T08:31:35.141Z"
   },
   {
    "duration": 92,
    "start_time": "2022-03-29T08:31:35.148Z"
   },
   {
    "duration": 11,
    "start_time": "2022-03-29T08:31:35.243Z"
   },
   {
    "duration": 16,
    "start_time": "2022-03-29T08:31:35.256Z"
   },
   {
    "duration": 10,
    "start_time": "2022-03-29T08:31:35.274Z"
   },
   {
    "duration": 49,
    "start_time": "2022-03-29T08:31:35.286Z"
   },
   {
    "duration": 50,
    "start_time": "2022-03-29T08:31:35.339Z"
   },
   {
    "duration": 13,
    "start_time": "2022-03-29T08:31:35.392Z"
   },
   {
    "duration": 50,
    "start_time": "2022-03-29T08:31:35.407Z"
   },
   {
    "duration": 10,
    "start_time": "2022-03-29T08:31:35.459Z"
   },
   {
    "duration": 27,
    "start_time": "2022-03-29T08:31:35.471Z"
   },
   {
    "duration": 11,
    "start_time": "2022-03-29T08:31:35.499Z"
   },
   {
    "duration": 43,
    "start_time": "2022-03-29T08:31:35.512Z"
   },
   {
    "duration": 9,
    "start_time": "2022-03-29T08:31:35.557Z"
   },
   {
    "duration": 9,
    "start_time": "2022-03-29T08:31:35.567Z"
   },
   {
    "duration": 222,
    "start_time": "2022-03-29T08:31:35.578Z"
   },
   {
    "duration": 5,
    "start_time": "2022-03-29T08:31:35.801Z"
   },
   {
    "duration": 34,
    "start_time": "2022-03-29T08:31:35.808Z"
   },
   {
    "duration": 221,
    "start_time": "2022-03-29T08:31:35.845Z"
   },
   {
    "duration": 208,
    "start_time": "2022-03-29T08:31:36.068Z"
   },
   {
    "duration": 12,
    "start_time": "2022-03-29T08:31:36.279Z"
   },
   {
    "duration": 190,
    "start_time": "2022-03-29T08:31:36.293Z"
   },
   {
    "duration": 13,
    "start_time": "2022-03-29T08:31:36.485Z"
   },
   {
    "duration": 39,
    "start_time": "2022-03-29T08:31:36.500Z"
   },
   {
    "duration": 7,
    "start_time": "2022-03-29T08:31:36.541Z"
   },
   {
    "duration": 773,
    "start_time": "2022-03-29T08:31:36.552Z"
   },
   {
    "duration": 170,
    "start_time": "2022-03-29T08:31:37.327Z"
   },
   {
    "duration": 52,
    "start_time": "2022-03-29T08:31:37.498Z"
   },
   {
    "duration": 188,
    "start_time": "2022-03-29T08:31:37.552Z"
   },
   {
    "duration": 209,
    "start_time": "2022-03-29T08:31:37.743Z"
   },
   {
    "duration": 36,
    "start_time": "2022-03-29T08:31:37.953Z"
   },
   {
    "duration": 4,
    "start_time": "2022-03-29T08:31:37.991Z"
   },
   {
    "duration": 88,
    "start_time": "2022-03-29T08:31:37.997Z"
   },
   {
    "duration": 33,
    "start_time": "2022-03-29T08:31:38.086Z"
   },
   {
    "duration": 35,
    "start_time": "2022-03-29T08:31:38.133Z"
   },
   {
    "duration": 17,
    "start_time": "2022-03-29T08:31:38.170Z"
   },
   {
    "duration": 71,
    "start_time": "2022-03-29T08:31:38.189Z"
   },
   {
    "duration": 3,
    "start_time": "2022-03-29T08:31:38.262Z"
   },
   {
    "duration": 16,
    "start_time": "2022-03-29T08:31:38.267Z"
   },
   {
    "duration": 7,
    "start_time": "2022-03-29T08:31:38.285Z"
   },
   {
    "duration": 5,
    "start_time": "2022-03-29T08:31:38.294Z"
   },
   {
    "duration": 42,
    "start_time": "2022-03-29T08:31:38.300Z"
   },
   {
    "duration": 9,
    "start_time": "2022-03-29T08:31:38.345Z"
   },
   {
    "duration": 116,
    "start_time": "2022-03-29T08:31:38.356Z"
   },
   {
    "duration": 36,
    "start_time": "2022-03-29T08:31:38.474Z"
   },
   {
    "duration": 31,
    "start_time": "2022-03-29T08:31:38.512Z"
   },
   {
    "duration": 141,
    "start_time": "2022-03-29T08:31:38.546Z"
   },
   {
    "duration": 810,
    "start_time": "2022-03-29T08:31:38.689Z"
   },
   {
    "duration": 6,
    "start_time": "2022-03-29T08:31:39.500Z"
   },
   {
    "duration": 399,
    "start_time": "2022-03-29T08:31:39.508Z"
   },
   {
    "duration": 391,
    "start_time": "2022-03-29T08:31:39.908Z"
   },
   {
    "duration": 500,
    "start_time": "2022-03-29T08:31:40.301Z"
   },
   {
    "duration": 84,
    "start_time": "2022-03-29T08:31:40.803Z"
   },
   {
    "duration": 24,
    "start_time": "2022-03-29T08:31:40.889Z"
   },
   {
    "duration": 26,
    "start_time": "2022-03-29T08:31:40.915Z"
   },
   {
    "duration": 128,
    "start_time": "2022-03-29T08:31:40.944Z"
   },
   {
    "duration": 0,
    "start_time": "2022-03-29T08:31:41.074Z"
   },
   {
    "duration": 0,
    "start_time": "2022-03-29T08:31:41.075Z"
   },
   {
    "duration": 0,
    "start_time": "2022-03-29T08:31:41.075Z"
   },
   {
    "duration": 0,
    "start_time": "2022-03-29T08:31:41.076Z"
   },
   {
    "duration": 1,
    "start_time": "2022-03-29T08:31:41.077Z"
   },
   {
    "duration": 0,
    "start_time": "2022-03-29T08:31:41.079Z"
   },
   {
    "duration": 0,
    "start_time": "2022-03-29T08:31:41.080Z"
   },
   {
    "duration": 0,
    "start_time": "2022-03-29T08:31:41.081Z"
   },
   {
    "duration": 4,
    "start_time": "2022-03-29T09:27:18.288Z"
   },
   {
    "duration": 1261,
    "start_time": "2022-03-29T09:32:24.603Z"
   },
   {
    "duration": 478,
    "start_time": "2022-03-29T09:32:25.866Z"
   },
   {
    "duration": 4,
    "start_time": "2022-03-29T09:32:26.347Z"
   },
   {
    "duration": 113,
    "start_time": "2022-03-29T09:32:26.353Z"
   },
   {
    "duration": 10,
    "start_time": "2022-03-29T09:32:26.467Z"
   },
   {
    "duration": 40,
    "start_time": "2022-03-29T09:32:26.478Z"
   },
   {
    "duration": 40,
    "start_time": "2022-03-29T09:32:26.520Z"
   },
   {
    "duration": 32,
    "start_time": "2022-03-29T09:32:26.562Z"
   },
   {
    "duration": 70,
    "start_time": "2022-03-29T09:32:26.595Z"
   },
   {
    "duration": 19,
    "start_time": "2022-03-29T09:32:26.668Z"
   },
   {
    "duration": 50,
    "start_time": "2022-03-29T09:32:26.689Z"
   },
   {
    "duration": 23,
    "start_time": "2022-03-29T09:32:26.742Z"
   },
   {
    "duration": 50,
    "start_time": "2022-03-29T09:32:26.766Z"
   },
   {
    "duration": 8,
    "start_time": "2022-03-29T09:32:26.818Z"
   },
   {
    "duration": 55,
    "start_time": "2022-03-29T09:32:26.827Z"
   },
   {
    "duration": 23,
    "start_time": "2022-03-29T09:32:26.883Z"
   },
   {
    "duration": 44,
    "start_time": "2022-03-29T09:32:26.908Z"
   },
   {
    "duration": 230,
    "start_time": "2022-03-29T09:32:26.954Z"
   },
   {
    "duration": 6,
    "start_time": "2022-03-29T09:32:27.186Z"
   },
   {
    "duration": 43,
    "start_time": "2022-03-29T09:32:27.193Z"
   },
   {
    "duration": 199,
    "start_time": "2022-03-29T09:32:27.238Z"
   },
   {
    "duration": 202,
    "start_time": "2022-03-29T09:32:27.440Z"
   },
   {
    "duration": 13,
    "start_time": "2022-03-29T09:32:27.645Z"
   },
   {
    "duration": 210,
    "start_time": "2022-03-29T09:32:27.659Z"
   },
   {
    "duration": 12,
    "start_time": "2022-03-29T09:32:27.871Z"
   },
   {
    "duration": 29,
    "start_time": "2022-03-29T09:32:27.885Z"
   },
   {
    "duration": 19,
    "start_time": "2022-03-29T09:32:27.916Z"
   },
   {
    "duration": 929,
    "start_time": "2022-03-29T09:32:27.941Z"
   },
   {
    "duration": 193,
    "start_time": "2022-03-29T09:32:28.872Z"
   },
   {
    "duration": 47,
    "start_time": "2022-03-29T09:32:29.066Z"
   },
   {
    "duration": 220,
    "start_time": "2022-03-29T09:32:29.115Z"
   },
   {
    "duration": 196,
    "start_time": "2022-03-29T09:32:29.338Z"
   },
   {
    "duration": 39,
    "start_time": "2022-03-29T09:32:29.537Z"
   },
   {
    "duration": 6,
    "start_time": "2022-03-29T09:32:29.578Z"
   },
   {
    "duration": 91,
    "start_time": "2022-03-29T09:32:29.586Z"
   },
   {
    "duration": 35,
    "start_time": "2022-03-29T09:32:29.680Z"
   },
   {
    "duration": 41,
    "start_time": "2022-03-29T09:32:29.731Z"
   },
   {
    "duration": 20,
    "start_time": "2022-03-29T09:32:29.774Z"
   },
   {
    "duration": 63,
    "start_time": "2022-03-29T09:32:29.796Z"
   },
   {
    "duration": 4,
    "start_time": "2022-03-29T09:32:29.860Z"
   },
   {
    "duration": 33,
    "start_time": "2022-03-29T09:32:29.865Z"
   },
   {
    "duration": 21,
    "start_time": "2022-03-29T09:32:29.899Z"
   },
   {
    "duration": 20,
    "start_time": "2022-03-29T09:32:29.922Z"
   },
   {
    "duration": 22,
    "start_time": "2022-03-29T09:32:29.944Z"
   },
   {
    "duration": 26,
    "start_time": "2022-03-29T09:32:29.968Z"
   },
   {
    "duration": 148,
    "start_time": "2022-03-29T09:32:29.995Z"
   },
   {
    "duration": 39,
    "start_time": "2022-03-29T09:32:30.145Z"
   },
   {
    "duration": 12,
    "start_time": "2022-03-29T09:32:30.186Z"
   },
   {
    "duration": 168,
    "start_time": "2022-03-29T09:32:30.200Z"
   },
   {
    "duration": 751,
    "start_time": "2022-03-29T09:32:30.370Z"
   },
   {
    "duration": 6,
    "start_time": "2022-03-29T09:32:31.131Z"
   },
   {
    "duration": 446,
    "start_time": "2022-03-29T09:32:31.139Z"
   },
   {
    "duration": 383,
    "start_time": "2022-03-29T09:32:31.588Z"
   },
   {
    "duration": 459,
    "start_time": "2022-03-29T09:32:31.973Z"
   },
   {
    "duration": 68,
    "start_time": "2022-03-29T09:32:32.434Z"
   },
   {
    "duration": 45,
    "start_time": "2022-03-29T09:32:32.504Z"
   },
   {
    "duration": 17,
    "start_time": "2022-03-29T09:32:32.552Z"
   },
   {
    "duration": 31,
    "start_time": "2022-03-29T09:32:32.571Z"
   },
   {
    "duration": 29,
    "start_time": "2022-03-29T09:32:32.604Z"
   },
   {
    "duration": 33,
    "start_time": "2022-03-29T09:32:32.635Z"
   },
   {
    "duration": 1200,
    "start_time": "2022-03-29T09:32:32.670Z"
   },
   {
    "duration": 23,
    "start_time": "2022-03-29T09:32:33.872Z"
   },
   {
    "duration": 202,
    "start_time": "2022-03-29T09:32:33.896Z"
   },
   {
    "duration": 200,
    "start_time": "2022-03-29T09:32:34.100Z"
   },
   {
    "duration": 192,
    "start_time": "2022-03-29T09:32:34.301Z"
   },
   {
    "duration": 42,
    "start_time": "2022-03-29T09:32:34.494Z"
   },
   {
    "duration": 5,
    "start_time": "2022-03-29T09:36:30.052Z"
   },
   {
    "duration": 117,
    "start_time": "2022-03-29T09:36:41.462Z"
   },
   {
    "duration": 7,
    "start_time": "2022-03-29T09:36:56.318Z"
   },
   {
    "duration": 7,
    "start_time": "2022-03-29T09:37:44.181Z"
   },
   {
    "duration": 188,
    "start_time": "2022-03-29T09:39:59.245Z"
   },
   {
    "duration": 6,
    "start_time": "2022-03-29T09:40:06.692Z"
   },
   {
    "duration": 6,
    "start_time": "2022-03-29T09:40:17.947Z"
   },
   {
    "duration": 5,
    "start_time": "2022-03-29T09:40:35.004Z"
   },
   {
    "duration": 6,
    "start_time": "2022-03-29T09:40:49.115Z"
   },
   {
    "duration": 8,
    "start_time": "2022-03-29T09:41:09.356Z"
   },
   {
    "duration": 6,
    "start_time": "2022-03-29T09:42:14.375Z"
   },
   {
    "duration": 4,
    "start_time": "2022-03-29T09:43:00.114Z"
   },
   {
    "duration": 7,
    "start_time": "2022-03-29T09:43:20.601Z"
   },
   {
    "duration": 6,
    "start_time": "2022-03-29T09:43:25.345Z"
   },
   {
    "duration": 4,
    "start_time": "2022-03-29T09:46:56.795Z"
   },
   {
    "duration": 36,
    "start_time": "2022-03-29T09:47:27.644Z"
   },
   {
    "duration": 13,
    "start_time": "2022-03-29T09:47:42.373Z"
   },
   {
    "duration": 16,
    "start_time": "2022-03-29T09:48:07.045Z"
   },
   {
    "duration": 22,
    "start_time": "2022-03-29T09:48:26.245Z"
   },
   {
    "duration": 24,
    "start_time": "2022-03-29T09:50:12.987Z"
   },
   {
    "duration": 17,
    "start_time": "2022-03-29T09:50:35.996Z"
   },
   {
    "duration": 28,
    "start_time": "2022-03-29T09:50:48.516Z"
   },
   {
    "duration": 20,
    "start_time": "2022-03-29T09:51:16.370Z"
   },
   {
    "duration": 2,
    "start_time": "2022-03-29T09:52:16.986Z"
   },
   {
    "duration": 191,
    "start_time": "2022-03-29T09:52:28.409Z"
   },
   {
    "duration": 12,
    "start_time": "2022-03-29T09:52:54.698Z"
   },
   {
    "duration": 166,
    "start_time": "2022-03-29T09:53:43.922Z"
   },
   {
    "duration": 167,
    "start_time": "2022-03-29T09:53:54.473Z"
   },
   {
    "duration": 46,
    "start_time": "2022-03-29T10:13:54.131Z"
   },
   {
    "duration": 1283,
    "start_time": "2022-03-29T10:14:02.136Z"
   },
   {
    "duration": 371,
    "start_time": "2022-03-29T10:14:03.421Z"
   },
   {
    "duration": 2,
    "start_time": "2022-03-29T10:14:03.794Z"
   },
   {
    "duration": 80,
    "start_time": "2022-03-29T10:14:03.798Z"
   },
   {
    "duration": 9,
    "start_time": "2022-03-29T10:14:03.881Z"
   },
   {
    "duration": 38,
    "start_time": "2022-03-29T10:14:03.891Z"
   },
   {
    "duration": 9,
    "start_time": "2022-03-29T10:14:03.930Z"
   },
   {
    "duration": 12,
    "start_time": "2022-03-29T10:14:03.940Z"
   },
   {
    "duration": 36,
    "start_time": "2022-03-29T10:14:03.954Z"
   },
   {
    "duration": 36,
    "start_time": "2022-03-29T10:14:03.992Z"
   },
   {
    "duration": 24,
    "start_time": "2022-03-29T10:14:04.030Z"
   },
   {
    "duration": 9,
    "start_time": "2022-03-29T10:14:04.056Z"
   },
   {
    "duration": 45,
    "start_time": "2022-03-29T10:14:04.066Z"
   },
   {
    "duration": 11,
    "start_time": "2022-03-29T10:14:04.114Z"
   },
   {
    "duration": 14,
    "start_time": "2022-03-29T10:14:04.127Z"
   },
   {
    "duration": 14,
    "start_time": "2022-03-29T10:14:04.143Z"
   },
   {
    "duration": 9,
    "start_time": "2022-03-29T10:14:04.158Z"
   },
   {
    "duration": 207,
    "start_time": "2022-03-29T10:14:04.168Z"
   },
   {
    "duration": 5,
    "start_time": "2022-03-29T10:14:04.376Z"
   },
   {
    "duration": 17,
    "start_time": "2022-03-29T10:14:04.383Z"
   },
   {
    "duration": 193,
    "start_time": "2022-03-29T10:14:04.402Z"
   },
   {
    "duration": 246,
    "start_time": "2022-03-29T10:14:04.597Z"
   },
   {
    "duration": 13,
    "start_time": "2022-03-29T10:14:04.844Z"
   },
   {
    "duration": 184,
    "start_time": "2022-03-29T10:14:04.859Z"
   },
   {
    "duration": 11,
    "start_time": "2022-03-29T10:14:05.045Z"
   },
   {
    "duration": 18,
    "start_time": "2022-03-29T10:14:05.057Z"
   },
   {
    "duration": 7,
    "start_time": "2022-03-29T10:14:05.077Z"
   },
   {
    "duration": 1032,
    "start_time": "2022-03-29T10:14:05.088Z"
   },
   {
    "duration": 154,
    "start_time": "2022-03-29T10:14:06.123Z"
   },
   {
    "duration": 52,
    "start_time": "2022-03-29T10:14:06.278Z"
   },
   {
    "duration": 168,
    "start_time": "2022-03-29T10:14:06.331Z"
   },
   {
    "duration": 185,
    "start_time": "2022-03-29T10:14:06.500Z"
   },
   {
    "duration": 47,
    "start_time": "2022-03-29T10:14:06.686Z"
   },
   {
    "duration": 4,
    "start_time": "2022-03-29T10:14:06.735Z"
   },
   {
    "duration": 55,
    "start_time": "2022-03-29T10:14:06.740Z"
   },
   {
    "duration": 37,
    "start_time": "2022-03-29T10:14:06.809Z"
   },
   {
    "duration": 29,
    "start_time": "2022-03-29T10:14:06.847Z"
   },
   {
    "duration": 50,
    "start_time": "2022-03-29T10:14:06.878Z"
   },
   {
    "duration": 36,
    "start_time": "2022-03-29T10:14:06.930Z"
   },
   {
    "duration": 4,
    "start_time": "2022-03-29T10:14:06.968Z"
   },
   {
    "duration": 42,
    "start_time": "2022-03-29T10:14:06.973Z"
   },
   {
    "duration": 9,
    "start_time": "2022-03-29T10:14:07.020Z"
   },
   {
    "duration": 5,
    "start_time": "2022-03-29T10:14:07.032Z"
   },
   {
    "duration": 8,
    "start_time": "2022-03-29T10:14:07.039Z"
   },
   {
    "duration": 5,
    "start_time": "2022-03-29T10:14:07.048Z"
   },
   {
    "duration": 120,
    "start_time": "2022-03-29T10:14:07.055Z"
   },
   {
    "duration": 42,
    "start_time": "2022-03-29T10:14:07.177Z"
   },
   {
    "duration": 14,
    "start_time": "2022-03-29T10:14:07.221Z"
   },
   {
    "duration": 150,
    "start_time": "2022-03-29T10:14:07.237Z"
   },
   {
    "duration": 739,
    "start_time": "2022-03-29T10:14:07.389Z"
   },
   {
    "duration": 5,
    "start_time": "2022-03-29T10:14:08.130Z"
   },
   {
    "duration": 393,
    "start_time": "2022-03-29T10:14:08.136Z"
   },
   {
    "duration": 362,
    "start_time": "2022-03-29T10:14:08.531Z"
   },
   {
    "duration": 466,
    "start_time": "2022-03-29T10:14:08.895Z"
   },
   {
    "duration": 79,
    "start_time": "2022-03-29T10:14:09.363Z"
   },
   {
    "duration": 23,
    "start_time": "2022-03-29T10:14:09.444Z"
   },
   {
    "duration": 7,
    "start_time": "2022-03-29T10:14:09.469Z"
   },
   {
    "duration": 6,
    "start_time": "2022-03-29T10:14:09.477Z"
   },
   {
    "duration": 43,
    "start_time": "2022-03-29T10:14:09.485Z"
   },
   {
    "duration": 2,
    "start_time": "2022-03-29T10:14:09.530Z"
   },
   {
    "duration": 35,
    "start_time": "2022-03-29T10:14:09.534Z"
   },
   {
    "duration": 6,
    "start_time": "2022-03-29T10:14:09.570Z"
   },
   {
    "duration": 51,
    "start_time": "2022-03-29T10:14:09.577Z"
   },
   {
    "duration": 3,
    "start_time": "2022-03-29T10:14:09.631Z"
   },
   {
    "duration": 1136,
    "start_time": "2022-03-29T10:14:09.636Z"
   },
   {
    "duration": 23,
    "start_time": "2022-03-29T10:14:10.774Z"
   },
   {
    "duration": 190,
    "start_time": "2022-03-29T10:14:10.809Z"
   },
   {
    "duration": 194,
    "start_time": "2022-03-29T10:14:11.001Z"
   },
   {
    "duration": 191,
    "start_time": "2022-03-29T10:14:11.197Z"
   },
   {
    "duration": 37,
    "start_time": "2022-03-29T10:14:11.389Z"
   },
   {
    "duration": 7,
    "start_time": "2022-03-29T10:14:27.740Z"
   },
   {
    "duration": 8,
    "start_time": "2022-03-29T10:17:38.779Z"
   },
   {
    "duration": 5,
    "start_time": "2022-03-29T10:17:46.723Z"
   },
   {
    "duration": 98,
    "start_time": "2022-03-29T10:18:23.116Z"
   },
   {
    "duration": 5,
    "start_time": "2022-03-29T10:18:27.850Z"
   },
   {
    "duration": 18,
    "start_time": "2022-03-29T10:19:19.786Z"
   },
   {
    "duration": 12,
    "start_time": "2022-03-29T10:19:25.562Z"
   },
   {
    "duration": 12,
    "start_time": "2022-03-29T10:19:43.946Z"
   },
   {
    "duration": 14,
    "start_time": "2022-03-29T10:19:57.182Z"
   },
   {
    "duration": 19,
    "start_time": "2022-03-29T10:20:21.800Z"
   },
   {
    "duration": 11,
    "start_time": "2022-03-29T10:20:38.336Z"
   },
   {
    "duration": 131,
    "start_time": "2022-03-29T10:21:00.400Z"
   },
   {
    "duration": 10,
    "start_time": "2022-03-29T10:21:06.153Z"
   },
   {
    "duration": 10,
    "start_time": "2022-03-29T10:21:14.143Z"
   },
   {
    "duration": 6,
    "start_time": "2022-03-29T10:21:27.247Z"
   },
   {
    "duration": 6,
    "start_time": "2022-03-29T10:21:33.759Z"
   },
   {
    "duration": 6,
    "start_time": "2022-03-29T10:21:39.408Z"
   },
   {
    "duration": 8,
    "start_time": "2022-03-29T10:22:41.438Z"
   },
   {
    "duration": 10,
    "start_time": "2022-03-29T10:23:17.678Z"
   },
   {
    "duration": 9,
    "start_time": "2022-03-29T10:23:22.102Z"
   },
   {
    "duration": 16,
    "start_time": "2022-03-29T10:24:06.990Z"
   },
   {
    "duration": 8,
    "start_time": "2022-03-29T10:25:16.725Z"
   },
   {
    "duration": 9,
    "start_time": "2022-03-29T10:25:24.444Z"
   },
   {
    "duration": 9,
    "start_time": "2022-03-29T10:25:41.036Z"
   },
   {
    "duration": 9,
    "start_time": "2022-03-29T10:26:03.684Z"
   },
   {
    "duration": 20,
    "start_time": "2022-03-29T10:26:26.779Z"
   },
   {
    "duration": 13,
    "start_time": "2022-03-29T10:26:36.148Z"
   },
   {
    "duration": 12,
    "start_time": "2022-03-29T10:26:41.260Z"
   },
   {
    "duration": 13,
    "start_time": "2022-03-29T10:26:54.812Z"
   },
   {
    "duration": 9,
    "start_time": "2022-03-29T10:28:37.753Z"
   },
   {
    "duration": 9,
    "start_time": "2022-03-29T10:29:15.641Z"
   },
   {
    "duration": 8,
    "start_time": "2022-03-29T10:33:32.606Z"
   },
   {
    "duration": 7,
    "start_time": "2022-03-29T10:33:48.261Z"
   },
   {
    "duration": 8,
    "start_time": "2022-03-29T10:33:50.206Z"
   },
   {
    "duration": 1154,
    "start_time": "2022-03-29T10:34:06.991Z"
   },
   {
    "duration": 364,
    "start_time": "2022-03-29T10:34:08.147Z"
   },
   {
    "duration": 3,
    "start_time": "2022-03-29T10:34:08.513Z"
   },
   {
    "duration": 71,
    "start_time": "2022-03-29T10:34:08.518Z"
   },
   {
    "duration": 22,
    "start_time": "2022-03-29T10:34:08.590Z"
   },
   {
    "duration": 16,
    "start_time": "2022-03-29T10:34:08.613Z"
   },
   {
    "duration": 8,
    "start_time": "2022-03-29T10:34:08.631Z"
   },
   {
    "duration": 12,
    "start_time": "2022-03-29T10:34:08.641Z"
   },
   {
    "duration": 63,
    "start_time": "2022-03-29T10:34:08.654Z"
   },
   {
    "duration": 12,
    "start_time": "2022-03-29T10:34:08.719Z"
   },
   {
    "duration": 29,
    "start_time": "2022-03-29T10:34:08.732Z"
   },
   {
    "duration": 9,
    "start_time": "2022-03-29T10:34:08.762Z"
   },
   {
    "duration": 47,
    "start_time": "2022-03-29T10:34:08.773Z"
   },
   {
    "duration": 8,
    "start_time": "2022-03-29T10:34:08.821Z"
   },
   {
    "duration": 14,
    "start_time": "2022-03-29T10:34:08.830Z"
   },
   {
    "duration": 7,
    "start_time": "2022-03-29T10:34:08.845Z"
   },
   {
    "duration": 7,
    "start_time": "2022-03-29T10:34:08.854Z"
   },
   {
    "duration": 209,
    "start_time": "2022-03-29T10:34:08.863Z"
   },
   {
    "duration": 5,
    "start_time": "2022-03-29T10:34:09.074Z"
   },
   {
    "duration": 29,
    "start_time": "2022-03-29T10:34:09.081Z"
   },
   {
    "duration": 414,
    "start_time": "2022-03-29T10:34:09.111Z"
   },
   {
    "duration": 183,
    "start_time": "2022-03-29T10:34:09.527Z"
   },
   {
    "duration": 12,
    "start_time": "2022-03-29T10:34:09.712Z"
   },
   {
    "duration": 169,
    "start_time": "2022-03-29T10:34:09.726Z"
   },
   {
    "duration": 15,
    "start_time": "2022-03-29T10:34:09.897Z"
   },
   {
    "duration": 18,
    "start_time": "2022-03-29T10:34:09.914Z"
   },
   {
    "duration": 7,
    "start_time": "2022-03-29T10:34:09.934Z"
   },
   {
    "duration": 731,
    "start_time": "2022-03-29T10:34:09.947Z"
   },
   {
    "duration": 145,
    "start_time": "2022-03-29T10:34:10.679Z"
   },
   {
    "duration": 38,
    "start_time": "2022-03-29T10:34:10.825Z"
   },
   {
    "duration": 164,
    "start_time": "2022-03-29T10:34:10.864Z"
   },
   {
    "duration": 163,
    "start_time": "2022-03-29T10:34:11.030Z"
   },
   {
    "duration": 41,
    "start_time": "2022-03-29T10:34:11.194Z"
   },
   {
    "duration": 4,
    "start_time": "2022-03-29T10:34:11.237Z"
   },
   {
    "duration": 67,
    "start_time": "2022-03-29T10:34:11.242Z"
   },
   {
    "duration": 29,
    "start_time": "2022-03-29T10:34:11.311Z"
   },
   {
    "duration": 25,
    "start_time": "2022-03-29T10:34:11.342Z"
   },
   {
    "duration": 16,
    "start_time": "2022-03-29T10:34:11.368Z"
   },
   {
    "duration": 34,
    "start_time": "2022-03-29T10:34:11.408Z"
   },
   {
    "duration": 3,
    "start_time": "2022-03-29T10:34:11.443Z"
   },
   {
    "duration": 15,
    "start_time": "2022-03-29T10:34:11.448Z"
   },
   {
    "duration": 5,
    "start_time": "2022-03-29T10:34:11.465Z"
   },
   {
    "duration": 4,
    "start_time": "2022-03-29T10:34:11.472Z"
   },
   {
    "duration": 37,
    "start_time": "2022-03-29T10:34:11.478Z"
   },
   {
    "duration": 5,
    "start_time": "2022-03-29T10:34:11.516Z"
   },
   {
    "duration": 106,
    "start_time": "2022-03-29T10:34:11.523Z"
   },
   {
    "duration": 31,
    "start_time": "2022-03-29T10:34:11.631Z"
   },
   {
    "duration": 10,
    "start_time": "2022-03-29T10:34:11.664Z"
   },
   {
    "duration": 123,
    "start_time": "2022-03-29T10:34:11.675Z"
   },
   {
    "duration": 647,
    "start_time": "2022-03-29T10:34:11.800Z"
   },
   {
    "duration": 6,
    "start_time": "2022-03-29T10:34:12.448Z"
   },
   {
    "duration": 395,
    "start_time": "2022-03-29T10:34:12.456Z"
   },
   {
    "duration": 364,
    "start_time": "2022-03-29T10:34:12.852Z"
   },
   {
    "duration": 422,
    "start_time": "2022-03-29T10:34:13.217Z"
   },
   {
    "duration": 72,
    "start_time": "2022-03-29T10:34:13.641Z"
   },
   {
    "duration": 25,
    "start_time": "2022-03-29T10:34:13.714Z"
   },
   {
    "duration": 8,
    "start_time": "2022-03-29T10:34:13.740Z"
   },
   {
    "duration": 5,
    "start_time": "2022-03-29T10:34:13.750Z"
   },
   {
    "duration": 16,
    "start_time": "2022-03-29T10:34:13.757Z"
   },
   {
    "duration": 38,
    "start_time": "2022-03-29T10:34:13.775Z"
   },
   {
    "duration": 9,
    "start_time": "2022-03-29T10:34:13.815Z"
   },
   {
    "duration": 11,
    "start_time": "2022-03-29T10:34:13.825Z"
   },
   {
    "duration": 11,
    "start_time": "2022-03-29T10:34:13.838Z"
   },
   {
    "duration": 3,
    "start_time": "2022-03-29T10:34:13.851Z"
   },
   {
    "duration": 1168,
    "start_time": "2022-03-29T10:34:13.855Z"
   },
   {
    "duration": 23,
    "start_time": "2022-03-29T10:34:15.024Z"
   },
   {
    "duration": 188,
    "start_time": "2022-03-29T10:34:15.049Z"
   },
   {
    "duration": 183,
    "start_time": "2022-03-29T10:34:15.239Z"
   },
   {
    "duration": 178,
    "start_time": "2022-03-29T10:34:15.424Z"
   },
   {
    "duration": 30,
    "start_time": "2022-03-29T10:34:15.604Z"
   },
   {
    "duration": 152,
    "start_time": "2022-03-29T19:27:23.828Z"
   },
   {
    "duration": 49,
    "start_time": "2022-03-29T19:32:31.034Z"
   },
   {
    "duration": 1203,
    "start_time": "2022-03-29T19:32:35.182Z"
   },
   {
    "duration": 395,
    "start_time": "2022-03-29T19:32:36.387Z"
   },
   {
    "duration": 2,
    "start_time": "2022-03-29T19:32:36.784Z"
   },
   {
    "duration": 84,
    "start_time": "2022-03-29T19:32:36.788Z"
   },
   {
    "duration": 10,
    "start_time": "2022-03-29T19:32:36.874Z"
   },
   {
    "duration": 15,
    "start_time": "2022-03-29T19:32:36.886Z"
   },
   {
    "duration": 30,
    "start_time": "2022-03-29T19:32:36.903Z"
   },
   {
    "duration": 27,
    "start_time": "2022-03-29T19:32:36.936Z"
   },
   {
    "duration": 38,
    "start_time": "2022-03-29T19:32:36.965Z"
   },
   {
    "duration": 13,
    "start_time": "2022-03-29T19:32:37.005Z"
   },
   {
    "duration": 33,
    "start_time": "2022-03-29T19:32:37.034Z"
   },
   {
    "duration": 9,
    "start_time": "2022-03-29T19:32:37.068Z"
   },
   {
    "duration": 26,
    "start_time": "2022-03-29T19:32:37.079Z"
   },
   {
    "duration": 27,
    "start_time": "2022-03-29T19:32:37.108Z"
   },
   {
    "duration": 20,
    "start_time": "2022-03-29T19:32:37.138Z"
   },
   {
    "duration": 11,
    "start_time": "2022-03-29T19:32:37.159Z"
   },
   {
    "duration": 10,
    "start_time": "2022-03-29T19:32:37.171Z"
   },
   {
    "duration": 215,
    "start_time": "2022-03-29T19:32:37.182Z"
   },
   {
    "duration": 5,
    "start_time": "2022-03-29T19:32:37.398Z"
   },
   {
    "duration": 29,
    "start_time": "2022-03-29T19:32:37.406Z"
   },
   {
    "duration": 167,
    "start_time": "2022-03-29T19:32:37.438Z"
   },
   {
    "duration": 179,
    "start_time": "2022-03-29T19:32:37.607Z"
   },
   {
    "duration": 11,
    "start_time": "2022-03-29T19:32:37.788Z"
   },
   {
    "duration": 162,
    "start_time": "2022-03-29T19:32:37.801Z"
   },
   {
    "duration": 10,
    "start_time": "2022-03-29T19:32:37.964Z"
   },
   {
    "duration": 17,
    "start_time": "2022-03-29T19:32:37.976Z"
   },
   {
    "duration": 5,
    "start_time": "2022-03-29T19:32:37.995Z"
   },
   {
    "duration": 706,
    "start_time": "2022-03-29T19:32:38.002Z"
   },
   {
    "duration": 153,
    "start_time": "2022-03-29T19:32:38.710Z"
   },
   {
    "duration": 37,
    "start_time": "2022-03-29T19:32:38.864Z"
   },
   {
    "duration": 163,
    "start_time": "2022-03-29T19:32:38.903Z"
   },
   {
    "duration": 165,
    "start_time": "2022-03-29T19:32:39.068Z"
   },
   {
    "duration": 39,
    "start_time": "2022-03-29T19:32:39.237Z"
   },
   {
    "duration": 5,
    "start_time": "2022-03-29T19:32:39.277Z"
   },
   {
    "duration": 85,
    "start_time": "2022-03-29T19:32:39.284Z"
   },
   {
    "duration": 29,
    "start_time": "2022-03-29T19:32:39.371Z"
   },
   {
    "duration": 47,
    "start_time": "2022-03-29T19:32:39.402Z"
   },
   {
    "duration": 15,
    "start_time": "2022-03-29T19:32:39.451Z"
   },
   {
    "duration": 32,
    "start_time": "2022-03-29T19:32:39.467Z"
   },
   {
    "duration": 3,
    "start_time": "2022-03-29T19:32:39.500Z"
   },
   {
    "duration": 39,
    "start_time": "2022-03-29T19:32:39.508Z"
   },
   {
    "duration": 6,
    "start_time": "2022-03-29T19:32:39.549Z"
   },
   {
    "duration": 5,
    "start_time": "2022-03-29T19:32:39.557Z"
   },
   {
    "duration": 9,
    "start_time": "2022-03-29T19:32:39.563Z"
   },
   {
    "duration": 6,
    "start_time": "2022-03-29T19:32:39.573Z"
   },
   {
    "duration": 122,
    "start_time": "2022-03-29T19:32:39.581Z"
   },
   {
    "duration": 43,
    "start_time": "2022-03-29T19:32:39.705Z"
   },
   {
    "duration": 5,
    "start_time": "2022-03-29T19:32:39.749Z"
   },
   {
    "duration": 13,
    "start_time": "2022-03-29T19:32:39.757Z"
   },
   {
    "duration": 125,
    "start_time": "2022-03-29T19:32:39.772Z"
   },
   {
    "duration": 664,
    "start_time": "2022-03-29T19:32:39.899Z"
   },
   {
    "duration": 5,
    "start_time": "2022-03-29T19:32:40.565Z"
   },
   {
    "duration": 389,
    "start_time": "2022-03-29T19:32:40.571Z"
   },
   {
    "duration": 320,
    "start_time": "2022-03-29T19:32:40.961Z"
   },
   {
    "duration": 418,
    "start_time": "2022-03-29T19:32:41.283Z"
   },
   {
    "duration": 69,
    "start_time": "2022-03-29T19:32:41.703Z"
   },
   {
    "duration": 23,
    "start_time": "2022-03-29T19:32:41.773Z"
   },
   {
    "duration": 11,
    "start_time": "2022-03-29T19:32:41.798Z"
   },
   {
    "duration": 26,
    "start_time": "2022-03-29T19:32:41.811Z"
   },
   {
    "duration": 27,
    "start_time": "2022-03-29T19:32:41.839Z"
   },
   {
    "duration": 7,
    "start_time": "2022-03-29T19:32:41.868Z"
   },
   {
    "duration": 8,
    "start_time": "2022-03-29T19:32:41.877Z"
   },
   {
    "duration": 10,
    "start_time": "2022-03-29T19:32:41.887Z"
   },
   {
    "duration": 44,
    "start_time": "2022-03-29T19:32:41.899Z"
   },
   {
    "duration": 8,
    "start_time": "2022-03-29T19:32:41.946Z"
   },
   {
    "duration": 1099,
    "start_time": "2022-03-29T19:32:41.956Z"
   },
   {
    "duration": 22,
    "start_time": "2022-03-29T19:32:43.057Z"
   },
   {
    "duration": 189,
    "start_time": "2022-03-29T19:32:43.080Z"
   },
   {
    "duration": 184,
    "start_time": "2022-03-29T19:32:43.270Z"
   },
   {
    "duration": 181,
    "start_time": "2022-03-29T19:32:43.456Z"
   },
   {
    "duration": 32,
    "start_time": "2022-03-29T19:32:43.640Z"
   },
   {
    "duration": 31,
    "start_time": "2022-03-29T19:35:08.345Z"
   },
   {
    "duration": 8,
    "start_time": "2022-03-29T19:36:01.010Z"
   },
   {
    "duration": 7,
    "start_time": "2022-03-29T19:36:52.988Z"
   },
   {
    "duration": 119,
    "start_time": "2022-03-29T19:36:58.813Z"
   },
   {
    "duration": 125,
    "start_time": "2022-03-29T19:38:32.455Z"
   },
   {
    "duration": 1185,
    "start_time": "2022-03-29T19:43:26.851Z"
   },
   {
    "duration": 385,
    "start_time": "2022-03-29T19:43:28.038Z"
   },
   {
    "duration": 3,
    "start_time": "2022-03-29T19:43:28.424Z"
   },
   {
    "duration": 78,
    "start_time": "2022-03-29T19:43:28.429Z"
   },
   {
    "duration": 8,
    "start_time": "2022-03-29T19:43:28.509Z"
   },
   {
    "duration": 28,
    "start_time": "2022-03-29T19:43:28.519Z"
   },
   {
    "duration": 9,
    "start_time": "2022-03-29T19:43:28.549Z"
   },
   {
    "duration": 16,
    "start_time": "2022-03-29T19:43:28.560Z"
   },
   {
    "duration": 57,
    "start_time": "2022-03-29T19:43:28.578Z"
   },
   {
    "duration": 13,
    "start_time": "2022-03-29T19:43:28.638Z"
   },
   {
    "duration": 31,
    "start_time": "2022-03-29T19:43:28.653Z"
   },
   {
    "duration": 10,
    "start_time": "2022-03-29T19:43:28.686Z"
   },
   {
    "duration": 42,
    "start_time": "2022-03-29T19:43:28.698Z"
   },
   {
    "duration": 8,
    "start_time": "2022-03-29T19:43:28.742Z"
   },
   {
    "duration": 16,
    "start_time": "2022-03-29T19:43:28.752Z"
   },
   {
    "duration": 6,
    "start_time": "2022-03-29T19:43:28.769Z"
   },
   {
    "duration": 7,
    "start_time": "2022-03-29T19:43:28.777Z"
   },
   {
    "duration": 210,
    "start_time": "2022-03-29T19:43:28.786Z"
   },
   {
    "duration": 5,
    "start_time": "2022-03-29T19:43:28.998Z"
   },
   {
    "duration": 15,
    "start_time": "2022-03-29T19:43:29.004Z"
   },
   {
    "duration": 166,
    "start_time": "2022-03-29T19:43:29.021Z"
   },
   {
    "duration": 173,
    "start_time": "2022-03-29T19:43:29.189Z"
   },
   {
    "duration": 13,
    "start_time": "2022-03-29T19:43:29.363Z"
   },
   {
    "duration": 159,
    "start_time": "2022-03-29T19:43:29.377Z"
   },
   {
    "duration": 10,
    "start_time": "2022-03-29T19:43:29.538Z"
   },
   {
    "duration": 16,
    "start_time": "2022-03-29T19:43:29.550Z"
   },
   {
    "duration": 6,
    "start_time": "2022-03-29T19:43:29.568Z"
   },
   {
    "duration": 693,
    "start_time": "2022-03-29T19:43:29.578Z"
   },
   {
    "duration": 150,
    "start_time": "2022-03-29T19:43:30.273Z"
   },
   {
    "duration": 44,
    "start_time": "2022-03-29T19:43:30.425Z"
   },
   {
    "duration": 163,
    "start_time": "2022-03-29T19:43:30.471Z"
   },
   {
    "duration": 162,
    "start_time": "2022-03-29T19:43:30.636Z"
   },
   {
    "duration": 43,
    "start_time": "2022-03-29T19:43:30.800Z"
   },
   {
    "duration": 5,
    "start_time": "2022-03-29T19:43:30.845Z"
   },
   {
    "duration": 92,
    "start_time": "2022-03-29T19:43:30.852Z"
   },
   {
    "duration": 32,
    "start_time": "2022-03-29T19:43:30.945Z"
   },
   {
    "duration": 28,
    "start_time": "2022-03-29T19:43:30.979Z"
   },
   {
    "duration": 38,
    "start_time": "2022-03-29T19:43:31.009Z"
   },
   {
    "duration": 35,
    "start_time": "2022-03-29T19:43:31.049Z"
   },
   {
    "duration": 3,
    "start_time": "2022-03-29T19:43:31.086Z"
   },
   {
    "duration": 43,
    "start_time": "2022-03-29T19:43:31.090Z"
   },
   {
    "duration": 6,
    "start_time": "2022-03-29T19:43:31.135Z"
   },
   {
    "duration": 25,
    "start_time": "2022-03-29T19:43:31.142Z"
   },
   {
    "duration": 21,
    "start_time": "2022-03-29T19:43:31.169Z"
   },
   {
    "duration": 21,
    "start_time": "2022-03-29T19:43:31.192Z"
   },
   {
    "duration": 110,
    "start_time": "2022-03-29T19:43:31.215Z"
   },
   {
    "duration": 31,
    "start_time": "2022-03-29T19:43:31.326Z"
   },
   {
    "duration": 5,
    "start_time": "2022-03-29T19:43:31.359Z"
   },
   {
    "duration": 12,
    "start_time": "2022-03-29T19:43:31.365Z"
   },
   {
    "duration": 114,
    "start_time": "2022-03-29T19:43:31.379Z"
   },
   {
    "duration": 673,
    "start_time": "2022-03-29T19:43:31.495Z"
   },
   {
    "duration": 6,
    "start_time": "2022-03-29T19:43:32.169Z"
   },
   {
    "duration": 378,
    "start_time": "2022-03-29T19:43:32.176Z"
   },
   {
    "duration": 315,
    "start_time": "2022-03-29T19:43:32.556Z"
   },
   {
    "duration": 407,
    "start_time": "2022-03-29T19:43:32.872Z"
   },
   {
    "duration": 68,
    "start_time": "2022-03-29T19:43:33.281Z"
   },
   {
    "duration": 24,
    "start_time": "2022-03-29T19:43:33.352Z"
   },
   {
    "duration": 9,
    "start_time": "2022-03-29T19:43:33.378Z"
   },
   {
    "duration": 9,
    "start_time": "2022-03-29T19:43:33.388Z"
   },
   {
    "duration": 48,
    "start_time": "2022-03-29T19:43:33.399Z"
   },
   {
    "duration": 6,
    "start_time": "2022-03-29T19:43:33.449Z"
   },
   {
    "duration": 8,
    "start_time": "2022-03-29T19:43:33.457Z"
   },
   {
    "duration": 8,
    "start_time": "2022-03-29T19:43:33.468Z"
   },
   {
    "duration": 9,
    "start_time": "2022-03-29T19:43:33.478Z"
   },
   {
    "duration": 48,
    "start_time": "2022-03-29T19:43:33.488Z"
   },
   {
    "duration": 2,
    "start_time": "2022-03-29T19:43:33.538Z"
   },
   {
    "duration": 1165,
    "start_time": "2022-03-29T19:43:33.542Z"
   },
   {
    "duration": 30,
    "start_time": "2022-03-29T19:43:34.709Z"
   },
   {
    "duration": 170,
    "start_time": "2022-03-29T19:43:34.740Z"
   },
   {
    "duration": 170,
    "start_time": "2022-03-29T19:43:34.912Z"
   },
   {
    "duration": 177,
    "start_time": "2022-03-29T19:43:35.084Z"
   },
   {
    "duration": 30,
    "start_time": "2022-03-29T19:43:35.263Z"
   },
   {
    "duration": 1404,
    "start_time": "2022-03-31T16:38:56.444Z"
   },
   {
    "duration": 429,
    "start_time": "2022-03-31T16:38:57.850Z"
   },
   {
    "duration": 2,
    "start_time": "2022-03-31T16:38:58.281Z"
   },
   {
    "duration": 71,
    "start_time": "2022-03-31T16:38:58.285Z"
   },
   {
    "duration": 24,
    "start_time": "2022-03-31T16:38:58.357Z"
   },
   {
    "duration": 14,
    "start_time": "2022-03-31T16:38:58.383Z"
   },
   {
    "duration": 8,
    "start_time": "2022-03-31T16:38:58.399Z"
   },
   {
    "duration": 13,
    "start_time": "2022-03-31T16:38:58.409Z"
   },
   {
    "duration": 36,
    "start_time": "2022-03-31T16:38:58.424Z"
   },
   {
    "duration": 12,
    "start_time": "2022-03-31T16:38:58.482Z"
   },
   {
    "duration": 28,
    "start_time": "2022-03-31T16:38:58.495Z"
   },
   {
    "duration": 10,
    "start_time": "2022-03-31T16:38:58.524Z"
   },
   {
    "duration": 25,
    "start_time": "2022-03-31T16:38:58.535Z"
   },
   {
    "duration": 7,
    "start_time": "2022-03-31T16:38:58.580Z"
   },
   {
    "duration": 13,
    "start_time": "2022-03-31T16:38:58.589Z"
   },
   {
    "duration": 6,
    "start_time": "2022-03-31T16:38:58.603Z"
   },
   {
    "duration": 5,
    "start_time": "2022-03-31T16:38:58.611Z"
   },
   {
    "duration": 186,
    "start_time": "2022-03-31T16:38:58.617Z"
   },
   {
    "duration": 5,
    "start_time": "2022-03-31T16:38:58.804Z"
   },
   {
    "duration": 12,
    "start_time": "2022-03-31T16:38:58.811Z"
   },
   {
    "duration": 153,
    "start_time": "2022-03-31T16:38:58.825Z"
   },
   {
    "duration": 154,
    "start_time": "2022-03-31T16:38:58.980Z"
   },
   {
    "duration": 11,
    "start_time": "2022-03-31T16:38:59.135Z"
   },
   {
    "duration": 137,
    "start_time": "2022-03-31T16:38:59.148Z"
   },
   {
    "duration": 9,
    "start_time": "2022-03-31T16:38:59.287Z"
   },
   {
    "duration": 15,
    "start_time": "2022-03-31T16:38:59.298Z"
   },
   {
    "duration": 6,
    "start_time": "2022-03-31T16:38:59.314Z"
   },
   {
    "duration": 648,
    "start_time": "2022-03-31T16:38:59.324Z"
   },
   {
    "duration": 139,
    "start_time": "2022-03-31T16:38:59.973Z"
   },
   {
    "duration": 36,
    "start_time": "2022-03-31T16:39:00.114Z"
   },
   {
    "duration": 138,
    "start_time": "2022-03-31T16:39:00.152Z"
   },
   {
    "duration": 146,
    "start_time": "2022-03-31T16:39:00.291Z"
   },
   {
    "duration": 32,
    "start_time": "2022-03-31T16:39:00.439Z"
   },
   {
    "duration": 4,
    "start_time": "2022-03-31T16:39:00.480Z"
   },
   {
    "duration": 92,
    "start_time": "2022-03-31T16:39:00.486Z"
   },
   {
    "duration": 29,
    "start_time": "2022-03-31T16:39:00.580Z"
   },
   {
    "duration": 26,
    "start_time": "2022-03-31T16:39:00.611Z"
   },
   {
    "duration": 15,
    "start_time": "2022-03-31T16:39:00.638Z"
   },
   {
    "duration": 47,
    "start_time": "2022-03-31T16:39:00.654Z"
   },
   {
    "duration": 3,
    "start_time": "2022-03-31T16:39:00.702Z"
   },
   {
    "duration": 24,
    "start_time": "2022-03-31T16:39:00.706Z"
   },
   {
    "duration": 6,
    "start_time": "2022-03-31T16:39:00.731Z"
   },
   {
    "duration": 7,
    "start_time": "2022-03-31T16:39:00.739Z"
   },
   {
    "duration": 23,
    "start_time": "2022-03-31T16:39:00.748Z"
   },
   {
    "duration": 13,
    "start_time": "2022-03-31T16:39:00.773Z"
   },
   {
    "duration": 107,
    "start_time": "2022-03-31T16:39:00.788Z"
   },
   {
    "duration": 30,
    "start_time": "2022-03-31T16:39:00.896Z"
   },
   {
    "duration": 4,
    "start_time": "2022-03-31T16:39:00.928Z"
   },
   {
    "duration": 14,
    "start_time": "2022-03-31T16:39:00.934Z"
   },
   {
    "duration": 113,
    "start_time": "2022-03-31T16:39:00.950Z"
   },
   {
    "duration": 646,
    "start_time": "2022-03-31T16:39:01.064Z"
   },
   {
    "duration": 5,
    "start_time": "2022-03-31T16:39:01.711Z"
   },
   {
    "duration": 374,
    "start_time": "2022-03-31T16:39:01.718Z"
   },
   {
    "duration": 298,
    "start_time": "2022-03-31T16:39:02.094Z"
   },
   {
    "duration": 373,
    "start_time": "2022-03-31T16:39:02.394Z"
   },
   {
    "duration": 62,
    "start_time": "2022-03-31T16:39:02.769Z"
   },
   {
    "duration": 21,
    "start_time": "2022-03-31T16:39:02.833Z"
   },
   {
    "duration": 25,
    "start_time": "2022-03-31T16:39:02.856Z"
   },
   {
    "duration": 8,
    "start_time": "2022-03-31T16:39:02.883Z"
   },
   {
    "duration": 16,
    "start_time": "2022-03-31T16:39:02.893Z"
   },
   {
    "duration": 7,
    "start_time": "2022-03-31T16:39:02.910Z"
   },
   {
    "duration": 7,
    "start_time": "2022-03-31T16:39:02.919Z"
   },
   {
    "duration": 8,
    "start_time": "2022-03-31T16:39:02.928Z"
   },
   {
    "duration": 11,
    "start_time": "2022-03-31T16:39:02.937Z"
   },
   {
    "duration": 8,
    "start_time": "2022-03-31T16:39:02.981Z"
   },
   {
    "duration": 4,
    "start_time": "2022-03-31T16:39:02.990Z"
   },
   {
    "duration": 1050,
    "start_time": "2022-03-31T16:39:02.995Z"
   },
   {
    "duration": 20,
    "start_time": "2022-03-31T16:39:04.046Z"
   },
   {
    "duration": 159,
    "start_time": "2022-03-31T16:39:04.067Z"
   },
   {
    "duration": 155,
    "start_time": "2022-03-31T16:39:04.227Z"
   },
   {
    "duration": 149,
    "start_time": "2022-03-31T16:39:04.384Z"
   },
   {
    "duration": 55,
    "start_time": "2022-03-31T16:39:04.534Z"
   },
   {
    "duration": 7,
    "start_time": "2022-03-31T16:39:14.656Z"
   },
   {
    "duration": 10,
    "start_time": "2022-03-31T16:39:21.564Z"
   },
   {
    "duration": 10,
    "start_time": "2022-03-31T16:39:27.607Z"
   },
   {
    "duration": 13,
    "start_time": "2022-03-31T16:39:51.646Z"
   },
   {
    "duration": 9,
    "start_time": "2022-03-31T16:40:20.027Z"
   },
   {
    "duration": 33,
    "start_time": "2022-03-31T16:40:28.270Z"
   },
   {
    "duration": 33,
    "start_time": "2022-03-31T16:50:53.473Z"
   },
   {
    "duration": 9,
    "start_time": "2022-03-31T16:52:54.649Z"
   },
   {
    "duration": 10,
    "start_time": "2022-03-31T16:53:11.046Z"
   },
   {
    "duration": 9,
    "start_time": "2022-03-31T16:53:22.651Z"
   },
   {
    "duration": 9,
    "start_time": "2022-03-31T16:53:31.185Z"
   },
   {
    "duration": 12,
    "start_time": "2022-03-31T17:05:32.443Z"
   },
   {
    "duration": 1200,
    "start_time": "2022-03-31T17:10:54.151Z"
   },
   {
    "duration": 389,
    "start_time": "2022-03-31T17:10:55.353Z"
   },
   {
    "duration": 3,
    "start_time": "2022-03-31T17:10:55.744Z"
   },
   {
    "duration": 65,
    "start_time": "2022-03-31T17:10:55.750Z"
   },
   {
    "duration": 10,
    "start_time": "2022-03-31T17:10:55.817Z"
   },
   {
    "duration": 14,
    "start_time": "2022-03-31T17:10:55.829Z"
   },
   {
    "duration": 9,
    "start_time": "2022-03-31T17:10:55.844Z"
   },
   {
    "duration": 12,
    "start_time": "2022-03-31T17:10:55.881Z"
   },
   {
    "duration": 38,
    "start_time": "2022-03-31T17:10:55.895Z"
   },
   {
    "duration": 11,
    "start_time": "2022-03-31T17:10:55.936Z"
   },
   {
    "duration": 46,
    "start_time": "2022-03-31T17:10:55.949Z"
   },
   {
    "duration": 9,
    "start_time": "2022-03-31T17:10:55.997Z"
   },
   {
    "duration": 22,
    "start_time": "2022-03-31T17:10:56.008Z"
   },
   {
    "duration": 7,
    "start_time": "2022-03-31T17:10:56.031Z"
   },
   {
    "duration": 12,
    "start_time": "2022-03-31T17:10:56.040Z"
   },
   {
    "duration": 27,
    "start_time": "2022-03-31T17:10:56.054Z"
   },
   {
    "duration": 5,
    "start_time": "2022-03-31T17:10:56.082Z"
   },
   {
    "duration": 175,
    "start_time": "2022-03-31T17:10:56.089Z"
   },
   {
    "duration": 15,
    "start_time": "2022-03-31T17:10:56.266Z"
   },
   {
    "duration": 12,
    "start_time": "2022-03-31T17:10:56.282Z"
   },
   {
    "duration": 147,
    "start_time": "2022-03-31T17:10:56.295Z"
   },
   {
    "duration": 157,
    "start_time": "2022-03-31T17:10:56.444Z"
   },
   {
    "duration": 12,
    "start_time": "2022-03-31T17:10:56.602Z"
   },
   {
    "duration": 136,
    "start_time": "2022-03-31T17:10:56.616Z"
   },
   {
    "duration": 11,
    "start_time": "2022-03-31T17:10:56.754Z"
   },
   {
    "duration": 16,
    "start_time": "2022-03-31T17:10:56.781Z"
   },
   {
    "duration": 6,
    "start_time": "2022-03-31T17:10:56.799Z"
   },
   {
    "duration": 600,
    "start_time": "2022-03-31T17:10:56.809Z"
   },
   {
    "duration": 134,
    "start_time": "2022-03-31T17:10:57.410Z"
   },
   {
    "duration": 41,
    "start_time": "2022-03-31T17:10:57.546Z"
   },
   {
    "duration": 133,
    "start_time": "2022-03-31T17:10:57.589Z"
   },
   {
    "duration": 144,
    "start_time": "2022-03-31T17:10:57.724Z"
   },
   {
    "duration": 36,
    "start_time": "2022-03-31T17:10:57.870Z"
   },
   {
    "duration": 5,
    "start_time": "2022-03-31T17:10:57.908Z"
   },
   {
    "duration": 67,
    "start_time": "2022-03-31T17:10:57.915Z"
   },
   {
    "duration": 30,
    "start_time": "2022-03-31T17:10:57.984Z"
   },
   {
    "duration": 24,
    "start_time": "2022-03-31T17:10:58.015Z"
   },
   {
    "duration": 40,
    "start_time": "2022-03-31T17:10:58.041Z"
   },
   {
    "duration": 31,
    "start_time": "2022-03-31T17:10:58.083Z"
   },
   {
    "duration": 3,
    "start_time": "2022-03-31T17:10:58.116Z"
   },
   {
    "duration": 20,
    "start_time": "2022-03-31T17:10:58.120Z"
   },
   {
    "duration": 5,
    "start_time": "2022-03-31T17:10:58.141Z"
   },
   {
    "duration": 5,
    "start_time": "2022-03-31T17:10:58.147Z"
   },
   {
    "duration": 8,
    "start_time": "2022-03-31T17:10:58.153Z"
   },
   {
    "duration": 3,
    "start_time": "2022-03-31T17:10:58.182Z"
   },
   {
    "duration": 106,
    "start_time": "2022-03-31T17:10:58.187Z"
   },
   {
    "duration": 33,
    "start_time": "2022-03-31T17:10:58.295Z"
   },
   {
    "duration": 4,
    "start_time": "2022-03-31T17:10:58.329Z"
   },
   {
    "duration": 15,
    "start_time": "2022-03-31T17:10:58.335Z"
   },
   {
    "duration": 106,
    "start_time": "2022-03-31T17:10:58.351Z"
   },
   {
    "duration": 597,
    "start_time": "2022-03-31T17:10:58.459Z"
   },
   {
    "duration": 4,
    "start_time": "2022-03-31T17:10:59.058Z"
   },
   {
    "duration": 332,
    "start_time": "2022-03-31T17:10:59.064Z"
   },
   {
    "duration": 291,
    "start_time": "2022-03-31T17:10:59.398Z"
   },
   {
    "duration": 372,
    "start_time": "2022-03-31T17:10:59.691Z"
   },
   {
    "duration": 61,
    "start_time": "2022-03-31T17:11:00.065Z"
   },
   {
    "duration": 20,
    "start_time": "2022-03-31T17:11:00.127Z"
   },
   {
    "duration": 6,
    "start_time": "2022-03-31T17:11:00.148Z"
   },
   {
    "duration": 27,
    "start_time": "2022-03-31T17:11:00.156Z"
   },
   {
    "duration": 15,
    "start_time": "2022-03-31T17:11:00.185Z"
   },
   {
    "duration": 6,
    "start_time": "2022-03-31T17:11:00.201Z"
   },
   {
    "duration": 9,
    "start_time": "2022-03-31T17:11:00.208Z"
   },
   {
    "duration": 13,
    "start_time": "2022-03-31T17:11:00.218Z"
   },
   {
    "duration": 24,
    "start_time": "2022-03-31T17:11:00.232Z"
   },
   {
    "duration": 13,
    "start_time": "2022-03-31T17:11:00.258Z"
   },
   {
    "duration": 10,
    "start_time": "2022-03-31T17:11:00.272Z"
   },
   {
    "duration": 1049,
    "start_time": "2022-03-31T17:11:00.283Z"
   },
   {
    "duration": 20,
    "start_time": "2022-03-31T17:11:01.334Z"
   },
   {
    "duration": 168,
    "start_time": "2022-03-31T17:11:01.355Z"
   },
   {
    "duration": 157,
    "start_time": "2022-03-31T17:11:01.525Z"
   },
   {
    "duration": 149,
    "start_time": "2022-03-31T17:11:01.684Z"
   },
   {
    "duration": 51,
    "start_time": "2022-03-31T17:11:01.835Z"
   },
   {
    "duration": 68,
    "start_time": "2022-04-01T13:03:01.465Z"
   },
   {
    "duration": 1583,
    "start_time": "2022-04-01T13:03:07.110Z"
   },
   {
    "duration": 497,
    "start_time": "2022-04-01T13:03:08.696Z"
   },
   {
    "duration": 3,
    "start_time": "2022-04-01T13:03:09.196Z"
   },
   {
    "duration": 175,
    "start_time": "2022-04-01T13:03:09.201Z"
   },
   {
    "duration": 14,
    "start_time": "2022-04-01T13:03:09.379Z"
   },
   {
    "duration": 21,
    "start_time": "2022-04-01T13:03:09.396Z"
   },
   {
    "duration": 12,
    "start_time": "2022-04-01T13:03:09.419Z"
   },
   {
    "duration": 63,
    "start_time": "2022-04-01T13:03:09.433Z"
   },
   {
    "duration": 54,
    "start_time": "2022-04-01T13:03:09.498Z"
   },
   {
    "duration": 40,
    "start_time": "2022-04-01T13:03:09.554Z"
   },
   {
    "duration": 61,
    "start_time": "2022-04-01T13:03:09.597Z"
   },
   {
    "duration": 33,
    "start_time": "2022-04-01T13:03:09.661Z"
   },
   {
    "duration": 38,
    "start_time": "2022-04-01T13:03:09.697Z"
   },
   {
    "duration": 11,
    "start_time": "2022-04-01T13:03:09.740Z"
   },
   {
    "duration": 36,
    "start_time": "2022-04-01T13:03:09.753Z"
   },
   {
    "duration": 20,
    "start_time": "2022-04-01T13:03:09.791Z"
   },
   {
    "duration": 9,
    "start_time": "2022-04-01T13:03:09.813Z"
   },
   {
    "duration": 305,
    "start_time": "2022-04-01T13:03:09.825Z"
   },
   {
    "duration": 8,
    "start_time": "2022-04-01T13:03:10.133Z"
   },
   {
    "duration": 42,
    "start_time": "2022-04-01T13:03:10.144Z"
   },
   {
    "duration": 413,
    "start_time": "2022-04-01T13:03:10.189Z"
   },
   {
    "duration": 444,
    "start_time": "2022-04-01T13:03:10.605Z"
   },
   {
    "duration": 34,
    "start_time": "2022-04-01T13:03:11.051Z"
   },
   {
    "duration": 396,
    "start_time": "2022-04-01T13:03:11.088Z"
   },
   {
    "duration": 17,
    "start_time": "2022-04-01T13:03:11.486Z"
   },
   {
    "duration": 32,
    "start_time": "2022-04-01T13:03:11.506Z"
   },
   {
    "duration": 9,
    "start_time": "2022-04-01T13:03:11.541Z"
   },
   {
    "duration": 1977,
    "start_time": "2022-04-01T13:03:11.554Z"
   },
   {
    "duration": 302,
    "start_time": "2022-04-01T13:03:13.534Z"
   },
   {
    "duration": 73,
    "start_time": "2022-04-01T13:03:13.838Z"
   },
   {
    "duration": 253,
    "start_time": "2022-04-01T13:03:13.913Z"
   },
   {
    "duration": 263,
    "start_time": "2022-04-01T13:03:14.168Z"
   },
   {
    "duration": 60,
    "start_time": "2022-04-01T13:03:14.434Z"
   },
   {
    "duration": 7,
    "start_time": "2022-04-01T13:03:14.496Z"
   },
   {
    "duration": 99,
    "start_time": "2022-04-01T13:03:14.505Z"
   },
   {
    "duration": 48,
    "start_time": "2022-04-01T13:03:14.606Z"
   },
   {
    "duration": 64,
    "start_time": "2022-04-01T13:03:14.656Z"
   },
   {
    "duration": 35,
    "start_time": "2022-04-01T13:03:14.722Z"
   },
   {
    "duration": 103,
    "start_time": "2022-04-01T13:03:14.759Z"
   },
   {
    "duration": 23,
    "start_time": "2022-04-01T13:03:14.865Z"
   },
   {
    "duration": 40,
    "start_time": "2022-04-01T13:03:14.898Z"
   },
   {
    "duration": 11,
    "start_time": "2022-04-01T13:03:14.941Z"
   },
   {
    "duration": 15,
    "start_time": "2022-04-01T13:03:14.954Z"
   },
   {
    "duration": 21,
    "start_time": "2022-04-01T13:03:14.972Z"
   },
   {
    "duration": 6,
    "start_time": "2022-04-01T13:03:14.995Z"
   },
   {
    "duration": 201,
    "start_time": "2022-04-01T13:03:15.003Z"
   },
   {
    "duration": 52,
    "start_time": "2022-04-01T13:03:15.207Z"
   },
   {
    "duration": 25,
    "start_time": "2022-04-01T13:03:15.261Z"
   },
   {
    "duration": 23,
    "start_time": "2022-04-01T13:03:15.288Z"
   },
   {
    "duration": 194,
    "start_time": "2022-04-01T13:03:15.314Z"
   },
   {
    "duration": 974,
    "start_time": "2022-04-01T13:03:15.510Z"
   },
   {
    "duration": 8,
    "start_time": "2022-04-01T13:03:16.487Z"
   },
   {
    "duration": 507,
    "start_time": "2022-04-01T13:03:16.497Z"
   },
   {
    "duration": 496,
    "start_time": "2022-04-01T13:03:17.006Z"
   },
   {
    "duration": 596,
    "start_time": "2022-04-01T13:03:17.504Z"
   },
   {
    "duration": 109,
    "start_time": "2022-04-01T13:03:18.102Z"
   },
   {
    "duration": 37,
    "start_time": "2022-04-01T13:03:18.213Z"
   },
   {
    "duration": 33,
    "start_time": "2022-04-01T13:03:18.252Z"
   },
   {
    "duration": 15,
    "start_time": "2022-04-01T13:03:18.288Z"
   },
   {
    "duration": 42,
    "start_time": "2022-04-01T13:03:18.306Z"
   },
   {
    "duration": 6,
    "start_time": "2022-04-01T13:03:18.351Z"
   },
   {
    "duration": 25,
    "start_time": "2022-04-01T13:03:18.360Z"
   },
   {
    "duration": 19,
    "start_time": "2022-04-01T13:03:18.388Z"
   },
   {
    "duration": 55,
    "start_time": "2022-04-01T13:03:18.409Z"
   },
   {
    "duration": 24,
    "start_time": "2022-04-01T13:03:18.466Z"
   },
   {
    "duration": 18,
    "start_time": "2022-04-01T13:03:18.492Z"
   },
   {
    "duration": 21,
    "start_time": "2022-04-01T13:03:18.512Z"
   },
   {
    "duration": 1599,
    "start_time": "2022-04-01T13:03:18.535Z"
   },
   {
    "duration": 31,
    "start_time": "2022-04-01T13:03:20.136Z"
   },
   {
    "duration": 283,
    "start_time": "2022-04-01T13:03:20.184Z"
   },
   {
    "duration": 286,
    "start_time": "2022-04-01T13:03:20.470Z"
   },
   {
    "duration": 282,
    "start_time": "2022-04-01T13:03:20.758Z"
   },
   {
    "duration": 50,
    "start_time": "2022-04-01T13:03:21.042Z"
   },
   {
    "duration": 16,
    "start_time": "2022-04-01T13:03:59.060Z"
   },
   {
    "duration": 11,
    "start_time": "2022-04-01T13:04:10.997Z"
   },
   {
    "duration": 1513,
    "start_time": "2022-04-01T13:11:43.611Z"
   },
   {
    "duration": 515,
    "start_time": "2022-04-01T13:11:45.127Z"
   },
   {
    "duration": 3,
    "start_time": "2022-04-01T13:11:45.645Z"
   },
   {
    "duration": 103,
    "start_time": "2022-04-01T13:11:45.650Z"
   },
   {
    "duration": 30,
    "start_time": "2022-04-01T13:11:45.757Z"
   },
   {
    "duration": 23,
    "start_time": "2022-04-01T13:11:45.790Z"
   },
   {
    "duration": 13,
    "start_time": "2022-04-01T13:11:45.816Z"
   },
   {
    "duration": 19,
    "start_time": "2022-04-01T13:11:45.831Z"
   },
   {
    "duration": 52,
    "start_time": "2022-04-01T13:11:45.885Z"
   },
   {
    "duration": 20,
    "start_time": "2022-04-01T13:11:45.939Z"
   },
   {
    "duration": 37,
    "start_time": "2022-04-01T13:11:45.984Z"
   },
   {
    "duration": 14,
    "start_time": "2022-04-01T13:11:46.024Z"
   },
   {
    "duration": 55,
    "start_time": "2022-04-01T13:11:46.041Z"
   },
   {
    "duration": 11,
    "start_time": "2022-04-01T13:11:46.101Z"
   },
   {
    "duration": 22,
    "start_time": "2022-04-01T13:11:46.114Z"
   },
   {
    "duration": 10,
    "start_time": "2022-04-01T13:11:46.137Z"
   },
   {
    "duration": 41,
    "start_time": "2022-04-01T13:11:46.149Z"
   },
   {
    "duration": 301,
    "start_time": "2022-04-01T13:11:46.192Z"
   },
   {
    "duration": 8,
    "start_time": "2022-04-01T13:11:46.495Z"
   },
   {
    "duration": 24,
    "start_time": "2022-04-01T13:11:46.505Z"
   },
   {
    "duration": 301,
    "start_time": "2022-04-01T13:11:46.531Z"
   },
   {
    "duration": 299,
    "start_time": "2022-04-01T13:11:46.834Z"
   },
   {
    "duration": 19,
    "start_time": "2022-04-01T13:11:47.135Z"
   },
   {
    "duration": 279,
    "start_time": "2022-04-01T13:11:47.156Z"
   },
   {
    "duration": 13,
    "start_time": "2022-04-01T13:11:47.437Z"
   },
   {
    "duration": 44,
    "start_time": "2022-04-01T13:11:47.452Z"
   },
   {
    "duration": 9,
    "start_time": "2022-04-01T13:11:47.498Z"
   },
   {
    "duration": 1255,
    "start_time": "2022-04-01T13:11:47.509Z"
   },
   {
    "duration": 203,
    "start_time": "2022-04-01T13:11:48.766Z"
   },
   {
    "duration": 69,
    "start_time": "2022-04-01T13:11:48.971Z"
   },
   {
    "duration": 267,
    "start_time": "2022-04-01T13:11:49.043Z"
   },
   {
    "duration": 273,
    "start_time": "2022-04-01T13:11:49.313Z"
   },
   {
    "duration": 49,
    "start_time": "2022-04-01T13:11:49.589Z"
   },
   {
    "duration": 6,
    "start_time": "2022-04-01T13:11:49.640Z"
   },
   {
    "duration": 109,
    "start_time": "2022-04-01T13:11:49.648Z"
   },
   {
    "duration": 57,
    "start_time": "2022-04-01T13:11:49.759Z"
   },
   {
    "duration": 39,
    "start_time": "2022-04-01T13:11:49.818Z"
   },
   {
    "duration": 45,
    "start_time": "2022-04-01T13:11:49.859Z"
   },
   {
    "duration": 78,
    "start_time": "2022-04-01T13:11:49.907Z"
   },
   {
    "duration": 6,
    "start_time": "2022-04-01T13:11:49.988Z"
   },
   {
    "duration": 19,
    "start_time": "2022-04-01T13:11:50.003Z"
   },
   {
    "duration": 11,
    "start_time": "2022-04-01T13:11:50.024Z"
   },
   {
    "duration": 47,
    "start_time": "2022-04-01T13:11:50.037Z"
   },
   {
    "duration": 12,
    "start_time": "2022-04-01T13:11:50.086Z"
   },
   {
    "duration": 9,
    "start_time": "2022-04-01T13:11:50.100Z"
   },
   {
    "duration": 182,
    "start_time": "2022-04-01T13:11:50.111Z"
   },
   {
    "duration": 51,
    "start_time": "2022-04-01T13:11:50.295Z"
   },
   {
    "duration": 5,
    "start_time": "2022-04-01T13:11:50.349Z"
   },
   {
    "duration": 40,
    "start_time": "2022-04-01T13:11:50.356Z"
   },
   {
    "duration": 190,
    "start_time": "2022-04-01T13:11:50.398Z"
   },
   {
    "duration": 986,
    "start_time": "2022-04-01T13:11:50.590Z"
   },
   {
    "duration": 8,
    "start_time": "2022-04-01T13:11:51.578Z"
   },
   {
    "duration": 523,
    "start_time": "2022-04-01T13:11:51.589Z"
   },
   {
    "duration": 494,
    "start_time": "2022-04-01T13:11:52.114Z"
   },
   {
    "duration": 600,
    "start_time": "2022-04-01T13:11:52.610Z"
   },
   {
    "duration": 112,
    "start_time": "2022-04-01T13:11:53.213Z"
   },
   {
    "duration": 38,
    "start_time": "2022-04-01T13:11:53.328Z"
   },
   {
    "duration": 23,
    "start_time": "2022-04-01T13:11:53.368Z"
   },
   {
    "duration": 8,
    "start_time": "2022-04-01T13:11:53.393Z"
   },
   {
    "duration": 29,
    "start_time": "2022-04-01T13:11:53.403Z"
   },
   {
    "duration": 16,
    "start_time": "2022-04-01T13:11:53.434Z"
   },
   {
    "duration": 38,
    "start_time": "2022-04-01T13:11:53.452Z"
   },
   {
    "duration": 53,
    "start_time": "2022-04-01T13:11:53.492Z"
   },
   {
    "duration": 13,
    "start_time": "2022-04-01T13:11:53.547Z"
   },
   {
    "duration": 22,
    "start_time": "2022-04-01T13:11:53.563Z"
   },
   {
    "duration": 15,
    "start_time": "2022-04-01T13:11:53.588Z"
   },
   {
    "duration": 11,
    "start_time": "2022-04-01T13:11:53.606Z"
   },
   {
    "duration": 1713,
    "start_time": "2022-04-01T13:11:53.620Z"
   },
   {
    "duration": 50,
    "start_time": "2022-04-01T13:11:55.336Z"
   },
   {
    "duration": 284,
    "start_time": "2022-04-01T13:11:55.389Z"
   },
   {
    "duration": 288,
    "start_time": "2022-04-01T13:11:55.683Z"
   },
   {
    "duration": 284,
    "start_time": "2022-04-01T13:11:55.974Z"
   },
   {
    "duration": 45,
    "start_time": "2022-04-01T13:11:56.261Z"
   },
   {
    "duration": 67,
    "start_time": "2022-04-01T19:29:44.984Z"
   },
   {
    "duration": 1656,
    "start_time": "2022-04-01T19:29:48.917Z"
   },
   {
    "duration": 458,
    "start_time": "2022-04-01T19:29:50.577Z"
   },
   {
    "duration": 4,
    "start_time": "2022-04-01T19:29:51.038Z"
   },
   {
    "duration": 95,
    "start_time": "2022-04-01T19:29:51.046Z"
   },
   {
    "duration": 28,
    "start_time": "2022-04-01T19:29:51.144Z"
   },
   {
    "duration": 24,
    "start_time": "2022-04-01T19:29:51.175Z"
   },
   {
    "duration": 12,
    "start_time": "2022-04-01T19:29:51.202Z"
   },
   {
    "duration": 63,
    "start_time": "2022-04-01T19:29:51.217Z"
   },
   {
    "duration": 53,
    "start_time": "2022-04-01T19:29:51.282Z"
   },
   {
    "duration": 31,
    "start_time": "2022-04-01T19:29:51.339Z"
   },
   {
    "duration": 37,
    "start_time": "2022-04-01T19:29:51.372Z"
   },
   {
    "duration": 14,
    "start_time": "2022-04-01T19:29:51.411Z"
   },
   {
    "duration": 60,
    "start_time": "2022-04-01T19:29:51.427Z"
   },
   {
    "duration": 11,
    "start_time": "2022-04-01T19:29:51.489Z"
   },
   {
    "duration": 19,
    "start_time": "2022-04-01T19:29:51.502Z"
   },
   {
    "duration": 7,
    "start_time": "2022-04-01T19:29:51.524Z"
   },
   {
    "duration": 35,
    "start_time": "2022-04-01T19:29:51.533Z"
   },
   {
    "duration": 258,
    "start_time": "2022-04-01T19:29:51.570Z"
   },
   {
    "duration": 7,
    "start_time": "2022-04-01T19:29:51.831Z"
   },
   {
    "duration": 34,
    "start_time": "2022-04-01T19:29:51.840Z"
   },
   {
    "duration": 264,
    "start_time": "2022-04-01T19:29:51.876Z"
   },
   {
    "duration": 279,
    "start_time": "2022-04-01T19:29:52.142Z"
   },
   {
    "duration": 18,
    "start_time": "2022-04-01T19:29:52.424Z"
   },
   {
    "duration": 258,
    "start_time": "2022-04-01T19:29:52.444Z"
   },
   {
    "duration": 13,
    "start_time": "2022-04-01T19:29:52.704Z"
   },
   {
    "duration": 23,
    "start_time": "2022-04-01T19:29:52.719Z"
   },
   {
    "duration": 8,
    "start_time": "2022-04-01T19:29:52.768Z"
   },
   {
    "duration": 1184,
    "start_time": "2022-04-01T19:29:52.783Z"
   },
   {
    "duration": 192,
    "start_time": "2022-04-01T19:29:53.969Z"
   },
   {
    "duration": 73,
    "start_time": "2022-04-01T19:29:54.167Z"
   },
   {
    "duration": 248,
    "start_time": "2022-04-01T19:29:54.242Z"
   },
   {
    "duration": 252,
    "start_time": "2022-04-01T19:29:54.492Z"
   },
   {
    "duration": 57,
    "start_time": "2022-04-01T19:29:54.746Z"
   },
   {
    "duration": 5,
    "start_time": "2022-04-01T19:29:54.806Z"
   },
   {
    "duration": 94,
    "start_time": "2022-04-01T19:29:54.814Z"
   },
   {
    "duration": 57,
    "start_time": "2022-04-01T19:29:54.911Z"
   },
   {
    "duration": 38,
    "start_time": "2022-04-01T19:29:54.971Z"
   },
   {
    "duration": 55,
    "start_time": "2022-04-01T19:29:55.012Z"
   },
   {
    "duration": 52,
    "start_time": "2022-04-01T19:29:55.070Z"
   },
   {
    "duration": 5,
    "start_time": "2022-04-01T19:29:55.125Z"
   },
   {
    "duration": 46,
    "start_time": "2022-04-01T19:29:55.133Z"
   },
   {
    "duration": 7,
    "start_time": "2022-04-01T19:29:55.181Z"
   },
   {
    "duration": 5,
    "start_time": "2022-04-01T19:29:55.191Z"
   },
   {
    "duration": 15,
    "start_time": "2022-04-01T19:29:55.198Z"
   },
   {
    "duration": 6,
    "start_time": "2022-04-01T19:29:55.216Z"
   },
   {
    "duration": 197,
    "start_time": "2022-04-01T19:29:55.224Z"
   },
   {
    "duration": 61,
    "start_time": "2022-04-01T19:29:55.423Z"
   },
   {
    "duration": 5,
    "start_time": "2022-04-01T19:29:55.487Z"
   },
   {
    "duration": 17,
    "start_time": "2022-04-01T19:29:55.496Z"
   },
   {
    "duration": 208,
    "start_time": "2022-04-01T19:29:55.515Z"
   },
   {
    "duration": 971,
    "start_time": "2022-04-01T19:29:55.726Z"
   },
   {
    "duration": 8,
    "start_time": "2022-04-01T19:29:56.699Z"
   },
   {
    "duration": 497,
    "start_time": "2022-04-01T19:29:56.709Z"
   },
   {
    "duration": 494,
    "start_time": "2022-04-01T19:29:57.208Z"
   },
   {
    "duration": 598,
    "start_time": "2022-04-01T19:29:57.704Z"
   },
   {
    "duration": 105,
    "start_time": "2022-04-01T19:29:58.304Z"
   },
   {
    "duration": 36,
    "start_time": "2022-04-01T19:29:58.411Z"
   },
   {
    "duration": 26,
    "start_time": "2022-04-01T19:29:58.449Z"
   },
   {
    "duration": 22,
    "start_time": "2022-04-01T19:29:58.477Z"
   },
   {
    "duration": 26,
    "start_time": "2022-04-01T19:29:58.501Z"
   },
   {
    "duration": 22,
    "start_time": "2022-04-01T19:29:58.529Z"
   },
   {
    "duration": 27,
    "start_time": "2022-04-01T19:29:58.554Z"
   },
   {
    "duration": 8,
    "start_time": "2022-04-01T19:29:58.583Z"
   },
   {
    "duration": 21,
    "start_time": "2022-04-01T19:29:58.594Z"
   },
   {
    "duration": 19,
    "start_time": "2022-04-01T19:29:58.617Z"
   },
   {
    "duration": 31,
    "start_time": "2022-04-01T19:29:58.638Z"
   },
   {
    "duration": 13,
    "start_time": "2022-04-01T19:29:58.672Z"
   },
   {
    "duration": 13,
    "start_time": "2022-04-01T19:29:58.687Z"
   },
   {
    "duration": 1674,
    "start_time": "2022-04-01T19:29:58.702Z"
   },
   {
    "duration": 31,
    "start_time": "2022-04-01T19:30:00.378Z"
   },
   {
    "duration": 282,
    "start_time": "2022-04-01T19:30:00.411Z"
   },
   {
    "duration": 287,
    "start_time": "2022-04-01T19:30:00.695Z"
   },
   {
    "duration": 266,
    "start_time": "2022-04-01T19:30:00.984Z"
   },
   {
    "duration": 43,
    "start_time": "2022-04-01T19:30:01.252Z"
   },
   {
    "duration": 469,
    "start_time": "2022-04-01T19:30:45.654Z"
   },
   {
    "duration": 19,
    "start_time": "2022-04-01T19:30:57.691Z"
   },
   {
    "duration": 52,
    "start_time": "2022-04-01T19:32:45.522Z"
   },
   {
    "duration": 49,
    "start_time": "2022-04-01T19:32:59.186Z"
   },
   {
    "duration": 17,
    "start_time": "2022-04-01T19:33:09.102Z"
   },
   {
    "duration": 22,
    "start_time": "2022-04-01T19:33:27.608Z"
   },
   {
    "duration": 12,
    "start_time": "2022-04-01T19:34:10.957Z"
   },
   {
    "duration": 7,
    "start_time": "2022-04-01T19:34:33.614Z"
   },
   {
    "duration": 1519,
    "start_time": "2022-04-01T19:38:17.028Z"
   },
   {
    "duration": 482,
    "start_time": "2022-04-01T19:38:18.550Z"
   },
   {
    "duration": 5,
    "start_time": "2022-04-01T19:38:19.034Z"
   },
   {
    "duration": 93,
    "start_time": "2022-04-01T19:38:19.043Z"
   },
   {
    "duration": 29,
    "start_time": "2022-04-01T19:38:19.139Z"
   },
   {
    "duration": 24,
    "start_time": "2022-04-01T19:38:19.171Z"
   },
   {
    "duration": 12,
    "start_time": "2022-04-01T19:38:19.197Z"
   },
   {
    "duration": 17,
    "start_time": "2022-04-01T19:38:19.212Z"
   },
   {
    "duration": 80,
    "start_time": "2022-04-01T19:38:19.231Z"
   },
   {
    "duration": 17,
    "start_time": "2022-04-01T19:38:19.315Z"
   },
   {
    "duration": 64,
    "start_time": "2022-04-01T19:38:19.334Z"
   },
   {
    "duration": 14,
    "start_time": "2022-04-01T19:38:19.400Z"
   },
   {
    "duration": 32,
    "start_time": "2022-04-01T19:38:19.416Z"
   },
   {
    "duration": 28,
    "start_time": "2022-04-01T19:38:19.450Z"
   },
   {
    "duration": 20,
    "start_time": "2022-04-01T19:38:19.480Z"
   },
   {
    "duration": 7,
    "start_time": "2022-04-01T19:38:19.502Z"
   },
   {
    "duration": 6,
    "start_time": "2022-04-01T19:38:19.511Z"
   },
   {
    "duration": 288,
    "start_time": "2022-04-01T19:38:19.519Z"
   },
   {
    "duration": 7,
    "start_time": "2022-04-01T19:38:19.809Z"
   },
   {
    "duration": 18,
    "start_time": "2022-04-01T19:38:19.818Z"
   },
   {
    "duration": 275,
    "start_time": "2022-04-01T19:38:19.838Z"
   },
   {
    "duration": 276,
    "start_time": "2022-04-01T19:38:20.115Z"
   },
   {
    "duration": 19,
    "start_time": "2022-04-01T19:38:20.393Z"
   },
   {
    "duration": 264,
    "start_time": "2022-04-01T19:38:20.414Z"
   },
   {
    "duration": 13,
    "start_time": "2022-04-01T19:38:20.680Z"
   },
   {
    "duration": 23,
    "start_time": "2022-04-01T19:38:20.696Z"
   },
   {
    "duration": 8,
    "start_time": "2022-04-01T19:38:20.722Z"
   },
   {
    "duration": 1155,
    "start_time": "2022-04-01T19:38:20.769Z"
   },
   {
    "duration": 179,
    "start_time": "2022-04-01T19:38:21.926Z"
   },
   {
    "duration": 72,
    "start_time": "2022-04-01T19:38:22.107Z"
   },
   {
    "duration": 242,
    "start_time": "2022-04-01T19:38:22.182Z"
   },
   {
    "duration": 251,
    "start_time": "2022-04-01T19:38:22.426Z"
   },
   {
    "duration": 45,
    "start_time": "2022-04-01T19:38:22.679Z"
   },
   {
    "duration": 6,
    "start_time": "2022-04-01T19:38:22.726Z"
   },
   {
    "duration": 102,
    "start_time": "2022-04-01T19:38:22.734Z"
   },
   {
    "duration": 48,
    "start_time": "2022-04-01T19:38:22.838Z"
   },
   {
    "duration": 37,
    "start_time": "2022-04-01T19:38:22.888Z"
   },
   {
    "duration": 47,
    "start_time": "2022-04-01T19:38:22.927Z"
   },
   {
    "duration": 53,
    "start_time": "2022-04-01T19:38:22.976Z"
   },
   {
    "duration": 4,
    "start_time": "2022-04-01T19:38:23.032Z"
   },
   {
    "duration": 42,
    "start_time": "2022-04-01T19:38:23.039Z"
   },
   {
    "duration": 10,
    "start_time": "2022-04-01T19:38:23.084Z"
   },
   {
    "duration": 10,
    "start_time": "2022-04-01T19:38:23.096Z"
   },
   {
    "duration": 15,
    "start_time": "2022-04-01T19:38:23.108Z"
   },
   {
    "duration": 10,
    "start_time": "2022-04-01T19:38:23.125Z"
   },
   {
    "duration": 166,
    "start_time": "2022-04-01T19:38:23.168Z"
   },
   {
    "duration": 63,
    "start_time": "2022-04-01T19:38:23.337Z"
   },
   {
    "duration": 7,
    "start_time": "2022-04-01T19:38:23.403Z"
   },
   {
    "duration": 16,
    "start_time": "2022-04-01T19:38:23.413Z"
   },
   {
    "duration": 198,
    "start_time": "2022-04-01T19:38:23.432Z"
   },
   {
    "duration": 1000,
    "start_time": "2022-04-01T19:38:23.633Z"
   },
   {
    "duration": 8,
    "start_time": "2022-04-01T19:38:24.635Z"
   },
   {
    "duration": 510,
    "start_time": "2022-04-01T19:38:24.645Z"
   },
   {
    "duration": 540,
    "start_time": "2022-04-01T19:38:25.157Z"
   },
   {
    "duration": 596,
    "start_time": "2022-04-01T19:38:25.699Z"
   },
   {
    "duration": 110,
    "start_time": "2022-04-01T19:38:26.297Z"
   },
   {
    "duration": 37,
    "start_time": "2022-04-01T19:38:26.410Z"
   },
   {
    "duration": 12,
    "start_time": "2022-04-01T19:38:26.468Z"
   },
   {
    "duration": 6,
    "start_time": "2022-04-01T19:38:26.482Z"
   },
   {
    "duration": 21,
    "start_time": "2022-04-01T19:38:26.490Z"
   },
   {
    "duration": 10,
    "start_time": "2022-04-01T19:38:26.513Z"
   },
   {
    "duration": 50,
    "start_time": "2022-04-01T19:38:26.526Z"
   },
   {
    "duration": 10,
    "start_time": "2022-04-01T19:38:26.579Z"
   },
   {
    "duration": 11,
    "start_time": "2022-04-01T19:38:26.591Z"
   },
   {
    "duration": 13,
    "start_time": "2022-04-01T19:38:26.604Z"
   },
   {
    "duration": 57,
    "start_time": "2022-04-01T19:38:26.619Z"
   },
   {
    "duration": 4,
    "start_time": "2022-04-01T19:38:26.679Z"
   },
   {
    "duration": 1530,
    "start_time": "2022-04-01T19:38:26.685Z"
   },
   {
    "duration": 30,
    "start_time": "2022-04-01T19:38:28.219Z"
   },
   {
    "duration": 264,
    "start_time": "2022-04-01T19:38:28.267Z"
   },
   {
    "duration": 271,
    "start_time": "2022-04-01T19:38:28.533Z"
   },
   {
    "duration": 263,
    "start_time": "2022-04-01T19:38:28.807Z"
   },
   {
    "duration": 43,
    "start_time": "2022-04-01T19:38:29.072Z"
   },
   {
    "duration": 150,
    "start_time": "2022-04-01T19:41:18.556Z"
   },
   {
    "duration": 6,
    "start_time": "2022-04-01T19:41:22.629Z"
   },
   {
    "duration": 51,
    "start_time": "2022-04-01T19:41:27.297Z"
   }
  ],
  "kernelspec": {
   "display_name": "Python 3 (ipykernel)",
   "language": "python",
   "name": "python3"
  },
  "language_info": {
   "codemirror_mode": {
    "name": "ipython",
    "version": 3
   },
   "file_extension": ".py",
   "mimetype": "text/x-python",
   "name": "python",
   "nbconvert_exporter": "python",
   "pygments_lexer": "ipython3",
   "version": "3.9.13"
  },
  "nbTranslate": {
   "displayLangs": [
    "en",
    "ru"
   ],
   "hotkey": "alt-t",
   "langInMainMenu": true,
   "sourceLang": "ru",
   "targetLang": "en",
   "useGoogleTranslate": true
  },
  "toc": {
   "base_numbering": 1,
   "nav_menu": {},
   "number_sections": true,
   "sideBar": true,
   "skip_h1_title": true,
   "title_cell": "Содержание проекта",
   "title_sidebar": "Содержание проекта",
   "toc_cell": true,
   "toc_position": {
    "height": "calc(100% - 180px)",
    "left": "10px",
    "top": "150px",
    "width": "285.391px"
   },
   "toc_section_display": true,
   "toc_window_display": false
  },
  "varInspector": {
   "cols": {
    "lenName": 16,
    "lenType": 16,
    "lenVar": 40
   },
   "kernels_config": {
    "python": {
     "delete_cmd_postfix": "",
     "delete_cmd_prefix": "del ",
     "library": "var_list.py",
     "varRefreshCmd": "print(var_dic_list())"
    },
    "r": {
     "delete_cmd_postfix": ") ",
     "delete_cmd_prefix": "rm(",
     "library": "var_list.r",
     "varRefreshCmd": "cat(var_dic_list()) "
    }
   },
   "types_to_exclude": [
    "module",
    "function",
    "builtin_function_or_method",
    "instance",
    "_Feature"
   ],
   "window_display": false
  }
 },
 "nbformat": 4,
 "nbformat_minor": 2
}
