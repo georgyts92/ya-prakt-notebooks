{
 "cells": [
  {
   "cell_type": "markdown",
   "id": "388fa06b",
   "metadata": {},
   "source": [
    "# Исследование данных об инвестиции венчурных фондов в компании-стартапы"
   ]
  },
  {
   "cell_type": "markdown",
   "id": "331bfb16",
   "metadata": {},
   "source": [
    "### Описание проекта"
   ]
  },
  {
   "cell_type": "markdown",
   "id": "32eb64d4",
   "metadata": {},
   "source": [
    "В данном самостоятельном проекте нужно проанализировать данные о фондах и инвестициях и написать запросы к базе."
   ]
  },
  {
   "cell_type": "markdown",
   "id": "fb6f53f7",
   "metadata": {},
   "source": [
    "По данной [ссылке](https://drive.google.com/file/d/1JT7J_ZNmGBiD6jf1KJ2GT1d1CHqfFy18/view?usp=sharing) можно ознакомиться с ER-диаграммой и описанием таблиц в базе данных."
   ]
  },
  {
   "cell_type": "markdown",
   "id": "689012c8",
   "metadata": {},
   "source": [
    "Ниже будут перечислены задачи с их описанием, а ниже описания задачи будет приведено решение задачи в виде запроса на языке SQL."
   ]
  },
  {
   "cell_type": "markdown",
   "id": "d3a86cf7",
   "metadata": {},
   "source": [
    "<hr>"
   ]
  },
  {
   "cell_type": "markdown",
   "id": "ee1ff2b8",
   "metadata": {},
   "source": [
    "**1. Посчитайте, сколько компаний закрылось.**"
   ]
  },
  {
   "cell_type": "markdown",
   "id": "9d798379",
   "metadata": {},
   "source": [
    "**SQL-запрос решения:**"
   ]
  },
  {
   "cell_type": "markdown",
   "id": "4e557935",
   "metadata": {},
   "source": [
    "`SELECT COUNT(id) AS closed_count\n",
    "FROM company\n",
    "WHERE closed_at IS NOT NULL\n",
    "    AND status = 'closed'`"
   ]
  },
  {
   "cell_type": "markdown",
   "id": "7ca38520",
   "metadata": {},
   "source": [
    "<hr>"
   ]
  },
  {
   "cell_type": "markdown",
   "id": "0885f6cc",
   "metadata": {},
   "source": [
    "**2. Отобразите количество привлечённых средств для новостных компаний США. Используйте данные из таблицы `company`. Отсортируйте таблицу по убыванию значений в поле `funding_total`.**"
   ]
  },
  {
   "cell_type": "markdown",
   "id": "4c837ba0",
   "metadata": {},
   "source": [
    "**SQL-запрос решения:**"
   ]
  },
  {
   "cell_type": "markdown",
   "id": "f84dc812",
   "metadata": {},
   "source": [
    "`SELECT SUM(funding_total) AS funding_total\n",
    "FROM company\n",
    "WHERE category_code = 'news'\n",
    "    AND country_code = 'USA'\n",
    "GROUP BY name\n",
    "ORDER BY funding_total DESC`"
   ]
  },
  {
   "cell_type": "markdown",
   "id": "1a399eed",
   "metadata": {},
   "source": [
    "<hr>"
   ]
  },
  {
   "cell_type": "markdown",
   "id": "d0c854a4",
   "metadata": {},
   "source": [
    "**3. Найдите общую сумму сделок по покупке одних компаний другими в долларах. Отберите сделки, которые осуществлялись только за наличные с 2011 по 2013 год включительно.**"
   ]
  },
  {
   "cell_type": "markdown",
   "id": "c9412a47",
   "metadata": {},
   "source": [
    "**SQL-запрос решения:**"
   ]
  },
  {
   "cell_type": "markdown",
   "id": "77931d74",
   "metadata": {},
   "source": [
    "`SELECT SUM(price_amount)\n",
    "FROM acquisition\n",
    "WHERE term_code = 'cash'\n",
    "    AND EXTRACT(YEAR FROM CAST(acquired_at AS date)) BETWEEN 2011 AND 2013`"
   ]
  },
  {
   "cell_type": "markdown",
   "id": "b6696476",
   "metadata": {},
   "source": [
    "<hr>"
   ]
  },
  {
   "cell_type": "markdown",
   "id": "0b5e4aee",
   "metadata": {},
   "source": [
    "**4. Отобразите имя, фамилию и названия аккаунтов людей в твиттере, у которых названия аккаунтов начинаются на `'Silver'`.**"
   ]
  },
  {
   "cell_type": "markdown",
   "id": "45cdbd56",
   "metadata": {},
   "source": [
    "**SQL-запрос решения:**"
   ]
  },
  {
   "cell_type": "markdown",
   "id": "6f6b2690",
   "metadata": {},
   "source": [
    "`SELECT  first_name,\n",
    "        last_name,\n",
    "        twitter_username\n",
    "FROM people\n",
    "WHERE twitter_username LIKE 'Silver%'`"
   ]
  },
  {
   "cell_type": "markdown",
   "id": "de53b397",
   "metadata": {},
   "source": [
    "<hr>"
   ]
  },
  {
   "cell_type": "markdown",
   "id": "bffe86e1",
   "metadata": {},
   "source": [
    "**5. Выведите на экран всю информацию о людях, у которых названия аккаунтов в твиттере содержат подстроку `'money'`, а фамилия начинается на `'K'`.**"
   ]
  },
  {
   "cell_type": "markdown",
   "id": "fef4107e",
   "metadata": {},
   "source": [
    "**SQL-запрос решения:**"
   ]
  },
  {
   "cell_type": "markdown",
   "id": "af2bc446",
   "metadata": {},
   "source": [
    "`SELECT *\n",
    "FROM people\n",
    "WHERE last_name LIKE 'K%'\n",
    "    AND twitter_username LIKE '%money%'`"
   ]
  },
  {
   "cell_type": "markdown",
   "id": "45b4dc15",
   "metadata": {},
   "source": [
    "<hr>"
   ]
  },
  {
   "cell_type": "markdown",
   "id": "eaedb3aa",
   "metadata": {},
   "source": [
    "**6. Для каждой страны отобразите общую сумму привлечённых инвестиций, которые получили компании, зарегистрированные в этой стране. Страну, в которой зарегистрирована компания, можно определить по коду страны. Отсортируйте данные по убыванию суммы.**"
   ]
  },
  {
   "cell_type": "markdown",
   "id": "c4061758",
   "metadata": {},
   "source": [
    "**SQL-запрос решения:**"
   ]
  },
  {
   "cell_type": "markdown",
   "id": "f6baa9d6",
   "metadata": {},
   "source": [
    "`SELECT country_code,\n",
    "    SUM(funding_total) as total\n",
    "FROM company\n",
    "GROUP BY country_code\n",
    "ORDER BY total DESC`"
   ]
  },
  {
   "cell_type": "markdown",
   "id": "c1aa87dd",
   "metadata": {},
   "source": [
    "<hr>"
   ]
  },
  {
   "cell_type": "markdown",
   "id": "5c6b1250",
   "metadata": {},
   "source": [
    "**7. Составьте таблицу, в которую войдёт дата проведения раунда, а также минимальное и максимальное значения суммы инвестиций, привлечённых в эту дату.**\n",
    "\n",
    "Оставьте в итоговой таблице только те записи, в которых минимальное значение суммы инвестиций не равно нулю и не равно максимальному значению."
   ]
  },
  {
   "cell_type": "markdown",
   "id": "91d43305",
   "metadata": {},
   "source": [
    "**SQL-запрос решения:**"
   ]
  },
  {
   "cell_type": "markdown",
   "id": "c55b32e9",
   "metadata": {},
   "source": [
    "`SELECT funded_at,\n",
    "    MIN(raised_amount),\n",
    "    MAX(raised_amount)\n",
    "FROM funding_round\n",
    "GROUP BY funded_at\n",
    "HAVING MIN(raised_amount) != 0\n",
    "    AND MIN(raised_amount) != MAX(raised_amount)`"
   ]
  },
  {
   "cell_type": "markdown",
   "id": "b17aa689",
   "metadata": {},
   "source": [
    "<hr>"
   ]
  },
  {
   "cell_type": "markdown",
   "id": "eb4d8a06",
   "metadata": {
    "lang": "ru"
   },
   "source": [
    "**8. Создайте поле с категориями:**\n",
    "- Для фондов, которые инвестируют в 100 и более компаний, назначьте категорию `high_activity`.\n",
    "- Для фондов, которые инвестируют в 20 и более компаний до 100, назначьте категорию `middle_activity`.\n",
    "- Если количество инвестируемых компаний фонда не достигает 20, назначьте категорию `low_activity`.\n",
    "\n",
    "Отобразите все поля таблицы `fund` и новое поле с категориями."
   ]
  },
  {
   "cell_type": "markdown",
   "id": "70c12c8c",
   "metadata": {},
   "source": [
    "**SQL-запрос решения:**"
   ]
  },
  {
   "cell_type": "markdown",
   "id": "6243a074",
   "metadata": {},
   "source": [
    "`SELECT *,\n",
    "    CASE\n",
    "        WHEN invested_companies >= 100 THEN 'high_activity'\n",
    "        WHEN invested_companies >= 20 THEN 'middle_activity'\n",
    "        ELSE 'low_activity'   \n",
    "    END\n",
    "FROM fund`"
   ]
  },
  {
   "cell_type": "markdown",
   "id": "33f6519c",
   "metadata": {},
   "source": [
    "<hr>"
   ]
  },
  {
   "cell_type": "markdown",
   "id": "1779098e",
   "metadata": {},
   "source": [
    "**9. Для каждой из категорий, назначенных в предыдущем задании, посчитайте округлённое до ближайшего целого числа среднее количество инвестиционных раундов, в которых фонд принимал участие. Выведите на экран категории и среднее число инвестиционных раундов. Отсортируйте таблицу по возрастанию среднего.**"
   ]
  },
  {
   "cell_type": "markdown",
   "id": "a32922ba",
   "metadata": {},
   "source": [
    "**SQL-запрос решения:**"
   ]
  },
  {
   "cell_type": "markdown",
   "id": "051fdf66",
   "metadata": {},
   "source": [
    "`WITH\n",
    "a AS (SELECT *,\n",
    "       CASE\n",
    "           WHEN invested_companies>=100 THEN 'high_activity'\n",
    "           WHEN invested_companies>=20 THEN 'middle_activity'\n",
    "           ELSE 'low_activity'\n",
    "       END AS activity\n",
    "FROM fund)\n",
    "SELECT a.activity,\n",
    "    ROUND(AVG(a.investment_rounds), 0) as avg_rounds\n",
    "FROM a\n",
    "GROUP BY a.activity\n",
    "ORDER BY avg_rounds`"
   ]
  },
  {
   "cell_type": "markdown",
   "id": "86746349",
   "metadata": {},
   "source": [
    "<hr>"
   ]
  },
  {
   "cell_type": "markdown",
   "id": "8315769c",
   "metadata": {},
   "source": [
    "**10. Проанализируйте, в каких странах находятся фонды, которые чаще всего инвестируют в стартапы.**  \n",
    "\n",
    "Для каждой страны посчитайте минимальное, максимальное и среднее число компаний, в которые инвестировали фонды этой страны, основанные с 2010 по 2012 год включительно. Исключите страны с фондами, у которых минимальное число компаний, получивших инвестиции, равно нулю. \n",
    "\n",
    "Выгрузите десять самых активных стран-инвесторов: отсортируйте таблицу по среднему количеству компаний от большего к меньшему. Затем добавьте сортировку по коду страны в лексикографическом порядке."
   ]
  },
  {
   "cell_type": "markdown",
   "id": "380c8bb3",
   "metadata": {},
   "source": [
    "**SQL-запрос решения:**"
   ]
  },
  {
   "cell_type": "markdown",
   "id": "73e89b3f",
   "metadata": {},
   "source": [
    "`SELECT country_code,\n",
    "              MIN(invested_companies) AS min_inv,\n",
    "              MAX(invested_companies) AS max_inv,\n",
    "              AVG(invested_companies) AS avg_inv\n",
    "        FROM fund\n",
    "        WHERE EXTRACT(YEAR FROM CAST(founded_at AS date)) BETWEEN 2010 AND 2012\n",
    "        GROUP BY country_code\n",
    "        HAVING MIN(invested_companies) != 0\n",
    "        ORDER BY avg_inv DESC\n",
    "        LIMIT 10`"
   ]
  },
  {
   "cell_type": "markdown",
   "id": "79178606",
   "metadata": {},
   "source": [
    "<hr>"
   ]
  },
  {
   "cell_type": "markdown",
   "id": "e0db9ca2",
   "metadata": {},
   "source": [
    "**11. Отобразите имя и фамилию всех сотрудников стартапов. Добавьте поле с названием учебного заведения, которое окончил сотрудник, если эта информация известна.**"
   ]
  },
  {
   "cell_type": "markdown",
   "id": "382aa310",
   "metadata": {},
   "source": [
    "**SQL-запрос решения:**"
   ]
  },
  {
   "cell_type": "markdown",
   "id": "2c50ac1d",
   "metadata": {},
   "source": [
    "`SELECT p.first_name,\n",
    "    p.last_name,\n",
    "    e.instituition\n",
    "FROM people AS p\n",
    "LEFT JOIN education AS e ON e.person_id = p.id`"
   ]
  },
  {
   "cell_type": "markdown",
   "id": "6a602e11",
   "metadata": {},
   "source": [
    "<hr>"
   ]
  },
  {
   "cell_type": "markdown",
   "id": "a7ca4220",
   "metadata": {},
   "source": [
    "**12. Для каждой компании найдите количество учебных заведений, которые окончили её сотрудники. Выведите название компании и число уникальных названий учебных заведений. Составьте топ-5 компаний по количеству университетов.**"
   ]
  },
  {
   "cell_type": "markdown",
   "id": "21534174",
   "metadata": {},
   "source": [
    "**SQL-запрос решения:**"
   ]
  },
  {
   "cell_type": "markdown",
   "id": "fc097838",
   "metadata": {},
   "source": [
    "`WITH\n",
    "d AS (SELECT *\n",
    "    FROM company AS c\n",
    "    LEFT JOIN people AS p ON p.company_id = c.id\n",
    "    LEFT JOIN education AS e ON e.person_id = p.id\n",
    ")\n",
    "SELECT d.name,\n",
    "    COUNT(DISTINCT d.instituition) AS count_inst\n",
    "FROM d\n",
    "GROUP BY d.name\n",
    "ORDER BY count_inst DESC\n",
    "LIMIT 5;`"
   ]
  },
  {
   "cell_type": "markdown",
   "id": "5c86e87c",
   "metadata": {},
   "source": [
    "<hr>"
   ]
  },
  {
   "cell_type": "markdown",
   "id": "fee9c51d",
   "metadata": {},
   "source": [
    "**13. Составьте список с уникальными названиями закрытых компаний, для которых первый раунд финансирования оказался последним.**"
   ]
  },
  {
   "cell_type": "markdown",
   "id": "2fcc233c",
   "metadata": {},
   "source": [
    "**SQL-запрос решения:**"
   ]
  },
  {
   "cell_type": "markdown",
   "id": "bb379046",
   "metadata": {},
   "source": [
    "`SELECT DISTINCT c.name\n",
    "FROM company AS c\n",
    "LEFT JOIN funding_round AS fr ON fr.company_id = c.id\n",
    "WHERE c.status = 'closed'\n",
    "    AND c.closed_at IS NOT NULL\n",
    "    AND fr.is_first_round = 1\n",
    "    AND fr.is_first_round = fr.is_last_round`"
   ]
  },
  {
   "cell_type": "markdown",
   "id": "e696524f",
   "metadata": {},
   "source": [
    "<hr>"
   ]
  },
  {
   "cell_type": "markdown",
   "id": "acde10b5",
   "metadata": {},
   "source": [
    "**14. Составьте список уникальных номеров сотрудников, которые работают в компаниях, отобранных в предыдущем задании.**"
   ]
  },
  {
   "cell_type": "markdown",
   "id": "cc2a6290",
   "metadata": {},
   "source": [
    "**SQL-запрос решения:**"
   ]
  },
  {
   "cell_type": "markdown",
   "id": "c4a47b28",
   "metadata": {},
   "source": [
    "`WITH\n",
    "cc AS (SELECT DISTINCT c.id AS id\n",
    "        FROM company AS c\n",
    "        LEFT JOIN funding_round AS fr ON fr.company_id = c.id\n",
    "        WHERE c.status = 'closed'\n",
    "            AND c.closed_at IS NOT NULL\n",
    "            AND fr.is_first_round = 1\n",
    "            AND fr.is_first_round = fr.is_last_round)\n",
    "SELECT p.id\n",
    "FROM people AS p\n",
    "LEFT JOIN cc AS c ON c.id = p.company_id\n",
    "WHERE c.id IS NOT NULL`"
   ]
  },
  {
   "cell_type": "markdown",
   "id": "facb3233",
   "metadata": {},
   "source": [
    "<hr>"
   ]
  },
  {
   "cell_type": "markdown",
   "id": "5f02de8d",
   "metadata": {},
   "source": [
    "**15. Составьте таблицу, куда войдут уникальные пары с номерами сотрудников из предыдущей задачи и учебным заведением, которое окончил сотрудник.**"
   ]
  },
  {
   "cell_type": "markdown",
   "id": "8d73c0fe",
   "metadata": {},
   "source": [
    "**SQL-запрос решения:**"
   ]
  },
  {
   "cell_type": "markdown",
   "id": "e0d7942f",
   "metadata": {},
   "source": [
    "`WITH\n",
    "cc AS (SELECT DISTINCT c.id AS id\n",
    "        FROM company AS c\n",
    "        LEFT JOIN funding_round AS fr ON fr.company_id = c.id\n",
    "        WHERE c.status = 'closed'\n",
    "            AND c.closed_at IS NOT NULL\n",
    "            AND fr.is_first_round = 1\n",
    "            AND fr.is_first_round = fr.is_last_round)\n",
    "SELECT p.id,\n",
    "        e.instituition\n",
    "FROM people AS p\n",
    "LEFT JOIN cc AS c ON c.id = p.company_id\n",
    "LEFT JOIN education AS e ON e.person_id = p.id\n",
    "WHERE c.id IS NOT NULL\n",
    "GROUP BY p.id, e.instituition\n",
    "HAVING e.instituition IS NOT NULL`"
   ]
  },
  {
   "cell_type": "markdown",
   "id": "91480b61",
   "metadata": {},
   "source": [
    "<hr>"
   ]
  },
  {
   "cell_type": "markdown",
   "id": "06c1c524",
   "metadata": {},
   "source": [
    "**16. Посчитайте количество учебных заведений для каждого сотрудника из предыдущего задания. При подсчёте учитывайте, что некоторые сотрудники могли окончить одно и то же заведение дважды.**"
   ]
  },
  {
   "cell_type": "markdown",
   "id": "0d98e430",
   "metadata": {},
   "source": [
    "**SQL-запрос решения:**"
   ]
  },
  {
   "cell_type": "markdown",
   "id": "76ef012e",
   "metadata": {},
   "source": [
    "`WITH\n",
    "cc AS (SELECT DISTINCT c.id AS id\n",
    "        FROM company AS c\n",
    "        LEFT JOIN funding_round AS fr ON fr.company_id = c.id\n",
    "        WHERE c.status = 'closed'\n",
    "            AND c.closed_at IS NOT NULL\n",
    "            AND fr.is_first_round = 1\n",
    "            AND fr.is_first_round = fr.is_last_round)\n",
    "SELECT p.id,\n",
    "        COUNT(e.instituition)\n",
    "FROM people AS p\n",
    "LEFT JOIN cc AS c ON c.id = p.company_id\n",
    "LEFT JOIN education AS e ON e.person_id = p.id\n",
    "WHERE c.id IS NOT NULL\n",
    "GROUP BY p.id\n",
    "HAVING COUNT(e.instituition) != 0`"
   ]
  },
  {
   "cell_type": "markdown",
   "id": "3d12546a",
   "metadata": {},
   "source": [
    "<hr>"
   ]
  },
  {
   "cell_type": "markdown",
   "id": "8ce3c370",
   "metadata": {},
   "source": [
    "**17. Дополните предыдущий запрос и выведите среднее число учебных заведений (всех, не только уникальных), которые окончили сотрудники разных компаний. Нужно вывести только одну запись, группировка здесь не понадобится.**"
   ]
  },
  {
   "cell_type": "markdown",
   "id": "eac89505",
   "metadata": {},
   "source": [
    "**SQL-запрос решения:**"
   ]
  },
  {
   "cell_type": "markdown",
   "id": "e9fb25cd",
   "metadata": {},
   "source": [
    "`WITH\n",
    "cc AS (SELECT DISTINCT c.id AS id\n",
    "        FROM company AS c\n",
    "        LEFT JOIN funding_round AS fr ON fr.company_id = c.id\n",
    "        WHERE c.status = 'closed'\n",
    "            AND c.closed_at IS NOT NULL\n",
    "            AND fr.is_first_round = 1\n",
    "            AND fr.is_first_round = fr.is_last_round),\n",
    "cp AS(SELECT p.id,\n",
    "        COUNT(e.instituition)\n",
    "FROM people AS p\n",
    "LEFT JOIN cc AS c ON c.id = p.company_id\n",
    "LEFT JOIN education AS e ON e.person_id = p.id\n",
    "WHERE c.id IS NOT NULL\n",
    "GROUP BY p.id\n",
    "HAVING COUNT(e.instituition) != 0)\n",
    "SELECT AVG(count)\n",
    "FROM cp`"
   ]
  },
  {
   "cell_type": "markdown",
   "id": "4d6e10ad",
   "metadata": {},
   "source": [
    "<hr>"
   ]
  },
  {
   "cell_type": "markdown",
   "id": "283a1c78",
   "metadata": {},
   "source": [
    "**18. Составьте таблицу из полей:**\n",
    "- `name_of_fund` — название фонда;\n",
    "- `name_of_company` — название компании;\n",
    "- `amount` — сумма инвестиций, которую привлекла компания в раунде.\n",
    "\n",
    "В таблицу войдут данные о компаниях, в истории которых было больше шести важных этапов, а раунды финансирования проходили с 2012 по 2013 год включительно."
   ]
  },
  {
   "cell_type": "markdown",
   "id": "613b18a5",
   "metadata": {},
   "source": [
    "**SQL-запрос решения:**"
   ]
  },
  {
   "cell_type": "markdown",
   "id": "5fbe75ca",
   "metadata": {},
   "source": [
    "`SELECT f.name AS name_of_fund,\n",
    "        c.name AS name_of_company,\n",
    "        fr.raised_amount AS amount\n",
    "FROM investment AS i\n",
    "LEFT JOIN company AS c ON c.id = i.company_id\n",
    "LEFT JOIN fund AS f ON f.id = i.fund_id\n",
    "JOIN funding_round AS fr ON fr.id = i.funding_round_id\n",
    "WHERE c.milestones > 6\n",
    "    AND EXTRACT(YEAR FROM CAST(fr.funded_at AS date)) BETWEEN 2012 AND 2013\n",
    "    AND fr.raised_amount > 0`"
   ]
  },
  {
   "cell_type": "markdown",
   "id": "ba26289d",
   "metadata": {},
   "source": [
    "<hr>"
   ]
  },
  {
   "cell_type": "markdown",
   "id": "0c812872",
   "metadata": {},
   "source": [
    "**19. Выгрузите таблицу, в которой будут такие поля:**\n",
    "- название компании-покупателя;\n",
    "- сумма сделки;\n",
    "- название компании, которую купили;\n",
    "- сумма инвестиций, вложенных в купленную компанию;\n",
    "- доля, которая отображает, во сколько раз сумма покупки превысила сумму вложенных в компанию инвестиций, округлённая до ближайшего целого числа.\n",
    "\n",
    "Не учитывайте те сделки, в которых сумма покупки равна нулю. Если сумма инвестиций в компанию равна нулю, исключите такую компанию из таблицы. \n",
    "\n",
    "Отсортируйте таблицу по сумме сделки от большей к меньшей, а затем по названию купленной компании в лексикографическом порядке. Ограничьте таблицу первыми десятью записями."
   ]
  },
  {
   "cell_type": "markdown",
   "id": "6458d64a",
   "metadata": {},
   "source": [
    "**SQL-запрос решения:**"
   ]
  },
  {
   "cell_type": "markdown",
   "id": "bf2093dc",
   "metadata": {},
   "source": [
    "`SELECT c1.name AS acquiring,\n",
    "    a.price_amount AS price,\n",
    "    c2.name AS acquired,\n",
    "    c2.funding_total AS investment,\n",
    "    ROUND(a.price_amount/c2.funding_total, 0) AS roi\n",
    "FROM acquisition AS a\n",
    "LEFT JOIN company as c1 on c1.id = a.acquiring_company_id\n",
    "LEFT JOIN company as c2 on c2.id = a.acquired_company_id\n",
    "WHERE a.price_amount > 0\n",
    "    AND c2.funding_total > 0\n",
    "ORDER BY price DESC, acquired\n",
    "LIMIT 10`"
   ]
  },
  {
   "cell_type": "markdown",
   "id": "e4aaa756",
   "metadata": {},
   "source": [
    "<hr>"
   ]
  },
  {
   "cell_type": "markdown",
   "id": "60252783",
   "metadata": {},
   "source": [
    "**20. Выгрузите таблицу, в которую войдут названия компаний из категории `social`, получившие финансирование с 2010 по 2013 год включительно. Проверьте, что сумма инвестиций не равна нулю. Выведите также номер месяца, в котором проходил раунд финансирования.**"
   ]
  },
  {
   "cell_type": "markdown",
   "id": "67e5c3e0",
   "metadata": {},
   "source": [
    "**SQL-запрос решения:**"
   ]
  },
  {
   "cell_type": "markdown",
   "id": "8cbbba99",
   "metadata": {},
   "source": [
    "`SELECT c.name,\n",
    "      EXTRACT(MONTH FROM CAST(fr.funded_at AS date)) AS month\n",
    "FROM company AS c\n",
    "LEFT JOIN funding_round AS fr ON fr.company_id = c.id\n",
    "WHERE c.category_code = 'social'\n",
    "    AND EXTRACT(YEAR FROM CAST(fr.funded_at AS date)) BETWEEN 2010 AND 2013\n",
    "`"
   ]
  },
  {
   "cell_type": "markdown",
   "id": "445981d5",
   "metadata": {},
   "source": [
    "<hr>"
   ]
  },
  {
   "cell_type": "markdown",
   "id": "8d15faef",
   "metadata": {},
   "source": [
    "**21. Отберите данные по месяцам с 2010 по 2013 год, когда проходили инвестиционные раунды. Сгруппируйте данные по номеру месяца и получите таблицу, в которой будут поля:**\n",
    "- номер месяца, в котором проходили раунды;\n",
    "- количество уникальных названий фондов из США, которые инвестировали в этом месяце;\n",
    "- количество компаний, купленных за этот месяц;\n",
    "- общая сумма сделок по покупкам в этом месяце."
   ]
  },
  {
   "cell_type": "markdown",
   "id": "f2dcb883",
   "metadata": {},
   "source": [
    "**SQL-запрос решения:**"
   ]
  },
  {
   "cell_type": "markdown",
   "id": "5d16a319",
   "metadata": {},
   "source": [
    "`WITH\n",
    "fm AS (SELECT DISTINCT EXTRACT(MONTH FROM CAST(funded_at AS date)) AS month\n",
    "      FROM funding_round\n",
    "      WHERE EXTRACT(YEAR FROM CAST(funded_at AS date)) BETWEEN 2010 AND 2013),\n",
    "fr_id AS (SELECT id,\n",
    "          EXTRACT(MONTH FROM CAST(funded_at AS date)) AS month\n",
    "         FROM funding_round\n",
    "         WHERE EXTRACT(YEAR FROM CAST(funded_at AS date)) BETWEEN 2010 AND 2013),\n",
    "f_usa AS (SELECT fr.month AS month,\n",
    "                  COUNT(DISTINCT f.name) AS count\n",
    "         FROM fund AS f\n",
    "         JOIN investment AS i ON i.fund_id = f.id\n",
    "         JOIN fr_id AS fr ON fr.id = i.funding_round_id\n",
    "         WHERE f.country_code = 'USA'\n",
    "         GROUP BY fr.month),\n",
    "ac AS (SELECT EXTRACT(MONTH FROM CAST(acquired_at AS date)) AS month,\n",
    "       COUNT(acquired_company_id) AS count,\n",
    "       SUM(price_amount) AS sum\n",
    "      FROM acquisition\n",
    "      WHERE EXTRACT(YEAR FROM CAST(acquired_at AS date)) BETWEEN 2010 AND 2013\n",
    "      GROUP BY month)\n",
    "SELECT fm.month,\n",
    "        f.count,\n",
    "        ac.count,\n",
    "        ac.sum\n",
    "FROM fm AS fm\n",
    "LEFT JOIN f_usa AS f ON f.month = fm.month\n",
    "LEFT JOIN ac AS ac ON ac.month = fm.month`"
   ]
  },
  {
   "cell_type": "markdown",
   "id": "a8b9cb05",
   "metadata": {},
   "source": [
    "<hr>"
   ]
  },
  {
   "cell_type": "markdown",
   "id": "50022f80",
   "metadata": {},
   "source": [
    "**22. Составьте сводную таблицу и выведите среднюю сумму инвестиций для стран, в которых есть стартапы, зарегистрированные в 2011, 2012 и 2013 годах. Данные за каждый год должны быть в отдельном поле. Отсортируйте таблицу по среднему значению инвестиций за 2011 год от большего к меньшему.**"
   ]
  },
  {
   "cell_type": "markdown",
   "id": "44402522",
   "metadata": {},
   "source": [
    "**SQL-запрос решения:**"
   ]
  },
  {
   "cell_type": "markdown",
   "id": "decb7e18",
   "metadata": {},
   "source": [
    "`WITH\n",
    "cc AS (SELECT DISTINCT country_code\n",
    "      FROM fund),\n",
    "i_2011 AS (SELECT country_code,\n",
    "          AVG(funding_total) AS avg\n",
    "          FROM company\n",
    "          WHERE EXTRACT(YEAR FROM CAST(founded_at AS date)) = 2011\n",
    "          GROUP BY country_code),\n",
    "i_2012 AS (SELECT country_code,\n",
    "          AVG(funding_total) AS avg\n",
    "          FROM company\n",
    "          WHERE EXTRACT(YEAR FROM CAST(founded_at AS date)) = 2012\n",
    "          GROUP BY country_code),\n",
    "i_2013 AS (SELECT country_code,\n",
    "          AVG(funding_total) AS avg\n",
    "          FROM company\n",
    "          WHERE EXTRACT(YEAR FROM CAST(founded_at AS date)) = 2013\n",
    "          GROUP BY country_code),\n",
    "a_2011 AS (SELECT f.country_code AS country_code,\n",
    "               AVG(fr.raised_amount) as avg\n",
    "          FROM fund AS f\n",
    "          JOIN investment AS i ON i.fund_id = f.id\n",
    "          JOIN funding_round AS fr ON fr.id = i.funding_round_id\n",
    "          WHERE f.country_code IN (SELECT country_code FROM i_2011)\n",
    "              AND EXTRACT(YEAR FROM CAST(fr.funded_at AS date)) = 2011\n",
    "               AND fr.raised_amount > 0\n",
    "          GROUP BY  f.country_code),\n",
    "a_2012 AS (SELECT f.country_code AS country_code,\n",
    "               AVG(fr.raised_amount) as avg\n",
    "          FROM fund AS f\n",
    "          JOIN investment AS i ON i.fund_id = f.id\n",
    "          JOIN funding_round AS fr ON fr.id = i.funding_round_id\n",
    "          WHERE f.country_code IN (SELECT country_code FROM i_2012)\n",
    "              AND EXTRACT(YEAR FROM CAST(fr.funded_at AS date)) = 2012\n",
    "           AND fr.raised_amount > 0\n",
    "          GROUP BY  f.country_code),\n",
    "a_2013 AS (SELECT f.country_code AS country_code,\n",
    "           AVG(fr.raised_amount) as avg\n",
    "          FROM fund AS f\n",
    "          JOIN investment AS i ON i.fund_id = f.id\n",
    "          JOIN funding_round AS fr ON fr.id = i.funding_round_id\n",
    "          WHERE f.country_code IN (SELECT country_code FROM i_2013)\n",
    "              AND EXTRACT(YEAR FROM CAST(fr.funded_at AS date)) = 2013\n",
    "           AND fr.raised_amount > 0\n",
    "          GROUP BY f.country_code)\n",
    "SELECT i_2011.country_code AS country,\n",
    "        i_2011.avg AS avg_2011,\n",
    "        i_2012.avg AS avg_2012,\n",
    "        i_2013.avg AS avg_2013\n",
    "FROM i_2011\n",
    "JOIN i_2012 ON i_2012.country_code = i_2011.country_code\n",
    "JOIN i_2013 ON i_2013.country_code = i_2012.country_code\n",
    "ORDER BY avg_2011 DESC`"
   ]
  },
  {
   "cell_type": "markdown",
   "id": "387d9db2",
   "metadata": {},
   "source": [
    "<hr>"
   ]
  }
 ],
 "metadata": {
  "kernelspec": {
   "display_name": "Python 3 (ipykernel)",
   "language": "python",
   "name": "python3"
  },
  "language_info": {
   "codemirror_mode": {
    "name": "ipython",
    "version": 3
   },
   "file_extension": ".py",
   "mimetype": "text/x-python",
   "name": "python",
   "nbconvert_exporter": "python",
   "pygments_lexer": "ipython3",
   "version": "3.9.13"
  },
  "nbTranslate": {
   "displayLangs": [
    "ru",
    "en"
   ],
   "hotkey": "alt-t",
   "langInMainMenu": true,
   "sourceLang": "ru",
   "targetLang": "en",
   "useGoogleTranslate": true
  },
  "varInspector": {
   "cols": {
    "lenName": 16,
    "lenType": 16,
    "lenVar": 40
   },
   "kernels_config": {
    "python": {
     "delete_cmd_postfix": "",
     "delete_cmd_prefix": "del ",
     "library": "var_list.py",
     "varRefreshCmd": "print(var_dic_list())"
    },
    "r": {
     "delete_cmd_postfix": ") ",
     "delete_cmd_prefix": "rm(",
     "library": "var_list.r",
     "varRefreshCmd": "cat(var_dic_list()) "
    }
   },
   "types_to_exclude": [
    "module",
    "function",
    "builtin_function_or_method",
    "instance",
    "_Feature"
   ],
   "window_display": false
  }
 },
 "nbformat": 4,
 "nbformat_minor": 5
}
