{
 "cells": [
  {
   "cell_type": "markdown",
   "metadata": {},
   "source": [
    "# Исследование надёжности заёмщиков — анализ банковских данных\n",
    "\n",
    "## Описание проекта\n",
    "\n",
    "Заказчик — кредитный отдел банка. Нужно разобраться, влияет ли семейное положение и количество детей клиента на факт погашения кредита в срок. Входные данные от банка — статистика о платёжеспособности клиентов. \n",
    "\n",
    "Результаты исследования будут учтены при построении модели кредитного скоринга — специальной системы, которая оценивает способность потенциального заёмщика вернуть кредит банку.\n",
    "\n",
    "### Цель исследования — проверить гипотезы:\n",
    "\n",
    "- Есть ли зависимость между количеством детей и возвратом кредита в срок?\n",
    "- Есть ли зависимость между семейным положением и возвратом кредита в срок?\n",
    "- Есть ли зависимость между уровнем дохода и возвратом кредита в срок?\n",
    "- Как разные цели кредита влияют на его возврат в срок?\n",
    "\n",
    "\n",
    "## Описание данных\n",
    "\n",
    "Ниже описание колонок из таблицы `/datasets/data.csv`:\n",
    "\n",
    "- `children` — количество детей в семье\n",
    "- `days_employed` — общий трудовой стаж в днях\n",
    "- `dob_years` — возраст клиента в годах\n",
    "- `education` — уровень образования клиента\n",
    "- `education_id` — идентификатор уровня образования\n",
    "- `family_status` — семейное положение\n",
    "- `family_status_id` — идентификатор семейного положения\n",
    "- `gender` — пол клиента\n",
    "- `income_type` — тип занятости\n",
    "- `debt` — имел ли задолженность по возврату кредитов\n",
    "- `total_income` — ежемесячный доход\n",
    "- `purpose` — цель получения кредита"
   ]
  },
  {
   "cell_type": "markdown",
   "metadata": {},
   "source": [
    "## 1. Изучим общую информацию"
   ]
  },
  {
   "cell_type": "code",
   "execution_count": 1,
   "metadata": {},
   "outputs": [
    {
     "data": {
      "text/html": [
       "<div>\n",
       "<style scoped>\n",
       "    .dataframe tbody tr th:only-of-type {\n",
       "        vertical-align: middle;\n",
       "    }\n",
       "\n",
       "    .dataframe tbody tr th {\n",
       "        vertical-align: top;\n",
       "    }\n",
       "\n",
       "    .dataframe thead th {\n",
       "        text-align: right;\n",
       "    }\n",
       "</style>\n",
       "<table border=\"1\" class=\"dataframe\">\n",
       "  <thead>\n",
       "    <tr style=\"text-align: right;\">\n",
       "      <th></th>\n",
       "      <th>children</th>\n",
       "      <th>days_employed</th>\n",
       "      <th>dob_years</th>\n",
       "      <th>education</th>\n",
       "      <th>education_id</th>\n",
       "      <th>family_status</th>\n",
       "      <th>family_status_id</th>\n",
       "      <th>gender</th>\n",
       "      <th>income_type</th>\n",
       "      <th>debt</th>\n",
       "      <th>total_income</th>\n",
       "      <th>purpose</th>\n",
       "    </tr>\n",
       "  </thead>\n",
       "  <tbody>\n",
       "    <tr>\n",
       "      <th>0</th>\n",
       "      <td>1</td>\n",
       "      <td>-8437.673028</td>\n",
       "      <td>42</td>\n",
       "      <td>высшее</td>\n",
       "      <td>0</td>\n",
       "      <td>женат / замужем</td>\n",
       "      <td>0</td>\n",
       "      <td>F</td>\n",
       "      <td>сотрудник</td>\n",
       "      <td>0</td>\n",
       "      <td>253875.639453</td>\n",
       "      <td>покупка жилья</td>\n",
       "    </tr>\n",
       "    <tr>\n",
       "      <th>1</th>\n",
       "      <td>1</td>\n",
       "      <td>-4024.803754</td>\n",
       "      <td>36</td>\n",
       "      <td>среднее</td>\n",
       "      <td>1</td>\n",
       "      <td>женат / замужем</td>\n",
       "      <td>0</td>\n",
       "      <td>F</td>\n",
       "      <td>сотрудник</td>\n",
       "      <td>0</td>\n",
       "      <td>112080.014102</td>\n",
       "      <td>приобретение автомобиля</td>\n",
       "    </tr>\n",
       "    <tr>\n",
       "      <th>2</th>\n",
       "      <td>0</td>\n",
       "      <td>-5623.422610</td>\n",
       "      <td>33</td>\n",
       "      <td>Среднее</td>\n",
       "      <td>1</td>\n",
       "      <td>женат / замужем</td>\n",
       "      <td>0</td>\n",
       "      <td>M</td>\n",
       "      <td>сотрудник</td>\n",
       "      <td>0</td>\n",
       "      <td>145885.952297</td>\n",
       "      <td>покупка жилья</td>\n",
       "    </tr>\n",
       "    <tr>\n",
       "      <th>3</th>\n",
       "      <td>3</td>\n",
       "      <td>-4124.747207</td>\n",
       "      <td>32</td>\n",
       "      <td>среднее</td>\n",
       "      <td>1</td>\n",
       "      <td>женат / замужем</td>\n",
       "      <td>0</td>\n",
       "      <td>M</td>\n",
       "      <td>сотрудник</td>\n",
       "      <td>0</td>\n",
       "      <td>267628.550329</td>\n",
       "      <td>дополнительное образование</td>\n",
       "    </tr>\n",
       "    <tr>\n",
       "      <th>4</th>\n",
       "      <td>0</td>\n",
       "      <td>340266.072047</td>\n",
       "      <td>53</td>\n",
       "      <td>среднее</td>\n",
       "      <td>1</td>\n",
       "      <td>гражданский брак</td>\n",
       "      <td>1</td>\n",
       "      <td>F</td>\n",
       "      <td>пенсионер</td>\n",
       "      <td>0</td>\n",
       "      <td>158616.077870</td>\n",
       "      <td>сыграть свадьбу</td>\n",
       "    </tr>\n",
       "    <tr>\n",
       "      <th>...</th>\n",
       "      <td>...</td>\n",
       "      <td>...</td>\n",
       "      <td>...</td>\n",
       "      <td>...</td>\n",
       "      <td>...</td>\n",
       "      <td>...</td>\n",
       "      <td>...</td>\n",
       "      <td>...</td>\n",
       "      <td>...</td>\n",
       "      <td>...</td>\n",
       "      <td>...</td>\n",
       "      <td>...</td>\n",
       "    </tr>\n",
       "    <tr>\n",
       "      <th>21520</th>\n",
       "      <td>1</td>\n",
       "      <td>-4529.316663</td>\n",
       "      <td>43</td>\n",
       "      <td>среднее</td>\n",
       "      <td>1</td>\n",
       "      <td>гражданский брак</td>\n",
       "      <td>1</td>\n",
       "      <td>F</td>\n",
       "      <td>компаньон</td>\n",
       "      <td>0</td>\n",
       "      <td>224791.862382</td>\n",
       "      <td>операции с жильем</td>\n",
       "    </tr>\n",
       "    <tr>\n",
       "      <th>21521</th>\n",
       "      <td>0</td>\n",
       "      <td>343937.404131</td>\n",
       "      <td>67</td>\n",
       "      <td>среднее</td>\n",
       "      <td>1</td>\n",
       "      <td>женат / замужем</td>\n",
       "      <td>0</td>\n",
       "      <td>F</td>\n",
       "      <td>пенсионер</td>\n",
       "      <td>0</td>\n",
       "      <td>155999.806512</td>\n",
       "      <td>сделка с автомобилем</td>\n",
       "    </tr>\n",
       "    <tr>\n",
       "      <th>21522</th>\n",
       "      <td>1</td>\n",
       "      <td>-2113.346888</td>\n",
       "      <td>38</td>\n",
       "      <td>среднее</td>\n",
       "      <td>1</td>\n",
       "      <td>гражданский брак</td>\n",
       "      <td>1</td>\n",
       "      <td>M</td>\n",
       "      <td>сотрудник</td>\n",
       "      <td>1</td>\n",
       "      <td>89672.561153</td>\n",
       "      <td>недвижимость</td>\n",
       "    </tr>\n",
       "    <tr>\n",
       "      <th>21523</th>\n",
       "      <td>3</td>\n",
       "      <td>-3112.481705</td>\n",
       "      <td>38</td>\n",
       "      <td>среднее</td>\n",
       "      <td>1</td>\n",
       "      <td>женат / замужем</td>\n",
       "      <td>0</td>\n",
       "      <td>M</td>\n",
       "      <td>сотрудник</td>\n",
       "      <td>1</td>\n",
       "      <td>244093.050500</td>\n",
       "      <td>на покупку своего автомобиля</td>\n",
       "    </tr>\n",
       "    <tr>\n",
       "      <th>21524</th>\n",
       "      <td>2</td>\n",
       "      <td>-1984.507589</td>\n",
       "      <td>40</td>\n",
       "      <td>среднее</td>\n",
       "      <td>1</td>\n",
       "      <td>женат / замужем</td>\n",
       "      <td>0</td>\n",
       "      <td>F</td>\n",
       "      <td>сотрудник</td>\n",
       "      <td>0</td>\n",
       "      <td>82047.418899</td>\n",
       "      <td>на покупку автомобиля</td>\n",
       "    </tr>\n",
       "  </tbody>\n",
       "</table>\n",
       "<p>21525 rows × 12 columns</p>\n",
       "</div>"
      ],
      "text/plain": [
       "       children  days_employed  dob_years education  education_id  \\\n",
       "0             1   -8437.673028         42    высшее             0   \n",
       "1             1   -4024.803754         36   среднее             1   \n",
       "2             0   -5623.422610         33   Среднее             1   \n",
       "3             3   -4124.747207         32   среднее             1   \n",
       "4             0  340266.072047         53   среднее             1   \n",
       "...         ...            ...        ...       ...           ...   \n",
       "21520         1   -4529.316663         43   среднее             1   \n",
       "21521         0  343937.404131         67   среднее             1   \n",
       "21522         1   -2113.346888         38   среднее             1   \n",
       "21523         3   -3112.481705         38   среднее             1   \n",
       "21524         2   -1984.507589         40   среднее             1   \n",
       "\n",
       "          family_status  family_status_id gender income_type  debt  \\\n",
       "0       женат / замужем                 0      F   сотрудник     0   \n",
       "1       женат / замужем                 0      F   сотрудник     0   \n",
       "2       женат / замужем                 0      M   сотрудник     0   \n",
       "3       женат / замужем                 0      M   сотрудник     0   \n",
       "4      гражданский брак                 1      F   пенсионер     0   \n",
       "...                 ...               ...    ...         ...   ...   \n",
       "21520  гражданский брак                 1      F   компаньон     0   \n",
       "21521   женат / замужем                 0      F   пенсионер     0   \n",
       "21522  гражданский брак                 1      M   сотрудник     1   \n",
       "21523   женат / замужем                 0      M   сотрудник     1   \n",
       "21524   женат / замужем                 0      F   сотрудник     0   \n",
       "\n",
       "        total_income                       purpose  \n",
       "0      253875.639453                 покупка жилья  \n",
       "1      112080.014102       приобретение автомобиля  \n",
       "2      145885.952297                 покупка жилья  \n",
       "3      267628.550329    дополнительное образование  \n",
       "4      158616.077870               сыграть свадьбу  \n",
       "...              ...                           ...  \n",
       "21520  224791.862382             операции с жильем  \n",
       "21521  155999.806512          сделка с автомобилем  \n",
       "21522   89672.561153                  недвижимость  \n",
       "21523  244093.050500  на покупку своего автомобиля  \n",
       "21524   82047.418899         на покупку автомобиля  \n",
       "\n",
       "[21525 rows x 12 columns]"
      ]
     },
     "execution_count": 1,
     "metadata": {},
     "output_type": "execute_result"
    }
   ],
   "source": [
    "# Импортируем библиотеку pandas\n",
    "import pandas as pd\n",
    "\n",
    "# Считываем csv-файл с исходными данными\n",
    "data = pd.read_csv('datasets/data.csv')\n",
    "data"
   ]
  },
  {
   "cell_type": "code",
   "execution_count": 2,
   "metadata": {},
   "outputs": [
    {
     "name": "stdout",
     "output_type": "stream",
     "text": [
      "<class 'pandas.core.frame.DataFrame'>\n",
      "RangeIndex: 21525 entries, 0 to 21524\n",
      "Data columns (total 12 columns):\n",
      " #   Column            Non-Null Count  Dtype  \n",
      "---  ------            --------------  -----  \n",
      " 0   children          21525 non-null  int64  \n",
      " 1   days_employed     19351 non-null  float64\n",
      " 2   dob_years         21525 non-null  int64  \n",
      " 3   education         21525 non-null  object \n",
      " 4   education_id      21525 non-null  int64  \n",
      " 5   family_status     21525 non-null  object \n",
      " 6   family_status_id  21525 non-null  int64  \n",
      " 7   gender            21525 non-null  object \n",
      " 8   income_type       21525 non-null  object \n",
      " 9   debt              21525 non-null  int64  \n",
      " 10  total_income      19351 non-null  float64\n",
      " 11  purpose           21525 non-null  object \n",
      "dtypes: float64(2), int64(5), object(5)\n",
      "memory usage: 2.0+ MB\n"
     ]
    }
   ],
   "source": [
    "# Выводим общую информацию о данных\n",
    "data.info()"
   ]
  },
  {
   "cell_type": "code",
   "execution_count": 3,
   "metadata": {},
   "outputs": [
    {
     "data": {
      "text/plain": [
       " 0     14149\n",
       " 1      4818\n",
       " 2      2055\n",
       " 3       330\n",
       " 20       76\n",
       "-1        47\n",
       " 4        41\n",
       " 5         9\n",
       "Name: children, dtype: int64"
      ]
     },
     "execution_count": 3,
     "metadata": {},
     "output_type": "execute_result"
    }
   ],
   "source": [
    "# Выводим количество значений в колонке 'children'\n",
    "data['children'].value_counts()"
   ]
  },
  {
   "cell_type": "code",
   "execution_count": 4,
   "metadata": {},
   "outputs": [
    {
     "data": {
      "text/plain": [
       "16335   -18388.949901\n",
       "4299    -17615.563266\n",
       "7329    -16593.472817\n",
       "17838   -16264.699501\n",
       "16825   -16119.687737\n",
       "             ...     \n",
       "21489             NaN\n",
       "21495             NaN\n",
       "21497             NaN\n",
       "21502             NaN\n",
       "21510             NaN\n",
       "Name: days_employed, Length: 21525, dtype: float64"
      ]
     },
     "execution_count": 4,
     "metadata": {},
     "output_type": "execute_result"
    }
   ],
   "source": [
    "# Выводим отсортированные по возрастанию значения в колонке 'days_employed'\n",
    "data['days_employed'].sort_values()"
   ]
  },
  {
   "cell_type": "code",
   "execution_count": 5,
   "metadata": {},
   "outputs": [
    {
     "data": {
      "text/plain": [
       "8369     401590.452231\n",
       "10991    401591.828457\n",
       "17823    401614.475622\n",
       "13420    401619.633298\n",
       "4697     401635.032697\n",
       "7794     401663.850046\n",
       "2156     401674.466633\n",
       "7664     401675.093434\n",
       "10006    401715.811749\n",
       "6954     401755.400475\n",
       "Name: days_employed, dtype: float64"
      ]
     },
     "execution_count": 5,
     "metadata": {},
     "output_type": "execute_result"
    }
   ],
   "source": [
    "# Выводим значения в колонке 'days_employed', которые больше 0\n",
    "data[data['days_employed'] > 0]['days_employed'].sort_values().tail(10)"
   ]
  },
  {
   "cell_type": "code",
   "execution_count": 6,
   "metadata": {},
   "outputs": [
    {
     "data": {
      "text/plain": [
       "array([ 0, 19, 20, 21, 22, 23, 24, 25, 26, 27, 28, 29, 30, 31, 32, 33, 34,\n",
       "       35, 36, 37, 38, 39, 40, 41, 42, 43, 44, 45, 46, 47, 48, 49, 50, 51,\n",
       "       52, 53, 54, 55, 56, 57, 58, 59, 60, 61, 62, 63, 64, 65, 66, 67, 68,\n",
       "       69, 70, 71, 72, 73, 74, 75])"
      ]
     },
     "execution_count": 6,
     "metadata": {},
     "output_type": "execute_result"
    }
   ],
   "source": [
    "# Выводим отсортированные по возрастанию уникальные значения в колонке 'dob_years'\n",
    "data['dob_years'].sort_values(ascending=True).unique()"
   ]
  },
  {
   "cell_type": "code",
   "execution_count": 7,
   "metadata": {},
   "outputs": [
    {
     "data": {
      "text/plain": [
       "среднее                13750\n",
       "высшее                  4718\n",
       "СРЕДНЕЕ                  772\n",
       "Среднее                  711\n",
       "неоконченное высшее      668\n",
       "ВЫСШЕЕ                   274\n",
       "Высшее                   268\n",
       "начальное                250\n",
       "Неоконченное высшее       47\n",
       "НЕОКОНЧЕННОЕ ВЫСШЕЕ       29\n",
       "НАЧАЛЬНОЕ                 17\n",
       "Начальное                 15\n",
       "ученая степень             4\n",
       "Ученая степень             1\n",
       "УЧЕНАЯ СТЕПЕНЬ             1\n",
       "Name: education, dtype: int64"
      ]
     },
     "execution_count": 7,
     "metadata": {},
     "output_type": "execute_result"
    }
   ],
   "source": [
    "# Выводим количество значений в колонке 'education'\n",
    "data['education'].value_counts()"
   ]
  },
  {
   "cell_type": "code",
   "execution_count": 8,
   "metadata": {},
   "outputs": [
    {
     "data": {
      "text/plain": [
       "1    15233\n",
       "0     5260\n",
       "2      744\n",
       "3      282\n",
       "4        6\n",
       "Name: education_id, dtype: int64"
      ]
     },
     "execution_count": 8,
     "metadata": {},
     "output_type": "execute_result"
    }
   ],
   "source": [
    "# Выводим количество значений в колонке 'education_id'\n",
    "data['education_id'].value_counts()"
   ]
  },
  {
   "cell_type": "code",
   "execution_count": 9,
   "metadata": {},
   "outputs": [
    {
     "data": {
      "text/plain": [
       "женат / замужем          12380\n",
       "гражданский брак          4177\n",
       "Не женат / не замужем     2813\n",
       "в разводе                 1195\n",
       "вдовец / вдова             960\n",
       "Name: family_status, dtype: int64"
      ]
     },
     "execution_count": 9,
     "metadata": {},
     "output_type": "execute_result"
    }
   ],
   "source": [
    "# Выводим количество значений в колонке 'family_status'\n",
    "data['family_status'].value_counts()"
   ]
  },
  {
   "cell_type": "code",
   "execution_count": 10,
   "metadata": {},
   "outputs": [
    {
     "data": {
      "text/plain": [
       "0    12380\n",
       "1     4177\n",
       "4     2813\n",
       "3     1195\n",
       "2      960\n",
       "Name: family_status_id, dtype: int64"
      ]
     },
     "execution_count": 10,
     "metadata": {},
     "output_type": "execute_result"
    }
   ],
   "source": [
    "# Выводим количество значений в колонке 'family_status_id'\n",
    "data['family_status_id'].value_counts()"
   ]
  },
  {
   "cell_type": "code",
   "execution_count": 11,
   "metadata": {},
   "outputs": [
    {
     "data": {
      "text/plain": [
       "F      14236\n",
       "M       7288\n",
       "XNA        1\n",
       "Name: gender, dtype: int64"
      ]
     },
     "execution_count": 11,
     "metadata": {},
     "output_type": "execute_result"
    }
   ],
   "source": [
    "# Выводим количество значений в колонке 'gender'\n",
    "data['gender'].value_counts()"
   ]
  },
  {
   "cell_type": "code",
   "execution_count": 12,
   "metadata": {},
   "outputs": [
    {
     "data": {
      "text/plain": [
       "сотрудник          11119\n",
       "компаньон           5085\n",
       "пенсионер           3856\n",
       "госслужащий         1459\n",
       "безработный            2\n",
       "предприниматель        2\n",
       "студент                1\n",
       "в декрете              1\n",
       "Name: income_type, dtype: int64"
      ]
     },
     "execution_count": 12,
     "metadata": {},
     "output_type": "execute_result"
    }
   ],
   "source": [
    "# Выводим количество значений в колонке 'income_type'\n",
    "data['income_type'].value_counts()"
   ]
  },
  {
   "cell_type": "code",
   "execution_count": 13,
   "metadata": {},
   "outputs": [
    {
     "data": {
      "text/plain": [
       "0    19784\n",
       "1     1741\n",
       "Name: debt, dtype: int64"
      ]
     },
     "execution_count": 13,
     "metadata": {},
     "output_type": "execute_result"
    }
   ],
   "source": [
    "# Выводим количество значений в колонке 'debt'\n",
    "data['debt'].value_counts()"
   ]
  },
  {
   "cell_type": "code",
   "execution_count": 14,
   "metadata": {},
   "outputs": [
    {
     "data": {
      "text/plain": [
       "14585    20667.263793\n",
       "13006    21205.280566\n",
       "16174    21367.648356\n",
       "1598     21695.101789\n",
       "14276    21895.614355\n",
       "             ...     \n",
       "21489             NaN\n",
       "21495             NaN\n",
       "21497             NaN\n",
       "21502             NaN\n",
       "21510             NaN\n",
       "Name: total_income, Length: 21525, dtype: float64"
      ]
     },
     "execution_count": 14,
     "metadata": {},
     "output_type": "execute_result"
    }
   ],
   "source": [
    "# Выводим отсортированные по возрастанию значения в колонке 'total_income'\n",
    "data['total_income'].sort_values()"
   ]
  },
  {
   "cell_type": "code",
   "execution_count": 15,
   "metadata": {},
   "outputs": [
    {
     "data": {
      "text/plain": [
       "Series([], Name: total_income, dtype: float64)"
      ]
     },
     "execution_count": 15,
     "metadata": {},
     "output_type": "execute_result"
    }
   ],
   "source": [
    "# Выводим отсортированные по возрастанию значения в колонке 'total_income', которые меньше, либо равны 0\n",
    "data[data['total_income'] <= 0]['total_income'].sort_values()"
   ]
  },
  {
   "cell_type": "code",
   "execution_count": 16,
   "metadata": {},
   "outputs": [
    {
     "data": {
      "text/plain": [
       "свадьба                                   797\n",
       "на проведение свадьбы                     777\n",
       "сыграть свадьбу                           774\n",
       "операции с недвижимостью                  676\n",
       "покупка коммерческой недвижимости         664\n",
       "покупка жилья для сдачи                   653\n",
       "операции с жильем                         653\n",
       "операции с коммерческой недвижимостью     651\n",
       "покупка жилья                             647\n",
       "жилье                                     647\n",
       "покупка жилья для семьи                   641\n",
       "строительство собственной недвижимости    635\n",
       "недвижимость                              634\n",
       "операции со своей недвижимостью           630\n",
       "строительство жилой недвижимости          626\n",
       "покупка недвижимости                      624\n",
       "строительство недвижимости                620\n",
       "покупка своего жилья                      620\n",
       "ремонт жилью                              612\n",
       "покупка жилой недвижимости                607\n",
       "на покупку своего автомобиля              505\n",
       "заняться высшим образованием              496\n",
       "автомобиль                                495\n",
       "сделка с подержанным автомобилем          489\n",
       "свой автомобиль                           480\n",
       "на покупку подержанного автомобиля        479\n",
       "автомобили                                478\n",
       "на покупку автомобиля                     472\n",
       "дополнительное образование                462\n",
       "приобретение автомобиля                   462\n",
       "сделка с автомобилем                      455\n",
       "высшее образование                        453\n",
       "образование                               447\n",
       "получение дополнительного образования     447\n",
       "получение образования                     443\n",
       "профильное образование                    436\n",
       "получение высшего образования             426\n",
       "заняться образованием                     412\n",
       "Name: purpose, dtype: int64"
      ]
     },
     "execution_count": 16,
     "metadata": {},
     "output_type": "execute_result"
    }
   ],
   "source": [
    "# Выводим количество значений в колонке 'purpose'\n",
    "data['purpose'].value_counts()"
   ]
  },
  {
   "cell_type": "markdown",
   "metadata": {},
   "source": [
    "**Вывод**"
   ]
  },
  {
   "cell_type": "markdown",
   "metadata": {},
   "source": [
    "Предварительно изучив полученные данные можно выделить следующие ошибки и проблемы:   \n",
    "- Имеются пропуски данных в колонках `days_employed` и `total_income`\n",
    "- В колонке `children` имеются отрицательные значения, что противоречит смыслу колонки\n",
    "- Значения в колонке `days_employed` имеют как отрицательные, так и положительные значения, так же они не целочисленные, что противоречит смыслу колонки.\n",
    "- В колонке `dob_years` имеются значения равные нулю. Но возраст не может быть равен нулю, в связи с чем может потребоваться корректировка данных значений или же их исключение из анализа\n",
    "- Необходимо форматирование значений в колонке `education` для избавления от дублей\n",
    "- Неоходимо создать словари для колонок `education` и `family_status`\n",
    "- В колонке `total_income` может потребоватьсся группировка данных\n",
    "- Колонка `purpose` требует лемматизации для последующей группировки данных по общим категориям"
   ]
  },
  {
   "cell_type": "markdown",
   "metadata": {},
   "source": [
    "## 2. Предобработка данных"
   ]
  },
  {
   "cell_type": "markdown",
   "metadata": {},
   "source": [
    "### Обработка пропусков"
   ]
  },
  {
   "cell_type": "markdown",
   "metadata": {},
   "source": [
    "Нам уже известно, что в колонке `days_employed` имеются пропуски.<br>\n",
    "Пропуски могли возникнуть по нескольким причинам:\n",
    "\n",
    "- данные о клиенте отсутствуют\n",
    "- клиент не захотел указывать информацию\n",
    "- данные не подгрузились в отчет по техническим причинам\n",
    "    "
   ]
  },
  {
   "cell_type": "markdown",
   "metadata": {},
   "source": [
    "Попробуем найти какую-то закономерность в пропусках.<br>\n",
    "Изучим взаимосвязь между возрастом клиента и пропуском в стаже работы. Возможно, пропущены значения для клиентов, не имеющих стажа работы."
   ]
  },
  {
   "cell_type": "code",
   "execution_count": 17,
   "metadata": {},
   "outputs": [
    {
     "data": {
      "text/plain": [
       "array([ 0, 19, 20, 21, 22, 23, 24, 25, 26, 27, 28, 29, 30, 31, 32, 33, 34,\n",
       "       35, 36, 37, 38, 39, 40, 41, 42, 43, 44, 45, 46, 47, 48, 49, 50, 51,\n",
       "       52, 53, 54, 55, 56, 57, 58, 59, 60, 61, 62, 63, 64, 65, 66, 67, 68,\n",
       "       69, 70, 71, 72, 73])"
      ]
     },
     "execution_count": 17,
     "metadata": {},
     "output_type": "execute_result"
    }
   ],
   "source": [
    "# Создадим перемнную для таблицы с пропусками в колонке 'days_employed'\n",
    "data_days_empty = data[data['days_employed'].isna()]\n",
    "\n",
    "# Посомтрим клиенты каких возрастов попали в отфильтрованную таблицу\n",
    "data_days_empty['dob_years'].sort_values().unique()"
   ]
  },
  {
   "cell_type": "markdown",
   "metadata": {},
   "source": [
    "Результаты говорят о том, что взаимосвязи между возрастом и пропусками нет, т.к. практически среди всех возрастов попадается данная проблема.<br><br>\n",
    "Попробуем провести сравнение по колонке `income_type`."
   ]
  },
  {
   "cell_type": "code",
   "execution_count": 18,
   "metadata": {},
   "outputs": [
    {
     "data": {
      "text/plain": [
       "сотрудник          1105\n",
       "компаньон           508\n",
       "пенсионер           413\n",
       "госслужащий         147\n",
       "предприниматель       1\n",
       "Name: income_type, dtype: int64"
      ]
     },
     "execution_count": 18,
     "metadata": {},
     "output_type": "execute_result"
    }
   ],
   "source": [
    "# Посомтрим клиенты с какими должностями попали в отфильтрованную таблицу\n",
    "data_days_empty['income_type'].value_counts()"
   ]
  },
  {
   "cell_type": "markdown",
   "metadata": {},
   "source": [
    "В данном случае тоже не видно сильной взаимосвязи. К тому же мы видим, что причина пропусков не связана с отсутствием работы у клиентов, т.к. большинство из них трудоустроены.<br><br>\n",
    "Попробуем сравнить с ежемесячным доходом."
   ]
  },
  {
   "cell_type": "code",
   "execution_count": 19,
   "metadata": {},
   "outputs": [
    {
     "data": {
      "text/plain": [
       "Series([], Name: total_income, dtype: int64)"
      ]
     },
     "execution_count": 19,
     "metadata": {},
     "output_type": "execute_result"
    }
   ],
   "source": [
    "# Посомтрим клиенты с каким уровнем дохода попали в отфильтрованную таблицу\n",
    "data_days_empty['total_income'].value_counts()"
   ]
  },
  {
   "cell_type": "markdown",
   "metadata": {},
   "source": [
    "Мы получили пустую колонку. Таким образом, у нас имеется 2 колонки, с пропусками в значениях для одних и тех же клиентов.<br>\n",
    "Проверим обратную ситуацию - для всех ли клиентов с отсутствующим уровнем дохода будет отсутствовать и стаж работы?"
   ]
  },
  {
   "cell_type": "code",
   "execution_count": 20,
   "metadata": {},
   "outputs": [
    {
     "data": {
      "text/plain": [
       "Series([], Name: days_employed, dtype: int64)"
      ]
     },
     "execution_count": 20,
     "metadata": {},
     "output_type": "execute_result"
    }
   ],
   "source": [
    "# Клиенты с пропусками в колонке 'total_income'\n",
    "data[data['total_income'].isna()]['days_employed'].value_counts()"
   ]
  },
  {
   "cell_type": "markdown",
   "metadata": {},
   "source": [
    "Наша гипотеза подтвердилась: в обеих колонках с пропусками данные пропущены для одних и тех же клиентов.<br>\n",
    "Вероятнее всего, данные не были подгружены по техническим причинам и скорее всего эти данные брались из другого источника, что объясняло бы одинаковое количество пропусков в обеих колонках."
   ]
  },
  {
   "cell_type": "markdown",
   "metadata": {},
   "source": [
    "Чтобы понять можем ли мы не учитывать данные с пропусками в дальнейшем анализе стоит для начала узнать, какую долю они составляют от общего количества исходной таблицы."
   ]
  },
  {
   "cell_type": "code",
   "execution_count": 21,
   "metadata": {},
   "outputs": [
    {
     "name": "stdout",
     "output_type": "stream",
     "text": [
      "Количество строк в таблице: 21525, из них пропущено в колонке `days_employed`: 2174\n",
      "Доля пропусков в колонке `days_employed` составляет 10%\n"
     ]
    }
   ],
   "source": [
    "# Посчитаем общее количество строк в исходной таблице\n",
    "data_rows_count = data.shape[0]\n",
    "\n",
    "# Посчитаем количество незаполненных строк в колонке 'days_employed'\n",
    "employed_empty_sum = data['days_employed'].isna().sum()\n",
    "print('Количество строк в таблице: ' + str(data_rows_count) + ', из них пропущено в колонке `days_employed`: ' + str(employed_empty_sum))\n",
    "\n",
    "# Посчитаем долю незаполненных строк по отношению к общему количеству\n",
    "employed_empty_share = employed_empty_sum / data_rows_count\n",
    "print('Доля пропусков в колонке `days_employed` составляет {:.0%}'.format(employed_empty_share))"
   ]
  },
  {
   "cell_type": "markdown",
   "metadata": {},
   "source": [
    "Доля пропущенных значений составляет 10%, что достаточно много и мы рискуем потерять большое количество важной информации в ходе анализа при исключении из анализа этих данных.<br><br>\n",
    "В таком случае лучше будет заменить пропущенные значения на какое-то общее значение, характерное для всей выборки (либо для конкретной группы), которое мы можем рассчитать с помощью средней или медианы.<br><br>"
   ]
  },
  {
   "cell_type": "markdown",
   "metadata": {},
   "source": [
    "Прежде чем искать общий показатель для пропущенных значений необходимо разобраться с отрицательными и положительными значениями в колонке `days_employed`"
   ]
  },
  {
   "cell_type": "code",
   "execution_count": 22,
   "metadata": {},
   "outputs": [
    {
     "data": {
      "text/html": [
       "<div>\n",
       "<style scoped>\n",
       "    .dataframe tbody tr th:only-of-type {\n",
       "        vertical-align: middle;\n",
       "    }\n",
       "\n",
       "    .dataframe tbody tr th {\n",
       "        vertical-align: top;\n",
       "    }\n",
       "\n",
       "    .dataframe thead th {\n",
       "        text-align: right;\n",
       "    }\n",
       "</style>\n",
       "<table border=\"1\" class=\"dataframe\">\n",
       "  <thead>\n",
       "    <tr style=\"text-align: right;\">\n",
       "      <th></th>\n",
       "      <th>children</th>\n",
       "      <th>days_employed</th>\n",
       "      <th>dob_years</th>\n",
       "      <th>education</th>\n",
       "      <th>education_id</th>\n",
       "      <th>family_status</th>\n",
       "      <th>family_status_id</th>\n",
       "      <th>gender</th>\n",
       "      <th>income_type</th>\n",
       "      <th>debt</th>\n",
       "      <th>total_income</th>\n",
       "      <th>purpose</th>\n",
       "    </tr>\n",
       "  </thead>\n",
       "  <tbody>\n",
       "    <tr>\n",
       "      <th>0</th>\n",
       "      <td>1</td>\n",
       "      <td>-8437.673028</td>\n",
       "      <td>42</td>\n",
       "      <td>высшее</td>\n",
       "      <td>0</td>\n",
       "      <td>женат / замужем</td>\n",
       "      <td>0</td>\n",
       "      <td>F</td>\n",
       "      <td>сотрудник</td>\n",
       "      <td>0</td>\n",
       "      <td>253875.639453</td>\n",
       "      <td>покупка жилья</td>\n",
       "    </tr>\n",
       "    <tr>\n",
       "      <th>1</th>\n",
       "      <td>1</td>\n",
       "      <td>-4024.803754</td>\n",
       "      <td>36</td>\n",
       "      <td>среднее</td>\n",
       "      <td>1</td>\n",
       "      <td>женат / замужем</td>\n",
       "      <td>0</td>\n",
       "      <td>F</td>\n",
       "      <td>сотрудник</td>\n",
       "      <td>0</td>\n",
       "      <td>112080.014102</td>\n",
       "      <td>приобретение автомобиля</td>\n",
       "    </tr>\n",
       "    <tr>\n",
       "      <th>2</th>\n",
       "      <td>0</td>\n",
       "      <td>-5623.422610</td>\n",
       "      <td>33</td>\n",
       "      <td>Среднее</td>\n",
       "      <td>1</td>\n",
       "      <td>женат / замужем</td>\n",
       "      <td>0</td>\n",
       "      <td>M</td>\n",
       "      <td>сотрудник</td>\n",
       "      <td>0</td>\n",
       "      <td>145885.952297</td>\n",
       "      <td>покупка жилья</td>\n",
       "    </tr>\n",
       "    <tr>\n",
       "      <th>3</th>\n",
       "      <td>3</td>\n",
       "      <td>-4124.747207</td>\n",
       "      <td>32</td>\n",
       "      <td>среднее</td>\n",
       "      <td>1</td>\n",
       "      <td>женат / замужем</td>\n",
       "      <td>0</td>\n",
       "      <td>M</td>\n",
       "      <td>сотрудник</td>\n",
       "      <td>0</td>\n",
       "      <td>267628.550329</td>\n",
       "      <td>дополнительное образование</td>\n",
       "    </tr>\n",
       "    <tr>\n",
       "      <th>5</th>\n",
       "      <td>0</td>\n",
       "      <td>-926.185831</td>\n",
       "      <td>27</td>\n",
       "      <td>высшее</td>\n",
       "      <td>0</td>\n",
       "      <td>гражданский брак</td>\n",
       "      <td>1</td>\n",
       "      <td>M</td>\n",
       "      <td>компаньон</td>\n",
       "      <td>0</td>\n",
       "      <td>255763.565419</td>\n",
       "      <td>покупка жилья</td>\n",
       "    </tr>\n",
       "    <tr>\n",
       "      <th>6</th>\n",
       "      <td>0</td>\n",
       "      <td>-2879.202052</td>\n",
       "      <td>43</td>\n",
       "      <td>высшее</td>\n",
       "      <td>0</td>\n",
       "      <td>женат / замужем</td>\n",
       "      <td>0</td>\n",
       "      <td>F</td>\n",
       "      <td>компаньон</td>\n",
       "      <td>0</td>\n",
       "      <td>240525.971920</td>\n",
       "      <td>операции с жильем</td>\n",
       "    </tr>\n",
       "    <tr>\n",
       "      <th>7</th>\n",
       "      <td>0</td>\n",
       "      <td>-152.779569</td>\n",
       "      <td>50</td>\n",
       "      <td>СРЕДНЕЕ</td>\n",
       "      <td>1</td>\n",
       "      <td>женат / замужем</td>\n",
       "      <td>0</td>\n",
       "      <td>M</td>\n",
       "      <td>сотрудник</td>\n",
       "      <td>0</td>\n",
       "      <td>135823.934197</td>\n",
       "      <td>образование</td>\n",
       "    </tr>\n",
       "    <tr>\n",
       "      <th>8</th>\n",
       "      <td>2</td>\n",
       "      <td>-6929.865299</td>\n",
       "      <td>35</td>\n",
       "      <td>ВЫСШЕЕ</td>\n",
       "      <td>0</td>\n",
       "      <td>гражданский брак</td>\n",
       "      <td>1</td>\n",
       "      <td>F</td>\n",
       "      <td>сотрудник</td>\n",
       "      <td>0</td>\n",
       "      <td>95856.832424</td>\n",
       "      <td>на проведение свадьбы</td>\n",
       "    </tr>\n",
       "    <tr>\n",
       "      <th>9</th>\n",
       "      <td>0</td>\n",
       "      <td>-2188.756445</td>\n",
       "      <td>41</td>\n",
       "      <td>среднее</td>\n",
       "      <td>1</td>\n",
       "      <td>женат / замужем</td>\n",
       "      <td>0</td>\n",
       "      <td>M</td>\n",
       "      <td>сотрудник</td>\n",
       "      <td>0</td>\n",
       "      <td>144425.938277</td>\n",
       "      <td>покупка жилья для семьи</td>\n",
       "    </tr>\n",
       "    <tr>\n",
       "      <th>10</th>\n",
       "      <td>2</td>\n",
       "      <td>-4171.483647</td>\n",
       "      <td>36</td>\n",
       "      <td>высшее</td>\n",
       "      <td>0</td>\n",
       "      <td>женат / замужем</td>\n",
       "      <td>0</td>\n",
       "      <td>M</td>\n",
       "      <td>компаньон</td>\n",
       "      <td>0</td>\n",
       "      <td>113943.491460</td>\n",
       "      <td>покупка недвижимости</td>\n",
       "    </tr>\n",
       "  </tbody>\n",
       "</table>\n",
       "</div>"
      ],
      "text/plain": [
       "    children  days_employed  dob_years education  education_id  \\\n",
       "0          1   -8437.673028         42    высшее             0   \n",
       "1          1   -4024.803754         36   среднее             1   \n",
       "2          0   -5623.422610         33   Среднее             1   \n",
       "3          3   -4124.747207         32   среднее             1   \n",
       "5          0    -926.185831         27    высшее             0   \n",
       "6          0   -2879.202052         43    высшее             0   \n",
       "7          0    -152.779569         50   СРЕДНЕЕ             1   \n",
       "8          2   -6929.865299         35    ВЫСШЕЕ             0   \n",
       "9          0   -2188.756445         41   среднее             1   \n",
       "10         2   -4171.483647         36    высшее             0   \n",
       "\n",
       "       family_status  family_status_id gender income_type  debt  \\\n",
       "0    женат / замужем                 0      F   сотрудник     0   \n",
       "1    женат / замужем                 0      F   сотрудник     0   \n",
       "2    женат / замужем                 0      M   сотрудник     0   \n",
       "3    женат / замужем                 0      M   сотрудник     0   \n",
       "5   гражданский брак                 1      M   компаньон     0   \n",
       "6    женат / замужем                 0      F   компаньон     0   \n",
       "7    женат / замужем                 0      M   сотрудник     0   \n",
       "8   гражданский брак                 1      F   сотрудник     0   \n",
       "9    женат / замужем                 0      M   сотрудник     0   \n",
       "10   женат / замужем                 0      M   компаньон     0   \n",
       "\n",
       "     total_income                     purpose  \n",
       "0   253875.639453               покупка жилья  \n",
       "1   112080.014102     приобретение автомобиля  \n",
       "2   145885.952297               покупка жилья  \n",
       "3   267628.550329  дополнительное образование  \n",
       "5   255763.565419               покупка жилья  \n",
       "6   240525.971920           операции с жильем  \n",
       "7   135823.934197                 образование  \n",
       "8    95856.832424       на проведение свадьбы  \n",
       "9   144425.938277     покупка жилья для семьи  \n",
       "10  113943.491460        покупка недвижимости  "
      ]
     },
     "execution_count": 22,
     "metadata": {},
     "output_type": "execute_result"
    }
   ],
   "source": [
    "# Выведем информацию о клиентах с отрицательным значением стажа работы\n",
    "data[data['days_employed'] < 0].head(10)"
   ]
  },
  {
   "cell_type": "markdown",
   "metadata": {},
   "source": [
    "В случае с отрицательными значениями можно предположить, что в колонке действительно указаны дни. Если обратиться к сторонним источникам на тему того, как рассчитывается стаж работы, то можно выяснить, что отрицательный стаж работы может возникать в случае, если клиент до сих пор трудоустроен.<br>\n",
    "Сгруппируем данные с отрицательным стажем по колонке `income_type` и посмотрим окажутся ли в ней такие категории, как <i>\"пенсионеры\"</i> и <i>\"безработные\"</i>."
   ]
  },
  {
   "cell_type": "code",
   "execution_count": 23,
   "metadata": {},
   "outputs": [
    {
     "data": {
      "text/html": [
       "<div>\n",
       "<style scoped>\n",
       "    .dataframe tbody tr th:only-of-type {\n",
       "        vertical-align: middle;\n",
       "    }\n",
       "\n",
       "    .dataframe tbody tr th {\n",
       "        vertical-align: top;\n",
       "    }\n",
       "\n",
       "    .dataframe thead tr th {\n",
       "        text-align: left;\n",
       "    }\n",
       "\n",
       "    .dataframe thead tr:last-of-type th {\n",
       "        text-align: right;\n",
       "    }\n",
       "</style>\n",
       "<table border=\"1\" class=\"dataframe\">\n",
       "  <thead>\n",
       "    <tr>\n",
       "      <th></th>\n",
       "      <th colspan=\"4\" halign=\"left\">days_employed</th>\n",
       "    </tr>\n",
       "    <tr>\n",
       "      <th></th>\n",
       "      <th>min</th>\n",
       "      <th>mean</th>\n",
       "      <th>median</th>\n",
       "      <th>max</th>\n",
       "    </tr>\n",
       "    <tr>\n",
       "      <th>income_type</th>\n",
       "      <th></th>\n",
       "      <th></th>\n",
       "      <th></th>\n",
       "      <th></th>\n",
       "    </tr>\n",
       "  </thead>\n",
       "  <tbody>\n",
       "    <tr>\n",
       "      <th>в декрете</th>\n",
       "      <td>-3296.759962</td>\n",
       "      <td>-3296.759962</td>\n",
       "      <td>-3296.759962</td>\n",
       "      <td>-3296.759962</td>\n",
       "    </tr>\n",
       "    <tr>\n",
       "      <th>госслужащий</th>\n",
       "      <td>-15193.032201</td>\n",
       "      <td>-3399.896902</td>\n",
       "      <td>-2689.368353</td>\n",
       "      <td>-39.954170</td>\n",
       "    </tr>\n",
       "    <tr>\n",
       "      <th>компаньон</th>\n",
       "      <td>-17615.563266</td>\n",
       "      <td>-2111.524398</td>\n",
       "      <td>-1547.382223</td>\n",
       "      <td>-30.195337</td>\n",
       "    </tr>\n",
       "    <tr>\n",
       "      <th>предприниматель</th>\n",
       "      <td>-520.848083</td>\n",
       "      <td>-520.848083</td>\n",
       "      <td>-520.848083</td>\n",
       "      <td>-520.848083</td>\n",
       "    </tr>\n",
       "    <tr>\n",
       "      <th>сотрудник</th>\n",
       "      <td>-18388.949901</td>\n",
       "      <td>-2326.499216</td>\n",
       "      <td>-1574.202821</td>\n",
       "      <td>-24.141633</td>\n",
       "    </tr>\n",
       "    <tr>\n",
       "      <th>студент</th>\n",
       "      <td>-578.751554</td>\n",
       "      <td>-578.751554</td>\n",
       "      <td>-578.751554</td>\n",
       "      <td>-578.751554</td>\n",
       "    </tr>\n",
       "  </tbody>\n",
       "</table>\n",
       "</div>"
      ],
      "text/plain": [
       "                days_employed                                       \n",
       "                          min         mean       median          max\n",
       "income_type                                                         \n",
       "в декрете        -3296.759962 -3296.759962 -3296.759962 -3296.759962\n",
       "госслужащий     -15193.032201 -3399.896902 -2689.368353   -39.954170\n",
       "компаньон       -17615.563266 -2111.524398 -1547.382223   -30.195337\n",
       "предприниматель   -520.848083  -520.848083  -520.848083  -520.848083\n",
       "сотрудник       -18388.949901 -2326.499216 -1574.202821   -24.141633\n",
       "студент           -578.751554  -578.751554  -578.751554  -578.751554"
      ]
     },
     "execution_count": 23,
     "metadata": {},
     "output_type": "execute_result"
    }
   ],
   "source": [
    "# Выведем информацию о клиентах с отрицательным значением стажа работы и сгруппируем ее по колонке 'income_type'\n",
    "(\n",
    "    data[data['days_employed'] < 0]\n",
    "    .groupby('income_type')\n",
    "    .agg({\n",
    "        'days_employed': ['min','mean','median','max']\n",
    "    })\n",
    ")"
   ]
  },
  {
   "cell_type": "markdown",
   "metadata": {},
   "source": [
    "Действительно, отрицательные значения стажа работы относятся к тем клиентам, которые на данный момент трудоустроены.<br><br>\n",
    "Изучим данные по стажу работы с положительными значениями и так же сгруппируем их по колонке `income_type`."
   ]
  },
  {
   "cell_type": "code",
   "execution_count": 24,
   "metadata": {},
   "outputs": [
    {
     "data": {
      "text/html": [
       "<div>\n",
       "<style scoped>\n",
       "    .dataframe tbody tr th:only-of-type {\n",
       "        vertical-align: middle;\n",
       "    }\n",
       "\n",
       "    .dataframe tbody tr th {\n",
       "        vertical-align: top;\n",
       "    }\n",
       "\n",
       "    .dataframe thead th {\n",
       "        text-align: right;\n",
       "    }\n",
       "</style>\n",
       "<table border=\"1\" class=\"dataframe\">\n",
       "  <thead>\n",
       "    <tr style=\"text-align: right;\">\n",
       "      <th></th>\n",
       "      <th>children</th>\n",
       "      <th>days_employed</th>\n",
       "      <th>dob_years</th>\n",
       "      <th>education</th>\n",
       "      <th>education_id</th>\n",
       "      <th>family_status</th>\n",
       "      <th>family_status_id</th>\n",
       "      <th>gender</th>\n",
       "      <th>income_type</th>\n",
       "      <th>debt</th>\n",
       "      <th>total_income</th>\n",
       "      <th>purpose</th>\n",
       "    </tr>\n",
       "  </thead>\n",
       "  <tbody>\n",
       "    <tr>\n",
       "      <th>4</th>\n",
       "      <td>0</td>\n",
       "      <td>340266.072047</td>\n",
       "      <td>53</td>\n",
       "      <td>среднее</td>\n",
       "      <td>1</td>\n",
       "      <td>гражданский брак</td>\n",
       "      <td>1</td>\n",
       "      <td>F</td>\n",
       "      <td>пенсионер</td>\n",
       "      <td>0</td>\n",
       "      <td>158616.077870</td>\n",
       "      <td>сыграть свадьбу</td>\n",
       "    </tr>\n",
       "    <tr>\n",
       "      <th>18</th>\n",
       "      <td>0</td>\n",
       "      <td>400281.136913</td>\n",
       "      <td>53</td>\n",
       "      <td>среднее</td>\n",
       "      <td>1</td>\n",
       "      <td>вдовец / вдова</td>\n",
       "      <td>2</td>\n",
       "      <td>F</td>\n",
       "      <td>пенсионер</td>\n",
       "      <td>0</td>\n",
       "      <td>56823.777243</td>\n",
       "      <td>на покупку подержанного автомобиля</td>\n",
       "    </tr>\n",
       "    <tr>\n",
       "      <th>24</th>\n",
       "      <td>1</td>\n",
       "      <td>338551.952911</td>\n",
       "      <td>57</td>\n",
       "      <td>среднее</td>\n",
       "      <td>1</td>\n",
       "      <td>Не женат / не замужем</td>\n",
       "      <td>4</td>\n",
       "      <td>F</td>\n",
       "      <td>пенсионер</td>\n",
       "      <td>0</td>\n",
       "      <td>290547.235997</td>\n",
       "      <td>операции с коммерческой недвижимостью</td>\n",
       "    </tr>\n",
       "    <tr>\n",
       "      <th>25</th>\n",
       "      <td>0</td>\n",
       "      <td>363548.489348</td>\n",
       "      <td>67</td>\n",
       "      <td>среднее</td>\n",
       "      <td>1</td>\n",
       "      <td>женат / замужем</td>\n",
       "      <td>0</td>\n",
       "      <td>M</td>\n",
       "      <td>пенсионер</td>\n",
       "      <td>0</td>\n",
       "      <td>55112.757732</td>\n",
       "      <td>покупка недвижимости</td>\n",
       "    </tr>\n",
       "    <tr>\n",
       "      <th>30</th>\n",
       "      <td>1</td>\n",
       "      <td>335581.668515</td>\n",
       "      <td>62</td>\n",
       "      <td>среднее</td>\n",
       "      <td>1</td>\n",
       "      <td>женат / замужем</td>\n",
       "      <td>0</td>\n",
       "      <td>F</td>\n",
       "      <td>пенсионер</td>\n",
       "      <td>0</td>\n",
       "      <td>171456.067993</td>\n",
       "      <td>операции с коммерческой недвижимостью</td>\n",
       "    </tr>\n",
       "    <tr>\n",
       "      <th>35</th>\n",
       "      <td>0</td>\n",
       "      <td>394021.072184</td>\n",
       "      <td>68</td>\n",
       "      <td>среднее</td>\n",
       "      <td>1</td>\n",
       "      <td>гражданский брак</td>\n",
       "      <td>1</td>\n",
       "      <td>M</td>\n",
       "      <td>пенсионер</td>\n",
       "      <td>0</td>\n",
       "      <td>77805.677436</td>\n",
       "      <td>на проведение свадьбы</td>\n",
       "    </tr>\n",
       "    <tr>\n",
       "      <th>50</th>\n",
       "      <td>0</td>\n",
       "      <td>353731.432338</td>\n",
       "      <td>63</td>\n",
       "      <td>среднее</td>\n",
       "      <td>1</td>\n",
       "      <td>женат / замужем</td>\n",
       "      <td>0</td>\n",
       "      <td>F</td>\n",
       "      <td>пенсионер</td>\n",
       "      <td>0</td>\n",
       "      <td>92342.730612</td>\n",
       "      <td>автомобили</td>\n",
       "    </tr>\n",
       "    <tr>\n",
       "      <th>56</th>\n",
       "      <td>0</td>\n",
       "      <td>370145.087237</td>\n",
       "      <td>64</td>\n",
       "      <td>среднее</td>\n",
       "      <td>1</td>\n",
       "      <td>вдовец / вдова</td>\n",
       "      <td>2</td>\n",
       "      <td>F</td>\n",
       "      <td>пенсионер</td>\n",
       "      <td>0</td>\n",
       "      <td>149141.043533</td>\n",
       "      <td>образование</td>\n",
       "    </tr>\n",
       "    <tr>\n",
       "      <th>71</th>\n",
       "      <td>0</td>\n",
       "      <td>338113.529892</td>\n",
       "      <td>62</td>\n",
       "      <td>среднее</td>\n",
       "      <td>1</td>\n",
       "      <td>женат / замужем</td>\n",
       "      <td>0</td>\n",
       "      <td>F</td>\n",
       "      <td>пенсионер</td>\n",
       "      <td>0</td>\n",
       "      <td>43929.696397</td>\n",
       "      <td>автомобили</td>\n",
       "    </tr>\n",
       "    <tr>\n",
       "      <th>78</th>\n",
       "      <td>0</td>\n",
       "      <td>359722.945074</td>\n",
       "      <td>61</td>\n",
       "      <td>высшее</td>\n",
       "      <td>0</td>\n",
       "      <td>женат / замужем</td>\n",
       "      <td>0</td>\n",
       "      <td>M</td>\n",
       "      <td>пенсионер</td>\n",
       "      <td>0</td>\n",
       "      <td>175127.646000</td>\n",
       "      <td>сделка с автомобилем</td>\n",
       "    </tr>\n",
       "  </tbody>\n",
       "</table>\n",
       "</div>"
      ],
      "text/plain": [
       "    children  days_employed  dob_years education  education_id  \\\n",
       "4          0  340266.072047         53   среднее             1   \n",
       "18         0  400281.136913         53   среднее             1   \n",
       "24         1  338551.952911         57   среднее             1   \n",
       "25         0  363548.489348         67   среднее             1   \n",
       "30         1  335581.668515         62   среднее             1   \n",
       "35         0  394021.072184         68   среднее             1   \n",
       "50         0  353731.432338         63   среднее             1   \n",
       "56         0  370145.087237         64   среднее             1   \n",
       "71         0  338113.529892         62   среднее             1   \n",
       "78         0  359722.945074         61    высшее             0   \n",
       "\n",
       "            family_status  family_status_id gender income_type  debt  \\\n",
       "4        гражданский брак                 1      F   пенсионер     0   \n",
       "18         вдовец / вдова                 2      F   пенсионер     0   \n",
       "24  Не женат / не замужем                 4      F   пенсионер     0   \n",
       "25        женат / замужем                 0      M   пенсионер     0   \n",
       "30        женат / замужем                 0      F   пенсионер     0   \n",
       "35       гражданский брак                 1      M   пенсионер     0   \n",
       "50        женат / замужем                 0      F   пенсионер     0   \n",
       "56         вдовец / вдова                 2      F   пенсионер     0   \n",
       "71        женат / замужем                 0      F   пенсионер     0   \n",
       "78        женат / замужем                 0      M   пенсионер     0   \n",
       "\n",
       "     total_income                                purpose  \n",
       "4   158616.077870                        сыграть свадьбу  \n",
       "18   56823.777243     на покупку подержанного автомобиля  \n",
       "24  290547.235997  операции с коммерческой недвижимостью  \n",
       "25   55112.757732                   покупка недвижимости  \n",
       "30  171456.067993  операции с коммерческой недвижимостью  \n",
       "35   77805.677436                  на проведение свадьбы  \n",
       "50   92342.730612                             автомобили  \n",
       "56  149141.043533                            образование  \n",
       "71   43929.696397                             автомобили  \n",
       "78  175127.646000                   сделка с автомобилем  "
      ]
     },
     "execution_count": 24,
     "metadata": {},
     "output_type": "execute_result"
    }
   ],
   "source": [
    "# Выведем информацию о клиентах с положительным значением стажа работы\n",
    "data[data['days_employed'] > 0].head(10)"
   ]
  },
  {
   "cell_type": "code",
   "execution_count": 25,
   "metadata": {},
   "outputs": [
    {
     "data": {
      "text/html": [
       "<div>\n",
       "<style scoped>\n",
       "    .dataframe tbody tr th:only-of-type {\n",
       "        vertical-align: middle;\n",
       "    }\n",
       "\n",
       "    .dataframe tbody tr th {\n",
       "        vertical-align: top;\n",
       "    }\n",
       "\n",
       "    .dataframe thead tr th {\n",
       "        text-align: left;\n",
       "    }\n",
       "\n",
       "    .dataframe thead tr:last-of-type th {\n",
       "        text-align: right;\n",
       "    }\n",
       "</style>\n",
       "<table border=\"1\" class=\"dataframe\">\n",
       "  <thead>\n",
       "    <tr>\n",
       "      <th></th>\n",
       "      <th colspan=\"4\" halign=\"left\">days_employed</th>\n",
       "    </tr>\n",
       "    <tr>\n",
       "      <th></th>\n",
       "      <th>min</th>\n",
       "      <th>mean</th>\n",
       "      <th>median</th>\n",
       "      <th>max</th>\n",
       "    </tr>\n",
       "    <tr>\n",
       "      <th>income_type</th>\n",
       "      <th></th>\n",
       "      <th></th>\n",
       "      <th></th>\n",
       "      <th></th>\n",
       "    </tr>\n",
       "  </thead>\n",
       "  <tbody>\n",
       "    <tr>\n",
       "      <th>безработный</th>\n",
       "      <td>337524.466835</td>\n",
       "      <td>366413.652744</td>\n",
       "      <td>366413.652744</td>\n",
       "      <td>395302.838654</td>\n",
       "    </tr>\n",
       "    <tr>\n",
       "      <th>пенсионер</th>\n",
       "      <td>328728.720605</td>\n",
       "      <td>365003.491245</td>\n",
       "      <td>365213.306266</td>\n",
       "      <td>401755.400475</td>\n",
       "    </tr>\n",
       "  </tbody>\n",
       "</table>\n",
       "</div>"
      ],
      "text/plain": [
       "             days_employed                                             \n",
       "                       min           mean         median            max\n",
       "income_type                                                            \n",
       "безработный  337524.466835  366413.652744  366413.652744  395302.838654\n",
       "пенсионер    328728.720605  365003.491245  365213.306266  401755.400475"
      ]
     },
     "execution_count": 25,
     "metadata": {},
     "output_type": "execute_result"
    }
   ],
   "source": [
    "# Выведем информацию о клиентах с положительным значением стажа работы и сгруппируем ее по колонке 'income_type'\n",
    "(\n",
    "    data[data['days_employed'] > 0]\n",
    "    .groupby('income_type')\n",
    "    .agg({\n",
    "        'days_employed': ['min','mean','median','max']\n",
    "    })\n",
    ")"
   ]
  },
  {
   "cell_type": "markdown",
   "metadata": {},
   "source": [
    "В случае с положительными значениями не выглядит будто была передана информация в днях.<br><br>\n",
    "Предположим, что информация передается в днях и попробуем перевести их в годы, поделив на 365 дней в году."
   ]
  },
  {
   "cell_type": "code",
   "execution_count": 26,
   "metadata": {},
   "outputs": [
    {
     "name": "stdout",
     "output_type": "stream",
     "text": [
      "932\n",
      "1096\n",
      "927\n",
      "996\n",
      "919\n",
      "1079\n",
      "969\n",
      "1014\n",
      "926\n",
      "985\n"
     ]
    }
   ],
   "source": [
    "# Посчитаем количество лет стажа работы для положительных значений колонки 'days_employed'\n",
    "# Возьмем первые 10 значений\n",
    "for days in list(data[data['days_employed'] > 0][0:10]['days_employed']):\n",
    "    print(int(days / 365))"
   ]
  },
  {
   "cell_type": "markdown",
   "metadata": {},
   "source": [
    "Получаем клиентов со стажем работы около 1000 лет.<br>\n",
    "Возможно, по ошибке, мы получили данные по пенсионерам и безработным не в днях, а в часах.<br><br>\n",
    "Попробуем теперь перевести значения колонки `income_type` из часов в дни, а потом в годы, поделив на 24 часа и на 365 дней в году."
   ]
  },
  {
   "cell_type": "code",
   "execution_count": 27,
   "metadata": {},
   "outputs": [
    {
     "name": "stdout",
     "output_type": "stream",
     "text": [
      "38\n",
      "45\n",
      "38\n",
      "41\n",
      "38\n",
      "44\n",
      "40\n",
      "42\n",
      "38\n",
      "41\n"
     ]
    }
   ],
   "source": [
    "# Посчитаем количество лет стажа работы для положительных значений колонки 'days_employed', \n",
    "# предварительно переведя их из часов в дни\n",
    "# Возьмем первые 10 значений\n",
    "for days in list(data[data['days_employed'] > 0][0:10]['days_employed']):\n",
    "    print(int(days / 24 / 365))"
   ]
  },
  {
   "cell_type": "markdown",
   "metadata": {},
   "source": [
    "Версия со значениями переданными в часах выглядит правдоподобной.<br><br>\n",
    "Таким образом, проделаем 2 операции:\n",
    "- Переведем положительные значения колонки `days_employed` в дни, поделив их на 24 часа.\n",
    "- Переведем отрицательные значения колонки `days_employed` в положительные, умножив их на -1."
   ]
  },
  {
   "cell_type": "markdown",
   "metadata": {},
   "source": [
    "Создадим для этого функцию, которую применим к колонке `days_employed`"
   ]
  },
  {
   "cell_type": "code",
   "execution_count": 28,
   "metadata": {},
   "outputs": [],
   "source": [
    "# Создадим функцию для форматирования стажа работы клиента\n",
    "def days_employed_correction(days):\n",
    "    if days < 0:\n",
    "        return days * -1\n",
    "    if days > 0:\n",
    "        return days / 24\n",
    "    return days"
   ]
  },
  {
   "cell_type": "code",
   "execution_count": 29,
   "metadata": {},
   "outputs": [],
   "source": [
    "# Применим функцию 'days_employed_correction' и перезапишем значения в колонку 'days_employed'\n",
    "data['days_employed'] = data['days_employed'].apply(days_employed_correction)"
   ]
  },
  {
   "cell_type": "markdown",
   "metadata": {},
   "source": [
    "Построим таблицу, сгруппировав ее по колонке `income_type`.<br>\n",
    "Сразу выведем агргеацию по минимальному, среднему, медиане и максимальному значениям."
   ]
  },
  {
   "cell_type": "code",
   "execution_count": 30,
   "metadata": {},
   "outputs": [
    {
     "data": {
      "text/html": [
       "<div>\n",
       "<style scoped>\n",
       "    .dataframe tbody tr th:only-of-type {\n",
       "        vertical-align: middle;\n",
       "    }\n",
       "\n",
       "    .dataframe tbody tr th {\n",
       "        vertical-align: top;\n",
       "    }\n",
       "\n",
       "    .dataframe thead tr th {\n",
       "        text-align: left;\n",
       "    }\n",
       "\n",
       "    .dataframe thead tr:last-of-type th {\n",
       "        text-align: right;\n",
       "    }\n",
       "</style>\n",
       "<table border=\"1\" class=\"dataframe\">\n",
       "  <thead>\n",
       "    <tr>\n",
       "      <th></th>\n",
       "      <th colspan=\"4\" halign=\"left\">days_employed</th>\n",
       "    </tr>\n",
       "    <tr>\n",
       "      <th></th>\n",
       "      <th>min</th>\n",
       "      <th>mean</th>\n",
       "      <th>median</th>\n",
       "      <th>max</th>\n",
       "    </tr>\n",
       "    <tr>\n",
       "      <th>income_type</th>\n",
       "      <th></th>\n",
       "      <th></th>\n",
       "      <th></th>\n",
       "      <th></th>\n",
       "    </tr>\n",
       "  </thead>\n",
       "  <tbody>\n",
       "    <tr>\n",
       "      <th>безработный</th>\n",
       "      <td>14063.519451</td>\n",
       "      <td>15267.235531</td>\n",
       "      <td>15267.235531</td>\n",
       "      <td>16470.951611</td>\n",
       "    </tr>\n",
       "    <tr>\n",
       "      <th>в декрете</th>\n",
       "      <td>3296.759962</td>\n",
       "      <td>3296.759962</td>\n",
       "      <td>3296.759962</td>\n",
       "      <td>3296.759962</td>\n",
       "    </tr>\n",
       "    <tr>\n",
       "      <th>госслужащий</th>\n",
       "      <td>39.954170</td>\n",
       "      <td>3399.896902</td>\n",
       "      <td>2689.368353</td>\n",
       "      <td>15193.032201</td>\n",
       "    </tr>\n",
       "    <tr>\n",
       "      <th>компаньон</th>\n",
       "      <td>30.195337</td>\n",
       "      <td>2111.524398</td>\n",
       "      <td>1547.382223</td>\n",
       "      <td>17615.563266</td>\n",
       "    </tr>\n",
       "    <tr>\n",
       "      <th>пенсионер</th>\n",
       "      <td>13697.030025</td>\n",
       "      <td>15208.478802</td>\n",
       "      <td>15217.221094</td>\n",
       "      <td>16739.808353</td>\n",
       "    </tr>\n",
       "    <tr>\n",
       "      <th>предприниматель</th>\n",
       "      <td>520.848083</td>\n",
       "      <td>520.848083</td>\n",
       "      <td>520.848083</td>\n",
       "      <td>520.848083</td>\n",
       "    </tr>\n",
       "    <tr>\n",
       "      <th>сотрудник</th>\n",
       "      <td>24.141633</td>\n",
       "      <td>2326.499216</td>\n",
       "      <td>1574.202821</td>\n",
       "      <td>18388.949901</td>\n",
       "    </tr>\n",
       "    <tr>\n",
       "      <th>студент</th>\n",
       "      <td>578.751554</td>\n",
       "      <td>578.751554</td>\n",
       "      <td>578.751554</td>\n",
       "      <td>578.751554</td>\n",
       "    </tr>\n",
       "  </tbody>\n",
       "</table>\n",
       "</div>"
      ],
      "text/plain": [
       "                days_employed                                          \n",
       "                          min          mean        median           max\n",
       "income_type                                                            \n",
       "безработный      14063.519451  15267.235531  15267.235531  16470.951611\n",
       "в декрете         3296.759962   3296.759962   3296.759962   3296.759962\n",
       "госслужащий         39.954170   3399.896902   2689.368353  15193.032201\n",
       "компаньон           30.195337   2111.524398   1547.382223  17615.563266\n",
       "пенсионер        13697.030025  15208.478802  15217.221094  16739.808353\n",
       "предприниматель    520.848083    520.848083    520.848083    520.848083\n",
       "сотрудник           24.141633   2326.499216   1574.202821  18388.949901\n",
       "студент            578.751554    578.751554    578.751554    578.751554"
      ]
     },
     "execution_count": 30,
     "metadata": {},
     "output_type": "execute_result"
    }
   ],
   "source": [
    "# Сгруппируем данные по колонкам 'income_type' и рассчитаем показатели min, mean, median, max для колонки 'days_employed'\n",
    "days_employed_grouped_by_income_type = (\n",
    "    data.groupby('income_type')\n",
    "    .agg({\n",
    "        'days_employed': ['min','mean','median','max']\n",
    "    })\n",
    ")\n",
    "days_employed_grouped_by_income_type"
   ]
  },
  {
   "cell_type": "code",
   "execution_count": 31,
   "metadata": {},
   "outputs": [
    {
     "data": {
      "text/html": [
       "<div>\n",
       "<style scoped>\n",
       "    .dataframe tbody tr th:only-of-type {\n",
       "        vertical-align: middle;\n",
       "    }\n",
       "\n",
       "    .dataframe tbody tr th {\n",
       "        vertical-align: top;\n",
       "    }\n",
       "\n",
       "    .dataframe thead th {\n",
       "        text-align: right;\n",
       "    }\n",
       "</style>\n",
       "<table border=\"1\" class=\"dataframe\">\n",
       "  <thead>\n",
       "    <tr style=\"text-align: right;\">\n",
       "      <th></th>\n",
       "      <th>income_type</th>\n",
       "      <th>days_employed_mean</th>\n",
       "    </tr>\n",
       "  </thead>\n",
       "  <tbody>\n",
       "    <tr>\n",
       "      <th>0</th>\n",
       "      <td>безработный</td>\n",
       "      <td>15267.235531</td>\n",
       "    </tr>\n",
       "    <tr>\n",
       "      <th>1</th>\n",
       "      <td>в декрете</td>\n",
       "      <td>3296.759962</td>\n",
       "    </tr>\n",
       "    <tr>\n",
       "      <th>2</th>\n",
       "      <td>госслужащий</td>\n",
       "      <td>3399.896902</td>\n",
       "    </tr>\n",
       "    <tr>\n",
       "      <th>3</th>\n",
       "      <td>компаньон</td>\n",
       "      <td>2111.524398</td>\n",
       "    </tr>\n",
       "    <tr>\n",
       "      <th>4</th>\n",
       "      <td>пенсионер</td>\n",
       "      <td>15208.478802</td>\n",
       "    </tr>\n",
       "    <tr>\n",
       "      <th>5</th>\n",
       "      <td>предприниматель</td>\n",
       "      <td>520.848083</td>\n",
       "    </tr>\n",
       "    <tr>\n",
       "      <th>6</th>\n",
       "      <td>сотрудник</td>\n",
       "      <td>2326.499216</td>\n",
       "    </tr>\n",
       "    <tr>\n",
       "      <th>7</th>\n",
       "      <td>студент</td>\n",
       "      <td>578.751554</td>\n",
       "    </tr>\n",
       "  </tbody>\n",
       "</table>\n",
       "</div>"
      ],
      "text/plain": [
       "       income_type  days_employed_mean\n",
       "0      безработный        15267.235531\n",
       "1        в декрете         3296.759962\n",
       "2      госслужащий         3399.896902\n",
       "3        компаньон         2111.524398\n",
       "4        пенсионер        15208.478802\n",
       "5  предприниматель          520.848083\n",
       "6        сотрудник         2326.499216\n",
       "7          студент          578.751554"
      ]
     },
     "execution_count": 31,
     "metadata": {},
     "output_type": "execute_result"
    }
   ],
   "source": [
    "# Сохраним значения средних для каждой из группы колонки 'income_type'\n",
    "days_employed_grouped_by_income_type_mean = (\n",
    "    data.groupby('income_type')\n",
    "    .agg({'days_employed': ['mean']})\n",
    ")\n",
    "\n",
    "days_employed_grouped_by_income_type_mean = (\n",
    "    days_employed_grouped_by_income_type_mean\n",
    "    .reset_index()\n",
    ")\n",
    "\n",
    "days_employed_grouped_by_income_type_mean.columns = ['income_type', \n",
    "                                                     'days_employed_mean']\n",
    "\n",
    "days_employed_grouped_by_income_type_mean"
   ]
  },
  {
   "cell_type": "markdown",
   "metadata": {},
   "source": [
    "Мы избавились от отрицательных значений и перевели значения из часов в дни.<br>\n",
    "Полученную таблицу мы можем использовать для заполнения пропусков в колонке `days_employed`. Т.к. стаж может сильно различаться для всей выборки, то целесообразным будет найти средние значения по группам, например, взяв средний показатель для каждой из групп `income_type`."
   ]
  },
  {
   "cell_type": "code",
   "execution_count": 32,
   "metadata": {},
   "outputs": [
    {
     "data": {
      "text/plain": [
       "children              0\n",
       "days_employed         0\n",
       "dob_years             0\n",
       "education             0\n",
       "education_id          0\n",
       "family_status         0\n",
       "family_status_id      0\n",
       "gender                0\n",
       "income_type           0\n",
       "debt                  0\n",
       "total_income          0\n",
       "purpose               0\n",
       "days_employed_mean    0\n",
       "dtype: int64"
      ]
     },
     "execution_count": 32,
     "metadata": {},
     "output_type": "execute_result"
    }
   ],
   "source": [
    "# Объединим исходную таблицу и таблицу со средним значением по группам 'income_type'\n",
    "data = data.merge(\n",
    "    days_employed_grouped_by_income_type_mean, \n",
    "    on=\"income_type\", \n",
    "    how=\"left\")\n",
    "\n",
    "# Заменим пропущенные значения в колонке 'days_employed' на средние значения\n",
    "data['days_employed'] = data['days_employed'].fillna(data['days_employed_mean'])\n",
    "\n",
    "# Проверим остались ли пропуски\n",
    "data[data['days_employed'].isna()].count()"
   ]
  },
  {
   "cell_type": "markdown",
   "metadata": {},
   "source": [
    "Мы избавились от пропущенных значений в колонке `days_employed`.<br>\n",
    "Проделаем такую же операцию для колонки с доходом - `total_income`.<br>\n",
    "Найдем средние значения для групп `income_type`, объединим таблицы и заменим пропуски на средние."
   ]
  },
  {
   "cell_type": "code",
   "execution_count": 33,
   "metadata": {},
   "outputs": [
    {
     "data": {
      "text/plain": [
       "children              0\n",
       "days_employed         0\n",
       "dob_years             0\n",
       "education             0\n",
       "education_id          0\n",
       "family_status         0\n",
       "family_status_id      0\n",
       "gender                0\n",
       "income_type           0\n",
       "debt                  0\n",
       "total_income          0\n",
       "purpose               0\n",
       "days_employed_mean    0\n",
       "income_mean           0\n",
       "dtype: int64"
      ]
     },
     "execution_count": 33,
     "metadata": {},
     "output_type": "execute_result"
    }
   ],
   "source": [
    "# Создадим таблицу со средними значениями 'total_income' для каждой группы 'income_type'\n",
    "total_income_grouped_by_income_type_mean = (\n",
    "    data.groupby('income_type')\n",
    "    .agg({'total_income': ['mean']})\n",
    ")\n",
    "\n",
    "total_income_grouped_by_income_type_mean = (\n",
    "    total_income_grouped_by_income_type_mean\n",
    "    .reset_index()\n",
    ")\n",
    "\n",
    "total_income_grouped_by_income_type_mean.columns = ['income_type', 'income_mean']\n",
    "\n",
    "# Объединим исходную таблицу и таблицу со средним значением по группам 'income_type'\n",
    "data = data.merge(\n",
    "    total_income_grouped_by_income_type_mean, \n",
    "    on=\"income_type\", \n",
    "    how=\"left\")\n",
    "\n",
    "# Заменим пропущенные значения в колонке 'total_income' на средние значения\n",
    "data['total_income'] = data['total_income'].fillna(data['income_mean'])\n",
    "\n",
    "# Проверим остались ли пропуски\n",
    "data[data['total_income'].isna()].count()"
   ]
  },
  {
   "cell_type": "markdown",
   "metadata": {},
   "source": [
    "Мы избавились от пропущенных значений в колонке `total_income`.<br>\n",
    "Можно удалить из таблицы колонки `(days_employed, mean)` и `(total_income, mean)` при помощи метода `DataFrame.drop()`."
   ]
  },
  {
   "cell_type": "code",
   "execution_count": 34,
   "metadata": {},
   "outputs": [
    {
     "data": {
      "text/html": [
       "<div>\n",
       "<style scoped>\n",
       "    .dataframe tbody tr th:only-of-type {\n",
       "        vertical-align: middle;\n",
       "    }\n",
       "\n",
       "    .dataframe tbody tr th {\n",
       "        vertical-align: top;\n",
       "    }\n",
       "\n",
       "    .dataframe thead th {\n",
       "        text-align: right;\n",
       "    }\n",
       "</style>\n",
       "<table border=\"1\" class=\"dataframe\">\n",
       "  <thead>\n",
       "    <tr style=\"text-align: right;\">\n",
       "      <th></th>\n",
       "      <th>children</th>\n",
       "      <th>days_employed</th>\n",
       "      <th>dob_years</th>\n",
       "      <th>education</th>\n",
       "      <th>education_id</th>\n",
       "      <th>family_status</th>\n",
       "      <th>family_status_id</th>\n",
       "      <th>gender</th>\n",
       "      <th>income_type</th>\n",
       "      <th>debt</th>\n",
       "      <th>total_income</th>\n",
       "      <th>purpose</th>\n",
       "    </tr>\n",
       "  </thead>\n",
       "  <tbody>\n",
       "    <tr>\n",
       "      <th>0</th>\n",
       "      <td>1</td>\n",
       "      <td>8437.673028</td>\n",
       "      <td>42</td>\n",
       "      <td>высшее</td>\n",
       "      <td>0</td>\n",
       "      <td>женат / замужем</td>\n",
       "      <td>0</td>\n",
       "      <td>F</td>\n",
       "      <td>сотрудник</td>\n",
       "      <td>0</td>\n",
       "      <td>253875.639453</td>\n",
       "      <td>покупка жилья</td>\n",
       "    </tr>\n",
       "    <tr>\n",
       "      <th>1</th>\n",
       "      <td>1</td>\n",
       "      <td>4024.803754</td>\n",
       "      <td>36</td>\n",
       "      <td>среднее</td>\n",
       "      <td>1</td>\n",
       "      <td>женат / замужем</td>\n",
       "      <td>0</td>\n",
       "      <td>F</td>\n",
       "      <td>сотрудник</td>\n",
       "      <td>0</td>\n",
       "      <td>112080.014102</td>\n",
       "      <td>приобретение автомобиля</td>\n",
       "    </tr>\n",
       "    <tr>\n",
       "      <th>2</th>\n",
       "      <td>0</td>\n",
       "      <td>5623.422610</td>\n",
       "      <td>33</td>\n",
       "      <td>Среднее</td>\n",
       "      <td>1</td>\n",
       "      <td>женат / замужем</td>\n",
       "      <td>0</td>\n",
       "      <td>M</td>\n",
       "      <td>сотрудник</td>\n",
       "      <td>0</td>\n",
       "      <td>145885.952297</td>\n",
       "      <td>покупка жилья</td>\n",
       "    </tr>\n",
       "    <tr>\n",
       "      <th>3</th>\n",
       "      <td>3</td>\n",
       "      <td>4124.747207</td>\n",
       "      <td>32</td>\n",
       "      <td>среднее</td>\n",
       "      <td>1</td>\n",
       "      <td>женат / замужем</td>\n",
       "      <td>0</td>\n",
       "      <td>M</td>\n",
       "      <td>сотрудник</td>\n",
       "      <td>0</td>\n",
       "      <td>267628.550329</td>\n",
       "      <td>дополнительное образование</td>\n",
       "    </tr>\n",
       "    <tr>\n",
       "      <th>4</th>\n",
       "      <td>0</td>\n",
       "      <td>14177.753002</td>\n",
       "      <td>53</td>\n",
       "      <td>среднее</td>\n",
       "      <td>1</td>\n",
       "      <td>гражданский брак</td>\n",
       "      <td>1</td>\n",
       "      <td>F</td>\n",
       "      <td>пенсионер</td>\n",
       "      <td>0</td>\n",
       "      <td>158616.077870</td>\n",
       "      <td>сыграть свадьбу</td>\n",
       "    </tr>\n",
       "    <tr>\n",
       "      <th>...</th>\n",
       "      <td>...</td>\n",
       "      <td>...</td>\n",
       "      <td>...</td>\n",
       "      <td>...</td>\n",
       "      <td>...</td>\n",
       "      <td>...</td>\n",
       "      <td>...</td>\n",
       "      <td>...</td>\n",
       "      <td>...</td>\n",
       "      <td>...</td>\n",
       "      <td>...</td>\n",
       "      <td>...</td>\n",
       "    </tr>\n",
       "    <tr>\n",
       "      <th>21520</th>\n",
       "      <td>1</td>\n",
       "      <td>4529.316663</td>\n",
       "      <td>43</td>\n",
       "      <td>среднее</td>\n",
       "      <td>1</td>\n",
       "      <td>гражданский брак</td>\n",
       "      <td>1</td>\n",
       "      <td>F</td>\n",
       "      <td>компаньон</td>\n",
       "      <td>0</td>\n",
       "      <td>224791.862382</td>\n",
       "      <td>операции с жильем</td>\n",
       "    </tr>\n",
       "    <tr>\n",
       "      <th>21521</th>\n",
       "      <td>0</td>\n",
       "      <td>14330.725172</td>\n",
       "      <td>67</td>\n",
       "      <td>среднее</td>\n",
       "      <td>1</td>\n",
       "      <td>женат / замужем</td>\n",
       "      <td>0</td>\n",
       "      <td>F</td>\n",
       "      <td>пенсионер</td>\n",
       "      <td>0</td>\n",
       "      <td>155999.806512</td>\n",
       "      <td>сделка с автомобилем</td>\n",
       "    </tr>\n",
       "    <tr>\n",
       "      <th>21522</th>\n",
       "      <td>1</td>\n",
       "      <td>2113.346888</td>\n",
       "      <td>38</td>\n",
       "      <td>среднее</td>\n",
       "      <td>1</td>\n",
       "      <td>гражданский брак</td>\n",
       "      <td>1</td>\n",
       "      <td>M</td>\n",
       "      <td>сотрудник</td>\n",
       "      <td>1</td>\n",
       "      <td>89672.561153</td>\n",
       "      <td>недвижимость</td>\n",
       "    </tr>\n",
       "    <tr>\n",
       "      <th>21523</th>\n",
       "      <td>3</td>\n",
       "      <td>3112.481705</td>\n",
       "      <td>38</td>\n",
       "      <td>среднее</td>\n",
       "      <td>1</td>\n",
       "      <td>женат / замужем</td>\n",
       "      <td>0</td>\n",
       "      <td>M</td>\n",
       "      <td>сотрудник</td>\n",
       "      <td>1</td>\n",
       "      <td>244093.050500</td>\n",
       "      <td>на покупку своего автомобиля</td>\n",
       "    </tr>\n",
       "    <tr>\n",
       "      <th>21524</th>\n",
       "      <td>2</td>\n",
       "      <td>1984.507589</td>\n",
       "      <td>40</td>\n",
       "      <td>среднее</td>\n",
       "      <td>1</td>\n",
       "      <td>женат / замужем</td>\n",
       "      <td>0</td>\n",
       "      <td>F</td>\n",
       "      <td>сотрудник</td>\n",
       "      <td>0</td>\n",
       "      <td>82047.418899</td>\n",
       "      <td>на покупку автомобиля</td>\n",
       "    </tr>\n",
       "  </tbody>\n",
       "</table>\n",
       "<p>21525 rows × 12 columns</p>\n",
       "</div>"
      ],
      "text/plain": [
       "       children  days_employed  dob_years education  education_id  \\\n",
       "0             1    8437.673028         42    высшее             0   \n",
       "1             1    4024.803754         36   среднее             1   \n",
       "2             0    5623.422610         33   Среднее             1   \n",
       "3             3    4124.747207         32   среднее             1   \n",
       "4             0   14177.753002         53   среднее             1   \n",
       "...         ...            ...        ...       ...           ...   \n",
       "21520         1    4529.316663         43   среднее             1   \n",
       "21521         0   14330.725172         67   среднее             1   \n",
       "21522         1    2113.346888         38   среднее             1   \n",
       "21523         3    3112.481705         38   среднее             1   \n",
       "21524         2    1984.507589         40   среднее             1   \n",
       "\n",
       "          family_status  family_status_id gender income_type  debt  \\\n",
       "0       женат / замужем                 0      F   сотрудник     0   \n",
       "1       женат / замужем                 0      F   сотрудник     0   \n",
       "2       женат / замужем                 0      M   сотрудник     0   \n",
       "3       женат / замужем                 0      M   сотрудник     0   \n",
       "4      гражданский брак                 1      F   пенсионер     0   \n",
       "...                 ...               ...    ...         ...   ...   \n",
       "21520  гражданский брак                 1      F   компаньон     0   \n",
       "21521   женат / замужем                 0      F   пенсионер     0   \n",
       "21522  гражданский брак                 1      M   сотрудник     1   \n",
       "21523   женат / замужем                 0      M   сотрудник     1   \n",
       "21524   женат / замужем                 0      F   сотрудник     0   \n",
       "\n",
       "        total_income                       purpose  \n",
       "0      253875.639453                 покупка жилья  \n",
       "1      112080.014102       приобретение автомобиля  \n",
       "2      145885.952297                 покупка жилья  \n",
       "3      267628.550329    дополнительное образование  \n",
       "4      158616.077870               сыграть свадьбу  \n",
       "...              ...                           ...  \n",
       "21520  224791.862382             операции с жильем  \n",
       "21521  155999.806512          сделка с автомобилем  \n",
       "21522   89672.561153                  недвижимость  \n",
       "21523  244093.050500  на покупку своего автомобиля  \n",
       "21524   82047.418899         на покупку автомобиля  \n",
       "\n",
       "[21525 rows x 12 columns]"
      ]
     },
     "execution_count": 34,
     "metadata": {},
     "output_type": "execute_result"
    }
   ],
   "source": [
    "data = data.drop(columns=['days_employed_mean',\n",
    "                          'income_mean'])\n",
    "data"
   ]
  },
  {
   "cell_type": "markdown",
   "metadata": {},
   "source": [
    "**Вывод**"
   ]
  },
  {
   "cell_type": "markdown",
   "metadata": {},
   "source": [
    "Были найдены пропуски в колонках `days_employed` и `total_income`. Для каждой из них были найдены средние значения для каждой группы `income_type`, которыми мы заменили пропуски в колонках.<br>\n",
    "\n",
    "Были найдены ошибки при загрузке данных о стаже работы клиентов: для клиентов, которые до сих пор трудоустроены значения были отрицательными и в днях, а для нетрудоустроенных клиентов значения были в часах. Убедившись в этом значения были приведены к единому формату."
   ]
  },
  {
   "cell_type": "markdown",
   "metadata": {},
   "source": [
    "### Замена типа данных"
   ]
  },
  {
   "cell_type": "markdown",
   "metadata": {},
   "source": [
    "В исходных данных есть колнки `days_employed` и `total_income` с вещественным типом данных, который для удобства лучше перевести в целочисленный.<br>\n",
    "Для перевода в целочисленный тип используем метод `astype()`, т.к. в отличие от метода `to_numeric()` он позволяет переводить значения в целочисленный тип данных."
   ]
  },
  {
   "cell_type": "code",
   "execution_count": 35,
   "metadata": {},
   "outputs": [
    {
     "data": {
      "text/html": [
       "<div>\n",
       "<style scoped>\n",
       "    .dataframe tbody tr th:only-of-type {\n",
       "        vertical-align: middle;\n",
       "    }\n",
       "\n",
       "    .dataframe tbody tr th {\n",
       "        vertical-align: top;\n",
       "    }\n",
       "\n",
       "    .dataframe thead th {\n",
       "        text-align: right;\n",
       "    }\n",
       "</style>\n",
       "<table border=\"1\" class=\"dataframe\">\n",
       "  <thead>\n",
       "    <tr style=\"text-align: right;\">\n",
       "      <th></th>\n",
       "      <th>children</th>\n",
       "      <th>days_employed</th>\n",
       "      <th>dob_years</th>\n",
       "      <th>education</th>\n",
       "      <th>education_id</th>\n",
       "      <th>family_status</th>\n",
       "      <th>family_status_id</th>\n",
       "      <th>gender</th>\n",
       "      <th>income_type</th>\n",
       "      <th>debt</th>\n",
       "      <th>total_income</th>\n",
       "      <th>purpose</th>\n",
       "    </tr>\n",
       "  </thead>\n",
       "  <tbody>\n",
       "    <tr>\n",
       "      <th>0</th>\n",
       "      <td>1</td>\n",
       "      <td>8437</td>\n",
       "      <td>42</td>\n",
       "      <td>высшее</td>\n",
       "      <td>0</td>\n",
       "      <td>женат / замужем</td>\n",
       "      <td>0</td>\n",
       "      <td>F</td>\n",
       "      <td>сотрудник</td>\n",
       "      <td>0</td>\n",
       "      <td>253875</td>\n",
       "      <td>покупка жилья</td>\n",
       "    </tr>\n",
       "    <tr>\n",
       "      <th>1</th>\n",
       "      <td>1</td>\n",
       "      <td>4024</td>\n",
       "      <td>36</td>\n",
       "      <td>среднее</td>\n",
       "      <td>1</td>\n",
       "      <td>женат / замужем</td>\n",
       "      <td>0</td>\n",
       "      <td>F</td>\n",
       "      <td>сотрудник</td>\n",
       "      <td>0</td>\n",
       "      <td>112080</td>\n",
       "      <td>приобретение автомобиля</td>\n",
       "    </tr>\n",
       "    <tr>\n",
       "      <th>2</th>\n",
       "      <td>0</td>\n",
       "      <td>5623</td>\n",
       "      <td>33</td>\n",
       "      <td>Среднее</td>\n",
       "      <td>1</td>\n",
       "      <td>женат / замужем</td>\n",
       "      <td>0</td>\n",
       "      <td>M</td>\n",
       "      <td>сотрудник</td>\n",
       "      <td>0</td>\n",
       "      <td>145885</td>\n",
       "      <td>покупка жилья</td>\n",
       "    </tr>\n",
       "    <tr>\n",
       "      <th>3</th>\n",
       "      <td>3</td>\n",
       "      <td>4124</td>\n",
       "      <td>32</td>\n",
       "      <td>среднее</td>\n",
       "      <td>1</td>\n",
       "      <td>женат / замужем</td>\n",
       "      <td>0</td>\n",
       "      <td>M</td>\n",
       "      <td>сотрудник</td>\n",
       "      <td>0</td>\n",
       "      <td>267628</td>\n",
       "      <td>дополнительное образование</td>\n",
       "    </tr>\n",
       "    <tr>\n",
       "      <th>4</th>\n",
       "      <td>0</td>\n",
       "      <td>14177</td>\n",
       "      <td>53</td>\n",
       "      <td>среднее</td>\n",
       "      <td>1</td>\n",
       "      <td>гражданский брак</td>\n",
       "      <td>1</td>\n",
       "      <td>F</td>\n",
       "      <td>пенсионер</td>\n",
       "      <td>0</td>\n",
       "      <td>158616</td>\n",
       "      <td>сыграть свадьбу</td>\n",
       "    </tr>\n",
       "    <tr>\n",
       "      <th>5</th>\n",
       "      <td>0</td>\n",
       "      <td>926</td>\n",
       "      <td>27</td>\n",
       "      <td>высшее</td>\n",
       "      <td>0</td>\n",
       "      <td>гражданский брак</td>\n",
       "      <td>1</td>\n",
       "      <td>M</td>\n",
       "      <td>компаньон</td>\n",
       "      <td>0</td>\n",
       "      <td>255763</td>\n",
       "      <td>покупка жилья</td>\n",
       "    </tr>\n",
       "    <tr>\n",
       "      <th>6</th>\n",
       "      <td>0</td>\n",
       "      <td>2879</td>\n",
       "      <td>43</td>\n",
       "      <td>высшее</td>\n",
       "      <td>0</td>\n",
       "      <td>женат / замужем</td>\n",
       "      <td>0</td>\n",
       "      <td>F</td>\n",
       "      <td>компаньон</td>\n",
       "      <td>0</td>\n",
       "      <td>240525</td>\n",
       "      <td>операции с жильем</td>\n",
       "    </tr>\n",
       "    <tr>\n",
       "      <th>7</th>\n",
       "      <td>0</td>\n",
       "      <td>152</td>\n",
       "      <td>50</td>\n",
       "      <td>СРЕДНЕЕ</td>\n",
       "      <td>1</td>\n",
       "      <td>женат / замужем</td>\n",
       "      <td>0</td>\n",
       "      <td>M</td>\n",
       "      <td>сотрудник</td>\n",
       "      <td>0</td>\n",
       "      <td>135823</td>\n",
       "      <td>образование</td>\n",
       "    </tr>\n",
       "    <tr>\n",
       "      <th>8</th>\n",
       "      <td>2</td>\n",
       "      <td>6929</td>\n",
       "      <td>35</td>\n",
       "      <td>ВЫСШЕЕ</td>\n",
       "      <td>0</td>\n",
       "      <td>гражданский брак</td>\n",
       "      <td>1</td>\n",
       "      <td>F</td>\n",
       "      <td>сотрудник</td>\n",
       "      <td>0</td>\n",
       "      <td>95856</td>\n",
       "      <td>на проведение свадьбы</td>\n",
       "    </tr>\n",
       "    <tr>\n",
       "      <th>9</th>\n",
       "      <td>0</td>\n",
       "      <td>2188</td>\n",
       "      <td>41</td>\n",
       "      <td>среднее</td>\n",
       "      <td>1</td>\n",
       "      <td>женат / замужем</td>\n",
       "      <td>0</td>\n",
       "      <td>M</td>\n",
       "      <td>сотрудник</td>\n",
       "      <td>0</td>\n",
       "      <td>144425</td>\n",
       "      <td>покупка жилья для семьи</td>\n",
       "    </tr>\n",
       "  </tbody>\n",
       "</table>\n",
       "</div>"
      ],
      "text/plain": [
       "   children  days_employed  dob_years education  education_id  \\\n",
       "0         1           8437         42    высшее             0   \n",
       "1         1           4024         36   среднее             1   \n",
       "2         0           5623         33   Среднее             1   \n",
       "3         3           4124         32   среднее             1   \n",
       "4         0          14177         53   среднее             1   \n",
       "5         0            926         27    высшее             0   \n",
       "6         0           2879         43    высшее             0   \n",
       "7         0            152         50   СРЕДНЕЕ             1   \n",
       "8         2           6929         35    ВЫСШЕЕ             0   \n",
       "9         0           2188         41   среднее             1   \n",
       "\n",
       "      family_status  family_status_id gender income_type  debt  total_income  \\\n",
       "0   женат / замужем                 0      F   сотрудник     0        253875   \n",
       "1   женат / замужем                 0      F   сотрудник     0        112080   \n",
       "2   женат / замужем                 0      M   сотрудник     0        145885   \n",
       "3   женат / замужем                 0      M   сотрудник     0        267628   \n",
       "4  гражданский брак                 1      F   пенсионер     0        158616   \n",
       "5  гражданский брак                 1      M   компаньон     0        255763   \n",
       "6   женат / замужем                 0      F   компаньон     0        240525   \n",
       "7   женат / замужем                 0      M   сотрудник     0        135823   \n",
       "8  гражданский брак                 1      F   сотрудник     0         95856   \n",
       "9   женат / замужем                 0      M   сотрудник     0        144425   \n",
       "\n",
       "                      purpose  \n",
       "0               покупка жилья  \n",
       "1     приобретение автомобиля  \n",
       "2               покупка жилья  \n",
       "3  дополнительное образование  \n",
       "4             сыграть свадьбу  \n",
       "5               покупка жилья  \n",
       "6           операции с жильем  \n",
       "7                 образование  \n",
       "8       на проведение свадьбы  \n",
       "9     покупка жилья для семьи  "
      ]
     },
     "execution_count": 35,
     "metadata": {},
     "output_type": "execute_result"
    }
   ],
   "source": [
    "# Перевеодим значения из вещественного типа в целочисленный\n",
    "data['days_employed'] = data['days_employed'].astype('int')\n",
    "data['total_income'] = data['total_income'].astype('int')\n",
    "data.head(10)"
   ]
  },
  {
   "cell_type": "markdown",
   "metadata": {},
   "source": [
    "**Вывод**"
   ]
  },
  {
   "cell_type": "markdown",
   "metadata": {},
   "source": [
    "При помощи метода `astype()` была произведена замена вещественного типа данных на целочисленный в колонках `days_employed` и `total_income`."
   ]
  },
  {
   "cell_type": "markdown",
   "metadata": {},
   "source": [
    "### Обработка дубликатов"
   ]
  },
  {
   "cell_type": "markdown",
   "metadata": {},
   "source": [
    "В колонке `education` в таблице имеются значения о полученном клиентом образовании. Некоторые из значений одинаковые по смыслу, но находятся в разном регистре. Без обработки данной колонки мы можем упустить неявные дубли.<br>\n",
    "Чтобы избежать таких неудобств можно выделить данные категории в отдельный словарь, который можно будет связать по идентификатору категории образования, который уже имеется в исходных данных - колонка `education_id`."
   ]
  },
  {
   "cell_type": "markdown",
   "metadata": {},
   "source": [
    "Переведем все значения колонки `education` в нижний регистр. После этого избавимся от всех дублей и отсортируем колонку `education_id` в порядке возрастания."
   ]
  },
  {
   "cell_type": "code",
   "execution_count": 36,
   "metadata": {},
   "outputs": [
    {
     "data": {
      "text/plain": [
       "среднее                15233\n",
       "высшее                  5260\n",
       "неоконченное высшее      744\n",
       "начальное                282\n",
       "ученая степень             6\n",
       "Name: education, dtype: int64"
      ]
     },
     "execution_count": 36,
     "metadata": {},
     "output_type": "execute_result"
    }
   ],
   "source": [
    "# Переведем в нижний регистр значения в колонке 'education'\n",
    "data['education'] = data['education'].str.lower()\n",
    "\n",
    "# Выведем количество значений в колонке 'education'\n",
    "data['education'].value_counts()"
   ]
  },
  {
   "cell_type": "markdown",
   "metadata": {},
   "source": [
    "Проверим наши данные на наличие дубликатов.<br>\n",
    "Для этого применим метод `duplicated()`, который вернет значение `True`, если будут найдены дубли строк."
   ]
  },
  {
   "cell_type": "code",
   "execution_count": 37,
   "metadata": {},
   "outputs": [
    {
     "data": {
      "text/plain": [
       "False    21454\n",
       "True        71\n",
       "dtype: int64"
      ]
     },
     "execution_count": 37,
     "metadata": {},
     "output_type": "execute_result"
    }
   ],
   "source": [
    "# Выведем информацию о дублях и их количестве\n",
    "data.duplicated().value_counts()"
   ]
  },
  {
   "cell_type": "markdown",
   "metadata": {},
   "source": [
    "В данных имеется 54 строки с дублями. Выведем их."
   ]
  },
  {
   "cell_type": "code",
   "execution_count": 38,
   "metadata": {},
   "outputs": [
    {
     "data": {
      "text/html": [
       "<div>\n",
       "<style scoped>\n",
       "    .dataframe tbody tr th:only-of-type {\n",
       "        vertical-align: middle;\n",
       "    }\n",
       "\n",
       "    .dataframe tbody tr th {\n",
       "        vertical-align: top;\n",
       "    }\n",
       "\n",
       "    .dataframe thead th {\n",
       "        text-align: right;\n",
       "    }\n",
       "</style>\n",
       "<table border=\"1\" class=\"dataframe\">\n",
       "  <thead>\n",
       "    <tr style=\"text-align: right;\">\n",
       "      <th></th>\n",
       "      <th>children</th>\n",
       "      <th>days_employed</th>\n",
       "      <th>dob_years</th>\n",
       "      <th>education</th>\n",
       "      <th>education_id</th>\n",
       "      <th>family_status</th>\n",
       "      <th>family_status_id</th>\n",
       "      <th>gender</th>\n",
       "      <th>income_type</th>\n",
       "      <th>debt</th>\n",
       "      <th>total_income</th>\n",
       "      <th>purpose</th>\n",
       "    </tr>\n",
       "  </thead>\n",
       "  <tbody>\n",
       "    <tr>\n",
       "      <th>2849</th>\n",
       "      <td>0</td>\n",
       "      <td>2326</td>\n",
       "      <td>41</td>\n",
       "      <td>среднее</td>\n",
       "      <td>1</td>\n",
       "      <td>женат / замужем</td>\n",
       "      <td>0</td>\n",
       "      <td>F</td>\n",
       "      <td>сотрудник</td>\n",
       "      <td>0</td>\n",
       "      <td>161380</td>\n",
       "      <td>покупка жилья для семьи</td>\n",
       "    </tr>\n",
       "    <tr>\n",
       "      <th>3290</th>\n",
       "      <td>0</td>\n",
       "      <td>15208</td>\n",
       "      <td>58</td>\n",
       "      <td>среднее</td>\n",
       "      <td>1</td>\n",
       "      <td>гражданский брак</td>\n",
       "      <td>1</td>\n",
       "      <td>F</td>\n",
       "      <td>пенсионер</td>\n",
       "      <td>0</td>\n",
       "      <td>137127</td>\n",
       "      <td>сыграть свадьбу</td>\n",
       "    </tr>\n",
       "    <tr>\n",
       "      <th>4182</th>\n",
       "      <td>1</td>\n",
       "      <td>2326</td>\n",
       "      <td>34</td>\n",
       "      <td>высшее</td>\n",
       "      <td>0</td>\n",
       "      <td>гражданский брак</td>\n",
       "      <td>1</td>\n",
       "      <td>F</td>\n",
       "      <td>сотрудник</td>\n",
       "      <td>0</td>\n",
       "      <td>161380</td>\n",
       "      <td>свадьба</td>\n",
       "    </tr>\n",
       "    <tr>\n",
       "      <th>4851</th>\n",
       "      <td>0</td>\n",
       "      <td>15208</td>\n",
       "      <td>60</td>\n",
       "      <td>среднее</td>\n",
       "      <td>1</td>\n",
       "      <td>гражданский брак</td>\n",
       "      <td>1</td>\n",
       "      <td>F</td>\n",
       "      <td>пенсионер</td>\n",
       "      <td>0</td>\n",
       "      <td>137127</td>\n",
       "      <td>свадьба</td>\n",
       "    </tr>\n",
       "    <tr>\n",
       "      <th>5557</th>\n",
       "      <td>0</td>\n",
       "      <td>15208</td>\n",
       "      <td>58</td>\n",
       "      <td>среднее</td>\n",
       "      <td>1</td>\n",
       "      <td>гражданский брак</td>\n",
       "      <td>1</td>\n",
       "      <td>F</td>\n",
       "      <td>пенсионер</td>\n",
       "      <td>0</td>\n",
       "      <td>137127</td>\n",
       "      <td>сыграть свадьбу</td>\n",
       "    </tr>\n",
       "    <tr>\n",
       "      <th>...</th>\n",
       "      <td>...</td>\n",
       "      <td>...</td>\n",
       "      <td>...</td>\n",
       "      <td>...</td>\n",
       "      <td>...</td>\n",
       "      <td>...</td>\n",
       "      <td>...</td>\n",
       "      <td>...</td>\n",
       "      <td>...</td>\n",
       "      <td>...</td>\n",
       "      <td>...</td>\n",
       "      <td>...</td>\n",
       "    </tr>\n",
       "    <tr>\n",
       "      <th>20702</th>\n",
       "      <td>0</td>\n",
       "      <td>15208</td>\n",
       "      <td>64</td>\n",
       "      <td>среднее</td>\n",
       "      <td>1</td>\n",
       "      <td>женат / замужем</td>\n",
       "      <td>0</td>\n",
       "      <td>F</td>\n",
       "      <td>пенсионер</td>\n",
       "      <td>0</td>\n",
       "      <td>137127</td>\n",
       "      <td>дополнительное образование</td>\n",
       "    </tr>\n",
       "    <tr>\n",
       "      <th>21032</th>\n",
       "      <td>0</td>\n",
       "      <td>15208</td>\n",
       "      <td>60</td>\n",
       "      <td>среднее</td>\n",
       "      <td>1</td>\n",
       "      <td>женат / замужем</td>\n",
       "      <td>0</td>\n",
       "      <td>F</td>\n",
       "      <td>пенсионер</td>\n",
       "      <td>0</td>\n",
       "      <td>137127</td>\n",
       "      <td>заняться образованием</td>\n",
       "    </tr>\n",
       "    <tr>\n",
       "      <th>21132</th>\n",
       "      <td>0</td>\n",
       "      <td>2326</td>\n",
       "      <td>47</td>\n",
       "      <td>среднее</td>\n",
       "      <td>1</td>\n",
       "      <td>женат / замужем</td>\n",
       "      <td>0</td>\n",
       "      <td>F</td>\n",
       "      <td>сотрудник</td>\n",
       "      <td>0</td>\n",
       "      <td>161380</td>\n",
       "      <td>ремонт жилью</td>\n",
       "    </tr>\n",
       "    <tr>\n",
       "      <th>21281</th>\n",
       "      <td>1</td>\n",
       "      <td>2326</td>\n",
       "      <td>30</td>\n",
       "      <td>высшее</td>\n",
       "      <td>0</td>\n",
       "      <td>женат / замужем</td>\n",
       "      <td>0</td>\n",
       "      <td>F</td>\n",
       "      <td>сотрудник</td>\n",
       "      <td>0</td>\n",
       "      <td>161380</td>\n",
       "      <td>покупка коммерческой недвижимости</td>\n",
       "    </tr>\n",
       "    <tr>\n",
       "      <th>21415</th>\n",
       "      <td>0</td>\n",
       "      <td>15208</td>\n",
       "      <td>54</td>\n",
       "      <td>среднее</td>\n",
       "      <td>1</td>\n",
       "      <td>женат / замужем</td>\n",
       "      <td>0</td>\n",
       "      <td>F</td>\n",
       "      <td>пенсионер</td>\n",
       "      <td>0</td>\n",
       "      <td>137127</td>\n",
       "      <td>операции с жильем</td>\n",
       "    </tr>\n",
       "  </tbody>\n",
       "</table>\n",
       "<p>71 rows × 12 columns</p>\n",
       "</div>"
      ],
      "text/plain": [
       "       children  days_employed  dob_years education  education_id  \\\n",
       "2849          0           2326         41   среднее             1   \n",
       "3290          0          15208         58   среднее             1   \n",
       "4182          1           2326         34    высшее             0   \n",
       "4851          0          15208         60   среднее             1   \n",
       "5557          0          15208         58   среднее             1   \n",
       "...         ...            ...        ...       ...           ...   \n",
       "20702         0          15208         64   среднее             1   \n",
       "21032         0          15208         60   среднее             1   \n",
       "21132         0           2326         47   среднее             1   \n",
       "21281         1           2326         30    высшее             0   \n",
       "21415         0          15208         54   среднее             1   \n",
       "\n",
       "          family_status  family_status_id gender income_type  debt  \\\n",
       "2849    женат / замужем                 0      F   сотрудник     0   \n",
       "3290   гражданский брак                 1      F   пенсионер     0   \n",
       "4182   гражданский брак                 1      F   сотрудник     0   \n",
       "4851   гражданский брак                 1      F   пенсионер     0   \n",
       "5557   гражданский брак                 1      F   пенсионер     0   \n",
       "...                 ...               ...    ...         ...   ...   \n",
       "20702   женат / замужем                 0      F   пенсионер     0   \n",
       "21032   женат / замужем                 0      F   пенсионер     0   \n",
       "21132   женат / замужем                 0      F   сотрудник     0   \n",
       "21281   женат / замужем                 0      F   сотрудник     0   \n",
       "21415   женат / замужем                 0      F   пенсионер     0   \n",
       "\n",
       "       total_income                            purpose  \n",
       "2849         161380            покупка жилья для семьи  \n",
       "3290         137127                    сыграть свадьбу  \n",
       "4182         161380                            свадьба  \n",
       "4851         137127                            свадьба  \n",
       "5557         137127                    сыграть свадьбу  \n",
       "...             ...                                ...  \n",
       "20702        137127         дополнительное образование  \n",
       "21032        137127              заняться образованием  \n",
       "21132        161380                       ремонт жилью  \n",
       "21281        161380  покупка коммерческой недвижимости  \n",
       "21415        137127                  операции с жильем  \n",
       "\n",
       "[71 rows x 12 columns]"
      ]
     },
     "execution_count": 38,
     "metadata": {},
     "output_type": "execute_result"
    }
   ],
   "source": [
    "# Выведем таблицу с дублями\n",
    "data[data.duplicated() == True]"
   ]
  },
  {
   "cell_type": "markdown",
   "metadata": {},
   "source": [
    "Мы получили список дублей.<br><br>\n",
    "Исходя из данных у нас недостаточно информации, чтобы быть уверенными в том, что полученная информация является действительно дублем. В данных отсутствуют какие-либо уникальные идентификаторы клиентов.<br>\n",
    "\n",
    "Уникальными могли являться данные со стажем работы и месячным доходом, но в случаях пропусков мы их заменили на средние значения, что в результате и могло стать одной из причин возникновения дублей.<br>\n",
    "\n",
    "Полноценной взможности убедиться в уникальности этих строк у нас нет, а сама таблица с дублями достаточно мала, чтобы исказить итоговые результаты, при их исключении из анализа.<br><br>\n",
    "\n",
    "Очистим данные от полученных дублей при помощи метода `drop_duplicates()`."
   ]
  },
  {
   "cell_type": "code",
   "execution_count": 39,
   "metadata": {},
   "outputs": [
    {
     "data": {
      "text/plain": [
       "children            0\n",
       "days_employed       0\n",
       "dob_years           0\n",
       "education           0\n",
       "education_id        0\n",
       "family_status       0\n",
       "family_status_id    0\n",
       "gender              0\n",
       "income_type         0\n",
       "debt                0\n",
       "total_income        0\n",
       "purpose             0\n",
       "dtype: int64"
      ]
     },
     "execution_count": 39,
     "metadata": {},
     "output_type": "execute_result"
    }
   ],
   "source": [
    "# Очищаем данные от дублей\n",
    "data = data.drop_duplicates().reset_index(drop=True)\n",
    "\n",
    "# Проверяем остались ли дубли\n",
    "data[data.duplicated() == True].count()"
   ]
  },
  {
   "cell_type": "markdown",
   "metadata": {},
   "source": [
    "Данные очищены от дублей."
   ]
  },
  {
   "cell_type": "markdown",
   "metadata": {},
   "source": [
    "**Вывод**"
   ]
  },
  {
   "cell_type": "markdown",
   "metadata": {},
   "source": [
    "Были выявлены дубли в данных. Полной уверенности в том, что это были дубли, а не разные клиенты со схожими характеристиками, у нас нет.<br>\n",
    "Вероятно, что к возникновению дублей привели следующие моменты:\n",
    "\n",
    "- отсутствие идентификатора клиента;\n",
    "- замена пропусков на средние показатели стажа работы клиента и месячного дохода."
   ]
  },
  {
   "cell_type": "markdown",
   "metadata": {},
   "source": [
    "Было решено очистить данные от полученных дублей, учитывая, что их количество было не большим."
   ]
  },
  {
   "cell_type": "markdown",
   "metadata": {},
   "source": [
    "### Лемматизация"
   ]
  },
  {
   "cell_type": "markdown",
   "metadata": {},
   "source": [
    "В колонке `purpose` указана цель полчения кредита клиентом. Среди перечисленных целей есть похожие по смыслу, но по-разному сформулированные - такие цели можно сгруппировать по категориям.<br>\n",
    "Можно выделить следующие категории:\n",
    "- недвижимость\n",
    "- автомобиль\n",
    "- свадьба\n",
    "- образование"
   ]
  },
  {
   "cell_type": "markdown",
   "metadata": {},
   "source": [
    "Для категоризации целей используем лемматизацию при помощи библиотеки `pymystem3`.<br>\n",
    "Импортируем библиотеку."
   ]
  },
  {
   "cell_type": "code",
   "execution_count": 43,
   "metadata": {},
   "outputs": [],
   "source": [
    "# Импорт библиотеки pymystem3 для лемматизации\n",
    "from pymystem3 import Mystem\n",
    "m = Mystem()"
   ]
  },
  {
   "cell_type": "markdown",
   "metadata": {},
   "source": [
    "Создадим словарь, в котором ключами будут названия категорий, а значениями будут ключевые слова, по вхождению которых будем определять принадлежность к той или иной категории."
   ]
  },
  {
   "cell_type": "code",
   "execution_count": 44,
   "metadata": {},
   "outputs": [],
   "source": [
    "# Создадим словарь для лемматизации, в котором ключом будет название категории цели получения кредита, \n",
    "# а в значении будут ключевые слова для группировки по категориям\n",
    "purpose_dict = {'недвижимость': ['недвижимость', 'жилье'],\n",
    "                'автомобиль': ['автомобиль'],\n",
    "                'свадьба': ['свадьба'],\n",
    "                'образование': ['образование']}"
   ]
  },
  {
   "cell_type": "markdown",
   "metadata": {},
   "source": [
    "Создадим функцию для определения категории по переданной строке с целью кредита.<br>\n",
    "\n",
    "Функция будет принимать строку с указанной целью получения кредита, эта строка будет переведена в леммы, т.е. к его словарной форме.<br>\n",
    "\n",
    "Далее функция будет проходиться по каждому ключу словаря `purpose_dict` и по каждому значению (или значениям) каждого ключа словаря, и при нахождении одного из значений ключа, функция будет возвращать ключ в качестве названия подходящей категории. К функции добавим проверку ошибок, при помощи `try-except`, на случай если совпадений по ключам не найдется."
   ]
  },
  {
   "cell_type": "code",
   "execution_count": 45,
   "metadata": {},
   "outputs": [],
   "source": [
    "# Создадим функцию для определения категории цели получения кредита\n",
    "def purpose_category(string):\n",
    "    lemmatize_string = m.lemmatize(string)\n",
    "    for purposes in purpose_dict:\n",
    "        for purpose in purpose_dict[purposes]:\n",
    "            lemmatize_purpose = m.lemmatize(purpose)\n",
    "            try:\n",
    "                if lemmatize_purpose[0] in lemmatize_string:\n",
    "                    return purposes\n",
    "            except:\n",
    "                return 'unknown'"
   ]
  },
  {
   "cell_type": "markdown",
   "metadata": {},
   "source": [
    "Создадим новую колонку `purpose_category` и применим к ней созданную функцию `purpose_category` для заполнения значениями категорий при помощи метода `apply()`."
   ]
  },
  {
   "cell_type": "code",
   "execution_count": 46,
   "metadata": {},
   "outputs": [
    {
     "data": {
      "text/plain": [
       "недвижимость    10811\n",
       "автомобиль       4306\n",
       "образование      4013\n",
       "свадьба          2324\n",
       "Name: purpose_category, dtype: int64"
      ]
     },
     "execution_count": 46,
     "metadata": {},
     "output_type": "execute_result"
    }
   ],
   "source": [
    "# Применим функцию 'purpose_category' и сохраним полученные значения в новую колонку 'purpose_category'\n",
    "data['purpose_category'] = data['purpose'].apply(purpose_category)\n",
    "\n",
    "# Выведем количество значений в колонке 'purpose_category'\n",
    "data['purpose_category'].value_counts()"
   ]
  },
  {
   "cell_type": "markdown",
   "metadata": {},
   "source": [
    "Проверим количество значений в обеих колонках при помощи метода `info()`."
   ]
  },
  {
   "cell_type": "code",
   "execution_count": 47,
   "metadata": {},
   "outputs": [
    {
     "name": "stdout",
     "output_type": "stream",
     "text": [
      "<class 'pandas.core.frame.DataFrame'>\n",
      "RangeIndex: 21454 entries, 0 to 21453\n",
      "Data columns (total 2 columns):\n",
      " #   Column            Non-Null Count  Dtype \n",
      "---  ------            --------------  ----- \n",
      " 0   purpose           21454 non-null  object\n",
      " 1   purpose_category  21454 non-null  object\n",
      "dtypes: object(2)\n",
      "memory usage: 335.3+ KB\n"
     ]
    }
   ],
   "source": [
    "# Выведем информацию о колонках 'purpose' и 'purpose_category' \n",
    "data[['purpose','purpose_category']].info()"
   ]
  },
  {
   "cell_type": "markdown",
   "metadata": {},
   "source": [
    "Количество заполненных значений совпадает и пропуски отсутствуют."
   ]
  },
  {
   "cell_type": "markdown",
   "metadata": {},
   "source": [
    "**Вывод**"
   ]
  },
  {
   "cell_type": "markdown",
   "metadata": {},
   "source": [
    "Было создано 4 категории для определения цели получения кредита:\n",
    "- недвижимость\n",
    "- автомобиль\n",
    "- свадьба\n",
    "- образование"
   ]
  },
  {
   "cell_type": "markdown",
   "metadata": {},
   "source": [
    "Была создана отдельная колонка `purpose_category`, в которую при помощи лемматизации были сохранены значения категорий."
   ]
  },
  {
   "cell_type": "markdown",
   "metadata": {},
   "source": [
    "### Категоризация данных"
   ]
  },
  {
   "cell_type": "markdown",
   "metadata": {},
   "source": [
    "Для проведения дальнейшего анализа необходимо провести категоризацию данных, чтобы избежать следующих неудобств и проблем в ходе анализа:\n",
    "- Усложнение визуальной работы с таблицей;\n",
    "- Увеличение размера файла и скорости обработки данных;\n",
    "- Сложность в фильтрации данных, если необходимо фильтровать по длинным названиям (увеличивается вероятность допустить ошибку при вводе);\n",
    "- Сложнее создавать новые категории и изменять старые;\n",
    "- Сложнее делать статистические выводы со значениями которые встречаются единожды (например, ежемесячный доход)."
   ]
  },
  {
   "cell_type": "markdown",
   "metadata": {},
   "source": [
    "В исходных данных у нас имеется 2 колонки, для которых в таблице выведены еще и колонки с `id` - это колонка `education` и `family_status`.<br>\n",
    "Для этих колонок можно провести категоризацию данных."
   ]
  },
  {
   "cell_type": "markdown",
   "metadata": {},
   "source": [
    "Выведем таблицу по колонкам `education` и `education_id` и сохраним ее в отдельную переменную `education_dict`."
   ]
  },
  {
   "cell_type": "code",
   "execution_count": 48,
   "metadata": {},
   "outputs": [
    {
     "data": {
      "text/plain": [
       "среднее                15172\n",
       "высшее                  5250\n",
       "неоконченное высшее      744\n",
       "начальное                282\n",
       "ученая степень             6\n",
       "Name: education, dtype: int64"
      ]
     },
     "execution_count": 48,
     "metadata": {},
     "output_type": "execute_result"
    }
   ],
   "source": [
    "# Сохранение в переменной 'education_dict' таблицы с колонками 'education_id' и 'education'\n",
    "education_dict = data[['education_id', 'education']]\n",
    "\n",
    "# Выведем количество значений в колонке 'education'\n",
    "education_dict['education'].value_counts()"
   ]
  },
  {
   "cell_type": "code",
   "execution_count": 49,
   "metadata": {
    "scrolled": true
   },
   "outputs": [
    {
     "data": {
      "text/html": [
       "<div>\n",
       "<style scoped>\n",
       "    .dataframe tbody tr th:only-of-type {\n",
       "        vertical-align: middle;\n",
       "    }\n",
       "\n",
       "    .dataframe tbody tr th {\n",
       "        vertical-align: top;\n",
       "    }\n",
       "\n",
       "    .dataframe thead th {\n",
       "        text-align: right;\n",
       "    }\n",
       "</style>\n",
       "<table border=\"1\" class=\"dataframe\">\n",
       "  <thead>\n",
       "    <tr style=\"text-align: right;\">\n",
       "      <th></th>\n",
       "      <th>education_id</th>\n",
       "      <th>education</th>\n",
       "    </tr>\n",
       "  </thead>\n",
       "  <tbody>\n",
       "    <tr>\n",
       "      <th>0</th>\n",
       "      <td>0</td>\n",
       "      <td>высшее</td>\n",
       "    </tr>\n",
       "    <tr>\n",
       "      <th>1</th>\n",
       "      <td>1</td>\n",
       "      <td>среднее</td>\n",
       "    </tr>\n",
       "    <tr>\n",
       "      <th>2</th>\n",
       "      <td>2</td>\n",
       "      <td>неоконченное высшее</td>\n",
       "    </tr>\n",
       "    <tr>\n",
       "      <th>3</th>\n",
       "      <td>3</td>\n",
       "      <td>начальное</td>\n",
       "    </tr>\n",
       "    <tr>\n",
       "      <th>4</th>\n",
       "      <td>4</td>\n",
       "      <td>ученая степень</td>\n",
       "    </tr>\n",
       "  </tbody>\n",
       "</table>\n",
       "</div>"
      ],
      "text/plain": [
       "   education_id            education\n",
       "0             0               высшее\n",
       "1             1              среднее\n",
       "2             2  неоконченное высшее\n",
       "3             3            начальное\n",
       "4             4       ученая степень"
      ]
     },
     "execution_count": 49,
     "metadata": {},
     "output_type": "execute_result"
    }
   ],
   "source": [
    "# Удалим все дубликаты в таблице 'education_dict'\n",
    "education_dict = (\n",
    "    education_dict.drop_duplicates()\n",
    "    .reset_index(drop=True)\n",
    "    .sort_values('education_id')\n",
    ")\n",
    "\n",
    "# Выведем таблицу 'education_dict'\n",
    "education_dict"
   ]
  },
  {
   "cell_type": "markdown",
   "metadata": {},
   "source": [
    "Мы создали \"словарь\" `education_dict`, в котором хранится информация о видах образования.<br>\n",
    "Можно удалить колонку `education` в исходной таблице с помощью метода DataFrame.drop()"
   ]
  },
  {
   "cell_type": "code",
   "execution_count": 50,
   "metadata": {
    "scrolled": true
   },
   "outputs": [
    {
     "data": {
      "text/html": [
       "<div>\n",
       "<style scoped>\n",
       "    .dataframe tbody tr th:only-of-type {\n",
       "        vertical-align: middle;\n",
       "    }\n",
       "\n",
       "    .dataframe tbody tr th {\n",
       "        vertical-align: top;\n",
       "    }\n",
       "\n",
       "    .dataframe thead th {\n",
       "        text-align: right;\n",
       "    }\n",
       "</style>\n",
       "<table border=\"1\" class=\"dataframe\">\n",
       "  <thead>\n",
       "    <tr style=\"text-align: right;\">\n",
       "      <th></th>\n",
       "      <th>children</th>\n",
       "      <th>days_employed</th>\n",
       "      <th>dob_years</th>\n",
       "      <th>education_id</th>\n",
       "      <th>family_status</th>\n",
       "      <th>family_status_id</th>\n",
       "      <th>gender</th>\n",
       "      <th>income_type</th>\n",
       "      <th>debt</th>\n",
       "      <th>total_income</th>\n",
       "      <th>purpose</th>\n",
       "      <th>purpose_category</th>\n",
       "    </tr>\n",
       "  </thead>\n",
       "  <tbody>\n",
       "    <tr>\n",
       "      <th>0</th>\n",
       "      <td>1</td>\n",
       "      <td>8437</td>\n",
       "      <td>42</td>\n",
       "      <td>0</td>\n",
       "      <td>женат / замужем</td>\n",
       "      <td>0</td>\n",
       "      <td>F</td>\n",
       "      <td>сотрудник</td>\n",
       "      <td>0</td>\n",
       "      <td>253875</td>\n",
       "      <td>покупка жилья</td>\n",
       "      <td>недвижимость</td>\n",
       "    </tr>\n",
       "    <tr>\n",
       "      <th>1</th>\n",
       "      <td>1</td>\n",
       "      <td>4024</td>\n",
       "      <td>36</td>\n",
       "      <td>1</td>\n",
       "      <td>женат / замужем</td>\n",
       "      <td>0</td>\n",
       "      <td>F</td>\n",
       "      <td>сотрудник</td>\n",
       "      <td>0</td>\n",
       "      <td>112080</td>\n",
       "      <td>приобретение автомобиля</td>\n",
       "      <td>автомобиль</td>\n",
       "    </tr>\n",
       "    <tr>\n",
       "      <th>2</th>\n",
       "      <td>0</td>\n",
       "      <td>5623</td>\n",
       "      <td>33</td>\n",
       "      <td>1</td>\n",
       "      <td>женат / замужем</td>\n",
       "      <td>0</td>\n",
       "      <td>M</td>\n",
       "      <td>сотрудник</td>\n",
       "      <td>0</td>\n",
       "      <td>145885</td>\n",
       "      <td>покупка жилья</td>\n",
       "      <td>недвижимость</td>\n",
       "    </tr>\n",
       "    <tr>\n",
       "      <th>3</th>\n",
       "      <td>3</td>\n",
       "      <td>4124</td>\n",
       "      <td>32</td>\n",
       "      <td>1</td>\n",
       "      <td>женат / замужем</td>\n",
       "      <td>0</td>\n",
       "      <td>M</td>\n",
       "      <td>сотрудник</td>\n",
       "      <td>0</td>\n",
       "      <td>267628</td>\n",
       "      <td>дополнительное образование</td>\n",
       "      <td>образование</td>\n",
       "    </tr>\n",
       "    <tr>\n",
       "      <th>4</th>\n",
       "      <td>0</td>\n",
       "      <td>14177</td>\n",
       "      <td>53</td>\n",
       "      <td>1</td>\n",
       "      <td>гражданский брак</td>\n",
       "      <td>1</td>\n",
       "      <td>F</td>\n",
       "      <td>пенсионер</td>\n",
       "      <td>0</td>\n",
       "      <td>158616</td>\n",
       "      <td>сыграть свадьбу</td>\n",
       "      <td>свадьба</td>\n",
       "    </tr>\n",
       "    <tr>\n",
       "      <th>...</th>\n",
       "      <td>...</td>\n",
       "      <td>...</td>\n",
       "      <td>...</td>\n",
       "      <td>...</td>\n",
       "      <td>...</td>\n",
       "      <td>...</td>\n",
       "      <td>...</td>\n",
       "      <td>...</td>\n",
       "      <td>...</td>\n",
       "      <td>...</td>\n",
       "      <td>...</td>\n",
       "      <td>...</td>\n",
       "    </tr>\n",
       "    <tr>\n",
       "      <th>21449</th>\n",
       "      <td>1</td>\n",
       "      <td>4529</td>\n",
       "      <td>43</td>\n",
       "      <td>1</td>\n",
       "      <td>гражданский брак</td>\n",
       "      <td>1</td>\n",
       "      <td>F</td>\n",
       "      <td>компаньон</td>\n",
       "      <td>0</td>\n",
       "      <td>224791</td>\n",
       "      <td>операции с жильем</td>\n",
       "      <td>недвижимость</td>\n",
       "    </tr>\n",
       "    <tr>\n",
       "      <th>21450</th>\n",
       "      <td>0</td>\n",
       "      <td>14330</td>\n",
       "      <td>67</td>\n",
       "      <td>1</td>\n",
       "      <td>женат / замужем</td>\n",
       "      <td>0</td>\n",
       "      <td>F</td>\n",
       "      <td>пенсионер</td>\n",
       "      <td>0</td>\n",
       "      <td>155999</td>\n",
       "      <td>сделка с автомобилем</td>\n",
       "      <td>автомобиль</td>\n",
       "    </tr>\n",
       "    <tr>\n",
       "      <th>21451</th>\n",
       "      <td>1</td>\n",
       "      <td>2113</td>\n",
       "      <td>38</td>\n",
       "      <td>1</td>\n",
       "      <td>гражданский брак</td>\n",
       "      <td>1</td>\n",
       "      <td>M</td>\n",
       "      <td>сотрудник</td>\n",
       "      <td>1</td>\n",
       "      <td>89672</td>\n",
       "      <td>недвижимость</td>\n",
       "      <td>недвижимость</td>\n",
       "    </tr>\n",
       "    <tr>\n",
       "      <th>21452</th>\n",
       "      <td>3</td>\n",
       "      <td>3112</td>\n",
       "      <td>38</td>\n",
       "      <td>1</td>\n",
       "      <td>женат / замужем</td>\n",
       "      <td>0</td>\n",
       "      <td>M</td>\n",
       "      <td>сотрудник</td>\n",
       "      <td>1</td>\n",
       "      <td>244093</td>\n",
       "      <td>на покупку своего автомобиля</td>\n",
       "      <td>автомобиль</td>\n",
       "    </tr>\n",
       "    <tr>\n",
       "      <th>21453</th>\n",
       "      <td>2</td>\n",
       "      <td>1984</td>\n",
       "      <td>40</td>\n",
       "      <td>1</td>\n",
       "      <td>женат / замужем</td>\n",
       "      <td>0</td>\n",
       "      <td>F</td>\n",
       "      <td>сотрудник</td>\n",
       "      <td>0</td>\n",
       "      <td>82047</td>\n",
       "      <td>на покупку автомобиля</td>\n",
       "      <td>автомобиль</td>\n",
       "    </tr>\n",
       "  </tbody>\n",
       "</table>\n",
       "<p>21454 rows × 12 columns</p>\n",
       "</div>"
      ],
      "text/plain": [
       "       children  days_employed  dob_years  education_id     family_status  \\\n",
       "0             1           8437         42             0   женат / замужем   \n",
       "1             1           4024         36             1   женат / замужем   \n",
       "2             0           5623         33             1   женат / замужем   \n",
       "3             3           4124         32             1   женат / замужем   \n",
       "4             0          14177         53             1  гражданский брак   \n",
       "...         ...            ...        ...           ...               ...   \n",
       "21449         1           4529         43             1  гражданский брак   \n",
       "21450         0          14330         67             1   женат / замужем   \n",
       "21451         1           2113         38             1  гражданский брак   \n",
       "21452         3           3112         38             1   женат / замужем   \n",
       "21453         2           1984         40             1   женат / замужем   \n",
       "\n",
       "       family_status_id gender income_type  debt  total_income  \\\n",
       "0                     0      F   сотрудник     0        253875   \n",
       "1                     0      F   сотрудник     0        112080   \n",
       "2                     0      M   сотрудник     0        145885   \n",
       "3                     0      M   сотрудник     0        267628   \n",
       "4                     1      F   пенсионер     0        158616   \n",
       "...                 ...    ...         ...   ...           ...   \n",
       "21449                 1      F   компаньон     0        224791   \n",
       "21450                 0      F   пенсионер     0        155999   \n",
       "21451                 1      M   сотрудник     1         89672   \n",
       "21452                 0      M   сотрудник     1        244093   \n",
       "21453                 0      F   сотрудник     0         82047   \n",
       "\n",
       "                            purpose purpose_category  \n",
       "0                     покупка жилья     недвижимость  \n",
       "1           приобретение автомобиля       автомобиль  \n",
       "2                     покупка жилья     недвижимость  \n",
       "3        дополнительное образование      образование  \n",
       "4                   сыграть свадьбу          свадьба  \n",
       "...                             ...              ...  \n",
       "21449             операции с жильем     недвижимость  \n",
       "21450          сделка с автомобилем       автомобиль  \n",
       "21451                  недвижимость     недвижимость  \n",
       "21452  на покупку своего автомобиля       автомобиль  \n",
       "21453         на покупку автомобиля       автомобиль  \n",
       "\n",
       "[21454 rows x 12 columns]"
      ]
     },
     "execution_count": 50,
     "metadata": {},
     "output_type": "execute_result"
    }
   ],
   "source": [
    "# Удалим колонку 'education' из таблицы 'data'\n",
    "data = data.drop(columns=['education'])\n",
    "data"
   ]
  },
  {
   "cell_type": "markdown",
   "metadata": {},
   "source": [
    "Создадим словарь для колонки `family_status`.<br>\n",
    "Выведем таблицу с колонками `family_status_id` и `family_status` и сохраним ее в пременную `family_status_dict`.<br>\n",
    "Проведем для нее те же операции, как и для колонки с видом образования:\n",
    "- переведем значения в нижний регистр;\n",
    "- избавимся от дубликатов;\n",
    "- отсортируем значения по колонке с идентификатором;\n",
    "- удалим колонку `family_status` из исходной таблицы."
   ]
  },
  {
   "cell_type": "code",
   "execution_count": 52,
   "metadata": {},
   "outputs": [
    {
     "data": {
      "text/html": [
       "<div>\n",
       "<style scoped>\n",
       "    .dataframe tbody tr th:only-of-type {\n",
       "        vertical-align: middle;\n",
       "    }\n",
       "\n",
       "    .dataframe tbody tr th {\n",
       "        vertical-align: top;\n",
       "    }\n",
       "\n",
       "    .dataframe thead th {\n",
       "        text-align: right;\n",
       "    }\n",
       "</style>\n",
       "<table border=\"1\" class=\"dataframe\">\n",
       "  <thead>\n",
       "    <tr style=\"text-align: right;\">\n",
       "      <th></th>\n",
       "      <th>family_status_id</th>\n",
       "      <th>family_status</th>\n",
       "    </tr>\n",
       "  </thead>\n",
       "  <tbody>\n",
       "    <tr>\n",
       "      <th>0</th>\n",
       "      <td>0</td>\n",
       "      <td>женат / замужем</td>\n",
       "    </tr>\n",
       "    <tr>\n",
       "      <th>1</th>\n",
       "      <td>1</td>\n",
       "      <td>гражданский брак</td>\n",
       "    </tr>\n",
       "    <tr>\n",
       "      <th>2</th>\n",
       "      <td>2</td>\n",
       "      <td>вдовец / вдова</td>\n",
       "    </tr>\n",
       "    <tr>\n",
       "      <th>3</th>\n",
       "      <td>3</td>\n",
       "      <td>в разводе</td>\n",
       "    </tr>\n",
       "    <tr>\n",
       "      <th>4</th>\n",
       "      <td>4</td>\n",
       "      <td>не женат / не замужем</td>\n",
       "    </tr>\n",
       "  </tbody>\n",
       "</table>\n",
       "</div>"
      ],
      "text/plain": [
       "   family_status_id          family_status\n",
       "0                 0        женат / замужем\n",
       "1                 1       гражданский брак\n",
       "2                 2         вдовец / вдова\n",
       "3                 3              в разводе\n",
       "4                 4  не женат / не замужем"
      ]
     },
     "execution_count": 52,
     "metadata": {},
     "output_type": "execute_result"
    }
   ],
   "source": [
    "family_status_dict = (\n",
    "    data[['family_status_id', 'family_status']].copy()\n",
    ")\n",
    "\n",
    "family_status_dict['family_status'] = (\n",
    "    family_status_dict['family_status'].str.lower()\n",
    ")\n",
    "\n",
    "family_status_dict = (\n",
    "    family_status_dict.drop_duplicates()\n",
    "    .reset_index(drop=True)\n",
    "    .sort_values('family_status_id')\n",
    ")\n",
    "\n",
    "family_status_dict"
   ]
  },
  {
   "cell_type": "code",
   "execution_count": 53,
   "metadata": {},
   "outputs": [
    {
     "data": {
      "text/html": [
       "<div>\n",
       "<style scoped>\n",
       "    .dataframe tbody tr th:only-of-type {\n",
       "        vertical-align: middle;\n",
       "    }\n",
       "\n",
       "    .dataframe tbody tr th {\n",
       "        vertical-align: top;\n",
       "    }\n",
       "\n",
       "    .dataframe thead th {\n",
       "        text-align: right;\n",
       "    }\n",
       "</style>\n",
       "<table border=\"1\" class=\"dataframe\">\n",
       "  <thead>\n",
       "    <tr style=\"text-align: right;\">\n",
       "      <th></th>\n",
       "      <th>children</th>\n",
       "      <th>days_employed</th>\n",
       "      <th>dob_years</th>\n",
       "      <th>education_id</th>\n",
       "      <th>family_status_id</th>\n",
       "      <th>gender</th>\n",
       "      <th>income_type</th>\n",
       "      <th>debt</th>\n",
       "      <th>total_income</th>\n",
       "      <th>purpose</th>\n",
       "      <th>purpose_category</th>\n",
       "    </tr>\n",
       "  </thead>\n",
       "  <tbody>\n",
       "    <tr>\n",
       "      <th>0</th>\n",
       "      <td>1</td>\n",
       "      <td>8437</td>\n",
       "      <td>42</td>\n",
       "      <td>0</td>\n",
       "      <td>0</td>\n",
       "      <td>F</td>\n",
       "      <td>сотрудник</td>\n",
       "      <td>0</td>\n",
       "      <td>253875</td>\n",
       "      <td>покупка жилья</td>\n",
       "      <td>недвижимость</td>\n",
       "    </tr>\n",
       "    <tr>\n",
       "      <th>1</th>\n",
       "      <td>1</td>\n",
       "      <td>4024</td>\n",
       "      <td>36</td>\n",
       "      <td>1</td>\n",
       "      <td>0</td>\n",
       "      <td>F</td>\n",
       "      <td>сотрудник</td>\n",
       "      <td>0</td>\n",
       "      <td>112080</td>\n",
       "      <td>приобретение автомобиля</td>\n",
       "      <td>автомобиль</td>\n",
       "    </tr>\n",
       "    <tr>\n",
       "      <th>2</th>\n",
       "      <td>0</td>\n",
       "      <td>5623</td>\n",
       "      <td>33</td>\n",
       "      <td>1</td>\n",
       "      <td>0</td>\n",
       "      <td>M</td>\n",
       "      <td>сотрудник</td>\n",
       "      <td>0</td>\n",
       "      <td>145885</td>\n",
       "      <td>покупка жилья</td>\n",
       "      <td>недвижимость</td>\n",
       "    </tr>\n",
       "    <tr>\n",
       "      <th>3</th>\n",
       "      <td>3</td>\n",
       "      <td>4124</td>\n",
       "      <td>32</td>\n",
       "      <td>1</td>\n",
       "      <td>0</td>\n",
       "      <td>M</td>\n",
       "      <td>сотрудник</td>\n",
       "      <td>0</td>\n",
       "      <td>267628</td>\n",
       "      <td>дополнительное образование</td>\n",
       "      <td>образование</td>\n",
       "    </tr>\n",
       "    <tr>\n",
       "      <th>4</th>\n",
       "      <td>0</td>\n",
       "      <td>14177</td>\n",
       "      <td>53</td>\n",
       "      <td>1</td>\n",
       "      <td>1</td>\n",
       "      <td>F</td>\n",
       "      <td>пенсионер</td>\n",
       "      <td>0</td>\n",
       "      <td>158616</td>\n",
       "      <td>сыграть свадьбу</td>\n",
       "      <td>свадьба</td>\n",
       "    </tr>\n",
       "    <tr>\n",
       "      <th>...</th>\n",
       "      <td>...</td>\n",
       "      <td>...</td>\n",
       "      <td>...</td>\n",
       "      <td>...</td>\n",
       "      <td>...</td>\n",
       "      <td>...</td>\n",
       "      <td>...</td>\n",
       "      <td>...</td>\n",
       "      <td>...</td>\n",
       "      <td>...</td>\n",
       "      <td>...</td>\n",
       "    </tr>\n",
       "    <tr>\n",
       "      <th>21449</th>\n",
       "      <td>1</td>\n",
       "      <td>4529</td>\n",
       "      <td>43</td>\n",
       "      <td>1</td>\n",
       "      <td>1</td>\n",
       "      <td>F</td>\n",
       "      <td>компаньон</td>\n",
       "      <td>0</td>\n",
       "      <td>224791</td>\n",
       "      <td>операции с жильем</td>\n",
       "      <td>недвижимость</td>\n",
       "    </tr>\n",
       "    <tr>\n",
       "      <th>21450</th>\n",
       "      <td>0</td>\n",
       "      <td>14330</td>\n",
       "      <td>67</td>\n",
       "      <td>1</td>\n",
       "      <td>0</td>\n",
       "      <td>F</td>\n",
       "      <td>пенсионер</td>\n",
       "      <td>0</td>\n",
       "      <td>155999</td>\n",
       "      <td>сделка с автомобилем</td>\n",
       "      <td>автомобиль</td>\n",
       "    </tr>\n",
       "    <tr>\n",
       "      <th>21451</th>\n",
       "      <td>1</td>\n",
       "      <td>2113</td>\n",
       "      <td>38</td>\n",
       "      <td>1</td>\n",
       "      <td>1</td>\n",
       "      <td>M</td>\n",
       "      <td>сотрудник</td>\n",
       "      <td>1</td>\n",
       "      <td>89672</td>\n",
       "      <td>недвижимость</td>\n",
       "      <td>недвижимость</td>\n",
       "    </tr>\n",
       "    <tr>\n",
       "      <th>21452</th>\n",
       "      <td>3</td>\n",
       "      <td>3112</td>\n",
       "      <td>38</td>\n",
       "      <td>1</td>\n",
       "      <td>0</td>\n",
       "      <td>M</td>\n",
       "      <td>сотрудник</td>\n",
       "      <td>1</td>\n",
       "      <td>244093</td>\n",
       "      <td>на покупку своего автомобиля</td>\n",
       "      <td>автомобиль</td>\n",
       "    </tr>\n",
       "    <tr>\n",
       "      <th>21453</th>\n",
       "      <td>2</td>\n",
       "      <td>1984</td>\n",
       "      <td>40</td>\n",
       "      <td>1</td>\n",
       "      <td>0</td>\n",
       "      <td>F</td>\n",
       "      <td>сотрудник</td>\n",
       "      <td>0</td>\n",
       "      <td>82047</td>\n",
       "      <td>на покупку автомобиля</td>\n",
       "      <td>автомобиль</td>\n",
       "    </tr>\n",
       "  </tbody>\n",
       "</table>\n",
       "<p>21454 rows × 11 columns</p>\n",
       "</div>"
      ],
      "text/plain": [
       "       children  days_employed  dob_years  education_id  family_status_id  \\\n",
       "0             1           8437         42             0                 0   \n",
       "1             1           4024         36             1                 0   \n",
       "2             0           5623         33             1                 0   \n",
       "3             3           4124         32             1                 0   \n",
       "4             0          14177         53             1                 1   \n",
       "...         ...            ...        ...           ...               ...   \n",
       "21449         1           4529         43             1                 1   \n",
       "21450         0          14330         67             1                 0   \n",
       "21451         1           2113         38             1                 1   \n",
       "21452         3           3112         38             1                 0   \n",
       "21453         2           1984         40             1                 0   \n",
       "\n",
       "      gender income_type  debt  total_income                       purpose  \\\n",
       "0          F   сотрудник     0        253875                 покупка жилья   \n",
       "1          F   сотрудник     0        112080       приобретение автомобиля   \n",
       "2          M   сотрудник     0        145885                 покупка жилья   \n",
       "3          M   сотрудник     0        267628    дополнительное образование   \n",
       "4          F   пенсионер     0        158616               сыграть свадьбу   \n",
       "...      ...         ...   ...           ...                           ...   \n",
       "21449      F   компаньон     0        224791             операции с жильем   \n",
       "21450      F   пенсионер     0        155999          сделка с автомобилем   \n",
       "21451      M   сотрудник     1         89672                  недвижимость   \n",
       "21452      M   сотрудник     1        244093  на покупку своего автомобиля   \n",
       "21453      F   сотрудник     0         82047         на покупку автомобиля   \n",
       "\n",
       "      purpose_category  \n",
       "0         недвижимость  \n",
       "1           автомобиль  \n",
       "2         недвижимость  \n",
       "3          образование  \n",
       "4              свадьба  \n",
       "...                ...  \n",
       "21449     недвижимость  \n",
       "21450       автомобиль  \n",
       "21451     недвижимость  \n",
       "21452       автомобиль  \n",
       "21453       автомобиль  \n",
       "\n",
       "[21454 rows x 11 columns]"
      ]
     },
     "execution_count": 53,
     "metadata": {},
     "output_type": "execute_result"
    }
   ],
   "source": [
    "# Удалим колонку 'family_status' из таблицы 'data'\n",
    "data = data.drop(columns=['family_status'])\n",
    "data"
   ]
  },
  {
   "cell_type": "markdown",
   "metadata": {},
   "source": [
    "В колонке `total_income` в таблице имеются разные значения дохода. Чтобы провести анализ и увидеть какую-либо закономерность нам необходимо сгруппировать значения по категориям."
   ]
  },
  {
   "cell_type": "markdown",
   "metadata": {},
   "source": [
    "Посмотрим для начала диапазон значений. Выведем минимальное и максимальное значение."
   ]
  },
  {
   "cell_type": "code",
   "execution_count": 54,
   "metadata": {},
   "outputs": [
    {
     "data": {
      "text/plain": [
       "20667"
      ]
     },
     "execution_count": 54,
     "metadata": {},
     "output_type": "execute_result"
    }
   ],
   "source": [
    "# Выведем миинимальное значение колонки 'total_income'\n",
    "data['total_income'].min()"
   ]
  },
  {
   "cell_type": "code",
   "execution_count": 55,
   "metadata": {},
   "outputs": [
    {
     "data": {
      "text/plain": [
       "2265604"
      ]
     },
     "execution_count": 55,
     "metadata": {},
     "output_type": "execute_result"
    }
   ],
   "source": [
    "# Выведем максимальное значение колонки 'total_income'\n",
    "data['total_income'].max()"
   ]
  },
  {
   "cell_type": "markdown",
   "metadata": {},
   "source": [
    "Разброс значений находится в диапазоне от 20000 до 2 300 000. Создадим функцию, которая будет определять категорию по значению колонки `total_income`. Разбивать будем на 5 категорий:\n",
    "- `< 500 000`;\n",
    "- `500 000 - 1 500 000`;\n",
    "- `> 1 500 000`"
   ]
  },
  {
   "cell_type": "code",
   "execution_count": 56,
   "metadata": {},
   "outputs": [],
   "source": [
    "# Создадим функцию для определения группы по ежемесячному дохооду\n",
    "def group_income(income):\n",
    "    if income < 500000:\n",
    "        return '1. < 500 000'\n",
    "    if income < 1500000:\n",
    "        return '2. > 1 500 000'\n",
    "    return '3. от 1 500 000 и более'"
   ]
  },
  {
   "cell_type": "code",
   "execution_count": 57,
   "metadata": {},
   "outputs": [
    {
     "data": {
      "text/plain": [
       "1. < 500 000               21232\n",
       "2. > 1 500 000               215\n",
       "3. от 1 500 000 и более        7\n",
       "Name: income_category, dtype: int64"
      ]
     },
     "execution_count": 57,
     "metadata": {},
     "output_type": "execute_result"
    }
   ],
   "source": [
    "# Применим функцию 'group_income' к колонке 'total_income' и сохраним полученные значения в колонку 'income_category'\n",
    "data['income_category'] = data['total_income'].apply(group_income)\n",
    "\n",
    "# Выведем количество значений в созданной колонке\n",
    "data['income_category'].value_counts()"
   ]
  },
  {
   "cell_type": "markdown",
   "metadata": {},
   "source": [
    "Проведем подобную категоризацию и по количеству детей."
   ]
  },
  {
   "cell_type": "markdown",
   "metadata": {},
   "source": [
    "Для начала посмотрим какие значения попадаются в колонке `children`."
   ]
  },
  {
   "cell_type": "code",
   "execution_count": 58,
   "metadata": {},
   "outputs": [
    {
     "data": {
      "text/plain": [
       " 0     14091\n",
       " 1      4808\n",
       " 2      2052\n",
       " 3       330\n",
       " 20       76\n",
       "-1        47\n",
       " 4        41\n",
       " 5         9\n",
       "Name: children, dtype: int64"
      ]
     },
     "execution_count": 58,
     "metadata": {},
     "output_type": "execute_result"
    }
   ],
   "source": [
    "# Выведем значения в колонке 'children'\n",
    "data['children'].value_counts()"
   ]
  },
  {
   "cell_type": "markdown",
   "metadata": {},
   "source": [
    "Мы видим, что в данных имеются странные значенияЖ -1 и 20. Такие данные выглядят ошибочными, тем более, заметно количество семей с большим числом детей в семье уменьшается, но при этом клиентов с количеством детей 20 очень много.<br>\n",
    "Чтобы избежать искажения результатов анализа избавимся от таких значений."
   ]
  },
  {
   "cell_type": "code",
   "execution_count": 67,
   "metadata": {},
   "outputs": [
    {
     "data": {
      "text/plain": [
       "0    14091\n",
       "1     4808\n",
       "2     2052\n",
       "3      330\n",
       "4       41\n",
       "5        9\n",
       "Name: children, dtype: int64"
      ]
     },
     "execution_count": 67,
     "metadata": {},
     "output_type": "execute_result"
    }
   ],
   "source": [
    "# Перезапишем датафрейм, убрав строки с ошибочными значениями в колонке 'children'\n",
    "data = data[\n",
    "    (data['children'] >= 0) & (data['children'] < 20)\n",
    "].copy()\n",
    "\n",
    "# Выведем значения колонки 'children'\n",
    "data['children'].value_counts()"
   ]
  },
  {
   "cell_type": "markdown",
   "metadata": {},
   "source": [
    "Создадим функцию для разделения на 3 группы по наличию детей: 0, 1-2, 3 и более."
   ]
  },
  {
   "cell_type": "code",
   "execution_count": 68,
   "metadata": {},
   "outputs": [],
   "source": [
    "def children_category(children_amount):\n",
    "    if children_amount == 0:\n",
    "        return '0'\n",
    "    if children_amount == 1 or children_amount == 2:\n",
    "        return '1-2'\n",
    "    return '3 и более'"
   ]
  },
  {
   "cell_type": "markdown",
   "metadata": {},
   "source": [
    "Создадим колонку `children_category` и применим к ней функцию"
   ]
  },
  {
   "cell_type": "code",
   "execution_count": 69,
   "metadata": {},
   "outputs": [
    {
     "data": {
      "text/plain": [
       "0            14091\n",
       "1-2           6860\n",
       "3 и более      380\n",
       "Name: children_category, dtype: int64"
      ]
     },
     "execution_count": 69,
     "metadata": {},
     "output_type": "execute_result"
    }
   ],
   "source": [
    "data['children_category'] = data['children'].apply(children_category)\n",
    "\n",
    "data['children_category'].value_counts()"
   ]
  },
  {
   "cell_type": "markdown",
   "metadata": {},
   "source": [
    "**Вывод**"
   ]
  },
  {
   "cell_type": "markdown",
   "metadata": {},
   "source": [
    "Для удобства было выделено 2 словаря для уровня образования клиентов и их семейного положения."
   ]
  },
  {
   "cell_type": "markdown",
   "metadata": {},
   "source": [
    "## 3. Ответы на поставленные в задаче вопросы"
   ]
  },
  {
   "cell_type": "markdown",
   "metadata": {},
   "source": [
    "#### Есть ли зависимость между наличием детей и возвратом кредита в срок?"
   ]
  },
  {
   "cell_type": "markdown",
   "metadata": {},
   "source": [
    "Проверим зависимость, построив сводную таблицу с группировками, где в индексе `children`, в колонках - `debt`, и с агргеацией по количеству значений в `gender`, т.к. эта характеристика присутствует у всех клиентов."
   ]
  },
  {
   "cell_type": "code",
   "execution_count": 70,
   "metadata": {},
   "outputs": [
    {
     "data": {
      "text/html": [
       "<div>\n",
       "<style scoped>\n",
       "    .dataframe tbody tr th:only-of-type {\n",
       "        vertical-align: middle;\n",
       "    }\n",
       "\n",
       "    .dataframe tbody tr th {\n",
       "        vertical-align: top;\n",
       "    }\n",
       "\n",
       "    .dataframe thead th {\n",
       "        text-align: right;\n",
       "    }\n",
       "</style>\n",
       "<table border=\"1\" class=\"dataframe\">\n",
       "  <thead>\n",
       "    <tr style=\"text-align: right;\">\n",
       "      <th>debt</th>\n",
       "      <th>0</th>\n",
       "      <th>1</th>\n",
       "    </tr>\n",
       "    <tr>\n",
       "      <th>children_category</th>\n",
       "      <th></th>\n",
       "      <th></th>\n",
       "    </tr>\n",
       "  </thead>\n",
       "  <tbody>\n",
       "    <tr>\n",
       "      <th>0</th>\n",
       "      <td>13028</td>\n",
       "      <td>1063</td>\n",
       "    </tr>\n",
       "    <tr>\n",
       "      <th>1-2</th>\n",
       "      <td>6222</td>\n",
       "      <td>638</td>\n",
       "    </tr>\n",
       "    <tr>\n",
       "      <th>3 и более</th>\n",
       "      <td>349</td>\n",
       "      <td>31</td>\n",
       "    </tr>\n",
       "  </tbody>\n",
       "</table>\n",
       "</div>"
      ],
      "text/plain": [
       "debt                   0     1\n",
       "children_category             \n",
       "0                  13028  1063\n",
       "1-2                 6222   638\n",
       "3 и более            349    31"
      ]
     },
     "execution_count": 70,
     "metadata": {},
     "output_type": "execute_result"
    }
   ],
   "source": [
    "# Построим сводную таблицу\n",
    "children_pivot = (\n",
    "    data.pivot_table(index='children_category', \n",
    "                     columns='debt', \n",
    "                     values='gender', \n",
    "                     aggfunc='count')\n",
    ")\n",
    "\n",
    "children_pivot"
   ]
  },
  {
   "cell_type": "markdown",
   "metadata": {},
   "source": [
    "У нас получились группы с разными количествами клиентов, чтобы мы могли корректно сравнить корреляцию можду группами необходимо рассчитать доли должников, среди всех представителей группы."
   ]
  },
  {
   "cell_type": "code",
   "execution_count": 73,
   "metadata": {},
   "outputs": [
    {
     "data": {
      "text/html": [
       "<div>\n",
       "<style scoped>\n",
       "    .dataframe tbody tr th:only-of-type {\n",
       "        vertical-align: middle;\n",
       "    }\n",
       "\n",
       "    .dataframe tbody tr th {\n",
       "        vertical-align: top;\n",
       "    }\n",
       "\n",
       "    .dataframe thead th {\n",
       "        text-align: right;\n",
       "    }\n",
       "</style>\n",
       "<table border=\"1\" class=\"dataframe\">\n",
       "  <thead>\n",
       "    <tr style=\"text-align: right;\">\n",
       "      <th>debt</th>\n",
       "      <th>0</th>\n",
       "      <th>1</th>\n",
       "      <th>share</th>\n",
       "    </tr>\n",
       "    <tr>\n",
       "      <th>children_category</th>\n",
       "      <th></th>\n",
       "      <th></th>\n",
       "      <th></th>\n",
       "    </tr>\n",
       "  </thead>\n",
       "  <tbody>\n",
       "    <tr>\n",
       "      <th>0</th>\n",
       "      <td>13028</td>\n",
       "      <td>1063</td>\n",
       "      <td>7.543822</td>\n",
       "    </tr>\n",
       "    <tr>\n",
       "      <th>1-2</th>\n",
       "      <td>6222</td>\n",
       "      <td>638</td>\n",
       "      <td>9.300292</td>\n",
       "    </tr>\n",
       "    <tr>\n",
       "      <th>3 и более</th>\n",
       "      <td>349</td>\n",
       "      <td>31</td>\n",
       "      <td>8.157895</td>\n",
       "    </tr>\n",
       "  </tbody>\n",
       "</table>\n",
       "</div>"
      ],
      "text/plain": [
       "debt                   0     1     share\n",
       "children_category                       \n",
       "0                  13028  1063  7.543822\n",
       "1-2                 6222   638  9.300292\n",
       "3 и более            349    31  8.157895"
      ]
     },
     "execution_count": 73,
     "metadata": {},
     "output_type": "execute_result"
    }
   ],
   "source": [
    "# Посчитаем долю должников по группам\n",
    "children_pivot['share'] = (\n",
    "    100 * children_pivot[1] / \n",
    "    (children_pivot[0] + children_pivot[1])\n",
    ")\n",
    "\n",
    "children_pivot"
   ]
  },
  {
   "cell_type": "markdown",
   "metadata": {},
   "source": [
    "**Вывод**"
   ]
  },
  {
   "cell_type": "markdown",
   "metadata": {},
   "source": [
    "Зависимость не сильная, но присутствует: люди, не имеющие детей, возвращают кредиты с большей вероятностью, а в случаях, где дети присутствуют, количество детей увеличивает вероятность невозврата кредита в срок."
   ]
  },
  {
   "cell_type": "markdown",
   "metadata": {},
   "source": [
    "#### Есть ли зависимость между семейным положением и возвратом кредита в срок?"
   ]
  },
  {
   "cell_type": "markdown",
   "metadata": {},
   "source": [
    "Построим сводную таблицу и посчитаем долю должников."
   ]
  },
  {
   "cell_type": "code",
   "execution_count": 74,
   "metadata": {},
   "outputs": [
    {
     "data": {
      "text/html": [
       "<div>\n",
       "<style scoped>\n",
       "    .dataframe tbody tr th:only-of-type {\n",
       "        vertical-align: middle;\n",
       "    }\n",
       "\n",
       "    .dataframe tbody tr th {\n",
       "        vertical-align: top;\n",
       "    }\n",
       "\n",
       "    .dataframe thead th {\n",
       "        text-align: right;\n",
       "    }\n",
       "</style>\n",
       "<table border=\"1\" class=\"dataframe\">\n",
       "  <thead>\n",
       "    <tr style=\"text-align: right;\">\n",
       "      <th>debt</th>\n",
       "      <th>0</th>\n",
       "      <th>1</th>\n",
       "      <th>share</th>\n",
       "    </tr>\n",
       "    <tr>\n",
       "      <th>family_status_id</th>\n",
       "      <th></th>\n",
       "      <th></th>\n",
       "      <th></th>\n",
       "    </tr>\n",
       "  </thead>\n",
       "  <tbody>\n",
       "    <tr>\n",
       "      <th>2</th>\n",
       "      <td>888</td>\n",
       "      <td>63</td>\n",
       "      <td>6.624606</td>\n",
       "    </tr>\n",
       "    <tr>\n",
       "      <th>3</th>\n",
       "      <td>1105</td>\n",
       "      <td>84</td>\n",
       "      <td>7.064760</td>\n",
       "    </tr>\n",
       "    <tr>\n",
       "      <th>0</th>\n",
       "      <td>11334</td>\n",
       "      <td>927</td>\n",
       "      <td>7.560558</td>\n",
       "    </tr>\n",
       "    <tr>\n",
       "      <th>1</th>\n",
       "      <td>3749</td>\n",
       "      <td>385</td>\n",
       "      <td>9.313014</td>\n",
       "    </tr>\n",
       "    <tr>\n",
       "      <th>4</th>\n",
       "      <td>2523</td>\n",
       "      <td>273</td>\n",
       "      <td>9.763948</td>\n",
       "    </tr>\n",
       "  </tbody>\n",
       "</table>\n",
       "</div>"
      ],
      "text/plain": [
       "debt                  0    1     share\n",
       "family_status_id                      \n",
       "2                   888   63  6.624606\n",
       "3                  1105   84  7.064760\n",
       "0                 11334  927  7.560558\n",
       "1                  3749  385  9.313014\n",
       "4                  2523  273  9.763948"
      ]
     },
     "execution_count": 74,
     "metadata": {},
     "output_type": "execute_result"
    }
   ],
   "source": [
    "# Построим сводную таблицу\n",
    "family_status_pivot = (\n",
    "    data.pivot_table(index='family_status_id', \n",
    "                     columns='debt', \n",
    "                     values='gender', \n",
    "                     aggfunc='count')\n",
    ")\n",
    "\n",
    "# Посчитаем долю должников по группам\n",
    "family_status_pivot['share'] = (\n",
    "    100 * family_status_pivot[1] / \n",
    "    (family_status_pivot[0] + family_status_pivot[1])\n",
    ")\n",
    "\n",
    "# Отсортируем полученную таблицу по возрастанию\n",
    "family_status_pivot.sort_values('share')"
   ]
  },
  {
   "cell_type": "code",
   "execution_count": 75,
   "metadata": {},
   "outputs": [
    {
     "data": {
      "text/html": [
       "<div>\n",
       "<style scoped>\n",
       "    .dataframe tbody tr th:only-of-type {\n",
       "        vertical-align: middle;\n",
       "    }\n",
       "\n",
       "    .dataframe tbody tr th {\n",
       "        vertical-align: top;\n",
       "    }\n",
       "\n",
       "    .dataframe thead th {\n",
       "        text-align: right;\n",
       "    }\n",
       "</style>\n",
       "<table border=\"1\" class=\"dataframe\">\n",
       "  <thead>\n",
       "    <tr style=\"text-align: right;\">\n",
       "      <th></th>\n",
       "      <th>family_status_id</th>\n",
       "      <th>family_status</th>\n",
       "    </tr>\n",
       "  </thead>\n",
       "  <tbody>\n",
       "    <tr>\n",
       "      <th>0</th>\n",
       "      <td>0</td>\n",
       "      <td>женат / замужем</td>\n",
       "    </tr>\n",
       "    <tr>\n",
       "      <th>1</th>\n",
       "      <td>1</td>\n",
       "      <td>гражданский брак</td>\n",
       "    </tr>\n",
       "    <tr>\n",
       "      <th>2</th>\n",
       "      <td>2</td>\n",
       "      <td>вдовец / вдова</td>\n",
       "    </tr>\n",
       "    <tr>\n",
       "      <th>3</th>\n",
       "      <td>3</td>\n",
       "      <td>в разводе</td>\n",
       "    </tr>\n",
       "    <tr>\n",
       "      <th>4</th>\n",
       "      <td>4</td>\n",
       "      <td>не женат / не замужем</td>\n",
       "    </tr>\n",
       "  </tbody>\n",
       "</table>\n",
       "</div>"
      ],
      "text/plain": [
       "   family_status_id          family_status\n",
       "0                 0        женат / замужем\n",
       "1                 1       гражданский брак\n",
       "2                 2         вдовец / вдова\n",
       "3                 3              в разводе\n",
       "4                 4  не женат / не замужем"
      ]
     },
     "execution_count": 75,
     "metadata": {},
     "output_type": "execute_result"
    }
   ],
   "source": [
    "# Выведем созданный ранее словарь 'family_status_dict'\n",
    "family_status_dict"
   ]
  },
  {
   "cell_type": "markdown",
   "metadata": {},
   "source": [
    "**Вывод**"
   ]
  },
  {
   "cell_type": "markdown",
   "metadata": {},
   "source": [
    "Результаты сводной таблицы показывают, что показатель возврата кредита в срок выше у клиентов с семейным положением `вдовец / вдова`, далее идут клиенты с семейным положением `в разводе` и `женат / замужем`, а хуже всего выплачивают кредиты те, кто находится в семейном положени `гражданский брак` и `не женат / не замужем`.<br>\n",
    "\n",
    "Можно сделать вывод, что клиенты, которые еще не завели семью, либо завели в статусе \"гражданского брака\", менее склонны возвращать кредиты вовремя, в сравнении с клиентами, у которых есть, либо уже была семья. Вероятно это связано с дополнительными обязательствами, в том числе и финансовыми, возникающие во время брака, либо развода."
   ]
  },
  {
   "cell_type": "markdown",
   "metadata": {},
   "source": [
    "#### Есть ли зависимость между уровнем дохода и возвратом кредита в срок?"
   ]
  },
  {
   "cell_type": "code",
   "execution_count": 76,
   "metadata": {},
   "outputs": [
    {
     "data": {
      "text/html": [
       "<div>\n",
       "<style scoped>\n",
       "    .dataframe tbody tr th:only-of-type {\n",
       "        vertical-align: middle;\n",
       "    }\n",
       "\n",
       "    .dataframe tbody tr th {\n",
       "        vertical-align: top;\n",
       "    }\n",
       "\n",
       "    .dataframe thead th {\n",
       "        text-align: right;\n",
       "    }\n",
       "</style>\n",
       "<table border=\"1\" class=\"dataframe\">\n",
       "  <thead>\n",
       "    <tr style=\"text-align: right;\">\n",
       "      <th>debt</th>\n",
       "      <th>0</th>\n",
       "      <th>1</th>\n",
       "      <th>share</th>\n",
       "    </tr>\n",
       "    <tr>\n",
       "      <th>income_category</th>\n",
       "      <th></th>\n",
       "      <th></th>\n",
       "      <th></th>\n",
       "    </tr>\n",
       "  </thead>\n",
       "  <tbody>\n",
       "    <tr>\n",
       "      <th>1. &lt; 500 000</th>\n",
       "      <td>19391</td>\n",
       "      <td>1718</td>\n",
       "      <td>8.138709</td>\n",
       "    </tr>\n",
       "    <tr>\n",
       "      <th>2. &gt; 1 500 000</th>\n",
       "      <td>202</td>\n",
       "      <td>13</td>\n",
       "      <td>6.046512</td>\n",
       "    </tr>\n",
       "    <tr>\n",
       "      <th>3. от 1 500 000 и более</th>\n",
       "      <td>6</td>\n",
       "      <td>1</td>\n",
       "      <td>14.285714</td>\n",
       "    </tr>\n",
       "  </tbody>\n",
       "</table>\n",
       "</div>"
      ],
      "text/plain": [
       "debt                         0     1      share\n",
       "income_category                                \n",
       "1. < 500 000             19391  1718   8.138709\n",
       "2. > 1 500 000             202    13   6.046512\n",
       "3. от 1 500 000 и более      6     1  14.285714"
      ]
     },
     "execution_count": 76,
     "metadata": {},
     "output_type": "execute_result"
    }
   ],
   "source": [
    "# Построим сводную таблицу\n",
    "income_pivot = (\n",
    "    data.pivot_table(index='income_category', \n",
    "                     columns='debt', \n",
    "                     values='gender', \n",
    "                     aggfunc='count')\n",
    ")\n",
    "\n",
    "# Посчитаем долю должников по группам\n",
    "income_pivot['share'] = (\n",
    "    100 * income_pivot[1] / \n",
    "    (income_pivot[0] + income_pivot[1])\n",
    ")\n",
    "\n",
    "income_pivot"
   ]
  },
  {
   "cell_type": "markdown",
   "metadata": {},
   "source": [
    "Видно, что чем меньше доход, тем больше в группе должников. Так же, видно, что размер группы сильно уменьшается, с увеличением дохода.<br>\n",
    "Посчитаем и выведем размер каждой группы."
   ]
  },
  {
   "cell_type": "code",
   "execution_count": 77,
   "metadata": {},
   "outputs": [
    {
     "data": {
      "text/html": [
       "<div>\n",
       "<style scoped>\n",
       "    .dataframe tbody tr th:only-of-type {\n",
       "        vertical-align: middle;\n",
       "    }\n",
       "\n",
       "    .dataframe tbody tr th {\n",
       "        vertical-align: top;\n",
       "    }\n",
       "\n",
       "    .dataframe thead th {\n",
       "        text-align: right;\n",
       "    }\n",
       "</style>\n",
       "<table border=\"1\" class=\"dataframe\">\n",
       "  <thead>\n",
       "    <tr style=\"text-align: right;\">\n",
       "      <th>debt</th>\n",
       "      <th>0</th>\n",
       "      <th>1</th>\n",
       "      <th>share</th>\n",
       "      <th>group_count</th>\n",
       "    </tr>\n",
       "    <tr>\n",
       "      <th>income_category</th>\n",
       "      <th></th>\n",
       "      <th></th>\n",
       "      <th></th>\n",
       "      <th></th>\n",
       "    </tr>\n",
       "  </thead>\n",
       "  <tbody>\n",
       "    <tr>\n",
       "      <th>1. &lt; 500 000</th>\n",
       "      <td>19391</td>\n",
       "      <td>1718</td>\n",
       "      <td>8.138709</td>\n",
       "      <td>21109</td>\n",
       "    </tr>\n",
       "    <tr>\n",
       "      <th>2. &gt; 1 500 000</th>\n",
       "      <td>202</td>\n",
       "      <td>13</td>\n",
       "      <td>6.046512</td>\n",
       "      <td>215</td>\n",
       "    </tr>\n",
       "    <tr>\n",
       "      <th>3. от 1 500 000 и более</th>\n",
       "      <td>6</td>\n",
       "      <td>1</td>\n",
       "      <td>14.285714</td>\n",
       "      <td>7</td>\n",
       "    </tr>\n",
       "  </tbody>\n",
       "</table>\n",
       "</div>"
      ],
      "text/plain": [
       "debt                         0     1      share  group_count\n",
       "income_category                                             \n",
       "1. < 500 000             19391  1718   8.138709        21109\n",
       "2. > 1 500 000             202    13   6.046512          215\n",
       "3. от 1 500 000 и более      6     1  14.285714            7"
      ]
     },
     "execution_count": 77,
     "metadata": {},
     "output_type": "execute_result"
    }
   ],
   "source": [
    "# Посчитаем размер каждой группы\n",
    "income_pivot['group_count'] = income_pivot[0] + income_pivot[1]\n",
    "income_pivot"
   ]
  },
  {
   "cell_type": "markdown",
   "metadata": {},
   "source": [
    "**Вывод**"
   ]
  },
  {
   "cell_type": "markdown",
   "metadata": {},
   "source": [
    "Можно сделать вывод, что высокий уровень дохода влияет не только на вероятность вовремя выплачивать кредит, но и на то, что такие люди впринципе реже берут кредиты.<br>\n",
    "\n",
    "Если учесть размеры выборок, то можно предположить о недостатке данных для групп с большим заработком, в связи с чем результаты по этим группам могут выглядеть более оптимистичными, чем на самом деле."
   ]
  },
  {
   "cell_type": "markdown",
   "metadata": {},
   "source": [
    "#### Как разные цели кредита влияют на его возврат в срок?"
   ]
  },
  {
   "cell_type": "code",
   "execution_count": 78,
   "metadata": {},
   "outputs": [
    {
     "data": {
      "text/html": [
       "<div>\n",
       "<style scoped>\n",
       "    .dataframe tbody tr th:only-of-type {\n",
       "        vertical-align: middle;\n",
       "    }\n",
       "\n",
       "    .dataframe tbody tr th {\n",
       "        vertical-align: top;\n",
       "    }\n",
       "\n",
       "    .dataframe thead th {\n",
       "        text-align: right;\n",
       "    }\n",
       "</style>\n",
       "<table border=\"1\" class=\"dataframe\">\n",
       "  <thead>\n",
       "    <tr style=\"text-align: right;\">\n",
       "      <th>debt</th>\n",
       "      <th>0</th>\n",
       "      <th>1</th>\n",
       "      <th>share</th>\n",
       "    </tr>\n",
       "    <tr>\n",
       "      <th>purpose_category</th>\n",
       "      <th></th>\n",
       "      <th></th>\n",
       "      <th></th>\n",
       "    </tr>\n",
       "  </thead>\n",
       "  <tbody>\n",
       "    <tr>\n",
       "      <th>автомобиль</th>\n",
       "      <td>3879</td>\n",
       "      <td>400</td>\n",
       "      <td>9.347978</td>\n",
       "    </tr>\n",
       "    <tr>\n",
       "      <th>недвижимость</th>\n",
       "      <td>9971</td>\n",
       "      <td>780</td>\n",
       "      <td>7.255139</td>\n",
       "    </tr>\n",
       "    <tr>\n",
       "      <th>образование</th>\n",
       "      <td>3619</td>\n",
       "      <td>369</td>\n",
       "      <td>9.252758</td>\n",
       "    </tr>\n",
       "    <tr>\n",
       "      <th>свадьба</th>\n",
       "      <td>2130</td>\n",
       "      <td>183</td>\n",
       "      <td>7.911803</td>\n",
       "    </tr>\n",
       "  </tbody>\n",
       "</table>\n",
       "</div>"
      ],
      "text/plain": [
       "debt                 0    1     share\n",
       "purpose_category                     \n",
       "автомобиль        3879  400  9.347978\n",
       "недвижимость      9971  780  7.255139\n",
       "образование       3619  369  9.252758\n",
       "свадьба           2130  183  7.911803"
      ]
     },
     "execution_count": 78,
     "metadata": {},
     "output_type": "execute_result"
    }
   ],
   "source": [
    "# Построим сводную таблицу\n",
    "purpose_pivot = (\n",
    "    data.pivot_table(index='purpose_category', \n",
    "                     columns='debt', \n",
    "                     values='gender', \n",
    "                     aggfunc='count')\n",
    ")\n",
    "\n",
    "# Посчитаем долю должников по группам\n",
    "purpose_pivot['share'] = (\n",
    "    100 * purpose_pivot[1] / \n",
    "    (purpose_pivot[0] + purpose_pivot[1])\n",
    ")\n",
    "\n",
    "purpose_pivot"
   ]
  },
  {
   "cell_type": "markdown",
   "metadata": {},
   "source": [
    "**Вывод**"
   ]
  },
  {
   "cell_type": "markdown",
   "metadata": {},
   "source": [
    "Заметна определенная зависимость между целью получения кредита и вероятностью его возврата в срок. Клиенты, взявшие кредиты на покупку автомобиля и  на получение образования в меньшей степени склонны к тому, чтобы возвращать кредит в срок, в отличии от тех, кто брал кредит на покупку недвижимости или свадьбу. Это можно объяснить тем, что в случае свадьбы - деньги могут быть возвращены с полученных подарков, а в случае недвижимости - со сдачи недвижимости в аренду, но а если клиент сам проживает в ней, то у него гораздо больше мотивации выплачивать кредит, чтобы не остаться без жилья. Еще такую взаимосвязь можно объяснить тем, что недвижимость часто берут в кредит семейные пары, как и кредит на свадьбу, и больше вероятность, что совместно они смогут вовремя погасить долги по кредиту."
   ]
  },
  {
   "cell_type": "markdown",
   "metadata": {},
   "source": [
    "## 4. Общий вывод"
   ]
  },
  {
   "cell_type": "markdown",
   "metadata": {},
   "source": [
    "В ходе анализа были найдены следующие взаимосвязи в отношении вероятности возврата кредита в срок. Рассмотрим каждый фактор в отдельности:\n",
    "\n",
    "1. Наличие детей - является скорее минусом, так как в трудном финансовом положении человек, имеющий детей, предпочтет потратить средства на ребенка.\n",
    "2. Семейное положение - люди состоящие в официальном браке или состояшие в нем раньше более ответственные.\n",
    "3. Уровень достатка - люди со средним доходом чаще остальных берут кредиты, однако выплачивают их не очень исправно. В то время как люди с низким достатком имеют меньше просрочек по выплатам. Клиенты с высоким доходом с большей вероятностью выплачивают долги в срок, хоть и гораздо реже берут кредиты в целом.\n",
    "4. Цель кредита - самая популярная цель это \"недвижимость\". По ней так же и меньше всего просрочек с выплатами. Можно предположить, что вопрос улучшения желищных условий действительно важен для людей. Клиенты, взявшие кредит на покупку автомобиля и на получение образования в большей степени склонны не выплачивать кредиты в срок.\n",
    "\n",
    "После изучения данных по данной выборке можно сделать заключение, что все 4 фактора, которые мы рассмотрелии являются важными в оценке рисков при выдаче кредита. Можно утвержать, что чаще всего кредиты берут люди со средним достатком с целью проведения операций с недвижимостью, не состоящие в официальном браке и не имеющие детей. Самыми надежными клиентами являются люди состоящие (ныне или ранее) в браке, без детей, с низким уровнем достатка и целью получения кредита на недвижимость."
   ]
  }
 ],
 "metadata": {
  "ExecuteTimeLog": [
   {
    "duration": 1070,
    "start_time": "2022-01-25T09:15:37.365Z"
   },
   {
    "duration": 74,
    "start_time": "2022-01-25T09:16:06.274Z"
   },
   {
    "duration": 10,
    "start_time": "2022-01-25T09:16:15.205Z"
   },
   {
    "duration": 12,
    "start_time": "2022-01-25T09:33:40.588Z"
   },
   {
    "duration": 7,
    "start_time": "2022-01-25T09:35:44.823Z"
   },
   {
    "duration": 5,
    "start_time": "2022-01-25T09:36:17.814Z"
   },
   {
    "duration": 7,
    "start_time": "2022-01-25T09:37:02.595Z"
   },
   {
    "duration": 8,
    "start_time": "2022-01-25T09:38:03.701Z"
   },
   {
    "duration": 6,
    "start_time": "2022-01-25T09:38:37.934Z"
   },
   {
    "duration": 8,
    "start_time": "2022-01-25T09:39:19.500Z"
   },
   {
    "duration": 8,
    "start_time": "2022-01-25T09:39:38.828Z"
   },
   {
    "duration": 8,
    "start_time": "2022-01-25T09:39:55.259Z"
   },
   {
    "duration": 8,
    "start_time": "2022-01-25T09:40:11.660Z"
   },
   {
    "duration": 10,
    "start_time": "2022-01-25T09:40:20.975Z"
   },
   {
    "duration": 7,
    "start_time": "2022-01-25T09:40:31.516Z"
   },
   {
    "duration": 88,
    "start_time": "2022-01-25T09:40:53.773Z"
   },
   {
    "duration": 314,
    "start_time": "2022-01-25T09:41:02.958Z"
   },
   {
    "duration": 7,
    "start_time": "2022-01-25T09:41:58.970Z"
   },
   {
    "duration": 243,
    "start_time": "2022-01-25T09:42:31.314Z"
   },
   {
    "duration": 7,
    "start_time": "2022-01-25T09:43:17.593Z"
   },
   {
    "duration": 7,
    "start_time": "2022-01-25T09:43:47.681Z"
   },
   {
    "duration": 291,
    "start_time": "2022-01-25T09:44:22.928Z"
   },
   {
    "duration": 8,
    "start_time": "2022-01-25T09:44:28.576Z"
   },
   {
    "duration": 9,
    "start_time": "2022-01-25T09:45:25.776Z"
   },
   {
    "duration": 271,
    "start_time": "2022-01-25T09:45:33.952Z"
   },
   {
    "duration": 7,
    "start_time": "2022-01-25T09:45:37.424Z"
   },
   {
    "duration": 6,
    "start_time": "2022-01-25T09:45:45.823Z"
   },
   {
    "duration": 7,
    "start_time": "2022-01-25T09:46:14.223Z"
   },
   {
    "duration": 8,
    "start_time": "2022-01-25T09:46:47.575Z"
   },
   {
    "duration": 10,
    "start_time": "2022-01-25T09:47:12.231Z"
   },
   {
    "duration": 6,
    "start_time": "2022-01-25T09:48:01.766Z"
   },
   {
    "duration": 9,
    "start_time": "2022-01-25T09:48:17.237Z"
   },
   {
    "duration": 8,
    "start_time": "2022-01-25T09:48:26.909Z"
   },
   {
    "duration": 8,
    "start_time": "2022-01-25T09:48:35.861Z"
   },
   {
    "duration": 9,
    "start_time": "2022-01-25T09:48:41.086Z"
   },
   {
    "duration": 8,
    "start_time": "2022-01-25T09:48:50.893Z"
   },
   {
    "duration": 8,
    "start_time": "2022-01-25T09:49:09.053Z"
   },
   {
    "duration": 8,
    "start_time": "2022-01-25T09:49:10.869Z"
   },
   {
    "duration": 286,
    "start_time": "2022-01-25T09:49:31.796Z"
   },
   {
    "duration": 9,
    "start_time": "2022-01-25T09:49:43.828Z"
   },
   {
    "duration": 8,
    "start_time": "2022-01-25T09:49:51.501Z"
   },
   {
    "duration": 6,
    "start_time": "2022-01-25T09:51:49.924Z"
   },
   {
    "duration": 7,
    "start_time": "2022-01-25T09:52:59.179Z"
   },
   {
    "duration": 6,
    "start_time": "2022-01-25T09:54:19.492Z"
   },
   {
    "duration": 9,
    "start_time": "2022-01-25T09:54:46.874Z"
   },
   {
    "duration": 8,
    "start_time": "2022-01-25T09:54:56.433Z"
   },
   {
    "duration": 6,
    "start_time": "2022-01-25T09:55:28.073Z"
   },
   {
    "duration": 77,
    "start_time": "2022-01-25T09:55:34.249Z"
   },
   {
    "duration": 7,
    "start_time": "2022-01-25T09:55:37.952Z"
   },
   {
    "duration": 7,
    "start_time": "2022-01-25T09:55:44.082Z"
   },
   {
    "duration": 9,
    "start_time": "2022-01-25T09:56:05.025Z"
   },
   {
    "duration": 270,
    "start_time": "2022-01-25T09:56:43.239Z"
   },
   {
    "duration": 8,
    "start_time": "2022-01-25T09:56:46.543Z"
   },
   {
    "duration": 5,
    "start_time": "2022-01-25T11:09:57.454Z"
   },
   {
    "duration": 271,
    "start_time": "2022-01-25T11:13:59.073Z"
   },
   {
    "duration": 22,
    "start_time": "2022-01-25T11:14:11.200Z"
   },
   {
    "duration": 252,
    "start_time": "2022-01-25T11:14:55.160Z"
   },
   {
    "duration": 19,
    "start_time": "2022-01-25T11:15:07.968Z"
   },
   {
    "duration": 6,
    "start_time": "2022-01-25T11:15:24.863Z"
   },
   {
    "duration": 19,
    "start_time": "2022-01-25T11:18:51.119Z"
   },
   {
    "duration": 7,
    "start_time": "2022-01-25T11:18:57.323Z"
   },
   {
    "duration": 7,
    "start_time": "2022-01-25T11:19:14.869Z"
   },
   {
    "duration": 9,
    "start_time": "2022-01-25T11:19:21.597Z"
   },
   {
    "duration": 7,
    "start_time": "2022-01-25T11:19:34.053Z"
   },
   {
    "duration": 10,
    "start_time": "2022-01-25T11:19:40.014Z"
   },
   {
    "duration": 24,
    "start_time": "2022-01-25T11:20:01.373Z"
   },
   {
    "duration": 6,
    "start_time": "2022-01-25T11:20:30.516Z"
   },
   {
    "duration": 12,
    "start_time": "2022-01-25T11:21:56.931Z"
   },
   {
    "duration": 246,
    "start_time": "2022-01-25T11:22:05.531Z"
   },
   {
    "duration": 3,
    "start_time": "2022-01-25T11:22:34.804Z"
   },
   {
    "duration": 4,
    "start_time": "2022-01-25T11:22:39.483Z"
   },
   {
    "duration": 2,
    "start_time": "2022-01-25T11:22:47.675Z"
   },
   {
    "duration": 267,
    "start_time": "2022-01-25T11:23:36.218Z"
   },
   {
    "duration": 5,
    "start_time": "2022-01-25T11:23:50.650Z"
   },
   {
    "duration": 4,
    "start_time": "2022-01-25T11:24:09.659Z"
   },
   {
    "duration": 247,
    "start_time": "2022-01-25T11:26:58.784Z"
   },
   {
    "duration": 276,
    "start_time": "2022-01-25T11:27:08.439Z"
   },
   {
    "duration": 5,
    "start_time": "2022-01-25T11:29:51.790Z"
   },
   {
    "duration": 5,
    "start_time": "2022-01-25T11:30:12.169Z"
   },
   {
    "duration": 5,
    "start_time": "2022-01-25T11:34:38.074Z"
   },
   {
    "duration": 92,
    "start_time": "2022-01-25T11:39:02.252Z"
   },
   {
    "duration": 5,
    "start_time": "2022-01-25T11:42:41.775Z"
   },
   {
    "duration": 254,
    "start_time": "2022-01-25T11:43:10.753Z"
   },
   {
    "duration": 253,
    "start_time": "2022-01-25T11:43:15.756Z"
   },
   {
    "duration": 256,
    "start_time": "2022-01-25T11:43:34.288Z"
   },
   {
    "duration": 287,
    "start_time": "2022-01-25T11:44:01.852Z"
   },
   {
    "duration": 250,
    "start_time": "2022-01-25T11:44:05.524Z"
   },
   {
    "duration": 22,
    "start_time": "2022-01-25T11:44:15.099Z"
   },
   {
    "duration": 88,
    "start_time": "2022-01-25T11:44:19.288Z"
   },
   {
    "duration": 83,
    "start_time": "2022-01-25T11:44:29.411Z"
   },
   {
    "duration": 241,
    "start_time": "2022-01-25T11:44:36.042Z"
   },
   {
    "duration": 24,
    "start_time": "2022-01-25T11:44:54.595Z"
   },
   {
    "duration": 8,
    "start_time": "2022-01-25T11:45:13.547Z"
   },
   {
    "duration": 8,
    "start_time": "2022-01-25T11:45:57.650Z"
   },
   {
    "duration": 9,
    "start_time": "2022-01-25T11:49:27.431Z"
   },
   {
    "duration": 8,
    "start_time": "2022-01-25T11:49:48.784Z"
   },
   {
    "duration": 321,
    "start_time": "2022-01-25T11:50:28.128Z"
   },
   {
    "duration": 8,
    "start_time": "2022-01-25T11:50:33.128Z"
   },
   {
    "duration": 5,
    "start_time": "2022-01-25T11:50:42.567Z"
   },
   {
    "duration": 5,
    "start_time": "2022-01-25T11:51:00.767Z"
   },
   {
    "duration": 6,
    "start_time": "2022-01-25T11:51:04.750Z"
   },
   {
    "duration": 11,
    "start_time": "2022-01-25T11:52:38.382Z"
   },
   {
    "duration": 8,
    "start_time": "2022-01-25T11:53:27.461Z"
   },
   {
    "duration": 7,
    "start_time": "2022-01-25T11:53:31.821Z"
   },
   {
    "duration": 5,
    "start_time": "2022-01-25T11:54:32.861Z"
   },
   {
    "duration": 3,
    "start_time": "2022-01-25T11:55:09.684Z"
   },
   {
    "duration": 5,
    "start_time": "2022-01-25T11:55:26.788Z"
   },
   {
    "duration": 17,
    "start_time": "2022-01-25T11:55:45.611Z"
   },
   {
    "duration": 16,
    "start_time": "2022-01-25T11:56:26.553Z"
   },
   {
    "duration": 18,
    "start_time": "2022-01-25T12:03:26.405Z"
   },
   {
    "duration": 272,
    "start_time": "2022-01-25T12:04:28.397Z"
   },
   {
    "duration": 21,
    "start_time": "2022-01-25T12:04:35.301Z"
   },
   {
    "duration": 22,
    "start_time": "2022-01-25T13:28:23.070Z"
   },
   {
    "duration": 25,
    "start_time": "2022-01-25T13:29:05.061Z"
   },
   {
    "duration": 28,
    "start_time": "2022-01-25T13:56:25.718Z"
   },
   {
    "duration": 8,
    "start_time": "2022-01-25T13:59:02.079Z"
   },
   {
    "duration": 5,
    "start_time": "2022-01-25T14:03:18.561Z"
   },
   {
    "duration": 23,
    "start_time": "2022-01-25T14:11:09.055Z"
   },
   {
    "duration": 9,
    "start_time": "2022-01-25T14:11:30.719Z"
   },
   {
    "duration": 814,
    "start_time": "2022-01-25T14:12:12.357Z"
   },
   {
    "duration": 12,
    "start_time": "2022-01-25T14:12:13.173Z"
   },
   {
    "duration": 52,
    "start_time": "2022-01-25T14:12:13.187Z"
   },
   {
    "duration": 31,
    "start_time": "2022-01-25T14:12:13.242Z"
   },
   {
    "duration": 41,
    "start_time": "2022-01-25T14:12:13.274Z"
   },
   {
    "duration": 21,
    "start_time": "2022-01-25T14:12:13.317Z"
   },
   {
    "duration": 24,
    "start_time": "2022-01-25T14:12:13.340Z"
   },
   {
    "duration": 23,
    "start_time": "2022-01-25T14:12:13.367Z"
   },
   {
    "duration": 29,
    "start_time": "2022-01-25T14:12:13.392Z"
   },
   {
    "duration": 24,
    "start_time": "2022-01-25T14:12:13.423Z"
   },
   {
    "duration": 38,
    "start_time": "2022-01-25T14:12:13.449Z"
   },
   {
    "duration": 37,
    "start_time": "2022-01-25T14:12:13.489Z"
   },
   {
    "duration": 34,
    "start_time": "2022-01-25T14:12:13.527Z"
   },
   {
    "duration": 50,
    "start_time": "2022-01-25T14:12:13.563Z"
   },
   {
    "duration": 40,
    "start_time": "2022-01-25T14:12:13.615Z"
   },
   {
    "duration": 37,
    "start_time": "2022-01-25T14:12:13.656Z"
   },
   {
    "duration": 55,
    "start_time": "2022-01-25T14:12:13.695Z"
   },
   {
    "duration": 20,
    "start_time": "2022-01-25T14:12:13.751Z"
   },
   {
    "duration": 311,
    "start_time": "2022-01-25T14:12:33.066Z"
   },
   {
    "duration": 7,
    "start_time": "2022-01-25T14:12:49.706Z"
   },
   {
    "duration": 252,
    "start_time": "2022-01-25T14:12:56.099Z"
   },
   {
    "duration": 248,
    "start_time": "2022-01-25T14:13:05.619Z"
   },
   {
    "duration": 251,
    "start_time": "2022-01-25T14:13:21.162Z"
   },
   {
    "duration": 8,
    "start_time": "2022-01-25T14:14:29.666Z"
   },
   {
    "duration": 7,
    "start_time": "2022-01-25T14:18:15.449Z"
   },
   {
    "duration": 9,
    "start_time": "2022-01-25T14:28:01.686Z"
   },
   {
    "duration": 7,
    "start_time": "2022-01-25T14:30:47.103Z"
   },
   {
    "duration": 6,
    "start_time": "2022-01-25T14:31:09.663Z"
   },
   {
    "duration": 6,
    "start_time": "2022-01-25T14:40:26.024Z"
   },
   {
    "duration": 6,
    "start_time": "2022-01-25T14:40:59.839Z"
   },
   {
    "duration": 8,
    "start_time": "2022-01-25T14:43:57.550Z"
   },
   {
    "duration": 8,
    "start_time": "2022-01-25T14:48:38.771Z"
   },
   {
    "duration": 7,
    "start_time": "2022-01-26T07:36:38.393Z"
   },
   {
    "duration": 16,
    "start_time": "2022-01-26T07:38:25.720Z"
   },
   {
    "duration": 10,
    "start_time": "2022-01-26T07:42:56.701Z"
   },
   {
    "duration": 13,
    "start_time": "2022-01-26T07:43:10.889Z"
   },
   {
    "duration": 16,
    "start_time": "2022-01-26T07:43:26.193Z"
   },
   {
    "duration": 20,
    "start_time": "2022-01-26T07:45:10.451Z"
   },
   {
    "duration": 17,
    "start_time": "2022-01-26T07:47:10.177Z"
   },
   {
    "duration": 16,
    "start_time": "2022-01-26T07:56:37.636Z"
   },
   {
    "duration": 15,
    "start_time": "2022-01-26T07:57:32.044Z"
   },
   {
    "duration": 6454,
    "start_time": "2022-01-26T08:00:17.016Z"
   },
   {
    "duration": 19,
    "start_time": "2022-01-26T08:00:37.960Z"
   },
   {
    "duration": 9,
    "start_time": "2022-01-26T08:00:49.910Z"
   },
   {
    "duration": 98,
    "start_time": "2022-01-26T08:01:08.431Z"
   },
   {
    "duration": 6,
    "start_time": "2022-01-26T08:01:16.552Z"
   },
   {
    "duration": 8,
    "start_time": "2022-01-26T08:01:34.462Z"
   },
   {
    "duration": 7,
    "start_time": "2022-01-26T08:02:38.430Z"
   },
   {
    "duration": 8,
    "start_time": "2022-01-26T08:02:50.206Z"
   },
   {
    "duration": 7,
    "start_time": "2022-01-26T08:04:49.188Z"
   },
   {
    "duration": 7,
    "start_time": "2022-01-26T08:05:26.420Z"
   },
   {
    "duration": 15,
    "start_time": "2022-01-26T08:08:46.530Z"
   },
   {
    "duration": 93,
    "start_time": "2022-01-26T08:09:38.098Z"
   },
   {
    "duration": 83,
    "start_time": "2022-01-26T08:10:03.552Z"
   },
   {
    "duration": 287,
    "start_time": "2022-01-26T08:10:14.248Z"
   },
   {
    "duration": 15,
    "start_time": "2022-01-26T08:10:32.992Z"
   },
   {
    "duration": 3,
    "start_time": "2022-01-26T08:21:37.007Z"
   },
   {
    "duration": 11,
    "start_time": "2022-01-26T08:23:05.298Z"
   },
   {
    "duration": 23,
    "start_time": "2022-01-26T08:23:19.269Z"
   },
   {
    "duration": 17,
    "start_time": "2022-01-26T08:24:40.531Z"
   },
   {
    "duration": 14,
    "start_time": "2022-01-26T08:25:27.469Z"
   },
   {
    "duration": 684,
    "start_time": "2022-01-26T08:25:48.653Z"
   },
   {
    "duration": 12,
    "start_time": "2022-01-26T08:25:49.340Z"
   },
   {
    "duration": 30,
    "start_time": "2022-01-26T08:25:49.355Z"
   },
   {
    "duration": 54,
    "start_time": "2022-01-26T08:25:49.388Z"
   },
   {
    "duration": 57,
    "start_time": "2022-01-26T08:25:49.444Z"
   },
   {
    "duration": 52,
    "start_time": "2022-01-26T08:25:49.503Z"
   },
   {
    "duration": 33,
    "start_time": "2022-01-26T08:25:49.557Z"
   },
   {
    "duration": 33,
    "start_time": "2022-01-26T08:25:49.591Z"
   },
   {
    "duration": 33,
    "start_time": "2022-01-26T08:25:49.627Z"
   },
   {
    "duration": 37,
    "start_time": "2022-01-26T08:25:49.662Z"
   },
   {
    "duration": 44,
    "start_time": "2022-01-26T08:25:49.701Z"
   },
   {
    "duration": 44,
    "start_time": "2022-01-26T08:25:49.747Z"
   },
   {
    "duration": 40,
    "start_time": "2022-01-26T08:25:49.793Z"
   },
   {
    "duration": 55,
    "start_time": "2022-01-26T08:25:49.835Z"
   },
   {
    "duration": 52,
    "start_time": "2022-01-26T08:25:49.891Z"
   },
   {
    "duration": 39,
    "start_time": "2022-01-26T08:25:49.945Z"
   },
   {
    "duration": 38,
    "start_time": "2022-01-26T08:25:49.986Z"
   },
   {
    "duration": 40,
    "start_time": "2022-01-26T08:25:50.025Z"
   },
   {
    "duration": 42,
    "start_time": "2022-01-26T08:25:50.067Z"
   },
   {
    "duration": 56,
    "start_time": "2022-01-26T08:25:50.111Z"
   },
   {
    "duration": 26,
    "start_time": "2022-01-26T08:25:50.169Z"
   },
   {
    "duration": 48,
    "start_time": "2022-01-26T08:25:50.197Z"
   },
   {
    "duration": 38,
    "start_time": "2022-01-26T08:25:50.247Z"
   },
   {
    "duration": 31,
    "start_time": "2022-01-26T08:25:50.286Z"
   },
   {
    "duration": 37,
    "start_time": "2022-01-26T08:25:50.319Z"
   },
   {
    "duration": 25,
    "start_time": "2022-01-26T08:25:50.358Z"
   },
   {
    "duration": 41,
    "start_time": "2022-01-26T08:25:50.386Z"
   },
   {
    "duration": 25,
    "start_time": "2022-01-26T08:25:50.429Z"
   },
   {
    "duration": 43,
    "start_time": "2022-01-26T08:25:50.456Z"
   },
   {
    "duration": 16,
    "start_time": "2022-01-26T08:25:53.316Z"
   },
   {
    "duration": 9,
    "start_time": "2022-01-26T08:28:38.832Z"
   },
   {
    "duration": 15,
    "start_time": "2022-01-26T08:28:43.329Z"
   },
   {
    "duration": 41,
    "start_time": "2022-01-26T08:34:30.631Z"
   },
   {
    "duration": 6314,
    "start_time": "2022-01-26T08:35:42.211Z"
   },
   {
    "duration": 681,
    "start_time": "2022-01-26T08:36:01.616Z"
   },
   {
    "duration": 12,
    "start_time": "2022-01-26T08:36:02.299Z"
   },
   {
    "duration": 26,
    "start_time": "2022-01-26T08:36:02.313Z"
   },
   {
    "duration": 15,
    "start_time": "2022-01-26T08:36:02.341Z"
   },
   {
    "duration": 33,
    "start_time": "2022-01-26T08:36:02.357Z"
   },
   {
    "duration": 6,
    "start_time": "2022-01-26T08:36:02.391Z"
   },
   {
    "duration": 8,
    "start_time": "2022-01-26T08:36:02.399Z"
   },
   {
    "duration": 10,
    "start_time": "2022-01-26T08:36:02.410Z"
   },
   {
    "duration": 10,
    "start_time": "2022-01-26T08:36:02.422Z"
   },
   {
    "duration": 17,
    "start_time": "2022-01-26T08:36:02.434Z"
   },
   {
    "duration": 13,
    "start_time": "2022-01-26T08:36:02.453Z"
   },
   {
    "duration": 13,
    "start_time": "2022-01-26T08:36:02.467Z"
   },
   {
    "duration": 14,
    "start_time": "2022-01-26T08:36:02.482Z"
   },
   {
    "duration": 8,
    "start_time": "2022-01-26T08:36:02.498Z"
   },
   {
    "duration": 5,
    "start_time": "2022-01-26T08:36:02.508Z"
   },
   {
    "duration": 25,
    "start_time": "2022-01-26T08:36:02.515Z"
   },
   {
    "duration": 9,
    "start_time": "2022-01-26T08:36:02.541Z"
   },
   {
    "duration": 13,
    "start_time": "2022-01-26T08:36:02.552Z"
   },
   {
    "duration": 7,
    "start_time": "2022-01-26T08:36:02.567Z"
   },
   {
    "duration": 9,
    "start_time": "2022-01-26T08:36:02.575Z"
   },
   {
    "duration": 6,
    "start_time": "2022-01-26T08:36:02.586Z"
   },
   {
    "duration": 21,
    "start_time": "2022-01-26T08:36:02.594Z"
   },
   {
    "duration": 48,
    "start_time": "2022-01-26T08:36:02.618Z"
   },
   {
    "duration": 16,
    "start_time": "2022-01-26T08:36:02.668Z"
   },
   {
    "duration": 21,
    "start_time": "2022-01-26T08:36:02.686Z"
   },
   {
    "duration": 7,
    "start_time": "2022-01-26T08:36:02.709Z"
   },
   {
    "duration": 9,
    "start_time": "2022-01-26T08:36:02.717Z"
   },
   {
    "duration": 3,
    "start_time": "2022-01-26T08:36:02.728Z"
   },
   {
    "duration": 9,
    "start_time": "2022-01-26T08:36:02.761Z"
   },
   {
    "duration": 15,
    "start_time": "2022-01-26T08:36:05.397Z"
   },
   {
    "duration": 16,
    "start_time": "2022-01-26T08:36:17.188Z"
   },
   {
    "duration": 26,
    "start_time": "2022-01-26T08:36:18.556Z"
   },
   {
    "duration": 6,
    "start_time": "2022-01-26T08:36:26.148Z"
   },
   {
    "duration": 27,
    "start_time": "2022-01-26T08:36:33.403Z"
   },
   {
    "duration": 6369,
    "start_time": "2022-01-26T08:36:47.212Z"
   },
   {
    "duration": 3348,
    "start_time": "2022-01-26T08:37:22.808Z"
   },
   {
    "duration": 29,
    "start_time": "2022-01-26T08:37:31.011Z"
   },
   {
    "duration": 18,
    "start_time": "2022-01-26T08:38:06.906Z"
   },
   {
    "duration": 650,
    "start_time": "2022-01-26T08:38:22.293Z"
   },
   {
    "duration": 12,
    "start_time": "2022-01-26T08:38:22.945Z"
   },
   {
    "duration": 11,
    "start_time": "2022-01-26T08:38:22.959Z"
   },
   {
    "duration": 23,
    "start_time": "2022-01-26T08:38:22.972Z"
   },
   {
    "duration": 11,
    "start_time": "2022-01-26T08:38:22.997Z"
   },
   {
    "duration": 23,
    "start_time": "2022-01-26T08:38:23.009Z"
   },
   {
    "duration": 27,
    "start_time": "2022-01-26T08:38:23.033Z"
   },
   {
    "duration": 19,
    "start_time": "2022-01-26T08:38:23.061Z"
   },
   {
    "duration": 21,
    "start_time": "2022-01-26T08:38:23.083Z"
   },
   {
    "duration": 19,
    "start_time": "2022-01-26T08:38:23.106Z"
   },
   {
    "duration": 21,
    "start_time": "2022-01-26T08:38:23.126Z"
   },
   {
    "duration": 22,
    "start_time": "2022-01-26T08:38:23.149Z"
   },
   {
    "duration": 16,
    "start_time": "2022-01-26T08:38:23.173Z"
   },
   {
    "duration": 37,
    "start_time": "2022-01-26T08:38:23.191Z"
   },
   {
    "duration": 22,
    "start_time": "2022-01-26T08:38:23.231Z"
   },
   {
    "duration": 30,
    "start_time": "2022-01-26T08:38:23.255Z"
   },
   {
    "duration": 23,
    "start_time": "2022-01-26T08:38:23.287Z"
   },
   {
    "duration": 20,
    "start_time": "2022-01-26T08:38:23.313Z"
   },
   {
    "duration": 22,
    "start_time": "2022-01-26T08:38:23.335Z"
   },
   {
    "duration": 14,
    "start_time": "2022-01-26T08:38:23.359Z"
   },
   {
    "duration": 12,
    "start_time": "2022-01-26T08:38:23.376Z"
   },
   {
    "duration": 55,
    "start_time": "2022-01-26T08:38:23.390Z"
   },
   {
    "duration": 19,
    "start_time": "2022-01-26T08:38:23.448Z"
   },
   {
    "duration": 22,
    "start_time": "2022-01-26T08:38:23.469Z"
   },
   {
    "duration": 24,
    "start_time": "2022-01-26T08:38:23.493Z"
   },
   {
    "duration": 6,
    "start_time": "2022-01-26T08:38:23.519Z"
   },
   {
    "duration": 23,
    "start_time": "2022-01-26T08:38:23.528Z"
   },
   {
    "duration": 8,
    "start_time": "2022-01-26T08:38:23.553Z"
   },
   {
    "duration": 21,
    "start_time": "2022-01-26T08:38:23.562Z"
   },
   {
    "duration": 26,
    "start_time": "2022-01-26T08:38:23.585Z"
   },
   {
    "duration": 16,
    "start_time": "2022-01-26T08:38:25.117Z"
   },
   {
    "duration": 12,
    "start_time": "2022-01-26T08:38:26.388Z"
   },
   {
    "duration": 16,
    "start_time": "2022-01-26T08:38:33.596Z"
   },
   {
    "duration": 24,
    "start_time": "2022-01-26T08:38:35.245Z"
   },
   {
    "duration": 318,
    "start_time": "2022-01-26T08:42:00.642Z"
   },
   {
    "duration": 252,
    "start_time": "2022-01-26T08:42:12.993Z"
   },
   {
    "duration": 6,
    "start_time": "2022-01-26T08:42:19.209Z"
   },
   {
    "duration": 5,
    "start_time": "2022-01-26T08:42:48.705Z"
   },
   {
    "duration": 25,
    "start_time": "2022-01-26T08:42:53.769Z"
   },
   {
    "duration": 14,
    "start_time": "2022-01-26T08:43:12.969Z"
   },
   {
    "duration": 6721,
    "start_time": "2022-01-26T08:47:36.759Z"
   },
   {
    "duration": 25,
    "start_time": "2022-01-26T08:47:57.981Z"
   },
   {
    "duration": 649,
    "start_time": "2022-01-26T08:48:17.916Z"
   },
   {
    "duration": 13,
    "start_time": "2022-01-26T08:48:18.567Z"
   },
   {
    "duration": 29,
    "start_time": "2022-01-26T08:48:18.583Z"
   },
   {
    "duration": 29,
    "start_time": "2022-01-26T08:48:18.614Z"
   },
   {
    "duration": 33,
    "start_time": "2022-01-26T08:48:18.644Z"
   },
   {
    "duration": 34,
    "start_time": "2022-01-26T08:48:18.679Z"
   },
   {
    "duration": 32,
    "start_time": "2022-01-26T08:48:18.715Z"
   },
   {
    "duration": 38,
    "start_time": "2022-01-26T08:48:18.749Z"
   },
   {
    "duration": 38,
    "start_time": "2022-01-26T08:48:18.790Z"
   },
   {
    "duration": 27,
    "start_time": "2022-01-26T08:48:18.830Z"
   },
   {
    "duration": 43,
    "start_time": "2022-01-26T08:48:18.859Z"
   },
   {
    "duration": 35,
    "start_time": "2022-01-26T08:48:18.904Z"
   },
   {
    "duration": 42,
    "start_time": "2022-01-26T08:48:18.941Z"
   },
   {
    "duration": 35,
    "start_time": "2022-01-26T08:48:18.985Z"
   },
   {
    "duration": 33,
    "start_time": "2022-01-26T08:48:19.022Z"
   },
   {
    "duration": 46,
    "start_time": "2022-01-26T08:48:19.057Z"
   },
   {
    "duration": 40,
    "start_time": "2022-01-26T08:48:19.105Z"
   },
   {
    "duration": 46,
    "start_time": "2022-01-26T08:48:19.147Z"
   },
   {
    "duration": 34,
    "start_time": "2022-01-26T08:48:19.195Z"
   },
   {
    "duration": 32,
    "start_time": "2022-01-26T08:48:19.231Z"
   },
   {
    "duration": 27,
    "start_time": "2022-01-26T08:48:19.265Z"
   },
   {
    "duration": 58,
    "start_time": "2022-01-26T08:48:19.294Z"
   },
   {
    "duration": 34,
    "start_time": "2022-01-26T08:48:19.354Z"
   },
   {
    "duration": 53,
    "start_time": "2022-01-26T08:48:19.390Z"
   },
   {
    "duration": 41,
    "start_time": "2022-01-26T08:48:19.445Z"
   },
   {
    "duration": 32,
    "start_time": "2022-01-26T08:48:19.488Z"
   },
   {
    "duration": 73,
    "start_time": "2022-01-26T08:48:19.524Z"
   },
   {
    "duration": 50,
    "start_time": "2022-01-26T08:48:19.599Z"
   },
   {
    "duration": 34,
    "start_time": "2022-01-26T08:48:19.651Z"
   },
   {
    "duration": 54,
    "start_time": "2022-01-26T08:48:19.687Z"
   },
   {
    "duration": 43,
    "start_time": "2022-01-26T08:48:19.743Z"
   },
   {
    "duration": 27,
    "start_time": "2022-01-26T08:48:22.073Z"
   },
   {
    "duration": 28,
    "start_time": "2022-01-26T08:49:09.818Z"
   },
   {
    "duration": 682,
    "start_time": "2022-01-26T08:49:56.829Z"
   },
   {
    "duration": 11,
    "start_time": "2022-01-26T08:49:57.513Z"
   },
   {
    "duration": 6,
    "start_time": "2022-01-26T08:49:57.526Z"
   },
   {
    "duration": 10,
    "start_time": "2022-01-26T08:49:57.533Z"
   },
   {
    "duration": 22,
    "start_time": "2022-01-26T08:49:57.544Z"
   },
   {
    "duration": 7,
    "start_time": "2022-01-26T08:49:57.567Z"
   },
   {
    "duration": 8,
    "start_time": "2022-01-26T08:49:57.575Z"
   },
   {
    "duration": 8,
    "start_time": "2022-01-26T08:49:57.585Z"
   },
   {
    "duration": 7,
    "start_time": "2022-01-26T08:49:57.595Z"
   },
   {
    "duration": 6,
    "start_time": "2022-01-26T08:49:57.604Z"
   },
   {
    "duration": 11,
    "start_time": "2022-01-26T08:49:57.612Z"
   },
   {
    "duration": 40,
    "start_time": "2022-01-26T08:49:57.624Z"
   },
   {
    "duration": 6,
    "start_time": "2022-01-26T08:49:57.665Z"
   },
   {
    "duration": 10,
    "start_time": "2022-01-26T08:49:57.673Z"
   },
   {
    "duration": 6,
    "start_time": "2022-01-26T08:49:57.684Z"
   },
   {
    "duration": 12,
    "start_time": "2022-01-26T08:49:57.691Z"
   },
   {
    "duration": 6,
    "start_time": "2022-01-26T08:49:57.705Z"
   },
   {
    "duration": 5,
    "start_time": "2022-01-26T08:49:57.713Z"
   },
   {
    "duration": 45,
    "start_time": "2022-01-26T08:49:57.720Z"
   },
   {
    "duration": 11,
    "start_time": "2022-01-26T08:49:57.767Z"
   },
   {
    "duration": 7,
    "start_time": "2022-01-26T08:49:57.780Z"
   },
   {
    "duration": 28,
    "start_time": "2022-01-26T08:49:57.789Z"
   },
   {
    "duration": 27,
    "start_time": "2022-01-26T08:49:57.818Z"
   },
   {
    "duration": 26,
    "start_time": "2022-01-26T08:49:57.847Z"
   },
   {
    "duration": 36,
    "start_time": "2022-01-26T08:49:57.875Z"
   },
   {
    "duration": 11,
    "start_time": "2022-01-26T08:49:57.913Z"
   },
   {
    "duration": 20,
    "start_time": "2022-01-26T08:49:57.927Z"
   },
   {
    "duration": 17,
    "start_time": "2022-01-26T08:49:57.949Z"
   },
   {
    "duration": 17,
    "start_time": "2022-01-26T08:49:57.968Z"
   },
   {
    "duration": 30,
    "start_time": "2022-01-26T08:49:57.987Z"
   },
   {
    "duration": 24,
    "start_time": "2022-01-26T08:49:58.019Z"
   },
   {
    "duration": 28,
    "start_time": "2022-01-26T08:49:58.045Z"
   },
   {
    "duration": 31,
    "start_time": "2022-01-26T08:49:58.075Z"
   },
   {
    "duration": 6,
    "start_time": "2022-01-26T09:45:34.378Z"
   },
   {
    "duration": 23,
    "start_time": "2022-01-26T09:45:46.639Z"
   },
   {
    "duration": 17,
    "start_time": "2022-01-26T09:46:04.727Z"
   },
   {
    "duration": 16,
    "start_time": "2022-01-26T09:48:00.110Z"
   },
   {
    "duration": 305,
    "start_time": "2022-01-26T09:49:14.350Z"
   },
   {
    "duration": 20,
    "start_time": "2022-01-26T09:49:18.941Z"
   },
   {
    "duration": 21,
    "start_time": "2022-01-26T09:49:44.998Z"
   },
   {
    "duration": 41,
    "start_time": "2022-01-26T09:51:44.307Z"
   },
   {
    "duration": 20,
    "start_time": "2022-01-26T09:51:55.517Z"
   },
   {
    "duration": 37,
    "start_time": "2022-01-26T09:51:59.307Z"
   },
   {
    "duration": 18,
    "start_time": "2022-01-26T10:01:12.013Z"
   },
   {
    "duration": 24,
    "start_time": "2022-01-26T10:01:19.556Z"
   },
   {
    "duration": 22,
    "start_time": "2022-01-26T10:01:23.404Z"
   },
   {
    "duration": 24,
    "start_time": "2022-01-26T10:02:02.000Z"
   },
   {
    "duration": 37,
    "start_time": "2022-01-26T10:02:08.460Z"
   },
   {
    "duration": 40,
    "start_time": "2022-01-26T10:02:21.076Z"
   },
   {
    "duration": 23,
    "start_time": "2022-01-26T10:02:30.524Z"
   },
   {
    "duration": 69,
    "start_time": "2022-01-26T11:53:32.226Z"
   },
   {
    "duration": 21,
    "start_time": "2022-01-26T11:54:02.544Z"
   },
   {
    "duration": 8882,
    "start_time": "2022-01-26T11:54:58.216Z"
   },
   {
    "duration": 4,
    "start_time": "2022-01-26T12:08:26.559Z"
   },
   {
    "duration": 4,
    "start_time": "2022-01-26T12:09:21.287Z"
   },
   {
    "duration": 262,
    "start_time": "2022-01-26T12:10:07.301Z"
   },
   {
    "duration": 276,
    "start_time": "2022-01-26T12:10:16.862Z"
   },
   {
    "duration": 252,
    "start_time": "2022-01-26T12:10:28.589Z"
   },
   {
    "duration": 4,
    "start_time": "2022-01-26T12:10:32.340Z"
   },
   {
    "duration": 249,
    "start_time": "2022-01-26T12:10:51.148Z"
   },
   {
    "duration": 4,
    "start_time": "2022-01-26T12:11:01.511Z"
   },
   {
    "duration": 4,
    "start_time": "2022-01-26T12:11:53.710Z"
   },
   {
    "duration": 4,
    "start_time": "2022-01-26T12:14:05.921Z"
   },
   {
    "duration": 5,
    "start_time": "2022-01-26T12:14:29.153Z"
   },
   {
    "duration": 5,
    "start_time": "2022-01-26T12:14:44.484Z"
   },
   {
    "duration": 5,
    "start_time": "2022-01-26T12:15:05.989Z"
   },
   {
    "duration": 6,
    "start_time": "2022-01-26T12:15:26.137Z"
   },
   {
    "duration": 6,
    "start_time": "2022-01-26T12:15:30.604Z"
   },
   {
    "duration": 4,
    "start_time": "2022-01-26T12:17:14.098Z"
   },
   {
    "duration": 6785,
    "start_time": "2022-01-26T12:19:33.517Z"
   },
   {
    "duration": 24,
    "start_time": "2022-01-26T12:19:43.519Z"
   },
   {
    "duration": 7739,
    "start_time": "2022-01-26T12:20:13.679Z"
   },
   {
    "duration": 8158,
    "start_time": "2022-01-26T12:20:27.325Z"
   },
   {
    "duration": 12,
    "start_time": "2022-01-26T12:21:07.124Z"
   },
   {
    "duration": 348,
    "start_time": "2022-01-26T12:21:16.921Z"
   },
   {
    "duration": 15,
    "start_time": "2022-01-26T12:21:29.574Z"
   },
   {
    "duration": 304,
    "start_time": "2022-01-26T12:21:49.204Z"
   },
   {
    "duration": 262,
    "start_time": "2022-01-26T12:21:58.886Z"
   },
   {
    "duration": 27,
    "start_time": "2022-01-26T12:22:14.977Z"
   },
   {
    "duration": 280,
    "start_time": "2022-01-26T12:22:25.252Z"
   },
   {
    "duration": 717,
    "start_time": "2022-01-26T12:22:43.231Z"
   },
   {
    "duration": 12,
    "start_time": "2022-01-26T12:22:43.950Z"
   },
   {
    "duration": 29,
    "start_time": "2022-01-26T12:22:43.964Z"
   },
   {
    "duration": 7,
    "start_time": "2022-01-26T12:22:43.995Z"
   },
   {
    "duration": 7,
    "start_time": "2022-01-26T12:22:44.004Z"
   },
   {
    "duration": 6,
    "start_time": "2022-01-26T12:22:44.012Z"
   },
   {
    "duration": 6,
    "start_time": "2022-01-26T12:22:44.019Z"
   },
   {
    "duration": 7,
    "start_time": "2022-01-26T12:22:44.027Z"
   },
   {
    "duration": 7,
    "start_time": "2022-01-26T12:22:44.036Z"
   },
   {
    "duration": 28,
    "start_time": "2022-01-26T12:22:44.045Z"
   },
   {
    "duration": 19,
    "start_time": "2022-01-26T12:22:44.076Z"
   },
   {
    "duration": 9,
    "start_time": "2022-01-26T12:22:44.097Z"
   },
   {
    "duration": 8,
    "start_time": "2022-01-26T12:22:44.108Z"
   },
   {
    "duration": 8,
    "start_time": "2022-01-26T12:22:44.118Z"
   },
   {
    "duration": 6,
    "start_time": "2022-01-26T12:22:44.127Z"
   },
   {
    "duration": 8,
    "start_time": "2022-01-26T12:22:44.134Z"
   },
   {
    "duration": 24,
    "start_time": "2022-01-26T12:22:44.143Z"
   },
   {
    "duration": 6,
    "start_time": "2022-01-26T12:22:44.169Z"
   },
   {
    "duration": 12,
    "start_time": "2022-01-26T12:22:44.177Z"
   },
   {
    "duration": 6,
    "start_time": "2022-01-26T12:22:44.192Z"
   },
   {
    "duration": 4,
    "start_time": "2022-01-26T12:22:44.200Z"
   },
   {
    "duration": 19,
    "start_time": "2022-01-26T12:22:44.205Z"
   },
   {
    "duration": 61,
    "start_time": "2022-01-26T12:22:44.226Z"
   },
   {
    "duration": 14,
    "start_time": "2022-01-26T12:22:44.289Z"
   },
   {
    "duration": 14,
    "start_time": "2022-01-26T12:22:44.304Z"
   },
   {
    "duration": 5,
    "start_time": "2022-01-26T12:22:44.319Z"
   },
   {
    "duration": 6,
    "start_time": "2022-01-26T12:22:44.327Z"
   },
   {
    "duration": 27,
    "start_time": "2022-01-26T12:22:44.335Z"
   },
   {
    "duration": 34,
    "start_time": "2022-01-26T12:22:44.364Z"
   },
   {
    "duration": 18,
    "start_time": "2022-01-26T12:22:44.400Z"
   },
   {
    "duration": 10,
    "start_time": "2022-01-26T12:22:44.420Z"
   },
   {
    "duration": 26,
    "start_time": "2022-01-26T12:22:44.431Z"
   },
   {
    "duration": 39,
    "start_time": "2022-01-26T12:22:44.458Z"
   },
   {
    "duration": 15,
    "start_time": "2022-01-26T12:22:44.499Z"
   },
   {
    "duration": 18,
    "start_time": "2022-01-26T12:22:44.516Z"
   },
   {
    "duration": 51,
    "start_time": "2022-01-26T12:22:44.562Z"
   },
   {
    "duration": 34,
    "start_time": "2022-01-26T12:22:44.615Z"
   },
   {
    "duration": 33,
    "start_time": "2022-01-26T12:22:44.661Z"
   },
   {
    "duration": 60,
    "start_time": "2022-01-26T12:22:44.700Z"
   },
   {
    "duration": 162,
    "start_time": "2022-01-26T12:22:44.761Z"
   },
   {
    "duration": 7766,
    "start_time": "2022-01-26T12:22:48.461Z"
   },
   {
    "duration": 379,
    "start_time": "2022-01-26T12:22:58.036Z"
   },
   {
    "duration": 10,
    "start_time": "2022-01-26T12:23:11.522Z"
   },
   {
    "duration": 10,
    "start_time": "2022-01-26T12:23:48.555Z"
   },
   {
    "duration": 12,
    "start_time": "2022-01-27T12:22:44.699Z"
   },
   {
    "duration": 11,
    "start_time": "2022-01-27T12:24:07.177Z"
   },
   {
    "duration": 332,
    "start_time": "2022-01-27T12:26:06.687Z"
   },
   {
    "duration": 302,
    "start_time": "2022-01-27T12:26:45.934Z"
   },
   {
    "duration": 18,
    "start_time": "2022-01-27T12:28:09.216Z"
   },
   {
    "duration": 293,
    "start_time": "2022-01-27T12:28:37.909Z"
   },
   {
    "duration": 10,
    "start_time": "2022-01-27T12:28:44.175Z"
   },
   {
    "duration": 18,
    "start_time": "2022-01-27T12:28:57.551Z"
   },
   {
    "duration": 12,
    "start_time": "2022-01-27T12:29:42.231Z"
   },
   {
    "duration": 22,
    "start_time": "2022-01-27T12:36:56.413Z"
   },
   {
    "duration": 20,
    "start_time": "2022-01-27T12:38:24.249Z"
   },
   {
    "duration": 759,
    "start_time": "2022-01-27T12:40:26.147Z"
   },
   {
    "duration": 11,
    "start_time": "2022-01-27T12:40:26.908Z"
   },
   {
    "duration": 38,
    "start_time": "2022-01-27T12:40:26.922Z"
   },
   {
    "duration": 73,
    "start_time": "2022-01-27T12:40:26.964Z"
   },
   {
    "duration": 50,
    "start_time": "2022-01-27T12:40:27.038Z"
   },
   {
    "duration": 35,
    "start_time": "2022-01-27T12:40:27.090Z"
   },
   {
    "duration": 55,
    "start_time": "2022-01-27T12:40:27.126Z"
   },
   {
    "duration": 37,
    "start_time": "2022-01-27T12:40:27.184Z"
   },
   {
    "duration": 41,
    "start_time": "2022-01-27T12:40:27.223Z"
   },
   {
    "duration": 43,
    "start_time": "2022-01-27T12:40:27.266Z"
   },
   {
    "duration": 39,
    "start_time": "2022-01-27T12:40:27.310Z"
   },
   {
    "duration": 49,
    "start_time": "2022-01-27T12:40:27.351Z"
   },
   {
    "duration": 35,
    "start_time": "2022-01-27T12:40:27.402Z"
   },
   {
    "duration": 42,
    "start_time": "2022-01-27T12:40:27.439Z"
   },
   {
    "duration": 22,
    "start_time": "2022-01-27T12:40:27.483Z"
   },
   {
    "duration": 31,
    "start_time": "2022-01-27T12:40:27.507Z"
   },
   {
    "duration": 70,
    "start_time": "2022-01-27T12:40:27.541Z"
   },
   {
    "duration": 69,
    "start_time": "2022-01-27T12:40:27.613Z"
   },
   {
    "duration": 75,
    "start_time": "2022-01-27T12:40:27.684Z"
   },
   {
    "duration": 42,
    "start_time": "2022-01-27T12:40:27.761Z"
   },
   {
    "duration": 45,
    "start_time": "2022-01-27T12:40:27.805Z"
   },
   {
    "duration": 81,
    "start_time": "2022-01-27T12:40:27.852Z"
   },
   {
    "duration": 49,
    "start_time": "2022-01-27T12:40:27.938Z"
   },
   {
    "duration": 66,
    "start_time": "2022-01-27T12:40:27.989Z"
   },
   {
    "duration": 57,
    "start_time": "2022-01-27T12:40:28.057Z"
   },
   {
    "duration": 26,
    "start_time": "2022-01-27T12:40:28.116Z"
   },
   {
    "duration": 46,
    "start_time": "2022-01-27T12:40:28.144Z"
   },
   {
    "duration": 33,
    "start_time": "2022-01-27T12:40:28.192Z"
   },
   {
    "duration": 53,
    "start_time": "2022-01-27T12:40:28.226Z"
   },
   {
    "duration": 55,
    "start_time": "2022-01-27T12:40:28.281Z"
   },
   {
    "duration": 57,
    "start_time": "2022-01-27T12:40:28.338Z"
   },
   {
    "duration": 55,
    "start_time": "2022-01-27T12:40:28.397Z"
   },
   {
    "duration": 36,
    "start_time": "2022-01-27T12:40:28.454Z"
   },
   {
    "duration": 31,
    "start_time": "2022-01-27T12:40:28.492Z"
   },
   {
    "duration": 59,
    "start_time": "2022-01-27T12:40:28.525Z"
   },
   {
    "duration": 34,
    "start_time": "2022-01-27T12:40:28.586Z"
   },
   {
    "duration": 55,
    "start_time": "2022-01-27T12:40:28.622Z"
   },
   {
    "duration": 50,
    "start_time": "2022-01-27T12:40:28.679Z"
   },
   {
    "duration": 14,
    "start_time": "2022-01-27T12:40:28.730Z"
   },
   {
    "duration": 46,
    "start_time": "2022-01-27T12:40:28.746Z"
   },
   {
    "duration": 40,
    "start_time": "2022-01-27T12:40:28.794Z"
   },
   {
    "duration": 7538,
    "start_time": "2022-01-27T12:40:28.836Z"
   },
   {
    "duration": 13,
    "start_time": "2022-01-27T12:40:36.376Z"
   },
   {
    "duration": 59,
    "start_time": "2022-01-27T12:40:36.391Z"
   },
   {
    "duration": 71,
    "start_time": "2022-01-27T12:40:36.452Z"
   },
   {
    "duration": 27,
    "start_time": "2022-01-27T12:40:36.525Z"
   },
   {
    "duration": 20,
    "start_time": "2022-01-27T12:40:41.117Z"
   },
   {
    "duration": 10,
    "start_time": "2022-01-27T12:48:05.745Z"
   },
   {
    "duration": 27,
    "start_time": "2022-01-27T12:48:20.481Z"
   },
   {
    "duration": 19,
    "start_time": "2022-01-27T12:50:09.520Z"
   },
   {
    "duration": 336,
    "start_time": "2022-01-27T12:51:53.079Z"
   },
   {
    "duration": 297,
    "start_time": "2022-01-27T14:25:29.632Z"
   },
   {
    "duration": 273,
    "start_time": "2022-01-27T14:26:15.262Z"
   },
   {
    "duration": 262,
    "start_time": "2022-01-27T14:26:36.497Z"
   },
   {
    "duration": 30,
    "start_time": "2022-01-27T14:26:42.033Z"
   },
   {
    "duration": 30,
    "start_time": "2022-01-27T14:27:56.112Z"
   },
   {
    "duration": 20,
    "start_time": "2022-01-27T14:28:01.568Z"
   },
   {
    "duration": 21,
    "start_time": "2022-01-27T14:29:30.198Z"
   },
   {
    "duration": 31,
    "start_time": "2022-01-27T14:31:29.302Z"
   },
   {
    "duration": 19,
    "start_time": "2022-01-27T14:32:16.891Z"
   },
   {
    "duration": 20,
    "start_time": "2022-01-27T14:33:40.419Z"
   },
   {
    "duration": 4999,
    "start_time": "2022-01-27T14:34:17.045Z"
   },
   {
    "duration": 19,
    "start_time": "2022-01-27T14:34:32.810Z"
   },
   {
    "duration": 4,
    "start_time": "2022-01-27T14:46:52.594Z"
   },
   {
    "duration": 15,
    "start_time": "2022-01-27T14:47:05.289Z"
   },
   {
    "duration": 19,
    "start_time": "2022-01-27T14:47:32.073Z"
   },
   {
    "duration": 17,
    "start_time": "2022-01-27T14:48:52.512Z"
   },
   {
    "duration": 5917,
    "start_time": "2022-01-27T14:49:28.455Z"
   },
   {
    "duration": 43,
    "start_time": "2022-01-27T14:51:48.318Z"
   },
   {
    "duration": 6354,
    "start_time": "2022-01-27T14:51:50.246Z"
   },
   {
    "duration": 20,
    "start_time": "2022-01-27T14:52:24.150Z"
   },
   {
    "duration": 12,
    "start_time": "2022-01-27T14:52:31.734Z"
   },
   {
    "duration": 12,
    "start_time": "2022-01-27T14:52:41.713Z"
   },
   {
    "duration": 10,
    "start_time": "2022-01-27T14:52:57.374Z"
   },
   {
    "duration": 17,
    "start_time": "2022-01-27T14:54:38.268Z"
   },
   {
    "duration": 9,
    "start_time": "2022-01-27T14:54:55.620Z"
   },
   {
    "duration": 21,
    "start_time": "2022-01-27T14:55:59.709Z"
   },
   {
    "duration": 9,
    "start_time": "2022-01-27T14:56:13.252Z"
   },
   {
    "duration": 16,
    "start_time": "2022-01-27T14:57:54.747Z"
   },
   {
    "duration": 10,
    "start_time": "2022-01-28T09:18:07.482Z"
   },
   {
    "duration": 20,
    "start_time": "2022-01-28T09:19:04.232Z"
   },
   {
    "duration": 22,
    "start_time": "2022-01-28T09:19:45.238Z"
   },
   {
    "duration": 32,
    "start_time": "2022-01-28T09:19:58.975Z"
   },
   {
    "duration": 4,
    "start_time": "2022-01-28T09:25:43.394Z"
   },
   {
    "duration": 4,
    "start_time": "2022-01-28T09:25:55.035Z"
   },
   {
    "duration": 4,
    "start_time": "2022-01-28T09:28:50.013Z"
   },
   {
    "duration": 8,
    "start_time": "2022-01-28T09:29:24.889Z"
   },
   {
    "duration": 20,
    "start_time": "2022-01-28T09:29:29.098Z"
   },
   {
    "duration": 4,
    "start_time": "2022-01-28T09:30:02.784Z"
   },
   {
    "duration": 9,
    "start_time": "2022-01-28T09:30:03.519Z"
   },
   {
    "duration": 24,
    "start_time": "2022-01-28T09:30:04.071Z"
   },
   {
    "duration": 19,
    "start_time": "2022-01-28T09:30:34.695Z"
   },
   {
    "duration": 22,
    "start_time": "2022-01-28T09:30:40.727Z"
   },
   {
    "duration": 6103,
    "start_time": "2022-01-28T09:49:20.130Z"
   },
   {
    "duration": 7202,
    "start_time": "2022-01-28T09:49:33.753Z"
   },
   {
    "duration": 6725,
    "start_time": "2022-01-28T09:49:42.121Z"
   },
   {
    "duration": 6877,
    "start_time": "2022-01-28T09:50:10.817Z"
   },
   {
    "duration": 261,
    "start_time": "2022-01-28T09:50:29.801Z"
   },
   {
    "duration": 266,
    "start_time": "2022-01-28T09:50:39.713Z"
   },
   {
    "duration": 6994,
    "start_time": "2022-01-28T09:50:47.608Z"
   },
   {
    "duration": 7400,
    "start_time": "2022-01-28T09:52:49.087Z"
   },
   {
    "duration": 6339,
    "start_time": "2022-01-28T09:52:57.167Z"
   },
   {
    "duration": 20,
    "start_time": "2022-01-28T09:53:04.495Z"
   },
   {
    "duration": 6,
    "start_time": "2022-01-28T09:57:16.692Z"
   },
   {
    "duration": 267,
    "start_time": "2022-01-28T10:01:06.434Z"
   },
   {
    "duration": 20,
    "start_time": "2022-01-28T10:01:13.513Z"
   },
   {
    "duration": 19,
    "start_time": "2022-01-28T10:01:28.793Z"
   },
   {
    "duration": 20,
    "start_time": "2022-01-28T10:01:36.089Z"
   },
   {
    "duration": 21,
    "start_time": "2022-01-28T10:01:46.976Z"
   },
   {
    "duration": 20,
    "start_time": "2022-01-28T10:01:53.848Z"
   },
   {
    "duration": 9,
    "start_time": "2022-01-28T10:08:39.364Z"
   },
   {
    "duration": 816,
    "start_time": "2022-01-28T10:14:39.530Z"
   },
   {
    "duration": 12,
    "start_time": "2022-01-28T10:14:40.348Z"
   },
   {
    "duration": 45,
    "start_time": "2022-01-28T10:14:40.362Z"
   },
   {
    "duration": 49,
    "start_time": "2022-01-28T10:14:40.410Z"
   },
   {
    "duration": 29,
    "start_time": "2022-01-28T10:14:40.460Z"
   },
   {
    "duration": 40,
    "start_time": "2022-01-28T10:14:40.491Z"
   },
   {
    "duration": 29,
    "start_time": "2022-01-28T10:14:40.533Z"
   },
   {
    "duration": 34,
    "start_time": "2022-01-28T10:14:40.565Z"
   },
   {
    "duration": 18,
    "start_time": "2022-01-28T10:14:40.601Z"
   },
   {
    "duration": 33,
    "start_time": "2022-01-28T10:14:40.621Z"
   },
   {
    "duration": 36,
    "start_time": "2022-01-28T10:14:40.656Z"
   },
   {
    "duration": 22,
    "start_time": "2022-01-28T10:14:40.693Z"
   },
   {
    "duration": 35,
    "start_time": "2022-01-28T10:14:40.717Z"
   },
   {
    "duration": 38,
    "start_time": "2022-01-28T10:14:40.754Z"
   },
   {
    "duration": 18,
    "start_time": "2022-01-28T10:14:40.794Z"
   },
   {
    "duration": 39,
    "start_time": "2022-01-28T10:14:40.814Z"
   },
   {
    "duration": 39,
    "start_time": "2022-01-28T10:14:40.854Z"
   },
   {
    "duration": 40,
    "start_time": "2022-01-28T10:14:40.894Z"
   },
   {
    "duration": 45,
    "start_time": "2022-01-28T10:14:40.936Z"
   },
   {
    "duration": 31,
    "start_time": "2022-01-28T10:14:40.983Z"
   },
   {
    "duration": 33,
    "start_time": "2022-01-28T10:14:41.016Z"
   },
   {
    "duration": 40,
    "start_time": "2022-01-28T10:14:41.051Z"
   },
   {
    "duration": 33,
    "start_time": "2022-01-28T10:14:41.096Z"
   },
   {
    "duration": 37,
    "start_time": "2022-01-28T10:14:41.132Z"
   },
   {
    "duration": 40,
    "start_time": "2022-01-28T10:14:41.171Z"
   },
   {
    "duration": 23,
    "start_time": "2022-01-28T10:14:41.213Z"
   },
   {
    "duration": 36,
    "start_time": "2022-01-28T10:14:41.238Z"
   },
   {
    "duration": 24,
    "start_time": "2022-01-28T10:14:41.275Z"
   },
   {
    "duration": 25,
    "start_time": "2022-01-28T10:14:41.301Z"
   },
   {
    "duration": 28,
    "start_time": "2022-01-28T10:14:41.328Z"
   },
   {
    "duration": 40,
    "start_time": "2022-01-28T10:14:41.357Z"
   },
   {
    "duration": 40,
    "start_time": "2022-01-28T10:14:41.399Z"
   },
   {
    "duration": 27,
    "start_time": "2022-01-28T10:14:41.441Z"
   },
   {
    "duration": 22,
    "start_time": "2022-01-28T10:14:41.470Z"
   },
   {
    "duration": 42,
    "start_time": "2022-01-28T10:14:41.493Z"
   },
   {
    "duration": 38,
    "start_time": "2022-01-28T10:14:41.537Z"
   },
   {
    "duration": 48,
    "start_time": "2022-01-28T10:14:41.576Z"
   },
   {
    "duration": 42,
    "start_time": "2022-01-28T10:14:41.625Z"
   },
   {
    "duration": 7,
    "start_time": "2022-01-28T10:14:41.669Z"
   },
   {
    "duration": 28,
    "start_time": "2022-01-28T10:14:41.678Z"
   },
   {
    "duration": 26,
    "start_time": "2022-01-28T10:14:41.708Z"
   },
   {
    "duration": 7135,
    "start_time": "2022-01-28T10:14:41.735Z"
   },
   {
    "duration": 14,
    "start_time": "2022-01-28T10:14:48.872Z"
   },
   {
    "duration": 10,
    "start_time": "2022-01-28T10:14:48.888Z"
   },
   {
    "duration": 36,
    "start_time": "2022-01-28T10:14:48.900Z"
   },
   {
    "duration": 30,
    "start_time": "2022-01-28T10:14:48.938Z"
   },
   {
    "duration": 22,
    "start_time": "2022-01-28T10:14:48.970Z"
   },
   {
    "duration": 49,
    "start_time": "2022-01-28T10:14:48.993Z"
   },
   {
    "duration": 32,
    "start_time": "2022-01-28T10:14:49.044Z"
   },
   {
    "duration": 19,
    "start_time": "2022-01-28T10:14:49.078Z"
   },
   {
    "duration": 23,
    "start_time": "2022-01-28T10:14:49.099Z"
   },
   {
    "duration": 31,
    "start_time": "2022-01-28T10:14:49.123Z"
   },
   {
    "duration": 32,
    "start_time": "2022-01-28T10:14:49.156Z"
   },
   {
    "duration": 20,
    "start_time": "2022-01-28T10:14:49.190Z"
   },
   {
    "duration": 28,
    "start_time": "2022-01-28T10:14:49.212Z"
   },
   {
    "duration": 18,
    "start_time": "2022-01-28T10:14:49.242Z"
   },
   {
    "duration": 32,
    "start_time": "2022-01-28T10:14:49.261Z"
   },
   {
    "duration": 22,
    "start_time": "2022-01-28T10:14:49.295Z"
   },
   {
    "duration": 7,
    "start_time": "2022-01-28T10:14:49.319Z"
   },
   {
    "duration": 21,
    "start_time": "2022-01-28T10:14:49.328Z"
   },
   {
    "duration": 105,
    "start_time": "2022-01-28T21:32:40.749Z"
   },
   {
    "duration": 322,
    "start_time": "2022-01-28T21:33:19.478Z"
   },
   {
    "duration": 6356,
    "start_time": "2022-01-28T21:33:24.988Z"
   },
   {
    "duration": 20,
    "start_time": "2022-01-28T21:33:54.105Z"
   },
   {
    "duration": 648,
    "start_time": "2022-01-28T21:34:27.385Z"
   },
   {
    "duration": 11,
    "start_time": "2022-01-28T21:34:28.035Z"
   },
   {
    "duration": 6,
    "start_time": "2022-01-28T21:34:28.048Z"
   },
   {
    "duration": 11,
    "start_time": "2022-01-28T21:34:28.055Z"
   },
   {
    "duration": 7,
    "start_time": "2022-01-28T21:34:28.068Z"
   },
   {
    "duration": 10,
    "start_time": "2022-01-28T21:34:28.077Z"
   },
   {
    "duration": 9,
    "start_time": "2022-01-28T21:34:28.088Z"
   },
   {
    "duration": 5,
    "start_time": "2022-01-28T21:34:28.099Z"
   },
   {
    "duration": 7,
    "start_time": "2022-01-28T21:34:28.106Z"
   },
   {
    "duration": 49,
    "start_time": "2022-01-28T21:34:28.114Z"
   },
   {
    "duration": 11,
    "start_time": "2022-01-28T21:34:28.165Z"
   },
   {
    "duration": 9,
    "start_time": "2022-01-28T21:34:28.178Z"
   },
   {
    "duration": 8,
    "start_time": "2022-01-28T21:34:28.188Z"
   },
   {
    "duration": 11,
    "start_time": "2022-01-28T21:34:28.197Z"
   },
   {
    "duration": 6,
    "start_time": "2022-01-28T21:34:28.210Z"
   },
   {
    "duration": 47,
    "start_time": "2022-01-28T21:34:28.217Z"
   },
   {
    "duration": 8,
    "start_time": "2022-01-28T21:34:28.266Z"
   },
   {
    "duration": 6,
    "start_time": "2022-01-28T21:34:28.276Z"
   },
   {
    "duration": 7,
    "start_time": "2022-01-28T21:34:28.284Z"
   },
   {
    "duration": 9,
    "start_time": "2022-01-28T21:34:28.293Z"
   },
   {
    "duration": 4,
    "start_time": "2022-01-28T21:34:28.304Z"
   },
   {
    "duration": 63,
    "start_time": "2022-01-28T21:34:28.310Z"
   },
   {
    "duration": 20,
    "start_time": "2022-01-28T21:34:28.376Z"
   },
   {
    "duration": 13,
    "start_time": "2022-01-28T21:34:28.398Z"
   },
   {
    "duration": 24,
    "start_time": "2022-01-28T21:34:28.412Z"
   },
   {
    "duration": 28,
    "start_time": "2022-01-28T21:34:28.437Z"
   },
   {
    "duration": 10,
    "start_time": "2022-01-28T21:34:28.466Z"
   },
   {
    "duration": 4,
    "start_time": "2022-01-28T21:34:28.477Z"
   },
   {
    "duration": 12,
    "start_time": "2022-01-28T21:34:28.482Z"
   },
   {
    "duration": 20,
    "start_time": "2022-01-28T21:34:28.496Z"
   },
   {
    "duration": 48,
    "start_time": "2022-01-28T21:34:28.517Z"
   },
   {
    "duration": 25,
    "start_time": "2022-01-28T21:34:28.566Z"
   },
   {
    "duration": 29,
    "start_time": "2022-01-28T21:35:05.787Z"
   },
   {
    "duration": 46,
    "start_time": "2022-01-28T21:35:31.439Z"
   },
   {
    "duration": 7,
    "start_time": "2022-01-28T21:35:34.247Z"
   },
   {
    "duration": 90,
    "start_time": "2022-01-28T21:35:52.566Z"
   },
   {
    "duration": 104,
    "start_time": "2022-01-28T21:37:14.327Z"
   },
   {
    "duration": 4,
    "start_time": "2022-01-28T21:37:26.461Z"
   },
   {
    "duration": 1997,
    "start_time": "2022-01-28T21:37:31.676Z"
   },
   {
    "duration": 653,
    "start_time": "2022-01-28T21:37:50.116Z"
   },
   {
    "duration": 11,
    "start_time": "2022-01-28T21:37:50.771Z"
   },
   {
    "duration": 7,
    "start_time": "2022-01-28T21:37:50.784Z"
   },
   {
    "duration": 9,
    "start_time": "2022-01-28T21:37:50.793Z"
   },
   {
    "duration": 9,
    "start_time": "2022-01-28T21:37:50.804Z"
   },
   {
    "duration": 52,
    "start_time": "2022-01-28T21:37:50.814Z"
   },
   {
    "duration": 9,
    "start_time": "2022-01-28T21:37:50.868Z"
   },
   {
    "duration": 7,
    "start_time": "2022-01-28T21:37:50.880Z"
   },
   {
    "duration": 7,
    "start_time": "2022-01-28T21:37:50.890Z"
   },
   {
    "duration": 6,
    "start_time": "2022-01-28T21:37:50.899Z"
   },
   {
    "duration": 58,
    "start_time": "2022-01-28T21:37:50.907Z"
   },
   {
    "duration": 8,
    "start_time": "2022-01-28T21:37:50.968Z"
   },
   {
    "duration": 10,
    "start_time": "2022-01-28T21:37:50.978Z"
   },
   {
    "duration": 10,
    "start_time": "2022-01-28T21:37:50.990Z"
   },
   {
    "duration": 8,
    "start_time": "2022-01-28T21:37:51.002Z"
   },
   {
    "duration": 59,
    "start_time": "2022-01-28T21:37:51.012Z"
   },
   {
    "duration": 9,
    "start_time": "2022-01-28T21:37:51.074Z"
   },
   {
    "duration": 7,
    "start_time": "2022-01-28T21:37:51.086Z"
   },
   {
    "duration": 10,
    "start_time": "2022-01-28T21:37:51.095Z"
   },
   {
    "duration": 10,
    "start_time": "2022-01-28T21:37:51.107Z"
   },
   {
    "duration": 43,
    "start_time": "2022-01-28T21:37:51.119Z"
   },
   {
    "duration": 31,
    "start_time": "2022-01-28T21:37:51.165Z"
   },
   {
    "duration": 27,
    "start_time": "2022-01-28T21:37:51.200Z"
   },
   {
    "duration": 46,
    "start_time": "2022-01-28T21:37:51.230Z"
   },
   {
    "duration": 22,
    "start_time": "2022-01-28T21:37:51.279Z"
   },
   {
    "duration": 18,
    "start_time": "2022-01-28T21:37:51.303Z"
   },
   {
    "duration": 24,
    "start_time": "2022-01-28T21:37:51.324Z"
   },
   {
    "duration": 4,
    "start_time": "2022-01-28T21:37:51.361Z"
   },
   {
    "duration": 32,
    "start_time": "2022-01-28T21:37:51.368Z"
   },
   {
    "duration": 43,
    "start_time": "2022-01-28T21:37:51.403Z"
   },
   {
    "duration": 13,
    "start_time": "2022-01-28T21:37:51.447Z"
   },
   {
    "duration": 55,
    "start_time": "2022-01-28T21:37:51.462Z"
   },
   {
    "duration": 30,
    "start_time": "2022-01-28T21:37:51.519Z"
   },
   {
    "duration": 25,
    "start_time": "2022-01-28T21:37:51.551Z"
   },
   {
    "duration": 31,
    "start_time": "2022-01-28T21:37:51.578Z"
   },
   {
    "duration": 34,
    "start_time": "2022-01-28T21:37:51.611Z"
   },
   {
    "duration": 44,
    "start_time": "2022-01-28T21:37:51.647Z"
   },
   {
    "duration": 33,
    "start_time": "2022-01-28T21:37:51.693Z"
   },
   {
    "duration": 7,
    "start_time": "2022-01-28T21:37:51.728Z"
   },
   {
    "duration": 42,
    "start_time": "2022-01-28T21:37:51.737Z"
   },
   {
    "duration": 14,
    "start_time": "2022-01-28T21:37:51.781Z"
   },
   {
    "duration": 8063,
    "start_time": "2022-01-28T21:37:51.797Z"
   },
   {
    "duration": 6835,
    "start_time": "2022-01-28T21:38:48.474Z"
   },
   {
    "duration": 705,
    "start_time": "2022-01-28T21:42:08.360Z"
   },
   {
    "duration": 10,
    "start_time": "2022-01-28T21:42:09.067Z"
   },
   {
    "duration": 21,
    "start_time": "2022-01-28T21:42:09.079Z"
   },
   {
    "duration": 28,
    "start_time": "2022-01-28T21:42:09.102Z"
   },
   {
    "duration": 25,
    "start_time": "2022-01-28T21:42:09.132Z"
   },
   {
    "duration": 25,
    "start_time": "2022-01-28T21:42:09.159Z"
   },
   {
    "duration": 25,
    "start_time": "2022-01-28T21:42:09.185Z"
   },
   {
    "duration": 28,
    "start_time": "2022-01-28T21:42:09.212Z"
   },
   {
    "duration": 34,
    "start_time": "2022-01-28T21:42:09.242Z"
   },
   {
    "duration": 33,
    "start_time": "2022-01-28T21:42:09.278Z"
   },
   {
    "duration": 27,
    "start_time": "2022-01-28T21:42:09.313Z"
   },
   {
    "duration": 35,
    "start_time": "2022-01-28T21:42:09.341Z"
   },
   {
    "duration": 52,
    "start_time": "2022-01-28T21:42:09.377Z"
   },
   {
    "duration": 38,
    "start_time": "2022-01-28T21:42:09.430Z"
   },
   {
    "duration": 33,
    "start_time": "2022-01-28T21:42:09.469Z"
   },
   {
    "duration": 38,
    "start_time": "2022-01-28T21:42:09.504Z"
   },
   {
    "duration": 40,
    "start_time": "2022-01-28T21:42:09.543Z"
   },
   {
    "duration": 38,
    "start_time": "2022-01-28T21:42:09.585Z"
   },
   {
    "duration": 40,
    "start_time": "2022-01-28T21:42:09.625Z"
   },
   {
    "duration": 31,
    "start_time": "2022-01-28T21:42:09.666Z"
   },
   {
    "duration": 29,
    "start_time": "2022-01-28T21:42:09.699Z"
   },
   {
    "duration": 51,
    "start_time": "2022-01-28T21:42:09.730Z"
   },
   {
    "duration": 24,
    "start_time": "2022-01-28T21:42:09.784Z"
   },
   {
    "duration": 25,
    "start_time": "2022-01-28T21:42:09.810Z"
   },
   {
    "duration": 31,
    "start_time": "2022-01-28T21:42:09.837Z"
   },
   {
    "duration": 20,
    "start_time": "2022-01-28T21:42:09.870Z"
   },
   {
    "duration": 35,
    "start_time": "2022-01-28T21:42:09.892Z"
   },
   {
    "duration": 24,
    "start_time": "2022-01-28T21:42:09.928Z"
   },
   {
    "duration": 38,
    "start_time": "2022-01-28T21:42:09.954Z"
   },
   {
    "duration": 48,
    "start_time": "2022-01-28T21:42:09.994Z"
   },
   {
    "duration": 42,
    "start_time": "2022-01-28T21:42:10.044Z"
   },
   {
    "duration": 60,
    "start_time": "2022-01-28T21:42:10.088Z"
   },
   {
    "duration": 53,
    "start_time": "2022-01-28T21:42:10.150Z"
   },
   {
    "duration": 24,
    "start_time": "2022-01-28T21:42:10.205Z"
   },
   {
    "duration": 46,
    "start_time": "2022-01-28T21:42:10.231Z"
   },
   {
    "duration": 56,
    "start_time": "2022-01-28T21:42:10.279Z"
   },
   {
    "duration": 62,
    "start_time": "2022-01-28T21:42:10.337Z"
   },
   {
    "duration": 32,
    "start_time": "2022-01-28T21:42:10.401Z"
   },
   {
    "duration": 28,
    "start_time": "2022-01-28T21:42:10.435Z"
   },
   {
    "duration": 16,
    "start_time": "2022-01-28T21:42:10.464Z"
   },
   {
    "duration": 39,
    "start_time": "2022-01-28T21:42:10.482Z"
   },
   {
    "duration": 7175,
    "start_time": "2022-01-28T21:42:10.522Z"
   },
   {
    "duration": 11,
    "start_time": "2022-01-28T21:42:17.699Z"
   },
   {
    "duration": 9,
    "start_time": "2022-01-28T21:42:17.711Z"
   },
   {
    "duration": 48,
    "start_time": "2022-01-28T21:42:17.722Z"
   },
   {
    "duration": 11,
    "start_time": "2022-01-28T21:42:17.772Z"
   },
   {
    "duration": 19,
    "start_time": "2022-01-28T21:42:17.784Z"
   },
   {
    "duration": 23,
    "start_time": "2022-01-28T21:42:17.805Z"
   },
   {
    "duration": 17,
    "start_time": "2022-01-28T21:42:17.861Z"
   },
   {
    "duration": 19,
    "start_time": "2022-01-28T21:42:17.880Z"
   },
   {
    "duration": 13,
    "start_time": "2022-01-28T21:42:17.901Z"
   },
   {
    "duration": 58,
    "start_time": "2022-01-28T21:42:17.916Z"
   },
   {
    "duration": 6,
    "start_time": "2022-01-28T21:42:17.976Z"
   },
   {
    "duration": 10,
    "start_time": "2022-01-28T21:42:17.984Z"
   },
   {
    "duration": 9,
    "start_time": "2022-01-28T21:42:17.995Z"
   },
   {
    "duration": 8,
    "start_time": "2022-01-28T21:42:18.005Z"
   },
   {
    "duration": 13,
    "start_time": "2022-01-28T21:42:18.014Z"
   },
   {
    "duration": 42,
    "start_time": "2022-01-28T21:42:18.028Z"
   },
   {
    "duration": 7,
    "start_time": "2022-01-28T21:42:18.072Z"
   },
   {
    "duration": 26,
    "start_time": "2022-01-28T21:42:18.080Z"
   },
   {
    "duration": 684,
    "start_time": "2022-02-06T14:31:40.100Z"
   },
   {
    "duration": 11,
    "start_time": "2022-02-06T14:31:40.786Z"
   },
   {
    "duration": 6,
    "start_time": "2022-02-06T14:31:40.802Z"
   },
   {
    "duration": 16,
    "start_time": "2022-02-06T14:31:40.810Z"
   },
   {
    "duration": 8,
    "start_time": "2022-02-06T14:31:40.828Z"
   },
   {
    "duration": 17,
    "start_time": "2022-02-06T14:31:40.837Z"
   },
   {
    "duration": 12,
    "start_time": "2022-02-06T14:31:40.857Z"
   },
   {
    "duration": 11,
    "start_time": "2022-02-06T14:31:40.871Z"
   },
   {
    "duration": 9,
    "start_time": "2022-02-06T14:31:40.899Z"
   },
   {
    "duration": 9,
    "start_time": "2022-02-06T14:31:40.910Z"
   },
   {
    "duration": 12,
    "start_time": "2022-02-06T14:31:40.921Z"
   },
   {
    "duration": 9,
    "start_time": "2022-02-06T14:31:40.935Z"
   },
   {
    "duration": 9,
    "start_time": "2022-02-06T14:31:40.946Z"
   },
   {
    "duration": 13,
    "start_time": "2022-02-06T14:31:40.957Z"
   },
   {
    "duration": 7,
    "start_time": "2022-02-06T14:31:40.999Z"
   },
   {
    "duration": 17,
    "start_time": "2022-02-06T14:31:41.008Z"
   },
   {
    "duration": 13,
    "start_time": "2022-02-06T14:31:41.027Z"
   },
   {
    "duration": 6,
    "start_time": "2022-02-06T14:31:41.042Z"
   },
   {
    "duration": 7,
    "start_time": "2022-02-06T14:31:41.051Z"
   },
   {
    "duration": 39,
    "start_time": "2022-02-06T14:31:41.060Z"
   },
   {
    "duration": 6,
    "start_time": "2022-02-06T14:31:41.102Z"
   },
   {
    "duration": 21,
    "start_time": "2022-02-06T14:31:41.113Z"
   },
   {
    "duration": 23,
    "start_time": "2022-02-06T14:31:41.137Z"
   },
   {
    "duration": 46,
    "start_time": "2022-02-06T14:31:41.162Z"
   },
   {
    "duration": 19,
    "start_time": "2022-02-06T14:31:41.210Z"
   },
   {
    "duration": 7,
    "start_time": "2022-02-06T14:31:41.231Z"
   },
   {
    "duration": 16,
    "start_time": "2022-02-06T14:31:41.239Z"
   },
   {
    "duration": 3,
    "start_time": "2022-02-06T14:31:41.257Z"
   },
   {
    "duration": 38,
    "start_time": "2022-02-06T14:31:41.262Z"
   },
   {
    "duration": 22,
    "start_time": "2022-02-06T14:31:41.302Z"
   },
   {
    "duration": 12,
    "start_time": "2022-02-06T14:31:41.326Z"
   },
   {
    "duration": 27,
    "start_time": "2022-02-06T14:31:41.340Z"
   },
   {
    "duration": 55,
    "start_time": "2022-02-06T14:31:41.369Z"
   },
   {
    "duration": 28,
    "start_time": "2022-02-06T14:31:41.426Z"
   },
   {
    "duration": 43,
    "start_time": "2022-02-06T14:31:41.456Z"
   },
   {
    "duration": 19,
    "start_time": "2022-02-06T14:31:41.501Z"
   },
   {
    "duration": 38,
    "start_time": "2022-02-06T14:31:41.522Z"
   },
   {
    "duration": 59,
    "start_time": "2022-02-06T14:31:41.561Z"
   },
   {
    "duration": 5,
    "start_time": "2022-02-06T14:31:41.621Z"
   },
   {
    "duration": 4,
    "start_time": "2022-02-06T14:31:41.628Z"
   },
   {
    "duration": 6,
    "start_time": "2022-02-06T14:31:41.634Z"
   },
   {
    "duration": 7234,
    "start_time": "2022-02-06T14:31:41.642Z"
   },
   {
    "duration": 30,
    "start_time": "2022-02-06T14:31:48.878Z"
   },
   {
    "duration": 10,
    "start_time": "2022-02-06T14:31:48.910Z"
   },
   {
    "duration": 26,
    "start_time": "2022-02-06T14:31:48.921Z"
   },
   {
    "duration": 13,
    "start_time": "2022-02-06T14:31:48.949Z"
   },
   {
    "duration": 49,
    "start_time": "2022-02-06T14:31:48.964Z"
   },
   {
    "duration": 26,
    "start_time": "2022-02-06T14:31:49.014Z"
   },
   {
    "duration": 26,
    "start_time": "2022-02-06T14:31:49.041Z"
   },
   {
    "duration": 45,
    "start_time": "2022-02-06T14:31:49.070Z"
   },
   {
    "duration": 26,
    "start_time": "2022-02-06T14:31:49.117Z"
   },
   {
    "duration": 24,
    "start_time": "2022-02-06T14:31:49.146Z"
   },
   {
    "duration": 6,
    "start_time": "2022-02-06T14:31:49.172Z"
   },
   {
    "duration": 20,
    "start_time": "2022-02-06T14:31:49.181Z"
   },
   {
    "duration": 6,
    "start_time": "2022-02-06T14:31:49.203Z"
   },
   {
    "duration": 7,
    "start_time": "2022-02-06T14:31:49.211Z"
   },
   {
    "duration": 11,
    "start_time": "2022-02-06T14:31:49.220Z"
   },
   {
    "duration": 29,
    "start_time": "2022-02-06T14:31:49.233Z"
   },
   {
    "duration": 35,
    "start_time": "2022-02-06T14:31:49.264Z"
   },
   {
    "duration": 23,
    "start_time": "2022-02-06T14:31:49.301Z"
   },
   {
    "duration": 92,
    "start_time": "2022-02-10T07:17:17.366Z"
   },
   {
    "duration": 801,
    "start_time": "2022-02-10T07:20:40.292Z"
   },
   {
    "duration": 15,
    "start_time": "2022-02-10T07:20:41.095Z"
   },
   {
    "duration": 5,
    "start_time": "2022-02-10T07:20:41.113Z"
   },
   {
    "duration": 9,
    "start_time": "2022-02-10T07:20:41.120Z"
   },
   {
    "duration": 8,
    "start_time": "2022-02-10T07:20:41.131Z"
   },
   {
    "duration": 8,
    "start_time": "2022-02-10T07:20:41.141Z"
   },
   {
    "duration": 9,
    "start_time": "2022-02-10T07:20:41.150Z"
   },
   {
    "duration": 46,
    "start_time": "2022-02-10T07:20:41.162Z"
   },
   {
    "duration": 9,
    "start_time": "2022-02-10T07:20:41.210Z"
   },
   {
    "duration": 10,
    "start_time": "2022-02-10T07:20:41.221Z"
   },
   {
    "duration": 9,
    "start_time": "2022-02-10T07:20:41.233Z"
   },
   {
    "duration": 10,
    "start_time": "2022-02-10T07:20:41.244Z"
   },
   {
    "duration": 9,
    "start_time": "2022-02-10T07:20:41.256Z"
   },
   {
    "duration": 40,
    "start_time": "2022-02-10T07:20:41.267Z"
   },
   {
    "duration": 7,
    "start_time": "2022-02-10T07:20:41.309Z"
   },
   {
    "duration": 11,
    "start_time": "2022-02-10T07:20:41.318Z"
   },
   {
    "duration": 12,
    "start_time": "2022-02-10T07:20:41.331Z"
   },
   {
    "duration": 9,
    "start_time": "2022-02-10T07:20:41.345Z"
   },
   {
    "duration": 9,
    "start_time": "2022-02-10T07:20:41.356Z"
   },
   {
    "duration": 15,
    "start_time": "2022-02-10T07:20:41.367Z"
   },
   {
    "duration": 28,
    "start_time": "2022-02-10T07:20:41.383Z"
   },
   {
    "duration": 22,
    "start_time": "2022-02-10T07:20:41.413Z"
   },
   {
    "duration": 20,
    "start_time": "2022-02-10T07:20:41.439Z"
   },
   {
    "duration": 16,
    "start_time": "2022-02-10T07:20:41.461Z"
   },
   {
    "duration": 17,
    "start_time": "2022-02-10T07:20:41.508Z"
   },
   {
    "duration": 7,
    "start_time": "2022-02-10T07:20:41.527Z"
   },
   {
    "duration": 12,
    "start_time": "2022-02-10T07:20:41.536Z"
   },
   {
    "duration": 5,
    "start_time": "2022-02-10T07:20:41.550Z"
   },
   {
    "duration": 15,
    "start_time": "2022-02-10T07:20:41.557Z"
   },
   {
    "duration": 48,
    "start_time": "2022-02-10T07:20:41.574Z"
   },
   {
    "duration": 14,
    "start_time": "2022-02-10T07:20:41.624Z"
   },
   {
    "duration": 28,
    "start_time": "2022-02-10T07:20:41.641Z"
   },
   {
    "duration": 59,
    "start_time": "2022-02-10T07:20:41.671Z"
   },
   {
    "duration": 25,
    "start_time": "2022-02-10T07:20:41.732Z"
   },
   {
    "duration": 16,
    "start_time": "2022-02-10T07:20:41.759Z"
   },
   {
    "duration": 41,
    "start_time": "2022-02-10T07:20:41.777Z"
   },
   {
    "duration": 22,
    "start_time": "2022-02-10T07:20:41.820Z"
   },
   {
    "duration": 19,
    "start_time": "2022-02-10T07:20:41.844Z"
   },
   {
    "duration": 66,
    "start_time": "2022-02-10T07:20:41.865Z"
   },
   {
    "duration": 676,
    "start_time": "2022-02-10T07:22:50.323Z"
   },
   {
    "duration": 12,
    "start_time": "2022-02-10T07:22:51.002Z"
   },
   {
    "duration": 6,
    "start_time": "2022-02-10T07:22:51.017Z"
   },
   {
    "duration": 8,
    "start_time": "2022-02-10T07:22:51.025Z"
   },
   {
    "duration": 10,
    "start_time": "2022-02-10T07:22:51.036Z"
   },
   {
    "duration": 8,
    "start_time": "2022-02-10T07:22:51.048Z"
   },
   {
    "duration": 10,
    "start_time": "2022-02-10T07:22:51.058Z"
   },
   {
    "duration": 7,
    "start_time": "2022-02-10T07:22:51.110Z"
   },
   {
    "duration": 14,
    "start_time": "2022-02-10T07:22:51.120Z"
   },
   {
    "duration": 9,
    "start_time": "2022-02-10T07:22:51.136Z"
   },
   {
    "duration": 11,
    "start_time": "2022-02-10T07:22:51.148Z"
   },
   {
    "duration": 15,
    "start_time": "2022-02-10T07:22:51.161Z"
   },
   {
    "duration": 31,
    "start_time": "2022-02-10T07:22:51.178Z"
   },
   {
    "duration": 9,
    "start_time": "2022-02-10T07:22:51.211Z"
   },
   {
    "duration": 14,
    "start_time": "2022-02-10T07:22:51.222Z"
   },
   {
    "duration": 28,
    "start_time": "2022-02-10T07:22:51.238Z"
   },
   {
    "duration": 14,
    "start_time": "2022-02-10T07:22:51.268Z"
   },
   {
    "duration": 22,
    "start_time": "2022-02-10T07:22:51.284Z"
   },
   {
    "duration": 17,
    "start_time": "2022-02-10T07:22:51.308Z"
   },
   {
    "duration": 27,
    "start_time": "2022-02-10T07:22:51.326Z"
   },
   {
    "duration": 7,
    "start_time": "2022-02-10T07:22:51.355Z"
   },
   {
    "duration": 27,
    "start_time": "2022-02-10T07:22:51.363Z"
   },
   {
    "duration": 20,
    "start_time": "2022-02-10T07:22:51.394Z"
   },
   {
    "duration": 16,
    "start_time": "2022-02-10T07:22:51.417Z"
   },
   {
    "duration": 21,
    "start_time": "2022-02-10T07:22:51.435Z"
   },
   {
    "duration": 7,
    "start_time": "2022-02-10T07:22:51.458Z"
   },
   {
    "duration": 15,
    "start_time": "2022-02-10T07:22:51.467Z"
   },
   {
    "duration": 4,
    "start_time": "2022-02-10T07:22:51.508Z"
   },
   {
    "duration": 15,
    "start_time": "2022-02-10T07:22:51.514Z"
   },
   {
    "duration": 22,
    "start_time": "2022-02-10T07:22:51.531Z"
   },
   {
    "duration": 14,
    "start_time": "2022-02-10T07:22:51.556Z"
   },
   {
    "duration": 52,
    "start_time": "2022-02-10T07:22:51.572Z"
   },
   {
    "duration": 29,
    "start_time": "2022-02-10T07:22:51.626Z"
   },
   {
    "duration": 25,
    "start_time": "2022-02-10T07:22:51.657Z"
   },
   {
    "duration": 15,
    "start_time": "2022-02-10T07:22:51.708Z"
   },
   {
    "duration": 20,
    "start_time": "2022-02-10T07:22:55.190Z"
   },
   {
    "duration": 25,
    "start_time": "2022-02-10T07:22:58.791Z"
   },
   {
    "duration": 36,
    "start_time": "2022-02-10T07:23:02.696Z"
   },
   {
    "duration": 36,
    "start_time": "2022-02-10T07:23:14.550Z"
   },
   {
    "duration": 68,
    "start_time": "2022-02-10T07:24:31.956Z"
   },
   {
    "duration": 13,
    "start_time": "2022-02-10T07:24:32.026Z"
   },
   {
    "duration": 9,
    "start_time": "2022-02-10T07:24:32.041Z"
   },
   {
    "duration": 12,
    "start_time": "2022-02-10T07:24:32.053Z"
   },
   {
    "duration": 11,
    "start_time": "2022-02-10T07:24:32.106Z"
   },
   {
    "duration": 28,
    "start_time": "2022-02-10T07:24:32.119Z"
   },
   {
    "duration": 13,
    "start_time": "2022-02-10T07:24:32.150Z"
   },
   {
    "duration": 57,
    "start_time": "2022-02-10T07:24:32.166Z"
   },
   {
    "duration": 19,
    "start_time": "2022-02-10T07:24:32.225Z"
   },
   {
    "duration": 27,
    "start_time": "2022-02-10T07:24:32.246Z"
   },
   {
    "duration": 17,
    "start_time": "2022-02-10T07:24:32.276Z"
   },
   {
    "duration": 26,
    "start_time": "2022-02-10T07:24:32.296Z"
   },
   {
    "duration": 20,
    "start_time": "2022-02-10T07:24:32.325Z"
   },
   {
    "duration": 18,
    "start_time": "2022-02-10T07:24:32.348Z"
   },
   {
    "duration": 10,
    "start_time": "2022-02-10T07:24:32.368Z"
   },
   {
    "duration": 19,
    "start_time": "2022-02-10T07:24:32.380Z"
   },
   {
    "duration": 15,
    "start_time": "2022-02-10T07:24:32.401Z"
   },
   {
    "duration": 13,
    "start_time": "2022-02-10T07:24:32.418Z"
   },
   {
    "duration": 14,
    "start_time": "2022-02-10T07:24:32.433Z"
   },
   {
    "duration": 18,
    "start_time": "2022-02-10T07:24:32.449Z"
   },
   {
    "duration": 38,
    "start_time": "2022-02-10T07:24:32.469Z"
   },
   {
    "duration": 29,
    "start_time": "2022-02-10T07:24:32.509Z"
   },
   {
    "duration": 19,
    "start_time": "2022-02-10T07:24:32.543Z"
   },
   {
    "duration": 16,
    "start_time": "2022-02-10T07:24:32.565Z"
   },
   {
    "duration": 34,
    "start_time": "2022-02-10T07:24:32.583Z"
   },
   {
    "duration": 8,
    "start_time": "2022-02-10T07:24:32.619Z"
   },
   {
    "duration": 44,
    "start_time": "2022-02-10T07:24:32.628Z"
   },
   {
    "duration": 26,
    "start_time": "2022-02-10T07:24:32.675Z"
   },
   {
    "duration": 31,
    "start_time": "2022-02-10T07:24:32.703Z"
   },
   {
    "duration": 43,
    "start_time": "2022-02-10T07:24:32.737Z"
   },
   {
    "duration": 29,
    "start_time": "2022-02-10T07:24:32.782Z"
   },
   {
    "duration": 52,
    "start_time": "2022-02-10T07:24:32.813Z"
   },
   {
    "duration": 42,
    "start_time": "2022-02-10T07:24:32.867Z"
   },
   {
    "duration": 26,
    "start_time": "2022-02-10T07:24:32.911Z"
   },
   {
    "duration": 22,
    "start_time": "2022-02-10T07:24:32.938Z"
   },
   {
    "duration": 22,
    "start_time": "2022-02-10T07:24:32.962Z"
   },
   {
    "duration": 32,
    "start_time": "2022-02-10T07:24:33.008Z"
   },
   {
    "duration": 31,
    "start_time": "2022-02-10T07:24:33.042Z"
   },
   {
    "duration": 48,
    "start_time": "2022-02-10T07:24:33.075Z"
   },
   {
    "duration": 8,
    "start_time": "2022-02-10T07:24:33.125Z"
   },
   {
    "duration": 19,
    "start_time": "2022-02-10T07:24:33.135Z"
   },
   {
    "duration": 21,
    "start_time": "2022-02-10T07:24:33.156Z"
   },
   {
    "duration": 756,
    "start_time": "2022-02-10T07:24:42.321Z"
   },
   {
    "duration": 11,
    "start_time": "2022-02-10T07:24:43.080Z"
   },
   {
    "duration": 16,
    "start_time": "2022-02-10T07:24:43.096Z"
   },
   {
    "duration": 12,
    "start_time": "2022-02-10T07:24:43.113Z"
   },
   {
    "duration": 12,
    "start_time": "2022-02-10T07:24:43.127Z"
   },
   {
    "duration": 6,
    "start_time": "2022-02-10T07:24:43.141Z"
   },
   {
    "duration": 9,
    "start_time": "2022-02-10T07:24:43.149Z"
   },
   {
    "duration": 7,
    "start_time": "2022-02-10T07:24:43.161Z"
   },
   {
    "duration": 42,
    "start_time": "2022-02-10T07:24:43.170Z"
   },
   {
    "duration": 8,
    "start_time": "2022-02-10T07:24:43.214Z"
   },
   {
    "duration": 10,
    "start_time": "2022-02-10T07:24:43.224Z"
   },
   {
    "duration": 10,
    "start_time": "2022-02-10T07:24:43.236Z"
   },
   {
    "duration": 17,
    "start_time": "2022-02-10T07:24:43.248Z"
   },
   {
    "duration": 13,
    "start_time": "2022-02-10T07:24:43.267Z"
   },
   {
    "duration": 8,
    "start_time": "2022-02-10T07:24:43.307Z"
   },
   {
    "duration": 20,
    "start_time": "2022-02-10T07:24:43.317Z"
   },
   {
    "duration": 12,
    "start_time": "2022-02-10T07:24:43.339Z"
   },
   {
    "duration": 17,
    "start_time": "2022-02-10T07:24:43.353Z"
   },
   {
    "duration": 13,
    "start_time": "2022-02-10T07:24:43.372Z"
   },
   {
    "duration": 20,
    "start_time": "2022-02-10T07:24:43.387Z"
   },
   {
    "duration": 7,
    "start_time": "2022-02-10T07:24:43.409Z"
   },
   {
    "duration": 26,
    "start_time": "2022-02-10T07:24:43.418Z"
   },
   {
    "duration": 21,
    "start_time": "2022-02-10T07:24:43.446Z"
   },
   {
    "duration": 16,
    "start_time": "2022-02-10T07:24:43.469Z"
   },
   {
    "duration": 36,
    "start_time": "2022-02-10T07:24:43.487Z"
   },
   {
    "duration": 9,
    "start_time": "2022-02-10T07:24:43.527Z"
   },
   {
    "duration": 9,
    "start_time": "2022-02-10T07:24:43.539Z"
   },
   {
    "duration": 5,
    "start_time": "2022-02-10T07:24:43.550Z"
   },
   {
    "duration": 16,
    "start_time": "2022-02-10T07:24:43.557Z"
   },
   {
    "duration": 43,
    "start_time": "2022-02-10T07:24:43.575Z"
   },
   {
    "duration": 12,
    "start_time": "2022-02-10T07:24:43.620Z"
   },
   {
    "duration": 27,
    "start_time": "2022-02-10T07:24:43.634Z"
   },
   {
    "duration": 59,
    "start_time": "2022-02-10T07:24:43.663Z"
   },
   {
    "duration": 27,
    "start_time": "2022-02-10T07:24:43.724Z"
   },
   {
    "duration": 19,
    "start_time": "2022-02-10T07:24:43.753Z"
   },
   {
    "duration": 49,
    "start_time": "2022-02-10T07:24:43.774Z"
   },
   {
    "duration": 23,
    "start_time": "2022-02-10T07:24:43.825Z"
   },
   {
    "duration": 59,
    "start_time": "2022-02-10T07:24:43.850Z"
   },
   {
    "duration": 43,
    "start_time": "2022-02-10T07:24:43.911Z"
   },
   {
    "duration": 7,
    "start_time": "2022-02-10T07:24:43.956Z"
   },
   {
    "duration": 9,
    "start_time": "2022-02-10T07:24:43.965Z"
   },
   {
    "duration": 10,
    "start_time": "2022-02-10T07:24:43.976Z"
   },
   {
    "duration": 8642,
    "start_time": "2022-02-10T07:24:43.988Z"
   },
   {
    "duration": 13,
    "start_time": "2022-02-10T07:24:52.632Z"
   },
   {
    "duration": 35,
    "start_time": "2022-02-10T07:24:52.650Z"
   },
   {
    "duration": 21,
    "start_time": "2022-02-10T07:24:52.687Z"
   },
   {
    "duration": 23,
    "start_time": "2022-02-10T07:24:57.716Z"
   },
   {
    "duration": 30,
    "start_time": "2022-02-10T07:24:59.244Z"
   },
   {
    "duration": 20,
    "start_time": "2022-02-10T07:24:59.965Z"
   },
   {
    "duration": 677,
    "start_time": "2022-02-10T07:29:48.925Z"
   },
   {
    "duration": 12,
    "start_time": "2022-02-10T07:29:49.604Z"
   },
   {
    "duration": 6,
    "start_time": "2022-02-10T07:29:49.619Z"
   },
   {
    "duration": 12,
    "start_time": "2022-02-10T07:29:49.627Z"
   },
   {
    "duration": 10,
    "start_time": "2022-02-10T07:29:49.641Z"
   },
   {
    "duration": 9,
    "start_time": "2022-02-10T07:29:49.652Z"
   },
   {
    "duration": 45,
    "start_time": "2022-02-10T07:29:49.663Z"
   },
   {
    "duration": 7,
    "start_time": "2022-02-10T07:29:49.711Z"
   },
   {
    "duration": 12,
    "start_time": "2022-02-10T07:29:49.720Z"
   },
   {
    "duration": 8,
    "start_time": "2022-02-10T07:29:49.735Z"
   },
   {
    "duration": 13,
    "start_time": "2022-02-10T07:29:49.745Z"
   },
   {
    "duration": 16,
    "start_time": "2022-02-10T07:29:49.760Z"
   },
   {
    "duration": 32,
    "start_time": "2022-02-10T07:29:49.779Z"
   },
   {
    "duration": 10,
    "start_time": "2022-02-10T07:29:49.813Z"
   },
   {
    "duration": 9,
    "start_time": "2022-02-10T07:29:49.825Z"
   },
   {
    "duration": 15,
    "start_time": "2022-02-10T07:29:49.836Z"
   },
   {
    "duration": 12,
    "start_time": "2022-02-10T07:29:49.853Z"
   },
   {
    "duration": 11,
    "start_time": "2022-02-10T07:29:49.867Z"
   },
   {
    "duration": 27,
    "start_time": "2022-02-10T07:29:49.880Z"
   },
   {
    "duration": 8,
    "start_time": "2022-02-10T07:29:49.909Z"
   },
   {
    "duration": 10,
    "start_time": "2022-02-10T07:29:49.919Z"
   },
   {
    "duration": 22,
    "start_time": "2022-02-10T07:29:49.931Z"
   },
   {
    "duration": 19,
    "start_time": "2022-02-10T07:29:49.957Z"
   },
   {
    "duration": 36,
    "start_time": "2022-02-10T07:29:49.979Z"
   },
   {
    "duration": 18,
    "start_time": "2022-02-10T07:29:50.017Z"
   },
   {
    "duration": 9,
    "start_time": "2022-02-10T07:29:50.037Z"
   },
   {
    "duration": 11,
    "start_time": "2022-02-10T07:29:50.048Z"
   },
   {
    "duration": 12,
    "start_time": "2022-02-10T07:29:50.061Z"
   },
   {
    "duration": 11,
    "start_time": "2022-02-10T07:29:50.107Z"
   },
   {
    "duration": 20,
    "start_time": "2022-02-10T07:29:50.121Z"
   },
   {
    "duration": 14,
    "start_time": "2022-02-10T07:29:50.143Z"
   },
   {
    "duration": 51,
    "start_time": "2022-02-10T07:29:50.159Z"
   },
   {
    "duration": 28,
    "start_time": "2022-02-10T07:29:50.212Z"
   },
   {
    "duration": 24,
    "start_time": "2022-02-10T07:29:50.242Z"
   },
   {
    "duration": 41,
    "start_time": "2022-02-10T07:29:50.268Z"
   },
   {
    "duration": 19,
    "start_time": "2022-02-10T07:29:50.311Z"
   },
   {
    "duration": 29,
    "start_time": "2022-02-10T07:29:50.332Z"
   },
   {
    "duration": 53,
    "start_time": "2022-02-10T07:29:50.363Z"
   },
   {
    "duration": 35,
    "start_time": "2022-02-10T07:29:50.419Z"
   },
   {
    "duration": 8,
    "start_time": "2022-02-10T07:29:50.456Z"
   },
   {
    "duration": 3,
    "start_time": "2022-02-10T07:29:50.466Z"
   },
   {
    "duration": 11,
    "start_time": "2022-02-10T07:29:50.471Z"
   },
   {
    "duration": 9407,
    "start_time": "2022-02-10T07:29:50.484Z"
   },
   {
    "duration": 27,
    "start_time": "2022-02-10T07:29:59.893Z"
   },
   {
    "duration": 11,
    "start_time": "2022-02-10T07:29:59.922Z"
   },
   {
    "duration": 16,
    "start_time": "2022-02-10T07:29:59.935Z"
   },
   {
    "duration": 21,
    "start_time": "2022-02-10T07:29:59.952Z"
   },
   {
    "duration": 30,
    "start_time": "2022-02-10T07:30:00.007Z"
   },
   {
    "duration": 25,
    "start_time": "2022-02-10T07:30:00.039Z"
   },
   {
    "duration": 6,
    "start_time": "2022-02-10T07:30:00.066Z"
   },
   {
    "duration": 28,
    "start_time": "2022-02-10T07:30:00.074Z"
   },
   {
    "duration": 21,
    "start_time": "2022-02-10T07:30:00.108Z"
   },
   {
    "duration": 37,
    "start_time": "2022-02-10T07:30:00.131Z"
   },
   {
    "duration": 674,
    "start_time": "2022-02-10T07:30:43.035Z"
   },
   {
    "duration": 12,
    "start_time": "2022-02-10T07:30:43.711Z"
   },
   {
    "duration": 13,
    "start_time": "2022-02-10T07:30:43.725Z"
   },
   {
    "duration": 12,
    "start_time": "2022-02-10T07:30:43.740Z"
   },
   {
    "duration": 21,
    "start_time": "2022-02-10T07:30:43.754Z"
   },
   {
    "duration": 17,
    "start_time": "2022-02-10T07:30:43.777Z"
   },
   {
    "duration": 25,
    "start_time": "2022-02-10T07:30:43.796Z"
   },
   {
    "duration": 20,
    "start_time": "2022-02-10T07:30:43.824Z"
   },
   {
    "duration": 17,
    "start_time": "2022-02-10T07:30:43.847Z"
   },
   {
    "duration": 33,
    "start_time": "2022-02-10T07:30:43.866Z"
   },
   {
    "duration": 28,
    "start_time": "2022-02-10T07:30:43.901Z"
   },
   {
    "duration": 38,
    "start_time": "2022-02-10T07:30:43.931Z"
   },
   {
    "duration": 21,
    "start_time": "2022-02-10T07:30:43.971Z"
   },
   {
    "duration": 17,
    "start_time": "2022-02-10T07:30:43.995Z"
   },
   {
    "duration": 18,
    "start_time": "2022-02-10T07:30:44.014Z"
   },
   {
    "duration": 20,
    "start_time": "2022-02-10T07:30:44.034Z"
   },
   {
    "duration": 24,
    "start_time": "2022-02-10T07:30:44.056Z"
   },
   {
    "duration": 14,
    "start_time": "2022-02-10T07:30:44.082Z"
   },
   {
    "duration": 15,
    "start_time": "2022-02-10T07:30:44.098Z"
   },
   {
    "duration": 24,
    "start_time": "2022-02-10T07:30:44.115Z"
   },
   {
    "duration": 22,
    "start_time": "2022-02-10T07:30:44.141Z"
   },
   {
    "duration": 22,
    "start_time": "2022-02-10T07:30:44.165Z"
   },
   {
    "duration": 23,
    "start_time": "2022-02-10T07:30:44.190Z"
   },
   {
    "duration": 15,
    "start_time": "2022-02-10T07:30:44.216Z"
   },
   {
    "duration": 33,
    "start_time": "2022-02-10T07:30:44.233Z"
   },
   {
    "duration": 7,
    "start_time": "2022-02-10T07:30:44.268Z"
   },
   {
    "duration": 42,
    "start_time": "2022-02-10T07:30:44.276Z"
   },
   {
    "duration": 15,
    "start_time": "2022-02-10T07:30:44.320Z"
   },
   {
    "duration": 33,
    "start_time": "2022-02-10T07:30:44.337Z"
   },
   {
    "duration": 30,
    "start_time": "2022-02-10T07:30:44.372Z"
   },
   {
    "duration": 12,
    "start_time": "2022-02-10T07:30:44.404Z"
   },
   {
    "duration": 45,
    "start_time": "2022-02-10T07:30:44.418Z"
   },
   {
    "duration": 37,
    "start_time": "2022-02-10T07:30:44.465Z"
   },
   {
    "duration": 26,
    "start_time": "2022-02-10T07:30:44.504Z"
   },
   {
    "duration": 30,
    "start_time": "2022-02-10T07:30:44.532Z"
   },
   {
    "duration": 19,
    "start_time": "2022-02-10T07:30:44.564Z"
   },
   {
    "duration": 37,
    "start_time": "2022-02-10T07:30:44.585Z"
   },
   {
    "duration": 41,
    "start_time": "2022-02-10T07:30:44.623Z"
   },
   {
    "duration": 42,
    "start_time": "2022-02-10T07:30:44.666Z"
   },
   {
    "duration": 14,
    "start_time": "2022-02-10T07:30:44.710Z"
   },
   {
    "duration": 15,
    "start_time": "2022-02-10T07:30:44.726Z"
   },
   {
    "duration": 14,
    "start_time": "2022-02-10T07:30:44.743Z"
   },
   {
    "duration": 9003,
    "start_time": "2022-02-10T07:30:44.759Z"
   },
   {
    "duration": 13,
    "start_time": "2022-02-10T07:30:53.764Z"
   },
   {
    "duration": 29,
    "start_time": "2022-02-10T07:30:53.779Z"
   },
   {
    "duration": 12,
    "start_time": "2022-02-10T07:30:53.810Z"
   },
   {
    "duration": 21,
    "start_time": "2022-02-10T07:30:53.824Z"
   },
   {
    "duration": 27,
    "start_time": "2022-02-10T07:30:53.847Z"
   },
   {
    "duration": 47,
    "start_time": "2022-02-10T07:30:53.876Z"
   },
   {
    "duration": 6,
    "start_time": "2022-02-10T07:30:53.925Z"
   },
   {
    "duration": 8,
    "start_time": "2022-02-10T07:30:53.933Z"
   },
   {
    "duration": 10,
    "start_time": "2022-02-10T07:30:53.943Z"
   },
   {
    "duration": 4,
    "start_time": "2022-02-10T07:31:25.213Z"
   },
   {
    "duration": 661,
    "start_time": "2022-02-10T07:31:35.141Z"
   },
   {
    "duration": 11,
    "start_time": "2022-02-10T07:31:35.805Z"
   },
   {
    "duration": 6,
    "start_time": "2022-02-10T07:31:35.819Z"
   },
   {
    "duration": 16,
    "start_time": "2022-02-10T07:31:35.827Z"
   },
   {
    "duration": 10,
    "start_time": "2022-02-10T07:31:35.845Z"
   },
   {
    "duration": 10,
    "start_time": "2022-02-10T07:31:35.856Z"
   },
   {
    "duration": 8,
    "start_time": "2022-02-10T07:31:35.868Z"
   },
   {
    "duration": 6,
    "start_time": "2022-02-10T07:31:35.908Z"
   },
   {
    "duration": 10,
    "start_time": "2022-02-10T07:31:35.916Z"
   },
   {
    "duration": 9,
    "start_time": "2022-02-10T07:31:35.928Z"
   },
   {
    "duration": 12,
    "start_time": "2022-02-10T07:31:35.939Z"
   },
   {
    "duration": 16,
    "start_time": "2022-02-10T07:31:35.953Z"
   },
   {
    "duration": 39,
    "start_time": "2022-02-10T07:31:35.972Z"
   },
   {
    "duration": 15,
    "start_time": "2022-02-10T07:31:36.013Z"
   },
   {
    "duration": 9,
    "start_time": "2022-02-10T07:31:36.030Z"
   },
   {
    "duration": 14,
    "start_time": "2022-02-10T07:31:36.041Z"
   },
   {
    "duration": 11,
    "start_time": "2022-02-10T07:31:36.057Z"
   },
   {
    "duration": 12,
    "start_time": "2022-02-10T07:31:36.070Z"
   },
   {
    "duration": 37,
    "start_time": "2022-02-10T07:31:36.084Z"
   },
   {
    "duration": 11,
    "start_time": "2022-02-10T07:31:36.123Z"
   },
   {
    "duration": 8,
    "start_time": "2022-02-10T07:31:36.137Z"
   },
   {
    "duration": 27,
    "start_time": "2022-02-10T07:31:36.146Z"
   },
   {
    "duration": 33,
    "start_time": "2022-02-10T07:31:36.177Z"
   },
   {
    "duration": 16,
    "start_time": "2022-02-10T07:31:36.213Z"
   },
   {
    "duration": 26,
    "start_time": "2022-02-10T07:31:36.231Z"
   },
   {
    "duration": 7,
    "start_time": "2022-02-10T07:31:36.259Z"
   },
   {
    "duration": 13,
    "start_time": "2022-02-10T07:31:36.269Z"
   },
   {
    "duration": 3,
    "start_time": "2022-02-10T07:31:36.308Z"
   },
   {
    "duration": 14,
    "start_time": "2022-02-10T07:31:36.313Z"
   },
   {
    "duration": 24,
    "start_time": "2022-02-10T07:31:36.330Z"
   },
   {
    "duration": 12,
    "start_time": "2022-02-10T07:31:36.356Z"
   },
   {
    "duration": 48,
    "start_time": "2022-02-10T07:31:36.369Z"
   },
   {
    "duration": 29,
    "start_time": "2022-02-10T07:31:36.419Z"
   },
   {
    "duration": 29,
    "start_time": "2022-02-10T07:31:36.450Z"
   },
   {
    "duration": 15,
    "start_time": "2022-02-10T07:31:36.507Z"
   },
   {
    "duration": 34,
    "start_time": "2022-02-10T07:31:36.524Z"
   },
   {
    "duration": 28,
    "start_time": "2022-02-10T07:31:36.560Z"
   },
   {
    "duration": 36,
    "start_time": "2022-02-10T07:31:36.590Z"
   },
   {
    "duration": 34,
    "start_time": "2022-02-10T07:31:36.628Z"
   },
   {
    "duration": 8,
    "start_time": "2022-02-10T07:31:36.664Z"
   },
   {
    "duration": 4,
    "start_time": "2022-02-10T07:31:36.674Z"
   },
   {
    "duration": 29,
    "start_time": "2022-02-10T07:31:36.680Z"
   },
   {
    "duration": 7928,
    "start_time": "2022-02-10T07:31:36.711Z"
   },
   {
    "duration": 13,
    "start_time": "2022-02-10T07:31:44.641Z"
   },
   {
    "duration": 13,
    "start_time": "2022-02-10T07:31:44.656Z"
   },
   {
    "duration": 20,
    "start_time": "2022-02-10T07:31:44.670Z"
   },
   {
    "duration": 23,
    "start_time": "2022-02-10T07:31:44.708Z"
   },
   {
    "duration": 32,
    "start_time": "2022-02-10T07:31:44.732Z"
   },
   {
    "duration": 45,
    "start_time": "2022-02-10T07:31:44.766Z"
   },
   {
    "duration": 10,
    "start_time": "2022-02-10T07:31:44.813Z"
   },
   {
    "duration": 10,
    "start_time": "2022-02-10T07:31:44.825Z"
   },
   {
    "duration": 5,
    "start_time": "2022-02-10T07:31:44.837Z"
   },
   {
    "duration": 4,
    "start_time": "2022-02-10T07:31:55.736Z"
   },
   {
    "duration": 14,
    "start_time": "2022-02-10T07:31:57.411Z"
   },
   {
    "duration": 7,
    "start_time": "2022-02-10T07:33:04.889Z"
   },
   {
    "duration": 7,
    "start_time": "2022-02-10T07:33:32.318Z"
   },
   {
    "duration": 7,
    "start_time": "2022-02-10T07:33:37.916Z"
   },
   {
    "duration": 7,
    "start_time": "2022-02-10T07:33:51.957Z"
   },
   {
    "duration": 8,
    "start_time": "2022-02-10T07:35:43.316Z"
   },
   {
    "duration": 362,
    "start_time": "2022-02-10T07:40:37.101Z"
   },
   {
    "duration": 10,
    "start_time": "2022-02-10T07:40:50.753Z"
   },
   {
    "duration": 13,
    "start_time": "2022-02-10T07:41:28.913Z"
   },
   {
    "duration": 9,
    "start_time": "2022-02-10T07:42:29.087Z"
   },
   {
    "duration": 759,
    "start_time": "2022-02-10T07:42:36.678Z"
   },
   {
    "duration": 14,
    "start_time": "2022-02-10T07:42:37.440Z"
   },
   {
    "duration": 8,
    "start_time": "2022-02-10T07:42:37.457Z"
   },
   {
    "duration": 12,
    "start_time": "2022-02-10T07:42:37.467Z"
   },
   {
    "duration": 34,
    "start_time": "2022-02-10T07:42:37.481Z"
   },
   {
    "duration": 16,
    "start_time": "2022-02-10T07:42:37.518Z"
   },
   {
    "duration": 25,
    "start_time": "2022-02-10T07:42:37.536Z"
   },
   {
    "duration": 9,
    "start_time": "2022-02-10T07:42:37.564Z"
   },
   {
    "duration": 10,
    "start_time": "2022-02-10T07:42:37.575Z"
   },
   {
    "duration": 25,
    "start_time": "2022-02-10T07:42:37.587Z"
   },
   {
    "duration": 14,
    "start_time": "2022-02-10T07:42:37.614Z"
   },
   {
    "duration": 16,
    "start_time": "2022-02-10T07:42:37.631Z"
   },
   {
    "duration": 13,
    "start_time": "2022-02-10T07:42:37.649Z"
   },
   {
    "duration": 13,
    "start_time": "2022-02-10T07:42:37.664Z"
   },
   {
    "duration": 29,
    "start_time": "2022-02-10T07:42:37.679Z"
   },
   {
    "duration": 12,
    "start_time": "2022-02-10T07:42:37.711Z"
   },
   {
    "duration": 17,
    "start_time": "2022-02-10T07:42:37.725Z"
   },
   {
    "duration": 12,
    "start_time": "2022-02-10T07:42:37.744Z"
   },
   {
    "duration": 14,
    "start_time": "2022-02-10T07:42:37.757Z"
   },
   {
    "duration": 16,
    "start_time": "2022-02-10T07:42:37.772Z"
   },
   {
    "duration": 18,
    "start_time": "2022-02-10T07:42:37.791Z"
   },
   {
    "duration": 19,
    "start_time": "2022-02-10T07:42:37.812Z"
   },
   {
    "duration": 20,
    "start_time": "2022-02-10T07:42:37.834Z"
   },
   {
    "duration": 15,
    "start_time": "2022-02-10T07:42:37.857Z"
   },
   {
    "duration": 22,
    "start_time": "2022-02-10T07:42:37.907Z"
   },
   {
    "duration": 7,
    "start_time": "2022-02-10T07:42:37.930Z"
   },
   {
    "duration": 9,
    "start_time": "2022-02-10T07:42:37.939Z"
   },
   {
    "duration": 8,
    "start_time": "2022-02-10T07:42:37.950Z"
   },
   {
    "duration": 15,
    "start_time": "2022-02-10T07:42:37.960Z"
   },
   {
    "duration": 48,
    "start_time": "2022-02-10T07:42:37.976Z"
   },
   {
    "duration": 13,
    "start_time": "2022-02-10T07:42:38.026Z"
   },
   {
    "duration": 28,
    "start_time": "2022-02-10T07:42:38.041Z"
   },
   {
    "duration": 61,
    "start_time": "2022-02-10T07:42:38.072Z"
   },
   {
    "duration": 26,
    "start_time": "2022-02-10T07:42:38.135Z"
   },
   {
    "duration": 23,
    "start_time": "2022-02-10T07:42:38.163Z"
   },
   {
    "duration": 39,
    "start_time": "2022-02-10T07:42:38.188Z"
   },
   {
    "duration": 43,
    "start_time": "2022-02-10T07:42:38.230Z"
   },
   {
    "duration": 39,
    "start_time": "2022-02-10T07:42:38.275Z"
   },
   {
    "duration": 40,
    "start_time": "2022-02-10T07:42:38.317Z"
   },
   {
    "duration": 8,
    "start_time": "2022-02-10T07:42:38.359Z"
   },
   {
    "duration": 14,
    "start_time": "2022-02-10T07:42:38.369Z"
   },
   {
    "duration": 25,
    "start_time": "2022-02-10T07:42:38.385Z"
   },
   {
    "duration": 8599,
    "start_time": "2022-02-10T07:42:38.413Z"
   },
   {
    "duration": 16,
    "start_time": "2022-02-10T07:42:47.015Z"
   },
   {
    "duration": 32,
    "start_time": "2022-02-10T07:42:47.032Z"
   },
   {
    "duration": 39,
    "start_time": "2022-02-10T07:42:47.066Z"
   },
   {
    "duration": 46,
    "start_time": "2022-02-10T07:42:47.108Z"
   },
   {
    "duration": 32,
    "start_time": "2022-02-10T07:42:47.156Z"
   },
   {
    "duration": 27,
    "start_time": "2022-02-10T07:42:47.191Z"
   },
   {
    "duration": 18,
    "start_time": "2022-02-10T07:42:47.221Z"
   },
   {
    "duration": 7,
    "start_time": "2022-02-10T07:42:47.241Z"
   },
   {
    "duration": 8,
    "start_time": "2022-02-10T07:42:47.250Z"
   },
   {
    "duration": 16,
    "start_time": "2022-02-10T07:42:47.261Z"
   },
   {
    "duration": 8,
    "start_time": "2022-02-10T07:42:47.279Z"
   },
   {
    "duration": 13,
    "start_time": "2022-02-10T07:42:50.535Z"
   },
   {
    "duration": 3,
    "start_time": "2022-02-10T07:48:30.892Z"
   },
   {
    "duration": 13,
    "start_time": "2022-02-10T07:49:33.363Z"
   },
   {
    "duration": 25,
    "start_time": "2022-02-10T07:49:47.914Z"
   },
   {
    "duration": 14,
    "start_time": "2022-02-10T07:50:08.172Z"
   },
   {
    "duration": 741,
    "start_time": "2022-02-10T07:54:01.420Z"
   },
   {
    "duration": 14,
    "start_time": "2022-02-10T07:54:02.163Z"
   },
   {
    "duration": 30,
    "start_time": "2022-02-10T07:54:02.179Z"
   },
   {
    "duration": 18,
    "start_time": "2022-02-10T07:54:02.211Z"
   },
   {
    "duration": 11,
    "start_time": "2022-02-10T07:54:02.231Z"
   },
   {
    "duration": 10,
    "start_time": "2022-02-10T07:54:02.244Z"
   },
   {
    "duration": 22,
    "start_time": "2022-02-10T07:54:02.256Z"
   },
   {
    "duration": 19,
    "start_time": "2022-02-10T07:54:02.282Z"
   },
   {
    "duration": 10,
    "start_time": "2022-02-10T07:54:02.308Z"
   },
   {
    "duration": 14,
    "start_time": "2022-02-10T07:54:02.320Z"
   },
   {
    "duration": 18,
    "start_time": "2022-02-10T07:54:02.336Z"
   },
   {
    "duration": 18,
    "start_time": "2022-02-10T07:54:02.356Z"
   },
   {
    "duration": 30,
    "start_time": "2022-02-10T07:54:02.376Z"
   },
   {
    "duration": 14,
    "start_time": "2022-02-10T07:54:02.408Z"
   },
   {
    "duration": 9,
    "start_time": "2022-02-10T07:54:02.424Z"
   },
   {
    "duration": 13,
    "start_time": "2022-02-10T07:54:02.435Z"
   },
   {
    "duration": 16,
    "start_time": "2022-02-10T07:54:02.450Z"
   },
   {
    "duration": 15,
    "start_time": "2022-02-10T07:54:02.468Z"
   },
   {
    "duration": 26,
    "start_time": "2022-02-10T07:54:02.485Z"
   },
   {
    "duration": 7,
    "start_time": "2022-02-10T07:54:02.513Z"
   },
   {
    "duration": 19,
    "start_time": "2022-02-10T07:54:02.522Z"
   },
   {
    "duration": 34,
    "start_time": "2022-02-10T07:54:02.543Z"
   },
   {
    "duration": 26,
    "start_time": "2022-02-10T07:54:02.581Z"
   },
   {
    "duration": 16,
    "start_time": "2022-02-10T07:54:02.610Z"
   },
   {
    "duration": 17,
    "start_time": "2022-02-10T07:54:02.629Z"
   },
   {
    "duration": 21,
    "start_time": "2022-02-10T07:54:02.648Z"
   },
   {
    "duration": 22,
    "start_time": "2022-02-10T07:54:02.670Z"
   },
   {
    "duration": 38,
    "start_time": "2022-02-10T07:54:02.694Z"
   },
   {
    "duration": 24,
    "start_time": "2022-02-10T07:54:02.734Z"
   },
   {
    "duration": 29,
    "start_time": "2022-02-10T07:54:02.760Z"
   },
   {
    "duration": 13,
    "start_time": "2022-02-10T07:54:02.791Z"
   },
   {
    "duration": 27,
    "start_time": "2022-02-10T07:54:02.806Z"
   },
   {
    "duration": 29,
    "start_time": "2022-02-10T07:54:02.835Z"
   },
   {
    "duration": 42,
    "start_time": "2022-02-10T07:54:02.865Z"
   },
   {
    "duration": 16,
    "start_time": "2022-02-10T07:54:02.909Z"
   },
   {
    "duration": 19,
    "start_time": "2022-02-10T07:54:02.927Z"
   },
   {
    "duration": 22,
    "start_time": "2022-02-10T07:54:02.948Z"
   },
   {
    "duration": 64,
    "start_time": "2022-02-10T07:54:02.972Z"
   },
   {
    "duration": 35,
    "start_time": "2022-02-10T07:54:03.038Z"
   },
   {
    "duration": 15,
    "start_time": "2022-02-10T07:54:03.075Z"
   },
   {
    "duration": 21,
    "start_time": "2022-02-10T07:54:03.092Z"
   },
   {
    "duration": 32,
    "start_time": "2022-02-10T07:54:03.115Z"
   },
   {
    "duration": 8010,
    "start_time": "2022-02-10T07:54:03.149Z"
   },
   {
    "duration": 14,
    "start_time": "2022-02-10T07:54:11.161Z"
   },
   {
    "duration": 33,
    "start_time": "2022-02-10T07:54:11.177Z"
   },
   {
    "duration": 13,
    "start_time": "2022-02-10T07:54:11.212Z"
   },
   {
    "duration": 21,
    "start_time": "2022-02-10T07:54:11.228Z"
   },
   {
    "duration": 57,
    "start_time": "2022-02-10T07:54:11.251Z"
   },
   {
    "duration": 20,
    "start_time": "2022-02-10T07:54:11.310Z"
   },
   {
    "duration": 8,
    "start_time": "2022-02-10T07:54:11.332Z"
   },
   {
    "duration": 7,
    "start_time": "2022-02-10T07:54:11.342Z"
   },
   {
    "duration": 3,
    "start_time": "2022-02-10T07:54:14.472Z"
   },
   {
    "duration": 15,
    "start_time": "2022-02-10T07:54:15.008Z"
   },
   {
    "duration": 6,
    "start_time": "2022-02-10T07:54:24.455Z"
   },
   {
    "duration": 14,
    "start_time": "2022-02-10T07:54:24.767Z"
   },
   {
    "duration": 4,
    "start_time": "2022-02-10T07:54:25.087Z"
   },
   {
    "duration": 14,
    "start_time": "2022-02-10T07:54:25.406Z"
   },
   {
    "duration": 24,
    "start_time": "2022-02-10T07:54:27.576Z"
   },
   {
    "duration": 14,
    "start_time": "2022-02-10T07:54:27.928Z"
   },
   {
    "duration": 26,
    "start_time": "2022-02-10T07:54:32.727Z"
   },
   {
    "duration": 7,
    "start_time": "2022-02-10T07:54:33.383Z"
   },
   {
    "duration": 24,
    "start_time": "2022-02-10T07:54:36.359Z"
   },
   {
    "duration": 9,
    "start_time": "2022-02-10T07:54:38.375Z"
   },
   {
    "duration": 125,
    "start_time": "2022-02-10T08:15:42.048Z"
   },
   {
    "duration": 720,
    "start_time": "2022-02-10T08:15:54.469Z"
   },
   {
    "duration": 13,
    "start_time": "2022-02-10T08:15:55.191Z"
   },
   {
    "duration": 6,
    "start_time": "2022-02-10T08:15:55.207Z"
   },
   {
    "duration": 14,
    "start_time": "2022-02-10T08:15:55.216Z"
   },
   {
    "duration": 8,
    "start_time": "2022-02-10T08:15:55.232Z"
   },
   {
    "duration": 8,
    "start_time": "2022-02-10T08:15:55.241Z"
   },
   {
    "duration": 7,
    "start_time": "2022-02-10T08:15:55.251Z"
   },
   {
    "duration": 12,
    "start_time": "2022-02-10T08:15:55.261Z"
   },
   {
    "duration": 39,
    "start_time": "2022-02-10T08:15:55.275Z"
   },
   {
    "duration": 13,
    "start_time": "2022-02-10T08:15:55.316Z"
   },
   {
    "duration": 10,
    "start_time": "2022-02-10T08:15:55.331Z"
   },
   {
    "duration": 15,
    "start_time": "2022-02-10T08:15:55.343Z"
   },
   {
    "duration": 10,
    "start_time": "2022-02-10T08:15:55.360Z"
   },
   {
    "duration": 36,
    "start_time": "2022-02-10T08:15:55.372Z"
   },
   {
    "duration": 7,
    "start_time": "2022-02-10T08:15:55.411Z"
   },
   {
    "duration": 11,
    "start_time": "2022-02-10T08:15:55.420Z"
   },
   {
    "duration": 11,
    "start_time": "2022-02-10T08:15:55.433Z"
   },
   {
    "duration": 8,
    "start_time": "2022-02-10T08:15:55.446Z"
   },
   {
    "duration": 13,
    "start_time": "2022-02-10T08:15:55.456Z"
   },
   {
    "duration": 39,
    "start_time": "2022-02-10T08:15:55.471Z"
   },
   {
    "duration": 5,
    "start_time": "2022-02-10T08:15:55.512Z"
   },
   {
    "duration": 19,
    "start_time": "2022-02-10T08:15:55.519Z"
   },
   {
    "duration": 21,
    "start_time": "2022-02-10T08:15:55.543Z"
   },
   {
    "duration": 49,
    "start_time": "2022-02-10T08:15:55.568Z"
   },
   {
    "duration": 18,
    "start_time": "2022-02-10T08:15:55.619Z"
   },
   {
    "duration": 8,
    "start_time": "2022-02-10T08:15:55.639Z"
   },
   {
    "duration": 10,
    "start_time": "2022-02-10T08:15:55.649Z"
   },
   {
    "duration": 4,
    "start_time": "2022-02-10T08:15:55.661Z"
   },
   {
    "duration": 45,
    "start_time": "2022-02-10T08:15:55.667Z"
   },
   {
    "duration": 21,
    "start_time": "2022-02-10T08:15:55.715Z"
   },
   {
    "duration": 12,
    "start_time": "2022-02-10T08:15:55.738Z"
   },
   {
    "duration": 27,
    "start_time": "2022-02-10T08:15:55.753Z"
   },
   {
    "duration": 53,
    "start_time": "2022-02-10T08:15:55.781Z"
   },
   {
    "duration": 24,
    "start_time": "2022-02-10T08:15:55.836Z"
   },
   {
    "duration": 24,
    "start_time": "2022-02-10T08:15:55.862Z"
   },
   {
    "duration": 35,
    "start_time": "2022-02-10T08:15:55.888Z"
   },
   {
    "duration": 21,
    "start_time": "2022-02-10T08:15:55.925Z"
   },
   {
    "duration": 61,
    "start_time": "2022-02-10T08:15:55.948Z"
   },
   {
    "duration": 36,
    "start_time": "2022-02-10T08:15:56.010Z"
   },
   {
    "duration": 8,
    "start_time": "2022-02-10T08:15:56.048Z"
   },
   {
    "duration": 4,
    "start_time": "2022-02-10T08:15:56.058Z"
   },
   {
    "duration": 7,
    "start_time": "2022-02-10T08:15:56.064Z"
   },
   {
    "duration": 8580,
    "start_time": "2022-02-10T08:15:56.073Z"
   },
   {
    "duration": 14,
    "start_time": "2022-02-10T08:16:04.656Z"
   },
   {
    "duration": 11,
    "start_time": "2022-02-10T08:16:04.672Z"
   },
   {
    "duration": 13,
    "start_time": "2022-02-10T08:16:04.708Z"
   },
   {
    "duration": 22,
    "start_time": "2022-02-10T08:16:04.724Z"
   },
   {
    "duration": 27,
    "start_time": "2022-02-10T08:16:04.748Z"
   },
   {
    "duration": 47,
    "start_time": "2022-02-10T08:16:04.776Z"
   },
   {
    "duration": 13,
    "start_time": "2022-02-10T08:16:04.825Z"
   },
   {
    "duration": 7,
    "start_time": "2022-02-10T08:16:04.840Z"
   },
   {
    "duration": 9,
    "start_time": "2022-02-10T08:16:04.849Z"
   },
   {
    "duration": 17,
    "start_time": "2022-02-10T08:16:04.860Z"
   },
   {
    "duration": 32,
    "start_time": "2022-02-10T08:16:04.879Z"
   },
   {
    "duration": 26,
    "start_time": "2022-02-10T08:16:04.913Z"
   },
   {
    "duration": 6,
    "start_time": "2022-02-10T08:16:04.942Z"
   },
   {
    "duration": 24,
    "start_time": "2022-02-10T08:16:04.950Z"
   },
   {
    "duration": 32,
    "start_time": "2022-02-10T08:16:04.976Z"
   },
   {
    "duration": 14,
    "start_time": "2022-02-10T08:16:05.011Z"
   },
   {
    "duration": 25,
    "start_time": "2022-02-10T08:16:05.027Z"
   },
   {
    "duration": 8,
    "start_time": "2022-02-10T08:16:05.054Z"
   },
   {
    "duration": 60,
    "start_time": "2022-02-10T08:16:05.064Z"
   },
   {
    "duration": 12,
    "start_time": "2022-02-10T08:16:05.126Z"
   },
   {
    "duration": 36,
    "start_time": "2022-02-10T08:16:05.140Z"
   },
   {
    "duration": 93,
    "start_time": "2022-02-10T08:21:16.658Z"
   },
   {
    "duration": 682,
    "start_time": "2022-02-10T16:44:39.763Z"
   },
   {
    "duration": 13,
    "start_time": "2022-02-10T16:44:40.447Z"
   },
   {
    "duration": 6,
    "start_time": "2022-02-10T16:44:40.463Z"
   },
   {
    "duration": 37,
    "start_time": "2022-02-10T16:44:40.471Z"
   },
   {
    "duration": 9,
    "start_time": "2022-02-10T16:44:40.510Z"
   },
   {
    "duration": 11,
    "start_time": "2022-02-10T16:44:40.521Z"
   },
   {
    "duration": 14,
    "start_time": "2022-02-10T16:44:40.533Z"
   },
   {
    "duration": 14,
    "start_time": "2022-02-10T16:44:40.550Z"
   },
   {
    "duration": 9,
    "start_time": "2022-02-10T16:44:40.567Z"
   },
   {
    "duration": 32,
    "start_time": "2022-02-10T16:44:40.578Z"
   },
   {
    "duration": 7,
    "start_time": "2022-02-10T16:44:40.612Z"
   },
   {
    "duration": 13,
    "start_time": "2022-02-10T16:44:40.621Z"
   },
   {
    "duration": 17,
    "start_time": "2022-02-10T16:44:40.636Z"
   },
   {
    "duration": 17,
    "start_time": "2022-02-10T16:44:40.655Z"
   },
   {
    "duration": 7,
    "start_time": "2022-02-10T16:44:40.675Z"
   },
   {
    "duration": 31,
    "start_time": "2022-02-10T16:44:40.683Z"
   },
   {
    "duration": 19,
    "start_time": "2022-02-10T16:44:40.716Z"
   },
   {
    "duration": 9,
    "start_time": "2022-02-10T16:44:40.737Z"
   },
   {
    "duration": 24,
    "start_time": "2022-02-10T16:44:40.748Z"
   },
   {
    "duration": 11,
    "start_time": "2022-02-10T16:44:40.774Z"
   },
   {
    "duration": 7,
    "start_time": "2022-02-10T16:44:40.787Z"
   },
   {
    "duration": 41,
    "start_time": "2022-02-10T16:44:40.795Z"
   },
   {
    "duration": 21,
    "start_time": "2022-02-10T16:44:40.841Z"
   },
   {
    "duration": 17,
    "start_time": "2022-02-10T16:44:40.865Z"
   },
   {
    "duration": 29,
    "start_time": "2022-02-10T16:44:40.885Z"
   },
   {
    "duration": 23,
    "start_time": "2022-02-10T16:44:40.916Z"
   },
   {
    "duration": 16,
    "start_time": "2022-02-10T16:44:40.941Z"
   },
   {
    "duration": 7,
    "start_time": "2022-02-10T16:44:40.959Z"
   },
   {
    "duration": 21,
    "start_time": "2022-02-10T16:44:40.967Z"
   },
   {
    "duration": 33,
    "start_time": "2022-02-10T16:44:40.991Z"
   },
   {
    "duration": 17,
    "start_time": "2022-02-10T16:44:41.027Z"
   },
   {
    "duration": 34,
    "start_time": "2022-02-10T16:44:41.046Z"
   },
   {
    "duration": 65,
    "start_time": "2022-02-10T16:44:41.083Z"
   },
   {
    "duration": 56,
    "start_time": "2022-02-10T16:44:41.151Z"
   },
   {
    "duration": 17,
    "start_time": "2022-02-10T16:44:41.210Z"
   },
   {
    "duration": 21,
    "start_time": "2022-02-10T16:44:41.229Z"
   },
   {
    "duration": 25,
    "start_time": "2022-02-10T16:44:41.253Z"
   },
   {
    "duration": 55,
    "start_time": "2022-02-10T16:44:41.281Z"
   },
   {
    "duration": 36,
    "start_time": "2022-02-10T16:44:41.338Z"
   },
   {
    "duration": 7,
    "start_time": "2022-02-10T16:44:41.377Z"
   },
   {
    "duration": 25,
    "start_time": "2022-02-10T16:44:41.385Z"
   },
   {
    "duration": 6,
    "start_time": "2022-02-10T16:44:41.413Z"
   },
   {
    "duration": 8065,
    "start_time": "2022-02-10T16:44:41.421Z"
   },
   {
    "duration": 27,
    "start_time": "2022-02-10T16:44:49.489Z"
   },
   {
    "duration": 12,
    "start_time": "2022-02-10T16:44:49.518Z"
   },
   {
    "duration": 14,
    "start_time": "2022-02-10T16:44:49.532Z"
   },
   {
    "duration": 59,
    "start_time": "2022-02-10T16:44:49.548Z"
   },
   {
    "duration": 28,
    "start_time": "2022-02-10T16:44:49.609Z"
   },
   {
    "duration": 19,
    "start_time": "2022-02-10T16:44:49.640Z"
   },
   {
    "duration": 11,
    "start_time": "2022-02-10T16:44:49.661Z"
   },
   {
    "duration": 35,
    "start_time": "2022-02-10T16:44:49.674Z"
   },
   {
    "duration": 9,
    "start_time": "2022-02-10T16:44:49.711Z"
   },
   {
    "duration": 23,
    "start_time": "2022-02-10T16:44:49.722Z"
   },
   {
    "duration": 10,
    "start_time": "2022-02-10T16:44:49.748Z"
   },
   {
    "duration": 13,
    "start_time": "2022-02-10T16:44:49.760Z"
   },
   {
    "duration": 2,
    "start_time": "2022-02-10T16:44:49.775Z"
   },
   {
    "duration": 35,
    "start_time": "2022-02-10T16:44:49.779Z"
   },
   {
    "duration": 26,
    "start_time": "2022-02-10T16:44:49.816Z"
   },
   {
    "duration": 14,
    "start_time": "2022-02-10T16:44:49.844Z"
   },
   {
    "duration": 49,
    "start_time": "2022-02-10T16:44:49.860Z"
   },
   {
    "duration": 7,
    "start_time": "2022-02-10T16:44:49.911Z"
   },
   {
    "duration": 27,
    "start_time": "2022-02-10T16:44:49.921Z"
   },
   {
    "duration": 9,
    "start_time": "2022-02-10T16:44:49.951Z"
   },
   {
    "duration": 51,
    "start_time": "2022-02-10T16:44:49.962Z"
   },
   {
    "duration": 723,
    "start_time": "2022-02-10T16:54:10.416Z"
   },
   {
    "duration": 14,
    "start_time": "2022-02-10T16:54:11.141Z"
   },
   {
    "duration": 11,
    "start_time": "2022-02-10T16:54:11.157Z"
   },
   {
    "duration": 37,
    "start_time": "2022-02-10T16:54:11.172Z"
   },
   {
    "duration": 10,
    "start_time": "2022-02-10T16:54:11.211Z"
   },
   {
    "duration": 11,
    "start_time": "2022-02-10T16:54:11.224Z"
   },
   {
    "duration": 9,
    "start_time": "2022-02-10T16:54:11.237Z"
   },
   {
    "duration": 7,
    "start_time": "2022-02-10T16:54:11.249Z"
   },
   {
    "duration": 8,
    "start_time": "2022-02-10T16:54:11.307Z"
   },
   {
    "duration": 12,
    "start_time": "2022-02-10T16:54:11.317Z"
   },
   {
    "duration": 14,
    "start_time": "2022-02-10T16:54:11.331Z"
   },
   {
    "duration": 19,
    "start_time": "2022-02-10T16:54:11.347Z"
   },
   {
    "duration": 40,
    "start_time": "2022-02-10T16:54:11.368Z"
   },
   {
    "duration": 10,
    "start_time": "2022-02-10T16:54:11.410Z"
   },
   {
    "duration": 7,
    "start_time": "2022-02-10T16:54:11.422Z"
   },
   {
    "duration": 18,
    "start_time": "2022-02-10T16:54:11.431Z"
   },
   {
    "duration": 18,
    "start_time": "2022-02-10T16:54:11.451Z"
   },
   {
    "duration": 36,
    "start_time": "2022-02-10T16:54:11.471Z"
   },
   {
    "duration": 7,
    "start_time": "2022-02-10T16:54:11.510Z"
   },
   {
    "duration": 9,
    "start_time": "2022-02-10T16:54:11.519Z"
   },
   {
    "duration": 8,
    "start_time": "2022-02-10T16:54:11.530Z"
   },
   {
    "duration": 30,
    "start_time": "2022-02-10T16:54:11.540Z"
   },
   {
    "duration": 46,
    "start_time": "2022-02-10T16:54:11.575Z"
   },
   {
    "duration": 15,
    "start_time": "2022-02-10T16:54:11.623Z"
   },
   {
    "duration": 25,
    "start_time": "2022-02-10T16:54:11.640Z"
   },
   {
    "duration": 8,
    "start_time": "2022-02-10T16:54:11.667Z"
   },
   {
    "duration": 36,
    "start_time": "2022-02-10T16:54:11.676Z"
   },
   {
    "duration": 4,
    "start_time": "2022-02-10T16:54:11.714Z"
   },
   {
    "duration": 13,
    "start_time": "2022-02-10T16:54:11.720Z"
   },
   {
    "duration": 23,
    "start_time": "2022-02-10T16:54:11.735Z"
   },
   {
    "duration": 13,
    "start_time": "2022-02-10T16:54:11.760Z"
   },
   {
    "duration": 29,
    "start_time": "2022-02-10T16:54:11.808Z"
   },
   {
    "duration": 32,
    "start_time": "2022-02-10T16:54:11.839Z"
   },
   {
    "duration": 51,
    "start_time": "2022-02-10T16:54:11.873Z"
   },
   {
    "duration": 18,
    "start_time": "2022-02-10T16:54:11.925Z"
   },
   {
    "duration": 20,
    "start_time": "2022-02-10T16:54:11.945Z"
   },
   {
    "duration": 62,
    "start_time": "2022-02-10T16:54:11.966Z"
   },
   {
    "duration": 34,
    "start_time": "2022-02-10T16:54:12.030Z"
   },
   {
    "duration": 61,
    "start_time": "2022-02-10T16:54:12.066Z"
   },
   {
    "duration": 8,
    "start_time": "2022-02-10T16:54:12.129Z"
   },
   {
    "duration": 11,
    "start_time": "2022-02-10T16:54:12.138Z"
   },
   {
    "duration": 8,
    "start_time": "2022-02-10T16:54:12.151Z"
   },
   {
    "duration": 7949,
    "start_time": "2022-02-10T16:54:12.160Z"
   },
   {
    "duration": 15,
    "start_time": "2022-02-10T16:54:20.111Z"
   },
   {
    "duration": 11,
    "start_time": "2022-02-10T16:54:20.128Z"
   },
   {
    "duration": 17,
    "start_time": "2022-02-10T16:54:20.141Z"
   },
   {
    "duration": 59,
    "start_time": "2022-02-10T16:54:20.160Z"
   },
   {
    "duration": 28,
    "start_time": "2022-02-10T16:54:20.221Z"
   },
   {
    "duration": 20,
    "start_time": "2022-02-10T16:54:20.251Z"
   },
   {
    "duration": 5,
    "start_time": "2022-02-10T16:54:20.307Z"
   },
   {
    "duration": 12,
    "start_time": "2022-02-10T16:54:20.314Z"
   },
   {
    "duration": 5,
    "start_time": "2022-02-10T16:54:20.328Z"
   },
   {
    "duration": 18,
    "start_time": "2022-02-10T16:54:20.336Z"
   },
   {
    "duration": 14,
    "start_time": "2022-02-10T16:54:20.356Z"
   },
   {
    "duration": 39,
    "start_time": "2022-02-10T16:54:20.372Z"
   },
   {
    "duration": 3,
    "start_time": "2022-02-10T16:54:20.413Z"
   },
   {
    "duration": 24,
    "start_time": "2022-02-10T16:54:20.417Z"
   },
   {
    "duration": 28,
    "start_time": "2022-02-10T16:54:20.444Z"
   },
   {
    "duration": 39,
    "start_time": "2022-02-10T16:54:20.474Z"
   },
   {
    "duration": 23,
    "start_time": "2022-02-10T16:54:20.515Z"
   },
   {
    "duration": 7,
    "start_time": "2022-02-10T16:54:20.539Z"
   },
   {
    "duration": 25,
    "start_time": "2022-02-10T16:54:20.548Z"
   },
   {
    "duration": 38,
    "start_time": "2022-02-10T16:54:20.575Z"
   },
   {
    "duration": 30,
    "start_time": "2022-02-10T16:54:20.615Z"
   },
   {
    "duration": 115,
    "start_time": "2022-02-10T16:55:19.446Z"
   }
  ],
  "kernelspec": {
   "display_name": "Python 3 (ipykernel)",
   "language": "python",
   "name": "python3"
  },
  "language_info": {
   "codemirror_mode": {
    "name": "ipython",
    "version": 3
   },
   "file_extension": ".py",
   "mimetype": "text/x-python",
   "name": "python",
   "nbconvert_exporter": "python",
   "pygments_lexer": "ipython3",
   "version": "3.9.13"
  },
  "nbTranslate": {
   "displayLangs": [
    "en",
    "ru"
   ],
   "hotkey": "alt-t",
   "langInMainMenu": true,
   "sourceLang": "ru",
   "targetLang": "en",
   "useGoogleTranslate": true
  },
  "toc": {
   "base_numbering": 1,
   "nav_menu": {},
   "number_sections": true,
   "sideBar": true,
   "skip_h1_title": true,
   "title_cell": "Table of Contents",
   "title_sidebar": "Contents",
   "toc_cell": false,
   "toc_position": {},
   "toc_section_display": true,
   "toc_window_display": false
  },
  "varInspector": {
   "cols": {
    "lenName": 16,
    "lenType": 16,
    "lenVar": 40
   },
   "kernels_config": {
    "python": {
     "delete_cmd_postfix": "",
     "delete_cmd_prefix": "del ",
     "library": "var_list.py",
     "varRefreshCmd": "print(var_dic_list())"
    },
    "r": {
     "delete_cmd_postfix": ") ",
     "delete_cmd_prefix": "rm(",
     "library": "var_list.r",
     "varRefreshCmd": "cat(var_dic_list()) "
    }
   },
   "types_to_exclude": [
    "module",
    "function",
    "builtin_function_or_method",
    "instance",
    "_Feature"
   ],
   "window_display": false
  }
 },
 "nbformat": 4,
 "nbformat_minor": 2
}
