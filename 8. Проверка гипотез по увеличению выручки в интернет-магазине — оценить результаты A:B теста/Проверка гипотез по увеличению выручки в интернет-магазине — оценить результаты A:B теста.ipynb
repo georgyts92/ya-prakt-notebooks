{
 "cells": [
  {
   "cell_type": "markdown",
   "metadata": {},
   "source": [
    "# Приоритизация гипотез и анализ результатов A/B теста для интернет-магазина"
   ]
  },
  {
   "cell_type": "markdown",
   "metadata": {},
   "source": [
    "## Описание проекта\n",
    "\n",
    "Вместе с отделом маркетинга бал подготовлен список гипотез для увеличения выручки интернет-магазина.\n",
    "Необходимо приоритизировать гипотезы, запустить A/B-тест и проанализировать результаты."
   ]
  },
  {
   "cell_type": "markdown",
   "metadata": {},
   "source": [
    "## Описание данных\n",
    "\n",
    "### Данные для первой части\n",
    "\n",
    "Файл `/datasets/hypothesis.csv`.\n",
    "- `Hypothesis` — краткое описание гипотезы;\n",
    "- `Reach` — охват пользователей по 10-балльной шкале;\n",
    "- `Impact` — влияние на пользователей по 10-балльной шкале;\n",
    "- `Confidence` — уверенность в гипотезе по 10-балльной шкале;\n",
    "- `Efforts` — затраты ресурсов на проверку гипотезы по 10-балльной шкале. Чем больше значение Efforts, тем дороже проверка гипотезы.\n",
    "\n",
    "### Данные для второй части\n",
    "\n",
    "Файл `/datasets/orders.csv`.\n",
    "- `transactionId` — идентификатор заказа;\n",
    "- `visitorId` — идентификатор пользователя, совершившего заказ;\n",
    "- `date` — дата, когда был совершён заказ;\n",
    "- `revenue` — выручка заказа;\n",
    "- `group` — группа A/B-теста, в которую попал заказ.\n",
    "\n",
    "Файл `/datasets/visitors.csv`.\n",
    "- `date` — дата;\n",
    "- `group` — группа A/B-теста;\n",
    "- `visitors` — количество пользователей в указанную дату в указанной группе A/B-теста"
   ]
  },
  {
   "cell_type": "markdown",
   "metadata": {},
   "source": [
    "# Часть 1. Приоритизация гипотез\n",
    "В файле `/datasets/hypothesis.csv` 9 гипотез по увеличению выручки интернет-магазина с указанными параметрами `Reach, Impact, Confidence, Effort`.\n",
    "\n",
    "Задача\n",
    "1. Примените фреймворк ICE для приоритизации гипотез. Отсортируйте их по убыванию приоритета.\n",
    "2. Примените фреймворк RICE для приоритизации гипотез. Отсортируйте их по убыванию приоритета.\n",
    "3. Укажите, как изменилась приоритизация гипотез при применении RICE вместо ICE. Объясните, почему так произошло.\n",
    "\n",
    "# Часть 2. Анализ A/B-теста\n",
    "Вы провели A/B-тест и получили результаты, которые описаны в файлах `/datasets/orders.csv` и `/datasets/visitors.csv`.\n",
    "\n",
    "Задача\n",
    "Проанализируйте A/B-тест:\n",
    "1. Постройте график кумулятивной выручки по группам. Сделайте выводы и предположения.\n",
    "2. Постройте график кумулятивного среднего чека по группам. Сделайте выводы и предположения.\n",
    "3. Постройте график относительного изменения кумулятивного среднего чека группы B к группе A. Сделайте выводы и предположения.\n",
    "4. Постройте график кумулятивной конверсии по группам. Сделайте выводы и предположения.\n",
    "5. Постройте график относительного изменения кумулятивной конверсии группы B к группе A. Сделайте выводы и предположения.\n",
    "6. Постройте точечный график количества заказов по пользователям. Сделайте выводы и предположения.\n",
    "7. Посчитайте 95-й и 99-й перцентили количества заказов на пользователя. Выберите границу для определения аномальных пользователей.\n",
    "8. Постройте точечный график стоимостей заказов. Сделайте выводы и предположения.\n",
    "9. Посчитайте 95-й и 99-й перцентили стоимости заказов. Выберите границу для определения аномальных заказов.\n",
    "10. Посчитайте статистическую значимость различий в конверсии между группами по «сырым» данным. Сделайте выводы и предположения.\n",
    "11. Посчитайте статистическую значимость различий в среднем чеке заказа между группами по «сырым» данным. Сделайте выводы и предположения.\n",
    "12. Посчитайте статистическую значимость различий в конверсии между группами по «очищенным» данным. Сделайте выводы и предположения.\n",
    "13. Посчитайте статистическую значимость различий в среднем чеке заказа между группами по «очищенным» данным. Сделайте выводы и предположения.\n",
    "14. Примите решение по результатам теста и объясните его. Варианты решений: 1. Остановить тест, зафиксировать победу одной из групп. 2. Остановить тест, зафиксировать отсутствие различий между группами. 3. Продолжить тест."
   ]
  },
  {
   "cell_type": "markdown",
   "metadata": {},
   "source": [
    "## 1. Приоритизация гипотез"
   ]
  },
  {
   "cell_type": "code",
   "execution_count": 1,
   "metadata": {},
   "outputs": [],
   "source": [
    "# импортируем необходимые библиотеки\n",
    "import pandas as pd\n",
    "import numpy as np\n",
    "import matplotlib.pyplot as plt\n",
    "from scipy import stats\n",
    "\n",
    "# зададим ширину колонок для датасетов\n",
    "pd.set_option('display.max_colwidth', 150)"
   ]
  },
  {
   "cell_type": "code",
   "execution_count": 2,
   "metadata": {},
   "outputs": [
    {
     "data": {
      "text/html": [
       "<div>\n",
       "<style scoped>\n",
       "    .dataframe tbody tr th:only-of-type {\n",
       "        vertical-align: middle;\n",
       "    }\n",
       "\n",
       "    .dataframe tbody tr th {\n",
       "        vertical-align: top;\n",
       "    }\n",
       "\n",
       "    .dataframe thead th {\n",
       "        text-align: right;\n",
       "    }\n",
       "</style>\n",
       "<table border=\"1\" class=\"dataframe\">\n",
       "  <thead>\n",
       "    <tr style=\"text-align: right;\">\n",
       "      <th></th>\n",
       "      <th>Hypothesis</th>\n",
       "      <th>Reach</th>\n",
       "      <th>Impact</th>\n",
       "      <th>Confidence</th>\n",
       "      <th>Efforts</th>\n",
       "    </tr>\n",
       "  </thead>\n",
       "  <tbody>\n",
       "    <tr>\n",
       "      <th>0</th>\n",
       "      <td>Добавить два новых канала привлечения трафика, что позволит привлекать на 30% больше пользователей</td>\n",
       "      <td>3</td>\n",
       "      <td>10</td>\n",
       "      <td>8</td>\n",
       "      <td>6</td>\n",
       "    </tr>\n",
       "    <tr>\n",
       "      <th>1</th>\n",
       "      <td>Запустить собственную службу доставки, что сократит срок доставки заказов</td>\n",
       "      <td>2</td>\n",
       "      <td>5</td>\n",
       "      <td>4</td>\n",
       "      <td>10</td>\n",
       "    </tr>\n",
       "    <tr>\n",
       "      <th>2</th>\n",
       "      <td>Добавить блоки рекомендаций товаров на сайт интернет магазина, чтобы повысить конверсию и средний чек заказа</td>\n",
       "      <td>8</td>\n",
       "      <td>3</td>\n",
       "      <td>7</td>\n",
       "      <td>3</td>\n",
       "    </tr>\n",
       "    <tr>\n",
       "      <th>3</th>\n",
       "      <td>Изменить структура категорий, что увеличит конверсию, т.к. пользователи быстрее найдут нужный товар</td>\n",
       "      <td>8</td>\n",
       "      <td>3</td>\n",
       "      <td>3</td>\n",
       "      <td>8</td>\n",
       "    </tr>\n",
       "    <tr>\n",
       "      <th>4</th>\n",
       "      <td>Изменить цвет фона главной страницы, чтобы увеличить вовлеченность пользователей</td>\n",
       "      <td>3</td>\n",
       "      <td>1</td>\n",
       "      <td>1</td>\n",
       "      <td>1</td>\n",
       "    </tr>\n",
       "  </tbody>\n",
       "</table>\n",
       "</div>"
      ],
      "text/plain": [
       "                                                                                                     Hypothesis  \\\n",
       "0            Добавить два новых канала привлечения трафика, что позволит привлекать на 30% больше пользователей   \n",
       "1                                     Запустить собственную службу доставки, что сократит срок доставки заказов   \n",
       "2  Добавить блоки рекомендаций товаров на сайт интернет магазина, чтобы повысить конверсию и средний чек заказа   \n",
       "3           Изменить структура категорий, что увеличит конверсию, т.к. пользователи быстрее найдут нужный товар   \n",
       "4                              Изменить цвет фона главной страницы, чтобы увеличить вовлеченность пользователей   \n",
       "\n",
       "   Reach  Impact  Confidence  Efforts  \n",
       "0      3      10           8        6  \n",
       "1      2       5           4       10  \n",
       "2      8       3           7        3  \n",
       "3      8       3           3        8  \n",
       "4      3       1           1        1  "
      ]
     },
     "execution_count": 2,
     "metadata": {},
     "output_type": "execute_result"
    }
   ],
   "source": [
    "# загрузим датасет с  гипотезами\n",
    "hypothesis = pd.read_csv('datasets/hypothesis.csv')\n",
    "\n",
    "hypothesis.head()"
   ]
  },
  {
   "cell_type": "code",
   "execution_count": 3,
   "metadata": {},
   "outputs": [
    {
     "name": "stdout",
     "output_type": "stream",
     "text": [
      "<class 'pandas.core.frame.DataFrame'>\n",
      "RangeIndex: 9 entries, 0 to 8\n",
      "Data columns (total 5 columns):\n",
      " #   Column      Non-Null Count  Dtype \n",
      "---  ------      --------------  ----- \n",
      " 0   Hypothesis  9 non-null      object\n",
      " 1   Reach       9 non-null      int64 \n",
      " 2   Impact      9 non-null      int64 \n",
      " 3   Confidence  9 non-null      int64 \n",
      " 4   Efforts     9 non-null      int64 \n",
      "dtypes: int64(4), object(1)\n",
      "memory usage: 488.0+ bytes\n"
     ]
    }
   ],
   "source": [
    "# изучим общую информацию о датасете\n",
    "hypothesis.info()"
   ]
  },
  {
   "cell_type": "markdown",
   "metadata": {},
   "source": [
    "- Пропусков значений в датасете не имеется\n",
    "- Типы данных приведены корректно\n",
    "- Заголовки можно перевести в строчные"
   ]
  },
  {
   "cell_type": "code",
   "execution_count": 4,
   "metadata": {},
   "outputs": [],
   "source": [
    "# переводим заголовки в строчные\n",
    "hypothesis.columns = hypothesis.columns.str.lower()"
   ]
  },
  {
   "cell_type": "markdown",
   "metadata": {},
   "source": [
    "Изучим список имеющихся гипотез. Выведем колонку `hypothesis`."
   ]
  },
  {
   "cell_type": "code",
   "execution_count": 5,
   "metadata": {},
   "outputs": [
    {
     "name": "stdout",
     "output_type": "stream",
     "text": [
      "0. Добавить два новых канала привлечения трафика, что позволит привлекать на 30% больше пользователей\n",
      "1. Запустить собственную службу доставки, что сократит срок доставки заказов\n",
      "2. Добавить блоки рекомендаций товаров на сайт интернет магазина, чтобы повысить конверсию и средний чек заказа\n",
      "3. Изменить структура категорий, что увеличит конверсию, т.к. пользователи быстрее найдут нужный товар\n",
      "4. Изменить цвет фона главной страницы, чтобы увеличить вовлеченность пользователей\n",
      "5. Добавить страницу отзывов клиентов о магазине, что позволит увеличить количество заказов\n",
      "6. Показать на главной странице баннеры с актуальными акциями и распродажами, чтобы увеличить конверсию\n",
      "7. Добавить форму подписки на все основные страницы, чтобы собрать базу клиентов для email-рассылок\n",
      "8. Запустить акцию, дающую скидку на товар в день рождения\n"
     ]
    }
   ],
   "source": [
    "for index, title in enumerate(list(hypothesis['hypothesis'])):\n",
    "    print('{}. {}'.format(index, title))"
   ]
  },
  {
   "cell_type": "markdown",
   "metadata": {},
   "source": [
    "Применим фреймворк `ICE` для приоретизации гипотез. Добавим колонку `ICE`, в которой рассчитаем значение  данного показателя для каждой гипотезы."
   ]
  },
  {
   "cell_type": "code",
   "execution_count": 6,
   "metadata": {},
   "outputs": [
    {
     "data": {
      "text/html": [
       "<div>\n",
       "<style scoped>\n",
       "    .dataframe tbody tr th:only-of-type {\n",
       "        vertical-align: middle;\n",
       "    }\n",
       "\n",
       "    .dataframe tbody tr th {\n",
       "        vertical-align: top;\n",
       "    }\n",
       "\n",
       "    .dataframe thead th {\n",
       "        text-align: right;\n",
       "    }\n",
       "</style>\n",
       "<table border=\"1\" class=\"dataframe\">\n",
       "  <thead>\n",
       "    <tr style=\"text-align: right;\">\n",
       "      <th></th>\n",
       "      <th>hypothesis</th>\n",
       "      <th>ICE</th>\n",
       "    </tr>\n",
       "  </thead>\n",
       "  <tbody>\n",
       "    <tr>\n",
       "      <th>8</th>\n",
       "      <td>Запустить акцию, дающую скидку на товар в день рождения</td>\n",
       "      <td>16.20</td>\n",
       "    </tr>\n",
       "    <tr>\n",
       "      <th>0</th>\n",
       "      <td>Добавить два новых канала привлечения трафика, что позволит привлекать на 30% больше пользователей</td>\n",
       "      <td>13.33</td>\n",
       "    </tr>\n",
       "    <tr>\n",
       "      <th>7</th>\n",
       "      <td>Добавить форму подписки на все основные страницы, чтобы собрать базу клиентов для email-рассылок</td>\n",
       "      <td>11.20</td>\n",
       "    </tr>\n",
       "    <tr>\n",
       "      <th>6</th>\n",
       "      <td>Показать на главной странице баннеры с актуальными акциями и распродажами, чтобы увеличить конверсию</td>\n",
       "      <td>8.00</td>\n",
       "    </tr>\n",
       "    <tr>\n",
       "      <th>2</th>\n",
       "      <td>Добавить блоки рекомендаций товаров на сайт интернет магазина, чтобы повысить конверсию и средний чек заказа</td>\n",
       "      <td>7.00</td>\n",
       "    </tr>\n",
       "    <tr>\n",
       "      <th>1</th>\n",
       "      <td>Запустить собственную службу доставки, что сократит срок доставки заказов</td>\n",
       "      <td>2.00</td>\n",
       "    </tr>\n",
       "    <tr>\n",
       "      <th>5</th>\n",
       "      <td>Добавить страницу отзывов клиентов о магазине, что позволит увеличить количество заказов</td>\n",
       "      <td>1.33</td>\n",
       "    </tr>\n",
       "    <tr>\n",
       "      <th>3</th>\n",
       "      <td>Изменить структура категорий, что увеличит конверсию, т.к. пользователи быстрее найдут нужный товар</td>\n",
       "      <td>1.12</td>\n",
       "    </tr>\n",
       "    <tr>\n",
       "      <th>4</th>\n",
       "      <td>Изменить цвет фона главной страницы, чтобы увеличить вовлеченность пользователей</td>\n",
       "      <td>1.00</td>\n",
       "    </tr>\n",
       "  </tbody>\n",
       "</table>\n",
       "</div>"
      ],
      "text/plain": [
       "                                                                                                     hypothesis  \\\n",
       "8                                                       Запустить акцию, дающую скидку на товар в день рождения   \n",
       "0            Добавить два новых канала привлечения трафика, что позволит привлекать на 30% больше пользователей   \n",
       "7              Добавить форму подписки на все основные страницы, чтобы собрать базу клиентов для email-рассылок   \n",
       "6          Показать на главной странице баннеры с актуальными акциями и распродажами, чтобы увеличить конверсию   \n",
       "2  Добавить блоки рекомендаций товаров на сайт интернет магазина, чтобы повысить конверсию и средний чек заказа   \n",
       "1                                     Запустить собственную службу доставки, что сократит срок доставки заказов   \n",
       "5                      Добавить страницу отзывов клиентов о магазине, что позволит увеличить количество заказов   \n",
       "3           Изменить структура категорий, что увеличит конверсию, т.к. пользователи быстрее найдут нужный товар   \n",
       "4                              Изменить цвет фона главной страницы, чтобы увеличить вовлеченность пользователей   \n",
       "\n",
       "     ICE  \n",
       "8  16.20  \n",
       "0  13.33  \n",
       "7  11.20  \n",
       "6   8.00  \n",
       "2   7.00  \n",
       "1   2.00  \n",
       "5   1.33  \n",
       "3   1.12  \n",
       "4   1.00  "
      ]
     },
     "execution_count": 6,
     "metadata": {},
     "output_type": "execute_result"
    }
   ],
   "source": [
    "# приоретизация по фреймворку 'ICE'\n",
    "hypothesis['ICE'] = round(hypothesis['impact'] * hypothesis['confidence'] / hypothesis['efforts'], 2)\n",
    "\n",
    "hypothesis[['hypothesis', 'ICE']].sort_values(by='ICE', ascending=False)"
   ]
  },
  {
   "cell_type": "markdown",
   "metadata": {},
   "source": [
    "По методологии `ICE` наиболее приоритетными являются гипотезы сс индексами `8, 0, 7`."
   ]
  },
  {
   "cell_type": "markdown",
   "metadata": {},
   "source": [
    "Применим методолгоию `RICE` для оценки приоритетов гипотез."
   ]
  },
  {
   "cell_type": "code",
   "execution_count": 7,
   "metadata": {},
   "outputs": [
    {
     "data": {
      "text/html": [
       "<div>\n",
       "<style scoped>\n",
       "    .dataframe tbody tr th:only-of-type {\n",
       "        vertical-align: middle;\n",
       "    }\n",
       "\n",
       "    .dataframe tbody tr th {\n",
       "        vertical-align: top;\n",
       "    }\n",
       "\n",
       "    .dataframe thead th {\n",
       "        text-align: right;\n",
       "    }\n",
       "</style>\n",
       "<table border=\"1\" class=\"dataframe\">\n",
       "  <thead>\n",
       "    <tr style=\"text-align: right;\">\n",
       "      <th></th>\n",
       "      <th>hypothesis</th>\n",
       "      <th>RICE</th>\n",
       "    </tr>\n",
       "  </thead>\n",
       "  <tbody>\n",
       "    <tr>\n",
       "      <th>7</th>\n",
       "      <td>Добавить форму подписки на все основные страницы, чтобы собрать базу клиентов для email-рассылок</td>\n",
       "      <td>112.0</td>\n",
       "    </tr>\n",
       "    <tr>\n",
       "      <th>2</th>\n",
       "      <td>Добавить блоки рекомендаций товаров на сайт интернет магазина, чтобы повысить конверсию и средний чек заказа</td>\n",
       "      <td>56.0</td>\n",
       "    </tr>\n",
       "    <tr>\n",
       "      <th>0</th>\n",
       "      <td>Добавить два новых канала привлечения трафика, что позволит привлекать на 30% больше пользователей</td>\n",
       "      <td>40.0</td>\n",
       "    </tr>\n",
       "    <tr>\n",
       "      <th>6</th>\n",
       "      <td>Показать на главной странице баннеры с актуальными акциями и распродажами, чтобы увеличить конверсию</td>\n",
       "      <td>40.0</td>\n",
       "    </tr>\n",
       "    <tr>\n",
       "      <th>8</th>\n",
       "      <td>Запустить акцию, дающую скидку на товар в день рождения</td>\n",
       "      <td>16.2</td>\n",
       "    </tr>\n",
       "    <tr>\n",
       "      <th>3</th>\n",
       "      <td>Изменить структура категорий, что увеличит конверсию, т.к. пользователи быстрее найдут нужный товар</td>\n",
       "      <td>9.0</td>\n",
       "    </tr>\n",
       "    <tr>\n",
       "      <th>1</th>\n",
       "      <td>Запустить собственную службу доставки, что сократит срок доставки заказов</td>\n",
       "      <td>4.0</td>\n",
       "    </tr>\n",
       "    <tr>\n",
       "      <th>5</th>\n",
       "      <td>Добавить страницу отзывов клиентов о магазине, что позволит увеличить количество заказов</td>\n",
       "      <td>4.0</td>\n",
       "    </tr>\n",
       "    <tr>\n",
       "      <th>4</th>\n",
       "      <td>Изменить цвет фона главной страницы, чтобы увеличить вовлеченность пользователей</td>\n",
       "      <td>3.0</td>\n",
       "    </tr>\n",
       "  </tbody>\n",
       "</table>\n",
       "</div>"
      ],
      "text/plain": [
       "                                                                                                     hypothesis  \\\n",
       "7              Добавить форму подписки на все основные страницы, чтобы собрать базу клиентов для email-рассылок   \n",
       "2  Добавить блоки рекомендаций товаров на сайт интернет магазина, чтобы повысить конверсию и средний чек заказа   \n",
       "0            Добавить два новых канала привлечения трафика, что позволит привлекать на 30% больше пользователей   \n",
       "6          Показать на главной странице баннеры с актуальными акциями и распродажами, чтобы увеличить конверсию   \n",
       "8                                                       Запустить акцию, дающую скидку на товар в день рождения   \n",
       "3           Изменить структура категорий, что увеличит конверсию, т.к. пользователи быстрее найдут нужный товар   \n",
       "1                                     Запустить собственную службу доставки, что сократит срок доставки заказов   \n",
       "5                      Добавить страницу отзывов клиентов о магазине, что позволит увеличить количество заказов   \n",
       "4                              Изменить цвет фона главной страницы, чтобы увеличить вовлеченность пользователей   \n",
       "\n",
       "    RICE  \n",
       "7  112.0  \n",
       "2   56.0  \n",
       "0   40.0  \n",
       "6   40.0  \n",
       "8   16.2  \n",
       "3    9.0  \n",
       "1    4.0  \n",
       "5    4.0  \n",
       "4    3.0  "
      ]
     },
     "execution_count": 7,
     "metadata": {},
     "output_type": "execute_result"
    }
   ],
   "source": [
    "# приоретизация по фреймворку 'RICE'\n",
    "hypothesis['RICE'] = round(\n",
    "    hypothesis['reach'] * hypothesis['impact'] * hypothesis['confidence'] \n",
    "    / hypothesis['efforts']\n",
    "    , 2)\n",
    "\n",
    "hypothesis[['hypothesis', 'RICE']].sort_values(by='RICE', ascending=False)"
   ]
  },
  {
   "cell_type": "markdown",
   "metadata": {},
   "source": [
    "По методологии `RICE` наиболее приоритетными являются гипотезы сс индексами `7, 2, 0`."
   ]
  },
  {
   "cell_type": "markdown",
   "metadata": {},
   "source": [
    "### Выводы"
   ]
  },
  {
   "cell_type": "markdown",
   "metadata": {},
   "source": [
    "Мы произвели приоритизацию гипотез по методолгии `ICE` и `RICE`. У нас получились следующие приоритеты:\n",
    "- По методологии `ICE` перспективными являются гипотезы с индексом 8, 0, 7.\n",
    "- По методологии `RICE` перспективными являются гипотезы с индексом 7, 2, 0.\n",
    "\n",
    "Для обоих фреймворков в список перспективных гипотез попали гипотезы с индексом 0 и 7, но вес в обоих случаях они имеют различный. Подобные расхождения связаны с тем, что методология `ICE` не учитывает оценку параметра `Reach`, который отвечает за охват аудитории, на которую потенциально окажет влияние гипотеза."
   ]
  },
  {
   "cell_type": "markdown",
   "metadata": {},
   "source": [
    "## 2. Запуск и анализ A/B теста"
   ]
  },
  {
   "cell_type": "code",
   "execution_count": 8,
   "metadata": {},
   "outputs": [
    {
     "data": {
      "text/html": [
       "<div>\n",
       "<style scoped>\n",
       "    .dataframe tbody tr th:only-of-type {\n",
       "        vertical-align: middle;\n",
       "    }\n",
       "\n",
       "    .dataframe tbody tr th {\n",
       "        vertical-align: top;\n",
       "    }\n",
       "\n",
       "    .dataframe thead th {\n",
       "        text-align: right;\n",
       "    }\n",
       "</style>\n",
       "<table border=\"1\" class=\"dataframe\">\n",
       "  <thead>\n",
       "    <tr style=\"text-align: right;\">\n",
       "      <th></th>\n",
       "      <th>transactionId</th>\n",
       "      <th>visitorId</th>\n",
       "      <th>date</th>\n",
       "      <th>revenue</th>\n",
       "      <th>group</th>\n",
       "    </tr>\n",
       "  </thead>\n",
       "  <tbody>\n",
       "    <tr>\n",
       "      <th>0</th>\n",
       "      <td>3667963787</td>\n",
       "      <td>3312258926</td>\n",
       "      <td>2019-08-15</td>\n",
       "      <td>1650</td>\n",
       "      <td>B</td>\n",
       "    </tr>\n",
       "    <tr>\n",
       "      <th>1</th>\n",
       "      <td>2804400009</td>\n",
       "      <td>3642806036</td>\n",
       "      <td>2019-08-15</td>\n",
       "      <td>730</td>\n",
       "      <td>B</td>\n",
       "    </tr>\n",
       "    <tr>\n",
       "      <th>2</th>\n",
       "      <td>2961555356</td>\n",
       "      <td>4069496402</td>\n",
       "      <td>2019-08-15</td>\n",
       "      <td>400</td>\n",
       "      <td>A</td>\n",
       "    </tr>\n",
       "    <tr>\n",
       "      <th>3</th>\n",
       "      <td>3797467345</td>\n",
       "      <td>1196621759</td>\n",
       "      <td>2019-08-15</td>\n",
       "      <td>9759</td>\n",
       "      <td>B</td>\n",
       "    </tr>\n",
       "    <tr>\n",
       "      <th>4</th>\n",
       "      <td>2282983706</td>\n",
       "      <td>2322279887</td>\n",
       "      <td>2019-08-15</td>\n",
       "      <td>2308</td>\n",
       "      <td>B</td>\n",
       "    </tr>\n",
       "  </tbody>\n",
       "</table>\n",
       "</div>"
      ],
      "text/plain": [
       "   transactionId   visitorId        date  revenue group\n",
       "0     3667963787  3312258926  2019-08-15     1650     B\n",
       "1     2804400009  3642806036  2019-08-15      730     B\n",
       "2     2961555356  4069496402  2019-08-15      400     A\n",
       "3     3797467345  1196621759  2019-08-15     9759     B\n",
       "4     2282983706  2322279887  2019-08-15     2308     B"
      ]
     },
     "metadata": {},
     "output_type": "display_data"
    },
    {
     "data": {
      "text/html": [
       "<div>\n",
       "<style scoped>\n",
       "    .dataframe tbody tr th:only-of-type {\n",
       "        vertical-align: middle;\n",
       "    }\n",
       "\n",
       "    .dataframe tbody tr th {\n",
       "        vertical-align: top;\n",
       "    }\n",
       "\n",
       "    .dataframe thead th {\n",
       "        text-align: right;\n",
       "    }\n",
       "</style>\n",
       "<table border=\"1\" class=\"dataframe\">\n",
       "  <thead>\n",
       "    <tr style=\"text-align: right;\">\n",
       "      <th></th>\n",
       "      <th>date</th>\n",
       "      <th>group</th>\n",
       "      <th>visitors</th>\n",
       "    </tr>\n",
       "  </thead>\n",
       "  <tbody>\n",
       "    <tr>\n",
       "      <th>0</th>\n",
       "      <td>2019-08-01</td>\n",
       "      <td>A</td>\n",
       "      <td>719</td>\n",
       "    </tr>\n",
       "    <tr>\n",
       "      <th>1</th>\n",
       "      <td>2019-08-02</td>\n",
       "      <td>A</td>\n",
       "      <td>619</td>\n",
       "    </tr>\n",
       "    <tr>\n",
       "      <th>2</th>\n",
       "      <td>2019-08-03</td>\n",
       "      <td>A</td>\n",
       "      <td>507</td>\n",
       "    </tr>\n",
       "    <tr>\n",
       "      <th>3</th>\n",
       "      <td>2019-08-04</td>\n",
       "      <td>A</td>\n",
       "      <td>717</td>\n",
       "    </tr>\n",
       "    <tr>\n",
       "      <th>4</th>\n",
       "      <td>2019-08-05</td>\n",
       "      <td>A</td>\n",
       "      <td>756</td>\n",
       "    </tr>\n",
       "  </tbody>\n",
       "</table>\n",
       "</div>"
      ],
      "text/plain": [
       "         date group  visitors\n",
       "0  2019-08-01     A       719\n",
       "1  2019-08-02     A       619\n",
       "2  2019-08-03     A       507\n",
       "3  2019-08-04     A       717\n",
       "4  2019-08-05     A       756"
      ]
     },
     "metadata": {},
     "output_type": "display_data"
    }
   ],
   "source": [
    "# импортируем датасеты с результатами A/B теста\n",
    "\n",
    "orders = pd.read_csv('datasets/orders.csv')\n",
    "display(orders.head())\n",
    "\n",
    "visitors = pd.read_csv('datasets/visitors.csv')\n",
    "display(visitors.head())"
   ]
  },
  {
   "cell_type": "code",
   "execution_count": 9,
   "metadata": {},
   "outputs": [
    {
     "name": "stdout",
     "output_type": "stream",
     "text": [
      "<class 'pandas.core.frame.DataFrame'>\n",
      "RangeIndex: 1197 entries, 0 to 1196\n",
      "Data columns (total 5 columns):\n",
      " #   Column         Non-Null Count  Dtype \n",
      "---  ------         --------------  ----- \n",
      " 0   transactionId  1197 non-null   int64 \n",
      " 1   visitorId      1197 non-null   int64 \n",
      " 2   date           1197 non-null   object\n",
      " 3   revenue        1197 non-null   int64 \n",
      " 4   group          1197 non-null   object\n",
      "dtypes: int64(3), object(2)\n",
      "memory usage: 46.9+ KB\n"
     ]
    }
   ],
   "source": [
    "# выведем общую информацию по таблице 'orders'\n",
    "orders.info()"
   ]
  },
  {
   "cell_type": "code",
   "execution_count": 10,
   "metadata": {},
   "outputs": [
    {
     "name": "stdout",
     "output_type": "stream",
     "text": [
      "<class 'pandas.core.frame.DataFrame'>\n",
      "RangeIndex: 62 entries, 0 to 61\n",
      "Data columns (total 3 columns):\n",
      " #   Column    Non-Null Count  Dtype \n",
      "---  ------    --------------  ----- \n",
      " 0   date      62 non-null     object\n",
      " 1   group     62 non-null     object\n",
      " 2   visitors  62 non-null     int64 \n",
      "dtypes: int64(1), object(2)\n",
      "memory usage: 1.6+ KB\n"
     ]
    }
   ],
   "source": [
    "# выведем общую информацию по таблице 'visitors'\n",
    "visitors.info()"
   ]
  },
  {
   "cell_type": "markdown",
   "metadata": {},
   "source": [
    "Данные в датасетах заполнены корректно. Осталось преобразовать типа данных для дат."
   ]
  },
  {
   "cell_type": "code",
   "execution_count": 11,
   "metadata": {},
   "outputs": [],
   "source": [
    "# Преобразуем тип данных для колонок с датами\n",
    "orders['date'] = pd.to_datetime(orders['date'])\n",
    "visitors['date'] = pd.to_datetime(visitors['date'])"
   ]
  },
  {
   "cell_type": "markdown",
   "metadata": {},
   "source": [
    "Для получения корректных результатов A/B теста необходимо убедиться, что у нас нет пользователей попавших в обе группы. Построим таблицу для пользователей, оказавшихся в обеих группах и выведем их количество из таблицы `orders`."
   ]
  },
  {
   "cell_type": "code",
   "execution_count": 12,
   "metadata": {},
   "outputs": [
    {
     "data": {
      "text/plain": [
       "58"
      ]
     },
     "execution_count": 12,
     "metadata": {},
     "output_type": "execute_result"
    }
   ],
   "source": [
    "# выявляем пользователей, находящихся в обеих группах тестирования\n",
    "visitorsInBothGroups = orders.groupby('visitorId', as_index=False).agg({'group': 'nunique'}).query('group > 1')\n",
    "\n",
    "visitorsInBothGroups['visitorId'].count()"
   ]
  },
  {
   "cell_type": "markdown",
   "metadata": {},
   "source": [
    "58 пользователей оказались в обеих группах одновременно. Для таких пользователей сложно будет определить какая из версий повлияла на их поведение. Лучше таких пользователей исключить из таблицы `orders`."
   ]
  },
  {
   "cell_type": "code",
   "execution_count": 13,
   "metadata": {},
   "outputs": [],
   "source": [
    "# убираем пользователей с двумя группами из основной таблицы\n",
    "visitorsInBothGroups = list(visitorsInBothGroups['visitorId'])\n",
    "orders = orders.query('~visitorId.isin(@visitorsInBothGroups)')"
   ]
  },
  {
   "cell_type": "markdown",
   "metadata": {},
   "source": [
    "Посмотрим за какой период у нас имеются данные."
   ]
  },
  {
   "cell_type": "code",
   "execution_count": 14,
   "metadata": {},
   "outputs": [
    {
     "name": "stdout",
     "output_type": "stream",
     "text": [
      "Дата начала тестирования: 2019-08-01\n",
      "Дата окончания тестирования: 2019-08-31\n"
     ]
    }
   ],
   "source": [
    "print('Дата начала тестирования:', orders['date'].dt.date.min())\n",
    "print('Дата окончания тестирования:', orders['date'].dt.date.max())"
   ]
  },
  {
   "cell_type": "markdown",
   "metadata": {},
   "source": [
    "Тестирование проходило с 1 по 31 августа 2019 г."
   ]
  },
  {
   "cell_type": "markdown",
   "metadata": {},
   "source": [
    "Рассчитаем таблицы с кумулятивными данными для дальнейшего анализа."
   ]
  },
  {
   "cell_type": "code",
   "execution_count": 15,
   "metadata": {},
   "outputs": [],
   "source": [
    "# создадим таблицу с парой 'дата - группа'\n",
    "datesGroups = orders[['date', 'group']].drop_duplicates()\n",
    "\n",
    "\n",
    "# создадим таблицу с кумулятивными данными по продажам\n",
    "ordersAggregated = datesGroups.apply(\n",
    "    lambda x: orders[\n",
    "        np.logical_and(\n",
    "        orders['date'] <= x['date'], orders['group'] == x['group'])\n",
    "    ].agg({\n",
    "        'date': 'max',\n",
    "        'group': 'max',\n",
    "        'transactionId': 'nunique',\n",
    "        'visitorId': 'nunique',\n",
    "        'revenue': 'sum'\n",
    "    }),\n",
    "    axis=1\n",
    ").sort_values(by=['date', 'group'])\n",
    "\n",
    "\n",
    "# создадим таблицу с кумулятивными данными по посетителям\n",
    "visitorsAggregated = datesGroups.apply(\n",
    "    lambda x: visitors[\n",
    "        np.logical_and(\n",
    "        visitors['date'] <= x['date'], visitors['group'] == x['group'])\n",
    "    ].agg({\n",
    "        'date': 'max',\n",
    "        'group': 'max',\n",
    "        'visitors': 'sum'\n",
    "    }),\n",
    "    axis=1\n",
    ").sort_values(by=['date', 'group'])\n",
    "\n",
    "\n",
    "# объединим таблицы с кумулятивными данными в одну общую\n",
    "cumulativeData = ordersAggregated.merge(visitorsAggregated, left_on=['date', 'group'], right_on=['date', 'group'])\n",
    "\n",
    "\n",
    "# переименуем колонки\n",
    "cumulativeData.columns = ['date', 'group', 'orders', 'buyers', 'revenue', 'visitors']"
   ]
  },
  {
   "cell_type": "markdown",
   "metadata": {},
   "source": [
    "Построим график кумулятивной выручки по группам."
   ]
  },
  {
   "cell_type": "code",
   "execution_count": 16,
   "metadata": {},
   "outputs": [
    {
     "data": {
      "image/png": "[encoded data removed]",
      "text/plain": [
       "<Figure size 576x360 with 1 Axes>"
      ]
     },
     "metadata": {
      "needs_background": "light"
     },
     "output_type": "display_data"
    }
   ],
   "source": [
    "# создадим датафрейм с кумулятивным количеством заказов и кумулятивной выручкой по группе A\n",
    "cumulativeRevenueA = cumulativeData[cumulativeData['group'] == 'A'][['date', 'revenue', 'orders']]\n",
    "\n",
    "# создадим датафрейм с кумулятивным количеством заказов и кумулятивной выручкой по группе B\n",
    "cumulativeRevenueB = cumulativeData[cumulativeData['group'] == 'B'][['date', 'revenue', 'orders']]\n",
    "\n",
    "# построим графики кумулятивной выручки для группы A\n",
    "plt.figure(figsize=(8,5))\n",
    "plt.plot(cumulativeRevenueA['date'], cumulativeRevenueA['revenue'], label='A')\n",
    "\n",
    "# построим графики кумулятивной выручки для группы B\n",
    "plt.plot(cumulativeRevenueB['date'], cumulativeRevenueB['revenue'], label='B')\n",
    "\n",
    "plt.legend()\n",
    "plt.xticks(rotation=45)\n",
    "plt.title('График кумулятивной выручки')\n",
    "plt.xlabel('Дата')\n",
    "plt.ylabel('Кумулятивная выручка')\n",
    "plt.grid(True)\n",
    "\n",
    "plt.show()"
   ]
  },
  {
   "cell_type": "markdown",
   "metadata": {},
   "source": [
    "По кумулятивной выручке мы видим стабильный рост для обеих групп, что соответствует нашим ожиданиям.\n",
    "Группа B показывает себя лучше: на отрезке с 1 по 18 число группа B незначительно опережает группу A, а с 19-го числа по группе B заметен резкий и практически 2-х кратный рост выручки, что вероятно может быть связано с аномалиями в виде очень дорогих заказов или же большого количества заказов. У группы A какого-либо резкого изменения показателя выручки не прослеживается."
   ]
  },
  {
   "cell_type": "markdown",
   "metadata": {},
   "source": [
    "Построим график кумулятивного среднего чека. Для этого поделим кумулятивную выручку на кумулятивное количество заказов."
   ]
  },
  {
   "cell_type": "code",
   "execution_count": 17,
   "metadata": {},
   "outputs": [
    {
     "data": {
      "image/png": "[encoded data removed]",
      "text/plain": [
       "<Figure size 576x360 with 1 Axes>"
      ]
     },
     "metadata": {
      "needs_background": "light"
     },
     "output_type": "display_data"
    }
   ],
   "source": [
    "# построим графики среднего чека по группам\n",
    "plt.figure(figsize=(8,5))\n",
    "\n",
    "plt.plot(cumulativeRevenueA['date'], cumulativeRevenueA['revenue'] / cumulativeRevenueA['orders'], label='A')\n",
    "\n",
    "plt.plot(cumulativeRevenueB['date'], cumulativeRevenueB['revenue'] / cumulativeRevenueB['orders'], label='B')\n",
    "\n",
    "plt.legend()\n",
    "plt.xticks(rotation=45)\n",
    "plt.title('График кумулятивного среднего чека')\n",
    "plt.xlabel('Дата')\n",
    "plt.ylabel('Кумулятивный средний чек')\n",
    "plt.grid(True)\n",
    "\n",
    "plt.show()"
   ]
  },
  {
   "cell_type": "markdown",
   "metadata": {},
   "source": [
    "Заметна тенденция к увеличению среднего чека для обеих групп. В основном средний чек по группе B выше. С 19 го числа видно резкое увеличение размера среднего чека. Вспоминая предыдущий график, можно связать резкое увеличение с одним или несколькими крупными заказами за этот день для группы B. После резкого увеличения средний чек по группе B начинает постепенно уменьшаться, но при этом остается на уровне в 1,5 раза превышающем уровень среднего чека для группы A.\n",
    "Средний чек для группы A в районе 6-го числа начинает быстро расти и в районе 13-го числа даже опережает уровень среднего чека для группы B, после чего фиксируется на одном уровне."
   ]
  },
  {
   "cell_type": "code",
   "execution_count": 18,
   "metadata": {},
   "outputs": [
    {
     "data": {
      "image/png": "[encoded data removed]",
      "text/plain": [
       "<Figure size 576x360 with 1 Axes>"
      ]
     },
     "metadata": {
      "needs_background": "light"
     },
     "output_type": "display_data"
    }
   ],
   "source": [
    "# объединим данные по выручкам групп в общий датафрейм\n",
    "mergedCumulativeRevenue = cumulativeRevenueA.merge(cumulativeRevenueB, left_on='date', right_on='date', how='left', suffixes=['A', 'B'])\n",
    "\n",
    "# построим график относительного изменения кумулятивного среднего чека\n",
    "plt.figure(figsize=(8,5))\n",
    "\n",
    "plt.plot(mergedCumulativeRevenue['date'], ((mergedCumulativeRevenue['revenueB'] / mergedCumulativeRevenue['ordersB']) \n",
    "                                           / (mergedCumulativeRevenue['revenueA'] / mergedCumulativeRevenue['ordersA']) \n",
    "                                           - 1))\n",
    "\n",
    "plt.axhline(y=0, color='black', linestyle='--')\n",
    "plt.xticks(rotation=45)\n",
    "plt.title('График относительного изменения кумулятивного среднего чека группы B к группе A')\n",
    "plt.xlabel('Дата')\n",
    "plt.ylabel('Относительное изменение среднего чека')\n",
    "plt.grid(True)\n",
    "\n",
    "plt.show()"
   ]
  },
  {
   "cell_type": "markdown",
   "metadata": {},
   "source": [
    "Практически на протяжении всего анализируемого периода мы видим превосходство группы B по отношению к группе A. В районе 13-го числа заметен спад среднего чека для группы B. Ближе к концу периода лидирует средний чек группы B со значительным отрывом, после чего размер среднего чека начинает падать, не установившись на одном уровне."
   ]
  },
  {
   "cell_type": "markdown",
   "metadata": {},
   "source": [
    "Построим график кумулятивной конверсии."
   ]
  },
  {
   "cell_type": "code",
   "execution_count": 19,
   "metadata": {},
   "outputs": [
    {
     "data": {
      "image/png": "[encoded data removed]",
      "text/plain": [
       "<Figure size 576x360 with 1 Axes>"
      ]
     },
     "metadata": {
      "needs_background": "light"
     },
     "output_type": "display_data"
    }
   ],
   "source": [
    "# рассчитаем конверсию\n",
    "cumulativeData['conversion'] = cumulativeData['orders'] / cumulativeData['visitors']\n",
    "\n",
    "# создадим датафрейм по группе A\n",
    "cumulativeDataA = cumulativeData[cumulativeData['group'] == 'A']\n",
    "\n",
    "# создадим датафрейм по группе B\n",
    "cumulativeDataB = cumulativeData[cumulativeData['group'] == 'B']\n",
    "\n",
    "# выведеим графики кумулятивных конверсий\n",
    "plt.figure(figsize=(8, 5))\n",
    "\n",
    "plt.plot(cumulativeDataA['date'], cumulativeDataA['conversion'], label='A')\n",
    "plt.plot(cumulativeDataB['date'], cumulativeDataB['conversion'], label='B')\n",
    "\n",
    "plt.xticks(rotation=45)\n",
    "plt.ylim([0.02, 0.04])\n",
    "plt.title('График кумулятивной конверсии')\n",
    "plt.legend()\n",
    "plt.xlabel('Дата')\n",
    "plt.ylabel('Кумулятивная конверсия')\n",
    "plt.grid(True)\n",
    "\n",
    "plt.show()"
   ]
  },
  {
   "cell_type": "markdown",
   "metadata": {},
   "source": [
    "В первые дни конверсия группы A была выше, но с 5-го числа конверсия по группе B  вырвалась в лидеры, а конверсия по группе A стала снижаться. Ближе к концу месяца конверсии стабилизировались у обеих групп, в районе 34% для группы B и 30% для группы A."
   ]
  },
  {
   "cell_type": "markdown",
   "metadata": {},
   "source": [
    "Построим графики относительного изменения конверсии."
   ]
  },
  {
   "cell_type": "code",
   "execution_count": 20,
   "metadata": {},
   "outputs": [
    {
     "data": {
      "image/png": "[encoded data removed]",
      "text/plain": [
       "<Figure size 576x360 with 1 Axes>"
      ]
     },
     "metadata": {
      "needs_background": "light"
     },
     "output_type": "display_data"
    }
   ],
   "source": [
    "mergedCumulativeConversions = (\n",
    "    cumulativeDataA[['date', 'conversion']].merge(\n",
    "        cumulativeDataB[['date', 'conversion']],\n",
    "        left_on='date',\n",
    "        right_on='date',\n",
    "        how='left',\n",
    "        suffixes=['A', 'B'])\n",
    ")\n",
    "    \n",
    "plt.figure(figsize=(8, 5))\n",
    "plt.plot(mergedCumulativeConversions['date'], \n",
    "         mergedCumulativeConversions['conversionB'] / \n",
    "         mergedCumulativeConversions['conversionA'] - 1)\n",
    "\n",
    "plt.axhline(y=0, color='black', linestyle='--')\n",
    "plt.axhline(y=0.14, color='grey', linestyle='--')\n",
    "plt.xticks(rotation=45)\n",
    "plt.title('График относительного изменения кумулятивной конверсии группы B к группе A')\n",
    "plt.xlabel('Дата')\n",
    "plt.ylabel('Относительное изменение конверсии')\n",
    "plt.grid(True)\n",
    "\n",
    "plt.show()"
   ]
  },
  {
   "cell_type": "markdown",
   "metadata": {},
   "source": [
    "В начале теста группа A давала большую конверсию, но после 5-го дня конверсия группы B стала лидировать до конца теста и практически зафиксировалась на одном уровне."
   ]
  },
  {
   "cell_type": "markdown",
   "metadata": {},
   "source": [
    "По первым графикам видно, что показатели группы B кажутся лучше показателей группы A. При этом имеется явное воздействие некого фактора на резкое увеличение кумулятивной выручки и среднего чека по группе B. Сильные аномалии могут искажать кумулятивный эффект показателей. Изучим распределения для выявления возможных аномалий. Построим гистограмму по количеству заказов."
   ]
  },
  {
   "cell_type": "code",
   "execution_count": 21,
   "metadata": {},
   "outputs": [
    {
     "data": {
      "image/png": "[encoded data removed]",
      "text/plain": [
       "<Figure size 576x360 with 1 Axes>"
      ]
     },
     "metadata": {
      "needs_background": "light"
     },
     "output_type": "display_data"
    }
   ],
   "source": [
    "# строим точечную диаграмму количества заказов на одного пользователя\n",
    "ordersByUsers = orders.groupby('visitorId').agg({'transactionId': 'nunique'})\n",
    "\n",
    "x_values = pd.Series(range(0, len(ordersByUsers['transactionId'])))\n",
    "\n",
    "plt.figure(figsize=(8, 5))\n",
    "plt.scatter(x_values, ordersByUsers['transactionId'])\n",
    "\n",
    "plt.title('Точечный график распределения заказов на одного пользователя')\n",
    "plt.xlabel('Пользователи')\n",
    "plt.ylabel('Количество заказов')\n",
    "plt.grid(True)\n",
    "\n",
    "plt.show()"
   ]
  },
  {
   "cell_type": "markdown",
   "metadata": {},
   "source": [
    "На графике видно, что пользователей совершивших более 2-х заказов мало и они редкие. Посчитаем 95 и 99 перцентили, чтобы точнее определить границы выбросов."
   ]
  },
  {
   "cell_type": "code",
   "execution_count": 22,
   "metadata": {},
   "outputs": [
    {
     "data": {
      "text/plain": [
       "array([1., 2.])"
      ]
     },
     "execution_count": 22,
     "metadata": {},
     "output_type": "execute_result"
    }
   ],
   "source": [
    "# считаем 95 и 99 перцентили\n",
    "np.percentile(ordersByUsers['transactionId'], [95, 99])"
   ]
  },
  {
   "cell_type": "markdown",
   "metadata": {},
   "source": [
    "Менее 5% пользователей делало более 1-го заказа и менее 1% пользователей делало более 2-х заказов.  \n",
    "В качестве ограничения выберем пользователей, которые делали более 2-х заказов."
   ]
  },
  {
   "cell_type": "code",
   "execution_count": 23,
   "metadata": {},
   "outputs": [],
   "source": [
    "# сохраним значение в переменную\n",
    "bottomOrders = np.percentile(ordersByUsers['transactionId'], [99])[0]"
   ]
  },
  {
   "cell_type": "markdown",
   "metadata": {},
   "source": [
    "Изучим распределение выручки. Построим гистограмму по выручке."
   ]
  },
  {
   "cell_type": "code",
   "execution_count": 24,
   "metadata": {},
   "outputs": [
    {
     "data": {
      "image/png": "[encoded data removed]",
      "text/plain": [
       "<Figure size 576x360 with 1 Axes>"
      ]
     },
     "metadata": {
      "needs_background": "light"
     },
     "output_type": "display_data"
    }
   ],
   "source": [
    "# строим гистограмму по выручке\n",
    "plt.figure(figsize=(8, 5))\n",
    "\n",
    "plt.hist(orders['revenue'], bins=50)\n",
    "\n",
    "plt.title('График распределения выручки')\n",
    "plt.xlabel('Выручка')\n",
    "plt.grid(True)\n",
    "\n",
    "plt.show()"
   ]
  },
  {
   "cell_type": "markdown",
   "metadata": {},
   "source": [
    "Стоимость большинства заказов не превышает 200 000. Построим точечную диаграмму, чтобы суметь определить имелись ли выбросы в данных."
   ]
  },
  {
   "cell_type": "code",
   "execution_count": 25,
   "metadata": {},
   "outputs": [
    {
     "data": {
      "image/png": "[encoded data removed]",
      "text/plain": [
       "<Figure size 576x360 with 1 Axes>"
      ]
     },
     "metadata": {
      "needs_background": "light"
     },
     "output_type": "display_data"
    }
   ],
   "source": [
    "# строим точечную диаграмму выручки для каждой группы\n",
    "x_valuesA = pd.Series(range(0, len(orders[orders['group'] == 'A']['revenue'])))\n",
    "x_valuesB = pd.Series(range(0, len(orders[orders['group'] == 'B']['revenue'])))\n",
    "\n",
    "plt.figure(figsize=(8, 5))\n",
    "\n",
    "plt.scatter(x_valuesA, orders[orders['group'] == 'A']['revenue'], alpha=.8, label='A')\n",
    "plt.scatter(x_valuesB, orders[orders['group'] == 'B']['revenue'], alpha=.5, label='B')\n",
    "\n",
    "plt.title('Точечный график распределения выручки')\n",
    "plt.legend()\n",
    "plt.xlabel('Пользователи')\n",
    "plt.ylabel('Выручка')\n",
    "plt.grid(True)\n",
    "\n",
    "plt.show()"
   ]
  },
  {
   "cell_type": "markdown",
   "metadata": {},
   "source": [
    "На точечной диаграмме мы нашли 2 выброса: в районе 200 000 и в районе 1 400 000. Оба выброса относятся к покупателям из группы B.  \n",
    "Посчитаем 95 и 99 перцентили."
   ]
  },
  {
   "cell_type": "code",
   "execution_count": 26,
   "metadata": {},
   "outputs": [
    {
     "data": {
      "text/plain": [
       "array([26785., 53904.])"
      ]
     },
     "execution_count": 26,
     "metadata": {},
     "output_type": "execute_result"
    }
   ],
   "source": [
    "# считаем 95 и 99 перцентили\n",
    "np.percentile(orders['revenue'], [95, 99])"
   ]
  },
  {
   "cell_type": "markdown",
   "metadata": {},
   "source": [
    "Менее 5% заказов дороже 26 785 и менее 1% заказов дороже 53 904.  \n",
    "Построим еще раз точечный график, но с другим масштабом, чтобы лучше понять какую нижнюю границу аномалий выбрать."
   ]
  },
  {
   "cell_type": "code",
   "execution_count": 27,
   "metadata": {},
   "outputs": [
    {
     "data": {
      "image/png": "[encoded data removed]",
      "text/plain": [
       "<Figure size 576x360 with 1 Axes>"
      ]
     },
     "metadata": {
      "needs_background": "light"
     },
     "output_type": "display_data"
    }
   ],
   "source": [
    "# строим точечную диаграмму выручки для каждой группы\n",
    "x_valuesA = pd.Series(range(0, len(orders[orders['group'] == 'A']['revenue'])))\n",
    "x_valuesB = pd.Series(range(0, len(orders[orders['group'] == 'B']['revenue'])))\n",
    "\n",
    "plt.figure(figsize=(8, 5))\n",
    "\n",
    "plt.scatter(x_valuesA, orders[orders['group'] == 'A']['revenue'], alpha=.8, label='A')\n",
    "plt.scatter(x_valuesB, orders[orders['group'] == 'B']['revenue'], alpha=.5, label='B')\n",
    "\n",
    "plt.ylim(0, 80000)\n",
    "plt.title('Точечный график распределения выручки')\n",
    "plt.legend()\n",
    "plt.ylabel('Выручка')\n",
    "plt.grid(True)\n",
    "\n",
    "plt.show()"
   ]
  },
  {
   "cell_type": "markdown",
   "metadata": {},
   "source": [
    "На графике видно, что у нас много заказов попадает в 95% выборки. Примем за нижнюю границу аномальных заказов значение 99 перцентиля в 53904, чтобы не срезать слишком много полезной информации. От самых сильных выбросов мы в любом случае избавимся."
   ]
  },
  {
   "cell_type": "code",
   "execution_count": 28,
   "metadata": {},
   "outputs": [],
   "source": [
    "# сохраним значение нижней границы в переменную\n",
    "bottomRevenue = np.percentile(orders['revenue'], [99])[0]"
   ]
  },
  {
   "cell_type": "markdown",
   "metadata": {},
   "source": [
    "Посчитаем статистическую значимость различия в конверсии между группами. Создадим переменные сгруппированные по пользователям и количеством заказов по каждому из пользователей."
   ]
  },
  {
   "cell_type": "markdown",
   "metadata": {},
   "source": [
    "Сформулируем нулевую и альтернативную гипотезы:  \n",
    "**нулевая гипотеза** $H_0$: Между группами нет различий по конверсии  \n",
    "**альтернативная гипотеза** $H_1$: Между группами имеются различия по конверсии"
   ]
  },
  {
   "cell_type": "code",
   "execution_count": 29,
   "metadata": {},
   "outputs": [
    {
     "name": "stdout",
     "output_type": "stream",
     "text": [
      "0.011\n",
      "0.160\n"
     ]
    }
   ],
   "source": [
    "# создадим переменные с данными о покупателях и количестве заказов оформленных покупателями\n",
    "ordersByUsersA = (\n",
    "    orders[orders['group'] == 'A']\n",
    "    .groupby('visitorId', as_index=False)\n",
    "    .agg({'transactionId': 'nunique'})\n",
    ")\n",
    "ordersByUsersA.columns = ['userId', 'orders']\n",
    "\n",
    "ordersByUsersB = (\n",
    "    orders[orders['group'] == 'B']\n",
    "    .groupby('visitorId', as_index=False)\n",
    "    .agg({'transactionId': 'nunique'})\n",
    ")\n",
    "ordersByUsersB.columns = ['userId', 'orders']\n",
    "\n",
    "\n",
    "# создадим переменные в которых будет количество заказов для каждого покупателя\n",
    "# и 0 для посетителей, которые не совершили ни одного заказа\n",
    "sampleA = pd.concat([ordersByUsersA['orders'], \n",
    "                    pd.Series(0, index=np.arange(\n",
    "                        visitors[visitors['group'] == 'A']['visitors'].sum() \n",
    "                        - len(ordersByUsersA)\n",
    "                    ))],\n",
    "                    axis=0\n",
    "                   )\n",
    "\n",
    "sampleB = pd.concat([ordersByUsersB['orders'], \n",
    "                    pd.Series(0, index=np.arange(\n",
    "                        visitors[visitors['group'] == 'B']['visitors'].sum() \n",
    "                        - len(ordersByUsersB)\n",
    "                    ))],\n",
    "                    axis=0\n",
    "                   )\n",
    "\n",
    "# Рассчитаем p-value и относительный прирост по \"сырым\" данным\n",
    "alpha = .5\n",
    "\n",
    "print(\"{0:.3f}\".format(stats.mannwhitneyu(sampleA, sampleB)[1]))\n",
    "print(\"{0:.3f}\".format(sampleB.mean() / sampleA.mean() - 1))"
   ]
  },
  {
   "cell_type": "markdown",
   "metadata": {},
   "source": [
    "P-value оказался меньше 0.05, соответственно, мы отвергаем нулевую гипотезу об отсутствии различий в конверсии между группами по \"сырым\" данным.  \n",
    "Относительный прирост у группы B на 16% больше, чем у группы A."
   ]
  },
  {
   "cell_type": "markdown",
   "metadata": {},
   "source": [
    "Проверим статистическую значимость различий в среднем чеке между группами и посчитаем относительный прирост среднего чека."
   ]
  },
  {
   "cell_type": "markdown",
   "metadata": {},
   "source": [
    "Сформулируем нулевую и альтернативную гипотезы:  \n",
    "**нулевая гипотеза** $H_0$: Между группами нет различий по среднему чеку  \n",
    "**альтернативная гипотеза** $H_1$: Между группами имеются различия по среднему чеку"
   ]
  },
  {
   "cell_type": "code",
   "execution_count": 30,
   "metadata": {},
   "outputs": [
    {
     "name": "stdout",
     "output_type": "stream",
     "text": [
      "0.829\n",
      "0.287\n"
     ]
    }
   ],
   "source": [
    "# Рассчитаем p-value и относительный прирост по \"сырым\" данным\n",
    "alpha = .5\n",
    "\n",
    "print(\"{0:.3f}\".format(stats.mannwhitneyu(\n",
    "    orders[orders['group'] == 'A']['revenue'], \n",
    "    orders[orders['group'] == 'B']['revenue'])[1]))\n",
    "\n",
    "print(\"{0:.3f}\".format(\n",
    "    orders[orders['group'] == 'B']['revenue'].mean() \n",
    "    / orders[orders['group'] == 'A']['revenue'].mean() - 1))"
   ]
  },
  {
   "cell_type": "markdown",
   "metadata": {},
   "source": [
    "P-value больше 0.05, причин отвергать нулевую гипотезу нет, то есть между группами нет статистически значимых различий по среднему чеку.  \n",
    "Второй показатель указывает, на то что группа B дала больший результат по среднему чеку на 28.7%"
   ]
  },
  {
   "cell_type": "markdown",
   "metadata": {},
   "source": [
    "Исходя из полученных ранее ограничений создадим таблицу с аномальными покупателями, которые либо делали более 2 заказов, либо делали покупки на сумму более 53904."
   ]
  },
  {
   "cell_type": "code",
   "execution_count": 31,
   "metadata": {},
   "outputs": [
    {
     "name": "stdout",
     "output_type": "stream",
     "text": [
      "1099    148427295\n",
      "33      249864742\n",
      "36      366673373\n",
      "51      406208401\n",
      "67      522292794\n",
      "dtype: int64\n",
      "45\n"
     ]
    }
   ],
   "source": [
    "usersWithManyOrders = pd.concat([\n",
    "    ordersByUsersA[ordersByUsersA['orders'] >= bottomOrders]['userId'],\n",
    "    ordersByUsersB[ordersByUsersB['orders'] >= bottomOrders]['userId']\n",
    "], axis=0)\n",
    "\n",
    "usersWithExpensiveOrders = orders[orders['revenue'] > bottomRevenue]['visitorId']\n",
    "usersWithExpensiveOrders.columns = ['userId']\n",
    "\n",
    "abnormalUsers = pd.concat([\n",
    "    usersWithManyOrders,\n",
    "    usersWithExpensiveOrders\n",
    "], axis=0).drop_duplicates().sort_values()\n",
    "\n",
    "print(abnormalUsers.head(5))\n",
    "print(abnormalUsers.shape[0])"
   ]
  },
  {
   "cell_type": "markdown",
   "metadata": {},
   "source": [
    "У нас получился список из 45 аномальных покупателей. Проведем снова проверку статистической значимости конверсии, но без учета аномальных покупателей."
   ]
  },
  {
   "cell_type": "markdown",
   "metadata": {},
   "source": [
    "Сформулируем нулевую и альтернативную гипотезы:  \n",
    "**нулевая гипотеза** $H_0$: Между группами нет различий по конверсии  \n",
    "**альтернативная гипотеза** $H_1$: Между группами имеются различия по конверсии"
   ]
  },
  {
   "cell_type": "code",
   "execution_count": 32,
   "metadata": {},
   "outputs": [
    {
     "name": "stdout",
     "output_type": "stream",
     "text": [
      "0.008\n",
      "0.188\n"
     ]
    }
   ],
   "source": [
    "# создадим переменные в которых будет количество заказов для каждого покупателя\n",
    "# и 0 для посетителей, которые не совершили ни одного заказа\n",
    "sampleAFiltered = pd.concat([ordersByUsersA[\n",
    "                        np.logical_not(ordersByUsersA['userId'].isin(abnormalUsers))\n",
    "                    ]['orders'], \n",
    "                    pd.Series(0, index=np.arange(\n",
    "                        visitors[visitors['group'] == 'A']['visitors'].sum() \n",
    "                        - len(ordersByUsersA)\n",
    "                    ))],\n",
    "                    axis=0\n",
    "                   )\n",
    "\n",
    "sampleBFiltered = pd.concat([ordersByUsersB[\n",
    "    np.logical_not(ordersByUsersB['userId'].isin(abnormalUsers))\n",
    "]['orders'], \n",
    "                    pd.Series(0, index=np.arange(\n",
    "                        visitors[visitors['group'] == 'B']['visitors'].sum() \n",
    "                        - len(ordersByUsersB)\n",
    "                    ))],\n",
    "                    axis=0\n",
    "                   )\n",
    "\n",
    "# Рассчитаем p-value и относительный прирост по \"сырым\" данным\n",
    "alpha = .5\n",
    "\n",
    "print(\"{0:.3f}\".format(stats.mannwhitneyu(sampleAFiltered, sampleBFiltered)[1]))\n",
    "print(\"{0:.3f}\".format(sampleBFiltered.mean() / sampleAFiltered.mean() - 1))"
   ]
  },
  {
   "cell_type": "markdown",
   "metadata": {},
   "source": [
    "P-value оказался снова ниже 0.5, что говорит о том, что статистически значимые различия присутствуют в конверсии между группами.  \n",
    "Относительный прирост конверсии для группы B увеличился до уровня в 18.8%"
   ]
  },
  {
   "cell_type": "markdown",
   "metadata": {},
   "source": [
    "Проверим статистическую значимость по средним чекам между группами без учета аномальных покупателей."
   ]
  },
  {
   "cell_type": "markdown",
   "metadata": {},
   "source": [
    "Сформулируем нулевую и альтернативную гипотезы:  \n",
    "**нулевая гипотеза** $H_0$: Между группами нет различий по среднему чеку  \n",
    "**альтернативная гипотеза** $H_1$: Между группами имеются различия по среднему чеку"
   ]
  },
  {
   "cell_type": "code",
   "execution_count": 33,
   "metadata": {},
   "outputs": [
    {
     "name": "stdout",
     "output_type": "stream",
     "text": [
      "0.969\n",
      "0.002\n"
     ]
    }
   ],
   "source": [
    "# Рассчитаем p-value и относительный прирост по \"сырым\" данным\n",
    "alpha = .5\n",
    "\n",
    "print(\"{0:.3f}\".format(stats.mannwhitneyu(\n",
    "    orders[\n",
    "    np.logical_and(orders['group'] == 'A',\n",
    "      np.logical_not(orders['visitorId'].isin(abnormalUsers)))\n",
    "    ]['revenue'], \n",
    "    orders[\n",
    "    np.logical_and(orders['group'] == 'B',\n",
    "      np.logical_not(orders['visitorId'].isin(abnormalUsers)))\n",
    "    ]['revenue'])[1]))\n",
    "\n",
    "print(\"{0:.3f}\".format(\n",
    "    orders[\n",
    "    np.logical_and(orders['group'] == 'B',\n",
    "       np.logical_not(orders['visitorId'].isin(abnormalUsers)))\n",
    "    ]['revenue'].mean() \n",
    "    / orders[\n",
    "        np.logical_and(orders['group'] == 'A',\n",
    "             np.logical_not(orders['visitorId'].isin(abnormalUsers)))\n",
    "        ]['revenue'].mean() - 1))"
   ]
  },
  {
   "cell_type": "markdown",
   "metadata": {},
   "source": [
    "P-value увеличился, а разница между сегментами сильно изменилась. После исключения аномальных пользователей средний чек по группе B оказался незначительно выше, в сравнении с группой A, на 0.2%"
   ]
  },
  {
   "cell_type": "markdown",
   "metadata": {},
   "source": [
    "## Общие выводы"
   ]
  },
  {
   "cell_type": "markdown",
   "metadata": {},
   "source": [
    "В ходе анализа результатов A/B теста мы получили следующие результаты:\n",
    "- Есть статистически значимые различия по конверсии как по \"сырым\", так и  по \"очищенным\" данным;\n",
    "- Нет статистически значимого различия по среднему чеку как по \"сырым\", так и по данным после фильтрации аномалий;\n",
    "- График относительного изменения конверсии говорит о том, что конверсия группы B стабильно лучше и отсутствует какая-либо тенденция к ухудшению;\n",
    "- График относительного изменения среднего чека показывал хорошие уровни среднего чека для группы B, но на средний чек сказывались аномалии в виде нескольких очень дорогих заказов;\n",
    "- Показатель прироста среднего чека говорит о том, что средний чек по \"очищенным\" данным по группе B незначительно выше на 0.2%, чем по группе A."
   ]
  },
  {
   "cell_type": "markdown",
   "metadata": {},
   "source": [
    "Исходя из полученных данных тест следует остановить и признать наличие улучшений по группе B. Результаты показывают статистически значимое увеличение конверсии среди посетителей группы B на 18.8% и отсутствие статистически значимых изменений по среднему чеку покупателей. "
   ]
  }
 ],
 "metadata": {
  "ExecuteTimeLog": [
   {
    "duration": 399,
    "start_time": "2022-04-24T09:44:51.515Z"
   },
   {
    "duration": 28,
    "start_time": "2022-04-24T09:45:43.530Z"
   },
   {
    "duration": 11,
    "start_time": "2022-04-24T09:46:29.669Z"
   },
   {
    "duration": 2,
    "start_time": "2022-04-24T09:48:14.260Z"
   },
   {
    "duration": 4,
    "start_time": "2022-04-24T09:48:39.587Z"
   },
   {
    "duration": 3,
    "start_time": "2022-04-24T09:48:44.826Z"
   },
   {
    "duration": 62,
    "start_time": "2022-04-24T09:48:53.806Z"
   },
   {
    "duration": 7,
    "start_time": "2022-04-24T09:48:59.708Z"
   },
   {
    "duration": 6,
    "start_time": "2022-04-24T09:51:09.127Z"
   },
   {
    "duration": 3,
    "start_time": "2022-04-24T09:51:22.513Z"
   },
   {
    "duration": 8,
    "start_time": "2022-04-24T09:51:29.337Z"
   },
   {
    "duration": 3,
    "start_time": "2022-04-24T09:51:47.814Z"
   },
   {
    "duration": 3424,
    "start_time": "2022-04-24T09:58:09.869Z"
   },
   {
    "duration": 11,
    "start_time": "2022-04-24T09:58:32.016Z"
   },
   {
    "duration": 10,
    "start_time": "2022-04-24T09:58:52.746Z"
   },
   {
    "duration": 5,
    "start_time": "2022-04-24T10:00:08.956Z"
   },
   {
    "duration": 4,
    "start_time": "2022-04-24T10:01:42.120Z"
   },
   {
    "duration": 4,
    "start_time": "2022-04-24T10:02:46.711Z"
   },
   {
    "duration": 3,
    "start_time": "2022-04-24T10:03:07.685Z"
   },
   {
    "duration": 8,
    "start_time": "2022-04-24T10:04:44.927Z"
   },
   {
    "duration": 7,
    "start_time": "2022-04-24T10:05:49.332Z"
   },
   {
    "duration": 4,
    "start_time": "2022-04-24T10:05:55.386Z"
   },
   {
    "duration": 5,
    "start_time": "2022-04-24T10:06:04.728Z"
   },
   {
    "duration": 214,
    "start_time": "2022-04-24T10:10:50.904Z"
   },
   {
    "duration": 11,
    "start_time": "2022-04-24T10:11:29.595Z"
   },
   {
    "duration": 8,
    "start_time": "2022-04-24T10:16:51.242Z"
   },
   {
    "duration": 62,
    "start_time": "2022-04-24T10:21:08.863Z"
   },
   {
    "duration": 10,
    "start_time": "2022-04-24T10:21:19.628Z"
   },
   {
    "duration": 12,
    "start_time": "2022-04-24T10:22:33.778Z"
   },
   {
    "duration": 5,
    "start_time": "2022-04-24T10:23:48.085Z"
   },
   {
    "duration": 13,
    "start_time": "2022-04-24T10:23:53.997Z"
   },
   {
    "duration": 10,
    "start_time": "2022-04-24T10:23:59.159Z"
   },
   {
    "duration": 6,
    "start_time": "2022-04-24T10:24:32.656Z"
   },
   {
    "duration": 10,
    "start_time": "2022-04-24T10:24:36.486Z"
   },
   {
    "duration": 12,
    "start_time": "2022-04-24T10:25:02.951Z"
   },
   {
    "duration": 9,
    "start_time": "2022-04-24T10:26:04.664Z"
   },
   {
    "duration": 13,
    "start_time": "2022-04-24T10:26:24.268Z"
   },
   {
    "duration": 7,
    "start_time": "2022-04-24T10:30:11.910Z"
   },
   {
    "duration": 7,
    "start_time": "2022-04-24T10:30:50.008Z"
   },
   {
    "duration": 8,
    "start_time": "2022-04-24T10:30:59.443Z"
   },
   {
    "duration": 863,
    "start_time": "2022-04-24T10:32:02.789Z"
   },
   {
    "duration": 90,
    "start_time": "2022-04-24T10:32:16.513Z"
   },
   {
    "duration": 70,
    "start_time": "2022-04-24T10:32:31.478Z"
   },
   {
    "duration": 5,
    "start_time": "2022-04-24T10:33:01.754Z"
   },
   {
    "duration": 5,
    "start_time": "2022-04-24T10:33:05.352Z"
   },
   {
    "duration": 2562,
    "start_time": "2022-04-24T10:33:33.907Z"
   },
   {
    "duration": 5,
    "start_time": "2022-04-24T10:33:40.910Z"
   },
   {
    "duration": 94,
    "start_time": "2022-04-24T10:33:50.332Z"
   },
   {
    "duration": 7,
    "start_time": "2022-04-24T10:33:50.955Z"
   },
   {
    "duration": 6,
    "start_time": "2022-04-24T10:34:05.638Z"
   },
   {
    "duration": 4,
    "start_time": "2022-04-24T10:34:06.072Z"
   },
   {
    "duration": 3143,
    "start_time": "2022-04-24T10:44:13.706Z"
   },
   {
    "duration": 5,
    "start_time": "2022-04-24T10:44:22.956Z"
   },
   {
    "duration": 10,
    "start_time": "2022-04-24T10:44:26.172Z"
   },
   {
    "duration": 171,
    "start_time": "2022-04-24T10:48:23.684Z"
   },
   {
    "duration": 10,
    "start_time": "2022-04-24T10:48:28.442Z"
   },
   {
    "duration": 742,
    "start_time": "2022-04-24T10:48:40.359Z"
   },
   {
    "duration": 522,
    "start_time": "2022-04-26T07:23:30.331Z"
   },
   {
    "duration": 29,
    "start_time": "2022-04-26T07:23:30.855Z"
   },
   {
    "duration": 16,
    "start_time": "2022-04-26T07:23:30.886Z"
   },
   {
    "duration": 7,
    "start_time": "2022-04-26T07:23:30.904Z"
   },
   {
    "duration": 17,
    "start_time": "2022-04-26T07:23:30.914Z"
   },
   {
    "duration": 30,
    "start_time": "2022-04-26T07:23:30.933Z"
   },
   {
    "duration": 29,
    "start_time": "2022-04-26T07:23:30.965Z"
   },
   {
    "duration": 47,
    "start_time": "2022-04-26T07:23:30.997Z"
   },
   {
    "duration": 17,
    "start_time": "2022-04-26T07:23:31.046Z"
   },
   {
    "duration": 30,
    "start_time": "2022-04-26T07:23:31.065Z"
   },
   {
    "duration": 13,
    "start_time": "2022-04-26T07:23:31.097Z"
   },
   {
    "duration": 295,
    "start_time": "2022-04-26T07:23:31.113Z"
   },
   {
    "duration": 808,
    "start_time": "2022-04-26T07:23:31.410Z"
   },
   {
    "duration": 4,
    "start_time": "2022-04-26T07:24:23.981Z"
   },
   {
    "duration": 79,
    "start_time": "2022-04-26T07:24:30.150Z"
   },
   {
    "duration": 396,
    "start_time": "2022-04-26T07:25:29.895Z"
   },
   {
    "duration": 462,
    "start_time": "2022-04-26T07:26:01.573Z"
   },
   {
    "duration": 451,
    "start_time": "2022-04-26T07:29:01.152Z"
   },
   {
    "duration": 18,
    "start_time": "2022-04-26T07:29:07.658Z"
   },
   {
    "duration": 299,
    "start_time": "2022-04-26T07:36:52.291Z"
   },
   {
    "duration": 238,
    "start_time": "2022-04-26T07:38:21.227Z"
   },
   {
    "duration": 250,
    "start_time": "2022-04-26T07:41:50.174Z"
   },
   {
    "duration": 287,
    "start_time": "2022-04-26T07:42:02.385Z"
   },
   {
    "duration": 269,
    "start_time": "2022-04-26T07:42:31.497Z"
   },
   {
    "duration": 408,
    "start_time": "2022-04-26T07:43:02.505Z"
   },
   {
    "duration": 288,
    "start_time": "2022-04-26T07:43:13.072Z"
   },
   {
    "duration": 282,
    "start_time": "2022-04-26T07:43:27.319Z"
   },
   {
    "duration": 1624,
    "start_time": "2022-04-26T07:49:53.116Z"
   },
   {
    "duration": 331,
    "start_time": "2022-04-26T07:50:09.001Z"
   },
   {
    "duration": 282,
    "start_time": "2022-04-26T09:57:16.015Z"
   },
   {
    "duration": 369,
    "start_time": "2022-04-26T09:57:56.536Z"
   },
   {
    "duration": 308,
    "start_time": "2022-04-26T09:58:11.912Z"
   },
   {
    "duration": 276,
    "start_time": "2022-04-26T10:22:26.740Z"
   },
   {
    "duration": 15,
    "start_time": "2022-04-26T10:23:00.062Z"
   },
   {
    "duration": 464,
    "start_time": "2022-04-26T10:24:53.556Z"
   },
   {
    "duration": 482,
    "start_time": "2022-04-26T10:25:22.565Z"
   },
   {
    "duration": 397,
    "start_time": "2022-04-26T10:25:37.900Z"
   },
   {
    "duration": 7,
    "start_time": "2022-04-26T10:25:48.795Z"
   },
   {
    "duration": 6,
    "start_time": "2022-04-26T10:26:08.741Z"
   },
   {
    "duration": 395,
    "start_time": "2022-04-26T10:26:51.204Z"
   },
   {
    "duration": 400,
    "start_time": "2022-04-26T10:27:21.937Z"
   },
   {
    "duration": 5,
    "start_time": "2022-04-26T10:58:14.917Z"
   },
   {
    "duration": 9,
    "start_time": "2022-04-26T10:58:48.996Z"
   },
   {
    "duration": 1702,
    "start_time": "2022-04-26T10:59:58.836Z"
   },
   {
    "duration": 439,
    "start_time": "2022-04-26T11:00:18.095Z"
   },
   {
    "duration": 317,
    "start_time": "2022-04-26T11:00:27.995Z"
   },
   {
    "duration": 311,
    "start_time": "2022-04-26T11:00:35.931Z"
   },
   {
    "duration": 443,
    "start_time": "2022-04-26T11:03:58.681Z"
   },
   {
    "duration": 354,
    "start_time": "2022-04-26T11:04:39.961Z"
   },
   {
    "duration": 476,
    "start_time": "2022-04-26T11:04:46.513Z"
   },
   {
    "duration": 313,
    "start_time": "2022-04-26T11:05:01.217Z"
   },
   {
    "duration": 292,
    "start_time": "2022-04-26T11:06:17.017Z"
   },
   {
    "duration": 304,
    "start_time": "2022-04-26T11:07:46.006Z"
   },
   {
    "duration": 314,
    "start_time": "2022-04-26T11:07:58.995Z"
   },
   {
    "duration": 279,
    "start_time": "2022-04-26T11:08:24.326Z"
   },
   {
    "duration": 299,
    "start_time": "2022-04-26T11:08:39.649Z"
   },
   {
    "duration": 296,
    "start_time": "2022-04-26T11:08:44.350Z"
   },
   {
    "duration": 397,
    "start_time": "2022-04-26T11:09:18.718Z"
   },
   {
    "duration": 300,
    "start_time": "2022-04-26T11:10:20.534Z"
   },
   {
    "duration": 16,
    "start_time": "2022-04-26T12:08:29.520Z"
   },
   {
    "duration": 384,
    "start_time": "2022-04-26T12:08:46.762Z"
   },
   {
    "duration": 405,
    "start_time": "2022-04-26T12:08:59.722Z"
   },
   {
    "duration": 375,
    "start_time": "2022-04-26T12:09:16.189Z"
   },
   {
    "duration": 406,
    "start_time": "2022-04-26T12:10:02.727Z"
   },
   {
    "duration": 319,
    "start_time": "2022-04-26T12:11:12.106Z"
   },
   {
    "duration": 313,
    "start_time": "2022-04-26T12:11:13.906Z"
   },
   {
    "duration": 385,
    "start_time": "2022-04-26T12:11:15.217Z"
   },
   {
    "duration": 334,
    "start_time": "2022-04-26T12:11:17.664Z"
   },
   {
    "duration": 417,
    "start_time": "2022-04-26T12:11:19.743Z"
   },
   {
    "duration": 538,
    "start_time": "2022-04-26T12:12:13.062Z"
   },
   {
    "duration": 415,
    "start_time": "2022-04-26T12:12:22.241Z"
   },
   {
    "duration": 413,
    "start_time": "2022-04-26T12:15:20.037Z"
   },
   {
    "duration": 395,
    "start_time": "2022-04-26T12:15:26.798Z"
   },
   {
    "duration": 209,
    "start_time": "2022-04-26T12:16:25.139Z"
   },
   {
    "duration": 232,
    "start_time": "2022-04-26T12:16:45.113Z"
   },
   {
    "duration": 295,
    "start_time": "2022-04-26T12:16:53.827Z"
   },
   {
    "duration": 286,
    "start_time": "2022-04-26T12:17:16.211Z"
   },
   {
    "duration": 300,
    "start_time": "2022-04-26T12:17:28.642Z"
   },
   {
    "duration": 292,
    "start_time": "2022-04-26T12:17:36.610Z"
   },
   {
    "duration": 556,
    "start_time": "2022-04-26T12:17:44.665Z"
   },
   {
    "duration": 387,
    "start_time": "2022-04-26T12:18:01.153Z"
   },
   {
    "duration": 402,
    "start_time": "2022-04-26T12:18:49.753Z"
   },
   {
    "duration": 496,
    "start_time": "2022-04-26T12:19:03.280Z"
   },
   {
    "duration": 281,
    "start_time": "2022-04-26T12:19:16.094Z"
   },
   {
    "duration": 304,
    "start_time": "2022-04-26T12:19:19.825Z"
   },
   {
    "duration": 277,
    "start_time": "2022-04-26T12:19:25.425Z"
   },
   {
    "duration": 283,
    "start_time": "2022-04-26T12:19:30.840Z"
   },
   {
    "duration": 401,
    "start_time": "2022-04-26T12:19:37.217Z"
   },
   {
    "duration": 295,
    "start_time": "2022-04-26T12:19:43.225Z"
   },
   {
    "duration": 302,
    "start_time": "2022-04-26T12:19:52.408Z"
   },
   {
    "duration": 270,
    "start_time": "2022-04-26T12:21:26.304Z"
   },
   {
    "duration": 291,
    "start_time": "2022-04-26T12:22:03.143Z"
   },
   {
    "duration": 297,
    "start_time": "2022-04-26T12:22:13.063Z"
   },
   {
    "duration": 319,
    "start_time": "2022-04-26T12:22:19.413Z"
   },
   {
    "duration": 323,
    "start_time": "2022-04-26T12:23:48.069Z"
   },
   {
    "duration": 12,
    "start_time": "2022-04-26T12:24:22.400Z"
   },
   {
    "duration": 202,
    "start_time": "2022-04-26T12:24:45.829Z"
   },
   {
    "duration": 223,
    "start_time": "2022-04-26T12:25:07.829Z"
   },
   {
    "duration": 205,
    "start_time": "2022-04-26T12:25:48.845Z"
   },
   {
    "duration": 317,
    "start_time": "2022-04-26T12:25:56.907Z"
   },
   {
    "duration": 186,
    "start_time": "2022-04-26T12:26:44.325Z"
   },
   {
    "duration": 180,
    "start_time": "2022-04-26T12:27:52.228Z"
   },
   {
    "duration": 183,
    "start_time": "2022-04-26T12:28:01.252Z"
   },
   {
    "duration": 228,
    "start_time": "2022-04-26T12:28:11.164Z"
   },
   {
    "duration": 201,
    "start_time": "2022-04-26T12:28:17.627Z"
   },
   {
    "duration": 194,
    "start_time": "2022-04-26T12:28:30.428Z"
   },
   {
    "duration": 222,
    "start_time": "2022-04-26T12:29:16.219Z"
   },
   {
    "duration": 232,
    "start_time": "2022-04-26T12:29:29.514Z"
   },
   {
    "duration": 22,
    "start_time": "2022-04-26T12:30:32.114Z"
   },
   {
    "duration": 202,
    "start_time": "2022-04-26T12:31:21.527Z"
   },
   {
    "duration": 205,
    "start_time": "2022-04-26T12:31:30.618Z"
   },
   {
    "duration": 233,
    "start_time": "2022-04-26T12:31:52.502Z"
   },
   {
    "duration": 237,
    "start_time": "2022-04-26T12:32:02.177Z"
   },
   {
    "duration": 272,
    "start_time": "2022-04-26T12:32:17.371Z"
   },
   {
    "duration": 423,
    "start_time": "2022-04-26T12:32:30.944Z"
   },
   {
    "duration": 316,
    "start_time": "2022-04-26T12:32:45.240Z"
   },
   {
    "duration": 394,
    "start_time": "2022-04-26T12:33:21.724Z"
   },
   {
    "duration": 292,
    "start_time": "2022-04-26T12:35:03.007Z"
   },
   {
    "duration": 302,
    "start_time": "2022-04-26T12:35:16.105Z"
   },
   {
    "duration": 2355,
    "start_time": "2022-04-26T12:36:09.382Z"
   },
   {
    "duration": 294,
    "start_time": "2022-04-26T12:36:32.110Z"
   },
   {
    "duration": 233,
    "start_time": "2022-04-26T12:40:36.378Z"
   },
   {
    "duration": 19,
    "start_time": "2022-04-26T12:41:43.265Z"
   },
   {
    "duration": 191,
    "start_time": "2022-04-26T12:42:24.530Z"
   },
   {
    "duration": 271,
    "start_time": "2022-04-26T12:43:36.008Z"
   },
   {
    "duration": 170,
    "start_time": "2022-04-26T12:43:46.943Z"
   },
   {
    "duration": 195,
    "start_time": "2022-04-26T12:44:18.014Z"
   },
   {
    "duration": 300,
    "start_time": "2022-04-26T12:45:51.029Z"
   },
   {
    "duration": 12,
    "start_time": "2022-04-26T13:14:06.326Z"
   },
   {
    "duration": 9,
    "start_time": "2022-04-26T13:14:47.631Z"
   },
   {
    "duration": 10,
    "start_time": "2022-04-26T13:15:13.546Z"
   },
   {
    "duration": 223,
    "start_time": "2022-04-26T13:15:22.865Z"
   },
   {
    "duration": 15,
    "start_time": "2022-04-26T13:16:21.872Z"
   },
   {
    "duration": 4,
    "start_time": "2022-04-26T17:19:01.873Z"
   },
   {
    "duration": 84,
    "start_time": "2022-04-26T17:19:01.879Z"
   },
   {
    "duration": 15,
    "start_time": "2022-04-26T17:19:01.965Z"
   },
   {
    "duration": 41,
    "start_time": "2022-04-26T17:19:01.983Z"
   },
   {
    "duration": 11,
    "start_time": "2022-04-26T17:19:02.026Z"
   },
   {
    "duration": 24,
    "start_time": "2022-04-26T17:19:02.040Z"
   },
   {
    "duration": 54,
    "start_time": "2022-04-26T17:19:02.066Z"
   },
   {
    "duration": 56,
    "start_time": "2022-04-26T17:19:02.123Z"
   },
   {
    "duration": 18,
    "start_time": "2022-04-26T17:19:02.188Z"
   },
   {
    "duration": 36,
    "start_time": "2022-04-26T17:19:02.210Z"
   },
   {
    "duration": 16,
    "start_time": "2022-04-26T17:19:02.248Z"
   },
   {
    "duration": 505,
    "start_time": "2022-04-26T17:19:02.266Z"
   },
   {
    "duration": 441,
    "start_time": "2022-04-26T17:19:02.774Z"
   },
   {
    "duration": 370,
    "start_time": "2022-04-26T17:19:03.217Z"
   },
   {
    "duration": 448,
    "start_time": "2022-04-26T17:19:03.591Z"
   },
   {
    "duration": 382,
    "start_time": "2022-04-26T17:19:04.041Z"
   },
   {
    "duration": 469,
    "start_time": "2022-04-26T17:19:04.425Z"
   },
   {
    "duration": 218,
    "start_time": "2022-04-26T17:19:04.898Z"
   },
   {
    "duration": 318,
    "start_time": "2022-04-26T17:19:05.119Z"
   },
   {
    "duration": 364,
    "start_time": "2022-04-26T17:19:05.440Z"
   },
   {
    "duration": 10,
    "start_time": "2022-04-26T17:33:47.640Z"
   },
   {
    "duration": 11,
    "start_time": "2022-04-26T17:33:51.097Z"
   },
   {
    "duration": 875,
    "start_time": "2022-04-26T17:33:55.968Z"
   },
   {
    "duration": 102,
    "start_time": "2022-04-26T17:34:35.941Z"
   },
   {
    "duration": 9,
    "start_time": "2022-04-26T17:36:38.424Z"
   },
   {
    "duration": 7,
    "start_time": "2022-04-26T17:39:29.464Z"
   },
   {
    "duration": 218,
    "start_time": "2022-04-26T17:44:14.626Z"
   },
   {
    "duration": 404,
    "start_time": "2022-04-26T17:45:49.270Z"
   },
   {
    "duration": 414,
    "start_time": "2022-04-26T17:46:11.453Z"
   },
   {
    "duration": 221,
    "start_time": "2022-04-26T17:46:38.851Z"
   },
   {
    "duration": 310,
    "start_time": "2022-04-26T17:46:51.497Z"
   },
   {
    "duration": 7,
    "start_time": "2022-04-26T17:48:13.404Z"
   },
   {
    "duration": 374,
    "start_time": "2022-04-26T17:49:15.717Z"
   },
   {
    "duration": 312,
    "start_time": "2022-04-26T17:49:29.472Z"
   },
   {
    "duration": 317,
    "start_time": "2022-04-26T17:49:31.949Z"
   },
   {
    "duration": 335,
    "start_time": "2022-04-26T17:53:56.863Z"
   },
   {
    "duration": 20,
    "start_time": "2022-04-26T18:00:43.111Z"
   },
   {
    "duration": 10,
    "start_time": "2022-04-26T18:01:52.217Z"
   },
   {
    "duration": 13,
    "start_time": "2022-04-26T18:01:55.123Z"
   },
   {
    "duration": 12,
    "start_time": "2022-04-26T18:02:17.816Z"
   },
   {
    "duration": 13,
    "start_time": "2022-04-26T18:02:20.752Z"
   },
   {
    "duration": 21,
    "start_time": "2022-04-26T18:02:45.583Z"
   },
   {
    "duration": 13,
    "start_time": "2022-04-26T18:02:50.016Z"
   },
   {
    "duration": 14,
    "start_time": "2022-04-26T18:02:54.665Z"
   },
   {
    "duration": 18,
    "start_time": "2022-04-26T18:04:15.047Z"
   },
   {
    "duration": 13,
    "start_time": "2022-04-26T18:07:35.982Z"
   },
   {
    "duration": 9,
    "start_time": "2022-04-26T18:09:07.247Z"
   },
   {
    "duration": 17,
    "start_time": "2022-04-26T18:09:09.906Z"
   },
   {
    "duration": 26,
    "start_time": "2022-04-26T18:14:02.620Z"
   },
   {
    "duration": 26,
    "start_time": "2022-04-26T18:14:22.527Z"
   },
   {
    "duration": 21,
    "start_time": "2022-04-26T18:15:07.646Z"
   },
   {
    "duration": 17,
    "start_time": "2022-04-26T18:15:15.257Z"
   },
   {
    "duration": 20,
    "start_time": "2022-04-26T18:15:36.509Z"
   },
   {
    "duration": 16,
    "start_time": "2022-04-26T18:15:37.259Z"
   },
   {
    "duration": 7,
    "start_time": "2022-04-26T18:15:37.842Z"
   },
   {
    "duration": 8,
    "start_time": "2022-04-26T18:15:53.457Z"
   },
   {
    "duration": 8,
    "start_time": "2022-04-26T18:16:00.946Z"
   },
   {
    "duration": 20,
    "start_time": "2022-04-26T18:16:10.797Z"
   },
   {
    "duration": 23,
    "start_time": "2022-04-26T18:16:42.828Z"
   },
   {
    "duration": 7,
    "start_time": "2022-04-26T18:16:47.141Z"
   },
   {
    "duration": 118,
    "start_time": "2022-04-26T18:21:26.017Z"
   },
   {
    "duration": 674,
    "start_time": "2022-04-26T18:21:32.958Z"
   },
   {
    "duration": 4,
    "start_time": "2022-04-26T18:21:37.439Z"
   },
   {
    "duration": 88,
    "start_time": "2022-04-26T18:22:01.112Z"
   },
   {
    "duration": 5,
    "start_time": "2022-04-26T18:22:19.097Z"
   },
   {
    "duration": 64,
    "start_time": "2022-04-26T18:22:25.249Z"
   },
   {
    "duration": 76,
    "start_time": "2022-04-26T18:23:38.065Z"
   },
   {
    "duration": 50,
    "start_time": "2022-04-26T18:23:46.234Z"
   },
   {
    "duration": 6,
    "start_time": "2022-04-26T18:27:36.931Z"
   },
   {
    "duration": 6,
    "start_time": "2022-04-26T18:27:45.574Z"
   },
   {
    "duration": 19,
    "start_time": "2022-04-26T18:33:22.518Z"
   },
   {
    "duration": 1693,
    "start_time": "2022-04-26T18:35:28.671Z"
   },
   {
    "duration": 1725,
    "start_time": "2022-04-26T18:36:48.012Z"
   },
   {
    "duration": 15,
    "start_time": "2022-04-26T18:37:02.047Z"
   },
   {
    "duration": 16,
    "start_time": "2022-04-26T18:37:09.707Z"
   },
   {
    "duration": 13,
    "start_time": "2022-04-26T19:03:29.908Z"
   },
   {
    "duration": 11,
    "start_time": "2022-04-26T19:03:35.851Z"
   },
   {
    "duration": 7,
    "start_time": "2022-04-26T19:03:39.554Z"
   },
   {
    "duration": 13,
    "start_time": "2022-04-26T19:05:21.641Z"
   },
   {
    "duration": 6,
    "start_time": "2022-04-26T19:05:25.295Z"
   },
   {
    "duration": 13,
    "start_time": "2022-04-26T19:06:34.771Z"
   },
   {
    "duration": 7,
    "start_time": "2022-04-26T19:06:40.224Z"
   },
   {
    "duration": 7,
    "start_time": "2022-04-26T19:06:41.519Z"
   },
   {
    "duration": 7,
    "start_time": "2022-04-26T19:06:53.328Z"
   },
   {
    "duration": 16,
    "start_time": "2022-04-26T19:07:45.288Z"
   },
   {
    "duration": 7,
    "start_time": "2022-04-26T19:07:47.029Z"
   },
   {
    "duration": 22,
    "start_time": "2022-04-26T19:08:20.248Z"
   },
   {
    "duration": 19,
    "start_time": "2022-04-26T19:08:28.524Z"
   },
   {
    "duration": 52,
    "start_time": "2022-04-26T19:11:21.320Z"
   },
   {
    "duration": 49,
    "start_time": "2022-04-26T19:11:36.709Z"
   },
   {
    "duration": 47,
    "start_time": "2022-04-26T19:12:34.651Z"
   },
   {
    "duration": 8,
    "start_time": "2022-04-26T19:12:51.268Z"
   },
   {
    "duration": 9,
    "start_time": "2022-04-26T19:13:41.612Z"
   },
   {
    "duration": 18,
    "start_time": "2022-04-26T19:14:14.961Z"
   },
   {
    "duration": 13,
    "start_time": "2022-04-26T19:14:27.847Z"
   },
   {
    "duration": 40,
    "start_time": "2022-04-26T19:14:32.839Z"
   },
   {
    "duration": 15,
    "start_time": "2022-04-26T19:16:12.023Z"
   },
   {
    "duration": 31,
    "start_time": "2022-04-26T19:20:43.712Z"
   },
   {
    "duration": 31,
    "start_time": "2022-04-26T19:20:50.349Z"
   },
   {
    "duration": 1496,
    "start_time": "2022-04-26T19:57:15.931Z"
   },
   {
    "duration": 25,
    "start_time": "2022-04-26T19:57:17.431Z"
   },
   {
    "duration": 44,
    "start_time": "2022-04-26T19:57:17.459Z"
   },
   {
    "duration": 11,
    "start_time": "2022-04-26T19:57:17.509Z"
   },
   {
    "duration": 8,
    "start_time": "2022-04-26T19:57:17.522Z"
   },
   {
    "duration": 20,
    "start_time": "2022-04-26T19:57:17.533Z"
   },
   {
    "duration": 56,
    "start_time": "2022-04-26T19:57:17.555Z"
   },
   {
    "duration": 52,
    "start_time": "2022-04-26T19:57:17.614Z"
   },
   {
    "duration": 27,
    "start_time": "2022-04-26T19:57:17.669Z"
   },
   {
    "duration": 41,
    "start_time": "2022-04-26T19:57:17.700Z"
   },
   {
    "duration": 13,
    "start_time": "2022-04-26T19:57:17.744Z"
   },
   {
    "duration": 511,
    "start_time": "2022-04-26T19:57:17.759Z"
   },
   {
    "duration": 488,
    "start_time": "2022-04-26T19:57:18.273Z"
   },
   {
    "duration": 337,
    "start_time": "2022-04-26T19:57:18.763Z"
   },
   {
    "duration": 413,
    "start_time": "2022-04-26T19:57:19.103Z"
   },
   {
    "duration": 422,
    "start_time": "2022-04-26T19:57:19.518Z"
   },
   {
    "duration": 450,
    "start_time": "2022-04-26T19:57:19.942Z"
   },
   {
    "duration": 224,
    "start_time": "2022-04-26T19:57:20.395Z"
   },
   {
    "duration": 8,
    "start_time": "2022-04-26T19:57:20.622Z"
   },
   {
    "duration": 337,
    "start_time": "2022-04-26T19:57:20.632Z"
   },
   {
    "duration": 337,
    "start_time": "2022-04-26T19:57:20.972Z"
   },
   {
    "duration": 9,
    "start_time": "2022-04-26T19:57:21.317Z"
   },
   {
    "duration": 379,
    "start_time": "2022-04-26T19:57:21.328Z"
   },
   {
    "duration": 171,
    "start_time": "2022-04-26T19:57:21.711Z"
   },
   {
    "duration": 16,
    "start_time": "2022-04-26T19:57:21.887Z"
   },
   {
    "duration": 36,
    "start_time": "2022-04-26T19:57:21.906Z"
   },
   {
    "duration": 76,
    "start_time": "2022-04-26T19:57:21.945Z"
   },
   {
    "duration": 21,
    "start_time": "2022-04-26T19:57:22.027Z"
   },
   {
    "duration": 1676,
    "start_time": "2022-04-26T19:59:00.688Z"
   },
   {
    "duration": 33,
    "start_time": "2022-04-26T19:59:02.367Z"
   },
   {
    "duration": 29,
    "start_time": "2022-04-26T19:59:02.402Z"
   },
   {
    "duration": 9,
    "start_time": "2022-04-26T19:59:02.434Z"
   },
   {
    "duration": 13,
    "start_time": "2022-04-26T19:59:02.445Z"
   },
   {
    "duration": 48,
    "start_time": "2022-04-26T19:59:02.461Z"
   },
   {
    "duration": 23,
    "start_time": "2022-04-26T19:59:02.514Z"
   },
   {
    "duration": 55,
    "start_time": "2022-04-26T19:59:02.540Z"
   },
   {
    "duration": 33,
    "start_time": "2022-04-26T19:59:02.597Z"
   },
   {
    "duration": 35,
    "start_time": "2022-04-26T19:59:02.635Z"
   },
   {
    "duration": 49,
    "start_time": "2022-04-26T19:59:02.673Z"
   },
   {
    "duration": 506,
    "start_time": "2022-04-26T19:59:02.724Z"
   },
   {
    "duration": 499,
    "start_time": "2022-04-26T19:59:03.232Z"
   },
   {
    "duration": 332,
    "start_time": "2022-04-26T19:59:03.733Z"
   },
   {
    "duration": 457,
    "start_time": "2022-04-26T19:59:04.067Z"
   },
   {
    "duration": 369,
    "start_time": "2022-04-26T19:59:04.527Z"
   },
   {
    "duration": 420,
    "start_time": "2022-04-26T19:59:04.899Z"
   },
   {
    "duration": 227,
    "start_time": "2022-04-26T19:59:05.322Z"
   },
   {
    "duration": 6,
    "start_time": "2022-04-26T19:59:05.551Z"
   },
   {
    "duration": 354,
    "start_time": "2022-04-26T19:59:05.559Z"
   },
   {
    "duration": 343,
    "start_time": "2022-04-26T19:59:05.918Z"
   },
   {
    "duration": 18,
    "start_time": "2022-04-26T19:59:06.263Z"
   },
   {
    "duration": 364,
    "start_time": "2022-04-26T19:59:06.283Z"
   },
   {
    "duration": 203,
    "start_time": "2022-04-26T19:59:06.649Z"
   },
   {
    "duration": 42,
    "start_time": "2022-04-26T19:59:06.855Z"
   },
   {
    "duration": 22,
    "start_time": "2022-04-26T19:59:06.903Z"
   },
   {
    "duration": 84,
    "start_time": "2022-04-26T19:59:06.928Z"
   },
   {
    "duration": 20,
    "start_time": "2022-04-26T19:59:07.019Z"
   },
   {
    "duration": 1194,
    "start_time": "2022-04-27T12:16:36.871Z"
   },
   {
    "duration": 21,
    "start_time": "2022-04-27T12:28:40.425Z"
   },
   {
    "duration": 9,
    "start_time": "2022-04-27T12:28:42.487Z"
   },
   {
    "duration": 3,
    "start_time": "2022-04-27T12:28:44.902Z"
   },
   {
    "duration": 4,
    "start_time": "2022-04-27T12:28:46.150Z"
   },
   {
    "duration": 13,
    "start_time": "2022-04-27T12:28:51.655Z"
   },
   {
    "duration": 11,
    "start_time": "2022-04-27T12:28:57.694Z"
   },
   {
    "duration": 35,
    "start_time": "2022-04-27T12:29:04.979Z"
   },
   {
    "duration": 10,
    "start_time": "2022-04-27T12:29:05.016Z"
   },
   {
    "duration": 10,
    "start_time": "2022-04-27T12:29:06.190Z"
   },
   {
    "duration": 6,
    "start_time": "2022-04-27T12:29:17.966Z"
   },
   {
    "duration": 13,
    "start_time": "2022-04-27T12:30:11.326Z"
   },
   {
    "duration": 13,
    "start_time": "2022-04-27T12:30:38.892Z"
   },
   {
    "duration": 13,
    "start_time": "2022-04-27T12:30:57.669Z"
   },
   {
    "duration": 11,
    "start_time": "2022-04-27T12:31:35.556Z"
   },
   {
    "duration": 9,
    "start_time": "2022-04-27T12:31:46.516Z"
   },
   {
    "duration": 1834,
    "start_time": "2022-04-27T12:36:03.087Z"
   },
   {
    "duration": 10,
    "start_time": "2022-04-27T12:36:30.177Z"
   },
   {
    "duration": 8,
    "start_time": "2022-04-27T12:37:12.592Z"
   },
   {
    "duration": 12,
    "start_time": "2022-04-27T12:37:23.392Z"
   },
   {
    "duration": 11,
    "start_time": "2022-04-27T12:38:20.352Z"
   },
   {
    "duration": 3,
    "start_time": "2022-04-27T12:38:47.103Z"
   },
   {
    "duration": 8,
    "start_time": "2022-04-27T12:38:52.919Z"
   },
   {
    "duration": 4,
    "start_time": "2022-04-27T12:39:13.311Z"
   },
   {
    "duration": 34,
    "start_time": "2022-04-27T12:39:27.431Z"
   },
   {
    "duration": 10,
    "start_time": "2022-04-27T12:39:28.463Z"
   },
   {
    "duration": 10,
    "start_time": "2022-04-27T12:39:29.407Z"
   },
   {
    "duration": 6,
    "start_time": "2022-04-27T12:39:33.078Z"
   },
   {
    "duration": 8,
    "start_time": "2022-04-27T12:39:35.183Z"
   },
   {
    "duration": 3,
    "start_time": "2022-04-27T12:39:49.247Z"
   },
   {
    "duration": 7,
    "start_time": "2022-04-27T12:40:05.863Z"
   },
   {
    "duration": 4,
    "start_time": "2022-04-27T12:40:09.824Z"
   },
   {
    "duration": 34,
    "start_time": "2022-04-27T12:52:41.259Z"
   },
   {
    "duration": 11,
    "start_time": "2022-04-27T12:52:41.421Z"
   },
   {
    "duration": 10,
    "start_time": "2022-04-27T12:52:41.950Z"
   },
   {
    "duration": 6,
    "start_time": "2022-04-27T12:52:42.901Z"
   },
   {
    "duration": 10,
    "start_time": "2022-04-27T12:52:43.989Z"
   },
   {
    "duration": 8,
    "start_time": "2022-04-27T12:52:46.061Z"
   },
   {
    "duration": 12,
    "start_time": "2022-04-27T12:54:25.541Z"
   },
   {
    "duration": 18,
    "start_time": "2022-04-27T12:54:30.596Z"
   },
   {
    "duration": 222,
    "start_time": "2022-04-27T12:54:59.044Z"
   },
   {
    "duration": 150,
    "start_time": "2022-04-27T12:55:49.820Z"
   },
   {
    "duration": 137,
    "start_time": "2022-04-27T12:56:10.300Z"
   },
   {
    "duration": 19,
    "start_time": "2022-04-27T13:23:30.108Z"
   },
   {
    "duration": 35,
    "start_time": "2022-04-27T13:23:57.516Z"
   },
   {
    "duration": 17,
    "start_time": "2022-04-27T13:24:28.975Z"
   },
   {
    "duration": 17,
    "start_time": "2022-04-27T13:25:05.883Z"
   },
   {
    "duration": 4,
    "start_time": "2022-04-27T13:27:37.460Z"
   },
   {
    "duration": 8,
    "start_time": "2022-04-27T13:27:46.275Z"
   },
   {
    "duration": 9,
    "start_time": "2022-04-27T13:27:49.859Z"
   },
   {
    "duration": 5,
    "start_time": "2022-04-27T13:28:00.588Z"
   },
   {
    "duration": 6,
    "start_time": "2022-04-27T13:28:09.971Z"
   },
   {
    "duration": 7,
    "start_time": "2022-04-27T13:28:43.115Z"
   },
   {
    "duration": 6,
    "start_time": "2022-04-27T13:29:03.348Z"
   },
   {
    "duration": 10,
    "start_time": "2022-04-27T13:30:09.914Z"
   },
   {
    "duration": 270,
    "start_time": "2022-04-27T13:30:15.458Z"
   },
   {
    "duration": 175,
    "start_time": "2022-04-27T13:30:16.970Z"
   },
   {
    "duration": 193,
    "start_time": "2022-04-27T13:30:42.154Z"
   },
   {
    "duration": 182,
    "start_time": "2022-04-27T13:30:59.978Z"
   },
   {
    "duration": 379,
    "start_time": "2022-04-27T13:31:21.081Z"
   },
   {
    "duration": 256,
    "start_time": "2022-04-27T13:31:35.553Z"
   },
   {
    "duration": 272,
    "start_time": "2022-04-27T13:31:57.281Z"
   },
   {
    "duration": 184,
    "start_time": "2022-04-27T13:32:09.833Z"
   },
   {
    "duration": 185,
    "start_time": "2022-04-27T13:32:17.449Z"
   },
   {
    "duration": 245,
    "start_time": "2022-04-27T13:32:26.960Z"
   },
   {
    "duration": 286,
    "start_time": "2022-04-27T13:32:37.240Z"
   },
   {
    "duration": 16,
    "start_time": "2022-04-27T13:33:20.406Z"
   },
   {
    "duration": 148,
    "start_time": "2022-04-27T13:33:53.367Z"
   },
   {
    "duration": 144,
    "start_time": "2022-04-27T13:34:07.222Z"
   },
   {
    "duration": 141,
    "start_time": "2022-04-27T13:34:27.190Z"
   },
   {
    "duration": 284,
    "start_time": "2022-04-27T13:34:30.478Z"
   },
   {
    "duration": 179,
    "start_time": "2022-04-27T13:34:54.703Z"
   },
   {
    "duration": 182,
    "start_time": "2022-04-27T13:34:59.295Z"
   },
   {
    "duration": 411,
    "start_time": "2022-04-27T13:35:05.422Z"
   },
   {
    "duration": 198,
    "start_time": "2022-04-27T13:35:11.759Z"
   },
   {
    "duration": 317,
    "start_time": "2022-04-27T13:35:17.287Z"
   },
   {
    "duration": 147,
    "start_time": "2022-04-27T13:35:49.238Z"
   },
   {
    "duration": 140,
    "start_time": "2022-04-27T13:35:53.924Z"
   },
   {
    "duration": 169,
    "start_time": "2022-04-27T13:36:23.262Z"
   },
   {
    "duration": 5,
    "start_time": "2022-04-27T13:36:43.069Z"
   },
   {
    "duration": 173,
    "start_time": "2022-04-27T13:36:57.149Z"
   },
   {
    "duration": 172,
    "start_time": "2022-04-27T13:37:36.189Z"
   },
   {
    "duration": 193,
    "start_time": "2022-04-27T13:37:58.109Z"
   },
   {
    "duration": 37,
    "start_time": "2022-04-27T13:38:43.202Z"
   },
   {
    "duration": 35,
    "start_time": "2022-04-27T13:38:45.588Z"
   },
   {
    "duration": 10,
    "start_time": "2022-04-27T13:38:46.140Z"
   },
   {
    "duration": 10,
    "start_time": "2022-04-27T13:38:46.572Z"
   },
   {
    "duration": 5,
    "start_time": "2022-04-27T13:38:47.156Z"
   },
   {
    "duration": 9,
    "start_time": "2022-04-27T13:38:47.484Z"
   },
   {
    "duration": 7,
    "start_time": "2022-04-27T13:38:48.211Z"
   },
   {
    "duration": 6,
    "start_time": "2022-04-27T13:38:48.867Z"
   },
   {
    "duration": 273,
    "start_time": "2022-04-27T13:38:50.453Z"
   },
   {
    "duration": 189,
    "start_time": "2022-04-27T13:38:51.396Z"
   },
   {
    "duration": 185,
    "start_time": "2022-04-27T13:38:53.347Z"
   },
   {
    "duration": 377,
    "start_time": "2022-04-27T13:38:54.724Z"
   },
   {
    "duration": 182,
    "start_time": "2022-04-27T13:38:56.635Z"
   },
   {
    "duration": 277,
    "start_time": "2022-04-27T13:38:58.731Z"
   },
   {
    "duration": 149,
    "start_time": "2022-04-27T13:39:00.779Z"
   },
   {
    "duration": 9,
    "start_time": "2022-04-27T13:39:49.075Z"
   },
   {
    "duration": 33,
    "start_time": "2022-04-27T13:39:56.259Z"
   },
   {
    "duration": 10,
    "start_time": "2022-04-27T13:39:56.419Z"
   },
   {
    "duration": 10,
    "start_time": "2022-04-27T13:39:56.579Z"
   },
   {
    "duration": 6,
    "start_time": "2022-04-27T13:39:56.907Z"
   },
   {
    "duration": 11,
    "start_time": "2022-04-27T13:39:57.634Z"
   },
   {
    "duration": 10,
    "start_time": "2022-04-27T13:39:59.003Z"
   },
   {
    "duration": 10,
    "start_time": "2022-04-27T13:40:09.419Z"
   },
   {
    "duration": 10,
    "start_time": "2022-04-27T13:40:12.035Z"
   },
   {
    "duration": 1130,
    "start_time": "2022-04-27T13:40:31.227Z"
   },
   {
    "duration": 18,
    "start_time": "2022-04-27T13:40:32.359Z"
   },
   {
    "duration": 10,
    "start_time": "2022-04-27T13:40:32.379Z"
   },
   {
    "duration": 9,
    "start_time": "2022-04-27T13:40:32.391Z"
   },
   {
    "duration": 10,
    "start_time": "2022-04-27T13:40:32.401Z"
   },
   {
    "duration": 22,
    "start_time": "2022-04-27T13:40:32.412Z"
   },
   {
    "duration": 10,
    "start_time": "2022-04-27T13:40:32.436Z"
   },
   {
    "duration": 63,
    "start_time": "2022-04-27T13:40:32.447Z"
   },
   {
    "duration": 9,
    "start_time": "2022-04-27T13:40:32.512Z"
   },
   {
    "duration": 19,
    "start_time": "2022-04-27T13:40:32.523Z"
   },
   {
    "duration": 49,
    "start_time": "2022-04-27T13:40:32.544Z"
   },
   {
    "duration": 29,
    "start_time": "2022-04-27T13:40:32.594Z"
   },
   {
    "duration": 10,
    "start_time": "2022-04-27T13:40:34.503Z"
   },
   {
    "duration": 9,
    "start_time": "2022-04-27T13:40:35.079Z"
   },
   {
    "duration": 15,
    "start_time": "2022-04-27T13:40:46.646Z"
   },
   {
    "duration": 13,
    "start_time": "2022-04-27T13:41:13.263Z"
   },
   {
    "duration": 91,
    "start_time": "2022-04-27T13:41:53.421Z"
   },
   {
    "duration": 10,
    "start_time": "2022-04-27T13:42:08.197Z"
   },
   {
    "duration": 9,
    "start_time": "2022-04-27T13:42:11.958Z"
   },
   {
    "duration": 13,
    "start_time": "2022-04-27T13:42:12.565Z"
   },
   {
    "duration": 10,
    "start_time": "2022-04-27T13:42:20.149Z"
   },
   {
    "duration": 14,
    "start_time": "2022-04-27T13:42:20.605Z"
   },
   {
    "duration": 13,
    "start_time": "2022-04-27T13:42:50.845Z"
   },
   {
    "duration": 12,
    "start_time": "2022-04-27T13:42:57.421Z"
   },
   {
    "duration": 12,
    "start_time": "2022-04-27T13:43:01.333Z"
   },
   {
    "duration": 10,
    "start_time": "2022-04-27T13:43:25.452Z"
   },
   {
    "duration": 6,
    "start_time": "2022-04-27T13:43:26.324Z"
   },
   {
    "duration": 6,
    "start_time": "2022-04-27T13:43:27.604Z"
   },
   {
    "duration": 268,
    "start_time": "2022-04-27T13:43:29.348Z"
   },
   {
    "duration": 268,
    "start_time": "2022-04-27T13:43:30.580Z"
   },
   {
    "duration": 199,
    "start_time": "2022-04-27T13:43:31.708Z"
   },
   {
    "duration": 253,
    "start_time": "2022-04-27T13:43:32.556Z"
   },
   {
    "duration": 202,
    "start_time": "2022-04-27T13:43:33.636Z"
   },
   {
    "duration": 294,
    "start_time": "2022-04-27T13:43:34.844Z"
   },
   {
    "duration": 178,
    "start_time": "2022-04-27T13:43:36.244Z"
   },
   {
    "duration": 5,
    "start_time": "2022-04-27T13:45:28.563Z"
   },
   {
    "duration": 5,
    "start_time": "2022-04-27T13:45:37.579Z"
   },
   {
    "duration": 3,
    "start_time": "2022-04-27T13:45:55.987Z"
   },
   {
    "duration": 182,
    "start_time": "2022-04-27T13:47:33.786Z"
   },
   {
    "duration": 274,
    "start_time": "2022-04-27T13:47:34.873Z"
   },
   {
    "duration": 395,
    "start_time": "2022-04-27T13:47:36.890Z"
   },
   {
    "duration": 266,
    "start_time": "2022-04-27T13:47:39.073Z"
   },
   {
    "duration": 139,
    "start_time": "2022-04-27T13:47:41.057Z"
   },
   {
    "duration": 5,
    "start_time": "2022-04-27T13:47:44.496Z"
   },
   {
    "duration": 3,
    "start_time": "2022-04-27T13:47:45.930Z"
   },
   {
    "duration": 167,
    "start_time": "2022-04-27T13:47:51.560Z"
   },
   {
    "duration": 172,
    "start_time": "2022-04-27T13:47:53.089Z"
   },
   {
    "duration": 6,
    "start_time": "2022-04-27T13:48:05.632Z"
   },
   {
    "duration": 5,
    "start_time": "2022-04-27T13:49:44.512Z"
   },
   {
    "duration": 4,
    "start_time": "2022-04-27T13:49:54.152Z"
   },
   {
    "duration": 187,
    "start_time": "2022-04-27T13:55:24.644Z"
   },
   {
    "duration": 3,
    "start_time": "2022-04-27T13:55:25.883Z"
   },
   {
    "duration": 33,
    "start_time": "2022-04-27T13:55:29.477Z"
   },
   {
    "duration": 11,
    "start_time": "2022-04-27T13:55:57.155Z"
   },
   {
    "duration": 3,
    "start_time": "2022-04-27T13:56:26.451Z"
   },
   {
    "duration": 11,
    "start_time": "2022-04-27T13:56:40.378Z"
   },
   {
    "duration": 27,
    "start_time": "2022-04-27T13:57:12.651Z"
   },
   {
    "duration": 14,
    "start_time": "2022-04-27T13:57:26.842Z"
   },
   {
    "duration": 1185,
    "start_time": "2022-04-27T14:01:41.012Z"
   },
   {
    "duration": 24,
    "start_time": "2022-04-27T14:01:42.199Z"
   },
   {
    "duration": 19,
    "start_time": "2022-04-27T14:01:42.226Z"
   },
   {
    "duration": 16,
    "start_time": "2022-04-27T14:01:42.247Z"
   },
   {
    "duration": 29,
    "start_time": "2022-04-27T14:01:42.264Z"
   },
   {
    "duration": 27,
    "start_time": "2022-04-27T14:01:42.295Z"
   },
   {
    "duration": 48,
    "start_time": "2022-04-27T14:01:42.324Z"
   },
   {
    "duration": 66,
    "start_time": "2022-04-27T14:01:42.374Z"
   },
   {
    "duration": 11,
    "start_time": "2022-04-27T14:01:42.442Z"
   },
   {
    "duration": 27,
    "start_time": "2022-04-27T14:01:42.456Z"
   },
   {
    "duration": 25,
    "start_time": "2022-04-27T14:01:42.485Z"
   },
   {
    "duration": 35,
    "start_time": "2022-04-27T14:01:42.512Z"
   },
   {
    "duration": 21,
    "start_time": "2022-04-27T14:01:42.549Z"
   },
   {
    "duration": 16,
    "start_time": "2022-04-27T14:01:42.571Z"
   },
   {
    "duration": 291,
    "start_time": "2022-04-27T14:01:42.589Z"
   },
   {
    "duration": 289,
    "start_time": "2022-04-27T14:01:42.881Z"
   },
   {
    "duration": 218,
    "start_time": "2022-04-27T14:01:43.172Z"
   },
   {
    "duration": 356,
    "start_time": "2022-04-27T14:01:43.392Z"
   },
   {
    "duration": 220,
    "start_time": "2022-04-27T14:01:43.749Z"
   },
   {
    "duration": 277,
    "start_time": "2022-04-27T14:01:43.971Z"
   },
   {
    "duration": 158,
    "start_time": "2022-04-27T14:01:44.250Z"
   },
   {
    "duration": 6,
    "start_time": "2022-04-27T14:01:44.410Z"
   },
   {
    "duration": 6,
    "start_time": "2022-04-27T14:01:44.424Z"
   },
   {
    "duration": 196,
    "start_time": "2022-04-27T14:01:44.432Z"
   },
   {
    "duration": 209,
    "start_time": "2022-04-27T14:01:44.633Z"
   },
   {
    "duration": 4,
    "start_time": "2022-04-27T14:01:44.844Z"
   },
   {
    "duration": 290,
    "start_time": "2022-04-27T14:01:44.849Z"
   },
   {
    "duration": 3,
    "start_time": "2022-04-27T14:01:45.144Z"
   },
   {
    "duration": 39,
    "start_time": "2022-04-27T14:01:45.149Z"
   },
   {
    "duration": 11,
    "start_time": "2022-04-27T14:01:45.189Z"
   },
   {
    "duration": 39,
    "start_time": "2022-04-27T14:01:45.202Z"
   },
   {
    "duration": 28,
    "start_time": "2022-04-27T14:01:45.243Z"
   },
   {
    "duration": 13,
    "start_time": "2022-04-27T14:01:45.273Z"
   },
   {
    "duration": 1090,
    "start_time": "2022-04-27T14:02:53.072Z"
   },
   {
    "duration": 19,
    "start_time": "2022-04-27T14:02:54.164Z"
   },
   {
    "duration": 11,
    "start_time": "2022-04-27T14:02:54.184Z"
   },
   {
    "duration": 4,
    "start_time": "2022-04-27T14:02:54.197Z"
   },
   {
    "duration": 6,
    "start_time": "2022-04-27T14:02:54.203Z"
   },
   {
    "duration": 38,
    "start_time": "2022-04-27T14:02:54.210Z"
   },
   {
    "duration": 12,
    "start_time": "2022-04-27T14:02:54.249Z"
   },
   {
    "duration": 38,
    "start_time": "2022-04-27T14:02:54.262Z"
   },
   {
    "duration": 9,
    "start_time": "2022-04-27T14:02:54.302Z"
   },
   {
    "duration": 9,
    "start_time": "2022-04-27T14:02:54.314Z"
   },
   {
    "duration": 13,
    "start_time": "2022-04-27T14:02:54.332Z"
   },
   {
    "duration": 13,
    "start_time": "2022-04-27T14:02:54.347Z"
   },
   {
    "duration": 6,
    "start_time": "2022-04-27T14:02:54.361Z"
   },
   {
    "duration": 5,
    "start_time": "2022-04-27T14:02:54.369Z"
   },
   {
    "duration": 297,
    "start_time": "2022-04-27T14:02:54.376Z"
   },
   {
    "duration": 284,
    "start_time": "2022-04-27T14:02:54.674Z"
   },
   {
    "duration": 204,
    "start_time": "2022-04-27T14:02:54.960Z"
   },
   {
    "duration": 289,
    "start_time": "2022-04-27T14:02:55.166Z"
   },
   {
    "duration": 221,
    "start_time": "2022-04-27T14:02:55.457Z"
   },
   {
    "duration": 285,
    "start_time": "2022-04-27T14:02:55.679Z"
   },
   {
    "duration": 163,
    "start_time": "2022-04-27T14:02:55.966Z"
   },
   {
    "duration": 6,
    "start_time": "2022-04-27T14:02:56.131Z"
   },
   {
    "duration": 5,
    "start_time": "2022-04-27T14:02:56.139Z"
   },
   {
    "duration": 200,
    "start_time": "2022-04-27T14:02:56.145Z"
   },
   {
    "duration": 189,
    "start_time": "2022-04-27T14:02:56.347Z"
   },
   {
    "duration": 6,
    "start_time": "2022-04-27T14:02:56.537Z"
   },
   {
    "duration": 276,
    "start_time": "2022-04-27T14:02:56.545Z"
   },
   {
    "duration": 4,
    "start_time": "2022-04-27T14:02:56.827Z"
   },
   {
    "duration": 32,
    "start_time": "2022-04-27T14:02:56.834Z"
   },
   {
    "duration": 9,
    "start_time": "2022-04-27T14:02:56.868Z"
   },
   {
    "duration": 9,
    "start_time": "2022-04-27T14:02:56.878Z"
   },
   {
    "duration": 62,
    "start_time": "2022-04-27T14:02:56.888Z"
   },
   {
    "duration": 13,
    "start_time": "2022-04-27T14:02:56.952Z"
   }
  ],
  "kernelspec": {
   "display_name": "Python 3 (ipykernel)",
   "language": "python",
   "name": "python3"
  },
  "language_info": {
   "codemirror_mode": {
    "name": "ipython",
    "version": 3
   },
   "file_extension": ".py",
   "mimetype": "text/x-python",
   "name": "python",
   "nbconvert_exporter": "python",
   "pygments_lexer": "ipython3",
   "version": "3.9.13"
  },
  "nbTranslate": {
   "displayLangs": [
    "en",
    "ru"
   ],
   "hotkey": "alt-t",
   "langInMainMenu": true,
   "sourceLang": "ru",
   "targetLang": "en",
   "useGoogleTranslate": true
  },
  "toc": {
   "base_numbering": 1,
   "nav_menu": {},
   "number_sections": true,
   "sideBar": true,
   "skip_h1_title": true,
   "title_cell": "Table of Contents",
   "title_sidebar": "Contents",
   "toc_cell": false,
   "toc_position": {},
   "toc_section_display": true,
   "toc_window_display": false
  },
  "varInspector": {
   "cols": {
    "lenName": 16,
    "lenType": 16,
    "lenVar": 40
   },
   "kernels_config": {
    "python": {
     "delete_cmd_postfix": "",
     "delete_cmd_prefix": "del ",
     "library": "var_list.py",
     "varRefreshCmd": "print(var_dic_list())"
    },
    "r": {
     "delete_cmd_postfix": ") ",
     "delete_cmd_prefix": "rm(",
     "library": "var_list.r",
     "varRefreshCmd": "cat(var_dic_list()) "
    }
   },
   "types_to_exclude": [
    "module",
    "function",
    "builtin_function_or_method",
    "instance",
    "_Feature"
   ],
   "window_display": false
  }
 },
 "nbformat": 4,
 "nbformat_minor": 2
}
