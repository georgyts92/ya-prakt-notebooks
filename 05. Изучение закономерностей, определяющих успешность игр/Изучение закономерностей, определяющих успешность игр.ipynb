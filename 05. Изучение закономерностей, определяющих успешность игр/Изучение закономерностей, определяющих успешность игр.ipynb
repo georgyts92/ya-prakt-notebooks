{
 "cells": [
  {
   "cell_type": "markdown",
   "metadata": {},
   "source": [
    "# Изучение закономерностей, определяющих успешность игр\n",
    "\n",
    "## Описание проекта\n",
    "\n",
    "Интернет-магазин «Стримчик» продаёт по всему миру\n",
    "компьютерные игры. Из открытых источников доступны исторические данные о\n",
    "продажах игр, оценки пользователей и экспертов, жанры и платформы\n",
    "(например, Xboxили PlayStation). Нужно выявить определяющие успешность\n",
    "игры закономерности. Это позволит сделать ставку на потенциально популярный\n",
    "продукт и спланировать рекламные кампании.\n",
    "\n",
    "Перед нами данные до 2016 года. Представим, что сейчас декабрь 2016 г., и мы\n",
    "планируем кампанию на 2017-й. Нужно отработать принцип работы с данными.\n",
    "Неважно, прогнозируем ли мы продажи на 2017 год по данным 2016-го или же\n",
    "2027-й — по данным 2026 года.\n",
    "\n",
    "В наборе данных попадается аббревиатура ESRB (Entertainment Software Rating\n",
    "Board) — это ассоциация, определяющая возрастной рейтинг компьютерных\n",
    "игр. ESRB оценивает игровой контент и присваивает ему подходящую возрастную\n",
    "категорию, например, «Для взрослых», «Для детей младшего возраста» или «Для\n",
    "подростков».\n",
    "\n",
    "## Описание данных\n",
    "\n",
    "- `Name` — название игры\n",
    "- `Platform` — платформа\n",
    "- `Year_of_Release` — год выпуска\n",
    "- `Genre` — жанр игры\n",
    "- `NA_sales` — продажи в Северной Америке (миллионы проданных копий)\n",
    "- `EU_sales` — продажи в Европе (миллионы проданных копий)\n",
    "- `JP_sales` — продажи в Японии (миллионы проданных копий)\n",
    "- `Other_sales` — продажи в других странах (миллионы проданных копий)\n",
    "- `Critic_Score` — оценка критиков (максимум 100)\n",
    "- `User_Score` — оценка пользователей (максимум 10)\n",
    "- `Rating` — рейтинг от организации ESRB (англ. Entertainment Software Rating Board). Эта ассоциация определяет рейтинг компьютерных игр и присваивает им подходящую возрастную категорию.\n",
    "\n",
    "Данные за 2016 год могут быть неполными."
   ]
  },
  {
   "cell_type": "markdown",
   "metadata": {},
   "source": [
    "## Предобработка данных"
   ]
  },
  {
   "cell_type": "code",
   "execution_count": 1,
   "metadata": {},
   "outputs": [],
   "source": [
    "# Импортируем библиотеки для анализа\n",
    "import pandas as pd\n",
    "import numpy as np\n",
    "import math\n",
    "import seaborn as sns\n",
    "import matplotlib.pyplot as plt\n",
    "from scipy import stats as st"
   ]
  },
  {
   "cell_type": "code",
   "execution_count": 2,
   "metadata": {},
   "outputs": [
    {
     "data": {
      "text/html": [
       "<div>\n",
       "<style scoped>\n",
       "    .dataframe tbody tr th:only-of-type {\n",
       "        vertical-align: middle;\n",
       "    }\n",
       "\n",
       "    .dataframe tbody tr th {\n",
       "        vertical-align: top;\n",
       "    }\n",
       "\n",
       "    .dataframe thead th {\n",
       "        text-align: right;\n",
       "    }\n",
       "</style>\n",
       "<table border=\"1\" class=\"dataframe\">\n",
       "  <thead>\n",
       "    <tr style=\"text-align: right;\">\n",
       "      <th></th>\n",
       "      <th>Name</th>\n",
       "      <th>Platform</th>\n",
       "      <th>Year_of_Release</th>\n",
       "      <th>Genre</th>\n",
       "      <th>NA_sales</th>\n",
       "      <th>EU_sales</th>\n",
       "      <th>JP_sales</th>\n",
       "      <th>Other_sales</th>\n",
       "      <th>Critic_Score</th>\n",
       "      <th>User_Score</th>\n",
       "      <th>Rating</th>\n",
       "    </tr>\n",
       "  </thead>\n",
       "  <tbody>\n",
       "    <tr>\n",
       "      <th>0</th>\n",
       "      <td>Wii Sports</td>\n",
       "      <td>Wii</td>\n",
       "      <td>2006.0</td>\n",
       "      <td>Sports</td>\n",
       "      <td>41.36</td>\n",
       "      <td>28.96</td>\n",
       "      <td>3.77</td>\n",
       "      <td>8.45</td>\n",
       "      <td>76.0</td>\n",
       "      <td>8</td>\n",
       "      <td>E</td>\n",
       "    </tr>\n",
       "    <tr>\n",
       "      <th>1</th>\n",
       "      <td>Super Mario Bros.</td>\n",
       "      <td>NES</td>\n",
       "      <td>1985.0</td>\n",
       "      <td>Platform</td>\n",
       "      <td>29.08</td>\n",
       "      <td>3.58</td>\n",
       "      <td>6.81</td>\n",
       "      <td>0.77</td>\n",
       "      <td>NaN</td>\n",
       "      <td>NaN</td>\n",
       "      <td>NaN</td>\n",
       "    </tr>\n",
       "    <tr>\n",
       "      <th>2</th>\n",
       "      <td>Mario Kart Wii</td>\n",
       "      <td>Wii</td>\n",
       "      <td>2008.0</td>\n",
       "      <td>Racing</td>\n",
       "      <td>15.68</td>\n",
       "      <td>12.76</td>\n",
       "      <td>3.79</td>\n",
       "      <td>3.29</td>\n",
       "      <td>82.0</td>\n",
       "      <td>8.3</td>\n",
       "      <td>E</td>\n",
       "    </tr>\n",
       "    <tr>\n",
       "      <th>3</th>\n",
       "      <td>Wii Sports Resort</td>\n",
       "      <td>Wii</td>\n",
       "      <td>2009.0</td>\n",
       "      <td>Sports</td>\n",
       "      <td>15.61</td>\n",
       "      <td>10.93</td>\n",
       "      <td>3.28</td>\n",
       "      <td>2.95</td>\n",
       "      <td>80.0</td>\n",
       "      <td>8</td>\n",
       "      <td>E</td>\n",
       "    </tr>\n",
       "    <tr>\n",
       "      <th>4</th>\n",
       "      <td>Pokemon Red/Pokemon Blue</td>\n",
       "      <td>GB</td>\n",
       "      <td>1996.0</td>\n",
       "      <td>Role-Playing</td>\n",
       "      <td>11.27</td>\n",
       "      <td>8.89</td>\n",
       "      <td>10.22</td>\n",
       "      <td>1.00</td>\n",
       "      <td>NaN</td>\n",
       "      <td>NaN</td>\n",
       "      <td>NaN</td>\n",
       "    </tr>\n",
       "    <tr>\n",
       "      <th>...</th>\n",
       "      <td>...</td>\n",
       "      <td>...</td>\n",
       "      <td>...</td>\n",
       "      <td>...</td>\n",
       "      <td>...</td>\n",
       "      <td>...</td>\n",
       "      <td>...</td>\n",
       "      <td>...</td>\n",
       "      <td>...</td>\n",
       "      <td>...</td>\n",
       "      <td>...</td>\n",
       "    </tr>\n",
       "    <tr>\n",
       "      <th>16710</th>\n",
       "      <td>Samurai Warriors: Sanada Maru</td>\n",
       "      <td>PS3</td>\n",
       "      <td>2016.0</td>\n",
       "      <td>Action</td>\n",
       "      <td>0.00</td>\n",
       "      <td>0.00</td>\n",
       "      <td>0.01</td>\n",
       "      <td>0.00</td>\n",
       "      <td>NaN</td>\n",
       "      <td>NaN</td>\n",
       "      <td>NaN</td>\n",
       "    </tr>\n",
       "    <tr>\n",
       "      <th>16711</th>\n",
       "      <td>LMA Manager 2007</td>\n",
       "      <td>X360</td>\n",
       "      <td>2006.0</td>\n",
       "      <td>Sports</td>\n",
       "      <td>0.00</td>\n",
       "      <td>0.01</td>\n",
       "      <td>0.00</td>\n",
       "      <td>0.00</td>\n",
       "      <td>NaN</td>\n",
       "      <td>NaN</td>\n",
       "      <td>NaN</td>\n",
       "    </tr>\n",
       "    <tr>\n",
       "      <th>16712</th>\n",
       "      <td>Haitaka no Psychedelica</td>\n",
       "      <td>PSV</td>\n",
       "      <td>2016.0</td>\n",
       "      <td>Adventure</td>\n",
       "      <td>0.00</td>\n",
       "      <td>0.00</td>\n",
       "      <td>0.01</td>\n",
       "      <td>0.00</td>\n",
       "      <td>NaN</td>\n",
       "      <td>NaN</td>\n",
       "      <td>NaN</td>\n",
       "    </tr>\n",
       "    <tr>\n",
       "      <th>16713</th>\n",
       "      <td>Spirits &amp; Spells</td>\n",
       "      <td>GBA</td>\n",
       "      <td>2003.0</td>\n",
       "      <td>Platform</td>\n",
       "      <td>0.01</td>\n",
       "      <td>0.00</td>\n",
       "      <td>0.00</td>\n",
       "      <td>0.00</td>\n",
       "      <td>NaN</td>\n",
       "      <td>NaN</td>\n",
       "      <td>NaN</td>\n",
       "    </tr>\n",
       "    <tr>\n",
       "      <th>16714</th>\n",
       "      <td>Winning Post 8 2016</td>\n",
       "      <td>PSV</td>\n",
       "      <td>2016.0</td>\n",
       "      <td>Simulation</td>\n",
       "      <td>0.00</td>\n",
       "      <td>0.00</td>\n",
       "      <td>0.01</td>\n",
       "      <td>0.00</td>\n",
       "      <td>NaN</td>\n",
       "      <td>NaN</td>\n",
       "      <td>NaN</td>\n",
       "    </tr>\n",
       "  </tbody>\n",
       "</table>\n",
       "<p>16715 rows × 11 columns</p>\n",
       "</div>"
      ],
      "text/plain": [
       "                                Name Platform  Year_of_Release         Genre  \\\n",
       "0                         Wii Sports      Wii           2006.0        Sports   \n",
       "1                  Super Mario Bros.      NES           1985.0      Platform   \n",
       "2                     Mario Kart Wii      Wii           2008.0        Racing   \n",
       "3                  Wii Sports Resort      Wii           2009.0        Sports   \n",
       "4           Pokemon Red/Pokemon Blue       GB           1996.0  Role-Playing   \n",
       "...                              ...      ...              ...           ...   \n",
       "16710  Samurai Warriors: Sanada Maru      PS3           2016.0        Action   \n",
       "16711               LMA Manager 2007     X360           2006.0        Sports   \n",
       "16712        Haitaka no Psychedelica      PSV           2016.0     Adventure   \n",
       "16713               Spirits & Spells      GBA           2003.0      Platform   \n",
       "16714            Winning Post 8 2016      PSV           2016.0    Simulation   \n",
       "\n",
       "       NA_sales  EU_sales  JP_sales  Other_sales  Critic_Score User_Score  \\\n",
       "0         41.36     28.96      3.77         8.45          76.0          8   \n",
       "1         29.08      3.58      6.81         0.77           NaN        NaN   \n",
       "2         15.68     12.76      3.79         3.29          82.0        8.3   \n",
       "3         15.61     10.93      3.28         2.95          80.0          8   \n",
       "4         11.27      8.89     10.22         1.00           NaN        NaN   \n",
       "...         ...       ...       ...          ...           ...        ...   \n",
       "16710      0.00      0.00      0.01         0.00           NaN        NaN   \n",
       "16711      0.00      0.01      0.00         0.00           NaN        NaN   \n",
       "16712      0.00      0.00      0.01         0.00           NaN        NaN   \n",
       "16713      0.01      0.00      0.00         0.00           NaN        NaN   \n",
       "16714      0.00      0.00      0.01         0.00           NaN        NaN   \n",
       "\n",
       "      Rating  \n",
       "0          E  \n",
       "1        NaN  \n",
       "2          E  \n",
       "3          E  \n",
       "4        NaN  \n",
       "...      ...  \n",
       "16710    NaN  \n",
       "16711    NaN  \n",
       "16712    NaN  \n",
       "16713    NaN  \n",
       "16714    NaN  \n",
       "\n",
       "[16715 rows x 11 columns]"
      ]
     },
     "execution_count": 2,
     "metadata": {},
     "output_type": "execute_result"
    }
   ],
   "source": [
    "# Загрузим датасет\n",
    "games_df = pd.read_csv('datasets/games.csv')\n",
    "games_df"
   ]
  },
  {
   "cell_type": "markdown",
   "metadata": {},
   "source": [
    "После вывода датасета видно, что таблица озаглавлена некорректно. Необходимо перевести заголовки таблицы в нижний регистр."
   ]
  },
  {
   "cell_type": "code",
   "execution_count": 3,
   "metadata": {},
   "outputs": [],
   "source": [
    "# Преобразуем заголовки и переведем все символы в строчные\n",
    "new_titles = []\n",
    "for title in games_df.columns:\n",
    "    new_titles.append(title.lower())\n",
    "    \n",
    "games_df.columns = new_titles"
   ]
  },
  {
   "cell_type": "markdown",
   "metadata": {},
   "source": [
    "Выведем информацию о заполненности таблицы и типах данных."
   ]
  },
  {
   "cell_type": "code",
   "execution_count": 4,
   "metadata": {
    "scrolled": true
   },
   "outputs": [
    {
     "name": "stdout",
     "output_type": "stream",
     "text": [
      "<class 'pandas.core.frame.DataFrame'>\n",
      "RangeIndex: 16715 entries, 0 to 16714\n",
      "Data columns (total 11 columns):\n",
      " #   Column           Non-Null Count  Dtype  \n",
      "---  ------           --------------  -----  \n",
      " 0   name             16713 non-null  object \n",
      " 1   platform         16715 non-null  object \n",
      " 2   year_of_release  16446 non-null  float64\n",
      " 3   genre            16713 non-null  object \n",
      " 4   na_sales         16715 non-null  float64\n",
      " 5   eu_sales         16715 non-null  float64\n",
      " 6   jp_sales         16715 non-null  float64\n",
      " 7   other_sales      16715 non-null  float64\n",
      " 8   critic_score     8137 non-null   float64\n",
      " 9   user_score       10014 non-null  object \n",
      " 10  rating           9949 non-null   object \n",
      "dtypes: float64(6), object(5)\n",
      "memory usage: 1.4+ MB\n"
     ]
    }
   ],
   "source": [
    "# Выведем информацию о таблице\n",
    "games_df.info()"
   ]
  },
  {
   "cell_type": "markdown",
   "metadata": {},
   "source": [
    "В таблице есть несколько колонок с пропусками: `name`, `year_of_release`, `genre`, `critic_score` и `user_score`.<br>\n",
    "Посчитаем долю пропусков во всех колонках."
   ]
  },
  {
   "cell_type": "code",
   "execution_count": 5,
   "metadata": {
    "scrolled": true
   },
   "outputs": [
    {
     "data": {
      "text/plain": [
       "name                0.011965\n",
       "platform            0.000000\n",
       "year_of_release     1.609333\n",
       "genre               0.011965\n",
       "na_sales            0.000000\n",
       "eu_sales            0.000000\n",
       "jp_sales            0.000000\n",
       "other_sales         0.000000\n",
       "critic_score       51.319174\n",
       "user_score         40.089740\n",
       "rating             40.478612\n",
       "dtype: float64"
      ]
     },
     "execution_count": 5,
     "metadata": {},
     "output_type": "execute_result"
    }
   ],
   "source": [
    "# Считаем долю пропусков в колонках\n",
    "100 - 100 * games_df.count() / games_df.shape[0]"
   ]
  },
  {
   "cell_type": "markdown",
   "metadata": {},
   "source": [
    "Наибольшее количество пропусков в колонках `critic_score`, `user_score` и `rating`."
   ]
  },
  {
   "cell_type": "markdown",
   "metadata": {},
   "source": [
    "Посмотрим пропуски в колонке `name`."
   ]
  },
  {
   "cell_type": "code",
   "execution_count": 6,
   "metadata": {},
   "outputs": [
    {
     "data": {
      "text/html": [
       "<div>\n",
       "<style scoped>\n",
       "    .dataframe tbody tr th:only-of-type {\n",
       "        vertical-align: middle;\n",
       "    }\n",
       "\n",
       "    .dataframe tbody tr th {\n",
       "        vertical-align: top;\n",
       "    }\n",
       "\n",
       "    .dataframe thead th {\n",
       "        text-align: right;\n",
       "    }\n",
       "</style>\n",
       "<table border=\"1\" class=\"dataframe\">\n",
       "  <thead>\n",
       "    <tr style=\"text-align: right;\">\n",
       "      <th></th>\n",
       "      <th>name</th>\n",
       "      <th>platform</th>\n",
       "      <th>year_of_release</th>\n",
       "      <th>genre</th>\n",
       "      <th>na_sales</th>\n",
       "      <th>eu_sales</th>\n",
       "      <th>jp_sales</th>\n",
       "      <th>other_sales</th>\n",
       "      <th>critic_score</th>\n",
       "      <th>user_score</th>\n",
       "      <th>rating</th>\n",
       "    </tr>\n",
       "  </thead>\n",
       "  <tbody>\n",
       "    <tr>\n",
       "      <th>659</th>\n",
       "      <td>NaN</td>\n",
       "      <td>GEN</td>\n",
       "      <td>1993.0</td>\n",
       "      <td>NaN</td>\n",
       "      <td>1.78</td>\n",
       "      <td>0.53</td>\n",
       "      <td>0.00</td>\n",
       "      <td>0.08</td>\n",
       "      <td>NaN</td>\n",
       "      <td>NaN</td>\n",
       "      <td>NaN</td>\n",
       "    </tr>\n",
       "    <tr>\n",
       "      <th>14244</th>\n",
       "      <td>NaN</td>\n",
       "      <td>GEN</td>\n",
       "      <td>1993.0</td>\n",
       "      <td>NaN</td>\n",
       "      <td>0.00</td>\n",
       "      <td>0.00</td>\n",
       "      <td>0.03</td>\n",
       "      <td>0.00</td>\n",
       "      <td>NaN</td>\n",
       "      <td>NaN</td>\n",
       "      <td>NaN</td>\n",
       "    </tr>\n",
       "  </tbody>\n",
       "</table>\n",
       "</div>"
      ],
      "text/plain": [
       "      name platform  year_of_release genre  na_sales  eu_sales  jp_sales  \\\n",
       "659    NaN      GEN           1993.0   NaN      1.78      0.53      0.00   \n",
       "14244  NaN      GEN           1993.0   NaN      0.00      0.00      0.03   \n",
       "\n",
       "       other_sales  critic_score user_score rating  \n",
       "659           0.08           NaN        NaN    NaN  \n",
       "14244         0.00           NaN        NaN    NaN  "
      ]
     },
     "execution_count": 6,
     "metadata": {},
     "output_type": "execute_result"
    }
   ],
   "source": [
    "# Выведем строки с пустыми значениями в колонке 'name'\n",
    "games_df[games_df['name'].isna()]"
   ]
  },
  {
   "cell_type": "markdown",
   "metadata": {},
   "source": [
    "Мы получили 2 строки, в которых содержатся пропуски в колонках `name` и `genre`. Т.к. подобных строк не много, то можно удалить их из датасета."
   ]
  },
  {
   "cell_type": "code",
   "execution_count": 7,
   "metadata": {},
   "outputs": [],
   "source": [
    "# Удалим 2 строки с пропусками\n",
    "games_df.dropna(subset=['name'], inplace=True)"
   ]
  },
  {
   "cell_type": "markdown",
   "metadata": {},
   "source": [
    "Изучим пропуски в колонке `year_of_release`."
   ]
  },
  {
   "cell_type": "code",
   "execution_count": 8,
   "metadata": {},
   "outputs": [
    {
     "data": {
      "text/html": [
       "<div>\n",
       "<style scoped>\n",
       "    .dataframe tbody tr th:only-of-type {\n",
       "        vertical-align: middle;\n",
       "    }\n",
       "\n",
       "    .dataframe tbody tr th {\n",
       "        vertical-align: top;\n",
       "    }\n",
       "\n",
       "    .dataframe thead th {\n",
       "        text-align: right;\n",
       "    }\n",
       "</style>\n",
       "<table border=\"1\" class=\"dataframe\">\n",
       "  <thead>\n",
       "    <tr style=\"text-align: right;\">\n",
       "      <th></th>\n",
       "      <th>name</th>\n",
       "      <th>platform</th>\n",
       "      <th>year_of_release</th>\n",
       "      <th>genre</th>\n",
       "      <th>na_sales</th>\n",
       "      <th>eu_sales</th>\n",
       "      <th>jp_sales</th>\n",
       "      <th>other_sales</th>\n",
       "      <th>critic_score</th>\n",
       "      <th>user_score</th>\n",
       "      <th>rating</th>\n",
       "    </tr>\n",
       "  </thead>\n",
       "  <tbody>\n",
       "    <tr>\n",
       "      <th>183</th>\n",
       "      <td>Madden NFL 2004</td>\n",
       "      <td>PS2</td>\n",
       "      <td>NaN</td>\n",
       "      <td>Sports</td>\n",
       "      <td>4.26</td>\n",
       "      <td>0.26</td>\n",
       "      <td>0.01</td>\n",
       "      <td>0.71</td>\n",
       "      <td>94.0</td>\n",
       "      <td>8.5</td>\n",
       "      <td>E</td>\n",
       "    </tr>\n",
       "    <tr>\n",
       "      <th>377</th>\n",
       "      <td>FIFA Soccer 2004</td>\n",
       "      <td>PS2</td>\n",
       "      <td>NaN</td>\n",
       "      <td>Sports</td>\n",
       "      <td>0.59</td>\n",
       "      <td>2.36</td>\n",
       "      <td>0.04</td>\n",
       "      <td>0.51</td>\n",
       "      <td>84.0</td>\n",
       "      <td>6.4</td>\n",
       "      <td>E</td>\n",
       "    </tr>\n",
       "    <tr>\n",
       "      <th>456</th>\n",
       "      <td>LEGO Batman: The Videogame</td>\n",
       "      <td>Wii</td>\n",
       "      <td>NaN</td>\n",
       "      <td>Action</td>\n",
       "      <td>1.80</td>\n",
       "      <td>0.97</td>\n",
       "      <td>0.00</td>\n",
       "      <td>0.29</td>\n",
       "      <td>74.0</td>\n",
       "      <td>7.9</td>\n",
       "      <td>E10+</td>\n",
       "    </tr>\n",
       "    <tr>\n",
       "      <th>475</th>\n",
       "      <td>wwe Smackdown vs. Raw 2006</td>\n",
       "      <td>PS2</td>\n",
       "      <td>NaN</td>\n",
       "      <td>Fighting</td>\n",
       "      <td>1.57</td>\n",
       "      <td>1.02</td>\n",
       "      <td>0.00</td>\n",
       "      <td>0.41</td>\n",
       "      <td>NaN</td>\n",
       "      <td>NaN</td>\n",
       "      <td>NaN</td>\n",
       "    </tr>\n",
       "    <tr>\n",
       "      <th>609</th>\n",
       "      <td>Space Invaders</td>\n",
       "      <td>2600</td>\n",
       "      <td>NaN</td>\n",
       "      <td>Shooter</td>\n",
       "      <td>2.36</td>\n",
       "      <td>0.14</td>\n",
       "      <td>0.00</td>\n",
       "      <td>0.03</td>\n",
       "      <td>NaN</td>\n",
       "      <td>NaN</td>\n",
       "      <td>NaN</td>\n",
       "    </tr>\n",
       "    <tr>\n",
       "      <th>627</th>\n",
       "      <td>Rock Band</td>\n",
       "      <td>X360</td>\n",
       "      <td>NaN</td>\n",
       "      <td>Misc</td>\n",
       "      <td>1.93</td>\n",
       "      <td>0.33</td>\n",
       "      <td>0.00</td>\n",
       "      <td>0.21</td>\n",
       "      <td>92.0</td>\n",
       "      <td>8.2</td>\n",
       "      <td>T</td>\n",
       "    </tr>\n",
       "    <tr>\n",
       "      <th>657</th>\n",
       "      <td>Frogger's Adventures: Temple of the Frog</td>\n",
       "      <td>GBA</td>\n",
       "      <td>NaN</td>\n",
       "      <td>Adventure</td>\n",
       "      <td>2.15</td>\n",
       "      <td>0.18</td>\n",
       "      <td>0.00</td>\n",
       "      <td>0.07</td>\n",
       "      <td>73.0</td>\n",
       "      <td>tbd</td>\n",
       "      <td>E</td>\n",
       "    </tr>\n",
       "    <tr>\n",
       "      <th>678</th>\n",
       "      <td>LEGO Indiana Jones: The Original Adventures</td>\n",
       "      <td>Wii</td>\n",
       "      <td>NaN</td>\n",
       "      <td>Action</td>\n",
       "      <td>1.51</td>\n",
       "      <td>0.61</td>\n",
       "      <td>0.00</td>\n",
       "      <td>0.21</td>\n",
       "      <td>78.0</td>\n",
       "      <td>6.6</td>\n",
       "      <td>E10+</td>\n",
       "    </tr>\n",
       "    <tr>\n",
       "      <th>719</th>\n",
       "      <td>Call of Duty 3</td>\n",
       "      <td>Wii</td>\n",
       "      <td>NaN</td>\n",
       "      <td>Shooter</td>\n",
       "      <td>1.17</td>\n",
       "      <td>0.84</td>\n",
       "      <td>0.00</td>\n",
       "      <td>0.23</td>\n",
       "      <td>69.0</td>\n",
       "      <td>6.7</td>\n",
       "      <td>T</td>\n",
       "    </tr>\n",
       "    <tr>\n",
       "      <th>805</th>\n",
       "      <td>Rock Band</td>\n",
       "      <td>Wii</td>\n",
       "      <td>NaN</td>\n",
       "      <td>Misc</td>\n",
       "      <td>1.33</td>\n",
       "      <td>0.56</td>\n",
       "      <td>0.00</td>\n",
       "      <td>0.20</td>\n",
       "      <td>80.0</td>\n",
       "      <td>6.3</td>\n",
       "      <td>T</td>\n",
       "    </tr>\n",
       "    <tr>\n",
       "      <th>1131</th>\n",
       "      <td>Call of Duty: Black Ops</td>\n",
       "      <td>PC</td>\n",
       "      <td>NaN</td>\n",
       "      <td>Shooter</td>\n",
       "      <td>0.58</td>\n",
       "      <td>0.81</td>\n",
       "      <td>0.00</td>\n",
       "      <td>0.23</td>\n",
       "      <td>81.0</td>\n",
       "      <td>5.2</td>\n",
       "      <td>M</td>\n",
       "    </tr>\n",
       "    <tr>\n",
       "      <th>1142</th>\n",
       "      <td>Rock Band</td>\n",
       "      <td>PS3</td>\n",
       "      <td>NaN</td>\n",
       "      <td>Misc</td>\n",
       "      <td>0.99</td>\n",
       "      <td>0.41</td>\n",
       "      <td>0.00</td>\n",
       "      <td>0.22</td>\n",
       "      <td>92.0</td>\n",
       "      <td>8.4</td>\n",
       "      <td>T</td>\n",
       "    </tr>\n",
       "    <tr>\n",
       "      <th>1301</th>\n",
       "      <td>Triple Play 99</td>\n",
       "      <td>PS</td>\n",
       "      <td>NaN</td>\n",
       "      <td>Sports</td>\n",
       "      <td>0.81</td>\n",
       "      <td>0.55</td>\n",
       "      <td>0.00</td>\n",
       "      <td>0.10</td>\n",
       "      <td>NaN</td>\n",
       "      <td>NaN</td>\n",
       "      <td>NaN</td>\n",
       "    </tr>\n",
       "    <tr>\n",
       "      <th>1506</th>\n",
       "      <td>Adventure</td>\n",
       "      <td>2600</td>\n",
       "      <td>NaN</td>\n",
       "      <td>Adventure</td>\n",
       "      <td>1.21</td>\n",
       "      <td>0.08</td>\n",
       "      <td>0.00</td>\n",
       "      <td>0.01</td>\n",
       "      <td>NaN</td>\n",
       "      <td>NaN</td>\n",
       "      <td>NaN</td>\n",
       "    </tr>\n",
       "    <tr>\n",
       "      <th>1538</th>\n",
       "      <td>LEGO Batman: The Videogame</td>\n",
       "      <td>PSP</td>\n",
       "      <td>NaN</td>\n",
       "      <td>Action</td>\n",
       "      <td>0.57</td>\n",
       "      <td>0.44</td>\n",
       "      <td>0.00</td>\n",
       "      <td>0.27</td>\n",
       "      <td>73.0</td>\n",
       "      <td>7.4</td>\n",
       "      <td>E10+</td>\n",
       "    </tr>\n",
       "    <tr>\n",
       "      <th>1585</th>\n",
       "      <td>Combat</td>\n",
       "      <td>2600</td>\n",
       "      <td>NaN</td>\n",
       "      <td>Action</td>\n",
       "      <td>1.17</td>\n",
       "      <td>0.07</td>\n",
       "      <td>0.00</td>\n",
       "      <td>0.01</td>\n",
       "      <td>NaN</td>\n",
       "      <td>NaN</td>\n",
       "      <td>NaN</td>\n",
       "    </tr>\n",
       "    <tr>\n",
       "      <th>1609</th>\n",
       "      <td>LEGO Harry Potter: Years 5-7</td>\n",
       "      <td>Wii</td>\n",
       "      <td>NaN</td>\n",
       "      <td>Action</td>\n",
       "      <td>0.69</td>\n",
       "      <td>0.42</td>\n",
       "      <td>0.00</td>\n",
       "      <td>0.12</td>\n",
       "      <td>76.0</td>\n",
       "      <td>7.8</td>\n",
       "      <td>E10+</td>\n",
       "    </tr>\n",
       "    <tr>\n",
       "      <th>1650</th>\n",
       "      <td>NASCAR Thunder 2003</td>\n",
       "      <td>PS2</td>\n",
       "      <td>NaN</td>\n",
       "      <td>Racing</td>\n",
       "      <td>0.60</td>\n",
       "      <td>0.46</td>\n",
       "      <td>0.00</td>\n",
       "      <td>0.16</td>\n",
       "      <td>84.0</td>\n",
       "      <td>8.7</td>\n",
       "      <td>E</td>\n",
       "    </tr>\n",
       "    <tr>\n",
       "      <th>1699</th>\n",
       "      <td>Hitman 2: Silent Assassin</td>\n",
       "      <td>XB</td>\n",
       "      <td>NaN</td>\n",
       "      <td>Action</td>\n",
       "      <td>0.76</td>\n",
       "      <td>0.38</td>\n",
       "      <td>0.00</td>\n",
       "      <td>0.05</td>\n",
       "      <td>84.0</td>\n",
       "      <td>8</td>\n",
       "      <td>M</td>\n",
       "    </tr>\n",
       "    <tr>\n",
       "      <th>1840</th>\n",
       "      <td>Rock Band</td>\n",
       "      <td>PS2</td>\n",
       "      <td>NaN</td>\n",
       "      <td>Misc</td>\n",
       "      <td>0.71</td>\n",
       "      <td>0.06</td>\n",
       "      <td>0.00</td>\n",
       "      <td>0.35</td>\n",
       "      <td>82.0</td>\n",
       "      <td>6.8</td>\n",
       "      <td>T</td>\n",
       "    </tr>\n",
       "    <tr>\n",
       "      <th>1984</th>\n",
       "      <td>Legacy of Kain: Soul Reaver</td>\n",
       "      <td>PS</td>\n",
       "      <td>NaN</td>\n",
       "      <td>Action</td>\n",
       "      <td>0.58</td>\n",
       "      <td>0.40</td>\n",
       "      <td>0.00</td>\n",
       "      <td>0.07</td>\n",
       "      <td>91.0</td>\n",
       "      <td>9</td>\n",
       "      <td>T</td>\n",
       "    </tr>\n",
       "    <tr>\n",
       "      <th>2010</th>\n",
       "      <td>Donkey Kong Land III</td>\n",
       "      <td>GB</td>\n",
       "      <td>NaN</td>\n",
       "      <td>Platform</td>\n",
       "      <td>0.68</td>\n",
       "      <td>0.31</td>\n",
       "      <td>0.00</td>\n",
       "      <td>0.04</td>\n",
       "      <td>NaN</td>\n",
       "      <td>NaN</td>\n",
       "      <td>NaN</td>\n",
       "    </tr>\n",
       "    <tr>\n",
       "      <th>2106</th>\n",
       "      <td>Air-Sea Battle</td>\n",
       "      <td>2600</td>\n",
       "      <td>NaN</td>\n",
       "      <td>Shooter</td>\n",
       "      <td>0.91</td>\n",
       "      <td>0.06</td>\n",
       "      <td>0.00</td>\n",
       "      <td>0.01</td>\n",
       "      <td>NaN</td>\n",
       "      <td>NaN</td>\n",
       "      <td>NaN</td>\n",
       "    </tr>\n",
       "    <tr>\n",
       "      <th>2108</th>\n",
       "      <td>Suikoden III</td>\n",
       "      <td>PS2</td>\n",
       "      <td>NaN</td>\n",
       "      <td>Role-Playing</td>\n",
       "      <td>0.29</td>\n",
       "      <td>0.23</td>\n",
       "      <td>0.38</td>\n",
       "      <td>0.08</td>\n",
       "      <td>86.0</td>\n",
       "      <td>7.7</td>\n",
       "      <td>T</td>\n",
       "    </tr>\n",
       "    <tr>\n",
       "      <th>2132</th>\n",
       "      <td>LEGO Harry Potter: Years 5-7</td>\n",
       "      <td>X360</td>\n",
       "      <td>NaN</td>\n",
       "      <td>Action</td>\n",
       "      <td>0.51</td>\n",
       "      <td>0.37</td>\n",
       "      <td>0.00</td>\n",
       "      <td>0.09</td>\n",
       "      <td>77.0</td>\n",
       "      <td>7.9</td>\n",
       "      <td>E10+</td>\n",
       "    </tr>\n",
       "    <tr>\n",
       "      <th>2157</th>\n",
       "      <td>Wheel of Fortune</td>\n",
       "      <td>PS2</td>\n",
       "      <td>NaN</td>\n",
       "      <td>Misc</td>\n",
       "      <td>0.47</td>\n",
       "      <td>0.36</td>\n",
       "      <td>0.00</td>\n",
       "      <td>0.12</td>\n",
       "      <td>NaN</td>\n",
       "      <td>tbd</td>\n",
       "      <td>E</td>\n",
       "    </tr>\n",
       "    <tr>\n",
       "      <th>2169</th>\n",
       "      <td>Yakuza 4</td>\n",
       "      <td>PS3</td>\n",
       "      <td>NaN</td>\n",
       "      <td>Action</td>\n",
       "      <td>0.15</td>\n",
       "      <td>0.13</td>\n",
       "      <td>0.63</td>\n",
       "      <td>0.05</td>\n",
       "      <td>78.0</td>\n",
       "      <td>8</td>\n",
       "      <td>M</td>\n",
       "    </tr>\n",
       "    <tr>\n",
       "      <th>2273</th>\n",
       "      <td>LEGO Harry Potter: Years 5-7</td>\n",
       "      <td>PS3</td>\n",
       "      <td>NaN</td>\n",
       "      <td>Action</td>\n",
       "      <td>0.36</td>\n",
       "      <td>0.41</td>\n",
       "      <td>0.00</td>\n",
       "      <td>0.15</td>\n",
       "      <td>76.0</td>\n",
       "      <td>8.3</td>\n",
       "      <td>E10+</td>\n",
       "    </tr>\n",
       "    <tr>\n",
       "      <th>2281</th>\n",
       "      <td>Namco Museum</td>\n",
       "      <td>XB</td>\n",
       "      <td>NaN</td>\n",
       "      <td>Misc</td>\n",
       "      <td>0.77</td>\n",
       "      <td>0.11</td>\n",
       "      <td>0.00</td>\n",
       "      <td>0.04</td>\n",
       "      <td>59.0</td>\n",
       "      <td>tbd</td>\n",
       "      <td>E</td>\n",
       "    </tr>\n",
       "    <tr>\n",
       "      <th>2361</th>\n",
       "      <td>Rhythm Heaven</td>\n",
       "      <td>Wii</td>\n",
       "      <td>NaN</td>\n",
       "      <td>Misc</td>\n",
       "      <td>0.11</td>\n",
       "      <td>0.00</td>\n",
       "      <td>0.77</td>\n",
       "      <td>0.01</td>\n",
       "      <td>NaN</td>\n",
       "      <td>NaN</td>\n",
       "      <td>NaN</td>\n",
       "    </tr>\n",
       "    <tr>\n",
       "      <th>2453</th>\n",
       "      <td>The Lord of the Rings: War in the North</td>\n",
       "      <td>X360</td>\n",
       "      <td>NaN</td>\n",
       "      <td>Action</td>\n",
       "      <td>0.52</td>\n",
       "      <td>0.24</td>\n",
       "      <td>0.00</td>\n",
       "      <td>0.08</td>\n",
       "      <td>61.0</td>\n",
       "      <td>7.4</td>\n",
       "      <td>M</td>\n",
       "    </tr>\n",
       "    <tr>\n",
       "      <th>2479</th>\n",
       "      <td>Madden NFL 07</td>\n",
       "      <td>PSP</td>\n",
       "      <td>NaN</td>\n",
       "      <td>Sports</td>\n",
       "      <td>0.77</td>\n",
       "      <td>0.03</td>\n",
       "      <td>0.00</td>\n",
       "      <td>0.04</td>\n",
       "      <td>78.0</td>\n",
       "      <td>6.6</td>\n",
       "      <td>E</td>\n",
       "    </tr>\n",
       "    <tr>\n",
       "      <th>2492</th>\n",
       "      <td>MLB SlugFest 20-03</td>\n",
       "      <td>PS2</td>\n",
       "      <td>NaN</td>\n",
       "      <td>Sports</td>\n",
       "      <td>0.41</td>\n",
       "      <td>0.32</td>\n",
       "      <td>0.00</td>\n",
       "      <td>0.11</td>\n",
       "      <td>77.0</td>\n",
       "      <td>8.2</td>\n",
       "      <td>E</td>\n",
       "    </tr>\n",
       "    <tr>\n",
       "      <th>2522</th>\n",
       "      <td>The Lord of the Rings: War in the North</td>\n",
       "      <td>PS3</td>\n",
       "      <td>NaN</td>\n",
       "      <td>Action</td>\n",
       "      <td>0.25</td>\n",
       "      <td>0.42</td>\n",
       "      <td>0.01</td>\n",
       "      <td>0.13</td>\n",
       "      <td>63.0</td>\n",
       "      <td>7</td>\n",
       "      <td>M</td>\n",
       "    </tr>\n",
       "    <tr>\n",
       "      <th>2536</th>\n",
       "      <td>Shaun White Snowboarding</td>\n",
       "      <td>X360</td>\n",
       "      <td>NaN</td>\n",
       "      <td>Sports</td>\n",
       "      <td>0.48</td>\n",
       "      <td>0.25</td>\n",
       "      <td>0.00</td>\n",
       "      <td>0.08</td>\n",
       "      <td>60.0</td>\n",
       "      <td>7.6</td>\n",
       "      <td>T</td>\n",
       "    </tr>\n",
       "    <tr>\n",
       "      <th>2572</th>\n",
       "      <td>PES 2009: Pro Evolution Soccer</td>\n",
       "      <td>PSP</td>\n",
       "      <td>NaN</td>\n",
       "      <td>Sports</td>\n",
       "      <td>0.04</td>\n",
       "      <td>0.33</td>\n",
       "      <td>0.26</td>\n",
       "      <td>0.17</td>\n",
       "      <td>NaN</td>\n",
       "      <td>NaN</td>\n",
       "      <td>NaN</td>\n",
       "    </tr>\n",
       "    <tr>\n",
       "      <th>2773</th>\n",
       "      <td>WarioWare: Twisted!</td>\n",
       "      <td>GBA</td>\n",
       "      <td>NaN</td>\n",
       "      <td>Puzzle</td>\n",
       "      <td>0.16</td>\n",
       "      <td>0.06</td>\n",
       "      <td>0.50</td>\n",
       "      <td>0.02</td>\n",
       "      <td>NaN</td>\n",
       "      <td>NaN</td>\n",
       "      <td>NaN</td>\n",
       "    </tr>\n",
       "    <tr>\n",
       "      <th>2849</th>\n",
       "      <td>Madden NFL 11</td>\n",
       "      <td>Wii</td>\n",
       "      <td>NaN</td>\n",
       "      <td>Sports</td>\n",
       "      <td>0.68</td>\n",
       "      <td>0.00</td>\n",
       "      <td>0.00</td>\n",
       "      <td>0.04</td>\n",
       "      <td>75.0</td>\n",
       "      <td>5.4</td>\n",
       "      <td>E</td>\n",
       "    </tr>\n",
       "    <tr>\n",
       "      <th>2969</th>\n",
       "      <td>Test Drive Unlimited 2</td>\n",
       "      <td>X360</td>\n",
       "      <td>NaN</td>\n",
       "      <td>Racing</td>\n",
       "      <td>0.30</td>\n",
       "      <td>0.31</td>\n",
       "      <td>0.00</td>\n",
       "      <td>0.07</td>\n",
       "      <td>68.0</td>\n",
       "      <td>6.4</td>\n",
       "      <td>T</td>\n",
       "    </tr>\n",
       "    <tr>\n",
       "      <th>3024</th>\n",
       "      <td>The Chronicles of Narnia: The Lion, The Witch ...</td>\n",
       "      <td>GBA</td>\n",
       "      <td>NaN</td>\n",
       "      <td>Action</td>\n",
       "      <td>0.48</td>\n",
       "      <td>0.18</td>\n",
       "      <td>0.00</td>\n",
       "      <td>0.01</td>\n",
       "      <td>66.0</td>\n",
       "      <td>6.8</td>\n",
       "      <td>E</td>\n",
       "    </tr>\n",
       "    <tr>\n",
       "      <th>3081</th>\n",
       "      <td>LEGO Harry Potter: Years 5-7</td>\n",
       "      <td>DS</td>\n",
       "      <td>NaN</td>\n",
       "      <td>Action</td>\n",
       "      <td>0.34</td>\n",
       "      <td>0.25</td>\n",
       "      <td>0.00</td>\n",
       "      <td>0.07</td>\n",
       "      <td>69.0</td>\n",
       "      <td>tbd</td>\n",
       "      <td>E10+</td>\n",
       "    </tr>\n",
       "    <tr>\n",
       "      <th>3187</th>\n",
       "      <td>Monster Hunter 2</td>\n",
       "      <td>PS2</td>\n",
       "      <td>NaN</td>\n",
       "      <td>Role-Playing</td>\n",
       "      <td>0.00</td>\n",
       "      <td>0.00</td>\n",
       "      <td>0.63</td>\n",
       "      <td>0.00</td>\n",
       "      <td>NaN</td>\n",
       "      <td>NaN</td>\n",
       "      <td>NaN</td>\n",
       "    </tr>\n",
       "    <tr>\n",
       "      <th>3223</th>\n",
       "      <td>Metal Gear Solid 2: Substance</td>\n",
       "      <td>XB</td>\n",
       "      <td>NaN</td>\n",
       "      <td>Action</td>\n",
       "      <td>0.38</td>\n",
       "      <td>0.22</td>\n",
       "      <td>0.00</td>\n",
       "      <td>0.03</td>\n",
       "      <td>87.0</td>\n",
       "      <td>8.5</td>\n",
       "      <td>M</td>\n",
       "    </tr>\n",
       "    <tr>\n",
       "      <th>3233</th>\n",
       "      <td>Test Drive Unlimited 2</td>\n",
       "      <td>PS3</td>\n",
       "      <td>NaN</td>\n",
       "      <td>Racing</td>\n",
       "      <td>0.16</td>\n",
       "      <td>0.34</td>\n",
       "      <td>0.01</td>\n",
       "      <td>0.12</td>\n",
       "      <td>70.0</td>\n",
       "      <td>6.1</td>\n",
       "      <td>T</td>\n",
       "    </tr>\n",
       "    <tr>\n",
       "      <th>3289</th>\n",
       "      <td>Advance Wars: Days of Ruin</td>\n",
       "      <td>DS</td>\n",
       "      <td>NaN</td>\n",
       "      <td>Strategy</td>\n",
       "      <td>0.43</td>\n",
       "      <td>0.12</td>\n",
       "      <td>0.00</td>\n",
       "      <td>0.05</td>\n",
       "      <td>86.0</td>\n",
       "      <td>8.7</td>\n",
       "      <td>E10+</td>\n",
       "    </tr>\n",
       "    <tr>\n",
       "      <th>3352</th>\n",
       "      <td>The Golden Compass</td>\n",
       "      <td>Wii</td>\n",
       "      <td>NaN</td>\n",
       "      <td>Action</td>\n",
       "      <td>0.26</td>\n",
       "      <td>0.28</td>\n",
       "      <td>0.00</td>\n",
       "      <td>0.07</td>\n",
       "      <td>35.0</td>\n",
       "      <td>6.8</td>\n",
       "      <td>E10+</td>\n",
       "    </tr>\n",
       "    <tr>\n",
       "      <th>3413</th>\n",
       "      <td>Madden NFL 06</td>\n",
       "      <td>X360</td>\n",
       "      <td>NaN</td>\n",
       "      <td>Sports</td>\n",
       "      <td>0.54</td>\n",
       "      <td>0.00</td>\n",
       "      <td>0.01</td>\n",
       "      <td>0.03</td>\n",
       "      <td>74.0</td>\n",
       "      <td>4.9</td>\n",
       "      <td>E</td>\n",
       "    </tr>\n",
       "    <tr>\n",
       "      <th>3459</th>\n",
       "      <td>NASCAR: Dirt to Daytona</td>\n",
       "      <td>PS2</td>\n",
       "      <td>NaN</td>\n",
       "      <td>Racing</td>\n",
       "      <td>0.28</td>\n",
       "      <td>0.22</td>\n",
       "      <td>0.00</td>\n",
       "      <td>0.07</td>\n",
       "      <td>84.0</td>\n",
       "      <td>8.8</td>\n",
       "      <td>E</td>\n",
       "    </tr>\n",
       "    <tr>\n",
       "      <th>3486</th>\n",
       "      <td>Madden NFL 2002</td>\n",
       "      <td>XB</td>\n",
       "      <td>NaN</td>\n",
       "      <td>Sports</td>\n",
       "      <td>0.53</td>\n",
       "      <td>0.02</td>\n",
       "      <td>0.00</td>\n",
       "      <td>0.03</td>\n",
       "      <td>90.0</td>\n",
       "      <td>8.1</td>\n",
       "      <td>E</td>\n",
       "    </tr>\n",
       "    <tr>\n",
       "      <th>3704</th>\n",
       "      <td>Def Jam: Fight for NY</td>\n",
       "      <td>XB</td>\n",
       "      <td>NaN</td>\n",
       "      <td>Fighting</td>\n",
       "      <td>0.43</td>\n",
       "      <td>0.10</td>\n",
       "      <td>0.00</td>\n",
       "      <td>0.02</td>\n",
       "      <td>84.0</td>\n",
       "      <td>8.5</td>\n",
       "      <td>M</td>\n",
       "    </tr>\n",
       "  </tbody>\n",
       "</table>\n",
       "</div>"
      ],
      "text/plain": [
       "                                                   name platform  \\\n",
       "183                                     Madden NFL 2004      PS2   \n",
       "377                                    FIFA Soccer 2004      PS2   \n",
       "456                          LEGO Batman: The Videogame      Wii   \n",
       "475                          wwe Smackdown vs. Raw 2006      PS2   \n",
       "609                                      Space Invaders     2600   \n",
       "627                                           Rock Band     X360   \n",
       "657            Frogger's Adventures: Temple of the Frog      GBA   \n",
       "678         LEGO Indiana Jones: The Original Adventures      Wii   \n",
       "719                                      Call of Duty 3      Wii   \n",
       "805                                           Rock Band      Wii   \n",
       "1131                            Call of Duty: Black Ops       PC   \n",
       "1142                                          Rock Band      PS3   \n",
       "1301                                     Triple Play 99       PS   \n",
       "1506                                          Adventure     2600   \n",
       "1538                         LEGO Batman: The Videogame      PSP   \n",
       "1585                                             Combat     2600   \n",
       "1609                       LEGO Harry Potter: Years 5-7      Wii   \n",
       "1650                                NASCAR Thunder 2003      PS2   \n",
       "1699                          Hitman 2: Silent Assassin       XB   \n",
       "1840                                          Rock Band      PS2   \n",
       "1984                        Legacy of Kain: Soul Reaver       PS   \n",
       "2010                               Donkey Kong Land III       GB   \n",
       "2106                                     Air-Sea Battle     2600   \n",
       "2108                                       Suikoden III      PS2   \n",
       "2132                       LEGO Harry Potter: Years 5-7     X360   \n",
       "2157                                   Wheel of Fortune      PS2   \n",
       "2169                                           Yakuza 4      PS3   \n",
       "2273                       LEGO Harry Potter: Years 5-7      PS3   \n",
       "2281                                       Namco Museum       XB   \n",
       "2361                                      Rhythm Heaven      Wii   \n",
       "2453            The Lord of the Rings: War in the North     X360   \n",
       "2479                                      Madden NFL 07      PSP   \n",
       "2492                                 MLB SlugFest 20-03      PS2   \n",
       "2522            The Lord of the Rings: War in the North      PS3   \n",
       "2536                           Shaun White Snowboarding     X360   \n",
       "2572                     PES 2009: Pro Evolution Soccer      PSP   \n",
       "2773                                WarioWare: Twisted!      GBA   \n",
       "2849                                      Madden NFL 11      Wii   \n",
       "2969                             Test Drive Unlimited 2     X360   \n",
       "3024  The Chronicles of Narnia: The Lion, The Witch ...      GBA   \n",
       "3081                       LEGO Harry Potter: Years 5-7       DS   \n",
       "3187                                   Monster Hunter 2      PS2   \n",
       "3223                      Metal Gear Solid 2: Substance       XB   \n",
       "3233                             Test Drive Unlimited 2      PS3   \n",
       "3289                         Advance Wars: Days of Ruin       DS   \n",
       "3352                                 The Golden Compass      Wii   \n",
       "3413                                      Madden NFL 06     X360   \n",
       "3459                            NASCAR: Dirt to Daytona      PS2   \n",
       "3486                                    Madden NFL 2002       XB   \n",
       "3704                              Def Jam: Fight for NY       XB   \n",
       "\n",
       "      year_of_release         genre  na_sales  eu_sales  jp_sales  \\\n",
       "183               NaN        Sports      4.26      0.26      0.01   \n",
       "377               NaN        Sports      0.59      2.36      0.04   \n",
       "456               NaN        Action      1.80      0.97      0.00   \n",
       "475               NaN      Fighting      1.57      1.02      0.00   \n",
       "609               NaN       Shooter      2.36      0.14      0.00   \n",
       "627               NaN          Misc      1.93      0.33      0.00   \n",
       "657               NaN     Adventure      2.15      0.18      0.00   \n",
       "678               NaN        Action      1.51      0.61      0.00   \n",
       "719               NaN       Shooter      1.17      0.84      0.00   \n",
       "805               NaN          Misc      1.33      0.56      0.00   \n",
       "1131              NaN       Shooter      0.58      0.81      0.00   \n",
       "1142              NaN          Misc      0.99      0.41      0.00   \n",
       "1301              NaN        Sports      0.81      0.55      0.00   \n",
       "1506              NaN     Adventure      1.21      0.08      0.00   \n",
       "1538              NaN        Action      0.57      0.44      0.00   \n",
       "1585              NaN        Action      1.17      0.07      0.00   \n",
       "1609              NaN        Action      0.69      0.42      0.00   \n",
       "1650              NaN        Racing      0.60      0.46      0.00   \n",
       "1699              NaN        Action      0.76      0.38      0.00   \n",
       "1840              NaN          Misc      0.71      0.06      0.00   \n",
       "1984              NaN        Action      0.58      0.40      0.00   \n",
       "2010              NaN      Platform      0.68      0.31      0.00   \n",
       "2106              NaN       Shooter      0.91      0.06      0.00   \n",
       "2108              NaN  Role-Playing      0.29      0.23      0.38   \n",
       "2132              NaN        Action      0.51      0.37      0.00   \n",
       "2157              NaN          Misc      0.47      0.36      0.00   \n",
       "2169              NaN        Action      0.15      0.13      0.63   \n",
       "2273              NaN        Action      0.36      0.41      0.00   \n",
       "2281              NaN          Misc      0.77      0.11      0.00   \n",
       "2361              NaN          Misc      0.11      0.00      0.77   \n",
       "2453              NaN        Action      0.52      0.24      0.00   \n",
       "2479              NaN        Sports      0.77      0.03      0.00   \n",
       "2492              NaN        Sports      0.41      0.32      0.00   \n",
       "2522              NaN        Action      0.25      0.42      0.01   \n",
       "2536              NaN        Sports      0.48      0.25      0.00   \n",
       "2572              NaN        Sports      0.04      0.33      0.26   \n",
       "2773              NaN        Puzzle      0.16      0.06      0.50   \n",
       "2849              NaN        Sports      0.68      0.00      0.00   \n",
       "2969              NaN        Racing      0.30      0.31      0.00   \n",
       "3024              NaN        Action      0.48      0.18      0.00   \n",
       "3081              NaN        Action      0.34      0.25      0.00   \n",
       "3187              NaN  Role-Playing      0.00      0.00      0.63   \n",
       "3223              NaN        Action      0.38      0.22      0.00   \n",
       "3233              NaN        Racing      0.16      0.34      0.01   \n",
       "3289              NaN      Strategy      0.43      0.12      0.00   \n",
       "3352              NaN        Action      0.26      0.28      0.00   \n",
       "3413              NaN        Sports      0.54      0.00      0.01   \n",
       "3459              NaN        Racing      0.28      0.22      0.00   \n",
       "3486              NaN        Sports      0.53      0.02      0.00   \n",
       "3704              NaN      Fighting      0.43      0.10      0.00   \n",
       "\n",
       "      other_sales  critic_score user_score rating  \n",
       "183          0.71          94.0        8.5      E  \n",
       "377          0.51          84.0        6.4      E  \n",
       "456          0.29          74.0        7.9   E10+  \n",
       "475          0.41           NaN        NaN    NaN  \n",
       "609          0.03           NaN        NaN    NaN  \n",
       "627          0.21          92.0        8.2      T  \n",
       "657          0.07          73.0        tbd      E  \n",
       "678          0.21          78.0        6.6   E10+  \n",
       "719          0.23          69.0        6.7      T  \n",
       "805          0.20          80.0        6.3      T  \n",
       "1131         0.23          81.0        5.2      M  \n",
       "1142         0.22          92.0        8.4      T  \n",
       "1301         0.10           NaN        NaN    NaN  \n",
       "1506         0.01           NaN        NaN    NaN  \n",
       "1538         0.27          73.0        7.4   E10+  \n",
       "1585         0.01           NaN        NaN    NaN  \n",
       "1609         0.12          76.0        7.8   E10+  \n",
       "1650         0.16          84.0        8.7      E  \n",
       "1699         0.05          84.0          8      M  \n",
       "1840         0.35          82.0        6.8      T  \n",
       "1984         0.07          91.0          9      T  \n",
       "2010         0.04           NaN        NaN    NaN  \n",
       "2106         0.01           NaN        NaN    NaN  \n",
       "2108         0.08          86.0        7.7      T  \n",
       "2132         0.09          77.0        7.9   E10+  \n",
       "2157         0.12           NaN        tbd      E  \n",
       "2169         0.05          78.0          8      M  \n",
       "2273         0.15          76.0        8.3   E10+  \n",
       "2281         0.04          59.0        tbd      E  \n",
       "2361         0.01           NaN        NaN    NaN  \n",
       "2453         0.08          61.0        7.4      M  \n",
       "2479         0.04          78.0        6.6      E  \n",
       "2492         0.11          77.0        8.2      E  \n",
       "2522         0.13          63.0          7      M  \n",
       "2536         0.08          60.0        7.6      T  \n",
       "2572         0.17           NaN        NaN    NaN  \n",
       "2773         0.02           NaN        NaN    NaN  \n",
       "2849         0.04          75.0        5.4      E  \n",
       "2969         0.07          68.0        6.4      T  \n",
       "3024         0.01          66.0        6.8      E  \n",
       "3081         0.07          69.0        tbd   E10+  \n",
       "3187         0.00           NaN        NaN    NaN  \n",
       "3223         0.03          87.0        8.5      M  \n",
       "3233         0.12          70.0        6.1      T  \n",
       "3289         0.05          86.0        8.7   E10+  \n",
       "3352         0.07          35.0        6.8   E10+  \n",
       "3413         0.03          74.0        4.9      E  \n",
       "3459         0.07          84.0        8.8      E  \n",
       "3486         0.03          90.0        8.1      E  \n",
       "3704         0.02          84.0        8.5      M  "
      ]
     },
     "execution_count": 8,
     "metadata": {},
     "output_type": "execute_result"
    }
   ],
   "source": [
    "# Выведем строки с пустыми значениями в колонке 'name'\n",
    "games_df[games_df['year_of_release'].isna()].head(50)"
   ]
  },
  {
   "cell_type": "markdown",
   "metadata": {},
   "source": [
    "У некоторых игр в названии указан год, как правила это игры которые выходили в конце предшествующего указанному году в названии.<br>\n",
    "Создадим формулу, которая найдет подобные названия и поеределит год выхода игры на основании указанного в названии года. Важно учесть, что год может быть указан в конце названия, как в формате '2006', так и в формате '06'."
   ]
  },
  {
   "cell_type": "code",
   "execution_count": 9,
   "metadata": {},
   "outputs": [],
   "source": [
    "# Создадим формулу, которая определяет указан ли год в названии игры и сохраняет на его основании год выхода игры\n",
    "def get_year_from_name(name):\n",
    "    last_part = name[-4:]\n",
    "    if last_part.isdigit():\n",
    "        if int(last_part) in range(1980, 2016):\n",
    "            return int(last_part) - 1\n",
    "    else:\n",
    "        try:\n",
    "            delimiter = last_part[-3]\n",
    "        except:\n",
    "            return np.nan\n",
    "        last_part = last_part[-2:]\n",
    "        if last_part.isdigit() and delimiter == ' ':\n",
    "            if int(last_part[0]) >= 2:\n",
    "                last_part = '19' + str(last_part)\n",
    "            else:\n",
    "                last_part = '20' + str(last_part)\n",
    "            if int(last_part) in range(1980, 2016):\n",
    "                return int(last_part) - 1\n",
    "    return np.nan\n",
    "\n",
    "# Применим функцию к новой колонке\n",
    "games_df['year_in_name'] = games_df[games_df['name'].notna()]['name'].apply(get_year_from_name)"
   ]
  },
  {
   "cell_type": "code",
   "execution_count": 10,
   "metadata": {},
   "outputs": [
    {
     "data": {
      "text/plain": [
       "20"
      ]
     },
     "execution_count": 10,
     "metadata": {},
     "output_type": "execute_result"
    }
   ],
   "source": [
    "# Посчитаем количество строк, для которых мы получили год выпуска\n",
    "games_df[games_df['year_in_name'].notna() & games_df['year_of_release'].isna()]['year_in_name'].count()"
   ]
  },
  {
   "cell_type": "markdown",
   "metadata": {},
   "source": [
    "Получилось всего 20 строк. Заменим пропуски в колонке `year_of_release` полученными значениями из колонки `year_in_name`."
   ]
  },
  {
   "cell_type": "code",
   "execution_count": 11,
   "metadata": {},
   "outputs": [
    {
     "data": {
      "text/plain": [
       "0        2006.0\n",
       "1        1985.0\n",
       "2        2008.0\n",
       "3        2009.0\n",
       "4        1996.0\n",
       "          ...  \n",
       "16710    2016.0\n",
       "16711    2006.0\n",
       "16712    2016.0\n",
       "16713    2003.0\n",
       "16714    2016.0\n",
       "Name: year_of_release, Length: 16713, dtype: float64"
      ]
     },
     "execution_count": 11,
     "metadata": {},
     "output_type": "execute_result"
    }
   ],
   "source": [
    "# Заменяем пропуски в годе выпуска игры\n",
    "games_df['year_of_release'].fillna(games_df['year_in_name'])"
   ]
  },
  {
   "cell_type": "markdown",
   "metadata": {},
   "source": [
    "Преобразуем год выпуска игры из `float` в `int`."
   ]
  },
  {
   "cell_type": "code",
   "execution_count": 12,
   "metadata": {},
   "outputs": [],
   "source": [
    "# Поменяем год выхода игры из типа 'float' в тип 'Int64'\n",
    "games_df['year_of_release'] = games_df['year_of_release'].astype('Int64')"
   ]
  },
  {
   "cell_type": "markdown",
   "metadata": {},
   "source": [
    "В колонках `critic_score` и `user_score` имеется большое количество пропусков. Можно предположить, что оценка критиков коррелирует с объемом продаж, а оценка критиков и пользователей коррелируют между собой."
   ]
  },
  {
   "cell_type": "markdown",
   "metadata": {},
   "source": [
    "Для начала необходимо преобразовать значения колонки `user_score` в формат `float`. Для этого надо избавиться от значений `tbd`.<br>\n",
    "Google выдает следующую информацию об аббревиатуре `tbd`: она рассшифровывается, как 'To Be Determined', т.е. рейтинг еще не определен. Подобные значения можно заменить на `NaN`."
   ]
  },
  {
   "cell_type": "code",
   "execution_count": 13,
   "metadata": {},
   "outputs": [],
   "source": [
    "# Заменим 'tbd' на 'NaN'\n",
    "games_df['user_score'] = games_df['user_score'].replace('tbd', np.nan)\n",
    "\n",
    "\n",
    "# Преобразуем колонку 'user_score' в тип данных float\n",
    "games_df['user_score'] = games_df['user_score'].astype('float')"
   ]
  },
  {
   "cell_type": "code",
   "execution_count": 14,
   "metadata": {},
   "outputs": [],
   "source": [
    "# Создадим колонку с общей суммой продаж\n",
    "games_df['all_sales'] = (\n",
    "    games_df['na_sales'] + games_df['eu_sales'] \n",
    "    + games_df['jp_sales'] + games_df['other_sales']\n",
    ")"
   ]
  },
  {
   "cell_type": "code",
   "execution_count": 15,
   "metadata": {},
   "outputs": [
    {
     "data": {
      "image/png": "[encoded data removed]",
      "text/plain": [
       "<Figure size 432x288 with 1 Axes>"
      ]
     },
     "metadata": {
      "needs_background": "light"
     },
     "output_type": "display_data"
    }
   ],
   "source": [
    "# Построим диаграмму рассеяния между общими продажами и оценкой критиков\n",
    "games_df.plot(kind='scatter', x='all_sales', y='critic_score', xlim=(0, 10))\n",
    "plt.show()"
   ]
  },
  {
   "cell_type": "code",
   "execution_count": 16,
   "metadata": {},
   "outputs": [
    {
     "data": {
      "image/png": "[encoded data removed]",
      "text/plain": [
       "<Figure size 432x288 with 1 Axes>"
      ]
     },
     "metadata": {
      "needs_background": "light"
     },
     "output_type": "display_data"
    }
   ],
   "source": [
    "# Построим диаграмму рассеяния между оценкой критиков и оценкой пользователей\n",
    "games_df.plot(kind='scatter', x='user_score', y='critic_score')\n",
    "plt.show()"
   ]
  },
  {
   "cell_type": "code",
   "execution_count": 17,
   "metadata": {},
   "outputs": [
    {
     "data": {
      "text/html": [
       "<div>\n",
       "<style scoped>\n",
       "    .dataframe tbody tr th:only-of-type {\n",
       "        vertical-align: middle;\n",
       "    }\n",
       "\n",
       "    .dataframe tbody tr th {\n",
       "        vertical-align: top;\n",
       "    }\n",
       "\n",
       "    .dataframe thead th {\n",
       "        text-align: right;\n",
       "    }\n",
       "</style>\n",
       "<table border=\"1\" class=\"dataframe\">\n",
       "  <thead>\n",
       "    <tr style=\"text-align: right;\">\n",
       "      <th></th>\n",
       "      <th>critic_score</th>\n",
       "      <th>user_score</th>\n",
       "    </tr>\n",
       "  </thead>\n",
       "  <tbody>\n",
       "    <tr>\n",
       "      <th>critic_score</th>\n",
       "      <td>1.000000</td>\n",
       "      <td>0.580878</td>\n",
       "    </tr>\n",
       "    <tr>\n",
       "      <th>user_score</th>\n",
       "      <td>0.580878</td>\n",
       "      <td>1.000000</td>\n",
       "    </tr>\n",
       "  </tbody>\n",
       "</table>\n",
       "</div>"
      ],
      "text/plain": [
       "              critic_score  user_score\n",
       "critic_score      1.000000    0.580878\n",
       "user_score        0.580878    1.000000"
      ]
     },
     "execution_count": 17,
     "metadata": {},
     "output_type": "execute_result"
    }
   ],
   "source": [
    "# Посчитаем коэффициент корреляции\n",
    "games_df[['critic_score', 'user_score']].corr()"
   ]
  },
  {
   "cell_type": "markdown",
   "metadata": {},
   "source": [
    "Диаграммы рассеяния показали, что между оценкой критиков и объемом продаж присутствует зависимость. Она не означает, что у игр с высоким объемом продаж только высокие рейтинги - у таких игр имеются и довольно низкие рейтинги, но чем больше объем продаж, тем вероятнее получить высокую оценку критиков.<br>\n",
    "Между оценками критиков и пользователей прослеживается достаточно сильная положительная корреляция. Чем выше оценка критиков, тем, как правило, выше и оценка пользователей."
   ]
  },
  {
   "cell_type": "markdown",
   "metadata": {},
   "source": [
    "Исходя из полученных данных вполне можно было бы заменить пропуски в оценках критиков и пользователей на основании объема продаж, но есть риск исказить общую картину, т.к. нам придется усреднять значения, а разброс оценок только увеличивается с увеличением объемов продаж."
   ]
  },
  {
   "cell_type": "markdown",
   "metadata": {},
   "source": [
    "Избавимся от пропусков в колонке `rating`. Заменим пропуски для отсутствующего рейтинга на `unknown`, что позволит нам  в дальнейшем учесть игры с пропущенным рейтингом в анализе."
   ]
  },
  {
   "cell_type": "code",
   "execution_count": 18,
   "metadata": {},
   "outputs": [],
   "source": [
    "# Заменим пропуски на 'unknown'\n",
    "games_df['rating'].fillna('unknown', inplace=True)"
   ]
  },
  {
   "cell_type": "markdown",
   "metadata": {},
   "source": [
    "Поменяем типы данных там, где это нужно."
   ]
  },
  {
   "cell_type": "code",
   "execution_count": 19,
   "metadata": {},
   "outputs": [],
   "source": [
    "# Переведем колонки 'platform', 'genre' и 'rating' в тип 'category'\n",
    "games_df['platform'] = games_df['platform'].astype('category')\n",
    "games_df['genre'] = games_df['genre'].astype('category')\n",
    "games_df['rating'] = games_df['rating'].astype('category')"
   ]
  },
  {
   "cell_type": "markdown",
   "metadata": {},
   "source": [
    "### Выводы"
   ]
  },
  {
   "cell_type": "markdown",
   "metadata": {},
   "source": [
    "На данном этапе были проведены основные операции по предобработке данных:\n",
    "- скорректированы заголовки таблицы\n",
    "- была произведена замена пропусков в колонках `year_of_release` и `rating`\n",
    "- мы избавились от строк с пропущенными значениями в колонке `name`\n",
    "- произвели замену типа данных в колонках `platform`, `genre`, `rating`"
   ]
  },
  {
   "cell_type": "markdown",
   "metadata": {},
   "source": [
    "## Исследовательский анализ данных"
   ]
  },
  {
   "cell_type": "code",
   "execution_count": 20,
   "metadata": {},
   "outputs": [
    {
     "data": {
      "image/png": "[encoded data removed]",
      "text/plain": [
       "<Figure size 576x432 with 1 Axes>"
      ]
     },
     "metadata": {
      "needs_background": "light"
     },
     "output_type": "display_data"
    }
   ],
   "source": [
    "# Посмотрим, сколько игр выпускалось в разные годы\n",
    "games_df.groupby('year_of_release')['year_of_release'].count().plot(figsize=(8, 6), grid=True)\n",
    "plt.show()"
   ]
  },
  {
   "cell_type": "markdown",
   "metadata": {},
   "source": [
    "Активный рост выпуска новых игр приходится на период с 2000 по 2008 год. С 2010 года заметен спад в количестве выпускаемых игр."
   ]
  },
  {
   "cell_type": "code",
   "execution_count": 21,
   "metadata": {},
   "outputs": [],
   "source": [
    "# Выберем топ-10 платформ с наибольшими суммарными продажами\n",
    "top_platforms = games_df.groupby('platform')['all_sales'].sum().sort_values(ascending=False).head(10).index"
   ]
  },
  {
   "cell_type": "code",
   "execution_count": 22,
   "metadata": {},
   "outputs": [
    {
     "data": {
      "image/png": "[encoded data removed]",
      "text/plain": [
       "<Figure size 1080x576 with 1 Axes>"
      ]
     },
     "metadata": {
      "needs_background": "light"
     },
     "output_type": "display_data"
    }
   ],
   "source": [
    "# Построим распределение по годам\n",
    "for platform in top_platforms:\n",
    "    games_df.query(\"platform == @platform\").groupby('year_of_release')['all_sales'].sum().plot(label=platform, figsize=(15,8), grid=True)\n",
    "plt.legend()\n",
    "plt.show()"
   ]
  },
  {
   "cell_type": "markdown",
   "metadata": {},
   "source": [
    "На графике мы видим, как некоторые платформы появлялись и исчезали из продаж. В период с 1994 по 2005 заметна первая волна появления новых платформ и их исчезновения с рынка, например такие платформы, как: PS, GBA, PS2. С 2004 по 2012 заметно появление новых платформ, которые ближе к 2010-2012 году достигают пика по объему выпущенных игр (Wii, X360, PS3, PSP, DS). С 2010 года количество выпускаемых игр в год начинает уменьшаться."
   ]
  },
  {
   "cell_type": "markdown",
   "metadata": {},
   "source": [
    "Посчитаем средний срок жизни платформ. Создадим сводную таблицу и рассчитаем разницу лет и среднее значение разницы."
   ]
  },
  {
   "cell_type": "code",
   "execution_count": 23,
   "metadata": {},
   "outputs": [
    {
     "name": "stdout",
     "output_type": "stream",
     "text": [
      "Средний срок жизни платформ: 7.61 лет\n"
     ]
    }
   ],
   "source": [
    "# Создадим сводную с минимальной и максимальной датой релиза по каждой платформе\n",
    "living_years = games_df.pivot_table(index='platform', values='year_of_release', aggfunc={'min', 'max'})\n",
    "\n",
    "# Вычтем из максимальной даты релиза минимальную - получим количество лет жизни платформы\n",
    "living_years['living_years'] = living_years['max'] - living_years['min']\n",
    "\n",
    "print('Средний срок жизни платформ: {} лет'.format(round(living_years['living_years'].mean(), 2)))"
   ]
  },
  {
   "cell_type": "markdown",
   "metadata": {},
   "source": [
    "Для дальнейшего анализа примем период с 2014 года, как наиболее актуальный и показывающий текущую тенденцию в области выпуска и продаж игр."
   ]
  },
  {
   "cell_type": "code",
   "execution_count": 24,
   "metadata": {},
   "outputs": [
    {
     "data": {
      "text/html": [
       "<div>\n",
       "<style scoped>\n",
       "    .dataframe tbody tr th:only-of-type {\n",
       "        vertical-align: middle;\n",
       "    }\n",
       "\n",
       "    .dataframe tbody tr th {\n",
       "        vertical-align: top;\n",
       "    }\n",
       "\n",
       "    .dataframe thead th {\n",
       "        text-align: right;\n",
       "    }\n",
       "</style>\n",
       "<table border=\"1\" class=\"dataframe\">\n",
       "  <thead>\n",
       "    <tr style=\"text-align: right;\">\n",
       "      <th></th>\n",
       "      <th>name</th>\n",
       "      <th>platform</th>\n",
       "      <th>year_of_release</th>\n",
       "      <th>genre</th>\n",
       "      <th>na_sales</th>\n",
       "      <th>eu_sales</th>\n",
       "      <th>jp_sales</th>\n",
       "      <th>other_sales</th>\n",
       "      <th>critic_score</th>\n",
       "      <th>user_score</th>\n",
       "      <th>rating</th>\n",
       "      <th>year_in_name</th>\n",
       "      <th>all_sales</th>\n",
       "    </tr>\n",
       "  </thead>\n",
       "  <tbody>\n",
       "    <tr>\n",
       "      <th>31</th>\n",
       "      <td>Call of Duty: Black Ops 3</td>\n",
       "      <td>PS4</td>\n",
       "      <td>2015</td>\n",
       "      <td>Shooter</td>\n",
       "      <td>6.03</td>\n",
       "      <td>5.86</td>\n",
       "      <td>0.36</td>\n",
       "      <td>2.38</td>\n",
       "      <td>NaN</td>\n",
       "      <td>NaN</td>\n",
       "      <td>unknown</td>\n",
       "      <td>NaN</td>\n",
       "      <td>14.63</td>\n",
       "    </tr>\n",
       "    <tr>\n",
       "      <th>42</th>\n",
       "      <td>Grand Theft Auto V</td>\n",
       "      <td>PS4</td>\n",
       "      <td>2014</td>\n",
       "      <td>Action</td>\n",
       "      <td>3.96</td>\n",
       "      <td>6.31</td>\n",
       "      <td>0.38</td>\n",
       "      <td>1.97</td>\n",
       "      <td>97.0</td>\n",
       "      <td>8.3</td>\n",
       "      <td>M</td>\n",
       "      <td>NaN</td>\n",
       "      <td>12.62</td>\n",
       "    </tr>\n",
       "    <tr>\n",
       "      <th>47</th>\n",
       "      <td>Pokemon Omega Ruby/Pokemon Alpha Sapphire</td>\n",
       "      <td>3DS</td>\n",
       "      <td>2014</td>\n",
       "      <td>Role-Playing</td>\n",
       "      <td>4.35</td>\n",
       "      <td>3.49</td>\n",
       "      <td>3.10</td>\n",
       "      <td>0.74</td>\n",
       "      <td>NaN</td>\n",
       "      <td>NaN</td>\n",
       "      <td>unknown</td>\n",
       "      <td>NaN</td>\n",
       "      <td>11.68</td>\n",
       "    </tr>\n",
       "    <tr>\n",
       "      <th>77</th>\n",
       "      <td>FIFA 16</td>\n",
       "      <td>PS4</td>\n",
       "      <td>2015</td>\n",
       "      <td>Sports</td>\n",
       "      <td>1.12</td>\n",
       "      <td>6.12</td>\n",
       "      <td>0.06</td>\n",
       "      <td>1.28</td>\n",
       "      <td>82.0</td>\n",
       "      <td>4.3</td>\n",
       "      <td>E</td>\n",
       "      <td>NaN</td>\n",
       "      <td>8.58</td>\n",
       "    </tr>\n",
       "    <tr>\n",
       "      <th>87</th>\n",
       "      <td>Star Wars Battlefront (2015)</td>\n",
       "      <td>PS4</td>\n",
       "      <td>2015</td>\n",
       "      <td>Shooter</td>\n",
       "      <td>2.99</td>\n",
       "      <td>3.49</td>\n",
       "      <td>0.22</td>\n",
       "      <td>1.28</td>\n",
       "      <td>NaN</td>\n",
       "      <td>NaN</td>\n",
       "      <td>unknown</td>\n",
       "      <td>NaN</td>\n",
       "      <td>7.98</td>\n",
       "    </tr>\n",
       "    <tr>\n",
       "      <th>...</th>\n",
       "      <td>...</td>\n",
       "      <td>...</td>\n",
       "      <td>...</td>\n",
       "      <td>...</td>\n",
       "      <td>...</td>\n",
       "      <td>...</td>\n",
       "      <td>...</td>\n",
       "      <td>...</td>\n",
       "      <td>...</td>\n",
       "      <td>...</td>\n",
       "      <td>...</td>\n",
       "      <td>...</td>\n",
       "      <td>...</td>\n",
       "    </tr>\n",
       "    <tr>\n",
       "      <th>16703</th>\n",
       "      <td>Strawberry Nauts</td>\n",
       "      <td>PSV</td>\n",
       "      <td>2016</td>\n",
       "      <td>Adventure</td>\n",
       "      <td>0.00</td>\n",
       "      <td>0.00</td>\n",
       "      <td>0.01</td>\n",
       "      <td>0.00</td>\n",
       "      <td>NaN</td>\n",
       "      <td>NaN</td>\n",
       "      <td>unknown</td>\n",
       "      <td>NaN</td>\n",
       "      <td>0.01</td>\n",
       "    </tr>\n",
       "    <tr>\n",
       "      <th>16707</th>\n",
       "      <td>Aiyoku no Eustia</td>\n",
       "      <td>PSV</td>\n",
       "      <td>2014</td>\n",
       "      <td>Misc</td>\n",
       "      <td>0.00</td>\n",
       "      <td>0.00</td>\n",
       "      <td>0.01</td>\n",
       "      <td>0.00</td>\n",
       "      <td>NaN</td>\n",
       "      <td>NaN</td>\n",
       "      <td>unknown</td>\n",
       "      <td>NaN</td>\n",
       "      <td>0.01</td>\n",
       "    </tr>\n",
       "    <tr>\n",
       "      <th>16710</th>\n",
       "      <td>Samurai Warriors: Sanada Maru</td>\n",
       "      <td>PS3</td>\n",
       "      <td>2016</td>\n",
       "      <td>Action</td>\n",
       "      <td>0.00</td>\n",
       "      <td>0.00</td>\n",
       "      <td>0.01</td>\n",
       "      <td>0.00</td>\n",
       "      <td>NaN</td>\n",
       "      <td>NaN</td>\n",
       "      <td>unknown</td>\n",
       "      <td>NaN</td>\n",
       "      <td>0.01</td>\n",
       "    </tr>\n",
       "    <tr>\n",
       "      <th>16712</th>\n",
       "      <td>Haitaka no Psychedelica</td>\n",
       "      <td>PSV</td>\n",
       "      <td>2016</td>\n",
       "      <td>Adventure</td>\n",
       "      <td>0.00</td>\n",
       "      <td>0.00</td>\n",
       "      <td>0.01</td>\n",
       "      <td>0.00</td>\n",
       "      <td>NaN</td>\n",
       "      <td>NaN</td>\n",
       "      <td>unknown</td>\n",
       "      <td>NaN</td>\n",
       "      <td>0.01</td>\n",
       "    </tr>\n",
       "    <tr>\n",
       "      <th>16714</th>\n",
       "      <td>Winning Post 8 2016</td>\n",
       "      <td>PSV</td>\n",
       "      <td>2016</td>\n",
       "      <td>Simulation</td>\n",
       "      <td>0.00</td>\n",
       "      <td>0.00</td>\n",
       "      <td>0.01</td>\n",
       "      <td>0.00</td>\n",
       "      <td>NaN</td>\n",
       "      <td>NaN</td>\n",
       "      <td>unknown</td>\n",
       "      <td>NaN</td>\n",
       "      <td>0.01</td>\n",
       "    </tr>\n",
       "  </tbody>\n",
       "</table>\n",
       "<p>1689 rows × 13 columns</p>\n",
       "</div>"
      ],
      "text/plain": [
       "                                            name platform  year_of_release  \\\n",
       "31                     Call of Duty: Black Ops 3      PS4             2015   \n",
       "42                            Grand Theft Auto V      PS4             2014   \n",
       "47     Pokemon Omega Ruby/Pokemon Alpha Sapphire      3DS             2014   \n",
       "77                                       FIFA 16      PS4             2015   \n",
       "87                  Star Wars Battlefront (2015)      PS4             2015   \n",
       "...                                          ...      ...              ...   \n",
       "16703                           Strawberry Nauts      PSV             2016   \n",
       "16707                           Aiyoku no Eustia      PSV             2014   \n",
       "16710              Samurai Warriors: Sanada Maru      PS3             2016   \n",
       "16712                    Haitaka no Psychedelica      PSV             2016   \n",
       "16714                        Winning Post 8 2016      PSV             2016   \n",
       "\n",
       "              genre  na_sales  eu_sales  jp_sales  other_sales  critic_score  \\\n",
       "31          Shooter      6.03      5.86      0.36         2.38           NaN   \n",
       "42           Action      3.96      6.31      0.38         1.97          97.0   \n",
       "47     Role-Playing      4.35      3.49      3.10         0.74           NaN   \n",
       "77           Sports      1.12      6.12      0.06         1.28          82.0   \n",
       "87          Shooter      2.99      3.49      0.22         1.28           NaN   \n",
       "...             ...       ...       ...       ...          ...           ...   \n",
       "16703     Adventure      0.00      0.00      0.01         0.00           NaN   \n",
       "16707          Misc      0.00      0.00      0.01         0.00           NaN   \n",
       "16710        Action      0.00      0.00      0.01         0.00           NaN   \n",
       "16712     Adventure      0.00      0.00      0.01         0.00           NaN   \n",
       "16714    Simulation      0.00      0.00      0.01         0.00           NaN   \n",
       "\n",
       "       user_score   rating  year_in_name  all_sales  \n",
       "31            NaN  unknown           NaN      14.63  \n",
       "42            8.3        M           NaN      12.62  \n",
       "47            NaN  unknown           NaN      11.68  \n",
       "77            4.3        E           NaN       8.58  \n",
       "87            NaN  unknown           NaN       7.98  \n",
       "...           ...      ...           ...        ...  \n",
       "16703         NaN  unknown           NaN       0.01  \n",
       "16707         NaN  unknown           NaN       0.01  \n",
       "16710         NaN  unknown           NaN       0.01  \n",
       "16712         NaN  unknown           NaN       0.01  \n",
       "16714         NaN  unknown           NaN       0.01  \n",
       "\n",
       "[1689 rows x 13 columns]"
      ]
     },
     "execution_count": 24,
     "metadata": {},
     "output_type": "execute_result"
    }
   ],
   "source": [
    "# Создадим срез по данным с 2010 года\n",
    "games_actual_df = games_df[games_df['year_of_release'] >= 2014]\n",
    "games_actual_df"
   ]
  },
  {
   "cell_type": "code",
   "execution_count": 25,
   "metadata": {},
   "outputs": [
    {
     "data": {
      "image/png": "[encoded data removed]",
      "text/plain": [
       "<Figure size 1080x576 with 1 Axes>"
      ]
     },
     "metadata": {
      "needs_background": "light"
     },
     "output_type": "display_data"
    }
   ],
   "source": [
    "# Построим графики по объему продаж для каждой платформы\n",
    "for platform in games_actual_df['platform'].unique():\n",
    "    games_actual_df.query(\"platform == @platform\").groupby('year_of_release')['all_sales'].sum().plot(label=platform, figsize=(15,8), xlim=(2014,2015))\n",
    "plt.legend()\n",
    "plt.show()"
   ]
  },
  {
   "cell_type": "markdown",
   "metadata": {},
   "source": [
    "На графике мы отчетливо видим спад продаж таких платформ, как 3DS, X360, PS3. Заметный рост продаж наблюдается у платформ PS4 и XOne - эти платформы можно считать самыми перспективными с точки зрения продаж. У остальных платформ не заметно, как спада, так и роста, они уверенно занимают не большую по объему, но конкретную нишу пользователей."
   ]
  },
  {
   "cell_type": "code",
   "execution_count": 26,
   "metadata": {},
   "outputs": [
    {
     "data": {
      "image/png": "[encoded data removed]",
      "text/plain": [
       "<Figure size 720x576 with 1 Axes>"
      ]
     },
     "metadata": {
      "needs_background": "light"
     },
     "output_type": "display_data"
    }
   ],
   "source": [
    "# Построим график «ящик с усами» по глобальным продажам игр в разбивке по платформам\n",
    "games_actual_df.pivot_table(index='name', columns='platform', values='all_sales').plot(kind='box', figsize=(10, 8), ylim=(0,20), grid=True)\n",
    "plt.show()"
   ]
  },
  {
   "cell_type": "markdown",
   "metadata": {},
   "source": [
    "По графикам видно, что больше всего продаж приносят игры вышедшие на платформах 3DS, XOne, PS4."
   ]
  },
  {
   "cell_type": "markdown",
   "metadata": {},
   "source": [
    "Увеличим масштаб графиков."
   ]
  },
  {
   "cell_type": "code",
   "execution_count": 27,
   "metadata": {
    "scrolled": true
   },
   "outputs": [
    {
     "data": {
      "image/png": "[encoded data removed]",
      "text/plain": [
       "<Figure size 720x576 with 1 Axes>"
      ]
     },
     "metadata": {
      "needs_background": "light"
     },
     "output_type": "display_data"
    }
   ],
   "source": [
    "# Приблизим график «ящик с усами» по глобальным продажам игр в разбивке по платформам\n",
    "games_actual_df.pivot_table(index='name', columns='platform', values='all_sales').plot(kind='box', figsize=(10, 8), ylim=(0,2), grid=True)\n",
    "plt.show()"
   ]
  },
  {
   "cell_type": "markdown",
   "metadata": {},
   "source": [
    "Наибольший доверительный интервал значений мы видим у платформ `PS4` и `XOne`, что говорит о наличии большого количества игр среди этих платформ, которые приносят высокие уровни продаж  \n",
    "Практически на одном уровне находятся медианные значения у платформ `PS4`, `Wii`, `WiiU`, `X360` и `XOne` - около половины игр на этих платформах дают не менее 0.18 млн. продаж с каждой игры."
   ]
  },
  {
   "cell_type": "code",
   "execution_count": 28,
   "metadata": {},
   "outputs": [
    {
     "data": {
      "image/png": "[encoded data removed]",
      "text/plain": [
       "<Figure size 720x576 with 1 Axes>"
      ]
     },
     "metadata": {
      "needs_background": "light"
     },
     "output_type": "display_data"
    },
    {
     "data": {
      "text/html": [
       "<div>\n",
       "<style scoped>\n",
       "    .dataframe tbody tr th:only-of-type {\n",
       "        vertical-align: middle;\n",
       "    }\n",
       "\n",
       "    .dataframe tbody tr th {\n",
       "        vertical-align: top;\n",
       "    }\n",
       "\n",
       "    .dataframe thead th {\n",
       "        text-align: right;\n",
       "    }\n",
       "</style>\n",
       "<table border=\"1\" class=\"dataframe\">\n",
       "  <thead>\n",
       "    <tr style=\"text-align: right;\">\n",
       "      <th></th>\n",
       "      <th>all_sales</th>\n",
       "      <th>critic_score</th>\n",
       "    </tr>\n",
       "  </thead>\n",
       "  <tbody>\n",
       "    <tr>\n",
       "      <th>all_sales</th>\n",
       "      <td>1.000000</td>\n",
       "      <td>0.402661</td>\n",
       "    </tr>\n",
       "    <tr>\n",
       "      <th>critic_score</th>\n",
       "      <td>0.402661</td>\n",
       "      <td>1.000000</td>\n",
       "    </tr>\n",
       "  </tbody>\n",
       "</table>\n",
       "</div>"
      ],
      "text/plain": [
       "              all_sales  critic_score\n",
       "all_sales      1.000000      0.402661\n",
       "critic_score   0.402661      1.000000"
      ]
     },
     "execution_count": 28,
     "metadata": {},
     "output_type": "execute_result"
    }
   ],
   "source": [
    "# Построим матрицу рассеяния между отзывами критиков и продажами для платформы PS4\n",
    "games_actual_df.query('platform == \"PS4\"').plot(kind='scatter', x='all_sales', y='critic_score', figsize=(10, 8))\n",
    "plt.show()\n",
    "\n",
    "# Посчитаем корреляцию\n",
    "games_actual_df.query('platform == \"PS4\"')[['all_sales', 'critic_score']].corr()"
   ]
  },
  {
   "cell_type": "markdown",
   "metadata": {},
   "source": [
    "На графике видна корреляция между отзывами критиков и продажами. Чем выше оценка критиков, тем выше и объем продаж игр  \n",
    "Коэффициент корреляции равен 0.4, что не говорит об очень сильной взаимосвязи."
   ]
  },
  {
   "cell_type": "code",
   "execution_count": 29,
   "metadata": {},
   "outputs": [
    {
     "data": {
      "image/png": "[encoded data removed]",
      "text/plain": [
       "<Figure size 720x576 with 1 Axes>"
      ]
     },
     "metadata": {
      "needs_background": "light"
     },
     "output_type": "display_data"
    },
    {
     "data": {
      "text/html": [
       "<div>\n",
       "<style scoped>\n",
       "    .dataframe tbody tr th:only-of-type {\n",
       "        vertical-align: middle;\n",
       "    }\n",
       "\n",
       "    .dataframe tbody tr th {\n",
       "        vertical-align: top;\n",
       "    }\n",
       "\n",
       "    .dataframe thead th {\n",
       "        text-align: right;\n",
       "    }\n",
       "</style>\n",
       "<table border=\"1\" class=\"dataframe\">\n",
       "  <thead>\n",
       "    <tr style=\"text-align: right;\">\n",
       "      <th></th>\n",
       "      <th>all_sales</th>\n",
       "      <th>user_score</th>\n",
       "    </tr>\n",
       "  </thead>\n",
       "  <tbody>\n",
       "    <tr>\n",
       "      <th>all_sales</th>\n",
       "      <td>1.000000</td>\n",
       "      <td>-0.040132</td>\n",
       "    </tr>\n",
       "    <tr>\n",
       "      <th>user_score</th>\n",
       "      <td>-0.040132</td>\n",
       "      <td>1.000000</td>\n",
       "    </tr>\n",
       "  </tbody>\n",
       "</table>\n",
       "</div>"
      ],
      "text/plain": [
       "            all_sales  user_score\n",
       "all_sales    1.000000   -0.040132\n",
       "user_score  -0.040132    1.000000"
      ]
     },
     "execution_count": 29,
     "metadata": {},
     "output_type": "execute_result"
    }
   ],
   "source": [
    "# Построим матрицу рассеяния между отзывами пользователей и продажами\n",
    "games_actual_df.query('platform == \"PS4\"').plot(kind='scatter', x='all_sales', y='user_score', figsize=(10, 8))\n",
    "plt.show()\n",
    "\n",
    "# Посчитаем корреляцию\n",
    "games_actual_df.query('platform == \"PS4\"')[['all_sales', 'user_score']].corr()"
   ]
  },
  {
   "cell_type": "markdown",
   "metadata": {},
   "source": [
    "Между оценками пользователей и продажами взаимосвязь отсутствует, на что указывает и близкий к 0 коэффициент корреляции."
   ]
  },
  {
   "cell_type": "code",
   "execution_count": 30,
   "metadata": {},
   "outputs": [
    {
     "data": {
      "image/png": "[encoded data removed]",
      "text/plain": [
       "<Figure size 720x576 with 1 Axes>"
      ]
     },
     "metadata": {
      "needs_background": "light"
     },
     "output_type": "display_data"
    },
    {
     "data": {
      "text/html": [
       "<div>\n",
       "<style scoped>\n",
       "    .dataframe tbody tr th:only-of-type {\n",
       "        vertical-align: middle;\n",
       "    }\n",
       "\n",
       "    .dataframe tbody tr th {\n",
       "        vertical-align: top;\n",
       "    }\n",
       "\n",
       "    .dataframe thead th {\n",
       "        text-align: right;\n",
       "    }\n",
       "</style>\n",
       "<table border=\"1\" class=\"dataframe\">\n",
       "  <thead>\n",
       "    <tr style=\"text-align: right;\">\n",
       "      <th></th>\n",
       "      <th>all_sales</th>\n",
       "      <th>critic_score</th>\n",
       "    </tr>\n",
       "  </thead>\n",
       "  <tbody>\n",
       "    <tr>\n",
       "      <th>all_sales</th>\n",
       "      <td>1.000000</td>\n",
       "      <td>0.309474</td>\n",
       "    </tr>\n",
       "    <tr>\n",
       "      <th>critic_score</th>\n",
       "      <td>0.309474</td>\n",
       "      <td>1.000000</td>\n",
       "    </tr>\n",
       "  </tbody>\n",
       "</table>\n",
       "</div>"
      ],
      "text/plain": [
       "              all_sales  critic_score\n",
       "all_sales      1.000000      0.309474\n",
       "critic_score   0.309474      1.000000"
      ]
     },
     "metadata": {},
     "output_type": "display_data"
    },
    {
     "data": {
      "image/png": "[encoded data removed]",
      "text/plain": [
       "<Figure size 720x576 with 1 Axes>"
      ]
     },
     "metadata": {
      "needs_background": "light"
     },
     "output_type": "display_data"
    },
    {
     "data": {
      "text/html": [
       "<div>\n",
       "<style scoped>\n",
       "    .dataframe tbody tr th:only-of-type {\n",
       "        vertical-align: middle;\n",
       "    }\n",
       "\n",
       "    .dataframe tbody tr th {\n",
       "        vertical-align: top;\n",
       "    }\n",
       "\n",
       "    .dataframe thead th {\n",
       "        text-align: right;\n",
       "    }\n",
       "</style>\n",
       "<table border=\"1\" class=\"dataframe\">\n",
       "  <thead>\n",
       "    <tr style=\"text-align: right;\">\n",
       "      <th></th>\n",
       "      <th>all_sales</th>\n",
       "      <th>user_score</th>\n",
       "    </tr>\n",
       "  </thead>\n",
       "  <tbody>\n",
       "    <tr>\n",
       "      <th>all_sales</th>\n",
       "      <td>1.000000</td>\n",
       "      <td>-0.023478</td>\n",
       "    </tr>\n",
       "    <tr>\n",
       "      <th>user_score</th>\n",
       "      <td>-0.023478</td>\n",
       "      <td>1.000000</td>\n",
       "    </tr>\n",
       "  </tbody>\n",
       "</table>\n",
       "</div>"
      ],
      "text/plain": [
       "            all_sales  user_score\n",
       "all_sales    1.000000   -0.023478\n",
       "user_score  -0.023478    1.000000"
      ]
     },
     "execution_count": 30,
     "metadata": {},
     "output_type": "execute_result"
    }
   ],
   "source": [
    "# Построим матрицу рассеяния между отзывами критиков и продажами на других платформах\n",
    "games_actual_df.query('platform != \"PS4\"').plot(kind='scatter', x='all_sales', y='critic_score', figsize=(10, 8))\n",
    "plt.show()\n",
    "\n",
    "# Посчитаем корреляцию\n",
    "display(games_actual_df.query('platform != \"PS4\"')[['all_sales', 'critic_score']].corr())\n",
    "\n",
    "games_actual_df.query('platform != \"PS4\"').plot(kind='scatter', x='all_sales', y='user_score', figsize=(10, 8))\n",
    "plt.show()\n",
    "\n",
    "# Посчитаем корреляцию\n",
    "games_actual_df.query('platform != \"PS4\"')[['all_sales', 'user_score']].corr()"
   ]
  },
  {
   "cell_type": "markdown",
   "metadata": {},
   "source": [
    "Если смотреть данные по остальным платформам, то ситуация отражает полученные результаты - оценки критиков имеют большую корреляцию с продажами, в отличии от пользовательских оценок."
   ]
  },
  {
   "cell_type": "code",
   "execution_count": 31,
   "metadata": {},
   "outputs": [
    {
     "data": {
      "image/png": "[encoded data removed]",
      "text/plain": [
       "<Figure size 720x576 with 1 Axes>"
      ]
     },
     "metadata": {
      "needs_background": "light"
     },
     "output_type": "display_data"
    }
   ],
   "source": [
    "# Построим общее распределение по продажам игр по жанрам\n",
    "games_actual_df.groupby('genre')['all_sales'].sum().sort_values(ascending=False).plot.bar(figsize=(10,8))\n",
    "plt.show()"
   ]
  },
  {
   "cell_type": "markdown",
   "metadata": {},
   "source": [
    "Самыми продаваемыми являются жанры Action, Shooter, Sports и Role-Playing. Заметна разница между самыми продаваемыми и наименее продаваемыми жанрами - их отличает уровень интеллектуальной нагрузки в процессе игры. Популярнее жанры более активные и динамичные, жанры менее популярные - менее активные  и требуют больше интеллектуального погружения в игру."
   ]
  },
  {
   "cell_type": "code",
   "execution_count": 32,
   "metadata": {},
   "outputs": [
    {
     "data": {
      "image/png": "[encoded data removed]",
      "text/plain": [
       "<Figure size 720x576 with 1 Axes>"
      ]
     },
     "metadata": {
      "needs_background": "light"
     },
     "output_type": "display_data"
    }
   ],
   "source": [
    "# Построим общее распределение по количеству выпущенных игр по жанрам\n",
    "games_actual_df.groupby('genre')['all_sales'].count().sort_values(ascending=False).plot.bar(figsize=(10,8))\n",
    "plt.show()"
   ]
  },
  {
   "cell_type": "markdown",
   "metadata": {},
   "source": [
    "Больше всего выпущенно игр в жанре Action, что может объяснять и выскоий уровень доохода по этому жанру. Практически на одном уровне по количеству выпущенных игр находятся жанры Misc, Sports, Role-Playing и Adventure, но при этом жанры Sports и Role-Playing занимают одни из лидирующих мест по продажам, что может указывать на наличие нескольких очень популярных игр, которые и приносят большую часть дохода внутри этих жанров."
   ]
  },
  {
   "cell_type": "code",
   "execution_count": 33,
   "metadata": {},
   "outputs": [
    {
     "data": {
      "image/png": "[encoded data removed]",
      "text/plain": [
       "<Figure size 720x576 with 1 Axes>"
      ]
     },
     "metadata": {
      "needs_background": "light"
     },
     "output_type": "display_data"
    }
   ],
   "source": [
    "# Построим распределение по медианным значениям, что лучше отразит популярность жанров\n",
    "games_actual_df.groupby('genre')['all_sales'].median().sort_values(ascending=False).plot.bar(figsize=(10,8))\n",
    "plt.show()"
   ]
  },
  {
   "cell_type": "markdown",
   "metadata": {},
   "source": [
    "При обзоре медианных объемов продаж в лидеры вырывается жанр `Shooter`, который лидирует с большим разрывом. Следующими по поулярности идут жанры `Sports`, `Platform` и `Fighting`."
   ]
  },
  {
   "cell_type": "code",
   "execution_count": 34,
   "metadata": {},
   "outputs": [],
   "source": [
    "# Определим функцию для вывода топа по различным характеристикам\n",
    "def show_top(dimension):\n",
    "    values = ['na_sales', 'eu_sales', 'jp_sales']\n",
    "    plt.figure(figsize=(20,5))\n",
    "    ax1 = plt.subplot(1, 3, 1)\n",
    "    ax2 = plt.subplot(1, 3, 2)\n",
    "    ax3 = plt.subplot(1, 3, 3)\n",
    "    axs = [ax1, ax2, ax3]\n",
    "    \n",
    "    for index, value in enumerate(values):\n",
    "        table = (\n",
    "            games_actual_df.pivot_table(index=dimension, values=value, aggfunc='sum')\n",
    "            .sort_values(by=value, ascending=False)\n",
    "            .head(5)\n",
    "        )\n",
    "        table['share'] = round(100 * table[value] / table[value].sum(), 2)\n",
    "        display(table.sort_values(by='share', ascending=False))\n",
    "        \n",
    "        # Строим графики\n",
    "        table['share'].plot.bar(ax=axs[index], sharey=axs[0])\n",
    "    plt.tight_layout()\n",
    "    plt.show()"
   ]
  },
  {
   "cell_type": "code",
   "execution_count": 35,
   "metadata": {},
   "outputs": [
    {
     "data": {
      "text/html": [
       "<div>\n",
       "<style scoped>\n",
       "    .dataframe tbody tr th:only-of-type {\n",
       "        vertical-align: middle;\n",
       "    }\n",
       "\n",
       "    .dataframe tbody tr th {\n",
       "        vertical-align: top;\n",
       "    }\n",
       "\n",
       "    .dataframe thead th {\n",
       "        text-align: right;\n",
       "    }\n",
       "</style>\n",
       "<table border=\"1\" class=\"dataframe\">\n",
       "  <thead>\n",
       "    <tr style=\"text-align: right;\">\n",
       "      <th></th>\n",
       "      <th>na_sales</th>\n",
       "      <th>share</th>\n",
       "    </tr>\n",
       "    <tr>\n",
       "      <th>platform</th>\n",
       "      <th></th>\n",
       "      <th></th>\n",
       "    </tr>\n",
       "  </thead>\n",
       "  <tbody>\n",
       "    <tr>\n",
       "      <th>PS4</th>\n",
       "      <td>98.61</td>\n",
       "      <td>39.00</td>\n",
       "    </tr>\n",
       "    <tr>\n",
       "      <th>XOne</th>\n",
       "      <td>81.27</td>\n",
       "      <td>32.14</td>\n",
       "    </tr>\n",
       "    <tr>\n",
       "      <th>X360</th>\n",
       "      <td>28.30</td>\n",
       "      <td>11.19</td>\n",
       "    </tr>\n",
       "    <tr>\n",
       "      <th>3DS</th>\n",
       "      <td>22.64</td>\n",
       "      <td>8.95</td>\n",
       "    </tr>\n",
       "    <tr>\n",
       "      <th>PS3</th>\n",
       "      <td>22.05</td>\n",
       "      <td>8.72</td>\n",
       "    </tr>\n",
       "  </tbody>\n",
       "</table>\n",
       "</div>"
      ],
      "text/plain": [
       "          na_sales  share\n",
       "platform                 \n",
       "PS4          98.61  39.00\n",
       "XOne         81.27  32.14\n",
       "X360         28.30  11.19\n",
       "3DS          22.64   8.95\n",
       "PS3          22.05   8.72"
      ]
     },
     "metadata": {},
     "output_type": "display_data"
    },
    {
     "data": {
      "text/html": [
       "<div>\n",
       "<style scoped>\n",
       "    .dataframe tbody tr th:only-of-type {\n",
       "        vertical-align: middle;\n",
       "    }\n",
       "\n",
       "    .dataframe tbody tr th {\n",
       "        vertical-align: top;\n",
       "    }\n",
       "\n",
       "    .dataframe thead th {\n",
       "        text-align: right;\n",
       "    }\n",
       "</style>\n",
       "<table border=\"1\" class=\"dataframe\">\n",
       "  <thead>\n",
       "    <tr style=\"text-align: right;\">\n",
       "      <th></th>\n",
       "      <th>eu_sales</th>\n",
       "      <th>share</th>\n",
       "    </tr>\n",
       "    <tr>\n",
       "      <th>platform</th>\n",
       "      <th></th>\n",
       "      <th></th>\n",
       "    </tr>\n",
       "  </thead>\n",
       "  <tbody>\n",
       "    <tr>\n",
       "      <th>PS4</th>\n",
       "      <td>130.04</td>\n",
       "      <td>55.12</td>\n",
       "    </tr>\n",
       "    <tr>\n",
       "      <th>XOne</th>\n",
       "      <td>46.25</td>\n",
       "      <td>19.60</td>\n",
       "    </tr>\n",
       "    <tr>\n",
       "      <th>PS3</th>\n",
       "      <td>25.54</td>\n",
       "      <td>10.83</td>\n",
       "    </tr>\n",
       "    <tr>\n",
       "      <th>PC</th>\n",
       "      <td>17.97</td>\n",
       "      <td>7.62</td>\n",
       "    </tr>\n",
       "    <tr>\n",
       "      <th>3DS</th>\n",
       "      <td>16.12</td>\n",
       "      <td>6.83</td>\n",
       "    </tr>\n",
       "  </tbody>\n",
       "</table>\n",
       "</div>"
      ],
      "text/plain": [
       "          eu_sales  share\n",
       "platform                 \n",
       "PS4         130.04  55.12\n",
       "XOne         46.25  19.60\n",
       "PS3          25.54  10.83\n",
       "PC           17.97   7.62\n",
       "3DS          16.12   6.83"
      ]
     },
     "metadata": {},
     "output_type": "display_data"
    },
    {
     "data": {
      "text/html": [
       "<div>\n",
       "<style scoped>\n",
       "    .dataframe tbody tr th:only-of-type {\n",
       "        vertical-align: middle;\n",
       "    }\n",
       "\n",
       "    .dataframe tbody tr th {\n",
       "        vertical-align: top;\n",
       "    }\n",
       "\n",
       "    .dataframe thead th {\n",
       "        text-align: right;\n",
       "    }\n",
       "</style>\n",
       "<table border=\"1\" class=\"dataframe\">\n",
       "  <thead>\n",
       "    <tr style=\"text-align: right;\">\n",
       "      <th></th>\n",
       "      <th>jp_sales</th>\n",
       "      <th>share</th>\n",
       "    </tr>\n",
       "    <tr>\n",
       "      <th>platform</th>\n",
       "      <th></th>\n",
       "      <th></th>\n",
       "    </tr>\n",
       "  </thead>\n",
       "  <tbody>\n",
       "    <tr>\n",
       "      <th>3DS</th>\n",
       "      <td>44.24</td>\n",
       "      <td>47.92</td>\n",
       "    </tr>\n",
       "    <tr>\n",
       "      <th>PS4</th>\n",
       "      <td>15.02</td>\n",
       "      <td>16.27</td>\n",
       "    </tr>\n",
       "    <tr>\n",
       "      <th>PSV</th>\n",
       "      <td>14.54</td>\n",
       "      <td>15.75</td>\n",
       "    </tr>\n",
       "    <tr>\n",
       "      <th>PS3</th>\n",
       "      <td>11.22</td>\n",
       "      <td>12.15</td>\n",
       "    </tr>\n",
       "    <tr>\n",
       "      <th>WiiU</th>\n",
       "      <td>7.31</td>\n",
       "      <td>7.92</td>\n",
       "    </tr>\n",
       "  </tbody>\n",
       "</table>\n",
       "</div>"
      ],
      "text/plain": [
       "          jp_sales  share\n",
       "platform                 \n",
       "3DS          44.24  47.92\n",
       "PS4          15.02  16.27\n",
       "PSV          14.54  15.75\n",
       "PS3          11.22  12.15\n",
       "WiiU          7.31   7.92"
      ]
     },
     "metadata": {},
     "output_type": "display_data"
    },
    {
     "data": {
      "image/png": "[encoded data removed]",
      "text/plain": [
       "<Figure size 1440x360 with 3 Axes>"
      ]
     },
     "metadata": {
      "needs_background": "light"
     },
     "output_type": "display_data"
    }
   ],
   "source": [
    "# Выведем топ-5 популярных платформ для региона NA, EU и JP\n",
    "show_top('platform')"
   ]
  },
  {
   "cell_type": "markdown",
   "metadata": {},
   "source": [
    "У регионов NA и EU список топовых платформ схожий, у обоих регионов самые популярные платформы `PS4` и `XOne`. В регионе JP в популярных оказались все платформы производством из Японии, а самой популярной оказалась платформа - `3DS` от Nintendo."
   ]
  },
  {
   "cell_type": "code",
   "execution_count": 36,
   "metadata": {
    "scrolled": false
   },
   "outputs": [
    {
     "data": {
      "text/html": [
       "<div>\n",
       "<style scoped>\n",
       "    .dataframe tbody tr th:only-of-type {\n",
       "        vertical-align: middle;\n",
       "    }\n",
       "\n",
       "    .dataframe tbody tr th {\n",
       "        vertical-align: top;\n",
       "    }\n",
       "\n",
       "    .dataframe thead th {\n",
       "        text-align: right;\n",
       "    }\n",
       "</style>\n",
       "<table border=\"1\" class=\"dataframe\">\n",
       "  <thead>\n",
       "    <tr style=\"text-align: right;\">\n",
       "      <th></th>\n",
       "      <th>na_sales</th>\n",
       "      <th>share</th>\n",
       "    </tr>\n",
       "    <tr>\n",
       "      <th>genre</th>\n",
       "      <th></th>\n",
       "      <th></th>\n",
       "    </tr>\n",
       "  </thead>\n",
       "  <tbody>\n",
       "    <tr>\n",
       "      <th>Shooter</th>\n",
       "      <td>79.02</td>\n",
       "      <td>32.10</td>\n",
       "    </tr>\n",
       "    <tr>\n",
       "      <th>Action</th>\n",
       "      <td>72.53</td>\n",
       "      <td>29.46</td>\n",
       "    </tr>\n",
       "    <tr>\n",
       "      <th>Sports</th>\n",
       "      <td>46.13</td>\n",
       "      <td>18.74</td>\n",
       "    </tr>\n",
       "    <tr>\n",
       "      <th>Role-Playing</th>\n",
       "      <td>33.47</td>\n",
       "      <td>13.59</td>\n",
       "    </tr>\n",
       "    <tr>\n",
       "      <th>Misc</th>\n",
       "      <td>15.05</td>\n",
       "      <td>6.11</td>\n",
       "    </tr>\n",
       "  </tbody>\n",
       "</table>\n",
       "</div>"
      ],
      "text/plain": [
       "              na_sales  share\n",
       "genre                        \n",
       "Shooter          79.02  32.10\n",
       "Action           72.53  29.46\n",
       "Sports           46.13  18.74\n",
       "Role-Playing     33.47  13.59\n",
       "Misc             15.05   6.11"
      ]
     },
     "metadata": {},
     "output_type": "display_data"
    },
    {
     "data": {
      "text/html": [
       "<div>\n",
       "<style scoped>\n",
       "    .dataframe tbody tr th:only-of-type {\n",
       "        vertical-align: middle;\n",
       "    }\n",
       "\n",
       "    .dataframe tbody tr th {\n",
       "        vertical-align: top;\n",
       "    }\n",
       "\n",
       "    .dataframe thead th {\n",
       "        text-align: right;\n",
       "    }\n",
       "</style>\n",
       "<table border=\"1\" class=\"dataframe\">\n",
       "  <thead>\n",
       "    <tr style=\"text-align: right;\">\n",
       "      <th></th>\n",
       "      <th>eu_sales</th>\n",
       "      <th>share</th>\n",
       "    </tr>\n",
       "    <tr>\n",
       "      <th>genre</th>\n",
       "      <th></th>\n",
       "      <th></th>\n",
       "    </tr>\n",
       "  </thead>\n",
       "  <tbody>\n",
       "    <tr>\n",
       "      <th>Action</th>\n",
       "      <td>74.68</td>\n",
       "      <td>32.72</td>\n",
       "    </tr>\n",
       "    <tr>\n",
       "      <th>Shooter</th>\n",
       "      <td>65.52</td>\n",
       "      <td>28.71</td>\n",
       "    </tr>\n",
       "    <tr>\n",
       "      <th>Sports</th>\n",
       "      <td>45.73</td>\n",
       "      <td>20.04</td>\n",
       "    </tr>\n",
       "    <tr>\n",
       "      <th>Role-Playing</th>\n",
       "      <td>28.17</td>\n",
       "      <td>12.34</td>\n",
       "    </tr>\n",
       "    <tr>\n",
       "      <th>Racing</th>\n",
       "      <td>14.13</td>\n",
       "      <td>6.19</td>\n",
       "    </tr>\n",
       "  </tbody>\n",
       "</table>\n",
       "</div>"
      ],
      "text/plain": [
       "              eu_sales  share\n",
       "genre                        \n",
       "Action           74.68  32.72\n",
       "Shooter          65.52  28.71\n",
       "Sports           45.73  20.04\n",
       "Role-Playing     28.17  12.34\n",
       "Racing           14.13   6.19"
      ]
     },
     "metadata": {},
     "output_type": "display_data"
    },
    {
     "data": {
      "text/html": [
       "<div>\n",
       "<style scoped>\n",
       "    .dataframe tbody tr th:only-of-type {\n",
       "        vertical-align: middle;\n",
       "    }\n",
       "\n",
       "    .dataframe tbody tr th {\n",
       "        vertical-align: top;\n",
       "    }\n",
       "\n",
       "    .dataframe thead th {\n",
       "        text-align: right;\n",
       "    }\n",
       "</style>\n",
       "<table border=\"1\" class=\"dataframe\">\n",
       "  <thead>\n",
       "    <tr style=\"text-align: right;\">\n",
       "      <th></th>\n",
       "      <th>jp_sales</th>\n",
       "      <th>share</th>\n",
       "    </tr>\n",
       "    <tr>\n",
       "      <th>genre</th>\n",
       "      <th></th>\n",
       "      <th></th>\n",
       "    </tr>\n",
       "  </thead>\n",
       "  <tbody>\n",
       "    <tr>\n",
       "      <th>Role-Playing</th>\n",
       "      <td>31.16</td>\n",
       "      <td>40.16</td>\n",
       "    </tr>\n",
       "    <tr>\n",
       "      <th>Action</th>\n",
       "      <td>29.58</td>\n",
       "      <td>38.12</td>\n",
       "    </tr>\n",
       "    <tr>\n",
       "      <th>Fighting</th>\n",
       "      <td>6.37</td>\n",
       "      <td>8.21</td>\n",
       "    </tr>\n",
       "    <tr>\n",
       "      <th>Misc</th>\n",
       "      <td>5.61</td>\n",
       "      <td>7.23</td>\n",
       "    </tr>\n",
       "    <tr>\n",
       "      <th>Shooter</th>\n",
       "      <td>4.87</td>\n",
       "      <td>6.28</td>\n",
       "    </tr>\n",
       "  </tbody>\n",
       "</table>\n",
       "</div>"
      ],
      "text/plain": [
       "              jp_sales  share\n",
       "genre                        \n",
       "Role-Playing     31.16  40.16\n",
       "Action           29.58  38.12\n",
       "Fighting          6.37   8.21\n",
       "Misc              5.61   7.23\n",
       "Shooter           4.87   6.28"
      ]
     },
     "metadata": {},
     "output_type": "display_data"
    },
    {
     "data": {
      "image/png": "[encoded data removed]",
      "text/plain": [
       "<Figure size 1440x360 with 3 Axes>"
      ]
     },
     "metadata": {
      "needs_background": "light"
     },
     "output_type": "display_data"
    }
   ],
   "source": [
    "# Выведем топ-5 жанров для региона NA, EU и JP\n",
    "show_top('genre')"
   ]
  },
  {
   "cell_type": "markdown",
   "metadata": {},
   "source": [
    "У регионов NA и EU довольно схожие вкусы в жанрах. Популярнее всех в этих регионах жанры Action и Shooter, что отражается и в объемах продаж по этим жанрам. В регионе JP самый популярный жанр Role-Playing."
   ]
  },
  {
   "cell_type": "code",
   "execution_count": 37,
   "metadata": {},
   "outputs": [
    {
     "data": {
      "text/plain": [
       "genre\n",
       "Role-Playing    45.64\n",
       "Action          29.95\n",
       "Fighting         6.35\n",
       "Simulation       4.68\n",
       "Misc             4.63\n",
       "Platform         2.78\n",
       "Adventure        2.08\n",
       "Puzzle           1.40\n",
       "Sports           1.24\n",
       "Strategy         1.24\n",
       "Racing           0.00\n",
       "Shooter          0.00\n",
       "Name: jp_sales, dtype: float64"
      ]
     },
     "execution_count": 37,
     "metadata": {},
     "output_type": "execute_result"
    }
   ],
   "source": [
    "# Выведем распределение популярных жанров для популярной в регионе JP платформы 3DS\n",
    "(\n",
    "    round(100 * (games_actual_df.query('platform == \"3DS\"')\n",
    "          .groupby('genre')['jp_sales']\n",
    "          .sum())\n",
    "          / (games_actual_df\n",
    "             .query('platform == \"3DS\"')['jp_sales']\n",
    "             .sum())\n",
    "            , 2)\n",
    ").sort_values(ascending=False)"
   ]
  },
  {
   "cell_type": "markdown",
   "metadata": {},
   "source": [
    "Исходя из таблицы мы видим, что популярность жанра Role-Playing в регионе JP объясняется популярностью платформы 3DS."
   ]
  },
  {
   "cell_type": "code",
   "execution_count": 38,
   "metadata": {
    "scrolled": false
   },
   "outputs": [
    {
     "data": {
      "text/html": [
       "<div>\n",
       "<style scoped>\n",
       "    .dataframe tbody tr th:only-of-type {\n",
       "        vertical-align: middle;\n",
       "    }\n",
       "\n",
       "    .dataframe tbody tr th {\n",
       "        vertical-align: top;\n",
       "    }\n",
       "\n",
       "    .dataframe thead th {\n",
       "        text-align: right;\n",
       "    }\n",
       "</style>\n",
       "<table border=\"1\" class=\"dataframe\">\n",
       "  <thead>\n",
       "    <tr style=\"text-align: right;\">\n",
       "      <th></th>\n",
       "      <th>na_sales</th>\n",
       "      <th>share</th>\n",
       "    </tr>\n",
       "    <tr>\n",
       "      <th>rating</th>\n",
       "      <th></th>\n",
       "      <th></th>\n",
       "    </tr>\n",
       "  </thead>\n",
       "  <tbody>\n",
       "    <tr>\n",
       "      <th>M</th>\n",
       "      <td>96.42</td>\n",
       "      <td>33.94</td>\n",
       "    </tr>\n",
       "    <tr>\n",
       "      <th>unknown</th>\n",
       "      <td>64.72</td>\n",
       "      <td>22.78</td>\n",
       "    </tr>\n",
       "    <tr>\n",
       "      <th>E</th>\n",
       "      <td>50.74</td>\n",
       "      <td>17.86</td>\n",
       "    </tr>\n",
       "    <tr>\n",
       "      <th>T</th>\n",
       "      <td>38.95</td>\n",
       "      <td>13.71</td>\n",
       "    </tr>\n",
       "    <tr>\n",
       "      <th>E10+</th>\n",
       "      <td>33.23</td>\n",
       "      <td>11.70</td>\n",
       "    </tr>\n",
       "  </tbody>\n",
       "</table>\n",
       "</div>"
      ],
      "text/plain": [
       "         na_sales  share\n",
       "rating                  \n",
       "M           96.42  33.94\n",
       "unknown     64.72  22.78\n",
       "E           50.74  17.86\n",
       "T           38.95  13.71\n",
       "E10+        33.23  11.70"
      ]
     },
     "metadata": {},
     "output_type": "display_data"
    },
    {
     "data": {
      "text/html": [
       "<div>\n",
       "<style scoped>\n",
       "    .dataframe tbody tr th:only-of-type {\n",
       "        vertical-align: middle;\n",
       "    }\n",
       "\n",
       "    .dataframe tbody tr th {\n",
       "        vertical-align: top;\n",
       "    }\n",
       "\n",
       "    .dataframe thead th {\n",
       "        text-align: right;\n",
       "    }\n",
       "</style>\n",
       "<table border=\"1\" class=\"dataframe\">\n",
       "  <thead>\n",
       "    <tr style=\"text-align: right;\">\n",
       "      <th></th>\n",
       "      <th>eu_sales</th>\n",
       "      <th>share</th>\n",
       "    </tr>\n",
       "    <tr>\n",
       "      <th>rating</th>\n",
       "      <th></th>\n",
       "      <th></th>\n",
       "    </tr>\n",
       "  </thead>\n",
       "  <tbody>\n",
       "    <tr>\n",
       "      <th>M</th>\n",
       "      <td>93.44</td>\n",
       "      <td>34.52</td>\n",
       "    </tr>\n",
       "    <tr>\n",
       "      <th>unknown</th>\n",
       "      <td>58.95</td>\n",
       "      <td>21.78</td>\n",
       "    </tr>\n",
       "    <tr>\n",
       "      <th>E</th>\n",
       "      <td>58.06</td>\n",
       "      <td>21.45</td>\n",
       "    </tr>\n",
       "    <tr>\n",
       "      <th>T</th>\n",
       "      <td>34.07</td>\n",
       "      <td>12.59</td>\n",
       "    </tr>\n",
       "    <tr>\n",
       "      <th>E10+</th>\n",
       "      <td>26.16</td>\n",
       "      <td>9.66</td>\n",
       "    </tr>\n",
       "  </tbody>\n",
       "</table>\n",
       "</div>"
      ],
      "text/plain": [
       "         eu_sales  share\n",
       "rating                  \n",
       "M           93.44  34.52\n",
       "unknown     58.95  21.78\n",
       "E           58.06  21.45\n",
       "T           34.07  12.59\n",
       "E10+        26.16   9.66"
      ]
     },
     "metadata": {},
     "output_type": "display_data"
    },
    {
     "data": {
      "text/html": [
       "<div>\n",
       "<style scoped>\n",
       "    .dataframe tbody tr th:only-of-type {\n",
       "        vertical-align: middle;\n",
       "    }\n",
       "\n",
       "    .dataframe tbody tr th {\n",
       "        vertical-align: top;\n",
       "    }\n",
       "\n",
       "    .dataframe thead th {\n",
       "        text-align: right;\n",
       "    }\n",
       "</style>\n",
       "<table border=\"1\" class=\"dataframe\">\n",
       "  <thead>\n",
       "    <tr style=\"text-align: right;\">\n",
       "      <th></th>\n",
       "      <th>jp_sales</th>\n",
       "      <th>share</th>\n",
       "    </tr>\n",
       "    <tr>\n",
       "      <th>rating</th>\n",
       "      <th></th>\n",
       "      <th></th>\n",
       "    </tr>\n",
       "  </thead>\n",
       "  <tbody>\n",
       "    <tr>\n",
       "      <th>unknown</th>\n",
       "      <td>56.90</td>\n",
       "      <td>61.12</td>\n",
       "    </tr>\n",
       "    <tr>\n",
       "      <th>T</th>\n",
       "      <td>14.78</td>\n",
       "      <td>15.88</td>\n",
       "    </tr>\n",
       "    <tr>\n",
       "      <th>E</th>\n",
       "      <td>8.94</td>\n",
       "      <td>9.60</td>\n",
       "    </tr>\n",
       "    <tr>\n",
       "      <th>M</th>\n",
       "      <td>8.01</td>\n",
       "      <td>8.60</td>\n",
       "    </tr>\n",
       "    <tr>\n",
       "      <th>E10+</th>\n",
       "      <td>4.46</td>\n",
       "      <td>4.79</td>\n",
       "    </tr>\n",
       "  </tbody>\n",
       "</table>\n",
       "</div>"
      ],
      "text/plain": [
       "         jp_sales  share\n",
       "rating                  \n",
       "unknown     56.90  61.12\n",
       "T           14.78  15.88\n",
       "E            8.94   9.60\n",
       "M            8.01   8.60\n",
       "E10+         4.46   4.79"
      ]
     },
     "metadata": {},
     "output_type": "display_data"
    },
    {
     "data": {
      "image/png": "[encoded data removed]",
      "text/plain": [
       "<Figure size 1440x360 with 3 Axes>"
      ]
     },
     "metadata": {
      "needs_background": "light"
     },
     "output_type": "display_data"
    }
   ],
   "source": [
    "# Выведем топ-5 рейтингов для региона NA, EU и JP\n",
    "show_top('rating')"
   ]
  },
  {
   "cell_type": "markdown",
   "metadata": {},
   "source": [
    "Влияние рейтинга сильнее всего заметно в регионах NA и EU - больше всего продаж приходится на игры с рейтингом M, т.е. игры предназначеные для тех, кто старше 18 лет. Но следом за ним идут игры рейтинг которых неизвестен. В регионе JP популярнее всех игры для которых рейтинг был неизвестен. Соответственно мы не можем однозначно утверждать об однозначном влиянии рейтинга на продажи, т.к. мы видим, что большой популярностью пользуются и игры у которых рейтинг отсутствует."
   ]
  },
  {
   "cell_type": "markdown",
   "metadata": {},
   "source": [
    "## Статистический анализ данных"
   ]
  },
  {
   "cell_type": "markdown",
   "metadata": {},
   "source": [
    "Проверим следующую гипотезу : \"Средние пользовательские рейтинги платформ Xbox One и PC одинаковые\"."
   ]
  },
  {
   "cell_type": "markdown",
   "metadata": {},
   "source": [
    "Нулевой гипотезой будет являться: \"Средние пользовательские рейтинги платформ Xbox One и PC одинаковые\", а альтернативной гипотезой: \"Средние пользовательские рейтинги платформ Xbox One и PC не одинаковые\"."
   ]
  },
  {
   "cell_type": "markdown",
   "metadata": {},
   "source": [
    "Для проверки гипотез мы будем использовать метод `ttest_ind()` для сравнения средних выборок двух генеральных совокупностей."
   ]
  },
  {
   "cell_type": "code",
   "execution_count": 39,
   "metadata": {},
   "outputs": [
    {
     "name": "stdout",
     "output_type": "stream",
     "text": [
      "p-значение:  0.10450507919348415\n",
      "Не можем отвергнуть гипотезу\n"
     ]
    }
   ],
   "source": [
    "# Сравним выборки при помощи теста\n",
    "alpha = .05\n",
    "\n",
    "sample_1 = games_actual_df.query(\"platform == 'XOne' and user_score.notna()\")['user_score']\n",
    "sample_2 = games_actual_df.query(\"platform == 'PC' and user_score.notna()\")['user_score']\n",
    "\n",
    "results = st.ttest_ind(sample_1, sample_2, equal_var = True)\n",
    "\n",
    "\n",
    "print('p-значение: ', results.pvalue)\n",
    "\n",
    "if results.pvalue < alpha:\n",
    "    print('Отвергаем  гипотезу')\n",
    "else:\n",
    "    print('Не можем отвергнуть гипотезу')"
   ]
  },
  {
   "cell_type": "markdown",
   "metadata": {},
   "source": [
    "Вероятность получить подобные или большие различия случайно, в случае если верна нулевая гипотеза, равна примерно 10%, что больше нашего порогового значения alpha. Соответственно у нас нет оснований отвергать нулевую гипотезу и мы с большой вероятностью можем считать, что средние пользовательские рейтинги платформ Xbox One и PC одинаковые."
   ]
  },
  {
   "cell_type": "markdown",
   "metadata": {},
   "source": [
    "Проверим гипотезу : \"Средние пользовательские рейтинги жанров Action и Sports разные\"."
   ]
  },
  {
   "cell_type": "markdown",
   "metadata": {},
   "source": [
    "В данном случае нулевой гипотезой будет являться: \"Средние пользовательские рейтинги жанров Action и Sports равны\", а альтернативной гипотезой: \"Средние пользовательские рейтинги жанров Action и Sports не равны\"."
   ]
  },
  {
   "cell_type": "code",
   "execution_count": 40,
   "metadata": {},
   "outputs": [
    {
     "name": "stdout",
     "output_type": "stream",
     "text": [
      "p-значение:  2.8711147985105864e-19\n",
      "Отвергаем гипотезу\n"
     ]
    }
   ],
   "source": [
    "alpha = .05\n",
    "\n",
    "sample_1 = games_actual_df.query(\"genre == 'Action' and user_score.notna()\")['user_score']\n",
    "sample_2 = games_actual_df.query(\"genre == 'Sports' and user_score.notna()\")['user_score']\n",
    "\n",
    "results = st.ttest_ind(sample_1, sample_2, equal_var = True)\n",
    "\n",
    "\n",
    "print('p-значение: ', results.pvalue)\n",
    "\n",
    "if results.pvalue < alpha:\n",
    "    print('Отвергаем гипотезу')\n",
    "else:\n",
    "    print('Не можем отвергнуть гипотезу')"
   ]
  },
  {
   "cell_type": "markdown",
   "metadata": {},
   "source": [
    "Вероятность получить подобные или большие различия случайно, в случае если нулевая гипотеза верна, сильно меньше нашего порогового значения alpha. Соответственно, мы отвергаем нулевую гипотезу о том, что средние рейтинги равны, что подтверждает изначальную гипотезу о том, что средние пользовательские рейтинги жанров Action и Sports разные."
   ]
  },
  {
   "cell_type": "markdown",
   "metadata": {},
   "source": [
    "## Общие выводы"
   ]
  },
  {
   "cell_type": "markdown",
   "metadata": {},
   "source": [
    "В ходе исследования были изучены различные параметры влияющие на объем продаж игр и были получены следующие выводы:\n",
    "- `PS4 и XOne` - самые перспективные платформы с точки зрения продаж;\n",
    "- больше всего продаж приносят игры вышедшие на платформах `3DS, PS4, XOne`;\n",
    "- оценки критиков имеет довольно сильную положительную корреляцию с продажами;\n",
    "- самыми продаваемыми являются жанры `Shooter`, `Sports`, `Platform` и `Fighting`;\n",
    "- топ-5 платформ в регионе NA: `PS4, XOne, X360, 3DS, PS3`; в регионе EU: `PS4, XOne, PS3, PC, 3DS`; в регионе JP: `3DS, PS4, PSV, PS3, WiiU`;\n",
    "- топ-5 жанров в регионе NA и EU: `Shooter, Action, Sports, Role-Playing, Misc, Racing`; в регионе JP: `Role-Playing, Action, Fighting, Misc, Shooter`;\n",
    "- топ-5 игровых рейтинга в регионе NA: `M, E, T, E10+`; в регионе EU: `M, E, T, E10+`; в регионе JP: `T, E, M, E10+`; при этом в этих регионах по объему продаж (1 и 2 место топа) занимают игры, у которых отсутствует рейтинг, что может указывать на отсутствие влияния рейтинга на продажи;\n",
    "- в регионах NA и EU большей популярностью пользуются игры с рейтингом `M`."
   ]
  }
 ],
 "metadata": {
  "ExecuteTimeLog": [
   {
    "duration": 1431,
    "start_time": "2022-04-03T11:47:33.507Z"
   },
   {
    "duration": 165,
    "start_time": "2022-04-03T11:47:34.940Z"
   },
   {
    "duration": 0,
    "start_time": "2022-04-03T11:47:35.108Z"
   },
   {
    "duration": 0,
    "start_time": "2022-04-03T11:47:35.109Z"
   },
   {
    "duration": 0,
    "start_time": "2022-04-03T11:47:35.110Z"
   },
   {
    "duration": 0,
    "start_time": "2022-04-03T11:47:35.111Z"
   },
   {
    "duration": 0,
    "start_time": "2022-04-03T11:47:35.112Z"
   },
   {
    "duration": 0,
    "start_time": "2022-04-03T11:47:35.113Z"
   },
   {
    "duration": 0,
    "start_time": "2022-04-03T11:47:35.114Z"
   },
   {
    "duration": 0,
    "start_time": "2022-04-03T11:47:35.116Z"
   },
   {
    "duration": 0,
    "start_time": "2022-04-03T11:47:35.117Z"
   },
   {
    "duration": 0,
    "start_time": "2022-04-03T11:47:35.118Z"
   },
   {
    "duration": 0,
    "start_time": "2022-04-03T11:47:35.119Z"
   },
   {
    "duration": 0,
    "start_time": "2022-04-03T11:47:35.120Z"
   },
   {
    "duration": 0,
    "start_time": "2022-04-03T11:47:35.121Z"
   },
   {
    "duration": 0,
    "start_time": "2022-04-03T11:47:35.122Z"
   },
   {
    "duration": 0,
    "start_time": "2022-04-03T11:47:35.124Z"
   },
   {
    "duration": 0,
    "start_time": "2022-04-03T11:47:35.124Z"
   },
   {
    "duration": 0,
    "start_time": "2022-04-03T11:47:35.125Z"
   },
   {
    "duration": 1,
    "start_time": "2022-04-03T11:47:35.126Z"
   },
   {
    "duration": 0,
    "start_time": "2022-04-03T11:47:35.128Z"
   },
   {
    "duration": 0,
    "start_time": "2022-04-03T11:47:35.129Z"
   },
   {
    "duration": 0,
    "start_time": "2022-04-03T11:47:35.130Z"
   },
   {
    "duration": 0,
    "start_time": "2022-04-03T11:47:35.131Z"
   },
   {
    "duration": 0,
    "start_time": "2022-04-03T11:47:35.133Z"
   },
   {
    "duration": 0,
    "start_time": "2022-04-03T11:47:35.134Z"
   },
   {
    "duration": 0,
    "start_time": "2022-04-03T11:47:35.135Z"
   },
   {
    "duration": 0,
    "start_time": "2022-04-03T11:47:35.136Z"
   },
   {
    "duration": 0,
    "start_time": "2022-04-03T11:47:35.137Z"
   },
   {
    "duration": 0,
    "start_time": "2022-04-03T11:47:35.138Z"
   },
   {
    "duration": 0,
    "start_time": "2022-04-03T11:47:35.140Z"
   },
   {
    "duration": 0,
    "start_time": "2022-04-03T11:47:35.141Z"
   },
   {
    "duration": 0,
    "start_time": "2022-04-03T11:47:35.141Z"
   },
   {
    "duration": 0,
    "start_time": "2022-04-03T11:47:35.200Z"
   },
   {
    "duration": 0,
    "start_time": "2022-04-03T11:47:35.202Z"
   },
   {
    "duration": 1276,
    "start_time": "2022-04-03T11:48:07.190Z"
   },
   {
    "duration": 65,
    "start_time": "2022-04-03T11:48:08.469Z"
   },
   {
    "duration": 3,
    "start_time": "2022-04-03T11:48:08.536Z"
   },
   {
    "duration": 17,
    "start_time": "2022-04-03T11:48:08.542Z"
   },
   {
    "duration": 16,
    "start_time": "2022-04-03T11:48:08.561Z"
   },
   {
    "duration": 33,
    "start_time": "2022-04-03T11:48:08.579Z"
   },
   {
    "duration": 12,
    "start_time": "2022-04-03T11:48:08.614Z"
   },
   {
    "duration": 31,
    "start_time": "2022-04-03T11:48:08.628Z"
   },
   {
    "duration": 19,
    "start_time": "2022-04-03T11:48:08.661Z"
   },
   {
    "duration": 7,
    "start_time": "2022-04-03T11:48:08.703Z"
   },
   {
    "duration": 7,
    "start_time": "2022-04-03T11:48:08.712Z"
   },
   {
    "duration": 6,
    "start_time": "2022-04-03T11:48:08.722Z"
   },
   {
    "duration": 9,
    "start_time": "2022-04-03T11:48:08.729Z"
   },
   {
    "duration": 19,
    "start_time": "2022-04-03T11:48:08.741Z"
   },
   {
    "duration": 178,
    "start_time": "2022-04-03T11:48:08.762Z"
   },
   {
    "duration": 146,
    "start_time": "2022-04-03T11:48:08.942Z"
   },
   {
    "duration": 19,
    "start_time": "2022-04-03T11:48:09.090Z"
   },
   {
    "duration": 12,
    "start_time": "2022-04-03T11:48:09.110Z"
   },
   {
    "duration": 166,
    "start_time": "2022-04-03T11:48:09.123Z"
   },
   {
    "duration": 10,
    "start_time": "2022-04-03T11:48:09.291Z"
   },
   {
    "duration": 387,
    "start_time": "2022-04-03T11:48:09.303Z"
   },
   {
    "duration": 28,
    "start_time": "2022-04-03T11:48:09.692Z"
   },
   {
    "duration": 394,
    "start_time": "2022-04-03T11:48:09.722Z"
   },
   {
    "duration": 817,
    "start_time": "2022-04-03T11:48:10.119Z"
   },
   {
    "duration": 235,
    "start_time": "2022-04-03T11:48:10.938Z"
   },
   {
    "duration": 166,
    "start_time": "2022-04-03T11:48:11.175Z"
   },
   {
    "duration": 300,
    "start_time": "2022-04-03T11:48:11.342Z"
   },
   {
    "duration": 178,
    "start_time": "2022-04-03T11:48:11.646Z"
   },
   {
    "duration": 182,
    "start_time": "2022-04-03T11:48:11.826Z"
   },
   {
    "duration": 38,
    "start_time": "2022-04-03T11:48:12.010Z"
   },
   {
    "duration": 65,
    "start_time": "2022-04-03T11:48:12.049Z"
   },
   {
    "duration": 11,
    "start_time": "2022-04-03T11:48:12.116Z"
   },
   {
    "duration": 37,
    "start_time": "2022-04-03T11:48:12.129Z"
   },
   {
    "duration": 43,
    "start_time": "2022-04-03T11:48:12.168Z"
   },
   {
    "duration": 27,
    "start_time": "2022-04-03T11:48:12.213Z"
   },
   {
    "duration": 1644,
    "start_time": "2022-04-13T20:17:34.574Z"
   },
   {
    "duration": 79,
    "start_time": "2022-04-13T20:17:36.221Z"
   },
   {
    "duration": 5,
    "start_time": "2022-04-13T20:17:36.303Z"
   },
   {
    "duration": 20,
    "start_time": "2022-04-13T20:17:36.310Z"
   },
   {
    "duration": 16,
    "start_time": "2022-04-13T20:17:36.332Z"
   },
   {
    "duration": 47,
    "start_time": "2022-04-13T20:17:36.350Z"
   },
   {
    "duration": 13,
    "start_time": "2022-04-13T20:17:36.399Z"
   },
   {
    "duration": 73,
    "start_time": "2022-04-13T20:17:36.414Z"
   },
   {
    "duration": 28,
    "start_time": "2022-04-13T20:17:36.490Z"
   },
   {
    "duration": 9,
    "start_time": "2022-04-13T20:17:36.523Z"
   },
   {
    "duration": 8,
    "start_time": "2022-04-13T20:17:36.535Z"
   },
   {
    "duration": 7,
    "start_time": "2022-04-13T20:17:36.582Z"
   },
   {
    "duration": 12,
    "start_time": "2022-04-13T20:17:36.592Z"
   },
   {
    "duration": 8,
    "start_time": "2022-04-13T20:17:36.606Z"
   },
   {
    "duration": 262,
    "start_time": "2022-04-13T20:17:36.615Z"
   },
   {
    "duration": 205,
    "start_time": "2022-04-13T20:17:36.879Z"
   },
   {
    "duration": 14,
    "start_time": "2022-04-13T20:17:37.086Z"
   },
   {
    "duration": 13,
    "start_time": "2022-04-13T20:17:37.102Z"
   },
   {
    "duration": 246,
    "start_time": "2022-04-13T20:17:37.117Z"
   },
   {
    "duration": 7,
    "start_time": "2022-04-13T20:17:37.365Z"
   },
   {
    "duration": 547,
    "start_time": "2022-04-13T20:17:37.383Z"
   },
   {
    "duration": 38,
    "start_time": "2022-04-13T20:17:37.933Z"
   },
   {
    "duration": 561,
    "start_time": "2022-04-13T20:17:37.973Z"
   },
   {
    "duration": 1068,
    "start_time": "2022-04-13T20:17:38.536Z"
   },
   {
    "duration": 315,
    "start_time": "2022-04-13T20:17:39.606Z"
   },
   {
    "duration": 258,
    "start_time": "2022-04-13T20:17:39.923Z"
   },
   {
    "duration": 461,
    "start_time": "2022-04-13T20:17:40.183Z"
   },
   {
    "duration": 287,
    "start_time": "2022-04-13T20:17:40.648Z"
   },
   {
    "duration": 287,
    "start_time": "2022-04-13T20:17:40.937Z"
   },
   {
    "duration": 67,
    "start_time": "2022-04-13T20:17:41.226Z"
   },
   {
    "duration": 47,
    "start_time": "2022-04-13T20:17:41.295Z"
   },
   {
    "duration": 41,
    "start_time": "2022-04-13T20:17:41.344Z"
   },
   {
    "duration": 48,
    "start_time": "2022-04-13T20:17:41.387Z"
   },
   {
    "duration": 47,
    "start_time": "2022-04-13T20:17:41.437Z"
   },
   {
    "duration": 19,
    "start_time": "2022-04-13T20:17:41.486Z"
   },
   {
    "duration": 1319,
    "start_time": "2022-04-14T07:58:57.654Z"
   },
   {
    "duration": 52,
    "start_time": "2022-04-14T07:58:59.736Z"
   },
   {
    "duration": 3,
    "start_time": "2022-04-14T07:59:01.471Z"
   },
   {
    "duration": 13,
    "start_time": "2022-04-14T07:59:02.590Z"
   },
   {
    "duration": 13,
    "start_time": "2022-04-14T07:59:03.926Z"
   },
   {
    "duration": 11,
    "start_time": "2022-04-14T07:59:05.847Z"
   },
   {
    "duration": 7,
    "start_time": "2022-04-14T07:59:06.718Z"
   },
   {
    "duration": 26,
    "start_time": "2022-04-14T07:59:07.879Z"
   },
   {
    "duration": 16,
    "start_time": "2022-04-14T07:59:08.926Z"
   },
   {
    "duration": 6,
    "start_time": "2022-04-14T07:59:09.406Z"
   },
   {
    "duration": 7,
    "start_time": "2022-04-14T07:59:10.279Z"
   },
   {
    "duration": 5,
    "start_time": "2022-04-14T07:59:12.437Z"
   },
   {
    "duration": 7,
    "start_time": "2022-04-14T07:59:16.206Z"
   },
   {
    "duration": 4,
    "start_time": "2022-04-14T07:59:16.774Z"
   },
   {
    "duration": 130,
    "start_time": "2022-04-14T07:59:17.278Z"
   },
   {
    "duration": 132,
    "start_time": "2022-04-14T07:59:17.726Z"
   },
   {
    "duration": 10,
    "start_time": "2022-04-14T07:59:18.582Z"
   },
   {
    "duration": 92,
    "start_time": "2022-04-14T08:00:02.157Z"
   },
   {
    "duration": 6,
    "start_time": "2022-04-14T08:00:09.230Z"
   },
   {
    "duration": 13,
    "start_time": "2022-04-14T08:01:18.997Z"
   },
   {
    "duration": 10,
    "start_time": "2022-04-14T08:01:23.670Z"
   },
   {
    "duration": 11,
    "start_time": "2022-04-14T08:01:55.973Z"
   },
   {
    "duration": 102,
    "start_time": "2022-04-14T08:02:08.942Z"
   },
   {
    "duration": 17,
    "start_time": "2022-04-14T08:04:28.299Z"
   },
   {
    "duration": 16,
    "start_time": "2022-04-14T08:04:43.818Z"
   },
   {
    "duration": 17,
    "start_time": "2022-04-14T08:04:52.834Z"
   },
   {
    "duration": 15,
    "start_time": "2022-04-14T08:05:01.851Z"
   },
   {
    "duration": 22,
    "start_time": "2022-04-14T08:05:16.035Z"
   },
   {
    "duration": 4,
    "start_time": "2022-04-14T08:05:51.538Z"
   },
   {
    "duration": 24,
    "start_time": "2022-04-14T08:05:56.401Z"
   },
   {
    "duration": 10,
    "start_time": "2022-04-14T08:06:04.777Z"
   },
   {
    "duration": 10,
    "start_time": "2022-04-14T08:06:13.148Z"
   },
   {
    "duration": 14,
    "start_time": "2022-04-14T08:06:22.761Z"
   },
   {
    "duration": 10,
    "start_time": "2022-04-14T08:06:25.618Z"
   },
   {
    "duration": 13,
    "start_time": "2022-04-14T08:06:37.066Z"
   },
   {
    "duration": 13,
    "start_time": "2022-04-14T08:07:05.553Z"
   },
   {
    "duration": 14,
    "start_time": "2022-04-14T08:07:17.393Z"
   },
   {
    "duration": 13,
    "start_time": "2022-04-14T08:07:38.145Z"
   },
   {
    "duration": 13,
    "start_time": "2022-04-14T08:08:34.392Z"
   },
   {
    "duration": 13,
    "start_time": "2022-04-14T08:08:47.840Z"
   },
   {
    "duration": 10,
    "start_time": "2022-04-14T08:09:02.960Z"
   },
   {
    "duration": 14,
    "start_time": "2022-04-14T08:09:30.664Z"
   },
   {
    "duration": 19,
    "start_time": "2022-04-14T08:09:36.559Z"
   },
   {
    "duration": 12,
    "start_time": "2022-04-14T08:09:39.888Z"
   },
   {
    "duration": 10,
    "start_time": "2022-04-14T08:09:46.895Z"
   },
   {
    "duration": 10,
    "start_time": "2022-04-14T08:10:15.287Z"
   },
   {
    "duration": 10,
    "start_time": "2022-04-14T08:10:43.656Z"
   },
   {
    "duration": 16,
    "start_time": "2022-04-14T08:11:26.975Z"
   },
   {
    "duration": 12,
    "start_time": "2022-04-14T08:12:07.046Z"
   },
   {
    "duration": 17,
    "start_time": "2022-04-14T08:12:15.221Z"
   },
   {
    "duration": 15,
    "start_time": "2022-04-14T08:12:19.487Z"
   },
   {
    "duration": 9,
    "start_time": "2022-04-14T08:12:23.853Z"
   },
   {
    "duration": 13,
    "start_time": "2022-04-14T08:12:59.549Z"
   },
   {
    "duration": 13,
    "start_time": "2022-04-14T08:13:09.165Z"
   },
   {
    "duration": 16,
    "start_time": "2022-04-14T08:13:22.573Z"
   },
   {
    "duration": 20,
    "start_time": "2022-04-14T08:13:51.321Z"
   },
   {
    "duration": 17,
    "start_time": "2022-04-14T08:14:41.892Z"
   },
   {
    "duration": 17,
    "start_time": "2022-04-14T08:16:02.955Z"
   },
   {
    "duration": 18,
    "start_time": "2022-04-14T08:16:48.550Z"
   },
   {
    "duration": 16,
    "start_time": "2022-04-14T08:17:08.226Z"
   },
   {
    "duration": 21,
    "start_time": "2022-04-14T09:23:02.235Z"
   },
   {
    "duration": 22,
    "start_time": "2022-04-14T09:23:18.717Z"
   },
   {
    "duration": 17,
    "start_time": "2022-04-14T09:23:56.651Z"
   },
   {
    "duration": 117,
    "start_time": "2022-04-14T09:24:14.363Z"
   },
   {
    "duration": 16,
    "start_time": "2022-04-14T09:24:45.729Z"
   },
   {
    "duration": 27,
    "start_time": "2022-04-14T09:24:59.465Z"
   },
   {
    "duration": 30,
    "start_time": "2022-04-14T09:25:13.528Z"
   },
   {
    "duration": 7,
    "start_time": "2022-04-14T09:26:09.400Z"
   },
   {
    "duration": 2144,
    "start_time": "2022-04-14T09:26:22.601Z"
   },
   {
    "duration": 0,
    "start_time": "2022-04-14T09:26:24.747Z"
   },
   {
    "duration": 16,
    "start_time": "2022-04-14T09:26:46.513Z"
   },
   {
    "duration": 9,
    "start_time": "2022-04-14T09:26:50.864Z"
   },
   {
    "duration": 2684,
    "start_time": "2022-04-14T09:26:58.416Z"
   },
   {
    "duration": 75,
    "start_time": "2022-04-14T09:28:40.631Z"
   },
   {
    "duration": 1042,
    "start_time": "2022-04-14T09:29:04.372Z"
   },
   {
    "duration": 55,
    "start_time": "2022-04-14T09:29:05.417Z"
   },
   {
    "duration": 4,
    "start_time": "2022-04-14T09:29:05.473Z"
   },
   {
    "duration": 20,
    "start_time": "2022-04-14T09:29:05.478Z"
   },
   {
    "duration": 19,
    "start_time": "2022-04-14T09:29:05.499Z"
   },
   {
    "duration": 13,
    "start_time": "2022-04-14T09:29:06.642Z"
   },
   {
    "duration": 9,
    "start_time": "2022-04-14T09:29:06.979Z"
   },
   {
    "duration": 43,
    "start_time": "2022-04-14T09:29:07.507Z"
   },
   {
    "duration": 17,
    "start_time": "2022-04-14T09:29:08.355Z"
   },
   {
    "duration": 7,
    "start_time": "2022-04-14T09:29:08.942Z"
   },
   {
    "duration": 6,
    "start_time": "2022-04-14T09:29:10.131Z"
   },
   {
    "duration": 4,
    "start_time": "2022-04-14T09:29:10.972Z"
   },
   {
    "duration": 7,
    "start_time": "2022-04-14T09:29:12.189Z"
   },
   {
    "duration": 4,
    "start_time": "2022-04-14T09:29:12.653Z"
   },
   {
    "duration": 133,
    "start_time": "2022-04-14T09:29:13.227Z"
   },
   {
    "duration": 121,
    "start_time": "2022-04-14T09:29:13.468Z"
   },
   {
    "duration": 10,
    "start_time": "2022-04-14T09:29:13.670Z"
   },
   {
    "duration": 7,
    "start_time": "2022-04-14T09:29:16.074Z"
   },
   {
    "duration": 24,
    "start_time": "2022-04-14T09:29:17.875Z"
   },
   {
    "duration": 11,
    "start_time": "2022-04-14T09:29:18.547Z"
   },
   {
    "duration": 6,
    "start_time": "2022-04-14T09:29:26.253Z"
   },
   {
    "duration": 7,
    "start_time": "2022-04-14T09:29:28.828Z"
   },
   {
    "duration": 130,
    "start_time": "2022-04-14T09:29:55.626Z"
   },
   {
    "duration": 176,
    "start_time": "2022-04-14T09:30:20.773Z"
   },
   {
    "duration": 184,
    "start_time": "2022-04-14T09:30:25.898Z"
   },
   {
    "duration": 35,
    "start_time": "2022-04-14T09:31:27.177Z"
   },
   {
    "duration": 6,
    "start_time": "2022-04-14T09:31:33.098Z"
   },
   {
    "duration": 1202,
    "start_time": "2022-04-14T09:31:49.586Z"
   },
   {
    "duration": 69,
    "start_time": "2022-04-14T09:31:50.791Z"
   },
   {
    "duration": 4,
    "start_time": "2022-04-14T09:31:50.862Z"
   },
   {
    "duration": 28,
    "start_time": "2022-04-14T09:31:50.869Z"
   },
   {
    "duration": 15,
    "start_time": "2022-04-14T09:31:50.899Z"
   },
   {
    "duration": 21,
    "start_time": "2022-04-14T09:31:50.916Z"
   },
   {
    "duration": 17,
    "start_time": "2022-04-14T09:31:50.939Z"
   },
   {
    "duration": 46,
    "start_time": "2022-04-14T09:31:50.958Z"
   },
   {
    "duration": 36,
    "start_time": "2022-04-14T09:31:51.006Z"
   },
   {
    "duration": 7,
    "start_time": "2022-04-14T09:31:51.045Z"
   },
   {
    "duration": 12,
    "start_time": "2022-04-14T09:31:51.054Z"
   },
   {
    "duration": 4,
    "start_time": "2022-04-14T09:31:51.068Z"
   },
   {
    "duration": 8,
    "start_time": "2022-04-14T09:31:51.074Z"
   },
   {
    "duration": 5,
    "start_time": "2022-04-14T09:31:51.084Z"
   },
   {
    "duration": 200,
    "start_time": "2022-04-14T09:31:51.091Z"
   },
   {
    "duration": 172,
    "start_time": "2022-04-14T09:31:51.293Z"
   },
   {
    "duration": 11,
    "start_time": "2022-04-14T09:31:51.467Z"
   },
   {
    "duration": 8,
    "start_time": "2022-04-14T09:31:51.480Z"
   },
   {
    "duration": 38,
    "start_time": "2022-04-14T09:31:51.490Z"
   },
   {
    "duration": 15,
    "start_time": "2022-04-14T09:31:51.530Z"
   },
   {
    "duration": 11,
    "start_time": "2022-04-14T09:31:53.140Z"
   },
   {
    "duration": 154,
    "start_time": "2022-04-14T09:31:53.652Z"
   },
   {
    "duration": 204,
    "start_time": "2022-04-14T09:32:14.629Z"
   },
   {
    "duration": 141,
    "start_time": "2022-04-14T09:32:34.840Z"
   },
   {
    "duration": 4,
    "start_time": "2022-04-14T09:33:46.441Z"
   },
   {
    "duration": 9,
    "start_time": "2022-04-14T09:34:06.218Z"
   },
   {
    "duration": 8,
    "start_time": "2022-04-14T09:34:36.337Z"
   },
   {
    "duration": 7,
    "start_time": "2022-04-14T09:34:44.303Z"
   },
   {
    "duration": 7,
    "start_time": "2022-04-14T09:35:39.454Z"
   },
   {
    "duration": 11,
    "start_time": "2022-04-14T09:35:43.606Z"
   },
   {
    "duration": 10,
    "start_time": "2022-04-14T09:35:59.798Z"
   },
   {
    "duration": 11,
    "start_time": "2022-04-14T09:36:18.990Z"
   },
   {
    "duration": 10,
    "start_time": "2022-04-14T09:36:31.502Z"
   },
   {
    "duration": 14,
    "start_time": "2022-04-14T09:36:32.422Z"
   },
   {
    "duration": 11,
    "start_time": "2022-04-14T09:36:36.502Z"
   },
   {
    "duration": 10,
    "start_time": "2022-04-14T09:36:48.110Z"
   },
   {
    "duration": 10,
    "start_time": "2022-04-14T09:36:56.416Z"
   },
   {
    "duration": 104,
    "start_time": "2022-04-14T09:36:59.945Z"
   },
   {
    "duration": 9,
    "start_time": "2022-04-14T09:37:06.527Z"
   },
   {
    "duration": 12,
    "start_time": "2022-04-14T09:37:22.927Z"
   },
   {
    "duration": 14,
    "start_time": "2022-04-14T09:37:51.879Z"
   },
   {
    "duration": 18,
    "start_time": "2022-04-14T09:37:59.821Z"
   },
   {
    "duration": 11,
    "start_time": "2022-04-14T09:38:09.157Z"
   },
   {
    "duration": 16,
    "start_time": "2022-04-14T09:38:29.032Z"
   },
   {
    "duration": 16,
    "start_time": "2022-04-14T09:38:38.557Z"
   },
   {
    "duration": 17,
    "start_time": "2022-04-14T09:38:58.204Z"
   },
   {
    "duration": 1259,
    "start_time": "2022-04-14T09:39:23.402Z"
   },
   {
    "duration": 51,
    "start_time": "2022-04-14T09:39:24.664Z"
   },
   {
    "duration": 9,
    "start_time": "2022-04-14T09:39:24.718Z"
   },
   {
    "duration": 24,
    "start_time": "2022-04-14T09:39:24.729Z"
   },
   {
    "duration": 12,
    "start_time": "2022-04-14T09:39:24.755Z"
   },
   {
    "duration": 16,
    "start_time": "2022-04-14T09:39:24.769Z"
   },
   {
    "duration": 11,
    "start_time": "2022-04-14T09:39:24.786Z"
   },
   {
    "duration": 60,
    "start_time": "2022-04-14T09:39:24.799Z"
   },
   {
    "duration": 25,
    "start_time": "2022-04-14T09:39:24.861Z"
   },
   {
    "duration": 8,
    "start_time": "2022-04-14T09:39:24.889Z"
   },
   {
    "duration": 31,
    "start_time": "2022-04-14T09:39:24.899Z"
   },
   {
    "duration": 8,
    "start_time": "2022-04-14T09:39:24.933Z"
   },
   {
    "duration": 15,
    "start_time": "2022-04-14T09:39:24.942Z"
   },
   {
    "duration": 8,
    "start_time": "2022-04-14T09:39:24.959Z"
   },
   {
    "duration": 152,
    "start_time": "2022-04-14T09:39:24.969Z"
   },
   {
    "duration": 149,
    "start_time": "2022-04-14T09:39:25.124Z"
   },
   {
    "duration": 12,
    "start_time": "2022-04-14T09:39:25.275Z"
   },
   {
    "duration": 8,
    "start_time": "2022-04-14T09:39:25.288Z"
   },
   {
    "duration": 23,
    "start_time": "2022-04-14T09:39:27.678Z"
   },
   {
    "duration": 14,
    "start_time": "2022-04-14T09:39:28.036Z"
   },
   {
    "duration": 162,
    "start_time": "2022-04-14T09:39:28.572Z"
   },
   {
    "duration": 13,
    "start_time": "2022-04-14T09:39:28.878Z"
   },
   {
    "duration": 38,
    "start_time": "2022-04-14T09:39:32.431Z"
   },
   {
    "duration": 5,
    "start_time": "2022-04-14T09:39:33.708Z"
   },
   {
    "duration": 170,
    "start_time": "2022-04-14T09:39:34.820Z"
   },
   {
    "duration": 15,
    "start_time": "2022-04-14T09:39:35.678Z"
   },
   {
    "duration": 15,
    "start_time": "2022-04-14T09:40:13.588Z"
   },
   {
    "duration": 13,
    "start_time": "2022-04-14T09:40:34.678Z"
   },
   {
    "duration": 16,
    "start_time": "2022-04-14T10:10:44.846Z"
   },
   {
    "duration": 13,
    "start_time": "2022-04-14T10:23:37.551Z"
   },
   {
    "duration": 4,
    "start_time": "2022-04-14T10:26:14.245Z"
   },
   {
    "duration": 1455,
    "start_time": "2022-04-14T10:26:47.769Z"
   },
   {
    "duration": 91,
    "start_time": "2022-04-14T10:26:49.227Z"
   },
   {
    "duration": 4,
    "start_time": "2022-04-14T10:26:49.320Z"
   },
   {
    "duration": 57,
    "start_time": "2022-04-14T10:26:49.326Z"
   },
   {
    "duration": 14,
    "start_time": "2022-04-14T10:26:49.385Z"
   },
   {
    "duration": 29,
    "start_time": "2022-04-14T10:26:49.401Z"
   },
   {
    "duration": 41,
    "start_time": "2022-04-14T10:26:49.433Z"
   },
   {
    "duration": 54,
    "start_time": "2022-04-14T10:26:49.476Z"
   },
   {
    "duration": 53,
    "start_time": "2022-04-14T10:26:49.535Z"
   },
   {
    "duration": 9,
    "start_time": "2022-04-14T10:26:49.591Z"
   },
   {
    "duration": 6,
    "start_time": "2022-04-14T10:26:49.602Z"
   },
   {
    "duration": 17,
    "start_time": "2022-04-14T10:26:49.610Z"
   },
   {
    "duration": 45,
    "start_time": "2022-04-14T10:26:49.628Z"
   },
   {
    "duration": 7,
    "start_time": "2022-04-14T10:26:49.676Z"
   },
   {
    "duration": 238,
    "start_time": "2022-04-14T10:26:49.685Z"
   },
   {
    "duration": 220,
    "start_time": "2022-04-14T10:26:49.932Z"
   },
   {
    "duration": 20,
    "start_time": "2022-04-14T10:26:50.157Z"
   },
   {
    "duration": 26,
    "start_time": "2022-04-14T10:26:50.180Z"
   },
   {
    "duration": 28,
    "start_time": "2022-04-14T10:26:50.208Z"
   },
   {
    "duration": 38,
    "start_time": "2022-04-14T10:26:50.239Z"
   },
   {
    "duration": 41,
    "start_time": "2022-04-14T10:26:50.280Z"
   },
   {
    "duration": 14,
    "start_time": "2022-04-14T10:26:50.323Z"
   },
   {
    "duration": 49,
    "start_time": "2022-04-14T10:26:50.339Z"
   },
   {
    "duration": 18,
    "start_time": "2022-04-14T10:26:50.390Z"
   },
   {
    "duration": 15,
    "start_time": "2022-04-14T10:26:50.410Z"
   },
   {
    "duration": 5,
    "start_time": "2022-04-14T10:26:53.944Z"
   },
   {
    "duration": 1835,
    "start_time": "2022-04-14T10:27:20.817Z"
   },
   {
    "duration": 142,
    "start_time": "2022-04-14T10:27:22.656Z"
   },
   {
    "duration": 7,
    "start_time": "2022-04-14T10:27:22.802Z"
   },
   {
    "duration": 61,
    "start_time": "2022-04-14T10:27:22.815Z"
   },
   {
    "duration": 30,
    "start_time": "2022-04-14T10:27:22.880Z"
   },
   {
    "duration": 40,
    "start_time": "2022-04-14T10:27:22.915Z"
   },
   {
    "duration": 32,
    "start_time": "2022-04-14T10:27:22.961Z"
   },
   {
    "duration": 67,
    "start_time": "2022-04-14T10:27:23.000Z"
   },
   {
    "duration": 40,
    "start_time": "2022-04-14T10:27:23.073Z"
   },
   {
    "duration": 19,
    "start_time": "2022-04-14T10:27:23.119Z"
   },
   {
    "duration": 62,
    "start_time": "2022-04-14T10:27:23.139Z"
   },
   {
    "duration": 11,
    "start_time": "2022-04-14T10:27:23.202Z"
   },
   {
    "duration": 75,
    "start_time": "2022-04-14T10:27:23.216Z"
   },
   {
    "duration": 12,
    "start_time": "2022-04-14T10:27:23.295Z"
   },
   {
    "duration": 312,
    "start_time": "2022-04-14T10:27:23.309Z"
   },
   {
    "duration": 230,
    "start_time": "2022-04-14T10:27:23.627Z"
   },
   {
    "duration": 18,
    "start_time": "2022-04-14T10:27:23.865Z"
   },
   {
    "duration": 54,
    "start_time": "2022-04-14T10:27:23.890Z"
   },
   {
    "duration": 28,
    "start_time": "2022-04-14T10:27:23.956Z"
   },
   {
    "duration": 36,
    "start_time": "2022-04-14T10:27:24.006Z"
   },
   {
    "duration": 50,
    "start_time": "2022-04-14T10:27:24.044Z"
   },
   {
    "duration": 9,
    "start_time": "2022-04-14T10:27:24.097Z"
   },
   {
    "duration": 46,
    "start_time": "2022-04-14T10:27:24.110Z"
   },
   {
    "duration": 42,
    "start_time": "2022-04-14T10:27:24.158Z"
   },
   {
    "duration": 25,
    "start_time": "2022-04-14T10:27:24.202Z"
   },
   {
    "duration": 8,
    "start_time": "2022-04-14T10:27:25.893Z"
   },
   {
    "duration": 142,
    "start_time": "2022-04-14T10:29:10.891Z"
   },
   {
    "duration": 7,
    "start_time": "2022-04-14T10:29:12.902Z"
   },
   {
    "duration": 645,
    "start_time": "2022-04-14T10:29:13.648Z"
   },
   {
    "duration": 30,
    "start_time": "2022-04-14T10:33:18.208Z"
   },
   {
    "duration": 30,
    "start_time": "2022-04-14T10:34:12.644Z"
   },
   {
    "duration": 163,
    "start_time": "2022-04-14T10:34:33.348Z"
   },
   {
    "duration": 25,
    "start_time": "2022-04-14T10:34:45.448Z"
   },
   {
    "duration": 23,
    "start_time": "2022-04-14T10:34:51.272Z"
   },
   {
    "duration": 25,
    "start_time": "2022-04-14T10:35:01.863Z"
   },
   {
    "duration": 17,
    "start_time": "2022-04-14T10:35:10.295Z"
   },
   {
    "duration": 26,
    "start_time": "2022-04-14T10:36:05.181Z"
   },
   {
    "duration": 21,
    "start_time": "2022-04-14T10:36:30.976Z"
   },
   {
    "duration": 24,
    "start_time": "2022-04-14T10:38:15.821Z"
   },
   {
    "duration": 47,
    "start_time": "2022-04-14T10:39:09.419Z"
   },
   {
    "duration": 345,
    "start_time": "2022-04-14T10:39:16.151Z"
   },
   {
    "duration": 365,
    "start_time": "2022-04-14T10:39:26.245Z"
   },
   {
    "duration": 490,
    "start_time": "2022-04-14T10:45:04.814Z"
   },
   {
    "duration": 418,
    "start_time": "2022-04-14T10:46:38.092Z"
   },
   {
    "duration": 380,
    "start_time": "2022-04-14T10:46:47.316Z"
   },
   {
    "duration": 158,
    "start_time": "2022-04-14T12:59:42.754Z"
   },
   {
    "duration": 169,
    "start_time": "2022-04-14T12:59:47.792Z"
   },
   {
    "duration": 328,
    "start_time": "2022-04-14T12:59:55.080Z"
   },
   {
    "duration": 177,
    "start_time": "2022-04-14T13:00:16.640Z"
   },
   {
    "duration": 172,
    "start_time": "2022-04-14T13:00:25.304Z"
   },
   {
    "duration": 40,
    "start_time": "2022-04-14T13:00:51.053Z"
   },
   {
    "duration": 37,
    "start_time": "2022-04-14T13:01:11.339Z"
   },
   {
    "duration": 10,
    "start_time": "2022-04-14T13:01:34.407Z"
   },
   {
    "duration": 40,
    "start_time": "2022-04-14T13:01:45.513Z"
   },
   {
    "duration": 3,
    "start_time": "2022-04-14T15:50:09.149Z"
   },
   {
    "duration": 48,
    "start_time": "2022-04-14T15:50:09.280Z"
   },
   {
    "duration": 3,
    "start_time": "2022-04-14T15:50:09.630Z"
   },
   {
    "duration": 12,
    "start_time": "2022-04-14T15:50:10.650Z"
   },
   {
    "duration": 10,
    "start_time": "2022-04-14T15:50:11.026Z"
   },
   {
    "duration": 13,
    "start_time": "2022-04-14T15:50:11.717Z"
   },
   {
    "duration": 9,
    "start_time": "2022-04-14T15:50:12.107Z"
   },
   {
    "duration": 28,
    "start_time": "2022-04-14T15:50:12.662Z"
   },
   {
    "duration": 17,
    "start_time": "2022-04-14T15:50:13.041Z"
   },
   {
    "duration": 6,
    "start_time": "2022-04-14T15:50:13.194Z"
   },
   {
    "duration": 6,
    "start_time": "2022-04-14T15:50:13.582Z"
   },
   {
    "duration": 4,
    "start_time": "2022-04-14T15:50:13.905Z"
   },
   {
    "duration": 6,
    "start_time": "2022-04-14T15:50:14.611Z"
   },
   {
    "duration": 5,
    "start_time": "2022-04-14T15:50:14.786Z"
   },
   {
    "duration": 118,
    "start_time": "2022-04-14T15:50:14.963Z"
   },
   {
    "duration": 114,
    "start_time": "2022-04-14T15:50:15.128Z"
   },
   {
    "duration": 10,
    "start_time": "2022-04-14T15:50:15.314Z"
   },
   {
    "duration": 19,
    "start_time": "2022-04-14T15:50:16.456Z"
   },
   {
    "duration": 13,
    "start_time": "2022-04-14T15:50:16.647Z"
   },
   {
    "duration": 10,
    "start_time": "2022-04-14T15:50:16.824Z"
   },
   {
    "duration": 9,
    "start_time": "2022-04-14T15:50:17.019Z"
   },
   {
    "duration": 5,
    "start_time": "2022-04-14T15:50:17.191Z"
   },
   {
    "duration": 14,
    "start_time": "2022-04-14T15:50:17.367Z"
   },
   {
    "duration": 13,
    "start_time": "2022-04-14T15:50:17.552Z"
   },
   {
    "duration": 10,
    "start_time": "2022-04-14T15:50:17.926Z"
   },
   {
    "duration": 122,
    "start_time": "2022-04-14T15:50:19.606Z"
   },
   {
    "duration": 6,
    "start_time": "2022-04-14T15:50:19.957Z"
   },
   {
    "duration": 306,
    "start_time": "2022-04-14T15:50:20.373Z"
   },
   {
    "duration": 17,
    "start_time": "2022-04-14T15:50:21.517Z"
   },
   {
    "duration": 25,
    "start_time": "2022-04-14T15:50:26.541Z"
   },
   {
    "duration": 273,
    "start_time": "2022-04-14T15:50:27.443Z"
   },
   {
    "duration": 405,
    "start_time": "2022-04-14T15:50:30.960Z"
   },
   {
    "duration": 407,
    "start_time": "2022-04-14T15:50:34.152Z"
   },
   {
    "duration": 156,
    "start_time": "2022-04-14T15:50:36.612Z"
   },
   {
    "duration": 140,
    "start_time": "2022-04-14T15:52:34.443Z"
   },
   {
    "duration": 151,
    "start_time": "2022-04-14T15:53:16.824Z"
   },
   {
    "duration": 143,
    "start_time": "2022-04-14T15:53:35.055Z"
   },
   {
    "duration": 138,
    "start_time": "2022-04-14T15:55:07.322Z"
   },
   {
    "duration": 148,
    "start_time": "2022-04-14T15:59:01.197Z"
   },
   {
    "duration": 299,
    "start_time": "2022-04-14T16:01:00.000Z"
   },
   {
    "duration": 234,
    "start_time": "2022-04-14T16:03:11.167Z"
   },
   {
    "duration": 144,
    "start_time": "2022-04-14T16:03:16.041Z"
   },
   {
    "duration": 24,
    "start_time": "2022-04-14T16:06:44.002Z"
   },
   {
    "duration": 7,
    "start_time": "2022-04-14T16:07:21.126Z"
   },
   {
    "duration": 137,
    "start_time": "2022-04-14T16:07:35.839Z"
   },
   {
    "duration": 115,
    "start_time": "2022-04-14T16:07:40.020Z"
   },
   {
    "duration": 12,
    "start_time": "2022-04-14T16:07:51.654Z"
   },
   {
    "duration": 11,
    "start_time": "2022-04-14T16:07:56.095Z"
   },
   {
    "duration": 10,
    "start_time": "2022-04-14T16:08:03.146Z"
   },
   {
    "duration": 7,
    "start_time": "2022-04-14T16:08:06.876Z"
   },
   {
    "duration": 7,
    "start_time": "2022-04-14T16:08:09.913Z"
   },
   {
    "duration": 212,
    "start_time": "2022-04-14T16:08:26.095Z"
   },
   {
    "duration": 235,
    "start_time": "2022-04-14T16:08:35.319Z"
   },
   {
    "duration": 233,
    "start_time": "2022-04-14T16:08:51.257Z"
   },
   {
    "duration": 152,
    "start_time": "2022-04-14T16:09:01.938Z"
   },
   {
    "duration": 220,
    "start_time": "2022-04-14T16:09:08.034Z"
   },
   {
    "duration": 140,
    "start_time": "2022-04-14T16:09:26.558Z"
   },
   {
    "duration": 147,
    "start_time": "2022-04-14T16:09:42.866Z"
   },
   {
    "duration": 147,
    "start_time": "2022-04-14T16:10:22.354Z"
   },
   {
    "duration": 151,
    "start_time": "2022-04-14T16:59:45.078Z"
   },
   {
    "duration": 149,
    "start_time": "2022-04-14T16:59:52.564Z"
   },
   {
    "duration": 36,
    "start_time": "2022-04-14T17:00:26.666Z"
   },
   {
    "duration": 3,
    "start_time": "2022-04-14T17:05:06.049Z"
   },
   {
    "duration": 14,
    "start_time": "2022-04-14T17:05:20.186Z"
   },
   {
    "duration": 8,
    "start_time": "2022-04-14T17:06:49.495Z"
   },
   {
    "duration": 4,
    "start_time": "2022-04-14T17:06:54.038Z"
   },
   {
    "duration": 35,
    "start_time": "2022-04-14T17:06:54.453Z"
   },
   {
    "duration": 37,
    "start_time": "2022-04-14T17:07:21.831Z"
   },
   {
    "duration": 38,
    "start_time": "2022-04-14T17:07:53.567Z"
   },
   {
    "duration": 4,
    "start_time": "2022-04-14T17:08:18.695Z"
   },
   {
    "duration": 4,
    "start_time": "2022-04-14T17:09:08.859Z"
   },
   {
    "duration": 40,
    "start_time": "2022-04-14T17:09:09.458Z"
   },
   {
    "duration": 38,
    "start_time": "2022-04-14T17:09:14.684Z"
   },
   {
    "duration": 10,
    "start_time": "2022-04-14T17:09:17.982Z"
   },
   {
    "duration": 39,
    "start_time": "2022-04-14T17:09:20.797Z"
   },
   {
    "duration": 43,
    "start_time": "2022-04-14T17:17:51.295Z"
   },
   {
    "duration": 4,
    "start_time": "2022-04-14T17:21:03.094Z"
   },
   {
    "duration": 25,
    "start_time": "2022-04-14T17:21:04.254Z"
   },
   {
    "duration": 4,
    "start_time": "2022-04-14T17:21:19.582Z"
   },
   {
    "duration": 118,
    "start_time": "2022-04-14T17:21:20.326Z"
   },
   {
    "duration": 24,
    "start_time": "2022-04-14T17:21:42.421Z"
   },
   {
    "duration": 4,
    "start_time": "2022-04-14T17:21:48.914Z"
   },
   {
    "duration": 4,
    "start_time": "2022-04-14T17:21:54.237Z"
   },
   {
    "duration": 4,
    "start_time": "2022-04-14T17:22:26.042Z"
   },
   {
    "duration": 209,
    "start_time": "2022-04-14T17:22:27.670Z"
   },
   {
    "duration": 4,
    "start_time": "2022-04-14T17:22:54.346Z"
   },
   {
    "duration": 25,
    "start_time": "2022-04-14T17:22:54.771Z"
   },
   {
    "duration": 4,
    "start_time": "2022-04-14T17:23:04.872Z"
   },
   {
    "duration": 28,
    "start_time": "2022-04-14T17:23:05.384Z"
   },
   {
    "duration": 5,
    "start_time": "2022-04-14T17:23:42.749Z"
   },
   {
    "duration": 249,
    "start_time": "2022-04-14T17:23:43.205Z"
   },
   {
    "duration": 318,
    "start_time": "2022-04-14T17:23:54.439Z"
   },
   {
    "duration": 10,
    "start_time": "2022-04-14T17:24:20.105Z"
   },
   {
    "duration": 10,
    "start_time": "2022-04-14T17:24:57.282Z"
   },
   {
    "duration": 12,
    "start_time": "2022-04-14T17:25:37.498Z"
   },
   {
    "duration": 13,
    "start_time": "2022-04-14T17:25:47.705Z"
   },
   {
    "duration": 15,
    "start_time": "2022-04-14T17:26:14.561Z"
   },
   {
    "duration": 12,
    "start_time": "2022-04-14T17:26:22.055Z"
   },
   {
    "duration": 14,
    "start_time": "2022-04-14T17:26:26.573Z"
   },
   {
    "duration": 14,
    "start_time": "2022-04-14T17:26:56.744Z"
   },
   {
    "duration": 14,
    "start_time": "2022-04-14T17:27:05.891Z"
   },
   {
    "duration": 29,
    "start_time": "2022-04-14T17:27:40.041Z"
   },
   {
    "duration": 19,
    "start_time": "2022-04-14T17:27:52.522Z"
   },
   {
    "duration": 325,
    "start_time": "2022-04-14T17:28:34.480Z"
   },
   {
    "duration": 4,
    "start_time": "2022-04-14T17:34:26.702Z"
   },
   {
    "duration": 129,
    "start_time": "2022-04-14T17:34:27.166Z"
   },
   {
    "duration": 9,
    "start_time": "2022-04-14T17:35:02.046Z"
   },
   {
    "duration": 170,
    "start_time": "2022-04-14T17:35:02.814Z"
   },
   {
    "duration": 4,
    "start_time": "2022-04-14T17:35:27.204Z"
   },
   {
    "duration": 159,
    "start_time": "2022-04-14T17:35:27.820Z"
   },
   {
    "duration": 8,
    "start_time": "2022-04-14T17:36:26.661Z"
   },
   {
    "duration": 123,
    "start_time": "2022-04-14T17:36:27.369Z"
   },
   {
    "duration": 5,
    "start_time": "2022-04-14T17:36:47.255Z"
   },
   {
    "duration": 158,
    "start_time": "2022-04-14T17:36:47.806Z"
   },
   {
    "duration": 6,
    "start_time": "2022-04-14T17:37:00.367Z"
   },
   {
    "duration": 207,
    "start_time": "2022-04-14T17:37:00.760Z"
   },
   {
    "duration": 6,
    "start_time": "2022-04-14T17:37:09.682Z"
   },
   {
    "duration": 158,
    "start_time": "2022-04-14T17:37:10.113Z"
   },
   {
    "duration": 4,
    "start_time": "2022-04-14T17:40:14.460Z"
   },
   {
    "duration": 288,
    "start_time": "2022-04-14T17:40:15.455Z"
   },
   {
    "duration": 6,
    "start_time": "2022-04-14T17:40:31.127Z"
   },
   {
    "duration": 298,
    "start_time": "2022-04-14T17:40:31.568Z"
   },
   {
    "duration": 5,
    "start_time": "2022-04-14T17:40:43.656Z"
   },
   {
    "duration": 397,
    "start_time": "2022-04-14T17:40:44.315Z"
   },
   {
    "duration": 5,
    "start_time": "2022-04-14T17:41:47.967Z"
   },
   {
    "duration": 304,
    "start_time": "2022-04-14T17:41:48.476Z"
   },
   {
    "duration": 6,
    "start_time": "2022-04-14T17:45:59.729Z"
   },
   {
    "duration": 83,
    "start_time": "2022-04-14T17:46:00.172Z"
   },
   {
    "duration": 6,
    "start_time": "2022-04-14T17:46:06.146Z"
   },
   {
    "duration": 76,
    "start_time": "2022-04-14T17:46:06.642Z"
   },
   {
    "duration": 5,
    "start_time": "2022-04-14T17:46:19.114Z"
   },
   {
    "duration": 623,
    "start_time": "2022-04-14T17:46:19.620Z"
   },
   {
    "duration": 5,
    "start_time": "2022-04-14T17:46:36.725Z"
   },
   {
    "duration": 397,
    "start_time": "2022-04-14T17:46:37.128Z"
   },
   {
    "duration": 6,
    "start_time": "2022-04-14T17:47:34.855Z"
   },
   {
    "duration": 353,
    "start_time": "2022-04-14T17:47:35.342Z"
   },
   {
    "duration": 8,
    "start_time": "2022-04-14T17:47:48.664Z"
   },
   {
    "duration": 522,
    "start_time": "2022-04-14T17:47:49.225Z"
   },
   {
    "duration": 6,
    "start_time": "2022-04-14T17:48:00.748Z"
   },
   {
    "duration": 467,
    "start_time": "2022-04-14T17:48:01.452Z"
   },
   {
    "duration": 7,
    "start_time": "2022-04-14T17:48:28.276Z"
   },
   {
    "duration": 800,
    "start_time": "2022-04-14T17:48:28.702Z"
   },
   {
    "duration": 5,
    "start_time": "2022-04-14T17:51:17.907Z"
   },
   {
    "duration": 529,
    "start_time": "2022-04-14T17:51:18.562Z"
   },
   {
    "duration": 7,
    "start_time": "2022-04-14T17:52:14.233Z"
   },
   {
    "duration": 492,
    "start_time": "2022-04-14T17:52:14.801Z"
   },
   {
    "duration": 9,
    "start_time": "2022-04-14T17:54:21.414Z"
   },
   {
    "duration": 682,
    "start_time": "2022-04-14T17:54:21.949Z"
   },
   {
    "duration": 7,
    "start_time": "2022-04-14T17:54:30.618Z"
   },
   {
    "duration": 875,
    "start_time": "2022-04-14T17:54:31.052Z"
   },
   {
    "duration": 12,
    "start_time": "2022-04-14T17:56:33.087Z"
   },
   {
    "duration": 642,
    "start_time": "2022-04-14T17:56:43.135Z"
   },
   {
    "duration": 452,
    "start_time": "2022-04-14T17:56:57.322Z"
   },
   {
    "duration": 18,
    "start_time": "2022-04-14T17:56:59.041Z"
   },
   {
    "duration": 630,
    "start_time": "2022-04-14T17:57:01.050Z"
   },
   {
    "duration": 5,
    "start_time": "2022-04-14T17:57:16.365Z"
   },
   {
    "duration": 455,
    "start_time": "2022-04-14T17:57:16.895Z"
   },
   {
    "duration": 577,
    "start_time": "2022-04-14T17:57:21.458Z"
   },
   {
    "duration": 17,
    "start_time": "2022-04-14T17:57:22.932Z"
   },
   {
    "duration": 662,
    "start_time": "2022-04-14T17:57:24.356Z"
   },
   {
    "duration": 12,
    "start_time": "2022-04-14T18:00:07.402Z"
   },
   {
    "duration": 5,
    "start_time": "2022-04-14T18:00:15.652Z"
   },
   {
    "duration": 12,
    "start_time": "2022-04-14T18:00:35.839Z"
   },
   {
    "duration": 14,
    "start_time": "2022-04-14T18:00:52.787Z"
   },
   {
    "duration": 21,
    "start_time": "2022-04-14T18:01:06.488Z"
   },
   {
    "duration": 17,
    "start_time": "2022-04-14T18:02:24.121Z"
   },
   {
    "duration": 366,
    "start_time": "2022-04-14T18:08:31.395Z"
   },
   {
    "duration": 536,
    "start_time": "2022-04-14T18:08:39.954Z"
   },
   {
    "duration": 576,
    "start_time": "2022-04-14T18:08:54.166Z"
   },
   {
    "duration": 525,
    "start_time": "2022-04-14T18:08:59.181Z"
   },
   {
    "duration": 769,
    "start_time": "2022-04-14T18:10:11.912Z"
   },
   {
    "duration": 14,
    "start_time": "2022-04-14T18:10:54.025Z"
   },
   {
    "duration": 534,
    "start_time": "2022-04-14T18:11:00.375Z"
   },
   {
    "duration": 500,
    "start_time": "2022-04-14T18:12:16.895Z"
   },
   {
    "duration": 7,
    "start_time": "2022-04-14T18:12:50.975Z"
   },
   {
    "duration": 466,
    "start_time": "2022-04-14T18:12:51.511Z"
   },
   {
    "duration": 495,
    "start_time": "2022-04-14T18:13:01.254Z"
   },
   {
    "duration": 1316,
    "start_time": "2022-04-14T18:16:17.842Z"
   },
   {
    "duration": 56,
    "start_time": "2022-04-14T18:16:19.159Z"
   },
   {
    "duration": 3,
    "start_time": "2022-04-14T18:16:19.216Z"
   },
   {
    "duration": 31,
    "start_time": "2022-04-14T18:16:19.221Z"
   },
   {
    "duration": 11,
    "start_time": "2022-04-14T18:16:19.254Z"
   },
   {
    "duration": 14,
    "start_time": "2022-04-14T18:16:19.267Z"
   },
   {
    "duration": 21,
    "start_time": "2022-04-14T18:16:19.284Z"
   },
   {
    "duration": 45,
    "start_time": "2022-04-14T18:16:19.307Z"
   },
   {
    "duration": 17,
    "start_time": "2022-04-14T18:16:19.354Z"
   },
   {
    "duration": 17,
    "start_time": "2022-04-14T18:16:19.374Z"
   },
   {
    "duration": 15,
    "start_time": "2022-04-14T18:16:19.394Z"
   },
   {
    "duration": 36,
    "start_time": "2022-04-14T18:16:19.411Z"
   },
   {
    "duration": 16,
    "start_time": "2022-04-14T18:16:19.449Z"
   },
   {
    "duration": 8,
    "start_time": "2022-04-14T18:16:19.467Z"
   },
   {
    "duration": 174,
    "start_time": "2022-04-14T18:16:19.477Z"
   },
   {
    "duration": 147,
    "start_time": "2022-04-14T18:16:19.653Z"
   },
   {
    "duration": 23,
    "start_time": "2022-04-14T18:16:19.802Z"
   },
   {
    "duration": 24,
    "start_time": "2022-04-14T18:16:19.828Z"
   },
   {
    "duration": 13,
    "start_time": "2022-04-14T18:16:19.855Z"
   },
   {
    "duration": 9,
    "start_time": "2022-04-14T18:16:19.870Z"
   },
   {
    "duration": 50,
    "start_time": "2022-04-14T18:16:19.881Z"
   },
   {
    "duration": 5,
    "start_time": "2022-04-14T18:16:19.934Z"
   },
   {
    "duration": 26,
    "start_time": "2022-04-14T18:16:19.941Z"
   },
   {
    "duration": 18,
    "start_time": "2022-04-14T18:16:19.969Z"
   },
   {
    "duration": 12,
    "start_time": "2022-04-14T18:16:19.989Z"
   },
   {
    "duration": 148,
    "start_time": "2022-04-14T18:16:20.002Z"
   },
   {
    "duration": 6,
    "start_time": "2022-04-14T18:16:20.152Z"
   },
   {
    "duration": 352,
    "start_time": "2022-04-14T18:16:20.162Z"
   },
   {
    "duration": 41,
    "start_time": "2022-04-14T18:16:20.516Z"
   },
   {
    "duration": 23,
    "start_time": "2022-04-14T18:16:20.560Z"
   },
   {
    "duration": 383,
    "start_time": "2022-04-14T18:16:20.585Z"
   },
   {
    "duration": 431,
    "start_time": "2022-04-14T18:16:20.969Z"
   },
   {
    "duration": 442,
    "start_time": "2022-04-14T18:16:21.402Z"
   },
   {
    "duration": 178,
    "start_time": "2022-04-14T18:16:21.845Z"
   },
   {
    "duration": 168,
    "start_time": "2022-04-14T18:16:22.025Z"
   },
   {
    "duration": 401,
    "start_time": "2022-04-14T18:16:22.195Z"
   },
   {
    "duration": 245,
    "start_time": "2022-04-14T18:16:22.598Z"
   },
   {
    "duration": 236,
    "start_time": "2022-04-14T18:16:22.845Z"
   },
   {
    "duration": 219,
    "start_time": "2022-04-14T18:16:23.083Z"
   },
   {
    "duration": 13,
    "start_time": "2022-04-14T18:16:23.304Z"
   },
   {
    "duration": 486,
    "start_time": "2022-04-14T18:16:23.318Z"
   },
   {
    "duration": 575,
    "start_time": "2022-04-14T18:16:23.806Z"
   },
   {
    "duration": 15,
    "start_time": "2022-04-14T18:16:24.383Z"
   },
   {
    "duration": 472,
    "start_time": "2022-04-14T18:16:24.400Z"
   },
   {
    "duration": 15,
    "start_time": "2022-04-14T18:16:24.873Z"
   },
   {
    "duration": 17,
    "start_time": "2022-04-14T18:16:24.890Z"
   },
   {
    "duration": 1195,
    "start_time": "2022-04-14T19:23:43.381Z"
   },
   {
    "duration": 63,
    "start_time": "2022-04-14T19:23:44.578Z"
   },
   {
    "duration": 3,
    "start_time": "2022-04-14T19:23:44.643Z"
   },
   {
    "duration": 15,
    "start_time": "2022-04-14T19:23:44.649Z"
   },
   {
    "duration": 11,
    "start_time": "2022-04-14T19:23:44.666Z"
   },
   {
    "duration": 11,
    "start_time": "2022-04-14T19:23:44.679Z"
   },
   {
    "duration": 48,
    "start_time": "2022-04-14T19:23:44.691Z"
   },
   {
    "duration": 26,
    "start_time": "2022-04-14T19:23:44.741Z"
   },
   {
    "duration": 15,
    "start_time": "2022-04-14T19:23:44.769Z"
   },
   {
    "duration": 6,
    "start_time": "2022-04-14T19:23:44.787Z"
   },
   {
    "duration": 6,
    "start_time": "2022-04-14T19:23:44.794Z"
   },
   {
    "duration": 4,
    "start_time": "2022-04-14T19:23:44.828Z"
   },
   {
    "duration": 14,
    "start_time": "2022-04-14T19:23:44.834Z"
   },
   {
    "duration": 10,
    "start_time": "2022-04-14T19:23:44.849Z"
   },
   {
    "duration": 161,
    "start_time": "2022-04-14T19:23:44.860Z"
   },
   {
    "duration": 148,
    "start_time": "2022-04-14T19:23:45.023Z"
   },
   {
    "duration": 9,
    "start_time": "2022-04-14T19:23:45.173Z"
   },
   {
    "duration": 4,
    "start_time": "2022-04-14T19:23:47.866Z"
   },
   {
    "duration": 5,
    "start_time": "2022-04-14T19:24:06.056Z"
   },
   {
    "duration": 109,
    "start_time": "2022-04-14T19:24:16.364Z"
   },
   {
    "duration": 7,
    "start_time": "2022-04-14T19:24:21.904Z"
   },
   {
    "duration": 8,
    "start_time": "2022-04-14T19:25:06.715Z"
   },
   {
    "duration": 5,
    "start_time": "2022-04-14T19:26:04.472Z"
   },
   {
    "duration": 10,
    "start_time": "2022-04-14T19:26:42.879Z"
   },
   {
    "duration": 137,
    "start_time": "2022-04-14T19:26:47.153Z"
   },
   {
    "duration": 5,
    "start_time": "2022-04-14T19:26:48.467Z"
   },
   {
    "duration": 325,
    "start_time": "2022-04-14T19:26:49.013Z"
   },
   {
    "duration": 23,
    "start_time": "2022-04-14T19:26:50.610Z"
   },
   {
    "duration": 26,
    "start_time": "2022-04-14T19:26:58.742Z"
   },
   {
    "duration": 327,
    "start_time": "2022-04-14T19:26:59.500Z"
   },
   {
    "duration": 424,
    "start_time": "2022-04-14T19:27:08.414Z"
   },
   {
    "duration": 512,
    "start_time": "2022-04-14T19:27:13.241Z"
   },
   {
    "duration": 206,
    "start_time": "2022-04-14T19:27:16.082Z"
   },
   {
    "duration": 172,
    "start_time": "2022-04-14T19:27:17.298Z"
   },
   {
    "duration": 495,
    "start_time": "2022-04-14T19:27:19.696Z"
   },
   {
    "duration": 275,
    "start_time": "2022-04-14T19:27:40.996Z"
   },
   {
    "duration": 198,
    "start_time": "2022-04-14T19:27:43.564Z"
   },
   {
    "duration": 208,
    "start_time": "2022-04-14T19:27:44.899Z"
   },
   {
    "duration": 5,
    "start_time": "2022-04-14T19:27:48.234Z"
   },
   {
    "duration": 450,
    "start_time": "2022-04-14T19:27:49.858Z"
   },
   {
    "duration": 539,
    "start_time": "2022-04-14T19:28:01.244Z"
   },
   {
    "duration": 14,
    "start_time": "2022-04-14T19:28:05.657Z"
   },
   {
    "duration": 456,
    "start_time": "2022-04-14T19:28:09.348Z"
   },
   {
    "duration": 15,
    "start_time": "2022-04-14T19:31:28.088Z"
   },
   {
    "duration": 13,
    "start_time": "2022-04-14T19:31:42.878Z"
   },
   {
    "duration": 14,
    "start_time": "2022-04-14T19:31:54.282Z"
   },
   {
    "duration": 129,
    "start_time": "2022-04-14T19:37:17.927Z"
   },
   {
    "duration": 1063,
    "start_time": "2022-04-14T19:39:05.544Z"
   },
   {
    "duration": 51,
    "start_time": "2022-04-14T19:39:06.609Z"
   },
   {
    "duration": 3,
    "start_time": "2022-04-14T19:39:06.662Z"
   },
   {
    "duration": 16,
    "start_time": "2022-04-14T19:39:06.668Z"
   },
   {
    "duration": 14,
    "start_time": "2022-04-14T19:39:06.686Z"
   },
   {
    "duration": 16,
    "start_time": "2022-04-14T19:39:06.724Z"
   },
   {
    "duration": 10,
    "start_time": "2022-04-14T19:39:06.742Z"
   },
   {
    "duration": 39,
    "start_time": "2022-04-14T19:39:06.754Z"
   },
   {
    "duration": 42,
    "start_time": "2022-04-14T19:39:06.795Z"
   },
   {
    "duration": 7,
    "start_time": "2022-04-14T19:39:06.840Z"
   },
   {
    "duration": 8,
    "start_time": "2022-04-14T19:39:06.849Z"
   },
   {
    "duration": 6,
    "start_time": "2022-04-14T19:39:06.858Z"
   },
   {
    "duration": 9,
    "start_time": "2022-04-14T19:39:06.866Z"
   },
   {
    "duration": 48,
    "start_time": "2022-04-14T19:39:06.876Z"
   },
   {
    "duration": 137,
    "start_time": "2022-04-14T19:39:06.926Z"
   },
   {
    "duration": 129,
    "start_time": "2022-04-14T19:39:07.064Z"
   },
   {
    "duration": 10,
    "start_time": "2022-04-14T19:39:07.194Z"
   },
   {
    "duration": 20,
    "start_time": "2022-04-14T19:39:07.205Z"
   },
   {
    "duration": 13,
    "start_time": "2022-04-14T19:39:07.227Z"
   },
   {
    "duration": 137,
    "start_time": "2022-04-14T19:39:07.241Z"
   },
   {
    "duration": 5,
    "start_time": "2022-04-14T19:39:07.379Z"
   },
   {
    "duration": 308,
    "start_time": "2022-04-14T19:39:07.386Z"
   },
   {
    "duration": 17,
    "start_time": "2022-04-14T19:39:07.696Z"
   },
   {
    "duration": 26,
    "start_time": "2022-04-14T19:39:07.724Z"
   },
   {
    "duration": 305,
    "start_time": "2022-04-14T19:39:07.752Z"
   },
   {
    "duration": 370,
    "start_time": "2022-04-14T19:39:08.058Z"
   },
   {
    "duration": 368,
    "start_time": "2022-04-14T19:39:08.429Z"
   },
   {
    "duration": 166,
    "start_time": "2022-04-14T19:39:08.800Z"
   },
   {
    "duration": 156,
    "start_time": "2022-04-14T19:39:08.968Z"
   },
   {
    "duration": 302,
    "start_time": "2022-04-14T19:39:09.125Z"
   },
   {
    "duration": 157,
    "start_time": "2022-04-14T19:39:09.428Z"
   },
   {
    "duration": 170,
    "start_time": "2022-04-14T19:39:09.587Z"
   },
   {
    "duration": 148,
    "start_time": "2022-04-14T19:39:09.759Z"
   },
   {
    "duration": 5,
    "start_time": "2022-04-14T19:39:09.908Z"
   },
   {
    "duration": 445,
    "start_time": "2022-04-14T19:39:09.914Z"
   },
   {
    "duration": 528,
    "start_time": "2022-04-14T19:39:10.361Z"
   },
   {
    "duration": 14,
    "start_time": "2022-04-14T19:39:10.890Z"
   },
   {
    "duration": 433,
    "start_time": "2022-04-14T19:39:10.923Z"
   },
   {
    "duration": 13,
    "start_time": "2022-04-14T19:39:11.357Z"
   },
   {
    "duration": 19,
    "start_time": "2022-04-14T19:39:11.372Z"
   }
  ],
  "kernelspec": {
   "display_name": "Python 3 (ipykernel)",
   "language": "python",
   "name": "python3"
  },
  "language_info": {
   "codemirror_mode": {
    "name": "ipython",
    "version": 3
   },
   "file_extension": ".py",
   "mimetype": "text/x-python",
   "name": "python",
   "nbconvert_exporter": "python",
   "pygments_lexer": "ipython3",
   "version": "3.9.13"
  },
  "nbTranslate": {
   "displayLangs": [
    "en",
    "ru"
   ],
   "hotkey": "alt-t",
   "langInMainMenu": true,
   "sourceLang": "ru",
   "targetLang": "en",
   "useGoogleTranslate": true
  },
  "toc": {
   "base_numbering": 1,
   "nav_menu": {},
   "number_sections": true,
   "sideBar": true,
   "skip_h1_title": true,
   "title_cell": "Table of Contents",
   "title_sidebar": "Contents",
   "toc_cell": false,
   "toc_position": {},
   "toc_section_display": true,
   "toc_window_display": true
  },
  "varInspector": {
   "cols": {
    "lenName": 16,
    "lenType": 16,
    "lenVar": 40
   },
   "kernels_config": {
    "python": {
     "delete_cmd_postfix": "",
     "delete_cmd_prefix": "del ",
     "library": "var_list.py",
     "varRefreshCmd": "print(var_dic_list())"
    },
    "r": {
     "delete_cmd_postfix": ") ",
     "delete_cmd_prefix": "rm(",
     "library": "var_list.r",
     "varRefreshCmd": "cat(var_dic_list()) "
    }
   },
   "types_to_exclude": [
    "module",
    "function",
    "builtin_function_or_method",
    "instance",
    "_Feature"
   ],
   "window_display": false
  }
 },
 "nbformat": 4,
 "nbformat_minor": 2
}
