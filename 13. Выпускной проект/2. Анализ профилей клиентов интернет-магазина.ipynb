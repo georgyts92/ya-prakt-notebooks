{
 "cells": [
  {
   "cell_type": "markdown",
   "metadata": {},
   "source": [
    "# Выпускной проект: Анализ профилей клиентов интернет-магазина"
   ]
  },
  {
   "cell_type": "markdown",
   "metadata": {},
   "source": [
    "## Материалы:\n",
    "\n",
    "* [Презентация](https://yadi.sk/i/OzNa6E_Rxa1IeQ)\n",
    "* [Дашборд](https://public.tableau.com/app/profile/georgy6014/viz/-_16572857948220/Dashboard1?publish=yes)"
   ]
  },
  {
   "cell_type": "markdown",
   "metadata": {},
   "source": [
    "## Цель проекта\n",
    "\n",
    "На основе истории покупок определить сегменты покупателей с целью последующего улучшения персонализированных предложений для покупателей."
   ]
  },
  {
   "cell_type": "markdown",
   "metadata": {},
   "source": [
    "## Описание данных\n",
    "\n",
    "Датасет описывает транзакции интернет-магазина товаров для дома и быта «Пока все ещё тут».\n",
    "\n",
    "Колонки в  *ecommerce_dataset.csv* :\n",
    "\n",
    "- `date` — дата заказа;\n",
    "- `customer_id` — идентификатор покупателя;\n",
    "- `order_id` — идентификатор заказа;\n",
    "- `product` — наименование товара;\n",
    "- `quantity` — количество товара в заказе;\n",
    "- `price` — цена товара."
   ]
  },
  {
   "cell_type": "markdown",
   "metadata": {},
   "source": [
    "## Оглавление\n",
    "\n",
    "1. [Определение функций](#Определение-функций)\n",
    "2. [Предобработка данных](#Предобработка-данных)\n",
    "    1. [Вывод](#s1_1)\n",
    "3. [Исследовательский анализ данных (EDA)](#Исследовательский-анализ-данных-(EDA))\n",
    "    1. [Вывод](#s2_1)\n",
    "4. [Сегментация по среднему чеку](#Сегментация-по-среднему-чеку)\n",
    "    1. [Вывод](#s3_1)\n",
    "5. [Сегментация по частоте оформляемых заказов](#Сегментация-по-частоте-оформляемых-заказов)\n",
    "    1. [Вывод](#s4_1)\n",
    "6. [Сегментация по давности последнего оформленного заказа](#Сегментация-по-давности-последнего-оформленного-заказа)\n",
    "    1. [Вывод](#s5_1)\n",
    "7. [Сегментация по кумулятивному доходу, полученному с покупателя](#Сегментация-по-кумулятивному-доходу,-полученному-с-покупателя)\n",
    "    1. [Вывод](#s6_1)\n",
    "8. [Сегментация по категориям приобретаемых товаров](#Сегментация-по-категориям-приобретаемых-товаров)\n",
    "    1. [Вывод](#s7_1)\n",
    "9. [Проверка гипотез](#Проверка-гипотез)\n",
    "    1. [Гипотеза №1. Средний чек клиентов, покупающих товары для дома, не равен среднему чеку клиентов, покупающих товары для сада](#Гипотеза-№1.-Средний-чек-клиентов,-покупающих-товары-для-дома,-не-равен-среднему-чеку-клиентов,-покупающих-товары-для-сада)\n",
    "    2. [Гипотеза №2. Среднее количество приобретаемых товаров в заказе различается среди сегментов клиентов, которые делали заказы менее 2 раз и тех, кто делал заказы 2 и более количество раз](#Гипотеза-№2.-Среднее-количество-приобретаемых-товаров-в-заказе-различается-среди-сегментов-клиентов,-которые-делали-заказы-менее-2-раз-и-тех,-кто-делал-заказы-2-и-более-количество-раз)\n",
    "    3. [Вывод](#s8_1)\n",
    "10. [Итоговые выводы](#Итоговые-выводы)\n",
    "    1. [Рекомендации](#Рекомендации)"
   ]
  },
  {
   "cell_type": "markdown",
   "metadata": {},
   "source": [
    "## Определение функций"
   ]
  },
  {
   "cell_type": "code",
   "execution_count": 1,
   "metadata": {},
   "outputs": [],
   "source": [
    "def get_stats(df, column, label, bins=10, h_lim=None, b_lim=None):\n",
    "    \"\"\"Эта функция будет выводить график распределения, \"ящик с усами\" и таблицу \n",
    "    со  статистическими показателями,  полученную методом describe().\n",
    "\n",
    "    Функция может принимать следующие аргументы:\n",
    "    'df' - датафрейм из которого мы будем выирать колонку со значениями\n",
    "    'column' - название колонки из переданного ранее датафрейма\n",
    "    'label' - текстовое описание колонки для подписи оси на графике\n",
    "    'bins' - размер корзины для диаграммы распределения значений (по умолчанию - 10)\n",
    "    'h_lim' - ограничение диаграммы распределения значений по горизонтальной \n",
    "        оси, передается в виде списка (по умолчанию - None)\n",
    "    'b_lim' - ограничение \"ящика с усами\" по вертикальной \n",
    "        оси, передается в виде списка (по умолчанию - None)\n",
    "    \"\"\"\n",
    "    \n",
    "    # создадимполя для графиков\n",
    "    fig, axs = plt.subplots(1, 2, figsize=(16, 7))\n",
    "    \n",
    "    # отобразим гистограмму распределения по переданным данным\n",
    "    df[column].hist(bins=bins, ax=axs[0])\n",
    "    axs[0].set_title('Гистограмма распределения значений по колонке ' + column)\n",
    "    axs[0].set_xlabel(label)\n",
    "    axs[0].set_ylabel('Частота')\n",
    "    if h_lim != None:\n",
    "        axs[0].set_xlim(h_lim)\n",
    "    \n",
    "    # отобразим \"ящик с усами\" для переданных данных\n",
    "    sns.boxplot(data=df, y=column, ax=axs[1])\n",
    "    axs[1].set_title('\"Ящик с усами\" по колонке ' + column)\n",
    "    axs[1].set_ylabel(label)\n",
    "    if b_lim != None:\n",
    "        axs[1].set_ylim(b_lim)\n",
    "        \n",
    "    # выведем графики    \n",
    "    plt.show()\n",
    "    \n",
    "    # выведем таблицу со статистическими показателями\n",
    "    print('Статистические показатели по колонке ' + column)\n",
    "    display(df[column].describe().to_frame())\n",
    "    \n",
    "    \n",
    "def save_segment(value, segments):\n",
    "    \"\"\"Эта функция будет распределять клиентов по сегментам  на основе переданных границ.\n",
    "    Названия сегментов будут составляться исходя из значений границ сегментов.\n",
    "\n",
    "    Функция может принимать следующие аргументы:\n",
    "    'value' - значение колонки, по которой будет определяться сегмент клиента\n",
    "    'segments' - значения границ сегментов, по которым происходит разделение на сегменты, передается в виде спика\n",
    "    \n",
    "    Например, если в segments мы передали список [10, 20, 60], то будет создано 4 сегмента:\n",
    "    - '< 10'\n",
    "    - '10 - 20'\n",
    "    - '20 - 60'\n",
    "    - '> 60'\n",
    "    \"\"\"\n",
    "    # пройдем по всем значениям границ сегментов из списка segments\n",
    "    # и определим к какому сегменту относится переданное значение value\n",
    "    for i in range(len(segments)):\n",
    "        if value < segments[i]:\n",
    "            if i == 0:\n",
    "                return '< ' + str(int(segments[i]))\n",
    "            else:\n",
    "                return str(int(segments[i - 1])) + ' - ' + str(int(segments[i]))\n",
    "    return '> ' + str(int(segments[-1]))"
   ]
  },
  {
   "cell_type": "markdown",
   "metadata": {},
   "source": [
    "## Предобработка данных"
   ]
  },
  {
   "cell_type": "code",
   "execution_count": 2,
   "metadata": {},
   "outputs": [],
   "source": [
    "# импортиуем все необходимые библиотеки\n",
    "import pandas as pd\n",
    "import numpy as np\n",
    "import matplotlib.pyplot as plt\n",
    "import seaborn as sns\n",
    "import plotly\n",
    "from urllib.parse import urlencode\n",
    "import requests\n",
    "from pymystem3 import Mystem\n",
    "from scipy import stats as st\n",
    "\n",
    "# настроим отображение значений в датафреймах\n",
    "pd.set_option('display.max_columns', None)  \n",
    "pd.set_option('display.expand_frame_repr', False)\n",
    "pd.set_option('max_colwidth', None)"
   ]
  },
  {
   "cell_type": "markdown",
   "metadata": {},
   "source": [
    "Импортируем `csv` файл с исходными данными, который лежит по пути `https://disk.yandex.ru/d/kJwc3szk7vzv_g`."
   ]
  },
  {
   "cell_type": "code",
   "execution_count": 3,
   "metadata": {},
   "outputs": [],
   "source": [
    "# укажем ссылку для загрузки файла с помощью API\n",
    "base_url = 'https://cloud-api.yandex.net/v1/disk/public/resources/download?'\n",
    "\n",
    "# укажем ссылку на наши данные\n",
    "public_key = 'https://disk.yandex.ru/d/kJwc3szk7vzv_g'\n",
    "\n",
    "# сгенерируем финальную ссылку для получения файла через API\n",
    "final_url = base_url + urlencode(dict(public_key=public_key))\n",
    "response = requests.get(final_url)\n",
    "download_url = response.json()['href']"
   ]
  },
  {
   "cell_type": "code",
   "execution_count": 4,
   "metadata": {},
   "outputs": [
    {
     "data": {
      "text/html": [
       "<div>\n",
       "<style scoped>\n",
       "    .dataframe tbody tr th:only-of-type {\n",
       "        vertical-align: middle;\n",
       "    }\n",
       "\n",
       "    .dataframe tbody tr th {\n",
       "        vertical-align: top;\n",
       "    }\n",
       "\n",
       "    .dataframe thead th {\n",
       "        text-align: right;\n",
       "    }\n",
       "</style>\n",
       "<table border=\"1\" class=\"dataframe\">\n",
       "  <thead>\n",
       "    <tr style=\"text-align: right;\">\n",
       "      <th></th>\n",
       "      <th>date</th>\n",
       "      <th>customer_id</th>\n",
       "      <th>order_id</th>\n",
       "      <th>product</th>\n",
       "      <th>quantity</th>\n",
       "      <th>price</th>\n",
       "    </tr>\n",
       "  </thead>\n",
       "  <tbody>\n",
       "    <tr>\n",
       "      <th>0</th>\n",
       "      <td>2018100100</td>\n",
       "      <td>ee47d746-6d2f-4d3c-9622-c31412542920</td>\n",
       "      <td>68477</td>\n",
       "      <td>Комнатное растение в горшке Алое Вера, d12, h30</td>\n",
       "      <td>1</td>\n",
       "      <td>142.0</td>\n",
       "    </tr>\n",
       "    <tr>\n",
       "      <th>1</th>\n",
       "      <td>2018100100</td>\n",
       "      <td>ee47d746-6d2f-4d3c-9622-c31412542920</td>\n",
       "      <td>68477</td>\n",
       "      <td>Комнатное растение в горшке Кофе Арабика, d12, h25</td>\n",
       "      <td>1</td>\n",
       "      <td>194.0</td>\n",
       "    </tr>\n",
       "    <tr>\n",
       "      <th>2</th>\n",
       "      <td>2018100100</td>\n",
       "      <td>ee47d746-6d2f-4d3c-9622-c31412542920</td>\n",
       "      <td>68477</td>\n",
       "      <td>Радермахера d-12 см h-20 см</td>\n",
       "      <td>1</td>\n",
       "      <td>112.0</td>\n",
       "    </tr>\n",
       "    <tr>\n",
       "      <th>3</th>\n",
       "      <td>2018100100</td>\n",
       "      <td>ee47d746-6d2f-4d3c-9622-c31412542920</td>\n",
       "      <td>68477</td>\n",
       "      <td>Хризолидокарпус Лутесценс d-9 см</td>\n",
       "      <td>1</td>\n",
       "      <td>179.0</td>\n",
       "    </tr>\n",
       "    <tr>\n",
       "      <th>4</th>\n",
       "      <td>2018100100</td>\n",
       "      <td>ee47d746-6d2f-4d3c-9622-c31412542920</td>\n",
       "      <td>68477</td>\n",
       "      <td>Циперус Зумула d-12 см h-25 см</td>\n",
       "      <td>1</td>\n",
       "      <td>112.0</td>\n",
       "    </tr>\n",
       "  </tbody>\n",
       "</table>\n",
       "</div>"
      ],
      "text/plain": [
       "         date                           customer_id  order_id                                             product  quantity  price\n",
       "0  2018100100  ee47d746-6d2f-4d3c-9622-c31412542920     68477     Комнатное растение в горшке Алое Вера, d12, h30         1  142.0\n",
       "1  2018100100  ee47d746-6d2f-4d3c-9622-c31412542920     68477  Комнатное растение в горшке Кофе Арабика, d12, h25         1  194.0\n",
       "2  2018100100  ee47d746-6d2f-4d3c-9622-c31412542920     68477                         Радермахера d-12 см h-20 см         1  112.0\n",
       "3  2018100100  ee47d746-6d2f-4d3c-9622-c31412542920     68477                    Хризолидокарпус Лутесценс d-9 см         1  179.0\n",
       "4  2018100100  ee47d746-6d2f-4d3c-9622-c31412542920     68477                      Циперус Зумула d-12 см h-25 см         1  112.0"
      ]
     },
     "execution_count": 4,
     "metadata": {},
     "output_type": "execute_result"
    }
   ],
   "source": [
    "# сохраним данные файла в датафрейм\n",
    "ecom_df = pd.read_csv(download_url)\n",
    "\n",
    "# выведем первые 5 строк\n",
    "ecom_df.head(5)"
   ]
  },
  {
   "cell_type": "code",
   "execution_count": 5,
   "metadata": {},
   "outputs": [
    {
     "name": "stdout",
     "output_type": "stream",
     "text": [
      "<class 'pandas.core.frame.DataFrame'>\n",
      "RangeIndex: 6737 entries, 0 to 6736\n",
      "Data columns (total 6 columns):\n",
      " #   Column       Non-Null Count  Dtype  \n",
      "---  ------       --------------  -----  \n",
      " 0   date         6737 non-null   int64  \n",
      " 1   customer_id  6737 non-null   object \n",
      " 2   order_id     6737 non-null   int64  \n",
      " 3   product      6737 non-null   object \n",
      " 4   quantity     6737 non-null   int64  \n",
      " 5   price        6737 non-null   float64\n",
      "dtypes: float64(1), int64(3), object(2)\n",
      "memory usage: 315.9+ KB\n"
     ]
    }
   ],
   "source": [
    "# выведем общую информацию по датасету\n",
    "ecom_df.info()"
   ]
  },
  {
   "cell_type": "markdown",
   "metadata": {},
   "source": [
    "- В датасете имеется `6737` значений. \n",
    "- Пропуски в данных отсутствуют.\n",
    "- Типы данных указаны корректно, но колонку `date` стоит перевести в формат даты и времени.\n",
    "- Заголовки  колонок прописаны корректно."
   ]
  },
  {
   "cell_type": "markdown",
   "metadata": {},
   "source": [
    "В колонке `date` мы имеем целочисленные значения, которые нам необходимо перевести в фоормат даты и времени. Исходя из имеющихся значений можно предположить, что данные в этой колонке были сохранены в формате `timestamp`. Попробуем перевести их в дату, учитывая данную гипотезу."
   ]
  },
  {
   "cell_type": "code",
   "execution_count": 6,
   "metadata": {},
   "outputs": [
    {
     "data": {
      "text/plain": [
       "0      2033-12-13 15:21:40\n",
       "1      2033-12-13 15:21:40\n",
       "2      2033-12-13 15:21:40\n",
       "3      2033-12-13 15:21:40\n",
       "4      2033-12-13 15:21:40\n",
       "               ...        \n",
       "6732   2033-12-25 05:58:31\n",
       "6733   2033-12-25 05:58:32\n",
       "6734   2033-12-25 05:58:33\n",
       "6735   2033-12-25 05:58:34\n",
       "6736   2033-12-25 05:58:36\n",
       "Name: date, Length: 6737, dtype: datetime64[ns]"
      ]
     },
     "execution_count": 6,
     "metadata": {},
     "output_type": "execute_result"
    }
   ],
   "source": [
    "# меняем формат значений колонки `date`\n",
    "pd.to_datetime(ecom_df['date'], unit='s')"
   ]
  },
  {
   "cell_type": "markdown",
   "metadata": {},
   "source": [
    "Мы получили очень странные даты - из будущего. Скорее всего в колонке `date` значения хранятся не в `timestamp`.  \n",
    "Если присмотреться к значениям, то можно заметить, что даты будто бы были сохранены без разделителей. Попробуем поменять формат,  учитывая этот вариант."
   ]
  },
  {
   "cell_type": "code",
   "execution_count": 7,
   "metadata": {},
   "outputs": [
    {
     "data": {
      "text/plain": [
       "0      2018-10-01 00:00:00\n",
       "1      2018-10-01 00:00:00\n",
       "2      2018-10-01 00:00:00\n",
       "3      2018-10-01 00:00:00\n",
       "4      2018-10-01 00:00:00\n",
       "               ...        \n",
       "6732   2019-10-31 11:00:00\n",
       "6733   2019-10-31 12:00:00\n",
       "6734   2019-10-31 13:00:00\n",
       "6735   2019-10-31 14:00:00\n",
       "6736   2019-10-31 16:00:00\n",
       "Name: date, Length: 6737, dtype: datetime64[ns]"
      ]
     },
     "execution_count": 7,
     "metadata": {},
     "output_type": "execute_result"
    }
   ],
   "source": [
    "# меняем формат значений колонки `date`\n",
    "pd.to_datetime(ecom_df['date'], format='%Y%m%d%H')"
   ]
  },
  {
   "cell_type": "markdown",
   "metadata": {},
   "source": [
    "Эта гипотеза кажется верной. Сохраним формат в колонке `date`."
   ]
  },
  {
   "cell_type": "code",
   "execution_count": 8,
   "metadata": {},
   "outputs": [],
   "source": [
    "# меняем формат значений колонки `date`\n",
    "ecom_df['date'] = pd.to_datetime(ecom_df['date'], format='%Y%m%d%H')\n",
    "\n",
    "# создадим колонки с годом и месяцем заказа\n",
    "ecom_df['year'] = ecom_df['date'].dt.year\n",
    "ecom_df['month'] = ecom_df['date'].to_numpy().astype('datetime64[M]')"
   ]
  },
  {
   "cell_type": "code",
   "execution_count": 9,
   "metadata": {},
   "outputs": [
    {
     "data": {
      "text/plain": [
       "0"
      ]
     },
     "execution_count": 9,
     "metadata": {},
     "output_type": "execute_result"
    }
   ],
   "source": [
    "# проверим датасет на наличие \"явных\" дублей\n",
    "ecom_df.duplicated().sum()"
   ]
  },
  {
   "cell_type": "markdown",
   "metadata": {},
   "source": [
    "\"Явные\" дубли отсутствуют в датасете."
   ]
  },
  {
   "cell_type": "markdown",
   "metadata": {},
   "source": [
    "Проверим наличие дублей по дате заказа, ID клиента, ID заказа и назаванию товара в заказе."
   ]
  },
  {
   "cell_type": "code",
   "execution_count": 10,
   "metadata": {},
   "outputs": [
    {
     "data": {
      "text/plain": [
       "0"
      ]
     },
     "execution_count": 10,
     "metadata": {},
     "output_type": "execute_result"
    }
   ],
   "source": [
    "ecom_df[['date', 'customer_id', 'order_id', 'product']].duplicated().sum()"
   ]
  },
  {
   "cell_type": "markdown",
   "metadata": {},
   "source": [
    "Тут тоже не находим дублей."
   ]
  },
  {
   "cell_type": "markdown",
   "metadata": {},
   "source": [
    "Проверим на наличие дублей по тем же колонкам, но без даты."
   ]
  },
  {
   "cell_type": "code",
   "execution_count": 11,
   "metadata": {},
   "outputs": [
    {
     "data": {
      "text/plain": [
       "1886"
      ]
     },
     "execution_count": 11,
     "metadata": {},
     "output_type": "execute_result"
    }
   ],
   "source": [
    "ecom_df[['customer_id', 'order_id', 'product']].duplicated().sum()"
   ]
  },
  {
   "cell_type": "markdown",
   "metadata": {},
   "source": [
    "У нас получилось много дублей. Т.е. в датасете имеются случаи, при которых один и тот же клиент делал несколько заказов с одним и тем же ID и с одним и тем же товаром. Такая ситуация выглядит странно."
   ]
  },
  {
   "cell_type": "markdown",
   "metadata": {},
   "source": [
    "Посмотрим на такие заказы."
   ]
  },
  {
   "cell_type": "code",
   "execution_count": 12,
   "metadata": {},
   "outputs": [
    {
     "data": {
      "text/html": [
       "<div>\n",
       "<style scoped>\n",
       "    .dataframe tbody tr th:only-of-type {\n",
       "        vertical-align: middle;\n",
       "    }\n",
       "\n",
       "    .dataframe tbody tr th {\n",
       "        vertical-align: top;\n",
       "    }\n",
       "\n",
       "    .dataframe thead th {\n",
       "        text-align: right;\n",
       "    }\n",
       "</style>\n",
       "<table border=\"1\" class=\"dataframe\">\n",
       "  <thead>\n",
       "    <tr style=\"text-align: right;\">\n",
       "      <th></th>\n",
       "      <th>date</th>\n",
       "      <th>customer_id</th>\n",
       "      <th>order_id</th>\n",
       "      <th>product</th>\n",
       "      <th>quantity</th>\n",
       "      <th>price</th>\n",
       "      <th>year</th>\n",
       "      <th>month</th>\n",
       "    </tr>\n",
       "  </thead>\n",
       "  <tbody>\n",
       "    <tr>\n",
       "      <th>58</th>\n",
       "      <td>2018-10-02 18:00:00</td>\n",
       "      <td>b731df05-98fa-4610-8496-716ec530a02c</td>\n",
       "      <td>68474</td>\n",
       "      <td>Доска гладильная Eurogold Professional 130х48 см металлическая сетка 35748W</td>\n",
       "      <td>1</td>\n",
       "      <td>3299.0</td>\n",
       "      <td>2018</td>\n",
       "      <td>2018-10-01</td>\n",
       "    </tr>\n",
       "    <tr>\n",
       "      <th>59</th>\n",
       "      <td>2018-10-02 19:00:00</td>\n",
       "      <td>b731df05-98fa-4610-8496-716ec530a02c</td>\n",
       "      <td>68474</td>\n",
       "      <td>Доска гладильная Eurogold Professional 130х48 см металлическая сетка 35748W</td>\n",
       "      <td>1</td>\n",
       "      <td>3299.0</td>\n",
       "      <td>2018</td>\n",
       "      <td>2018-10-01</td>\n",
       "    </tr>\n",
       "    <tr>\n",
       "      <th>60</th>\n",
       "      <td>2018-10-02 20:00:00</td>\n",
       "      <td>b731df05-98fa-4610-8496-716ec530a02c</td>\n",
       "      <td>68474</td>\n",
       "      <td>Доска гладильная Eurogold Professional 130х48 см металлическая сетка 35748W</td>\n",
       "      <td>1</td>\n",
       "      <td>3299.0</td>\n",
       "      <td>2018</td>\n",
       "      <td>2018-10-01</td>\n",
       "    </tr>\n",
       "    <tr>\n",
       "      <th>63</th>\n",
       "      <td>2018-10-03 04:00:00</td>\n",
       "      <td>b731df05-98fa-4610-8496-716ec530a02c</td>\n",
       "      <td>68474</td>\n",
       "      <td>Доска гладильная Eurogold Professional 130х48 см металлическая сетка 35748W</td>\n",
       "      <td>1</td>\n",
       "      <td>3299.0</td>\n",
       "      <td>2018</td>\n",
       "      <td>2018-10-01</td>\n",
       "    </tr>\n",
       "    <tr>\n",
       "      <th>94</th>\n",
       "      <td>2018-10-04 13:00:00</td>\n",
       "      <td>32de7df8-8d4f-4c84-a7b9-c41d00dd83ba</td>\n",
       "      <td>68522</td>\n",
       "      <td>Эвкалипт Гунни d-17 см h-60 см</td>\n",
       "      <td>1</td>\n",
       "      <td>1409.0</td>\n",
       "      <td>2018</td>\n",
       "      <td>2018-10-01</td>\n",
       "    </tr>\n",
       "    <tr>\n",
       "      <th>...</th>\n",
       "      <td>...</td>\n",
       "      <td>...</td>\n",
       "      <td>...</td>\n",
       "      <td>...</td>\n",
       "      <td>...</td>\n",
       "      <td>...</td>\n",
       "      <td>...</td>\n",
       "      <td>...</td>\n",
       "    </tr>\n",
       "    <tr>\n",
       "      <th>6706</th>\n",
       "      <td>2019-10-28 10:00:00</td>\n",
       "      <td>57cc80a2-2610-4eef-9457-e7c3bf0c72f0</td>\n",
       "      <td>70960</td>\n",
       "      <td>Сумка-тележка 2-х колесная Gimi Argo красная</td>\n",
       "      <td>1</td>\n",
       "      <td>1087.0</td>\n",
       "      <td>2019</td>\n",
       "      <td>2019-10-01</td>\n",
       "    </tr>\n",
       "    <tr>\n",
       "      <th>6711</th>\n",
       "      <td>2019-10-28 21:00:00</td>\n",
       "      <td>cb65d08a-dae7-4890-aef0-bb9f79055e02</td>\n",
       "      <td>73108</td>\n",
       "      <td>Мирт d-9 см h-15 см</td>\n",
       "      <td>1</td>\n",
       "      <td>134.0</td>\n",
       "      <td>2019</td>\n",
       "      <td>2019-10-01</td>\n",
       "    </tr>\n",
       "    <tr>\n",
       "      <th>6728</th>\n",
       "      <td>2019-10-31 00:00:00</td>\n",
       "      <td>ffaeab76-3a8d-49ee-860f-17273b2fc8a2</td>\n",
       "      <td>73136</td>\n",
       "      <td>Таз пластмассовый со стиральной доской (Иж), 1404021</td>\n",
       "      <td>1</td>\n",
       "      <td>397.0</td>\n",
       "      <td>2019</td>\n",
       "      <td>2019-10-01</td>\n",
       "    </tr>\n",
       "    <tr>\n",
       "      <th>6729</th>\n",
       "      <td>2019-10-31 02:00:00</td>\n",
       "      <td>ffaeab76-3a8d-49ee-860f-17273b2fc8a2</td>\n",
       "      <td>73136</td>\n",
       "      <td>Таз пластмассовый со стиральной доской (Иж), 1404021</td>\n",
       "      <td>1</td>\n",
       "      <td>397.0</td>\n",
       "      <td>2019</td>\n",
       "      <td>2019-10-01</td>\n",
       "    </tr>\n",
       "    <tr>\n",
       "      <th>6736</th>\n",
       "      <td>2019-10-31 16:00:00</td>\n",
       "      <td>344aa778-e436-419e-a9c6-9b8f37b7c1df</td>\n",
       "      <td>73137</td>\n",
       "      <td>Сумка-тележка 2-х колесная Gimi Argo синяя</td>\n",
       "      <td>1</td>\n",
       "      <td>1087.0</td>\n",
       "      <td>2019</td>\n",
       "      <td>2019-10-01</td>\n",
       "    </tr>\n",
       "  </tbody>\n",
       "</table>\n",
       "<p>1886 rows × 8 columns</p>\n",
       "</div>"
      ],
      "text/plain": [
       "                    date                           customer_id  order_id                                                                      product  quantity   price  year      month\n",
       "58   2018-10-02 18:00:00  b731df05-98fa-4610-8496-716ec530a02c     68474  Доска гладильная Eurogold Professional 130х48 см металлическая сетка 35748W         1  3299.0  2018 2018-10-01\n",
       "59   2018-10-02 19:00:00  b731df05-98fa-4610-8496-716ec530a02c     68474  Доска гладильная Eurogold Professional 130х48 см металлическая сетка 35748W         1  3299.0  2018 2018-10-01\n",
       "60   2018-10-02 20:00:00  b731df05-98fa-4610-8496-716ec530a02c     68474  Доска гладильная Eurogold Professional 130х48 см металлическая сетка 35748W         1  3299.0  2018 2018-10-01\n",
       "63   2018-10-03 04:00:00  b731df05-98fa-4610-8496-716ec530a02c     68474  Доска гладильная Eurogold Professional 130х48 см металлическая сетка 35748W         1  3299.0  2018 2018-10-01\n",
       "94   2018-10-04 13:00:00  32de7df8-8d4f-4c84-a7b9-c41d00dd83ba     68522                                               Эвкалипт Гунни d-17 см h-60 см         1  1409.0  2018 2018-10-01\n",
       "...                  ...                                   ...       ...                                                                          ...       ...     ...   ...        ...\n",
       "6706 2019-10-28 10:00:00  57cc80a2-2610-4eef-9457-e7c3bf0c72f0     70960                                 Сумка-тележка 2-х колесная Gimi Argo красная         1  1087.0  2019 2019-10-01\n",
       "6711 2019-10-28 21:00:00  cb65d08a-dae7-4890-aef0-bb9f79055e02     73108                                                          Мирт d-9 см h-15 см         1   134.0  2019 2019-10-01\n",
       "6728 2019-10-31 00:00:00  ffaeab76-3a8d-49ee-860f-17273b2fc8a2     73136                         Таз пластмассовый со стиральной доской (Иж), 1404021         1   397.0  2019 2019-10-01\n",
       "6729 2019-10-31 02:00:00  ffaeab76-3a8d-49ee-860f-17273b2fc8a2     73136                         Таз пластмассовый со стиральной доской (Иж), 1404021         1   397.0  2019 2019-10-01\n",
       "6736 2019-10-31 16:00:00  344aa778-e436-419e-a9c6-9b8f37b7c1df     73137                                   Сумка-тележка 2-х колесная Gimi Argo синяя         1  1087.0  2019 2019-10-01\n",
       "\n",
       "[1886 rows x 8 columns]"
      ]
     },
     "execution_count": 12,
     "metadata": {},
     "output_type": "execute_result"
    }
   ],
   "source": [
    "# отфильтруем заказы с дублями по колонкам 'customer_id', 'order_id' и 'product'\n",
    "ecom_df[ecom_df[['customer_id', 'order_id', 'product']].duplicated()]"
   ]
  },
  {
   "cell_type": "markdown",
   "metadata": {},
   "source": [
    "Взглянем отдельно на несколько таких заказов."
   ]
  },
  {
   "cell_type": "code",
   "execution_count": 13,
   "metadata": {},
   "outputs": [
    {
     "data": {
      "text/html": [
       "<div>\n",
       "<style scoped>\n",
       "    .dataframe tbody tr th:only-of-type {\n",
       "        vertical-align: middle;\n",
       "    }\n",
       "\n",
       "    .dataframe tbody tr th {\n",
       "        vertical-align: top;\n",
       "    }\n",
       "\n",
       "    .dataframe thead th {\n",
       "        text-align: right;\n",
       "    }\n",
       "</style>\n",
       "<table border=\"1\" class=\"dataframe\">\n",
       "  <thead>\n",
       "    <tr style=\"text-align: right;\">\n",
       "      <th></th>\n",
       "      <th>date</th>\n",
       "      <th>customer_id</th>\n",
       "      <th>order_id</th>\n",
       "      <th>product</th>\n",
       "      <th>quantity</th>\n",
       "      <th>price</th>\n",
       "      <th>year</th>\n",
       "      <th>month</th>\n",
       "    </tr>\n",
       "  </thead>\n",
       "  <tbody>\n",
       "    <tr>\n",
       "      <th>19</th>\n",
       "      <td>2018-10-01 21:00:00</td>\n",
       "      <td>b731df05-98fa-4610-8496-716ec530a02c</td>\n",
       "      <td>68474</td>\n",
       "      <td>Доска гладильная Eurogold Professional 130х48 см металлическая сетка 35748W</td>\n",
       "      <td>1</td>\n",
       "      <td>3299.0</td>\n",
       "      <td>2018</td>\n",
       "      <td>2018-10-01</td>\n",
       "    </tr>\n",
       "    <tr>\n",
       "      <th>58</th>\n",
       "      <td>2018-10-02 18:00:00</td>\n",
       "      <td>b731df05-98fa-4610-8496-716ec530a02c</td>\n",
       "      <td>68474</td>\n",
       "      <td>Доска гладильная Eurogold Professional 130х48 см металлическая сетка 35748W</td>\n",
       "      <td>1</td>\n",
       "      <td>3299.0</td>\n",
       "      <td>2018</td>\n",
       "      <td>2018-10-01</td>\n",
       "    </tr>\n",
       "    <tr>\n",
       "      <th>59</th>\n",
       "      <td>2018-10-02 19:00:00</td>\n",
       "      <td>b731df05-98fa-4610-8496-716ec530a02c</td>\n",
       "      <td>68474</td>\n",
       "      <td>Доска гладильная Eurogold Professional 130х48 см металлическая сетка 35748W</td>\n",
       "      <td>1</td>\n",
       "      <td>3299.0</td>\n",
       "      <td>2018</td>\n",
       "      <td>2018-10-01</td>\n",
       "    </tr>\n",
       "    <tr>\n",
       "      <th>60</th>\n",
       "      <td>2018-10-02 20:00:00</td>\n",
       "      <td>b731df05-98fa-4610-8496-716ec530a02c</td>\n",
       "      <td>68474</td>\n",
       "      <td>Доска гладильная Eurogold Professional 130х48 см металлическая сетка 35748W</td>\n",
       "      <td>1</td>\n",
       "      <td>3299.0</td>\n",
       "      <td>2018</td>\n",
       "      <td>2018-10-01</td>\n",
       "    </tr>\n",
       "    <tr>\n",
       "      <th>63</th>\n",
       "      <td>2018-10-03 04:00:00</td>\n",
       "      <td>b731df05-98fa-4610-8496-716ec530a02c</td>\n",
       "      <td>68474</td>\n",
       "      <td>Доска гладильная Eurogold Professional 130х48 см металлическая сетка 35748W</td>\n",
       "      <td>1</td>\n",
       "      <td>3299.0</td>\n",
       "      <td>2018</td>\n",
       "      <td>2018-10-01</td>\n",
       "    </tr>\n",
       "  </tbody>\n",
       "</table>\n",
       "</div>"
      ],
      "text/plain": [
       "                  date                           customer_id  order_id                                                                      product  quantity   price  year      month\n",
       "19 2018-10-01 21:00:00  b731df05-98fa-4610-8496-716ec530a02c     68474  Доска гладильная Eurogold Professional 130х48 см металлическая сетка 35748W         1  3299.0  2018 2018-10-01\n",
       "58 2018-10-02 18:00:00  b731df05-98fa-4610-8496-716ec530a02c     68474  Доска гладильная Eurogold Professional 130х48 см металлическая сетка 35748W         1  3299.0  2018 2018-10-01\n",
       "59 2018-10-02 19:00:00  b731df05-98fa-4610-8496-716ec530a02c     68474  Доска гладильная Eurogold Professional 130х48 см металлическая сетка 35748W         1  3299.0  2018 2018-10-01\n",
       "60 2018-10-02 20:00:00  b731df05-98fa-4610-8496-716ec530a02c     68474  Доска гладильная Eurogold Professional 130х48 см металлическая сетка 35748W         1  3299.0  2018 2018-10-01\n",
       "63 2018-10-03 04:00:00  b731df05-98fa-4610-8496-716ec530a02c     68474  Доска гладильная Eurogold Professional 130х48 см металлическая сетка 35748W         1  3299.0  2018 2018-10-01"
      ]
     },
     "execution_count": 13,
     "metadata": {},
     "output_type": "execute_result"
    }
   ],
   "source": [
    "ecom_df[ecom_df['order_id'] == 68474]"
   ]
  },
  {
   "cell_type": "code",
   "execution_count": 14,
   "metadata": {},
   "outputs": [
    {
     "data": {
      "text/html": [
       "<div>\n",
       "<style scoped>\n",
       "    .dataframe tbody tr th:only-of-type {\n",
       "        vertical-align: middle;\n",
       "    }\n",
       "\n",
       "    .dataframe tbody tr th {\n",
       "        vertical-align: top;\n",
       "    }\n",
       "\n",
       "    .dataframe thead th {\n",
       "        text-align: right;\n",
       "    }\n",
       "</style>\n",
       "<table border=\"1\" class=\"dataframe\">\n",
       "  <thead>\n",
       "    <tr style=\"text-align: right;\">\n",
       "      <th></th>\n",
       "      <th>date</th>\n",
       "      <th>customer_id</th>\n",
       "      <th>order_id</th>\n",
       "      <th>product</th>\n",
       "      <th>quantity</th>\n",
       "      <th>price</th>\n",
       "      <th>year</th>\n",
       "      <th>month</th>\n",
       "    </tr>\n",
       "  </thead>\n",
       "  <tbody>\n",
       "    <tr>\n",
       "      <th>6704</th>\n",
       "      <td>2019-10-28 08:00:00</td>\n",
       "      <td>cb65d08a-dae7-4890-aef0-bb9f79055e02</td>\n",
       "      <td>73108</td>\n",
       "      <td>Мирт d-9 см h-15 см</td>\n",
       "      <td>1</td>\n",
       "      <td>134.0</td>\n",
       "      <td>2019</td>\n",
       "      <td>2019-10-01</td>\n",
       "    </tr>\n",
       "    <tr>\n",
       "      <th>6711</th>\n",
       "      <td>2019-10-28 21:00:00</td>\n",
       "      <td>cb65d08a-dae7-4890-aef0-bb9f79055e02</td>\n",
       "      <td>73108</td>\n",
       "      <td>Мирт d-9 см h-15 см</td>\n",
       "      <td>1</td>\n",
       "      <td>134.0</td>\n",
       "      <td>2019</td>\n",
       "      <td>2019-10-01</td>\n",
       "    </tr>\n",
       "  </tbody>\n",
       "</table>\n",
       "</div>"
      ],
      "text/plain": [
       "                    date                           customer_id  order_id              product  quantity  price  year      month\n",
       "6704 2019-10-28 08:00:00  cb65d08a-dae7-4890-aef0-bb9f79055e02     73108  Мирт d-9 см h-15 см         1  134.0  2019 2019-10-01\n",
       "6711 2019-10-28 21:00:00  cb65d08a-dae7-4890-aef0-bb9f79055e02     73108  Мирт d-9 см h-15 см         1  134.0  2019 2019-10-01"
      ]
     },
     "execution_count": 14,
     "metadata": {},
     "output_type": "execute_result"
    }
   ],
   "source": [
    "ecom_df[ecom_df['order_id'] == 73108]"
   ]
  },
  {
   "cell_type": "code",
   "execution_count": 15,
   "metadata": {
    "scrolled": true
   },
   "outputs": [
    {
     "data": {
      "text/html": [
       "<div>\n",
       "<style scoped>\n",
       "    .dataframe tbody tr th:only-of-type {\n",
       "        vertical-align: middle;\n",
       "    }\n",
       "\n",
       "    .dataframe tbody tr th {\n",
       "        vertical-align: top;\n",
       "    }\n",
       "\n",
       "    .dataframe thead th {\n",
       "        text-align: right;\n",
       "    }\n",
       "</style>\n",
       "<table border=\"1\" class=\"dataframe\">\n",
       "  <thead>\n",
       "    <tr style=\"text-align: right;\">\n",
       "      <th></th>\n",
       "      <th>date</th>\n",
       "      <th>customer_id</th>\n",
       "      <th>order_id</th>\n",
       "      <th>product</th>\n",
       "      <th>quantity</th>\n",
       "      <th>price</th>\n",
       "      <th>year</th>\n",
       "      <th>month</th>\n",
       "    </tr>\n",
       "  </thead>\n",
       "  <tbody>\n",
       "    <tr>\n",
       "      <th>2589</th>\n",
       "      <td>2019-04-01 16:00:00</td>\n",
       "      <td>57cc80a2-2610-4eef-9457-e7c3bf0c72f0</td>\n",
       "      <td>70960</td>\n",
       "      <td>Сумка-тележка 2-х колесная Gimi Argo красная</td>\n",
       "      <td>1</td>\n",
       "      <td>1087.0</td>\n",
       "      <td>2019</td>\n",
       "      <td>2019-04-01</td>\n",
       "    </tr>\n",
       "    <tr>\n",
       "      <th>2600</th>\n",
       "      <td>2019-04-02 10:00:00</td>\n",
       "      <td>57cc80a2-2610-4eef-9457-e7c3bf0c72f0</td>\n",
       "      <td>70960</td>\n",
       "      <td>Сумка-тележка 2-х колесная Gimi Argo красная</td>\n",
       "      <td>1</td>\n",
       "      <td>1087.0</td>\n",
       "      <td>2019</td>\n",
       "      <td>2019-04-01</td>\n",
       "    </tr>\n",
       "    <tr>\n",
       "      <th>2622</th>\n",
       "      <td>2019-04-03 08:00:00</td>\n",
       "      <td>57cc80a2-2610-4eef-9457-e7c3bf0c72f0</td>\n",
       "      <td>70960</td>\n",
       "      <td>Сумка-тележка 2-х колесная Gimi Argo красная</td>\n",
       "      <td>1</td>\n",
       "      <td>1087.0</td>\n",
       "      <td>2019</td>\n",
       "      <td>2019-04-01</td>\n",
       "    </tr>\n",
       "    <tr>\n",
       "      <th>2718</th>\n",
       "      <td>2019-04-07 15:00:00</td>\n",
       "      <td>57cc80a2-2610-4eef-9457-e7c3bf0c72f0</td>\n",
       "      <td>70960</td>\n",
       "      <td>Сумка-тележка 2-х колесная Gimi Argo красная</td>\n",
       "      <td>1</td>\n",
       "      <td>1087.0</td>\n",
       "      <td>2019</td>\n",
       "      <td>2019-04-01</td>\n",
       "    </tr>\n",
       "    <tr>\n",
       "      <th>2734</th>\n",
       "      <td>2019-04-08 09:00:00</td>\n",
       "      <td>57cc80a2-2610-4eef-9457-e7c3bf0c72f0</td>\n",
       "      <td>70960</td>\n",
       "      <td>Сумка-тележка 2-х колесная Gimi Argo красная</td>\n",
       "      <td>1</td>\n",
       "      <td>1087.0</td>\n",
       "      <td>2019</td>\n",
       "      <td>2019-04-01</td>\n",
       "    </tr>\n",
       "    <tr>\n",
       "      <th>2762</th>\n",
       "      <td>2019-04-09 19:00:00</td>\n",
       "      <td>57cc80a2-2610-4eef-9457-e7c3bf0c72f0</td>\n",
       "      <td>70960</td>\n",
       "      <td>Сумка-тележка 2-х колесная Gimi Argo красная</td>\n",
       "      <td>1</td>\n",
       "      <td>1087.0</td>\n",
       "      <td>2019</td>\n",
       "      <td>2019-04-01</td>\n",
       "    </tr>\n",
       "    <tr>\n",
       "      <th>2815</th>\n",
       "      <td>2019-04-12 22:00:00</td>\n",
       "      <td>57cc80a2-2610-4eef-9457-e7c3bf0c72f0</td>\n",
       "      <td>70960</td>\n",
       "      <td>Сумка-тележка 2-х колесная Gimi Argo красная</td>\n",
       "      <td>1</td>\n",
       "      <td>1087.0</td>\n",
       "      <td>2019</td>\n",
       "      <td>2019-04-01</td>\n",
       "    </tr>\n",
       "    <tr>\n",
       "      <th>2820</th>\n",
       "      <td>2019-04-13 21:00:00</td>\n",
       "      <td>57cc80a2-2610-4eef-9457-e7c3bf0c72f0</td>\n",
       "      <td>70960</td>\n",
       "      <td>Сумка-тележка 2-х колесная Gimi Argo красная</td>\n",
       "      <td>1</td>\n",
       "      <td>1087.0</td>\n",
       "      <td>2019</td>\n",
       "      <td>2019-04-01</td>\n",
       "    </tr>\n",
       "    <tr>\n",
       "      <th>2845</th>\n",
       "      <td>2019-04-14 17:00:00</td>\n",
       "      <td>57cc80a2-2610-4eef-9457-e7c3bf0c72f0</td>\n",
       "      <td>70960</td>\n",
       "      <td>Сумка-тележка 2-х колесная Gimi Argo красная</td>\n",
       "      <td>1</td>\n",
       "      <td>1087.0</td>\n",
       "      <td>2019</td>\n",
       "      <td>2019-04-01</td>\n",
       "    </tr>\n",
       "    <tr>\n",
       "      <th>2854</th>\n",
       "      <td>2019-04-15 10:00:00</td>\n",
       "      <td>57cc80a2-2610-4eef-9457-e7c3bf0c72f0</td>\n",
       "      <td>70960</td>\n",
       "      <td>Сумка-тележка 2-х колесная Gimi Argo красная</td>\n",
       "      <td>1</td>\n",
       "      <td>1087.0</td>\n",
       "      <td>2019</td>\n",
       "      <td>2019-04-01</td>\n",
       "    </tr>\n",
       "    <tr>\n",
       "      <th>2999</th>\n",
       "      <td>2019-04-21 21:00:00</td>\n",
       "      <td>57cc80a2-2610-4eef-9457-e7c3bf0c72f0</td>\n",
       "      <td>70960</td>\n",
       "      <td>Сумка-тележка 2-х колесная Gimi Argo красная</td>\n",
       "      <td>1</td>\n",
       "      <td>1087.0</td>\n",
       "      <td>2019</td>\n",
       "      <td>2019-04-01</td>\n",
       "    </tr>\n",
       "    <tr>\n",
       "      <th>3017</th>\n",
       "      <td>2019-04-22 12:00:00</td>\n",
       "      <td>57cc80a2-2610-4eef-9457-e7c3bf0c72f0</td>\n",
       "      <td>70960</td>\n",
       "      <td>Сумка-тележка 2-х колесная Gimi Argo красная</td>\n",
       "      <td>1</td>\n",
       "      <td>1087.0</td>\n",
       "      <td>2019</td>\n",
       "      <td>2019-04-01</td>\n",
       "    </tr>\n",
       "    <tr>\n",
       "      <th>3040</th>\n",
       "      <td>2019-04-23 10:00:00</td>\n",
       "      <td>57cc80a2-2610-4eef-9457-e7c3bf0c72f0</td>\n",
       "      <td>70960</td>\n",
       "      <td>Сумка-тележка 2-х колесная Gimi Argo красная</td>\n",
       "      <td>1</td>\n",
       "      <td>1087.0</td>\n",
       "      <td>2019</td>\n",
       "      <td>2019-04-01</td>\n",
       "    </tr>\n",
       "    <tr>\n",
       "      <th>3077</th>\n",
       "      <td>2019-04-24 10:00:00</td>\n",
       "      <td>57cc80a2-2610-4eef-9457-e7c3bf0c72f0</td>\n",
       "      <td>70960</td>\n",
       "      <td>Сумка-тележка 2-х колесная Gimi Argo красная</td>\n",
       "      <td>1</td>\n",
       "      <td>1087.0</td>\n",
       "      <td>2019</td>\n",
       "      <td>2019-04-01</td>\n",
       "    </tr>\n",
       "    <tr>\n",
       "      <th>3153</th>\n",
       "      <td>2019-04-25 09:00:00</td>\n",
       "      <td>57cc80a2-2610-4eef-9457-e7c3bf0c72f0</td>\n",
       "      <td>70960</td>\n",
       "      <td>Сумка-тележка 2-х колесная Gimi Argo красная</td>\n",
       "      <td>1</td>\n",
       "      <td>1087.0</td>\n",
       "      <td>2019</td>\n",
       "      <td>2019-04-01</td>\n",
       "    </tr>\n",
       "    <tr>\n",
       "      <th>3268</th>\n",
       "      <td>2019-04-28 19:00:00</td>\n",
       "      <td>57cc80a2-2610-4eef-9457-e7c3bf0c72f0</td>\n",
       "      <td>70960</td>\n",
       "      <td>Сумка-тележка 2-х колесная Gimi Argo красная</td>\n",
       "      <td>1</td>\n",
       "      <td>1087.0</td>\n",
       "      <td>2019</td>\n",
       "      <td>2019-04-01</td>\n",
       "    </tr>\n",
       "    <tr>\n",
       "      <th>3342</th>\n",
       "      <td>2019-04-30 19:00:00</td>\n",
       "      <td>57cc80a2-2610-4eef-9457-e7c3bf0c72f0</td>\n",
       "      <td>70960</td>\n",
       "      <td>Сумка-тележка 2-х колесная Gimi Argo красная</td>\n",
       "      <td>1</td>\n",
       "      <td>1087.0</td>\n",
       "      <td>2019</td>\n",
       "      <td>2019-04-01</td>\n",
       "    </tr>\n",
       "    <tr>\n",
       "      <th>3415</th>\n",
       "      <td>2019-05-06 09:00:00</td>\n",
       "      <td>57cc80a2-2610-4eef-9457-e7c3bf0c72f0</td>\n",
       "      <td>70960</td>\n",
       "      <td>Сумка-тележка 2-х колесная Gimi Argo красная</td>\n",
       "      <td>1</td>\n",
       "      <td>1087.0</td>\n",
       "      <td>2019</td>\n",
       "      <td>2019-05-01</td>\n",
       "    </tr>\n",
       "    <tr>\n",
       "      <th>3419</th>\n",
       "      <td>2019-05-07 08:00:00</td>\n",
       "      <td>57cc80a2-2610-4eef-9457-e7c3bf0c72f0</td>\n",
       "      <td>70960</td>\n",
       "      <td>Сумка-тележка 2-х колесная Gimi Argo красная</td>\n",
       "      <td>1</td>\n",
       "      <td>1087.0</td>\n",
       "      <td>2019</td>\n",
       "      <td>2019-05-01</td>\n",
       "    </tr>\n",
       "    <tr>\n",
       "      <th>3446</th>\n",
       "      <td>2019-05-08 08:00:00</td>\n",
       "      <td>57cc80a2-2610-4eef-9457-e7c3bf0c72f0</td>\n",
       "      <td>70960</td>\n",
       "      <td>Сумка-тележка 2-х колесная Gimi Argo красная</td>\n",
       "      <td>1</td>\n",
       "      <td>1087.0</td>\n",
       "      <td>2019</td>\n",
       "      <td>2019-05-01</td>\n",
       "    </tr>\n",
       "    <tr>\n",
       "      <th>3588</th>\n",
       "      <td>2019-05-12 20:00:00</td>\n",
       "      <td>57cc80a2-2610-4eef-9457-e7c3bf0c72f0</td>\n",
       "      <td>70960</td>\n",
       "      <td>Сумка-тележка 2-х колесная Gimi Argo красная</td>\n",
       "      <td>1</td>\n",
       "      <td>1087.0</td>\n",
       "      <td>2019</td>\n",
       "      <td>2019-05-01</td>\n",
       "    </tr>\n",
       "    <tr>\n",
       "      <th>3629</th>\n",
       "      <td>2019-05-13 10:00:00</td>\n",
       "      <td>57cc80a2-2610-4eef-9457-e7c3bf0c72f0</td>\n",
       "      <td>70960</td>\n",
       "      <td>Сумка-тележка 2-х колесная Gimi Argo красная</td>\n",
       "      <td>1</td>\n",
       "      <td>1087.0</td>\n",
       "      <td>2019</td>\n",
       "      <td>2019-05-01</td>\n",
       "    </tr>\n",
       "    <tr>\n",
       "      <th>3738</th>\n",
       "      <td>2019-05-14 09:00:00</td>\n",
       "      <td>57cc80a2-2610-4eef-9457-e7c3bf0c72f0</td>\n",
       "      <td>70960</td>\n",
       "      <td>Сумка-тележка 2-х колесная Gimi Argo красная</td>\n",
       "      <td>1</td>\n",
       "      <td>1087.0</td>\n",
       "      <td>2019</td>\n",
       "      <td>2019-05-01</td>\n",
       "    </tr>\n",
       "    <tr>\n",
       "      <th>3823</th>\n",
       "      <td>2019-05-15 10:00:00</td>\n",
       "      <td>57cc80a2-2610-4eef-9457-e7c3bf0c72f0</td>\n",
       "      <td>70960</td>\n",
       "      <td>Сумка-тележка 2-х колесная Gimi Argo красная</td>\n",
       "      <td>1</td>\n",
       "      <td>1087.0</td>\n",
       "      <td>2019</td>\n",
       "      <td>2019-05-01</td>\n",
       "    </tr>\n",
       "    <tr>\n",
       "      <th>3872</th>\n",
       "      <td>2019-05-17 09:00:00</td>\n",
       "      <td>57cc80a2-2610-4eef-9457-e7c3bf0c72f0</td>\n",
       "      <td>70960</td>\n",
       "      <td>Сумка-тележка 2-х колесная Gimi Argo красная</td>\n",
       "      <td>1</td>\n",
       "      <td>1087.0</td>\n",
       "      <td>2019</td>\n",
       "      <td>2019-05-01</td>\n",
       "    </tr>\n",
       "    <tr>\n",
       "      <th>3940</th>\n",
       "      <td>2019-05-20 10:00:00</td>\n",
       "      <td>57cc80a2-2610-4eef-9457-e7c3bf0c72f0</td>\n",
       "      <td>70960</td>\n",
       "      <td>Сумка-тележка 2-х колесная Gimi Argo красная</td>\n",
       "      <td>1</td>\n",
       "      <td>1087.0</td>\n",
       "      <td>2019</td>\n",
       "      <td>2019-05-01</td>\n",
       "    </tr>\n",
       "    <tr>\n",
       "      <th>3965</th>\n",
       "      <td>2019-05-21 08:00:00</td>\n",
       "      <td>57cc80a2-2610-4eef-9457-e7c3bf0c72f0</td>\n",
       "      <td>70960</td>\n",
       "      <td>Сумка-тележка 2-х колесная Gimi Argo красная</td>\n",
       "      <td>1</td>\n",
       "      <td>1087.0</td>\n",
       "      <td>2019</td>\n",
       "      <td>2019-05-01</td>\n",
       "    </tr>\n",
       "    <tr>\n",
       "      <th>4091</th>\n",
       "      <td>2019-05-29 09:00:00</td>\n",
       "      <td>57cc80a2-2610-4eef-9457-e7c3bf0c72f0</td>\n",
       "      <td>70960</td>\n",
       "      <td>Сумка-тележка 2-х колесная Gimi Argo красная</td>\n",
       "      <td>1</td>\n",
       "      <td>1087.0</td>\n",
       "      <td>2019</td>\n",
       "      <td>2019-05-01</td>\n",
       "    </tr>\n",
       "    <tr>\n",
       "      <th>4402</th>\n",
       "      <td>2019-06-03 13:00:00</td>\n",
       "      <td>57cc80a2-2610-4eef-9457-e7c3bf0c72f0</td>\n",
       "      <td>70960</td>\n",
       "      <td>Сумка-тележка 2-х колесная Gimi Argo красная</td>\n",
       "      <td>1</td>\n",
       "      <td>1087.0</td>\n",
       "      <td>2019</td>\n",
       "      <td>2019-06-01</td>\n",
       "    </tr>\n",
       "    <tr>\n",
       "      <th>4479</th>\n",
       "      <td>2019-06-04 14:00:00</td>\n",
       "      <td>57cc80a2-2610-4eef-9457-e7c3bf0c72f0</td>\n",
       "      <td>70960</td>\n",
       "      <td>Сумка-тележка 2-х колесная Gimi Argo красная</td>\n",
       "      <td>1</td>\n",
       "      <td>1087.0</td>\n",
       "      <td>2019</td>\n",
       "      <td>2019-06-01</td>\n",
       "    </tr>\n",
       "    <tr>\n",
       "      <th>4610</th>\n",
       "      <td>2019-06-05 09:00:00</td>\n",
       "      <td>57cc80a2-2610-4eef-9457-e7c3bf0c72f0</td>\n",
       "      <td>70960</td>\n",
       "      <td>Сумка-тележка 2-х колесная Gimi Argo красная</td>\n",
       "      <td>1</td>\n",
       "      <td>1087.0</td>\n",
       "      <td>2019</td>\n",
       "      <td>2019-06-01</td>\n",
       "    </tr>\n",
       "    <tr>\n",
       "      <th>5005</th>\n",
       "      <td>2019-06-10 09:00:00</td>\n",
       "      <td>57cc80a2-2610-4eef-9457-e7c3bf0c72f0</td>\n",
       "      <td>70960</td>\n",
       "      <td>Сумка-тележка 2-х колесная Gimi Argo красная</td>\n",
       "      <td>1</td>\n",
       "      <td>1087.0</td>\n",
       "      <td>2019</td>\n",
       "      <td>2019-06-01</td>\n",
       "    </tr>\n",
       "    <tr>\n",
       "      <th>5390</th>\n",
       "      <td>2019-06-16 20:00:00</td>\n",
       "      <td>57cc80a2-2610-4eef-9457-e7c3bf0c72f0</td>\n",
       "      <td>70960</td>\n",
       "      <td>Сумка-тележка 2-х колесная Gimi Argo красная</td>\n",
       "      <td>1</td>\n",
       "      <td>1087.0</td>\n",
       "      <td>2019</td>\n",
       "      <td>2019-06-01</td>\n",
       "    </tr>\n",
       "    <tr>\n",
       "      <th>5498</th>\n",
       "      <td>2019-06-20 19:00:00</td>\n",
       "      <td>57cc80a2-2610-4eef-9457-e7c3bf0c72f0</td>\n",
       "      <td>70960</td>\n",
       "      <td>Сумка-тележка 2-х колесная Gimi Argo красная</td>\n",
       "      <td>1</td>\n",
       "      <td>1087.0</td>\n",
       "      <td>2019</td>\n",
       "      <td>2019-06-01</td>\n",
       "    </tr>\n",
       "    <tr>\n",
       "      <th>5562</th>\n",
       "      <td>2019-06-24 09:00:00</td>\n",
       "      <td>57cc80a2-2610-4eef-9457-e7c3bf0c72f0</td>\n",
       "      <td>70960</td>\n",
       "      <td>Сумка-тележка 2-х колесная Gimi Argo красная</td>\n",
       "      <td>1</td>\n",
       "      <td>1087.0</td>\n",
       "      <td>2019</td>\n",
       "      <td>2019-06-01</td>\n",
       "    </tr>\n",
       "    <tr>\n",
       "      <th>5599</th>\n",
       "      <td>2019-06-28 10:00:00</td>\n",
       "      <td>57cc80a2-2610-4eef-9457-e7c3bf0c72f0</td>\n",
       "      <td>70960</td>\n",
       "      <td>Сумка-тележка 2-х колесная Gimi Argo красная</td>\n",
       "      <td>1</td>\n",
       "      <td>1087.0</td>\n",
       "      <td>2019</td>\n",
       "      <td>2019-06-01</td>\n",
       "    </tr>\n",
       "    <tr>\n",
       "      <th>5602</th>\n",
       "      <td>2019-06-28 23:00:00</td>\n",
       "      <td>57cc80a2-2610-4eef-9457-e7c3bf0c72f0</td>\n",
       "      <td>70960</td>\n",
       "      <td>Сумка-тележка 2-х колесная Gimi Argo красная</td>\n",
       "      <td>1</td>\n",
       "      <td>1087.0</td>\n",
       "      <td>2019</td>\n",
       "      <td>2019-06-01</td>\n",
       "    </tr>\n",
       "    <tr>\n",
       "      <th>5647</th>\n",
       "      <td>2019-07-04 08:00:00</td>\n",
       "      <td>57cc80a2-2610-4eef-9457-e7c3bf0c72f0</td>\n",
       "      <td>70960</td>\n",
       "      <td>Сумка-тележка 2-х колесная Gimi Argo красная</td>\n",
       "      <td>1</td>\n",
       "      <td>1087.0</td>\n",
       "      <td>2019</td>\n",
       "      <td>2019-07-01</td>\n",
       "    </tr>\n",
       "    <tr>\n",
       "      <th>5675</th>\n",
       "      <td>2019-07-05 10:00:00</td>\n",
       "      <td>57cc80a2-2610-4eef-9457-e7c3bf0c72f0</td>\n",
       "      <td>70960</td>\n",
       "      <td>Сумка-тележка 2-х колесная Gimi Argo красная</td>\n",
       "      <td>1</td>\n",
       "      <td>1087.0</td>\n",
       "      <td>2019</td>\n",
       "      <td>2019-07-01</td>\n",
       "    </tr>\n",
       "    <tr>\n",
       "      <th>5723</th>\n",
       "      <td>2019-07-08 08:00:00</td>\n",
       "      <td>57cc80a2-2610-4eef-9457-e7c3bf0c72f0</td>\n",
       "      <td>70960</td>\n",
       "      <td>Сумка-тележка 2-х колесная Gimi Argo красная</td>\n",
       "      <td>1</td>\n",
       "      <td>1087.0</td>\n",
       "      <td>2019</td>\n",
       "      <td>2019-07-01</td>\n",
       "    </tr>\n",
       "    <tr>\n",
       "      <th>5860</th>\n",
       "      <td>2019-07-15 08:00:00</td>\n",
       "      <td>57cc80a2-2610-4eef-9457-e7c3bf0c72f0</td>\n",
       "      <td>70960</td>\n",
       "      <td>Сумка-тележка 2-х колесная Gimi Argo красная</td>\n",
       "      <td>1</td>\n",
       "      <td>1087.0</td>\n",
       "      <td>2019</td>\n",
       "      <td>2019-07-01</td>\n",
       "    </tr>\n",
       "    <tr>\n",
       "      <th>5895</th>\n",
       "      <td>2019-07-19 09:00:00</td>\n",
       "      <td>57cc80a2-2610-4eef-9457-e7c3bf0c72f0</td>\n",
       "      <td>70960</td>\n",
       "      <td>Сумка-тележка 2-х колесная Gimi Argo красная</td>\n",
       "      <td>1</td>\n",
       "      <td>1087.0</td>\n",
       "      <td>2019</td>\n",
       "      <td>2019-07-01</td>\n",
       "    </tr>\n",
       "    <tr>\n",
       "      <th>5989</th>\n",
       "      <td>2019-07-29 09:00:00</td>\n",
       "      <td>57cc80a2-2610-4eef-9457-e7c3bf0c72f0</td>\n",
       "      <td>70960</td>\n",
       "      <td>Сумка-тележка 2-х колесная Gimi Argo красная</td>\n",
       "      <td>1</td>\n",
       "      <td>1087.0</td>\n",
       "      <td>2019</td>\n",
       "      <td>2019-07-01</td>\n",
       "    </tr>\n",
       "    <tr>\n",
       "      <th>5997</th>\n",
       "      <td>2019-07-30 10:00:00</td>\n",
       "      <td>57cc80a2-2610-4eef-9457-e7c3bf0c72f0</td>\n",
       "      <td>70960</td>\n",
       "      <td>Сумка-тележка 2-х колесная Gimi Argo красная</td>\n",
       "      <td>1</td>\n",
       "      <td>1087.0</td>\n",
       "      <td>2019</td>\n",
       "      <td>2019-07-01</td>\n",
       "    </tr>\n",
       "    <tr>\n",
       "      <th>6047</th>\n",
       "      <td>2019-08-05 08:00:00</td>\n",
       "      <td>57cc80a2-2610-4eef-9457-e7c3bf0c72f0</td>\n",
       "      <td>70960</td>\n",
       "      <td>Сумка-тележка 2-х колесная Gimi Argo красная</td>\n",
       "      <td>1</td>\n",
       "      <td>1087.0</td>\n",
       "      <td>2019</td>\n",
       "      <td>2019-08-01</td>\n",
       "    </tr>\n",
       "    <tr>\n",
       "      <th>6140</th>\n",
       "      <td>2019-08-19 18:00:00</td>\n",
       "      <td>57cc80a2-2610-4eef-9457-e7c3bf0c72f0</td>\n",
       "      <td>70960</td>\n",
       "      <td>Сумка-тележка 2-х колесная Gimi Argo красная</td>\n",
       "      <td>1</td>\n",
       "      <td>1087.0</td>\n",
       "      <td>2019</td>\n",
       "      <td>2019-08-01</td>\n",
       "    </tr>\n",
       "    <tr>\n",
       "      <th>6183</th>\n",
       "      <td>2019-08-26 09:00:00</td>\n",
       "      <td>57cc80a2-2610-4eef-9457-e7c3bf0c72f0</td>\n",
       "      <td>70960</td>\n",
       "      <td>Сумка-тележка 2-х колесная Gimi Argo красная</td>\n",
       "      <td>1</td>\n",
       "      <td>1087.0</td>\n",
       "      <td>2019</td>\n",
       "      <td>2019-08-01</td>\n",
       "    </tr>\n",
       "    <tr>\n",
       "      <th>6194</th>\n",
       "      <td>2019-08-26 19:00:00</td>\n",
       "      <td>57cc80a2-2610-4eef-9457-e7c3bf0c72f0</td>\n",
       "      <td>70960</td>\n",
       "      <td>Сумка-тележка 2-х колесная Gimi Argo красная</td>\n",
       "      <td>1</td>\n",
       "      <td>1087.0</td>\n",
       "      <td>2019</td>\n",
       "      <td>2019-08-01</td>\n",
       "    </tr>\n",
       "    <tr>\n",
       "      <th>6235</th>\n",
       "      <td>2019-09-02 09:00:00</td>\n",
       "      <td>57cc80a2-2610-4eef-9457-e7c3bf0c72f0</td>\n",
       "      <td>70960</td>\n",
       "      <td>Сумка-тележка 2-х колесная Gimi Argo красная</td>\n",
       "      <td>1</td>\n",
       "      <td>1087.0</td>\n",
       "      <td>2019</td>\n",
       "      <td>2019-09-01</td>\n",
       "    </tr>\n",
       "    <tr>\n",
       "      <th>6247</th>\n",
       "      <td>2019-09-04 09:00:00</td>\n",
       "      <td>57cc80a2-2610-4eef-9457-e7c3bf0c72f0</td>\n",
       "      <td>70960</td>\n",
       "      <td>Сумка-тележка 2-х колесная Gimi Argo красная</td>\n",
       "      <td>1</td>\n",
       "      <td>1087.0</td>\n",
       "      <td>2019</td>\n",
       "      <td>2019-09-01</td>\n",
       "    </tr>\n",
       "    <tr>\n",
       "      <th>6284</th>\n",
       "      <td>2019-09-09 13:00:00</td>\n",
       "      <td>57cc80a2-2610-4eef-9457-e7c3bf0c72f0</td>\n",
       "      <td>70960</td>\n",
       "      <td>Сумка-тележка 2-х колесная Gimi Argo красная</td>\n",
       "      <td>1</td>\n",
       "      <td>1087.0</td>\n",
       "      <td>2019</td>\n",
       "      <td>2019-09-01</td>\n",
       "    </tr>\n",
       "    <tr>\n",
       "      <th>6317</th>\n",
       "      <td>2019-09-12 22:00:00</td>\n",
       "      <td>57cc80a2-2610-4eef-9457-e7c3bf0c72f0</td>\n",
       "      <td>70960</td>\n",
       "      <td>Сумка-тележка 2-х колесная Gimi Argo красная</td>\n",
       "      <td>1</td>\n",
       "      <td>1087.0</td>\n",
       "      <td>2019</td>\n",
       "      <td>2019-09-01</td>\n",
       "    </tr>\n",
       "    <tr>\n",
       "      <th>6335</th>\n",
       "      <td>2019-09-16 11:00:00</td>\n",
       "      <td>57cc80a2-2610-4eef-9457-e7c3bf0c72f0</td>\n",
       "      <td>70960</td>\n",
       "      <td>Сумка-тележка 2-х колесная Gimi Argo красная</td>\n",
       "      <td>1</td>\n",
       "      <td>1087.0</td>\n",
       "      <td>2019</td>\n",
       "      <td>2019-09-01</td>\n",
       "    </tr>\n",
       "    <tr>\n",
       "      <th>6354</th>\n",
       "      <td>2019-09-18 20:00:00</td>\n",
       "      <td>57cc80a2-2610-4eef-9457-e7c3bf0c72f0</td>\n",
       "      <td>70960</td>\n",
       "      <td>Сумка-тележка 2-х колесная Gimi Argo красная</td>\n",
       "      <td>1</td>\n",
       "      <td>1087.0</td>\n",
       "      <td>2019</td>\n",
       "      <td>2019-09-01</td>\n",
       "    </tr>\n",
       "    <tr>\n",
       "      <th>6419</th>\n",
       "      <td>2019-09-24 10:00:00</td>\n",
       "      <td>57cc80a2-2610-4eef-9457-e7c3bf0c72f0</td>\n",
       "      <td>70960</td>\n",
       "      <td>Сумка-тележка 2-х колесная Gimi Argo красная</td>\n",
       "      <td>1</td>\n",
       "      <td>1087.0</td>\n",
       "      <td>2019</td>\n",
       "      <td>2019-09-01</td>\n",
       "    </tr>\n",
       "    <tr>\n",
       "      <th>6581</th>\n",
       "      <td>2019-10-11 10:00:00</td>\n",
       "      <td>57cc80a2-2610-4eef-9457-e7c3bf0c72f0</td>\n",
       "      <td>70960</td>\n",
       "      <td>Сумка-тележка 2-х колесная Gimi Argo красная</td>\n",
       "      <td>1</td>\n",
       "      <td>1087.0</td>\n",
       "      <td>2019</td>\n",
       "      <td>2019-10-01</td>\n",
       "    </tr>\n",
       "    <tr>\n",
       "      <th>6670</th>\n",
       "      <td>2019-10-21 12:00:00</td>\n",
       "      <td>57cc80a2-2610-4eef-9457-e7c3bf0c72f0</td>\n",
       "      <td>70960</td>\n",
       "      <td>Сумка-тележка 2-х колесная Gimi Argo красная</td>\n",
       "      <td>1</td>\n",
       "      <td>1087.0</td>\n",
       "      <td>2019</td>\n",
       "      <td>2019-10-01</td>\n",
       "    </tr>\n",
       "    <tr>\n",
       "      <th>6673</th>\n",
       "      <td>2019-10-22 09:00:00</td>\n",
       "      <td>57cc80a2-2610-4eef-9457-e7c3bf0c72f0</td>\n",
       "      <td>70960</td>\n",
       "      <td>Сумка-тележка 2-х колесная Gimi Argo красная</td>\n",
       "      <td>1</td>\n",
       "      <td>1087.0</td>\n",
       "      <td>2019</td>\n",
       "      <td>2019-10-01</td>\n",
       "    </tr>\n",
       "    <tr>\n",
       "      <th>6705</th>\n",
       "      <td>2019-10-28 08:00:00</td>\n",
       "      <td>57cc80a2-2610-4eef-9457-e7c3bf0c72f0</td>\n",
       "      <td>70960</td>\n",
       "      <td>Сумка-тележка 2-х колесная Gimi Argo красная</td>\n",
       "      <td>1</td>\n",
       "      <td>1087.0</td>\n",
       "      <td>2019</td>\n",
       "      <td>2019-10-01</td>\n",
       "    </tr>\n",
       "    <tr>\n",
       "      <th>6706</th>\n",
       "      <td>2019-10-28 10:00:00</td>\n",
       "      <td>57cc80a2-2610-4eef-9457-e7c3bf0c72f0</td>\n",
       "      <td>70960</td>\n",
       "      <td>Сумка-тележка 2-х колесная Gimi Argo красная</td>\n",
       "      <td>1</td>\n",
       "      <td>1087.0</td>\n",
       "      <td>2019</td>\n",
       "      <td>2019-10-01</td>\n",
       "    </tr>\n",
       "  </tbody>\n",
       "</table>\n",
       "</div>"
      ],
      "text/plain": [
       "                    date                           customer_id  order_id                                       product  quantity   price  year      month\n",
       "2589 2019-04-01 16:00:00  57cc80a2-2610-4eef-9457-e7c3bf0c72f0     70960  Сумка-тележка 2-х колесная Gimi Argo красная         1  1087.0  2019 2019-04-01\n",
       "2600 2019-04-02 10:00:00  57cc80a2-2610-4eef-9457-e7c3bf0c72f0     70960  Сумка-тележка 2-х колесная Gimi Argo красная         1  1087.0  2019 2019-04-01\n",
       "2622 2019-04-03 08:00:00  57cc80a2-2610-4eef-9457-e7c3bf0c72f0     70960  Сумка-тележка 2-х колесная Gimi Argo красная         1  1087.0  2019 2019-04-01\n",
       "2718 2019-04-07 15:00:00  57cc80a2-2610-4eef-9457-e7c3bf0c72f0     70960  Сумка-тележка 2-х колесная Gimi Argo красная         1  1087.0  2019 2019-04-01\n",
       "2734 2019-04-08 09:00:00  57cc80a2-2610-4eef-9457-e7c3bf0c72f0     70960  Сумка-тележка 2-х колесная Gimi Argo красная         1  1087.0  2019 2019-04-01\n",
       "2762 2019-04-09 19:00:00  57cc80a2-2610-4eef-9457-e7c3bf0c72f0     70960  Сумка-тележка 2-х колесная Gimi Argo красная         1  1087.0  2019 2019-04-01\n",
       "2815 2019-04-12 22:00:00  57cc80a2-2610-4eef-9457-e7c3bf0c72f0     70960  Сумка-тележка 2-х колесная Gimi Argo красная         1  1087.0  2019 2019-04-01\n",
       "2820 2019-04-13 21:00:00  57cc80a2-2610-4eef-9457-e7c3bf0c72f0     70960  Сумка-тележка 2-х колесная Gimi Argo красная         1  1087.0  2019 2019-04-01\n",
       "2845 2019-04-14 17:00:00  57cc80a2-2610-4eef-9457-e7c3bf0c72f0     70960  Сумка-тележка 2-х колесная Gimi Argo красная         1  1087.0  2019 2019-04-01\n",
       "2854 2019-04-15 10:00:00  57cc80a2-2610-4eef-9457-e7c3bf0c72f0     70960  Сумка-тележка 2-х колесная Gimi Argo красная         1  1087.0  2019 2019-04-01\n",
       "2999 2019-04-21 21:00:00  57cc80a2-2610-4eef-9457-e7c3bf0c72f0     70960  Сумка-тележка 2-х колесная Gimi Argo красная         1  1087.0  2019 2019-04-01\n",
       "3017 2019-04-22 12:00:00  57cc80a2-2610-4eef-9457-e7c3bf0c72f0     70960  Сумка-тележка 2-х колесная Gimi Argo красная         1  1087.0  2019 2019-04-01\n",
       "3040 2019-04-23 10:00:00  57cc80a2-2610-4eef-9457-e7c3bf0c72f0     70960  Сумка-тележка 2-х колесная Gimi Argo красная         1  1087.0  2019 2019-04-01\n",
       "3077 2019-04-24 10:00:00  57cc80a2-2610-4eef-9457-e7c3bf0c72f0     70960  Сумка-тележка 2-х колесная Gimi Argo красная         1  1087.0  2019 2019-04-01\n",
       "3153 2019-04-25 09:00:00  57cc80a2-2610-4eef-9457-e7c3bf0c72f0     70960  Сумка-тележка 2-х колесная Gimi Argo красная         1  1087.0  2019 2019-04-01\n",
       "3268 2019-04-28 19:00:00  57cc80a2-2610-4eef-9457-e7c3bf0c72f0     70960  Сумка-тележка 2-х колесная Gimi Argo красная         1  1087.0  2019 2019-04-01\n",
       "3342 2019-04-30 19:00:00  57cc80a2-2610-4eef-9457-e7c3bf0c72f0     70960  Сумка-тележка 2-х колесная Gimi Argo красная         1  1087.0  2019 2019-04-01\n",
       "3415 2019-05-06 09:00:00  57cc80a2-2610-4eef-9457-e7c3bf0c72f0     70960  Сумка-тележка 2-х колесная Gimi Argo красная         1  1087.0  2019 2019-05-01\n",
       "3419 2019-05-07 08:00:00  57cc80a2-2610-4eef-9457-e7c3bf0c72f0     70960  Сумка-тележка 2-х колесная Gimi Argo красная         1  1087.0  2019 2019-05-01\n",
       "3446 2019-05-08 08:00:00  57cc80a2-2610-4eef-9457-e7c3bf0c72f0     70960  Сумка-тележка 2-х колесная Gimi Argo красная         1  1087.0  2019 2019-05-01\n",
       "3588 2019-05-12 20:00:00  57cc80a2-2610-4eef-9457-e7c3bf0c72f0     70960  Сумка-тележка 2-х колесная Gimi Argo красная         1  1087.0  2019 2019-05-01\n",
       "3629 2019-05-13 10:00:00  57cc80a2-2610-4eef-9457-e7c3bf0c72f0     70960  Сумка-тележка 2-х колесная Gimi Argo красная         1  1087.0  2019 2019-05-01\n",
       "3738 2019-05-14 09:00:00  57cc80a2-2610-4eef-9457-e7c3bf0c72f0     70960  Сумка-тележка 2-х колесная Gimi Argo красная         1  1087.0  2019 2019-05-01\n",
       "3823 2019-05-15 10:00:00  57cc80a2-2610-4eef-9457-e7c3bf0c72f0     70960  Сумка-тележка 2-х колесная Gimi Argo красная         1  1087.0  2019 2019-05-01\n",
       "3872 2019-05-17 09:00:00  57cc80a2-2610-4eef-9457-e7c3bf0c72f0     70960  Сумка-тележка 2-х колесная Gimi Argo красная         1  1087.0  2019 2019-05-01\n",
       "3940 2019-05-20 10:00:00  57cc80a2-2610-4eef-9457-e7c3bf0c72f0     70960  Сумка-тележка 2-х колесная Gimi Argo красная         1  1087.0  2019 2019-05-01\n",
       "3965 2019-05-21 08:00:00  57cc80a2-2610-4eef-9457-e7c3bf0c72f0     70960  Сумка-тележка 2-х колесная Gimi Argo красная         1  1087.0  2019 2019-05-01\n",
       "4091 2019-05-29 09:00:00  57cc80a2-2610-4eef-9457-e7c3bf0c72f0     70960  Сумка-тележка 2-х колесная Gimi Argo красная         1  1087.0  2019 2019-05-01\n",
       "4402 2019-06-03 13:00:00  57cc80a2-2610-4eef-9457-e7c3bf0c72f0     70960  Сумка-тележка 2-х колесная Gimi Argo красная         1  1087.0  2019 2019-06-01\n",
       "4479 2019-06-04 14:00:00  57cc80a2-2610-4eef-9457-e7c3bf0c72f0     70960  Сумка-тележка 2-х колесная Gimi Argo красная         1  1087.0  2019 2019-06-01\n",
       "4610 2019-06-05 09:00:00  57cc80a2-2610-4eef-9457-e7c3bf0c72f0     70960  Сумка-тележка 2-х колесная Gimi Argo красная         1  1087.0  2019 2019-06-01\n",
       "5005 2019-06-10 09:00:00  57cc80a2-2610-4eef-9457-e7c3bf0c72f0     70960  Сумка-тележка 2-х колесная Gimi Argo красная         1  1087.0  2019 2019-06-01\n",
       "5390 2019-06-16 20:00:00  57cc80a2-2610-4eef-9457-e7c3bf0c72f0     70960  Сумка-тележка 2-х колесная Gimi Argo красная         1  1087.0  2019 2019-06-01\n",
       "5498 2019-06-20 19:00:00  57cc80a2-2610-4eef-9457-e7c3bf0c72f0     70960  Сумка-тележка 2-х колесная Gimi Argo красная         1  1087.0  2019 2019-06-01\n",
       "5562 2019-06-24 09:00:00  57cc80a2-2610-4eef-9457-e7c3bf0c72f0     70960  Сумка-тележка 2-х колесная Gimi Argo красная         1  1087.0  2019 2019-06-01\n",
       "5599 2019-06-28 10:00:00  57cc80a2-2610-4eef-9457-e7c3bf0c72f0     70960  Сумка-тележка 2-х колесная Gimi Argo красная         1  1087.0  2019 2019-06-01\n",
       "5602 2019-06-28 23:00:00  57cc80a2-2610-4eef-9457-e7c3bf0c72f0     70960  Сумка-тележка 2-х колесная Gimi Argo красная         1  1087.0  2019 2019-06-01\n",
       "5647 2019-07-04 08:00:00  57cc80a2-2610-4eef-9457-e7c3bf0c72f0     70960  Сумка-тележка 2-х колесная Gimi Argo красная         1  1087.0  2019 2019-07-01\n",
       "5675 2019-07-05 10:00:00  57cc80a2-2610-4eef-9457-e7c3bf0c72f0     70960  Сумка-тележка 2-х колесная Gimi Argo красная         1  1087.0  2019 2019-07-01\n",
       "5723 2019-07-08 08:00:00  57cc80a2-2610-4eef-9457-e7c3bf0c72f0     70960  Сумка-тележка 2-х колесная Gimi Argo красная         1  1087.0  2019 2019-07-01\n",
       "5860 2019-07-15 08:00:00  57cc80a2-2610-4eef-9457-e7c3bf0c72f0     70960  Сумка-тележка 2-х колесная Gimi Argo красная         1  1087.0  2019 2019-07-01\n",
       "5895 2019-07-19 09:00:00  57cc80a2-2610-4eef-9457-e7c3bf0c72f0     70960  Сумка-тележка 2-х колесная Gimi Argo красная         1  1087.0  2019 2019-07-01\n",
       "5989 2019-07-29 09:00:00  57cc80a2-2610-4eef-9457-e7c3bf0c72f0     70960  Сумка-тележка 2-х колесная Gimi Argo красная         1  1087.0  2019 2019-07-01\n",
       "5997 2019-07-30 10:00:00  57cc80a2-2610-4eef-9457-e7c3bf0c72f0     70960  Сумка-тележка 2-х колесная Gimi Argo красная         1  1087.0  2019 2019-07-01\n",
       "6047 2019-08-05 08:00:00  57cc80a2-2610-4eef-9457-e7c3bf0c72f0     70960  Сумка-тележка 2-х колесная Gimi Argo красная         1  1087.0  2019 2019-08-01\n",
       "6140 2019-08-19 18:00:00  57cc80a2-2610-4eef-9457-e7c3bf0c72f0     70960  Сумка-тележка 2-х колесная Gimi Argo красная         1  1087.0  2019 2019-08-01\n",
       "6183 2019-08-26 09:00:00  57cc80a2-2610-4eef-9457-e7c3bf0c72f0     70960  Сумка-тележка 2-х колесная Gimi Argo красная         1  1087.0  2019 2019-08-01\n",
       "6194 2019-08-26 19:00:00  57cc80a2-2610-4eef-9457-e7c3bf0c72f0     70960  Сумка-тележка 2-х колесная Gimi Argo красная         1  1087.0  2019 2019-08-01\n",
       "6235 2019-09-02 09:00:00  57cc80a2-2610-4eef-9457-e7c3bf0c72f0     70960  Сумка-тележка 2-х колесная Gimi Argo красная         1  1087.0  2019 2019-09-01\n",
       "6247 2019-09-04 09:00:00  57cc80a2-2610-4eef-9457-e7c3bf0c72f0     70960  Сумка-тележка 2-х колесная Gimi Argo красная         1  1087.0  2019 2019-09-01\n",
       "6284 2019-09-09 13:00:00  57cc80a2-2610-4eef-9457-e7c3bf0c72f0     70960  Сумка-тележка 2-х колесная Gimi Argo красная         1  1087.0  2019 2019-09-01\n",
       "6317 2019-09-12 22:00:00  57cc80a2-2610-4eef-9457-e7c3bf0c72f0     70960  Сумка-тележка 2-х колесная Gimi Argo красная         1  1087.0  2019 2019-09-01\n",
       "6335 2019-09-16 11:00:00  57cc80a2-2610-4eef-9457-e7c3bf0c72f0     70960  Сумка-тележка 2-х колесная Gimi Argo красная         1  1087.0  2019 2019-09-01\n",
       "6354 2019-09-18 20:00:00  57cc80a2-2610-4eef-9457-e7c3bf0c72f0     70960  Сумка-тележка 2-х колесная Gimi Argo красная         1  1087.0  2019 2019-09-01\n",
       "6419 2019-09-24 10:00:00  57cc80a2-2610-4eef-9457-e7c3bf0c72f0     70960  Сумка-тележка 2-х колесная Gimi Argo красная         1  1087.0  2019 2019-09-01\n",
       "6581 2019-10-11 10:00:00  57cc80a2-2610-4eef-9457-e7c3bf0c72f0     70960  Сумка-тележка 2-х колесная Gimi Argo красная         1  1087.0  2019 2019-10-01\n",
       "6670 2019-10-21 12:00:00  57cc80a2-2610-4eef-9457-e7c3bf0c72f0     70960  Сумка-тележка 2-х колесная Gimi Argo красная         1  1087.0  2019 2019-10-01\n",
       "6673 2019-10-22 09:00:00  57cc80a2-2610-4eef-9457-e7c3bf0c72f0     70960  Сумка-тележка 2-х колесная Gimi Argo красная         1  1087.0  2019 2019-10-01\n",
       "6705 2019-10-28 08:00:00  57cc80a2-2610-4eef-9457-e7c3bf0c72f0     70960  Сумка-тележка 2-х колесная Gimi Argo красная         1  1087.0  2019 2019-10-01\n",
       "6706 2019-10-28 10:00:00  57cc80a2-2610-4eef-9457-e7c3bf0c72f0     70960  Сумка-тележка 2-х колесная Gimi Argo красная         1  1087.0  2019 2019-10-01"
      ]
     },
     "execution_count": 15,
     "metadata": {},
     "output_type": "execute_result"
    }
   ],
   "source": [
    "ecom_df[ecom_df['order_id'] == 70960]"
   ]
  },
  {
   "cell_type": "markdown",
   "metadata": {},
   "source": [
    "Действительно, выглядит очень странно: клиент сделал один и тот же заказ в разное время или же в разные дни на один и тот же товар. Например, заказ `68474`, мы имеем 6 дублей с одним и тем же товаром - `Доска гладильная Eurogold Professional 130х48 см металлическая сетка 35748W`. Это явно не тот товар, который можно заказывать каждый день."
   ]
  },
  {
   "cell_type": "markdown",
   "metadata": {},
   "source": [
    "Предположим, что это техническая ошибка и попробуем узнать какое количество записей имеется для каждого такого заказа."
   ]
  },
  {
   "cell_type": "code",
   "execution_count": 16,
   "metadata": {},
   "outputs": [
    {
     "data": {
      "text/html": [
       "<div>\n",
       "<style scoped>\n",
       "    .dataframe tbody tr th:only-of-type {\n",
       "        vertical-align: middle;\n",
       "    }\n",
       "\n",
       "    .dataframe tbody tr th {\n",
       "        vertical-align: top;\n",
       "    }\n",
       "\n",
       "    .dataframe thead th {\n",
       "        text-align: right;\n",
       "    }\n",
       "</style>\n",
       "<table border=\"1\" class=\"dataframe\">\n",
       "  <thead>\n",
       "    <tr style=\"text-align: right;\">\n",
       "      <th></th>\n",
       "      <th>product</th>\n",
       "    </tr>\n",
       "    <tr>\n",
       "      <th>order_id</th>\n",
       "      <th></th>\n",
       "    </tr>\n",
       "  </thead>\n",
       "  <tbody>\n",
       "    <tr>\n",
       "      <th>14833</th>\n",
       "      <td>876</td>\n",
       "    </tr>\n",
       "    <tr>\n",
       "      <th>14835</th>\n",
       "      <td>174</td>\n",
       "    </tr>\n",
       "    <tr>\n",
       "      <th>14753</th>\n",
       "      <td>60</td>\n",
       "    </tr>\n",
       "    <tr>\n",
       "      <th>70960</th>\n",
       "      <td>59</td>\n",
       "    </tr>\n",
       "    <tr>\n",
       "      <th>14897</th>\n",
       "      <td>37</td>\n",
       "    </tr>\n",
       "    <tr>\n",
       "      <th>...</th>\n",
       "      <td>...</td>\n",
       "    </tr>\n",
       "    <tr>\n",
       "      <th>70647</th>\n",
       "      <td>1</td>\n",
       "    </tr>\n",
       "    <tr>\n",
       "      <th>70721</th>\n",
       "      <td>1</td>\n",
       "    </tr>\n",
       "    <tr>\n",
       "      <th>70726</th>\n",
       "      <td>1</td>\n",
       "    </tr>\n",
       "    <tr>\n",
       "      <th>70742</th>\n",
       "      <td>1</td>\n",
       "    </tr>\n",
       "    <tr>\n",
       "      <th>73137</th>\n",
       "      <td>1</td>\n",
       "    </tr>\n",
       "  </tbody>\n",
       "</table>\n",
       "<p>257 rows × 1 columns</p>\n",
       "</div>"
      ],
      "text/plain": [
       "          product\n",
       "order_id         \n",
       "14833         876\n",
       "14835         174\n",
       "14753          60\n",
       "70960          59\n",
       "14897          37\n",
       "...           ...\n",
       "70647           1\n",
       "70721           1\n",
       "70726           1\n",
       "70742           1\n",
       "73137           1\n",
       "\n",
       "[257 rows x 1 columns]"
      ]
     },
     "execution_count": 16,
     "metadata": {},
     "output_type": "execute_result"
    }
   ],
   "source": [
    "(\n",
    "    ecom_df[ecom_df[['customer_id', 'order_id', 'product']].duplicated()]\n",
    "    .groupby('order_id')['product']\n",
    "    .agg('count')\n",
    "    .sort_values(ascending=False)\n",
    "    .to_frame()\n",
    ")"
   ]
  },
  {
   "cell_type": "markdown",
   "metadata": {},
   "source": [
    "У заказа с ID `14833` в таблице имеется `876` записей, что составляет чуть больше `1%` от общего количества записей. Если мы предполагаем, что подобные дубли это техническая ошибка, то при дальнейшем анализе мы можем получить более оптимистичные результаты, чем есть на самом деле, присвоив одним и тем же клиентам больше продаж, чем они совершили фактически.  \n",
    "Хоть доля таких записей достаточно большая и составляет `27%`, но лучше получить чуть менее реалистичные прогнозы, чем чересчур оптимистичные.  \n",
    "Оснований предполагать, что в дубли попали разные заказы, у нас нет, поэтому правильнее будет избавиться от таких дублей, оставив только самую первую запись с самой ранней датой для каждого заказа и сообщить о подобных ситуациях технической поддержке. \n",
    "\n",
    "Возможно, мы получим комментарии от тех.поддержки, которые позволят нам подправить данное исследование в дальнейшем."
   ]
  },
  {
   "cell_type": "code",
   "execution_count": 17,
   "metadata": {},
   "outputs": [],
   "source": [
    "# удаляем дубли из датасета\n",
    "clean_ecom_df = (\n",
    "    ecom_df.groupby(['customer_id', 'order_id', 'product', 'quantity', 'price'])\n",
    "    .agg({'date': 'first', 'year': 'first', 'month': 'first'})\n",
    "    .reset_index()\n",
    ")"
   ]
  },
  {
   "cell_type": "markdown",
   "metadata": {},
   "source": [
    "Проверим может ли повторяться ID заказа у разных клиентов."
   ]
  },
  {
   "cell_type": "code",
   "execution_count": 18,
   "metadata": {},
   "outputs": [
    {
     "data": {
      "text/plain": [
       "1    2755\n",
       "2      26\n",
       "3       2\n",
       "4       1\n",
       "Name: customer_id, dtype: int64"
      ]
     },
     "execution_count": 18,
     "metadata": {},
     "output_type": "execute_result"
    }
   ],
   "source": [
    "(\n",
    "    clean_ecom_df.groupby(['order_id'])['customer_id']\n",
    "    .agg('nunique')\n",
    "    .sort_values(ascending=False)\n",
    "    .value_counts()\n",
    ")"
   ]
  },
  {
   "cell_type": "markdown",
   "metadata": {},
   "source": [
    "Мы имеем 29 случаев, когда один и тот же номер заказа был присвоен разным клиентам. Стоит уточнить у технических специалистов, из-за чего могла возникнуть такая ситуация, т.к. это похоже больше на техническую ошибку.  \n",
    "В любом случае таких ситуаций не много и проще будет исключить их из анализа."
   ]
  },
  {
   "cell_type": "code",
   "execution_count": 19,
   "metadata": {},
   "outputs": [],
   "source": [
    "# создадим список с ID заказов, которые были присвоены более, чем 1 клиенту\n",
    "bad_order_ids = list(\n",
    "    clean_ecom_df.groupby(['order_id'])['customer_id']\n",
    "    .agg('nunique')\n",
    "    .sort_values(ascending=False)\n",
    "    .reset_index()\n",
    "    .query('customer_id > 1')['order_id']\n",
    ")\n",
    "\n",
    "# отфильтруем изначальный датасет и исключим проблемные заказы\n",
    "# перезапишем исходный датасет\n",
    "clean_ecom_df = clean_ecom_df[~clean_ecom_df['order_id'].isin(bad_order_ids)].reset_index()\n",
    "\n",
    "# удалим колонку с индексом\n",
    "clean_ecom_df.drop(columns='index', inplace=True)"
   ]
  },
  {
   "cell_type": "markdown",
   "metadata": {},
   "source": [
    "Посмотрим на распределение ID заказов. Построим гистограмму."
   ]
  },
  {
   "cell_type": "code",
   "execution_count": 20,
   "metadata": {},
   "outputs": [
    {
     "data": {
      "image/png": "[encoded data removed]",
      "text/plain": [
       "<Figure size 720x432 with 1 Axes>"
      ]
     },
     "metadata": {
      "needs_background": "light"
     },
     "output_type": "display_data"
    }
   ],
   "source": [
    "plt.figure(figsize=(10, 6))\n",
    "clean_ecom_df['order_id'].hist(bins=50)\n",
    "plt.title('Распределение ID заказов')\n",
    "plt.show()"
   ]
  },
  {
   "cell_type": "markdown",
   "metadata": {},
   "source": [
    "На гистограмме мы видим, что часть ID заказов находится в диапазоне от 0 до 20000, а часть в диапазоне от 60000 и выше. Между этими двумя диапазонами ID заказов отсутствуют. Изучим подробнее из-за чего происходит такое разделение ID заказов."
   ]
  },
  {
   "cell_type": "code",
   "execution_count": 21,
   "metadata": {
    "scrolled": true
   },
   "outputs": [
    {
     "data": {
      "text/html": [
       "<div>\n",
       "<style scoped>\n",
       "    .dataframe tbody tr th:only-of-type {\n",
       "        vertical-align: middle;\n",
       "    }\n",
       "\n",
       "    .dataframe tbody tr th {\n",
       "        vertical-align: top;\n",
       "    }\n",
       "\n",
       "    .dataframe thead th {\n",
       "        text-align: right;\n",
       "    }\n",
       "</style>\n",
       "<table border=\"1\" class=\"dataframe\">\n",
       "  <thead>\n",
       "    <tr style=\"text-align: right;\">\n",
       "      <th></th>\n",
       "      <th>customer_id</th>\n",
       "      <th>order_id</th>\n",
       "      <th>product</th>\n",
       "      <th>quantity</th>\n",
       "      <th>price</th>\n",
       "      <th>date</th>\n",
       "      <th>year</th>\n",
       "      <th>month</th>\n",
       "    </tr>\n",
       "  </thead>\n",
       "  <tbody>\n",
       "    <tr>\n",
       "      <th>0</th>\n",
       "      <td>000d6849-084e-4d9f-ac03-37174eaf60c4</td>\n",
       "      <td>14943</td>\n",
       "      <td>Пеларгония зональная диам. 12 см темнорозовая полумахровая</td>\n",
       "      <td>1</td>\n",
       "      <td>150.0</td>\n",
       "      <td>2019-10-16 08:00:00</td>\n",
       "      <td>2019</td>\n",
       "      <td>2019-10-01</td>\n",
       "    </tr>\n",
       "    <tr>\n",
       "      <th>1</th>\n",
       "      <td>000d6849-084e-4d9f-ac03-37174eaf60c4</td>\n",
       "      <td>14943</td>\n",
       "      <td>Пеларгония розебудная Queen Ingrid укорененный черенок</td>\n",
       "      <td>1</td>\n",
       "      <td>135.0</td>\n",
       "      <td>2019-10-16 08:00:00</td>\n",
       "      <td>2019</td>\n",
       "      <td>2019-10-01</td>\n",
       "    </tr>\n",
       "    <tr>\n",
       "      <th>2</th>\n",
       "      <td>000d6849-084e-4d9f-ac03-37174eaf60c4</td>\n",
       "      <td>14943</td>\n",
       "      <td>Пеларгония розебудная Rosebud Red d-7 см</td>\n",
       "      <td>1</td>\n",
       "      <td>135.0</td>\n",
       "      <td>2019-10-16 08:00:00</td>\n",
       "      <td>2019</td>\n",
       "      <td>2019-10-01</td>\n",
       "    </tr>\n",
       "    <tr>\n",
       "      <th>3</th>\n",
       "      <td>000d6849-084e-4d9f-ac03-37174eaf60c4</td>\n",
       "      <td>14943</td>\n",
       "      <td>Пеларгония тюльпановидная EMMA</td>\n",
       "      <td>1</td>\n",
       "      <td>135.0</td>\n",
       "      <td>2019-10-16 08:00:00</td>\n",
       "      <td>2019</td>\n",
       "      <td>2019-10-01</td>\n",
       "    </tr>\n",
       "    <tr>\n",
       "      <th>19</th>\n",
       "      <td>0184f535-b60a-4914-a982-231e3f615206</td>\n",
       "      <td>14566</td>\n",
       "      <td>Пеларгония розебудная Margaretha укорененный черенок</td>\n",
       "      <td>1</td>\n",
       "      <td>135.0</td>\n",
       "      <td>2019-03-07 10:00:00</td>\n",
       "      <td>2019</td>\n",
       "      <td>2019-03-01</td>\n",
       "    </tr>\n",
       "    <tr>\n",
       "      <th>...</th>\n",
       "      <td>...</td>\n",
       "      <td>...</td>\n",
       "      <td>...</td>\n",
       "      <td>...</td>\n",
       "      <td>...</td>\n",
       "      <td>...</td>\n",
       "      <td>...</td>\n",
       "      <td>...</td>\n",
       "    </tr>\n",
       "    <tr>\n",
       "      <th>4729</th>\n",
       "      <td>fb117193-682f-44ab-b9fe-e9be18801e36</td>\n",
       "      <td>14580</td>\n",
       "      <td>Пеларгония розебудная Queen Ingrid укорененный черенок</td>\n",
       "      <td>1</td>\n",
       "      <td>135.0</td>\n",
       "      <td>2019-03-18 19:00:00</td>\n",
       "      <td>2019</td>\n",
       "      <td>2019-03-01</td>\n",
       "    </tr>\n",
       "    <tr>\n",
       "      <th>4730</th>\n",
       "      <td>fb117193-682f-44ab-b9fe-e9be18801e36</td>\n",
       "      <td>14580</td>\n",
       "      <td>Пеларгония розебудная Red Pandora укорененный черенок</td>\n",
       "      <td>1</td>\n",
       "      <td>135.0</td>\n",
       "      <td>2019-03-18 19:00:00</td>\n",
       "      <td>2019</td>\n",
       "      <td>2019-03-01</td>\n",
       "    </tr>\n",
       "    <tr>\n",
       "      <th>4773</th>\n",
       "      <td>fc9641ba-8f74-45de-a60a-342d2e0dd7af</td>\n",
       "      <td>14794</td>\n",
       "      <td>томата (помидор) Земляника оранжевая №31 сорт индетерминантный среднеспелый оранжевый</td>\n",
       "      <td>2</td>\n",
       "      <td>38.0</td>\n",
       "      <td>2019-05-19 13:00:00</td>\n",
       "      <td>2019</td>\n",
       "      <td>2019-05-01</td>\n",
       "    </tr>\n",
       "    <tr>\n",
       "      <th>4774</th>\n",
       "      <td>fc9641ba-8f74-45de-a60a-342d2e0dd7af</td>\n",
       "      <td>14794</td>\n",
       "      <td>томата (помидор) Король красоты №46 сорт индетерминантный среднеспелый оранжевый</td>\n",
       "      <td>2</td>\n",
       "      <td>38.0</td>\n",
       "      <td>2019-05-19 13:00:00</td>\n",
       "      <td>2019</td>\n",
       "      <td>2019-05-01</td>\n",
       "    </tr>\n",
       "    <tr>\n",
       "      <th>4784</th>\n",
       "      <td>fd9e34ca-13c6-486d-bc47-366fbfe488f8</td>\n",
       "      <td>14792</td>\n",
       "      <td>Пеларгония розебудная Red Pandora укорененный черенок</td>\n",
       "      <td>1</td>\n",
       "      <td>135.0</td>\n",
       "      <td>2019-05-18 18:00:00</td>\n",
       "      <td>2019</td>\n",
       "      <td>2019-05-01</td>\n",
       "    </tr>\n",
       "  </tbody>\n",
       "</table>\n",
       "<p>1939 rows × 8 columns</p>\n",
       "</div>"
      ],
      "text/plain": [
       "                               customer_id  order_id                                                                                product  quantity  price                date  year      month\n",
       "0     000d6849-084e-4d9f-ac03-37174eaf60c4     14943                             Пеларгония зональная диам. 12 см темнорозовая полумахровая         1  150.0 2019-10-16 08:00:00  2019 2019-10-01\n",
       "1     000d6849-084e-4d9f-ac03-37174eaf60c4     14943                                 Пеларгония розебудная Queen Ingrid укорененный черенок         1  135.0 2019-10-16 08:00:00  2019 2019-10-01\n",
       "2     000d6849-084e-4d9f-ac03-37174eaf60c4     14943                                               Пеларгония розебудная Rosebud Red d-7 см         1  135.0 2019-10-16 08:00:00  2019 2019-10-01\n",
       "3     000d6849-084e-4d9f-ac03-37174eaf60c4     14943                                                         Пеларгония тюльпановидная EMMA         1  135.0 2019-10-16 08:00:00  2019 2019-10-01\n",
       "19    0184f535-b60a-4914-a982-231e3f615206     14566                                   Пеларгония розебудная Margaretha укорененный черенок         1  135.0 2019-03-07 10:00:00  2019 2019-03-01\n",
       "...                                    ...       ...                                                                                    ...       ...    ...                 ...   ...        ...\n",
       "4729  fb117193-682f-44ab-b9fe-e9be18801e36     14580                                 Пеларгония розебудная Queen Ingrid укорененный черенок         1  135.0 2019-03-18 19:00:00  2019 2019-03-01\n",
       "4730  fb117193-682f-44ab-b9fe-e9be18801e36     14580                                  Пеларгония розебудная Red Pandora укорененный черенок         1  135.0 2019-03-18 19:00:00  2019 2019-03-01\n",
       "4773  fc9641ba-8f74-45de-a60a-342d2e0dd7af     14794  томата (помидор) Земляника оранжевая №31 сорт индетерминантный среднеспелый оранжевый         2   38.0 2019-05-19 13:00:00  2019 2019-05-01\n",
       "4774  fc9641ba-8f74-45de-a60a-342d2e0dd7af     14794       томата (помидор) Король красоты №46 сорт индетерминантный среднеспелый оранжевый         2   38.0 2019-05-19 13:00:00  2019 2019-05-01\n",
       "4784  fd9e34ca-13c6-486d-bc47-366fbfe488f8     14792                                  Пеларгония розебудная Red Pandora укорененный черенок         1  135.0 2019-05-18 18:00:00  2019 2019-05-01\n",
       "\n",
       "[1939 rows x 8 columns]"
      ]
     },
     "execution_count": 21,
     "metadata": {},
     "output_type": "execute_result"
    }
   ],
   "source": [
    "# выведем заказы с ID меньше 30000\n",
    "\n",
    "clean_ecom_df[clean_ecom_df['order_id'] < 30000]"
   ]
  },
  {
   "cell_type": "code",
   "execution_count": 22,
   "metadata": {},
   "outputs": [
    {
     "name": "stdout",
     "output_type": "stream",
     "text": [
      "2018-10-02 11:00:00\n",
      "2019-10-22 13:00:00\n"
     ]
    }
   ],
   "source": [
    "# выведем минимальную и максимальную даты заказов\n",
    "\n",
    "print(clean_ecom_df[clean_ecom_df['order_id'] < 30000]['date'].min())\n",
    "print(clean_ecom_df[clean_ecom_df['order_id'] < 30000]['date'].max())"
   ]
  },
  {
   "cell_type": "code",
   "execution_count": 23,
   "metadata": {
    "scrolled": true
   },
   "outputs": [
    {
     "data": {
      "text/html": [
       "<div>\n",
       "<style scoped>\n",
       "    .dataframe tbody tr th:only-of-type {\n",
       "        vertical-align: middle;\n",
       "    }\n",
       "\n",
       "    .dataframe tbody tr th {\n",
       "        vertical-align: top;\n",
       "    }\n",
       "\n",
       "    .dataframe thead th {\n",
       "        text-align: right;\n",
       "    }\n",
       "</style>\n",
       "<table border=\"1\" class=\"dataframe\">\n",
       "  <thead>\n",
       "    <tr style=\"text-align: right;\">\n",
       "      <th></th>\n",
       "      <th>customer_id</th>\n",
       "      <th>order_id</th>\n",
       "      <th>product</th>\n",
       "      <th>quantity</th>\n",
       "      <th>price</th>\n",
       "      <th>date</th>\n",
       "      <th>year</th>\n",
       "      <th>month</th>\n",
       "    </tr>\n",
       "  </thead>\n",
       "  <tbody>\n",
       "    <tr>\n",
       "      <th>4</th>\n",
       "      <td>001cee7f-0b29-4716-b202-0042213ab038</td>\n",
       "      <td>70290</td>\n",
       "      <td>Сушилка для белья потолочная ЛИАНА ЛЮКС 150 см ЛЛП-150</td>\n",
       "      <td>1</td>\n",
       "      <td>442.0</td>\n",
       "      <td>2019-02-16 11:00:00</td>\n",
       "      <td>2019</td>\n",
       "      <td>2019-02-01</td>\n",
       "    </tr>\n",
       "    <tr>\n",
       "      <th>5</th>\n",
       "      <td>00299f34-5385-4d13-9aea-c80b81658e1b</td>\n",
       "      <td>72965</td>\n",
       "      <td>Ткань для окон Duo для влажной и сухой чистки 200*200 мм, Leifheit, 40002</td>\n",
       "      <td>2</td>\n",
       "      <td>457.0</td>\n",
       "      <td>2019-10-14 23:00:00</td>\n",
       "      <td>2019</td>\n",
       "      <td>2019-10-01</td>\n",
       "    </tr>\n",
       "    <tr>\n",
       "      <th>6</th>\n",
       "      <td>002d4d3a-4a59-406b-86ec-c3314357e498</td>\n",
       "      <td>69990</td>\n",
       "      <td>Сумка-тележка 2-х колесная складная Gimi Flexi серая</td>\n",
       "      <td>1</td>\n",
       "      <td>1649.0</td>\n",
       "      <td>2019-01-27 17:00:00</td>\n",
       "      <td>2019</td>\n",
       "      <td>2019-01-01</td>\n",
       "    </tr>\n",
       "    <tr>\n",
       "      <th>7</th>\n",
       "      <td>003bbd39-0000-41ff-b7f9-2ddaec152037</td>\n",
       "      <td>72796</td>\n",
       "      <td>Стеллаж для обуви TELIO-370 венге OPT-370V</td>\n",
       "      <td>2</td>\n",
       "      <td>1162.0</td>\n",
       "      <td>2019-09-29 17:00:00</td>\n",
       "      <td>2019</td>\n",
       "      <td>2019-09-01</td>\n",
       "    </tr>\n",
       "    <tr>\n",
       "      <th>8</th>\n",
       "      <td>004d24e9-4a6c-4d0e-8727-8391dfd4b43a</td>\n",
       "      <td>69987</td>\n",
       "      <td>Вешалка-перекладина Valiant металлическая двойная с антискользящим покрытием 50320</td>\n",
       "      <td>12</td>\n",
       "      <td>128.0</td>\n",
       "      <td>2019-01-27 12:00:00</td>\n",
       "      <td>2019</td>\n",
       "      <td>2019-01-01</td>\n",
       "    </tr>\n",
       "    <tr>\n",
       "      <th>...</th>\n",
       "      <td>...</td>\n",
       "      <td>...</td>\n",
       "      <td>...</td>\n",
       "      <td>...</td>\n",
       "      <td>...</td>\n",
       "      <td>...</td>\n",
       "      <td>...</td>\n",
       "      <td>...</td>\n",
       "    </tr>\n",
       "    <tr>\n",
       "      <th>4802</th>\n",
       "      <td>ff601403-b094-4b86-9ac6-264d725b9277</td>\n",
       "      <td>72313</td>\n",
       "      <td>Сумка-тележка 2-х колесная складная Gimi Flexi зеленая</td>\n",
       "      <td>1</td>\n",
       "      <td>1649.0</td>\n",
       "      <td>2019-08-16 16:00:00</td>\n",
       "      <td>2019</td>\n",
       "      <td>2019-08-01</td>\n",
       "    </tr>\n",
       "    <tr>\n",
       "      <th>4803</th>\n",
       "      <td>ffaeab76-3a8d-49ee-860f-17273b2fc8a2</td>\n",
       "      <td>73136</td>\n",
       "      <td>Таз пластмассовый со стиральной доской (Иж), 1404021</td>\n",
       "      <td>1</td>\n",
       "      <td>397.0</td>\n",
       "      <td>2019-10-30 07:00:00</td>\n",
       "      <td>2019</td>\n",
       "      <td>2019-10-01</td>\n",
       "    </tr>\n",
       "    <tr>\n",
       "      <th>4804</th>\n",
       "      <td>ffb5976a-7a4d-460b-95c4-5ffaba31cb24</td>\n",
       "      <td>69369</td>\n",
       "      <td>Новогоднее дерево Ель канадская Коника ртк 343 d-9 см</td>\n",
       "      <td>1</td>\n",
       "      <td>389.0</td>\n",
       "      <td>2018-12-14 23:00:00</td>\n",
       "      <td>2018</td>\n",
       "      <td>2018-12-01</td>\n",
       "    </tr>\n",
       "    <tr>\n",
       "      <th>4805</th>\n",
       "      <td>ffb80538-3fda-4351-8ea9-9d2bec58bb07</td>\n",
       "      <td>72561</td>\n",
       "      <td>Стакан для ванной комнаты ETNA SHINY керамика 12,5х9,5 см коричневый, Spirella, 1016116</td>\n",
       "      <td>1</td>\n",
       "      <td>974.0</td>\n",
       "      <td>2019-09-09 12:00:00</td>\n",
       "      <td>2019</td>\n",
       "      <td>2019-09-01</td>\n",
       "    </tr>\n",
       "    <tr>\n",
       "      <th>4806</th>\n",
       "      <td>ffe82299-3f5b-4214-87fe-3d36ecccfac3</td>\n",
       "      <td>73060</td>\n",
       "      <td>Сушилка для белья потолочная Лиана 1,8 м 1703007</td>\n",
       "      <td>1</td>\n",
       "      <td>577.0</td>\n",
       "      <td>2019-10-22 13:00:00</td>\n",
       "      <td>2019</td>\n",
       "      <td>2019-10-01</td>\n",
       "    </tr>\n",
       "  </tbody>\n",
       "</table>\n",
       "<p>2868 rows × 8 columns</p>\n",
       "</div>"
      ],
      "text/plain": [
       "                               customer_id  order_id                                                                                  product  quantity   price                date  year      month\n",
       "4     001cee7f-0b29-4716-b202-0042213ab038     70290                                   Сушилка для белья потолочная ЛИАНА ЛЮКС 150 см ЛЛП-150         1   442.0 2019-02-16 11:00:00  2019 2019-02-01\n",
       "5     00299f34-5385-4d13-9aea-c80b81658e1b     72965                Ткань для окон Duo для влажной и сухой чистки 200*200 мм, Leifheit, 40002         2   457.0 2019-10-14 23:00:00  2019 2019-10-01\n",
       "6     002d4d3a-4a59-406b-86ec-c3314357e498     69990                                     Сумка-тележка 2-х колесная складная Gimi Flexi серая         1  1649.0 2019-01-27 17:00:00  2019 2019-01-01\n",
       "7     003bbd39-0000-41ff-b7f9-2ddaec152037     72796                                               Стеллаж для обуви TELIO-370 венге OPT-370V         2  1162.0 2019-09-29 17:00:00  2019 2019-09-01\n",
       "8     004d24e9-4a6c-4d0e-8727-8391dfd4b43a     69987       Вешалка-перекладина Valiant металлическая двойная с антискользящим покрытием 50320        12   128.0 2019-01-27 12:00:00  2019 2019-01-01\n",
       "...                                    ...       ...                                                                                      ...       ...     ...                 ...   ...        ...\n",
       "4802  ff601403-b094-4b86-9ac6-264d725b9277     72313                                   Сумка-тележка 2-х колесная складная Gimi Flexi зеленая         1  1649.0 2019-08-16 16:00:00  2019 2019-08-01\n",
       "4803  ffaeab76-3a8d-49ee-860f-17273b2fc8a2     73136                                     Таз пластмассовый со стиральной доской (Иж), 1404021         1   397.0 2019-10-30 07:00:00  2019 2019-10-01\n",
       "4804  ffb5976a-7a4d-460b-95c4-5ffaba31cb24     69369                                    Новогоднее дерево Ель канадская Коника ртк 343 d-9 см         1   389.0 2018-12-14 23:00:00  2018 2018-12-01\n",
       "4805  ffb80538-3fda-4351-8ea9-9d2bec58bb07     72561  Стакан для ванной комнаты ETNA SHINY керамика 12,5х9,5 см коричневый, Spirella, 1016116         1   974.0 2019-09-09 12:00:00  2019 2019-09-01\n",
       "4806  ffe82299-3f5b-4214-87fe-3d36ecccfac3     73060                                         Сушилка для белья потолочная Лиана 1,8 м 1703007         1   577.0 2019-10-22 13:00:00  2019 2019-10-01\n",
       "\n",
       "[2868 rows x 8 columns]"
      ]
     },
     "execution_count": 23,
     "metadata": {},
     "output_type": "execute_result"
    }
   ],
   "source": [
    "# выведем заказы с ID больше 30000\n",
    "\n",
    "clean_ecom_df[clean_ecom_df['order_id'] > 30000]"
   ]
  },
  {
   "cell_type": "code",
   "execution_count": 24,
   "metadata": {},
   "outputs": [
    {
     "name": "stdout",
     "output_type": "stream",
     "text": [
      "2018-10-01 00:00:00\n",
      "2019-10-31 14:00:00\n"
     ]
    }
   ],
   "source": [
    "# выведем минимальную и максимальную даты заказов\n",
    "\n",
    "print(clean_ecom_df[clean_ecom_df['order_id'] > 30000]['date'].min())\n",
    "print(clean_ecom_df[clean_ecom_df['order_id'] > 30000]['date'].max())"
   ]
  },
  {
   "cell_type": "code",
   "execution_count": 25,
   "metadata": {},
   "outputs": [
    {
     "data": {
      "text/html": [
       "<div>\n",
       "<style scoped>\n",
       "    .dataframe tbody tr th:only-of-type {\n",
       "        vertical-align: middle;\n",
       "    }\n",
       "\n",
       "    .dataframe tbody tr th {\n",
       "        vertical-align: top;\n",
       "    }\n",
       "\n",
       "    .dataframe thead th {\n",
       "        text-align: right;\n",
       "    }\n",
       "</style>\n",
       "<table border=\"1\" class=\"dataframe\">\n",
       "  <thead>\n",
       "    <tr style=\"text-align: right;\">\n",
       "      <th></th>\n",
       "      <th>customer_id</th>\n",
       "      <th>order_id</th>\n",
       "      <th>product</th>\n",
       "      <th>quantity</th>\n",
       "      <th>price</th>\n",
       "      <th>date</th>\n",
       "      <th>year</th>\n",
       "      <th>month</th>\n",
       "    </tr>\n",
       "  </thead>\n",
       "  <tbody>\n",
       "    <tr>\n",
       "      <th>2948</th>\n",
       "      <td>a20fa81f-233b-434b-90a2-5c8f80dd2119</td>\n",
       "      <td>56879</td>\n",
       "      <td>Банка из стекла для сыпучих продуктов круглой с пластмассовой крышкой и цветной вкладкой 1,0л 10МР-0001</td>\n",
       "      <td>5</td>\n",
       "      <td>52.0</td>\n",
       "      <td>2018-11-27 19:00:00</td>\n",
       "      <td>2018</td>\n",
       "      <td>2018-11-01</td>\n",
       "    </tr>\n",
       "  </tbody>\n",
       "</table>\n",
       "</div>"
      ],
      "text/plain": [
       "                               customer_id  order_id                                                                                                  product  quantity  price                date  year      month\n",
       "2948  a20fa81f-233b-434b-90a2-5c8f80dd2119     56879  Банка из стекла для сыпучих продуктов круглой с пластмассовой крышкой и цветной вкладкой 1,0л 10МР-0001         5   52.0 2018-11-27 19:00:00  2018 2018-11-01"
      ]
     },
     "execution_count": 25,
     "metadata": {},
     "output_type": "execute_result"
    }
   ],
   "source": [
    "# выведем заказы с ID между 15000 и 60000\n",
    "\n",
    "clean_ecom_df[(clean_ecom_df['order_id'] < 60000) & (clean_ecom_df['order_id'] > 15000)]"
   ]
  },
  {
   "cell_type": "markdown",
   "metadata": {},
   "source": [
    "Какой-то разницы в периодах у заказов с ID из разных диапазонов нет. Возможно, дело в товарах - для определенного сегмента товаров ведется свой диапазон ID заказов.\n",
    "Проверим это посчитав уникальное количество наименований в двух диапазонах и сравнив с количеством уникальных наименований по всему датасету."
   ]
  },
  {
   "cell_type": "code",
   "execution_count": 26,
   "metadata": {},
   "outputs": [
    {
     "data": {
      "text/plain": [
       "2342"
      ]
     },
     "execution_count": 26,
     "metadata": {},
     "output_type": "execute_result"
    }
   ],
   "source": [
    "# сумма количества уникальных наименований из двух диапазонов\n",
    "(\n",
    "    len(clean_ecom_df[clean_ecom_df['order_id'] < 30000]['product'].unique()) \n",
    "    + len(list(clean_ecom_df[clean_ecom_df['order_id'] > 30000]['product'].unique()))\n",
    ")"
   ]
  },
  {
   "cell_type": "code",
   "execution_count": 27,
   "metadata": {},
   "outputs": [
    {
     "data": {
      "text/plain": [
       "2331"
      ]
     },
     "execution_count": 27,
     "metadata": {},
     "output_type": "execute_result"
    }
   ],
   "source": [
    "# количество уникальных наименований во всем датасете\n",
    "len(list(clean_ecom_df['product'].unique()))"
   ]
  },
  {
   "cell_type": "markdown",
   "metadata": {},
   "source": [
    "Сумма наименований из двух диапазонов отличается от общей суммы  наименований на 11 позиций, что явно указывает на различия между содержимым заказов с ID заказов из одного диапазона и из другого."
   ]
  },
  {
   "cell_type": "markdown",
   "metadata": {},
   "source": [
    "Посмотрим на списки содержимых заказов по каждому диапазону."
   ]
  },
  {
   "cell_type": "code",
   "execution_count": 28,
   "metadata": {},
   "outputs": [
    {
     "data": {
      "text/plain": [
       "['Пеларгония зональная диам. 12 см темнорозовая полумахровая',\n",
       " 'Пеларгония розебудная Queen Ingrid укорененный черенок',\n",
       " 'Пеларгония розебудная Rosebud Red d-7 см',\n",
       " 'Пеларгония тюльпановидная EMMA',\n",
       " 'Пеларгония розебудная Margaretha укорененный черенок',\n",
       " 'Пеларгония розебудная Mary укорененный черенок',\n",
       " 'Пеларгония розебудная Prins Nikolai укорененный черенок',\n",
       " 'Пеларгония розебудная Red Pandora укорененный черенок',\n",
       " 'Рассада Капусты белокачанная поздняя Лидер, кассета по 10шт',\n",
       " 'Рассада Тыквы сорт Мускаде горшок 9х9 см P-9',\n",
       " 'Рассада перца болгарского сладкого Красное чудо, горшок диам 12',\n",
       " 'Рассада томата (помидор) Джессика № 50 сорт индетерминантный раннеспелый красный',\n",
       " 'Рассада томата (помидор) Сладкий Касади №76 сорт индетерминантный среднеспелый оранжевый',\n",
       " 'Рассада томата (помидор) Суперэкзотик № 109 сорт индетерминантный среднеспелый черный',\n",
       " 'Рассада томата (помидор) сорт Аделина, горшок диам 12',\n",
       " 'Рассада томата (помидор) сорт Де Барао золотой',\n",
       " 'Рассада томата (помидор) сорт Хурма, горшок диам 12',\n",
       " 'Бакопа ампельная махровая сиреневая махровая объем 0,5 л',\n",
       " 'Бакопа ампельная махровая фиолетовая махровая объем 0,5 л',\n",
       " 'Виола рассада однолетних цветов в кассете по 10 шт',\n",
       " 'Газания рассада однолетних цветов в кассете по 6 шт',\n",
       " 'Калибрахоа Aloha Double Purple сиреневая махровая объем 0,5 л',\n",
       " 'Калибрахоа Aloha Tiki Neon малиновая объем 0,5 л',\n",
       " 'Калибрахоа Bloomtastic Blossom розово-сиреневая объем 0,5 л',\n",
       " 'Калибрахоа Mini Famous Double Red красная махровая объем 0,5 л',\n",
       " 'Калибрахоа Rave Violet сиреневая звезда объем 0,5 л',\n",
       " 'Калибрахоа Sweet Bells Double Golden желтая махровая объем 0,5 л',\n",
       " 'Львиный зев рассада однолетних цветов в кассете по 6 шт',\n",
       " 'Петуния Surprice Yellow желтая с прожилками объем 0,5 л',\n",
       " 'Петуния Sweetunia Black Satin черная объем 0,5 л',\n",
       " 'Петуния махровая рассада однолетних цветов в кассете по 10 шт',\n",
       " 'томата (помидор) Баскью Блю №7 сорт детерминантный среднеспелый синий',\n",
       " 'Целозия гребенчатая рассада однолетних цветов в кассете по 10 шт',\n",
       " 'Газания рассада однолетних цветов в кассете по 10 шт',\n",
       " 'Арбуз Волгоградец Р-9',\n",
       " 'Петуния Surprise White белая объем 0,5 л',\n",
       " 'Рассада Арбуза сорт Огонек горшок 9х9 см P-9',\n",
       " 'Рассада Арбуза сорт Продюсер, горшок 9*9см',\n",
       " 'Рассада Арбуза сорт Сибирские огни, горшок 9*9см',\n",
       " 'Рассада Арбуза сорт Шуга Бэби горшок 9х9 см P-9',\n",
       " 'Пеларгония Toscana Angeleyes Amarillo Burgundy укорененный черенок',\n",
       " 'Пеларгония зональная РОЗОЦВЕТНАЯ Маргарита лососевая 5-7 листов',\n",
       " 'Пеларгония розебудная Emma укорененный черенок',\n",
       " 'Пеларгония розоцветная РЕД РОЗЕБУД молодые растения',\n",
       " 'Бакопа ампельная мега-крупная розовая объем 0,5 л',\n",
       " 'Пеларгония зональная диам. 12 см лососевая махровая',\n",
       " 'Пеларгония зональная диам. 12 см сиреневый полумахровый',\n",
       " 'Петуния Surfinia Doble Lilac светло-сиреневая махровая объем 0,5 л',\n",
       " 'Петуния Surprise Magenta Halo малиново-белая объем 0,5 л',\n",
       " 'Клен ложноплатановый Леопольди в горшке 3,5 л',\n",
       " 'Пеларгония зональная диам. 12 см коралловая полумахровая',\n",
       " 'Пеларгония зональная диам. 12 см малиново розовая простая',\n",
       " 'Пеларгония зональная диам. 12 см красная махровая',\n",
       " 'Пеларгония зональная махровая белая взрослое растение',\n",
       " 'Пеларгония зональная махровая лососевая',\n",
       " 'Пеларгония зональная диам. 12 см белая махровая',\n",
       " 'Пеларгония зональная диам. 12 см малиновая с красным полумахровая',\n",
       " 'Пеларгония зональная диам. 12 см розовая махровая',\n",
       " 'Пеларгония зональная диам. 12 см розовая полумахровая',\n",
       " 'Пеларгония зональная диам. 12 см розовая с малиновым полумахровая',\n",
       " 'Пеларгония зональная диам. 12 см ярко розовая махровая',\n",
       " 'Пеларгония зональная простая цвет фуксии взрослое растение',\n",
       " 'Флокс метельчатый сорт Мари, диаметр горшка 10см.',\n",
       " 'Флокс метельчатый сорт Морской петух Новый сорт, диаметр горшка 10см.',\n",
       " 'Флокс метельчатый сорт ПОЛИНА, диаметр горшка 10см.',\n",
       " 'Флокс метельчатый сорт Чурленис, диаметр горшка 10см.',\n",
       " 'Рассада зелени для кухни Лаванда Блю Райдер диам. 9 см',\n",
       " 'Рассада зелени для кухни Лаванды в горшке диам. 9 см',\n",
       " 'Рассада зелени для кухни Розмарин Блю Лагун диам. 9 см',\n",
       " 'Рассада зелени для кухни Розмарина в горшке диам. 9 см',\n",
       " 'Рассада пряной травы Кофе Арабика в горшке d-9 см',\n",
       " 'Аквилегия обыкновенная Барлоу микс объем 1 л',\n",
       " 'Базилик Смесь зеленого и фиолетового 0,4 г 4660010775433',\n",
       " 'Горох Амброзия 10,0 г 4660010772616',\n",
       " 'Земляника Барон Солемахер 0,04 г 4660010775556',\n",
       " 'Незабудка смесь 0,1 г 4650091480340',\n",
       " 'Рассада зелени для кухни Мята Морокан диам. 9 см',\n",
       " 'Рассада зелени для кухни Тимьян Дюн Валей диам. 9 см',\n",
       " 'Рассада зелени для кухни Тимьян Сильвер Кинг диам. 9 см',\n",
       " 'Седум почвопокровный смесь окрасок объем 1 л',\n",
       " 'Тимьян овощной Медок 0,1 г 4660010776423',\n",
       " 'Томат Балконное чудо 0,1 г 4660010772531',\n",
       " 'Укроп Обильнолистный 3,0 г 4660010772562',\n",
       " 'Однолетнее растение Бегония вечноцветущая в кассете по 4 шт, Россия',\n",
       " 'Однолетнее растение Вербена в кассете по 4 шт, Россия',\n",
       " 'Однолетнее растение Лобелия в кассете по 4 шт, Россия',\n",
       " 'Однолетнее растение Петуния простая в кассете по 4 шт, Россия',\n",
       " 'Пеларгония зональная махровая белая',\n",
       " 'Пеларгония зональная простая цвет фуксии',\n",
       " 'Бегония вечноцветущая рассада однолетних цветов в кассете по 6 шт',\n",
       " 'Однолетнее растение Петуния махровая в кассете 4 шт, Россия',\n",
       " 'Однолетнее растение Табак душистый в кассете по 4 шт, Россия',\n",
       " 'Петуния гибридная ампельная, диам. 12 см',\n",
       " 'Петуния гибридная ампельная, диам. 21 см',\n",
       " 'Петуния изи вейв рассада однолетних цветов в горшке диам. 12 см',\n",
       " 'Петуния махровая рассада однолетних цветов в кассете по 6 шт',\n",
       " 'Петуния рассада смесь цветов 5-6 листов Бургунди малиновая',\n",
       " 'Петуния рассада смесь цветов 5-6 листов розовая махровая',\n",
       " 'Петуния рассада смесь цветов 8-10 листов красная',\n",
       " 'Рассада зелени для кухни Кориандр в кассете 6 шт',\n",
       " 'Рассада зелени для кухни Мята Спэйниш диам. 9 см',\n",
       " 'Рассада зелени для кухни Мята Эппл Минт диам. 9 см',\n",
       " 'Рассада зелени для кухни Мяты в горшке диам. 9 см',\n",
       " 'Однолетнее растение Сальвия в кассете по 4 шт, Россия',\n",
       " 'Петуния махровая рассада однолетних цветов в горшке диам. 12 см',\n",
       " 'Петуния простая рассада однолетних цветов в кассете по 6 шт',\n",
       " 'Табак душистый рассада однолетних цветов в кассете по 6 шт',\n",
       " 'Фуксия ампельная, диам. 12 см',\n",
       " 'Рассада зелени для кухни Тимьян-чабрец розовый объем 0,5 л',\n",
       " 'Бегония клубневая Красная в горшке d-12',\n",
       " 'Бегония клубневая Оранжевая в горшке d-12',\n",
       " 'Рассада Пеларгония (герань) зональная Блу Айз Mix смесь объем 0,5 л',\n",
       " 'Однолетнее растение Портулак в кассете по 4 шт, Россия',\n",
       " 'Петуния Orange Morn оранжевая объем 0,5 л',\n",
       " 'Петуния Surfinia Blue Sky небесно-голубой объем 0,5 л',\n",
       " 'Фуксия Blue Angel синяя с белым чашелистом объем 0,5 л',\n",
       " 'Фуксия Dark Eyes синяя с красным чашелистом объем 0,5 л',\n",
       " 'Фуксия Swingtime белая с красным чашелистом объем 0,5 л',\n",
       " 'Однолетнее растение Целозия метельчатая в кассете 4 шт, Россия',\n",
       " 'Целозия гребенчатая рассада однолетних цветов в кассете по 6 шт',\n",
       " 'Рассада Капусты кольраби сорт Венская белая кассета 6 шт E6',\n",
       " 'Рассада Капусты кольраби сорт Виолетта кассета 6 шт E6',\n",
       " 'Рассада Капусты кольраби сорт Гулливер кассета 6 шт E6',\n",
       " 'Калибрахоа Aloha Kona Dark Red красная объем 0,5 л',\n",
       " 'Калибрахоа Aloha Kona Pineaple желто-красная объем 0,5 л',\n",
       " 'Петуния Baby Doll розовая с белыми брызгами объем 0,5 л',\n",
       " 'Петуния Bordeaux сиреневая с прожилками объем 0,5 л',\n",
       " 'Петуния Crazytunia Pulse желтая звезда объем 0,5 л',\n",
       " 'Петуния Pegasus Qeen of Hearts красные сердца на желтом фоне объем 0,5 л',\n",
       " 'Петуния Potunia Plus Strawberry Ice красно-розовая с прожилками объем 0,5 л',\n",
       " 'Петуния Sanguna Patio Blue Morn фиолетово-белая объем 0,5 л',\n",
       " 'Петуния Sky Night фиолетовая с белыми брызгами объем 0,5 л',\n",
       " 'Петуния Surprise Purple Sky фиолетовая с прожилками объем 0,5 л',\n",
       " 'Петуния Sweetunia Miss Marvelous винно-белая звезда объем 0,5 л',\n",
       " 'Петуния Sweetunia Rose Gem розовая с прожилками объем 0,5 л',\n",
       " 'Петуния Свитуния Sweetunia Johnny Flame малиновая с темной сердцевиной объем 0,5 л',\n",
       " 'Калибрахоа ампельная, диам. 12 см',\n",
       " 'Пеларгония Toscana Angeleyes Bicolor укорененный черенок',\n",
       " 'Пеларгония зональная диам. 12 см розовая рябая полумахровая',\n",
       " 'Роза садовая парковая в горшке Голден Селебрейшен',\n",
       " 'Роза садовая чайногибридная в горшке Императрица',\n",
       " 'Роза садовая чайногибридная в горшке Колетт',\n",
       " 'Рассада зелени для кухни Тимьяна в горшке диам. 9 см',\n",
       " 'Рассада Кабачка сорт Аэронавт, кассета по 6шт',\n",
       " 'Рассада Кабачка сорт Белогор кассета 6 шт E6',\n",
       " 'Рассада Кабачка сорт Горный, кассета по 6шт',\n",
       " 'Рассада Кабачка сорт Зебра кассета 6 шт E6',\n",
       " 'Рассада Кабачка сорт Золотинка кассета 6 шт E6',\n",
       " 'Рассада Кабачка сорт Сосновский, кассета по 6шт',\n",
       " 'Рассада Огурец Кристина ячейки по 6 шт Е6',\n",
       " 'Рассада Огурец Фараон ячейки по 6 шт Е6',\n",
       " 'Рассада Огурца сорт Каролина кассета 6 шт E6',\n",
       " 'Рассада Патиссона сорт Диск, кассета по 6шт',\n",
       " 'Рассада Патиссона сорт НЛО Белый, кассета по 6шт',\n",
       " 'Тагетис крупноцветковый рассада однолетних цветов в кассете по 10 шт',\n",
       " 'Алиссум (лобулярия) Снежные одежды 0,2 г 4650091480302',\n",
       " 'Лаватера Монт Блан 0,3 г 4660010778588',\n",
       " 'Роза садовая спрей в горшке Лидия Вайт',\n",
       " 'Роза садовая спрей в горшке Солнечная Девочка',\n",
       " 'Роза садовая чайногибридная в горшке Анастасия',\n",
       " 'Вербена ампельная, диам. 12 см',\n",
       " 'Лобелия Регатта Regatta микс объем 0,5 л',\n",
       " 'Лобелия ампельная, диам. 12 см',\n",
       " 'Однолетнее растение Астра в кассете по 4 шт, Россия',\n",
       " 'Пеларгония плющелистная ампельная, диам. 12 см',\n",
       " 'томата (помидор) Монгольский карлик №53 сорт детерминантный раннеспелый красный',\n",
       " 'Бегония ампельная, диам. 12 см',\n",
       " 'Декабрист в горшке D12 белый',\n",
       " 'Декабрист в горшке D12 цвет фуксии',\n",
       " 'Лобелия рассада однолетних цветов в кассете по 6 шт',\n",
       " 'Пеларгония Angeleyes Orange укорененный черенок',\n",
       " 'Пеларгония зональная диам. 12 см красно-розовая простая',\n",
       " 'Пеларгония зональная диам. 12 см сиренево-красная простая',\n",
       " 'Пеларгония зональная диам. 12 см сиреневый простая',\n",
       " 'Пеларгония зональная Мультиблум Скарлет Ай d-7 см h-10 см укорененный черенок',\n",
       " 'Декабрист в горшке D12 красный',\n",
       " 'Вербена Red красная объем 0,5 л',\n",
       " 'Вербена крупноцветковая White белая объем 0,5 л',\n",
       " 'Калибрахоа Mini Famous Double Blue фиолетовая махровая объем 0,5 л',\n",
       " 'Петуния Surfinia Doble White белая махровая объем 0,5 л',\n",
       " 'Пеларгония зональная диам. 12 см малиново-красная простая',\n",
       " 'Пеларгония зональная диам. 12 см розово-красная простая',\n",
       " 'томата (помидор) \"Золотая канарейка\" №32 сорт индетерминантный среднеспелый желтый',\n",
       " 'томата (помидор) Амурский тигр № 8 сорт детерминантный раннеспелый красный',\n",
       " 'томата (помидор) Арбузный №5 сорт индетерминантный среднеспелый красный',\n",
       " 'томата (помидор) Болгарска хала №9 сорт индетерминантный среднеспелый розовый',\n",
       " 'томата (помидор) Большая желтая зебра №10 сорт индетерминантный среднеспелый желтый',\n",
       " 'томата (помидор) Большой оранжевый полосатый № 28 сорт индетерминантный среднеспелый оранжевый',\n",
       " 'томата (помидор) Большой оранжевый №11 сорт индетерминантный среднеспелый оранжевый',\n",
       " 'томата (помидор) Гигант Кубы №18 сорт индетерминантный среднеспелый черный',\n",
       " 'томата (помидор) Голубика №22 сорт индетерминантный среднеспелый синий',\n",
       " 'томата (помидор) Ильди №35 сорт детерминантный раннеспелый желтый',\n",
       " 'томата (помидор) Индиго Роуз №36 сорт детерминантный среднеспелый синий',\n",
       " 'томата (помидор) К 25-56 № 78 сорт детерминантный среднеспелый черный',\n",
       " 'томата (помидор) Король красоты №46 сорт индетерминантный среднеспелый оранжевый',\n",
       " 'томата (помидор) Медовая капля №51 сорт индетерминантный среднеспелый желтый',\n",
       " 'томата (помидор) Моравское чудо №54 сорт индетерминантный раннеспелый красный',\n",
       " 'томата (помидор) Мохнатый кейт №55 сорт детерминантный среднеспелый синий',\n",
       " 'томата (помидор) Мэризол Мэджик № 95 сорт индетерминантный среднеспелый оранжевый',\n",
       " 'томата (помидор) Оранжевый банан № 60 сорт индетерминантный среднеспелый оранжевый',\n",
       " 'томата (помидор) Оранжевый русский № 97 сорт индетерминантный среднеспелый оранжевый',\n",
       " 'томата (помидор) Перцевидный полосатый №62 сорт детерминантный среднеспелый красный',\n",
       " 'томата (помидор) Поцелуй герани №66 сорт детерминантный раннеспелый красный',\n",
       " 'томата (помидор) Пурпурная страсть № 101 сорт индетерминантный среднеспелый черный',\n",
       " 'томата (помидор) Синий солнечный свет № 106 сорт индетерминантный среднеспелый синий',\n",
       " 'томата (помидор) Танцы со смурфиками № 111 сорт индетерминантный раннеспелый черный',\n",
       " 'томата (помидор) Темная галактика №79 сорт детерминантный среднеспелый черный',\n",
       " 'томата (помидор) Черниченский черри № 116 сорт индетерминантный позднеспелый черный',\n",
       " 'томата (помидор) Шалун № 118 сорт индетерминантный раннеспелый розовый',\n",
       " 'томата (помидор) Этуаль №85 сорт детерминантный среднеспелый розовый',\n",
       " 'томата (помидор) Юсуповский Узбекский №86 сорт индетерминантный позднеспелый красный',\n",
       " 'томата (помидор) сорт Бычье Сердце №14',\n",
       " 'Гвоздика турецкая Роковая страсть 0,05 г 4660010773231',\n",
       " 'Годеция Рембранд 0,1 г 4650091480128',\n",
       " 'Календула Пинк сюрпрайз 0,5 г 4650091480203',\n",
       " 'Капуста декоративная смесь 0,1 г 4650091480234',\n",
       " 'Кореопсис Толл 0,1 г 4650091480258',\n",
       " 'Космея Клюквенный клик 0,1 г 4660010770421',\n",
       " 'Космея Кэнди страйп 0,3 г 4650091480272',\n",
       " 'Лапчатка Огненное пламя 0,02 г 4650091480616',\n",
       " 'Львиный зев Волшебный ковер 0,05 г 4660010779639',\n",
       " 'Пеларгония зональная диам. 12 см розово-красная полумахровая',\n",
       " 'Флокс друммонда смесь 0,1 г 4650091480401',\n",
       " 'Цинерария Серебряная пыль 0,1 г 4660010770797',\n",
       " 'Эшшольция Карминный король 0,5 г 4660010770193',\n",
       " 'Астра рассада однолетних цветов в кассете по 10 шт',\n",
       " 'Петуния простая рассада однолетних цветов в кассете по 10 шт',\n",
       " 'Декабрист в горшке D12 белый с розовой каймой',\n",
       " 'Молодило в горшке d-12 см',\n",
       " 'Однолетнее растение Виола в кассете по 4 шт, Россия',\n",
       " 'Роза садовая чайногибридная в горшке Папилон',\n",
       " 'Рассада Капусты белокачанная средняя сорт Белорусская кассета 10 шт E10',\n",
       " 'Рассада Капусты белокачанная средняя сорт Надежда кассета 10 шт E10',\n",
       " 'Рассада Капусты краснокачанная сорт Победа кассета 10 шт E10',\n",
       " 'Рассада Капусты цветная Гудмен, кассета по 10шт',\n",
       " 'Рассада Капусты цветная Дачница, кассета по 10шт',\n",
       " 'Подвесное кашпо Калибрахоа Aloha Double Purple сиреневая махровая объем 4 л',\n",
       " 'Подвесное кашпо Калибрахоа Mini Famous Double Blue фиолетовая махровая объем 4 л',\n",
       " 'Подвесное кашпо Калибрахоа Mini Famous Double Red красная махровая объем 4 л',\n",
       " 'Лапчатка травянистая желтый объем 0,5 л',\n",
       " 'Седум (очиток) Видный красный объем 1 л',\n",
       " 'Гвоздика садовая рассада однолетних цветов в горшке диам. 12 см',\n",
       " 'Примула комнатная D9 см малиновая',\n",
       " 'Пуансеттия в горшке D12 см белая с красным',\n",
       " 'Пуансеттия в горшке D23 см розовая',\n",
       " 'Рассада Огурца сорт Изящный, кассета по 6шт',\n",
       " 'Рассада Огурца сорт Родничок, кассета по 6шт',\n",
       " 'Рассада зелени для кухни Сальвия Оффициналис Иктерина диам. 9 см',\n",
       " 'Рассада томата (помидор) Моравское чудо №54 сорт индетерминантный раннеспелый красный',\n",
       " 'Рассада томата (помидор) сорт Колибри №42',\n",
       " 'Цикламен комнатный D15 см H20 см малиновый',\n",
       " 'Дыня Млада Р-9',\n",
       " 'Дыня Симпатия Р-9',\n",
       " 'Рассада Арбуза сорт Астраханский, горшок 9*9см',\n",
       " 'Рассада Дыни сорт Алтайская, горшок 9*9см',\n",
       " 'Рассада Дыни сорт Дина горшок 9х9 см P-9',\n",
       " 'Рассада Дыни сорт Казачка, горшок 9*9см',\n",
       " 'Рассада Дыни сорт Колхозница горшок 9х9 см P-9',\n",
       " 'Рассада Дыни сорт Эфиопка горшок 9х9 см P-9',\n",
       " 'Рассада Капусты кольраби Гулливер, кассета по 10шт',\n",
       " 'Рассада Капусты кольраби Мадонна, кассета по 10шт',\n",
       " 'Рассада Капусты цветная сорт Гарантия кассета 6 шт E6',\n",
       " 'томата (помидор) Аргентинская сливка №6 сорт индетерминантный среднеспелый красный',\n",
       " 'Пеларгония зональная диам. 12 см розово-малиновая простая',\n",
       " 'Арбуз Огонек раннеспелый d-7 см',\n",
       " 'Арбуз Сибирские огни раннеспелый d-7 см',\n",
       " 'Арбуз Холодок позднеспелая d-7 см',\n",
       " 'Арбуз Шуга Бейби раннеспелый d-7 см',\n",
       " 'Базилик Овощной Арарат d-7 см',\n",
       " 'Базилик Пурпурные Звезды d-7 см',\n",
       " 'Базилик зеленый Тонус d-7 см',\n",
       " 'Баклажан Самурай d-7 см Крым',\n",
       " 'Дыня Алтайская d-7 см скороспелая',\n",
       " 'Дыня Дина d-7 см раннеспелая',\n",
       " 'Дыня Золотой шар d-7 см раннеспелая',\n",
       " 'Дыня Колхозница 749/753 d-7 см среднеспелая',\n",
       " 'Дыня Медовый Спас d-7 см раннеспелая',\n",
       " 'Дыня Награда d-7 см скороспелая',\n",
       " 'Клубника Альба P9 Крым',\n",
       " 'Клубника Мара Де Буа х Клери (сладкая) P9 Крым',\n",
       " 'Клубника Хоней P9 Крым',\n",
       " 'Патиссон Диск раннеспелый d-7 см',\n",
       " 'Патиссон НЛО оранжевый раннеспелый d-7 см',\n",
       " 'Рассада Капусты краснокачанная сорт Победа кассета 6 шт E6',\n",
       " 'Рассада зелени для кухни Мелисса лимонная зеленый объем 0,75 л',\n",
       " 'Рассада зелени для кухни Мята Икс Пиперита Цитрата Шоколад диам. 9 см',\n",
       " 'томата (помидор) Кибиц №41 сорт детерминантный среднеспелый красный',\n",
       " 'Рассада Тыквы сорт Амазонка, горшок 9*9см',\n",
       " 'Рассада Тыквы сорт Витаминная, горшок 9*9см',\n",
       " 'Рассада Тыквы сорт Лечебная, горшок 9*9см',\n",
       " 'Рассада зелени для кухни Душица-орегано розовый объем 0,5 л',\n",
       " 'Рассада зелени для кухни Иссоп лекарственный Аккорд диам. 12-13 см',\n",
       " 'Рассада зелени для кухни Петрушка корневая Сахарная, кассета по 6шт',\n",
       " 'Рассада зелени для кухни Тимьян Сильвер Квин диам. 9 см',\n",
       " 'Рассада пряной травы Лавр в горшке 9 см',\n",
       " 'Рассада пряной травы Эвкалипт Сильвердроп в горшке d-9 см',\n",
       " 'Многолетнее растение Душица-орегано розовый объем 0,5 л',\n",
       " 'Многолетнее растение Тимьян-чабрец розовый объем 0,5 л',\n",
       " 'Пеларгония зональная диам. 12 см белая полумахровая',\n",
       " 'Пеларгония зональная диам. 12 см ярко красная махровая',\n",
       " 'Рассада зелени для кухни Базилик Арарат, кассета по 6шт',\n",
       " 'Рассада зелени для кухни Розмарина в кассете по 6 шт',\n",
       " 'Подвесное кашпо Дихондра серебристая объем 4 л',\n",
       " 'Вигна Лилиана в кассете 4 штуки среднеспелая',\n",
       " 'Декабрист в горшке D12 малиновый',\n",
       " 'Кабачок Изумруд d-7 см раннеспелый',\n",
       " 'Кофе Арабика в горшке d-7 см',\n",
       " 'Лавр в горшке 7 см',\n",
       " 'Огурец Алтай пчелоопыляемый в кассете 4 штуки раннеспелый',\n",
       " 'Огурец Закусочный пчелоопыляемый в кассете 4 штуки раннеспелый',\n",
       " 'Рассада Огурец Нежинский ячейки по 6 шт Е6',\n",
       " 'Сельдерей листовой Нежный среднеспелый в кассете 4 штуки',\n",
       " 'Тыква крупноплодная Лечебная d-7 см раннеспелый',\n",
       " 'Эвкалипт Сильвердроп в горшке d-7 см',\n",
       " 'томата (помидор) Исуповский №37 сорт индетерминантный среднеспелый красный',\n",
       " 'томата (помидор) Кумато №49 сорт детерминантный среднеспелый черный',\n",
       " 'томата (помидор) Легенда Тарасенко № 91 сорт индетерминантный среднеспелый красный',\n",
       " 'томата (помидор) Летнее солнце № 92 сорт индетерминантный раннеспелый желтый',\n",
       " 'томата (помидор) Медовый № 93 сорт индетерминантный позднеспелый розовый',\n",
       " 'томата (помидор) Минусинские № 94 сорт индетерминантный среднеспелый розовый',\n",
       " 'томата (помидор) Полосатый шоколад №65 сорт индетерминантный среднеспелый черный',\n",
       " 'Бальзамин Валера рассада однолетних цветов в кассете по 10 шт',\n",
       " 'Овсянница сизая серый объем 1 л',\n",
       " 'Бакопа ампельная мега-крупная белая объем 0,5 л',\n",
       " 'Бакопа ампельная мега-крупная синяя объем 0,5 л',\n",
       " 'Петуния Surfinia Crazy Pink розовая с прожилкой объем 0,5 л',\n",
       " 'Подвесное кашпо Бакопа ампельная мега-крупная смесь окрасок объем 4 л',\n",
       " 'Рассада Огурца сорт Арамис, кассета по 6шт',\n",
       " 'Рассада Огурца сорт Атос, кассета по 6шт',\n",
       " 'Рассада Огурца сорт Портос, кассета по 6шт',\n",
       " 'томата (помидор) Полосатый смайлик № 100 сорт детерминантный раннеспелый красный',\n",
       " 'томата (помидор) Ракета № 102 сорт детерминантный среднеспелый красный',\n",
       " 'томата (помидор) Спящая леди № 108 сорт детерминантный среднеспелый черный',\n",
       " 'томата (помидор) Улыбка Розы № 113 сорт детерминантный раннеспелый синий',\n",
       " 'Капуста цветная Альфа в кассете 4 штуки раннеспелая',\n",
       " 'Капуста цветная Дачница в кассете 4 штуки среднеспелая',\n",
       " 'Огурец Аристократ F1 пчелоопыляемый в кассете 4 штуки раннеспелый',\n",
       " 'Огурец Багратион F1 пчелоопыляемый в кассете 4 штуки раннеспелый',\n",
       " 'Огурец Боярский F1 пчелоопыляемый в кассете 4 штуки раннеспелый',\n",
       " 'Томат Государь в кассете 6 штук среднеспелый детерминантный',\n",
       " 'Томат детерминантный Грандесса в кассете 6 штук раннеспелый',\n",
       " 'Томат детерминантный Медовый в кассете 6 штук среднеспелый',\n",
       " 'Томат детерминантный Сердолик в кассете 6 штук раннеспелый',\n",
       " 'Капуста белокочанная Июньская в кассете 4 штуки раннеспелая',\n",
       " 'Флокс метельчатый сорт МОСКВИЧКА, диаметр горшка 10см.',\n",
       " 'Флокс метельчатый сорт Незабудка, диаметр горшка 10см.',\n",
       " 'томата (помидор) Шаймет криг №117 сорт детерминантный раннеспелый красный',\n",
       " 'Базилик овощной Арарат в кассете 4 штуки среднеспелый',\n",
       " 'Базилик овощной Пурпурные звезды в кассете 4 штуки среднеспелый',\n",
       " 'Базилик овощной Тонус в кассете 4 штуки среднеспелый',\n",
       " 'Буддлея Вейера в горшке d-12',\n",
       " 'Валериана лекарственная Кардиола в кассете 4 штуки',\n",
       " 'Змееголовник молдавский Горыныч в кассете 4 штуки среднеспелый',\n",
       " 'Капуста кольраби Венская белая 1350 в кассете 4 штуки скороспелая',\n",
       " 'Капуста цветная Гарантия в кассете 4 штуки скороспелая',\n",
       " 'Капуста цветная Марвел 4 сеазонс в кассете 4 штуки раннеспелая',\n",
       " 'Капуста цветная Мовир 74 в кассете 4 штуки скороспелая',\n",
       " 'Любисток Удалец в кассете 6 штук',\n",
       " 'Монарда в горшке d-12 см',\n",
       " 'Петрушка корневая Сахарная в кассете 4 штуки скороспелая',\n",
       " 'Петрушка листовая Итальянский гигант в кассете 4 штуки среднеспелая',\n",
       " 'Петрушка листовая Обыкновенная листовая в кассете 4 штуки скороспелая',\n",
       " 'Петрушка листовая Универсал в кассете 4 штуки среднеспелая',\n",
       " 'Табак бордовый в кассете 10 штук',\n",
       " 'Табак курительный Юбилейный Новый 142 в кассете 6 штук среднеспелый',\n",
       " 'Фуксия E4 в кассете 4 штуки цвет в ассортименте',\n",
       " 'Цинерария серебряная в кассете 10 штук',\n",
       " 'Шалфей овощной Нектар в кассете 4 штуки',\n",
       " 'Пеларгония Toscana Angeleyes Amarillo Rosato укорененный черенок',\n",
       " 'Пеларгония зональная диам. 12 см красный махровый',\n",
       " 'Рассада зелени для кухни Базилик Тонус, кассета по 6шт',\n",
       " 'Рассада зелени для кухни Иссоп лекарственный Аккорд диам. 9 см',\n",
       " 'Рассада зелени для кухни Мелисса лекарственная Кадриль диам. 9 см',\n",
       " 'Рассада зелени для кухни Мелиссы в кассете по 6 шт',\n",
       " 'Рассада зелени для кухни Мята Вариегата диам. 9 см',\n",
       " 'Рассада зелени для кухни Мяты в кассете по 6 шт',\n",
       " 'Рассада зелени для кухни Ориганум Ауреум Голд диам. 9 см',\n",
       " 'Рассада зелени для кухни Ориганум Ауреум Компактум диам. 9 см',\n",
       " 'Рассада зелени для кухни Розмарин Барбекю диам. 9 см',\n",
       " 'Рассада зелени для кухни Сальвия Максима диам. 9 см',\n",
       " 'Рассада зелени для кухни Сальвия Оффициналис Триколор диам. 9 см',\n",
       " 'Рассада зелени для кухни Тимьяна в кассете по 6 шт',\n",
       " 'Рассада зелени для кухни Шалфея в горшке диам. 9 см',\n",
       " 'Рассада зелени для кухни Шалфея в кассете по 6 шт',\n",
       " 'Бархатцы Веселая полянка 0,3 г 4660010777505',\n",
       " 'Космея Очаровашка 0,05 г 4660010779578',\n",
       " 'Морковь Детская сладость 2 г 4660010775921',\n",
       " 'Настурция Драгоценность вишнево-розовая 1 г 4660010773316',\n",
       " 'Огурец Засолочный 0,3 г 4660010776102',\n",
       " 'Пеларгония зональная розоцветная РЕД РОЗЕБАД',\n",
       " 'Петуния Каскад смесь махровая 10 шт 4660010772784',\n",
       " 'Рассада зелени для кухни Тимьян Вульгарис Компактус диам. 9 см',\n",
       " 'Цикламен комнатный D15 см H20 см розовый с белым',\n",
       " 'Роза садовая чайногибридная в горшке Блэк Мэджик',\n",
       " 'Роза садовая чайногибридная в горшке Керио',\n",
       " 'Роза садовая чайногибридная в горшке Лимбо',\n",
       " 'Георгина Черная красавица 5 шт 4650091480579',\n",
       " 'Календула Бронзовая красавица 10 шт 4650091480746',\n",
       " 'Космея Лимонад 10 шт 4650091480500',\n",
       " 'Космея Попсокс белая 10 шт 4650091480562',\n",
       " 'Космея Попсокс розовая 10 шт 4650091480555',\n",
       " 'Космея Снежный клик 0,1 г 4660010770414',\n",
       " 'Смолевка Звездный взрыв 0,02 г 4650091480630',\n",
       " 'Цинния Ацтек бургунди биколор 10 шт 4650091480739',\n",
       " 'Цинния хаага Олд Мехико 0,5 г 4650091480456',\n",
       " 'Рассада Тыквы сорт Жемчужина горшок 9х9 см P-9',\n",
       " 'Кориандр в кассете 6 шт',\n",
       " 'Рассада зелени для кухни Петрушка Универсал, кассета по 6шт',\n",
       " 'Рассада зелени для кухни Тимьян Вариегэйтид диам. 9 см',\n",
       " 'Вербена микс Wicked Wich смесь окрасок объем 0,5 л',\n",
       " 'Пеларгония плющелистная Tornado микс объем 0,5 л',\n",
       " 'Пеларгония зональная диам. 12 см лососевая полумахровая',\n",
       " 'Вербена ампельная, диам. 21 см',\n",
       " 'Петуния рассада смесь цветов 5-6 листов Глория махровая розовая',\n",
       " 'Рассада зелени для кухни Душица обыкновенная Хуторянка диам. 12-13 см',\n",
       " 'Рассада зелени для кухни Душица обыкновенная Хуторянка диам. 9 см',\n",
       " 'Рассада зелени для кухни Розмарин Оффициналис Тускан Блю диам. 9 см',\n",
       " 'Рассада зелени для кухни Сальвия Максима диам. 12-13 см',\n",
       " 'Рассада зелени для кухни Сальвия Оффициналис Триколор диам. 12-13 см',\n",
       " 'Рассада зелени для кухни Сантолина Хамаекипарисус диам. 9 см',\n",
       " 'Рассада зелени для кухни Сельдерей корневой Силач, кассета по 10шт',\n",
       " 'Рассада зелени для кухни Тимьян Цитриодорус диам. 9 см',\n",
       " 'Рассада зелени для кухни Цимбопогон (Лемонграсс) диам. 19 см',\n",
       " 'Рассада зелени для кухни Шпинат в кассете 6 шт',\n",
       " 'Алиссум рассада однолетних цветов в кассете по 6 шт',\n",
       " 'Однолетнее растение Алиссум в кассете по 4 шт, Россия',\n",
       " 'Однолетнее растение Тагетис мелкоцветковый в кассете по 4 шт, Россия',\n",
       " 'Однолетнее растение Циния в кассете 4 шт, Россия',\n",
       " 'Петуния Potunia Plus Purple бургунди с прожилками объем 0,5 л',\n",
       " 'Подвесное кашпо Гелихризум серебристая объем 4 л',\n",
       " 'Рассада Остеоспермум крупноцветковый Lavender сиреневый объем 0,5 л',\n",
       " 'Рассада Остеоспермум крупноцветковый Purple малиновый объем 0,5 л',\n",
       " 'Рассада Остеоспермум крупноцветковый White белый объем 0,5 л',\n",
       " 'Тагетис крупноцветковый рассада однолетних цветов в кассете по 6 шт',\n",
       " 'Котовник Блю Мун синий объем 1 л',\n",
       " 'Роза садовая почвопокровная в горшке Ред Вельвет',\n",
       " 'Роза садовая спрей в горшке Блэк Джэк',\n",
       " 'Роза садовая спрей в горшке Румба',\n",
       " 'Роза садовая чайногибридная в горшке Аква',\n",
       " 'Роза садовая чайногибридная в горшке Блек Бакара',\n",
       " 'Роза садовая чайногибридная в горшке Сатина',\n",
       " 'Рассада Кабачка сорт Якорь, кассета по 6шт',\n",
       " 'Рассада Огурца сорт Даша, кассета по 6шт',\n",
       " 'Рассада Огурца сорт Персей, кассета по 6шт',\n",
       " 'Рассада Огурца сорт Форсаж, кассета по 6шт',\n",
       " 'Базилик Застольный 0,3 г 4660010775419',\n",
       " 'Петрушка Итальянский гигант 2 г 4660010776553',\n",
       " 'Салат Рукола Сицилия 1 г 4660010772852',\n",
       " 'Салат Рукола дикая Оливетта 0,3 г 4660010776898',\n",
       " 'Петуния ампельная Белая в горшке P9',\n",
       " 'Петуния ампельная Красная в горшке P9',\n",
       " 'Петуния ампельная Синий в горшке P9',\n",
       " 'Алиссум Скальный желтый объем 1 л',\n",
       " 'Бадан Сердцелистный Красная звезда красный объем 1 л',\n",
       " 'Камнеломка тенистая Вариегата розовый объем 0,5 л',\n",
       " 'Колокольчик Карпатский белый объем 0,5 л',\n",
       " 'Колокольчик Карпатский голубой объем 0,5 л',\n",
       " 'Лен Небесная Лазурь голубой объем 0,5 л',\n",
       " 'Ясколка Войлочная белая объем 0,5 л',\n",
       " 'Роза садовая парковая в горшке Чиппендейл',\n",
       " 'Роза чайно-гибридная Восточный Экспресс сливочно-желтого цвета с малиновыми краями в горшке 2,1 л',\n",
       " 'Рассада клубники Вима Рина кассета 6 шт E6 ремонтантная',\n",
       " 'Рассада клубники Зенга Зенгана в кассете по E6',\n",
       " 'Петуния ампельная Розовая в горшке P9',\n",
       " 'Примула комнатная D9 см цвет в ассортименте',\n",
       " 'Хризантема Корейская смесь окрасок объем 0,75 л',\n",
       " 'Рассада зелени для кухни Мята Бэррис энд Крим диам. 9 см',\n",
       " 'Рассада зелени для кухни Мята Икс Пиперита Цитрата Грэйпфрут диам. 9 см',\n",
       " 'Рассада зелени для кухни Мята Пиперита Строуберри диам. 9 см',\n",
       " 'Рассада зелени для кухни Мята Хиларис Свит Лемон диам. 9 см',\n",
       " 'Бакопа ампельная махровая белая махровая объем 0,5 л',\n",
       " 'Кореопсис Золотой маяк желтый объем 1 л',\n",
       " 'Петуния Surfinia Table dark red красная объем 0,5 л',\n",
       " 'Портулак рассада однолетних цветов в кассете по 6 шт',\n",
       " 'Примула комнатная D9 см красная',\n",
       " 'Примула комнатная D9 см цвет фуксии',\n",
       " 'Примула комнатная акаулис белая D10 см',\n",
       " 'Примула комнатная акаулис красная D10 см',\n",
       " 'Цикламен комнатный D15 см H20 см белый',\n",
       " 'Цикламен комнатный D15 см H20 см белый с малиновой серединой',\n",
       " 'Цикламен комнатный D15 см H20 см красный',\n",
       " 'Вероника колосковая микс объем 1 л',\n",
       " 'Рассада зелени для кухни Лаванда Прованc диам. 9 см',\n",
       " 'Аквилегия махровая Тауэр смесь окрасок объем 1 л',\n",
       " 'Астра альпийская микс объем 1 л',\n",
       " 'Бузульник Пржевальского кленолистный желтый объем 1 л',\n",
       " 'Вербейник монетчатый желты',\n",
       " 'Девичий виноград пятилисточковый P9 h-20 см Крым',\n",
       " 'Камнеломка Арендса Флорал Карпет розовый объем 1 л',\n",
       " 'Роза садовая парковая в горшке Дипп Ватер',\n",
       " 'Роза садовая парковая в горшке Эден Роуз',\n",
       " 'Роза садовая плетистая в горшке Шванензее',\n",
       " 'Роза садовая спрей в горшке Мими Эден',\n",
       " 'Роза садовая чайногибридная в горшке Амнезия',\n",
       " 'Роза садовая чайногибридная в горшке Блю Мун',\n",
       " 'Роза садовая чайногибридная в горшке Блю Парфюм',\n",
       " 'Роза садовая чайногибридная в горшке Дежавю',\n",
       " 'Роза садовая чайногибридная в горшке Роза Биг перпл',\n",
       " 'Роза садовая чайногибридная в горшке Черри Бренди',\n",
       " 'Роза садовая чайногибридная в горшке Эдванс',\n",
       " 'Солидаго желтый объем 1 л',\n",
       " 'Физостегия Вергинская белый объем 0,5 л',\n",
       " 'Анемона белый объем 0,5 л',\n",
       " 'Колокольчик персиколистный белый объем 0,5 л',\n",
       " 'Нивянник (Ромашка) крупноцветковый белый объем 1 л',\n",
       " 'Лук порей Победитель в кассете 6 штук среднеспелый',\n",
       " 'Рассада Капусты белокачанная сорт Амтаман кассета 6 шт E6',\n",
       " 'Рассада Капусты белокачанная сорт Грибовский кассета 6 шт E6',\n",
       " 'Рассада Капусты белокачанная сорт Экспресс кассета 6 шт E6',\n",
       " 'Папоротник страусник зеленый объем 1 л',\n",
       " 'Хоста микс объем 0,75 л',\n",
       " 'Капуста брокколи Фортуна в кассете 6 штук',\n",
       " 'Капуста брокколи Фортуна в кассете 6 штук среднеспелая',\n",
       " 'Рассада Капусты белокачанная поздняя сорт Колобок кассета 10 шт E10',\n",
       " 'Рассада Капусты белокачанная сорт Июньская кассета 6 шт E6',\n",
       " 'Рассада Капусты белокачанная сорт Московская поздняя кассета 6 шт E6',\n",
       " 'Рассада Капусты белокачанная сорт Сибирячка кассета 6 шт E6',\n",
       " 'Рассада Капусты цветная сорт Сноуболл кассета 6 шт E6',\n",
       " 'Рассада зелени для кухни Базилик Шалун, кассета по 6шт',\n",
       " 'Петуния крупноцветковая сиреневая с жилками в кассете 10 штук',\n",
       " 'Цикламен комнатный D13 см H20',\n",
       " 'Пеларгония зональная диам. 12 см малиновая махровая',\n",
       " 'Пеларгония зональная розоцветная РЕД РОЗЕБАД (Red rosebud)',\n",
       " 'Фуксия Bella Rosella малиновая с белым чашелистом объем 0,5 л',\n",
       " 'Фуксия ампельная нежно-розовая в подвесном кашпо d-15 см',\n",
       " 'Фуксия ампельная темно-фиолетовая с вишневыми лепестками в подвесном кашпо d-15 см',\n",
       " 'Фуксия прямостоячая Белая с красными лепестками в горшке P9',\n",
       " 'Фуксия прямостоячая Белая с розовыми лепестками в горшке P9',\n",
       " 'Пеларгония зональная диам. 12 см красная полумахровая',\n",
       " 'Аргирантерум рассада однолетних цветов в горшке диам. 12 см',\n",
       " 'Лантана в горшке d-12',\n",
       " 'Подвесное кашпо Лобелия Регатта Regatta микс объем 4 л',\n",
       " 'Сальвия рассада однолетних цветов в кассете по 6 шт',\n",
       " 'томата (помидор) Казацкий №38 сорт детерминантный среднеспелый красный',\n",
       " 'Рассада Огурца сорт Герман, кассета по 6шт',\n",
       " 'Рассада Огурца сорт Есаул, кассета по 6шт',\n",
       " 'Рассада Огурца сорт Конни, кассета по 6шт',\n",
       " 'Рассада Огурца сорт Магнат, кассета по 6шт',\n",
       " 'Рассада в кассете Огурец Атос 10 шт',\n",
       " 'Флокс метельчатый сорт Гжель, диаметр горшка 10см.',\n",
       " 'Флокс метельчатый сорт Дракон, диаметр горшка 10см.',\n",
       " 'Флокс метельчатый сорт Земляничное суфле, диаметр горшка 10см.',\n",
       " 'Флокс метельчатый сорт Катенька-Катюша, диаметр горшка 10см.',\n",
       " 'Петуния Surprise Marine синяя объем 0,5 л',\n",
       " 'Рассада зелени для кухни Душицы в горшке диам. 9 см',\n",
       " 'Рассада зелени для кухни Мелиссы в горшке диам. 9 см',\n",
       " 'Рассада Кабачок сорт Скворушка ячейки 6 шт Е6',\n",
       " 'Рассада зелени для кухни Сельдерей листовой Бодрость, кассета по 10шт',\n",
       " 'Рассада томата (помидор) Баскью Блю №7 сорт детерминантный среднеспелый синий',\n",
       " 'Рассада томата (помидор) сорт Зефир в шоколаде, горшок диам 12',\n",
       " 'томата (помидор) Арбузик №4 сорт индетерминантный раннеспелый красный',\n",
       " 'томата (помидор) Бандед Амазон № 20 сорт индетерминантный раннеспелый розовый',\n",
       " 'томата (помидор) Графити № 40 сорт индетерминантный раннеспелый красный',\n",
       " 'томата (помидор) Дрова №27 сорт детерминантный среднеспелый красный',\n",
       " 'томата (помидор) Красный пушистый кабан №47 сорт детерминантный среднеспелый красный',\n",
       " 'Рассада томата (помидор) Монгольский карлик №53 сорт детерминантный раннеспелый красный',\n",
       " 'Лаванда Торх d-7 см',\n",
       " 'Мята Aura d-7 см',\n",
       " 'Мята колосистая Almira d-7 см',\n",
       " 'Мята колосистая Crispa d-7 см',\n",
       " 'Рассада зелени для кухни Мята Икс Пиперита Цитрата Эа де Кологн диам. 9 см',\n",
       " 'Рассада зелени для кухни Пастернак в кассете 6 шт',\n",
       " 'Рассада зелени для кухни Тимьян Прострэйт диам. 9 см',\n",
       " 'Тимьян крымский d-7 см',\n",
       " 'Рассада Тыквы сорт Дачная горшок 9х9 см P-9',\n",
       " 'томата (помидор) Канестрино №1 №89 сорт индетерминантный среднеспелый красный',\n",
       " 'Вербена рассада однолетних цветов в кассете по 10 шт',\n",
       " 'Рассада томата (помидор) сорт Золотое руно, кассета по 6шт',\n",
       " 'Рассада томата (помидор) сорт Любимец Подмосковья, кассета по 6шт',\n",
       " 'Рассада томата (помидор) сорт Розовый фламинго, кассета по 6шт',\n",
       " 'Рассада томата (помидор) сорт Челнок, кассета по 6шт',\n",
       " 'Рассада томата (помидор) сорт Черный шоколад, кассета по 6шт',\n",
       " 'Виола рассада однолетних цветов в кассете по 6 шт',\n",
       " 'Левкой рассада однолетних цветов в горшке диам. 12 см',\n",
       " 'Рассада Капусты белокачанная сорт Слава кассета 6 шт E6',\n",
       " 'Рассада Капусты белокачанная сорт Универс кассета 6 шт E6',\n",
       " 'Рассада томата (помидор) Иоген № 77 сорт детерминантный среднеспелый красный',\n",
       " 'Рассада томата (помидор) Ола Полка № 96 сорт детерминантный раннеспелый оранжевый',\n",
       " 'Рассада томата (помидор) Шаймет криг № 117 сорт детерминантный раннеспелый красный',\n",
       " 'Рассада томата (помидор) Эфемер № 121 сорт детерминантный раннеспелый красный',\n",
       " 'Бегония вечноцветущая рассада однолетних цветов в кассете по 10 шт',\n",
       " 'томата (помидор) Джалпа №25 сорт детерминантный среднеспелый красный',\n",
       " 'томата (помидор) Колоновидный № 90 сорт детерминантный среднеспелый красный',\n",
       " 'Рассада зелени для кухни Лаванды в кассете по 6 шт',\n",
       " 'Гортензия метельчатая Great star Грейт Стар в горшке 3,5 л',\n",
       " 'Петуния рассада смесь цветов 5-6 листов фиолетовая с белым ободком',\n",
       " 'Астра рассада однолетних цветов в кассете по 6 шт',\n",
       " 'Однолетнее растение Львиный зев в кассете по 4 шт, Россия',\n",
       " 'Цинерания рассада однолетних цветов в кассете по 6 шт',\n",
       " 'Бегония клубневая рассада однолетних цветов в горшке диам. 12 см',\n",
       " 'Гайлардия крупноцветковая желто-красный объем 0,75 л',\n",
       " 'Монарда гибридная Бергамо красный объем 1 л',\n",
       " 'Рудбекия Тайгер голд золотой объем 0,75 л',\n",
       " 'Рассада Патиссона сорт НЛО Оранжевый, кассета по 6шт',\n",
       " 'Ель канадская Коника ртк 303 горшок 9 л Нидерланды',\n",
       " 'Кипарисовик лавсона Элвуди ртк 106 горшок 9 л Нидерланды',\n",
       " 'Рассада зелени для кухни Зверобой продырявленный Оптимист диам. 9 см',\n",
       " 'Рассада зелени для кухни Лаванда Эдельвейс диам. 9 см',\n",
       " 'Колеус рассада однолетних цветов в кассете по 6 шт',\n",
       " 'Виола рогатая сиреневый объем 0,5 л',\n",
       " 'Лилейник высокорослый смесь окрасок объем 1 л',\n",
       " 'Платикодон махровый синий объем 0,5 л',\n",
       " 'Энотера Миссурийская Золотая желтый объем 1 л',\n",
       " 'Агератум рассада однолетних цветов в кассете по 10 шт',\n",
       " 'Алиссум рассада однолетних цветов в кассете по 10 шт',\n",
       " 'Колеус рассада однолетних цветов в кассете по 10 шт',\n",
       " 'Подвесное кашпо Вербена микс Victoria смесь окрасок объем 4 л',\n",
       " 'Подвесное кашпо Калибрахоа Confetti Mysweetheart смесь махровых окрасок объем 4 л',\n",
       " 'Подвесное кашпо Петуния микс смесь окрасок объем 4 л',\n",
       " 'Цинерания рассада однолетних цветов в кассете по 10 шт',\n",
       " 'Вербена Fuhcsia ярко-розовая объем 0,5 л',\n",
       " 'Маттиола Ночная фиалка 0,5 г 4660010770506',\n",
       " 'Примула рассада однолетних цветов в кассете по 10 шт',\n",
       " 'Рассада Тыквы сорт Улыбка, горшок 9*9см',\n",
       " 'Осина обыкновенная, Высота 25-50 см',\n",
       " 'Осина обыкновенная, Высота 50-100 см',\n",
       " 'Подвесное кашпо Калибрахоа Aloha Kona Dark Red красная объем 4 л',\n",
       " 'Подвесное кашпо Калибрахоя Snowberry белая объем 4 л',\n",
       " 'Подвесное кашпо Пеларгония махровая Calliope Dark Red темно-красная объем 4 л',\n",
       " 'Подвесное кашпо Пеларгония махровая Calliope Rose Splash розовая объем 4 л',\n",
       " 'Подвесное кашпо Петуния Surprise White белая объем 4 л',\n",
       " 'Земляника садовая Хоней d-9 см P9',\n",
       " 'Пиретрум Робинсон красный объем 1 л',\n",
       " 'Рассада клубники Зенга Зенгана горшок 9х9 см P9',\n",
       " 'томата (помидор) Абрикос №1 сорт индетерминантный среднеспелый красный',\n",
       " 'томата (помидор) Абрикосовый брендивайн №2 сорт индетерминантный среднеспелый оранжевый',\n",
       " 'томата (помидор) Абруццо № 3 сорт индетерминантный среднеспелый красный',\n",
       " 'томата (помидор) Большой полосатый кабан №12 сорт индетерминантный среднеспелый красный',\n",
       " 'томата (помидор) Вернисаж черный №17 сорт индетерминантный раннеспелый черный',\n",
       " 'томата (помидор) Голубой ручей №23 сорт индетерминантный среднеспелый синий',\n",
       " 'томата (помидор) Грейпфрут № 43 сорт индетерминантный среднеспелый оранжевый',\n",
       " 'томата (помидор) Земляника оранжевая №31 сорт индетерминантный среднеспелый оранжевый',\n",
       " 'томата (помидор) Оранжевый с фиолетовыми пятнами № 98 сорт индетерминантный среднеспелый оранжевый',\n",
       " 'томата (помидор) Примари колорз №67 сорт детерминантный среднеспелый черный',\n",
       " 'томата (помидор) Роджеро № 104 сорт индетерминантный среднеспелый красный',\n",
       " 'томата (помидор) Розовый мохнатый кабан № 105 сорт индетерминантный среднеспелый розовый',\n",
       " 'томата (помидор) Синий тигр №75 сорт индетерминантный среднеспелый синий',\n",
       " 'томата (помидор) Сладкий Касади №76 сорт индетерминантный среднеспелый оранжевый',\n",
       " 'томата (помидор) Фейерверк № 114 сорт индетерминантный среднеспелый красный',\n",
       " 'томата (помидор) Шахерезада №84 сорт детерминантный среднеспелый красный',\n",
       " 'томата (помидор) Ширли сердцевидный № 119 сорт индетерминантный среднеспелый розовый',\n",
       " 'томата (помидор) Южный вечер № 120 сорт детерминантный среднеспелый черный',\n",
       " 'Роза садовая чайногибридная в горшке Дабл Делайт',\n",
       " 'Роза садовая чайногибридная в горшке Лампион',\n",
       " 'Роза садовая парковая в горшке Августа Луиза',\n",
       " 'Флокс метельчатый сорт Вальс, диаметр горшка 10см.',\n",
       " 'Флокс метельчатый сорт ТАТЬЯНА, диаметр горшка 10см.',\n",
       " 'Календула Суприм 0,5 г 4650091480227',\n",
       " 'Рассада Капусты белокачанная сорт Фаворит кассета 6 шт E6',\n",
       " 'Роза садовая чайногибридная в горшке Супер Грин',\n",
       " 'Цинния Коралловая красавица 0,2 г 4660010773323',\n",
       " 'Цинния Оранжевый король 0,5 г 4660010770520',\n",
       " 'Рассада зелени для кухни Розмарин Оффициналис Мисс Джесоп диам. 9 см',\n",
       " 'Вербена рассада однолетних цветов в кассете по 6 шт',\n",
       " 'Гардения d-9 см укорененный черенок',\n",
       " 'Капуста брюссельская Сапфир в кассете 6 штук позднеспелая',\n",
       " 'Патиссон Зонтик раннеспелый d-7 см',\n",
       " 'Патиссон НЛО белый раннеспелый d-7 см',\n",
       " 'Рассада Капусты белокачанная средняя Реванш, кассета по 10шт',\n",
       " 'Рассада Тыквы сорт Россиянка, горшок 9*9см',\n",
       " 'Бакопа ампельная мега-крупная сиреневая объем 0,5 л',\n",
       " 'Бакопа ампельная, диам. 12 см',\n",
       " 'Барвинок синий объем 0,5 л',\n",
       " 'Вербена White Blue сиренево-белая объем 0,5 л',\n",
       " 'Калибрахоа Mini Famous Double Orange/Red оранжево/красная махровая объем 0,5 л',\n",
       " 'Портулак рассада однолетних цветов в кассете по 10 шт',\n",
       " 'Однолетнее растение Газания в кассете по 4 шт, Россия',\n",
       " 'Примула комнатная D9 см розовая',\n",
       " 'Примула комнатная D9 см фиолетовая',\n",
       " 'Примула комнатная акаулис синяя D10 см',\n",
       " 'Рассада зелени для кухни Мангольд в кассете 6 шт',\n",
       " 'Рассада зелени для кухни Розмарин Найфа диам. 9 см',\n",
       " 'Рассада Капусты белокачанная ранняя сорт Малахит кассета 10 шт E10',\n",
       " 'Гвоздика Травянка бело-красная объем 1 л',\n",
       " 'Львиный зев рассада однолетних цветов в кассете по 10 шт',\n",
       " 'Флокс Растопыренный голубой объем 0,5 л',\n",
       " 'Эхинацея микс объем 0,5 л',\n",
       " 'Рассада Капусты белокачанная сорт Валентина кассета 6 шт E6',\n",
       " 'Рассада Капусты белокачанная средняя Подарок, кассета по 10шт',\n",
       " 'Кориандр Стимул раннеспелый в кассете 4 штуки',\n",
       " 'Рассада зелени для кухни Петрушка Кучерявец, кассета по 6шт',\n",
       " 'Пеларгония зональная диам. 12 см ярко розовая полумахровая',\n",
       " 'Циния рассада однолетних цветов в кассете по 6 шт',\n",
       " 'Настурция Лунный свет 1 г 4660010779660',\n",
       " 'Настурция Орхидное пламя 5 шт 4650091480692',\n",
       " 'Пеларгония плющелистная ампельная, диам. 21 см',\n",
       " 'Пеларгония плющелистная розовая в подвесном кашпо d-23 см',\n",
       " 'Рассада Капусты белокачанная сорт Подарок кассета 6 шт E6',\n",
       " 'Рассада Капусты цветная сорт Дачница кассета 6 шт E6']"
      ]
     },
     "execution_count": 28,
     "metadata": {},
     "output_type": "execute_result"
    }
   ],
   "source": [
    "# содержимое заказов с ID меньше 30000\n",
    "\n",
    "list(clean_ecom_df[clean_ecom_df['order_id'] < 30000]['product'].unique())"
   ]
  },
  {
   "cell_type": "code",
   "execution_count": 29,
   "metadata": {},
   "outputs": [
    {
     "data": {
      "text/plain": [
       "['Сушилка для белья потолочная ЛИАНА ЛЮКС 150 см ЛЛП-150',\n",
       " 'Ткань для окон Duo для влажной и сухой чистки 200*200 мм, Leifheit, 40002',\n",
       " 'Сумка-тележка 2-х колесная складная Gimi Flexi серая',\n",
       " 'Стеллаж для обуви TELIO-370 венге OPT-370V',\n",
       " 'Вешалка-перекладина Valiant металлическая двойная с антискользящим покрытием 50320',\n",
       " 'Штора для ванной комнаты Quadretto 240х200 см белая, Bacchetta, 4062',\n",
       " 'Чехол для гладильной доски UNIVERSAL 160х60 см, Attribute, ABU004',\n",
       " 'Пеларгония розебудная Mary укорененный черенок',\n",
       " 'Пеларгония Toscana Angeleyes Bicolor укорененный черенок',\n",
       " 'Коврик придверный PHP SRL 40х68 см Format Mezzaluna 20826 Узор 5374',\n",
       " 'Сушилка для белья напольная НИКА СБ8 18 м серая',\n",
       " 'Вешалка напольная ФАНК ЛК-21 F/LK-21',\n",
       " 'Сушилка для белья на стену Leifheit Rollquick до 4.2 м, белая, 83006',\n",
       " 'Сушилка для белья Gimi Dinamik 30',\n",
       " 'Сушилка для белья напольная НИКА СБП1/С 18 м',\n",
       " 'Тарелка десертная Luminarc СИНА СИЛЬВЕР 19 см L0886',\n",
       " 'Шпингалет 80 мм белый с пружиной, 1102188',\n",
       " 'Сумка-тележка TWIN стальной каркас 56 л серая, Gimi',\n",
       " 'Гладильная доска Gimi Roma 122х38 см',\n",
       " 'Коврик придверный Redstone Mix из полиэстера и переработанной резины 60х91 см серо-коричневый, Apache, 4651',\n",
       " 'Коврик придверный Stonehedge Grey из полиэстера и переработанной резины 60х91 см серый, Apache, 4652',\n",
       " 'Коврик придверный с дизайном, из резины и кокоса Aberdeen Welcome 45x76, 4395',\n",
       " 'Герань домашняя (пеларгония зональная) цветущая D12, H25-30, коралловая, полумахровая',\n",
       " 'Цветок искусственный Василек 3 цветка 55 см пластик',\n",
       " 'Сушилка для белья потолочная Лиана 1,5 м 1703004',\n",
       " 'Комплект постельного белья WELLNESS PLATINUM R185-Авеню пододеяльник 180х214 см простыня 200х214 см 2 наволочки 50х70 см',\n",
       " 'Герань домашняя (пеларгония зональная) цветущая D12, H25-30, красная, простая',\n",
       " 'Крючок одежный двойной усиленный алюминиевый (дюраль), 1110015',\n",
       " 'Таз пластмассовый 6,0 л пищевой М2511, 1404015',\n",
       " 'Сумка-тележка хозяйственная Andersen Scala Shopper, Lini, синяя 112-108-90',\n",
       " 'Сумка-тележка хозяйственная Andersen Scala Shopper Plus, Lini, синяя 133-108-90',\n",
       " 'Пеларгония розебудная Prins Nikolai укорененный черенок',\n",
       " 'Тележка хозяйственная багажная D-T101 грузоподъемность 25кг',\n",
       " 'Штора для ванной Spirella / Спирелла Peva BIO, белый, полиэтилен, 180*200 см, 1024106',\n",
       " 'Тележка хозяйственная складная, ТХ0253, 50 кг, Пэмби',\n",
       " 'Корзина CITY NEW YORK 35х30х33 см Curver 00274-T37',\n",
       " 'Салатник ВОЛАРЭ БЛЭК 16 см G9403 Luminarc',\n",
       " 'Тарелка суповая ВОЛАРЭ БЛЭК 23 см G9402 Luminarc',\n",
       " 'Tepмокружка AVEX Freeflow 700 мл зеленый AVEX0759',\n",
       " 'Салатник Luminarc ПОЭМА АНИС 12 см J1349',\n",
       " 'Лестница-стремянка Dogrular Ufuk оцинкованная 7-ми ступенчатая',\n",
       " 'Гладильная доска Hausmann HM-3170 Home Art 122х42 см',\n",
       " 'Сумка-тележка GIMI Argo синяя',\n",
       " 'Решетка вентиляционная металлическая золото 17х17 см 1710035',\n",
       " 'Сушилка для белья потолочная Лиана 2,4 м 1703011',\n",
       " 'Коврик ворсовый для ванной комнаты OrthoSpa River Rocks natural из микрофибры и ПВХ прямоугольный 50х85 см серо-коричневый, Apac',\n",
       " 'Тележка багажная DELTA ТБР-20 синий грузоподъемность 25 кг сумка и 50 кг каркас РОССИЯ',\n",
       " 'Тюльпан Louvre (Лувр) Бахромчатый 25 шт',\n",
       " 'Гортензия Микс в кашпо с автополивом',\n",
       " 'Чайный набор Luminarc ЛИЛИ ФЛАУЭР 6 шт 320 мл J8565',\n",
       " 'Сушилка для белья ВИОЛЕТ FH COLOR LUX 22 м белая ВЛ867',\n",
       " 'Сушилка для белья настенная НИКА СН120 белая 120 см',\n",
       " 'Сушилка для белья ЛИАНА ЛЮКС 130 см потолочная',\n",
       " 'Термос со стеклянной колбой 1,0 л темно-зеленый 31003/12S',\n",
       " 'Коврик придверный, полипропилен, 40х70 см, Kokarda, Пес и кот, бежевый, PHP SRL, 21417',\n",
       " 'Коврик придверный APACHE 45х76 см Flagstone 5415',\n",
       " 'Вешалка с закругленными плечиками перекладиной и крючками с противоскользящим покрытием Valiant 213R11 черный',\n",
       " 'Искусственный цветок Ландыш пластиковый большой белый',\n",
       " 'Сумка-тележка 2-х колесная Gimi Galaxy голубая',\n",
       " 'Пеларгония Грандифлора махровая микс d-12 см',\n",
       " 'Сумка-тележка 2-х колесная Gimi Argo синяя',\n",
       " 'Скатерть Dasch Донна Роза из ПВХ 0401-2 Розы круглая 152 см 5974',\n",
       " 'Сумка-тележка хозяйственная Rolser Jet Claudia Joy серая, JET006 marengo JOY',\n",
       " 'Коврик для ванной комнаты GOBI полиэстер 120х70 см темно-зеленый, Spirella, 1012778',\n",
       " 'Чехол для одежды Hausmann розовый принт 60х100х104',\n",
       " 'Сумка для тележки большая комбинированная 45*30*25, 1209021',\n",
       " 'Фиксатор-шар хром большой, 1108349',\n",
       " 'Чабер Bolero d-7 см',\n",
       " 'Ёрш унитазный с деревянной ручкой , Ваир 1712012',\n",
       " 'Коврик влаговпитывающий ребристый 60х90 см Стандарт черный 5881',\n",
       " 'Тарелка десертная МОКА БРАУН 19 см H7013 Luminarc',\n",
       " 'Штора для ванной комнаты полиэстер Dasch 180х180 см Аквамарин ВТ-822502, 5698',\n",
       " 'Мята Махито Japanosche Mojito Minze d-7 см h-10 см укорененный черенок',\n",
       " 'Гладильная доска Scab Stiro Lux 122х38 см',\n",
       " 'Сушилка для белья напольная COLOMBO DOUBLE алюминий ST797',\n",
       " 'Герань домашняя (пеларгония зональная) цветущая D12, H25-30, сиренево-красная, простая',\n",
       " 'Гипсофила Аврора 80 см Израиль 25 штук в упаковке',\n",
       " 'Бульонница Luminarc МИСТИГРИ 500 мл J8770',\n",
       " 'Гардения d-9 см',\n",
       " 'Корзина для белья ВИОЛЕТ с крышкой Ротанг 60 л белая 1860/06',\n",
       " 'Tepмокружка AVEX Recharge 500 мл голубой AVEX0681',\n",
       " 'Аптения d-10 см h-10 см',\n",
       " 'Крючок одежный 2-х рожковый серый металлик с полимерным покрытием *Тонар*, 1110027',\n",
       " 'Муляж Долька Арбуза 14*7,5 см',\n",
       " 'Таз пластмассовый со стиральной доской (Иж), 1404021',\n",
       " 'Контейнер для СВЧ Полимербыт Премиум 1,2 л 4356200',\n",
       " 'Стремянка металлическая 3 ступени, СМ3, НИКА',\n",
       " 'Фал капроновый 6 мм в бухте 300м Т-1, 1201050',\n",
       " 'Новогоднее дерево Ель канадская Коника в декоративном контейнере 1 л h-20 см',\n",
       " 'Стремянка Scab Balzo 762 5 ступеней алюминиевая 3885',\n",
       " 'Гладильная доска НИКА ЭЛЬЗА Классик 122х34 см ЭЛК',\n",
       " 'Чехол для гладильной доски с дизайном Paris 140х55 см из хлопка',\n",
       " 'Крючок проволочный 75 мм латунь, 1110136',\n",
       " 'Модульная стеклянная банка 1,1л, 298264, Brabantia,',\n",
       " 'Половник Attribute BLOSSOM пластик AGB305',\n",
       " 'Тележка багажная DELTA ТБР-15 цвет в ассортименте грузоподъемность 30 кг РОССИЯ',\n",
       " 'Гладильная доска Eurogold Europa Paris 120х38 см 21738F6EC',\n",
       " 'Гладильная доска НИКА Бест 122х40 см НБ',\n",
       " 'Комнатное растение в горшке Алое Вера, d12, h30',\n",
       " 'Тарелка десертная Luminarc ДИВАЛИ 19 см D7358',\n",
       " 'Чехол для одежды Hausmann со стенкой из ПВХ и ручками 60х100 см GN',\n",
       " 'Антуриум андрианум Блэк d-12 см',\n",
       " 'Комнатное растение в горшке Аспарагус Мейера, d12, h30',\n",
       " 'Молодило Микс d-9 см',\n",
       " 'Фиалка d-11 см',\n",
       " 'Пеларгония зональная Ринго Вайт d-7 см h-10 см укорененный черенок',\n",
       " 'Зверобой продырявленный d-9 см',\n",
       " 'Зверобой продырявленный Оптимист d- 9 см',\n",
       " 'Кружка с трубочкой Attribute МЯЧ 500 мл JAR501',\n",
       " 'Таз алюминиевый, 45 см, SСOVO, ДЕМ МТ-055, 1502081, /1502081',\n",
       " 'Стремянки Colombo Leonardo 2 ступени G300A02W белая 4096',\n",
       " 'Скатерть Towa Co Ажурная Presea прямоуголная 120х150 см сепия 5514',\n",
       " 'Подрукавник Gimi Planet для гладильной доски',\n",
       " 'Чехол для гладильной доски I LOVE GIMI L из полиэстера и хлопка 136*58 см, Gimi',\n",
       " 'Муляж Баклажан 18 см',\n",
       " 'Вешалка металлическая Valiant с четырьмя разъемными перекладинами противоскользящим покрытием 35*30 см 18B30',\n",
       " 'Полотенце прессованное P46 Авто_2, 100% хлопок 278 г/м2, 30х60 см, Wellness, 4607101069064',\n",
       " 'Скатерть Жаклин 50% полиэфир 50% хлопок квадратная 140х140 см бежевая Wellness ML144-Жаклин*17',\n",
       " 'Чехол для гладильной доски Zalger 520111 см металлизированный с поролоном для доски 120х42 см',\n",
       " 'Муляж ЯБЛОКО 9 см красное',\n",
       " 'Чехол для одежды малый 100х60х10 см светло-бежевый Валиант / Valiant TR-106H',\n",
       " 'Чехол для гладильной доски PRISMA TEXTIL термостатический 130х48 см в ассортименте 45',\n",
       " 'Лоток для холодца эмалированный 1,5 л с пластмассовой крышкой с рисунком С-2508Кп/4 Стэма 1506085',\n",
       " 'Стяжка оконная с болтом СТ-55 цинк, 1108354',\n",
       " 'Замиокулькас d-15 см h-30 см',\n",
       " 'Пеперомия d-12 см h-20 см',\n",
       " 'Сушилка уличная Leifheit 85210 LINOMATIC V 400 40 м 175х237х237 см зеленая',\n",
       " 'Муляж Банан желтый 21 см полиуретан',\n",
       " 'Чайник заварочный Luminarc ЭЛИЗ 1,4 л H2258',\n",
       " 'Коврик Sochi 50х80 см коричневый 5801',\n",
       " 'Сумка-тележка хозяйственная Andersen Treppensteiger Scala Shopper, Hera, черная 119-004-80',\n",
       " 'Подкладка под чехол Zalger 520114 135х50 см войлок',\n",
       " 'Сушилка для белья потолочная ЛИАНА ЛЮКС 300 см 300-LDN',\n",
       " 'Герань домашняя (пеларгония зональная) цветущая D12, H25-30, сиреневый, простая',\n",
       " 'Хлебница Webber BE-7010',\n",
       " 'Таз пластмассовый строительный прямоугольный 80 л, 1404085',\n",
       " 'Сушилка для белья потолочно-настенная Gimi Lift 200',\n",
       " 'Коврик придверный полиэстер, 46х76 см, Drifted Nature, Изменчивость, Mohawk, 5007',\n",
       " 'Коврик придверный Alpine Wrought Iron из полиэстера и переработанной резины 45x76 см, Apache, 4649',\n",
       " 'Обувница-3 Квадро цвет венге 70000001в',\n",
       " 'Скатерть 150х120 см WELLNESS WT125-Куэна 100% полиэстер',\n",
       " 'Тарелка суповая ИРИС 21 см J1299 Luminarc',\n",
       " 'Контейнер для овощей Полимербыт 3-х секционный лоток 9 л 4312600',\n",
       " 'Блюдо Pasabahce серия Конья диаметр 354 мм 54372B',\n",
       " 'Кружка МАРЛИ ЭКЛИПС 250 мл H9184 Luminarc Франция',\n",
       " 'Пеларгония розебудная Red Pandora укорененный черенок',\n",
       " 'Скатерть 350х180 см WELLNESS WT358-Лувр*02 100% полиэстер',\n",
       " 'Сушилка для белья потолочная Zalger Lift Comfort 520 120 см 6 м',\n",
       " 'Набор посуды из нержавеющей стали 12 предметов Россия 5512-12',\n",
       " 'Хлебница деревянная (Бук) КБ-028, 35х28х19 см 1524002',\n",
       " 'Сушилка для белья потолочная Лиана 2,0 м 1703009',\n",
       " 'Кастрюля эмалированная, Хозлэнд, 7 л, /1505027',\n",
       " 'Хлорофитум d-13 см',\n",
       " 'Мерный стакан пластиков 1535026',\n",
       " 'Сумка-тележка TWIN стальной каркас 56 л синяя, Gimi',\n",
       " 'Искусственный цветок Подснежник садовый пластиковый розовый',\n",
       " 'Сиденье в ванну раздвижное, белый, СВ5, НИКА',\n",
       " 'Банка с металлической крышкой, COLOR SERIES, круглая, 11*11*12 см, 960 мл VALIANT, JK-D960',\n",
       " 'Банка с металлической крышкой, COLOR SERIES, круглая, 11*11*17 см, 1350 мл VALIANT, JK-C1350',\n",
       " 'Муляж Персики мини полиуретан d-6 см',\n",
       " 'Примула желтая с оранжевым в горшке d-10 см',\n",
       " 'Гладильная доска перф металл \"НИКА 10+\", 122*40, Н10+, НИКА',\n",
       " 'Сушилка для белья RAINBOW COLOR напольная из хромированной стали 201,5х55х93 см, Gimi',\n",
       " 'Эвкалипт Гунни d-14 см h-70 см',\n",
       " 'Миска Фазенда ПЦ2311ЗЛПР 1,5 л',\n",
       " 'Сушилка для белья напольная НИКА СБ1Г 18 м бело-голубая',\n",
       " 'Пеларгония розебудная Apple Blossom укорененный черенок',\n",
       " 'Гладильная доска НИКА LORETA GOLF HL 123х46 см',\n",
       " 'Коробка для хранения бамбук 30х40х25 см Attribute ASB425',\n",
       " 'Герань домашняя (пеларгония зональная) цветущая D12, H25-30, лососевая, махровая',\n",
       " 'Фаленопсис желтый в розовую полоску d-12 см',\n",
       " 'Гладильная доска Eurogold Professional 130х48 см 35748W',\n",
       " 'Герань домашняя (пеларгония зональная) цветущая D12, H25-30, красно-розовая, простая',\n",
       " 'Вешалка настенная НИКА ВН3 3 крючка медный антик',\n",
       " 'Вешалка самоклеющая на 4 крючка 1110008',\n",
       " 'Муляж Морковь 16 см',\n",
       " 'Штора для ванной и душа текстильная, 180х200см.\"Лилии\", бежевый/белый с розовыми цветами, H125',\n",
       " 'Покрывало жаккард шенилл BIRHOME VALENTIN 240х260 см наволочки 50х70 см 2 шт 9234567089661',\n",
       " 'Бальзамин новогвинейский d-13 см розовый',\n",
       " 'Вешалки мягкие для деликатных вещей 3 шт шоколад',\n",
       " 'Чехол для гладильной доски Zalger 520132 114х37 см бязь для доски 110х32 см',\n",
       " 'Таз пластмассовый 10,0 л пищевой круглый С12128, 1404093',\n",
       " 'Ароматизированное средство дудаления известкового налета и ржавчины DECS WC Гель Лимон 750 мл Россия 4660015923235',\n",
       " 'Бальзам для мытья посуды Mama Ultimate EcoSoda 1000 мл Россия 044684',\n",
       " 'Средство для мытья пола ECOMATIC GREEN CLEANER 1000 мл Испания 126109',\n",
       " 'Стремянка бытовая Zalger 111-5 алюминиевая 5 ступенек',\n",
       " 'Набор фужеров для вина АЛЛЮР 6шт 250мл, G5747, Luminarc, Франция',\n",
       " 'Набор фужеров для вина МАСКАРАД 6шт 250мл, G5544, Luminarc, Франция',\n",
       " 'Комплект махровых полотенец 60х30 см WELLNESS ПРОМО_3 100% хлопок',\n",
       " 'Кружка ТАЧКИ 250мл E9131 H1496 Luminarc Франция',\n",
       " 'Цветок искусственный Нарцисс одиночный в ассортименте 35 см',\n",
       " 'Сумка-тележка 3-х колесная Gimi Tris красная',\n",
       " 'Кружка Luminarc ДИСНЕЙ МИККИ КОЛОРС 250 мл L2127-1',\n",
       " 'Кружка О МИННИ 250 мл H6441 Luminarc Франция',\n",
       " 'Нож универсальный PRO 13 см, Attribute, AKL113',\n",
       " 'Таз пластмассовый 15,0 л пищевой овальный \"Ekko\" 2775, 1404032',\n",
       " 'Вешалка для брюк металлическая с резиновым покрытием 26 см цвет: синяя, Attribute, AHS331',\n",
       " 'Ранункулус Клуни Ханои 45 см Нидерланды 10 штук в упаковке',\n",
       " 'Автоматическая щетка Leifheit для мытья окон с ручкой 43 см. 51114',\n",
       " 'Салатник АСПЕН 18 см H4121 Luminarc',\n",
       " 'Сушилка для белья ЛИАНА ЛЮКС 210 см потолочная',\n",
       " 'Штора для ванной комнаты 182х182 см ПВХ Meiwa, Krackle прозрачный 5911',\n",
       " 'Набор инструментов в алюминиевом кейсе на колесиках с ручкой КУЗЬМИЧ 187 предметов НИК-001/187',\n",
       " 'Лестница-стремянка Dogrular Ufuk оцинкованная 4-х ступенчатая',\n",
       " 'Мини-сковорода Marmiton \"Сердце\" с антипригарным покрытием 12 см, LG17085',\n",
       " 'Сковорода алюминиевая с антипригарным покрытием MARBLE ALPENKOK d = 26 см AK-0039A/26N',\n",
       " 'Стеклянная крышка для сковороды ALPENKOK 26 см AK-26GL',\n",
       " 'Сушилка для белья напольная Colombo Star 18, 3679',\n",
       " 'Муляж Апельсин 8 см полиуретан',\n",
       " 'Таз пластмассовый 16,0 л пищевой овальный с ручками С125, 1404040',\n",
       " 'Сковорода алюминиевая с керамическим покрытием БЬЯНКА Вок 20 см, TVS, 4L10520',\n",
       " 'Цветок искусственный Крокус 20 см',\n",
       " 'Тарелка обеденная АЛЬТО САПФИР 26 см J1749 Luminarc',\n",
       " 'Щетка-сметка с пластиковой ручкой ЛАУРА SV3020',\n",
       " 'Сциндапсус в ассортименте d-7 см h-10 см укорененный черенок',\n",
       " 'Полотенце прессованное P48 Сердце_3, 100% хлопок 278 г/м2, 30х60 см, Wellness, 4607101069088',\n",
       " 'Окномойка с алюминиевой телескопической ручкой 120 см, щетка 25 см, 57572 1804047',\n",
       " 'Сушилка для белья потолочная Лиана 1,8 м 1703007',\n",
       " 'Новогоднее дерево Ель сербская d-21 см h-60 см',\n",
       " 'Аспарагус Спренжери d-12 см',\n",
       " 'Антуриум Тропик Найт НИДЕРЛАНДЫ 1 штука в упаковке',\n",
       " 'Гладильная доска НИКА BRUNA M HBM 122х40 см',\n",
       " 'Коврик хлопковый 45х75 см цвета в ассортименте 6195',\n",
       " 'Сумка-тележка 2-х колесная складная Gimi Flexi зеленая',\n",
       " 'Сумка-тележка хозяйственная Rolser MNB019 rojo LOGIC DOS+2 красная',\n",
       " 'Гладильная доска Sarayli New Elegant 125x45 см',\n",
       " 'Тележка багажная DELTA ТБР-20 коричневый с оранжевым грузоподъемность 25 кг сумка и 50 кг каркас РОССИЯ',\n",
       " 'Искусственный цветок Гвоздика садовая пластиковая белая',\n",
       " 'Сушилка для белья на батарею, СБ5-45, НИКА',\n",
       " 'Муляж Ананас 21 см',\n",
       " 'Чехол Eurogold Clean Basic хлопок для досок 120х38-120х42 см C42',\n",
       " 'Таз пластмассовый 16,0 л пищевой круглый М2507, 1404037',\n",
       " 'Сушилка для белья потолочная ЛИАНА ЛЮКС 170 см ЛЛП-170',\n",
       " 'Муляж Вишня на магните',\n",
       " 'Муляж Зеленое яблоко полиуретан d-6 см',\n",
       " 'Муляж Красное яблоко мини полиуретан d-6 см',\n",
       " 'Полки QWERTY Лондон белый 27х27х10 см и 23х23х10 см 72000',\n",
       " 'Разделочная доска Attribute GRANITE 20х30 см ABX111',\n",
       " 'Урна уличная \"Гео\", Hobbyka/Хоббика, 59*37,5см, сталь',\n",
       " 'Фиалка d-9 см белая махровая',\n",
       " 'Сушилка для белья Meliconi Miss Stendy',\n",
       " 'Подрукавник Leifheit Stabil для гладильной доски, 71816',\n",
       " 'Сушилка для белья Eurogold STABILO 18 напольная 0503 SE',\n",
       " 'Салфетка Камушки транспарент 30*40 см 5187 Dasch',\n",
       " 'Корзина для белья KNIT CURVER 57 л белая 03676-X64-00',\n",
       " 'Муляж \"Райские Яблочки Зеленые\" 2 шт полиуретан, d 3 см',\n",
       " 'Муляж Банан, желтый, 21 см, полиуретан, Fancy Fair/ff XJ210',\n",
       " 'Муляж Виноград 14 см цвет в ассортименте',\n",
       " 'Муляж ГРАНАТ 9см, красный, Fancy Fair, SL90, красный',\n",
       " 'Муляж Груша мини 2 шт, желтая 4 см',\n",
       " 'Муляж Груша, желтый, 9,5 см, полиуретан, Fancy Fair/ff LI95-03',\n",
       " 'Муляж Клубника 1 шт полиуретан d-6 см',\n",
       " 'Муляж Клубника на магните',\n",
       " 'Муляж Лимон, желтый, 9 см, полиуретан, Fancy Fair/ff NM90',\n",
       " 'Муляж Мандарин, оранжевый, 8 см, полиуретан, Fancy Fair/ff JZ80',\n",
       " 'Муляж Перец, зеленый, 10 см, полиуретан, Fancy Fair/ff GP8',\n",
       " 'Муляж Перец, красный, 10 см, полиуретан, Fancy Fair/ff RP8',\n",
       " 'Муляж Томат, оранжевый, 9 см, полиуретан, Fancy Fair/ff T9',\n",
       " 'Муляж ЧЕРЕШНЯ 3см 10 шт., желтый, Fancy Fair, SCR30/10, желтый',\n",
       " 'Полки QWERTY Мадрид белый/чёрный 50х30х12 см 2 штуки и 30х24х12 см 2 штуки 72019',\n",
       " 'Сковорода HARD 28 см, алюминиевая, с антипригарным покрытием, Attribute, AFD028',\n",
       " 'Сушилка для белья потолочная Лиана 1,7 м 1703006',\n",
       " 'Сушилка для белья настенная Zalger Prima 510-720 веревочная 7 линий 25 м',\n",
       " 'Сумка-тележка 2-х колесная Gimi Galaxy черная',\n",
       " 'Сушилка для белья потолочная ЛИАНА ЛЮКС 160 см ЛЛП-160',\n",
       " 'Термостакан WEBBER ВЕ-6031 ЧАЙ 450 мл',\n",
       " 'Корзина для глаженного белья NATURAL STYLE пластиковая темно-серая 45 л 38х59,2х27 см, Curver, D 00708-308',\n",
       " 'Сумка для тележки малая комбинированная, 1209024',\n",
       " 'Стремянка 5 ступенчатая Hailo 8925-901 L9 алюминиевая',\n",
       " 'Тележка багажная DELTA ТБР-21 черный грузоподъемность 25 кг для сумка и 50 кг для каркас РОССИЯ',\n",
       " 'Подкладка под чехол Zalger 520140 135х50 см поролон',\n",
       " 'Чехол для гладильной доски Zalger 520109 130х48 см хлопок, войлок для доски 125х43 см',\n",
       " 'Сумка-тележка 2-х колесная Gimi Family синяя',\n",
       " 'Чехол для гладильной доски Zalger 520138 140х50 см металлизированный с поролоном для доски 135х45 см',\n",
       " 'Чехол для гладильной доски с дизайном Venezia 140х55 см из хлопка',\n",
       " 'Искусственная лиана Плющ 2,4 м',\n",
       " 'Полки QWERTY Торонто белый 40х10 см 35х10 см 30х10 см 25х10 см 72015',\n",
       " 'Сушилка Meliconi Stendy Junior',\n",
       " 'Таз пластмассовый 30,0 л овальный (Белоруссия), 1404049',\n",
       " 'Сушилка для белья Gimi Top Super / Moving',\n",
       " 'Тележка багажная DELTA ТБР-20 черный с серым грузоподъемность 25 кг сумка 50 кг каркас РОССИЯ',\n",
       " 'Гладильная доска НИКА BLUES 124х46 см 5757',\n",
       " 'Подставка для обуви резиновая Attribute 80x40 см AMC080',\n",
       " 'Совок для золы металлический с длинной металлической ручкой черный 1805003',\n",
       " 'Таз пластмассовый 4,5 л пищевой \"Космея\" (Ангора) 1404092',\n",
       " 'Сушилка для белья потолочная Zalger Lift Comfort 520 180 см 9 м',\n",
       " 'Термокружка Яромир КРЕМЛЬ ЯР-2406М 400 мл',\n",
       " 'Гвоздика стандартная Белая 60 см Колумбия Плантация Geoflora S.A.S. 25 штук в упаковке',\n",
       " 'Гладильная доска Zalger Amelia 400-401 ДСП 115х30 см',\n",
       " 'Сушилка для белья потолочно-настенная Gimi Lift 120',\n",
       " 'Гладильная доска Dogrular Томрис 120x38 см',\n",
       " 'Азалия Индика фиолетовая d-10 см h-20',\n",
       " 'Муляж Лимон желтый 9 см полиуретан',\n",
       " 'Плед флисовый 200х150 см WELLNESS WPL152-Атланта_88 100 % полиэстер',\n",
       " 'Набор стаканов Ежевика 3 шт 300 мл ДСГ424020311',\n",
       " 'Махровое полотенце 50х30 см WELLNESS *АМЕЛИ_1-31 100% хлопок',\n",
       " 'Искусственный цветок Роза закрытая малая пластиковая розовая',\n",
       " 'Паста для полировки \"ГОИ\" 25 гр',\n",
       " 'Гладильная доска НИКА СТЕЛЛА Классик 1 122х34,5 см СТК1',\n",
       " 'Рукав для гладильной доски COLOMBO STIRAMANICHE 53Х13 см B138LGPW',\n",
       " 'Базилик Пурпурные Звезды d-7 см',\n",
       " 'Ковер придверный Tango RUS 60х90 см белый РВ322',\n",
       " 'Настенная сушилка для белья Gimi Brio Super 120',\n",
       " 'Сушилка для белья потолочная Zalger Lift Basic 1520 200 см 10 м',\n",
       " 'Сушилка для белья напольная COLOMBO ALPINA 40MT ST194/4CF',\n",
       " 'Муляж Яблоко зеленый 9 см полиуретан',\n",
       " 'Роза мини желтая d-7 см h-10',\n",
       " 'Стеллаж для обуви светлый TELIO-350 OPT-350S',\n",
       " 'Щетка универсальная с телескопической ручкой DUSTY, Leifheit, 41510',\n",
       " 'Комнатное растение в горшке Сциндапсус зеленый подвесной горшок, d15-16, h30',\n",
       " 'Сумка-тележка хозяйственная Rolser BAB010 negro JOY-1800 черная',\n",
       " 'Щетка-сметка 4-х рядная деревянная 300 мм (фигурная ручка) ворс 5,5 см 1801096',\n",
       " 'Герань домашняя (пеларгония зональная) цветущая D12, H25-30, малиновая с красным, полумахровая',\n",
       " 'Коврик резиновый ажурный Iron Grill 45х75 см 6207',\n",
       " 'Коврик придверный из резины и кокоса, 40х68 см, Format Forme, Кот, серый, PHP SRL, 20920',\n",
       " 'Герань домашняя (пеларгония зональная) цветущая , D12, H25-30, красная, махровая',\n",
       " 'Гладильная доска НИКА ДСП ЭКОНОМ 106,5х29 ЭК1',\n",
       " 'Эхеверия Перл Фон Нюрнберг d-7 см',\n",
       " 'Сушилка для белья потолочно-настенная Gimi Lift 100',\n",
       " 'Ложка обувная металлическая крашенная 220, 1205155',\n",
       " 'Перчатки резиновые универсальные Centi, р-р M, York, G9212',\n",
       " 'Плечики пластмассовые Размер 48 - 54 МП 1205160',\n",
       " 'Ролик для чистки одежды *Clear Line* (20 слоев), 1205060',\n",
       " 'Сменный блок для ролика 2 шт (R160071), Rozenbal, R510100',\n",
       " 'Коврик в ванну 36х71 см, Розовый',\n",
       " 'Мирт d-20 см h-25 см',\n",
       " 'Полки QWERTY Нью-Йорк правый белый/голубой 44х24х10 см 40х20х10 см 36х16х10 см 72012',\n",
       " 'Полка для обуви Hausmann 70х27х40 см коричневый HM-3011',\n",
       " 'Сумка-тележка хозяйственная Rolser IMX006 bassi Logic Tour бордовая',\n",
       " 'Сумка-тележка хозяйственная RolserJet C. Capri Joy фиолетовая, JET017 malva JOY',\n",
       " 'Сиденье для гладильной доски Leifheit Niveau, 71325',\n",
       " 'Банка с крышкой Attribute 760 мл и бугельным замком JAR760',\n",
       " 'Термокружка вакуумная Alpenkok из нержавеющей стали AK-04002A коричневая 400 мл',\n",
       " 'Вешалка с закругленными плечиками без перекладины с противоскользящим покрытием Valiant 226B10 черный',\n",
       " 'Подарочный набор на 8 Марта Пеларгония белая d-12 см в подарочной упаковке с открыткой',\n",
       " 'Насадка-моп ROZENBAL синтетическая с вкраплениями из латекса с итальянской резьбой R190237',\n",
       " 'Вешалка-сушилка Gimi Paco',\n",
       " 'Стремянка DOGRULAR КЛАСС ПЛЮС 4 ступени 123304',\n",
       " 'Суккулент Микс d-5 см',\n",
       " 'Сушилка для белья ЛИАНА ЛЮКС 190 см потолочная',\n",
       " 'Сушилка для белья НИКА СБ2Б 20 м',\n",
       " 'Герань домашняя (пеларгония зональная) цветущая D12, H25-30, розовая с малиновым, полумахровая',\n",
       " 'Герань домашняя (пеларгония зональная) цветущая D12, H25-30, ярко красная, махровая',\n",
       " 'Герань домашняя (пеларгония зональная) цветущая D12, H25-30, ярко розовая, полумахровая',\n",
       " 'Пеларгония d-13 см с топпером на День учителя в подарочной упаковке',\n",
       " 'Роза патио белая d-12 см h-30',\n",
       " 'Роза патио красная d-12 см h-30',\n",
       " 'Роза патио оранжевая d-12 см h-30',\n",
       " 'Сушилка для белья потолочная ЛИАНА ЛЮКС 250 см ЛЛП-250',\n",
       " 'Коврик влаговпитывающий ребристый 40х60 см Стандарт черный 5872',\n",
       " 'Кастрюля круглая 20 см серая 2,2 л, чугунная с крышкой, PYREX, SC4AC20',\n",
       " 'Калоцефалус Брауни крашеный осенний микс d-10 см',\n",
       " 'Азалия Индика Биколор d-12 см h-20',\n",
       " 'Вешалка для блузок 41 см красный Attribute AHM781',\n",
       " 'Вешалки мягкие для деликатных вещей 3 шт голубые',\n",
       " 'Пеларгония Angeleyes Orange укорененный черенок',\n",
       " 'Кастрюля чугунная 24 см, красная, 3.6 л, PYREX, SC5AC24/5141',\n",
       " 'Драцена фрагранс Компакта d-12 см',\n",
       " 'Салфетка махровая Радуга в разноцветную полоску, 100% хлопок 312 г/м2, 31х31 см, Wellness, 4630005360012',\n",
       " 'Сушилка для белья потолочная ЛИАНА ЛЮКС 200 см ЛЛП-200',\n",
       " 'Сушилка для белья потолочная Лиана 1,4 м 1703003',\n",
       " 'Ножеточка универсальная \"Рыбка\" 1519028',\n",
       " 'Вешалка-плечики без эссенции цвет тёмно-розовый FWM/L-Pink',\n",
       " 'Скребок для окон с рукояткой, Rozenbal, R214025',\n",
       " 'Термос со стеклянной колбой 1,2 л 21013',\n",
       " 'Масленка КОРОВКА с крышкой 17см, 73115, Luminarc, Франция',\n",
       " 'Герань домашняя (пеларгония зональная) цветущая D12, H25-30, малиновая, махровая',\n",
       " 'Герань домашняя (пеларгония зональная) цветущая D12, H25-30, малиново розовая, простая',\n",
       " 'Герань домашняя (пеларгония зональная) цветущая D12, H25-30, розовая, махровая',\n",
       " 'Карниз для ванной комнаты Виолет раздвижной 210 см с кольцами серый 2110/8',\n",
       " 'Вешалка напольная ATLANT 90х42 см VATL-1 светлая Степанов',\n",
       " 'Муляж Виноград желтый 24 см полиуретан',\n",
       " 'Муляж Груша желтый 9,5 см полиуретан',\n",
       " 'Муляж Желудь 2 шт',\n",
       " 'Муляж Мандарин оранжевый 8 см полиуретан',\n",
       " 'Муляж Перец Чили мини 2 шт, красный 7 см',\n",
       " 'Муляж Персик 9 см полиуретан',\n",
       " 'Муляж Черешня 10 штук d 2,5 см, цвет в ассортименте',\n",
       " 'Муляж Яблоко, оранжевый, 8,5 см, полиуретан',\n",
       " 'Карниз для ванной комнаты Виолет раздвижной 280 см с кольцами бежевый 2810/2',\n",
       " 'Стремянка металлическая 5 ступеней, СМ5, НИКА',\n",
       " 'Гладильная доска Dogrular Домина 125х42 см 223708',\n",
       " 'Сковорода алюминиевая с антипригарным покрытием Scovo Expert СЭ-028 диаметр 240 мм с крышкой, Хозлэнд, 1503008',\n",
       " 'Чехол для одежды объемный Hausmann с овальным окном ПВХ и ручками 60х100х10 см черный HM-701003AG',\n",
       " 'Мыло ручной работы Свинюшка в грязюшке 90 г',\n",
       " 'Щётка для унитаза нержавеющая сталь, FC-51001D',\n",
       " 'Герань домашняя (пеларгония зональная) цветущая D12, H25-30, белая, махровая',\n",
       " 'Искусственный цветок Букет Примулы пластиковая желтая',\n",
       " 'Кодонанта укорененный черенок 1 шт',\n",
       " 'Сушилка для белья потолочная Лиана 1,6 м 1703005',\n",
       " 'Гладильная доска ДСП \"БЭЛЛЬ-ЮНИОР2\", 112*34,5, БЮ2, НИКА',\n",
       " 'Сумка-тележка хозяйственная Andersen Scala Shopper Plus, Hava, синяя 133-103-90',\n",
       " 'Гладильная доска НИКА ВЕРОНА 1 чехол РЕТРО 122х42 см ДВ1р',\n",
       " 'Швабра САЛЬСА треугольная МИНИ, Y8110',\n",
       " 'Измерительный алюминиевый угольник, 20*30 см, Truper, E-8X12/14386',\n",
       " 'Линейка, длина 30 см, Truper, RGL-30/14387',\n",
       " 'Корзина пластиковая для белья 40л. с крышкой белая 1840/06, Виолет',\n",
       " 'Сумка-тележка Brava Plus',\n",
       " 'Сушилка для белья настенная НИКА СН90 серебро 90 см',\n",
       " 'Стремянка алюминиевая 5 ступеней, СА5, НИКА',\n",
       " 'Тимьян d-9 см',\n",
       " 'Таз пластмассовый 15,0 л пищевой (Галс), 1404057',\n",
       " 'Стремянка-табурет алюминиевая Hailo L90 Step-ke 4442-701 2х2 ступени',\n",
       " 'Tepмокружка AVEX Freeflow 700 мл сталь AVEX0776',\n",
       " 'Ткань универсальная из микрофибры Micro Magic серая, Leifheit, 40020',\n",
       " 'Салатник Luminarc ЭМПИЛАБЛЬ ВЕЛАДА 17 см L7997',\n",
       " 'Терка WEBBER из нержавеющей стали ВЕ-054 6 граней 21 см',\n",
       " 'Пеларгония розебудная Queen Ingrid укорененный черенок',\n",
       " 'Муляж Груша мини 2 шт желтая 4 см',\n",
       " 'Муляж Зеленое яблоко полиуретан d-5 см',\n",
       " 'Ведро резинопластиковое строительное 12,0 л (МП), 1402018',\n",
       " 'Муляж Виноград зеленый 26 см полиуретан',\n",
       " 'Циперус Зумула d-12 см h-25 см',\n",
       " 'Штора для ванной комнаты 240х200 Rigone розовая текстильная 240х200 см 6043',\n",
       " 'Нож для стейка Attribute CHEF 12 см AKC034',\n",
       " 'Гладильная доска Zalger Perfo Midi 500-702 120х38 см',\n",
       " 'Комнатное растение в горшке Плющ, хедера салатовая листва подвесной горшок, d16, h30',\n",
       " 'Вантуз с деревянной ручкой d14 см красный, Burstenmann, 0522/0000',\n",
       " 'Сумка-тележка хозяйственная Rolser Jet C. Capri Joy черная, JET017 negro JOY',\n",
       " 'Карниз для ванной комнаты Виолет раздвижной 280 см с кольцами белый 2810/6',\n",
       " 'Кувшин пластмассовый с крышкой \"Кумган\" 2,0 л 1408003',\n",
       " 'Вешалка-стойка Сакура Авангард венге',\n",
       " 'Сумка-тележка GIMI Easy Go красная',\n",
       " 'Цитрофортунелла Кумкват штамбовая d-21 см h-75 см',\n",
       " 'Жестяная банка Гуси П67*98h98v060-01338',\n",
       " 'Сумка-тележка хозяйственная Rolser Plegamatic Orbita Gloriaфиолетовая, PLE055 malva PLEGABLE',\n",
       " 'Эвкалипт Гунни d-17 см h-60 см',\n",
       " 'Альбука Спиралис Фризл-Сизл d-12 см',\n",
       " 'Корзина для белья ВИОЛЕТ с крышкой Ротанг 40 л латте 1840/20',\n",
       " 'Сумка-тележка хозяйственная Gimi Easy Go синяя',\n",
       " 'Швабра для мытья окон Leifheit Hausrein с телескоп. ручкой, Micro Duo, 51120',\n",
       " 'Корзина для белья KNIT 57 л темно-коричневая, Curver, 03676-X59-00',\n",
       " 'Сервировочная салфетка ПВХ 26х41 см Капучино 6163',\n",
       " 'Цветок искусственный Подсолнух 60 см',\n",
       " 'Гладильная доска НИКА БЭЛЛЬ 106,5х29 см Б',\n",
       " 'Штора для ванной комнаты Bacchetta Verga белая текстильная 180х200 см 6033',\n",
       " 'Чехол для гладильной доски Dogrular 3202 140х50 см тефлоновый',\n",
       " 'Урна-пепельница из стали, Hobbyka/Хоббика, 72*30см, 112',\n",
       " 'Декоративная композиция искуственных цветов Букет Пионов три цветка, цвет в ассортименте 80 см',\n",
       " 'Каланхое каландива белое d-7 см',\n",
       " 'Примула акаулис Микс d-10 см',\n",
       " 'Ёрш унитазный с подставкой WC \"Люкс\", Мультипласт, 1712007',\n",
       " 'Держатель для туалетной бумаги С373 \"Полимербыт\" 1713006',\n",
       " 'Пробка для ванны резиновая (Д-40 мм) 1206155',\n",
       " 'Штора для ванной с кольцами RL-0071 Мыльные пузыри 180х180 см',\n",
       " 'Урна-пепельница из нержавеющей стали, Hobbyka/Хоббика, 83*38см, ПА022',\n",
       " 'Вешалка Valiant для брюк и юбок металлическая 30*10.5 см 121B11',\n",
       " 'Корзина для белья пластмассовая 45 л угловая С299 1704006',\n",
       " 'Штора со встроенными кольцами под штангу для ванны и душа жаккард, полиамидное покрытие, 180х200, бежевый, HSC/ST05/beige',\n",
       " 'Штора со встроенными кольцами под штангу для ванны и душа жаккард, полиамидное покрытие, 180х200, белый, HSC/ST04/white',\n",
       " 'Коврик придверный с дизайном, из резины и кокоса 58,5*89 Gothic Iron Slice / Готический Узор, 4468',\n",
       " 'Швабра хозяйственная для пола HAUSREIN Wet 42х15 см серая гладкая ручка, Leifheit, 55037',\n",
       " 'Сушилка для белья Hausmann Asteria 9 м 100101',\n",
       " 'Коврик придверный влаговпитывающий Hello, Bonjour, Ciao из переработанной резины и коврового покрытия 60х90 см, Apache, 4658',\n",
       " 'Мешок для строительного мусора 95х55 см, зеленый 1803003',\n",
       " 'Штора для ванной Spirella / Спирелла TEX Shine текстиль с гидрофобной пропиткой, шампань, 180*200 см, 1015640',\n",
       " 'Коврик придверный хлопковый 60х140 см мультиколор, Helex, С04',\n",
       " 'Веник для подметания из сорго LUX 400-450 г 3 шва 5 колец',\n",
       " 'Коврик придверный, полукруглый из резины и кокоса, 40х68 см, Format Mezzaluna, Розетта, коричневый, PHP SRL, 20657',\n",
       " 'Ковёр придверный \"Лапша\" 60х90см коричневый',\n",
       " 'Искусственная композиция из цветов пластиковая Лилия мини лиловая',\n",
       " 'Сушилка для белья напольная НИКА СБ3Б 10 м белая',\n",
       " 'Гладильная доска НИКА LORA FASHION HLF 123х46 см',\n",
       " 'Сушилка для белья ВИОЛЕТ FH EXTRA 18 м белая ВЛ869',\n",
       " 'Вешалка для верхней одежды Attribute NEO BLUE 45 см AHS711',\n",
       " 'Сушилка для белья ЛИАНА ЛЮКС 120 см потолочная',\n",
       " 'Коробка INFINITY CURVER перфорированная с крышкой 17 л белая 04742-N23-00',\n",
       " 'Штангенциркуль 150 мм пластмассовый, точность 0,1 мм 3015515, 0910007',\n",
       " 'Карниз для ванной комнаты Виолет раздвижной 210 см с кольцами белый 2110/6',\n",
       " 'Корзина для белья Виолет Ротанг 2350/2 угловая с крышкой 60 л бежевая',\n",
       " 'Штора со встроенными кольцами под штангу для ванны и душа жаккард, полиамидное покрытие, 180х200, розовый, HSC/ST04/pink',\n",
       " 'Ложка кухонная Attribute IVORY AGI030',\n",
       " 'Настенная сушилка для белья Gimi Brio Super 100',\n",
       " 'Сушилка для белья потолочная Лиана 2,2 м 1703010',\n",
       " 'Муляж Тыквы d-8 см',\n",
       " 'Сушилка для белья настенная Leifheit Teleclip 100 7,4 м, белая, 83304',\n",
       " 'Бальзамин новогвинейский d-13 см ярко красный',\n",
       " 'Пеларгония зональная Мультиблум Скарлет Ай d-7 см h-10 см укорененный черенок',\n",
       " 'Сковорода алюминиевая с антипригарным покрытием MARBLE ALPENKOK d = 22 см AK-0037A/22N',\n",
       " 'Ополаскиватель для посудомоечных машин Ludwik 750 мл Польша 5900861242715',\n",
       " 'Сетка для глажения Ява РТК26 45х65 см, 1200023',\n",
       " 'Сушилка для белья Gimi Alablock',\n",
       " 'Столовая ложка Attribute FORTRESS 2 шт ACF622',\n",
       " 'Сумка-тележка хозяйственная Rolser IMX004 negro Logic RG черная',\n",
       " 'Швабра многофункциональная, Rozenbal, R212522',\n",
       " 'Швабра для пола с отжимом и фиксатором микрофибра, R212608, ROZENBAL',\n",
       " 'Тарелка суповая МОКА БРАУН 22,5 см H7012 Luminarc',\n",
       " 'Вешалка напольная ATLANT бук темная 154-179х90х42 см см на колесиках Степанов',\n",
       " 'Зубная паста Systema Tartar против образования зубного камня 120 г Корея 8806325-616764',\n",
       " 'Полки QWERTY Барселона белый 28х28х15 см 23х23х15 см 17х17х15 см 72009',\n",
       " 'Кружка Luminarc ШЭЙДС БЛЭК 320 мл H8401',\n",
       " 'Вешалка-стойка № 9 Дерево ЗМИ медный антик ВНП 211 М',\n",
       " 'Тележка багажная DELTA DT-22 коричневый грузоподъемность 20 кг сумка и 50 кг каркас РОССИЯ',\n",
       " 'Вешалка напольная TWIST складная 45*35 VRTW-1 светлая Степанов',\n",
       " 'Настенная сушилка для белья Gimi Brio Super 60',\n",
       " 'Столовая ложка 3 шт Боннтяжелая СЛBonn-2',\n",
       " 'Тарелка суповая Luminarc МАРИСА ОРАНЖ 20 см J7687',\n",
       " 'Сметка с совком Престиж, York, G6207',\n",
       " 'Сушилка для белья ЛИАНА ЛЮКС 110 см потолочная',\n",
       " 'Гладильная доска НИКА 9 122х40 см Н9',\n",
       " 'Кофр для хранения одеял Hausmann 60х50х35 см AA003',\n",
       " 'Скатерть Беатрис 50% полиэфир 50% хлопок прямоугольная 300х145 см светло-коричневая Wellness ML304-Беатрис*20',\n",
       " 'Штанга для ванной Г-образная, угловая 80Х170 см, хром',\n",
       " 'Сушилка для белья ВИОЛЕТ Ricko 5м Rk-5/100 настенная',\n",
       " 'Скатерть Dasch Донна Роза из ПВХ 0401-2 Розы овальная 122х152 см 5953',\n",
       " 'Мята перечная Тач Tachi d-7 см h-10 см мандариновая мята укорененный черенок',\n",
       " 'Сумка-тележка хозяйственная GIMI KANGOO THERMO powder коричневая',\n",
       " 'Корыто оцинкованное 45 л бесшовное, 1303007',\n",
       " 'Таз пластмассовый 18,0 л пищевой (Иж), 1404047',\n",
       " 'Таз пластмассовый 20,0 л пищевой (Минеральные воды), 1404045',\n",
       " 'Таз пластмассовый 24,0 л пищевой круглый (Иж), 1404006',\n",
       " 'Таз пластмассовый 10,0 л круглый (350х170) \"М- пластик\" М2506, 1404091',\n",
       " 'Таз пластмассовый 13,0 л пищевой с меркой (Минеральные воды), 1404028',\n",
       " 'Таз пластмассовый 14,0 л пищевой (Иж), 1404079',\n",
       " 'Таз пластмассовый 15,0 л пищевой (Минеральные воды), 1404038',\n",
       " 'Таз пластмассовый 16,0 л круглый С12129, 1404034',\n",
       " 'Таз пластмассовый 16,0 л пищевой с ручками (С203/303) \"Полимербыт\", 1404039',\n",
       " 'Таз пластмассовый 40,0 л пищевой овальный (Иж), 1404094',\n",
       " 'Салатник КАРИН ГРАНИТ 12см N6615 Luminar Франция',\n",
       " 'Банка стеклянная с крышкой Attribute FLEUR 650 мл ABF135W',\n",
       " 'Искусственный цветок Калла большая пластиковая бело-зеленая',\n",
       " 'Сушилка для белья напольная COLOMBO FLOWER 30MT ST798',\n",
       " 'Защитная соль для посудомоечных машин Ludwik 1,5 кг Польша 5900861242227',\n",
       " 'Чехол для гладильной доски Attribute METAL 140х60 см ABM106',\n",
       " 'Антуриум андрианум Многоцветковый Красный d-12 см',\n",
       " 'Корзина для белья ЭЛЬФПЛАСТ Виола 30 л коричневая 204к',\n",
       " 'Вешалка-плечики без эссенции цвет тёмно-розовый FWM-002/Quartz pink',\n",
       " 'Тряпка для кафеля и паркета микрофибра макси 40х50 см ВИТНЕТТ, Rozenbal, R212766',\n",
       " 'Чехол для гладильной доски PRISMA TEXTIL из хлопка 125х43 см в ассортименте 41',\n",
       " 'Цветок искусственный Роза с открытим бутоном цвет в ассортименте 48 см',\n",
       " 'Искусственный цветок Мимоза пластиковая желтая',\n",
       " 'Ведро для мусора Meliconi Любимцы 14 л 5667',\n",
       " 'Сахарница фарфоровая LAVENDER BLADE 10 см, Domenik, DM9247',\n",
       " 'Увлажняющая маска Brown Rice Moisture 330 мл Корея 599928',\n",
       " 'Швабра Leifheit Wet Mop хозяйственная для пола. 56710',\n",
       " 'Сумка-тележка хозяйственная багажная D-Т125 красная грузоподъемность 30кг,',\n",
       " 'Щетка хозяйственная DRESSETTA для одежды с пластиковой ручкой бело-красная, Leifheit, 41000',\n",
       " 'Эхеверия Лила Чина d-10 см',\n",
       " 'Сумка-тележка хозяйственная Welfull Daisy, черная 100-002-80',\n",
       " 'Чехол для костюма 60х110 см Rozenbal R261016',\n",
       " 'Скатерть Dasch Донна Роза из ПВХ 0018-8 Букет овальная 132х178 см 5979',\n",
       " 'Сушилка для белья настенная складная алюминиевая Telegant 100 103,5х53,5 см белая, Leifheit, 83305',\n",
       " 'Штора для ванной комнаты Bacchetta Rigone серая текстильная 180х200 см 3640',\n",
       " 'Роза мини оранжевая d-7 см h-10',\n",
       " 'Тележка багажная DELTA DT-22 синий грузоподъемность 20 кг сумка и 50 кг каркас РОССИЯ',\n",
       " 'Коврик противоскользящий кружевной 88х38 см голубой 5527',\n",
       " 'Вешалка деревянная с расширенными плечиками и перекладиной 44,5х23 см см серый JAPANESE BLACK VALIANT JB-19708',\n",
       " 'Сумка-тележка хозяйственная Rolser Jet Joy синяя, JET001 azul JOY',\n",
       " 'Цикламен d-12 см h-20 см белый с малиновой серединой',\n",
       " 'Штора текстильная для ванны и душа полиэстер, \"Бамбук\" 180х200см, зелёный/белый, DSCN3579',\n",
       " 'Бальзамин новогвинейский d-13 см белый с розовым цвет фуксии с белыми вкраплениями',\n",
       " 'Пеларгония розебудная Margaretha укорененный черенок',\n",
       " 'Лестница-стремянка Dogrular Ufuk Al алюминевая 4-х ступенчатая',\n",
       " 'Лестница-стремянка Dogrular Ufuk оцинкованная 8-ми ступенчатая',\n",
       " 'Сумка-тележка 2-х колесная Gimi Argo красная',\n",
       " 'Муляж Томат оранжевый 9 см полиуретан',\n",
       " 'Кувшин пластмассовый с крышкой 2,0 л, (S-751) \"Пластхозторг\" 1408004',\n",
       " 'Розмарин d-12 см',\n",
       " 'Веник для подметания из сорго 225 г 2 шва',\n",
       " 'Тележка хозяйственная складная, ТХ0252, 30 кг, Пэмби',\n",
       " 'Роза одноголовая Родос 70 см Кения плантация Subati Flowers Limited 10 штук в упаковке',\n",
       " 'Антинакипин для утюгов Ампулы 10 мл по 5 шт UN MOMENTO Россия 4627096350107',\n",
       " 'Электроштопор QWERTY белый 4,5?23,4 см на батарейках 4хАА 71000',\n",
       " 'Сушилка для белья Gimi Duplo',\n",
       " 'Калатея Микс d-12 см',\n",
       " 'Цветущее комнатное растение Хризантема диаметр горшка 18 см',\n",
       " 'Подарочный набор на 8 Марта Нарцисс 5 луковиц d-12 см с открыткой и мылом и удобрением в подарочном пакете',\n",
       " 'Искусственный цветок Роза закрытая малая пластиковая красная',\n",
       " 'Ерш для туалета с подставкой MALIBU фарфор 47х12,5 см белый, Spirella, 1001768',\n",
       " 'Искусственный цветок Букет Примулы пластиковая красная',\n",
       " 'Пахира Акватика мультистем d-17 см h-45 см',\n",
       " 'Салфетка Protec Textil Polyline 30х43 см Аметист белая 6230',\n",
       " 'Наматрацник Natures Бархатный бамбук ББ-Н-1-2 односпальный, 100% хлопок, стеганый 90х200 см, с резинкой по углам, белый',\n",
       " 'Одеяло Wellness T142 белое темостеганое 140х205 см чехол 100% полиэстер 200 г/м 4690659000306',\n",
       " 'Таз пластмассовый строительный круглый 40 л, 1404062',\n",
       " 'Крышка оцинкованная для стерилизации банок (на 3 банки) 1514008',\n",
       " 'Коврик ворсовый для ванной комнаты Plush Vanilla из нейлона и латекса прямоугольный 60х102 см ванильный, Mohawk, 4683',\n",
       " 'Подрукавник складной Ника П',\n",
       " 'Набор бокалов для шампанского ЛЕДИ ДАЙМОНД 6 шт 150 мл G5208 Luminarc Франция',\n",
       " 'Коврик для ванной комнаты ORSINI хлопок 90х60 см светло-бежевый, Spirella, 1013512',\n",
       " 'Сумка-тележка хозяйственная GIMI Ideal синяя',\n",
       " 'Ковер придверный \"MULTY RUS\" 120х180см., коричневый, РР214/07034',\n",
       " 'Вантуз черный с длинной ручкой (D-110 мм, L-380 мм), 1206007',\n",
       " 'Сумка-тележка хозяйственная Gimi Market синяя',\n",
       " 'Простыня сатиновая полутороспальная Wellness RPE150-Дримс 100% хлопок, 150х214 см',\n",
       " 'Муляж Перец Чили в связке, красный, 60 см, полиуретан, Fancy Fair/ff RP60',\n",
       " 'Блюдце УТРО ЭКЛИПС, J3261, Luminarc, Франция',\n",
       " 'Сушилка для белья НИКА СБ1 18 м',\n",
       " 'Сумка-тележка хозяйственная GIMI Argo голубая',\n",
       " 'Сумка хозяйственная на колесах, 1209020',\n",
       " 'Цикламен d-15 см h-20 см цвет фуксии',\n",
       " 'Сумка-тележка хозяйственная Gimi Market желтая',\n",
       " 'Коврик придверный влаговпитывающий ребристый из полимерных материалов 90х120 см серый, Vortex, K041',\n",
       " 'Нолина в цветной керамике d-7 см',\n",
       " 'Плечики пластмассовые (Размер 48 - 54 ) \"МП\", 1205160',\n",
       " 'Подушка декоративная флисовая 100% полиэстер 40*40 см синяя клетка, Wellness, WP44-Атланта_34',\n",
       " 'Полотенце кухонное Мила* mix, 100% хлопок 170 г/м2, 38х63,5 см, цвета в ассортименте, Wellness, 4630005366090',\n",
       " 'Цикламен d-13 см',\n",
       " 'Щетка для смахивания пыли 60 см разноцветная, Burstenmann, 0528/0000',\n",
       " 'Щетка-сметка 3-х рядная деревянная 450 мм (плоская ручка), Поиск Риф 1801095',\n",
       " 'Вилка столовая RIPPLE сталь 3 мм, 3 шт, Attribute, ACR013',\n",
       " 'Ложка столовая RIPPLE сталь 3 мм, 3 шт, Attribute, ACR023',\n",
       " 'Ложка чайная RIPPLE сталь 2,5 мм, 3 шт, Attribute, ACR033',\n",
       " 'Нож столовый RIPPLE 80 г 2 шт, Attribute, ACR042',\n",
       " 'Мусорный контейнер в ванную комнату BOWL-SHINY полистирол 14х16 см белый, Spirella, 1014964',\n",
       " 'Сушилка для белья напольная Gimi Modular 3 Lux Silver',\n",
       " 'Простыня на резинке односпальная Wellness RM90-Арктик 100% хлопок, 90х200 см, белая',\n",
       " 'Сумка-тележка хозяйственная Gimi Bella синяя',\n",
       " 'Чайник эмалированный \"Алые маки\" со свистком 2,5 л. ЕМ-25001/11',\n",
       " 'Штора текстильная для ванны и душа полиэстер, \"Разноцветные пузырьки\" 180х200см, розов/желт/белый, DSCN4061',\n",
       " 'Сушилка для белья потолочная ЛИАНА ЛЮКС 140, ЛДН-Т',\n",
       " 'Крючок одежный тройной латунь (Б-47), 1110182',\n",
       " 'Сушилка для белья на батарею, СБ5-65, НИКА',\n",
       " 'Петля приварная гаражная d 14х90 мм с шаром, 1103003',\n",
       " 'Сушилка для белья потолочно-настенная Gimi Lift 240, 5031',\n",
       " 'Чайник эмалированный METALLONI со свистком и керамической ручкой \"Французский шарм\" 2,5 л EM-250X1/28',\n",
       " 'Штора для ванной комнаты Diamante 240х200 см бежевая, Bacchetta, 4800',\n",
       " 'Стремянки Colombo Leonardo 3 ступени G300A03W черая 3649',\n",
       " 'Щетка для посуды *Мила* SV3182 1807009',\n",
       " 'Щетка-утюжок с ручкой Миди, Standart, York, G1126',\n",
       " 'Сушилка для белья Gimi Jolly 18',\n",
       " 'Чехол для гладильной доски Zalger 520125 140х58 см хлопок войлок для доски до 135х53 см',\n",
       " 'Иссоп лекарственный d-9 см',\n",
       " 'Сантолина d-9 см',\n",
       " 'Таз пластмассовый 32,0 л с ручками \"Полимербыт\" С202, 1404052',\n",
       " 'Таз пластмассовый строительный круглый 65 л, 1404076',\n",
       " 'Штора для ванной комнаты Cannetto 240х200 см коричневая, Bacchetta, 4061',\n",
       " 'Веник сорго с деревянной ручкой с 4-мя швами, Rozenbal, R206204',\n",
       " 'Муляж ГРАНАТ 9 см красный',\n",
       " 'Гладильная доска перф металл \"ЭЛЬЗА Премиум\", 122*40, ЭЛП, НИКА',\n",
       " 'Амариллис Red Lion темно-красный в горшке d-12 см 1 луковица',\n",
       " 'Набор вешалок деревянных 3 шт с перекладиной 44,5х23х1,2 см лиловый ROMANTIC VALIANT RM-16601s',\n",
       " 'Чайный набор СЕЛЬМА 220мл, G9434, Luminarc, Франция',\n",
       " 'Тележка хозяйственная Gimi Atos',\n",
       " 'Окномойка с алюминиевой телескопической ручкой со съемной насадкой 57373 1804049',\n",
       " 'Муляж Лимон мини на магните',\n",
       " 'Корзина на колесах RATTAN STYLE тёмно-коричневая Curver 01704-210',\n",
       " 'Полки QWERTY Рио белый/чёрный 42,5х21х10 см 17х17х10 см 17х17х10 см 72005',\n",
       " 'Чайник эмалированный Орхидея со свистком 2,5 л ЕМ-25001/8',\n",
       " 'Жестяная банка Горошек Ц099h145v110-01321',\n",
       " 'Корзина для белья ВИОЛЕТ Вязь 60 л с крышкой лиловая 2060/21',\n",
       " 'Тарелка десертная МАГДА 19 см H8579 Luminarc',\n",
       " 'Штора для ванной комнаты полиэстер Dasch 180х180 см Море ВТ-821726, 5701',\n",
       " 'Мединилла Магнифика d-17 см h-60 см',\n",
       " 'Эхеверия Микс d-5 см',\n",
       " 'Тележка багажная ручная 25 кг (сумка), 50 кг (каркас) ТБР-20 синяя с красной клеткой',\n",
       " 'Бальзамин новогвинейский d-13 см лососевый',\n",
       " 'Сушилка для белья потолочно-настенная Gimi Lift 180',\n",
       " 'Штанга для ванной Г-образная, угловая 80Х170 см, белая',\n",
       " 'Тарелка десертная ВОЛАРЭ БЛЭК 22,5 см G9399 Luminarc',\n",
       " 'Роза Палас белая d-17 см h-50 см h-20',\n",
       " 'Коврик противоскользящий кружевной 88х38 см прозрачный 5528',\n",
       " 'Штора для ванной комнаты Bacchetta City текстильная 180х200 см 6023',\n",
       " 'Салатник Luminarc КУТЮР 27 см H3529',\n",
       " 'Муляж Перец Чили красный 15 см',\n",
       " 'Каланхое каландива желтое d-7 см',\n",
       " 'Чайник эмалированный METALLONI со свистком и пластиковой ручкой Тутти-Фрутти 3 л ЕМ-30001/44',\n",
       " 'Сумка-тележка хозяйственная Rolser Paris, бордовая, PEP001 bassi JOY',\n",
       " 'Коврик придверный хлопковый 60х180 см мультиколор, Helex, С05',\n",
       " 'Стремянка COLOMBO FACTOTUM 4 ступени алюминий G110AT4W',\n",
       " 'Пуансеттия d-12 см белая',\n",
       " 'Терка для сыра Comfortline из нержавеющей стали и пластика белая, Leifheit, 03148',\n",
       " 'Гиацинт Blue Pearl голубой в горшке d-12 см 3 луковицы',\n",
       " 'Сумка-тележка хозяйственная Rolser RG SAQUET, черная, SAQ002 negro CONVERT',\n",
       " 'Гладильная доска НИКА ЛИНА 1 112х34,5 см ДЛ1',\n",
       " 'Столовый нож RIPPLE 80 г 2 шт Attribute ACR042',\n",
       " 'Ведро Полимербыт ГРИБЫ 9 л 4314103',\n",
       " 'Холодная сварка Mastix 55г для труб и батарей, 1205197',\n",
       " 'Холодная сварка Mastix 55г универсальная, 1205037',\n",
       " 'Соковыжималка для цитрусовых PASABAHCE OTS131421-500',\n",
       " 'Коврик хлопковый 50х80 см цвета в ассортименте 6196',\n",
       " 'Сушилка для белья потолочная Лиана 1,3 м 1703002',\n",
       " 'Сушилка для белья потолочно-настенная Gimi Lift 140',\n",
       " 'Столовый нож 2 шт Сапфир тяжелый СНSapfir-2',\n",
       " 'Нетканые салфетки в рулоне 70 шт EUROHOUSE EH4967',\n",
       " 'Тарелка обеденная Luminarc ПУЭБЛО корал 69883',\n",
       " 'Сумка-тележка хозяйственная Gimi Easy Go красная',\n",
       " 'Коврик придверный MOHAWK Mansonry Foliage Листопад 58,5х89 см 5412',\n",
       " 'Салатник Luminarc AMБИАНТЭ АНИС 16 см L6415',\n",
       " 'Салатник Luminarc AMБИАНТЭ ОРАНЖ 16 см L6417',\n",
       " 'Салатник Luminarc АРТИ ГРИН 16,5 см J1392',\n",
       " 'Салатник Luminarc АРТИ ПИНК 16,5 см L2857',\n",
       " 'Салатник Luminarc АРТИ ПУРПЛ 16 см G9834',\n",
       " 'Салатник Luminarc АРТИ ПУРПЛ 16,5 см L2858',\n",
       " 'Салатник АМОРИ БРАУН 16,5 см J2113 Luminarc',\n",
       " 'Салатник КОЛОРАМА РЭД 17 см J7772 Luminarc',\n",
       " 'Салатник РАПСОДИ ОРАНЖ 16,5 см H8728 Luminarc',\n",
       " 'Петля-стрела ПС-286 мм (Рыбинск), 1104019',\n",
       " 'Комнатное растение в горшке Плектрантус подвесной горшок, d16, h30',\n",
       " 'Скатерть 180 см WELLNESS WTd180-Лувр*14 100% полиэстер',\n",
       " 'Подарочный набор на 8 Марта Тюльпаны розовые 5 луковиц d-12 см в подарочной упаковке с открыткой',\n",
       " 'Вешалка НИКА Комфорт 6 напольная серебро ВК6с',\n",
       " 'Кастрюля алюминиевая МТ-064М 1,0 л с ручкой, 1502013',\n",
       " 'Простынь вафельная 200х180 см WELLNESS RW180-01 100% хлопок',\n",
       " 'Чехол для гладильной доски BASIC 120х40 см, Attribute, ABB004',\n",
       " 'Покрытие для гладильной доски Leifheit Reflecta Speed Universal, 140х45 см. 72382',\n",
       " 'Алоэ Вера d-12 см h-25 см',\n",
       " 'Тимьян в горшке d-15 см',\n",
       " 'Хлебница пластмасовая большая 5.0 л Р1673 1524004',\n",
       " 'Подголовник для ванной комнаты из ПВХ 25х34 синий, Bacchetta, 1620',\n",
       " 'Пуансеттия d-23 см красная',\n",
       " 'Пуансеттия d-23 см белая',\n",
       " 'Сушилка для белья на ванну НИКА СБ4',\n",
       " 'Измерительный угольник, длина 15 см, Truper, ECT-6/14369',\n",
       " 'Сушилка для белья на стену Leifheit Telegant 100, белая, 83100',\n",
       " 'Вешалка напольная с подставкой для сумок BLUES темная на колесиках Степанов',\n",
       " 'Чехол для одежды EVA 60х95 см EVE4214',\n",
       " 'Чехол для одежды Hausmann розовый принт 60х100 см HM-EA1104',\n",
       " 'Чехол для платья из нетканного материала 60*135 см белый, Hausmann, 2B-360135',\n",
       " 'Искусственный цветок пластиковый Мак 3 бутона 48 см',\n",
       " 'Сушилка для белья Leifheit Siena 18 м 81151',\n",
       " 'Сушилка для белья Leifheit 81704 PEGASUS 120 Compact 75х155х44 см',\n",
       " 'Декоративная композиция искуственных цветов Букет Роз три цветка, цвет в ассортименте 85 см',\n",
       " 'Чехол для гладильной доски Zalger 520116 130х46 см хлопок для доски 125х42 см',\n",
       " 'Коврик кухонный APACHE Coffee Chef 45x75 см 5420',\n",
       " 'Муляж Перец болгарский желтый 10 см полиуретан',\n",
       " 'Коврик придверный Attribute NATURE кокосовый 60x40 см AMC015',\n",
       " 'Мимоза стыдливая d-9 см',\n",
       " 'Гладильная доска Gimi Junior 110х33 см',\n",
       " 'Отбеливатель Пероксоль Лилия-М 100 гр Россия 4670008040078',\n",
       " 'Салатник РОМАНТИК ГАРДЕН 17 см J7900 Luminarc',\n",
       " 'Фен дорожный DELTA DL-0904 бордовый с черным 2 режима мощности 1400 Вт Россия',\n",
       " 'Чайник электрический АКСИНЬЯ КС-1003 корпус из жаропрочного стекла черный 2200 Вт 1,8 л',\n",
       " 'Штора для ванной и душа текстильная, 180х200см, \"Цветы\", голубой, HSP394-B',\n",
       " 'Штора для ванной комнаты ПВХ 180х180 см Водоросли, 5919',\n",
       " 'Рассекатель пламени на газовую плиту с ручкой, AN8032',\n",
       " 'Таз пластмассовый 20,0 л пищевой овальный \"Ekko\" 2776, 1404043',\n",
       " 'Гладильная доска НИКА БЭЛЛЬ-ЮНИОР1 112х34,5 см БЮ1',\n",
       " 'Лавр d-9 см',\n",
       " 'Толкушка деревянная ( Бук ) 1530018',\n",
       " 'Коврик придверный Attribute PARQUET кокосовый 75x45 см AMC075',\n",
       " 'Герань домашняя (пеларгония зональная) цветущая , D12, H25-30, лососевая, полумахровая',\n",
       " 'Искусственная композиция из цветов пластиковая Ромашка мини розовая',\n",
       " 'Чехол для гладильной доски Colombo Persia Beige 130х50 см из хлопка 5379',\n",
       " 'Ванна 70 л оцинкованная г.Магнитогорск, 1301016',\n",
       " 'Ведро AMPARI РТ9061СЛРОЗ-10РS 12 л сливочно-розовый',\n",
       " 'Мешок для деликатной стирки 50х70см, Attribute, ALB257',\n",
       " 'Дендробиум Санок Анна Грин 1 ствол d-12 см',\n",
       " 'Цикламен d-12 см h-20 цвет в ассортименте',\n",
       " 'Коврик кухонный APACHE Olive Oil Sideboard 56х86 см 5062',\n",
       " 'Бальзамин новогвинейский d-13 см цвет фуксии',\n",
       " 'Доска разделочная Alparaisa стеклянная Завтрак 20х30 см RD0030-ST',\n",
       " 'Сумка-тележка хозяйственная Andersen Scala Shopper, Elba, бирюзовая 112-051-90',\n",
       " 'Одеяло Wellness 1410 пуховое белое, 100% белый пух 500 гр, 140х200 см, 4607101064199',\n",
       " 'Розмарин d-9 см',\n",
       " 'Набор ножей WEBBER из нержавеющей стали 7 предметов на деревянной подставке коричневый ВЕ-2238',\n",
       " 'Отделитель косточек от вишен Leifheit, 37200',\n",
       " 'Мантоварка алюминиевая 6,0 л 3 сетки Белая Калитва, Хозлэнд, 1502074',\n",
       " 'Эхинокактус Грузони d-5 см',\n",
       " 'Покрытие для гладильной доски Dressfix XL 140х40 см на веревке жасмин, Leifheit, 72328',\n",
       " 'Фиалка d-9 см малиновая простая',\n",
       " 'Махровое полотенце 34х34 см WELLNESS EXCLUSIVE ДАККИ-31 100% хлопок',\n",
       " 'Муляж Оранжевое яблоко мини полиуретан d-5 см',\n",
       " 'Совок металический серый, Burstenmann, 1428/0000',\n",
       " 'Сумка-тележка хозяйственная Rolser IMX005 marengo Logic DOS+2 серая',\n",
       " 'Шнур резиновый для тележки 110 см, 1209002',\n",
       " 'Шнур резиновый для тележки 80 см, 1209001',\n",
       " 'Сушилка для белья Zalger Bright Short 510-520 10 м',\n",
       " 'Гладильная доска НИКА БЭЛЛЬ-ЮНИОР2 112х34,5 см БЮ2',\n",
       " 'Бидон пластмассовый 5,0 л (Иж) 1401119',\n",
       " 'Котел алюминиевый 70,0 л без крышки Балезино, Хозлэнд, 1502050',\n",
       " 'Сушилка для белья ВИОЛЕТ Julia 20 м белая J-20W',\n",
       " 'Коврик противоскользящий 69х39 см овальный черепаха 5538',\n",
       " 'Пуансеттия d-12 см красная с розовым',\n",
       " 'Средство для мытья посуды Vestar Гранат 1000 мл Россия 4620757211700',\n",
       " 'Тележка хозяйственная 2-колесная большая с кральями тип-5, 1209055',\n",
       " 'Сумка-тележка 3-х колесная Gimi Tris Floral синяя',\n",
       " 'Корыто оцинкованное 45 л бесшовное, 1301031',\n",
       " 'Искусственный цветок Роза закрытая малая пластиковая белая',\n",
       " 'Сумка-тележка хозяйственная GIMI Argo салатовая',\n",
       " 'Щетка хозяйственная с резинкой из синтетического каучука и пластика POWERSLIDE 40х20 см голубая, Leifheit, 51520',\n",
       " 'Муляж Оранжевое яблоко мини полиуретан d-6 см',\n",
       " 'Афеляндра скуарроса Дания d-12 см',\n",
       " 'Сушилка для белья напольная НИКА СБ3 10 м',\n",
       " 'Штора для ванной комнаты Bacchetta Rue de Papillion черная текстильная 180х200 см 3026',\n",
       " 'Гербера d-13 см',\n",
       " 'Душица обыкновенная d-9 см',\n",
       " 'Мелисса лекарственная d-9 см',\n",
       " 'Роза кордана Красная Мерседес d-10 см',\n",
       " 'Роза кордана красная d-10 см',\n",
       " 'Фиалка Карнавал d-12 см',\n",
       " 'Хризантема Белая Кристалл d-15 см',\n",
       " 'Хризантема Красная Тобаго d-15 см',\n",
       " 'Таз пластмассовый 21,0 л круглый \"Водолей\" С614, 1404056',\n",
       " 'Сушилка для белья потолочная ЛИАНА ЛЮКС 210 см ЛЛП-210',\n",
       " 'Цикламен розовый d-12 см h-20',\n",
       " 'Тележка багажная DELTA DT-23 грузоподъемность 50 кг РОССИЯ',\n",
       " 'Джункус Пенсил Грасс d-12 см',\n",
       " 'Крючок проволочный 125 мм медь, 1110132',\n",
       " 'Цветок искусственный Гвоздика тканевая красная 50 см',\n",
       " 'Плечики пластмассовые Размер 52 - 54 Тула 1205158',\n",
       " 'Стремянка бытовая Framar Slimmy 4 ступени',\n",
       " 'Бельевые прищепки YORK АЗУР эко деревянные 20 шт z029 G1529',\n",
       " 'Искусственный цветок Гербера пластиковая розовая',\n",
       " 'Тележка багажная DELTA ТБР-22 синий грузоподъемность 20 кг сумка и 50 кг каркас РОССИЯ',\n",
       " 'Гладильная доска НИКА 11 тефлон 122х40 см НТ11',\n",
       " 'Гладильная доска НИКА ЭЛЬЗА Премиум 122х40 см ЭЛП',\n",
       " 'Эпипремнум Ауреум d-12 см',\n",
       " 'Гладильная доска НИКА ВЕРОНА 1 чехол МУЖЧИНА С РОЗОЙ 122х42 см ДВ1м',\n",
       " 'Гладильная доска НИКА RETRO 122х42 см 5758',\n",
       " 'Картофелемялка металлическая круглая с деревянной ручкой 1531002',\n",
       " 'Бензин для зажигалок, 1205214',\n",
       " 'Скатерть из ПВХ MEIWA FPLUS-PLAIN SARASA AZ BE овальная 152х228 см бежевая 5789',\n",
       " 'Хризантема кустовая стреса 70 см НИДЕРЛАНДЫ 5 штук в упаковке',\n",
       " 'Вешалка гардеробная Радуга 1 ЗМИ белое серебро ВНП 298 бс',\n",
       " 'Стакан для ванной комнаты DARWIN HAMMERED керамика 11х8 см черный, Spirella, 1015330',\n",
       " 'Муляж Красное яблоко мини полиуретан d-5 см',\n",
       " 'Ведро без крышки Полимербыт Лаванда 9 л 4314108',\n",
       " 'Сушилка для белья настенная НИКА СН45 белая 45 см',\n",
       " 'Спатифиллум Шопен d-12 см',\n",
       " 'Чехол Eurogold Clean Metallic металлизированый с поролоном для досок 120х38-120х42 см C42F3M',\n",
       " 'Цветок искусственный Гвоздика пластиковая одиночная в ассортименте 50 см',\n",
       " 'Ящик почтовый металлический с врезным замком Почта 1205250',\n",
       " 'Коврик противоскользящий пузырьки 70х38 см прозрачный 5523',\n",
       " 'Щетка для мытья окон 2 в 1 с телескопической ручкой и поворотным шарниром синяя, Hausmann, ADF1768',\n",
       " 'Урна уличная стальная Юпитер 02.012.0 38х38х60 см',\n",
       " 'Карниз алюминиевый телескопический для штор Spirella / Спирелла Magic, хром, 125-220 см, 1050767',\n",
       " 'Отжим для ведра синий, Rozenbal, R211985',\n",
       " 'Штора для ванной комнаты Bacchetta Fragmmento бежевая текстильная 180х200 см 6034',\n",
       " 'Ящик для хранения Фимако Люкс плетеный с крышкой M бежевый',\n",
       " 'Фиттония Скелетон d-9 см',\n",
       " 'Ерш для унитаза Spirella VENISE с подставкой керамический 4007036',\n",
       " 'Контейнер для мусора FLIP BIN CURVER 25 л красный 02171-547-00',\n",
       " 'Контейнер для мусора FLIP BIN CURVER 25 л оранжевый 02171-535-00',\n",
       " 'Стремянка металлическая 4 ступени, СМ4, НИКА',\n",
       " 'Ящик для хранения TEXTILEBOX CURVER 5,7 л 34x20x13 см прозрачный 03003-001-00',\n",
       " 'Литопс Микс d-5 см',\n",
       " 'Гладильная доска Gimi Pollicino 73x32 см',\n",
       " 'Штора для ванной Spirella / Спирелла TEX Porto, белый, текстиль с гидрофобной пропиткой, 180*200 см, 1033938',\n",
       " 'Герань домашняя (пеларгония зональная) цветущая D12, H25-30, красная, полумахровая',\n",
       " 'Контейнер для СВЧ Полимербыт Премиум 0,5 л 4356000',\n",
       " 'Набор для пикника Полимербыт на 4 персоны контейнер 6,5 л 22 предмета 4380940',\n",
       " 'Диффенбахия d-12 см с топпером на День учителя в подарочной упаковке',\n",
       " 'Термостакан WEBBER BE-6030 КОФЕ 450 мл',\n",
       " 'Искусственный цветок Букет Каллы пластиковая бело-зеленая',\n",
       " 'Сменная насадка к швабре из микрофибры Hausmann, ADF1205',\n",
       " 'Розмарин в горшке d-15 см',\n",
       " 'Измельчитель овощей ручной ШК-4 деревянный, 3 ножа, 1516020',\n",
       " 'Вантуз черный с пластиковой ручкой малый Д-100 (МАГ), 1206002',\n",
       " 'Сушилка для белья потолочная ЛИАНА ЛЮКС 140 см ЛЛП-140',\n",
       " 'Чехол Eurogold Clean Metallic металлизированый с поролоном для досок 110х30-114x34 см C34F3M',\n",
       " 'Карниз для ванной комнаты алюминий хром, Spirella, 1014625',\n",
       " 'Герань домашняя (пеларгония зональная) цветущая D12, H25-30, розово-красная, полумахровая',\n",
       " 'Герань домашняя (пеларгония зональная) цветущая D12, H25-30, розово-малиновая, простая',\n",
       " 'Герань домашняя (пеларгония зональная) цветущая D12, H25-30, темнорозовая, полумахровая',\n",
       " 'Сушилка для белья Colombo Star 18 3679',\n",
       " 'Швабра для мытья окон Leifheit Comfort с телескоп. Ручкой, 51010',\n",
       " 'Сумка-тележка хозяйственная GIMI ROLLING THERMO синяя',\n",
       " 'Стремянка Framar Slimmy стальная 3 ступени',\n",
       " 'Гладильная доска Березка 115х35 см',\n",
       " 'Лаванда в горшке d-15 см',\n",
       " 'Чехол Eurogold Reflector с металлизированной полосой, поролон для досок 120х38-120x42 см DC42F3R',\n",
       " 'Покрытие для гладильной доски Airboard M Premium Speed , 125х40 см, Leifneit, арт. 72373',\n",
       " 'Базилик зеленый Тонус d-7 см',\n",
       " 'Зубная паста Zact Lion Smokers Toothpaste 100 г 8850002805040',\n",
       " 'Зубная паста Zact Lion Whitening Toothpaste 100 г 8850002805064',\n",
       " 'Зубная паста Zact с эффектом отбеливания кофейного и никотинового налета 150 г 8806325-603849',\n",
       " 'Нож для тонкой нарезки ALPENKOK из нержавеющей стали пилообразный \"Comfort\" 12,7 см синий AK-2082',\n",
       " 'Кофе Арабика d-9 см',\n",
       " 'Корзина для белья ВИОЛЕТ угловая с крышкой Ротанг 60 л белая 2350/6',\n",
       " 'Коврик Sochi 36х57 см черный 5795',\n",
       " 'Фиалка d-9 см белая с розовой каймой',\n",
       " 'Чайник электрический ВАСИЛИСА Т31-2000 нержавеющая сталь черный 2000 Вт 2 л',\n",
       " 'Хризантема сиреневая d-18 см',\n",
       " 'Кипятильник электрический 2.5 КВт, 1601143',\n",
       " 'Чайник электрический ВАСИЛИСА Т28-1800 нержавеющая сталь 1800 Вт 1,8 л',\n",
       " 'Стремянка COLOMBO FACTOTUM 4 ступени стальная G110L04W',\n",
       " 'Сумка-тележка хозяйственная Rolser MNB012 azul Logic RG',\n",
       " 'Таз пластмассовый 30,0 л овальный ПЦ2913, 1404051',\n",
       " 'Контейнер для мусора FLIP BIN CURVER 25 л графитовый 02171-686-00',\n",
       " 'Сушилка для белья Gimi Dinamik 20',\n",
       " 'Чехол для гладильной доски PRISMA TEXTIL термостатический 125х43 см в ассортименте 44',\n",
       " 'Тарелка обеденная МУНЛАЙТ 25 см H7253 Luminarc',\n",
       " 'Крассула d-17 см h-40 см',\n",
       " 'Штора для ванной комнаты 240х200 Fragmmento бежевая текстильная 240х200 см 6041',\n",
       " 'Гвоздика стандартная Новия 70 см Колумбия Плантация Turflor S.A.S 25 штук в упаковке',\n",
       " 'Штора для ванной 180х200 см, Rigone Зеленый',\n",
       " 'Насадка-моп ROZENBAL хлопковая удлиненная с итальянской резьбой R190236',\n",
       " 'Гладильная доска Hausmann Classic MONO 120x38 cм HM-2122',\n",
       " 'Коврик придверный полипропиленовый с ПВХ STEP IN TRADITIONAL 90х150 см коричневый',\n",
       " 'Стремянка 5 ступенчатая Hailo 8150-507 L50 алюминиевая с крючком на красной ручке',\n",
       " 'Банка со стеклянной крышкой, COLOR SERIES, круглая, 7*7,6*12,5 см, 280 мл VALIANT, JP-S280',\n",
       " 'Банка стеклянная с крышкой Attribute FLEUR 1350 мл ABF100G',\n",
       " 'Кухонное полотенце махровое 42х28 см WELLNESS ФРЕШ-mix',\n",
       " 'Штора для ванной, 180х200 см, Прозрачный, La Vita, ПВХ, 3D рисунок, А023-0000, 4543.',\n",
       " 'Сушилка для белья Gimi Lampo',\n",
       " 'Дозатор для мыла Hausmann белый HM-B0194R-2',\n",
       " 'Штора для ванной комнаты Bacchetta Marmo серая текстильная 180х200 см 6027',\n",
       " 'Бак для белья Hailo 0744-221, 44 л, стальной',\n",
       " 'Овощечистка с плавающим лезвием Comfortline из нержавеющей стали и пластика 11 см белая, Leifheit, 03151',\n",
       " 'Скатерть Рим 88% полиэфир 12% хлопок прямоугольная 350х150 см голубая Wellness MC355-Рим*16',\n",
       " 'Муляж Виноград 17 см цвет в ассортименте',\n",
       " 'Фиалка d-9 см синяя с белым рифленая',\n",
       " 'Концентрат для мытья посуды Mama Ultimate Зеленый чай 1000 мл РоссияКорея 049320',\n",
       " 'Штора со встроенными кольцами под штангу для ванны и душа жаккард, полиамидное покрытие, 180х200, аквамарин, HSC/ST04/aquamarin',\n",
       " 'Штора со встроенными кольцами под штангу для ванны и душа жаккард, полиамидное покрытие, 180х200, голубой, HSC/ST12/blue',\n",
       " 'Чехол для гладильной доски Dogrular 3201 130х46 см тефлоновый',\n",
       " 'Сушилка для белья ВИОЛЕТ Julia 20 м хром J-20',\n",
       " 'Гладильная доска-стремянка 95х33 см, 848N, DASCH',\n",
       " 'Искусственный цветок Ромашка пластик 45 см',\n",
       " 'Цветущее комнатное растение Бегония Элатиор, цвет в ассортименте',\n",
       " 'Тележка багажная DELTA ТБР-22 коричневый грузоподъемность 20 кг сумка и 50 кг каркас РОССИЯ',\n",
       " 'Сумка-тележка хозяйственная Rolser JET029 azul-lois JOY синяя',\n",
       " 'Спатифиллум Свит Лауретта d-21 см h-95 см',\n",
       " 'Средство для быстрого удаления жировых загрязнений DECS Антижир 500 мл Россия 4660015923259',\n",
       " 'Гладильная доска Ника Николь 9 122х40 см',\n",
       " 'Искусственный цветок Роза открытая малая пластиковая красная',\n",
       " 'Сушилка для белья Gimi Mito алюминий',\n",
       " 'Сумка-тележка хозяйственная Rolser Jet Joy синяя, JET027 azul JOY',\n",
       " 'Двуспальное постельное белье Wellness W185-Арктик, белый, 100% хлопок',\n",
       " 'Набор сверел по дереву из 8 шт, 3-10 мм *888* 6867540, 0512261',\n",
       " 'Сверло-фреза, 6 мм, нитрид титана *888* 6862060, 0512262',\n",
       " 'Сверло-фреза, 8 мм, нитрид титана *888* 6862080, 0512263',\n",
       " 'Жестяная банка Новая паста микс П-90*90h171v140-01014',\n",
       " 'Набор бокалов для пива Cervoise 4 шт 320мл G3775 Luminarc Франция',\n",
       " 'Прищепки для белья York Spring Prestige, 9603/Z027',\n",
       " 'Штора для ванной комнаты SHINE полиэстер 180х200 см фиолетовый, Spirella, 1015652',\n",
       " 'Утюг электрический с керамическим покрытием DELTA LUX DL-350 зеленый, 2200 Вт , РОССИЯ',\n",
       " 'Гладильная доска Eurogold Basic Reflector 110х30 см R20030A',\n",
       " 'Чайный набор 220 мл КАРИН РОМАШКА, G1988, Luminarc, ОАЭ',\n",
       " 'Форма для выпечки ALPENKOK AK-6038S для кекса Спираль розовый d=25 см; h=9 см',\n",
       " 'Щетка для посуды *ОЛЯ*, Мультипласт 1807010',\n",
       " 'Сушилка для белья потолочно-настенная Gimi Lift 240 5031',\n",
       " 'Искусственный цветок Крокус пластиковый розовый',\n",
       " 'Скалка силиконовая, Lekue, 0200800M02U050',\n",
       " 'Вешалка деревянная с расширенными плечиками и перекладиной 44,5х23 см см белый JAPANESE WHITE VALIANT JW-19708',\n",
       " 'Вешалка для брюк Attribute CLASSIC 38 см AHN271',\n",
       " 'Набор вешалок для костюма 45 см 4 шт цвет кремовый Attribute AHP224',\n",
       " 'Набор вешалок универсальных Attribute SILUET CREAM 45 см 4 шт AHP224',\n",
       " 'Скатерть прямоугольная Ажурная Marine 132х177 см бежевая с тесненым рисунком Towa Co 4022',\n",
       " 'Чайная ложка 6 предметов Вена СЧВ107',\n",
       " 'Искусственный цветок Букет Фиалки пластиковая лиловая',\n",
       " 'Декоративная композиция искуственных цветов Букет Подсолнухов 115 см три бутона',\n",
       " 'Гладильная доска НИКА БЕЛЛЬ Классик 1 122х34,5 см БК1',\n",
       " 'Вилка столовая Better цветы BT-C2003E-TD1/D3',\n",
       " 'Лестница-стремянка Sarayli 6-ти ступенчатая',\n",
       " 'Фиалка Химера d-12 см',\n",
       " 'Тарелка обеденная Luminarc АМОРИ БРАУН 26 см J1754',\n",
       " 'Искусственный цветок Гвоздика садовая пластиковая розовая',\n",
       " 'Сверло по металлу d=12,0 мм Р6М5 с цилиндрическим хвостиком Гост 10902, 0512195',\n",
       " 'Искусственный цветок Букет Примулы пластиковая розовая',\n",
       " 'Сушилка для белья напольная НИКА СБ2Г 20 м бело-голубая',\n",
       " 'Паста зубная для профилактики заболеваний десен Kobayashi Японский кипарис и белая береза 100 г Япония 4987072072752',\n",
       " 'Аптения d-12 см h-15 см',\n",
       " 'Тарелка десертная Attribute LILY TRACERY WHITE 20 см ADL021',\n",
       " 'Сушилка для белья Eurogold DELUX 18 м 0503SEL',\n",
       " 'Сушилка для белья напольная НИКА СБ9/А цвет аквамарин/белый',\n",
       " 'Гладильная доска НИКА ВАЛЕНСИЯ FASHION VALENSIA 123х45 см НВ1/2',\n",
       " 'Запасная насадка для ерша пластик черно-белая, Spirella, 1021464',\n",
       " 'Тележка багажная DELTA ТБР-23 грузоподъемность 50 кг РОССИЯ',\n",
       " 'Антижир POSH ONE MAGNUM 828 мл Россия 4580390-927058',\n",
       " 'Каллуна Гарден Герлс трехцветная d-12 см h-27 см',\n",
       " 'Капсикум Сальса оранжевый d-10 см',\n",
       " 'Кофр малый жесткий 28*30*16 см леопард Валиант / Valiant LB301',\n",
       " 'Набор кухонных полотенец 100% хлопок 200г/м2 46*71 см 2 шт, Wellness, МЕЛИСА_3',\n",
       " 'Соланум d-10 см',\n",
       " 'Стакан пластмассовый 300 мл, конус. (К-308) \"Пластхозторг\" 1535027',\n",
       " 'Универсальное средство на основе хлора ддля чистки сантехники и других поверхностей DECS Universal 750 мл Россия 4660015923228',\n",
       " 'Махровое полотенце 63,5х38 см WELLNESS СЕВИЛЬЯ_1-004 100% микрофибра',\n",
       " 'Коврик придверный хлопковый 120х180 см мультиколор, Helex, С07',\n",
       " 'Покрывало жаккард KARNA стеганое KALVEN 260x260 см наволочки 50х70 см 2 шт 8681914002162',\n",
       " 'Пуансеттия d-15 см красная',\n",
       " 'Штора для ванной комнаты TEX Four полиэстер 180х200 см красный, Spirella, 1016269',\n",
       " 'Гладильная доска Sarayli Orion 130x44 см',\n",
       " 'Муляж Яблоко d-1 см 10 шт',\n",
       " 'Лестница-стремянка Dogrular Ufuk Al алюминевая 3-х ступенчатая',\n",
       " 'Сушилка для белья потолочная Zalger Lift Basic 1520 200 см, 10 м',\n",
       " 'Корзина для белья ЭЛЬФПЛАСТ Виола 30 л бежевая 204',\n",
       " 'Шприц кондитерский WEBBER с 8 насадками 23*10*6 см ВЕ-0331',\n",
       " 'Сумка-тележка хозяйственная Rolser IMX004 azul Logic RG синяя',\n",
       " 'Сумка-тележка хозяйственная Rolser Jet Joy черная, JET010 negro JOY',\n",
       " 'Чехол для короткой одежды 100х60 см',\n",
       " 'Коробка прямоугольная Полимербыт ПРОВАНС 5,5 л 4351107',\n",
       " 'Сушилка для белья Leifheit Pegasus 200 DeLuxe 20 м 81530',\n",
       " 'Дендробиум Санок Полар Файр 1 ствол d-12 см',\n",
       " 'Адиантум Лиза d-12 см',\n",
       " 'Шпагат полипропиленовый 1.0 ктекс 100м цветной на бобине, размотка изнутри 888, 1201143',\n",
       " 'Таз пластмассовый 25,0 л пищевой (Минеральные воды), 1404046',\n",
       " 'Гладильная доска Leifheit AirBoard Compact M Plus 120х38 см малиновый 71630',\n",
       " 'Сушилка для белья на ванну Leifheit Adria 72708',\n",
       " 'Сумка-тележка хозяйственная Rolser RG SAQUET, синяя, SAQ002 azul CONVERT',\n",
       " 'Сумка-тележка 2-х колесная Gimi Galaxy красная',\n",
       " 'Вешалка - слуга Малая ЗМИ белое серебро ВНП 141 б',\n",
       " 'Скатерть прямоугольная Ажурная Imperial 140х200 см бежевая с тесненым рисунком Towa Co 5174',\n",
       " 'Мыло жидкое reffil Mama Utimate Облепиха 500 мл Россия 8809193042321',\n",
       " 'Фарфоровая кружка ROSARIO бабочка 550 мл Ф16-013L',\n",
       " 'Корзина пластиковая для белья 60л. с крышкой бежевая 1860/2, Виолет',\n",
       " 'Миксер DELTA LUX DL-5068 серо-голубой 400 Вт 4 насадки 5 скоростных режимов турборежим',\n",
       " 'Герань домашняя (пеларгония зональная) цветущая D12, H25-30, белая, полумахровая',\n",
       " 'Разделочная доска Классика О-35 35х21х1,5 см',\n",
       " 'Штора для ванной комнаты Bacchetta Fabric текстильная 180х200 см 3656',\n",
       " 'Вакуумный пакет EVA для хранения вещей 50х85 см EVEC0085',\n",
       " 'Коврик для ванной комнаты, 50*80*1,4 см, мягкая основа, EXPEDITION HISTORY VALIANT, EXP-H-58',\n",
       " 'Термокружка Alpenkok AK-04010A синий 400 мл',\n",
       " 'Полки QWERTY Токио чёрный 30х30х10 см 25х25х10 см 20х20х10 см 15х15х10 см 72007',\n",
       " 'Роза одноголовая Тоффи 70 см Эквадор плантация Greenrose 25 штук в упаковке',\n",
       " 'Полки QWERTY Италия белый/серый 40х14х10 см 35х10х10 см 30х7х10 см 72006',\n",
       " 'Сумка-тележка GIMI ITALO blue синяя',\n",
       " 'Разделочная доска WEBBER РД-00055 из бамбука 33х24х1 см',\n",
       " 'Гладильная доска НИКА ВЕРОНА 1 чехол ОДРИ 122х42 см ДВ1о',\n",
       " ...]"
      ]
     },
     "execution_count": 29,
     "metadata": {},
     "output_type": "execute_result"
    }
   ],
   "source": [
    "# содержимое заказов с ID больше 30000\n",
    "\n",
    "list(clean_ecom_df[clean_ecom_df['order_id'] > 30000]['product'].unique())"
   ]
  },
  {
   "cell_type": "markdown",
   "metadata": {},
   "source": [
    "Исходя из полученных списков видно, что заказы с ID меньше 30000 относятся больше к тем, кто увлекается садоводством, а ID более 30000 к тем, кто покупает товары для обустройства дома."
   ]
  },
  {
   "cell_type": "markdown",
   "metadata": {},
   "source": [
    "Выведем общую информацию по предобработанному датасету."
   ]
  },
  {
   "cell_type": "code",
   "execution_count": 30,
   "metadata": {},
   "outputs": [
    {
     "name": "stdout",
     "output_type": "stream",
     "text": [
      "<class 'pandas.core.frame.DataFrame'>\n",
      "RangeIndex: 4807 entries, 0 to 4806\n",
      "Data columns (total 8 columns):\n",
      " #   Column       Non-Null Count  Dtype         \n",
      "---  ------       --------------  -----         \n",
      " 0   customer_id  4807 non-null   object        \n",
      " 1   order_id     4807 non-null   int64         \n",
      " 2   product      4807 non-null   object        \n",
      " 3   quantity     4807 non-null   int64         \n",
      " 4   price        4807 non-null   float64       \n",
      " 5   date         4807 non-null   datetime64[ns]\n",
      " 6   year         4807 non-null   int64         \n",
      " 7   month        4807 non-null   datetime64[ns]\n",
      "dtypes: datetime64[ns](2), float64(1), int64(3), object(2)\n",
      "memory usage: 300.6+ KB\n"
     ]
    }
   ],
   "source": [
    "clean_ecom_df.info()"
   ]
  },
  {
   "cell_type": "markdown",
   "metadata": {},
   "source": [
    "<a id=\"s1_1\"></a>"
   ]
  },
  {
   "cell_type": "markdown",
   "metadata": {},
   "source": [
    "### Выводы\n",
    "\n",
    "- В нашем датасете имеется `4807` значений. \n",
    "- Пропуски в данных отсутствуют. \n",
    "- Типы данных соотвтетсвуют значениям в колонках.\n",
    "- Колонки озаглавлены корректно.\n",
    "- Были выявлены дубли заказов и данные были очищены от дублей."
   ]
  },
  {
   "cell_type": "markdown",
   "metadata": {},
   "source": [
    "## Исследовательский анализ данных (EDA)"
   ]
  },
  {
   "cell_type": "markdown",
   "metadata": {},
   "source": [
    "Начнем с изучения периода заказов в датасете. Определим минимальную и максимальную даты заказов."
   ]
  },
  {
   "cell_type": "code",
   "execution_count": 31,
   "metadata": {},
   "outputs": [
    {
     "name": "stdout",
     "output_type": "stream",
     "text": [
      "Минимальная дата заказа: 2018-10-01 00:00:00\n",
      "Максимальная дата заказа: 2019-10-31 14:00:00\n"
     ]
    }
   ],
   "source": [
    "print('Минимальная дата заказа: {}'.format(clean_ecom_df['date'].min()))\n",
    "print('Максимальная дата заказа: {}'.format(clean_ecom_df['date'].max()))"
   ]
  },
  {
   "cell_type": "markdown",
   "metadata": {},
   "source": [
    "В датасете имеются данные о заказах, совершенных с `1 октября 2018` по `31 октября 2019` года."
   ]
  },
  {
   "cell_type": "markdown",
   "metadata": {},
   "source": [
    "Изучим статистические показатели датасета."
   ]
  },
  {
   "cell_type": "code",
   "execution_count": 32,
   "metadata": {},
   "outputs": [
    {
     "data": {
      "text/html": [
       "<div>\n",
       "<style scoped>\n",
       "    .dataframe tbody tr th:only-of-type {\n",
       "        vertical-align: middle;\n",
       "    }\n",
       "\n",
       "    .dataframe tbody tr th {\n",
       "        vertical-align: top;\n",
       "    }\n",
       "\n",
       "    .dataframe thead th {\n",
       "        text-align: right;\n",
       "    }\n",
       "</style>\n",
       "<table border=\"1\" class=\"dataframe\">\n",
       "  <thead>\n",
       "    <tr style=\"text-align: right;\">\n",
       "      <th></th>\n",
       "      <th>order_id</th>\n",
       "      <th>quantity</th>\n",
       "      <th>price</th>\n",
       "      <th>year</th>\n",
       "    </tr>\n",
       "  </thead>\n",
       "  <tbody>\n",
       "    <tr>\n",
       "      <th>count</th>\n",
       "      <td>4807.000000</td>\n",
       "      <td>4807.000000</td>\n",
       "      <td>4807.000000</td>\n",
       "      <td>4807.000000</td>\n",
       "    </tr>\n",
       "    <tr>\n",
       "      <th>mean</th>\n",
       "      <td>47989.490535</td>\n",
       "      <td>2.809861</td>\n",
       "      <td>514.866029</td>\n",
       "      <td>2018.746828</td>\n",
       "    </tr>\n",
       "    <tr>\n",
       "      <th>std</th>\n",
       "      <td>27384.511754</td>\n",
       "      <td>17.684361</td>\n",
       "      <td>946.464278</td>\n",
       "      <td>0.434874</td>\n",
       "    </tr>\n",
       "    <tr>\n",
       "      <th>min</th>\n",
       "      <td>12624.000000</td>\n",
       "      <td>1.000000</td>\n",
       "      <td>9.000000</td>\n",
       "      <td>2018.000000</td>\n",
       "    </tr>\n",
       "    <tr>\n",
       "      <th>25%</th>\n",
       "      <td>14770.000000</td>\n",
       "      <td>1.000000</td>\n",
       "      <td>90.000000</td>\n",
       "      <td>2018.000000</td>\n",
       "    </tr>\n",
       "    <tr>\n",
       "      <th>50%</th>\n",
       "      <td>68844.000000</td>\n",
       "      <td>1.000000</td>\n",
       "      <td>150.000000</td>\n",
       "      <td>2019.000000</td>\n",
       "    </tr>\n",
       "    <tr>\n",
       "      <th>75%</th>\n",
       "      <td>70796.500000</td>\n",
       "      <td>1.000000</td>\n",
       "      <td>488.000000</td>\n",
       "      <td>2019.000000</td>\n",
       "    </tr>\n",
       "    <tr>\n",
       "      <th>max</th>\n",
       "      <td>73164.000000</td>\n",
       "      <td>1000.000000</td>\n",
       "      <td>14917.000000</td>\n",
       "      <td>2019.000000</td>\n",
       "    </tr>\n",
       "  </tbody>\n",
       "</table>\n",
       "</div>"
      ],
      "text/plain": [
       "           order_id     quantity         price         year\n",
       "count   4807.000000  4807.000000   4807.000000  4807.000000\n",
       "mean   47989.490535     2.809861    514.866029  2018.746828\n",
       "std    27384.511754    17.684361    946.464278     0.434874\n",
       "min    12624.000000     1.000000      9.000000  2018.000000\n",
       "25%    14770.000000     1.000000     90.000000  2018.000000\n",
       "50%    68844.000000     1.000000    150.000000  2019.000000\n",
       "75%    70796.500000     1.000000    488.000000  2019.000000\n",
       "max    73164.000000  1000.000000  14917.000000  2019.000000"
      ]
     },
     "execution_count": 32,
     "metadata": {},
     "output_type": "execute_result"
    }
   ],
   "source": [
    "clean_ecom_df.describe()"
   ]
  },
  {
   "cell_type": "markdown",
   "metadata": {},
   "source": [
    "- Ниаменьший ID заказа в датасете - `12624`, а наибольший - `73164`.\n",
    "- Не менее `75%` содержимого заказов приобретается в размере `1` штуки.\n",
    "- Наименьшая цена за единицу содержимого в заказе наименования составляет `9 руб`, наибольшая - `14917 руб`. \n",
    "- Средняя цена единицы наименования из заказа составляет `514 руб`.\n",
    "- Стоимость половины наименований из заказов не  превышает `150 руб`, а стоимость `75%` наименований не превышает `488 руб`."
   ]
  },
  {
   "cell_type": "markdown",
   "metadata": {},
   "source": [
    "Посмотрим на выбросы в значениях. Для этого построим \"ящик с усами\" для параметров `quantity` и `price`."
   ]
  },
  {
   "cell_type": "code",
   "execution_count": 33,
   "metadata": {},
   "outputs": [
    {
     "data": {
      "image/png": "[encoded data removed]",
      "text/plain": [
       "<Figure size 720x432 with 1 Axes>"
      ]
     },
     "metadata": {
      "needs_background": "light"
     },
     "output_type": "display_data"
    }
   ],
   "source": [
    "# строим \"ящик с усами\" для значений 'quantity'\n",
    "plt.figure(figsize=(10, 6))\n",
    "sns.boxplot(data=clean_ecom_df, y='quantity')\n",
    "plt.title('\"Ящик с усами\" для колонки quantity')\n",
    "plt.ylabel('Количество единиц товара в заказе')\n",
    "plt.show()"
   ]
  },
  {
   "cell_type": "markdown",
   "metadata": {},
   "source": [
    "Исходя из полученных данных методом `describe()` мы знаем, что основная масса значений лежит в области 1, при этом мы видим, что имеются сильные отклонения от основной массы значений. Из-за сильных отклонений мы и получили завышенное среднее значение по сравнению с медианным."
   ]
  },
  {
   "cell_type": "code",
   "execution_count": 34,
   "metadata": {},
   "outputs": [
    {
     "data": {
      "image/png": "[encoded data removed]",
      "text/plain": [
       "<Figure size 720x432 with 1 Axes>"
      ]
     },
     "metadata": {
      "needs_background": "light"
     },
     "output_type": "display_data"
    }
   ],
   "source": [
    "# строим \"ящик с усами\" для значений 'price'\n",
    "plt.figure(figsize=(10, 6))\n",
    "sns.boxplot(data=clean_ecom_df, y='price')\n",
    "plt.title('\"Ящик с усами\" для колонки price')\n",
    "plt.ylabel('Цена единицы товара в заказе')\n",
    "plt.show()"
   ]
  },
  {
   "cell_type": "markdown",
   "metadata": {},
   "source": [
    "По колонке `price` тоже видно наличие сильных выбросов."
   ]
  },
  {
   "cell_type": "markdown",
   "metadata": {},
   "source": [
    "Изучим различные показатели по продажам."
   ]
  },
  {
   "cell_type": "markdown",
   "metadata": {},
   "source": [
    "Создадим таблицу с заказами, в которой сохраним дату заказа, год и месяц заказа, ID заказа, ID клиента, общее количество товаров в заказе и общую сумму заказа."
   ]
  },
  {
   "cell_type": "code",
   "execution_count": 35,
   "metadata": {},
   "outputs": [
    {
     "data": {
      "text/html": [
       "<div>\n",
       "<style scoped>\n",
       "    .dataframe tbody tr th:only-of-type {\n",
       "        vertical-align: middle;\n",
       "    }\n",
       "\n",
       "    .dataframe tbody tr th {\n",
       "        vertical-align: top;\n",
       "    }\n",
       "\n",
       "    .dataframe thead th {\n",
       "        text-align: right;\n",
       "    }\n",
       "</style>\n",
       "<table border=\"1\" class=\"dataframe\">\n",
       "  <thead>\n",
       "    <tr style=\"text-align: right;\">\n",
       "      <th></th>\n",
       "      <th>date</th>\n",
       "      <th>year</th>\n",
       "      <th>month</th>\n",
       "      <th>customer_id</th>\n",
       "      <th>order_id</th>\n",
       "      <th>products_quantity</th>\n",
       "      <th>total_quantity</th>\n",
       "      <th>total_costs</th>\n",
       "    </tr>\n",
       "  </thead>\n",
       "  <tbody>\n",
       "    <tr>\n",
       "      <th>0</th>\n",
       "      <td>2018-10-01 00:00:00</td>\n",
       "      <td>2018</td>\n",
       "      <td>2018-10-01</td>\n",
       "      <td>ee47d746-6d2f-4d3c-9622-c31412542920</td>\n",
       "      <td>68477</td>\n",
       "      <td>7</td>\n",
       "      <td>7</td>\n",
       "      <td>1037.0</td>\n",
       "    </tr>\n",
       "    <tr>\n",
       "      <th>1</th>\n",
       "      <td>2018-10-01 08:00:00</td>\n",
       "      <td>2018</td>\n",
       "      <td>2018-10-01</td>\n",
       "      <td>375e0724-f033-4c76-b579-84969cf38ee2</td>\n",
       "      <td>68479</td>\n",
       "      <td>1</td>\n",
       "      <td>1</td>\n",
       "      <td>824.0</td>\n",
       "    </tr>\n",
       "    <tr>\n",
       "      <th>2</th>\n",
       "      <td>2018-10-01 08:00:00</td>\n",
       "      <td>2018</td>\n",
       "      <td>2018-10-01</td>\n",
       "      <td>6644e5b4-9934-4863-9778-aaa125207701</td>\n",
       "      <td>68478</td>\n",
       "      <td>1</td>\n",
       "      <td>1</td>\n",
       "      <td>269.0</td>\n",
       "    </tr>\n",
       "    <tr>\n",
       "      <th>3</th>\n",
       "      <td>2018-10-01 09:00:00</td>\n",
       "      <td>2018</td>\n",
       "      <td>2018-10-01</td>\n",
       "      <td>c971fb21-d54c-4134-938f-16b62ee86d3b</td>\n",
       "      <td>68480</td>\n",
       "      <td>1</td>\n",
       "      <td>1</td>\n",
       "      <td>674.0</td>\n",
       "    </tr>\n",
       "    <tr>\n",
       "      <th>4</th>\n",
       "      <td>2018-10-01 11:00:00</td>\n",
       "      <td>2018</td>\n",
       "      <td>2018-10-01</td>\n",
       "      <td>161e1b98-45ba-4b4e-8236-e6e3e70f6f7c</td>\n",
       "      <td>68483</td>\n",
       "      <td>1</td>\n",
       "      <td>10</td>\n",
       "      <td>820.0</td>\n",
       "    </tr>\n",
       "  </tbody>\n",
       "</table>\n",
       "</div>"
      ],
      "text/plain": [
       "                 date  year      month                           customer_id  order_id  products_quantity  total_quantity  total_costs\n",
       "0 2018-10-01 00:00:00  2018 2018-10-01  ee47d746-6d2f-4d3c-9622-c31412542920     68477                  7               7       1037.0\n",
       "1 2018-10-01 08:00:00  2018 2018-10-01  375e0724-f033-4c76-b579-84969cf38ee2     68479                  1               1        824.0\n",
       "2 2018-10-01 08:00:00  2018 2018-10-01  6644e5b4-9934-4863-9778-aaa125207701     68478                  1               1        269.0\n",
       "3 2018-10-01 09:00:00  2018 2018-10-01  c971fb21-d54c-4134-938f-16b62ee86d3b     68480                  1               1        674.0\n",
       "4 2018-10-01 11:00:00  2018 2018-10-01  161e1b98-45ba-4b4e-8236-e6e3e70f6f7c     68483                  1              10        820.0"
      ]
     },
     "execution_count": 35,
     "metadata": {},
     "output_type": "execute_result"
    }
   ],
   "source": [
    "# посчитаем общую стоимость товара\n",
    "clean_ecom_df['costs'] = clean_ecom_df['price'] * clean_ecom_df['quantity']\n",
    "\n",
    "# создадим таблицу с заказами\n",
    "orders = (\n",
    "    clean_ecom_df.groupby(['date', 'year', 'month', 'customer_id', 'order_id'])\n",
    "    .agg({'product': 'nunique', 'quantity': 'sum', 'costs': 'sum'})\n",
    "    .reset_index()\n",
    ")\n",
    "orders.columns = ['date', 'year', 'month', 'customer_id', 'order_id', \n",
    "                  'products_quantity', 'total_quantity', 'total_costs']\n",
    "\n",
    "# выведем первые 5 строк таблицы\n",
    "orders.head(5)"
   ]
  },
  {
   "cell_type": "code",
   "execution_count": 36,
   "metadata": {},
   "outputs": [
    {
     "name": "stdout",
     "output_type": "stream",
     "text": [
      "Общее количество записей в таблице: 2778\n",
      "Общее количество заказов: 2755\n",
      "Общее количество покупателей: 2394\n"
     ]
    }
   ],
   "source": [
    "# посчитаем общее количество заказов и клиентов\n",
    "print('Общее количество записей в таблице: {}'.format(orders.shape[0]))\n",
    "print('Общее количество заказов: {}'.format(len(orders['order_id'].unique())))\n",
    "print('Общее количество покупателей: {}'.format(len(orders['customer_id'].unique())))"
   ]
  },
  {
   "cell_type": "markdown",
   "metadata": {},
   "source": [
    "Мы получили в новой таблице дубли заказов, т.к. уникальных заказов у нас меньше, чем строк в таблице."
   ]
  },
  {
   "cell_type": "markdown",
   "metadata": {},
   "source": [
    "Изучим дубли в имеющейся таблице."
   ]
  },
  {
   "cell_type": "code",
   "execution_count": 37,
   "metadata": {
    "scrolled": true
   },
   "outputs": [
    {
     "data": {
      "text/html": [
       "<div>\n",
       "<style scoped>\n",
       "    .dataframe tbody tr th:only-of-type {\n",
       "        vertical-align: middle;\n",
       "    }\n",
       "\n",
       "    .dataframe tbody tr th {\n",
       "        vertical-align: top;\n",
       "    }\n",
       "\n",
       "    .dataframe thead th {\n",
       "        text-align: right;\n",
       "    }\n",
       "</style>\n",
       "<table border=\"1\" class=\"dataframe\">\n",
       "  <thead>\n",
       "    <tr style=\"text-align: right;\">\n",
       "      <th></th>\n",
       "      <th>date</th>\n",
       "      <th>year</th>\n",
       "      <th>month</th>\n",
       "      <th>customer_id</th>\n",
       "      <th>order_id</th>\n",
       "      <th>products_quantity</th>\n",
       "      <th>total_quantity</th>\n",
       "      <th>total_costs</th>\n",
       "    </tr>\n",
       "  </thead>\n",
       "  <tbody>\n",
       "    <tr>\n",
       "      <th>216</th>\n",
       "      <td>2018-10-28 08:00:00</td>\n",
       "      <td>2018</td>\n",
       "      <td>2018-10-01</td>\n",
       "      <td>3ee43256-af7d-4036-90d4-eeefa1afc767</td>\n",
       "      <td>14500</td>\n",
       "      <td>9</td>\n",
       "      <td>9</td>\n",
       "      <td>1410.0</td>\n",
       "    </tr>\n",
       "    <tr>\n",
       "      <th>232</th>\n",
       "      <td>2018-10-31 06:00:00</td>\n",
       "      <td>2018</td>\n",
       "      <td>2018-10-01</td>\n",
       "      <td>3ee43256-af7d-4036-90d4-eeefa1afc767</td>\n",
       "      <td>14500</td>\n",
       "      <td>1</td>\n",
       "      <td>1</td>\n",
       "      <td>101.0</td>\n",
       "    </tr>\n",
       "    <tr>\n",
       "      <th>514</th>\n",
       "      <td>2018-12-10 11:00:00</td>\n",
       "      <td>2018</td>\n",
       "      <td>2018-12-01</td>\n",
       "      <td>bbb32131-2d92-4c1e-aa28-41723f7bc26c</td>\n",
       "      <td>69282</td>\n",
       "      <td>1</td>\n",
       "      <td>6</td>\n",
       "      <td>264.0</td>\n",
       "    </tr>\n",
       "    <tr>\n",
       "      <th>576</th>\n",
       "      <td>2018-12-17 10:00:00</td>\n",
       "      <td>2018</td>\n",
       "      <td>2018-12-01</td>\n",
       "      <td>bbb32131-2d92-4c1e-aa28-41723f7bc26c</td>\n",
       "      <td>69282</td>\n",
       "      <td>1</td>\n",
       "      <td>12</td>\n",
       "      <td>528.0</td>\n",
       "    </tr>\n",
       "    <tr>\n",
       "      <th>648</th>\n",
       "      <td>2018-12-23 12:00:00</td>\n",
       "      <td>2018</td>\n",
       "      <td>2018-12-01</td>\n",
       "      <td>eb04c06f-bee9-45bd-9392-4addbc54952f</td>\n",
       "      <td>69527</td>\n",
       "      <td>1</td>\n",
       "      <td>1</td>\n",
       "      <td>712.0</td>\n",
       "    </tr>\n",
       "    <tr>\n",
       "      <th>671</th>\n",
       "      <td>2018-12-24 20:00:00</td>\n",
       "      <td>2018</td>\n",
       "      <td>2018-12-01</td>\n",
       "      <td>eb04c06f-bee9-45bd-9392-4addbc54952f</td>\n",
       "      <td>69527</td>\n",
       "      <td>1</td>\n",
       "      <td>1</td>\n",
       "      <td>1649.0</td>\n",
       "    </tr>\n",
       "    <tr>\n",
       "      <th>748</th>\n",
       "      <td>2019-01-09 14:00:00</td>\n",
       "      <td>2019</td>\n",
       "      <td>2019-01-01</td>\n",
       "      <td>d247211c-d16b-43ba-812d-6a27aff31871</td>\n",
       "      <td>69750</td>\n",
       "      <td>1</td>\n",
       "      <td>1</td>\n",
       "      <td>2999.0</td>\n",
       "    </tr>\n",
       "    <tr>\n",
       "      <th>774</th>\n",
       "      <td>2019-01-13 22:00:00</td>\n",
       "      <td>2019</td>\n",
       "      <td>2019-01-01</td>\n",
       "      <td>0982f6b9-328f-4a67-b7ee-cd0a114868f0</td>\n",
       "      <td>69807</td>\n",
       "      <td>1</td>\n",
       "      <td>1</td>\n",
       "      <td>59.0</td>\n",
       "    </tr>\n",
       "    <tr>\n",
       "      <th>798</th>\n",
       "      <td>2019-01-17 10:00:00</td>\n",
       "      <td>2019</td>\n",
       "      <td>2019-01-01</td>\n",
       "      <td>595c636d-2625-494f-8c98-b342bd4fbb9f</td>\n",
       "      <td>69861</td>\n",
       "      <td>1</td>\n",
       "      <td>1</td>\n",
       "      <td>134.0</td>\n",
       "    </tr>\n",
       "    <tr>\n",
       "      <th>799</th>\n",
       "      <td>2019-01-17 17:00:00</td>\n",
       "      <td>2019</td>\n",
       "      <td>2019-01-01</td>\n",
       "      <td>595c636d-2625-494f-8c98-b342bd4fbb9f</td>\n",
       "      <td>69861</td>\n",
       "      <td>1</td>\n",
       "      <td>1</td>\n",
       "      <td>239.0</td>\n",
       "    </tr>\n",
       "    <tr>\n",
       "      <th>881</th>\n",
       "      <td>2019-01-30 15:00:00</td>\n",
       "      <td>2019</td>\n",
       "      <td>2019-01-01</td>\n",
       "      <td>eec973c9-6ae9-4c1b-b1c7-a2718fde2f84</td>\n",
       "      <td>70031</td>\n",
       "      <td>1</td>\n",
       "      <td>1</td>\n",
       "      <td>22.0</td>\n",
       "    </tr>\n",
       "    <tr>\n",
       "      <th>915</th>\n",
       "      <td>2019-02-04 16:00:00</td>\n",
       "      <td>2019</td>\n",
       "      <td>2019-02-01</td>\n",
       "      <td>eec973c9-6ae9-4c1b-b1c7-a2718fde2f84</td>\n",
       "      <td>70031</td>\n",
       "      <td>1</td>\n",
       "      <td>1</td>\n",
       "      <td>59.0</td>\n",
       "    </tr>\n",
       "    <tr>\n",
       "      <th>963</th>\n",
       "      <td>2019-02-10 10:00:00</td>\n",
       "      <td>2019</td>\n",
       "      <td>2019-02-01</td>\n",
       "      <td>0a4e4711-5cb7-4bae-93cf-6731902708de</td>\n",
       "      <td>70186</td>\n",
       "      <td>1</td>\n",
       "      <td>1</td>\n",
       "      <td>142.0</td>\n",
       "    </tr>\n",
       "    <tr>\n",
       "      <th>994</th>\n",
       "      <td>2019-02-12 17:00:00</td>\n",
       "      <td>2019</td>\n",
       "      <td>2019-02-01</td>\n",
       "      <td>0a4e4711-5cb7-4bae-93cf-6731902708de</td>\n",
       "      <td>70186</td>\n",
       "      <td>1</td>\n",
       "      <td>1</td>\n",
       "      <td>1574.0</td>\n",
       "    </tr>\n",
       "    <tr>\n",
       "      <th>998</th>\n",
       "      <td>2019-02-12 21:00:00</td>\n",
       "      <td>2019</td>\n",
       "      <td>2019-02-01</td>\n",
       "      <td>0982f6b9-328f-4a67-b7ee-cd0a114868f0</td>\n",
       "      <td>69807</td>\n",
       "      <td>1</td>\n",
       "      <td>1</td>\n",
       "      <td>899.0</td>\n",
       "    </tr>\n",
       "    <tr>\n",
       "      <th>1005</th>\n",
       "      <td>2019-02-13 12:00:00</td>\n",
       "      <td>2019</td>\n",
       "      <td>2019-02-01</td>\n",
       "      <td>d247211c-d16b-43ba-812d-6a27aff31871</td>\n",
       "      <td>69750</td>\n",
       "      <td>1</td>\n",
       "      <td>1</td>\n",
       "      <td>2999.0</td>\n",
       "    </tr>\n",
       "    <tr>\n",
       "      <th>1047</th>\n",
       "      <td>2019-02-18 11:00:00</td>\n",
       "      <td>2019</td>\n",
       "      <td>2019-02-01</td>\n",
       "      <td>2c4cdb89-9a38-40f5-9c36-109d2bf78cbe</td>\n",
       "      <td>70318</td>\n",
       "      <td>1</td>\n",
       "      <td>1</td>\n",
       "      <td>1574.0</td>\n",
       "    </tr>\n",
       "    <tr>\n",
       "      <th>1093</th>\n",
       "      <td>2019-02-21 13:00:00</td>\n",
       "      <td>2019</td>\n",
       "      <td>2019-02-01</td>\n",
       "      <td>2c4cdb89-9a38-40f5-9c36-109d2bf78cbe</td>\n",
       "      <td>70318</td>\n",
       "      <td>1</td>\n",
       "      <td>1</td>\n",
       "      <td>637.0</td>\n",
       "    </tr>\n",
       "    <tr>\n",
       "      <th>1144</th>\n",
       "      <td>2019-02-26 10:00:00</td>\n",
       "      <td>2019</td>\n",
       "      <td>2019-02-01</td>\n",
       "      <td>036edc2c-d0ad-4c71-99f6-226db1b883f4</td>\n",
       "      <td>70463</td>\n",
       "      <td>1</td>\n",
       "      <td>2</td>\n",
       "      <td>478.0</td>\n",
       "    </tr>\n",
       "    <tr>\n",
       "      <th>1243</th>\n",
       "      <td>2019-03-06 11:00:00</td>\n",
       "      <td>2019</td>\n",
       "      <td>2019-03-01</td>\n",
       "      <td>036edc2c-d0ad-4c71-99f6-226db1b883f4</td>\n",
       "      <td>70463</td>\n",
       "      <td>1</td>\n",
       "      <td>1</td>\n",
       "      <td>239.0</td>\n",
       "    </tr>\n",
       "    <tr>\n",
       "      <th>1310</th>\n",
       "      <td>2019-03-14 22:00:00</td>\n",
       "      <td>2019</td>\n",
       "      <td>2019-03-01</td>\n",
       "      <td>161ec5a3-e6df-4a8c-98ad-089aeac5bcc3</td>\n",
       "      <td>70742</td>\n",
       "      <td>1</td>\n",
       "      <td>1</td>\n",
       "      <td>172.0</td>\n",
       "    </tr>\n",
       "    <tr>\n",
       "      <th>1315</th>\n",
       "      <td>2019-03-15 13:00:00</td>\n",
       "      <td>2019</td>\n",
       "      <td>2019-03-01</td>\n",
       "      <td>161ec5a3-e6df-4a8c-98ad-089aeac5bcc3</td>\n",
       "      <td>70742</td>\n",
       "      <td>1</td>\n",
       "      <td>10</td>\n",
       "      <td>1720.0</td>\n",
       "    </tr>\n",
       "    <tr>\n",
       "      <th>1326</th>\n",
       "      <td>2019-03-17 20:00:00</td>\n",
       "      <td>2019</td>\n",
       "      <td>2019-03-01</td>\n",
       "      <td>977bba90-df53-4513-b5db-30d6ea1fbca1</td>\n",
       "      <td>70769</td>\n",
       "      <td>1</td>\n",
       "      <td>30</td>\n",
       "      <td>960.0</td>\n",
       "    </tr>\n",
       "    <tr>\n",
       "      <th>1417</th>\n",
       "      <td>2019-03-31 09:00:00</td>\n",
       "      <td>2019</td>\n",
       "      <td>2019-03-01</td>\n",
       "      <td>977bba90-df53-4513-b5db-30d6ea1fbca1</td>\n",
       "      <td>70769</td>\n",
       "      <td>1</td>\n",
       "      <td>25</td>\n",
       "      <td>800.0</td>\n",
       "    </tr>\n",
       "    <tr>\n",
       "      <th>1451</th>\n",
       "      <td>2019-04-03 17:00:00</td>\n",
       "      <td>2019</td>\n",
       "      <td>2019-04-01</td>\n",
       "      <td>cfc1fd9f-ac10-417d-aad8-ce5fcbc4d786</td>\n",
       "      <td>70995</td>\n",
       "      <td>1</td>\n",
       "      <td>1</td>\n",
       "      <td>239.0</td>\n",
       "    </tr>\n",
       "    <tr>\n",
       "      <th>1502</th>\n",
       "      <td>2019-04-08 15:00:00</td>\n",
       "      <td>2019</td>\n",
       "      <td>2019-04-01</td>\n",
       "      <td>cfc1fd9f-ac10-417d-aad8-ce5fcbc4d786</td>\n",
       "      <td>70995</td>\n",
       "      <td>1</td>\n",
       "      <td>1</td>\n",
       "      <td>749.0</td>\n",
       "    </tr>\n",
       "    <tr>\n",
       "      <th>1551</th>\n",
       "      <td>2019-04-15 07:00:00</td>\n",
       "      <td>2019</td>\n",
       "      <td>2019-04-01</td>\n",
       "      <td>1772d490-ef94-4d83-9bb1-9a12aebbe3ce</td>\n",
       "      <td>71143</td>\n",
       "      <td>1</td>\n",
       "      <td>1</td>\n",
       "      <td>59.0</td>\n",
       "    </tr>\n",
       "    <tr>\n",
       "      <th>1553</th>\n",
       "      <td>2019-04-15 12:00:00</td>\n",
       "      <td>2019</td>\n",
       "      <td>2019-04-01</td>\n",
       "      <td>ae6940d3-a1c7-4997-8853-a5b8afc60d51</td>\n",
       "      <td>71148</td>\n",
       "      <td>1</td>\n",
       "      <td>1</td>\n",
       "      <td>1799.0</td>\n",
       "    </tr>\n",
       "    <tr>\n",
       "      <th>1567</th>\n",
       "      <td>2019-04-16 13:00:00</td>\n",
       "      <td>2019</td>\n",
       "      <td>2019-04-01</td>\n",
       "      <td>0184f535-b60a-4914-a982-231e3f615206</td>\n",
       "      <td>14649</td>\n",
       "      <td>14</td>\n",
       "      <td>14</td>\n",
       "      <td>1486.0</td>\n",
       "    </tr>\n",
       "    <tr>\n",
       "      <th>1571</th>\n",
       "      <td>2019-04-16 16:00:00</td>\n",
       "      <td>2019</td>\n",
       "      <td>2019-04-01</td>\n",
       "      <td>0184f535-b60a-4914-a982-231e3f615206</td>\n",
       "      <td>14649</td>\n",
       "      <td>1</td>\n",
       "      <td>1</td>\n",
       "      <td>210.0</td>\n",
       "    </tr>\n",
       "    <tr>\n",
       "      <th>1589</th>\n",
       "      <td>2019-04-18 15:00:00</td>\n",
       "      <td>2019</td>\n",
       "      <td>2019-04-01</td>\n",
       "      <td>1772d490-ef94-4d83-9bb1-9a12aebbe3ce</td>\n",
       "      <td>71143</td>\n",
       "      <td>1</td>\n",
       "      <td>1</td>\n",
       "      <td>59.0</td>\n",
       "    </tr>\n",
       "    <tr>\n",
       "      <th>1693</th>\n",
       "      <td>2019-05-02 14:00:00</td>\n",
       "      <td>2019</td>\n",
       "      <td>2019-05-01</td>\n",
       "      <td>b17d36a6-13b0-4896-815f-45ee6adfd23d</td>\n",
       "      <td>71341</td>\n",
       "      <td>1</td>\n",
       "      <td>2</td>\n",
       "      <td>748.0</td>\n",
       "    </tr>\n",
       "    <tr>\n",
       "      <th>1695</th>\n",
       "      <td>2019-05-02 18:00:00</td>\n",
       "      <td>2019</td>\n",
       "      <td>2019-05-01</td>\n",
       "      <td>b17d36a6-13b0-4896-815f-45ee6adfd23d</td>\n",
       "      <td>71341</td>\n",
       "      <td>1</td>\n",
       "      <td>1</td>\n",
       "      <td>374.0</td>\n",
       "    </tr>\n",
       "    <tr>\n",
       "      <th>1753</th>\n",
       "      <td>2019-05-13 18:00:00</td>\n",
       "      <td>2019</td>\n",
       "      <td>2019-05-01</td>\n",
       "      <td>2c2f1c82-d5f8-462a-b3ea-8ab375a8fa0d</td>\n",
       "      <td>71413</td>\n",
       "      <td>1</td>\n",
       "      <td>1</td>\n",
       "      <td>224.0</td>\n",
       "    </tr>\n",
       "    <tr>\n",
       "      <th>1766</th>\n",
       "      <td>2019-05-14 16:00:00</td>\n",
       "      <td>2019</td>\n",
       "      <td>2019-05-01</td>\n",
       "      <td>d05e3c48-3745-408e-8880-d787e06062ae</td>\n",
       "      <td>71426</td>\n",
       "      <td>1</td>\n",
       "      <td>1</td>\n",
       "      <td>1949.0</td>\n",
       "    </tr>\n",
       "    <tr>\n",
       "      <th>1771</th>\n",
       "      <td>2019-05-15 00:00:00</td>\n",
       "      <td>2019</td>\n",
       "      <td>2019-05-01</td>\n",
       "      <td>d05e3c48-3745-408e-8880-d787e06062ae</td>\n",
       "      <td>71426</td>\n",
       "      <td>1</td>\n",
       "      <td>1</td>\n",
       "      <td>1949.0</td>\n",
       "    </tr>\n",
       "    <tr>\n",
       "      <th>1784</th>\n",
       "      <td>2019-05-17 14:00:00</td>\n",
       "      <td>2019</td>\n",
       "      <td>2019-05-01</td>\n",
       "      <td>2c2f1c82-d5f8-462a-b3ea-8ab375a8fa0d</td>\n",
       "      <td>71413</td>\n",
       "      <td>1</td>\n",
       "      <td>2</td>\n",
       "      <td>448.0</td>\n",
       "    </tr>\n",
       "    <tr>\n",
       "      <th>1853</th>\n",
       "      <td>2019-05-29 16:00:00</td>\n",
       "      <td>2019</td>\n",
       "      <td>2019-05-01</td>\n",
       "      <td>ae6940d3-a1c7-4997-8853-a5b8afc60d51</td>\n",
       "      <td>71148</td>\n",
       "      <td>1</td>\n",
       "      <td>2</td>\n",
       "      <td>3598.0</td>\n",
       "    </tr>\n",
       "    <tr>\n",
       "      <th>1868</th>\n",
       "      <td>2019-05-31 12:00:00</td>\n",
       "      <td>2019</td>\n",
       "      <td>2019-05-01</td>\n",
       "      <td>1d6c8c1f-a799-4418-9af2-1ded47d7a85c</td>\n",
       "      <td>14833</td>\n",
       "      <td>12</td>\n",
       "      <td>12</td>\n",
       "      <td>1530.0</td>\n",
       "    </tr>\n",
       "    <tr>\n",
       "      <th>1885</th>\n",
       "      <td>2019-06-03 13:00:00</td>\n",
       "      <td>2019</td>\n",
       "      <td>2019-06-01</td>\n",
       "      <td>1d6c8c1f-a799-4418-9af2-1ded47d7a85c</td>\n",
       "      <td>14833</td>\n",
       "      <td>12</td>\n",
       "      <td>24</td>\n",
       "      <td>3060.0</td>\n",
       "    </tr>\n",
       "    <tr>\n",
       "      <th>2086</th>\n",
       "      <td>2019-07-09 22:00:00</td>\n",
       "      <td>2019</td>\n",
       "      <td>2019-07-01</td>\n",
       "      <td>3ebc0246-48a6-4932-a759-f492c4a7d879</td>\n",
       "      <td>14898</td>\n",
       "      <td>6</td>\n",
       "      <td>6</td>\n",
       "      <td>622.0</td>\n",
       "    </tr>\n",
       "    <tr>\n",
       "      <th>2090</th>\n",
       "      <td>2019-07-10 11:00:00</td>\n",
       "      <td>2019</td>\n",
       "      <td>2019-07-01</td>\n",
       "      <td>3ebc0246-48a6-4932-a759-f492c4a7d879</td>\n",
       "      <td>14898</td>\n",
       "      <td>1</td>\n",
       "      <td>1</td>\n",
       "      <td>120.0</td>\n",
       "    </tr>\n",
       "    <tr>\n",
       "      <th>2098</th>\n",
       "      <td>2019-07-11 06:00:00</td>\n",
       "      <td>2019</td>\n",
       "      <td>2019-07-01</td>\n",
       "      <td>f30fea52-f096-4d36-b7eb-33f9f42c291d</td>\n",
       "      <td>71939</td>\n",
       "      <td>1</td>\n",
       "      <td>1</td>\n",
       "      <td>239.0</td>\n",
       "    </tr>\n",
       "    <tr>\n",
       "      <th>2101</th>\n",
       "      <td>2019-07-11 12:00:00</td>\n",
       "      <td>2019</td>\n",
       "      <td>2019-07-01</td>\n",
       "      <td>f30fea52-f096-4d36-b7eb-33f9f42c291d</td>\n",
       "      <td>71939</td>\n",
       "      <td>1</td>\n",
       "      <td>2</td>\n",
       "      <td>478.0</td>\n",
       "    </tr>\n",
       "    <tr>\n",
       "      <th>2428</th>\n",
       "      <td>2019-09-05 14:00:00</td>\n",
       "      <td>2019</td>\n",
       "      <td>2019-09-01</td>\n",
       "      <td>51851f8e-e239-4e31-ab2c-4b67ab2c76da</td>\n",
       "      <td>72517</td>\n",
       "      <td>1</td>\n",
       "      <td>1</td>\n",
       "      <td>134.0</td>\n",
       "    </tr>\n",
       "    <tr>\n",
       "      <th>2432</th>\n",
       "      <td>2019-09-05 22:00:00</td>\n",
       "      <td>2019</td>\n",
       "      <td>2019-09-01</td>\n",
       "      <td>51851f8e-e239-4e31-ab2c-4b67ab2c76da</td>\n",
       "      <td>72517</td>\n",
       "      <td>1</td>\n",
       "      <td>1</td>\n",
       "      <td>134.0</td>\n",
       "    </tr>\n",
       "  </tbody>\n",
       "</table>\n",
       "</div>"
      ],
      "text/plain": [
       "                    date  year      month                           customer_id  order_id  products_quantity  total_quantity  total_costs\n",
       "216  2018-10-28 08:00:00  2018 2018-10-01  3ee43256-af7d-4036-90d4-eeefa1afc767     14500                  9               9       1410.0\n",
       "232  2018-10-31 06:00:00  2018 2018-10-01  3ee43256-af7d-4036-90d4-eeefa1afc767     14500                  1               1        101.0\n",
       "514  2018-12-10 11:00:00  2018 2018-12-01  bbb32131-2d92-4c1e-aa28-41723f7bc26c     69282                  1               6        264.0\n",
       "576  2018-12-17 10:00:00  2018 2018-12-01  bbb32131-2d92-4c1e-aa28-41723f7bc26c     69282                  1              12        528.0\n",
       "648  2018-12-23 12:00:00  2018 2018-12-01  eb04c06f-bee9-45bd-9392-4addbc54952f     69527                  1               1        712.0\n",
       "671  2018-12-24 20:00:00  2018 2018-12-01  eb04c06f-bee9-45bd-9392-4addbc54952f     69527                  1               1       1649.0\n",
       "748  2019-01-09 14:00:00  2019 2019-01-01  d247211c-d16b-43ba-812d-6a27aff31871     69750                  1               1       2999.0\n",
       "774  2019-01-13 22:00:00  2019 2019-01-01  0982f6b9-328f-4a67-b7ee-cd0a114868f0     69807                  1               1         59.0\n",
       "798  2019-01-17 10:00:00  2019 2019-01-01  595c636d-2625-494f-8c98-b342bd4fbb9f     69861                  1               1        134.0\n",
       "799  2019-01-17 17:00:00  2019 2019-01-01  595c636d-2625-494f-8c98-b342bd4fbb9f     69861                  1               1        239.0\n",
       "881  2019-01-30 15:00:00  2019 2019-01-01  eec973c9-6ae9-4c1b-b1c7-a2718fde2f84     70031                  1               1         22.0\n",
       "915  2019-02-04 16:00:00  2019 2019-02-01  eec973c9-6ae9-4c1b-b1c7-a2718fde2f84     70031                  1               1         59.0\n",
       "963  2019-02-10 10:00:00  2019 2019-02-01  0a4e4711-5cb7-4bae-93cf-6731902708de     70186                  1               1        142.0\n",
       "994  2019-02-12 17:00:00  2019 2019-02-01  0a4e4711-5cb7-4bae-93cf-6731902708de     70186                  1               1       1574.0\n",
       "998  2019-02-12 21:00:00  2019 2019-02-01  0982f6b9-328f-4a67-b7ee-cd0a114868f0     69807                  1               1        899.0\n",
       "1005 2019-02-13 12:00:00  2019 2019-02-01  d247211c-d16b-43ba-812d-6a27aff31871     69750                  1               1       2999.0\n",
       "1047 2019-02-18 11:00:00  2019 2019-02-01  2c4cdb89-9a38-40f5-9c36-109d2bf78cbe     70318                  1               1       1574.0\n",
       "1093 2019-02-21 13:00:00  2019 2019-02-01  2c4cdb89-9a38-40f5-9c36-109d2bf78cbe     70318                  1               1        637.0\n",
       "1144 2019-02-26 10:00:00  2019 2019-02-01  036edc2c-d0ad-4c71-99f6-226db1b883f4     70463                  1               2        478.0\n",
       "1243 2019-03-06 11:00:00  2019 2019-03-01  036edc2c-d0ad-4c71-99f6-226db1b883f4     70463                  1               1        239.0\n",
       "1310 2019-03-14 22:00:00  2019 2019-03-01  161ec5a3-e6df-4a8c-98ad-089aeac5bcc3     70742                  1               1        172.0\n",
       "1315 2019-03-15 13:00:00  2019 2019-03-01  161ec5a3-e6df-4a8c-98ad-089aeac5bcc3     70742                  1              10       1720.0\n",
       "1326 2019-03-17 20:00:00  2019 2019-03-01  977bba90-df53-4513-b5db-30d6ea1fbca1     70769                  1              30        960.0\n",
       "1417 2019-03-31 09:00:00  2019 2019-03-01  977bba90-df53-4513-b5db-30d6ea1fbca1     70769                  1              25        800.0\n",
       "1451 2019-04-03 17:00:00  2019 2019-04-01  cfc1fd9f-ac10-417d-aad8-ce5fcbc4d786     70995                  1               1        239.0\n",
       "1502 2019-04-08 15:00:00  2019 2019-04-01  cfc1fd9f-ac10-417d-aad8-ce5fcbc4d786     70995                  1               1        749.0\n",
       "1551 2019-04-15 07:00:00  2019 2019-04-01  1772d490-ef94-4d83-9bb1-9a12aebbe3ce     71143                  1               1         59.0\n",
       "1553 2019-04-15 12:00:00  2019 2019-04-01  ae6940d3-a1c7-4997-8853-a5b8afc60d51     71148                  1               1       1799.0\n",
       "1567 2019-04-16 13:00:00  2019 2019-04-01  0184f535-b60a-4914-a982-231e3f615206     14649                 14              14       1486.0\n",
       "1571 2019-04-16 16:00:00  2019 2019-04-01  0184f535-b60a-4914-a982-231e3f615206     14649                  1               1        210.0\n",
       "1589 2019-04-18 15:00:00  2019 2019-04-01  1772d490-ef94-4d83-9bb1-9a12aebbe3ce     71143                  1               1         59.0\n",
       "1693 2019-05-02 14:00:00  2019 2019-05-01  b17d36a6-13b0-4896-815f-45ee6adfd23d     71341                  1               2        748.0\n",
       "1695 2019-05-02 18:00:00  2019 2019-05-01  b17d36a6-13b0-4896-815f-45ee6adfd23d     71341                  1               1        374.0\n",
       "1753 2019-05-13 18:00:00  2019 2019-05-01  2c2f1c82-d5f8-462a-b3ea-8ab375a8fa0d     71413                  1               1        224.0\n",
       "1766 2019-05-14 16:00:00  2019 2019-05-01  d05e3c48-3745-408e-8880-d787e06062ae     71426                  1               1       1949.0\n",
       "1771 2019-05-15 00:00:00  2019 2019-05-01  d05e3c48-3745-408e-8880-d787e06062ae     71426                  1               1       1949.0\n",
       "1784 2019-05-17 14:00:00  2019 2019-05-01  2c2f1c82-d5f8-462a-b3ea-8ab375a8fa0d     71413                  1               2        448.0\n",
       "1853 2019-05-29 16:00:00  2019 2019-05-01  ae6940d3-a1c7-4997-8853-a5b8afc60d51     71148                  1               2       3598.0\n",
       "1868 2019-05-31 12:00:00  2019 2019-05-01  1d6c8c1f-a799-4418-9af2-1ded47d7a85c     14833                 12              12       1530.0\n",
       "1885 2019-06-03 13:00:00  2019 2019-06-01  1d6c8c1f-a799-4418-9af2-1ded47d7a85c     14833                 12              24       3060.0\n",
       "2086 2019-07-09 22:00:00  2019 2019-07-01  3ebc0246-48a6-4932-a759-f492c4a7d879     14898                  6               6        622.0\n",
       "2090 2019-07-10 11:00:00  2019 2019-07-01  3ebc0246-48a6-4932-a759-f492c4a7d879     14898                  1               1        120.0\n",
       "2098 2019-07-11 06:00:00  2019 2019-07-01  f30fea52-f096-4d36-b7eb-33f9f42c291d     71939                  1               1        239.0\n",
       "2101 2019-07-11 12:00:00  2019 2019-07-01  f30fea52-f096-4d36-b7eb-33f9f42c291d     71939                  1               2        478.0\n",
       "2428 2019-09-05 14:00:00  2019 2019-09-01  51851f8e-e239-4e31-ab2c-4b67ab2c76da     72517                  1               1        134.0\n",
       "2432 2019-09-05 22:00:00  2019 2019-09-01  51851f8e-e239-4e31-ab2c-4b67ab2c76da     72517                  1               1        134.0"
      ]
     },
     "execution_count": 37,
     "metadata": {},
     "output_type": "execute_result"
    }
   ],
   "source": [
    "orders[orders[['customer_id', 'order_id']].duplicated(keep=False)].sort_values(by=['date', 'order_id'])"
   ]
  },
  {
   "cell_type": "code",
   "execution_count": 38,
   "metadata": {},
   "outputs": [
    {
     "data": {
      "text/html": [
       "<div>\n",
       "<style scoped>\n",
       "    .dataframe tbody tr th:only-of-type {\n",
       "        vertical-align: middle;\n",
       "    }\n",
       "\n",
       "    .dataframe tbody tr th {\n",
       "        vertical-align: top;\n",
       "    }\n",
       "\n",
       "    .dataframe thead th {\n",
       "        text-align: right;\n",
       "    }\n",
       "</style>\n",
       "<table border=\"1\" class=\"dataframe\">\n",
       "  <thead>\n",
       "    <tr style=\"text-align: right;\">\n",
       "      <th></th>\n",
       "      <th>customer_id</th>\n",
       "      <th>order_id</th>\n",
       "      <th>product</th>\n",
       "      <th>quantity</th>\n",
       "      <th>price</th>\n",
       "      <th>date</th>\n",
       "      <th>year</th>\n",
       "      <th>month</th>\n",
       "      <th>costs</th>\n",
       "    </tr>\n",
       "  </thead>\n",
       "  <tbody>\n",
       "    <tr>\n",
       "      <th>4421</th>\n",
       "      <td>eb04c06f-bee9-45bd-9392-4addbc54952f</td>\n",
       "      <td>69527</td>\n",
       "      <td>Лестница-стремянка Dogrular Ufuk оцинкованная 8-ми ступенчатая</td>\n",
       "      <td>1</td>\n",
       "      <td>1649.0</td>\n",
       "      <td>2018-12-24 20:00:00</td>\n",
       "      <td>2018</td>\n",
       "      <td>2018-12-01</td>\n",
       "      <td>1649.0</td>\n",
       "    </tr>\n",
       "    <tr>\n",
       "      <th>4422</th>\n",
       "      <td>eb04c06f-bee9-45bd-9392-4addbc54952f</td>\n",
       "      <td>69527</td>\n",
       "      <td>Плед флисовый 200х150 см WELLNESS WPLNY152-Зима_4 100 % полиэстер</td>\n",
       "      <td>1</td>\n",
       "      <td>712.0</td>\n",
       "      <td>2018-12-23 12:00:00</td>\n",
       "      <td>2018</td>\n",
       "      <td>2018-12-01</td>\n",
       "      <td>712.0</td>\n",
       "    </tr>\n",
       "  </tbody>\n",
       "</table>\n",
       "</div>"
      ],
      "text/plain": [
       "                               customer_id  order_id                                                            product  quantity   price                date  year      month   costs\n",
       "4421  eb04c06f-bee9-45bd-9392-4addbc54952f     69527     Лестница-стремянка Dogrular Ufuk оцинкованная 8-ми ступенчатая         1  1649.0 2018-12-24 20:00:00  2018 2018-12-01  1649.0\n",
       "4422  eb04c06f-bee9-45bd-9392-4addbc54952f     69527  Плед флисовый 200х150 см WELLNESS WPLNY152-Зима_4 100 % полиэстер         1   712.0 2018-12-23 12:00:00  2018 2018-12-01   712.0"
      ]
     },
     "execution_count": 38,
     "metadata": {},
     "output_type": "execute_result"
    }
   ],
   "source": [
    "# посмотрим выборочно историю заказа с дублем\n",
    "clean_ecom_df[clean_ecom_df['order_id'] == 69527]"
   ]
  },
  {
   "cell_type": "markdown",
   "metadata": {},
   "source": [
    "У нас имеется один и тот же заказ, но который был зарегистрирован дважды. В заказе поменялся товар с `Лестница-стремянка Dogrular Ufuk оцинкованная 8-ми ступенчатая` на `Плед флисовый 200х150 см WELLNESS WPLNY152-Зима_4 100 % полиэстер`. Можно было бы предположить, что была произведена замена товара, который закончился и что из-за этого в данных появился дубль заказа с обновленным составом, но на текущем примере мы видим, что товары не являются заменителями друг друга. Вероятно, клиент решил добавить еще товара в заказ, но мы не знаем возможно ли что-либо добавлять в заказ после его оформления - это стоит уточнить у менеджеров интернет-магазина."
   ]
  },
  {
   "cell_type": "code",
   "execution_count": 39,
   "metadata": {},
   "outputs": [
    {
     "data": {
      "text/html": [
       "<div>\n",
       "<style scoped>\n",
       "    .dataframe tbody tr th:only-of-type {\n",
       "        vertical-align: middle;\n",
       "    }\n",
       "\n",
       "    .dataframe tbody tr th {\n",
       "        vertical-align: top;\n",
       "    }\n",
       "\n",
       "    .dataframe thead th {\n",
       "        text-align: right;\n",
       "    }\n",
       "</style>\n",
       "<table border=\"1\" class=\"dataframe\">\n",
       "  <thead>\n",
       "    <tr style=\"text-align: right;\">\n",
       "      <th></th>\n",
       "      <th>customer_id</th>\n",
       "      <th>order_id</th>\n",
       "      <th>product</th>\n",
       "      <th>quantity</th>\n",
       "      <th>price</th>\n",
       "      <th>date</th>\n",
       "      <th>year</th>\n",
       "      <th>month</th>\n",
       "      <th>costs</th>\n",
       "    </tr>\n",
       "  </thead>\n",
       "  <tbody>\n",
       "    <tr>\n",
       "      <th>799</th>\n",
       "      <td>2c2f1c82-d5f8-462a-b3ea-8ab375a8fa0d</td>\n",
       "      <td>71413</td>\n",
       "      <td>Карниз для ванной комнаты Виолет раздвижной 280 см с кольцами бежевый 2810/2</td>\n",
       "      <td>1</td>\n",
       "      <td>224.0</td>\n",
       "      <td>2019-05-13 18:00:00</td>\n",
       "      <td>2019</td>\n",
       "      <td>2019-05-01</td>\n",
       "      <td>224.0</td>\n",
       "    </tr>\n",
       "    <tr>\n",
       "      <th>800</th>\n",
       "      <td>2c2f1c82-d5f8-462a-b3ea-8ab375a8fa0d</td>\n",
       "      <td>71413</td>\n",
       "      <td>Карниз для ванной комнаты Виолет раздвижной 280 см с кольцами бежевый 2810/2</td>\n",
       "      <td>2</td>\n",
       "      <td>224.0</td>\n",
       "      <td>2019-05-17 14:00:00</td>\n",
       "      <td>2019</td>\n",
       "      <td>2019-05-01</td>\n",
       "      <td>448.0</td>\n",
       "    </tr>\n",
       "  </tbody>\n",
       "</table>\n",
       "</div>"
      ],
      "text/plain": [
       "                              customer_id  order_id                                                                       product  quantity  price                date  year      month  costs\n",
       "799  2c2f1c82-d5f8-462a-b3ea-8ab375a8fa0d     71413  Карниз для ванной комнаты Виолет раздвижной 280 см с кольцами бежевый 2810/2         1  224.0 2019-05-13 18:00:00  2019 2019-05-01  224.0\n",
       "800  2c2f1c82-d5f8-462a-b3ea-8ab375a8fa0d     71413  Карниз для ванной комнаты Виолет раздвижной 280 см с кольцами бежевый 2810/2         2  224.0 2019-05-17 14:00:00  2019 2019-05-01  448.0"
      ]
     },
     "execution_count": 39,
     "metadata": {},
     "output_type": "execute_result"
    }
   ],
   "source": [
    "# посмотрим выборочно еще одну историю заказа с дублем\n",
    "clean_ecom_df[clean_ecom_df['order_id'] == 71413]"
   ]
  },
  {
   "cell_type": "markdown",
   "metadata": {},
   "source": [
    "В данном случае изменилось количество товара в заказе, что похоже на наше второе предположение об изменении состава заказа после его оформления."
   ]
  },
  {
   "cell_type": "markdown",
   "metadata": {},
   "source": [
    "На данный момент мы наверняка не уверены, что это за случаи и как их интерпретировать. Количество таких дублей не так велико и для целей исследования можно исключить дули из датасета, оставив самые ранние заказы, как основные."
   ]
  },
  {
   "cell_type": "code",
   "execution_count": 40,
   "metadata": {},
   "outputs": [
    {
     "data": {
      "text/plain": [
       "2755"
      ]
     },
     "execution_count": 40,
     "metadata": {},
     "output_type": "execute_result"
    }
   ],
   "source": [
    "# избавимся от задублироованных заказов\n",
    "orders = orders[~orders[['customer_id', 'order_id']].duplicated(keep='first')].reset_index()\n",
    "\n",
    "# выведем размер датасета\n",
    "orders.shape[0]"
   ]
  },
  {
   "cell_type": "markdown",
   "metadata": {},
   "source": [
    "Изучим новую таблицу методом `describe()`."
   ]
  },
  {
   "cell_type": "code",
   "execution_count": 41,
   "metadata": {},
   "outputs": [
    {
     "data": {
      "text/html": [
       "<div>\n",
       "<style scoped>\n",
       "    .dataframe tbody tr th:only-of-type {\n",
       "        vertical-align: middle;\n",
       "    }\n",
       "\n",
       "    .dataframe tbody tr th {\n",
       "        vertical-align: top;\n",
       "    }\n",
       "\n",
       "    .dataframe thead th {\n",
       "        text-align: right;\n",
       "    }\n",
       "</style>\n",
       "<table border=\"1\" class=\"dataframe\">\n",
       "  <thead>\n",
       "    <tr style=\"text-align: right;\">\n",
       "      <th></th>\n",
       "      <th>products_quantity</th>\n",
       "      <th>total_quantity</th>\n",
       "      <th>total_costs</th>\n",
       "    </tr>\n",
       "  </thead>\n",
       "  <tbody>\n",
       "    <tr>\n",
       "      <th>count</th>\n",
       "      <td>2755.000000</td>\n",
       "      <td>2755.000000</td>\n",
       "      <td>2755.000000</td>\n",
       "    </tr>\n",
       "    <tr>\n",
       "      <th>mean</th>\n",
       "      <td>1.732486</td>\n",
       "      <td>4.868966</td>\n",
       "      <td>1478.037024</td>\n",
       "    </tr>\n",
       "    <tr>\n",
       "      <th>std</th>\n",
       "      <td>2.806637</td>\n",
       "      <td>23.980397</td>\n",
       "      <td>13030.003632</td>\n",
       "    </tr>\n",
       "    <tr>\n",
       "      <th>min</th>\n",
       "      <td>1.000000</td>\n",
       "      <td>1.000000</td>\n",
       "      <td>14.000000</td>\n",
       "    </tr>\n",
       "    <tr>\n",
       "      <th>25%</th>\n",
       "      <td>1.000000</td>\n",
       "      <td>1.000000</td>\n",
       "      <td>284.500000</td>\n",
       "    </tr>\n",
       "    <tr>\n",
       "      <th>50%</th>\n",
       "      <td>1.000000</td>\n",
       "      <td>1.000000</td>\n",
       "      <td>680.000000</td>\n",
       "    </tr>\n",
       "    <tr>\n",
       "      <th>75%</th>\n",
       "      <td>1.000000</td>\n",
       "      <td>3.000000</td>\n",
       "      <td>1461.500000</td>\n",
       "    </tr>\n",
       "    <tr>\n",
       "      <th>max</th>\n",
       "      <td>51.000000</td>\n",
       "      <td>1000.000000</td>\n",
       "      <td>675000.000000</td>\n",
       "    </tr>\n",
       "  </tbody>\n",
       "</table>\n",
       "</div>"
      ],
      "text/plain": [
       "       products_quantity  total_quantity    total_costs\n",
       "count        2755.000000     2755.000000    2755.000000\n",
       "mean            1.732486        4.868966    1478.037024\n",
       "std             2.806637       23.980397   13030.003632\n",
       "min             1.000000        1.000000      14.000000\n",
       "25%             1.000000        1.000000     284.500000\n",
       "50%             1.000000        1.000000     680.000000\n",
       "75%             1.000000        3.000000    1461.500000\n",
       "max            51.000000     1000.000000  675000.000000"
      ]
     },
     "execution_count": 41,
     "metadata": {},
     "output_type": "execute_result"
    }
   ],
   "source": [
    "orders[['products_quantity', 'total_quantity', 'total_costs']].describe()"
   ]
  },
  {
   "cell_type": "markdown",
   "metadata": {},
   "source": [
    "- `75%` заказов состоит из `1` товара. Наибольшее количество товаров в заказе равно `51`.\n",
    "- Более половины заказов состоит из `1` единицы товара.\n",
    "- Средняя стоимость заказа составляет `1478 руб`. Минимальная сумма заказа - `14 руб`, максимальная - `675000 руб`.\n",
    "- Около половины заказов не превышает `680 руб`, а около `75%` заказов не превышает `1461 руб`."
   ]
  },
  {
   "cell_type": "markdown",
   "metadata": {},
   "source": [
    "Изучим выбросы с помощью \"ящика с усами\"."
   ]
  },
  {
   "cell_type": "code",
   "execution_count": 42,
   "metadata": {},
   "outputs": [
    {
     "data": {
      "image/png": "[encoded data removed]",
      "text/plain": [
       "<Figure size 720x432 with 1 Axes>"
      ]
     },
     "metadata": {
      "needs_background": "light"
     },
     "output_type": "display_data"
    }
   ],
   "source": [
    "# строим \"ящик с усами\" для значений 'products_quantity'\n",
    "plt.figure(figsize=(10, 6))\n",
    "sns.boxplot(data=orders, y='products_quantity')\n",
    "plt.title('\"Ящик с усами\" для колонки products_quantity')\n",
    "plt.ylabel('Количество наименований в заказе')\n",
    "plt.show()"
   ]
  },
  {
   "cell_type": "markdown",
   "metadata": {},
   "source": [
    "Видим большое количество выбросов и что основная масса значений находится в области 1."
   ]
  },
  {
   "cell_type": "code",
   "execution_count": 43,
   "metadata": {},
   "outputs": [
    {
     "data": {
      "image/png": "[encoded data removed]",
      "text/plain": [
       "<Figure size 720x432 with 1 Axes>"
      ]
     },
     "metadata": {
      "needs_background": "light"
     },
     "output_type": "display_data"
    }
   ],
   "source": [
    "# строим \"ящик с усами\" для значений 'total_quantity'\n",
    "plt.figure(figsize=(10, 6))\n",
    "sns.boxplot(data=orders, y='total_quantity')\n",
    "plt.title('\"Ящик с усами\" для колонки total_quantity')\n",
    "plt.ylabel('Общее количество товаров в заказе')\n",
    "plt.show()"
   ]
  },
  {
   "cell_type": "markdown",
   "metadata": {},
   "source": [
    "По данной колонке мы также видим очень большое количество выбросов и достаточно сильных.  \n",
    "Так же есть весьма сильный выброс в районе 1000 наименований в заказе."
   ]
  },
  {
   "cell_type": "code",
   "execution_count": 44,
   "metadata": {},
   "outputs": [
    {
     "data": {
      "image/png": "[encoded data removed]",
      "text/plain": [
       "<Figure size 720x432 with 1 Axes>"
      ]
     },
     "metadata": {
      "needs_background": "light"
     },
     "output_type": "display_data"
    }
   ],
   "source": [
    "# строим \"ящик с усами\" для значений 'total_costs'\n",
    "plt.figure(figsize=(10, 6))\n",
    "sns.boxplot(data=orders, y='total_costs')\n",
    "plt.title('\"Ящик с усами\" для колонки total_costs')\n",
    "plt.ylabel('Общая сумма заказа')\n",
    "plt.show()"
   ]
  },
  {
   "cell_type": "code",
   "execution_count": 45,
   "metadata": {},
   "outputs": [
    {
     "data": {
      "image/png": "[encoded data removed]",
      "text/plain": [
       "<Figure size 720x432 with 1 Axes>"
      ]
     },
     "metadata": {
      "needs_background": "light"
     },
     "output_type": "display_data"
    }
   ],
   "source": [
    "# строим \"ящик с усами\" для значений 'total_costs'\n",
    "plt.figure(figsize=(10, 6))\n",
    "sns.boxplot(data=orders, y='total_costs')\n",
    "plt.ylim(0, 50000)\n",
    "plt.title('\"Ящик с усами\" для колонки total_costs')\n",
    "plt.ylabel('Общая сумма заказа')\n",
    "plt.show()"
   ]
  },
  {
   "cell_type": "markdown",
   "metadata": {},
   "source": [
    "В данном случае мы видим очень сильный выброс в районе `700000`. Скорее всего был какой-то один заказ, который и создает настолько сильный выброс по всем колонкам. Отфильтруем датасет, чтобы избавить от этого заказа, чтобы избежать искажений в исследовании."
   ]
  },
  {
   "cell_type": "code",
   "execution_count": 46,
   "metadata": {},
   "outputs": [],
   "source": [
    "# избавимся от заказа, который создает сильный выброс\n",
    "orders = orders[orders['total_costs'] < 500000]"
   ]
  },
  {
   "cell_type": "markdown",
   "metadata": {},
   "source": [
    "Посчитаем общее количество продаж по месяцам и годам."
   ]
  },
  {
   "cell_type": "code",
   "execution_count": 47,
   "metadata": {},
   "outputs": [
    {
     "data": {
      "text/html": [
       "<div>\n",
       "<style scoped>\n",
       "    .dataframe tbody tr th:only-of-type {\n",
       "        vertical-align: middle;\n",
       "    }\n",
       "\n",
       "    .dataframe tbody tr th {\n",
       "        vertical-align: top;\n",
       "    }\n",
       "\n",
       "    .dataframe thead th {\n",
       "        text-align: right;\n",
       "    }\n",
       "</style>\n",
       "<table border=\"1\" class=\"dataframe\">\n",
       "  <thead>\n",
       "    <tr style=\"text-align: right;\">\n",
       "      <th></th>\n",
       "      <th>year</th>\n",
       "      <th>month</th>\n",
       "      <th>order_id</th>\n",
       "      <th>total_costs</th>\n",
       "    </tr>\n",
       "  </thead>\n",
       "  <tbody>\n",
       "    <tr>\n",
       "      <th>0</th>\n",
       "      <td>2018</td>\n",
       "      <td>2018-10-01</td>\n",
       "      <td>238</td>\n",
       "      <td>351061.0</td>\n",
       "    </tr>\n",
       "    <tr>\n",
       "      <th>1</th>\n",
       "      <td>2018</td>\n",
       "      <td>2018-11-01</td>\n",
       "      <td>204</td>\n",
       "      <td>359348.0</td>\n",
       "    </tr>\n",
       "    <tr>\n",
       "      <th>2</th>\n",
       "      <td>2018</td>\n",
       "      <td>2018-12-01</td>\n",
       "      <td>278</td>\n",
       "      <td>344272.0</td>\n",
       "    </tr>\n",
       "    <tr>\n",
       "      <th>3</th>\n",
       "      <td>2019</td>\n",
       "      <td>2019-01-01</td>\n",
       "      <td>165</td>\n",
       "      <td>230097.0</td>\n",
       "    </tr>\n",
       "    <tr>\n",
       "      <th>4</th>\n",
       "      <td>2019</td>\n",
       "      <td>2019-02-01</td>\n",
       "      <td>284</td>\n",
       "      <td>299074.0</td>\n",
       "    </tr>\n",
       "    <tr>\n",
       "      <th>5</th>\n",
       "      <td>2019</td>\n",
       "      <td>2019-03-01</td>\n",
       "      <td>242</td>\n",
       "      <td>249429.0</td>\n",
       "    </tr>\n",
       "    <tr>\n",
       "      <th>6</th>\n",
       "      <td>2019</td>\n",
       "      <td>2019-04-01</td>\n",
       "      <td>264</td>\n",
       "      <td>315451.0</td>\n",
       "    </tr>\n",
       "    <tr>\n",
       "      <th>7</th>\n",
       "      <td>2019</td>\n",
       "      <td>2019-05-01</td>\n",
       "      <td>178</td>\n",
       "      <td>231925.0</td>\n",
       "    </tr>\n",
       "    <tr>\n",
       "      <th>8</th>\n",
       "      <td>2019</td>\n",
       "      <td>2019-06-01</td>\n",
       "      <td>156</td>\n",
       "      <td>225116.0</td>\n",
       "    </tr>\n",
       "    <tr>\n",
       "      <th>9</th>\n",
       "      <td>2019</td>\n",
       "      <td>2019-07-01</td>\n",
       "      <td>198</td>\n",
       "      <td>234812.0</td>\n",
       "    </tr>\n",
       "    <tr>\n",
       "      <th>10</th>\n",
       "      <td>2019</td>\n",
       "      <td>2019-08-01</td>\n",
       "      <td>172</td>\n",
       "      <td>172100.0</td>\n",
       "    </tr>\n",
       "    <tr>\n",
       "      <th>11</th>\n",
       "      <td>2019</td>\n",
       "      <td>2019-09-01</td>\n",
       "      <td>179</td>\n",
       "      <td>177817.0</td>\n",
       "    </tr>\n",
       "    <tr>\n",
       "      <th>12</th>\n",
       "      <td>2019</td>\n",
       "      <td>2019-10-01</td>\n",
       "      <td>196</td>\n",
       "      <td>206490.0</td>\n",
       "    </tr>\n",
       "  </tbody>\n",
       "</table>\n",
       "</div>"
      ],
      "text/plain": [
       "    year      month  order_id  total_costs\n",
       "0   2018 2018-10-01       238     351061.0\n",
       "1   2018 2018-11-01       204     359348.0\n",
       "2   2018 2018-12-01       278     344272.0\n",
       "3   2019 2019-01-01       165     230097.0\n",
       "4   2019 2019-02-01       284     299074.0\n",
       "5   2019 2019-03-01       242     249429.0\n",
       "6   2019 2019-04-01       264     315451.0\n",
       "7   2019 2019-05-01       178     231925.0\n",
       "8   2019 2019-06-01       156     225116.0\n",
       "9   2019 2019-07-01       198     234812.0\n",
       "10  2019 2019-08-01       172     172100.0\n",
       "11  2019 2019-09-01       179     177817.0\n",
       "12  2019 2019-10-01       196     206490.0"
      ]
     },
     "execution_count": 47,
     "metadata": {},
     "output_type": "execute_result"
    }
   ],
   "source": [
    "# создадим таблицу с количеством и суммой заказов по месяцам\n",
    "orders_dynamic = (\n",
    "    orders.groupby(['year', 'month'])\n",
    "    .agg({'order_id': 'count', 'total_costs': 'sum'})\n",
    "    .reset_index()\n",
    ")\n",
    "\n",
    "# выведем таблицу\n",
    "orders_dynamic"
   ]
  },
  {
   "cell_type": "markdown",
   "metadata": {},
   "source": [
    "Построим график динамики продаж в денежном выражении по месяцам."
   ]
  },
  {
   "cell_type": "code",
   "execution_count": 48,
   "metadata": {},
   "outputs": [
    {
     "data": {
      "image/png": "[encoded data removed]",
      "text/plain": [
       "<Figure size 720x432 with 1 Axes>"
      ]
     },
     "metadata": {
      "needs_background": "light"
     },
     "output_type": "display_data"
    }
   ],
   "source": [
    "plt.figure(figsize=(10, 6))\n",
    "sns.lineplot(data=orders_dynamic, x='month', y='total_costs')\n",
    "plt.xlabel('Месяц')\n",
    "plt.ylabel('Объем продаж')\n",
    "plt.xticks(rotation=45)\n",
    "plt.grid()\n",
    "plt.title('Динамика заказов по месяцам в денежном выражении')\n",
    "plt.show()"
   ]
  },
  {
   "cell_type": "markdown",
   "metadata": {},
   "source": [
    "Как видно из графика продажи за год сильно упали с `351000 руб` до `206000 руб`.  \n",
    "Заметно сильное падение продаж в январе до `230000 руб`, после чего продажи немного выросли до `315000 руб` в апреле. С апреля же заметно стабильное падение продаж, что может быть связано с летним сезоном. Стоит посмотреть на динамику с учетом полученных на данный момент сегментов: садоводов и клиентов, покупающих вещи для дома."
   ]
  },
  {
   "cell_type": "markdown",
   "metadata": {},
   "source": [
    "Добавим в таблицу колонку `order_type` со значениями `garden` и `home`."
   ]
  },
  {
   "cell_type": "code",
   "execution_count": 49,
   "metadata": {},
   "outputs": [],
   "source": [
    "# создадим катгории по типам заказов\n",
    "orders['order_type'] = orders['order_id'].apply(lambda x: 'garden' if x < 50000 else 'home')\n",
    "\n",
    "# пересоздадим таблицу с динамикой заказов\n",
    "orders_dynamic = (\n",
    "    orders.groupby(['year', 'month', 'order_type'])\n",
    "    .agg({'order_id': 'count', 'total_costs': 'sum'})\n",
    "    .reset_index()\n",
    ")"
   ]
  },
  {
   "cell_type": "markdown",
   "metadata": {},
   "source": [
    "Построим график динамики заказов с разбивкой по типам заказов."
   ]
  },
  {
   "cell_type": "code",
   "execution_count": 50,
   "metadata": {},
   "outputs": [
    {
     "data": {
      "image/png": "[encoded data removed]",
      "text/plain": [
       "<Figure size 720x432 with 1 Axes>"
      ]
     },
     "metadata": {
      "needs_background": "light"
     },
     "output_type": "display_data"
    }
   ],
   "source": [
    "plt.figure(figsize=(10, 6))\n",
    "sns.lineplot(data=orders_dynamic, x='month', y='total_costs', hue='order_type')\n",
    "plt.xlabel('Месяц')\n",
    "plt.ylabel('Объем продаж')\n",
    "plt.xticks(rotation=45)\n",
    "plt.grid()\n",
    "plt.title('Динамика заказов по месяцам в денежном выражении с разбивкой по типам заказов')\n",
    "plt.show()"
   ]
  },
  {
   "cell_type": "markdown",
   "metadata": {},
   "source": [
    "Теперь мы видим, что увеличение продаж с апреля месяца связано с увеличением активности садоводов, т.к. в апреле-мае начинается сезон садоводства. По продаже товаров для дома заметен тренд спада продаж, что может быть связано с тем, что заметное увеличение роста продаж товаров для дома приходится на самый конец года, в период праздников."
   ]
  },
  {
   "cell_type": "markdown",
   "metadata": {},
   "source": [
    "Изучим долю продаж по типам заказов."
   ]
  },
  {
   "cell_type": "code",
   "execution_count": 51,
   "metadata": {},
   "outputs": [
    {
     "data": {
      "text/html": [
       "<div>\n",
       "<style scoped>\n",
       "    .dataframe tbody tr th:only-of-type {\n",
       "        vertical-align: middle;\n",
       "    }\n",
       "\n",
       "    .dataframe tbody tr th {\n",
       "        vertical-align: top;\n",
       "    }\n",
       "\n",
       "    .dataframe thead th {\n",
       "        text-align: right;\n",
       "    }\n",
       "</style>\n",
       "<table border=\"1\" class=\"dataframe\">\n",
       "  <thead>\n",
       "    <tr style=\"text-align: right;\">\n",
       "      <th></th>\n",
       "      <th>all_count</th>\n",
       "      <th>all_sales</th>\n",
       "      <th>garden_count_share</th>\n",
       "      <th>home_count_share</th>\n",
       "      <th>garden_sales_share</th>\n",
       "      <th>home_sales_share</th>\n",
       "    </tr>\n",
       "    <tr>\n",
       "      <th>group_all</th>\n",
       "      <th></th>\n",
       "      <th></th>\n",
       "      <th></th>\n",
       "      <th></th>\n",
       "      <th></th>\n",
       "      <th></th>\n",
       "    </tr>\n",
       "  </thead>\n",
       "  <tbody>\n",
       "    <tr>\n",
       "      <th>all_orders</th>\n",
       "      <td>2754</td>\n",
       "      <td>3396992.0</td>\n",
       "      <td>0.11</td>\n",
       "      <td>0.89</td>\n",
       "      <td>0.09</td>\n",
       "      <td>0.91</td>\n",
       "    </tr>\n",
       "  </tbody>\n",
       "</table>\n",
       "</div>"
      ],
      "text/plain": [
       "            all_count  all_sales  garden_count_share  home_count_share  garden_sales_share  home_sales_share\n",
       "group_all                                                                                                   \n",
       "all_orders       2754  3396992.0                0.11              0.89                0.09              0.91"
      ]
     },
     "execution_count": 51,
     "metadata": {},
     "output_type": "execute_result"
    }
   ],
   "source": [
    "# создадим колонку для объединения всех заказов\n",
    "orders['group_all'] = 'all_orders'\n",
    "\n",
    "# создадим сводную таблицу с разбивкой по годам и по типам продаж\n",
    "orders_by_type = (\n",
    "    orders.pivot_table(index=['group_all'], \n",
    "                       columns='order_type', \n",
    "                       aggfunc={'order_id': 'count', 'total_costs': 'sum'})\n",
    ")\n",
    "\n",
    "# переименуем колонки\n",
    "orders_by_type.columns = ['garden_count', 'home_count', 'garden_sales', 'home_sales']\n",
    "\n",
    "# посчитаем итоги по количеству заказов и сумме заказов\n",
    "orders_by_type['all_count'] = orders_by_type['garden_count'] + orders_by_type['home_count']\n",
    "orders_by_type['all_sales'] = orders_by_type['garden_sales'] + orders_by_type['home_sales']\n",
    "\n",
    "# посчитаем долю для каждого типа заказов по количеству и сумме заказов\n",
    "for c in ['count', 'sales']:\n",
    "    for t in ['garden', 'home']:\n",
    "        orders_by_type[t + '_' + c + '_share'] = round(orders_by_type[t + '_' + c] \n",
    "                                                       / orders_by_type['all_' + c], 2)\n",
    "        orders_by_type.drop(columns=t + '_' + c, inplace=True)\n",
    "\n",
    "# выведем таблицу        \n",
    "orders_by_type"
   ]
  },
  {
   "cell_type": "markdown",
   "metadata": {},
   "source": [
    "Доля заказов товаров для садоводов составляет `9%` от общих продаж, а заказов для товаров для дома составляет `91%` от ощих продаж."
   ]
  },
  {
   "cell_type": "markdown",
   "metadata": {},
   "source": [
    "Посчитаем средние чеки по всем продажам и в разрезе по типам заказов."
   ]
  },
  {
   "cell_type": "code",
   "execution_count": 52,
   "metadata": {},
   "outputs": [
    {
     "name": "stdout",
     "output_type": "stream",
     "text": [
      "Средний чек по всем заказам: 1233.48\n",
      "Средний чек по заказам с товарами для дома: 1255.86\n",
      "Средний чек по заказам с товарами для садоводов: 1051.72\n"
     ]
    }
   ],
   "source": [
    "print('Средний чек по всем заказам: {}'.format(\n",
    "    round(orders['total_costs'].sum() \n",
    "          / orders['order_id'].count()\n",
    "          , 2))\n",
    "     )\n",
    "      \n",
    "print('Средний чек по заказам с товарами для дома: {}'.format(\n",
    "    round(orders[orders['order_type'] == 'home']['total_costs'].sum() \n",
    "          / orders[orders['order_type'] == 'home']['order_id'].count()\n",
    "          , 2))\n",
    "     )\n",
    "\n",
    "print('Средний чек по заказам с товарами для садоводов: {}'.format(\n",
    "    round(orders[orders['order_type'] == 'garden']['total_costs'].sum() \n",
    "          / orders[orders['order_type'] == 'garden']['order_id'].count()\n",
    "          , 2))\n",
    "     )"
   ]
  },
  {
   "cell_type": "markdown",
   "metadata": {},
   "source": [
    "Общий средний чек равен `1233 руб`. Средний чек для товаров для дома составил `1255 руб`., а для товаров для садоводов - `1051 руб`."
   ]
  },
  {
   "cell_type": "markdown",
   "metadata": {},
   "source": [
    "Посчитаем среднее количество заказов, совершаемое одним клиентом."
   ]
  },
  {
   "cell_type": "code",
   "execution_count": 53,
   "metadata": {},
   "outputs": [
    {
     "data": {
      "text/plain": [
       "1.15"
      ]
     },
     "execution_count": 53,
     "metadata": {},
     "output_type": "execute_result"
    }
   ],
   "source": [
    "round((\n",
    "    orders.groupby(['customer_id'])\n",
    "    .agg({'order_id': 'count', 'total_costs': 'sum'})\n",
    "    .reset_index()['order_id'].mean()\n",
    "), 2)"
   ]
  },
  {
   "cell_type": "markdown",
   "metadata": {},
   "source": [
    "В среднем один клиент совершает `1.15` заказов за 13 месяцев."
   ]
  },
  {
   "cell_type": "markdown",
   "metadata": {},
   "source": [
    "Посчитаем этот же показатель, но в разрезе типов заказов."
   ]
  },
  {
   "cell_type": "code",
   "execution_count": 54,
   "metadata": {},
   "outputs": [
    {
     "name": "stdout",
     "output_type": "stream",
     "text": [
      "Среднее количество заказов для типа home: 1.15\n",
      "Среднее количество заказов для типа garden: 1.17\n"
     ]
    }
   ],
   "source": [
    "print('Среднее количество заказов для типа home: {}'.format(\n",
    "    round((\n",
    "        orders[orders['order_type'] == 'home'].groupby(['customer_id'])\n",
    "        .agg({'order_id': 'count', 'total_costs': 'sum'})\n",
    "        .reset_index()['order_id'].mean()\n",
    "    ), 2))\n",
    "     )\n",
    "\n",
    "print('Среднее количество заказов для типа garden: {}'.format(\n",
    "    round((\n",
    "        orders[orders['order_type'] == 'garden'].groupby(['customer_id'])\n",
    "        .agg({'order_id': 'count', 'total_costs': 'sum'})\n",
    "        .reset_index()['order_id'].mean()\n",
    "    ), 2))\n",
    "     )"
   ]
  },
  {
   "cell_type": "markdown",
   "metadata": {},
   "source": [
    "Садоводы делают чуть больше заказов - в среднем  `1.17`, а те, кто покупает товары для дома `1.15` заказов за 13 месяцев."
   ]
  },
  {
   "cell_type": "markdown",
   "metadata": {},
   "source": [
    "<a id=\"s2_1\"></a>"
   ]
  },
  {
   "cell_type": "markdown",
   "metadata": {},
   "source": [
    "### Выводы"
   ]
  },
  {
   "cell_type": "markdown",
   "metadata": {},
   "source": [
    "В ходе исследовательского анализа была получена следующая информация:\n",
    "- В датасете имеются данные о заказах, совершенных с `1 октября 2018` по `31 октября 2019` года.\n",
    "- После предоработки в датасете имеется информация о `2755` заказах, совершенных `2394` клиентами.\n",
    "- Не менее `75%` содержимого заказов приобретается в размере `1` штуки.\n",
    "- Стоимость половины наименований из заказов не  превышает `150 руб`, а стоимость `75%` наименований не превышает `488 руб`.\n",
    "- `75%` заказов состоит из `1` товара. Наибольшее количество товаров в заказе равно `51`.\n",
    "- Около половины заказов не превышает `680 руб`, а около `75%` заказов не превышает `1461 руб`.\n",
    "- Продажи за год сильно упали с `351000 руб` до `206000 руб`.  \n",
    "- Заметно сильное падение продаж в январе до `230000 руб`, после чего продажи немного выросли до `315000 руб` в апреле. С апреля же заметно стабильное падение продаж, что может быть связано с летним сезоном.\n",
    "- Увеличение продаж с апреля месяца связано с увеличением активности садоводов, т.к. в апреле-мае начинается сезон садоводства. По продаже товаров для дома заметен тренд спада продаж, что может быть связано с тем, что заметное увеличение роста продаж товаров для дома приходится на самый конец года, в период праздников.\n",
    "- Доля заказов товаров для садоводов составляет `9%` от общих продаж, а заказов для товаров для дома составляет `91%` от ощих продаж.\n",
    "- Общий средний чек равен `1233 руб`. Средний чек для товаров для дома составил `1255 руб`., а для товаров для садоводов - `1051 руб`.\n",
    "- В среднем один клиент совершает `1.15` заказов за 13 месяцев. Садоводы делают чуть больше заказов - в среднем  `1.17`, а те,, кто покупает товары для дома `1.15` заказов за 13 месяцев."
   ]
  },
  {
   "cell_type": "markdown",
   "metadata": {},
   "source": [
    "## Сегментация по среднему чеку"
   ]
  },
  {
   "cell_type": "markdown",
   "metadata": {},
   "source": [
    "Создадим общую таблицу по пользователям. В ней сохраним дату первой и последней покупки за исследуемый период, общее количество заказов, общую сумму покупок и общее количество приобретенных наименований товаров."
   ]
  },
  {
   "cell_type": "code",
   "execution_count": 55,
   "metadata": {},
   "outputs": [
    {
     "data": {
      "text/html": [
       "<div>\n",
       "<style scoped>\n",
       "    .dataframe tbody tr th:only-of-type {\n",
       "        vertical-align: middle;\n",
       "    }\n",
       "\n",
       "    .dataframe tbody tr th {\n",
       "        vertical-align: top;\n",
       "    }\n",
       "\n",
       "    .dataframe thead th {\n",
       "        text-align: right;\n",
       "    }\n",
       "</style>\n",
       "<table border=\"1\" class=\"dataframe\">\n",
       "  <thead>\n",
       "    <tr style=\"text-align: right;\">\n",
       "      <th></th>\n",
       "      <th>customer_id</th>\n",
       "      <th>first_order_dt</th>\n",
       "      <th>last_order_dt</th>\n",
       "      <th>orders_count</th>\n",
       "      <th>ltv</th>\n",
       "      <th>products_count</th>\n",
       "    </tr>\n",
       "  </thead>\n",
       "  <tbody>\n",
       "    <tr>\n",
       "      <th>0</th>\n",
       "      <td>000d6849-084e-4d9f-ac03-37174eaf60c4</td>\n",
       "      <td>2019-10-16 08:00:00</td>\n",
       "      <td>2019-10-16 08:00:00</td>\n",
       "      <td>1</td>\n",
       "      <td>555.0</td>\n",
       "      <td>4</td>\n",
       "    </tr>\n",
       "    <tr>\n",
       "      <th>1</th>\n",
       "      <td>001cee7f-0b29-4716-b202-0042213ab038</td>\n",
       "      <td>2019-02-16 11:00:00</td>\n",
       "      <td>2019-02-16 11:00:00</td>\n",
       "      <td>1</td>\n",
       "      <td>442.0</td>\n",
       "      <td>1</td>\n",
       "    </tr>\n",
       "    <tr>\n",
       "      <th>2</th>\n",
       "      <td>00299f34-5385-4d13-9aea-c80b81658e1b</td>\n",
       "      <td>2019-10-14 23:00:00</td>\n",
       "      <td>2019-10-14 23:00:00</td>\n",
       "      <td>1</td>\n",
       "      <td>914.0</td>\n",
       "      <td>1</td>\n",
       "    </tr>\n",
       "    <tr>\n",
       "      <th>3</th>\n",
       "      <td>002d4d3a-4a59-406b-86ec-c3314357e498</td>\n",
       "      <td>2019-01-27 17:00:00</td>\n",
       "      <td>2019-01-27 17:00:00</td>\n",
       "      <td>1</td>\n",
       "      <td>1649.0</td>\n",
       "      <td>1</td>\n",
       "    </tr>\n",
       "    <tr>\n",
       "      <th>4</th>\n",
       "      <td>003bbd39-0000-41ff-b7f9-2ddaec152037</td>\n",
       "      <td>2019-09-29 17:00:00</td>\n",
       "      <td>2019-09-29 17:00:00</td>\n",
       "      <td>1</td>\n",
       "      <td>2324.0</td>\n",
       "      <td>1</td>\n",
       "    </tr>\n",
       "  </tbody>\n",
       "</table>\n",
       "</div>"
      ],
      "text/plain": [
       "                            customer_id      first_order_dt       last_order_dt  orders_count     ltv  products_count\n",
       "0  000d6849-084e-4d9f-ac03-37174eaf60c4 2019-10-16 08:00:00 2019-10-16 08:00:00             1   555.0               4\n",
       "1  001cee7f-0b29-4716-b202-0042213ab038 2019-02-16 11:00:00 2019-02-16 11:00:00             1   442.0               1\n",
       "2  00299f34-5385-4d13-9aea-c80b81658e1b 2019-10-14 23:00:00 2019-10-14 23:00:00             1   914.0               1\n",
       "3  002d4d3a-4a59-406b-86ec-c3314357e498 2019-01-27 17:00:00 2019-01-27 17:00:00             1  1649.0               1\n",
       "4  003bbd39-0000-41ff-b7f9-2ddaec152037 2019-09-29 17:00:00 2019-09-29 17:00:00             1  2324.0               1"
      ]
     },
     "execution_count": 55,
     "metadata": {},
     "output_type": "execute_result"
    }
   ],
   "source": [
    "# создадим таблицу со сводной информацией о клиентах\n",
    "customers = (\n",
    "    orders.groupby('customer_id')\n",
    "    .agg({'date': ['first', 'last'],\n",
    "         'order_id': 'count',\n",
    "         'total_costs': 'sum',\n",
    "         'products_quantity': 'sum'})\n",
    "    .reset_index()\n",
    ")\n",
    "\n",
    "# переименуем колонки\n",
    "customers.columns = ['customer_id', 'first_order_dt', 'last_order_dt', 'orders_count', 'ltv', 'products_count']\n",
    "\n",
    "# выведем первые 5 строк таблицы\n",
    "customers.head(5)"
   ]
  },
  {
   "cell_type": "markdown",
   "metadata": {},
   "source": [
    "Попробуем провести сегментацию по среднему чеку клиентов. Посчитаем средний чек по каждому клиенту."
   ]
  },
  {
   "cell_type": "code",
   "execution_count": 56,
   "metadata": {},
   "outputs": [
    {
     "data": {
      "text/html": [
       "<div>\n",
       "<style scoped>\n",
       "    .dataframe tbody tr th:only-of-type {\n",
       "        vertical-align: middle;\n",
       "    }\n",
       "\n",
       "    .dataframe tbody tr th {\n",
       "        vertical-align: top;\n",
       "    }\n",
       "\n",
       "    .dataframe thead th {\n",
       "        text-align: right;\n",
       "    }\n",
       "</style>\n",
       "<table border=\"1\" class=\"dataframe\">\n",
       "  <thead>\n",
       "    <tr style=\"text-align: right;\">\n",
       "      <th></th>\n",
       "      <th>customer_id</th>\n",
       "      <th>first_order_dt</th>\n",
       "      <th>last_order_dt</th>\n",
       "      <th>orders_count</th>\n",
       "      <th>ltv</th>\n",
       "      <th>products_count</th>\n",
       "      <th>avg_bill</th>\n",
       "    </tr>\n",
       "  </thead>\n",
       "  <tbody>\n",
       "    <tr>\n",
       "      <th>0</th>\n",
       "      <td>000d6849-084e-4d9f-ac03-37174eaf60c4</td>\n",
       "      <td>2019-10-16 08:00:00</td>\n",
       "      <td>2019-10-16 08:00:00</td>\n",
       "      <td>1</td>\n",
       "      <td>555.0</td>\n",
       "      <td>4</td>\n",
       "      <td>555.0</td>\n",
       "    </tr>\n",
       "    <tr>\n",
       "      <th>1</th>\n",
       "      <td>001cee7f-0b29-4716-b202-0042213ab038</td>\n",
       "      <td>2019-02-16 11:00:00</td>\n",
       "      <td>2019-02-16 11:00:00</td>\n",
       "      <td>1</td>\n",
       "      <td>442.0</td>\n",
       "      <td>1</td>\n",
       "      <td>442.0</td>\n",
       "    </tr>\n",
       "    <tr>\n",
       "      <th>2</th>\n",
       "      <td>00299f34-5385-4d13-9aea-c80b81658e1b</td>\n",
       "      <td>2019-10-14 23:00:00</td>\n",
       "      <td>2019-10-14 23:00:00</td>\n",
       "      <td>1</td>\n",
       "      <td>914.0</td>\n",
       "      <td>1</td>\n",
       "      <td>914.0</td>\n",
       "    </tr>\n",
       "    <tr>\n",
       "      <th>3</th>\n",
       "      <td>002d4d3a-4a59-406b-86ec-c3314357e498</td>\n",
       "      <td>2019-01-27 17:00:00</td>\n",
       "      <td>2019-01-27 17:00:00</td>\n",
       "      <td>1</td>\n",
       "      <td>1649.0</td>\n",
       "      <td>1</td>\n",
       "      <td>1649.0</td>\n",
       "    </tr>\n",
       "    <tr>\n",
       "      <th>4</th>\n",
       "      <td>003bbd39-0000-41ff-b7f9-2ddaec152037</td>\n",
       "      <td>2019-09-29 17:00:00</td>\n",
       "      <td>2019-09-29 17:00:00</td>\n",
       "      <td>1</td>\n",
       "      <td>2324.0</td>\n",
       "      <td>1</td>\n",
       "      <td>2324.0</td>\n",
       "    </tr>\n",
       "  </tbody>\n",
       "</table>\n",
       "</div>"
      ],
      "text/plain": [
       "                            customer_id      first_order_dt       last_order_dt  orders_count     ltv  products_count  avg_bill\n",
       "0  000d6849-084e-4d9f-ac03-37174eaf60c4 2019-10-16 08:00:00 2019-10-16 08:00:00             1   555.0               4     555.0\n",
       "1  001cee7f-0b29-4716-b202-0042213ab038 2019-02-16 11:00:00 2019-02-16 11:00:00             1   442.0               1     442.0\n",
       "2  00299f34-5385-4d13-9aea-c80b81658e1b 2019-10-14 23:00:00 2019-10-14 23:00:00             1   914.0               1     914.0\n",
       "3  002d4d3a-4a59-406b-86ec-c3314357e498 2019-01-27 17:00:00 2019-01-27 17:00:00             1  1649.0               1    1649.0\n",
       "4  003bbd39-0000-41ff-b7f9-2ddaec152037 2019-09-29 17:00:00 2019-09-29 17:00:00             1  2324.0               1    2324.0"
      ]
     },
     "execution_count": 56,
     "metadata": {},
     "output_type": "execute_result"
    }
   ],
   "source": [
    "# создадим колонку с рассчитанным средним чеком\n",
    "customers['avg_bill'] = customers['ltv'] / customers['orders_count']\n",
    "\n",
    "# выведем первые 5 строк таблицы\n",
    "customers.head(5)"
   ]
  },
  {
   "cell_type": "markdown",
   "metadata": {},
   "source": [
    "Построим графики и таблицы со статистическими показателями по рассчитанному среднему чеку с помощью созданной ранее функции `get_stats()`."
   ]
  },
  {
   "cell_type": "code",
   "execution_count": 57,
   "metadata": {},
   "outputs": [
    {
     "data": {
      "image/png": "[encoded data removed]",
      "text/plain": [
       "<Figure size 1152x504 with 2 Axes>"
      ]
     },
     "metadata": {
      "needs_background": "light"
     },
     "output_type": "display_data"
    },
    {
     "name": "stdout",
     "output_type": "stream",
     "text": [
      "Статистические показатели по колонке avg_bill\n"
     ]
    },
    {
     "data": {
      "text/html": [
       "<div>\n",
       "<style scoped>\n",
       "    .dataframe tbody tr th:only-of-type {\n",
       "        vertical-align: middle;\n",
       "    }\n",
       "\n",
       "    .dataframe tbody tr th {\n",
       "        vertical-align: top;\n",
       "    }\n",
       "\n",
       "    .dataframe thead th {\n",
       "        text-align: right;\n",
       "    }\n",
       "</style>\n",
       "<table border=\"1\" class=\"dataframe\">\n",
       "  <thead>\n",
       "    <tr style=\"text-align: right;\">\n",
       "      <th></th>\n",
       "      <th>avg_bill</th>\n",
       "    </tr>\n",
       "  </thead>\n",
       "  <tbody>\n",
       "    <tr>\n",
       "      <th>count</th>\n",
       "      <td>2393.000000</td>\n",
       "    </tr>\n",
       "    <tr>\n",
       "      <th>mean</th>\n",
       "      <td>1226.452690</td>\n",
       "    </tr>\n",
       "    <tr>\n",
       "      <th>std</th>\n",
       "      <td>2160.918072</td>\n",
       "    </tr>\n",
       "    <tr>\n",
       "      <th>min</th>\n",
       "      <td>14.000000</td>\n",
       "    </tr>\n",
       "    <tr>\n",
       "      <th>25%</th>\n",
       "      <td>292.000000</td>\n",
       "    </tr>\n",
       "    <tr>\n",
       "      <th>50%</th>\n",
       "      <td>674.000000</td>\n",
       "    </tr>\n",
       "    <tr>\n",
       "      <th>75%</th>\n",
       "      <td>1457.000000</td>\n",
       "    </tr>\n",
       "    <tr>\n",
       "      <th>max</th>\n",
       "      <td>49432.000000</td>\n",
       "    </tr>\n",
       "  </tbody>\n",
       "</table>\n",
       "</div>"
      ],
      "text/plain": [
       "           avg_bill\n",
       "count   2393.000000\n",
       "mean    1226.452690\n",
       "std     2160.918072\n",
       "min       14.000000\n",
       "25%      292.000000\n",
       "50%      674.000000\n",
       "75%     1457.000000\n",
       "max    49432.000000"
      ]
     },
     "metadata": {},
     "output_type": "display_data"
    }
   ],
   "source": [
    "get_stats(customers, 'avg_bill', 'Средний чек', bins=100, h_lim=[0, 10000], b_lim=None)"
   ]
  },
  {
   "cell_type": "markdown",
   "metadata": {},
   "source": [
    "На гистограмме и на графике \"ящика с усами\" мы видим наличие сильных выбросов. `50%` клиентов имеют средний чек не более `674 руб`, а не более `75%` клиентов имеют средний чек менее `1457 руб`. Максимальный размер среднего чека достигает `49432 руб`."
   ]
  },
  {
   "cell_type": "markdown",
   "metadata": {},
   "source": [
    "Исходя из полученных данных можно разделить сегменты по границам перцентилей:\n",
    "- сегмент со средним чеком менее `200 руб`;\n",
    "- сегмент со средним чеком от `200 до 700 руб`;\n",
    "- сегмент со средним чеком от `700 до 1500 руб`;\n",
    "- сегмент со средним чеком свыше `1500 руб`."
   ]
  },
  {
   "cell_type": "markdown",
   "metadata": {},
   "source": [
    "Создадим колонку и запишем в нее значения сегментов при помощи созданной ранее функции `save_segment()`."
   ]
  },
  {
   "cell_type": "code",
   "execution_count": 58,
   "metadata": {},
   "outputs": [],
   "source": [
    "# сохраним в переменной границы сегментов\n",
    "segments = [200, 700, 1500]\n",
    "\n",
    "# запишем сегменты для каждого клиента\n",
    "customers['avg_bill_seg'] = customers['avg_bill'].apply(lambda x: save_segment(x, segments))"
   ]
  },
  {
   "cell_type": "markdown",
   "metadata": {},
   "source": [
    "Посчитаем какое количество клиентов оказалось в каждом сегменте."
   ]
  },
  {
   "cell_type": "code",
   "execution_count": 59,
   "metadata": {},
   "outputs": [
    {
     "data": {
      "text/html": [
       "<div>\n",
       "<style scoped>\n",
       "    .dataframe tbody tr th:only-of-type {\n",
       "        vertical-align: middle;\n",
       "    }\n",
       "\n",
       "    .dataframe tbody tr th {\n",
       "        vertical-align: top;\n",
       "    }\n",
       "\n",
       "    .dataframe thead th {\n",
       "        text-align: right;\n",
       "    }\n",
       "</style>\n",
       "<table border=\"1\" class=\"dataframe\">\n",
       "  <thead>\n",
       "    <tr style=\"text-align: right;\">\n",
       "      <th></th>\n",
       "      <th>customer_id</th>\n",
       "    </tr>\n",
       "    <tr>\n",
       "      <th>avg_bill_seg</th>\n",
       "      <th></th>\n",
       "    </tr>\n",
       "  </thead>\n",
       "  <tbody>\n",
       "    <tr>\n",
       "      <th>200 - 700</th>\n",
       "      <td>774</td>\n",
       "    </tr>\n",
       "    <tr>\n",
       "      <th>700 - 1500</th>\n",
       "      <td>597</td>\n",
       "    </tr>\n",
       "    <tr>\n",
       "      <th>&lt; 200</th>\n",
       "      <td>446</td>\n",
       "    </tr>\n",
       "    <tr>\n",
       "      <th>&gt; 1500</th>\n",
       "      <td>576</td>\n",
       "    </tr>\n",
       "  </tbody>\n",
       "</table>\n",
       "</div>"
      ],
      "text/plain": [
       "              customer_id\n",
       "avg_bill_seg             \n",
       "200 - 700             774\n",
       "700 - 1500            597\n",
       "< 200                 446\n",
       "> 1500                576"
      ]
     },
     "execution_count": 59,
     "metadata": {},
     "output_type": "execute_result"
    }
   ],
   "source": [
    "customers.groupby('avg_bill_seg')['customer_id'].count().to_frame()"
   ]
  },
  {
   "cell_type": "markdown",
   "metadata": {},
   "source": [
    "Визуализируем доли сегмента."
   ]
  },
  {
   "cell_type": "code",
   "execution_count": 60,
   "metadata": {},
   "outputs": [
    {
     "data": {
      "image/png": "[encoded data removed]",
      "text/plain": [
       "<Figure size 720x576 with 1 Axes>"
      ]
     },
     "metadata": {},
     "output_type": "display_data"
    }
   ],
   "source": [
    "# создадим таблицу с количеством клиентов в сегменте\n",
    "data = customers.groupby('avg_bill_seg')['customer_id'].count().to_frame().reset_index()\n",
    "# зададим цветовую палитру\n",
    "colors = sns.color_palette('pastel')[0:5]\n",
    "\n",
    "# построим круговую диаграмму\n",
    "plt.figure(figsize=(10, 8))\n",
    "plt.pie(data['customer_id'], labels = data['avg_bill_seg'], colors=colors, autopct='%.0f%%')\n",
    "plt.title('Доли сегментов пользователей по среднему чеку заказов')\n",
    "plt.xlabel('Сегмент размера среднего чека заказов')\n",
    "plt.legend()\n",
    "plt.tight_layout()\n",
    "plt.show()"
   ]
  },
  {
   "cell_type": "markdown",
   "metadata": {},
   "source": [
    "<a id=\"s3_1\"></a>"
   ]
  },
  {
   "cell_type": "markdown",
   "metadata": {},
   "source": [
    "### Выводы"
   ]
  },
  {
   "cell_type": "markdown",
   "metadata": {},
   "source": [
    "В процессе исследования сегментации по среднему чеку клиентов были получены следующие данные:\n",
    "- `50%` клиентов имеют средний чек не более `674 руб`, а не более `75%` клиентов имеют средний чек менее `1457 руб`. \n",
    "- Максимальный размер среднего чека достигает `49432 руб`.\n",
    "\n",
    "Пользователи были разделены на следующие сегменты в зависимости от размера среднего чека:\n",
    "- сегмент со средним чеком менее `200 руб`;\n",
    "- сегмент со средним чеком от `200 до 700 руб`;\n",
    "- сегмент со средним чеком от `700 до 1500 руб`;\n",
    "- сегмент со средним чеком свыше `1500 руб`.\n",
    "\n",
    "В результате мы получили сегменты со следующим количеством клиентов:\n",
    "- сегмент `< 200` - 446 чел.\n",
    "- сегмент `200 - 700` - 774 чел.\n",
    "- сегмент `700 - 1500` - 597 чел.\n",
    "- сегмент `> 1500` - 576 чел."
   ]
  },
  {
   "cell_type": "markdown",
   "metadata": {},
   "source": [
    "## Сегментация по частоте оформляемых заказов"
   ]
  },
  {
   "cell_type": "markdown",
   "metadata": {},
   "source": [
    "Проведем сегментацию пользователей по частоте оформляемых заказов. У нас уже посчитано общее количество совершенных заказов по каждому клиенту. Сгруппируем данные по количеству оформленных заказов и посчитаем количество пользователей."
   ]
  },
  {
   "cell_type": "code",
   "execution_count": 61,
   "metadata": {},
   "outputs": [
    {
     "data": {
      "text/html": [
       "<div>\n",
       "<style scoped>\n",
       "    .dataframe tbody tr th:only-of-type {\n",
       "        vertical-align: middle;\n",
       "    }\n",
       "\n",
       "    .dataframe tbody tr th {\n",
       "        vertical-align: top;\n",
       "    }\n",
       "\n",
       "    .dataframe thead th {\n",
       "        text-align: right;\n",
       "    }\n",
       "</style>\n",
       "<table border=\"1\" class=\"dataframe\">\n",
       "  <thead>\n",
       "    <tr style=\"text-align: right;\">\n",
       "      <th></th>\n",
       "      <th>customer_id</th>\n",
       "      <th>share</th>\n",
       "    </tr>\n",
       "    <tr>\n",
       "      <th>orders_count</th>\n",
       "      <th></th>\n",
       "      <th></th>\n",
       "    </tr>\n",
       "  </thead>\n",
       "  <tbody>\n",
       "    <tr>\n",
       "      <th>1</th>\n",
       "      <td>2238</td>\n",
       "      <td>0.94</td>\n",
       "    </tr>\n",
       "    <tr>\n",
       "      <th>2</th>\n",
       "      <td>127</td>\n",
       "      <td>0.05</td>\n",
       "    </tr>\n",
       "    <tr>\n",
       "      <th>3</th>\n",
       "      <td>20</td>\n",
       "      <td>0.01</td>\n",
       "    </tr>\n",
       "    <tr>\n",
       "      <th>4</th>\n",
       "      <td>3</td>\n",
       "      <td>0.00</td>\n",
       "    </tr>\n",
       "    <tr>\n",
       "      <th>5</th>\n",
       "      <td>1</td>\n",
       "      <td>0.00</td>\n",
       "    </tr>\n",
       "    <tr>\n",
       "      <th>7</th>\n",
       "      <td>1</td>\n",
       "      <td>0.00</td>\n",
       "    </tr>\n",
       "    <tr>\n",
       "      <th>17</th>\n",
       "      <td>1</td>\n",
       "      <td>0.00</td>\n",
       "    </tr>\n",
       "    <tr>\n",
       "      <th>35</th>\n",
       "      <td>1</td>\n",
       "      <td>0.00</td>\n",
       "    </tr>\n",
       "    <tr>\n",
       "      <th>126</th>\n",
       "      <td>1</td>\n",
       "      <td>0.00</td>\n",
       "    </tr>\n",
       "  </tbody>\n",
       "</table>\n",
       "</div>"
      ],
      "text/plain": [
       "              customer_id  share\n",
       "orders_count                    \n",
       "1                    2238   0.94\n",
       "2                     127   0.05\n",
       "3                      20   0.01\n",
       "4                       3   0.00\n",
       "5                       1   0.00\n",
       "7                       1   0.00\n",
       "17                      1   0.00\n",
       "35                      1   0.00\n",
       "126                     1   0.00"
      ]
     },
     "execution_count": 61,
     "metadata": {},
     "output_type": "execute_result"
    }
   ],
   "source": [
    "# сгруппируем данные по количеству совершенных заказов\n",
    "orders_count = customers.groupby('orders_count')['customer_id'].count().to_frame()\n",
    "\n",
    "# посчитаем долю пользователей в каждой группе\n",
    "orders_count['share'] = round(orders_count['customer_id'] / orders_count['customer_id'].sum(), 2)\n",
    "\n",
    "# выведем таблицу\n",
    "orders_count"
   ]
  },
  {
   "cell_type": "code",
   "execution_count": 62,
   "metadata": {},
   "outputs": [
    {
     "data": {
      "image/png": "[encoded data removed]",
      "text/plain": [
       "<Figure size 1152x504 with 2 Axes>"
      ]
     },
     "metadata": {
      "needs_background": "light"
     },
     "output_type": "display_data"
    },
    {
     "name": "stdout",
     "output_type": "stream",
     "text": [
      "Статистические показатели по колонке orders_count\n"
     ]
    },
    {
     "data": {
      "text/html": [
       "<div>\n",
       "<style scoped>\n",
       "    .dataframe tbody tr th:only-of-type {\n",
       "        vertical-align: middle;\n",
       "    }\n",
       "\n",
       "    .dataframe tbody tr th {\n",
       "        vertical-align: top;\n",
       "    }\n",
       "\n",
       "    .dataframe thead th {\n",
       "        text-align: right;\n",
       "    }\n",
       "</style>\n",
       "<table border=\"1\" class=\"dataframe\">\n",
       "  <thead>\n",
       "    <tr style=\"text-align: right;\">\n",
       "      <th></th>\n",
       "      <th>orders_count</th>\n",
       "    </tr>\n",
       "  </thead>\n",
       "  <tbody>\n",
       "    <tr>\n",
       "      <th>count</th>\n",
       "      <td>2393.000000</td>\n",
       "    </tr>\n",
       "    <tr>\n",
       "      <th>mean</th>\n",
       "      <td>1.150857</td>\n",
       "    </tr>\n",
       "    <tr>\n",
       "      <th>std</th>\n",
       "      <td>2.686874</td>\n",
       "    </tr>\n",
       "    <tr>\n",
       "      <th>min</th>\n",
       "      <td>1.000000</td>\n",
       "    </tr>\n",
       "    <tr>\n",
       "      <th>25%</th>\n",
       "      <td>1.000000</td>\n",
       "    </tr>\n",
       "    <tr>\n",
       "      <th>50%</th>\n",
       "      <td>1.000000</td>\n",
       "    </tr>\n",
       "    <tr>\n",
       "      <th>75%</th>\n",
       "      <td>1.000000</td>\n",
       "    </tr>\n",
       "    <tr>\n",
       "      <th>max</th>\n",
       "      <td>126.000000</td>\n",
       "    </tr>\n",
       "  </tbody>\n",
       "</table>\n",
       "</div>"
      ],
      "text/plain": [
       "       orders_count\n",
       "count   2393.000000\n",
       "mean       1.150857\n",
       "std        2.686874\n",
       "min        1.000000\n",
       "25%        1.000000\n",
       "50%        1.000000\n",
       "75%        1.000000\n",
       "max      126.000000"
      ]
     },
     "metadata": {},
     "output_type": "display_data"
    }
   ],
   "source": [
    "# построим графики распределения пользователей по количеству совершенных заказов\n",
    "get_stats(customers, 'orders_count', 'Количество совершенных заказов', bins=1000, h_lim=[0, 6], b_lim=None)"
   ]
  },
  {
   "cell_type": "markdown",
   "metadata": {},
   "source": [
    "Около `94%` пользователей совершили всего `1` заказ за `13 месяцев`. \n",
    "Доля пользователей совершивших более `1` заказа за `13 месяцев` составляет не более `6%`."
   ]
  },
  {
   "cell_type": "markdown",
   "metadata": {},
   "source": [
    "Исходя из полученного распределения нет необходимости высчитывать среднюю частоту заказов за более короткие периоды (месяцы и недели), т.к. `94%` пользователей совершили всего по одному заказу. Целесообразно будет разделить пользователей на 2 сегмента по количеству совершенных заказов:\n",
    "- 1 заказ\n",
    "- от 2 и более заказов"
   ]
  },
  {
   "cell_type": "markdown",
   "metadata": {},
   "source": [
    "Сохраним сегменты в таблицу `customers`."
   ]
  },
  {
   "cell_type": "code",
   "execution_count": 63,
   "metadata": {},
   "outputs": [],
   "source": [
    "# сохраним в переменной границы сегментов\n",
    "segments = [2]\n",
    "\n",
    "# запишем сегменты для каждого клиента\n",
    "customers['orders_count_seg'] = customers['orders_count'].apply(lambda x: save_segment(x, segments))"
   ]
  },
  {
   "cell_type": "markdown",
   "metadata": {},
   "source": [
    "Посчитаем какое количество клиентов оказалось в каждом сегменте."
   ]
  },
  {
   "cell_type": "code",
   "execution_count": 64,
   "metadata": {},
   "outputs": [
    {
     "data": {
      "text/html": [
       "<div>\n",
       "<style scoped>\n",
       "    .dataframe tbody tr th:only-of-type {\n",
       "        vertical-align: middle;\n",
       "    }\n",
       "\n",
       "    .dataframe tbody tr th {\n",
       "        vertical-align: top;\n",
       "    }\n",
       "\n",
       "    .dataframe thead th {\n",
       "        text-align: right;\n",
       "    }\n",
       "</style>\n",
       "<table border=\"1\" class=\"dataframe\">\n",
       "  <thead>\n",
       "    <tr style=\"text-align: right;\">\n",
       "      <th></th>\n",
       "      <th>customer_id</th>\n",
       "    </tr>\n",
       "    <tr>\n",
       "      <th>orders_count_seg</th>\n",
       "      <th></th>\n",
       "    </tr>\n",
       "  </thead>\n",
       "  <tbody>\n",
       "    <tr>\n",
       "      <th>&lt; 2</th>\n",
       "      <td>2238</td>\n",
       "    </tr>\n",
       "    <tr>\n",
       "      <th>&gt; 2</th>\n",
       "      <td>155</td>\n",
       "    </tr>\n",
       "  </tbody>\n",
       "</table>\n",
       "</div>"
      ],
      "text/plain": [
       "                  customer_id\n",
       "orders_count_seg             \n",
       "< 2                      2238\n",
       "> 2                       155"
      ]
     },
     "execution_count": 64,
     "metadata": {},
     "output_type": "execute_result"
    }
   ],
   "source": [
    "customers.groupby('orders_count_seg')['customer_id'].count().to_frame()"
   ]
  },
  {
   "cell_type": "markdown",
   "metadata": {},
   "source": [
    "Построим круговую диаграмму с долями сегментов."
   ]
  },
  {
   "cell_type": "code",
   "execution_count": 65,
   "metadata": {},
   "outputs": [
    {
     "data": {
      "image/png": "[encoded data removed]",
      "text/plain": [
       "<Figure size 720x504 with 1 Axes>"
      ]
     },
     "metadata": {},
     "output_type": "display_data"
    }
   ],
   "source": [
    "# создадим таблицу с количеством клиентов в сегменте\n",
    "data = customers.groupby('orders_count_seg')['customer_id'].count().to_frame().reset_index()\n",
    "# зададим цветовую палитру\n",
    "colors = sns.color_palette('pastel')[0:5]\n",
    "\n",
    "# построим круговую диаграмму\n",
    "plt.figure(figsize=(10, 7))\n",
    "plt.pie(data['customer_id'], labels = data['orders_count_seg'], colors=colors, autopct='%.0f%%')\n",
    "plt.title('Доли сегментов пользователей по частоте оформляемых заказов')\n",
    "plt.xlabel('Сегмент по частоте оформляемых заказов')\n",
    "plt.legend()\n",
    "plt.tight_layout()\n",
    "plt.show()"
   ]
  },
  {
   "cell_type": "markdown",
   "metadata": {},
   "source": [
    "<a id=\"s4_1\"></a>"
   ]
  },
  {
   "cell_type": "markdown",
   "metadata": {},
   "source": [
    "### Выводы"
   ]
  },
  {
   "cell_type": "markdown",
   "metadata": {},
   "source": [
    "В процессе исследования сегментации по частоте оформляемых заказов были получены следующие данные:\n",
    "- Около `94%` пользователей совершили всего `1` заказ за `13 месяцев`.\n",
    "- Доля пользователей совершивших более `1` заказа за `13 месяцев` составляет не более `6%`.\n",
    "\n",
    "Пользователи были разделены на следующие сегменты:\n",
    "- 1 заказ (`< 2`)\n",
    "- от 2 и более заказов (`> 2`)\n",
    "\n",
    "В результате в каждом сегменте мы получили следующее количество пользователей:\n",
    "- `< 2` - 2238\n",
    "- `> 2` - 155"
   ]
  },
  {
   "cell_type": "markdown",
   "metadata": {},
   "source": [
    "## Сегментация по давности последнего оформленного заказа"
   ]
  },
  {
   "cell_type": "markdown",
   "metadata": {},
   "source": [
    "Проведем сегментацию по давности последнего оформленного заказа. Дату последнего заказа мы уже посчитали. Создадим колонку в которой мы сохраним количество дней и месяцев от последней даты заказа до последнего дня, за который имеются данные в датасете."
   ]
  },
  {
   "cell_type": "code",
   "execution_count": 66,
   "metadata": {},
   "outputs": [
    {
     "data": {
      "text/html": [
       "<div>\n",
       "<style scoped>\n",
       "    .dataframe tbody tr th:only-of-type {\n",
       "        vertical-align: middle;\n",
       "    }\n",
       "\n",
       "    .dataframe tbody tr th {\n",
       "        vertical-align: top;\n",
       "    }\n",
       "\n",
       "    .dataframe thead th {\n",
       "        text-align: right;\n",
       "    }\n",
       "</style>\n",
       "<table border=\"1\" class=\"dataframe\">\n",
       "  <thead>\n",
       "    <tr style=\"text-align: right;\">\n",
       "      <th></th>\n",
       "      <th>customer_id</th>\n",
       "      <th>first_order_dt</th>\n",
       "      <th>last_order_dt</th>\n",
       "      <th>orders_count</th>\n",
       "      <th>ltv</th>\n",
       "      <th>products_count</th>\n",
       "      <th>avg_bill</th>\n",
       "      <th>avg_bill_seg</th>\n",
       "      <th>orders_count_seg</th>\n",
       "      <th>days_from_last_order</th>\n",
       "      <th>months_from_last_order</th>\n",
       "    </tr>\n",
       "  </thead>\n",
       "  <tbody>\n",
       "    <tr>\n",
       "      <th>0</th>\n",
       "      <td>000d6849-084e-4d9f-ac03-37174eaf60c4</td>\n",
       "      <td>2019-10-16 08:00:00</td>\n",
       "      <td>2019-10-16 08:00:00</td>\n",
       "      <td>1</td>\n",
       "      <td>555.0</td>\n",
       "      <td>4</td>\n",
       "      <td>555.0</td>\n",
       "      <td>200 - 700</td>\n",
       "      <td>&lt; 2</td>\n",
       "      <td>15</td>\n",
       "      <td>0</td>\n",
       "    </tr>\n",
       "    <tr>\n",
       "      <th>1</th>\n",
       "      <td>001cee7f-0b29-4716-b202-0042213ab038</td>\n",
       "      <td>2019-02-16 11:00:00</td>\n",
       "      <td>2019-02-16 11:00:00</td>\n",
       "      <td>1</td>\n",
       "      <td>442.0</td>\n",
       "      <td>1</td>\n",
       "      <td>442.0</td>\n",
       "      <td>200 - 700</td>\n",
       "      <td>&lt; 2</td>\n",
       "      <td>257</td>\n",
       "      <td>9</td>\n",
       "    </tr>\n",
       "    <tr>\n",
       "      <th>2</th>\n",
       "      <td>00299f34-5385-4d13-9aea-c80b81658e1b</td>\n",
       "      <td>2019-10-14 23:00:00</td>\n",
       "      <td>2019-10-14 23:00:00</td>\n",
       "      <td>1</td>\n",
       "      <td>914.0</td>\n",
       "      <td>1</td>\n",
       "      <td>914.0</td>\n",
       "      <td>700 - 1500</td>\n",
       "      <td>&lt; 2</td>\n",
       "      <td>16</td>\n",
       "      <td>1</td>\n",
       "    </tr>\n",
       "    <tr>\n",
       "      <th>3</th>\n",
       "      <td>002d4d3a-4a59-406b-86ec-c3314357e498</td>\n",
       "      <td>2019-01-27 17:00:00</td>\n",
       "      <td>2019-01-27 17:00:00</td>\n",
       "      <td>1</td>\n",
       "      <td>1649.0</td>\n",
       "      <td>1</td>\n",
       "      <td>1649.0</td>\n",
       "      <td>&gt; 1500</td>\n",
       "      <td>&lt; 2</td>\n",
       "      <td>276</td>\n",
       "      <td>9</td>\n",
       "    </tr>\n",
       "    <tr>\n",
       "      <th>4</th>\n",
       "      <td>003bbd39-0000-41ff-b7f9-2ddaec152037</td>\n",
       "      <td>2019-09-29 17:00:00</td>\n",
       "      <td>2019-09-29 17:00:00</td>\n",
       "      <td>1</td>\n",
       "      <td>2324.0</td>\n",
       "      <td>1</td>\n",
       "      <td>2324.0</td>\n",
       "      <td>&gt; 1500</td>\n",
       "      <td>&lt; 2</td>\n",
       "      <td>31</td>\n",
       "      <td>1</td>\n",
       "    </tr>\n",
       "  </tbody>\n",
       "</table>\n",
       "</div>"
      ],
      "text/plain": [
       "                            customer_id      first_order_dt       last_order_dt  orders_count     ltv  products_count  avg_bill avg_bill_seg orders_count_seg  days_from_last_order  months_from_last_order\n",
       "0  000d6849-084e-4d9f-ac03-37174eaf60c4 2019-10-16 08:00:00 2019-10-16 08:00:00             1   555.0               4     555.0    200 - 700              < 2                    15                       0\n",
       "1  001cee7f-0b29-4716-b202-0042213ab038 2019-02-16 11:00:00 2019-02-16 11:00:00             1   442.0               1     442.0    200 - 700              < 2                   257                       9\n",
       "2  00299f34-5385-4d13-9aea-c80b81658e1b 2019-10-14 23:00:00 2019-10-14 23:00:00             1   914.0               1     914.0   700 - 1500              < 2                    16                       1\n",
       "3  002d4d3a-4a59-406b-86ec-c3314357e498 2019-01-27 17:00:00 2019-01-27 17:00:00             1  1649.0               1    1649.0       > 1500              < 2                   276                       9\n",
       "4  003bbd39-0000-41ff-b7f9-2ddaec152037 2019-09-29 17:00:00 2019-09-29 17:00:00             1  2324.0               1    2324.0       > 1500              < 2                    31                       1"
      ]
     },
     "execution_count": 66,
     "metadata": {},
     "output_type": "execute_result"
    }
   ],
   "source": [
    "# посчитаем количество дней и месяцев от последнего оформленного заказа\n",
    "customers['days_from_last_order'] = (orders['date'].max() - customers['last_order_dt']).dt.days\n",
    "customers['months_from_last_order'] = round(customers['days_from_last_order'] / 30).astype('int')\n",
    "\n",
    "# выведем  первые 5 строк таблицы\n",
    "customers.head(5)"
   ]
  },
  {
   "cell_type": "code",
   "execution_count": 67,
   "metadata": {},
   "outputs": [
    {
     "data": {
      "image/png": "[encoded data removed]",
      "text/plain": [
       "<Figure size 1152x504 with 2 Axes>"
      ]
     },
     "metadata": {
      "needs_background": "light"
     },
     "output_type": "display_data"
    },
    {
     "name": "stdout",
     "output_type": "stream",
     "text": [
      "Статистические показатели по колонке months_from_last_order\n"
     ]
    },
    {
     "data": {
      "text/html": [
       "<div>\n",
       "<style scoped>\n",
       "    .dataframe tbody tr th:only-of-type {\n",
       "        vertical-align: middle;\n",
       "    }\n",
       "\n",
       "    .dataframe tbody tr th {\n",
       "        vertical-align: top;\n",
       "    }\n",
       "\n",
       "    .dataframe thead th {\n",
       "        text-align: right;\n",
       "    }\n",
       "</style>\n",
       "<table border=\"1\" class=\"dataframe\">\n",
       "  <thead>\n",
       "    <tr style=\"text-align: right;\">\n",
       "      <th></th>\n",
       "      <th>months_from_last_order</th>\n",
       "    </tr>\n",
       "  </thead>\n",
       "  <tbody>\n",
       "    <tr>\n",
       "      <th>count</th>\n",
       "      <td>2393.000000</td>\n",
       "    </tr>\n",
       "    <tr>\n",
       "      <th>mean</th>\n",
       "      <td>6.785207</td>\n",
       "    </tr>\n",
       "    <tr>\n",
       "      <th>std</th>\n",
       "      <td>3.718884</td>\n",
       "    </tr>\n",
       "    <tr>\n",
       "      <th>min</th>\n",
       "      <td>0.000000</td>\n",
       "    </tr>\n",
       "    <tr>\n",
       "      <th>25%</th>\n",
       "      <td>4.000000</td>\n",
       "    </tr>\n",
       "    <tr>\n",
       "      <th>50%</th>\n",
       "      <td>7.000000</td>\n",
       "    </tr>\n",
       "    <tr>\n",
       "      <th>75%</th>\n",
       "      <td>10.000000</td>\n",
       "    </tr>\n",
       "    <tr>\n",
       "      <th>max</th>\n",
       "      <td>13.000000</td>\n",
       "    </tr>\n",
       "  </tbody>\n",
       "</table>\n",
       "</div>"
      ],
      "text/plain": [
       "       months_from_last_order\n",
       "count             2393.000000\n",
       "mean                 6.785207\n",
       "std                  3.718884\n",
       "min                  0.000000\n",
       "25%                  4.000000\n",
       "50%                  7.000000\n",
       "75%                 10.000000\n",
       "max                 13.000000"
      ]
     },
     "metadata": {},
     "output_type": "display_data"
    }
   ],
   "source": [
    "# построим графики распределения пользователей по давности совершенных заказов\n",
    "get_stats(customers, 'months_from_last_order', 'Количество месяцев с последнего заказа', bins=10, h_lim=None, b_lim=None)"
   ]
  },
  {
   "cell_type": "markdown",
   "metadata": {},
   "source": [
    "На графиках мы видим сходство распределения по давности заказа с графиком динамики продаж.  \n",
    "Около `25%` клиентов совершали последний заказ не более `4 месяцев` назад. `50%` клиентов совершил последний заказ не более `7 месяцев` назад.  \n",
    "В среднем по всем клиентам последний заказ был совершен около `6 месяцев назад`. "
   ]
  },
  {
   "cell_type": "markdown",
   "metadata": {},
   "source": [
    "На гистограмме видно, что значения распределены достаточно равномерно и нет каких-либо перекосов в графике, кроме апрельского всплеска и  более меньших всплесков раз в 3 месяца.<br>\n",
    "В качестве сегментации по давности покупки можно использовать колонку с количеством месяцев прошедших с последней покупки, а после проведения маркетинговых мероприятий изучить необходимость более крупной сегментации по давности покупки."
   ]
  },
  {
   "cell_type": "markdown",
   "metadata": {},
   "source": [
    "Визуализируем доли сегментов. "
   ]
  },
  {
   "cell_type": "code",
   "execution_count": 68,
   "metadata": {},
   "outputs": [
    {
     "data": {
      "image/png": "[encoded data removed]",
      "text/plain": [
       "<Figure size 720x504 with 1 Axes>"
      ]
     },
     "metadata": {},
     "output_type": "display_data"
    }
   ],
   "source": [
    "# создадим таблицу с количеством клиентов в сегменте\n",
    "data = customers.groupby('months_from_last_order')['customer_id'].count().to_frame().reset_index()\n",
    "# зададим цветовую палитру\n",
    "colors = sns.color_palette('pastel')[0:14]\n",
    "\n",
    "# построим круговую диаграмму\n",
    "plt.figure(figsize=(10, 7))\n",
    "plt.pie(data['customer_id'], labels = data['months_from_last_order'], colors=colors, autopct='%.0f%%')\n",
    "plt.legend()\n",
    "plt.title('Доли сегментов пользователей по давности месяца последней покупки')\n",
    "plt.xlabel('Количество месяцев с последней покупки')\n",
    "plt.tight_layout()\n",
    "plt.show()"
   ]
  },
  {
   "cell_type": "markdown",
   "metadata": {},
   "source": [
    "<a id=\"s5_1\"></a>"
   ]
  },
  {
   "cell_type": "markdown",
   "metadata": {},
   "source": [
    "### Выводы"
   ]
  },
  {
   "cell_type": "markdown",
   "metadata": {},
   "source": [
    "Исходя из данных за имеющийся период видно, что клиенты практически не возвращаются за покупками или же повторные покупки имеют сезонный характер.  \n",
    "Возможность разделить клиентов по давности покупки может позволить нам проводить стимулирующие маркетинговые мероприятия для увеличения повторных покупок.  "
   ]
  },
  {
   "cell_type": "markdown",
   "metadata": {},
   "source": [
    "## Сегментация по кумулятивному доходу, полученному с покупателя"
   ]
  },
  {
   "cell_type": "markdown",
   "metadata": {},
   "source": [
    "Проведем сегментацию по совокупному доходу с клиента. Таким образом, мы сможем более таргетировано выявлять рекомендации исходя из ценовых сегментов товаров."
   ]
  },
  {
   "cell_type": "code",
   "execution_count": 69,
   "metadata": {},
   "outputs": [
    {
     "data": {
      "image/png": "[encoded data removed]",
      "text/plain": [
       "<Figure size 1152x504 with 2 Axes>"
      ]
     },
     "metadata": {
      "needs_background": "light"
     },
     "output_type": "display_data"
    },
    {
     "name": "stdout",
     "output_type": "stream",
     "text": [
      "Статистические показатели по колонке ltv\n"
     ]
    },
    {
     "data": {
      "text/html": [
       "<div>\n",
       "<style scoped>\n",
       "    .dataframe tbody tr th:only-of-type {\n",
       "        vertical-align: middle;\n",
       "    }\n",
       "\n",
       "    .dataframe tbody tr th {\n",
       "        vertical-align: top;\n",
       "    }\n",
       "\n",
       "    .dataframe thead th {\n",
       "        text-align: right;\n",
       "    }\n",
       "</style>\n",
       "<table border=\"1\" class=\"dataframe\">\n",
       "  <thead>\n",
       "    <tr style=\"text-align: right;\">\n",
       "      <th></th>\n",
       "      <th>ltv</th>\n",
       "    </tr>\n",
       "  </thead>\n",
       "  <tbody>\n",
       "    <tr>\n",
       "      <th>count</th>\n",
       "      <td>2393.000000</td>\n",
       "    </tr>\n",
       "    <tr>\n",
       "      <th>mean</th>\n",
       "      <td>1419.553698</td>\n",
       "    </tr>\n",
       "    <tr>\n",
       "      <th>std</th>\n",
       "      <td>4302.070543</td>\n",
       "    </tr>\n",
       "    <tr>\n",
       "      <th>min</th>\n",
       "      <td>14.000000</td>\n",
       "    </tr>\n",
       "    <tr>\n",
       "      <th>25%</th>\n",
       "      <td>299.000000</td>\n",
       "    </tr>\n",
       "    <tr>\n",
       "      <th>50%</th>\n",
       "      <td>710.000000</td>\n",
       "    </tr>\n",
       "    <tr>\n",
       "      <th>75%</th>\n",
       "      <td>1574.000000</td>\n",
       "    </tr>\n",
       "    <tr>\n",
       "      <th>max</th>\n",
       "      <td>159508.000000</td>\n",
       "    </tr>\n",
       "  </tbody>\n",
       "</table>\n",
       "</div>"
      ],
      "text/plain": [
       "                 ltv\n",
       "count    2393.000000\n",
       "mean     1419.553698\n",
       "std      4302.070543\n",
       "min        14.000000\n",
       "25%       299.000000\n",
       "50%       710.000000\n",
       "75%      1574.000000\n",
       "max    159508.000000"
      ]
     },
     "metadata": {},
     "output_type": "display_data"
    }
   ],
   "source": [
    "# построим графики распределения пользователей по давности совершенных заказов\n",
    "get_stats(customers, 'ltv', 'Размер кумулятивного дохода с клиента', bins=500, h_lim=[0, 8000], b_lim=None)"
   ]
  },
  {
   "cell_type": "markdown",
   "metadata": {},
   "source": [
    "По кумулятивному доходу с клиента мы имеем большой разброс значений и сильные выбросы.  \n",
    "У `25%` клиентов совокупный доход не превышает `300 руб`. У `50%` клиентов не превышает - `710 руб`, а у `75%` не превышает `1574 руб`.  \n",
    "Средний размер кумулятивного дохода с клиента составляет `1419 руб`."
   ]
  },
  {
   "cell_type": "markdown",
   "metadata": {},
   "source": [
    "<a id=\"s6_1\"></a>"
   ]
  },
  {
   "cell_type": "markdown",
   "metadata": {},
   "source": [
    "### Выводы"
   ]
  },
  {
   "cell_type": "markdown",
   "metadata": {},
   "source": [
    "Учитывая, что большинство клиентов совершили не более 1 заказа за имеющийся период в данных, то совокупный доход в целом будет равняться размеру чека. Мы получим те же сегменты, которые уже получили на шаге сегментирования по размеру чека.  \n",
    "Для качественного сегментирования по совокупному доходу желательно взять гораздо больший период."
   ]
  },
  {
   "cell_type": "markdown",
   "metadata": {},
   "source": [
    "## Сегментация по категориям приобретаемых товаров"
   ]
  },
  {
   "cell_type": "markdown",
   "metadata": {},
   "source": [
    "Для сегментации по категориям приобретаемых товаров нам необходимо определить категории товаров. Создадим отдельную талицу с товарами."
   ]
  },
  {
   "cell_type": "code",
   "execution_count": 70,
   "metadata": {},
   "outputs": [
    {
     "data": {
      "text/html": [
       "<div>\n",
       "<style scoped>\n",
       "    .dataframe tbody tr th:only-of-type {\n",
       "        vertical-align: middle;\n",
       "    }\n",
       "\n",
       "    .dataframe tbody tr th {\n",
       "        vertical-align: top;\n",
       "    }\n",
       "\n",
       "    .dataframe thead th {\n",
       "        text-align: right;\n",
       "    }\n",
       "</style>\n",
       "<table border=\"1\" class=\"dataframe\">\n",
       "  <thead>\n",
       "    <tr style=\"text-align: right;\">\n",
       "      <th></th>\n",
       "      <th>product</th>\n",
       "    </tr>\n",
       "  </thead>\n",
       "  <tbody>\n",
       "    <tr>\n",
       "      <th>0</th>\n",
       "      <td>Пеларгония зональная диам. 12 см темнорозовая полумахровая</td>\n",
       "    </tr>\n",
       "    <tr>\n",
       "      <th>1</th>\n",
       "      <td>Пеларгония розебудная Queen Ingrid укорененный черенок</td>\n",
       "    </tr>\n",
       "    <tr>\n",
       "      <th>2</th>\n",
       "      <td>Пеларгония розебудная Rosebud Red d-7 см</td>\n",
       "    </tr>\n",
       "    <tr>\n",
       "      <th>3</th>\n",
       "      <td>Пеларгония тюльпановидная EMMA</td>\n",
       "    </tr>\n",
       "    <tr>\n",
       "      <th>4</th>\n",
       "      <td>Сушилка для белья потолочная ЛИАНА ЛЮКС 150 см ЛЛП-150</td>\n",
       "    </tr>\n",
       "    <tr>\n",
       "      <th>5</th>\n",
       "      <td>Ткань для окон Duo для влажной и сухой чистки 200*200 мм, Leifheit, 40002</td>\n",
       "    </tr>\n",
       "    <tr>\n",
       "      <th>6</th>\n",
       "      <td>Сумка-тележка 2-х колесная складная Gimi Flexi серая</td>\n",
       "    </tr>\n",
       "    <tr>\n",
       "      <th>7</th>\n",
       "      <td>Стеллаж для обуви TELIO-370 венге OPT-370V</td>\n",
       "    </tr>\n",
       "    <tr>\n",
       "      <th>8</th>\n",
       "      <td>Вешалка-перекладина Valiant металлическая двойная с антискользящим покрытием 50320</td>\n",
       "    </tr>\n",
       "    <tr>\n",
       "      <th>9</th>\n",
       "      <td>Штора для ванной комнаты Quadretto 240х200 см белая, Bacchetta, 4062</td>\n",
       "    </tr>\n",
       "  </tbody>\n",
       "</table>\n",
       "</div>"
      ],
      "text/plain": [
       "                                                                              product\n",
       "0                          Пеларгония зональная диам. 12 см темнорозовая полумахровая\n",
       "1                              Пеларгония розебудная Queen Ingrid укорененный черенок\n",
       "2                                            Пеларгония розебудная Rosebud Red d-7 см\n",
       "3                                                      Пеларгония тюльпановидная EMMA\n",
       "4                              Сушилка для белья потолочная ЛИАНА ЛЮКС 150 см ЛЛП-150\n",
       "5           Ткань для окон Duo для влажной и сухой чистки 200*200 мм, Leifheit, 40002\n",
       "6                                Сумка-тележка 2-х колесная складная Gimi Flexi серая\n",
       "7                                          Стеллаж для обуви TELIO-370 венге OPT-370V\n",
       "8  Вешалка-перекладина Valiant металлическая двойная с антискользящим покрытием 50320\n",
       "9                Штора для ванной комнаты Quadretto 240х200 см белая, Bacchetta, 4062"
      ]
     },
     "execution_count": 70,
     "metadata": {},
     "output_type": "execute_result"
    }
   ],
   "source": [
    "# создадим таблицу с продуктами\n",
    "products = clean_ecom_df['product'].to_frame().drop_duplicates()\n",
    "\n",
    "# выведем первые 10 сстрок таблицы\n",
    "products.head(10)"
   ]
  },
  {
   "cell_type": "markdown",
   "metadata": {},
   "source": [
    "По наименованиям товаров можно заметить, что тип товара определяется первыми словами в названии. Попробуем создать колонки  в  таблице с продукатми, в которых мы сохраним первое слово из наименования и первые 2 слова."
   ]
  },
  {
   "cell_type": "code",
   "execution_count": 71,
   "metadata": {},
   "outputs": [],
   "source": [
    "# сохраним в отдельных колонках первое слово из наименования и первые 2 слова\n",
    "products['c1'] = products['product'].apply(lambda x: x.split(' ')[0])\n",
    "products['c2'] = products['product'].apply(lambda x: x.split(' ')[0] + ' ' + x.split(' ')[1])"
   ]
  },
  {
   "cell_type": "markdown",
   "metadata": {},
   "source": [
    "Посчитаем количество значений в обеих колонках."
   ]
  },
  {
   "cell_type": "code",
   "execution_count": 72,
   "metadata": {},
   "outputs": [
    {
     "data": {
      "text/html": [
       "<div>\n",
       "<style scoped>\n",
       "    .dataframe tbody tr th:only-of-type {\n",
       "        vertical-align: middle;\n",
       "    }\n",
       "\n",
       "    .dataframe tbody tr th {\n",
       "        vertical-align: top;\n",
       "    }\n",
       "\n",
       "    .dataframe thead th {\n",
       "        text-align: right;\n",
       "    }\n",
       "</style>\n",
       "<table border=\"1\" class=\"dataframe\">\n",
       "  <thead>\n",
       "    <tr style=\"text-align: right;\">\n",
       "      <th></th>\n",
       "      <th>c1</th>\n",
       "    </tr>\n",
       "  </thead>\n",
       "  <tbody>\n",
       "    <tr>\n",
       "      <th>Рассада</th>\n",
       "      <td>175</td>\n",
       "    </tr>\n",
       "    <tr>\n",
       "      <th>Сушилка</th>\n",
       "      <td>112</td>\n",
       "    </tr>\n",
       "    <tr>\n",
       "      <th>Сумка-тележка</th>\n",
       "      <td>83</td>\n",
       "    </tr>\n",
       "    <tr>\n",
       "      <th>томата</th>\n",
       "      <td>73</td>\n",
       "    </tr>\n",
       "    <tr>\n",
       "      <th>Коврик</th>\n",
       "      <td>72</td>\n",
       "    </tr>\n",
       "    <tr>\n",
       "      <th>...</th>\n",
       "      <td>...</td>\n",
       "    </tr>\n",
       "    <tr>\n",
       "      <th>Бадан</th>\n",
       "      <td>1</td>\n",
       "    </tr>\n",
       "    <tr>\n",
       "      <th>Ель</th>\n",
       "      <td>1</td>\n",
       "    </tr>\n",
       "    <tr>\n",
       "      <th>Антинакипин</th>\n",
       "      <td>1</td>\n",
       "    </tr>\n",
       "    <tr>\n",
       "      <th>Наматрацник</th>\n",
       "      <td>1</td>\n",
       "    </tr>\n",
       "    <tr>\n",
       "      <th>Ваза</th>\n",
       "      <td>1</td>\n",
       "    </tr>\n",
       "  </tbody>\n",
       "</table>\n",
       "<p>461 rows × 1 columns</p>\n",
       "</div>"
      ],
      "text/plain": [
       "                c1\n",
       "Рассада        175\n",
       "Сушилка        112\n",
       "Сумка-тележка   83\n",
       "томата          73\n",
       "Коврик          72\n",
       "...            ...\n",
       "Бадан            1\n",
       "Ель              1\n",
       "Антинакипин      1\n",
       "Наматрацник      1\n",
       "Ваза             1\n",
       "\n",
       "[461 rows x 1 columns]"
      ]
     },
     "execution_count": 72,
     "metadata": {},
     "output_type": "execute_result"
    }
   ],
   "source": [
    "products['c1'].value_counts().to_frame()"
   ]
  },
  {
   "cell_type": "code",
   "execution_count": 73,
   "metadata": {},
   "outputs": [
    {
     "data": {
      "text/html": [
       "<div>\n",
       "<style scoped>\n",
       "    .dataframe tbody tr th:only-of-type {\n",
       "        vertical-align: middle;\n",
       "    }\n",
       "\n",
       "    .dataframe tbody tr th {\n",
       "        vertical-align: top;\n",
       "    }\n",
       "\n",
       "    .dataframe thead th {\n",
       "        text-align: right;\n",
       "    }\n",
       "</style>\n",
       "<table border=\"1\" class=\"dataframe\">\n",
       "  <thead>\n",
       "    <tr style=\"text-align: right;\">\n",
       "      <th></th>\n",
       "      <th>c2</th>\n",
       "    </tr>\n",
       "  </thead>\n",
       "  <tbody>\n",
       "    <tr>\n",
       "      <th>Сушилка для</th>\n",
       "      <td>109</td>\n",
       "    </tr>\n",
       "    <tr>\n",
       "      <th>томата (помидор)</th>\n",
       "      <td>73</td>\n",
       "    </tr>\n",
       "    <tr>\n",
       "      <th>Гладильная доска</th>\n",
       "      <td>69</td>\n",
       "    </tr>\n",
       "    <tr>\n",
       "      <th>Рассада зелени</th>\n",
       "      <td>68</td>\n",
       "    </tr>\n",
       "    <tr>\n",
       "      <th>Сумка-тележка хозяйственная</th>\n",
       "      <td>60</td>\n",
       "    </tr>\n",
       "    <tr>\n",
       "      <th>...</th>\n",
       "      <td>...</td>\n",
       "    </tr>\n",
       "    <tr>\n",
       "      <th>Кондиционер для</th>\n",
       "      <td>1</td>\n",
       "    </tr>\n",
       "    <tr>\n",
       "      <th>Фиксатор-шар хром</th>\n",
       "      <td>1</td>\n",
       "    </tr>\n",
       "    <tr>\n",
       "      <th>Лопатка Attribute</th>\n",
       "      <td>1</td>\n",
       "    </tr>\n",
       "    <tr>\n",
       "      <th>Аквилегия махровая</th>\n",
       "      <td>1</td>\n",
       "    </tr>\n",
       "    <tr>\n",
       "      <th>Змееголовник молдавский</th>\n",
       "      <td>1</td>\n",
       "    </tr>\n",
       "  </tbody>\n",
       "</table>\n",
       "<p>933 rows × 1 columns</p>\n",
       "</div>"
      ],
      "text/plain": [
       "                              c2\n",
       "Сушилка для                  109\n",
       "томата (помидор)              73\n",
       "Гладильная доска              69\n",
       "Рассада зелени                68\n",
       "Сумка-тележка хозяйственная   60\n",
       "...                          ...\n",
       "Кондиционер для                1\n",
       "Фиксатор-шар хром              1\n",
       "Лопатка Attribute              1\n",
       "Аквилегия махровая             1\n",
       "Змееголовник молдавский        1\n",
       "\n",
       "[933 rows x 1 columns]"
      ]
     },
     "execution_count": 73,
     "metadata": {},
     "output_type": "execute_result"
    }
   ],
   "source": [
    "products['c2'].value_counts().to_frame()"
   ]
  },
  {
   "cell_type": "markdown",
   "metadata": {},
   "source": [
    "В колонке с первым словом из названия у нас получилось `461 группа` товаров, а во второй колонке - `933 группы`."
   ]
  },
  {
   "cell_type": "markdown",
   "metadata": {},
   "source": [
    "На первый взгляд, категории в первой колонке неплохо отражают тип товара и делят товары на меньшее количество групп. Воспользуемся для группировки первой колонкой."
   ]
  },
  {
   "cell_type": "markdown",
   "metadata": {},
   "source": [
    "Добавим в датасет с информацией о клиентах и содержимым заказов категории товаров."
   ]
  },
  {
   "cell_type": "code",
   "execution_count": 74,
   "metadata": {},
   "outputs": [],
   "source": [
    "clean_ecom_df = clean_ecom_df.merge(products[['product', 'c1']], on='product', how='left')"
   ]
  },
  {
   "cell_type": "markdown",
   "metadata": {},
   "source": [
    "Сгруппируем данные по клиентам и категориям товаров."
   ]
  },
  {
   "cell_type": "code",
   "execution_count": 75,
   "metadata": {},
   "outputs": [
    {
     "data": {
      "text/html": [
       "<div>\n",
       "<style scoped>\n",
       "    .dataframe tbody tr th:only-of-type {\n",
       "        vertical-align: middle;\n",
       "    }\n",
       "\n",
       "    .dataframe tbody tr th {\n",
       "        vertical-align: top;\n",
       "    }\n",
       "\n",
       "    .dataframe thead th {\n",
       "        text-align: right;\n",
       "    }\n",
       "</style>\n",
       "<table border=\"1\" class=\"dataframe\">\n",
       "  <thead>\n",
       "    <tr style=\"text-align: right;\">\n",
       "      <th></th>\n",
       "      <th>customer_id</th>\n",
       "      <th>c1</th>\n",
       "      <th>order_id</th>\n",
       "    </tr>\n",
       "  </thead>\n",
       "  <tbody>\n",
       "    <tr>\n",
       "      <th>0</th>\n",
       "      <td>d3b9ffea-d143-4747-8d59-74ab843d1ad6</td>\n",
       "      <td>томата</td>\n",
       "      <td>40</td>\n",
       "    </tr>\n",
       "    <tr>\n",
       "      <th>1</th>\n",
       "      <td>2a0acc09-e343-4f92-b5c0-f598ef2b07d4</td>\n",
       "      <td>томата</td>\n",
       "      <td>31</td>\n",
       "    </tr>\n",
       "    <tr>\n",
       "      <th>2</th>\n",
       "      <td>4f424a7c-3563-4316-b21f-1a65601226b2</td>\n",
       "      <td>Рассада</td>\n",
       "      <td>23</td>\n",
       "    </tr>\n",
       "    <tr>\n",
       "      <th>3</th>\n",
       "      <td>1d6c8c1f-a799-4418-9af2-1ded47d7a85c</td>\n",
       "      <td>Рассада</td>\n",
       "      <td>22</td>\n",
       "    </tr>\n",
       "    <tr>\n",
       "      <th>4</th>\n",
       "      <td>eb6521ae-56e3-4a72-9ea2-e9c69701ff3f</td>\n",
       "      <td>Пеларгония</td>\n",
       "      <td>21</td>\n",
       "    </tr>\n",
       "  </tbody>\n",
       "</table>\n",
       "</div>"
      ],
      "text/plain": [
       "                            customer_id          c1  order_id\n",
       "0  d3b9ffea-d143-4747-8d59-74ab843d1ad6      томата        40\n",
       "1  2a0acc09-e343-4f92-b5c0-f598ef2b07d4      томата        31\n",
       "2  4f424a7c-3563-4316-b21f-1a65601226b2     Рассада        23\n",
       "3  1d6c8c1f-a799-4418-9af2-1ded47d7a85c     Рассада        22\n",
       "4  eb6521ae-56e3-4a72-9ea2-e9c69701ff3f  Пеларгония        21"
      ]
     },
     "execution_count": 75,
     "metadata": {},
     "output_type": "execute_result"
    }
   ],
   "source": [
    "# группируем данные по клиентам и количеству купленных товаров по категориям\n",
    "customers_by_products = (\n",
    "    clean_ecom_df.groupby(['customer_id', 'c1'])['order_id']\n",
    "    .count()\n",
    "    .sort_values(ascending=False)\n",
    "    .to_frame()\n",
    "    .reset_index()\n",
    ")\n",
    "\n",
    "# оставляем самую первую категорию товаров для клиента\n",
    "customers_by_products = customers_by_products.drop_duplicates(subset='customer_id', keep='first')\n",
    "\n",
    "# выведем первые 5 строк таблицы\n",
    "customers_by_products.head(5)"
   ]
  },
  {
   "cell_type": "code",
   "execution_count": 76,
   "metadata": {},
   "outputs": [
    {
     "data": {
      "text/html": [
       "<div>\n",
       "<style scoped>\n",
       "    .dataframe tbody tr th:only-of-type {\n",
       "        vertical-align: middle;\n",
       "    }\n",
       "\n",
       "    .dataframe tbody tr th {\n",
       "        vertical-align: top;\n",
       "    }\n",
       "\n",
       "    .dataframe thead th {\n",
       "        text-align: right;\n",
       "    }\n",
       "</style>\n",
       "<table border=\"1\" class=\"dataframe\">\n",
       "  <thead>\n",
       "    <tr style=\"text-align: right;\">\n",
       "      <th></th>\n",
       "      <th>customer_id</th>\n",
       "      <th>first_order_dt</th>\n",
       "      <th>last_order_dt</th>\n",
       "      <th>orders_count</th>\n",
       "      <th>ltv</th>\n",
       "      <th>products_count</th>\n",
       "      <th>avg_bill</th>\n",
       "      <th>avg_bill_seg</th>\n",
       "      <th>orders_count_seg</th>\n",
       "      <th>days_from_last_order</th>\n",
       "      <th>months_from_last_order</th>\n",
       "      <th>product_category_cat</th>\n",
       "    </tr>\n",
       "  </thead>\n",
       "  <tbody>\n",
       "    <tr>\n",
       "      <th>0</th>\n",
       "      <td>000d6849-084e-4d9f-ac03-37174eaf60c4</td>\n",
       "      <td>2019-10-16 08:00:00</td>\n",
       "      <td>2019-10-16 08:00:00</td>\n",
       "      <td>1</td>\n",
       "      <td>555.0</td>\n",
       "      <td>4</td>\n",
       "      <td>555.0</td>\n",
       "      <td>200 - 700</td>\n",
       "      <td>&lt; 2</td>\n",
       "      <td>15</td>\n",
       "      <td>0</td>\n",
       "      <td>Пеларгония</td>\n",
       "    </tr>\n",
       "    <tr>\n",
       "      <th>1</th>\n",
       "      <td>001cee7f-0b29-4716-b202-0042213ab038</td>\n",
       "      <td>2019-02-16 11:00:00</td>\n",
       "      <td>2019-02-16 11:00:00</td>\n",
       "      <td>1</td>\n",
       "      <td>442.0</td>\n",
       "      <td>1</td>\n",
       "      <td>442.0</td>\n",
       "      <td>200 - 700</td>\n",
       "      <td>&lt; 2</td>\n",
       "      <td>257</td>\n",
       "      <td>9</td>\n",
       "      <td>Сушилка</td>\n",
       "    </tr>\n",
       "    <tr>\n",
       "      <th>2</th>\n",
       "      <td>00299f34-5385-4d13-9aea-c80b81658e1b</td>\n",
       "      <td>2019-10-14 23:00:00</td>\n",
       "      <td>2019-10-14 23:00:00</td>\n",
       "      <td>1</td>\n",
       "      <td>914.0</td>\n",
       "      <td>1</td>\n",
       "      <td>914.0</td>\n",
       "      <td>700 - 1500</td>\n",
       "      <td>&lt; 2</td>\n",
       "      <td>16</td>\n",
       "      <td>1</td>\n",
       "      <td>Ткань</td>\n",
       "    </tr>\n",
       "    <tr>\n",
       "      <th>3</th>\n",
       "      <td>002d4d3a-4a59-406b-86ec-c3314357e498</td>\n",
       "      <td>2019-01-27 17:00:00</td>\n",
       "      <td>2019-01-27 17:00:00</td>\n",
       "      <td>1</td>\n",
       "      <td>1649.0</td>\n",
       "      <td>1</td>\n",
       "      <td>1649.0</td>\n",
       "      <td>&gt; 1500</td>\n",
       "      <td>&lt; 2</td>\n",
       "      <td>276</td>\n",
       "      <td>9</td>\n",
       "      <td>Сумка-тележка</td>\n",
       "    </tr>\n",
       "    <tr>\n",
       "      <th>4</th>\n",
       "      <td>003bbd39-0000-41ff-b7f9-2ddaec152037</td>\n",
       "      <td>2019-09-29 17:00:00</td>\n",
       "      <td>2019-09-29 17:00:00</td>\n",
       "      <td>1</td>\n",
       "      <td>2324.0</td>\n",
       "      <td>1</td>\n",
       "      <td>2324.0</td>\n",
       "      <td>&gt; 1500</td>\n",
       "      <td>&lt; 2</td>\n",
       "      <td>31</td>\n",
       "      <td>1</td>\n",
       "      <td>Стеллаж</td>\n",
       "    </tr>\n",
       "  </tbody>\n",
       "</table>\n",
       "</div>"
      ],
      "text/plain": [
       "                            customer_id      first_order_dt       last_order_dt  orders_count     ltv  products_count  avg_bill avg_bill_seg orders_count_seg  days_from_last_order  months_from_last_order product_category_cat\n",
       "0  000d6849-084e-4d9f-ac03-37174eaf60c4 2019-10-16 08:00:00 2019-10-16 08:00:00             1   555.0               4     555.0    200 - 700              < 2                    15                       0           Пеларгония\n",
       "1  001cee7f-0b29-4716-b202-0042213ab038 2019-02-16 11:00:00 2019-02-16 11:00:00             1   442.0               1     442.0    200 - 700              < 2                   257                       9              Сушилка\n",
       "2  00299f34-5385-4d13-9aea-c80b81658e1b 2019-10-14 23:00:00 2019-10-14 23:00:00             1   914.0               1     914.0   700 - 1500              < 2                    16                       1                Ткань\n",
       "3  002d4d3a-4a59-406b-86ec-c3314357e498 2019-01-27 17:00:00 2019-01-27 17:00:00             1  1649.0               1    1649.0       > 1500              < 2                   276                       9        Сумка-тележка\n",
       "4  003bbd39-0000-41ff-b7f9-2ddaec152037 2019-09-29 17:00:00 2019-09-29 17:00:00             1  2324.0               1    2324.0       > 1500              < 2                    31                       1              Стеллаж"
      ]
     },
     "execution_count": 76,
     "metadata": {},
     "output_type": "execute_result"
    }
   ],
   "source": [
    "# объединим категории с итоговой таблицей по клиентам\n",
    "customers = customers.merge(customers_by_products[['customer_id', 'c1']], on='customer_id', how='left')\n",
    "\n",
    "# переименуем  каленкоу с категорией товара\n",
    "customers = customers.rename(columns={'c1': 'product_category_cat'})\n",
    "\n",
    "# выведем первые 5 строк таблицы\n",
    "customers.head(5)"
   ]
  },
  {
   "cell_type": "markdown",
   "metadata": {},
   "source": [
    "Посчитаем сколько категорий товаров у нас получилось в итоговой таблице."
   ]
  },
  {
   "cell_type": "code",
   "execution_count": 77,
   "metadata": {},
   "outputs": [
    {
     "data": {
      "text/plain": [
       "342"
      ]
     },
     "execution_count": 77,
     "metadata": {},
     "output_type": "execute_result"
    }
   ],
   "source": [
    "len(customers['product_category_cat'].unique())"
   ]
  },
  {
   "cell_type": "markdown",
   "metadata": {},
   "source": [
    "<a id=\"s7_1\"></a>"
   ]
  },
  {
   "cell_type": "markdown",
   "metadata": {},
   "source": [
    "### Выводы"
   ]
  },
  {
   "cell_type": "markdown",
   "metadata": {},
   "source": [
    "Была произведена категоризация клиентов по наиболее часто приобретаемым категориям товаров, что позволит создавать более таргетированные предложения, основанные на предпочтениях клиента и его истории покупок.  \n",
    "В результате клиенты были разделены на `342` категории товаров."
   ]
  },
  {
   "cell_type": "markdown",
   "metadata": {},
   "source": [
    "## Проверка гипотез"
   ]
  },
  {
   "cell_type": "markdown",
   "metadata": {},
   "source": [
    "По итогам исследования мы получили несколько разных вариантов сегментирования клиентов. Изучим насколько отличаются основные показатели внутри некоторых сегментов. Для этого проверим следующие гипотезы:\n",
    "1. **Средний чек клиентов, покупающих товары для дома, не равен среднему чеку клиентов, покупающих товары для сада.**\n",
    "2. **Среднее количество приобретаемых товаров в заказе различается среди сегментов клиентов, которые делали заказы менее 2 раз и тех, кто делал заказы 2 и более количество раз.**"
   ]
  },
  {
   "cell_type": "markdown",
   "metadata": {},
   "source": [
    "### Гипотеза №1. Средний чек клиентов, покупающих товары для дома, не равен среднему чеку клиентов, покупающих товары для сада"
   ]
  },
  {
   "cell_type": "markdown",
   "metadata": {},
   "source": [
    "Построим график для сравнения распределения значений двух выборок и изучим наличие сильных выбросов в них."
   ]
  },
  {
   "cell_type": "code",
   "execution_count": 78,
   "metadata": {},
   "outputs": [
    {
     "data": {
      "image/png": "[encoded data removed]",
      "text/plain": [
       "<Figure size 1152x288 with 1 Axes>"
      ]
     },
     "metadata": {
      "needs_background": "light"
     },
     "output_type": "display_data"
    }
   ],
   "source": [
    "# построим горизонтальный \"ящик с усами\" по каждому типу заказа\n",
    "g = sns.catplot(y='order_type', x='total_costs', kind=\"box\", data=orders, orient='h', palette = 'pastel')\n",
    "g.fig.set_figwidth(16)\n",
    "g.fig.set_figheight(4)\n",
    "plt.title('Распределение стоимости заказов по типам заказов')\n",
    "plt.xlabel('Стоимость заказа')\n",
    "plt.ylabel('Тип заказа')\n",
    "plt.show()"
   ]
  },
  {
   "cell_type": "markdown",
   "metadata": {},
   "source": [
    "Для заказов с товарами для дома мы видим сильные выбросы. Для корректного ссравнения выборок стоит изббавиться от сильных выбросов, которы оказывают влияние на среднее значение выборки."
   ]
  },
  {
   "cell_type": "markdown",
   "metadata": {},
   "source": [
    "Рассчитаем `95` и `99` перцентили для выборок, чтобы определить допустимые границы выбросов."
   ]
  },
  {
   "cell_type": "code",
   "execution_count": 79,
   "metadata": {},
   "outputs": [
    {
     "name": "stdout",
     "output_type": "stream",
     "text": [
      "home\n",
      "[4044.05 8166.67]\n",
      "garden\n",
      "[2775.25 4301.84]\n"
     ]
    }
   ],
   "source": [
    "# создадим список с интересующими перцентилями\n",
    "percentiles = [95, 99]\n",
    "\n",
    "# выведем перцентили для каждого типа заказа\n",
    "for order_type in ['home', 'garden']:\n",
    "    print(order_type)\n",
    "    print((\n",
    "        np.percentile(orders[orders['order_type'] == order_type]\n",
    "                      .groupby('order_id')['total_costs']\n",
    "                      .sum(), \n",
    "                      percentiles)\n",
    "    ))"
   ]
  },
  {
   "cell_type": "markdown",
   "metadata": {},
   "source": [
    "Мы получили значения, которые находятся на `95` и `99` перцентиле. Для сравнения выборок избавимся от выбросов, которые находятся выше `99` перцентиля при формировании сэмплов для теста."
   ]
  },
  {
   "cell_type": "markdown",
   "metadata": {},
   "source": [
    "Сформулируем нулевую и альтернативную гипотезы:<br>\n",
    "**H0**: Средний чек клиентов, покупающих товары для дома, равен среднему чеку клиентов, покупающих товары для сада<br>\n",
    "**H1**: Средний чек клиентов, покупающих товары для дома, не равен среднему чеку клиентов, покупающих товары для сада"
   ]
  },
  {
   "cell_type": "markdown",
   "metadata": {},
   "source": [
    "С помощью метода `ttest_ind()` проведем статистический анализ средних чеков для заказов с товарами для дома и для заказов с товарами для сада. Параметр `alpha` примем равным `0.05`."
   ]
  },
  {
   "cell_type": "code",
   "execution_count": 80,
   "metadata": {},
   "outputs": [
    {
     "name": "stdout",
     "output_type": "stream",
     "text": [
      "p-value равен: 0.141992535390697\n",
      "Не получилось отвергнуть нулевую гипотезу\n"
     ]
    }
   ],
   "source": [
    "# зададим уровень порога значимости alpha\n",
    "alpha = .05\n",
    "\n",
    "# сохраним выборки\n",
    "sample1 = (\n",
    "    orders[np.logical_and(orders['order_type'] == \"home\",\n",
    "                          orders['total_costs'] < 8166.67)]\n",
    "    .groupby('order_id')['total_costs']\n",
    "    .sum()\n",
    ")\n",
    "sample2 = (\n",
    "    orders[np.logical_and(orders['order_type'] == \"garden\",\n",
    "                          orders['total_costs'] < 4301.84)]\n",
    "    .groupby('order_id')['total_costs']\n",
    "    .sum()\n",
    ")\n",
    "\n",
    "# посчитаем значение p-value\n",
    "results = st.ttest_ind(sample1, sample2)\n",
    "\n",
    "# выведем полученное значение  p-value\n",
    "print('p-value равен: {}'.format(results.pvalue, 5))\n",
    "\n",
    "# выведем результат теста\n",
    "if (results.pvalue < alpha):\n",
    "    print(\"Отвергаем нулевую гипотезу\")\n",
    "else:\n",
    "    print(\"Не получилось отвергнуть нулевую гипотезу\")"
   ]
  },
  {
   "cell_type": "markdown",
   "metadata": {},
   "source": [
    "Мы не смогли получить статистически значимых различий между двумя выборками. Соотвтетсвенно, мы не можем принять нашу изначальную гипотезу о неравенстве средних чеков между заказами разных типов."
   ]
  },
  {
   "cell_type": "markdown",
   "metadata": {},
   "source": [
    "Выведем значение среднего чека по каждой выборке."
   ]
  },
  {
   "cell_type": "code",
   "execution_count": 81,
   "metadata": {},
   "outputs": [
    {
     "name": "stdout",
     "output_type": "stream",
     "text": [
      "Средний чек для заказов с товарами для дома: 1096.01\n",
      "Средний чек для заказов с товарами для сада: 984.63\n"
     ]
    }
   ],
   "source": [
    "print('Средний чек для заказов с товарами для дома: {}'.format(round(sample1.mean(), 2)))\n",
    "print('Средний чек для заказов с товарами для сада: {}'.format(round(sample2.mean(), 2)))"
   ]
  },
  {
   "cell_type": "markdown",
   "metadata": {},
   "source": [
    "Видно, что больших различий между средними чеками по типам заказов не присутствует, соответственно, у нас нет оснований считать, что средние чеки по типам заказов различаются."
   ]
  },
  {
   "cell_type": "markdown",
   "metadata": {},
   "source": [
    "### Гипотеза №2. Среднее количество приобретаемых товаров в заказе различается среди сегментов клиентов, которые делали заказы менее 2 раз и тех, кто делал заказы 2 и более количество раз"
   ]
  },
  {
   "cell_type": "markdown",
   "metadata": {},
   "source": [
    "Для проведения статистического анализа сравним распределения значений двух выборок по двум сегментам."
   ]
  },
  {
   "cell_type": "code",
   "execution_count": 82,
   "metadata": {},
   "outputs": [
    {
     "data": {
      "image/png": "[encoded data removed]",
      "text/plain": [
       "<Figure size 1152x288 with 1 Axes>"
      ]
     },
     "metadata": {
      "needs_background": "light"
     },
     "output_type": "display_data"
    }
   ],
   "source": [
    "# построим горизонтальный \"ящик с усами\" по каждому сегменту\n",
    "g = sns.catplot(y='orders_count_seg', x='products_count', kind=\"box\", data=customers, orient='h', palette = 'pastel')\n",
    "g.fig.set_figwidth(16)\n",
    "g.fig.set_figheight(4)\n",
    "plt.title('Распределение стоимости заказов по типам заказов')\n",
    "plt.xlabel('Стоимость заказа')\n",
    "plt.ylabel('Тип заказа')\n",
    "plt.show()"
   ]
  },
  {
   "cell_type": "markdown",
   "metadata": {},
   "source": [
    "На графиках видны сильные выбросы для обоих сегментов. Посчитаем перцентили."
   ]
  },
  {
   "cell_type": "code",
   "execution_count": 83,
   "metadata": {},
   "outputs": [
    {
     "name": "stdout",
     "output_type": "stream",
     "text": [
      "< 2\n",
      "[ 6. 15.]\n",
      "> 2\n",
      "[20.  36.9]\n"
     ]
    }
   ],
   "source": [
    "# создадим список с интересующими перцентилями\n",
    "percentiles = [95, 99]\n",
    "\n",
    "# выведем перцентили для каждого сегмента\n",
    "for segment in list(customers['orders_count_seg'].unique()):\n",
    "    print(segment)\n",
    "    print((\n",
    "        np.percentile(customers[customers['orders_count_seg'] == segment]\n",
    "                      .groupby('customer_id')['products_count']\n",
    "                      .mean(), \n",
    "                      percentiles)\n",
    "    ))"
   ]
  },
  {
   "cell_type": "markdown",
   "metadata": {},
   "source": [
    "Учтем полученные границы при формировании сэмплов для теста. Отбрасывать будем среднее количество товаров в заказе выше `99` перцентиля."
   ]
  },
  {
   "cell_type": "markdown",
   "metadata": {},
   "source": [
    "Сформулируем нулевую и альтернативную гипотезы:<br>\n",
    "**H0**: Среднее количество приобретаемых товаров в заказе равно среди сегментов клиентов, которые делали заказы менее 2 раз и тех, кто делал заказы 2 и более количество раз<br>\n",
    "**H1**: Среднее количество приобретаемых товаров в заказе не равно среди сегментов клиентов, которые делали заказы менее 2 раз и тех, кто делал заказы 2 и более количество раз"
   ]
  },
  {
   "cell_type": "markdown",
   "metadata": {},
   "source": [
    "С помощью метода `ttest_ind()` проведем статистический анализ среднего количества товаров в заказе между сегментами с клиентами, совершивших менее 2-х заказов, и клиентами, совершивших 2 и более заказа. Параметр `alpha` примем равным `0.05`."
   ]
  },
  {
   "cell_type": "code",
   "execution_count": 84,
   "metadata": {},
   "outputs": [
    {
     "name": "stdout",
     "output_type": "stream",
     "text": [
      "p-value равен: 1.0455364871466904e-58\n",
      "Отвергаем нулевую гипотезу\n"
     ]
    }
   ],
   "source": [
    "# зададим уровень порога значимости alpha\n",
    "alpha = .05\n",
    "\n",
    "# сохраним выборки\n",
    "sample1 = (\n",
    "    customers[np.logical_and(customers['orders_count_seg'] == \"< 2\",\n",
    "                          customers['products_count'] < 15)]\n",
    "    .groupby('customer_id')['products_count']\n",
    "    .mean()\n",
    ")\n",
    "sample2 = (\n",
    "    customers[np.logical_and(customers['orders_count_seg'] == \"> 2\",\n",
    "                          customers['products_count'] < 36)]\n",
    "    .groupby('customer_id')['products_count']\n",
    "    .mean()\n",
    ")\n",
    "\n",
    "# посчитаем значение p-value\n",
    "results = st.ttest_ind(sample1, sample2)\n",
    "\n",
    "# выведем полученное значение  p-value\n",
    "print('p-value равен: {}'.format(results.pvalue, 5))\n",
    "\n",
    "# выведем результат теста\n",
    "if (results.pvalue < alpha):\n",
    "    print(\"Отвергаем нулевую гипотезу\")\n",
    "else:\n",
    "    print(\"Не получилось отвергнуть нулевую гипотезу\")"
   ]
  },
  {
   "cell_type": "markdown",
   "metadata": {},
   "source": [
    "Мы получили слишком низкое значение `p-value`, поэтому мы отклоняем нулевую гипотезу и принимаем гипотезу о неравенстве среднего количества товаров в заказах между двумя сегментами."
   ]
  },
  {
   "cell_type": "markdown",
   "metadata": {},
   "source": [
    "Выведем средние значения выборок."
   ]
  },
  {
   "cell_type": "code",
   "execution_count": 85,
   "metadata": {},
   "outputs": [
    {
     "name": "stdout",
     "output_type": "stream",
     "text": [
      "Среднее количество товаров в заказе для клиентов, совершивших менее 2-х заказов: 1.5\n",
      "Среднее количество товаров в заказе для клиентов, совершивших 2 и более заказов: 4.54\n"
     ]
    }
   ],
   "source": [
    "print('Среднее количество товаров в заказе для клиентов, совершивших менее 2-х заказов: {}'.format(round(sample1.mean(), 2)))\n",
    "print('Среднее количество товаров в заказе для клиентов, совершивших 2 и более заказов: {}'.format(round(sample2.mean(), 2)))"
   ]
  },
  {
   "cell_type": "markdown",
   "metadata": {},
   "source": [
    "Видно, что средние значения сильно отличаются у двух сегментов. Клиенты с большим количеством товаров в заказе более склонны совершать повторные заказы в интернет-магазине."
   ]
  },
  {
   "cell_type": "markdown",
   "metadata": {},
   "source": [
    "<a id=\"s8_1\"></a>"
   ]
  },
  {
   "cell_type": "markdown",
   "metadata": {},
   "source": [
    "### Выводы"
   ]
  },
  {
   "cell_type": "markdown",
   "metadata": {},
   "source": [
    "На данном шаге мы изучили выборки, избавились от выбросов, сформулировали и проверили 2 гипотезы:\n",
    "- Гипотеза №1 была отклонена, т.к. мы не смогли получить статистических различий в среднем чеке между теми, кто приобретает товары для дома и теми, кто приобретает товары для сада.\n",
    "- Мы приняли гипотезу №2, т.к. получили статистически значимые различия в среднем количестве товаров в заказах между сегментами с клиентами, совершивших менее 2-х заказов, и клиентами, совершивших 2 и более заказа."
   ]
  },
  {
   "cell_type": "markdown",
   "metadata": {},
   "source": [
    "Исходя из полученных результатов можно сделать следующие выводы:\n",
    "- Нет оснований думать, что клиенты, которые покупают товары для дома приносят в среднем с заказа нам больше или меньше денег, чем клиенты, которые приобретают товары для сада.\n",
    "- С большой вероятностью мы можем полагать, что клиенты, которые совершают заказы, в среднем состоящие из 4-х единиц товара, более склонны к повторным покупкам в будущем."
   ]
  },
  {
   "cell_type": "markdown",
   "metadata": {},
   "source": [
    "## Итоговые выводы"
   ]
  },
  {
   "cell_type": "markdown",
   "metadata": {},
   "source": [
    "Изначально в датасете у нас имелось `6737` записей о заказанных товарах. После предобработки данных были выявленны дубли заказов, которые были с одним и тем же номером, но были зарегистрированы в разные дни. Так же были случаи когда один и тот же номер заказа был зарегистрирован для разных клиентов. По таким ситуациям неоходима дополнительная консультация с менеджерами интернет-магазина и  технической поддержкой, для выяснения причин возникновения таких ситуаций. В ходе анализа такие дубли были исключены из анализа, после чего в датасете осталось `4807` записей. После группировки данных по заказам мы получили новые дубли, в которых один и тот же заказ повторялся несколько раз и  при этом могло меняться содержимое заказа, а могло и оставаться неизменным. Их мы тоже убрали из исследования, но по таким случаям тоже необходима обратная связь от тех.поддержки.\n",
    "<br>\n",
    "<br>\n",
    "В датасете представлены данные о заказах оформленных с `1 октября 2018` по `31 октября 2019` года.\n",
    "<br>\n",
    "<br>\n",
    "Общее количество заказов в датасете составило `2755` штук, а количество покупателей - `2394` человек.\n",
    "<br>\n",
    "<br>\n",
    "Было выявлено, что заказы ID которых меньше `50000` относятся к заказам для тех, кто увлекается садоводством, а заказы с ID выше `50000` - к заказам для тех, кто покупает товары для дома.\n",
    "<br>\n",
    "Доля заказов товаров для садоводов составляет `9%` от общих продаж, а заказов для товаров для дома составляет `91%` от ощих продаж.\n",
    "<br>\n",
    "<br>\n",
    "В ходе исследовательского анализа была получена следующая информация:\n",
    "- Не менее `75%` содержимого заказов приобретается в размере `1` штуки.\n",
    "- Средняя цена единицы наименования из заказа составляет `514 руб`. Стоимость половины наименований из заказов не  превышает `150 руб`, а стоимость `75%` наименований не превышает `488 руб`.\n",
    "- `75%` заказов состоит из `1` товара. Наибольшее количество товаров в заказе равно `51`.\n",
    "- Более половины заказов состоит из `1` единицы товара.\n",
    "- Средняя стоимость заказа составляет `1478 руб`. Около половины заказов не превышает `680 руб`, а около `75%` заказов не превышает `1461 руб`.\n",
    "- Общий средний чек равен `1233 руб`. Средний чек для товаров для дома составил `1255 руб`., а для товаров для садоводов - `1051 руб`.\n",
    "- В среднем один клиент совершает `1.15` заказов за 13 месяцев. Садоводы делают чуть больше заказов - в среднем `1.17`, а те, кто покупает товары для дома `1.15` заказов за 13 месяцев."
   ]
  },
  {
   "cell_type": "markdown",
   "metadata": {},
   "source": [
    "С помощью графика мы изучили динамику заказов по месяцам. Исходя из графика продажи за год сильно упали с `351000 руб` до `206000 руб`.\n",
    "<br>\n",
    "Заметно сильное падение продаж в январе до `230000 руб`, после чего продажи немного выросли до `315000 руб` в апреле. С апреля же заметно стабильное падение продаж, что может быть связано с летним сезоном.<br>\n",
    "После изучения динамики продаж в разрезе типов заказов (\"товары для садоводов\" и \"товары для дома\") стало заметно, что увеличение продаж с апреля месяца связано с увеличением активности садоводов, т.к. в апреле-мае начинается сезон садоводства. По продаже товаров для дома заметен тренд спада продаж, что может быть связано с тем, что заметное увеличение роста продаж товаров для дома приходится на самый конец года, в период праздников.\n",
    "<br>\n",
    "<br>\n",
    "**Сегментация по среднему чеку**\n",
    "<br>\n",
    "В процессе исследования сегментации по среднему чеку клиентов были получены следующие данные:\n",
    "- `50%` клиентов имеют средний чек не более `674 руб`, а не более `75%` клиентов имеют средний чек менее `1457 руб`. \n",
    "- Максимальный размер среднего чека достигает `49432 руб`.\n",
    "\n",
    "Пользователи были разделены на следующие сегменты в зависимости от размера среднего чека:\n",
    "- сегмент со средним чеком менее `200 руб`;\n",
    "- сегмент со средним чеком от `200 до 700 руб`;\n",
    "- сегмент со средним чеком от `700 до 1500 руб`;\n",
    "- сегмент со средним чеком свыше `1500 руб`.\n",
    "\n",
    "В результате мы получили сегменты со следующим количеством клиентов:\n",
    "- сегмент `< 200` - 446 чел.\n",
    "- сегмент `200 - 700` - 774 чел.\n",
    "- сегмент `700 - 1500` - 597 чел.\n",
    "- сегмент `> 1500` - 576 чел.\n",
    "\n",
    "**Сегментация по частоте оформляемых заказов**\n",
    "<br>\n",
    "В процессе исследования сегментации по частоте оформляемых заказов были получены следующие данные:\n",
    "- Около `94%` пользователей совершили всего `1` заказ за `13 месяцев`.\n",
    "- Доля пользователей совершивших более `1` заказа за `13 месяцев` составляет не более `6%`.\n",
    "\n",
    "Пользователи были разделены на следующие сегменты:\n",
    "- 1 заказ (`< 2`)\n",
    "- от 2 и более заказов (`> 2`)\n",
    "\n",
    "В результате в каждом сегменте мы получили следующее количество пользователей:\n",
    "- `< 2` - 2238\n",
    "- `> 2` - 155\n",
    "\n",
    "**Сегментация по давности последнего оформленного заказа**\n",
    "<br>\n",
    "Исходя из данных за имеющийся период видно, что клиенты практически не возвращаются за покупками или же повторные покупки имеют сезонный характер.  \n",
    "Возможность разделить клиентов по давности покупки может позволить нам проводить стимулирующие маркетинговые мероприятия для увеличения повторных покупок.  \n",
    "На данном этапе можно в качестве сегментации по давности покупки использовать колонку с количеством месяцев прошедших с последней покупки, а после проведения маркетинговых мероприятий изучить необходимость более крупной сегментации по давности покупки.\n",
    "<br>\n",
    "<br>\n",
    "**Сегментация по кумулятивному доходу, полученному с покупателя**\n",
    "<br>\n",
    "Учитывая, что большинство клиентов совершили не более 1 заказа за имеющийся период в данных, то совокупный доход в целом будет равняться размеру чека. Мы получим те же сегменты, которые уже получили на шаге сегментирования по размеру чека.  \n",
    "Для качественного сегментирования по совокупному доходу желательно взять гораздо больший период.\n",
    "<br>\n",
    "<br>\n",
    "**Сегментация по категориям приобретаемых товаров**\n",
    "<br>\n",
    "Была произведена категоризация клиентов по наиболее часто приобретаемым категориям товаров, что позволит создавать более таргетированные предложения, основанные на предпочтениях клиента и его истории покупок.  \n",
    "В результате клиенты были разделены на `342` категории товаров."
   ]
  },
  {
   "cell_type": "markdown",
   "metadata": {},
   "source": [
    "**Проверка гипотез**\n",
    "<br>\n",
    "<br>\n",
    "В ходе исследования было сформулировано 2 гипотезы:\n",
    "1. **Средний чек клиентов, покупающих товары для дома, не равен среднему чеку клиентов, покупающих товары для сада.**\n",
    "2. **Среднее количество приобретаемых товаров в заказе различается среди сегментов клиентов, которые делали заказы менее 2 раз и тех, кто делал заказы 2 и более количество раз.**\n",
    "\n",
    "<br>\n",
    "После статистической проверки гипотез мы получили следующие результаты:\n",
    "- Гипотеза №1 была отклонена, т.к. мы не смогли получить статистических различий в среднем чеке между теми, кто приоббретает товары для дома и теми, кто приобретает товары для сада.\n",
    "- Мы приняли гипотезу №2, т.к. смогли получили статистически значимые различия в среднем количестве товаров в заказах между сегментами с клиентами, совершивших менее 2-х заказов, и клиентами, совершивших 2 и более заказа.\n",
    "\n",
    "\n",
    "Исходя из полученных результатов можно сделать следующие выводы:\n",
    "\n",
    "- Нет оснований думать, что клиенты, которые покупают товары для дома приносят в среднем с заказа нам больше или меньше денег, чем клиенты, которые приобретают товары для сада.\n",
    "- С большой вероятностью мы можем полагать, что клиенты, которые совершают заказы, в среднем состоящие из 4-х единиц товара, более склонны к повторным покупкам в будущем."
   ]
  },
  {
   "cell_type": "markdown",
   "metadata": {},
   "source": [
    "### Рекомендации <a id=\"s9_1\"></a>"
   ]
  },
  {
   "cell_type": "markdown",
   "metadata": {},
   "source": [
    "На основании полученных сегментов рекомендуется провести стимулирующие маркетинговые мероприятия с целью увеличения повторных покупок клиентами, уже совершавшими хотя бы одну покупку в интернет-магазине.\n",
    "<br>\n",
    "<br>\n",
    "В полученной итоговой таблице с клиентами мы имеем возможность сегментировать их по количеству совершенных покупок, что позволит проводить e-mail рассылки с акционными и индивидуальными предложениями для стимуляции к повторной покупке. С помощью сегментов часто покупаемых категорий товаров можно акционные предложения делать более таргетированными. Дополнительно можно изучить категории допродаж и сопутствующих товаров, чтобы предлагать новый ассортимент на основе старых покупок.\n",
    "<br>\n",
    "<br>\n",
    "Помимо стимулирующих мероприятий можно проводить мероприятия по увеличению лояльности, предлагать специальные выгодные предложения для тех, кто оформлял заказы более 2-3 раз в интернет-магазине.\n",
    "<br>\n",
    "<br>\n",
    "У нас имеется сегментация по давности последней покупки, что позволяет нам делать рассылки с целью напомнить о себе и об актуальных акционных предложениях интернет-магазина.\n",
    "<br>\n",
    "<br>\n",
    "Сегментация по среднему чеку позволит нам предлагать сопутствующие товары для клиентов с низким средним чеком, что позволит влиять на увеличение общего среднего чека."
   ]
  }
 ],
 "metadata": {
  "ExecuteTimeLog": [
   {
    "duration": 1292,
    "start_time": "2022-07-04T12:32:35.911Z"
   },
   {
    "duration": 3,
    "start_time": "2022-07-04T12:33:01.951Z"
   },
   {
    "duration": 136,
    "start_time": "2022-07-04T12:34:03.447Z"
   },
   {
    "duration": 38,
    "start_time": "2022-07-04T12:34:12.596Z"
   },
   {
    "duration": 45,
    "start_time": "2022-07-04T12:34:19.575Z"
   },
   {
    "duration": 1336,
    "start_time": "2022-07-04T12:35:19.159Z"
   },
   {
    "duration": 9,
    "start_time": "2022-07-04T12:36:58.528Z"
   },
   {
    "duration": 1367,
    "start_time": "2022-07-04T12:37:25.041Z"
   },
   {
    "duration": 1249,
    "start_time": "2022-07-04T12:37:39.443Z"
   },
   {
    "duration": 1076,
    "start_time": "2022-07-04T12:38:06.747Z"
   },
   {
    "duration": 1038,
    "start_time": "2022-07-04T12:38:18.498Z"
   },
   {
    "duration": 1381,
    "start_time": "2022-07-04T12:38:55.718Z"
   },
   {
    "duration": 1505,
    "start_time": "2022-07-04T12:39:01.441Z"
   },
   {
    "duration": 46,
    "start_time": "2022-07-04T12:41:33.503Z"
   },
   {
    "duration": 42,
    "start_time": "2022-07-04T12:41:50.823Z"
   },
   {
    "duration": 9,
    "start_time": "2022-07-04T12:42:41.462Z"
   },
   {
    "duration": 16,
    "start_time": "2022-07-04T12:42:46.269Z"
   },
   {
    "duration": 11,
    "start_time": "2022-07-04T12:42:51.864Z"
   },
   {
    "duration": 9,
    "start_time": "2022-07-04T12:42:57.972Z"
   },
   {
    "duration": 35,
    "start_time": "2022-07-04T12:43:02.406Z"
   },
   {
    "duration": 28,
    "start_time": "2022-07-04T12:43:12.078Z"
   },
   {
    "duration": 14,
    "start_time": "2022-07-04T12:43:16.066Z"
   },
   {
    "duration": 8,
    "start_time": "2022-07-04T12:43:28.561Z"
   },
   {
    "duration": 11,
    "start_time": "2022-07-04T12:43:31.502Z"
   },
   {
    "duration": 6,
    "start_time": "2022-07-04T12:43:34.752Z"
   },
   {
    "duration": 5,
    "start_time": "2022-07-04T12:43:54.088Z"
   },
   {
    "duration": 15,
    "start_time": "2022-07-04T12:44:02.946Z"
   },
   {
    "duration": 32,
    "start_time": "2022-07-04T12:44:12.218Z"
   },
   {
    "duration": 15,
    "start_time": "2022-07-04T12:44:16.199Z"
   },
   {
    "duration": 5,
    "start_time": "2022-07-04T12:44:19.156Z"
   },
   {
    "duration": 9,
    "start_time": "2022-07-04T12:44:32.579Z"
   },
   {
    "duration": 9,
    "start_time": "2022-07-04T12:44:39.352Z"
   },
   {
    "duration": 34,
    "start_time": "2022-07-04T12:44:41.607Z"
   },
   {
    "duration": 3,
    "start_time": "2022-07-04T12:48:09.378Z"
   },
   {
    "duration": 37,
    "start_time": "2022-07-04T12:48:11.424Z"
   },
   {
    "duration": 446,
    "start_time": "2022-07-04T12:48:16.718Z"
   },
   {
    "duration": 9,
    "start_time": "2022-07-04T12:48:21.750Z"
   },
   {
    "duration": 4,
    "start_time": "2022-07-04T12:48:33.523Z"
   },
   {
    "duration": 11,
    "start_time": "2022-07-04T12:49:07.082Z"
   },
   {
    "duration": 9,
    "start_time": "2022-07-04T12:49:20.252Z"
   },
   {
    "duration": 9,
    "start_time": "2022-07-04T12:49:31.944Z"
   },
   {
    "duration": 74,
    "start_time": "2022-07-04T12:49:40.757Z"
   },
   {
    "duration": 642,
    "start_time": "2022-07-04T12:50:03.972Z"
   },
   {
    "duration": 19,
    "start_time": "2022-07-04T12:50:06.499Z"
   },
   {
    "duration": 1287,
    "start_time": "2022-07-04T12:52:19.177Z"
   },
   {
    "duration": 14,
    "start_time": "2022-07-04T12:52:20.466Z"
   },
   {
    "duration": 717,
    "start_time": "2022-07-04T12:52:46.228Z"
   },
   {
    "duration": 183,
    "start_time": "2022-07-04T12:53:14.022Z"
   },
   {
    "duration": 15,
    "start_time": "2022-07-04T12:53:47.075Z"
   },
   {
    "duration": 12,
    "start_time": "2022-07-04T12:55:02.237Z"
   },
   {
    "duration": 10,
    "start_time": "2022-07-04T12:57:05.742Z"
   },
   {
    "duration": 9,
    "start_time": "2022-07-04T12:57:18.634Z"
   },
   {
    "duration": 9,
    "start_time": "2022-07-04T12:57:22.046Z"
   },
   {
    "duration": 9,
    "start_time": "2022-07-04T13:02:18.603Z"
   },
   {
    "duration": 10,
    "start_time": "2022-07-04T13:04:45.831Z"
   },
   {
    "duration": 8,
    "start_time": "2022-07-04T13:06:04.451Z"
   },
   {
    "duration": 6,
    "start_time": "2022-07-04T13:06:36.473Z"
   },
   {
    "duration": 7,
    "start_time": "2022-07-04T13:06:42.752Z"
   },
   {
    "duration": 7,
    "start_time": "2022-07-04T13:06:48.080Z"
   },
   {
    "duration": 6,
    "start_time": "2022-07-04T13:06:54.049Z"
   },
   {
    "duration": 7,
    "start_time": "2022-07-04T13:06:58.546Z"
   },
   {
    "duration": 9,
    "start_time": "2022-07-04T13:12:03.895Z"
   },
   {
    "duration": 14,
    "start_time": "2022-07-04T13:14:27.569Z"
   },
   {
    "duration": 10,
    "start_time": "2022-07-04T13:15:30.374Z"
   },
   {
    "duration": 9,
    "start_time": "2022-07-04T13:16:55.938Z"
   },
   {
    "duration": 9,
    "start_time": "2022-07-04T13:17:10.938Z"
   },
   {
    "duration": 11,
    "start_time": "2022-07-04T13:17:23.127Z"
   },
   {
    "duration": 8,
    "start_time": "2022-07-04T13:19:14.092Z"
   },
   {
    "duration": 8,
    "start_time": "2022-07-04T13:21:53.498Z"
   },
   {
    "duration": 6,
    "start_time": "2022-07-04T13:22:16.661Z"
   },
   {
    "duration": 7,
    "start_time": "2022-07-04T13:22:26.983Z"
   },
   {
    "duration": 18,
    "start_time": "2022-07-04T13:22:56.106Z"
   },
   {
    "duration": 8,
    "start_time": "2022-07-04T13:23:36.187Z"
   },
   {
    "duration": 11,
    "start_time": "2022-07-04T13:23:41.809Z"
   },
   {
    "duration": 10,
    "start_time": "2022-07-04T13:24:25.022Z"
   },
   {
    "duration": 16,
    "start_time": "2022-07-04T13:26:49.780Z"
   },
   {
    "duration": 31,
    "start_time": "2022-07-04T13:27:10.833Z"
   },
   {
    "duration": 19,
    "start_time": "2022-07-04T13:27:22.845Z"
   },
   {
    "duration": 11,
    "start_time": "2022-07-04T13:27:26.992Z"
   },
   {
    "duration": 74,
    "start_time": "2022-07-04T13:27:29.685Z"
   },
   {
    "duration": 20,
    "start_time": "2022-07-04T13:27:32.577Z"
   },
   {
    "duration": 18,
    "start_time": "2022-07-04T13:27:53.087Z"
   },
   {
    "duration": 15,
    "start_time": "2022-07-04T13:28:32.516Z"
   },
   {
    "duration": 20,
    "start_time": "2022-07-04T13:30:00.867Z"
   },
   {
    "duration": 10,
    "start_time": "2022-07-04T13:31:29.561Z"
   },
   {
    "duration": 266,
    "start_time": "2022-07-04T13:46:42.472Z"
   },
   {
    "duration": 337,
    "start_time": "2022-07-04T13:46:49.074Z"
   },
   {
    "duration": 413,
    "start_time": "2022-07-04T13:47:04.404Z"
   },
   {
    "duration": 250,
    "start_time": "2022-07-04T13:47:27.063Z"
   },
   {
    "duration": 262,
    "start_time": "2022-07-04T13:47:32.949Z"
   },
   {
    "duration": 367,
    "start_time": "2022-07-04T13:47:54.369Z"
   },
   {
    "duration": 354,
    "start_time": "2022-07-04T13:48:35.433Z"
   },
   {
    "duration": 260,
    "start_time": "2022-07-04T13:49:48.146Z"
   },
   {
    "duration": 18094,
    "start_time": "2022-07-04T13:51:39.591Z"
   },
   {
    "duration": 5,
    "start_time": "2022-07-04T13:53:14.265Z"
   },
   {
    "duration": 7,
    "start_time": "2022-07-04T13:53:21.265Z"
   },
   {
    "duration": 143,
    "start_time": "2022-07-04T13:53:32.180Z"
   },
   {
    "duration": 21,
    "start_time": "2022-07-04T13:54:33.371Z"
   },
   {
    "duration": 18,
    "start_time": "2022-07-04T13:54:44.365Z"
   },
   {
    "duration": 12,
    "start_time": "2022-07-04T13:55:09.031Z"
   },
   {
    "duration": 12,
    "start_time": "2022-07-04T13:55:22.041Z"
   },
   {
    "duration": 136,
    "start_time": "2022-07-04T13:55:50.870Z"
   },
   {
    "duration": 399,
    "start_time": "2022-07-04T13:55:59.062Z"
   },
   {
    "duration": 193,
    "start_time": "2022-07-04T13:56:25.257Z"
   },
   {
    "duration": 241,
    "start_time": "2022-07-04T13:56:29.004Z"
   },
   {
    "duration": 199,
    "start_time": "2022-07-04T13:56:38.782Z"
   },
   {
    "duration": 288,
    "start_time": "2022-07-04T13:56:45.217Z"
   },
   {
    "duration": 275,
    "start_time": "2022-07-04T13:57:01.791Z"
   },
   {
    "duration": 330,
    "start_time": "2022-07-04T13:57:24.389Z"
   },
   {
    "duration": 435,
    "start_time": "2022-07-04T13:57:41.843Z"
   },
   {
    "duration": 288,
    "start_time": "2022-07-04T13:57:49.529Z"
   },
   {
    "duration": 228,
    "start_time": "2022-07-04T13:57:50.980Z"
   },
   {
    "duration": 300,
    "start_time": "2022-07-04T13:57:53.696Z"
   },
   {
    "duration": 292,
    "start_time": "2022-07-04T13:58:03.345Z"
   },
   {
    "duration": 264,
    "start_time": "2022-07-04T13:58:24.100Z"
   },
   {
    "duration": 369,
    "start_time": "2022-07-04T13:58:40.783Z"
   },
   {
    "duration": 266,
    "start_time": "2022-07-04T13:58:52.000Z"
   },
   {
    "duration": 245,
    "start_time": "2022-07-04T13:59:30.734Z"
   },
   {
    "duration": 230,
    "start_time": "2022-07-04T13:59:32.662Z"
   },
   {
    "duration": 282,
    "start_time": "2022-07-04T13:59:37.488Z"
   },
   {
    "duration": 53,
    "start_time": "2022-07-04T14:00:14.462Z"
   },
   {
    "duration": 415,
    "start_time": "2022-07-04T14:00:18.952Z"
   },
   {
    "duration": 24,
    "start_time": "2022-07-04T14:03:09.067Z"
   },
   {
    "duration": 13,
    "start_time": "2022-07-04T14:03:27.115Z"
   },
   {
    "duration": 9,
    "start_time": "2022-07-04T14:03:57.061Z"
   },
   {
    "duration": 18,
    "start_time": "2022-07-04T14:04:17.611Z"
   },
   {
    "duration": 6,
    "start_time": "2022-07-04T14:08:55.689Z"
   },
   {
    "duration": 9,
    "start_time": "2022-07-04T14:09:02.730Z"
   },
   {
    "duration": 9,
    "start_time": "2022-07-04T14:09:13.746Z"
   },
   {
    "duration": 4,
    "start_time": "2022-07-04T14:09:28.518Z"
   },
   {
    "duration": 6550,
    "start_time": "2022-07-04T14:10:31.932Z"
   },
   {
    "duration": 10593,
    "start_time": "2022-07-04T14:10:52.461Z"
   },
   {
    "duration": 20,
    "start_time": "2022-07-04T14:11:53.929Z"
   },
   {
    "duration": 16024,
    "start_time": "2022-07-04T14:12:02.190Z"
   },
   {
    "duration": 11,
    "start_time": "2022-07-04T14:12:43.233Z"
   },
   {
    "duration": 8,
    "start_time": "2022-07-04T14:12:58.533Z"
   },
   {
    "duration": 1537,
    "start_time": "2022-07-04T16:27:05.157Z"
   },
   {
    "duration": 248,
    "start_time": "2022-07-04T16:27:06.698Z"
   },
   {
    "duration": 420,
    "start_time": "2022-07-04T16:27:06.948Z"
   },
   {
    "duration": 15,
    "start_time": "2022-07-04T16:27:07.371Z"
   },
   {
    "duration": 7,
    "start_time": "2022-07-04T16:27:07.387Z"
   },
   {
    "duration": 44,
    "start_time": "2022-07-04T16:27:07.396Z"
   },
   {
    "duration": 15,
    "start_time": "2022-07-04T16:27:07.446Z"
   },
   {
    "duration": 10,
    "start_time": "2022-07-04T16:27:07.463Z"
   },
   {
    "duration": 9,
    "start_time": "2022-07-04T16:27:07.475Z"
   },
   {
    "duration": 9,
    "start_time": "2022-07-04T16:27:07.487Z"
   },
   {
    "duration": 11,
    "start_time": "2022-07-04T16:27:07.497Z"
   },
   {
    "duration": 24,
    "start_time": "2022-07-04T16:27:07.533Z"
   },
   {
    "duration": 15,
    "start_time": "2022-07-04T16:27:07.559Z"
   },
   {
    "duration": 22,
    "start_time": "2022-07-04T16:27:07.576Z"
   },
   {
    "duration": 16388,
    "start_time": "2022-07-04T16:27:07.600Z"
   },
   {
    "duration": 185,
    "start_time": "2022-07-04T16:27:23.990Z"
   },
   {
    "duration": 347,
    "start_time": "2022-07-04T16:27:24.177Z"
   },
   {
    "duration": 262,
    "start_time": "2022-07-04T16:27:24.526Z"
   },
   {
    "duration": 7,
    "start_time": "2022-07-04T16:27:24.789Z"
   },
   {
    "duration": 11,
    "start_time": "2022-07-04T16:27:24.798Z"
   },
   {
    "duration": 26,
    "start_time": "2022-07-04T16:27:24.811Z"
   },
   {
    "duration": 13,
    "start_time": "2022-07-04T16:27:24.844Z"
   },
   {
    "duration": 8,
    "start_time": "2022-07-04T16:28:42.769Z"
   },
   {
    "duration": 10,
    "start_time": "2022-07-04T16:29:00.084Z"
   },
   {
    "duration": 7,
    "start_time": "2022-07-04T16:31:34.058Z"
   },
   {
    "duration": 13,
    "start_time": "2022-07-04T16:31:56.215Z"
   },
   {
    "duration": 7,
    "start_time": "2022-07-04T16:32:38.872Z"
   },
   {
    "duration": 12,
    "start_time": "2022-07-04T16:32:44.670Z"
   },
   {
    "duration": 14,
    "start_time": "2022-07-04T16:33:07.156Z"
   },
   {
    "duration": 10,
    "start_time": "2022-07-04T16:33:16.492Z"
   },
   {
    "duration": 9,
    "start_time": "2022-07-04T16:33:22.971Z"
   },
   {
    "duration": 10,
    "start_time": "2022-07-04T16:34:05.051Z"
   },
   {
    "duration": 23,
    "start_time": "2022-07-04T16:34:51.186Z"
   },
   {
    "duration": 4,
    "start_time": "2022-07-04T16:35:22.775Z"
   },
   {
    "duration": 4,
    "start_time": "2022-07-04T16:35:40.162Z"
   },
   {
    "duration": 26,
    "start_time": "2022-07-04T16:36:00.222Z"
   },
   {
    "duration": 22,
    "start_time": "2022-07-04T16:36:07.520Z"
   },
   {
    "duration": 11,
    "start_time": "2022-07-04T16:36:24.955Z"
   },
   {
    "duration": 11,
    "start_time": "2022-07-04T16:37:14.204Z"
   },
   {
    "duration": 1900,
    "start_time": "2022-07-04T16:38:39.564Z"
   },
   {
    "duration": 23,
    "start_time": "2022-07-04T16:38:49.088Z"
   },
   {
    "duration": 25,
    "start_time": "2022-07-04T16:40:25.721Z"
   },
   {
    "duration": 10,
    "start_time": "2022-07-04T16:41:20.566Z"
   },
   {
    "duration": 32,
    "start_time": "2022-07-04T16:42:01.468Z"
   },
   {
    "duration": 26,
    "start_time": "2022-07-04T16:43:42.724Z"
   },
   {
    "duration": 3,
    "start_time": "2022-07-04T16:46:58.283Z"
   },
   {
    "duration": 430,
    "start_time": "2022-07-04T16:47:01.364Z"
   },
   {
    "duration": 10,
    "start_time": "2022-07-04T16:47:15.396Z"
   },
   {
    "duration": 3,
    "start_time": "2022-07-04T16:47:22.718Z"
   },
   {
    "duration": 3,
    "start_time": "2022-07-04T16:47:24.199Z"
   },
   {
    "duration": 306,
    "start_time": "2022-07-04T16:47:26.852Z"
   },
   {
    "duration": 4,
    "start_time": "2022-07-04T16:48:17.204Z"
   },
   {
    "duration": 407,
    "start_time": "2022-07-04T16:48:20.451Z"
   },
   {
    "duration": 13,
    "start_time": "2022-07-04T16:48:26.542Z"
   },
   {
    "duration": 27,
    "start_time": "2022-07-04T16:48:32.231Z"
   },
   {
    "duration": 3,
    "start_time": "2022-07-04T16:48:45.064Z"
   },
   {
    "duration": 3,
    "start_time": "2022-07-04T16:48:57.753Z"
   },
   {
    "duration": 4,
    "start_time": "2022-07-04T16:49:07.499Z"
   },
   {
    "duration": 1118,
    "start_time": "2022-07-04T16:49:18.367Z"
   },
   {
    "duration": 269,
    "start_time": "2022-07-04T16:49:19.487Z"
   },
   {
    "duration": 289,
    "start_time": "2022-07-04T16:49:19.758Z"
   },
   {
    "duration": 13,
    "start_time": "2022-07-04T16:49:20.052Z"
   },
   {
    "duration": 10,
    "start_time": "2022-07-04T16:49:20.067Z"
   },
   {
    "duration": 16,
    "start_time": "2022-07-04T16:49:20.079Z"
   },
   {
    "duration": 11,
    "start_time": "2022-07-04T16:49:20.096Z"
   },
   {
    "duration": 10,
    "start_time": "2022-07-04T16:49:20.108Z"
   },
   {
    "duration": 19,
    "start_time": "2022-07-04T16:49:20.120Z"
   },
   {
    "duration": 9,
    "start_time": "2022-07-04T16:49:20.142Z"
   },
   {
    "duration": 24,
    "start_time": "2022-07-04T16:49:20.152Z"
   },
   {
    "duration": 9,
    "start_time": "2022-07-04T16:49:20.178Z"
   },
   {
    "duration": 9,
    "start_time": "2022-07-04T16:49:20.188Z"
   },
   {
    "duration": 9,
    "start_time": "2022-07-04T16:49:23.058Z"
   },
   {
    "duration": 19,
    "start_time": "2022-07-04T16:49:24.095Z"
   },
   {
    "duration": 16,
    "start_time": "2022-07-04T16:52:23.695Z"
   },
   {
    "duration": 157,
    "start_time": "2022-07-04T16:52:46.156Z"
   },
   {
    "duration": 13,
    "start_time": "2022-07-04T16:52:52.220Z"
   },
   {
    "duration": 15,
    "start_time": "2022-07-04T16:54:04.606Z"
   },
   {
    "duration": 20,
    "start_time": "2022-07-04T16:54:35.815Z"
   },
   {
    "duration": 11,
    "start_time": "2022-07-04T16:54:54.908Z"
   },
   {
    "duration": 14,
    "start_time": "2022-07-04T16:56:06.872Z"
   },
   {
    "duration": 12,
    "start_time": "2022-07-04T16:56:14.786Z"
   },
   {
    "duration": 17,
    "start_time": "2022-07-04T16:57:02.337Z"
   },
   {
    "duration": 5,
    "start_time": "2022-07-04T16:58:02.552Z"
   },
   {
    "duration": 10,
    "start_time": "2022-07-04T16:58:08.024Z"
   },
   {
    "duration": 16,
    "start_time": "2022-07-04T16:58:16.497Z"
   },
   {
    "duration": 35,
    "start_time": "2022-07-04T16:58:35.923Z"
   },
   {
    "duration": 6,
    "start_time": "2022-07-04T16:59:26.977Z"
   },
   {
    "duration": 16,
    "start_time": "2022-07-04T16:59:30.863Z"
   },
   {
    "duration": 15,
    "start_time": "2022-07-04T16:59:41.788Z"
   },
   {
    "duration": 15,
    "start_time": "2022-07-04T16:59:43.782Z"
   },
   {
    "duration": 36,
    "start_time": "2022-07-04T17:00:36.424Z"
   },
   {
    "duration": 35,
    "start_time": "2022-07-04T17:00:48.729Z"
   },
   {
    "duration": 5,
    "start_time": "2022-07-04T17:01:17.053Z"
   },
   {
    "duration": 11,
    "start_time": "2022-07-04T17:01:20.770Z"
   },
   {
    "duration": 4,
    "start_time": "2022-07-04T17:01:28.780Z"
   },
   {
    "duration": 18,
    "start_time": "2022-07-04T17:01:56.176Z"
   },
   {
    "duration": 5,
    "start_time": "2022-07-04T17:02:08.586Z"
   },
   {
    "duration": 10,
    "start_time": "2022-07-04T17:05:44.678Z"
   },
   {
    "duration": 25,
    "start_time": "2022-07-04T17:05:50.217Z"
   },
   {
    "duration": 5,
    "start_time": "2022-07-04T17:09:23.009Z"
   },
   {
    "duration": 23,
    "start_time": "2022-07-04T17:14:52.628Z"
   },
   {
    "duration": 8,
    "start_time": "2022-07-04T17:15:08.057Z"
   },
   {
    "duration": 15,
    "start_time": "2022-07-04T17:15:40.374Z"
   },
   {
    "duration": 24,
    "start_time": "2022-07-04T17:15:47.528Z"
   },
   {
    "duration": 11,
    "start_time": "2022-07-04T17:16:41.745Z"
   },
   {
    "duration": 15,
    "start_time": "2022-07-04T17:17:16.085Z"
   },
   {
    "duration": 17,
    "start_time": "2022-07-04T17:17:24.446Z"
   },
   {
    "duration": 27,
    "start_time": "2022-07-04T17:17:39.799Z"
   },
   {
    "duration": 12970,
    "start_time": "2022-07-04T17:17:57.192Z"
   },
   {
    "duration": 186,
    "start_time": "2022-07-04T17:18:21.306Z"
   },
   {
    "duration": 142,
    "start_time": "2022-07-04T17:18:47.315Z"
   },
   {
    "duration": 157,
    "start_time": "2022-07-04T17:19:03.066Z"
   },
   {
    "duration": 8,
    "start_time": "2022-07-04T17:19:14.600Z"
   },
   {
    "duration": 222,
    "start_time": "2022-07-04T17:19:23.405Z"
   },
   {
    "duration": 122,
    "start_time": "2022-07-04T17:19:38.468Z"
   },
   {
    "duration": 127,
    "start_time": "2022-07-04T17:19:43.291Z"
   },
   {
    "duration": 256,
    "start_time": "2022-07-04T17:22:12.046Z"
   },
   {
    "duration": 341,
    "start_time": "2022-07-04T17:22:26.860Z"
   },
   {
    "duration": 248,
    "start_time": "2022-07-04T17:22:35.891Z"
   },
   {
    "duration": 268,
    "start_time": "2022-07-04T17:22:49.987Z"
   },
   {
    "duration": 198,
    "start_time": "2022-07-04T17:23:06.612Z"
   },
   {
    "duration": 155,
    "start_time": "2022-07-04T17:23:38.719Z"
   },
   {
    "duration": 147,
    "start_time": "2022-07-04T17:23:43.757Z"
   },
   {
    "duration": 210,
    "start_time": "2022-07-04T17:23:51.102Z"
   },
   {
    "duration": 19,
    "start_time": "2022-07-04T17:27:29.958Z"
   },
   {
    "duration": 26,
    "start_time": "2022-07-04T17:28:35.214Z"
   },
   {
    "duration": 22,
    "start_time": "2022-07-04T17:29:06.076Z"
   },
   {
    "duration": 25,
    "start_time": "2022-07-04T17:29:32.913Z"
   },
   {
    "duration": 19,
    "start_time": "2022-07-04T17:29:36.928Z"
   },
   {
    "duration": 11,
    "start_time": "2022-07-04T17:29:43.858Z"
   },
   {
    "duration": 10,
    "start_time": "2022-07-04T17:29:51.099Z"
   },
   {
    "duration": 30,
    "start_time": "2022-07-04T17:29:54.517Z"
   },
   {
    "duration": 11,
    "start_time": "2022-07-04T17:30:05.200Z"
   },
   {
    "duration": 11,
    "start_time": "2022-07-04T17:30:11.184Z"
   },
   {
    "duration": 11,
    "start_time": "2022-07-04T17:30:15.188Z"
   },
   {
    "duration": 102,
    "start_time": "2022-07-04T17:30:18.891Z"
   },
   {
    "duration": 12,
    "start_time": "2022-07-04T17:30:25.421Z"
   },
   {
    "duration": 16,
    "start_time": "2022-07-04T17:31:01.285Z"
   },
   {
    "duration": 16,
    "start_time": "2022-07-04T17:31:13.473Z"
   },
   {
    "duration": 11,
    "start_time": "2022-07-04T17:31:29.261Z"
   },
   {
    "duration": 28,
    "start_time": "2022-07-04T17:32:27.509Z"
   },
   {
    "duration": 37,
    "start_time": "2022-07-04T17:32:34.225Z"
   },
   {
    "duration": 8,
    "start_time": "2022-07-04T17:32:43.688Z"
   },
   {
    "duration": 12,
    "start_time": "2022-07-04T17:33:02.727Z"
   },
   {
    "duration": 11,
    "start_time": "2022-07-04T17:33:29.352Z"
   },
   {
    "duration": 10,
    "start_time": "2022-07-04T17:35:40.298Z"
   },
   {
    "duration": 8,
    "start_time": "2022-07-04T17:35:46.568Z"
   },
   {
    "duration": 1216,
    "start_time": "2022-07-04T17:36:02.146Z"
   },
   {
    "duration": 269,
    "start_time": "2022-07-04T17:36:03.364Z"
   },
   {
    "duration": 520,
    "start_time": "2022-07-04T17:36:03.635Z"
   },
   {
    "duration": 12,
    "start_time": "2022-07-04T17:36:04.157Z"
   },
   {
    "duration": 7,
    "start_time": "2022-07-04T17:36:04.171Z"
   },
   {
    "duration": 13,
    "start_time": "2022-07-04T17:36:04.179Z"
   },
   {
    "duration": 9,
    "start_time": "2022-07-04T17:36:04.193Z"
   },
   {
    "duration": 37,
    "start_time": "2022-07-04T17:36:04.203Z"
   },
   {
    "duration": 13,
    "start_time": "2022-07-04T17:36:04.241Z"
   },
   {
    "duration": 11,
    "start_time": "2022-07-04T17:36:04.256Z"
   },
   {
    "duration": 19,
    "start_time": "2022-07-04T17:36:04.269Z"
   },
   {
    "duration": 11,
    "start_time": "2022-07-04T17:36:04.290Z"
   },
   {
    "duration": 30,
    "start_time": "2022-07-04T17:36:04.302Z"
   },
   {
    "duration": 27,
    "start_time": "2022-07-04T17:36:04.341Z"
   },
   {
    "duration": 20,
    "start_time": "2022-07-04T17:36:04.370Z"
   },
   {
    "duration": 18,
    "start_time": "2022-07-04T17:36:04.393Z"
   },
   {
    "duration": 11,
    "start_time": "2022-07-04T17:36:07.892Z"
   },
   {
    "duration": 12,
    "start_time": "2022-07-04T17:36:13.315Z"
   },
   {
    "duration": 210,
    "start_time": "2022-07-04T17:36:14.455Z"
   },
   {
    "duration": 16,
    "start_time": "2022-07-04T17:36:15.480Z"
   },
   {
    "duration": 9,
    "start_time": "2022-07-04T17:36:16.048Z"
   },
   {
    "duration": 16,
    "start_time": "2022-07-04T17:36:16.603Z"
   },
   {
    "duration": 8,
    "start_time": "2022-07-04T17:36:17.388Z"
   },
   {
    "duration": 14,
    "start_time": "2022-07-04T17:36:27.155Z"
   },
   {
    "duration": 7,
    "start_time": "2022-07-04T17:36:32.101Z"
   },
   {
    "duration": 7,
    "start_time": "2022-07-04T17:36:34.888Z"
   },
   {
    "duration": 6,
    "start_time": "2022-07-04T17:39:02.152Z"
   },
   {
    "duration": 6,
    "start_time": "2022-07-04T17:39:03.302Z"
   },
   {
    "duration": 5,
    "start_time": "2022-07-04T17:39:04.188Z"
   },
   {
    "duration": 9,
    "start_time": "2022-07-04T17:39:50.570Z"
   },
   {
    "duration": 15,
    "start_time": "2022-07-04T17:40:44.728Z"
   },
   {
    "duration": 85,
    "start_time": "2022-07-04T17:42:57.869Z"
   },
   {
    "duration": 42,
    "start_time": "2022-07-04T17:43:28.470Z"
   },
   {
    "duration": 13,
    "start_time": "2022-07-04T17:43:47.127Z"
   },
   {
    "duration": 26,
    "start_time": "2022-07-04T17:43:55.273Z"
   },
   {
    "duration": 13,
    "start_time": "2022-07-04T17:44:04.599Z"
   },
   {
    "duration": 12,
    "start_time": "2022-07-04T17:46:14.144Z"
   },
   {
    "duration": 18,
    "start_time": "2022-07-04T17:46:50.554Z"
   },
   {
    "duration": 16,
    "start_time": "2022-07-04T17:46:54.473Z"
   },
   {
    "duration": 15,
    "start_time": "2022-07-04T17:46:59.463Z"
   },
   {
    "duration": 1336,
    "start_time": "2022-07-05T17:32:33.712Z"
   },
   {
    "duration": 665,
    "start_time": "2022-07-05T17:32:35.051Z"
   },
   {
    "duration": 337,
    "start_time": "2022-07-05T17:32:35.718Z"
   },
   {
    "duration": 13,
    "start_time": "2022-07-05T17:32:36.057Z"
   },
   {
    "duration": 14,
    "start_time": "2022-07-05T17:32:36.071Z"
   },
   {
    "duration": 24,
    "start_time": "2022-07-05T17:32:36.086Z"
   },
   {
    "duration": 10,
    "start_time": "2022-07-05T17:32:36.112Z"
   },
   {
    "duration": 14,
    "start_time": "2022-07-05T17:32:36.124Z"
   },
   {
    "duration": 11,
    "start_time": "2022-07-05T17:32:36.139Z"
   },
   {
    "duration": 8,
    "start_time": "2022-07-05T17:32:36.152Z"
   },
   {
    "duration": 44,
    "start_time": "2022-07-05T17:32:36.161Z"
   },
   {
    "duration": 11,
    "start_time": "2022-07-05T17:32:36.207Z"
   },
   {
    "duration": 10,
    "start_time": "2022-07-05T17:32:36.220Z"
   },
   {
    "duration": 20,
    "start_time": "2022-07-05T17:32:36.231Z"
   },
   {
    "duration": 13,
    "start_time": "2022-07-05T17:32:36.253Z"
   },
   {
    "duration": 37,
    "start_time": "2022-07-05T17:32:36.267Z"
   },
   {
    "duration": 7,
    "start_time": "2022-07-05T17:32:36.306Z"
   },
   {
    "duration": 12,
    "start_time": "2022-07-05T17:32:36.315Z"
   },
   {
    "duration": 215,
    "start_time": "2022-07-05T17:32:36.329Z"
   },
   {
    "duration": 17,
    "start_time": "2022-07-05T17:32:36.546Z"
   },
   {
    "duration": 6,
    "start_time": "2022-07-05T17:32:36.565Z"
   },
   {
    "duration": 35,
    "start_time": "2022-07-05T17:32:36.573Z"
   },
   {
    "duration": 7,
    "start_time": "2022-07-05T17:32:36.610Z"
   },
   {
    "duration": 22,
    "start_time": "2022-07-05T17:32:36.618Z"
   },
   {
    "duration": 10,
    "start_time": "2022-07-05T17:32:36.642Z"
   },
   {
    "duration": 9,
    "start_time": "2022-07-05T17:32:36.654Z"
   },
   {
    "duration": 32,
    "start_time": "2022-07-05T17:32:36.664Z"
   },
   {
    "duration": 17,
    "start_time": "2022-07-05T17:32:36.699Z"
   },
   {
    "duration": 183,
    "start_time": "2022-07-05T17:33:29.603Z"
   },
   {
    "duration": 237,
    "start_time": "2022-07-05T17:33:56.040Z"
   },
   {
    "duration": 193,
    "start_time": "2022-07-05T17:34:02.782Z"
   },
   {
    "duration": 255,
    "start_time": "2022-07-05T17:34:07.947Z"
   },
   {
    "duration": 12,
    "start_time": "2022-07-05T17:35:07.436Z"
   },
   {
    "duration": 20,
    "start_time": "2022-07-05T17:39:14.520Z"
   },
   {
    "duration": 16,
    "start_time": "2022-07-05T17:40:02.367Z"
   },
   {
    "duration": 1110,
    "start_time": "2022-07-05T17:41:26.029Z"
   },
   {
    "duration": 415,
    "start_time": "2022-07-05T17:41:27.141Z"
   },
   {
    "duration": 293,
    "start_time": "2022-07-05T17:41:27.558Z"
   },
   {
    "duration": 11,
    "start_time": "2022-07-05T17:41:27.852Z"
   },
   {
    "duration": 7,
    "start_time": "2022-07-05T17:41:27.865Z"
   },
   {
    "duration": 12,
    "start_time": "2022-07-05T17:41:27.873Z"
   },
   {
    "duration": 15,
    "start_time": "2022-07-05T17:41:27.886Z"
   },
   {
    "duration": 8,
    "start_time": "2022-07-05T17:41:27.902Z"
   },
   {
    "duration": 9,
    "start_time": "2022-07-05T17:41:27.912Z"
   },
   {
    "duration": 7,
    "start_time": "2022-07-05T17:41:27.922Z"
   },
   {
    "duration": 17,
    "start_time": "2022-07-05T17:41:27.931Z"
   },
   {
    "duration": 11,
    "start_time": "2022-07-05T17:41:27.949Z"
   },
   {
    "duration": 41,
    "start_time": "2022-07-05T17:41:27.961Z"
   },
   {
    "duration": 18,
    "start_time": "2022-07-05T17:41:28.005Z"
   },
   {
    "duration": 13,
    "start_time": "2022-07-05T17:41:28.025Z"
   },
   {
    "duration": 15,
    "start_time": "2022-07-05T17:41:28.039Z"
   },
   {
    "duration": 7,
    "start_time": "2022-07-05T17:41:28.055Z"
   },
   {
    "duration": 40,
    "start_time": "2022-07-05T17:41:28.064Z"
   },
   {
    "duration": 210,
    "start_time": "2022-07-05T17:41:28.105Z"
   },
   {
    "duration": 16,
    "start_time": "2022-07-05T17:41:28.316Z"
   },
   {
    "duration": 7,
    "start_time": "2022-07-05T17:41:28.333Z"
   },
   {
    "duration": 16,
    "start_time": "2022-07-05T17:41:28.342Z"
   },
   {
    "duration": 6,
    "start_time": "2022-07-05T17:41:28.360Z"
   },
   {
    "duration": 38,
    "start_time": "2022-07-05T17:41:28.367Z"
   },
   {
    "duration": 10,
    "start_time": "2022-07-05T17:41:28.407Z"
   },
   {
    "duration": 7,
    "start_time": "2022-07-05T17:41:28.418Z"
   },
   {
    "duration": 39,
    "start_time": "2022-07-05T17:41:28.426Z"
   },
   {
    "duration": 16,
    "start_time": "2022-07-05T17:41:28.466Z"
   },
   {
    "duration": 21,
    "start_time": "2022-07-05T17:41:28.484Z"
   },
   {
    "duration": 26,
    "start_time": "2022-07-05T17:41:28.506Z"
   },
   {
    "duration": 18,
    "start_time": "2022-07-05T17:41:28.534Z"
   },
   {
    "duration": 1071,
    "start_time": "2022-07-05T17:41:41.450Z"
   },
   {
    "duration": 137,
    "start_time": "2022-07-05T17:41:42.523Z"
   },
   {
    "duration": 158,
    "start_time": "2022-07-05T17:41:42.661Z"
   },
   {
    "duration": 12,
    "start_time": "2022-07-05T17:41:42.820Z"
   },
   {
    "duration": 8,
    "start_time": "2022-07-05T17:41:42.834Z"
   },
   {
    "duration": 13,
    "start_time": "2022-07-05T17:41:42.843Z"
   },
   {
    "duration": 13,
    "start_time": "2022-07-05T17:41:42.858Z"
   },
   {
    "duration": 18,
    "start_time": "2022-07-05T17:41:42.873Z"
   },
   {
    "duration": 10,
    "start_time": "2022-07-05T17:41:42.901Z"
   },
   {
    "duration": 11,
    "start_time": "2022-07-05T17:41:42.913Z"
   },
   {
    "duration": 18,
    "start_time": "2022-07-05T17:41:42.926Z"
   },
   {
    "duration": 10,
    "start_time": "2022-07-05T17:41:42.945Z"
   },
   {
    "duration": 11,
    "start_time": "2022-07-05T17:41:42.956Z"
   },
   {
    "duration": 46,
    "start_time": "2022-07-05T17:41:42.969Z"
   },
   {
    "duration": 13,
    "start_time": "2022-07-05T17:41:43.016Z"
   },
   {
    "duration": 18,
    "start_time": "2022-07-05T17:41:47.404Z"
   },
   {
    "duration": 16,
    "start_time": "2022-07-05T17:41:57.777Z"
   },
   {
    "duration": 9,
    "start_time": "2022-07-05T17:42:06.111Z"
   },
   {
    "duration": 11,
    "start_time": "2022-07-05T17:42:11.063Z"
   },
   {
    "duration": 16,
    "start_time": "2022-07-05T17:42:17.127Z"
   },
   {
    "duration": 16,
    "start_time": "2022-07-05T17:46:15.594Z"
   },
   {
    "duration": 5,
    "start_time": "2022-07-05T17:46:23.437Z"
   },
   {
    "duration": 227,
    "start_time": "2022-07-05T17:46:45.255Z"
   },
   {
    "duration": 26,
    "start_time": "2022-07-05T17:46:48.083Z"
   },
   {
    "duration": 10,
    "start_time": "2022-07-05T17:46:48.730Z"
   },
   {
    "duration": 24,
    "start_time": "2022-07-05T17:46:49.215Z"
   },
   {
    "duration": 9,
    "start_time": "2022-07-05T17:46:49.664Z"
   },
   {
    "duration": 15,
    "start_time": "2022-07-05T17:46:50.483Z"
   },
   {
    "duration": 13,
    "start_time": "2022-07-05T17:46:51.932Z"
   },
   {
    "duration": 7,
    "start_time": "2022-07-05T17:46:52.458Z"
   },
   {
    "duration": 38,
    "start_time": "2022-07-05T17:46:54.090Z"
   },
   {
    "duration": 28,
    "start_time": "2022-07-05T17:46:54.485Z"
   },
   {
    "duration": 13,
    "start_time": "2022-07-05T17:46:56.358Z"
   },
   {
    "duration": 18,
    "start_time": "2022-07-05T17:46:59.578Z"
   },
   {
    "duration": 112,
    "start_time": "2022-07-05T17:48:12.302Z"
   },
   {
    "duration": 17,
    "start_time": "2022-07-05T17:48:28.645Z"
   },
   {
    "duration": 86,
    "start_time": "2022-07-05T17:48:41.679Z"
   },
   {
    "duration": 90,
    "start_time": "2022-07-05T17:48:45.948Z"
   },
   {
    "duration": 115,
    "start_time": "2022-07-05T17:48:57.477Z"
   },
   {
    "duration": 98,
    "start_time": "2022-07-05T17:49:01.605Z"
   },
   {
    "duration": 95,
    "start_time": "2022-07-05T17:49:13.569Z"
   },
   {
    "duration": 83,
    "start_time": "2022-07-05T17:49:20.778Z"
   },
   {
    "duration": 161,
    "start_time": "2022-07-05T17:49:41.763Z"
   },
   {
    "duration": 84,
    "start_time": "2022-07-05T17:49:51.493Z"
   },
   {
    "duration": 83,
    "start_time": "2022-07-05T17:49:54.779Z"
   },
   {
    "duration": 94,
    "start_time": "2022-07-05T17:50:00.424Z"
   },
   {
    "duration": 111,
    "start_time": "2022-07-05T17:50:38.494Z"
   },
   {
    "duration": 109,
    "start_time": "2022-07-05T17:51:51.101Z"
   },
   {
    "duration": 100,
    "start_time": "2022-07-05T17:52:04.516Z"
   },
   {
    "duration": 79,
    "start_time": "2022-07-05T17:52:11.295Z"
   },
   {
    "duration": 89,
    "start_time": "2022-07-05T17:52:30.150Z"
   },
   {
    "duration": 8,
    "start_time": "2022-07-05T17:53:28.793Z"
   },
   {
    "duration": 11,
    "start_time": "2022-07-05T17:53:44.219Z"
   },
   {
    "duration": 7,
    "start_time": "2022-07-05T17:53:56.482Z"
   },
   {
    "duration": 8,
    "start_time": "2022-07-05T17:54:17.785Z"
   },
   {
    "duration": 8,
    "start_time": "2022-07-05T17:54:24.634Z"
   },
   {
    "duration": 9,
    "start_time": "2022-07-05T17:54:43.389Z"
   },
   {
    "duration": 139,
    "start_time": "2022-07-05T17:55:06.054Z"
   },
   {
    "duration": 139,
    "start_time": "2022-07-05T17:55:17.441Z"
   },
   {
    "duration": 394,
    "start_time": "2022-07-05T17:55:21.676Z"
   },
   {
    "duration": 61,
    "start_time": "2022-07-05T17:55:33.397Z"
   },
   {
    "duration": 381,
    "start_time": "2022-07-05T17:55:37.755Z"
   },
   {
    "duration": 375,
    "start_time": "2022-07-05T17:55:45.340Z"
   },
   {
    "duration": 8,
    "start_time": "2022-07-05T17:55:58.636Z"
   },
   {
    "duration": 11,
    "start_time": "2022-07-05T17:56:06.494Z"
   },
   {
    "duration": 1557,
    "start_time": "2022-07-06T10:11:45.232Z"
   },
   {
    "duration": 4460,
    "start_time": "2022-07-06T10:11:46.792Z"
   },
   {
    "duration": 467,
    "start_time": "2022-07-06T10:11:51.254Z"
   },
   {
    "duration": 14,
    "start_time": "2022-07-06T10:11:51.724Z"
   },
   {
    "duration": 10,
    "start_time": "2022-07-06T10:11:51.741Z"
   },
   {
    "duration": 16,
    "start_time": "2022-07-06T10:11:51.753Z"
   },
   {
    "duration": 18,
    "start_time": "2022-07-06T10:11:51.800Z"
   },
   {
    "duration": 12,
    "start_time": "2022-07-06T10:11:51.820Z"
   },
   {
    "duration": 12,
    "start_time": "2022-07-06T10:11:51.834Z"
   },
   {
    "duration": 10,
    "start_time": "2022-07-06T10:11:51.848Z"
   },
   {
    "duration": 59,
    "start_time": "2022-07-06T10:11:51.860Z"
   },
   {
    "duration": 14,
    "start_time": "2022-07-06T10:11:51.921Z"
   },
   {
    "duration": 11,
    "start_time": "2022-07-06T10:11:51.937Z"
   },
   {
    "duration": 24,
    "start_time": "2022-07-06T10:11:51.951Z"
   },
   {
    "duration": 23,
    "start_time": "2022-07-06T10:11:51.998Z"
   },
   {
    "duration": 18,
    "start_time": "2022-07-06T10:11:52.023Z"
   },
   {
    "duration": 10,
    "start_time": "2022-07-06T10:11:52.043Z"
   },
   {
    "duration": 49,
    "start_time": "2022-07-06T10:11:52.055Z"
   },
   {
    "duration": 243,
    "start_time": "2022-07-06T10:11:52.110Z"
   },
   {
    "duration": 17,
    "start_time": "2022-07-06T10:11:52.355Z"
   },
   {
    "duration": 10,
    "start_time": "2022-07-06T10:11:52.374Z"
   },
   {
    "duration": 22,
    "start_time": "2022-07-06T10:11:52.397Z"
   },
   {
    "duration": 16,
    "start_time": "2022-07-06T10:11:52.421Z"
   },
   {
    "duration": 11,
    "start_time": "2022-07-06T10:11:52.439Z"
   },
   {
    "duration": 12,
    "start_time": "2022-07-06T10:11:52.451Z"
   },
   {
    "duration": 5,
    "start_time": "2022-07-06T10:11:52.465Z"
   },
   {
    "duration": 71,
    "start_time": "2022-07-06T10:11:52.471Z"
   },
   {
    "duration": 19,
    "start_time": "2022-07-06T10:11:52.544Z"
   },
   {
    "duration": 13,
    "start_time": "2022-07-06T10:11:52.565Z"
   },
   {
    "duration": 31,
    "start_time": "2022-07-06T10:11:52.579Z"
   },
   {
    "duration": 104,
    "start_time": "2022-07-06T10:11:52.613Z"
   },
   {
    "duration": 8,
    "start_time": "2022-07-06T10:11:52.719Z"
   },
   {
    "duration": 22,
    "start_time": "2022-07-06T10:11:52.729Z"
   },
   {
    "duration": 114,
    "start_time": "2022-07-06T10:38:27.538Z"
   },
   {
    "duration": 110,
    "start_time": "2022-07-06T10:38:34.394Z"
   },
   {
    "duration": 114,
    "start_time": "2022-07-06T10:39:22.888Z"
   },
   {
    "duration": 127,
    "start_time": "2022-07-06T10:39:30.201Z"
   },
   {
    "duration": 120,
    "start_time": "2022-07-06T10:39:56.361Z"
   },
   {
    "duration": 212,
    "start_time": "2022-07-06T10:40:09.158Z"
   },
   {
    "duration": 122,
    "start_time": "2022-07-06T10:55:01.115Z"
   },
   {
    "duration": 117,
    "start_time": "2022-07-06T10:55:24.826Z"
   },
   {
    "duration": 119,
    "start_time": "2022-07-06T10:55:31.777Z"
   },
   {
    "duration": 143,
    "start_time": "2022-07-06T10:55:53.593Z"
   },
   {
    "duration": 180,
    "start_time": "2022-07-06T10:59:07.258Z"
   },
   {
    "duration": 20,
    "start_time": "2022-07-06T11:16:17.671Z"
   },
   {
    "duration": 5,
    "start_time": "2022-07-06T11:16:34.088Z"
   },
   {
    "duration": 8,
    "start_time": "2022-07-06T11:16:43.745Z"
   },
   {
    "duration": 30,
    "start_time": "2022-07-06T11:16:46.070Z"
   },
   {
    "duration": 6,
    "start_time": "2022-07-06T11:17:04.971Z"
   },
   {
    "duration": 6,
    "start_time": "2022-07-06T11:17:08.268Z"
   },
   {
    "duration": 32,
    "start_time": "2022-07-06T11:19:59.327Z"
   },
   {
    "duration": 31,
    "start_time": "2022-07-06T11:20:15.244Z"
   },
   {
    "duration": 26,
    "start_time": "2022-07-06T11:20:38.244Z"
   },
   {
    "duration": 35,
    "start_time": "2022-07-06T11:20:49.179Z"
   },
   {
    "duration": 29,
    "start_time": "2022-07-06T11:21:09.277Z"
   },
   {
    "duration": 166,
    "start_time": "2022-07-06T11:22:29.519Z"
   },
   {
    "duration": 32,
    "start_time": "2022-07-06T11:22:36.904Z"
   },
   {
    "duration": 3,
    "start_time": "2022-07-06T11:24:17.345Z"
   },
   {
    "duration": 5,
    "start_time": "2022-07-06T11:24:27.691Z"
   },
   {
    "duration": 4,
    "start_time": "2022-07-06T11:24:44.365Z"
   },
   {
    "duration": 5,
    "start_time": "2022-07-06T11:24:54.068Z"
   },
   {
    "duration": 3,
    "start_time": "2022-07-06T11:25:04.237Z"
   },
   {
    "duration": 8,
    "start_time": "2022-07-06T11:25:29.922Z"
   },
   {
    "duration": 88,
    "start_time": "2022-07-06T11:25:35.016Z"
   },
   {
    "duration": 3,
    "start_time": "2022-07-06T11:25:50.680Z"
   },
   {
    "duration": 3,
    "start_time": "2022-07-06T11:25:59.390Z"
   },
   {
    "duration": 5,
    "start_time": "2022-07-06T11:26:18.164Z"
   },
   {
    "duration": 4,
    "start_time": "2022-07-06T11:26:23.773Z"
   },
   {
    "duration": 7,
    "start_time": "2022-07-06T11:26:34.177Z"
   },
   {
    "duration": 6,
    "start_time": "2022-07-06T11:26:38.643Z"
   },
   {
    "duration": 15,
    "start_time": "2022-07-06T11:28:35.981Z"
   },
   {
    "duration": 31,
    "start_time": "2022-07-06T11:29:13.758Z"
   },
   {
    "duration": 40,
    "start_time": "2022-07-06T11:30:32.826Z"
   },
   {
    "duration": 31,
    "start_time": "2022-07-06T11:30:43.385Z"
   },
   {
    "duration": 44,
    "start_time": "2022-07-06T11:31:17.586Z"
   },
   {
    "duration": 22,
    "start_time": "2022-07-06T11:31:37.520Z"
   },
   {
    "duration": 134,
    "start_time": "2022-07-06T11:53:02.277Z"
   },
   {
    "duration": 5,
    "start_time": "2022-07-06T11:55:02.331Z"
   },
   {
    "duration": 10,
    "start_time": "2022-07-06T11:55:14.137Z"
   },
   {
    "duration": 4,
    "start_time": "2022-07-06T11:55:18.486Z"
   },
   {
    "duration": 4,
    "start_time": "2022-07-06T11:55:39.686Z"
   },
   {
    "duration": 5,
    "start_time": "2022-07-06T11:56:08.631Z"
   },
   {
    "duration": 5,
    "start_time": "2022-07-06T11:56:28.329Z"
   },
   {
    "duration": 9,
    "start_time": "2022-07-06T11:56:54.646Z"
   },
   {
    "duration": 6,
    "start_time": "2022-07-06T11:57:10.423Z"
   },
   {
    "duration": 9,
    "start_time": "2022-07-06T11:57:26.116Z"
   },
   {
    "duration": 29,
    "start_time": "2022-07-06T11:57:47.889Z"
   },
   {
    "duration": 15,
    "start_time": "2022-07-06T11:58:04.952Z"
   },
   {
    "duration": 18,
    "start_time": "2022-07-06T11:58:08.341Z"
   },
   {
    "duration": 20,
    "start_time": "2022-07-06T11:58:38.127Z"
   },
   {
    "duration": 27,
    "start_time": "2022-07-06T12:01:04.027Z"
   },
   {
    "duration": 20,
    "start_time": "2022-07-06T12:24:04.131Z"
   },
   {
    "duration": 34,
    "start_time": "2022-07-06T12:26:55.575Z"
   },
   {
    "duration": 15,
    "start_time": "2022-07-06T12:27:01.793Z"
   },
   {
    "duration": 25,
    "start_time": "2022-07-06T12:27:10.544Z"
   },
   {
    "duration": 14,
    "start_time": "2022-07-06T12:27:24.152Z"
   },
   {
    "duration": 29,
    "start_time": "2022-07-06T12:28:19.997Z"
   },
   {
    "duration": 12,
    "start_time": "2022-07-06T12:43:21.385Z"
   },
   {
    "duration": 13,
    "start_time": "2022-07-06T12:47:53.512Z"
   },
   {
    "duration": 25,
    "start_time": "2022-07-06T12:51:25.849Z"
   },
   {
    "duration": 20,
    "start_time": "2022-07-06T12:51:46.611Z"
   },
   {
    "duration": 20,
    "start_time": "2022-07-06T12:51:55.889Z"
   },
   {
    "duration": 8,
    "start_time": "2022-07-06T12:52:06.111Z"
   },
   {
    "duration": 8,
    "start_time": "2022-07-06T12:52:23.039Z"
   },
   {
    "duration": 18,
    "start_time": "2022-07-06T12:52:27.912Z"
   },
   {
    "duration": 4,
    "start_time": "2022-07-06T12:52:38.530Z"
   },
   {
    "duration": 19,
    "start_time": "2022-07-06T12:52:59.545Z"
   },
   {
    "duration": 29,
    "start_time": "2022-07-06T12:53:14.530Z"
   },
   {
    "duration": 6,
    "start_time": "2022-07-06T12:53:16.533Z"
   },
   {
    "duration": 30,
    "start_time": "2022-07-06T12:53:19.595Z"
   },
   {
    "duration": 12,
    "start_time": "2022-07-06T12:53:21.758Z"
   },
   {
    "duration": 12,
    "start_time": "2022-07-06T12:53:22.911Z"
   },
   {
    "duration": 9,
    "start_time": "2022-07-06T12:53:26.046Z"
   },
   {
    "duration": 18,
    "start_time": "2022-07-06T12:53:32.059Z"
   },
   {
    "duration": 29,
    "start_time": "2022-07-06T12:54:15.158Z"
   },
   {
    "duration": 12,
    "start_time": "2022-07-06T12:54:18.996Z"
   },
   {
    "duration": 24,
    "start_time": "2022-07-06T12:54:21.766Z"
   },
   {
    "duration": 12,
    "start_time": "2022-07-06T12:54:22.440Z"
   },
   {
    "duration": 20,
    "start_time": "2022-07-06T12:54:23.693Z"
   },
   {
    "duration": 9,
    "start_time": "2022-07-06T12:54:25.458Z"
   },
   {
    "duration": 18,
    "start_time": "2022-07-06T12:54:29.814Z"
   },
   {
    "duration": 123,
    "start_time": "2022-07-06T12:55:09.533Z"
   },
   {
    "duration": 113,
    "start_time": "2022-07-06T12:56:18.011Z"
   },
   {
    "duration": 83,
    "start_time": "2022-07-06T12:57:25.147Z"
   },
   {
    "duration": 135,
    "start_time": "2022-07-06T12:58:02.557Z"
   },
   {
    "duration": 15,
    "start_time": "2022-07-06T13:01:01.539Z"
   },
   {
    "duration": 27,
    "start_time": "2022-07-06T13:01:16.190Z"
   },
   {
    "duration": 5,
    "start_time": "2022-07-06T13:01:44.257Z"
   },
   {
    "duration": 117,
    "start_time": "2022-07-06T13:02:12.186Z"
   },
   {
    "duration": 128,
    "start_time": "2022-07-06T13:02:19.887Z"
   },
   {
    "duration": 130,
    "start_time": "2022-07-06T13:02:49.550Z"
   },
   {
    "duration": 121,
    "start_time": "2022-07-06T13:02:54.953Z"
   },
   {
    "duration": 134,
    "start_time": "2022-07-06T13:03:05.895Z"
   },
   {
    "duration": 143,
    "start_time": "2022-07-06T13:03:11.485Z"
   },
   {
    "duration": 131,
    "start_time": "2022-07-06T13:03:43.678Z"
   },
   {
    "duration": 112,
    "start_time": "2022-07-06T13:03:48.210Z"
   },
   {
    "duration": 129,
    "start_time": "2022-07-06T13:03:54.442Z"
   },
   {
    "duration": 121,
    "start_time": "2022-07-06T13:03:59.191Z"
   },
   {
    "duration": 1256,
    "start_time": "2022-07-06T13:30:00.148Z"
   },
   {
    "duration": 271,
    "start_time": "2022-07-06T13:30:01.406Z"
   },
   {
    "duration": 370,
    "start_time": "2022-07-06T13:30:01.680Z"
   },
   {
    "duration": 13,
    "start_time": "2022-07-06T13:30:02.051Z"
   },
   {
    "duration": 17,
    "start_time": "2022-07-06T13:30:02.067Z"
   },
   {
    "duration": 22,
    "start_time": "2022-07-06T13:30:02.086Z"
   },
   {
    "duration": 12,
    "start_time": "2022-07-06T13:30:02.110Z"
   },
   {
    "duration": 14,
    "start_time": "2022-07-06T13:30:02.124Z"
   },
   {
    "duration": 10,
    "start_time": "2022-07-06T13:30:02.140Z"
   },
   {
    "duration": 22,
    "start_time": "2022-07-06T13:30:02.151Z"
   },
   {
    "duration": 34,
    "start_time": "2022-07-06T13:30:02.175Z"
   },
   {
    "duration": 12,
    "start_time": "2022-07-06T13:30:02.210Z"
   },
   {
    "duration": 16,
    "start_time": "2022-07-06T13:30:02.224Z"
   },
   {
    "duration": 21,
    "start_time": "2022-07-06T13:30:02.243Z"
   },
   {
    "duration": 43,
    "start_time": "2022-07-06T13:30:02.266Z"
   },
   {
    "duration": 18,
    "start_time": "2022-07-06T13:30:02.310Z"
   },
   {
    "duration": 9,
    "start_time": "2022-07-06T13:30:02.330Z"
   },
   {
    "duration": 14,
    "start_time": "2022-07-06T13:30:02.341Z"
   },
   {
    "duration": 264,
    "start_time": "2022-07-06T13:30:02.357Z"
   },
   {
    "duration": 18,
    "start_time": "2022-07-06T13:30:02.624Z"
   },
   {
    "duration": 23,
    "start_time": "2022-07-06T13:30:02.643Z"
   },
   {
    "duration": 37,
    "start_time": "2022-07-06T13:30:02.668Z"
   },
   {
    "duration": 30,
    "start_time": "2022-07-06T13:30:02.707Z"
   },
   {
    "duration": 32,
    "start_time": "2022-07-06T13:30:02.738Z"
   },
   {
    "duration": 25,
    "start_time": "2022-07-06T13:30:02.772Z"
   },
   {
    "duration": 22,
    "start_time": "2022-07-06T13:30:02.799Z"
   },
   {
    "duration": 75,
    "start_time": "2022-07-06T13:30:02.823Z"
   },
   {
    "duration": 18,
    "start_time": "2022-07-06T13:30:02.901Z"
   },
   {
    "duration": 14,
    "start_time": "2022-07-06T13:30:02.921Z"
   },
   {
    "duration": 11,
    "start_time": "2022-07-06T13:30:02.937Z"
   },
   {
    "duration": 50,
    "start_time": "2022-07-06T13:30:02.949Z"
   },
   {
    "duration": 127,
    "start_time": "2022-07-06T13:30:03.001Z"
   },
   {
    "duration": 138,
    "start_time": "2022-07-06T13:30:03.130Z"
   },
   {
    "duration": 37,
    "start_time": "2022-07-06T13:30:03.270Z"
   },
   {
    "duration": 6,
    "start_time": "2022-07-06T13:30:03.309Z"
   },
   {
    "duration": 33,
    "start_time": "2022-07-06T13:30:03.317Z"
   },
   {
    "duration": 11,
    "start_time": "2022-07-06T13:30:03.352Z"
   },
   {
    "duration": 18,
    "start_time": "2022-07-06T13:30:03.365Z"
   },
   {
    "duration": 23,
    "start_time": "2022-07-06T13:30:03.386Z"
   },
   {
    "duration": 21,
    "start_time": "2022-07-06T13:30:03.411Z"
   },
   {
    "duration": 160,
    "start_time": "2022-07-06T13:30:03.438Z"
   },
   {
    "duration": 143,
    "start_time": "2022-07-06T13:30:03.601Z"
   },
   {
    "duration": 131,
    "start_time": "2022-07-06T13:30:03.746Z"
   },
   {
    "duration": 129,
    "start_time": "2022-07-06T13:30:03.879Z"
   },
   {
    "duration": 7,
    "start_time": "2022-07-06T13:30:04.010Z"
   },
   {
    "duration": 5,
    "start_time": "2022-07-06T13:30:15.309Z"
   },
   {
    "duration": 18,
    "start_time": "2022-07-06T13:30:46.285Z"
   },
   {
    "duration": 12,
    "start_time": "2022-07-06T13:31:02.805Z"
   },
   {
    "duration": 12,
    "start_time": "2022-07-06T13:31:06.609Z"
   },
   {
    "duration": 12,
    "start_time": "2022-07-06T13:31:09.819Z"
   },
   {
    "duration": 14,
    "start_time": "2022-07-06T13:31:24.768Z"
   },
   {
    "duration": 15,
    "start_time": "2022-07-06T13:31:37.969Z"
   },
   {
    "duration": 292,
    "start_time": "2022-07-06T13:31:43.791Z"
   },
   {
    "duration": 186,
    "start_time": "2022-07-06T13:32:01.312Z"
   },
   {
    "duration": 144,
    "start_time": "2022-07-06T13:32:16.407Z"
   },
   {
    "duration": 270,
    "start_time": "2022-07-06T13:32:24.148Z"
   },
   {
    "duration": 162,
    "start_time": "2022-07-06T13:32:31.744Z"
   },
   {
    "duration": 162,
    "start_time": "2022-07-06T13:32:43.183Z"
   },
   {
    "duration": 161,
    "start_time": "2022-07-06T13:32:57.457Z"
   },
   {
    "duration": 16,
    "start_time": "2022-07-06T13:33:10.640Z"
   },
   {
    "duration": 10,
    "start_time": "2022-07-06T13:33:35.409Z"
   },
   {
    "duration": 9,
    "start_time": "2022-07-06T13:33:40.143Z"
   },
   {
    "duration": 180,
    "start_time": "2022-07-06T13:34:37.746Z"
   },
   {
    "duration": 130,
    "start_time": "2022-07-06T13:34:44.342Z"
   },
   {
    "duration": 227,
    "start_time": "2022-07-06T13:34:46.671Z"
   },
   {
    "duration": 168,
    "start_time": "2022-07-06T13:34:57.331Z"
   },
   {
    "duration": 273,
    "start_time": "2022-07-06T13:35:04.411Z"
   },
   {
    "duration": 186,
    "start_time": "2022-07-06T13:35:09.014Z"
   },
   {
    "duration": 9,
    "start_time": "2022-07-06T13:35:35.780Z"
   },
   {
    "duration": 7,
    "start_time": "2022-07-06T13:36:20.443Z"
   },
   {
    "duration": 26,
    "start_time": "2022-07-06T13:36:25.043Z"
   },
   {
    "duration": 7,
    "start_time": "2022-07-06T13:41:09.180Z"
   },
   {
    "duration": 23,
    "start_time": "2022-07-06T13:41:09.755Z"
   },
   {
    "duration": 14,
    "start_time": "2022-07-06T13:41:17.200Z"
   },
   {
    "duration": 26,
    "start_time": "2022-07-06T13:41:17.798Z"
   },
   {
    "duration": 11,
    "start_time": "2022-07-06T13:41:19.862Z"
   },
   {
    "duration": 10,
    "start_time": "2022-07-06T13:41:20.954Z"
   },
   {
    "duration": 187,
    "start_time": "2022-07-06T13:41:25.243Z"
   },
   {
    "duration": 194,
    "start_time": "2022-07-06T13:42:32.230Z"
   },
   {
    "duration": 218,
    "start_time": "2022-07-06T13:42:41.335Z"
   },
   {
    "duration": 233,
    "start_time": "2022-07-06T13:42:58.431Z"
   },
   {
    "duration": 234,
    "start_time": "2022-07-06T13:43:04.740Z"
   },
   {
    "duration": 219,
    "start_time": "2022-07-06T13:43:48.646Z"
   },
   {
    "duration": 211,
    "start_time": "2022-07-06T13:44:10.637Z"
   },
   {
    "duration": 211,
    "start_time": "2022-07-06T13:44:14.315Z"
   },
   {
    "duration": 194,
    "start_time": "2022-07-06T14:00:27.446Z"
   },
   {
    "duration": 216,
    "start_time": "2022-07-06T14:02:36.063Z"
   },
   {
    "duration": 5,
    "start_time": "2022-07-06T14:10:48.678Z"
   },
   {
    "duration": 29,
    "start_time": "2022-07-06T14:10:51.085Z"
   },
   {
    "duration": 20,
    "start_time": "2022-07-06T14:11:17.862Z"
   },
   {
    "duration": 11,
    "start_time": "2022-07-06T14:11:43.312Z"
   },
   {
    "duration": 20,
    "start_time": "2022-07-06T14:11:45.368Z"
   },
   {
    "duration": 13,
    "start_time": "2022-07-06T14:12:54.163Z"
   },
   {
    "duration": 273,
    "start_time": "2022-07-06T14:12:55.147Z"
   },
   {
    "duration": 13,
    "start_time": "2022-07-06T14:13:47.031Z"
   },
   {
    "duration": 89,
    "start_time": "2022-07-06T14:18:47.782Z"
   },
   {
    "duration": 282,
    "start_time": "2022-07-06T14:19:33.145Z"
   },
   {
    "duration": 28,
    "start_time": "2022-07-06T14:20:51.051Z"
   },
   {
    "duration": 12,
    "start_time": "2022-07-06T14:21:28.139Z"
   },
   {
    "duration": 16,
    "start_time": "2022-07-06T14:21:41.793Z"
   },
   {
    "duration": 392,
    "start_time": "2022-07-06T14:21:43.187Z"
   },
   {
    "duration": 33,
    "start_time": "2022-07-06T14:21:49.035Z"
   },
   {
    "duration": 29,
    "start_time": "2022-07-06T14:22:33.518Z"
   },
   {
    "duration": 20,
    "start_time": "2022-07-06T14:22:56.905Z"
   },
   {
    "duration": 14,
    "start_time": "2022-07-06T14:23:51.828Z"
   },
   {
    "duration": 21,
    "start_time": "2022-07-06T14:23:58.169Z"
   },
   {
    "duration": 17,
    "start_time": "2022-07-06T14:24:39.153Z"
   },
   {
    "duration": 12,
    "start_time": "2022-07-06T14:24:40.711Z"
   },
   {
    "duration": 37,
    "start_time": "2022-07-06T14:24:58.789Z"
   },
   {
    "duration": 21,
    "start_time": "2022-07-06T14:25:16.536Z"
   },
   {
    "duration": 12,
    "start_time": "2022-07-06T14:25:18.843Z"
   },
   {
    "duration": 20,
    "start_time": "2022-07-06T14:25:49.247Z"
   },
   {
    "duration": 13,
    "start_time": "2022-07-06T14:25:49.760Z"
   },
   {
    "duration": 23,
    "start_time": "2022-07-06T14:26:14.118Z"
   },
   {
    "duration": 14,
    "start_time": "2022-07-06T14:26:14.341Z"
   },
   {
    "duration": 24,
    "start_time": "2022-07-06T14:29:47.361Z"
   },
   {
    "duration": 38,
    "start_time": "2022-07-06T14:29:49.808Z"
   },
   {
    "duration": 14,
    "start_time": "2022-07-06T14:29:50.326Z"
   },
   {
    "duration": 28,
    "start_time": "2022-07-06T14:31:19.099Z"
   },
   {
    "duration": 11,
    "start_time": "2022-07-06T14:31:21.521Z"
   },
   {
    "duration": 31,
    "start_time": "2022-07-06T14:31:54.493Z"
   },
   {
    "duration": 12,
    "start_time": "2022-07-06T14:31:55.014Z"
   },
   {
    "duration": 32,
    "start_time": "2022-07-06T14:35:57.292Z"
   },
   {
    "duration": 44,
    "start_time": "2022-07-06T14:37:05.541Z"
   },
   {
    "duration": 40,
    "start_time": "2022-07-06T14:37:23.945Z"
   },
   {
    "duration": 33,
    "start_time": "2022-07-06T14:38:04.437Z"
   },
   {
    "duration": 36,
    "start_time": "2022-07-06T14:38:10.335Z"
   },
   {
    "duration": 38,
    "start_time": "2022-07-06T14:38:34.773Z"
   },
   {
    "duration": 409,
    "start_time": "2022-07-06T14:39:26.982Z"
   },
   {
    "duration": 38,
    "start_time": "2022-07-06T14:39:55.213Z"
   },
   {
    "duration": 21,
    "start_time": "2022-07-06T14:40:25.613Z"
   },
   {
    "duration": 44,
    "start_time": "2022-07-06T14:42:00.352Z"
   },
   {
    "duration": 38,
    "start_time": "2022-07-06T14:42:31.831Z"
   },
   {
    "duration": 1373,
    "start_time": "2022-07-06T14:45:38.916Z"
   },
   {
    "duration": 1606,
    "start_time": "2022-07-06T14:45:40.291Z"
   },
   {
    "duration": 421,
    "start_time": "2022-07-06T14:45:41.899Z"
   },
   {
    "duration": 18,
    "start_time": "2022-07-06T14:45:42.323Z"
   },
   {
    "duration": 9,
    "start_time": "2022-07-06T14:45:42.343Z"
   },
   {
    "duration": 17,
    "start_time": "2022-07-06T14:45:42.354Z"
   },
   {
    "duration": 16,
    "start_time": "2022-07-06T14:45:42.397Z"
   },
   {
    "duration": 13,
    "start_time": "2022-07-06T14:45:42.414Z"
   },
   {
    "duration": 11,
    "start_time": "2022-07-06T14:45:42.428Z"
   },
   {
    "duration": 11,
    "start_time": "2022-07-06T14:45:42.442Z"
   },
   {
    "duration": 53,
    "start_time": "2022-07-06T14:45:42.455Z"
   },
   {
    "duration": 19,
    "start_time": "2022-07-06T14:45:42.510Z"
   },
   {
    "duration": 12,
    "start_time": "2022-07-06T14:45:42.531Z"
   },
   {
    "duration": 27,
    "start_time": "2022-07-06T14:45:42.545Z"
   },
   {
    "duration": 33,
    "start_time": "2022-07-06T14:45:42.575Z"
   },
   {
    "duration": 18,
    "start_time": "2022-07-06T14:45:42.610Z"
   },
   {
    "duration": 9,
    "start_time": "2022-07-06T14:45:42.630Z"
   },
   {
    "duration": 19,
    "start_time": "2022-07-06T14:45:42.641Z"
   },
   {
    "duration": 296,
    "start_time": "2022-07-06T14:45:42.663Z"
   },
   {
    "duration": 24,
    "start_time": "2022-07-06T14:45:42.961Z"
   },
   {
    "duration": 11,
    "start_time": "2022-07-06T14:45:42.997Z"
   },
   {
    "duration": 23,
    "start_time": "2022-07-06T14:45:43.010Z"
   },
   {
    "duration": 9,
    "start_time": "2022-07-06T14:45:43.034Z"
   },
   {
    "duration": 19,
    "start_time": "2022-07-06T14:45:43.045Z"
   },
   {
    "duration": 37,
    "start_time": "2022-07-06T14:45:43.067Z"
   },
   {
    "duration": 7,
    "start_time": "2022-07-06T14:45:43.106Z"
   },
   {
    "duration": 47,
    "start_time": "2022-07-06T14:45:43.115Z"
   },
   {
    "duration": 31,
    "start_time": "2022-07-06T14:45:43.167Z"
   },
   {
    "duration": 18,
    "start_time": "2022-07-06T14:45:43.200Z"
   },
   {
    "duration": 6,
    "start_time": "2022-07-06T14:45:43.220Z"
   },
   {
    "duration": 22,
    "start_time": "2022-07-06T14:45:43.228Z"
   },
   {
    "duration": 161,
    "start_time": "2022-07-06T14:45:43.252Z"
   },
   {
    "duration": 156,
    "start_time": "2022-07-06T14:45:43.414Z"
   },
   {
    "duration": 53,
    "start_time": "2022-07-06T14:45:43.572Z"
   },
   {
    "duration": 7,
    "start_time": "2022-07-06T14:45:43.628Z"
   },
   {
    "duration": 25,
    "start_time": "2022-07-06T14:45:43.638Z"
   },
   {
    "duration": 12,
    "start_time": "2022-07-06T14:45:43.665Z"
   },
   {
    "duration": 13,
    "start_time": "2022-07-06T14:45:43.699Z"
   },
   {
    "duration": 17,
    "start_time": "2022-07-06T14:45:43.714Z"
   },
   {
    "duration": 23,
    "start_time": "2022-07-06T14:45:43.733Z"
   },
   {
    "duration": 184,
    "start_time": "2022-07-06T14:45:43.766Z"
   },
   {
    "duration": 156,
    "start_time": "2022-07-06T14:45:43.952Z"
   },
   {
    "duration": 133,
    "start_time": "2022-07-06T14:45:44.111Z"
   },
   {
    "duration": 115,
    "start_time": "2022-07-06T14:45:44.246Z"
   },
   {
    "duration": 5,
    "start_time": "2022-07-06T14:45:44.362Z"
   },
   {
    "duration": 3,
    "start_time": "2022-07-06T14:45:49.469Z"
   },
   {
    "duration": 145,
    "start_time": "2022-07-06T14:45:50.183Z"
   },
   {
    "duration": 17,
    "start_time": "2022-07-06T14:46:03.718Z"
   },
   {
    "duration": 15,
    "start_time": "2022-07-06T14:47:01.878Z"
   },
   {
    "duration": 24,
    "start_time": "2022-07-06T14:47:17.550Z"
   },
   {
    "duration": 22,
    "start_time": "2022-07-06T14:48:11.769Z"
   },
   {
    "duration": 1323,
    "start_time": "2022-07-06T14:48:23.391Z"
   },
   {
    "duration": 221,
    "start_time": "2022-07-06T14:48:24.717Z"
   },
   {
    "duration": 240,
    "start_time": "2022-07-06T14:48:24.941Z"
   },
   {
    "duration": 14,
    "start_time": "2022-07-06T14:48:25.183Z"
   },
   {
    "duration": 9,
    "start_time": "2022-07-06T14:48:25.199Z"
   },
   {
    "duration": 15,
    "start_time": "2022-07-06T14:48:25.210Z"
   },
   {
    "duration": 13,
    "start_time": "2022-07-06T14:48:25.227Z"
   },
   {
    "duration": 11,
    "start_time": "2022-07-06T14:48:25.242Z"
   },
   {
    "duration": 12,
    "start_time": "2022-07-06T14:48:25.255Z"
   },
   {
    "duration": 11,
    "start_time": "2022-07-06T14:48:25.297Z"
   },
   {
    "duration": 23,
    "start_time": "2022-07-06T14:48:25.310Z"
   },
   {
    "duration": 14,
    "start_time": "2022-07-06T14:48:25.335Z"
   },
   {
    "duration": 11,
    "start_time": "2022-07-06T14:48:25.351Z"
   },
   {
    "duration": 55,
    "start_time": "2022-07-06T14:48:25.364Z"
   },
   {
    "duration": 14,
    "start_time": "2022-07-06T14:48:25.421Z"
   },
   {
    "duration": 23,
    "start_time": "2022-07-06T14:48:25.437Z"
   },
   {
    "duration": 37,
    "start_time": "2022-07-06T14:48:25.462Z"
   },
   {
    "duration": 15,
    "start_time": "2022-07-06T14:48:25.501Z"
   },
   {
    "duration": 262,
    "start_time": "2022-07-06T14:48:25.518Z"
   },
   {
    "duration": 25,
    "start_time": "2022-07-06T14:48:25.781Z"
   },
   {
    "duration": 7,
    "start_time": "2022-07-06T14:48:25.808Z"
   },
   {
    "duration": 23,
    "start_time": "2022-07-06T14:48:25.817Z"
   },
   {
    "duration": 9,
    "start_time": "2022-07-06T14:48:25.842Z"
   },
   {
    "duration": 44,
    "start_time": "2022-07-06T14:48:25.854Z"
   },
   {
    "duration": 10,
    "start_time": "2022-07-06T14:48:25.900Z"
   },
   {
    "duration": 12,
    "start_time": "2022-07-06T14:48:25.912Z"
   },
   {
    "duration": 40,
    "start_time": "2022-07-06T14:48:25.926Z"
   },
   {
    "duration": 27,
    "start_time": "2022-07-06T14:48:25.971Z"
   },
   {
    "duration": 15,
    "start_time": "2022-07-06T14:48:26.000Z"
   },
   {
    "duration": 10,
    "start_time": "2022-07-06T14:48:26.018Z"
   },
   {
    "duration": 25,
    "start_time": "2022-07-06T14:48:26.030Z"
   },
   {
    "duration": 144,
    "start_time": "2022-07-06T14:48:26.057Z"
   },
   {
    "duration": 129,
    "start_time": "2022-07-06T14:48:26.203Z"
   },
   {
    "duration": 37,
    "start_time": "2022-07-06T14:48:26.335Z"
   },
   {
    "duration": 25,
    "start_time": "2022-07-06T14:48:26.374Z"
   },
   {
    "duration": 22,
    "start_time": "2022-07-06T14:48:26.401Z"
   },
   {
    "duration": 12,
    "start_time": "2022-07-06T14:48:26.425Z"
   },
   {
    "duration": 13,
    "start_time": "2022-07-06T14:48:26.439Z"
   },
   {
    "duration": 10,
    "start_time": "2022-07-06T14:48:26.454Z"
   },
   {
    "duration": 52,
    "start_time": "2022-07-06T14:48:26.465Z"
   },
   {
    "duration": 139,
    "start_time": "2022-07-06T14:48:26.518Z"
   },
   {
    "duration": 153,
    "start_time": "2022-07-06T14:48:26.659Z"
   },
   {
    "duration": 169,
    "start_time": "2022-07-06T14:48:26.814Z"
   },
   {
    "duration": 150,
    "start_time": "2022-07-06T14:48:26.985Z"
   },
   {
    "duration": 5,
    "start_time": "2022-07-06T14:48:27.137Z"
   },
   {
    "duration": 19,
    "start_time": "2022-07-06T14:48:27.144Z"
   },
   {
    "duration": 5,
    "start_time": "2022-07-06T14:48:31.225Z"
   },
   {
    "duration": 3,
    "start_time": "2022-07-06T14:48:32.090Z"
   },
   {
    "duration": 18,
    "start_time": "2022-07-06T14:48:32.529Z"
   },
   {
    "duration": 11,
    "start_time": "2022-07-06T14:48:34.841Z"
   },
   {
    "duration": 354,
    "start_time": "2022-07-06T14:48:41.039Z"
   },
   {
    "duration": 116,
    "start_time": "2022-07-06T14:49:18.270Z"
   },
   {
    "duration": 4,
    "start_time": "2022-07-06T14:50:20.980Z"
   },
   {
    "duration": 4,
    "start_time": "2022-07-06T14:50:22.833Z"
   },
   {
    "duration": 18,
    "start_time": "2022-07-06T14:50:23.308Z"
   },
   {
    "duration": 202,
    "start_time": "2022-07-06T14:50:25.298Z"
   },
   {
    "duration": 13,
    "start_time": "2022-07-06T14:50:39.938Z"
   },
   {
    "duration": 267,
    "start_time": "2022-07-06T14:50:42.680Z"
   },
   {
    "duration": 19,
    "start_time": "2022-07-06T14:50:51.193Z"
   },
   {
    "duration": 13,
    "start_time": "2022-07-06T14:50:58.843Z"
   },
   {
    "duration": 257,
    "start_time": "2022-07-06T14:51:00.144Z"
   },
   {
    "duration": 1310,
    "start_time": "2022-07-06T14:52:17.798Z"
   },
   {
    "duration": 233,
    "start_time": "2022-07-06T14:52:19.111Z"
   },
   {
    "duration": 277,
    "start_time": "2022-07-06T14:52:19.346Z"
   },
   {
    "duration": 16,
    "start_time": "2022-07-06T14:52:19.626Z"
   },
   {
    "duration": 12,
    "start_time": "2022-07-06T14:52:19.644Z"
   },
   {
    "duration": 39,
    "start_time": "2022-07-06T14:52:19.659Z"
   },
   {
    "duration": 16,
    "start_time": "2022-07-06T14:52:19.700Z"
   },
   {
    "duration": 22,
    "start_time": "2022-07-06T14:52:19.718Z"
   },
   {
    "duration": 15,
    "start_time": "2022-07-06T14:52:19.742Z"
   },
   {
    "duration": 10,
    "start_time": "2022-07-06T14:52:19.760Z"
   },
   {
    "duration": 48,
    "start_time": "2022-07-06T14:52:19.772Z"
   },
   {
    "duration": 19,
    "start_time": "2022-07-06T14:52:19.822Z"
   },
   {
    "duration": 12,
    "start_time": "2022-07-06T14:52:19.843Z"
   },
   {
    "duration": 62,
    "start_time": "2022-07-06T14:52:19.857Z"
   },
   {
    "duration": 21,
    "start_time": "2022-07-06T14:52:19.921Z"
   },
   {
    "duration": 23,
    "start_time": "2022-07-06T14:52:19.944Z"
   },
   {
    "duration": 9,
    "start_time": "2022-07-06T14:52:19.969Z"
   },
   {
    "duration": 28,
    "start_time": "2022-07-06T14:52:19.979Z"
   },
   {
    "duration": 266,
    "start_time": "2022-07-06T14:52:20.009Z"
   },
   {
    "duration": 32,
    "start_time": "2022-07-06T14:52:20.277Z"
   },
   {
    "duration": 10,
    "start_time": "2022-07-06T14:52:20.311Z"
   },
   {
    "duration": 30,
    "start_time": "2022-07-06T14:52:20.323Z"
   },
   {
    "duration": 8,
    "start_time": "2022-07-06T14:52:20.355Z"
   },
   {
    "duration": 45,
    "start_time": "2022-07-06T14:52:20.365Z"
   },
   {
    "duration": 12,
    "start_time": "2022-07-06T14:52:20.412Z"
   },
   {
    "duration": 6,
    "start_time": "2022-07-06T14:52:20.426Z"
   },
   {
    "duration": 49,
    "start_time": "2022-07-06T14:52:20.433Z"
   },
   {
    "duration": 21,
    "start_time": "2022-07-06T14:52:20.486Z"
   },
   {
    "duration": 15,
    "start_time": "2022-07-06T14:52:20.509Z"
   },
   {
    "duration": 8,
    "start_time": "2022-07-06T14:52:20.526Z"
   },
   {
    "duration": 28,
    "start_time": "2022-07-06T14:52:20.536Z"
   },
   {
    "duration": 138,
    "start_time": "2022-07-06T14:52:20.567Z"
   },
   {
    "duration": 135,
    "start_time": "2022-07-06T14:52:20.707Z"
   },
   {
    "duration": 31,
    "start_time": "2022-07-06T14:52:20.844Z"
   },
   {
    "duration": 23,
    "start_time": "2022-07-06T14:52:20.877Z"
   },
   {
    "duration": 28,
    "start_time": "2022-07-06T14:52:20.903Z"
   },
   {
    "duration": 16,
    "start_time": "2022-07-06T14:52:20.933Z"
   },
   {
    "duration": 18,
    "start_time": "2022-07-06T14:52:20.951Z"
   },
   {
    "duration": 29,
    "start_time": "2022-07-06T14:52:20.971Z"
   },
   {
    "duration": 23,
    "start_time": "2022-07-06T14:52:21.002Z"
   },
   {
    "duration": 133,
    "start_time": "2022-07-06T14:52:21.027Z"
   },
   {
    "duration": 123,
    "start_time": "2022-07-06T14:52:21.162Z"
   },
   {
    "duration": 133,
    "start_time": "2022-07-06T14:52:21.287Z"
   },
   {
    "duration": 123,
    "start_time": "2022-07-06T14:52:21.421Z"
   },
   {
    "duration": 5,
    "start_time": "2022-07-06T14:52:21.545Z"
   },
   {
    "duration": 9,
    "start_time": "2022-07-06T14:52:21.552Z"
   },
   {
    "duration": 11,
    "start_time": "2022-07-06T14:52:21.563Z"
   },
   {
    "duration": 30,
    "start_time": "2022-07-06T14:52:21.575Z"
   },
   {
    "duration": 382,
    "start_time": "2022-07-06T14:52:21.607Z"
   },
   {
    "duration": 138,
    "start_time": "2022-07-06T14:52:21.992Z"
   },
   {
    "duration": 15,
    "start_time": "2022-07-06T14:52:27.758Z"
   },
   {
    "duration": 16,
    "start_time": "2022-07-06T14:55:01.810Z"
   },
   {
    "duration": 284,
    "start_time": "2022-07-06T14:55:59.484Z"
   },
   {
    "duration": 238,
    "start_time": "2022-07-06T14:56:05.789Z"
   },
   {
    "duration": 494,
    "start_time": "2022-07-06T14:56:11.701Z"
   },
   {
    "duration": 228,
    "start_time": "2022-07-06T14:56:15.447Z"
   },
   {
    "duration": 120,
    "start_time": "2022-07-06T14:56:24.774Z"
   },
   {
    "duration": 173,
    "start_time": "2022-07-06T14:56:30.892Z"
   },
   {
    "duration": 150,
    "start_time": "2022-07-06T14:56:37.489Z"
   },
   {
    "duration": 129,
    "start_time": "2022-07-06T14:56:44.106Z"
   },
   {
    "duration": 164,
    "start_time": "2022-07-06T14:56:52.356Z"
   },
   {
    "duration": 224,
    "start_time": "2022-07-06T14:56:57.370Z"
   },
   {
    "duration": 453,
    "start_time": "2022-07-06T14:57:03.691Z"
   },
   {
    "duration": 261,
    "start_time": "2022-07-06T14:57:06.466Z"
   },
   {
    "duration": 22,
    "start_time": "2022-07-06T14:57:15.367Z"
   },
   {
    "duration": 16,
    "start_time": "2022-07-06T14:57:24.215Z"
   },
   {
    "duration": 280,
    "start_time": "2022-07-06T14:57:25.019Z"
   },
   {
    "duration": 37,
    "start_time": "2022-07-06T21:35:44.062Z"
   },
   {
    "duration": 1235,
    "start_time": "2022-07-06T21:35:52.235Z"
   },
   {
    "duration": 229,
    "start_time": "2022-07-06T21:35:53.473Z"
   },
   {
    "duration": 407,
    "start_time": "2022-07-06T21:35:53.703Z"
   },
   {
    "duration": 16,
    "start_time": "2022-07-06T21:35:54.112Z"
   },
   {
    "duration": 8,
    "start_time": "2022-07-06T21:35:54.130Z"
   },
   {
    "duration": 16,
    "start_time": "2022-07-06T21:35:54.140Z"
   },
   {
    "duration": 40,
    "start_time": "2022-07-06T21:35:54.158Z"
   },
   {
    "duration": 11,
    "start_time": "2022-07-06T21:35:54.200Z"
   },
   {
    "duration": 11,
    "start_time": "2022-07-06T21:35:54.213Z"
   },
   {
    "duration": 10,
    "start_time": "2022-07-06T21:35:54.227Z"
   },
   {
    "duration": 23,
    "start_time": "2022-07-06T21:35:54.238Z"
   },
   {
    "duration": 47,
    "start_time": "2022-07-06T21:35:54.263Z"
   },
   {
    "duration": 12,
    "start_time": "2022-07-06T21:35:54.312Z"
   },
   {
    "duration": 23,
    "start_time": "2022-07-06T21:35:54.326Z"
   },
   {
    "duration": 13,
    "start_time": "2022-07-06T21:35:54.351Z"
   },
   {
    "duration": 50,
    "start_time": "2022-07-06T21:35:54.366Z"
   },
   {
    "duration": 8,
    "start_time": "2022-07-06T21:35:54.418Z"
   },
   {
    "duration": 14,
    "start_time": "2022-07-06T21:35:54.427Z"
   },
   {
    "duration": 251,
    "start_time": "2022-07-06T21:35:54.442Z"
   },
   {
    "duration": 21,
    "start_time": "2022-07-06T21:35:54.694Z"
   },
   {
    "duration": 6,
    "start_time": "2022-07-06T21:35:54.717Z"
   },
   {
    "duration": 20,
    "start_time": "2022-07-06T21:35:54.725Z"
   },
   {
    "duration": 8,
    "start_time": "2022-07-06T21:35:54.747Z"
   },
   {
    "duration": 48,
    "start_time": "2022-07-06T21:35:54.757Z"
   },
   {
    "duration": 12,
    "start_time": "2022-07-06T21:35:54.807Z"
   },
   {
    "duration": 5,
    "start_time": "2022-07-06T21:35:54.821Z"
   },
   {
    "duration": 34,
    "start_time": "2022-07-06T21:35:54.828Z"
   },
   {
    "duration": 18,
    "start_time": "2022-07-06T21:35:54.866Z"
   },
   {
    "duration": 22,
    "start_time": "2022-07-06T21:35:54.885Z"
   },
   {
    "duration": 6,
    "start_time": "2022-07-06T21:35:54.909Z"
   },
   {
    "duration": 23,
    "start_time": "2022-07-06T21:35:54.916Z"
   },
   {
    "duration": 153,
    "start_time": "2022-07-06T21:35:54.941Z"
   },
   {
    "duration": 134,
    "start_time": "2022-07-06T21:35:55.097Z"
   },
   {
    "duration": 30,
    "start_time": "2022-07-06T21:35:55.233Z"
   },
   {
    "duration": 6,
    "start_time": "2022-07-06T21:35:55.265Z"
   },
   {
    "duration": 46,
    "start_time": "2022-07-06T21:35:55.273Z"
   },
   {
    "duration": 14,
    "start_time": "2022-07-06T21:35:55.321Z"
   },
   {
    "duration": 14,
    "start_time": "2022-07-06T21:35:55.337Z"
   },
   {
    "duration": 12,
    "start_time": "2022-07-06T21:35:55.353Z"
   },
   {
    "duration": 50,
    "start_time": "2022-07-06T21:35:55.367Z"
   },
   {
    "duration": 136,
    "start_time": "2022-07-06T21:35:55.419Z"
   },
   {
    "duration": 132,
    "start_time": "2022-07-06T21:35:55.556Z"
   },
   {
    "duration": 140,
    "start_time": "2022-07-06T21:35:55.690Z"
   },
   {
    "duration": 126,
    "start_time": "2022-07-06T21:35:55.831Z"
   },
   {
    "duration": 4,
    "start_time": "2022-07-06T21:35:55.958Z"
   },
   {
    "duration": 22,
    "start_time": "2022-07-06T21:35:55.964Z"
   },
   {
    "duration": 380,
    "start_time": "2022-07-06T21:35:55.988Z"
   },
   {
    "duration": 13,
    "start_time": "2022-07-06T21:35:56.370Z"
   },
   {
    "duration": 272,
    "start_time": "2022-07-06T21:35:56.384Z"
   },
   {
    "duration": 57,
    "start_time": "2022-07-06T21:35:56.658Z"
   },
   {
    "duration": 29,
    "start_time": "2022-07-06T21:35:56.717Z"
   },
   {
    "duration": 20,
    "start_time": "2022-07-06T21:36:46.251Z"
   },
   {
    "duration": 5,
    "start_time": "2022-07-06T21:38:50.501Z"
   },
   {
    "duration": 4,
    "start_time": "2022-07-06T21:38:56.348Z"
   },
   {
    "duration": 5,
    "start_time": "2022-07-06T21:39:02.582Z"
   },
   {
    "duration": 79,
    "start_time": "2022-07-06T21:40:53.497Z"
   },
   {
    "duration": 83,
    "start_time": "2022-07-06T21:41:07.967Z"
   },
   {
    "duration": 12,
    "start_time": "2022-07-06T21:41:15.969Z"
   },
   {
    "duration": 12,
    "start_time": "2022-07-06T21:41:35.194Z"
   },
   {
    "duration": 14,
    "start_time": "2022-07-06T21:44:54.446Z"
   },
   {
    "duration": 83,
    "start_time": "2022-07-06T21:46:16.683Z"
   },
   {
    "duration": 21,
    "start_time": "2022-07-06T21:46:24.146Z"
   },
   {
    "duration": 11,
    "start_time": "2022-07-06T21:46:34.751Z"
   },
   {
    "duration": 13,
    "start_time": "2022-07-06T21:46:38.890Z"
   },
   {
    "duration": 10,
    "start_time": "2022-07-06T21:46:47.250Z"
   },
   {
    "duration": 10,
    "start_time": "2022-07-06T21:47:02.585Z"
   },
   {
    "duration": 12,
    "start_time": "2022-07-06T21:49:08.278Z"
   },
   {
    "duration": 11,
    "start_time": "2022-07-06T21:49:31.146Z"
   },
   {
    "duration": 17,
    "start_time": "2022-07-06T21:49:43.528Z"
   },
   {
    "duration": 17,
    "start_time": "2022-07-06T21:51:23.084Z"
   },
   {
    "duration": 32,
    "start_time": "2022-07-06T22:12:07.424Z"
   },
   {
    "duration": 118,
    "start_time": "2022-07-06T22:12:42.983Z"
   },
   {
    "duration": 16,
    "start_time": "2022-07-06T22:12:54.981Z"
   },
   {
    "duration": 16,
    "start_time": "2022-07-06T22:13:03.221Z"
   },
   {
    "duration": 18,
    "start_time": "2022-07-06T22:18:09.959Z"
   },
   {
    "duration": 23,
    "start_time": "2022-07-06T22:18:22.659Z"
   },
   {
    "duration": 24,
    "start_time": "2022-07-06T22:19:34.729Z"
   },
   {
    "duration": 22,
    "start_time": "2022-07-06T22:20:41.760Z"
   },
   {
    "duration": 24,
    "start_time": "2022-07-06T22:23:17.255Z"
   },
   {
    "duration": 27,
    "start_time": "2022-07-06T22:23:28.677Z"
   },
   {
    "duration": 23,
    "start_time": "2022-07-06T22:23:33.107Z"
   },
   {
    "duration": 320,
    "start_time": "2022-07-06T22:23:49.867Z"
   },
   {
    "duration": 23,
    "start_time": "2022-07-06T22:24:06.421Z"
   },
   {
    "duration": 11,
    "start_time": "2022-07-06T22:24:56.621Z"
   },
   {
    "duration": 24,
    "start_time": "2022-07-06T22:25:00.081Z"
   },
   {
    "duration": 22,
    "start_time": "2022-07-06T22:26:15.720Z"
   },
   {
    "duration": 167,
    "start_time": "2022-07-06T22:26:36.649Z"
   },
   {
    "duration": 154,
    "start_time": "2022-07-06T22:26:46.314Z"
   },
   {
    "duration": 184,
    "start_time": "2022-07-06T22:28:51.841Z"
   },
   {
    "duration": 338,
    "start_time": "2022-07-06T22:34:43.071Z"
   },
   {
    "duration": 195,
    "start_time": "2022-07-06T22:35:00.277Z"
   },
   {
    "duration": 233,
    "start_time": "2022-07-06T22:35:12.043Z"
   },
   {
    "duration": 275,
    "start_time": "2022-07-06T22:35:44.399Z"
   },
   {
    "duration": 362,
    "start_time": "2022-07-06T22:35:54.888Z"
   },
   {
    "duration": 244,
    "start_time": "2022-07-06T22:36:17.497Z"
   },
   {
    "duration": 204,
    "start_time": "2022-07-06T22:37:08.572Z"
   },
   {
    "duration": 191,
    "start_time": "2022-07-06T22:37:11.894Z"
   },
   {
    "duration": 210,
    "start_time": "2022-07-06T22:37:29.491Z"
   },
   {
    "duration": 191,
    "start_time": "2022-07-06T22:37:31.693Z"
   },
   {
    "duration": 331,
    "start_time": "2022-07-06T22:37:46.599Z"
   },
   {
    "duration": 271,
    "start_time": "2022-07-06T22:38:18.551Z"
   },
   {
    "duration": 395,
    "start_time": "2022-07-06T22:38:27.421Z"
   },
   {
    "duration": 289,
    "start_time": "2022-07-06T22:38:33.327Z"
   },
   {
    "duration": 271,
    "start_time": "2022-07-06T22:38:55.948Z"
   },
   {
    "duration": 20,
    "start_time": "2022-07-06T22:39:36.490Z"
   },
   {
    "duration": 4,
    "start_time": "2022-07-06T22:39:41.165Z"
   },
   {
    "duration": 281,
    "start_time": "2022-07-06T22:39:43.586Z"
   },
   {
    "duration": 4,
    "start_time": "2022-07-06T22:39:52.714Z"
   },
   {
    "duration": 279,
    "start_time": "2022-07-06T22:39:55.074Z"
   },
   {
    "duration": 4,
    "start_time": "2022-07-06T22:40:26.016Z"
   },
   {
    "duration": 261,
    "start_time": "2022-07-06T22:40:33.012Z"
   },
   {
    "duration": 6,
    "start_time": "2022-07-06T22:42:14.824Z"
   },
   {
    "duration": 374,
    "start_time": "2022-07-06T22:42:17.970Z"
   },
   {
    "duration": 275,
    "start_time": "2022-07-06T22:42:23.737Z"
   },
   {
    "duration": 4,
    "start_time": "2022-07-06T22:42:41.515Z"
   },
   {
    "duration": 6,
    "start_time": "2022-07-06T22:42:43.818Z"
   },
   {
    "duration": 300,
    "start_time": "2022-07-06T22:42:44.225Z"
   },
   {
    "duration": 5,
    "start_time": "2022-07-06T22:43:22.790Z"
   },
   {
    "duration": 265,
    "start_time": "2022-07-06T22:43:23.326Z"
   },
   {
    "duration": 5,
    "start_time": "2022-07-06T22:43:50.667Z"
   },
   {
    "duration": 278,
    "start_time": "2022-07-06T22:43:50.793Z"
   },
   {
    "duration": 5,
    "start_time": "2022-07-06T22:44:12.718Z"
   },
   {
    "duration": 285,
    "start_time": "2022-07-06T22:44:13.127Z"
   },
   {
    "duration": 280,
    "start_time": "2022-07-06T22:44:24.815Z"
   },
   {
    "duration": 390,
    "start_time": "2022-07-06T22:44:50.645Z"
   },
   {
    "duration": 265,
    "start_time": "2022-07-06T22:45:06.166Z"
   },
   {
    "duration": 5,
    "start_time": "2022-07-06T22:45:25.522Z"
   },
   {
    "duration": 292,
    "start_time": "2022-07-06T22:45:28.427Z"
   },
   {
    "duration": 5,
    "start_time": "2022-07-06T22:45:38.050Z"
   },
   {
    "duration": 4,
    "start_time": "2022-07-06T22:45:39.594Z"
   },
   {
    "duration": 297,
    "start_time": "2022-07-06T22:45:39.777Z"
   },
   {
    "duration": 5,
    "start_time": "2022-07-06T22:45:59.777Z"
   },
   {
    "duration": 291,
    "start_time": "2022-07-06T22:46:00.268Z"
   },
   {
    "duration": 4,
    "start_time": "2022-07-06T22:46:28.650Z"
   },
   {
    "duration": 4,
    "start_time": "2022-07-06T22:46:42.474Z"
   },
   {
    "duration": 7,
    "start_time": "2022-07-06T22:46:44.010Z"
   },
   {
    "duration": 269,
    "start_time": "2022-07-06T22:46:44.233Z"
   },
   {
    "duration": 5,
    "start_time": "2022-07-06T22:47:50.537Z"
   },
   {
    "duration": 236,
    "start_time": "2022-07-06T22:47:50.778Z"
   },
   {
    "duration": 5,
    "start_time": "2022-07-06T23:16:56.008Z"
   },
   {
    "duration": 5,
    "start_time": "2022-07-06T23:16:58.326Z"
   },
   {
    "duration": 241,
    "start_time": "2022-07-06T23:16:58.599Z"
   },
   {
    "duration": 5,
    "start_time": "2022-07-06T23:17:10.698Z"
   },
   {
    "duration": 364,
    "start_time": "2022-07-06T23:17:11.193Z"
   },
   {
    "duration": 5,
    "start_time": "2022-07-06T23:17:41.181Z"
   },
   {
    "duration": 244,
    "start_time": "2022-07-06T23:17:41.668Z"
   },
   {
    "duration": 6,
    "start_time": "2022-07-06T23:19:16.652Z"
   },
   {
    "duration": 257,
    "start_time": "2022-07-06T23:19:33.500Z"
   },
   {
    "duration": 6,
    "start_time": "2022-07-06T23:19:56.445Z"
   },
   {
    "duration": 262,
    "start_time": "2022-07-06T23:19:56.940Z"
   },
   {
    "duration": 6,
    "start_time": "2022-07-06T23:20:28.393Z"
   },
   {
    "duration": 5,
    "start_time": "2022-07-06T23:20:29.695Z"
   },
   {
    "duration": 248,
    "start_time": "2022-07-06T23:20:30.095Z"
   },
   {
    "duration": 5,
    "start_time": "2022-07-06T23:21:03.935Z"
   },
   {
    "duration": 6,
    "start_time": "2022-07-06T23:21:05.017Z"
   },
   {
    "duration": 278,
    "start_time": "2022-07-06T23:21:05.403Z"
   },
   {
    "duration": 294,
    "start_time": "2022-07-06T23:26:57.125Z"
   },
   {
    "duration": 292,
    "start_time": "2022-07-06T23:27:13.847Z"
   },
   {
    "duration": 301,
    "start_time": "2022-07-06T23:27:18.125Z"
   },
   {
    "duration": 517,
    "start_time": "2022-07-06T23:27:44.063Z"
   },
   {
    "duration": 74,
    "start_time": "2022-07-06T23:37:38.344Z"
   },
   {
    "duration": 4,
    "start_time": "2022-07-06T23:37:47.879Z"
   },
   {
    "duration": 4,
    "start_time": "2022-07-06T23:37:59.749Z"
   },
   {
    "duration": 12,
    "start_time": "2022-07-06T23:38:19.111Z"
   },
   {
    "duration": 3,
    "start_time": "2022-07-06T23:38:48.731Z"
   },
   {
    "duration": 3,
    "start_time": "2022-07-06T23:38:49.154Z"
   },
   {
    "duration": 16,
    "start_time": "2022-07-06T23:38:49.609Z"
   },
   {
    "duration": 3,
    "start_time": "2022-07-06T23:39:16.452Z"
   },
   {
    "duration": 4,
    "start_time": "2022-07-06T23:39:16.889Z"
   },
   {
    "duration": 4,
    "start_time": "2022-07-06T23:39:17.314Z"
   },
   {
    "duration": 4,
    "start_time": "2022-07-06T23:39:23.278Z"
   },
   {
    "duration": 3,
    "start_time": "2022-07-06T23:39:28.182Z"
   },
   {
    "duration": 3,
    "start_time": "2022-07-06T23:39:30.643Z"
   },
   {
    "duration": 3,
    "start_time": "2022-07-06T23:39:47.007Z"
   },
   {
    "duration": 4,
    "start_time": "2022-07-06T23:39:51.144Z"
   },
   {
    "duration": 4,
    "start_time": "2022-07-06T23:40:04.754Z"
   },
   {
    "duration": 2,
    "start_time": "2022-07-06T23:40:05.145Z"
   },
   {
    "duration": 4,
    "start_time": "2022-07-06T23:40:05.545Z"
   },
   {
    "duration": 13,
    "start_time": "2022-07-06T23:40:05.913Z"
   },
   {
    "duration": 4,
    "start_time": "2022-07-06T23:40:14.596Z"
   },
   {
    "duration": 3,
    "start_time": "2022-07-06T23:40:15.021Z"
   },
   {
    "duration": 4,
    "start_time": "2022-07-06T23:40:15.406Z"
   },
   {
    "duration": 2,
    "start_time": "2022-07-06T23:40:17.291Z"
   },
   {
    "duration": 2,
    "start_time": "2022-07-06T23:40:20.787Z"
   },
   {
    "duration": 4,
    "start_time": "2022-07-06T23:40:37.943Z"
   },
   {
    "duration": 3,
    "start_time": "2022-07-06T23:40:38.356Z"
   },
   {
    "duration": 4,
    "start_time": "2022-07-06T23:40:38.778Z"
   },
   {
    "duration": 3,
    "start_time": "2022-07-06T23:40:43.183Z"
   },
   {
    "duration": 4,
    "start_time": "2022-07-06T23:40:54.948Z"
   },
   {
    "duration": 3,
    "start_time": "2022-07-06T23:40:55.323Z"
   },
   {
    "duration": 5,
    "start_time": "2022-07-06T23:40:55.668Z"
   },
   {
    "duration": 3,
    "start_time": "2022-07-06T23:40:55.995Z"
   },
   {
    "duration": 4,
    "start_time": "2022-07-06T23:41:11.828Z"
   },
   {
    "duration": 3,
    "start_time": "2022-07-06T23:41:12.292Z"
   },
   {
    "duration": 4,
    "start_time": "2022-07-06T23:41:12.764Z"
   },
   {
    "duration": 4,
    "start_time": "2022-07-06T23:41:13.277Z"
   },
   {
    "duration": 4,
    "start_time": "2022-07-06T23:42:36.831Z"
   },
   {
    "duration": 3,
    "start_time": "2022-07-06T23:42:37.190Z"
   },
   {
    "duration": 4,
    "start_time": "2022-07-06T23:42:37.702Z"
   },
   {
    "duration": 5,
    "start_time": "2022-07-06T23:42:38.181Z"
   },
   {
    "duration": 4,
    "start_time": "2022-07-06T23:49:21.922Z"
   },
   {
    "duration": 2,
    "start_time": "2022-07-06T23:49:22.419Z"
   },
   {
    "duration": 4,
    "start_time": "2022-07-06T23:49:22.843Z"
   },
   {
    "duration": 5,
    "start_time": "2022-07-06T23:49:23.379Z"
   },
   {
    "duration": 4,
    "start_time": "2022-07-06T23:49:31.530Z"
   },
   {
    "duration": 4,
    "start_time": "2022-07-06T23:49:38.096Z"
   },
   {
    "duration": 4,
    "start_time": "2022-07-06T23:49:44.571Z"
   },
   {
    "duration": 4,
    "start_time": "2022-07-06T23:49:50.162Z"
   },
   {
    "duration": 4,
    "start_time": "2022-07-06T23:49:54.509Z"
   },
   {
    "duration": 4,
    "start_time": "2022-07-06T23:50:30.962Z"
   },
   {
    "duration": 4,
    "start_time": "2022-07-06T23:51:22.144Z"
   },
   {
    "duration": 3,
    "start_time": "2022-07-06T23:51:23.110Z"
   },
   {
    "duration": 4,
    "start_time": "2022-07-06T23:51:23.566Z"
   },
   {
    "duration": 5,
    "start_time": "2022-07-06T23:51:27.946Z"
   },
   {
    "duration": 4,
    "start_time": "2022-07-06T23:51:32.111Z"
   },
   {
    "duration": 3,
    "start_time": "2022-07-06T23:51:36.691Z"
   },
   {
    "duration": 4,
    "start_time": "2022-07-06T23:51:43.565Z"
   },
   {
    "duration": 4,
    "start_time": "2022-07-06T23:51:47.616Z"
   },
   {
    "duration": 6,
    "start_time": "2022-07-06T23:51:53.356Z"
   },
   {
    "duration": 6,
    "start_time": "2022-07-06T23:52:00.149Z"
   },
   {
    "duration": 5,
    "start_time": "2022-07-06T23:52:03.743Z"
   },
   {
    "duration": 18,
    "start_time": "2022-07-06T23:52:55.959Z"
   },
   {
    "duration": 8,
    "start_time": "2022-07-06T23:53:29.198Z"
   },
   {
    "duration": 19,
    "start_time": "2022-07-06T23:53:32.042Z"
   },
   {
    "duration": 7,
    "start_time": "2022-07-06T23:54:21.253Z"
   },
   {
    "duration": 6,
    "start_time": "2022-07-06T23:55:19.044Z"
   },
   {
    "duration": 8,
    "start_time": "2022-07-06T23:55:50.779Z"
   },
   {
    "duration": 7,
    "start_time": "2022-07-06T23:57:48.279Z"
   },
   {
    "duration": 4,
    "start_time": "2022-07-07T00:00:32.573Z"
   },
   {
    "duration": 13,
    "start_time": "2022-07-07T00:00:47.101Z"
   },
   {
    "duration": 13,
    "start_time": "2022-07-07T00:01:00.371Z"
   },
   {
    "duration": 263,
    "start_time": "2022-07-07T00:08:01.148Z"
   },
   {
    "duration": 385,
    "start_time": "2022-07-07T00:08:13.542Z"
   },
   {
    "duration": 401,
    "start_time": "2022-07-07T00:08:20.828Z"
   },
   {
    "duration": 385,
    "start_time": "2022-07-07T00:08:27.788Z"
   },
   {
    "duration": 1623,
    "start_time": "2022-07-07T00:08:33.815Z"
   },
   {
    "duration": 10,
    "start_time": "2022-07-07T00:09:27.524Z"
   },
   {
    "duration": 6,
    "start_time": "2022-07-07T00:09:34.544Z"
   },
   {
    "duration": 13,
    "start_time": "2022-07-07T19:42:27.382Z"
   },
   {
    "duration": 1336,
    "start_time": "2022-07-07T19:42:27.397Z"
   },
   {
    "duration": 354,
    "start_time": "2022-07-07T19:42:28.734Z"
   },
   {
    "duration": 307,
    "start_time": "2022-07-07T19:42:29.090Z"
   },
   {
    "duration": 12,
    "start_time": "2022-07-07T19:42:29.398Z"
   },
   {
    "duration": 11,
    "start_time": "2022-07-07T19:42:29.411Z"
   },
   {
    "duration": 12,
    "start_time": "2022-07-07T19:42:29.423Z"
   },
   {
    "duration": 12,
    "start_time": "2022-07-07T19:42:29.437Z"
   },
   {
    "duration": 11,
    "start_time": "2022-07-07T19:42:29.451Z"
   },
   {
    "duration": 38,
    "start_time": "2022-07-07T19:42:29.464Z"
   },
   {
    "duration": 10,
    "start_time": "2022-07-07T19:42:29.504Z"
   },
   {
    "duration": 22,
    "start_time": "2022-07-07T19:42:29.516Z"
   },
   {
    "duration": 11,
    "start_time": "2022-07-07T19:42:29.540Z"
   },
   {
    "duration": 11,
    "start_time": "2022-07-07T19:42:29.553Z"
   },
   {
    "duration": 58,
    "start_time": "2022-07-07T19:42:29.565Z"
   },
   {
    "duration": 12,
    "start_time": "2022-07-07T19:42:29.625Z"
   },
   {
    "duration": 19,
    "start_time": "2022-07-07T19:42:29.639Z"
   },
   {
    "duration": 8,
    "start_time": "2022-07-07T19:42:29.659Z"
   },
   {
    "duration": 38,
    "start_time": "2022-07-07T19:42:29.668Z"
   },
   {
    "duration": 240,
    "start_time": "2022-07-07T19:42:29.708Z"
   },
   {
    "duration": 18,
    "start_time": "2022-07-07T19:42:29.950Z"
   },
   {
    "duration": 6,
    "start_time": "2022-07-07T19:42:29.970Z"
   },
   {
    "duration": 39,
    "start_time": "2022-07-07T19:42:29.978Z"
   },
   {
    "duration": 12,
    "start_time": "2022-07-07T19:42:30.019Z"
   },
   {
    "duration": 16,
    "start_time": "2022-07-07T19:42:30.033Z"
   },
   {
    "duration": 10,
    "start_time": "2022-07-07T19:42:30.051Z"
   },
   {
    "duration": 9,
    "start_time": "2022-07-07T19:42:30.063Z"
   },
   {
    "duration": 69,
    "start_time": "2022-07-07T19:42:30.076Z"
   },
   {
    "duration": 17,
    "start_time": "2022-07-07T19:42:30.146Z"
   },
   {
    "duration": 13,
    "start_time": "2022-07-07T19:42:30.165Z"
   },
   {
    "duration": 8,
    "start_time": "2022-07-07T19:42:30.179Z"
   },
   {
    "duration": 21,
    "start_time": "2022-07-07T19:42:30.189Z"
   },
   {
    "duration": 108,
    "start_time": "2022-07-07T19:42:30.211Z"
   },
   {
    "duration": 144,
    "start_time": "2022-07-07T19:42:30.321Z"
   },
   {
    "duration": 38,
    "start_time": "2022-07-07T19:42:30.467Z"
   },
   {
    "duration": 6,
    "start_time": "2022-07-07T19:42:30.507Z"
   },
   {
    "duration": 32,
    "start_time": "2022-07-07T19:42:30.514Z"
   },
   {
    "duration": 12,
    "start_time": "2022-07-07T19:42:30.547Z"
   },
   {
    "duration": 22,
    "start_time": "2022-07-07T19:42:30.561Z"
   },
   {
    "duration": 24,
    "start_time": "2022-07-07T19:42:30.584Z"
   },
   {
    "duration": 21,
    "start_time": "2022-07-07T19:42:30.610Z"
   },
   {
    "duration": 125,
    "start_time": "2022-07-07T19:42:30.632Z"
   },
   {
    "duration": 115,
    "start_time": "2022-07-07T19:42:30.759Z"
   },
   {
    "duration": 137,
    "start_time": "2022-07-07T19:42:30.876Z"
   },
   {
    "duration": 117,
    "start_time": "2022-07-07T19:42:31.015Z"
   },
   {
    "duration": 4,
    "start_time": "2022-07-07T19:42:31.133Z"
   },
   {
    "duration": 50,
    "start_time": "2022-07-07T19:42:31.139Z"
   },
   {
    "duration": 356,
    "start_time": "2022-07-07T19:42:31.190Z"
   },
   {
    "duration": 12,
    "start_time": "2022-07-07T19:42:31.547Z"
   },
   {
    "duration": 241,
    "start_time": "2022-07-07T19:42:31.560Z"
   },
   {
    "duration": 31,
    "start_time": "2022-07-07T19:42:31.803Z"
   },
   {
    "duration": 11,
    "start_time": "2022-07-07T19:42:31.836Z"
   },
   {
    "duration": 14,
    "start_time": "2022-07-07T19:42:31.848Z"
   },
   {
    "duration": 37,
    "start_time": "2022-07-07T19:42:31.864Z"
   },
   {
    "duration": 20,
    "start_time": "2022-07-07T19:42:31.903Z"
   },
   {
    "duration": 11,
    "start_time": "2022-07-07T19:42:31.924Z"
   },
   {
    "duration": 358,
    "start_time": "2022-07-07T19:42:31.937Z"
   },
   {
    "duration": 6,
    "start_time": "2022-07-07T19:42:32.301Z"
   },
   {
    "duration": 9,
    "start_time": "2022-07-07T19:42:32.309Z"
   },
   {
    "duration": 1475,
    "start_time": "2022-07-07T19:42:32.320Z"
   },
   {
    "duration": 5,
    "start_time": "2022-07-07T19:42:33.801Z"
   },
   {
    "duration": 32,
    "start_time": "2022-07-07T19:42:33.808Z"
   },
   {
    "duration": 8,
    "start_time": "2022-07-07T19:44:58.026Z"
   },
   {
    "duration": 8,
    "start_time": "2022-07-07T19:45:15.410Z"
   },
   {
    "duration": 8,
    "start_time": "2022-07-07T19:45:26.238Z"
   },
   {
    "duration": 15,
    "start_time": "2022-07-07T19:46:09.723Z"
   },
   {
    "duration": 8,
    "start_time": "2022-07-07T19:47:13.196Z"
   },
   {
    "duration": 11,
    "start_time": "2022-07-07T19:48:01.647Z"
   },
   {
    "duration": 12,
    "start_time": "2022-07-07T19:48:45.856Z"
   },
   {
    "duration": 11,
    "start_time": "2022-07-07T19:48:50.231Z"
   },
   {
    "duration": 1476,
    "start_time": "2022-07-07T19:50:21.765Z"
   },
   {
    "duration": 338,
    "start_time": "2022-07-07T19:50:39.653Z"
   },
   {
    "duration": 1698,
    "start_time": "2022-07-07T19:50:43.516Z"
   },
   {
    "duration": 6,
    "start_time": "2022-07-07T20:00:19.872Z"
   },
   {
    "duration": 22,
    "start_time": "2022-07-07T20:00:21.447Z"
   },
   {
    "duration": 20,
    "start_time": "2022-07-07T20:00:42.050Z"
   },
   {
    "duration": 18,
    "start_time": "2022-07-07T20:00:55.189Z"
   },
   {
    "duration": 9,
    "start_time": "2022-07-07T20:05:57.686Z"
   },
   {
    "duration": 6,
    "start_time": "2022-07-07T20:06:11.606Z"
   },
   {
    "duration": 8,
    "start_time": "2022-07-07T20:06:59.753Z"
   },
   {
    "duration": 18,
    "start_time": "2022-07-07T20:10:17.845Z"
   },
   {
    "duration": 7,
    "start_time": "2022-07-07T20:10:45.056Z"
   },
   {
    "duration": 128,
    "start_time": "2022-07-07T20:10:53.420Z"
   },
   {
    "duration": 7,
    "start_time": "2022-07-07T20:10:56.612Z"
   },
   {
    "duration": 7,
    "start_time": "2022-07-07T20:11:10.725Z"
   },
   {
    "duration": 15,
    "start_time": "2022-07-07T20:11:19.073Z"
   },
   {
    "duration": 15,
    "start_time": "2022-07-07T20:31:37.677Z"
   },
   {
    "duration": 268,
    "start_time": "2022-07-07T20:32:19.287Z"
   },
   {
    "duration": 587,
    "start_time": "2022-07-07T20:33:50.276Z"
   },
   {
    "duration": 313,
    "start_time": "2022-07-07T20:33:55.766Z"
   },
   {
    "duration": 17,
    "start_time": "2022-07-07T20:34:57.876Z"
   },
   {
    "duration": 14,
    "start_time": "2022-07-07T20:35:00.477Z"
   },
   {
    "duration": 7,
    "start_time": "2022-07-07T21:15:02.513Z"
   },
   {
    "duration": 168,
    "start_time": "2022-07-07T21:15:06.376Z"
   },
   {
    "duration": 156,
    "start_time": "2022-07-07T21:15:23.474Z"
   },
   {
    "duration": 157,
    "start_time": "2022-07-07T21:16:25.777Z"
   },
   {
    "duration": 18,
    "start_time": "2022-07-07T21:16:34.087Z"
   },
   {
    "duration": 13,
    "start_time": "2022-07-07T21:16:42.497Z"
   },
   {
    "duration": 158,
    "start_time": "2022-07-07T21:16:46.751Z"
   },
   {
    "duration": 1644,
    "start_time": "2022-07-07T21:17:34.972Z"
   },
   {
    "duration": 761,
    "start_time": "2022-07-07T21:17:41.133Z"
   },
   {
    "duration": 511,
    "start_time": "2022-07-07T21:17:45.856Z"
   },
   {
    "duration": 399,
    "start_time": "2022-07-07T21:17:52.349Z"
   },
   {
    "duration": 16,
    "start_time": "2022-07-07T21:19:10.175Z"
   },
   {
    "duration": 374,
    "start_time": "2022-07-07T21:19:27.523Z"
   },
   {
    "duration": 243,
    "start_time": "2022-07-07T21:19:32.191Z"
   },
   {
    "duration": 16,
    "start_time": "2022-07-07T21:20:23.714Z"
   },
   {
    "duration": 383,
    "start_time": "2022-07-07T21:20:34.117Z"
   },
   {
    "duration": 303,
    "start_time": "2022-07-07T21:32:36.118Z"
   },
   {
    "duration": 264,
    "start_time": "2022-07-07T21:32:58.599Z"
   },
   {
    "duration": 395,
    "start_time": "2022-07-07T21:33:02.265Z"
   },
   {
    "duration": 1507,
    "start_time": "2022-07-07T21:34:18.468Z"
   },
   {
    "duration": 1052,
    "start_time": "2022-07-07T21:34:34.826Z"
   },
   {
    "duration": 476,
    "start_time": "2022-07-07T21:34:43.805Z"
   },
   {
    "duration": 830,
    "start_time": "2022-07-07T21:34:48.387Z"
   },
   {
    "duration": 5,
    "start_time": "2022-07-07T21:46:22.017Z"
   },
   {
    "duration": 21,
    "start_time": "2022-07-07T21:47:01.081Z"
   },
   {
    "duration": 3,
    "start_time": "2022-07-07T21:49:41.042Z"
   },
   {
    "duration": 5,
    "start_time": "2022-07-07T21:49:45.171Z"
   },
   {
    "duration": 9,
    "start_time": "2022-07-07T21:49:53.566Z"
   },
   {
    "duration": 10,
    "start_time": "2022-07-07T21:50:04.739Z"
   },
   {
    "duration": 12,
    "start_time": "2022-07-07T21:50:08.435Z"
   },
   {
    "duration": 10,
    "start_time": "2022-07-07T21:50:10.886Z"
   },
   {
    "duration": 10,
    "start_time": "2022-07-07T21:50:21.404Z"
   },
   {
    "duration": 1423,
    "start_time": "2022-07-07T21:51:36.780Z"
   },
   {
    "duration": 446,
    "start_time": "2022-07-07T21:51:45.902Z"
   },
   {
    "duration": 3,
    "start_time": "2022-07-07T21:52:21.750Z"
   },
   {
    "duration": 4,
    "start_time": "2022-07-07T21:52:24.541Z"
   },
   {
    "duration": 4,
    "start_time": "2022-07-07T21:52:53.740Z"
   },
   {
    "duration": 1641,
    "start_time": "2022-07-07T21:53:40.412Z"
   },
   {
    "duration": 13,
    "start_time": "2022-07-07T21:53:45.900Z"
   },
   {
    "duration": 20,
    "start_time": "2022-07-07T21:55:19.479Z"
   },
   {
    "duration": 9,
    "start_time": "2022-07-07T21:55:29.774Z"
   },
   {
    "duration": 5,
    "start_time": "2022-07-07T21:55:42.333Z"
   },
   {
    "duration": 9,
    "start_time": "2022-07-07T21:55:45.722Z"
   },
   {
    "duration": 18,
    "start_time": "2022-07-07T21:55:55.712Z"
   },
   {
    "duration": 18,
    "start_time": "2022-07-07T21:56:09.297Z"
   },
   {
    "duration": 29,
    "start_time": "2022-07-07T21:58:53.916Z"
   },
   {
    "duration": 26,
    "start_time": "2022-07-07T21:59:03.873Z"
   },
   {
    "duration": 22,
    "start_time": "2022-07-07T21:59:13.655Z"
   },
   {
    "duration": 24,
    "start_time": "2022-07-07T21:59:22.584Z"
   },
   {
    "duration": 27,
    "start_time": "2022-07-07T21:59:27.909Z"
   },
   {
    "duration": 21,
    "start_time": "2022-07-07T22:00:43.731Z"
   },
   {
    "duration": 962,
    "start_time": "2022-07-07T22:00:50.370Z"
   },
   {
    "duration": 891,
    "start_time": "2022-07-07T22:00:57.795Z"
   },
   {
    "duration": 10,
    "start_time": "2022-07-07T22:01:02.766Z"
   },
   {
    "duration": 8,
    "start_time": "2022-07-07T22:01:08.228Z"
   },
   {
    "duration": 25,
    "start_time": "2022-07-07T22:01:08.943Z"
   },
   {
    "duration": 3,
    "start_time": "2022-07-07T22:02:30.150Z"
   },
   {
    "duration": 12,
    "start_time": "2022-07-07T22:02:52.118Z"
   },
   {
    "duration": 1058,
    "start_time": "2022-07-07T22:03:23.498Z"
   },
   {
    "duration": 11,
    "start_time": "2022-07-07T22:03:29.433Z"
   },
   {
    "duration": 3,
    "start_time": "2022-07-07T22:03:43.696Z"
   },
   {
    "duration": 3,
    "start_time": "2022-07-07T22:03:45.489Z"
   },
   {
    "duration": 1125,
    "start_time": "2022-07-07T22:03:45.961Z"
   },
   {
    "duration": 0,
    "start_time": "2022-07-07T22:03:47.088Z"
   },
   {
    "duration": 6,
    "start_time": "2022-07-07T22:04:01.795Z"
   },
   {
    "duration": 10,
    "start_time": "2022-07-07T22:04:07.188Z"
   },
   {
    "duration": 11,
    "start_time": "2022-07-07T22:04:14.127Z"
   },
   {
    "duration": 6,
    "start_time": "2022-07-07T22:04:22.569Z"
   },
   {
    "duration": 25,
    "start_time": "2022-07-07T22:04:23.068Z"
   },
   {
    "duration": 9,
    "start_time": "2022-07-07T22:04:23.788Z"
   },
   {
    "duration": 9,
    "start_time": "2022-07-07T22:04:29.688Z"
   },
   {
    "duration": 4,
    "start_time": "2022-07-07T22:04:33.725Z"
   },
   {
    "duration": 10294,
    "start_time": "2022-07-07T22:04:34.505Z"
   },
   {
    "duration": 13,
    "start_time": "2022-07-07T22:04:48.093Z"
   },
   {
    "duration": 145,
    "start_time": "2022-07-07T22:05:29.189Z"
   },
   {
    "duration": 13,
    "start_time": "2022-07-07T22:05:43.690Z"
   },
   {
    "duration": 127,
    "start_time": "2022-07-07T22:06:02.362Z"
   },
   {
    "duration": 372,
    "start_time": "2022-07-07T22:06:11.208Z"
   },
   {
    "duration": 9,
    "start_time": "2022-07-07T22:06:17.061Z"
   },
   {
    "duration": 14,
    "start_time": "2022-07-07T22:06:48.280Z"
   },
   {
    "duration": 3,
    "start_time": "2022-07-07T22:06:57.813Z"
   },
   {
    "duration": 11358,
    "start_time": "2022-07-07T22:07:00.036Z"
   },
   {
    "duration": 11,
    "start_time": "2022-07-07T22:07:14.859Z"
   },
   {
    "duration": 3,
    "start_time": "2022-07-07T22:08:18.640Z"
   },
   {
    "duration": 3,
    "start_time": "2022-07-07T22:08:20.811Z"
   },
   {
    "duration": 13837,
    "start_time": "2022-07-07T22:08:21.105Z"
   },
   {
    "duration": 3,
    "start_time": "2022-07-07T22:08:48.573Z"
   },
   {
    "duration": 3,
    "start_time": "2022-07-07T22:08:52.720Z"
   },
   {
    "duration": 11114,
    "start_time": "2022-07-07T22:08:53.195Z"
   },
   {
    "duration": 10,
    "start_time": "2022-07-07T22:09:06.021Z"
   },
   {
    "duration": 11,
    "start_time": "2022-07-07T22:10:49.698Z"
   },
   {
    "duration": 17,
    "start_time": "2022-07-07T22:11:01.973Z"
   },
   {
    "duration": 33,
    "start_time": "2022-07-07T22:12:18.422Z"
   },
   {
    "duration": 6,
    "start_time": "2022-07-07T22:12:24.312Z"
   },
   {
    "duration": 11,
    "start_time": "2022-07-07T22:12:26.277Z"
   },
   {
    "duration": 7,
    "start_time": "2022-07-07T22:12:38.382Z"
   },
   {
    "duration": 7,
    "start_time": "2022-07-07T22:12:40.528Z"
   },
   {
    "duration": 12,
    "start_time": "2022-07-07T22:12:41.162Z"
   },
   {
    "duration": 10,
    "start_time": "2022-07-07T22:12:50.263Z"
   },
   {
    "duration": 12,
    "start_time": "2022-07-07T22:12:50.673Z"
   },
   {
    "duration": 6,
    "start_time": "2022-07-07T22:13:18.224Z"
   },
   {
    "duration": 10,
    "start_time": "2022-07-07T22:13:18.623Z"
   },
   {
    "duration": 6,
    "start_time": "2022-07-07T22:13:27.055Z"
   },
   {
    "duration": 11,
    "start_time": "2022-07-07T22:13:27.587Z"
   },
   {
    "duration": 12,
    "start_time": "2022-07-07T22:13:50.763Z"
   },
   {
    "duration": 11,
    "start_time": "2022-07-07T22:13:51.236Z"
   },
   {
    "duration": 7,
    "start_time": "2022-07-07T22:14:14.611Z"
   },
   {
    "duration": 7,
    "start_time": "2022-07-07T22:14:44.395Z"
   },
   {
    "duration": 10,
    "start_time": "2022-07-07T22:16:26.656Z"
   },
   {
    "duration": 10,
    "start_time": "2022-07-07T22:16:32.413Z"
   },
   {
    "duration": 11,
    "start_time": "2022-07-07T22:16:52.137Z"
   },
   {
    "duration": 11,
    "start_time": "2022-07-07T22:18:29.920Z"
   },
   {
    "duration": 10,
    "start_time": "2022-07-07T22:18:41.036Z"
   },
   {
    "duration": 10,
    "start_time": "2022-07-07T22:18:53.502Z"
   },
   {
    "duration": 10,
    "start_time": "2022-07-07T22:21:06.965Z"
   },
   {
    "duration": 9,
    "start_time": "2022-07-07T22:21:14.900Z"
   },
   {
    "duration": 9,
    "start_time": "2022-07-07T22:22:00.205Z"
   },
   {
    "duration": 10,
    "start_time": "2022-07-07T22:40:10.348Z"
   },
   {
    "duration": 18,
    "start_time": "2022-07-07T22:40:20.046Z"
   },
   {
    "duration": 25,
    "start_time": "2022-07-07T22:41:32.201Z"
   },
   {
    "duration": 26,
    "start_time": "2022-07-07T22:41:44.431Z"
   },
   {
    "duration": 9,
    "start_time": "2022-07-07T22:41:53.718Z"
   },
   {
    "duration": 8,
    "start_time": "2022-07-07T22:42:51.295Z"
   },
   {
    "duration": 10,
    "start_time": "2022-07-07T22:43:18.526Z"
   },
   {
    "duration": 10,
    "start_time": "2022-07-07T22:43:31.885Z"
   },
   {
    "duration": 12,
    "start_time": "2022-07-07T22:43:38.925Z"
   },
   {
    "duration": 12,
    "start_time": "2022-07-07T22:43:43.447Z"
   },
   {
    "duration": 25,
    "start_time": "2022-07-07T22:44:39.633Z"
   },
   {
    "duration": 18,
    "start_time": "2022-07-07T22:45:33.494Z"
   },
   {
    "duration": 15,
    "start_time": "2022-07-07T22:45:53.964Z"
   },
   {
    "duration": 14,
    "start_time": "2022-07-07T22:46:24.939Z"
   },
   {
    "duration": 27,
    "start_time": "2022-07-07T22:47:03.266Z"
   },
   {
    "duration": 15,
    "start_time": "2022-07-07T22:47:22.830Z"
   },
   {
    "duration": 17,
    "start_time": "2022-07-07T22:47:27.146Z"
   },
   {
    "duration": 14,
    "start_time": "2022-07-07T22:47:32.750Z"
   },
   {
    "duration": 8,
    "start_time": "2022-07-07T22:50:47.926Z"
   },
   {
    "duration": 16,
    "start_time": "2022-07-07T22:50:51.146Z"
   },
   {
    "duration": 868,
    "start_time": "2022-07-07T22:51:16.841Z"
   },
   {
    "duration": 17,
    "start_time": "2022-07-07T22:51:31.077Z"
   },
   {
    "duration": 352,
    "start_time": "2022-07-07T22:51:42.301Z"
   },
   {
    "duration": 21,
    "start_time": "2022-07-07T22:52:47.487Z"
   },
   {
    "duration": 17,
    "start_time": "2022-07-07T22:53:26.275Z"
   },
   {
    "duration": 12,
    "start_time": "2022-07-07T22:53:38.942Z"
   },
   {
    "duration": 16,
    "start_time": "2022-07-07T22:53:55.740Z"
   },
   {
    "duration": 16,
    "start_time": "2022-07-07T22:54:32.573Z"
   },
   {
    "duration": 28,
    "start_time": "2022-07-07T22:54:49.169Z"
   },
   {
    "duration": 26,
    "start_time": "2022-07-07T22:55:11.920Z"
   },
   {
    "duration": 26,
    "start_time": "2022-07-07T22:55:41.432Z"
   },
   {
    "duration": 29,
    "start_time": "2022-07-07T22:56:08.079Z"
   },
   {
    "duration": 29,
    "start_time": "2022-07-07T22:56:34.544Z"
   },
   {
    "duration": 11,
    "start_time": "2022-07-07T22:57:02.494Z"
   },
   {
    "duration": 1125,
    "start_time": "2022-07-07T22:57:02.507Z"
   },
   {
    "duration": 166,
    "start_time": "2022-07-07T22:57:03.634Z"
   },
   {
    "duration": 328,
    "start_time": "2022-07-07T22:57:03.802Z"
   },
   {
    "duration": 10,
    "start_time": "2022-07-07T22:57:04.132Z"
   },
   {
    "duration": 13,
    "start_time": "2022-07-07T22:57:04.144Z"
   },
   {
    "duration": 28,
    "start_time": "2022-07-07T22:57:04.158Z"
   },
   {
    "duration": 24,
    "start_time": "2022-07-07T22:57:04.187Z"
   },
   {
    "duration": 13,
    "start_time": "2022-07-07T22:57:04.213Z"
   },
   {
    "duration": 9,
    "start_time": "2022-07-07T22:57:04.229Z"
   },
   {
    "duration": 8,
    "start_time": "2022-07-07T22:57:04.239Z"
   },
   {
    "duration": 19,
    "start_time": "2022-07-07T22:57:04.248Z"
   },
   {
    "duration": 36,
    "start_time": "2022-07-07T22:57:04.269Z"
   },
   {
    "duration": 10,
    "start_time": "2022-07-07T22:57:04.306Z"
   },
   {
    "duration": 20,
    "start_time": "2022-07-07T22:57:04.317Z"
   },
   {
    "duration": 16,
    "start_time": "2022-07-07T22:57:04.338Z"
   },
   {
    "duration": 18,
    "start_time": "2022-07-07T22:57:04.356Z"
   },
   {
    "duration": 31,
    "start_time": "2022-07-07T22:57:04.376Z"
   },
   {
    "duration": 12,
    "start_time": "2022-07-07T22:57:04.408Z"
   },
   {
    "duration": 216,
    "start_time": "2022-07-07T22:57:04.421Z"
   },
   {
    "duration": 17,
    "start_time": "2022-07-07T22:57:04.638Z"
   },
   {
    "duration": 6,
    "start_time": "2022-07-07T22:57:04.657Z"
   },
   {
    "duration": 16,
    "start_time": "2022-07-07T22:57:04.665Z"
   },
   {
    "duration": 8,
    "start_time": "2022-07-07T22:57:04.700Z"
   },
   {
    "duration": 14,
    "start_time": "2022-07-07T22:57:04.709Z"
   },
   {
    "duration": 13,
    "start_time": "2022-07-07T22:57:04.724Z"
   },
   {
    "duration": 11,
    "start_time": "2022-07-07T22:57:04.739Z"
   },
   {
    "duration": 47,
    "start_time": "2022-07-07T22:57:04.753Z"
   },
   {
    "duration": 16,
    "start_time": "2022-07-07T22:57:04.802Z"
   },
   {
    "duration": 12,
    "start_time": "2022-07-07T22:57:04.819Z"
   },
   {
    "duration": 4,
    "start_time": "2022-07-07T22:57:04.832Z"
   },
   {
    "duration": 19,
    "start_time": "2022-07-07T22:57:04.838Z"
   },
   {
    "duration": 137,
    "start_time": "2022-07-07T22:57:04.859Z"
   },
   {
    "duration": 120,
    "start_time": "2022-07-07T22:57:04.997Z"
   },
   {
    "duration": 26,
    "start_time": "2022-07-07T22:57:05.118Z"
   },
   {
    "duration": 4,
    "start_time": "2022-07-07T22:57:05.146Z"
   },
   {
    "duration": 24,
    "start_time": "2022-07-07T22:57:05.152Z"
   },
   {
    "duration": 34,
    "start_time": "2022-07-07T22:57:05.178Z"
   },
   {
    "duration": 18,
    "start_time": "2022-07-07T22:57:05.214Z"
   },
   {
    "duration": 13,
    "start_time": "2022-07-07T22:57:05.233Z"
   },
   {
    "duration": 24,
    "start_time": "2022-07-07T22:57:05.248Z"
   },
   {
    "duration": 140,
    "start_time": "2022-07-07T22:57:05.274Z"
   },
   {
    "duration": 121,
    "start_time": "2022-07-07T22:57:05.416Z"
   },
   {
    "duration": 119,
    "start_time": "2022-07-07T22:57:05.539Z"
   },
   {
    "duration": 103,
    "start_time": "2022-07-07T22:57:05.660Z"
   },
   {
    "duration": 4,
    "start_time": "2022-07-07T22:57:05.764Z"
   },
   {
    "duration": 20,
    "start_time": "2022-07-07T22:57:05.770Z"
   },
   {
    "duration": 321,
    "start_time": "2022-07-07T22:57:05.791Z"
   },
   {
    "duration": 10,
    "start_time": "2022-07-07T22:57:06.113Z"
   },
   {
    "duration": 236,
    "start_time": "2022-07-07T22:57:06.124Z"
   },
   {
    "duration": 40,
    "start_time": "2022-07-07T22:57:06.361Z"
   },
   {
    "duration": 10,
    "start_time": "2022-07-07T22:57:06.403Z"
   },
   {
    "duration": 12,
    "start_time": "2022-07-07T22:57:06.414Z"
   },
   {
    "duration": 15,
    "start_time": "2022-07-07T22:57:06.427Z"
   },
   {
    "duration": 22,
    "start_time": "2022-07-07T22:57:06.444Z"
   },
   {
    "duration": 37,
    "start_time": "2022-07-07T22:57:06.468Z"
   },
   {
    "duration": 344,
    "start_time": "2022-07-07T22:57:06.507Z"
   },
   {
    "duration": 7,
    "start_time": "2022-07-07T22:57:06.852Z"
   },
   {
    "duration": 13,
    "start_time": "2022-07-07T22:57:06.860Z"
   },
   {
    "duration": 27,
    "start_time": "2022-07-07T22:57:06.874Z"
   },
   {
    "duration": 1471,
    "start_time": "2022-07-07T22:57:06.903Z"
   },
   {
    "duration": 6,
    "start_time": "2022-07-07T22:57:08.376Z"
   },
   {
    "duration": 24,
    "start_time": "2022-07-07T22:57:08.383Z"
   },
   {
    "duration": 20,
    "start_time": "2022-07-07T22:57:08.408Z"
   },
   {
    "duration": 273,
    "start_time": "2022-07-07T22:57:08.429Z"
   },
   {
    "duration": 991,
    "start_time": "2022-07-07T22:57:08.704Z"
   },
   {
    "duration": 9,
    "start_time": "2022-07-07T22:57:09.701Z"
   },
   {
    "duration": 12,
    "start_time": "2022-07-07T22:57:09.712Z"
   },
   {
    "duration": 13,
    "start_time": "2022-07-07T22:57:09.725Z"
   },
   {
    "duration": 10,
    "start_time": "2022-07-07T22:57:09.740Z"
   },
   {
    "duration": 11,
    "start_time": "2022-07-07T22:57:09.752Z"
   },
   {
    "duration": 41,
    "start_time": "2022-07-07T22:57:09.764Z"
   },
   {
    "duration": 27,
    "start_time": "2022-07-07T22:57:15.744Z"
   },
   {
    "duration": 16,
    "start_time": "2022-07-07T22:58:27.671Z"
   },
   {
    "duration": 5,
    "start_time": "2022-07-07T23:01:00.876Z"
   },
   {
    "duration": 101,
    "start_time": "2022-07-07T23:01:10.324Z"
   },
   {
    "duration": 8,
    "start_time": "2022-07-07T23:01:16.490Z"
   },
   {
    "duration": 8,
    "start_time": "2022-07-07T23:01:38.247Z"
   },
   {
    "duration": 117,
    "start_time": "2022-07-07T23:01:45.530Z"
   },
   {
    "duration": 5,
    "start_time": "2022-07-07T23:02:18.978Z"
   },
   {
    "duration": 11,
    "start_time": "2022-07-07T23:07:00.468Z"
   },
   {
    "duration": 1233,
    "start_time": "2022-07-07T23:07:00.481Z"
   },
   {
    "duration": 162,
    "start_time": "2022-07-07T23:07:01.716Z"
   },
   {
    "duration": 273,
    "start_time": "2022-07-07T23:07:01.880Z"
   },
   {
    "duration": 11,
    "start_time": "2022-07-07T23:07:02.154Z"
   },
   {
    "duration": 15,
    "start_time": "2022-07-07T23:07:02.166Z"
   },
   {
    "duration": 42,
    "start_time": "2022-07-07T23:07:02.183Z"
   },
   {
    "duration": 36,
    "start_time": "2022-07-07T23:07:02.227Z"
   },
   {
    "duration": 30,
    "start_time": "2022-07-07T23:07:02.265Z"
   },
   {
    "duration": 13,
    "start_time": "2022-07-07T23:07:02.298Z"
   },
   {
    "duration": 13,
    "start_time": "2022-07-07T23:07:02.313Z"
   },
   {
    "duration": 28,
    "start_time": "2022-07-07T23:07:02.328Z"
   },
   {
    "duration": 10,
    "start_time": "2022-07-07T23:07:02.358Z"
   },
   {
    "duration": 12,
    "start_time": "2022-07-07T23:07:02.369Z"
   },
   {
    "duration": 41,
    "start_time": "2022-07-07T23:07:02.382Z"
   },
   {
    "duration": 16,
    "start_time": "2022-07-07T23:07:02.425Z"
   },
   {
    "duration": 20,
    "start_time": "2022-07-07T23:07:02.442Z"
   },
   {
    "duration": 7,
    "start_time": "2022-07-07T23:07:02.463Z"
   },
   {
    "duration": 18,
    "start_time": "2022-07-07T23:07:02.472Z"
   },
   {
    "duration": 210,
    "start_time": "2022-07-07T23:07:02.500Z"
   },
   {
    "duration": 19,
    "start_time": "2022-07-07T23:07:02.712Z"
   },
   {
    "duration": 5,
    "start_time": "2022-07-07T23:07:02.733Z"
   },
   {
    "duration": 25,
    "start_time": "2022-07-07T23:07:02.740Z"
   },
   {
    "duration": 6,
    "start_time": "2022-07-07T23:07:02.766Z"
   },
   {
    "duration": 33,
    "start_time": "2022-07-07T23:07:02.773Z"
   },
   {
    "duration": 7,
    "start_time": "2022-07-07T23:07:02.808Z"
   },
   {
    "duration": 12,
    "start_time": "2022-07-07T23:07:02.816Z"
   },
   {
    "duration": 33,
    "start_time": "2022-07-07T23:07:02.832Z"
   },
   {
    "duration": 16,
    "start_time": "2022-07-07T23:07:02.866Z"
   },
   {
    "duration": 20,
    "start_time": "2022-07-07T23:07:02.884Z"
   },
   {
    "duration": 4,
    "start_time": "2022-07-07T23:07:02.905Z"
   },
   {
    "duration": 28,
    "start_time": "2022-07-07T23:07:02.911Z"
   },
   {
    "duration": 131,
    "start_time": "2022-07-07T23:07:02.940Z"
   },
   {
    "duration": 119,
    "start_time": "2022-07-07T23:07:03.073Z"
   },
   {
    "duration": 30,
    "start_time": "2022-07-07T23:07:03.194Z"
   },
   {
    "duration": 5,
    "start_time": "2022-07-07T23:07:03.225Z"
   },
   {
    "duration": 28,
    "start_time": "2022-07-07T23:07:03.232Z"
   },
   {
    "duration": 11,
    "start_time": "2022-07-07T23:07:03.262Z"
   },
   {
    "duration": 33,
    "start_time": "2022-07-07T23:07:03.275Z"
   },
   {
    "duration": 9,
    "start_time": "2022-07-07T23:07:03.310Z"
   },
   {
    "duration": 21,
    "start_time": "2022-07-07T23:07:03.320Z"
   },
   {
    "duration": 110,
    "start_time": "2022-07-07T23:07:03.343Z"
   },
   {
    "duration": 121,
    "start_time": "2022-07-07T23:07:03.455Z"
   },
   {
    "duration": 124,
    "start_time": "2022-07-07T23:07:03.578Z"
   },
   {
    "duration": 104,
    "start_time": "2022-07-07T23:07:03.704Z"
   },
   {
    "duration": 4,
    "start_time": "2022-07-07T23:07:03.809Z"
   },
   {
    "duration": 15,
    "start_time": "2022-07-07T23:07:03.815Z"
   },
   {
    "duration": 353,
    "start_time": "2022-07-07T23:07:03.832Z"
   },
   {
    "duration": 20,
    "start_time": "2022-07-07T23:07:04.187Z"
   },
   {
    "duration": 226,
    "start_time": "2022-07-07T23:07:04.208Z"
   },
   {
    "duration": 32,
    "start_time": "2022-07-07T23:07:04.436Z"
   },
   {
    "duration": 31,
    "start_time": "2022-07-07T23:07:04.470Z"
   },
   {
    "duration": 10,
    "start_time": "2022-07-07T23:07:04.502Z"
   },
   {
    "duration": 14,
    "start_time": "2022-07-07T23:07:04.513Z"
   },
   {
    "duration": 19,
    "start_time": "2022-07-07T23:07:04.529Z"
   },
   {
    "duration": 12,
    "start_time": "2022-07-07T23:07:04.550Z"
   },
   {
    "duration": 363,
    "start_time": "2022-07-07T23:07:04.565Z"
   },
   {
    "duration": 6,
    "start_time": "2022-07-07T23:07:04.930Z"
   },
   {
    "duration": 12,
    "start_time": "2022-07-07T23:07:04.938Z"
   },
   {
    "duration": 11,
    "start_time": "2022-07-07T23:07:04.952Z"
   },
   {
    "duration": 1433,
    "start_time": "2022-07-07T23:07:04.965Z"
   },
   {
    "duration": 5,
    "start_time": "2022-07-07T23:07:06.401Z"
   },
   {
    "duration": 11,
    "start_time": "2022-07-07T23:07:06.408Z"
   },
   {
    "duration": 15,
    "start_time": "2022-07-07T23:07:06.421Z"
   },
   {
    "duration": 273,
    "start_time": "2022-07-07T23:07:06.438Z"
   },
   {
    "duration": 1004,
    "start_time": "2022-07-07T23:07:06.713Z"
   },
   {
    "duration": 9,
    "start_time": "2022-07-07T23:07:07.719Z"
   },
   {
    "duration": 11,
    "start_time": "2022-07-07T23:07:07.730Z"
   },
   {
    "duration": 11,
    "start_time": "2022-07-07T23:07:07.743Z"
   },
   {
    "duration": 11,
    "start_time": "2022-07-07T23:07:07.756Z"
   },
   {
    "duration": 39,
    "start_time": "2022-07-07T23:07:07.769Z"
   },
   {
    "duration": 16,
    "start_time": "2022-07-07T23:07:07.809Z"
   },
   {
    "duration": 19,
    "start_time": "2022-07-07T23:07:07.827Z"
   },
   {
    "duration": 4,
    "start_time": "2022-07-07T23:07:07.847Z"
   },
   {
    "duration": 11,
    "start_time": "2022-07-08T10:13:47.401Z"
   },
   {
    "duration": 1379,
    "start_time": "2022-07-08T10:13:47.414Z"
   },
   {
    "duration": 418,
    "start_time": "2022-07-08T10:13:48.795Z"
   },
   {
    "duration": 400,
    "start_time": "2022-07-08T10:13:49.216Z"
   },
   {
    "duration": 13,
    "start_time": "2022-07-08T10:13:49.617Z"
   },
   {
    "duration": 10,
    "start_time": "2022-07-08T10:13:49.632Z"
   },
   {
    "duration": 15,
    "start_time": "2022-07-08T10:13:49.643Z"
   },
   {
    "duration": 25,
    "start_time": "2022-07-08T10:13:49.660Z"
   },
   {
    "duration": 12,
    "start_time": "2022-07-08T10:13:49.687Z"
   },
   {
    "duration": 11,
    "start_time": "2022-07-08T10:13:49.703Z"
   },
   {
    "duration": 10,
    "start_time": "2022-07-08T10:13:49.716Z"
   },
   {
    "duration": 29,
    "start_time": "2022-07-08T10:13:49.745Z"
   },
   {
    "duration": 11,
    "start_time": "2022-07-08T10:13:49.776Z"
   },
   {
    "duration": 16,
    "start_time": "2022-07-08T10:13:49.789Z"
   },
   {
    "duration": 25,
    "start_time": "2022-07-08T10:13:49.807Z"
   },
   {
    "duration": 23,
    "start_time": "2022-07-08T10:13:49.834Z"
   },
   {
    "duration": 21,
    "start_time": "2022-07-08T10:13:49.858Z"
   },
   {
    "duration": 8,
    "start_time": "2022-07-08T10:13:49.881Z"
   },
   {
    "duration": 12,
    "start_time": "2022-07-08T10:13:49.891Z"
   },
   {
    "duration": 227,
    "start_time": "2022-07-08T10:13:49.904Z"
   },
   {
    "duration": 24,
    "start_time": "2022-07-08T10:13:50.133Z"
   },
   {
    "duration": 7,
    "start_time": "2022-07-08T10:13:50.159Z"
   },
   {
    "duration": 18,
    "start_time": "2022-07-08T10:13:50.167Z"
   },
   {
    "duration": 6,
    "start_time": "2022-07-08T10:13:50.187Z"
   },
   {
    "duration": 16,
    "start_time": "2022-07-08T10:13:50.194Z"
   },
   {
    "duration": 37,
    "start_time": "2022-07-08T10:13:50.212Z"
   },
   {
    "duration": 5,
    "start_time": "2022-07-08T10:13:50.250Z"
   },
   {
    "duration": 62,
    "start_time": "2022-07-08T10:13:50.259Z"
   },
   {
    "duration": 17,
    "start_time": "2022-07-08T10:13:50.322Z"
   },
   {
    "duration": 13,
    "start_time": "2022-07-08T10:13:50.340Z"
   },
   {
    "duration": 9,
    "start_time": "2022-07-08T10:13:50.355Z"
   },
   {
    "duration": 38,
    "start_time": "2022-07-08T10:13:50.365Z"
   },
   {
    "duration": 106,
    "start_time": "2022-07-08T10:13:50.405Z"
   },
   {
    "duration": 121,
    "start_time": "2022-07-08T10:13:50.513Z"
   },
   {
    "duration": 35,
    "start_time": "2022-07-08T10:13:50.635Z"
   },
   {
    "duration": 5,
    "start_time": "2022-07-08T10:13:50.672Z"
   },
   {
    "duration": 28,
    "start_time": "2022-07-08T10:13:50.679Z"
   },
   {
    "duration": 12,
    "start_time": "2022-07-08T10:13:50.709Z"
   },
   {
    "duration": 13,
    "start_time": "2022-07-08T10:13:50.745Z"
   },
   {
    "duration": 12,
    "start_time": "2022-07-08T10:13:50.760Z"
   },
   {
    "duration": 18,
    "start_time": "2022-07-08T10:13:50.773Z"
   },
   {
    "duration": 134,
    "start_time": "2022-07-08T10:13:50.792Z"
   },
   {
    "duration": 120,
    "start_time": "2022-07-08T10:13:50.928Z"
   },
   {
    "duration": 122,
    "start_time": "2022-07-08T10:13:51.050Z"
   },
   {
    "duration": 118,
    "start_time": "2022-07-08T10:13:51.173Z"
   },
   {
    "duration": 4,
    "start_time": "2022-07-08T10:13:51.293Z"
   },
   {
    "duration": 17,
    "start_time": "2022-07-08T10:13:51.299Z"
   },
   {
    "duration": 378,
    "start_time": "2022-07-08T10:13:51.318Z"
   },
   {
    "duration": 11,
    "start_time": "2022-07-08T10:13:51.698Z"
   },
   {
    "duration": 255,
    "start_time": "2022-07-08T10:13:51.711Z"
   },
   {
    "duration": 32,
    "start_time": "2022-07-08T10:13:51.967Z"
   },
   {
    "duration": 11,
    "start_time": "2022-07-08T10:13:52.000Z"
   },
   {
    "duration": 34,
    "start_time": "2022-07-08T10:13:52.013Z"
   },
   {
    "duration": 15,
    "start_time": "2022-07-08T10:13:52.049Z"
   },
   {
    "duration": 26,
    "start_time": "2022-07-08T10:13:52.066Z"
   },
   {
    "duration": 14,
    "start_time": "2022-07-08T10:13:52.094Z"
   },
   {
    "duration": 371,
    "start_time": "2022-07-08T10:13:52.110Z"
   },
   {
    "duration": 7,
    "start_time": "2022-07-08T10:13:52.482Z"
   },
   {
    "duration": 17,
    "start_time": "2022-07-08T10:13:52.491Z"
   },
   {
    "duration": 11,
    "start_time": "2022-07-08T10:13:52.510Z"
   },
   {
    "duration": 1511,
    "start_time": "2022-07-08T10:13:52.523Z"
   },
   {
    "duration": 6,
    "start_time": "2022-07-08T10:13:54.045Z"
   },
   {
    "duration": 11,
    "start_time": "2022-07-08T10:13:54.053Z"
   },
   {
    "duration": 17,
    "start_time": "2022-07-08T10:13:54.066Z"
   },
   {
    "duration": 275,
    "start_time": "2022-07-08T10:13:54.085Z"
   },
   {
    "duration": 975,
    "start_time": "2022-07-08T10:13:54.362Z"
   },
   {
    "duration": 15,
    "start_time": "2022-07-08T10:13:55.338Z"
   },
   {
    "duration": 10,
    "start_time": "2022-07-08T10:13:55.355Z"
   },
   {
    "duration": 12,
    "start_time": "2022-07-08T10:13:55.367Z"
   },
   {
    "duration": 10,
    "start_time": "2022-07-08T10:13:55.381Z"
   },
   {
    "duration": 11,
    "start_time": "2022-07-08T10:13:55.393Z"
   },
   {
    "duration": 53,
    "start_time": "2022-07-08T10:13:55.406Z"
   },
   {
    "duration": 22,
    "start_time": "2022-07-08T10:13:55.461Z"
   },
   {
    "duration": 7,
    "start_time": "2022-07-08T10:13:55.484Z"
   },
   {
    "duration": 124,
    "start_time": "2022-07-08T11:55:54.628Z"
   },
   {
    "duration": 7,
    "start_time": "2022-07-08T11:56:01.181Z"
   },
   {
    "duration": 6,
    "start_time": "2022-07-08T11:56:05.744Z"
   },
   {
    "duration": 81,
    "start_time": "2022-07-08T11:56:35.612Z"
   },
   {
    "duration": 77,
    "start_time": "2022-07-08T11:56:38.148Z"
   },
   {
    "duration": 84,
    "start_time": "2022-07-08T11:57:35.072Z"
   },
   {
    "duration": 13,
    "start_time": "2022-07-08T11:58:09.737Z"
   },
   {
    "duration": 146,
    "start_time": "2022-07-08T11:58:15.657Z"
   },
   {
    "duration": 320,
    "start_time": "2022-07-08T11:58:24.936Z"
   },
   {
    "duration": 302,
    "start_time": "2022-07-08T11:58:36.699Z"
   },
   {
    "duration": 303,
    "start_time": "2022-07-08T11:58:44.857Z"
   },
   {
    "duration": 297,
    "start_time": "2022-07-08T11:58:55.681Z"
   },
   {
    "duration": 328,
    "start_time": "2022-07-08T11:59:06.207Z"
   },
   {
    "duration": 398,
    "start_time": "2022-07-08T11:59:10.033Z"
   },
   {
    "duration": 265,
    "start_time": "2022-07-08T11:59:14.366Z"
   },
   {
    "duration": 295,
    "start_time": "2022-07-08T11:59:17.050Z"
   },
   {
    "duration": 309,
    "start_time": "2022-07-08T11:59:19.820Z"
   },
   {
    "duration": 282,
    "start_time": "2022-07-08T12:01:44.244Z"
   },
   {
    "duration": 295,
    "start_time": "2022-07-08T12:02:51.215Z"
   },
   {
    "duration": 512,
    "start_time": "2022-07-08T12:04:39.940Z"
   },
   {
    "duration": 536,
    "start_time": "2022-07-08T12:05:05.845Z"
   },
   {
    "duration": 552,
    "start_time": "2022-07-08T12:05:12.440Z"
   },
   {
    "duration": 574,
    "start_time": "2022-07-08T12:10:07.396Z"
   },
   {
    "duration": 392,
    "start_time": "2022-07-08T12:10:17.160Z"
   },
   {
    "duration": 647,
    "start_time": "2022-07-08T12:10:24.463Z"
   },
   {
    "duration": 522,
    "start_time": "2022-07-08T12:10:42.589Z"
   },
   {
    "duration": 14,
    "start_time": "2022-07-08T12:11:08.234Z"
   },
   {
    "duration": 19,
    "start_time": "2022-07-08T12:11:19.507Z"
   },
   {
    "duration": 271,
    "start_time": "2022-07-08T12:13:33.358Z"
   },
   {
    "duration": 335,
    "start_time": "2022-07-08T12:14:33.683Z"
   },
   {
    "duration": 295,
    "start_time": "2022-07-08T12:14:41.041Z"
   },
   {
    "duration": 5,
    "start_time": "2022-07-08T12:28:37.604Z"
   },
   {
    "duration": 12,
    "start_time": "2022-07-08T13:26:01.308Z"
   },
   {
    "duration": 1297,
    "start_time": "2022-07-08T13:26:01.322Z"
   },
   {
    "duration": 447,
    "start_time": "2022-07-08T13:26:02.620Z"
   },
   {
    "duration": 5,
    "start_time": "2022-07-08T13:26:03.069Z"
   },
   {
    "duration": 345,
    "start_time": "2022-07-08T13:26:03.076Z"
   },
   {
    "duration": 12,
    "start_time": "2022-07-08T13:26:03.423Z"
   },
   {
    "duration": 9,
    "start_time": "2022-07-08T13:26:03.437Z"
   },
   {
    "duration": 13,
    "start_time": "2022-07-08T13:26:03.448Z"
   },
   {
    "duration": 14,
    "start_time": "2022-07-08T13:26:03.462Z"
   },
   {
    "duration": 10,
    "start_time": "2022-07-08T13:26:03.479Z"
   },
   {
    "duration": 11,
    "start_time": "2022-07-08T13:26:03.491Z"
   },
   {
    "duration": 15,
    "start_time": "2022-07-08T13:26:03.503Z"
   },
   {
    "duration": 31,
    "start_time": "2022-07-08T13:26:03.545Z"
   },
   {
    "duration": 15,
    "start_time": "2022-07-08T13:26:03.578Z"
   },
   {
    "duration": 12,
    "start_time": "2022-07-08T13:26:03.595Z"
   },
   {
    "duration": 52,
    "start_time": "2022-07-08T13:26:03.609Z"
   },
   {
    "duration": 15,
    "start_time": "2022-07-08T13:26:03.663Z"
   },
   {
    "duration": 21,
    "start_time": "2022-07-08T13:26:03.680Z"
   },
   {
    "duration": 8,
    "start_time": "2022-07-08T13:26:03.703Z"
   },
   {
    "duration": 40,
    "start_time": "2022-07-08T13:26:03.712Z"
   },
   {
    "duration": 239,
    "start_time": "2022-07-08T13:26:03.754Z"
   },
   {
    "duration": 17,
    "start_time": "2022-07-08T13:26:03.995Z"
   },
   {
    "duration": 7,
    "start_time": "2022-07-08T13:26:04.014Z"
   },
   {
    "duration": 38,
    "start_time": "2022-07-08T13:26:04.023Z"
   },
   {
    "duration": 8,
    "start_time": "2022-07-08T13:26:04.063Z"
   },
   {
    "duration": 17,
    "start_time": "2022-07-08T13:26:04.073Z"
   },
   {
    "duration": 9,
    "start_time": "2022-07-08T13:26:04.092Z"
   },
   {
    "duration": 6,
    "start_time": "2022-07-08T13:26:04.106Z"
   },
   {
    "duration": 66,
    "start_time": "2022-07-08T13:26:04.114Z"
   },
   {
    "duration": 19,
    "start_time": "2022-07-08T13:26:04.182Z"
   },
   {
    "duration": 15,
    "start_time": "2022-07-08T13:26:04.202Z"
   },
   {
    "duration": 6,
    "start_time": "2022-07-08T13:26:04.219Z"
   },
   {
    "duration": 36,
    "start_time": "2022-07-08T13:26:04.227Z"
   },
   {
    "duration": 124,
    "start_time": "2022-07-08T13:26:04.264Z"
   },
   {
    "duration": 137,
    "start_time": "2022-07-08T13:26:04.389Z"
   },
   {
    "duration": 39,
    "start_time": "2022-07-08T13:26:04.527Z"
   },
   {
    "duration": 5,
    "start_time": "2022-07-08T13:26:04.568Z"
   },
   {
    "duration": 22,
    "start_time": "2022-07-08T13:26:04.575Z"
   },
   {
    "duration": 12,
    "start_time": "2022-07-08T13:26:04.599Z"
   },
   {
    "duration": 42,
    "start_time": "2022-07-08T13:26:04.613Z"
   },
   {
    "duration": 18,
    "start_time": "2022-07-08T13:26:04.657Z"
   },
   {
    "duration": 24,
    "start_time": "2022-07-08T13:26:04.676Z"
   },
   {
    "duration": 121,
    "start_time": "2022-07-08T13:26:04.702Z"
   },
   {
    "duration": 123,
    "start_time": "2022-07-08T13:26:04.825Z"
   },
   {
    "duration": 131,
    "start_time": "2022-07-08T13:26:04.950Z"
   },
   {
    "duration": 128,
    "start_time": "2022-07-08T13:26:05.082Z"
   },
   {
    "duration": 5,
    "start_time": "2022-07-08T13:26:05.212Z"
   },
   {
    "duration": 29,
    "start_time": "2022-07-08T13:26:05.219Z"
   },
   {
    "duration": 379,
    "start_time": "2022-07-08T13:26:05.250Z"
   },
   {
    "duration": 19,
    "start_time": "2022-07-08T13:26:05.631Z"
   },
   {
    "duration": 265,
    "start_time": "2022-07-08T13:26:05.652Z"
   },
   {
    "duration": 41,
    "start_time": "2022-07-08T13:26:05.919Z"
   },
   {
    "duration": 12,
    "start_time": "2022-07-08T13:26:05.961Z"
   },
   {
    "duration": 16,
    "start_time": "2022-07-08T13:26:05.975Z"
   },
   {
    "duration": 16,
    "start_time": "2022-07-08T13:26:05.993Z"
   },
   {
    "duration": 52,
    "start_time": "2022-07-08T13:26:06.011Z"
   },
   {
    "duration": 13,
    "start_time": "2022-07-08T13:26:06.064Z"
   },
   {
    "duration": 375,
    "start_time": "2022-07-08T13:26:06.078Z"
   },
   {
    "duration": 9,
    "start_time": "2022-07-08T13:26:06.454Z"
   },
   {
    "duration": 14,
    "start_time": "2022-07-08T13:26:06.466Z"
   },
   {
    "duration": 381,
    "start_time": "2022-07-08T13:26:06.482Z"
   },
   {
    "duration": 12,
    "start_time": "2022-07-08T13:26:06.865Z"
   },
   {
    "duration": 1525,
    "start_time": "2022-07-08T13:26:06.879Z"
   },
   {
    "duration": 6,
    "start_time": "2022-07-08T13:26:08.406Z"
   },
   {
    "duration": 12,
    "start_time": "2022-07-08T13:26:08.413Z"
   },
   {
    "duration": 311,
    "start_time": "2022-07-08T13:26:08.427Z"
   },
   {
    "duration": 21,
    "start_time": "2022-07-08T13:26:08.745Z"
   },
   {
    "duration": 362,
    "start_time": "2022-07-08T13:26:08.768Z"
   },
   {
    "duration": 591,
    "start_time": "2022-07-08T13:26:09.132Z"
   },
   {
    "duration": 1102,
    "start_time": "2022-07-08T13:26:09.724Z"
   },
   {
    "duration": 26,
    "start_time": "2022-07-08T13:26:10.829Z"
   },
   {
    "duration": 12,
    "start_time": "2022-07-08T13:26:10.857Z"
   },
   {
    "duration": 13,
    "start_time": "2022-07-08T13:26:10.870Z"
   },
   {
    "duration": 11,
    "start_time": "2022-07-08T13:26:10.885Z"
   },
   {
    "duration": 19,
    "start_time": "2022-07-08T13:26:10.898Z"
   },
   {
    "duration": 38,
    "start_time": "2022-07-08T13:26:10.918Z"
   },
   {
    "duration": 21,
    "start_time": "2022-07-08T13:26:10.957Z"
   },
   {
    "duration": 5,
    "start_time": "2022-07-08T13:26:10.980Z"
   },
   {
    "duration": 8,
    "start_time": "2022-07-08T13:28:11.891Z"
   },
   {
    "duration": 10,
    "start_time": "2022-07-08T13:28:11.901Z"
   },
   {
    "duration": 415,
    "start_time": "2022-07-08T13:28:11.912Z"
   },
   {
    "duration": 5,
    "start_time": "2022-07-08T13:28:12.330Z"
   },
   {
    "duration": 178,
    "start_time": "2022-07-08T13:28:12.336Z"
   },
   {
    "duration": 12,
    "start_time": "2022-07-08T13:28:12.516Z"
   },
   {
    "duration": 11,
    "start_time": "2022-07-08T13:28:12.530Z"
   },
   {
    "duration": 16,
    "start_time": "2022-07-08T13:28:12.543Z"
   },
   {
    "duration": 15,
    "start_time": "2022-07-08T13:28:12.561Z"
   },
   {
    "duration": 11,
    "start_time": "2022-07-08T13:28:12.579Z"
   },
   {
    "duration": 11,
    "start_time": "2022-07-08T13:28:12.591Z"
   },
   {
    "duration": 9,
    "start_time": "2022-07-08T13:28:12.603Z"
   },
   {
    "duration": 52,
    "start_time": "2022-07-08T13:28:12.613Z"
   },
   {
    "duration": 13,
    "start_time": "2022-07-08T13:28:12.667Z"
   },
   {
    "duration": 17,
    "start_time": "2022-07-08T13:28:12.682Z"
   },
   {
    "duration": 24,
    "start_time": "2022-07-08T13:28:12.700Z"
   },
   {
    "duration": 34,
    "start_time": "2022-07-08T13:28:12.726Z"
   },
   {
    "duration": 22,
    "start_time": "2022-07-08T13:28:12.762Z"
   },
   {
    "duration": 7,
    "start_time": "2022-07-08T13:28:12.786Z"
   },
   {
    "duration": 14,
    "start_time": "2022-07-08T13:28:12.795Z"
   },
   {
    "duration": 253,
    "start_time": "2022-07-08T13:28:12.811Z"
   },
   {
    "duration": 22,
    "start_time": "2022-07-08T13:28:13.066Z"
   },
   {
    "duration": 7,
    "start_time": "2022-07-08T13:28:13.090Z"
   },
   {
    "duration": 21,
    "start_time": "2022-07-08T13:28:13.099Z"
   },
   {
    "duration": 9,
    "start_time": "2022-07-08T13:28:13.145Z"
   },
   {
    "duration": 16,
    "start_time": "2022-07-08T13:28:13.155Z"
   },
   {
    "duration": 10,
    "start_time": "2022-07-08T13:28:13.173Z"
   },
   {
    "duration": 5,
    "start_time": "2022-07-08T13:28:13.187Z"
   },
   {
    "duration": 14,
    "start_time": "2022-07-08T13:28:13.194Z"
   },
   {
    "duration": 51,
    "start_time": "2022-07-08T13:28:13.210Z"
   },
   {
    "duration": 13,
    "start_time": "2022-07-08T13:28:13.263Z"
   },
   {
    "duration": 8,
    "start_time": "2022-07-08T13:28:13.277Z"
   },
   {
    "duration": 25,
    "start_time": "2022-07-08T13:28:13.287Z"
   },
   {
    "duration": 134,
    "start_time": "2022-07-08T13:28:13.314Z"
   },
   {
    "duration": 125,
    "start_time": "2022-07-08T13:28:13.450Z"
   },
   {
    "duration": 29,
    "start_time": "2022-07-08T13:28:13.577Z"
   },
   {
    "duration": 5,
    "start_time": "2022-07-08T13:28:13.608Z"
   },
   {
    "duration": 47,
    "start_time": "2022-07-08T13:28:13.614Z"
   },
   {
    "duration": 12,
    "start_time": "2022-07-08T13:28:13.662Z"
   },
   {
    "duration": 12,
    "start_time": "2022-07-08T13:28:13.676Z"
   },
   {
    "duration": 11,
    "start_time": "2022-07-08T13:28:13.690Z"
   },
   {
    "duration": 44,
    "start_time": "2022-07-08T13:28:13.703Z"
   },
   {
    "duration": 118,
    "start_time": "2022-07-08T13:28:13.749Z"
   },
   {
    "duration": 261,
    "start_time": "2022-07-08T13:28:13.869Z"
   },
   {
    "duration": 134,
    "start_time": "2022-07-08T13:28:14.133Z"
   },
   {
    "duration": 127,
    "start_time": "2022-07-08T13:28:14.269Z"
   },
   {
    "duration": 5,
    "start_time": "2022-07-08T13:28:14.397Z"
   },
   {
    "duration": 21,
    "start_time": "2022-07-08T13:28:14.404Z"
   },
   {
    "duration": 236,
    "start_time": "2022-07-08T13:28:14.426Z"
   },
   {
    "duration": 20,
    "start_time": "2022-07-08T13:28:14.664Z"
   },
   {
    "duration": 395,
    "start_time": "2022-07-08T13:28:14.686Z"
   },
   {
    "duration": 0,
    "start_time": "2022-07-08T13:28:15.083Z"
   },
   {
    "duration": 0,
    "start_time": "2022-07-08T13:28:15.084Z"
   },
   {
    "duration": 1,
    "start_time": "2022-07-08T13:28:15.085Z"
   },
   {
    "duration": 0,
    "start_time": "2022-07-08T13:28:15.087Z"
   },
   {
    "duration": 0,
    "start_time": "2022-07-08T13:28:15.088Z"
   },
   {
    "duration": 0,
    "start_time": "2022-07-08T13:28:15.089Z"
   },
   {
    "duration": 0,
    "start_time": "2022-07-08T13:28:15.091Z"
   },
   {
    "duration": 0,
    "start_time": "2022-07-08T13:28:15.092Z"
   },
   {
    "duration": 0,
    "start_time": "2022-07-08T13:28:15.093Z"
   },
   {
    "duration": 0,
    "start_time": "2022-07-08T13:28:15.094Z"
   },
   {
    "duration": 0,
    "start_time": "2022-07-08T13:28:15.095Z"
   },
   {
    "duration": 0,
    "start_time": "2022-07-08T13:28:15.096Z"
   },
   {
    "duration": 0,
    "start_time": "2022-07-08T13:28:15.097Z"
   },
   {
    "duration": 0,
    "start_time": "2022-07-08T13:28:15.098Z"
   },
   {
    "duration": 0,
    "start_time": "2022-07-08T13:28:15.100Z"
   },
   {
    "duration": 0,
    "start_time": "2022-07-08T13:28:15.101Z"
   },
   {
    "duration": 0,
    "start_time": "2022-07-08T13:28:15.102Z"
   },
   {
    "duration": 0,
    "start_time": "2022-07-08T13:28:15.103Z"
   },
   {
    "duration": 0,
    "start_time": "2022-07-08T13:28:15.104Z"
   },
   {
    "duration": 0,
    "start_time": "2022-07-08T13:28:15.105Z"
   },
   {
    "duration": 0,
    "start_time": "2022-07-08T13:28:15.107Z"
   },
   {
    "duration": 0,
    "start_time": "2022-07-08T13:28:15.146Z"
   },
   {
    "duration": 0,
    "start_time": "2022-07-08T13:28:15.149Z"
   },
   {
    "duration": 0,
    "start_time": "2022-07-08T13:28:15.150Z"
   },
   {
    "duration": 0,
    "start_time": "2022-07-08T13:28:15.151Z"
   },
   {
    "duration": 0,
    "start_time": "2022-07-08T13:28:15.153Z"
   },
   {
    "duration": 0,
    "start_time": "2022-07-08T13:28:15.154Z"
   },
   {
    "duration": 13,
    "start_time": "2022-07-08T13:42:15.891Z"
   },
   {
    "duration": 13,
    "start_time": "2022-07-08T13:42:23.351Z"
   },
   {
    "duration": 1244,
    "start_time": "2022-07-08T13:42:23.367Z"
   },
   {
    "duration": 417,
    "start_time": "2022-07-08T13:42:24.613Z"
   },
   {
    "duration": 5,
    "start_time": "2022-07-08T13:42:25.033Z"
   },
   {
    "duration": 192,
    "start_time": "2022-07-08T13:42:25.039Z"
   },
   {
    "duration": 12,
    "start_time": "2022-07-08T13:42:25.232Z"
   },
   {
    "duration": 10,
    "start_time": "2022-07-08T13:42:25.246Z"
   },
   {
    "duration": 13,
    "start_time": "2022-07-08T13:42:25.258Z"
   },
   {
    "duration": 12,
    "start_time": "2022-07-08T13:42:25.273Z"
   },
   {
    "duration": 11,
    "start_time": "2022-07-08T13:42:25.286Z"
   },
   {
    "duration": 12,
    "start_time": "2022-07-08T13:42:25.299Z"
   },
   {
    "duration": 42,
    "start_time": "2022-07-08T13:42:25.312Z"
   },
   {
    "duration": 24,
    "start_time": "2022-07-08T13:42:25.356Z"
   },
   {
    "duration": 11,
    "start_time": "2022-07-08T13:42:25.382Z"
   },
   {
    "duration": 11,
    "start_time": "2022-07-08T13:42:25.394Z"
   },
   {
    "duration": 48,
    "start_time": "2022-07-08T13:42:25.406Z"
   },
   {
    "duration": 24,
    "start_time": "2022-07-08T13:42:25.455Z"
   },
   {
    "duration": 29,
    "start_time": "2022-07-08T13:42:25.481Z"
   },
   {
    "duration": 9,
    "start_time": "2022-07-08T13:42:25.512Z"
   },
   {
    "duration": 28,
    "start_time": "2022-07-08T13:42:25.523Z"
   },
   {
    "duration": 217,
    "start_time": "2022-07-08T13:42:25.553Z"
   },
   {
    "duration": 17,
    "start_time": "2022-07-08T13:42:25.772Z"
   },
   {
    "duration": 6,
    "start_time": "2022-07-08T13:42:25.791Z"
   },
   {
    "duration": 21,
    "start_time": "2022-07-08T13:42:25.801Z"
   },
   {
    "duration": 8,
    "start_time": "2022-07-08T13:42:25.846Z"
   },
   {
    "duration": 12,
    "start_time": "2022-07-08T13:42:25.856Z"
   },
   {
    "duration": 10,
    "start_time": "2022-07-08T13:42:25.870Z"
   },
   {
    "duration": 6,
    "start_time": "2022-07-08T13:42:25.882Z"
   },
   {
    "duration": 31,
    "start_time": "2022-07-08T13:42:25.889Z"
   },
   {
    "duration": 33,
    "start_time": "2022-07-08T13:42:25.922Z"
   },
   {
    "duration": 13,
    "start_time": "2022-07-08T13:42:25.957Z"
   },
   {
    "duration": 4,
    "start_time": "2022-07-08T13:42:25.972Z"
   },
   {
    "duration": 23,
    "start_time": "2022-07-08T13:42:25.977Z"
   },
   {
    "duration": 142,
    "start_time": "2022-07-08T13:42:26.002Z"
   },
   {
    "duration": 120,
    "start_time": "2022-07-08T13:42:26.146Z"
   },
   {
    "duration": 25,
    "start_time": "2022-07-08T13:42:26.268Z"
   },
   {
    "duration": 4,
    "start_time": "2022-07-08T13:42:26.295Z"
   },
   {
    "duration": 25,
    "start_time": "2022-07-08T13:42:26.300Z"
   },
   {
    "duration": 31,
    "start_time": "2022-07-08T13:42:26.327Z"
   },
   {
    "duration": 11,
    "start_time": "2022-07-08T13:42:26.360Z"
   },
   {
    "duration": 10,
    "start_time": "2022-07-08T13:42:26.372Z"
   },
   {
    "duration": 21,
    "start_time": "2022-07-08T13:42:26.384Z"
   },
   {
    "duration": 131,
    "start_time": "2022-07-08T13:42:26.407Z"
   },
   {
    "duration": 122,
    "start_time": "2022-07-08T13:42:26.540Z"
   },
   {
    "duration": 126,
    "start_time": "2022-07-08T13:42:26.664Z"
   },
   {
    "duration": 111,
    "start_time": "2022-07-08T13:42:26.791Z"
   },
   {
    "duration": 4,
    "start_time": "2022-07-08T13:42:26.903Z"
   },
   {
    "duration": 17,
    "start_time": "2022-07-08T13:42:26.909Z"
   },
   {
    "duration": 365,
    "start_time": "2022-07-08T13:42:26.928Z"
   },
   {
    "duration": 12,
    "start_time": "2022-07-08T13:42:27.294Z"
   },
   {
    "duration": 258,
    "start_time": "2022-07-08T13:42:27.308Z"
   },
   {
    "duration": 32,
    "start_time": "2022-07-08T13:42:27.568Z"
   },
   {
    "duration": 10,
    "start_time": "2022-07-08T13:42:27.601Z"
   },
   {
    "duration": 34,
    "start_time": "2022-07-08T13:42:27.612Z"
   },
   {
    "duration": 15,
    "start_time": "2022-07-08T13:42:27.648Z"
   },
   {
    "duration": 22,
    "start_time": "2022-07-08T13:42:27.664Z"
   },
   {
    "duration": 12,
    "start_time": "2022-07-08T13:42:27.687Z"
   },
   {
    "duration": 377,
    "start_time": "2022-07-08T13:42:27.700Z"
   },
   {
    "duration": 6,
    "start_time": "2022-07-08T13:42:28.079Z"
   },
   {
    "duration": 12,
    "start_time": "2022-07-08T13:42:28.086Z"
   },
   {
    "duration": 331,
    "start_time": "2022-07-08T13:42:28.099Z"
   },
   {
    "duration": 17,
    "start_time": "2022-07-08T13:42:28.432Z"
   },
   {
    "duration": 1559,
    "start_time": "2022-07-08T13:42:28.451Z"
   },
   {
    "duration": 6,
    "start_time": "2022-07-08T13:42:30.012Z"
   },
   {
    "duration": 21,
    "start_time": "2022-07-08T13:42:30.019Z"
   },
   {
    "duration": 279,
    "start_time": "2022-07-08T13:42:30.046Z"
   },
   {
    "duration": 28,
    "start_time": "2022-07-08T13:42:30.326Z"
   },
   {
    "duration": 266,
    "start_time": "2022-07-08T13:42:30.356Z"
   },
   {
    "duration": 546,
    "start_time": "2022-07-08T13:42:30.627Z"
   },
   {
    "duration": 998,
    "start_time": "2022-07-08T13:42:31.174Z"
   },
   {
    "duration": 9,
    "start_time": "2022-07-08T13:42:32.174Z"
   },
   {
    "duration": 10,
    "start_time": "2022-07-08T13:42:32.185Z"
   },
   {
    "duration": 13,
    "start_time": "2022-07-08T13:42:32.196Z"
   },
   {
    "duration": 10,
    "start_time": "2022-07-08T13:42:32.210Z"
   },
   {
    "duration": 10,
    "start_time": "2022-07-08T13:42:32.246Z"
   },
   {
    "duration": 16,
    "start_time": "2022-07-08T13:42:32.258Z"
   },
   {
    "duration": 19,
    "start_time": "2022-07-08T13:42:32.276Z"
   },
   {
    "duration": 4,
    "start_time": "2022-07-08T13:42:32.296Z"
   },
   {
    "duration": 13,
    "start_time": "2022-07-08T13:44:37.049Z"
   },
   {
    "duration": 1240,
    "start_time": "2022-07-08T13:44:37.063Z"
   },
   {
    "duration": 802,
    "start_time": "2022-07-08T13:44:38.304Z"
   },
   {
    "duration": 218,
    "start_time": "2022-07-08T13:44:39.109Z"
   },
   {
    "duration": 14,
    "start_time": "2022-07-08T13:44:39.329Z"
   },
   {
    "duration": 24,
    "start_time": "2022-07-08T13:44:39.345Z"
   },
   {
    "duration": 24,
    "start_time": "2022-07-08T13:44:39.371Z"
   },
   {
    "duration": 22,
    "start_time": "2022-07-08T13:44:39.397Z"
   },
   {
    "duration": 27,
    "start_time": "2022-07-08T13:44:39.422Z"
   },
   {
    "duration": 12,
    "start_time": "2022-07-08T13:44:39.451Z"
   },
   {
    "duration": 17,
    "start_time": "2022-07-08T13:44:39.465Z"
   },
   {
    "duration": 34,
    "start_time": "2022-07-08T13:44:39.485Z"
   },
   {
    "duration": 32,
    "start_time": "2022-07-08T13:44:39.522Z"
   },
   {
    "duration": 13,
    "start_time": "2022-07-08T13:44:39.556Z"
   },
   {
    "duration": 32,
    "start_time": "2022-07-08T13:44:39.571Z"
   },
   {
    "duration": 17,
    "start_time": "2022-07-08T13:44:39.605Z"
   },
   {
    "duration": 41,
    "start_time": "2022-07-08T13:44:39.624Z"
   },
   {
    "duration": 8,
    "start_time": "2022-07-08T13:44:39.666Z"
   },
   {
    "duration": 13,
    "start_time": "2022-07-08T13:44:39.675Z"
   },
   {
    "duration": 234,
    "start_time": "2022-07-08T13:44:39.690Z"
   },
   {
    "duration": 23,
    "start_time": "2022-07-08T13:44:39.926Z"
   },
   {
    "duration": 6,
    "start_time": "2022-07-08T13:44:39.951Z"
   },
   {
    "duration": 21,
    "start_time": "2022-07-08T13:44:39.959Z"
   },
   {
    "duration": 6,
    "start_time": "2022-07-08T13:44:39.985Z"
   },
   {
    "duration": 13,
    "start_time": "2022-07-08T13:44:39.992Z"
   },
   {
    "duration": 10,
    "start_time": "2022-07-08T13:44:40.007Z"
   },
   {
    "duration": 31,
    "start_time": "2022-07-08T13:44:40.019Z"
   },
   {
    "duration": 41,
    "start_time": "2022-07-08T13:44:40.051Z"
   },
   {
    "duration": 16,
    "start_time": "2022-07-08T13:44:40.094Z"
   },
   {
    "duration": 11,
    "start_time": "2022-07-08T13:44:40.112Z"
   },
   {
    "duration": 4,
    "start_time": "2022-07-08T13:44:40.125Z"
   },
   {
    "duration": 31,
    "start_time": "2022-07-08T13:44:40.130Z"
   },
   {
    "duration": 123,
    "start_time": "2022-07-08T13:44:40.163Z"
   },
   {
    "duration": 130,
    "start_time": "2022-07-08T13:44:40.288Z"
   },
   {
    "duration": 39,
    "start_time": "2022-07-08T13:44:40.420Z"
   },
   {
    "duration": 5,
    "start_time": "2022-07-08T13:44:40.461Z"
   },
   {
    "duration": 24,
    "start_time": "2022-07-08T13:44:40.467Z"
   },
   {
    "duration": 11,
    "start_time": "2022-07-08T13:44:40.493Z"
   },
   {
    "duration": 13,
    "start_time": "2022-07-08T13:44:40.506Z"
   },
   {
    "duration": 8,
    "start_time": "2022-07-08T13:44:40.546Z"
   },
   {
    "duration": 22,
    "start_time": "2022-07-08T13:44:40.556Z"
   },
   {
    "duration": 129,
    "start_time": "2022-07-08T13:44:40.580Z"
   },
   {
    "duration": 119,
    "start_time": "2022-07-08T13:44:40.711Z"
   },
   {
    "duration": 120,
    "start_time": "2022-07-08T13:44:40.831Z"
   },
   {
    "duration": 125,
    "start_time": "2022-07-08T13:44:40.953Z"
   },
   {
    "duration": 5,
    "start_time": "2022-07-08T13:44:41.080Z"
   },
   {
    "duration": 33,
    "start_time": "2022-07-08T13:44:41.086Z"
   },
   {
    "duration": 362,
    "start_time": "2022-07-08T13:44:41.121Z"
   },
   {
    "duration": 13,
    "start_time": "2022-07-08T13:44:41.485Z"
   },
   {
    "duration": 261,
    "start_time": "2022-07-08T13:44:41.500Z"
   },
   {
    "duration": 32,
    "start_time": "2022-07-08T13:44:41.763Z"
   },
   {
    "duration": 11,
    "start_time": "2022-07-08T13:44:41.796Z"
   },
   {
    "duration": 10,
    "start_time": "2022-07-08T13:44:41.809Z"
   },
   {
    "duration": 22,
    "start_time": "2022-07-08T13:44:41.846Z"
   },
   {
    "duration": 28,
    "start_time": "2022-07-08T13:44:41.870Z"
   },
   {
    "duration": 11,
    "start_time": "2022-07-08T13:44:41.900Z"
   },
   {
    "duration": 394,
    "start_time": "2022-07-08T13:44:41.912Z"
   },
   {
    "duration": 7,
    "start_time": "2022-07-08T13:44:42.307Z"
   },
   {
    "duration": 22,
    "start_time": "2022-07-08T13:44:42.315Z"
   },
   {
    "duration": 352,
    "start_time": "2022-07-08T13:44:42.345Z"
   },
   {
    "duration": 13,
    "start_time": "2022-07-08T13:44:42.698Z"
   },
   {
    "duration": 1436,
    "start_time": "2022-07-08T13:44:42.713Z"
   },
   {
    "duration": 5,
    "start_time": "2022-07-08T13:44:44.151Z"
   },
   {
    "duration": 37,
    "start_time": "2022-07-08T13:44:44.158Z"
   },
   {
    "duration": 312,
    "start_time": "2022-07-08T13:44:44.197Z"
   },
   {
    "duration": 17,
    "start_time": "2022-07-08T13:44:44.510Z"
   },
   {
    "duration": 285,
    "start_time": "2022-07-08T13:44:44.529Z"
   },
   {
    "duration": 523,
    "start_time": "2022-07-08T13:44:44.815Z"
   },
   {
    "duration": 984,
    "start_time": "2022-07-08T13:44:45.345Z"
   },
   {
    "duration": 20,
    "start_time": "2022-07-08T13:44:46.330Z"
   },
   {
    "duration": 23,
    "start_time": "2022-07-08T13:44:46.352Z"
   },
   {
    "duration": 27,
    "start_time": "2022-07-08T13:44:46.376Z"
   },
   {
    "duration": 30,
    "start_time": "2022-07-08T13:44:46.405Z"
   },
   {
    "duration": 11,
    "start_time": "2022-07-08T13:44:46.437Z"
   },
   {
    "duration": 17,
    "start_time": "2022-07-08T13:44:46.450Z"
   },
   {
    "duration": 20,
    "start_time": "2022-07-08T13:44:46.469Z"
   },
   {
    "duration": 4,
    "start_time": "2022-07-08T13:44:46.491Z"
   },
   {
    "duration": 1236,
    "start_time": "2022-07-10T13:41:18.527Z"
   },
   {
    "duration": 90,
    "start_time": "2022-07-10T14:04:47.138Z"
   },
   {
    "duration": 7,
    "start_time": "2022-07-10T14:04:50.701Z"
   },
   {
    "duration": 11,
    "start_time": "2022-07-10T14:04:50.711Z"
   },
   {
    "duration": 399,
    "start_time": "2022-07-10T14:04:50.724Z"
   },
   {
    "duration": 382,
    "start_time": "2022-07-10T14:04:51.125Z"
   },
   {
    "duration": 14,
    "start_time": "2022-07-10T14:04:51.509Z"
   },
   {
    "duration": 8,
    "start_time": "2022-07-10T14:04:51.525Z"
   },
   {
    "duration": 14,
    "start_time": "2022-07-10T14:04:51.535Z"
   },
   {
    "duration": 16,
    "start_time": "2022-07-10T14:04:51.550Z"
   },
   {
    "duration": 13,
    "start_time": "2022-07-10T14:04:51.568Z"
   },
   {
    "duration": 10,
    "start_time": "2022-07-10T14:04:51.582Z"
   },
   {
    "duration": 8,
    "start_time": "2022-07-10T14:04:51.594Z"
   },
   {
    "duration": 46,
    "start_time": "2022-07-10T14:04:51.603Z"
   },
   {
    "duration": 11,
    "start_time": "2022-07-10T14:04:51.650Z"
   },
   {
    "duration": 9,
    "start_time": "2022-07-10T14:04:51.662Z"
   },
   {
    "duration": 21,
    "start_time": "2022-07-10T14:04:51.673Z"
   },
   {
    "duration": 28,
    "start_time": "2022-07-10T14:04:51.695Z"
   },
   {
    "duration": 18,
    "start_time": "2022-07-10T14:04:51.743Z"
   },
   {
    "duration": 7,
    "start_time": "2022-07-10T14:04:51.763Z"
   },
   {
    "duration": 11,
    "start_time": "2022-07-10T14:04:51.771Z"
   },
   {
    "duration": 218,
    "start_time": "2022-07-10T14:04:51.783Z"
   },
   {
    "duration": 17,
    "start_time": "2022-07-10T14:04:52.002Z"
   },
   {
    "duration": 6,
    "start_time": "2022-07-10T14:04:52.020Z"
   },
   {
    "duration": 30,
    "start_time": "2022-07-10T14:04:52.027Z"
   },
   {
    "duration": 6,
    "start_time": "2022-07-10T14:04:52.058Z"
   },
   {
    "duration": 11,
    "start_time": "2022-07-10T14:04:52.065Z"
   },
   {
    "duration": 10,
    "start_time": "2022-07-10T14:04:52.077Z"
   },
   {
    "duration": 4,
    "start_time": "2022-07-10T14:04:52.089Z"
   },
   {
    "duration": 50,
    "start_time": "2022-07-10T14:04:52.095Z"
   },
   {
    "duration": 17,
    "start_time": "2022-07-10T14:04:52.151Z"
   },
   {
    "duration": 13,
    "start_time": "2022-07-10T14:04:52.170Z"
   },
   {
    "duration": 4,
    "start_time": "2022-07-10T14:04:52.185Z"
   },
   {
    "duration": 59,
    "start_time": "2022-07-10T14:04:52.191Z"
   },
   {
    "duration": 116,
    "start_time": "2022-07-10T14:04:52.252Z"
   },
   {
    "duration": 120,
    "start_time": "2022-07-10T14:04:52.369Z"
   },
   {
    "duration": 23,
    "start_time": "2022-07-10T14:04:52.491Z"
   },
   {
    "duration": 4,
    "start_time": "2022-07-10T14:04:52.516Z"
   },
   {
    "duration": 20,
    "start_time": "2022-07-10T14:04:52.541Z"
   },
   {
    "duration": 11,
    "start_time": "2022-07-10T14:04:52.562Z"
   },
   {
    "duration": 10,
    "start_time": "2022-07-10T14:04:52.575Z"
   },
   {
    "duration": 13,
    "start_time": "2022-07-10T14:04:52.587Z"
   },
   {
    "duration": 44,
    "start_time": "2022-07-10T14:04:52.601Z"
   },
   {
    "duration": 109,
    "start_time": "2022-07-10T14:04:52.646Z"
   },
   {
    "duration": 122,
    "start_time": "2022-07-10T14:04:52.757Z"
   },
   {
    "duration": 125,
    "start_time": "2022-07-10T14:04:52.880Z"
   },
   {
    "duration": 107,
    "start_time": "2022-07-10T14:04:53.006Z"
   },
   {
    "duration": 4,
    "start_time": "2022-07-10T14:04:53.114Z"
   },
   {
    "duration": 38,
    "start_time": "2022-07-10T14:04:53.120Z"
   },
   {
    "duration": 324,
    "start_time": "2022-07-10T14:04:53.159Z"
   },
   {
    "duration": 9,
    "start_time": "2022-07-10T14:04:53.485Z"
   },
   {
    "duration": 228,
    "start_time": "2022-07-10T14:04:53.496Z"
   },
   {
    "duration": 37,
    "start_time": "2022-07-10T14:04:53.726Z"
   },
   {
    "duration": 11,
    "start_time": "2022-07-10T14:04:53.765Z"
   },
   {
    "duration": 9,
    "start_time": "2022-07-10T14:04:53.778Z"
   },
   {
    "duration": 14,
    "start_time": "2022-07-10T14:04:53.789Z"
   },
   {
    "duration": 55,
    "start_time": "2022-07-10T14:04:53.805Z"
   },
   {
    "duration": 12,
    "start_time": "2022-07-10T14:04:53.862Z"
   },
   {
    "duration": 360,
    "start_time": "2022-07-10T14:04:53.875Z"
   },
   {
    "duration": 6,
    "start_time": "2022-07-10T14:04:54.243Z"
   },
   {
    "duration": 12,
    "start_time": "2022-07-10T14:04:54.250Z"
   },
   {
    "duration": 437,
    "start_time": "2022-07-10T14:04:54.263Z"
   },
   {
    "duration": 11,
    "start_time": "2022-07-10T14:04:54.701Z"
   },
   {
    "duration": 1336,
    "start_time": "2022-07-10T14:04:54.713Z"
   },
   {
    "duration": 5,
    "start_time": "2022-07-10T14:04:56.051Z"
   },
   {
    "duration": 10,
    "start_time": "2022-07-10T14:04:56.057Z"
   },
   {
    "duration": 258,
    "start_time": "2022-07-10T14:04:56.068Z"
   },
   {
    "duration": 24,
    "start_time": "2022-07-10T14:04:56.328Z"
   },
   {
    "duration": 250,
    "start_time": "2022-07-10T14:04:56.354Z"
   },
   {
    "duration": 501,
    "start_time": "2022-07-10T14:04:56.605Z"
   },
   {
    "duration": 845,
    "start_time": "2022-07-10T14:04:57.107Z"
   },
   {
    "duration": 8,
    "start_time": "2022-07-10T14:04:57.954Z"
   },
   {
    "duration": 15,
    "start_time": "2022-07-10T14:04:57.963Z"
   },
   {
    "duration": 21,
    "start_time": "2022-07-10T14:04:57.979Z"
   },
   {
    "duration": 13,
    "start_time": "2022-07-10T14:04:58.002Z"
   },
   {
    "duration": 26,
    "start_time": "2022-07-10T14:04:58.016Z"
   },
   {
    "duration": 21,
    "start_time": "2022-07-10T14:04:58.043Z"
   },
   {
    "duration": 22,
    "start_time": "2022-07-10T14:04:58.066Z"
   },
   {
    "duration": 6,
    "start_time": "2022-07-10T14:04:58.089Z"
   },
   {
    "duration": 32,
    "start_time": "2022-07-10T14:04:58.097Z"
   },
   {
    "duration": 12,
    "start_time": "2022-07-10T14:09:17.021Z"
   },
   {
    "duration": 6,
    "start_time": "2022-07-10T14:09:52.459Z"
   },
   {
    "duration": 18,
    "start_time": "2022-07-10T14:13:35.851Z"
   },
   {
    "duration": 14,
    "start_time": "2022-07-10T14:21:07.172Z"
   },
   {
    "duration": 7,
    "start_time": "2022-07-10T14:21:19.713Z"
   },
   {
    "duration": 18,
    "start_time": "2022-07-10T14:21:44.915Z"
   },
   {
    "duration": 10,
    "start_time": "2022-07-10T14:21:53.270Z"
   },
   {
    "duration": 11,
    "start_time": "2022-07-10T14:22:31.419Z"
   },
   {
    "duration": 9,
    "start_time": "2022-07-10T14:23:09.986Z"
   },
   {
    "duration": 10,
    "start_time": "2022-07-10T14:23:22.472Z"
   },
   {
    "duration": 9,
    "start_time": "2022-07-10T14:23:26.028Z"
   },
   {
    "duration": 6,
    "start_time": "2022-07-10T14:24:04.071Z"
   },
   {
    "duration": 7,
    "start_time": "2022-07-10T14:24:15.971Z"
   },
   {
    "duration": 9,
    "start_time": "2022-07-10T14:24:31.742Z"
   },
   {
    "duration": 118,
    "start_time": "2022-07-10T14:25:48.373Z"
   },
   {
    "duration": 112,
    "start_time": "2022-07-10T14:26:04.173Z"
   },
   {
    "duration": 120,
    "start_time": "2022-07-10T14:27:21.887Z"
   },
   {
    "duration": 140,
    "start_time": "2022-07-10T14:27:26.669Z"
   },
   {
    "duration": 11,
    "start_time": "2022-07-10T14:30:18.969Z"
   },
   {
    "duration": 7,
    "start_time": "2022-07-10T14:31:02.733Z"
   },
   {
    "duration": 10,
    "start_time": "2022-07-10T14:31:12.477Z"
   },
   {
    "duration": 6,
    "start_time": "2022-07-10T14:31:27.612Z"
   },
   {
    "duration": 9,
    "start_time": "2022-07-10T14:31:31.269Z"
   },
   {
    "duration": 9,
    "start_time": "2022-07-10T14:31:39.676Z"
   },
   {
    "duration": 9,
    "start_time": "2022-07-10T14:31:43.314Z"
   },
   {
    "duration": 111,
    "start_time": "2022-07-10T14:32:27.895Z"
   },
   {
    "duration": 10,
    "start_time": "2022-07-10T14:33:13.991Z"
   },
   {
    "duration": 9,
    "start_time": "2022-07-10T14:33:15.988Z"
   },
   {
    "duration": 6,
    "start_time": "2022-07-10T14:33:18.571Z"
   },
   {
    "duration": 6,
    "start_time": "2022-07-10T14:33:19.110Z"
   },
   {
    "duration": 222,
    "start_time": "2022-07-10T14:33:22.521Z"
   },
   {
    "duration": 135,
    "start_time": "2022-07-10T14:33:31.522Z"
   },
   {
    "duration": 18,
    "start_time": "2022-07-10T14:58:36.789Z"
   },
   {
    "duration": 15,
    "start_time": "2022-07-10T14:58:49.871Z"
   },
   {
    "duration": 6,
    "start_time": "2022-07-10T14:58:55.745Z"
   },
   {
    "duration": 10,
    "start_time": "2022-07-10T14:59:00.481Z"
   },
   {
    "duration": 5,
    "start_time": "2022-07-10T14:59:04.747Z"
   },
   {
    "duration": 8,
    "start_time": "2022-07-10T14:59:09.777Z"
   },
   {
    "duration": 17,
    "start_time": "2022-07-10T14:59:25.436Z"
   },
   {
    "duration": 18,
    "start_time": "2022-07-10T14:59:36.389Z"
   },
   {
    "duration": 16,
    "start_time": "2022-07-10T15:00:09.800Z"
   },
   {
    "duration": 245,
    "start_time": "2022-07-10T15:00:59.269Z"
   },
   {
    "duration": 223,
    "start_time": "2022-07-10T15:01:26.878Z"
   },
   {
    "duration": 9,
    "start_time": "2022-07-10T15:02:15.223Z"
   },
   {
    "duration": 9,
    "start_time": "2022-07-10T15:02:19.504Z"
   },
   {
    "duration": 256,
    "start_time": "2022-07-10T15:04:32.575Z"
   },
   {
    "duration": 257,
    "start_time": "2022-07-10T15:04:39.857Z"
   },
   {
    "duration": 364,
    "start_time": "2022-07-10T15:04:51.141Z"
   },
   {
    "duration": 294,
    "start_time": "2022-07-10T15:04:57.021Z"
   },
   {
    "duration": 264,
    "start_time": "2022-07-10T15:05:00.382Z"
   },
   {
    "duration": 261,
    "start_time": "2022-07-10T15:05:38.255Z"
   },
   {
    "duration": 343,
    "start_time": "2022-07-10T15:05:44.486Z"
   },
   {
    "duration": 317,
    "start_time": "2022-07-10T15:05:55.702Z"
   },
   {
    "duration": 364,
    "start_time": "2022-07-10T15:06:01.733Z"
   },
   {
    "duration": 305,
    "start_time": "2022-07-10T15:06:36.238Z"
   },
   {
    "duration": 309,
    "start_time": "2022-07-10T15:06:42.046Z"
   },
   {
    "duration": 259,
    "start_time": "2022-07-10T15:06:56.673Z"
   },
   {
    "duration": 7,
    "start_time": "2022-07-10T15:08:15.266Z"
   },
   {
    "duration": 10,
    "start_time": "2022-07-10T15:10:49.711Z"
   },
   {
    "duration": 8,
    "start_time": "2022-07-10T15:10:53.260Z"
   },
   {
    "duration": 10,
    "start_time": "2022-07-10T15:10:59.891Z"
   },
   {
    "duration": 9,
    "start_time": "2022-07-10T15:11:07.780Z"
   },
   {
    "duration": 9,
    "start_time": "2022-07-10T15:11:12.093Z"
   },
   {
    "duration": 9,
    "start_time": "2022-07-10T15:11:15.631Z"
   },
   {
    "duration": 8,
    "start_time": "2022-07-10T15:11:18.134Z"
   },
   {
    "duration": 11,
    "start_time": "2022-07-10T15:12:41.514Z"
   },
   {
    "duration": 5,
    "start_time": "2022-07-10T15:14:22.150Z"
   },
   {
    "duration": 10,
    "start_time": "2022-07-10T15:14:50.483Z"
   },
   {
    "duration": 10,
    "start_time": "2022-07-10T15:17:49.130Z"
   },
   {
    "duration": 10,
    "start_time": "2022-07-10T15:18:25.792Z"
   },
   {
    "duration": 10,
    "start_time": "2022-07-10T15:18:59.082Z"
   },
   {
    "duration": 8,
    "start_time": "2022-07-10T15:19:13.602Z"
   },
   {
    "duration": 10,
    "start_time": "2022-07-10T15:24:10.797Z"
   },
   {
    "duration": 11,
    "start_time": "2022-07-10T15:24:13.846Z"
   },
   {
    "duration": 4,
    "start_time": "2022-07-10T15:25:21.441Z"
   },
   {
    "duration": 4,
    "start_time": "2022-07-10T15:25:25.589Z"
   },
   {
    "duration": 4,
    "start_time": "2022-07-10T15:25:28.299Z"
   },
   {
    "duration": 135,
    "start_time": "2022-07-10T15:26:12.834Z"
   },
   {
    "duration": 4,
    "start_time": "2022-07-10T15:27:44.948Z"
   },
   {
    "duration": 45,
    "start_time": "2022-07-10T15:27:53.058Z"
   },
   {
    "duration": 4,
    "start_time": "2022-07-10T15:27:55.597Z"
   },
   {
    "duration": 5,
    "start_time": "2022-07-10T15:28:15.871Z"
   },
   {
    "duration": 17,
    "start_time": "2022-07-10T15:31:17.260Z"
   },
   {
    "duration": 20,
    "start_time": "2022-07-10T15:31:28.982Z"
   },
   {
    "duration": 308,
    "start_time": "2022-07-10T15:33:07.388Z"
   },
   {
    "duration": 1027,
    "start_time": "2022-07-10T15:34:00.471Z"
   },
   {
    "duration": 16,
    "start_time": "2022-07-10T15:34:19.697Z"
   },
   {
    "duration": 7780,
    "start_time": "2022-07-10T15:34:31.913Z"
   },
   {
    "duration": 12,
    "start_time": "2022-07-10T15:34:42.500Z"
   },
   {
    "duration": 5,
    "start_time": "2022-07-10T15:35:08.223Z"
   },
   {
    "duration": 5,
    "start_time": "2022-07-10T15:35:13.737Z"
   },
   {
    "duration": 8,
    "start_time": "2022-07-10T15:35:22.100Z"
   },
   {
    "duration": 4,
    "start_time": "2022-07-10T15:35:25.095Z"
   },
   {
    "duration": 12,
    "start_time": "2022-07-10T15:35:32.973Z"
   },
   {
    "duration": 11,
    "start_time": "2022-07-10T15:35:53.398Z"
   },
   {
    "duration": 865,
    "start_time": "2022-07-10T15:36:25.634Z"
   },
   {
    "duration": 13,
    "start_time": "2022-07-10T15:36:38.534Z"
   },
   {
    "duration": 6,
    "start_time": "2022-07-10T15:36:49.707Z"
   },
   {
    "duration": 6,
    "start_time": "2022-07-10T15:36:56.536Z"
   },
   {
    "duration": 16,
    "start_time": "2022-07-10T15:37:15.157Z"
   },
   {
    "duration": 10,
    "start_time": "2022-07-10T15:38:58.034Z"
   },
   {
    "duration": 4,
    "start_time": "2022-07-10T15:40:03.434Z"
   },
   {
    "duration": 4,
    "start_time": "2022-07-10T15:40:06.736Z"
   },
   {
    "duration": 5,
    "start_time": "2022-07-10T15:41:36.464Z"
   },
   {
    "duration": 4,
    "start_time": "2022-07-10T15:42:56.803Z"
   },
   {
    "duration": 17,
    "start_time": "2022-07-10T15:53:19.384Z"
   },
   {
    "duration": 11,
    "start_time": "2022-07-10T16:11:42.531Z"
   },
   {
    "duration": 1108,
    "start_time": "2022-07-10T16:11:42.544Z"
   },
   {
    "duration": 217,
    "start_time": "2022-07-10T16:11:43.653Z"
   },
   {
    "duration": 354,
    "start_time": "2022-07-10T16:11:43.872Z"
   },
   {
    "duration": 12,
    "start_time": "2022-07-10T16:11:44.228Z"
   },
   {
    "duration": 8,
    "start_time": "2022-07-10T16:11:44.241Z"
   },
   {
    "duration": 12,
    "start_time": "2022-07-10T16:11:44.251Z"
   },
   {
    "duration": 11,
    "start_time": "2022-07-10T16:11:44.265Z"
   },
   {
    "duration": 9,
    "start_time": "2022-07-10T16:11:44.279Z"
   },
   {
    "duration": 10,
    "start_time": "2022-07-10T16:11:44.290Z"
   },
   {
    "duration": 44,
    "start_time": "2022-07-10T16:11:44.302Z"
   },
   {
    "duration": 21,
    "start_time": "2022-07-10T16:11:44.348Z"
   },
   {
    "duration": 12,
    "start_time": "2022-07-10T16:11:44.371Z"
   },
   {
    "duration": 20,
    "start_time": "2022-07-10T16:11:44.384Z"
   },
   {
    "duration": 45,
    "start_time": "2022-07-10T16:11:44.406Z"
   },
   {
    "duration": 19,
    "start_time": "2022-07-10T16:11:44.453Z"
   },
   {
    "duration": 26,
    "start_time": "2022-07-10T16:11:44.474Z"
   },
   {
    "duration": 8,
    "start_time": "2022-07-10T16:11:44.502Z"
   },
   {
    "duration": 41,
    "start_time": "2022-07-10T16:11:44.513Z"
   },
   {
    "duration": 233,
    "start_time": "2022-07-10T16:11:44.556Z"
   },
   {
    "duration": 20,
    "start_time": "2022-07-10T16:11:44.790Z"
   },
   {
    "duration": 7,
    "start_time": "2022-07-10T16:11:44.812Z"
   },
   {
    "duration": 42,
    "start_time": "2022-07-10T16:11:44.820Z"
   },
   {
    "duration": 5,
    "start_time": "2022-07-10T16:11:44.866Z"
   },
   {
    "duration": 9,
    "start_time": "2022-07-10T16:11:44.873Z"
   },
   {
    "duration": 9,
    "start_time": "2022-07-10T16:11:44.883Z"
   },
   {
    "duration": 7,
    "start_time": "2022-07-10T16:11:44.893Z"
   },
   {
    "duration": 28,
    "start_time": "2022-07-10T16:11:44.901Z"
   },
   {
    "duration": 24,
    "start_time": "2022-07-10T16:11:44.930Z"
   },
   {
    "duration": 11,
    "start_time": "2022-07-10T16:11:44.955Z"
   },
   {
    "duration": 6,
    "start_time": "2022-07-10T16:11:44.967Z"
   },
   {
    "duration": 20,
    "start_time": "2022-07-10T16:11:44.974Z"
   },
   {
    "duration": 124,
    "start_time": "2022-07-10T16:11:44.996Z"
   },
   {
    "duration": 120,
    "start_time": "2022-07-10T16:11:45.121Z"
   },
   {
    "duration": 23,
    "start_time": "2022-07-10T16:11:45.243Z"
   },
   {
    "duration": 5,
    "start_time": "2022-07-10T16:11:45.267Z"
   },
   {
    "duration": 22,
    "start_time": "2022-07-10T16:11:45.274Z"
   },
   {
    "duration": 11,
    "start_time": "2022-07-10T16:11:45.297Z"
   },
   {
    "duration": 37,
    "start_time": "2022-07-10T16:11:45.309Z"
   },
   {
    "duration": 11,
    "start_time": "2022-07-10T16:11:45.348Z"
   },
   {
    "duration": 17,
    "start_time": "2022-07-10T16:11:45.360Z"
   },
   {
    "duration": 115,
    "start_time": "2022-07-10T16:11:45.379Z"
   },
   {
    "duration": 108,
    "start_time": "2022-07-10T16:11:45.496Z"
   },
   {
    "duration": 119,
    "start_time": "2022-07-10T16:11:45.606Z"
   },
   {
    "duration": 103,
    "start_time": "2022-07-10T16:11:45.726Z"
   },
   {
    "duration": 4,
    "start_time": "2022-07-10T16:11:45.830Z"
   },
   {
    "duration": 14,
    "start_time": "2022-07-10T16:11:45.842Z"
   },
   {
    "duration": 320,
    "start_time": "2022-07-10T16:11:45.857Z"
   },
   {
    "duration": 12,
    "start_time": "2022-07-10T16:11:46.178Z"
   },
   {
    "duration": 257,
    "start_time": "2022-07-10T16:11:46.191Z"
   },
   {
    "duration": 32,
    "start_time": "2022-07-10T16:11:46.450Z"
   },
   {
    "duration": 10,
    "start_time": "2022-07-10T16:11:46.484Z"
   },
   {
    "duration": 12,
    "start_time": "2022-07-10T16:11:46.496Z"
   },
   {
    "duration": 38,
    "start_time": "2022-07-10T16:11:46.510Z"
   },
   {
    "duration": 21,
    "start_time": "2022-07-10T16:11:46.549Z"
   },
   {
    "duration": 11,
    "start_time": "2022-07-10T16:11:46.571Z"
   },
   {
    "duration": 356,
    "start_time": "2022-07-10T16:11:46.583Z"
   },
   {
    "duration": 6,
    "start_time": "2022-07-10T16:11:46.942Z"
   },
   {
    "duration": 11,
    "start_time": "2022-07-10T16:11:46.950Z"
   },
   {
    "duration": 282,
    "start_time": "2022-07-10T16:11:46.962Z"
   },
   {
    "duration": 10,
    "start_time": "2022-07-10T16:11:47.246Z"
   },
   {
    "duration": 1350,
    "start_time": "2022-07-10T16:11:47.258Z"
   },
   {
    "duration": 6,
    "start_time": "2022-07-10T16:11:48.609Z"
   },
   {
    "duration": 11,
    "start_time": "2022-07-10T16:11:48.616Z"
   },
   {
    "duration": 275,
    "start_time": "2022-07-10T16:11:48.642Z"
   },
   {
    "duration": 25,
    "start_time": "2022-07-10T16:11:48.919Z"
   },
   {
    "duration": 246,
    "start_time": "2022-07-10T16:11:48.946Z"
   },
   {
    "duration": 497,
    "start_time": "2022-07-10T16:11:49.193Z"
   },
   {
    "duration": 907,
    "start_time": "2022-07-10T16:11:49.694Z"
   },
   {
    "duration": 8,
    "start_time": "2022-07-10T16:11:50.603Z"
   },
   {
    "duration": 9,
    "start_time": "2022-07-10T16:11:50.613Z"
   },
   {
    "duration": 25,
    "start_time": "2022-07-10T16:11:50.624Z"
   },
   {
    "duration": 9,
    "start_time": "2022-07-10T16:11:50.650Z"
   },
   {
    "duration": 13,
    "start_time": "2022-07-10T16:11:50.661Z"
   },
   {
    "duration": 16,
    "start_time": "2022-07-10T16:11:50.675Z"
   },
   {
    "duration": 18,
    "start_time": "2022-07-10T16:11:50.693Z"
   },
   {
    "duration": 5,
    "start_time": "2022-07-10T16:11:50.741Z"
   },
   {
    "duration": 296,
    "start_time": "2022-07-10T16:11:50.748Z"
   },
   {
    "duration": 9,
    "start_time": "2022-07-10T16:11:51.045Z"
   },
   {
    "duration": 11,
    "start_time": "2022-07-10T16:11:51.056Z"
   },
   {
    "duration": 3,
    "start_time": "2022-07-10T16:11:51.069Z"
   },
   {
    "duration": 304,
    "start_time": "2022-07-10T16:11:51.073Z"
   },
   {
    "duration": 12,
    "start_time": "2022-07-10T16:11:51.379Z"
   },
   {
    "duration": 12,
    "start_time": "2022-07-10T16:11:51.393Z"
   },
   {
    "duration": 4,
    "start_time": "2022-07-10T16:11:51.406Z"
   }
  ],
  "kernelspec": {
   "display_name": "Python 3 (ipykernel)",
   "language": "python",
   "name": "python3"
  },
  "language_info": {
   "codemirror_mode": {
    "name": "ipython",
    "version": 3
   },
   "file_extension": ".py",
   "mimetype": "text/x-python",
   "name": "python",
   "nbconvert_exporter": "python",
   "pygments_lexer": "ipython3",
   "version": "3.9.13"
  },
  "nbTranslate": {
   "displayLangs": [
    "en",
    "ru"
   ],
   "hotkey": "alt-t",
   "langInMainMenu": true,
   "sourceLang": "ru",
   "targetLang": "en",
   "useGoogleTranslate": true
  },
  "toc": {
   "base_numbering": 1,
   "nav_menu": {},
   "number_sections": true,
   "sideBar": true,
   "skip_h1_title": true,
   "title_cell": "Table of Contents",
   "title_sidebar": "Contents",
   "toc_cell": false,
   "toc_position": {},
   "toc_section_display": true,
   "toc_window_display": false
  },
  "varInspector": {
   "cols": {
    "lenName": 16,
    "lenType": 16,
    "lenVar": 40
   },
   "kernels_config": {
    "python": {
     "delete_cmd_postfix": "",
     "delete_cmd_prefix": "del ",
     "library": "var_list.py",
     "varRefreshCmd": "print(var_dic_list())"
    },
    "r": {
     "delete_cmd_postfix": ") ",
     "delete_cmd_prefix": "rm(",
     "library": "var_list.r",
     "varRefreshCmd": "cat(var_dic_list()) "
    }
   },
   "types_to_exclude": [
    "module",
    "function",
    "builtin_function_or_method",
    "instance",
    "_Feature"
   ],
   "window_display": false
  }
 },
 "nbformat": 4,
 "nbformat_minor": 2
}
